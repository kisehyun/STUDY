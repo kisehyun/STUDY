{
 "cells": [
  {
   "cell_type": "markdown",
   "id": "f92f9ede",
   "metadata": {},
   "source": [
    "# 밑바닥부터 시작하는 딥러닝1\n",
    "\n",
    "***\n",
    "## 신경망 학습\n",
    "\n",
    "- 딥러닝은 end-to-end machine learning\n",
    "- 모든 문제를 주어진 데이터 그대로 input으로 활용한다.\n",
    "- 손실함수(loss function)를 활용해서 최적의 매개변수 값을 탐색한다.\n",
    "- 일반적으로 오차제곱합과 교차 엔트로피 오차를 사용한다.\n",
    "***\n",
    "\n",
    "### 오차제곱합\n",
    "\n",
    "<center>$E = {1 \\over2}\\sum_{k}(y_{k} - t_{k}) ^ 2$\n",
    "    \n",
    "   "
   ]
  },
  {
   "cell_type": "code",
   "execution_count": 4,
   "id": "0e1ae619",
   "metadata": {},
   "outputs": [],
   "source": [
    "import numpy as np"
   ]
  },
  {
   "cell_type": "code",
   "execution_count": 5,
   "id": "84add82f",
   "metadata": {},
   "outputs": [],
   "source": [
    "def sum_squared_error(y_pred, y_true) :\n",
    "    \n",
    "    return 0.5 * np.sum((y_pred - y_true) ** 2)"
   ]
  },
  {
   "cell_type": "code",
   "execution_count": 6,
   "id": "5f7a7f6b",
   "metadata": {},
   "outputs": [],
   "source": [
    "y_true = np.array([0, 0, 1, 0, 0, 0, 0, 0, 0, 0])"
   ]
  },
  {
   "cell_type": "code",
   "execution_count": 7,
   "id": "0006bb38",
   "metadata": {},
   "outputs": [],
   "source": [
    "y_pred = np.array([0.1, 0.05, 0.6, 0.0, 0.05, 0.1, 0.0, 0.1, 0.0, 0.0])"
   ]
  },
  {
   "cell_type": "code",
   "execution_count": 8,
   "id": "bbc3e3c2",
   "metadata": {},
   "outputs": [
    {
     "data": {
      "text/plain": [
       "0.09750000000000003"
      ]
     },
     "execution_count": 8,
     "metadata": {},
     "output_type": "execute_result"
    }
   ],
   "source": [
    "sum_squared_error(y_pred, y_true)"
   ]
  },
  {
   "cell_type": "markdown",
   "id": "adf00542",
   "metadata": {},
   "source": [
    "***\n",
    "### 교차 엔트로피 오차(cross entropy error, CEE)\n",
    "<br>\n",
    "<center>$E = -\\sum_{k}t_{k}logy_{k}$<center>\n",
    "    \n",
    "\n",
    "\n",
    "사실상 target이 1일 때의 자연로그만 계산된다."
   ]
  },
  {
   "cell_type": "code",
   "execution_count": 1,
   "id": "df2fae71",
   "metadata": {},
   "outputs": [],
   "source": [
    "def cross_entropy_error(y_pred, y_true) :\n",
    "    \n",
    "    eps = 1e-5\n",
    "    \n",
    "    return -np.sum(y_true * np.log(y_pred + eps))"
   ]
  },
  {
   "cell_type": "code",
   "execution_count": 9,
   "id": "583fe5bf",
   "metadata": {},
   "outputs": [
    {
     "data": {
      "text/plain": [
       "0.5108089572382115"
      ]
     },
     "execution_count": 9,
     "metadata": {},
     "output_type": "execute_result"
    }
   ],
   "source": [
    "cross_entropy_error(y_pred, y_true)"
   ]
  },
  {
   "cell_type": "markdown",
   "id": "8cd8a5ff",
   "metadata": {},
   "source": [
    "정답이 2(인덱스 기준)였고 예측 확률도 0.6으로 가장 높았기 때문에 오차가 0.51로 나타났다."
   ]
  },
  {
   "cell_type": "code",
   "execution_count": 10,
   "id": "0610474d",
   "metadata": {},
   "outputs": [],
   "source": [
    "y_pred = np.array([0.1, 0.05, 0.1, 0.0, 0.05, 0.1, 0.0, 0.6, 0.0, 0.0])"
   ]
  },
  {
   "cell_type": "code",
   "execution_count": 11,
   "id": "73bcf542",
   "metadata": {},
   "outputs": [
    {
     "data": {
      "text/plain": [
       "2.302485097993712"
      ]
     },
     "execution_count": 11,
     "metadata": {},
     "output_type": "execute_result"
    }
   ],
   "source": [
    "cross_entropy_error(y_pred, y_true)"
   ]
  },
  {
   "cell_type": "markdown",
   "id": "c3ef2bfb",
   "metadata": {},
   "source": [
    "반면 정답 확률을 0.1로 예측하고 0.6의 확률로 예측한 클래스가 0이기 때문에 오차는 2.30으로 더 크게 나타났다.\n",
    "\n",
    "***\n",
    "### 미니배치 학습\n",
    "\n",
    "개별 데이터에 대한 손실함수를 계산했지만 데이터의 양이 많아질수록 개별적으로 계산하는 것에 한계가 있다.\n",
    "\n",
    "학습 데이터 중 일부만을 사용하여 근사치로 활용하는 **미니 배치**로 이러한 문제를 해결 할 수 있다."
   ]
  },
  {
   "cell_type": "code",
   "execution_count": 24,
   "id": "6657b2eb",
   "metadata": {},
   "outputs": [],
   "source": [
    "from sklearn.datasets import load_digits\n",
    "from sklearn.model_selection import train_test_split"
   ]
  },
  {
   "cell_type": "code",
   "execution_count": 14,
   "id": "bb730aa1",
   "metadata": {},
   "outputs": [],
   "source": [
    "data = load_digits()"
   ]
  },
  {
   "cell_type": "code",
   "execution_count": 16,
   "id": "22176c9c",
   "metadata": {},
   "outputs": [],
   "source": [
    "X = data.data"
   ]
  },
  {
   "cell_type": "code",
   "execution_count": 17,
   "id": "feee5454",
   "metadata": {},
   "outputs": [
    {
     "data": {
      "text/plain": [
       "(1797, 64)"
      ]
     },
     "execution_count": 17,
     "metadata": {},
     "output_type": "execute_result"
    }
   ],
   "source": [
    "X.shape"
   ]
  },
  {
   "cell_type": "code",
   "execution_count": 18,
   "id": "a27d1e1d",
   "metadata": {},
   "outputs": [],
   "source": [
    "y = data.target"
   ]
  },
  {
   "cell_type": "code",
   "execution_count": 22,
   "id": "ac7c6b26",
   "metadata": {},
   "outputs": [],
   "source": [
    "X = (X - X.mean()) / X.std()"
   ]
  },
  {
   "cell_type": "code",
   "execution_count": 25,
   "id": "dd9e76d5",
   "metadata": {},
   "outputs": [],
   "source": [
    "tr_size = X.shape[0]"
   ]
  },
  {
   "cell_type": "code",
   "execution_count": 26,
   "id": "8920d936",
   "metadata": {},
   "outputs": [],
   "source": [
    "batch_size = 10"
   ]
  },
  {
   "cell_type": "code",
   "execution_count": 27,
   "id": "3064e458",
   "metadata": {},
   "outputs": [],
   "source": [
    "batch_mask = np.random.choice(tr_size, batch_size)"
   ]
  },
  {
   "cell_type": "code",
   "execution_count": 28,
   "id": "25f8c223",
   "metadata": {},
   "outputs": [],
   "source": [
    "X_batch = X[batch_mask]"
   ]
  },
  {
   "cell_type": "code",
   "execution_count": 29,
   "id": "59e559ab",
   "metadata": {},
   "outputs": [],
   "source": [
    "y_batch = y[batch_mask]"
   ]
  },
  {
   "cell_type": "code",
   "execution_count": 31,
   "id": "1c8e4307",
   "metadata": {},
   "outputs": [
    {
     "data": {
      "text/plain": [
       "(10, 64)"
      ]
     },
     "execution_count": 31,
     "metadata": {},
     "output_type": "execute_result"
    }
   ],
   "source": [
    "X_batch.shape"
   ]
  },
  {
   "cell_type": "code",
   "execution_count": 32,
   "id": "56124585",
   "metadata": {},
   "outputs": [
    {
     "data": {
      "text/plain": [
       "array([3, 9, 4, 3, 7, 5, 2, 1, 8, 0])"
      ]
     },
     "execution_count": 32,
     "metadata": {},
     "output_type": "execute_result"
    }
   ],
   "source": [
    "y_batch"
   ]
  },
  {
   "cell_type": "code",
   "execution_count": 38,
   "id": "05fd9614",
   "metadata": {},
   "outputs": [],
   "source": [
    "def cross_entropy_error(y_pred, y_true) :\n",
    "    \n",
    "    if y_pred.ndim == 1 :\n",
    "        y_true = y_true.reshape(1, y_true.size)\n",
    "        y_pred = y_true.reshape(1, y_pred.size)\n",
    "        \n",
    "    batch_size = y_pred.shape[0]\n",
    "    \n",
    "    return - np.sum(np.log(y_pred[np.arange(batch_size), y_true] + 1e-5)) / batch_size"
   ]
  },
  {
   "cell_type": "code",
   "execution_count": 40,
   "id": "2f61d62a",
   "metadata": {},
   "outputs": [
    {
     "data": {
      "text/plain": [
       "array([0.1 , 0.05, 0.1 , 0.  , 0.05, 0.1 , 0.  , 0.6 , 0.  , 0.  ])"
      ]
     },
     "execution_count": 40,
     "metadata": {},
     "output_type": "execute_result"
    }
   ],
   "source": [
    "y_pred"
   ]
  },
  {
   "cell_type": "code",
   "execution_count": 41,
   "id": "c7cd64bf",
   "metadata": {},
   "outputs": [
    {
     "data": {
      "text/plain": [
       "array([0, 0, 1, 0, 0, 0, 0, 0, 0, 0])"
      ]
     },
     "execution_count": 41,
     "metadata": {},
     "output_type": "execute_result"
    }
   ],
   "source": [
    "y_true"
   ]
  },
  {
   "cell_type": "code",
   "execution_count": 43,
   "id": "c115d77e",
   "metadata": {},
   "outputs": [
    {
     "data": {
      "text/plain": [
       "115.12925464970228"
      ]
     },
     "execution_count": 43,
     "metadata": {},
     "output_type": "execute_result"
    }
   ],
   "source": [
    "cross_entropy_error(y_pred, y_true)"
   ]
  },
  {
   "cell_type": "markdown",
   "id": "2e23e4a7",
   "metadata": {},
   "source": [
    "#### 왜 손실 함수를 설정하는가?\n",
    "\n",
    "- 딥러닝의 핵심 중 하나는 \"미분\"으로 최적의 매개변수(가중치)를 찾기 위해서는 매개변수의 미분을 계산하고 이를 단서로 값을 갱신해 나간다.\n",
    "- 즉, 매개변수 값이 조금 변화할 때 손실 함수가 어떻게 변하나? 가 핵심인 셈이다.\n",
    "\n",
    "예를 들어 소규모 데이터에서 정확도를 지표로 삼고 신경망 학습을 진행 할 경우 정확도의 변화 자체는 미미하기 때문에 큰 변화가 없다.\n",
    "\n",
    "하지만 손실 함수의 경우 0.1238, 0.58993 등 연속적인 값을 갖게 되기 때문에 신경망 학습에 더 적합하다고 할 수 있다."
   ]
  }
 ],
 "metadata": {
  "kernelspec": {
   "display_name": "Python 3",
   "language": "python",
   "name": "python3"
  },
  "language_info": {
   "codemirror_mode": {
    "name": "ipython",
    "version": 3
   },
   "file_extension": ".py",
   "mimetype": "text/x-python",
   "name": "python",
   "nbconvert_exporter": "python",
   "pygments_lexer": "ipython3",
   "version": "3.8.8"
  }
 },
 "nbformat": 4,
 "nbformat_minor": 5
}
