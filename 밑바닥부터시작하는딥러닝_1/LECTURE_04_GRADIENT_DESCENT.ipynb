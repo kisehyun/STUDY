{
 "cells": [
  {
   "cell_type": "markdown",
   "id": "f8f985b8",
   "metadata": {},
   "source": [
    "# 밑바닥부터 시작하는 딥러닝1\n",
    "***\n",
    "\n",
    "- 미분은 $x$의 작은 변화가 함수 $f(x)$를 얼마나 변화시키느냐를 의미한다."
   ]
  },
  {
   "cell_type": "code",
   "execution_count": 3,
   "id": "ce51e480",
   "metadata": {},
   "outputs": [],
   "source": [
    "import matplotlib.pyplot as plt\n",
    "%matplotlib inline\n",
    "import numpy as np"
   ]
  },
  {
   "cell_type": "code",
   "execution_count": 4,
   "id": "29aacaf5",
   "metadata": {},
   "outputs": [],
   "source": [
    "def numerical_diff(f, x) :\n",
    "    \n",
    "    h = 1e-50\n",
    "    \n",
    "    return (f(x + h) - f(x)) / h"
   ]
  },
  {
   "cell_type": "markdown",
   "id": "fa290474",
   "metadata": {},
   "source": [
    "위의 경우 반올림 오차(너무 작은 수일 경우 0으로 반환)로 인해 문제가 발생한다.\n",
    "\n",
    "그리고 $f(x + h) - f(x)$의 근사로 구해진 접선이기 때문에 실제 접선과는 오차가 존재한다.\n",
    "\n",
    "이를 위해 $(x + h)$와 $(x - h)$의 함수 $f$의 차분을 계산하는 방법을 사용하는데 이를 **중심 차분** 혹은 **중앙 차분**이라고 한다."
   ]
  },
  {
   "cell_type": "code",
   "execution_count": 5,
   "id": "dc7d7ae9",
   "metadata": {},
   "outputs": [],
   "source": [
    "def numerical_diff(f, x) :\n",
    "    \n",
    "    h = 1e-4\n",
    "    \n",
    "    return (f(x + h) - f(x - h)) / (2 * h)"
   ]
  },
  {
   "cell_type": "code",
   "execution_count": 6,
   "id": "ca3c9a3a",
   "metadata": {},
   "outputs": [],
   "source": [
    "def function_1(x) :\n",
    "    return 0.01 * x ** 2 + 0.1 * x"
   ]
  },
  {
   "cell_type": "code",
   "execution_count": 7,
   "id": "ef76ccf8",
   "metadata": {},
   "outputs": [],
   "source": [
    "x = np.arange(0, 20, 0.1)"
   ]
  },
  {
   "cell_type": "code",
   "execution_count": 8,
   "id": "f2e0a13c",
   "metadata": {},
   "outputs": [],
   "source": [
    "y = function_1(x)"
   ]
  },
  {
   "cell_type": "code",
   "execution_count": 9,
   "id": "d8b3213c",
   "metadata": {},
   "outputs": [
    {
     "data": {
      "image/png": "[encoded data removed]",
      "text/plain": [
       "<Figure size 432x288 with 1 Axes>"
      ]
     },
     "metadata": {
      "needs_background": "light"
     },
     "output_type": "display_data"
    }
   ],
   "source": [
    "plt.plot(x, y)\n",
    "plt.xlabel(\"x\")\n",
    "plt.ylabel(\"f(x)\")\n",
    "plt.show()"
   ]
  },
  {
   "cell_type": "code",
   "execution_count": 10,
   "id": "7cf14577",
   "metadata": {
    "scrolled": true
   },
   "outputs": [
    {
     "data": {
      "text/plain": [
       "0.1999999999990898"
      ]
     },
     "execution_count": 10,
     "metadata": {},
     "output_type": "execute_result"
    }
   ],
   "source": [
    "numerical_diff(function_1, 5)"
   ]
  },
  {
   "cell_type": "code",
   "execution_count": 11,
   "id": "8c183ef0",
   "metadata": {},
   "outputs": [
    {
     "data": {
      "text/plain": [
       "0.2999999999986347"
      ]
     },
     "execution_count": 11,
     "metadata": {},
     "output_type": "execute_result"
    }
   ],
   "source": [
    "numerical_diff(function_1, 10)"
   ]
  },
  {
   "cell_type": "markdown",
   "id": "9585c220",
   "metadata": {},
   "source": [
    "위의 수식을 미분하면 $0.02x + 0.1$로 $x$가 각각 5와 10일 때 미분 값은 0.2와 0.3이다.\n",
    "\n",
    "바로 위의 결과와 비교할 때 오차가 매우 작음을 알 수 있다.\n",
    "\n",
    "***\n",
    "### 편미분\n",
    "- 편미분은 변수가 여러개인 함수에 대한 미분을 의미한다.\n",
    "- $f(x_{0}, x_{1}) = x_{0}^2 + x_{1}^2$"
   ]
  },
  {
   "cell_type": "code",
   "execution_count": 12,
   "id": "cc4df928",
   "metadata": {},
   "outputs": [],
   "source": [
    "def function_2(x) :\n",
    "    return x[0] ** 2 + x[1] ** 2"
   ]
  },
  {
   "cell_type": "code",
   "execution_count": 13,
   "id": "5657d65d",
   "metadata": {},
   "outputs": [],
   "source": [
    "def function_tmp1(x0) :\n",
    "    return x0 * x0 + 4.0 ** 2.0"
   ]
  },
  {
   "cell_type": "markdown",
   "id": "afb92178",
   "metadata": {},
   "source": [
    "- $x_{0} = 3, x_{1} = 4$"
   ]
  },
  {
   "cell_type": "code",
   "execution_count": 14,
   "id": "0c9b9bfa",
   "metadata": {
    "scrolled": true
   },
   "outputs": [
    {
     "data": {
      "text/plain": [
       "6.00000000000378"
      ]
     },
     "execution_count": 14,
     "metadata": {},
     "output_type": "execute_result"
    }
   ],
   "source": [
    "numerical_diff(function_tmp1, 3.0)"
   ]
  },
  {
   "cell_type": "code",
   "execution_count": 15,
   "id": "64812051",
   "metadata": {},
   "outputs": [],
   "source": [
    "def function_tmp2(x1) :\n",
    "    return 3.0 * 2.0 + x1 * x1"
   ]
  },
  {
   "cell_type": "code",
   "execution_count": 16,
   "id": "07619c12",
   "metadata": {
    "scrolled": true
   },
   "outputs": [
    {
     "data": {
      "text/plain": [
       "7.999999999999119"
      ]
     },
     "execution_count": 16,
     "metadata": {},
     "output_type": "execute_result"
    }
   ],
   "source": [
    "numerical_diff(function_tmp2, 4.0)"
   ]
  },
  {
   "cell_type": "markdown",
   "id": "e1e4e74a",
   "metadata": {},
   "source": [
    "편미분은 특정 장소의 기울기를 구한다. 단, 여러 변수 중 대상 변수 하나에 초점을 맞추고 다른 변수는 값을 고정한다.\n",
    "\n",
    "***\n",
    "### 기울기\n",
    "- 모든 변수의 편미분을 벡터로 정리한 것을 **기울기**라고 한다."
   ]
  },
  {
   "cell_type": "code",
   "execution_count": 17,
   "id": "d60b9028",
   "metadata": {},
   "outputs": [],
   "source": [
    "def numerical_gradient(f, x) :\n",
    "    \n",
    "    h = 1e-4\n",
    "    grad = np.zeros_like(x)\n",
    "    \n",
    "    for idx in range(x.size) :\n",
    "        tmp_val = x[idx]\n",
    "        x[idx] = tmp_val + h\n",
    "        fxh1 = f(x)\n",
    "        \n",
    "        x[idx] = tmp_val - h\n",
    "        fxh2 = f(x)\n",
    "        \n",
    "        grad[idx] = (fxh1 - fxh2) / (2 * h)\n",
    "        x[idx] = tmp_val\n",
    "        \n",
    "    return grad"
   ]
  },
  {
   "cell_type": "code",
   "execution_count": 18,
   "id": "37510fd1",
   "metadata": {},
   "outputs": [
    {
     "data": {
      "text/plain": [
       "array([6., 8.])"
      ]
     },
     "execution_count": 18,
     "metadata": {},
     "output_type": "execute_result"
    }
   ],
   "source": [
    "numerical_gradient(function_2, np.array([3.0, 4.0]))"
   ]
  },
  {
   "cell_type": "code",
   "execution_count": 19,
   "id": "9aba24b7",
   "metadata": {},
   "outputs": [
    {
     "data": {
      "text/plain": [
       "array([0., 4.])"
      ]
     },
     "execution_count": 19,
     "metadata": {},
     "output_type": "execute_result"
    }
   ],
   "source": [
    "numerical_gradient(function_2, np.array([0.0, 2.0]))"
   ]
  },
  {
   "cell_type": "code",
   "execution_count": 20,
   "id": "419c7009",
   "metadata": {},
   "outputs": [
    {
     "data": {
      "text/plain": [
       "array([6., 0.])"
      ]
     },
     "execution_count": 20,
     "metadata": {},
     "output_type": "execute_result"
    }
   ],
   "source": [
    "numerical_gradient(function_2, np.array([3.0, 0.0]))"
   ]
  },
  {
   "cell_type": "markdown",
   "id": "b45546c1",
   "metadata": {},
   "source": [
    "기울기가 가리키는 방향은 각 지점(x, y)에서 함수의 출력 값을 가장 크게 줄이는 방향이다.\n",
    "***\n",
    "#### 경사법(경사 하강법)\n",
    "\n",
    "기계학습 문제는 최적의 매개변수를 찾아야 하는데 매개변수 공간이 매우 커서 어디가 최솟값이 되는지 알 수 없다. 이 때, 기울기를 이용하여 함수의 최솟값을 찾으려는 것이 경사법이다.\n",
    "\n",
    "<center>$x_{0}$ = $x_{0} - \\eta *  \\frac {\\partial f} {\\partial x_{0}}$<center>\n",
    "<center>$x_{1}$ = $x_{1} - \\eta *  \\frac {\\partial f} {\\partial x_{1}}$<center>\n",
    "    \n",
    "**$\\eta$**는 **학습률**로 매개변수 값을 갱신하는 일종의 가중치(?)를 의미한다."
   ]
  },
  {
   "cell_type": "code",
   "execution_count": 21,
   "id": "bde415d5",
   "metadata": {},
   "outputs": [],
   "source": [
    "def gradient_descent(f, init_x, lr = 0.01, step_num = 100) :\n",
    "    \n",
    "    x = init_x\n",
    "    \n",
    "    for i in range(step_num) :\n",
    "        grad = numerical_gradient(f, x)\n",
    "        x -= lr * grad\n",
    "        \n",
    "    return x"
   ]
  },
  {
   "cell_type": "code",
   "execution_count": 25,
   "id": "c633ac1c",
   "metadata": {},
   "outputs": [],
   "source": [
    "init_x = np.array([-3.0, -4.0])"
   ]
  },
  {
   "cell_type": "code",
   "execution_count": 26,
   "id": "a5b83531",
   "metadata": {
    "scrolled": true
   },
   "outputs": [
    {
     "data": {
      "text/plain": [
       "array([-6.11110793e-10, -8.14814391e-10])"
      ]
     },
     "execution_count": 26,
     "metadata": {},
     "output_type": "execute_result"
    }
   ],
   "source": [
    "gradient_descent(function_2, init_x, lr = 0.1, step_num = 100)"
   ]
  },
  {
   "cell_type": "markdown",
   "id": "a365e68f",
   "metadata": {},
   "source": [
    "function_2가 원의 방정식이였기 때문에 (0, 0)이 최솟값이다."
   ]
  },
  {
   "cell_type": "code",
   "execution_count": 27,
   "id": "49644267",
   "metadata": {},
   "outputs": [
    {
     "data": {
      "text/plain": [
       "array([2.34235971e+12, 3.96091057e+12])"
      ]
     },
     "execution_count": 27,
     "metadata": {},
     "output_type": "execute_result"
    }
   ],
   "source": [
    "gradient_descent(function_2, init_x, lr = 10, step_num = 100)"
   ]
  },
  {
   "cell_type": "markdown",
   "id": "4de2eb4d",
   "metadata": {},
   "source": [
    "learning_rate가 크면 위와 같이 매우 큰 값으로 발산한다."
   ]
  },
  {
   "cell_type": "code",
   "execution_count": 28,
   "id": "854bb82d",
   "metadata": {},
   "outputs": [],
   "source": [
    "from common.functions import softmax, cross_entropy_error\n",
    "from common.gradient import numerical_gradient"
   ]
  },
  {
   "cell_type": "code",
   "execution_count": 29,
   "id": "537ab8d6",
   "metadata": {},
   "outputs": [],
   "source": [
    "class simpleNet :\n",
    "    \n",
    "    def __init__(self) :\n",
    "        self.W = np.random.randn(2, 3)\n",
    "        \n",
    "    def predict(self, x) :\n",
    "        return np.dot(x, self.W)\n",
    "    \n",
    "    def loss(self, x, t) :\n",
    "        z = self.predict(x)\n",
    "        y = softmax(z)\n",
    "        loss = cross_entropy_error(y, t)\n",
    "        \n",
    "        return loss"
   ]
  },
  {
   "cell_type": "code",
   "execution_count": 30,
   "id": "968f1938",
   "metadata": {},
   "outputs": [],
   "source": [
    "net = simpleNet()"
   ]
  },
  {
   "cell_type": "code",
   "execution_count": 31,
   "id": "bc03c6c7",
   "metadata": {},
   "outputs": [
    {
     "name": "stdout",
     "output_type": "stream",
     "text": [
      "[[ 0.83603533 -1.14743657 -0.06728812]\n",
      " [-0.80338134 -0.4837601   1.98677514]]\n"
     ]
    }
   ],
   "source": [
    "print(net.W)"
   ]
  },
  {
   "cell_type": "code",
   "execution_count": 32,
   "id": "e2b3d444",
   "metadata": {},
   "outputs": [],
   "source": [
    "x = np.array([0.6, 0.9])"
   ]
  },
  {
   "cell_type": "code",
   "execution_count": 33,
   "id": "25ebcab4",
   "metadata": {},
   "outputs": [],
   "source": [
    "p = net.predict(x)"
   ]
  },
  {
   "cell_type": "code",
   "execution_count": 34,
   "id": "a24d83a2",
   "metadata": {},
   "outputs": [
    {
     "data": {
      "text/plain": [
       "array([-0.22142201, -1.12384603,  1.74772475])"
      ]
     },
     "execution_count": 34,
     "metadata": {},
     "output_type": "execute_result"
    }
   ],
   "source": [
    "p"
   ]
  },
  {
   "cell_type": "code",
   "execution_count": 35,
   "id": "0b7ed1c4",
   "metadata": {},
   "outputs": [
    {
     "data": {
      "text/plain": [
       "2"
      ]
     },
     "execution_count": 35,
     "metadata": {},
     "output_type": "execute_result"
    }
   ],
   "source": [
    "np.argmax(p)"
   ]
  },
  {
   "cell_type": "code",
   "execution_count": 36,
   "id": "0088c809",
   "metadata": {},
   "outputs": [],
   "source": [
    "t = np.array([0, 0, 1])"
   ]
  },
  {
   "cell_type": "code",
   "execution_count": 38,
   "id": "4301885d",
   "metadata": {
    "scrolled": true
   },
   "outputs": [
    {
     "data": {
      "text/plain": [
       "0.17913802083775315"
      ]
     },
     "execution_count": 38,
     "metadata": {},
     "output_type": "execute_result"
    }
   ],
   "source": [
    "net.loss(x, t)"
   ]
  },
  {
   "cell_type": "markdown",
   "id": "a84490fd",
   "metadata": {},
   "source": [
    "손실함수 경사하강법"
   ]
  },
  {
   "cell_type": "code",
   "execution_count": 39,
   "id": "0b5177de",
   "metadata": {},
   "outputs": [],
   "source": [
    "def f(W) :\n",
    "    return net.loss(x, t)"
   ]
  },
  {
   "cell_type": "code",
   "execution_count": 40,
   "id": "0eb8238b",
   "metadata": {},
   "outputs": [],
   "source": [
    "dW = numerical_gradient(f, net.W)"
   ]
  },
  {
   "cell_type": "code",
   "execution_count": 42,
   "id": "e7d05723",
   "metadata": {
    "scrolled": true
   },
   "outputs": [
    {
     "data": {
      "text/plain": [
       "array([[ 0.07001047,  0.02839522, -0.0984057 ],\n",
       "       [ 0.10501571,  0.04259283, -0.14760854]])"
      ]
     },
     "execution_count": 42,
     "metadata": {},
     "output_type": "execute_result"
    }
   ],
   "source": [
    "dW"
   ]
  },
  {
   "cell_type": "markdown",
   "id": "413fa9c3",
   "metadata": {},
   "source": [
    "$$\\frac {\\partial L} {\\partial w_{11}} = 0.07, \\frac {\\partial L} {\\partial w_{23}} = -0.1476$$\n",
    "\n",
    "w11을 h만큼 늘리면 0.07h만큼 증가하고 w23을 h만큼 늘리면 0.1476h만큼 감소한다."
   ]
  }
 ],
 "metadata": {
  "kernelspec": {
   "display_name": "Python 3",
   "language": "python",
   "name": "python3"
  },
  "language_info": {
   "codemirror_mode": {
    "name": "ipython",
    "version": 3
   },
   "file_extension": ".py",
   "mimetype": "text/x-python",
   "name": "python",
   "nbconvert_exporter": "python",
   "pygments_lexer": "ipython3",
   "version": "3.8.8"
  }
 },
 "nbformat": 4,
 "nbformat_minor": 5
}
