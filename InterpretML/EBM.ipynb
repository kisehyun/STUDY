{
 "cells": [
  {
   "cell_type": "markdown",
   "id": "5be8d721",
   "metadata": {},
   "source": [
    "# Package"
   ]
  },
  {
   "cell_type": "code",
   "execution_count": 2,
   "id": "b461604b",
   "metadata": {
    "id": "b461604b"
   },
   "outputs": [],
   "source": [
    "from interpret.glassbox import LinearRegression, RegressionTree, ExplainableBoostingClassifier, ExplainableBoostingRegressor\n",
    "from interpret import show\n",
    "from interpret.perf import RegressionPerf\n",
    "\n",
    "from sklearn.ensemble import RandomForestRegressor\n",
    "from catboost import CatBoostRegressor\n",
    "\n",
    "import warnings\n",
    "warnings.filterwarnings('ignore')\n",
    "\n",
    "from sklearn.datasets import load_boston, load_breast_cancer\n",
    "from sklearn.model_selection import train_test_split\n",
    "\n",
    "import pandas as pd\n",
    "import numpy as np"
   ]
  },
  {
   "cell_type": "markdown",
   "id": "625d91f9",
   "metadata": {},
   "source": [
    "# Data"
   ]
  },
  {
   "cell_type": "code",
   "execution_count": 3,
   "id": "ZBnt8mp2GLPj",
   "metadata": {
    "id": "ZBnt8mp2GLPj"
   },
   "outputs": [],
   "source": [
    "data = load_boston()"
   ]
  },
  {
   "cell_type": "code",
   "execution_count": 4,
   "id": "ef9f8c2c",
   "metadata": {
    "id": "ef9f8c2c"
   },
   "outputs": [],
   "source": [
    "reg_df = pd.DataFrame(data.data, columns = data.feature_names)"
   ]
  },
  {
   "cell_type": "code",
   "execution_count": 5,
   "id": "5ed9b6d4",
   "metadata": {
    "id": "5ed9b6d4"
   },
   "outputs": [],
   "source": [
    "reg_df['target'] = data.target"
   ]
  },
  {
   "cell_type": "code",
   "execution_count": 6,
   "id": "b485bddb",
   "metadata": {
    "colab": {
     "base_uri": "https://localhost:8080/",
     "height": 204
    },
    "id": "b485bddb",
    "outputId": "18cec79b-e914-45a0-b834-2ca9feb61f70",
    "scrolled": false
   },
   "outputs": [
    {
     "data": {
      "text/html": [
       "<div>\n",
       "<style scoped>\n",
       "    .dataframe tbody tr th:only-of-type {\n",
       "        vertical-align: middle;\n",
       "    }\n",
       "\n",
       "    .dataframe tbody tr th {\n",
       "        vertical-align: top;\n",
       "    }\n",
       "\n",
       "    .dataframe thead th {\n",
       "        text-align: right;\n",
       "    }\n",
       "</style>\n",
       "<table border=\"1\" class=\"dataframe\">\n",
       "  <thead>\n",
       "    <tr style=\"text-align: right;\">\n",
       "      <th></th>\n",
       "      <th>CRIM</th>\n",
       "      <th>ZN</th>\n",
       "      <th>INDUS</th>\n",
       "      <th>CHAS</th>\n",
       "      <th>NOX</th>\n",
       "      <th>RM</th>\n",
       "      <th>AGE</th>\n",
       "      <th>DIS</th>\n",
       "      <th>RAD</th>\n",
       "      <th>TAX</th>\n",
       "      <th>PTRATIO</th>\n",
       "      <th>B</th>\n",
       "      <th>LSTAT</th>\n",
       "      <th>target</th>\n",
       "    </tr>\n",
       "  </thead>\n",
       "  <tbody>\n",
       "    <tr>\n",
       "      <th>0</th>\n",
       "      <td>0.00632</td>\n",
       "      <td>18.0</td>\n",
       "      <td>2.31</td>\n",
       "      <td>0.0</td>\n",
       "      <td>0.538</td>\n",
       "      <td>6.575</td>\n",
       "      <td>65.2</td>\n",
       "      <td>4.0900</td>\n",
       "      <td>1.0</td>\n",
       "      <td>296.0</td>\n",
       "      <td>15.3</td>\n",
       "      <td>396.90</td>\n",
       "      <td>4.98</td>\n",
       "      <td>24.0</td>\n",
       "    </tr>\n",
       "    <tr>\n",
       "      <th>1</th>\n",
       "      <td>0.02731</td>\n",
       "      <td>0.0</td>\n",
       "      <td>7.07</td>\n",
       "      <td>0.0</td>\n",
       "      <td>0.469</td>\n",
       "      <td>6.421</td>\n",
       "      <td>78.9</td>\n",
       "      <td>4.9671</td>\n",
       "      <td>2.0</td>\n",
       "      <td>242.0</td>\n",
       "      <td>17.8</td>\n",
       "      <td>396.90</td>\n",
       "      <td>9.14</td>\n",
       "      <td>21.6</td>\n",
       "    </tr>\n",
       "    <tr>\n",
       "      <th>2</th>\n",
       "      <td>0.02729</td>\n",
       "      <td>0.0</td>\n",
       "      <td>7.07</td>\n",
       "      <td>0.0</td>\n",
       "      <td>0.469</td>\n",
       "      <td>7.185</td>\n",
       "      <td>61.1</td>\n",
       "      <td>4.9671</td>\n",
       "      <td>2.0</td>\n",
       "      <td>242.0</td>\n",
       "      <td>17.8</td>\n",
       "      <td>392.83</td>\n",
       "      <td>4.03</td>\n",
       "      <td>34.7</td>\n",
       "    </tr>\n",
       "    <tr>\n",
       "      <th>3</th>\n",
       "      <td>0.03237</td>\n",
       "      <td>0.0</td>\n",
       "      <td>2.18</td>\n",
       "      <td>0.0</td>\n",
       "      <td>0.458</td>\n",
       "      <td>6.998</td>\n",
       "      <td>45.8</td>\n",
       "      <td>6.0622</td>\n",
       "      <td>3.0</td>\n",
       "      <td>222.0</td>\n",
       "      <td>18.7</td>\n",
       "      <td>394.63</td>\n",
       "      <td>2.94</td>\n",
       "      <td>33.4</td>\n",
       "    </tr>\n",
       "    <tr>\n",
       "      <th>4</th>\n",
       "      <td>0.06905</td>\n",
       "      <td>0.0</td>\n",
       "      <td>2.18</td>\n",
       "      <td>0.0</td>\n",
       "      <td>0.458</td>\n",
       "      <td>7.147</td>\n",
       "      <td>54.2</td>\n",
       "      <td>6.0622</td>\n",
       "      <td>3.0</td>\n",
       "      <td>222.0</td>\n",
       "      <td>18.7</td>\n",
       "      <td>396.90</td>\n",
       "      <td>5.33</td>\n",
       "      <td>36.2</td>\n",
       "    </tr>\n",
       "  </tbody>\n",
       "</table>\n",
       "</div>"
      ],
      "text/plain": [
       "      CRIM    ZN  INDUS  CHAS    NOX     RM   AGE     DIS  RAD    TAX  \\\n",
       "0  0.00632  18.0   2.31   0.0  0.538  6.575  65.2  4.0900  1.0  296.0   \n",
       "1  0.02731   0.0   7.07   0.0  0.469  6.421  78.9  4.9671  2.0  242.0   \n",
       "2  0.02729   0.0   7.07   0.0  0.469  7.185  61.1  4.9671  2.0  242.0   \n",
       "3  0.03237   0.0   2.18   0.0  0.458  6.998  45.8  6.0622  3.0  222.0   \n",
       "4  0.06905   0.0   2.18   0.0  0.458  7.147  54.2  6.0622  3.0  222.0   \n",
       "\n",
       "   PTRATIO       B  LSTAT  target  \n",
       "0     15.3  396.90   4.98    24.0  \n",
       "1     17.8  396.90   9.14    21.6  \n",
       "2     17.8  392.83   4.03    34.7  \n",
       "3     18.7  394.63   2.94    33.4  \n",
       "4     18.7  396.90   5.33    36.2  "
      ]
     },
     "execution_count": 6,
     "metadata": {},
     "output_type": "execute_result"
    }
   ],
   "source": [
    "reg_df.head()"
   ]
  },
  {
   "cell_type": "markdown",
   "id": "f46e43b1",
   "metadata": {},
   "source": [
    "## Split Data"
   ]
  },
  {
   "cell_type": "code",
   "execution_count": 7,
   "id": "fcc3c29f",
   "metadata": {
    "id": "fcc3c29f"
   },
   "outputs": [],
   "source": [
    "X = reg_df.drop(['target'], axis = 1)\n",
    "y = reg_df['target']"
   ]
  },
  {
   "cell_type": "code",
   "execution_count": 8,
   "id": "e9702903",
   "metadata": {
    "id": "e9702903"
   },
   "outputs": [],
   "source": [
    "X_train, X_val, y_train, y_val = train_test_split(X, y, test_size = 0.2, random_state = 42)"
   ]
  },
  {
   "cell_type": "code",
   "execution_count": 9,
   "id": "9a3b8cc4",
   "metadata": {
    "colab": {
     "base_uri": "https://localhost:8080/"
    },
    "id": "9a3b8cc4",
    "outputId": "118d14d1-c95f-4459-a8f9-c34e62aa18f0"
   },
   "outputs": [
    {
     "data": {
      "text/plain": [
       "((404, 13), (102, 13))"
      ]
     },
     "execution_count": 9,
     "metadata": {},
     "output_type": "execute_result"
    }
   ],
   "source": [
    "X_train.shape, X_val.shape"
   ]
  },
  {
   "cell_type": "markdown",
   "id": "53U1JdLgMTuv",
   "metadata": {
    "id": "53U1JdLgMTuv"
   },
   "source": [
    "## EBM 사용"
   ]
  },
  {
   "cell_type": "code",
   "execution_count": 10,
   "id": "fb8a7880",
   "metadata": {
    "id": "fb8a7880"
   },
   "outputs": [],
   "source": [
    "ebm = ExplainableBoostingRegressor(validation_size = 50, early_stopping_rounds = 100)"
   ]
  },
  {
   "cell_type": "code",
   "execution_count": 11,
   "id": "7416d552",
   "metadata": {
    "colab": {
     "base_uri": "https://localhost:8080/"
    },
    "id": "7416d552",
    "outputId": "21d5de51-68fd-4146-e64f-e90589a9f3c6"
   },
   "outputs": [
    {
     "data": {
      "text/plain": [
       "ExplainableBoostingRegressor(early_stopping_rounds=100,\n",
       "                             feature_names=['CRIM', 'ZN', 'INDUS', 'CHAS',\n",
       "                                            'NOX', 'RM', 'AGE', 'DIS', 'RAD',\n",
       "                                            'TAX', 'PTRATIO', 'B', 'LSTAT',\n",
       "                                            'DIS x LSTAT', 'CRIM x LSTAT',\n",
       "                                            'AGE x LSTAT', 'B x LSTAT',\n",
       "                                            'TAX x LSTAT', 'NOX x LSTAT',\n",
       "                                            'INDUS x LSTAT', 'NOX x RM',\n",
       "                                            'RM x PTRATIO', 'RM x TAX'],\n",
       "                             feature_types=['continuous', 'continuous',\n",
       "                                            'continuous', 'categorical',\n",
       "                                            'continuous', 'continuous',\n",
       "                                            'continuous', 'continuous',\n",
       "                                            'continuous', 'continuous',\n",
       "                                            'continuous', 'continuous',\n",
       "                                            'continuous', 'interaction',\n",
       "                                            'interaction', 'interaction',\n",
       "                                            'interaction', 'interaction',\n",
       "                                            'interaction', 'interaction',\n",
       "                                            'interaction', 'interaction',\n",
       "                                            'interaction'],\n",
       "                             validation_size=50)"
      ]
     },
     "execution_count": 11,
     "metadata": {},
     "output_type": "execute_result"
    }
   ],
   "source": [
    "ebm.fit(X_train, y_train)"
   ]
  },
  {
   "cell_type": "markdown",
   "id": "8a369c33",
   "metadata": {},
   "source": [
    "explain_global로 전역 변수 중요도를 얻을 수 있다."
   ]
  },
  {
   "cell_type": "code",
   "execution_count": 12,
   "id": "95dc3964",
   "metadata": {
    "colab": {
     "base_uri": "https://localhost:8080/",
     "height": 755
    },
    "id": "95dc3964",
    "outputId": "55e17342-03e6-4081-f36b-785e25d54ec3",
    "scrolled": true
   },
   "outputs": [
    {
     "data": {
      "text/html": [
       "<!-- http://127.0.0.1:7001/140585481530000/ -->\n",
       "<iframe src=\"http://127.0.0.1:7001/140585481530000/\" width=100% height=800 frameBorder=\"0\"></iframe>"
      ]
     },
     "metadata": {},
     "output_type": "display_data"
    }
   ],
   "source": [
    "show(ebm.explain_global())"
   ]
  },
  {
   "cell_type": "markdown",
   "id": "27da6c0c",
   "metadata": {},
   "source": [
    "array 형태로 explian_local 메서드에 넣으면 개별 데이터의 변수 중요도가 도출된다."
   ]
  },
  {
   "cell_type": "code",
   "execution_count": 13,
   "id": "47f03e36",
   "metadata": {
    "colab": {
     "base_uri": "https://localhost:8080/",
     "height": 755
    },
    "id": "47f03e36",
    "outputId": "40b94ad8-c6ae-44d7-8d69-0d18c27d5ef1",
    "scrolled": true
   },
   "outputs": [
    {
     "data": {
      "text/html": [
       "<!-- http://127.0.0.1:7001/140585434997328/ -->\n",
       "<iframe src=\"http://127.0.0.1:7001/140585434997328/\" width=100% height=800 frameBorder=\"0\"></iframe>"
      ]
     },
     "metadata": {},
     "output_type": "display_data"
    }
   ],
   "source": [
    "show(ebm.explain_local(X.values, y.values))"
   ]
  },
  {
   "cell_type": "markdown",
   "id": "0781e584",
   "metadata": {
    "id": "0781e584"
   },
   "source": [
    "### 다른 Black Box 모델들과 비교\n",
    "\n",
    "- CatBoost\n",
    "- RandomForest"
   ]
  },
  {
   "cell_type": "code",
   "execution_count": 18,
   "id": "cc09a280",
   "metadata": {
    "id": "cc09a280"
   },
   "outputs": [],
   "source": [
    "rf = RandomForestRegressor(random_state = 42)\n",
    "cb = CatBoostRegressor(random_state = 42, silent = True)"
   ]
  },
  {
   "cell_type": "code",
   "execution_count": 19,
   "id": "c38DPFEYGmHx",
   "metadata": {
    "colab": {
     "base_uri": "https://localhost:8080/"
    },
    "id": "c38DPFEYGmHx",
    "outputId": "5368ec72-7731-4d9e-c1f2-c7947fd7cc14",
    "scrolled": true
   },
   "outputs": [
    {
     "data": {
      "text/plain": [
       "<catboost.core.CatBoostRegressor at 0x7fdc9bc30520>"
      ]
     },
     "execution_count": 19,
     "metadata": {},
     "output_type": "execute_result"
    }
   ],
   "source": [
    "rf.fit(X_train, y_train)\n",
    "cb.fit(X_train, y_train)"
   ]
  },
  {
   "cell_type": "code",
   "execution_count": 25,
   "id": "5d78a8f9",
   "metadata": {},
   "outputs": [],
   "source": [
    "ebm_pred = ebm.predict(X_val)\n",
    "rf_pred = rf.predict(X_val)\n",
    "cb_pred = cb.predict(X_val)"
   ]
  },
  {
   "cell_type": "markdown",
   "id": "P0fxNYwwaKA1",
   "metadata": {
    "id": "P0fxNYwwaKA1"
   },
   "source": [
    "#### CatBoost Sample"
   ]
  },
  {
   "cell_type": "code",
   "execution_count": 20,
   "id": "4D25szRjGr9J",
   "metadata": {
    "id": "4D25szRjGr9J"
   },
   "outputs": [],
   "source": [
    "cb_perf = RegressionPerf(cb.predict).explain_perf(X_val, y_val, name = 'CatBoost')"
   ]
  },
  {
   "cell_type": "markdown",
   "id": "69032e6d",
   "metadata": {},
   "source": [
    "RegressionPerf는 예측 데이터에 대한 Performance를 평가한다.\n",
    "\n",
    "일반적인 prediction과 동일하다."
   ]
  },
  {
   "cell_type": "code",
   "execution_count": 21,
   "id": "uXMRYQL6M_12",
   "metadata": {
    "colab": {
     "base_uri": "https://localhost:8080/",
     "height": 755
    },
    "id": "uXMRYQL6M_12",
    "outputId": "199a0f43-73a6-43f4-c410-ef50ea9812fe"
   },
   "outputs": [
    {
     "data": {
      "text/html": [
       "<!-- http://127.0.0.1:7001/140585981331776/ -->\n",
       "<iframe src=\"http://127.0.0.1:7001/140585981331776/\" width=100% height=800 frameBorder=\"0\"></iframe>"
      ]
     },
     "metadata": {},
     "output_type": "display_data"
    }
   ],
   "source": [
    "show(cb_perf)"
   ]
  },
  {
   "cell_type": "code",
   "execution_count": 22,
   "id": "uRy8ZBu3G15u",
   "metadata": {
    "id": "uRy8ZBu3G15u"
   },
   "outputs": [],
   "source": [
    "from sklearn.metrics import mean_squared_error"
   ]
  },
  {
   "cell_type": "code",
   "execution_count": 26,
   "id": "1WD-h1xSHHmi",
   "metadata": {
    "id": "1WD-h1xSHHmi"
   },
   "outputs": [],
   "source": [
    "def get_rmse(model, actual, pred) :\n",
    "\n",
    "    mse = mean_squared_error(actual, pred)\n",
    "    rmse = np.sqrt(mse)\n",
    "\n",
    "    print(f'{model.__class__.__name__} RMSE = {rmse}')"
   ]
  },
  {
   "cell_type": "code",
   "execution_count": 27,
   "id": "LHtX0N_nHVVm",
   "metadata": {
    "colab": {
     "base_uri": "https://localhost:8080/"
    },
    "id": "LHtX0N_nHVVm",
    "outputId": "6bb2a7a5-50d2-4a62-b1f1-91dbcde8ea0d"
   },
   "outputs": [
    {
     "name": "stdout",
     "output_type": "stream",
     "text": [
      "ExplainableBoostingRegressor RMSE = 3.2885815716545874\n",
      "RandomForestRegressor RMSE = 2.8109631609391226\n",
      "CatBoostRegressor RMSE = 2.779159498500485\n"
     ]
    }
   ],
   "source": [
    "get_rmse(ebm, y_val, ebm_pred)\n",
    "get_rmse(rf, y_val, rf_pred)\n",
    "get_rmse(cb, y_val, cb_pred)"
   ]
  },
  {
   "cell_type": "markdown",
   "id": "JxnDMbDfNfxB",
   "metadata": {
    "id": "JxnDMbDfNfxB"
   },
   "source": [
    "위에서 RegressionPerf로 도출된 성능과 동일하다. prediction 수행이 병행되는 것 같다."
   ]
  },
  {
   "cell_type": "code",
   "execution_count": 29,
   "id": "F8dSttYrbToy",
   "metadata": {
    "id": "F8dSttYrbToy"
   },
   "outputs": [],
   "source": [
    "from interpret.blackbox import MorrisSensitivity"
   ]
  },
  {
   "cell_type": "code",
   "execution_count": 30,
   "id": "kWeT8_sbbt_5",
   "metadata": {
    "id": "kWeT8_sbbt_5"
   },
   "outputs": [],
   "source": [
    "ebm_ss = MorrisSensitivity(predict_fn = ebm.predict, data = X_train)\n",
    "rf_ss = MorrisSensitivity(predict_fn = rf.predict, data = X_train)\n",
    "cb_ss = MorrisSensitivity(predict_fn = cb.predict, data = X_train)"
   ]
  },
  {
   "cell_type": "code",
   "execution_count": 32,
   "id": "RnmNvh-Ab2em",
   "metadata": {
    "id": "RnmNvh-Ab2em"
   },
   "outputs": [],
   "source": [
    "ebm_global = ebm_ss.explain_global(name = 'EBM')\n",
    "rf_global = rf_ss.explain_global(name = 'RandomForest')\n",
    "cb_global = cb_ss.explain_global(name = 'CatBoost')"
   ]
  },
  {
   "cell_type": "code",
   "execution_count": 33,
   "id": "MV2pLTjTb8ON",
   "metadata": {
    "colab": {
     "base_uri": "https://localhost:8080/",
     "height": 755
    },
    "id": "MV2pLTjTb8ON",
    "outputId": "14f53e8d-52a0-4a2d-a3ff-9fc4bdf0b326"
   },
   "outputs": [
    {
     "data": {
      "text/html": [
       "<!-- http://127.0.0.1:7001/140585521928320/ -->\n",
       "<a href=\"http://127.0.0.1:7001/140585521928320/\" target=\"_new\">Open in new window</a><iframe src=\"http://127.0.0.1:7001/140585521928320/\" width=100% height=800 frameBorder=\"0\"></iframe>"
      ]
     },
     "metadata": {},
     "output_type": "display_data"
    }
   ],
   "source": [
    "show([ebm_global, rf_global, cb_global])"
   ]
  }
 ],
 "metadata": {
  "colab": {
   "collapsed_sections": [],
   "name": "EBM.ipynb",
   "provenance": []
  },
  "kernelspec": {
   "display_name": "Python 3 (ipykernel)",
   "language": "python",
   "name": "python3"
  },
  "language_info": {
   "codemirror_mode": {
    "name": "ipython",
    "version": 3
   },
   "file_extension": ".py",
   "mimetype": "text/x-python",
   "name": "python",
   "nbconvert_exporter": "python",
   "pygments_lexer": "ipython3",
   "version": "3.9.7"
  }
 },
 "nbformat": 4,
 "nbformat_minor": 5
}
