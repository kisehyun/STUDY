{
 "cells": [
  {
   "cell_type": "markdown",
   "id": "59ab49a3",
   "metadata": {},
   "source": [
    "## Vime Self"
   ]
  },
  {
   "cell_type": "code",
   "execution_count": 1,
   "id": "3a31cbf6",
   "metadata": {},
   "outputs": [],
   "source": [
    "import torch.optim as optim\n",
    "import torch.nn as nn\n",
    "\n",
    "import warnings\n",
    "warnings.filterwarnings('ignore')\n",
    "\n",
    "from seed_setting import *\n",
    "from vime_model import VIME_SELF\n",
    "from train_test import *\n",
    "from MLP import MLP\n",
    "from dataloader import *\n",
    "\n",
    "from sklearn.metrics import f1_score"
   ]
  },
  {
   "cell_type": "code",
   "execution_count": 2,
   "id": "2175022c",
   "metadata": {},
   "outputs": [
    {
     "name": "stdout",
     "output_type": "stream",
     "text": [
      "seed is 2023...!\n"
     ]
    }
   ],
   "source": [
    "set_seed(2023)"
   ]
  },
  {
   "cell_type": "code",
   "execution_count": 3,
   "id": "17ca4abb",
   "metadata": {},
   "outputs": [],
   "source": [
    "file_path = '/Users/kisehyun/Competition/데이콘 전화 해지 분류/train.csv'"
   ]
  },
  {
   "cell_type": "code",
   "execution_count": 4,
   "id": "adbbaaf3",
   "metadata": {},
   "outputs": [],
   "source": [
    "lab_dl, unlab_dl, te_dl = get_data(file_path)"
   ]
  },
  {
   "cell_type": "markdown",
   "id": "91d76584",
   "metadata": {},
   "source": [
    "- lab_dl : labeled data\n",
    "- unlab_dl : unlabeld data\n",
    "- te_dl : test data\n",
    "\n",
    "진행 과정\n",
    "1. NN으로 lab_dl만 활용하여 학습 후 te_dl에 대해 성능 측정(macro f1 score)\n",
    "2. vime self로 unlab_dl에 대해 pretext task 수행\n",
    "3. 2에서 학습한 vime self model로 lab_dl feature extraction -> lab_dl 재생성\n",
    "4. 1과 동일한 구조의 NN으로 te_dl에 대해 성능 측정"
   ]
  },
  {
   "cell_type": "code",
   "execution_count": 5,
   "id": "f3aa13fd",
   "metadata": {},
   "outputs": [],
   "source": [
    "c1 = nn.BCELoss()\n",
    "c2 = nn.L1Loss()"
   ]
  },
  {
   "cell_type": "code",
   "execution_count": 6,
   "id": "3c73e1fa",
   "metadata": {},
   "outputs": [],
   "source": [
    "device = 'cpu'"
   ]
  },
  {
   "cell_type": "code",
   "execution_count": 7,
   "id": "b37f7737",
   "metadata": {},
   "outputs": [],
   "source": [
    "num_epochs = 15\n",
    "num_features = 12\n",
    "batch_size = 128\n",
    "threshold = 0.2\n",
    "lr = 0.001\n",
    "lambda_ = 1.2"
   ]
  },
  {
   "cell_type": "markdown",
   "id": "e1a05ed2",
   "metadata": {},
   "source": [
    "***\n",
    "### No Vime - Only Labeld Data"
   ]
  },
  {
   "cell_type": "code",
   "execution_count": 8,
   "id": "98b2d1dc",
   "metadata": {},
   "outputs": [],
   "source": [
    "mlp_model = MLP(num_features)"
   ]
  },
  {
   "cell_type": "code",
   "execution_count": 9,
   "id": "aa05a829",
   "metadata": {},
   "outputs": [],
   "source": [
    "optimizer = optim.Adam(mlp_model.parameters(), lr = lr)"
   ]
  },
  {
   "cell_type": "code",
   "execution_count": 10,
   "id": "3e07e1ff",
   "metadata": {
    "scrolled": true
   },
   "outputs": [
    {
     "name": "stdout",
     "output_type": "stream",
     "text": [
      "1 Epoch Loss : 0.337119370318959 F1 score : 0.4870511065947042\n",
      "2 Epoch Loss : 0.3340767331646942 F1 score : 0.4962162645597431\n",
      "3 Epoch Loss : 0.3319673971499581 F1 score : 0.5082156950632761\n",
      "4 Epoch Loss : 0.3279660540847894 F1 score : 0.5095996113478539\n",
      "5 Epoch Loss : 0.3222991798912083 F1 score : 0.5148270311068385\n",
      "6 Epoch Loss : 0.32012277835280983 F1 score : 0.5205187562789109\n",
      "7 Epoch Loss : 0.31549625183795627 F1 score : 0.5217016069382883\n",
      "8 Epoch Loss : 0.31691948743048903 F1 score : 0.5202026565027963\n",
      "9 Epoch Loss : 0.3136299727130199 F1 score : 0.5255500279595254\n",
      "10 Epoch Loss : 0.31065443467611975 F1 score : 0.527302047819013\n",
      "11 Epoch Loss : 0.3113977341113022 F1 score : 0.5293336370908722\n",
      "12 Epoch Loss : 0.3074371038294155 F1 score : 0.5307495184561403\n",
      "13 Epoch Loss : 0.30397537126650753 F1 score : 0.5316680149007378\n",
      "14 Epoch Loss : 0.30192102912539565 F1 score : 0.5335889584826162\n",
      "15 Epoch Loss : 0.29922264899149453 F1 score : 0.5330571690676169\n"
     ]
    }
   ],
   "source": [
    "### fit NN model using data loader using labeled data\n",
    "no_vime_mlp_model = MLP_TRAIN(num_epochs, mlp_model, lab_dl, c1, threshold, optimizer, device)"
   ]
  },
  {
   "cell_type": "code",
   "execution_count": 11,
   "id": "8ef20899",
   "metadata": {},
   "outputs": [
    {
     "name": "stdout",
     "output_type": "stream",
     "text": [
      "F1 Score is 0.4981043345679799\n"
     ]
    }
   ],
   "source": [
    "MLP_TEST_RESULT(no_vime_mlp_model, te_dl, threshold, device)"
   ]
  },
  {
   "cell_type": "markdown",
   "id": "a7b6b5c3",
   "metadata": {},
   "source": [
    "***\n",
    "### Vime - Unlabeled Data"
   ]
  },
  {
   "cell_type": "code",
   "execution_count": 12,
   "id": "f074c4d4",
   "metadata": {},
   "outputs": [],
   "source": [
    "### vime self model\n",
    "vime = VIME_SELF(num_features)"
   ]
  },
  {
   "cell_type": "code",
   "execution_count": 13,
   "id": "69131c64",
   "metadata": {},
   "outputs": [],
   "source": [
    "optimizer = optim.Adam(vime.parameters(), lr = lr)"
   ]
  },
  {
   "cell_type": "code",
   "execution_count": 14,
   "id": "4f5e8001",
   "metadata": {},
   "outputs": [
    {
     "name": "stdout",
     "output_type": "stream",
     "text": [
      "1 Epoch Masking Loss : 57.76041666666666 & Feature Loss : 86.0673866853364\n",
      "2 Epoch Masking Loss : 58.21180555555555 & Feature Loss : 40.00528522595466\n",
      "3 Epoch Masking Loss : 56.42187499999998 & Feature Loss : 35.18440932060125\n",
      "4 Epoch Masking Loss : 55.215277777777786 & Feature Loss : 29.23988653132294\n",
      "5 Epoch Masking Loss : 55.61458333333333 & Feature Loss : 23.088028967715324\n",
      "6 Epoch Masking Loss : 55.859375000000014 & Feature Loss : 19.798105389787466\n",
      "7 Epoch Masking Loss : 55.86805555555555 & Feature Loss : 19.825440406217673\n",
      "8 Epoch Masking Loss : 55.83680555555555 & Feature Loss : 19.155401947176784\n",
      "9 Epoch Masking Loss : 56.0017361111111 & Feature Loss : 19.141561766208916\n",
      "10 Epoch Masking Loss : 55.61458333333334 & Feature Loss : 18.76092885074296\n",
      "11 Epoch Masking Loss : 55.45312500000002 & Feature Loss : 18.83892792073242\n",
      "12 Epoch Masking Loss : 56.11111111111111 & Feature Loss : 18.21816252238025\n",
      "13 Epoch Masking Loss : 55.61631944444445 & Feature Loss : 18.143028562858415\n",
      "14 Epoch Masking Loss : 55.875 & Feature Loss : 18.06714863277737\n",
      "15 Epoch Masking Loss : 55.918402777777786 & Feature Loss : 17.565624312795695\n",
      "16 Epoch Masking Loss : 55.741319444444436 & Feature Loss : 17.515532111563505\n",
      "17 Epoch Masking Loss : 55.838541666666664 & Feature Loss : 17.0253964710612\n",
      "18 Epoch Masking Loss : 55.96180555555554 & Feature Loss : 16.845476676770286\n",
      "19 Epoch Masking Loss : 55.84548611111113 & Feature Loss : 16.431929268690364\n",
      "20 Epoch Masking Loss : 56.203125 & Feature Loss : 16.541435912053494\n"
     ]
    }
   ],
   "source": [
    "### fit vime self model\n",
    "vime_self_model = VIME_SELF_TRAIN(20, vime, unlab_dl, c1, c2, lambda_, threshold, optimizer, device)"
   ]
  },
  {
   "cell_type": "code",
   "execution_count": 15,
   "id": "cd27373e",
   "metadata": {},
   "outputs": [],
   "source": [
    "### extract feature using vime self model -> labeled data loader\n",
    "vime_dl = VIME_SAMPLE(num_features, vime_self_model, lab_dl, batch_size, device)"
   ]
  },
  {
   "cell_type": "code",
   "execution_count": 16,
   "id": "efb5d7cd",
   "metadata": {},
   "outputs": [],
   "source": [
    "vime_mlp_model = MLP(num_features)"
   ]
  },
  {
   "cell_type": "code",
   "execution_count": 17,
   "id": "77793836",
   "metadata": {},
   "outputs": [],
   "source": [
    "optimizer = optim.Adam(vime_mlp_model.parameters(), lr = lr)"
   ]
  },
  {
   "cell_type": "code",
   "execution_count": 18,
   "id": "c630053a",
   "metadata": {},
   "outputs": [
    {
     "name": "stdout",
     "output_type": "stream",
     "text": [
      "1 Epoch Loss : 0.380908796962892 F1 score : 0.45962417344156775\n",
      "2 Epoch Loss : 0.3412714282438586 F1 score : 0.4933044746551814\n",
      "3 Epoch Loss : 0.32859406939705976 F1 score : 0.49797347290297345\n",
      "4 Epoch Loss : 0.3232200103947733 F1 score : 0.5024395236584362\n",
      "5 Epoch Loss : 0.3148803114792421 F1 score : 0.5049430646089341\n",
      "6 Epoch Loss : 0.3157720383529824 F1 score : 0.5076000345641145\n",
      "7 Epoch Loss : 0.3137837983471995 F1 score : 0.5073347050102359\n",
      "8 Epoch Loss : 0.31363661386219616 F1 score : 0.5092706326668062\n",
      "9 Epoch Loss : 0.31435793159560077 F1 score : 0.5109737940390516\n",
      "10 Epoch Loss : 0.31692516084802747 F1 score : 0.5117961748638337\n",
      "11 Epoch Loss : 0.3157772640267277 F1 score : 0.514887619607894\n",
      "12 Epoch Loss : 0.31591077452944344 F1 score : 0.5154226808992205\n",
      "13 Epoch Loss : 0.3158651264390939 F1 score : 0.5179224127792175\n",
      "14 Epoch Loss : 0.3153740469549539 F1 score : 0.5185348933102512\n",
      "15 Epoch Loss : 0.31286726092089684 F1 score : 0.5174150596817955\n"
     ]
    }
   ],
   "source": [
    "### fit NN model using data loader using vime self(labeled data)\n",
    "vime_mlp_model = MLP_TRAIN(num_epochs, vime_mlp_model, vime_dl, c1, threshold, optimizer, device)"
   ]
  },
  {
   "cell_type": "code",
   "execution_count": 19,
   "id": "a459fb72",
   "metadata": {},
   "outputs": [
    {
     "name": "stdout",
     "output_type": "stream",
     "text": [
      "F1 Score is 0.5464769835487452\n"
     ]
    }
   ],
   "source": [
    "MLP_TEST_RESULT(vime_mlp_model, te_dl, threshold, device)"
   ]
  }
 ],
 "metadata": {
  "kernelspec": {
   "display_name": "Python 3",
   "language": "python",
   "name": "python3"
  },
  "language_info": {
   "codemirror_mode": {
    "name": "ipython",
    "version": 3
   },
   "file_extension": ".py",
   "mimetype": "text/x-python",
   "name": "python",
   "nbconvert_exporter": "python",
   "pygments_lexer": "ipython3",
   "version": "3.8.8"
  }
 },
 "nbformat": 4,
 "nbformat_minor": 5
}
