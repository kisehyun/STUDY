{
 "cells": [
  {
   "cell_type": "markdown",
   "id": "c3c1e13e",
   "metadata": {},
   "source": [
    "# CTGAN\n",
    "***"
   ]
  },
  {
   "cell_type": "code",
   "execution_count": 4,
   "id": "dab2f218",
   "metadata": {},
   "outputs": [],
   "source": [
    "import pandas as pd\n",
    "import numpy as np\n",
    "\n",
    "from ctgan.synthesizer import CTGANSynthesizer\n",
    "\n",
    "from sklearn.model_selection import train_test_split, cross_val_score, StratifiedKFold\n",
    "from sklearn.preprocessing import LabelEncoder\n",
    "from sklearn.metrics import roc_auc_score\n",
    "from catboost import CatBoostClassifier"
   ]
  },
  {
   "cell_type": "code",
   "execution_count": 192,
   "id": "4515805b",
   "metadata": {},
   "outputs": [],
   "source": [
    "data = pd.read_csv('WA_Fn-UseC_-Telco-Customer-Churn.csv')"
   ]
  },
  {
   "cell_type": "code",
   "execution_count": 193,
   "id": "f5fe65c5",
   "metadata": {
    "scrolled": true
   },
   "outputs": [
    {
     "data": {
      "text/html": [
       "<div>\n",
       "<style scoped>\n",
       "    .dataframe tbody tr th:only-of-type {\n",
       "        vertical-align: middle;\n",
       "    }\n",
       "\n",
       "    .dataframe tbody tr th {\n",
       "        vertical-align: top;\n",
       "    }\n",
       "\n",
       "    .dataframe thead th {\n",
       "        text-align: right;\n",
       "    }\n",
       "</style>\n",
       "<table border=\"1\" class=\"dataframe\">\n",
       "  <thead>\n",
       "    <tr style=\"text-align: right;\">\n",
       "      <th></th>\n",
       "      <th>customerID</th>\n",
       "      <th>gender</th>\n",
       "      <th>SeniorCitizen</th>\n",
       "      <th>Partner</th>\n",
       "      <th>Dependents</th>\n",
       "      <th>tenure</th>\n",
       "      <th>PhoneService</th>\n",
       "      <th>MultipleLines</th>\n",
       "      <th>InternetService</th>\n",
       "      <th>OnlineSecurity</th>\n",
       "      <th>...</th>\n",
       "      <th>DeviceProtection</th>\n",
       "      <th>TechSupport</th>\n",
       "      <th>StreamingTV</th>\n",
       "      <th>StreamingMovies</th>\n",
       "      <th>Contract</th>\n",
       "      <th>PaperlessBilling</th>\n",
       "      <th>PaymentMethod</th>\n",
       "      <th>MonthlyCharges</th>\n",
       "      <th>TotalCharges</th>\n",
       "      <th>Churn</th>\n",
       "    </tr>\n",
       "  </thead>\n",
       "  <tbody>\n",
       "    <tr>\n",
       "      <th>0</th>\n",
       "      <td>7590-VHVEG</td>\n",
       "      <td>Female</td>\n",
       "      <td>0</td>\n",
       "      <td>Yes</td>\n",
       "      <td>No</td>\n",
       "      <td>1</td>\n",
       "      <td>No</td>\n",
       "      <td>No phone service</td>\n",
       "      <td>DSL</td>\n",
       "      <td>No</td>\n",
       "      <td>...</td>\n",
       "      <td>No</td>\n",
       "      <td>No</td>\n",
       "      <td>No</td>\n",
       "      <td>No</td>\n",
       "      <td>Month-to-month</td>\n",
       "      <td>Yes</td>\n",
       "      <td>Electronic check</td>\n",
       "      <td>29.85</td>\n",
       "      <td>29.85</td>\n",
       "      <td>No</td>\n",
       "    </tr>\n",
       "    <tr>\n",
       "      <th>1</th>\n",
       "      <td>5575-GNVDE</td>\n",
       "      <td>Male</td>\n",
       "      <td>0</td>\n",
       "      <td>No</td>\n",
       "      <td>No</td>\n",
       "      <td>34</td>\n",
       "      <td>Yes</td>\n",
       "      <td>No</td>\n",
       "      <td>DSL</td>\n",
       "      <td>Yes</td>\n",
       "      <td>...</td>\n",
       "      <td>Yes</td>\n",
       "      <td>No</td>\n",
       "      <td>No</td>\n",
       "      <td>No</td>\n",
       "      <td>One year</td>\n",
       "      <td>No</td>\n",
       "      <td>Mailed check</td>\n",
       "      <td>56.95</td>\n",
       "      <td>1889.5</td>\n",
       "      <td>No</td>\n",
       "    </tr>\n",
       "    <tr>\n",
       "      <th>2</th>\n",
       "      <td>3668-QPYBK</td>\n",
       "      <td>Male</td>\n",
       "      <td>0</td>\n",
       "      <td>No</td>\n",
       "      <td>No</td>\n",
       "      <td>2</td>\n",
       "      <td>Yes</td>\n",
       "      <td>No</td>\n",
       "      <td>DSL</td>\n",
       "      <td>Yes</td>\n",
       "      <td>...</td>\n",
       "      <td>No</td>\n",
       "      <td>No</td>\n",
       "      <td>No</td>\n",
       "      <td>No</td>\n",
       "      <td>Month-to-month</td>\n",
       "      <td>Yes</td>\n",
       "      <td>Mailed check</td>\n",
       "      <td>53.85</td>\n",
       "      <td>108.15</td>\n",
       "      <td>Yes</td>\n",
       "    </tr>\n",
       "    <tr>\n",
       "      <th>3</th>\n",
       "      <td>7795-CFOCW</td>\n",
       "      <td>Male</td>\n",
       "      <td>0</td>\n",
       "      <td>No</td>\n",
       "      <td>No</td>\n",
       "      <td>45</td>\n",
       "      <td>No</td>\n",
       "      <td>No phone service</td>\n",
       "      <td>DSL</td>\n",
       "      <td>Yes</td>\n",
       "      <td>...</td>\n",
       "      <td>Yes</td>\n",
       "      <td>Yes</td>\n",
       "      <td>No</td>\n",
       "      <td>No</td>\n",
       "      <td>One year</td>\n",
       "      <td>No</td>\n",
       "      <td>Bank transfer (automatic)</td>\n",
       "      <td>42.30</td>\n",
       "      <td>1840.75</td>\n",
       "      <td>No</td>\n",
       "    </tr>\n",
       "    <tr>\n",
       "      <th>4</th>\n",
       "      <td>9237-HQITU</td>\n",
       "      <td>Female</td>\n",
       "      <td>0</td>\n",
       "      <td>No</td>\n",
       "      <td>No</td>\n",
       "      <td>2</td>\n",
       "      <td>Yes</td>\n",
       "      <td>No</td>\n",
       "      <td>Fiber optic</td>\n",
       "      <td>No</td>\n",
       "      <td>...</td>\n",
       "      <td>No</td>\n",
       "      <td>No</td>\n",
       "      <td>No</td>\n",
       "      <td>No</td>\n",
       "      <td>Month-to-month</td>\n",
       "      <td>Yes</td>\n",
       "      <td>Electronic check</td>\n",
       "      <td>70.70</td>\n",
       "      <td>151.65</td>\n",
       "      <td>Yes</td>\n",
       "    </tr>\n",
       "  </tbody>\n",
       "</table>\n",
       "<p>5 rows × 21 columns</p>\n",
       "</div>"
      ],
      "text/plain": [
       "   customerID  gender  SeniorCitizen Partner Dependents  tenure PhoneService  \\\n",
       "0  7590-VHVEG  Female              0     Yes         No       1           No   \n",
       "1  5575-GNVDE    Male              0      No         No      34          Yes   \n",
       "2  3668-QPYBK    Male              0      No         No       2          Yes   \n",
       "3  7795-CFOCW    Male              0      No         No      45           No   \n",
       "4  9237-HQITU  Female              0      No         No       2          Yes   \n",
       "\n",
       "      MultipleLines InternetService OnlineSecurity  ... DeviceProtection  \\\n",
       "0  No phone service             DSL             No  ...               No   \n",
       "1                No             DSL            Yes  ...              Yes   \n",
       "2                No             DSL            Yes  ...               No   \n",
       "3  No phone service             DSL            Yes  ...              Yes   \n",
       "4                No     Fiber optic             No  ...               No   \n",
       "\n",
       "  TechSupport StreamingTV StreamingMovies        Contract PaperlessBilling  \\\n",
       "0          No          No              No  Month-to-month              Yes   \n",
       "1          No          No              No        One year               No   \n",
       "2          No          No              No  Month-to-month              Yes   \n",
       "3         Yes          No              No        One year               No   \n",
       "4          No          No              No  Month-to-month              Yes   \n",
       "\n",
       "               PaymentMethod MonthlyCharges  TotalCharges Churn  \n",
       "0           Electronic check          29.85         29.85    No  \n",
       "1               Mailed check          56.95        1889.5    No  \n",
       "2               Mailed check          53.85        108.15   Yes  \n",
       "3  Bank transfer (automatic)          42.30       1840.75    No  \n",
       "4           Electronic check          70.70        151.65   Yes  \n",
       "\n",
       "[5 rows x 21 columns]"
      ]
     },
     "execution_count": 193,
     "metadata": {},
     "output_type": "execute_result"
    }
   ],
   "source": [
    "data.head()"
   ]
  },
  {
   "cell_type": "markdown",
   "id": "f87686f0",
   "metadata": {},
   "source": [
    "## 전처리\n",
    "- 간단한 전처리만 진행"
   ]
  },
  {
   "cell_type": "code",
   "execution_count": 194,
   "id": "fe06d5d6",
   "metadata": {},
   "outputs": [],
   "source": [
    "data['Churn'] = [1 if c == 'Yes' else 0 for c in data['Churn']]"
   ]
  },
  {
   "cell_type": "code",
   "execution_count": 195,
   "id": "267f84b4",
   "metadata": {},
   "outputs": [],
   "source": [
    "data['gender'] = [1 if g == 'Male' else 0 for g in data['gender']]"
   ]
  },
  {
   "cell_type": "code",
   "execution_count": 196,
   "id": "bf560432",
   "metadata": {},
   "outputs": [],
   "source": [
    "data['Partner'] = [1 if p == 'Yes' else 0 for p in data['Partner']]"
   ]
  },
  {
   "cell_type": "code",
   "execution_count": 197,
   "id": "5172506e",
   "metadata": {},
   "outputs": [],
   "source": [
    "data['Dependents'] = [1 if d == 'Yes' else 0 for d in data['Dependents']]"
   ]
  },
  {
   "cell_type": "code",
   "execution_count": 198,
   "id": "967327bd",
   "metadata": {},
   "outputs": [],
   "source": [
    "data['PhoneService'] = [1 if ps == 'Yes' else 0 for ps in data['PhoneService']]"
   ]
  },
  {
   "cell_type": "code",
   "execution_count": 199,
   "id": "32f88e8c",
   "metadata": {},
   "outputs": [],
   "source": [
    "data['PaperlessBilling'] = [1 if pb == 'Yes' else 0 for pb in data['PaperlessBilling']]"
   ]
  },
  {
   "cell_type": "code",
   "execution_count": 200,
   "id": "fa166a5f",
   "metadata": {},
   "outputs": [],
   "source": [
    "data['MonthlyCharges'] = data['MonthlyCharges'].astype(float)"
   ]
  },
  {
   "cell_type": "code",
   "execution_count": 201,
   "id": "af06a40f",
   "metadata": {},
   "outputs": [],
   "source": [
    "data['TotalCharges'] = data['TotalCharges'].str.replace(' ', '0').astype(float)"
   ]
  },
  {
   "cell_type": "code",
   "execution_count": 209,
   "id": "3d21e1ed",
   "metadata": {},
   "outputs": [],
   "source": [
    "X = data.drop(['customerID', 'Churn'], axis = 1)\n",
    "y = data.Churn"
   ]
  },
  {
   "cell_type": "markdown",
   "id": "5d7931bd",
   "metadata": {},
   "source": [
    "## Train & Test Split\n",
    "\n",
    "실제 ML 문제와 유사한 환경 구성을 위해 아래와 같이 데이터를 구성함\n",
    "- train : 학습 및 검증에만 사용 6063개\n",
    "- test : 예측시에만 사용(submission에 해당하며 1000개)"
   ]
  },
  {
   "cell_type": "code",
   "execution_count": 210,
   "id": "9b484019",
   "metadata": {},
   "outputs": [],
   "source": [
    "X_train, X_test, y_train, y_test = train_test_split(X, y, test_size = 1000, random_state = 42, stratify = y)"
   ]
  },
  {
   "cell_type": "code",
   "execution_count": 119,
   "id": "43cb8ec7",
   "metadata": {},
   "outputs": [],
   "source": [
    "gen_target = X_train.copy()"
   ]
  },
  {
   "cell_type": "code",
   "execution_count": 120,
   "id": "60417df4",
   "metadata": {},
   "outputs": [],
   "source": [
    "gen_target['Churn'] = y_train"
   ]
  },
  {
   "cell_type": "code",
   "execution_count": 211,
   "id": "e542c010",
   "metadata": {},
   "outputs": [],
   "source": [
    "encoding_cols = ['MultipleLines', 'InternetService', 'OnlineSecurity', 'OnlineBackup', 'DeviceProtection',\n",
    "                 'TechSupport', 'StreamingTV', 'StreamingMovies', 'Contract', 'PaymentMethod']"
   ]
  },
  {
   "cell_type": "code",
   "execution_count": 212,
   "id": "59e71df1",
   "metadata": {},
   "outputs": [],
   "source": [
    "le = LabelEncoder()"
   ]
  },
  {
   "cell_type": "code",
   "execution_count": 213,
   "id": "7a68be61",
   "metadata": {},
   "outputs": [],
   "source": [
    "for col in encoding_cols :\n",
    "    X_train[col] = le.fit_transform(X_train[col])\n",
    "    X_test[col] = le.transform(X_test[col])"
   ]
  },
  {
   "cell_type": "code",
   "execution_count": 94,
   "id": "aec90a9a",
   "metadata": {},
   "outputs": [],
   "source": [
    "gen_samples = 5000"
   ]
  },
  {
   "cell_type": "code",
   "execution_count": 121,
   "id": "4d25b0cc",
   "metadata": {},
   "outputs": [],
   "source": [
    "d_cols = gen_target.columns.tolist()"
   ]
  },
  {
   "cell_type": "code",
   "execution_count": 109,
   "id": "f4d1093b",
   "metadata": {},
   "outputs": [
    {
     "name": "stdout",
     "output_type": "stream",
     "text": [
      "CPU times: user 30 µs, sys: 0 ns, total: 30 µs\n",
      "Wall time: 33.9 µs\n"
     ]
    }
   ],
   "source": [
    "%%time\n",
    "ctgan = CTGANSynthesizer()"
   ]
  },
  {
   "cell_type": "code",
   "execution_count": 122,
   "id": "7035eb34",
   "metadata": {
    "scrolled": true
   },
   "outputs": [
    {
     "name": "stderr",
     "output_type": "stream",
     "text": [
      "Fitting CTGAN transformers for each column: 100%|██████████| 20/20 [00:00<00:00, 1364.58it/s]\n"
     ]
    },
    {
     "name": "stdout",
     "output_type": "stream",
     "text": [
      "CPU times: user 3h 12min 49s, sys: 38min 27s, total: 3h 51min 17s\n",
      "Wall time: 17min\n"
     ]
    }
   ],
   "source": [
    "%%time\n",
    "ctgan.fit(gen_target, d_cols, epochs = 50)"
   ]
  },
  {
   "cell_type": "code",
   "execution_count": 123,
   "id": "030cee04",
   "metadata": {},
   "outputs": [],
   "source": [
    "train_generated = ctgan.sample(gen_samples)"
   ]
  },
  {
   "cell_type": "code",
   "execution_count": 241,
   "id": "c1fa7802",
   "metadata": {},
   "outputs": [],
   "source": [
    "new_X_train = pd.concat([X_train, train_generated.iloc[:, :-1]], axis = 0, ignore_index = True)"
   ]
  },
  {
   "cell_type": "code",
   "execution_count": 245,
   "id": "fa3ba0ff",
   "metadata": {},
   "outputs": [],
   "source": [
    "new_y_train = pd.Series(y_train.tolist() + train_generated.Churn.tolist())"
   ]
  },
  {
   "cell_type": "markdown",
   "id": "f1fcdcc1",
   "metadata": {},
   "source": [
    "***\n",
    "## CatBoost Fit & Predict Ensemble"
   ]
  },
  {
   "cell_type": "code",
   "execution_count": 144,
   "id": "06bbc11f",
   "metadata": {},
   "outputs": [],
   "source": [
    "skf = StratifiedKFold(n_splits = 10, random_state = 42, shuffle = True)"
   ]
  },
  {
   "cell_type": "code",
   "execution_count": 247,
   "id": "770e3e61",
   "metadata": {},
   "outputs": [],
   "source": [
    "def ensemble_result(X, y, test) :\n",
    "    \n",
    "    cb_pred = np.zeros((test.shape[0], ))\n",
    "    cb_score = []\n",
    "    \n",
    "    for i, (tr_idx, val_idx) in enumerate(skf.split(X, y)) :\n",
    "        \n",
    "        tr_x, tr_y = X.iloc[tr_idx], y.iloc[tr_idx]\n",
    "        val_x, val_y = X.iloc[val_idx], y.iloc[val_idx]\n",
    "        \n",
    "        cb = CatBoostClassifier(random_state = 42, max_depth = 5, learning_rate = 0.03, iterations = 2000, eval_metric = 'AUC')\n",
    "        cb.fit(tr_x, tr_y, eval_set = [(tr_x, tr_y), (val_x, val_y)], early_stopping_rounds = 200, verbose = 0)\n",
    "        \n",
    "        val_pred = cb.predict_proba(val_x)[:, 1]\n",
    "        fold_roc_auc = roc_auc_score(val_y, val_pred)\n",
    "        cb_score.append(fold_roc_auc)\n",
    "        print(f\"{i + 1} Fold ROC_AUC = {round(fold_roc_auc, 4)}\")\n",
    "        \n",
    "        fold_pred = cb.predict_proba(test)[:, 1] / skf.n_splits\n",
    "        cb_pred += fold_pred\n",
    "        \n",
    "    print(f\"\\n {cb.__class__.__name__} AVG score = {np.mean(cb_score)}\")\n",
    "    \n",
    "    return cb_pred"
   ]
  },
  {
   "cell_type": "code",
   "execution_count": 248,
   "id": "eb00aa03",
   "metadata": {
    "scrolled": true
   },
   "outputs": [
    {
     "name": "stdout",
     "output_type": "stream",
     "text": [
      "1 Fold ROC_AUC = 0.8672\n",
      "2 Fold ROC_AUC = 0.8504\n",
      "3 Fold ROC_AUC = 0.8506\n",
      "4 Fold ROC_AUC = 0.8299\n",
      "5 Fold ROC_AUC = 0.8155\n",
      "6 Fold ROC_AUC = 0.8463\n",
      "7 Fold ROC_AUC = 0.8625\n",
      "8 Fold ROC_AUC = 0.8717\n",
      "9 Fold ROC_AUC = 0.861\n",
      "10 Fold ROC_AUC = 0.8356\n",
      "\n",
      " CatBoostClassifier AVG score = 0.8490749330001297\n"
     ]
    }
   ],
   "source": [
    "base_line = ensemble_result(X_train, y_train, X_test)"
   ]
  },
  {
   "cell_type": "code",
   "execution_count": 249,
   "id": "366198d9",
   "metadata": {
    "scrolled": true
   },
   "outputs": [
    {
     "name": "stdout",
     "output_type": "stream",
     "text": [
      "1 Fold ROC_AUC = 0.7814\n",
      "2 Fold ROC_AUC = 0.7922\n",
      "3 Fold ROC_AUC = 0.7668\n",
      "4 Fold ROC_AUC = 0.765\n",
      "5 Fold ROC_AUC = 0.8024\n",
      "6 Fold ROC_AUC = 0.7811\n",
      "7 Fold ROC_AUC = 0.7858\n",
      "8 Fold ROC_AUC = 0.8029\n",
      "9 Fold ROC_AUC = 0.7871\n",
      "10 Fold ROC_AUC = 0.7927\n",
      "\n",
      " CatBoostClassifier AVG score = 0.7857296918937233\n"
     ]
    }
   ],
   "source": [
    "ctgan_pred = ensemble_result(new_X_train, new_y_train, X_test)"
   ]
  },
  {
   "cell_type": "markdown",
   "id": "81c7000a",
   "metadata": {},
   "source": [
    "각 데이터를 학습한 결과 학습 데이터에서는 데이터를 보강하지 않았을 때 더 좋은 성능을 보였다.\n",
    "***\n",
    "## 성능 비교"
   ]
  },
  {
   "cell_type": "code",
   "execution_count": 250,
   "id": "ab6718cb",
   "metadata": {},
   "outputs": [
    {
     "data": {
      "text/plain": [
       "0.8504505198305736"
      ]
     },
     "execution_count": 250,
     "metadata": {},
     "output_type": "execute_result"
    }
   ],
   "source": [
    "roc_auc_score(y_test, base_line)"
   ]
  },
  {
   "cell_type": "code",
   "execution_count": 251,
   "id": "a4298b04",
   "metadata": {
    "scrolled": true
   },
   "outputs": [
    {
     "data": {
      "text/plain": [
       "0.8510358105506353"
      ]
     },
     "execution_count": 251,
     "metadata": {},
     "output_type": "execute_result"
    }
   ],
   "source": [
    "roc_auc_score(y_test, ctgan_pred)"
   ]
  },
  {
   "cell_type": "markdown",
   "id": "3f0776bd",
   "metadata": {},
   "source": [
    "CTGAN으로 학습데이터를 보강한 결과가 상대적으로 좋은 성능을 보이는 것으로 나타났다."
   ]
  }
 ],
 "metadata": {
  "kernelspec": {
   "display_name": "Python 3 (ipykernel)",
   "language": "python",
   "name": "python3"
  },
  "language_info": {
   "codemirror_mode": {
    "name": "ipython",
    "version": 3
   },
   "file_extension": ".py",
   "mimetype": "text/x-python",
   "name": "python",
   "nbconvert_exporter": "python",
   "pygments_lexer": "ipython3",
   "version": "3.8.10"
  }
 },
 "nbformat": 4,
 "nbformat_minor": 5
}
