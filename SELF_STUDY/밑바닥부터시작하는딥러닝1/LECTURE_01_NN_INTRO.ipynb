{
 "cells": [
  {
   "cell_type": "markdown",
   "id": "19700e91",
   "metadata": {},
   "source": [
    "# 밑바닥부터 시작하는 딥러닝 1\n",
    "***\n",
    "\n",
    "대부분의 딥러닝 네트워크는 **입력층, 은닉층, 출력층**의 구조를 가진다.\n",
    "\n",
    "입력 신호로부터 전달되는 정보의 총합을 출력 신호로 변환할 때 **활성화 함수(acivation function)**이 사용된다. 활성화 함수는 임곗값(threshold)을 경계로 출력값이 바뀐다.\n",
    "\n",
    "***\n",
    "\n",
    "### Sigmoid\n",
    "<br>\n",
    "<br>\n",
    "\n",
    "- 시그모이드의 수식은 아래와 같다.\n",
    "<center>$h(x) = {1\\over 1  +  exp(-x)}$<center>\n",
    "\n",
    "- 위 수식의 결과는 0과 1 사이의 값을 가진다.\n"
   ]
  },
  {
   "cell_type": "code",
   "execution_count": 2,
   "id": "69f87b9d",
   "metadata": {},
   "outputs": [],
   "source": [
    "import numpy as np\n",
    "\n",
    "import matplotlib.pyplot as plt\n",
    "%matplotlib inline\n",
    "\n",
    "import warnings\n",
    "warnings.filterwarnings('ignore')"
   ]
  },
  {
   "cell_type": "code",
   "execution_count": 3,
   "id": "87e012b8",
   "metadata": {},
   "outputs": [],
   "source": [
    "def step_function(x) :\n",
    "    if x > 0 :\n",
    "        return 1\n",
    "    else :\n",
    "        return 0"
   ]
  },
  {
   "cell_type": "code",
   "execution_count": 4,
   "id": "40089b65",
   "metadata": {},
   "outputs": [
    {
     "data": {
      "text/plain": [
       "1"
      ]
     },
     "execution_count": 4,
     "metadata": {},
     "output_type": "execute_result"
    }
   ],
   "source": [
    "step_function(3)"
   ]
  },
  {
   "cell_type": "code",
   "execution_count": 7,
   "id": "25860c61",
   "metadata": {},
   "outputs": [],
   "source": [
    "# step_function(np.array(3, 2, 4))"
   ]
  },
  {
   "cell_type": "markdown",
   "id": "d0548197",
   "metadata": {},
   "source": [
    "위 코드는 오류가 발생한다."
   ]
  },
  {
   "cell_type": "code",
   "execution_count": 21,
   "id": "77bd8eb8",
   "metadata": {},
   "outputs": [],
   "source": [
    "def step_function(x) :\n",
    "    y = x > 0\n",
    "    \n",
    "    return y.astype(np.int)"
   ]
  },
  {
   "cell_type": "markdown",
   "id": "366765d4",
   "metadata": {},
   "source": [
    "numpy의 int 변환을 이용해야 배열 안의 요소들이 정수 형태로 반환된다."
   ]
  },
  {
   "cell_type": "code",
   "execution_count": 24,
   "id": "b6906354",
   "metadata": {
    "scrolled": true
   },
   "outputs": [
    {
     "data": {
      "text/plain": [
       "array([1, 1, 0])"
      ]
     },
     "execution_count": 24,
     "metadata": {},
     "output_type": "execute_result"
    }
   ],
   "source": [
    "step_function(np.array([3, 4, -3]))"
   ]
  },
  {
   "cell_type": "markdown",
   "id": "bef66d3c",
   "metadata": {},
   "source": [
    "#### 계단 함수 구현"
   ]
  },
  {
   "cell_type": "code",
   "execution_count": 32,
   "id": "5a0b8021",
   "metadata": {},
   "outputs": [],
   "source": [
    "def step_function(x) :\n",
    "    result = np.array(x > 0, dtype = np.int)\n",
    "    return result"
   ]
  },
  {
   "cell_type": "code",
   "execution_count": 28,
   "id": "3de3c4d2",
   "metadata": {},
   "outputs": [],
   "source": [
    "x = np.arange(-10, 10, 0.1)"
   ]
  },
  {
   "cell_type": "code",
   "execution_count": 33,
   "id": "cf0dae72",
   "metadata": {},
   "outputs": [],
   "source": [
    "y = step_function(x)"
   ]
  },
  {
   "cell_type": "code",
   "execution_count": 36,
   "id": "8728c1e9",
   "metadata": {},
   "outputs": [
    {
     "data": {
      "image/png": "[encoded data removed]",
      "text/plain": [
       "<Figure size 432x288 with 1 Axes>"
      ]
     },
     "metadata": {
      "needs_background": "light"
     },
     "output_type": "display_data"
    }
   ],
   "source": [
    "plt.title('Step Function')\n",
    "plt.plot(x, y)\n",
    "plt.ylim(-0.1, 1.1)\n",
    "plt.show()"
   ]
  },
  {
   "cell_type": "markdown",
   "id": "7e0b7631",
   "metadata": {},
   "source": [
    "#### 시그모이드 함수 구현"
   ]
  },
  {
   "cell_type": "code",
   "execution_count": 38,
   "id": "405a0a45",
   "metadata": {},
   "outputs": [],
   "source": [
    "def sigmoid(x) :\n",
    "    \n",
    "    return 1 / (1 + np.exp(-x))"
   ]
  },
  {
   "cell_type": "code",
   "execution_count": 39,
   "id": "63bfe415",
   "metadata": {},
   "outputs": [],
   "source": [
    "x = np.array([1, -4, 5, 10])"
   ]
  },
  {
   "cell_type": "code",
   "execution_count": 40,
   "id": "34fc14c6",
   "metadata": {
    "scrolled": true
   },
   "outputs": [
    {
     "data": {
      "text/plain": [
       "array([0.73105858, 0.01798621, 0.99330715, 0.9999546 ])"
      ]
     },
     "execution_count": 40,
     "metadata": {},
     "output_type": "execute_result"
    }
   ],
   "source": [
    "sigmoid(x)"
   ]
  },
  {
   "cell_type": "code",
   "execution_count": 41,
   "id": "f2a2011e",
   "metadata": {},
   "outputs": [],
   "source": [
    "x = np.arange(-5, 5, 0.1)"
   ]
  },
  {
   "cell_type": "code",
   "execution_count": 42,
   "id": "8fffe1d3",
   "metadata": {},
   "outputs": [],
   "source": [
    "y = sigmoid(x)"
   ]
  },
  {
   "cell_type": "code",
   "execution_count": 46,
   "id": "e755c24a",
   "metadata": {},
   "outputs": [
    {
     "data": {
      "image/png": "[encoded data removed]",
      "text/plain": [
       "<Figure size 432x288 with 1 Axes>"
      ]
     },
     "metadata": {
      "needs_background": "light"
     },
     "output_type": "display_data"
    }
   ],
   "source": [
    "plt.title('Sigmoid Function')\n",
    "plt.plot(x, y)\n",
    "plt.ylim(-.1, 1.1)\n",
    "plt.show()"
   ]
  },
  {
   "cell_type": "markdown",
   "id": "4fce7447",
   "metadata": {},
   "source": [
    "#### 시그모이드와 계단 함수 비교\n",
    "<br>\n",
    "<br>\n",
    "\n",
    "- 시각적으로도 차이가 있지만 가장 큰 차이는 특정 임계값(0)을 기준으로 계단 함수는 출력이 갑자기 바뀌지만 시그모이드는 그렇지 않다.\n",
    "- 계단 함수는 0 혹은 1 중 하나의 값만 반환하지만 시그모이드는 실수 값을 반환한다.\n",
    "<br>\n",
    "\n",
    "***\n",
    "### 비선형 함수\n",
    "<br>\n",
    "\n",
    "- 계단 함수와 시그모이드는 모두 비선형 함수로 신경망에서는 선형 함수를 사용하면 deep한 네트워크를 쌓을 수 없어서 비선형 함수가 사용된다.\n",
    "- 선형 함수를 활성화 함수로 사용할 경우 결국 $y(x) = ax$가 되기 때문이다.\n",
    "\n",
    "### ReLU 함수\n",
    "\n",
    "- ReLU는 0 이하의 입력에는 0을 0을 초과하는 입력 값에는 그 값 자체를 반환한다."
   ]
  },
  {
   "cell_type": "code",
   "execution_count": 47,
   "id": "d0c53da8",
   "metadata": {},
   "outputs": [],
   "source": [
    "def ReLU(x) :\n",
    "    \n",
    "    return np.maximum(0, x)"
   ]
  },
  {
   "cell_type": "code",
   "execution_count": 49,
   "id": "feb6837d",
   "metadata": {},
   "outputs": [
    {
     "data": {
      "text/plain": [
       "0"
      ]
     },
     "execution_count": 49,
     "metadata": {},
     "output_type": "execute_result"
    }
   ],
   "source": [
    "ReLU(-3)"
   ]
  },
  {
   "cell_type": "code",
   "execution_count": 50,
   "id": "976b10da",
   "metadata": {},
   "outputs": [
    {
     "data": {
      "text/plain": [
       "6"
      ]
     },
     "execution_count": 50,
     "metadata": {},
     "output_type": "execute_result"
    }
   ],
   "source": [
    "ReLU(6)"
   ]
  },
  {
   "cell_type": "markdown",
   "id": "6b4ed1be",
   "metadata": {},
   "source": [
    "### 얕은 신경망 구현"
   ]
  },
  {
   "cell_type": "code",
   "execution_count": 55,
   "id": "bbc7f936",
   "metadata": {},
   "outputs": [],
   "source": [
    "# 항등함수\n",
    "def identity_function(x) :\n",
    "    \n",
    "    return x"
   ]
  },
  {
   "cell_type": "code",
   "execution_count": 53,
   "id": "8c34bcfc",
   "metadata": {},
   "outputs": [],
   "source": [
    "def init_network() :\n",
    "    \n",
    "    network = {}\n",
    "    \n",
    "    network['W1'] = np.array([[0.2, 0.1, 0.4], [0.5, 0.3, 0.6]])\n",
    "    network['b1'] = np.array([0.1, 0.2, 0.5])\n",
    "    network['W2'] = np.array([[0.1, 0.4], [0.8, 0.2], [0.9, 0.5]])\n",
    "    network['b2'] = np.array([0.2, 0.6])\n",
    "    network['W3'] = np.array([[0.4, 0.6], [0.5, 0.3]])\n",
    "    network['b3'] = np.array([0.8, 0.7])\n",
    "    \n",
    "    return network"
   ]
  },
  {
   "cell_type": "code",
   "execution_count": 56,
   "id": "73db20ff",
   "metadata": {},
   "outputs": [],
   "source": [
    "def forward(network, x) :\n",
    "    \n",
    "    W1, W2, W3 = network['W1'], network['W2'], network['W3']\n",
    "    b1, b2, b3 = network['b1'], network['b2'], network['b3']\n",
    "    \n",
    "    a1 = np.dot(x, W1) + b1\n",
    "    s1 = sigmoid(a1)\n",
    "    \n",
    "    a2 = np.dot(s1, W2) + b2\n",
    "    s2 = sigmoid(a2)\n",
    "    \n",
    "    a3 = np.dot(s2, W3) + b3\n",
    "    y = identity_function(a3)\n",
    "    \n",
    "    return y"
   ]
  },
  {
   "cell_type": "code",
   "execution_count": 58,
   "id": "ee8a95df",
   "metadata": {},
   "outputs": [],
   "source": [
    "network = init_network()\n",
    "x = np.array([0.9, 0.2])\n",
    "y = forward(network, x)"
   ]
  },
  {
   "cell_type": "code",
   "execution_count": 59,
   "id": "7ff7aa52",
   "metadata": {},
   "outputs": [
    {
     "name": "stdout",
     "output_type": "stream",
     "text": [
      "[1.51010133 1.41169958]\n"
     ]
    }
   ],
   "source": [
    "print(y)"
   ]
  },
  {
   "cell_type": "markdown",
   "id": "81c0a328",
   "metadata": {},
   "source": [
    "위에서 출력층으로 함수를 따로 지정해주지 않고 항등함수를 사용했는데 일반적인 ML문제인 분류(classification)과 회귀(regression)를 위해서는 별도로 함수를 지정해야 한다.\n",
    "- 분류 : softmax, sigmoid\n",
    "- 회귀 : 항등함수\n",
    "\n",
    "항등 함수(identity function)는 입력을 그대로 출력한다. 반면 소프트맥스 함수의 수식은 아래와 같다.\n",
    "\n",
    "<center> $y_{k} = {exp(a_{k})\\over \\sum_{i = 1}^n {exp(a_{i})}}$<center>\n",
    "    \n",
    "n은 출력층의 뉴런 수, $y_{k}$는 그 중 k번째 출력"
   ]
  },
  {
   "cell_type": "code",
   "execution_count": 3,
   "id": "31d42279",
   "metadata": {},
   "outputs": [],
   "source": [
    "a = np.array([0.3, 3.8, 1.2])"
   ]
  },
  {
   "cell_type": "code",
   "execution_count": 4,
   "id": "5be9cc93",
   "metadata": {},
   "outputs": [],
   "source": [
    "exp_a = np.exp(a)"
   ]
  },
  {
   "cell_type": "code",
   "execution_count": 5,
   "id": "95ffc92f",
   "metadata": {},
   "outputs": [
    {
     "data": {
      "text/plain": [
       "array([ 1.34985881, 44.70118449,  3.32011692])"
      ]
     },
     "execution_count": 5,
     "metadata": {},
     "output_type": "execute_result"
    }
   ],
   "source": [
    "exp_a"
   ]
  },
  {
   "cell_type": "code",
   "execution_count": 6,
   "id": "52b9b801",
   "metadata": {},
   "outputs": [],
   "source": [
    "sum_exp_a = np.sum(exp_a)"
   ]
  },
  {
   "cell_type": "code",
   "execution_count": 7,
   "id": "28f4e0e9",
   "metadata": {},
   "outputs": [
    {
     "data": {
      "text/plain": [
       "49.371160223613366"
      ]
     },
     "execution_count": 7,
     "metadata": {},
     "output_type": "execute_result"
    }
   ],
   "source": [
    "sum_exp_a"
   ]
  },
  {
   "cell_type": "code",
   "execution_count": 8,
   "id": "d91b4215",
   "metadata": {},
   "outputs": [],
   "source": [
    "y = exp_a / sum_exp_a"
   ]
  },
  {
   "cell_type": "code",
   "execution_count": 9,
   "id": "7107cb24",
   "metadata": {},
   "outputs": [
    {
     "data": {
      "text/plain": [
       "array([0.02734104, 0.90541086, 0.0672481 ])"
      ]
     },
     "execution_count": 9,
     "metadata": {},
     "output_type": "execute_result"
    }
   ],
   "source": [
    "y"
   ]
  },
  {
   "cell_type": "code",
   "execution_count": 10,
   "id": "f1d5f646",
   "metadata": {},
   "outputs": [],
   "source": [
    "def softmax_function(x) :\n",
    "    \n",
    "    exp_a = np.exp(x)\n",
    "    sum_exp_a = np.sum(exp_a)\n",
    "    y = exp_a / sum_exp_a\n",
    "    \n",
    "    return y"
   ]
  },
  {
   "cell_type": "markdown",
   "id": "445cb9de",
   "metadata": {},
   "source": [
    "소프트맥스 함수는 지수 함수를 사용하기 때문에 오버플로(overflow) 현상이 발생한다."
   ]
  },
  {
   "cell_type": "code",
   "execution_count": 11,
   "id": "f201baeb",
   "metadata": {},
   "outputs": [],
   "source": [
    "a = np.array([1010, 2000, 99999])"
   ]
  },
  {
   "cell_type": "code",
   "execution_count": 12,
   "id": "54fbd8f0",
   "metadata": {},
   "outputs": [
    {
     "data": {
      "text/plain": [
       "array([nan, nan, nan])"
      ]
     },
     "execution_count": 12,
     "metadata": {},
     "output_type": "execute_result"
    }
   ],
   "source": [
    "np.exp(a) / np.sum(np.exp(a))"
   ]
  },
  {
   "cell_type": "markdown",
   "id": "a7535ab5",
   "metadata": {},
   "source": [
    "overflow 발생"
   ]
  },
  {
   "cell_type": "code",
   "execution_count": 13,
   "id": "96e548d1",
   "metadata": {},
   "outputs": [],
   "source": [
    "c = np.max(a)"
   ]
  },
  {
   "cell_type": "code",
   "execution_count": 14,
   "id": "9d885b67",
   "metadata": {},
   "outputs": [
    {
     "data": {
      "text/plain": [
       "99999"
      ]
     },
     "execution_count": 14,
     "metadata": {},
     "output_type": "execute_result"
    }
   ],
   "source": [
    "c"
   ]
  },
  {
   "cell_type": "code",
   "execution_count": 15,
   "id": "940acb20",
   "metadata": {},
   "outputs": [
    {
     "data": {
      "text/plain": [
       "array([-98989, -97999,      0])"
      ]
     },
     "execution_count": 15,
     "metadata": {},
     "output_type": "execute_result"
    }
   ],
   "source": [
    "a - c"
   ]
  },
  {
   "cell_type": "code",
   "execution_count": 16,
   "id": "a969a14e",
   "metadata": {},
   "outputs": [
    {
     "data": {
      "text/plain": [
       "array([0., 0., 1.])"
      ]
     },
     "execution_count": 16,
     "metadata": {},
     "output_type": "execute_result"
    }
   ],
   "source": [
    "np.exp(a - c) / np.sum(np.exp(a - c))"
   ]
  }
 ],
 "metadata": {
  "kernelspec": {
   "display_name": "Python 3",
   "language": "python",
   "name": "python3"
  },
  "language_info": {
   "codemirror_mode": {
    "name": "ipython",
    "version": 3
   },
   "file_extension": ".py",
   "mimetype": "text/x-python",
   "name": "python",
   "nbconvert_exporter": "python",
   "pygments_lexer": "ipython3",
   "version": "3.8.8"
  }
 },
 "nbformat": 4,
 "nbformat_minor": 5
}
