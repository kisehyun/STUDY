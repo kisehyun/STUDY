{
 "cells": [
  {
   "cell_type": "markdown",
   "metadata": {},
   "source": [
    "# DAY_10\n",
    "***\n",
    "\n",
    "## 02. 통계분석"
   ]
  },
  {
   "cell_type": "markdown",
   "metadata": {},
   "source": [
    "#### Q1) FIFA데이터에서 각 선수의 키는 Heghit변수에 피트와 인치로 입력되어 있습니다. \n",
    "#### 이를 cm로 변환하여 새로운 변수 Height_cm을 생성하시오. \n",
    "#### ( “ ' ” 앞의 숫자는 피트이며, “ ' ” 뒤의 숫자는 인치, 1피트 = 30cm, 1인치 = 2.5cm)"
   ]
  },
  {
   "cell_type": "code",
   "execution_count": 307,
   "metadata": {},
   "outputs": [],
   "source": [
    "import pandas as pd\n",
    "import numpy as np\n",
    "import scipy.stats as stats\n",
    "import warnings\n",
    "warnings.filterwarnings('ignore')\n",
    "from statsmodels.formula.api import ols\n",
    "from statsmodels.stats.anova import anova_lm\n",
    "from statsmodels.stats.multicomp import pairwise_tukeyhsd\n",
    "import statsmodels.api as sm\n",
    "import time"
   ]
  },
  {
   "cell_type": "code",
   "execution_count": 308,
   "metadata": {},
   "outputs": [],
   "source": [
    "fifa = pd.read_csv(\"C:/Users/kcisa/Desktop/ADP실기/모의고사 1회/FIFA.csv\", encoding = 'cp949')"
   ]
  },
  {
   "cell_type": "code",
   "execution_count": 309,
   "metadata": {},
   "outputs": [
    {
     "data": {
      "text/html": [
       "<div>\n",
       "<style scoped>\n",
       "    .dataframe tbody tr th:only-of-type {\n",
       "        vertical-align: middle;\n",
       "    }\n",
       "\n",
       "    .dataframe tbody tr th {\n",
       "        vertical-align: top;\n",
       "    }\n",
       "\n",
       "    .dataframe thead th {\n",
       "        text-align: right;\n",
       "    }\n",
       "</style>\n",
       "<table border=\"1\" class=\"dataframe\">\n",
       "  <thead>\n",
       "    <tr style=\"text-align: right;\">\n",
       "      <th></th>\n",
       "      <th>ID</th>\n",
       "      <th>Name</th>\n",
       "      <th>Age</th>\n",
       "      <th>Nationality</th>\n",
       "      <th>Overall</th>\n",
       "      <th>Club</th>\n",
       "      <th>Preferred_Foot</th>\n",
       "      <th>Work_Rate</th>\n",
       "      <th>Position</th>\n",
       "      <th>Jersey_Number</th>\n",
       "      <th>Contract_Valid_Until</th>\n",
       "      <th>Height</th>\n",
       "      <th>Weight_lb</th>\n",
       "      <th>Release_Clause</th>\n",
       "      <th>Value</th>\n",
       "      <th>Wage</th>\n",
       "    </tr>\n",
       "  </thead>\n",
       "  <tbody>\n",
       "    <tr>\n",
       "      <th>0</th>\n",
       "      <td>158023</td>\n",
       "      <td>L. Messi</td>\n",
       "      <td>31</td>\n",
       "      <td>Argentina</td>\n",
       "      <td>94</td>\n",
       "      <td>FC Barcelona</td>\n",
       "      <td>Left</td>\n",
       "      <td>Medium/ Medium</td>\n",
       "      <td>RF</td>\n",
       "      <td>10</td>\n",
       "      <td>2021</td>\n",
       "      <td>5'7</td>\n",
       "      <td>159</td>\n",
       "      <td>226500</td>\n",
       "      <td>110500</td>\n",
       "      <td>565</td>\n",
       "    </tr>\n",
       "    <tr>\n",
       "      <th>1</th>\n",
       "      <td>20801</td>\n",
       "      <td>Cristiano Ronaldo</td>\n",
       "      <td>33</td>\n",
       "      <td>Portugal</td>\n",
       "      <td>94</td>\n",
       "      <td>Juventus</td>\n",
       "      <td>Right</td>\n",
       "      <td>High/ Low</td>\n",
       "      <td>ST</td>\n",
       "      <td>7</td>\n",
       "      <td>2022</td>\n",
       "      <td>6'2</td>\n",
       "      <td>183</td>\n",
       "      <td>127100</td>\n",
       "      <td>77000</td>\n",
       "      <td>405</td>\n",
       "    </tr>\n",
       "    <tr>\n",
       "      <th>2</th>\n",
       "      <td>190871</td>\n",
       "      <td>Neymar Jr</td>\n",
       "      <td>26</td>\n",
       "      <td>Brazil</td>\n",
       "      <td>92</td>\n",
       "      <td>Paris Saint-Germain</td>\n",
       "      <td>Right</td>\n",
       "      <td>High/ Medium</td>\n",
       "      <td>LW</td>\n",
       "      <td>10</td>\n",
       "      <td>2022</td>\n",
       "      <td>5'9</td>\n",
       "      <td>150</td>\n",
       "      <td>228100</td>\n",
       "      <td>118500</td>\n",
       "      <td>290</td>\n",
       "    </tr>\n",
       "    <tr>\n",
       "      <th>3</th>\n",
       "      <td>193080</td>\n",
       "      <td>De Gea</td>\n",
       "      <td>27</td>\n",
       "      <td>Spain</td>\n",
       "      <td>91</td>\n",
       "      <td>Manchester United</td>\n",
       "      <td>Right</td>\n",
       "      <td>Medium/ Medium</td>\n",
       "      <td>GK</td>\n",
       "      <td>1</td>\n",
       "      <td>2020</td>\n",
       "      <td>6'4</td>\n",
       "      <td>168</td>\n",
       "      <td>138600</td>\n",
       "      <td>72000</td>\n",
       "      <td>260</td>\n",
       "    </tr>\n",
       "    <tr>\n",
       "      <th>4</th>\n",
       "      <td>192985</td>\n",
       "      <td>K. De Bruyne</td>\n",
       "      <td>27</td>\n",
       "      <td>Belgium</td>\n",
       "      <td>91</td>\n",
       "      <td>Manchester City</td>\n",
       "      <td>Right</td>\n",
       "      <td>High/ High</td>\n",
       "      <td>RCM</td>\n",
       "      <td>7</td>\n",
       "      <td>2023</td>\n",
       "      <td>5'11</td>\n",
       "      <td>154</td>\n",
       "      <td>196400</td>\n",
       "      <td>102000</td>\n",
       "      <td>355</td>\n",
       "    </tr>\n",
       "  </tbody>\n",
       "</table>\n",
       "</div>"
      ],
      "text/plain": [
       "       ID               Name  Age Nationality  Overall                 Club  \\\n",
       "0  158023           L. Messi   31   Argentina       94         FC Barcelona   \n",
       "1   20801  Cristiano Ronaldo   33    Portugal       94             Juventus   \n",
       "2  190871          Neymar Jr   26      Brazil       92  Paris Saint-Germain   \n",
       "3  193080             De Gea   27       Spain       91    Manchester United   \n",
       "4  192985       K. De Bruyne   27     Belgium       91      Manchester City   \n",
       "\n",
       "  Preferred_Foot       Work_Rate Position  Jersey_Number  \\\n",
       "0           Left  Medium/ Medium       RF             10   \n",
       "1          Right       High/ Low       ST              7   \n",
       "2          Right    High/ Medium       LW             10   \n",
       "3          Right  Medium/ Medium       GK              1   \n",
       "4          Right      High/ High      RCM              7   \n",
       "\n",
       "   Contract_Valid_Until Height  Weight_lb  Release_Clause   Value  Wage  \n",
       "0                  2021    5'7        159          226500  110500   565  \n",
       "1                  2022    6'2        183          127100   77000   405  \n",
       "2                  2022    5'9        150          228100  118500   290  \n",
       "3                  2020    6'4        168          138600   72000   260  \n",
       "4                  2023   5'11        154          196400  102000   355  "
      ]
     },
     "execution_count": 309,
     "metadata": {},
     "output_type": "execute_result"
    }
   ],
   "source": [
    "fifa.head()"
   ]
  },
  {
   "cell_type": "code",
   "execution_count": 310,
   "metadata": {},
   "outputs": [
    {
     "name": "stdout",
     "output_type": "stream",
     "text": [
      "<class 'pandas.core.frame.DataFrame'>\n",
      "RangeIndex: 16642 entries, 0 to 16641\n",
      "Data columns (total 16 columns):\n",
      " #   Column                Non-Null Count  Dtype \n",
      "---  ------                --------------  ----- \n",
      " 0   ID                    16642 non-null  int64 \n",
      " 1   Name                  16642 non-null  object\n",
      " 2   Age                   16642 non-null  int64 \n",
      " 3   Nationality           16642 non-null  object\n",
      " 4   Overall               16642 non-null  int64 \n",
      " 5   Club                  16642 non-null  object\n",
      " 6   Preferred_Foot        16642 non-null  object\n",
      " 7   Work_Rate             16642 non-null  object\n",
      " 8   Position              16642 non-null  object\n",
      " 9   Jersey_Number         16642 non-null  int64 \n",
      " 10  Contract_Valid_Until  16642 non-null  int64 \n",
      " 11  Height                16642 non-null  object\n",
      " 12  Weight_lb             16642 non-null  int64 \n",
      " 13  Release_Clause        16642 non-null  int64 \n",
      " 14  Value                 16642 non-null  int64 \n",
      " 15  Wage                  16642 non-null  int64 \n",
      "dtypes: int64(9), object(7)\n",
      "memory usage: 2.0+ MB\n"
     ]
    }
   ],
   "source": [
    "fifa.info()"
   ]
  },
  {
   "cell_type": "code",
   "execution_count": 311,
   "metadata": {},
   "outputs": [],
   "source": [
    "fifa['Height_cm'] = fifa.Height.str.split(\"'\").str[0].astype('int') * 30 + fifa.Height.str.split(\"'\").str[1].astype('int') * 2.5"
   ]
  },
  {
   "cell_type": "markdown",
   "metadata": {},
   "source": [
    "'를 기준으로 split한 후 앞 문자를 숫자로 바꾸어 30을 곱하고 뒷문자를 숫자로 바꾸고 2.5를 곱한 후 두 수를 더한다.\n",
    "***\n",
    "#### Q2) 포지션을 의미하는 Position변수를 아래 표를 참고하여 “Forward”, “Midfielder”, \n",
    "####      “Defender”, “GoalKeeper”로 재범주화하고, factor형으로 변환하여 Position_Class \n",
    "####       라는 변수를 생성하고 저장하시오."
   ]
  },
  {
   "cell_type": "code",
   "execution_count": 312,
   "metadata": {},
   "outputs": [],
   "source": [
    "def pos_cat(x) :\n",
    "    if x in [\"LS\", \"ST\", \"RS\", \"LW\", \"LF\", \"CF\", \"RF\", \"RW\"] :\n",
    "        return 'Forward'\n",
    "    elif x in [\"LAM\", \"CAM\", \"RAM\", \"LM\", \"LCM\", \"CM\", \"RCM\", \"RM\"] :\n",
    "        return 'Midfielder'\n",
    "    elif x in [\"LWB\", \"LDM\", \"CDM\", \"RDM\", \"RWB\", \"LB\", \"LCB\", \"CB\", \"RCB\", \"RB\"] :\n",
    "        return 'Defender'\n",
    "    else :\n",
    "        return 'GoalKeeper'"
   ]
  },
  {
   "cell_type": "code",
   "execution_count": 313,
   "metadata": {},
   "outputs": [],
   "source": [
    "fifa['Position_Class'] = fifa.Position.apply(pos_cat)\n",
    "fifa.Position_Class = fifa.Position_Class.astype('category') # factor형으로 변경"
   ]
  },
  {
   "cell_type": "markdown",
   "metadata": {},
   "source": [
    "***\n",
    "#### Q3) 새로 생성한 Position_Class 변수의 각 범주에 따른 Value(선수의 시장가치)의 \n",
    "####      평균값의 차이를 비교하는 일원배치 분산분석을 수행하고 결과를 해석하시오. \n",
    "####      그리고 평균값의 차이가 통계적으로 유의하다면 사후검정을 수행하고 설명하시오."
   ]
  },
  {
   "cell_type": "code",
   "execution_count": 314,
   "metadata": {},
   "outputs": [
    {
     "data": {
      "text/html": [
       "<div>\n",
       "<style scoped>\n",
       "    .dataframe tbody tr th:only-of-type {\n",
       "        vertical-align: middle;\n",
       "    }\n",
       "\n",
       "    .dataframe tbody tr th {\n",
       "        vertical-align: top;\n",
       "    }\n",
       "\n",
       "    .dataframe thead th {\n",
       "        text-align: right;\n",
       "    }\n",
       "</style>\n",
       "<table border=\"1\" class=\"dataframe\">\n",
       "  <thead>\n",
       "    <tr style=\"text-align: right;\">\n",
       "      <th></th>\n",
       "      <th>df</th>\n",
       "      <th>sum_sq</th>\n",
       "      <th>mean_sq</th>\n",
       "      <th>F</th>\n",
       "      <th>PR(&gt;F)</th>\n",
       "    </tr>\n",
       "  </thead>\n",
       "  <tbody>\n",
       "    <tr>\n",
       "      <th>C(Position_Class)</th>\n",
       "      <td>3.0</td>\n",
       "      <td>4.081181e+09</td>\n",
       "      <td>1.360394e+09</td>\n",
       "      <td>41.873906</td>\n",
       "      <td>5.988667e-27</td>\n",
       "    </tr>\n",
       "    <tr>\n",
       "      <th>Residual</th>\n",
       "      <td>16638.0</td>\n",
       "      <td>5.405330e+11</td>\n",
       "      <td>3.248786e+07</td>\n",
       "      <td>NaN</td>\n",
       "      <td>NaN</td>\n",
       "    </tr>\n",
       "  </tbody>\n",
       "</table>\n",
       "</div>"
      ],
      "text/plain": [
       "                        df        sum_sq       mean_sq          F  \\\n",
       "C(Position_Class)      3.0  4.081181e+09  1.360394e+09  41.873906   \n",
       "Residual           16638.0  5.405330e+11  3.248786e+07        NaN   \n",
       "\n",
       "                         PR(>F)  \n",
       "C(Position_Class)  5.988667e-27  \n",
       "Residual                    NaN  "
      ]
     },
     "execution_count": 314,
     "metadata": {},
     "output_type": "execute_result"
    }
   ],
   "source": [
    "model = ols('Value ~ C(Position_Class)', fifa).fit()\n",
    "anova_lm(model)"
   ]
  },
  {
   "cell_type": "markdown",
   "metadata": {},
   "source": [
    "H0 : 모든 포지션에 대해 value의 평균은 같다.<br>\n",
    "H1 : 적어도 하나의 포지션의 values의 평균은 차이가 있다.<br>\n",
    "SSA의 자유도는 3(범주수 - 1)이고 SST의 자유도는 16338(관측치 개수 - 범주 수)임을 알 수 있다. 또한 p-value가 0.05 보다 작으므로 귀무가설을 기각한다. 따라서 각 포지션별 value의 평균은 차이가 있다고 볼 수 있다. "
   ]
  },
  {
   "cell_type": "code",
   "execution_count": 315,
   "metadata": {},
   "outputs": [
    {
     "name": "stdout",
     "output_type": "stream",
     "text": [
      "        Multiple Comparison of Means - Tukey HSD, FWER=0.05         \n",
      "====================================================================\n",
      "  group1     group2    meandiff  p-adj    lower      upper    reject\n",
      "--------------------------------------------------------------------\n",
      "  Defender    Forward    930.373  0.001   610.7429  1250.0031   True\n",
      "  Defender GoalKeeper  -507.3848 0.0034  -887.6261  -127.1436   True\n",
      "  Defender Midfielder   760.8787  0.001   486.7123   1035.045   True\n",
      "   Forward GoalKeeper -1437.7579  0.001 -1865.9234 -1009.5923   True\n",
      "   Forward Midfielder  -169.4944 0.5609  -506.9991   168.0104  False\n",
      "GoalKeeper Midfielder  1268.2635  0.001   872.8782  1663.6488   True\n",
      "--------------------------------------------------------------------\n"
     ]
    }
   ],
   "source": [
    "posthoc = pairwise_tukeyhsd(fifa['Value'], fifa['Position_Class'], alpha=0.05)\n",
    "print(posthoc)"
   ]
  },
  {
   "cell_type": "markdown",
   "metadata": {},
   "source": [
    "사후분석에서는 각 집단별간의 차이가 있는지 살펴본다. 우선 'defender'와 'forward'의 경우는 p-value가 0.05보다 작기 때문에 두 포지션 간의 value 평균 차이는 존재한다고 볼 수 있다. <br>\n",
    "또한 defender와 goalkeeper도 p-value가 0.05 보다 작기 때문에 두 포지션 간의 value 평균 차이는 존재한다고 볼 수 있다. <br>\n",
    "defender와 midfielder / forward와 goalkeeper / goalkeeper와 midfielder의 p-value도 모두 0.05 보다 작기 때문에 두 포지션 간의 value 평균 차이는 존재한다고 볼 수 있다. <br>\n",
    "하지만 forward와 midfielder의 경우 p-value가 0.05 보다 크기 때문에 두 포지션 간의 value 평균 차이는 존재하지 않는다고 볼 수 있다."
   ]
  },
  {
   "cell_type": "markdown",
   "metadata": {},
   "source": [
    "***\n",
    "#### Q4) Preferred Foot(주로 사용하는 발)과 Position_Class(재범주화 된 포지션)변수에 \n",
    "####      따라 Value(이적료)의 차이가 있는지를 알아보기 위해 이원배치분산분석을 \n",
    "####      수행하고 결과를 해석하시오."
   ]
  },
  {
   "cell_type": "code",
   "execution_count": 316,
   "metadata": {},
   "outputs": [],
   "source": [
    "model2 = ols('Value ~ C(Position_Class) * Preferred_Foot', fifa).fit()"
   ]
  },
  {
   "cell_type": "code",
   "execution_count": 317,
   "metadata": {},
   "outputs": [
    {
     "data": {
      "text/html": [
       "<div>\n",
       "<style scoped>\n",
       "    .dataframe tbody tr th:only-of-type {\n",
       "        vertical-align: middle;\n",
       "    }\n",
       "\n",
       "    .dataframe tbody tr th {\n",
       "        vertical-align: top;\n",
       "    }\n",
       "\n",
       "    .dataframe thead th {\n",
       "        text-align: right;\n",
       "    }\n",
       "</style>\n",
       "<table border=\"1\" class=\"dataframe\">\n",
       "  <thead>\n",
       "    <tr style=\"text-align: right;\">\n",
       "      <th></th>\n",
       "      <th>df</th>\n",
       "      <th>sum_sq</th>\n",
       "      <th>mean_sq</th>\n",
       "      <th>F</th>\n",
       "      <th>PR(&gt;F)</th>\n",
       "    </tr>\n",
       "  </thead>\n",
       "  <tbody>\n",
       "    <tr>\n",
       "      <th>C(Position_Class)</th>\n",
       "      <td>3.0</td>\n",
       "      <td>4.081181e+09</td>\n",
       "      <td>1.360394e+09</td>\n",
       "      <td>41.912369</td>\n",
       "      <td>5.658225e-27</td>\n",
       "    </tr>\n",
       "    <tr>\n",
       "      <th>Preferred_Foot</th>\n",
       "      <td>1.0</td>\n",
       "      <td>1.522715e+08</td>\n",
       "      <td>1.522715e+08</td>\n",
       "      <td>4.691332</td>\n",
       "      <td>3.032930e-02</td>\n",
       "    </tr>\n",
       "    <tr>\n",
       "      <th>C(Position_Class):Preferred_Foot</th>\n",
       "      <td>3.0</td>\n",
       "      <td>4.736156e+08</td>\n",
       "      <td>1.578719e+08</td>\n",
       "      <td>4.863874</td>\n",
       "      <td>2.207249e-03</td>\n",
       "    </tr>\n",
       "    <tr>\n",
       "      <th>Residual</th>\n",
       "      <td>16634.0</td>\n",
       "      <td>5.399071e+11</td>\n",
       "      <td>3.245805e+07</td>\n",
       "      <td>NaN</td>\n",
       "      <td>NaN</td>\n",
       "    </tr>\n",
       "  </tbody>\n",
       "</table>\n",
       "</div>"
      ],
      "text/plain": [
       "                                       df        sum_sq       mean_sq  \\\n",
       "C(Position_Class)                     3.0  4.081181e+09  1.360394e+09   \n",
       "Preferred_Foot                        1.0  1.522715e+08  1.522715e+08   \n",
       "C(Position_Class):Preferred_Foot      3.0  4.736156e+08  1.578719e+08   \n",
       "Residual                          16634.0  5.399071e+11  3.245805e+07   \n",
       "\n",
       "                                          F        PR(>F)  \n",
       "C(Position_Class)                 41.912369  5.658225e-27  \n",
       "Preferred_Foot                     4.691332  3.032930e-02  \n",
       "C(Position_Class):Preferred_Foot   4.863874  2.207249e-03  \n",
       "Residual                                NaN           NaN  "
      ]
     },
     "execution_count": 317,
     "metadata": {},
     "output_type": "execute_result"
    }
   ],
   "source": [
    "anova_lm(model2)"
   ]
  },
  {
   "cell_type": "markdown",
   "metadata": {},
   "source": [
    "먼저 position_class는 p-value가 0.05 보다 작기 때문에 귀무가설을 기각한다. 즉 '선수 포지션에 따라 value의 차이가 존재한다'고 볼 수 있다. <br>\n",
    "preferred_foot의 경우도 p-value가 0.05 보다 작기 때문에 귀무가설을 기각하고 '주발에 따라 value의 차이가 존재한다'고 볼 수 있다.<br>\n",
    "마지막으로 포지션과 주발의 교호작용에서도 p-value가 0.05 보다 작기 때문에 귀무가설을 기각하고 '주발과 포지션간의 상호작용의 효과가 있다'고 볼 수 있다.\n",
    "***\n",
    "#### Q5)Age, Overall, Wage, Height_cm, Weight_lb 가 Value에 영향을 미치는지 \n",
    "####     알아보는 회귀분석을 단계적 선택법을 사용하여 수행하고 결과를 해석하시오. "
   ]
  },
  {
   "cell_type": "code",
   "execution_count": 318,
   "metadata": {},
   "outputs": [],
   "source": [
    "X = fifa[['Wage','Age','Overall','Height_cm','Weight_lb']]\n",
    "y = fifa.Value"
   ]
  },
  {
   "cell_type": "code",
   "execution_count": 319,
   "metadata": {
    "scrolled": true
   },
   "outputs": [],
   "source": [
    "X['constant'] = 1"
   ]
  },
  {
   "cell_type": "markdown",
   "metadata": {},
   "source": [
    "* 단계선택법"
   ]
  },
  {
   "cell_type": "code",
   "execution_count": 320,
   "metadata": {
    "scrolled": false
   },
   "outputs": [
    {
     "name": "stdout",
     "output_type": "stream",
     "text": [
      "1번째 탐색\n",
      "Wage 추가 되었을 때 AIC는 312636.7113986248이다.\n",
      "Age 추가 되었을 때 AIC는 335101.9050948277이다.\n",
      "Overall 추가 되었을 때 AIC는 326811.6430766084이다.\n",
      "Height_cm 추가 되었을 때 AIC는 335199.3767194875이다.\n",
      "Weight_lb 추가 되었을 때 AIC는 335166.9800023204이다.\n",
      "추가될 변수는 Wage\n",
      "2번째 탐색\n",
      "Age 추가 전은 312636.7113986248이고 Age추가 되었을 때 AIC는 312462.32321630104\n",
      "Overall 추가 전은 312636.7113986248이고 Overall추가 되었을 때 AIC는 310792.4128532369\n",
      "Height_cm 추가 전은 312636.7113986248이고 Height_cm추가 되었을 때 AIC는 312623.2149041213\n",
      "Weight_lb 추가 전은 312636.7113986248이고 Weight_lb추가 되었을 때 AIC는 312629.2657629237\n",
      "추가될 feature는 Overall\n",
      "3번째 탐색\n",
      "Age 추가 전은 310792.4128532369이고 Age추가 되었을 때 AIC는 309173.1691867521\n",
      "Height_cm 추가 전은 310792.4128532369이고 Height_cm추가 되었을 때 AIC는 310762.78845630656\n",
      "Weight_lb 추가 전은 310792.4128532369이고 Weight_lb추가 되었을 때 AIC는 310700.69694111776\n",
      "추가될 feature는 Age\n",
      "4번째 탐색\n",
      "Height_cm 추가 전은 309173.1691867521이고 Height_cm추가 되었을 때 AIC는 309167.6615284396\n",
      "Weight_lb 추가 전은 309173.1691867521이고 Weight_lb추가 되었을 때 AIC는 309167.8762187488\n",
      "추가될 feature는 Height_cm\n",
      "5번째 탐색\n",
      "Weight_lb 추가 전은 309167.6615284396이고 Weight_lb추가 되었을 때 AIC는 309168.75716840284\n"
     ]
    }
   ],
   "source": [
    "add_feature = ['constant']\n",
    "aic_list = []\n",
    "target_cols = list(X.columns[:-1])\n",
    "i = 0\n",
    "while True :\n",
    "    i += 1\n",
    "    print(f'{i}번째 탐색')\n",
    "    if i == 1 :\n",
    "        before_model = sm.OLS(y, X[['constant']]).fit()\n",
    "        before_aic = model.aic\n",
    "        for c in target_cols :\n",
    "            after_model = sm.OLS(y, X[add_feature + [c]]).fit()\n",
    "            after_aic = after_model.aic\n",
    "            print(f'{c} 추가 되었을 때 AIC는 {after_aic}이다.')\n",
    "            aic_list.append(after_aic)\n",
    "        print(f'추가될 변수는 {target_cols[np.argmin(aic_list)]}')\n",
    "        add_feature.append(target_cols[np.argmin(aic_list)])\n",
    "        del target_cols[np.argmin(aic_list)]\n",
    "    elif i != 1 :\n",
    "        a = []\n",
    "        for c in target_cols :\n",
    "            before_model = sm.OLS(y, X[add_feature]).fit()\n",
    "            before_aic = before_model.aic\n",
    "            \n",
    "            after_model = sm.OLS(y, X[add_feature + [c]]).fit()\n",
    "            after_aic = after_model.aic\n",
    "            \n",
    "            print(f'{c} 추가 전은 {before_aic}이고 {c}추가 되었을 때 AIC는 {after_aic}')\n",
    "            a.append(after_aic)\n",
    "            \n",
    "        if before_aic > np.min(a):\n",
    "            print(f'추가될 feature는 {target_cols[np.argmin(a)]}')\n",
    "            add_feature.append(target_cols[np.argmin(a)])\n",
    "            del target_cols[np.argmin(a)]\n",
    "        else :\n",
    "            break"
   ]
  },
  {
   "cell_type": "code",
   "execution_count": 321,
   "metadata": {
    "scrolled": false
   },
   "outputs": [
    {
     "data": {
      "text/html": [
       "<table class=\"simpletable\">\n",
       "<caption>OLS Regression Results</caption>\n",
       "<tr>\n",
       "  <th>Dep. Variable:</th>          <td>Value</td>      <th>  R-squared:         </th>  <td>   0.791</td>  \n",
       "</tr>\n",
       "<tr>\n",
       "  <th>Model:</th>                   <td>OLS</td>       <th>  Adj. R-squared:    </th>  <td>   0.791</td>  \n",
       "</tr>\n",
       "<tr>\n",
       "  <th>Method:</th>             <td>Least Squares</td>  <th>  F-statistic:       </th>  <td>1.572e+04</td> \n",
       "</tr>\n",
       "<tr>\n",
       "  <th>Date:</th>             <td>Tue, 08 Dec 2020</td> <th>  Prob (F-statistic):</th>   <td>  0.00</td>   \n",
       "</tr>\n",
       "<tr>\n",
       "  <th>Time:</th>                 <td>16:00:05</td>     <th>  Log-Likelihood:    </th> <td>-1.5458e+05</td>\n",
       "</tr>\n",
       "<tr>\n",
       "  <th>No. Observations:</th>      <td> 16642</td>      <th>  AIC:               </th>  <td>3.092e+05</td> \n",
       "</tr>\n",
       "<tr>\n",
       "  <th>Df Residuals:</th>          <td> 16637</td>      <th>  BIC:               </th>  <td>3.092e+05</td> \n",
       "</tr>\n",
       "<tr>\n",
       "  <th>Df Model:</th>              <td>     4</td>      <th>                     </th>      <td> </td>     \n",
       "</tr>\n",
       "<tr>\n",
       "  <th>Covariance Type:</th>      <td>nonrobust</td>    <th>                     </th>      <td> </td>     \n",
       "</tr>\n",
       "</table>\n",
       "<table class=\"simpletable\">\n",
       "<tr>\n",
       "      <td></td>         <th>coef</th>     <th>std err</th>      <th>t</th>      <th>P>|t|</th>  <th>[0.025</th>    <th>0.975]</th>  \n",
       "</tr>\n",
       "<tr>\n",
       "  <th>constant</th>  <td>-8690.8178</td> <td>  588.280</td> <td>  -14.773</td> <td> 0.000</td> <td>-9843.908</td> <td>-7537.727</td>\n",
       "</tr>\n",
       "<tr>\n",
       "  <th>Wage</th>      <td>  184.1837</td> <td>    1.128</td> <td>  163.317</td> <td> 0.000</td> <td>  181.973</td> <td>  186.394</td>\n",
       "</tr>\n",
       "<tr>\n",
       "  <th>Overall</th>   <td>  241.3450</td> <td>    4.002</td> <td>   60.310</td> <td> 0.000</td> <td>  233.501</td> <td>  249.189</td>\n",
       "</tr>\n",
       "<tr>\n",
       "  <th>Age</th>       <td> -202.1603</td> <td>    4.938</td> <td>  -40.936</td> <td> 0.000</td> <td> -211.840</td> <td> -192.480</td>\n",
       "</tr>\n",
       "<tr>\n",
       "  <th>Height_cm</th> <td>   -8.4446</td> <td>    3.082</td> <td>   -2.740</td> <td> 0.006</td> <td>  -14.486</td> <td>   -2.403</td>\n",
       "</tr>\n",
       "</table>\n",
       "<table class=\"simpletable\">\n",
       "<tr>\n",
       "  <th>Omnibus:</th>       <td>17089.038</td> <th>  Durbin-Watson:     </th>  <td>   1.407</td>  \n",
       "</tr>\n",
       "<tr>\n",
       "  <th>Prob(Omnibus):</th>  <td> 0.000</td>   <th>  Jarque-Bera (JB):  </th> <td>3525378.426</td>\n",
       "</tr>\n",
       "<tr>\n",
       "  <th>Skew:</th>           <td> 4.665</td>   <th>  Prob(JB):          </th>  <td>    0.00</td>  \n",
       "</tr>\n",
       "<tr>\n",
       "  <th>Kurtosis:</th>       <td>73.690</td>   <th>  Cond. No.          </th>  <td>5.58e+03</td>  \n",
       "</tr>\n",
       "</table><br/><br/>Warnings:<br/>[1] Standard Errors assume that the covariance matrix of the errors is correctly specified.<br/>[2] The condition number is large, 5.58e+03. This might indicate that there are<br/>strong multicollinearity or other numerical problems."
      ],
      "text/plain": [
       "<class 'statsmodels.iolib.summary.Summary'>\n",
       "\"\"\"\n",
       "                            OLS Regression Results                            \n",
       "==============================================================================\n",
       "Dep. Variable:                  Value   R-squared:                       0.791\n",
       "Model:                            OLS   Adj. R-squared:                  0.791\n",
       "Method:                 Least Squares   F-statistic:                 1.572e+04\n",
       "Date:                Tue, 08 Dec 2020   Prob (F-statistic):               0.00\n",
       "Time:                        16:00:05   Log-Likelihood:            -1.5458e+05\n",
       "No. Observations:               16642   AIC:                         3.092e+05\n",
       "Df Residuals:                   16637   BIC:                         3.092e+05\n",
       "Df Model:                           4                                         \n",
       "Covariance Type:            nonrobust                                         \n",
       "==============================================================================\n",
       "                 coef    std err          t      P>|t|      [0.025      0.975]\n",
       "------------------------------------------------------------------------------\n",
       "constant   -8690.8178    588.280    -14.773      0.000   -9843.908   -7537.727\n",
       "Wage         184.1837      1.128    163.317      0.000     181.973     186.394\n",
       "Overall      241.3450      4.002     60.310      0.000     233.501     249.189\n",
       "Age         -202.1603      4.938    -40.936      0.000    -211.840    -192.480\n",
       "Height_cm     -8.4446      3.082     -2.740      0.006     -14.486      -2.403\n",
       "==============================================================================\n",
       "Omnibus:                    17089.038   Durbin-Watson:                   1.407\n",
       "Prob(Omnibus):                  0.000   Jarque-Bera (JB):          3525378.426\n",
       "Skew:                           4.665   Prob(JB):                         0.00\n",
       "Kurtosis:                      73.690   Cond. No.                     5.58e+03\n",
       "==============================================================================\n",
       "\n",
       "Warnings:\n",
       "[1] Standard Errors assume that the covariance matrix of the errors is correctly specified.\n",
       "[2] The condition number is large, 5.58e+03. This might indicate that there are\n",
       "strong multicollinearity or other numerical problems.\n",
       "\"\"\""
      ]
     },
     "execution_count": 321,
     "metadata": {},
     "output_type": "execute_result"
    }
   ],
   "source": [
    "sm.OLS(y, X[add_feature]).fit().summary()"
   ]
  },
  {
   "cell_type": "markdown",
   "metadata": {},
   "source": [
    "단계선택법 수행 결과 상수항, Wage, Age, Overall, Height_cm 변수들의 p-value가 0에 근사하여 통계적으로 유의한것으로 나타났다. 해당 모형의 결정계수는 0.791이고 수정된 결정계수 또한 0.791로 나타났다. 모형 자체에 대한 통계적 유의성은 F통계량을 살펴본 결과 p-value가 0.05 보다 작으므로 유의수준 0.05 하에서 통계적으로 모형이 유의한 것을 의미한다.<br>\n",
    "최종 회귀식은 y = -8690.8178 + 184.1837 * Wage + 241.345 * Overall - 202.1603 * Age - 8.446 * Height_cm이다."
   ]
  }
 ],
 "metadata": {
  "kernelspec": {
   "display_name": "Python 3",
   "language": "python",
   "name": "python3"
  },
  "language_info": {
   "codemirror_mode": {
    "name": "ipython",
    "version": 3
   },
   "file_extension": ".py",
   "mimetype": "text/x-python",
   "name": "python",
   "nbconvert_exporter": "python",
   "pygments_lexer": "ipython3",
   "version": "3.8.3"
  }
 },
 "nbformat": 4,
 "nbformat_minor": 4
}
