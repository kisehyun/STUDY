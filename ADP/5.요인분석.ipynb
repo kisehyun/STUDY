{
 "cells": [
  {
   "cell_type": "markdown",
   "metadata": {},
   "source": [
    "# 요인분석\n",
    "\n",
    "요인분석은 많은 변수들 간 관련성 이해와 유용한 가설-산출 도구로 이용할 수 있다. 두 개의 접근 사이에 많은 피상적 공통점이 있지만 중요한 차이점도 아울러 존재한다.\n",
    "\n",
    "요인분석은 관찰 변수의 집합들 간의 상관관계를 자료의 근처에 존재하는 소수의 근본적인 비관찰적 변수를 드러냄으로써 설명하고자 한다. 변수의 수를 줄여 데이터 해석에 도움을 준다. 모든 변수에서 최대 공분산을 추출하여 공통 점수에 넣는다.\n",
    "\n",
    "#### 탐색적 요인 분석의 목적\n",
    "- 자료의 요약 : 변수의 수 보다 적은 소수의 공통된 변인으로 묶는다.\n",
    "- 측정도구 타당성 검정 : 변인들이 동일한 요인으로 묶이는지를 확인한다.\n",
    "- 변인구조 파악 : 변수들의 상호관계를 파악한다.\n",
    "- 불필요한 변인 제거 : 중요도나 설명력이 낮은 변수를 제거한다.\n",
    "- 회귀분석이나 판별분석의 설명변수 선택\n",
    "\n",
    "\n",
    "모델은 다음과 같이 표현한다.<br><br>\n",
    "\n",
    "$X_{i} = \\alpha_{1}F_{1}+\\alpha_{2}F_{2}+..+\\alpha_{p}F_{p}+U_{i}$<br>\n",
    "    \n",
    "    \n",
    "    \n",
    "여기서 $X_{i}$는 $i$번째 관찰 변수($i$ = 1...$k$) $F_{j}$는 공통 요인이고($j$ = 1...$p$), p < k이다. $U_{i}$는 $X_{i}$ 고유의 부분(공통 요인에 의해 설명되지 x)이다. $\\alpha_{i}$는 각 요인이 관찰변수들의 결합에 기여하는 정도를 말한다. \n",
    "\n",
    "\n",
    "### 요인이란?\n",
    "- 가설적이고 비관찰적인 변수들\n",
    "- 관측 된 변수 간의 연관성을 설명하는 잠재 변수\n",
    "- 최대 요인수는 관찰된 변수의 수와 같다.\n",
    "- 모든 요인은 관찰 된 변수의 특정 분산을 설명한다.\n",
    "\n",
    "### 고유값이란?\n",
    "- 전체 분산에서 각 요인을 설명하는 분산으로 특징적인 뿌리라고도 한다.\n",
    "              \n",
    "### 커뮤니티란?\n",
    "- 공통성은 각 변수에 대한 제곱 적재의 합으로 공통 분산을 나타낸다. \n",
    "- 범위는 0 ~ 1이며 1에 가까운 값은 더 많은 분산을 나타낸다.\n",
    "                                                                       \n",
    "요인분석은 새 변수들이 기본적으로 대등한 관계를 갖고 '어떤 것이 더 중요하다'라는 의미는 요인분석에는 없다. 단 분류 및 예측에 그 다음 단계로 사용된다면 그 때 중요성의 의미가 부여된다.\n",
    "\n",
    "가정 :\n",
    "\n",
    "1. 등간척도로 구성된다.\n",
    "2. 정규분포 형태를 띄어야 한다.\n",
    "3. 관측치가 상호독립적이며 분산이 동일해야 한다.\n",
    "4. 모상관행렬이 단위 행렬이라는 가설이 기각되어야 한다.(KMO / Bartlet)\n",
    "5. 최초 요인 추출 단계에서 얻은 고유치를 팔꿈치 그림으로 표현했을 때 한군데 이상 꺾여야 한다.\n",
    "6. 변수간에 높은 상관관계가 있어야 한다.(상관관계가 높은 변수들끼리 그룹화 하는것이기 때문)\n",
    "\n",
    "요인 분석의 주요 목적은 관찰 된 변수의 수를 줄이고 관찰 할 수 없는 변수를 찾는 것이다. 이러한 관찰되지 않은 변수는 시장 조사자가 설문 조사를 완료하는 데 도움이된다. 관찰 된 변수를 관찰되지 않은 변수로 변환하는 것은 두 단계로 수행 할 수 있다.\n",
    "                                                                       \n",
    "### 요인회전 종류\n",
    "1. 직교회전\n",
    "- 회전된 요인들이 서로 상관되지 않도록 제약\n",
    "- varimax : 한 공통요인에 대해 각 변수가 가지는 요인적재값 제곱의 분산이 최대화 되도록 변환\n",
    "- quartimax : 한 변수가 각 공통요인에서 차지하는 비중의 제곱에 대해 분산을 최대화하도록 변환\n",
    "2. 사각회전\n",
    "- 상관된 요인들을 허용\n",
    "- oblinmin : 요인들 사이의 상관성 정도를 제어하는데 사용되는 모수를 통해 단순한 구조를 찾음\n",
    "- promax : varimax 회전에 의한 적재값을 어떤 승수로 올리는 방법\n",
    "\n",
    "#### 어떤 회전이 적절한가?\n",
    "- 보편적인 답은 없지만 데이터에 가장 잘 맞는 결과를 얻는데 관심이 있다면 사각회전\n",
    "- 결과를 일반화 하는데 더 관심이 있다면 직교회전"
   ]
  },
  {
   "cell_type": "code",
   "execution_count": 1,
   "metadata": {},
   "outputs": [],
   "source": [
    "import pandas as pd\n",
    "import warnings\n",
    "warnings.filterwarnings('ignore')"
   ]
  },
  {
   "cell_type": "code",
   "execution_count": 2,
   "metadata": {},
   "outputs": [],
   "source": [
    "data = pd.read_csv('bfi.csv').iloc[:, 1:].dropna()"
   ]
  },
  {
   "cell_type": "code",
   "execution_count": 3,
   "metadata": {},
   "outputs": [
    {
     "data": {
      "text/html": [
       "<div>\n",
       "<style scoped>\n",
       "    .dataframe tbody tr th:only-of-type {\n",
       "        vertical-align: middle;\n",
       "    }\n",
       "\n",
       "    .dataframe tbody tr th {\n",
       "        vertical-align: top;\n",
       "    }\n",
       "\n",
       "    .dataframe thead th {\n",
       "        text-align: right;\n",
       "    }\n",
       "</style>\n",
       "<table border=\"1\" class=\"dataframe\">\n",
       "  <thead>\n",
       "    <tr style=\"text-align: right;\">\n",
       "      <th></th>\n",
       "      <th>A1</th>\n",
       "      <th>A2</th>\n",
       "      <th>A3</th>\n",
       "      <th>A4</th>\n",
       "      <th>A5</th>\n",
       "      <th>C1</th>\n",
       "      <th>C2</th>\n",
       "      <th>C3</th>\n",
       "      <th>C4</th>\n",
       "      <th>C5</th>\n",
       "      <th>...</th>\n",
       "      <th>N4</th>\n",
       "      <th>N5</th>\n",
       "      <th>O1</th>\n",
       "      <th>O2</th>\n",
       "      <th>O3</th>\n",
       "      <th>O4</th>\n",
       "      <th>O5</th>\n",
       "      <th>gender</th>\n",
       "      <th>education</th>\n",
       "      <th>age</th>\n",
       "    </tr>\n",
       "  </thead>\n",
       "  <tbody>\n",
       "    <tr>\n",
       "      <th>5</th>\n",
       "      <td>6.0</td>\n",
       "      <td>6.0</td>\n",
       "      <td>5.0</td>\n",
       "      <td>6.0</td>\n",
       "      <td>5.0</td>\n",
       "      <td>6.0</td>\n",
       "      <td>6.0</td>\n",
       "      <td>6.0</td>\n",
       "      <td>1.0</td>\n",
       "      <td>3.0</td>\n",
       "      <td>...</td>\n",
       "      <td>2.0</td>\n",
       "      <td>3.0</td>\n",
       "      <td>4.0</td>\n",
       "      <td>3</td>\n",
       "      <td>5.0</td>\n",
       "      <td>6.0</td>\n",
       "      <td>1.0</td>\n",
       "      <td>2</td>\n",
       "      <td>3.0</td>\n",
       "      <td>21</td>\n",
       "    </tr>\n",
       "    <tr>\n",
       "      <th>7</th>\n",
       "      <td>4.0</td>\n",
       "      <td>3.0</td>\n",
       "      <td>1.0</td>\n",
       "      <td>5.0</td>\n",
       "      <td>1.0</td>\n",
       "      <td>3.0</td>\n",
       "      <td>2.0</td>\n",
       "      <td>4.0</td>\n",
       "      <td>2.0</td>\n",
       "      <td>4.0</td>\n",
       "      <td>...</td>\n",
       "      <td>6.0</td>\n",
       "      <td>4.0</td>\n",
       "      <td>3.0</td>\n",
       "      <td>2</td>\n",
       "      <td>4.0</td>\n",
       "      <td>5.0</td>\n",
       "      <td>3.0</td>\n",
       "      <td>1</td>\n",
       "      <td>2.0</td>\n",
       "      <td>19</td>\n",
       "    </tr>\n",
       "    <tr>\n",
       "      <th>10</th>\n",
       "      <td>4.0</td>\n",
       "      <td>4.0</td>\n",
       "      <td>5.0</td>\n",
       "      <td>6.0</td>\n",
       "      <td>5.0</td>\n",
       "      <td>4.0</td>\n",
       "      <td>3.0</td>\n",
       "      <td>5.0</td>\n",
       "      <td>3.0</td>\n",
       "      <td>2.0</td>\n",
       "      <td>...</td>\n",
       "      <td>2.0</td>\n",
       "      <td>3.0</td>\n",
       "      <td>5.0</td>\n",
       "      <td>3</td>\n",
       "      <td>5.0</td>\n",
       "      <td>6.0</td>\n",
       "      <td>3.0</td>\n",
       "      <td>1</td>\n",
       "      <td>1.0</td>\n",
       "      <td>21</td>\n",
       "    </tr>\n",
       "    <tr>\n",
       "      <th>14</th>\n",
       "      <td>4.0</td>\n",
       "      <td>5.0</td>\n",
       "      <td>2.0</td>\n",
       "      <td>2.0</td>\n",
       "      <td>1.0</td>\n",
       "      <td>5.0</td>\n",
       "      <td>5.0</td>\n",
       "      <td>5.0</td>\n",
       "      <td>2.0</td>\n",
       "      <td>2.0</td>\n",
       "      <td>...</td>\n",
       "      <td>2.0</td>\n",
       "      <td>3.0</td>\n",
       "      <td>5.0</td>\n",
       "      <td>2</td>\n",
       "      <td>5.0</td>\n",
       "      <td>5.0</td>\n",
       "      <td>5.0</td>\n",
       "      <td>1</td>\n",
       "      <td>1.0</td>\n",
       "      <td>17</td>\n",
       "    </tr>\n",
       "    <tr>\n",
       "      <th>22</th>\n",
       "      <td>1.0</td>\n",
       "      <td>5.0</td>\n",
       "      <td>6.0</td>\n",
       "      <td>5.0</td>\n",
       "      <td>6.0</td>\n",
       "      <td>4.0</td>\n",
       "      <td>3.0</td>\n",
       "      <td>2.0</td>\n",
       "      <td>4.0</td>\n",
       "      <td>5.0</td>\n",
       "      <td>...</td>\n",
       "      <td>2.0</td>\n",
       "      <td>2.0</td>\n",
       "      <td>6.0</td>\n",
       "      <td>1</td>\n",
       "      <td>5.0</td>\n",
       "      <td>5.0</td>\n",
       "      <td>2.0</td>\n",
       "      <td>1</td>\n",
       "      <td>5.0</td>\n",
       "      <td>68</td>\n",
       "    </tr>\n",
       "  </tbody>\n",
       "</table>\n",
       "<p>5 rows × 28 columns</p>\n",
       "</div>"
      ],
      "text/plain": [
       "     A1   A2   A3   A4   A5   C1   C2   C3   C4   C5  ...   N4   N5   O1  O2  \\\n",
       "5   6.0  6.0  5.0  6.0  5.0  6.0  6.0  6.0  1.0  3.0  ...  2.0  3.0  4.0   3   \n",
       "7   4.0  3.0  1.0  5.0  1.0  3.0  2.0  4.0  2.0  4.0  ...  6.0  4.0  3.0   2   \n",
       "10  4.0  4.0  5.0  6.0  5.0  4.0  3.0  5.0  3.0  2.0  ...  2.0  3.0  5.0   3   \n",
       "14  4.0  5.0  2.0  2.0  1.0  5.0  5.0  5.0  2.0  2.0  ...  2.0  3.0  5.0   2   \n",
       "22  1.0  5.0  6.0  5.0  6.0  4.0  3.0  2.0  4.0  5.0  ...  2.0  2.0  6.0   1   \n",
       "\n",
       "     O3   O4   O5  gender  education  age  \n",
       "5   5.0  6.0  1.0       2        3.0   21  \n",
       "7   4.0  5.0  3.0       1        2.0   19  \n",
       "10  5.0  6.0  3.0       1        1.0   21  \n",
       "14  5.0  5.0  5.0       1        1.0   17  \n",
       "22  5.0  5.0  2.0       1        5.0   68  \n",
       "\n",
       "[5 rows x 28 columns]"
      ]
     },
     "execution_count": 3,
     "metadata": {},
     "output_type": "execute_result"
    }
   ],
   "source": [
    "data.head()"
   ]
  },
  {
   "cell_type": "code",
   "execution_count": 4,
   "metadata": {},
   "outputs": [],
   "source": [
    "data = data.iloc[:, :-3]"
   ]
  },
  {
   "cell_type": "markdown",
   "metadata": {},
   "source": [
    "### 요인성 평가\n",
    "인수 분해성 또는 샘플링 적절성을 확인하는 방법에는 두 가지가 있습니다.\n",
    "- Bartlett의 테스트\n",
    "- Kaiser-Meyer-Olkin 테스트\n",
    "\n",
    "Factorability는 \"데이터 세트에서 요인을 찾을 수 있습니까?\"를 의미\n",
    "#### 1) Bartlet Test"
   ]
  },
  {
   "cell_type": "code",
   "execution_count": 5,
   "metadata": {},
   "outputs": [],
   "source": [
    "from factor_analyzer.factor_analyzer import calculate_bartlett_sphericity"
   ]
  },
  {
   "cell_type": "code",
   "execution_count": 6,
   "metadata": {},
   "outputs": [],
   "source": [
    "chi, p = calculate_bartlett_sphericity(data)"
   ]
  },
  {
   "cell_type": "code",
   "execution_count": 7,
   "metadata": {},
   "outputs": [
    {
     "name": "stdout",
     "output_type": "stream",
     "text": [
      "카이제곱 통계량 = 16509.6735504972 / p-value = 0.0\n"
     ]
    }
   ],
   "source": [
    "print(f'카이제곱 통계량 = {chi} / p-value = {p}')"
   ]
  },
  {
   "cell_type": "markdown",
   "metadata": {},
   "source": [
    "p-value가 0이므로 탐색적 요인분석에 적합한 데이터라고 할 수 있다.\n",
    "\n",
    "#### 2) Kaiser-Meyer-Olkin(KMO) Test\n",
    "\n",
    "- 요인분석을 위한 데이터의 적합성을 측정\n",
    "- 관측 된 각 변수와 전체 모델에 대한 적절성을 결정\n",
    "- 관측 된 모든 변수 간의 분산 비율을 추정\n",
    "- KMO 값의 범위는 0에서 1 사이로 0.6 미만의 KMO 값은 부적절한 것으로 간주하고 0.8 이상이면 우수로 간주\n",
    "- 변수가 최소 3개 이상 필요"
   ]
  },
  {
   "cell_type": "code",
   "execution_count": 8,
   "metadata": {},
   "outputs": [
    {
     "data": {
      "text/plain": [
       "0.8468295031833752"
      ]
     },
     "execution_count": 8,
     "metadata": {},
     "output_type": "execute_result"
    }
   ],
   "source": [
    "from factor_analyzer.factor_analyzer import calculate_kmo\n",
    "kmo_all,kmo_model=calculate_kmo(data)\n",
    "kmo_model"
   ]
  },
  {
   "cell_type": "markdown",
   "metadata": {},
   "source": [
    "값이 0.8 이상이므로 우수하다고 판단할 수 있다.\n",
    "***\n",
    "## 탐색적 요인분석(EFA)"
   ]
  },
  {
   "cell_type": "code",
   "execution_count": 9,
   "metadata": {},
   "outputs": [],
   "source": [
    "from factor_analyzer import FactorAnalyzer # 탐색적 요인분석"
   ]
  },
  {
   "cell_type": "code",
   "execution_count": 10,
   "metadata": {},
   "outputs": [
    {
     "data": {
      "text/plain": [
       "array([5.06851622, 2.7624793 , 2.152623  , 1.89233295, 1.51753291,\n",
       "       1.07882932, 0.83090573, 0.80450025, 0.7140883 , 0.7015381 ,\n",
       "       0.6808421 , 0.64897347, 0.63125633, 0.58803197, 0.5659652 ,\n",
       "       0.54483958, 0.51993349, 0.49386855, 0.48273618, 0.44250032,\n",
       "       0.42887063, 0.40709741, 0.38887531, 0.38476259, 0.2681008 ])"
      ]
     },
     "execution_count": 10,
     "metadata": {},
     "output_type": "execute_result"
    }
   ],
   "source": [
    "fa = FactorAnalyzer(n_factors = 5, method = 'ml', rotation = 'promax')\n",
    "fa.fit(data)\n",
    "ev, v = fa.get_eigenvalues()\n",
    "ev"
   ]
  },
  {
   "cell_type": "code",
   "execution_count": 11,
   "metadata": {},
   "outputs": [],
   "source": [
    "import matplotlib.pyplot as plt\n",
    "%matplotlib inline"
   ]
  },
  {
   "cell_type": "code",
   "execution_count": 12,
   "metadata": {},
   "outputs": [
    {
     "data": {
      "image/png": "[encoded data removed]",
      "text/plain": [
       "<Figure size 576x432 with 1 Axes>"
      ]
     },
     "metadata": {
      "needs_background": "light"
     },
     "output_type": "display_data"
    }
   ],
   "source": [
    "plt.figure(figsize = (8,6))\n",
    "plt.scatter(range(1,data.shape[1]+1),ev)\n",
    "plt.plot(range(1,data.shape[1]+1),ev)\n",
    "plt.title(\"Scree Plot\",fontsize = 15)\n",
    "plt.xlabel('Factor')\n",
    "plt.ylabel('Eigenvalue')\n",
    "plt.grid()\n",
    "plt.show()"
   ]
  },
  {
   "cell_type": "markdown",
   "metadata": {},
   "source": [
    "Eigenvalue 값이 1 미만 혹은 그래프 기울기가 완만해지기 전까지 나누어야 데이터 결함을 최소화 할 수 있다.\n",
    "\n",
    "즉 6개의 요인으로 나누는 것이 최선이다."
   ]
  },
  {
   "cell_type": "code",
   "execution_count": 13,
   "metadata": {
    "scrolled": true
   },
   "outputs": [
    {
     "data": {
      "text/html": [
       "<div>\n",
       "<style scoped>\n",
       "    .dataframe tbody tr th:only-of-type {\n",
       "        vertical-align: middle;\n",
       "    }\n",
       "\n",
       "    .dataframe tbody tr th {\n",
       "        vertical-align: top;\n",
       "    }\n",
       "\n",
       "    .dataframe thead th {\n",
       "        text-align: right;\n",
       "    }\n",
       "</style>\n",
       "<table border=\"1\" class=\"dataframe\">\n",
       "  <thead>\n",
       "    <tr style=\"text-align: right;\">\n",
       "      <th></th>\n",
       "      <th>0</th>\n",
       "      <th>1</th>\n",
       "      <th>2</th>\n",
       "      <th>3</th>\n",
       "      <th>4</th>\n",
       "      <th>5</th>\n",
       "    </tr>\n",
       "  </thead>\n",
       "  <tbody>\n",
       "    <tr>\n",
       "      <th>A1</th>\n",
       "      <td>0.103404</td>\n",
       "      <td>0.053363</td>\n",
       "      <td>0.105452</td>\n",
       "      <td>0.139944</td>\n",
       "      <td>-0.610607</td>\n",
       "      <td>0.115915</td>\n",
       "    </tr>\n",
       "    <tr>\n",
       "      <th>A2</th>\n",
       "      <td>0.178759</td>\n",
       "      <td>0.108904</td>\n",
       "      <td>0.048126</td>\n",
       "      <td>-0.026389</td>\n",
       "      <td>0.633266</td>\n",
       "      <td>-0.014371</td>\n",
       "    </tr>\n",
       "    <tr>\n",
       "      <th>A3</th>\n",
       "      <td>0.301946</td>\n",
       "      <td>0.022541</td>\n",
       "      <td>0.026850</td>\n",
       "      <td>0.018490</td>\n",
       "      <td>0.474581</td>\n",
       "      <td>0.174798</td>\n",
       "    </tr>\n",
       "    <tr>\n",
       "      <th>A4</th>\n",
       "      <td>0.146041</td>\n",
       "      <td>-0.044232</td>\n",
       "      <td>0.197109</td>\n",
       "      <td>0.190085</td>\n",
       "      <td>0.308192</td>\n",
       "      <td>0.067632</td>\n",
       "    </tr>\n",
       "    <tr>\n",
       "      <th>A5</th>\n",
       "      <td>0.367256</td>\n",
       "      <td>-0.156436</td>\n",
       "      <td>-0.010990</td>\n",
       "      <td>0.032066</td>\n",
       "      <td>0.294243</td>\n",
       "      <td>0.259855</td>\n",
       "    </tr>\n",
       "    <tr>\n",
       "      <th>C1</th>\n",
       "      <td>-0.035387</td>\n",
       "      <td>0.025523</td>\n",
       "      <td>0.588542</td>\n",
       "      <td>-0.134696</td>\n",
       "      <td>-0.086821</td>\n",
       "      <td>0.006145</td>\n",
       "    </tr>\n",
       "    <tr>\n",
       "      <th>C2</th>\n",
       "      <td>-0.111621</td>\n",
       "      <td>0.069940</td>\n",
       "      <td>0.737340</td>\n",
       "      <td>-0.019344</td>\n",
       "      <td>-0.058142</td>\n",
       "      <td>0.057400</td>\n",
       "    </tr>\n",
       "    <tr>\n",
       "      <th>C3</th>\n",
       "      <td>-0.079544</td>\n",
       "      <td>0.016557</td>\n",
       "      <td>0.600961</td>\n",
       "      <td>0.052102</td>\n",
       "      <td>0.048405</td>\n",
       "      <td>-0.102093</td>\n",
       "    </tr>\n",
       "    <tr>\n",
       "      <th>C4</th>\n",
       "      <td>0.054836</td>\n",
       "      <td>0.027626</td>\n",
       "      <td>-0.662575</td>\n",
       "      <td>0.110176</td>\n",
       "      <td>-0.139287</td>\n",
       "      <td>0.452851</td>\n",
       "    </tr>\n",
       "    <tr>\n",
       "      <th>C5</th>\n",
       "      <td>-0.084680</td>\n",
       "      <td>0.140310</td>\n",
       "      <td>-0.553082</td>\n",
       "      <td>-0.063870</td>\n",
       "      <td>0.001944</td>\n",
       "      <td>0.258840</td>\n",
       "    </tr>\n",
       "    <tr>\n",
       "      <th>E1</th>\n",
       "      <td>-0.673189</td>\n",
       "      <td>-0.137297</td>\n",
       "      <td>0.199450</td>\n",
       "      <td>0.063452</td>\n",
       "      <td>-0.109680</td>\n",
       "      <td>0.146048</td>\n",
       "    </tr>\n",
       "    <tr>\n",
       "      <th>E2</th>\n",
       "      <td>-0.731487</td>\n",
       "      <td>0.072180</td>\n",
       "      <td>0.073152</td>\n",
       "      <td>0.019835</td>\n",
       "      <td>-0.011811</td>\n",
       "      <td>0.116527</td>\n",
       "    </tr>\n",
       "    <tr>\n",
       "      <th>E3</th>\n",
       "      <td>0.591614</td>\n",
       "      <td>-0.000544</td>\n",
       "      <td>-0.022369</td>\n",
       "      <td>-0.183449</td>\n",
       "      <td>-0.028323</td>\n",
       "      <td>0.294529</td>\n",
       "    </tr>\n",
       "    <tr>\n",
       "      <th>E4</th>\n",
       "      <td>0.683491</td>\n",
       "      <td>-0.083298</td>\n",
       "      <td>-0.029971</td>\n",
       "      <td>0.167405</td>\n",
       "      <td>0.049987</td>\n",
       "      <td>0.160087</td>\n",
       "    </tr>\n",
       "    <tr>\n",
       "      <th>E5</th>\n",
       "      <td>0.527657</td>\n",
       "      <td>0.180552</td>\n",
       "      <td>0.221002</td>\n",
       "      <td>-0.152493</td>\n",
       "      <td>-0.004370</td>\n",
       "      <td>-0.075128</td>\n",
       "    </tr>\n",
       "    <tr>\n",
       "      <th>N1</th>\n",
       "      <td>0.222919</td>\n",
       "      <td>0.906160</td>\n",
       "      <td>0.011331</td>\n",
       "      <td>0.070975</td>\n",
       "      <td>-0.097455</td>\n",
       "      <td>-0.112272</td>\n",
       "    </tr>\n",
       "    <tr>\n",
       "      <th>N2</th>\n",
       "      <td>0.173074</td>\n",
       "      <td>0.913194</td>\n",
       "      <td>0.029289</td>\n",
       "      <td>-0.012637</td>\n",
       "      <td>-0.028650</td>\n",
       "      <td>-0.179392</td>\n",
       "    </tr>\n",
       "    <tr>\n",
       "      <th>N3</th>\n",
       "      <td>0.012758</td>\n",
       "      <td>0.690441</td>\n",
       "      <td>0.017307</td>\n",
       "      <td>0.022436</td>\n",
       "      <td>0.008114</td>\n",
       "      <td>0.113479</td>\n",
       "    </tr>\n",
       "    <tr>\n",
       "      <th>N4</th>\n",
       "      <td>-0.324478</td>\n",
       "      <td>0.424710</td>\n",
       "      <td>-0.063856</td>\n",
       "      <td>-0.065785</td>\n",
       "      <td>0.032085</td>\n",
       "      <td>0.251764</td>\n",
       "    </tr>\n",
       "    <tr>\n",
       "      <th>N5</th>\n",
       "      <td>-0.133993</td>\n",
       "      <td>0.442159</td>\n",
       "      <td>0.039304</td>\n",
       "      <td>0.181260</td>\n",
       "      <td>0.083325</td>\n",
       "      <td>0.178640</td>\n",
       "    </tr>\n",
       "    <tr>\n",
       "      <th>O1</th>\n",
       "      <td>0.198314</td>\n",
       "      <td>-0.057694</td>\n",
       "      <td>0.069130</td>\n",
       "      <td>-0.447995</td>\n",
       "      <td>-0.104461</td>\n",
       "      <td>0.207641</td>\n",
       "    </tr>\n",
       "    <tr>\n",
       "      <th>O2</th>\n",
       "      <td>0.034275</td>\n",
       "      <td>0.120761</td>\n",
       "      <td>-0.057304</td>\n",
       "      <td>0.513507</td>\n",
       "      <td>0.009564</td>\n",
       "      <td>0.128756</td>\n",
       "    </tr>\n",
       "    <tr>\n",
       "      <th>O3</th>\n",
       "      <td>0.325584</td>\n",
       "      <td>-0.016284</td>\n",
       "      <td>-0.019679</td>\n",
       "      <td>-0.537222</td>\n",
       "      <td>-0.061721</td>\n",
       "      <td>0.257548</td>\n",
       "    </tr>\n",
       "    <tr>\n",
       "      <th>O4</th>\n",
       "      <td>-0.211795</td>\n",
       "      <td>0.105962</td>\n",
       "      <td>-0.010629</td>\n",
       "      <td>-0.339593</td>\n",
       "      <td>0.122386</td>\n",
       "      <td>0.224134</td>\n",
       "    </tr>\n",
       "    <tr>\n",
       "      <th>O5</th>\n",
       "      <td>0.014445</td>\n",
       "      <td>0.009906</td>\n",
       "      <td>0.002641</td>\n",
       "      <td>0.596926</td>\n",
       "      <td>-0.138839</td>\n",
       "      <td>0.118473</td>\n",
       "    </tr>\n",
       "  </tbody>\n",
       "</table>\n",
       "</div>"
      ],
      "text/plain": [
       "           0         1         2         3         4         5\n",
       "A1  0.103404  0.053363  0.105452  0.139944 -0.610607  0.115915\n",
       "A2  0.178759  0.108904  0.048126 -0.026389  0.633266 -0.014371\n",
       "A3  0.301946  0.022541  0.026850  0.018490  0.474581  0.174798\n",
       "A4  0.146041 -0.044232  0.197109  0.190085  0.308192  0.067632\n",
       "A5  0.367256 -0.156436 -0.010990  0.032066  0.294243  0.259855\n",
       "C1 -0.035387  0.025523  0.588542 -0.134696 -0.086821  0.006145\n",
       "C2 -0.111621  0.069940  0.737340 -0.019344 -0.058142  0.057400\n",
       "C3 -0.079544  0.016557  0.600961  0.052102  0.048405 -0.102093\n",
       "C4  0.054836  0.027626 -0.662575  0.110176 -0.139287  0.452851\n",
       "C5 -0.084680  0.140310 -0.553082 -0.063870  0.001944  0.258840\n",
       "E1 -0.673189 -0.137297  0.199450  0.063452 -0.109680  0.146048\n",
       "E2 -0.731487  0.072180  0.073152  0.019835 -0.011811  0.116527\n",
       "E3  0.591614 -0.000544 -0.022369 -0.183449 -0.028323  0.294529\n",
       "E4  0.683491 -0.083298 -0.029971  0.167405  0.049987  0.160087\n",
       "E5  0.527657  0.180552  0.221002 -0.152493 -0.004370 -0.075128\n",
       "N1  0.222919  0.906160  0.011331  0.070975 -0.097455 -0.112272\n",
       "N2  0.173074  0.913194  0.029289 -0.012637 -0.028650 -0.179392\n",
       "N3  0.012758  0.690441  0.017307  0.022436  0.008114  0.113479\n",
       "N4 -0.324478  0.424710 -0.063856 -0.065785  0.032085  0.251764\n",
       "N5 -0.133993  0.442159  0.039304  0.181260  0.083325  0.178640\n",
       "O1  0.198314 -0.057694  0.069130 -0.447995 -0.104461  0.207641\n",
       "O2  0.034275  0.120761 -0.057304  0.513507  0.009564  0.128756\n",
       "O3  0.325584 -0.016284 -0.019679 -0.537222 -0.061721  0.257548\n",
       "O4 -0.211795  0.105962 -0.010629 -0.339593  0.122386  0.224134\n",
       "O5  0.014445  0.009906  0.002641  0.596926 -0.138839  0.118473"
      ]
     },
     "execution_count": 13,
     "metadata": {},
     "output_type": "execute_result"
    }
   ],
   "source": [
    "fa = FactorAnalyzer(n_factors = 6, method = 'ml', rotation = 'promax')\n",
    "fa.fit(data)\n",
    "result = pd.DataFrame(fa.loadings_, index = data.columns)\n",
    "result"
   ]
  },
  {
   "cell_type": "code",
   "execution_count": 14,
   "metadata": {},
   "outputs": [],
   "source": [
    "import seaborn as sns"
   ]
  },
  {
   "cell_type": "code",
   "execution_count": 15,
   "metadata": {},
   "outputs": [
    {
     "data": {
      "image/png": "[encoded data removed]",
      "text/plain": [
       "<Figure size 432x720 with 2 Axes>"
      ]
     },
     "metadata": {
      "needs_background": "light"
     },
     "output_type": "display_data"
    }
   ],
   "source": [
    "plt.figure(figsize = (6, 10))\n",
    "sns.heatmap(result, cmap = 'Blues', annot = True, fmt = '.2f')\n",
    "plt.show()"
   ]
  },
  {
   "cell_type": "markdown",
   "metadata": {},
   "source": [
    "- 요인0은 E1, E2, E3, E4, E5에 대해 높은 요인 적재량을 가진다.\n",
    "- 요인1은 N1, N2, N3에 대해 높은 요인 적재량을 가진다.\n",
    "- 요인2은 C1, C2, C3, C4, C5에 대해 높은 요인 적재량을 가진다.\n",
    "- 요인3은 O1, O2, O3, O5에 대해 높은 요인 적재량을 가진다.\n",
    "- 요인4은 A1, A2, A3에 대해 높은 요인 적재량을 가진다.\n",
    "- 요인5는 변수에 대해 높은 요인 적재량이 없다고 해석할 수 있다. 따라서 위의 5가지 요인만 활용하는 것이 좋다."
   ]
  },
  {
   "cell_type": "code",
   "execution_count": 16,
   "metadata": {},
   "outputs": [
    {
     "data": {
      "text/plain": [
       "FactorAnalyzer(method='ml', n_factors=5, rotation_kwargs={})"
      ]
     },
     "execution_count": 16,
     "metadata": {},
     "output_type": "execute_result"
    }
   ],
   "source": [
    "fa = FactorAnalyzer(n_factors = 5, method = 'ml', rotation = 'promax')\n",
    "fa.fit(data)"
   ]
  },
  {
   "cell_type": "code",
   "execution_count": 17,
   "metadata": {},
   "outputs": [
    {
     "data": {
      "text/html": [
       "<div>\n",
       "<style scoped>\n",
       "    .dataframe tbody tr th:only-of-type {\n",
       "        vertical-align: middle;\n",
       "    }\n",
       "\n",
       "    .dataframe tbody tr th {\n",
       "        vertical-align: top;\n",
       "    }\n",
       "\n",
       "    .dataframe thead th {\n",
       "        text-align: right;\n",
       "    }\n",
       "</style>\n",
       "<table border=\"1\" class=\"dataframe\">\n",
       "  <thead>\n",
       "    <tr style=\"text-align: right;\">\n",
       "      <th></th>\n",
       "      <th>0</th>\n",
       "      <th>1</th>\n",
       "      <th>2</th>\n",
       "      <th>3</th>\n",
       "      <th>4</th>\n",
       "    </tr>\n",
       "  </thead>\n",
       "  <tbody>\n",
       "    <tr>\n",
       "      <th>SS_Loading</th>\n",
       "      <td>2.714163</td>\n",
       "      <td>2.371885</td>\n",
       "      <td>2.019123</td>\n",
       "      <td>1.694791</td>\n",
       "      <td>1.512622</td>\n",
       "    </tr>\n",
       "    <tr>\n",
       "      <th>Proportion_Var</th>\n",
       "      <td>0.108567</td>\n",
       "      <td>0.094875</td>\n",
       "      <td>0.080765</td>\n",
       "      <td>0.067792</td>\n",
       "      <td>0.060505</td>\n",
       "    </tr>\n",
       "    <tr>\n",
       "      <th>Cumulative_Var</th>\n",
       "      <td>0.108567</td>\n",
       "      <td>0.203442</td>\n",
       "      <td>0.284207</td>\n",
       "      <td>0.351998</td>\n",
       "      <td>0.412503</td>\n",
       "    </tr>\n",
       "  </tbody>\n",
       "</table>\n",
       "</div>"
      ],
      "text/plain": [
       "                       0         1         2         3         4\n",
       "SS_Loading      2.714163  2.371885  2.019123  1.694791  1.512622\n",
       "Proportion_Var  0.108567  0.094875  0.080765  0.067792  0.060505\n",
       "Cumulative_Var  0.108567  0.203442  0.284207  0.351998  0.412503"
      ]
     },
     "execution_count": 17,
     "metadata": {},
     "output_type": "execute_result"
    }
   ],
   "source": [
    "result = pd.DataFrame(fa.get_factor_variance())\n",
    "result.index = ['SS_Loading', 'Proportion_Var', 'Cumulative_Var']\n",
    "result"
   ]
  },
  {
   "cell_type": "code",
   "execution_count": 18,
   "metadata": {},
   "outputs": [
    {
     "data": {
      "text/plain": [
       "array([0.79737294, 0.66551798, 0.57381307, 0.73007514, 0.62105618,\n",
       "       0.66203987, 0.51188188, 0.62775217, 0.53208963, 0.63015586,\n",
       "       0.55262189, 0.47995313, 0.61590146, 0.53282893, 0.64622806,\n",
       "       0.09604088, 0.19857189, 0.47688816, 0.62260452, 0.67716391,\n",
       "       0.71248634, 0.70741865, 0.55516239, 0.75509054, 0.70670093])"
      ]
     },
     "execution_count": 18,
     "metadata": {},
     "output_type": "execute_result"
    }
   ],
   "source": [
    "fa.get_uniquenesses()"
   ]
  },
  {
   "cell_type": "code",
   "execution_count": 19,
   "metadata": {},
   "outputs": [
    {
     "data": {
      "image/png": "[encoded data removed]",
      "text/plain": [
       "<Figure size 648x432 with 1 Axes>"
      ]
     },
     "metadata": {
      "needs_background": "light"
     },
     "output_type": "display_data"
    }
   ],
   "source": [
    "fig,ax = plt.subplots(figsize = (9,6))\n",
    "plt.title(\"Factor Analysis Loading Plot\", fontsize = 15)\n",
    "x = fa.loadings_[:,0]\n",
    "y = fa.loadings_[:,1]\n",
    "ax.scatter(x,y)\n",
    "for i, txt in enumerate(data.columns) :\n",
    "    ax.annotate(txt,(x[i],y[i]),)\n",
    "    \n",
    "plt.xlabel(\"Factor1\",fontsize = 12)\n",
    "plt.ylabel(\"Factor2\",fontsize = 12)\n",
    "plt.grid()\n",
    "plt.show()\n"
   ]
  },
  {
   "cell_type": "markdown",
   "metadata": {},
   "source": [
    "### 크론바하 알파(신뢰도 계수)"
   ]
  },
  {
   "cell_type": "code",
   "execution_count": 20,
   "metadata": {},
   "outputs": [],
   "source": [
    "import pingouin as pg # 제공 패키지에 있는지 확인 필요\n",
    "import numpy as np"
   ]
  },
  {
   "cell_type": "code",
   "execution_count": 21,
   "metadata": {},
   "outputs": [
    {
     "data": {
      "text/plain": [
       "(0.523964911029771, array([0.495, 0.552]))"
      ]
     },
     "execution_count": 21,
     "metadata": {},
     "output_type": "execute_result"
    }
   ],
   "source": [
    "pg.cronbach_alpha(data)"
   ]
  },
  {
   "cell_type": "code",
   "execution_count": 22,
   "metadata": {},
   "outputs": [],
   "source": [
    "def CA(x) :\n",
    "    score = np.asarray(x)\n",
    "    var = score.var(axis = 0, ddof = 1)\n",
    "    t_score = score.sum(axis = 1)\n",
    "    n = data.shape[1]\n",
    "    return (n / (n - 1)) * (1 - (var.sum() / t_score.var(ddof = 1)))"
   ]
  },
  {
   "cell_type": "code",
   "execution_count": 23,
   "metadata": {},
   "outputs": [
    {
     "data": {
      "text/plain": [
       "0.523964911029771"
      ]
     },
     "execution_count": 23,
     "metadata": {},
     "output_type": "execute_result"
    }
   ],
   "source": [
    "CA(data)"
   ]
  },
  {
   "cell_type": "markdown",
   "metadata": {},
   "source": [
    "개별 column의 크론바하 알파 계수 확인"
   ]
  },
  {
   "cell_type": "code",
   "execution_count": 24,
   "metadata": {},
   "outputs": [],
   "source": [
    "f = ['A', 'C', 'E', 'N', 'O']\n",
    "f_dict = {}\n",
    "for i in f :\n",
    "    f_dict[i] = [x for x in data.columns if x[0] == i]"
   ]
  },
  {
   "cell_type": "code",
   "execution_count": 25,
   "metadata": {},
   "outputs": [
    {
     "data": {
      "text/plain": [
       "{'A': ['A1', 'A2', 'A3', 'A4', 'A5'],\n",
       " 'C': ['C1', 'C2', 'C3', 'C4', 'C5'],\n",
       " 'E': ['E1', 'E2', 'E3', 'E4', 'E5'],\n",
       " 'N': ['N1', 'N2', 'N3', 'N4', 'N5'],\n",
       " 'O': ['O1', 'O2', 'O3', 'O4', 'O5']}"
      ]
     },
     "execution_count": 25,
     "metadata": {},
     "output_type": "execute_result"
    }
   ],
   "source": [
    "f_dict"
   ]
  },
  {
   "cell_type": "code",
   "execution_count": 26,
   "metadata": {},
   "outputs": [
    {
     "name": "stdout",
     "output_type": "stream",
     "text": [
      "A의 크론바하 알파 = 0.3635033145749656\n",
      "C의 크론바하 알파 = -0.24976818111755245\n",
      "E의 크론바하 알파 = -0.544456667815698\n",
      "N의 크론바하 알파 = 0.6796506285050383\n",
      "O의 크론바하 알파 = -0.17536128717072613\n"
     ]
    }
   ],
   "source": [
    "for k, v in f_dict.items() :\n",
    "    print(f'{k}의 크론바하 알파 = {CA(data[v])}')"
   ]
  },
  {
   "cell_type": "markdown",
   "metadata": {},
   "source": [
    "N과 A정도가 신뢰도가 높다고 할 수 있다.\n",
    "***\n",
    "## 확인적 요인 분석(Confirmatory factor analysis)\n",
    "- 측정변수와 요인 간의 관계 및 요인 간의 관계를 검정 및 확인하며 분석 전에 요인의 수와 요인을 구성하는 측정변수가 미리 지정된 상태에서 분석이 진행\n",
    "- 강력한 이론적 배경이나 선행연구를 바탕으로 측정한 측정변수는 반드시 관련 요인으로부터만 영향을 받고 다른 요인과는 연관되지 않는 것으로 가정된다.\n",
    "- 요인모형과 자료의 부합에 관심 -> 측정변수가 어떤 요인에 적재될지에 대한 가설이 존재.\n",
    "- 잠재변인 간에 상관관계를 구할 수 있음.\n",
    "- 잠재변인과 공통 요인간 상관관계를 구할 수 있음"
   ]
  },
  {
   "cell_type": "code",
   "execution_count": 27,
   "metadata": {},
   "outputs": [],
   "source": [
    "from factor_analyzer import (ConfirmatoryFactorAnalyzer, ModelSpecificationParser)"
   ]
  },
  {
   "cell_type": "markdown",
   "metadata": {},
   "source": [
    "요인 섞어서 진행"
   ]
  },
  {
   "cell_type": "code",
   "execution_count": 28,
   "metadata": {},
   "outputs": [],
   "source": [
    "f_dict['A'] = ['A1', \"C2\", \"C4\", \"N5\", \"O3\", 'C1', 'A2', 'A4', 'C3','C5']"
   ]
  },
  {
   "cell_type": "code",
   "execution_count": 29,
   "metadata": {},
   "outputs": [],
   "source": [
    "f_dict['C'] = ['C1', 'A2', 'A4', 'C3','C5']"
   ]
  },
  {
   "cell_type": "code",
   "execution_count": 30,
   "metadata": {},
   "outputs": [],
   "source": [
    "f_dict['N'] = ['N1', 'N2', 'N3', 'N4', 'A5']"
   ]
  },
  {
   "cell_type": "code",
   "execution_count": 31,
   "metadata": {},
   "outputs": [],
   "source": [
    "f_dict['O'] = ['O1', 'O2', 'A3', 'O4', 'O5']"
   ]
  },
  {
   "cell_type": "code",
   "execution_count": 32,
   "metadata": {
    "scrolled": true
   },
   "outputs": [],
   "source": [
    "del f_dict['C']"
   ]
  },
  {
   "cell_type": "code",
   "execution_count": 33,
   "metadata": {},
   "outputs": [],
   "source": [
    "model_spec = ModelSpecificationParser.parse_model_specification_from_dict(data, f_dict)"
   ]
  },
  {
   "cell_type": "code",
   "execution_count": 34,
   "metadata": {},
   "outputs": [
    {
     "data": {
      "text/plain": [
       "['A1',\n",
       " 'C2',\n",
       " 'C4',\n",
       " 'N5',\n",
       " 'O3',\n",
       " 'C1',\n",
       " 'A2',\n",
       " 'A4',\n",
       " 'C3',\n",
       " 'C5',\n",
       " 'E1',\n",
       " 'E2',\n",
       " 'E3',\n",
       " 'E4',\n",
       " 'E5',\n",
       " 'N1',\n",
       " 'N2',\n",
       " 'N3',\n",
       " 'N4',\n",
       " 'A5',\n",
       " 'O1',\n",
       " 'O2',\n",
       " 'A3',\n",
       " 'O4',\n",
       " 'O5']"
      ]
     },
     "execution_count": 34,
     "metadata": {},
     "output_type": "execute_result"
    }
   ],
   "source": [
    "model_spec.variable_names"
   ]
  },
  {
   "cell_type": "code",
   "execution_count": 35,
   "metadata": {},
   "outputs": [],
   "source": [
    "cfa = ConfirmatoryFactorAnalyzer(model_spec, disp = False)"
   ]
  },
  {
   "cell_type": "code",
   "execution_count": 36,
   "metadata": {
    "scrolled": true
   },
   "outputs": [
    {
     "data": {
      "text/plain": [
       "ConfirmatoryFactorAnalyzer(disp=False, n_obs=2236,\n",
       "                           specification=<factor_analyzer.confirmatory_factor_analyzer.ModelSpecification object at 0x7ff71b37a8b0>)"
      ]
     },
     "execution_count": 36,
     "metadata": {},
     "output_type": "execute_result"
    }
   ],
   "source": [
    "cfa.fit(data.values)"
   ]
  },
  {
   "cell_type": "code",
   "execution_count": 37,
   "metadata": {},
   "outputs": [
    {
     "data": {
      "text/html": [
       "<div>\n",
       "<style scoped>\n",
       "    .dataframe tbody tr th:only-of-type {\n",
       "        vertical-align: middle;\n",
       "    }\n",
       "\n",
       "    .dataframe tbody tr th {\n",
       "        vertical-align: top;\n",
       "    }\n",
       "\n",
       "    .dataframe thead th {\n",
       "        text-align: right;\n",
       "    }\n",
       "</style>\n",
       "<table border=\"1\" class=\"dataframe\">\n",
       "  <thead>\n",
       "    <tr style=\"text-align: right;\">\n",
       "      <th></th>\n",
       "      <th>0</th>\n",
       "      <th>1</th>\n",
       "      <th>2</th>\n",
       "      <th>3</th>\n",
       "    </tr>\n",
       "  </thead>\n",
       "  <tbody>\n",
       "    <tr>\n",
       "      <th>A1</th>\n",
       "      <td>0.279690</td>\n",
       "      <td>0.0</td>\n",
       "      <td>0.0</td>\n",
       "      <td>0.0</td>\n",
       "    </tr>\n",
       "    <tr>\n",
       "      <th>C2</th>\n",
       "      <td>1.016742</td>\n",
       "      <td>0.0</td>\n",
       "      <td>0.0</td>\n",
       "      <td>0.0</td>\n",
       "    </tr>\n",
       "    <tr>\n",
       "      <th>C4</th>\n",
       "      <td>1.198347</td>\n",
       "      <td>0.0</td>\n",
       "      <td>0.0</td>\n",
       "      <td>0.0</td>\n",
       "    </tr>\n",
       "    <tr>\n",
       "      <th>N5</th>\n",
       "      <td>1.149082</td>\n",
       "      <td>0.0</td>\n",
       "      <td>0.0</td>\n",
       "      <td>0.0</td>\n",
       "    </tr>\n",
       "    <tr>\n",
       "      <th>O3</th>\n",
       "      <td>1.106243</td>\n",
       "      <td>0.0</td>\n",
       "      <td>0.0</td>\n",
       "      <td>0.0</td>\n",
       "    </tr>\n",
       "  </tbody>\n",
       "</table>\n",
       "</div>"
      ],
      "text/plain": [
       "           0    1    2    3\n",
       "A1  0.279690  0.0  0.0  0.0\n",
       "C2  1.016742  0.0  0.0  0.0\n",
       "C4  1.198347  0.0  0.0  0.0\n",
       "N5  1.149082  0.0  0.0  0.0\n",
       "O3  1.106243  0.0  0.0  0.0"
      ]
     },
     "execution_count": 37,
     "metadata": {},
     "output_type": "execute_result"
    }
   ],
   "source": [
    "result = pd.DataFrame(cfa.loadings_, index = model_spec.variable_names)\n",
    "result.head()"
   ]
  },
  {
   "cell_type": "markdown",
   "metadata": {},
   "source": [
    "loadings 값이 -1 ~ 1인데 1넘는 값은 무슨 의미인지 찾아도 잘 모르겠음...\n",
    "\n",
    "회귀계수라는 말도 있고...명확하지 않으니 EFA만 사용하는 것이 바람직"
   ]
  },
  {
   "cell_type": "code",
   "execution_count": 38,
   "metadata": {},
   "outputs": [],
   "source": [
    "#cfa.specification.get_model_specification_as_dict()"
   ]
  }
 ],
 "metadata": {
  "kernelspec": {
   "display_name": "Python 3",
   "language": "python",
   "name": "python3"
  },
  "language_info": {
   "codemirror_mode": {
    "name": "ipython",
    "version": 3
   },
   "file_extension": ".py",
   "mimetype": "text/x-python",
   "name": "python",
   "nbconvert_exporter": "python",
   "pygments_lexer": "ipython3",
   "version": "3.8.5"
  }
 },
 "nbformat": 4,
 "nbformat_minor": 4
}
