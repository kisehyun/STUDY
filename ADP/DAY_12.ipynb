{
 "cells": [
  {
   "cell_type": "markdown",
   "metadata": {},
   "source": [
    "# ADP\n",
    "***\n",
    "\n",
    "## 02. 통계분석\n",
    "\n",
    "### Q1) pop_density 변수를 factor형 변수로 변환하고, \n",
    "###     pop_density별 revenues의 평균 차이가 있는지 통계분석을 시행하여 결과를 해석하시오. \n",
    "###     만일 대립가설이 채택된다면 사후분석을 실시하고 결과를 해석하시오."
   ]
  },
  {
   "cell_type": "code",
   "execution_count": 40,
   "metadata": {},
   "outputs": [],
   "source": [
    "import pandas as pd\n",
    "import numpy as np\n",
    "\n",
    "import warnings\n",
    "warnings.filterwarnings('ignore')\n",
    "\n",
    "import matplotlib.pyplot as plt\n",
    "import seaborn as sns\n",
    "%matplotlib inline\n",
    "\n",
    "import scipy.stats as stats\n",
    "from scipy.stats import probplot\n",
    "from statsmodels.formula.api import ols\n",
    "from statsmodels.stats.anova import anova_lm\n",
    "from statsmodels.stats.multicomp import pairwise_tukeyhsd\n",
    "from statsmodels.stats.stattools import durbin_watson # 독립성 가정 충족 여부\n",
    "import statsmodels.api as sm\n",
    "import time"
   ]
  },
  {
   "cell_type": "code",
   "execution_count": 2,
   "metadata": {},
   "outputs": [],
   "source": [
    "df = pd.read_csv(\"C:/Users/ksh/Desktop/나/ADP실기/모의고사 4회/bike_marketing.csv\")"
   ]
  },
  {
   "cell_type": "code",
   "execution_count": 4,
   "metadata": {},
   "outputs": [
    {
     "data": {
      "text/html": [
       "<div>\n",
       "<style scoped>\n",
       "    .dataframe tbody tr th:only-of-type {\n",
       "        vertical-align: middle;\n",
       "    }\n",
       "\n",
       "    .dataframe tbody tr th {\n",
       "        vertical-align: top;\n",
       "    }\n",
       "\n",
       "    .dataframe thead th {\n",
       "        text-align: right;\n",
       "    }\n",
       "</style>\n",
       "<table border=\"1\" class=\"dataframe\">\n",
       "  <thead>\n",
       "    <tr style=\"text-align: right;\">\n",
       "      <th></th>\n",
       "      <th>company_num</th>\n",
       "      <th>google_adwords</th>\n",
       "      <th>facebook</th>\n",
       "      <th>twitter</th>\n",
       "      <th>marketing_total</th>\n",
       "      <th>revenues</th>\n",
       "      <th>employees</th>\n",
       "      <th>pop_density</th>\n",
       "    </tr>\n",
       "  </thead>\n",
       "  <tbody>\n",
       "    <tr>\n",
       "      <th>0</th>\n",
       "      <td>1</td>\n",
       "      <td>65.66</td>\n",
       "      <td>47.86</td>\n",
       "      <td>52.46</td>\n",
       "      <td>166</td>\n",
       "      <td>39.26</td>\n",
       "      <td>5</td>\n",
       "      <td>High</td>\n",
       "    </tr>\n",
       "    <tr>\n",
       "      <th>1</th>\n",
       "      <td>2</td>\n",
       "      <td>39.10</td>\n",
       "      <td>55.20</td>\n",
       "      <td>77.40</td>\n",
       "      <td>172</td>\n",
       "      <td>38.90</td>\n",
       "      <td>7</td>\n",
       "      <td>Medium</td>\n",
       "    </tr>\n",
       "    <tr>\n",
       "      <th>2</th>\n",
       "      <td>3</td>\n",
       "      <td>174.81</td>\n",
       "      <td>52.01</td>\n",
       "      <td>68.01</td>\n",
       "      <td>295</td>\n",
       "      <td>49.51</td>\n",
       "      <td>11</td>\n",
       "      <td>Medium</td>\n",
       "    </tr>\n",
       "    <tr>\n",
       "      <th>3</th>\n",
       "      <td>4</td>\n",
       "      <td>34.36</td>\n",
       "      <td>61.96</td>\n",
       "      <td>86.86</td>\n",
       "      <td>183</td>\n",
       "      <td>40.56</td>\n",
       "      <td>7</td>\n",
       "      <td>High</td>\n",
       "    </tr>\n",
       "    <tr>\n",
       "      <th>4</th>\n",
       "      <td>5</td>\n",
       "      <td>78.21</td>\n",
       "      <td>40.91</td>\n",
       "      <td>30.41</td>\n",
       "      <td>150</td>\n",
       "      <td>40.21</td>\n",
       "      <td>9</td>\n",
       "      <td>Low</td>\n",
       "    </tr>\n",
       "  </tbody>\n",
       "</table>\n",
       "</div>"
      ],
      "text/plain": [
       "   company_num  google_adwords  facebook  twitter  marketing_total  revenues  \\\n",
       "0            1           65.66     47.86    52.46              166     39.26   \n",
       "1            2           39.10     55.20    77.40              172     38.90   \n",
       "2            3          174.81     52.01    68.01              295     49.51   \n",
       "3            4           34.36     61.96    86.86              183     40.56   \n",
       "4            5           78.21     40.91    30.41              150     40.21   \n",
       "\n",
       "   employees pop_density  \n",
       "0          5        High  \n",
       "1          7      Medium  \n",
       "2         11      Medium  \n",
       "3          7        High  \n",
       "4          9         Low  "
      ]
     },
     "execution_count": 4,
     "metadata": {},
     "output_type": "execute_result"
    }
   ],
   "source": [
    "df.head()"
   ]
  },
  {
   "cell_type": "code",
   "execution_count": 5,
   "metadata": {},
   "outputs": [
    {
     "name": "stdout",
     "output_type": "stream",
     "text": [
      "<class 'pandas.core.frame.DataFrame'>\n",
      "RangeIndex: 172 entries, 0 to 171\n",
      "Data columns (total 8 columns):\n",
      " #   Column           Non-Null Count  Dtype  \n",
      "---  ------           --------------  -----  \n",
      " 0   company_num      172 non-null    int64  \n",
      " 1   google_adwords   172 non-null    float64\n",
      " 2   facebook         172 non-null    float64\n",
      " 3   twitter          172 non-null    float64\n",
      " 4   marketing_total  172 non-null    int64  \n",
      " 5   revenues         172 non-null    float64\n",
      " 6   employees        172 non-null    int64  \n",
      " 7   pop_density      172 non-null    object \n",
      "dtypes: float64(4), int64(3), object(1)\n",
      "memory usage: 10.9+ KB\n"
     ]
    }
   ],
   "source": [
    "df.info()"
   ]
  },
  {
   "cell_type": "code",
   "execution_count": 7,
   "metadata": {},
   "outputs": [],
   "source": [
    "df.pop_density = df.pop_density.astype('category')"
   ]
  },
  {
   "cell_type": "code",
   "execution_count": 13,
   "metadata": {},
   "outputs": [],
   "source": [
    "model = ols('revenues ~ C(pop_density)', data = df).fit()"
   ]
  },
  {
   "cell_type": "code",
   "execution_count": 14,
   "metadata": {},
   "outputs": [
    {
     "data": {
      "text/html": [
       "<div>\n",
       "<style scoped>\n",
       "    .dataframe tbody tr th:only-of-type {\n",
       "        vertical-align: middle;\n",
       "    }\n",
       "\n",
       "    .dataframe tbody tr th {\n",
       "        vertical-align: top;\n",
       "    }\n",
       "\n",
       "    .dataframe thead th {\n",
       "        text-align: right;\n",
       "    }\n",
       "</style>\n",
       "<table border=\"1\" class=\"dataframe\">\n",
       "  <thead>\n",
       "    <tr style=\"text-align: right;\">\n",
       "      <th></th>\n",
       "      <th>df</th>\n",
       "      <th>sum_sq</th>\n",
       "      <th>mean_sq</th>\n",
       "      <th>F</th>\n",
       "      <th>PR(&gt;F)</th>\n",
       "    </tr>\n",
       "  </thead>\n",
       "  <tbody>\n",
       "    <tr>\n",
       "      <th>C(pop_density)</th>\n",
       "      <td>2.0</td>\n",
       "      <td>41.731283</td>\n",
       "      <td>20.865641</td>\n",
       "      <td>0.609944</td>\n",
       "      <td>0.544573</td>\n",
       "    </tr>\n",
       "    <tr>\n",
       "      <th>Residual</th>\n",
       "      <td>169.0</td>\n",
       "      <td>5781.337568</td>\n",
       "      <td>34.209098</td>\n",
       "      <td>NaN</td>\n",
       "      <td>NaN</td>\n",
       "    </tr>\n",
       "  </tbody>\n",
       "</table>\n",
       "</div>"
      ],
      "text/plain": [
       "                   df       sum_sq    mean_sq         F    PR(>F)\n",
       "C(pop_density)    2.0    41.731283  20.865641  0.609944  0.544573\n",
       "Residual        169.0  5781.337568  34.209098       NaN       NaN"
      ]
     },
     "execution_count": 14,
     "metadata": {},
     "output_type": "execute_result"
    }
   ],
   "source": [
    "anova_lm(model)"
   ]
  },
  {
   "cell_type": "markdown",
   "metadata": {},
   "source": [
    "SSA의 자유도는 2(집단 수  - 1)이고 SST의 자유도는 169(관측치 수 - 집단 수)다. p-value는 0.545로 유의수준 0.05 하에서 대립가설을 기각한다. 즉 pop_density에 따라서 매출은 통계적으로 유의한 차이가 있다고 보기 어렵다."
   ]
  },
  {
   "cell_type": "markdown",
   "metadata": {},
   "source": [
    "***\n",
    "### Q2) google_adwords, facebook, twitter, marketing_total, employees가 \n",
    "###     revenues에 영향을 미치는지 알아보는 회귀분석을 전진선택법을 사용하여 수행하고 결과를 해석하시오."
   ]
  },
  {
   "cell_type": "code",
   "execution_count": 16,
   "metadata": {},
   "outputs": [],
   "source": [
    "X = df[['google_adwords', 'facebook', 'twitter', 'marketing_total', 'employees']]\n",
    "y = df.revenues"
   ]
  },
  {
   "cell_type": "code",
   "execution_count": 17,
   "metadata": {},
   "outputs": [],
   "source": [
    "X['constant'] = 1"
   ]
  },
  {
   "cell_type": "code",
   "execution_count": 30,
   "metadata": {},
   "outputs": [
    {
     "name": "stdout",
     "output_type": "stream",
     "text": [
      "1번째 탐색\n",
      "google_adwords 추가 되었을 때 AIC는 945.7576859327252이다.\n",
      "facebook 추가 되었을 때 AIC는 1028.0335856444533이다.\n",
      "twitter 추가 되었을 때 AIC는 1084.9261802664207이다.\n",
      "marketing_total 추가 되었을 때 AIC는 874.4011544403056이다.\n",
      "employees 추가 되었을 때 AIC는 946.1149216366764이다.\n",
      "추가될 변수는 marketing_total\n",
      "2번째 탐색\n",
      "google_adwords 추가 전은 874.4011544403056이고 google_adwords추가 되었을 때 AIC는 865.4031801350886\n",
      "facebook 추가 전은 874.4011544403056이고 facebook추가 되었을 때 AIC는 789.0997049845064\n",
      "twitter 추가 전은 874.4011544403056이고 twitter추가 되었을 때 AIC는 874.47679668028\n",
      "employees 추가 전은 874.4011544403056이고 employees추가 되었을 때 AIC는 843.5428552566617\n",
      "추가될 feature는 facebook\n",
      "3번째 탐색\n",
      "google_adwords 추가 전은 789.0997049845064이고 google_adwords추가 되었을 때 AIC는 765.5685347401864\n",
      "twitter 추가 전은 789.0997049845064이고 twitter추가 되었을 때 AIC는 765.9212826006149\n",
      "employees 추가 전은 789.0997049845064이고 employees추가 되었을 때 AIC는 772.4697651882614\n",
      "추가될 feature는 google_adwords\n",
      "4번째 탐색\n",
      "twitter 추가 전은 765.5685347401864이고 twitter추가 되었을 때 AIC는 762.2059078234536\n",
      "employees 추가 전은 765.5685347401864이고 employees추가 되었을 때 AIC는 752.8255686835203\n",
      "추가될 feature는 employees\n",
      "5번째 탐색\n",
      "twitter 추가 전은 752.8255686835203이고 twitter추가 되었을 때 AIC는 750.515871656357\n",
      "추가될 feature는 twitter\n",
      "6번째 탐색\n",
      "****************************************************************************************************\n",
      "최종 선택 변수들은 ['constant', 'marketing_total', 'facebook', 'google_adwords', 'employees', 'twitter']이다.\n"
     ]
    }
   ],
   "source": [
    "add_feature = ['constant']\n",
    "aic_list = []\n",
    "target_cols = list(X.columns[:-1])\n",
    "i = 0\n",
    "while True :\n",
    "    i += 1\n",
    "    print(f'{i}번째 탐색')\n",
    "    if i == 1 :\n",
    "        before_model = sm.OLS(y, X[['constant']]).fit()\n",
    "        before_aic = model.aic\n",
    "        for c in target_cols :\n",
    "            after_model = sm.OLS(y, X[add_feature + [c]]).fit()\n",
    "            after_aic = after_model.aic\n",
    "            print(f'{c} 추가 되었을 때 AIC는 {after_aic}이다.')\n",
    "            aic_list.append(after_aic)\n",
    "        print(f'추가될 변수는 {target_cols[np.argmin(aic_list)]}')\n",
    "        add_feature.append(target_cols[np.argmin(aic_list)])\n",
    "        del target_cols[np.argmin(aic_list)]\n",
    "    elif i != 1 :\n",
    "        a = []\n",
    "        for c in target_cols :\n",
    "            before_model = sm.OLS(y, X[add_feature]).fit()\n",
    "            before_aic = before_model.aic\n",
    "            \n",
    "            after_model = sm.OLS(y, X[add_feature + [c]]).fit()\n",
    "            after_aic = after_model.aic\n",
    "            \n",
    "            print(f'{c} 추가 전은 {before_aic}이고 {c}추가 되었을 때 AIC는 {after_aic}')\n",
    "            a.append(after_aic)\n",
    "        try :\n",
    "            if before_aic > np.min(a):\n",
    "                print(f'추가될 feature는 {target_cols[np.argmin(a)]}')\n",
    "                add_feature.append(target_cols[np.argmin(a)])\n",
    "                del target_cols[np.argmin(a)]\n",
    "            else :\n",
    "                break\n",
    "        except :\n",
    "            break\n",
    "print('*' * 100)\n",
    "print(f'최종 선택 변수들은 {add_feature}이다.')"
   ]
  },
  {
   "cell_type": "code",
   "execution_count": 35,
   "metadata": {
    "scrolled": false
   },
   "outputs": [
    {
     "data": {
      "text/html": [
       "<table class=\"simpletable\">\n",
       "<caption>OLS Regression Results</caption>\n",
       "<tr>\n",
       "  <th>Dep. Variable:</th>        <td>revenues</td>     <th>  R-squared:         </th> <td>   0.873</td>\n",
       "</tr>\n",
       "<tr>\n",
       "  <th>Model:</th>                   <td>OLS</td>       <th>  Adj. R-squared:    </th> <td>   0.870</td>\n",
       "</tr>\n",
       "<tr>\n",
       "  <th>Method:</th>             <td>Least Squares</td>  <th>  F-statistic:       </th> <td>   228.9</td>\n",
       "</tr>\n",
       "<tr>\n",
       "  <th>Date:</th>             <td>Wed, 09 Dec 2020</td> <th>  Prob (F-statistic):</th> <td>1.57e-72</td>\n",
       "</tr>\n",
       "<tr>\n",
       "  <th>Time:</th>                 <td>10:43:45</td>     <th>  Log-Likelihood:    </th> <td> -369.26</td>\n",
       "</tr>\n",
       "<tr>\n",
       "  <th>No. Observations:</th>      <td>   172</td>      <th>  AIC:               </th> <td>   750.5</td>\n",
       "</tr>\n",
       "<tr>\n",
       "  <th>Df Residuals:</th>          <td>   166</td>      <th>  BIC:               </th> <td>   769.4</td>\n",
       "</tr>\n",
       "<tr>\n",
       "  <th>Df Model:</th>              <td>     5</td>      <th>                     </th>     <td> </td>   \n",
       "</tr>\n",
       "<tr>\n",
       "  <th>Covariance Type:</th>      <td>nonrobust</td>    <th>                     </th>     <td> </td>   \n",
       "</tr>\n",
       "</table>\n",
       "<table class=\"simpletable\">\n",
       "<tr>\n",
       "         <td></td>            <th>coef</th>     <th>std err</th>      <th>t</th>      <th>P>|t|</th>  <th>[0.025</th>    <th>0.975]</th>  \n",
       "</tr>\n",
       "<tr>\n",
       "  <th>constant</th>        <td>   28.4433</td> <td>    0.596</td> <td>   47.706</td> <td> 0.000</td> <td>   27.266</td> <td>   29.621</td>\n",
       "</tr>\n",
       "<tr>\n",
       "  <th>marketing_total</th> <td>   -1.1696</td> <td>    0.571</td> <td>   -2.049</td> <td> 0.042</td> <td>   -2.297</td> <td>   -0.043</td>\n",
       "</tr>\n",
       "<tr>\n",
       "  <th>facebook</th>        <td>    1.3464</td> <td>    0.571</td> <td>    2.356</td> <td> 0.020</td> <td>    0.218</td> <td>    2.474</td>\n",
       "</tr>\n",
       "<tr>\n",
       "  <th>google_adwords</th>  <td>    1.2110</td> <td>    0.571</td> <td>    2.122</td> <td> 0.035</td> <td>    0.084</td> <td>    2.338</td>\n",
       "</tr>\n",
       "<tr>\n",
       "  <th>employees</th>       <td>    0.3865</td> <td>    0.104</td> <td>    3.708</td> <td> 0.000</td> <td>    0.181</td> <td>    0.592</td>\n",
       "</tr>\n",
       "<tr>\n",
       "  <th>twitter</th>         <td>    1.1724</td> <td>    0.571</td> <td>    2.052</td> <td> 0.042</td> <td>    0.045</td> <td>    2.300</td>\n",
       "</tr>\n",
       "</table>\n",
       "<table class=\"simpletable\">\n",
       "<tr>\n",
       "  <th>Omnibus:</th>       <td> 3.945</td> <th>  Durbin-Watson:     </th> <td>   2.111</td>\n",
       "</tr>\n",
       "<tr>\n",
       "  <th>Prob(Omnibus):</th> <td> 0.139</td> <th>  Jarque-Bera (JB):  </th> <td>   3.974</td>\n",
       "</tr>\n",
       "<tr>\n",
       "  <th>Skew:</th>          <td>-0.341</td> <th>  Prob(JB):          </th> <td>   0.137</td>\n",
       "</tr>\n",
       "<tr>\n",
       "  <th>Kurtosis:</th>      <td> 2.702</td> <th>  Cond. No.          </th> <td>2.32e+03</td>\n",
       "</tr>\n",
       "</table><br/><br/>Warnings:<br/>[1] Standard Errors assume that the covariance matrix of the errors is correctly specified.<br/>[2] The condition number is large, 2.32e+03. This might indicate that there are<br/>strong multicollinearity or other numerical problems."
      ],
      "text/plain": [
       "<class 'statsmodels.iolib.summary.Summary'>\n",
       "\"\"\"\n",
       "                            OLS Regression Results                            \n",
       "==============================================================================\n",
       "Dep. Variable:               revenues   R-squared:                       0.873\n",
       "Model:                            OLS   Adj. R-squared:                  0.870\n",
       "Method:                 Least Squares   F-statistic:                     228.9\n",
       "Date:                Wed, 09 Dec 2020   Prob (F-statistic):           1.57e-72\n",
       "Time:                        10:43:45   Log-Likelihood:                -369.26\n",
       "No. Observations:                 172   AIC:                             750.5\n",
       "Df Residuals:                     166   BIC:                             769.4\n",
       "Df Model:                           5                                         \n",
       "Covariance Type:            nonrobust                                         \n",
       "===================================================================================\n",
       "                      coef    std err          t      P>|t|      [0.025      0.975]\n",
       "-----------------------------------------------------------------------------------\n",
       "constant           28.4433      0.596     47.706      0.000      27.266      29.621\n",
       "marketing_total    -1.1696      0.571     -2.049      0.042      -2.297      -0.043\n",
       "facebook            1.3464      0.571      2.356      0.020       0.218       2.474\n",
       "google_adwords      1.2110      0.571      2.122      0.035       0.084       2.338\n",
       "employees           0.3865      0.104      3.708      0.000       0.181       0.592\n",
       "twitter             1.1724      0.571      2.052      0.042       0.045       2.300\n",
       "==============================================================================\n",
       "Omnibus:                        3.945   Durbin-Watson:                   2.111\n",
       "Prob(Omnibus):                  0.139   Jarque-Bera (JB):                3.974\n",
       "Skew:                          -0.341   Prob(JB):                        0.137\n",
       "Kurtosis:                       2.702   Cond. No.                     2.32e+03\n",
       "==============================================================================\n",
       "\n",
       "Warnings:\n",
       "[1] Standard Errors assume that the covariance matrix of the errors is correctly specified.\n",
       "[2] The condition number is large, 2.32e+03. This might indicate that there are\n",
       "strong multicollinearity or other numerical problems.\n",
       "\"\"\""
      ]
     },
     "execution_count": 35,
     "metadata": {},
     "output_type": "execute_result"
    }
   ],
   "source": [
    "model = sm.OLS(y, X[add_feature]).fit()\n",
    "model.summary()"
   ]
  },
  {
   "cell_type": "markdown",
   "metadata": {},
   "source": [
    "처음에 marketing_total 변수가 추가되었을 때 AIC 값이 874.4로 가장 작아지므로 다음 단계에 marketing_total 변수를 모형에 추가하였다. 다음 단계에서는 facebook 변수가 추가 되었을 때 AIC 값이 789.09로 가장 낮아지는 것을 알 수 있다.<br>\n",
    "이러한 단계들을 거쳐 최종적으로 marketing_total, facebook, google_adwords, employees, twitter 변수가 선택되었다.<br>\n",
    "최종 회귀식은 y = 28.443 + 1.3464 * facebook + 1.1724 * twitter + 0.3865 * employees + 1.211 * google_adwords - 1.1696 * marketing_total이며 변수선택을 하지 않았을 때와 동일한 결과를 보인다.<br>\n",
    "결정계수 값은 0.873이고 수정된 결정계수는 0.870이다. 또한 모든 변수들의 p-value가 유의수준 0.05보다 작기 때문에 통계적으로 모두 유의하다고 볼 수 있다.<br>\n",
    "모델의 통계적유의성을 띄는 F통계량이 매우 크며 p-value도 0에 수렴하기 때문에 통계적으로 유의한 모델이라고 볼 수 있다.\n",
    "***\n",
    "### Q3) 전진선택법을 사용해 변수를 선택한 후 새롭게 생성한 회귀모형에 대한 \n",
    "###     잔차분석을 수행하고 결과를 해석하시오. "
   ]
  },
  {
   "cell_type": "code",
   "execution_count": 58,
   "metadata": {},
   "outputs": [
    {
     "data": {
      "text/plain": [
       "2.1113783728608317"
      ]
     },
     "execution_count": 58,
     "metadata": {},
     "output_type": "execute_result"
    }
   ],
   "source": [
    "durbin_watson(model.resid)"
   ]
  },
  {
   "cell_type": "markdown",
   "metadata": {},
   "source": [
    "더빈 왓슨 검정 결과 값이 2.114로 2에 가깝기 때문에 독립성 가정을 만족한다고 볼 수 있다."
   ]
  },
  {
   "cell_type": "code",
   "execution_count": 61,
   "metadata": {
    "scrolled": true
   },
   "outputs": [
    {
     "name": "stdout",
     "output_type": "stream",
     "text": [
      "shapiro 검정결과 검정 값은 0.9866이고 p-value는 0.0991이다.\n"
     ]
    }
   ],
   "source": [
    "shapiro = stats.shapiro(model.resid)\n",
    "print(f'shapiro 검정결과 검정 값은 {np.round(shapiro[0],4)}이고 p-value는 {np.round(shapiro[1], 4)}이다.')"
   ]
  },
  {
   "cell_type": "markdown",
   "metadata": {},
   "source": [
    "검정 결과 p-value가 0.0991로 유의수준 0.05하에서 대립가설을 기각한다. 따라서 데이터는 정규분포를 따른다고 볼 수 있다."
   ]
  },
  {
   "cell_type": "code",
   "execution_count": 83,
   "metadata": {
    "scrolled": false
   },
   "outputs": [
    {
     "data": {
      "image/png": "[encoded data removed]",
      "text/plain": [
       "<Figure size 432x288 with 1 Axes>"
      ]
     },
     "metadata": {
      "needs_background": "light"
     },
     "output_type": "display_data"
    }
   ],
   "source": [
    "plt.scatter(model.fittedvalues, model.resid, color = 'purple', alpha = .7)\n",
    "sns.regplot(model.fittedvalues, model.resid,\n",
    "          scatter=False,\n",
    "          ci=False,\n",
    "          lowess=True,\n",
    "          line_kws={'color': 'red', 'lw': 1, 'alpha': 0.8});\n",
    "plt.title('Residuals VS Fitted', size = 15)\n",
    "plt.show()"
   ]
  },
  {
   "cell_type": "markdown",
   "metadata": {},
   "source": [
    "잔차가 평균인 0을 중심으로 고르게 퍼져있는 것을 알 수 있지만 포물선을 그리고 있기 때문에 등분산성을 만족한다고 보기 어렵다."
   ]
  },
  {
   "cell_type": "code",
   "execution_count": 54,
   "metadata": {
    "scrolled": false
   },
   "outputs": [
    {
     "data": {
      "image/png": "[encoded data removed]",
      "text/plain": [
       "<Figure size 432x288 with 1 Axes>"
      ]
     },
     "metadata": {
      "needs_background": "light"
     },
     "output_type": "display_data"
    }
   ],
   "source": [
    "probplot(model.resid, plot = plt)\n",
    "plt.title('Normal Q-Q', size = 15)\n",
    "plt.show()"
   ]
  },
  {
   "cell_type": "markdown",
   "metadata": {},
   "source": [
    "정규성을 만족한다고 볼 수 있다."
   ]
  },
  {
   "cell_type": "code",
   "execution_count": 81,
   "metadata": {
    "scrolled": true
   },
   "outputs": [
    {
     "data": {
      "image/png": "[encoded data removed]",
      "text/plain": [
       "<Figure size 432x288 with 1 Axes>"
      ]
     },
     "metadata": {
      "needs_background": "light"
     },
     "output_type": "display_data"
    }
   ],
   "source": [
    "plt.scatter(model.fittedvalues, np.sqrt(np.abs(model.get_influence().resid_studentized_internal)), color = 'green', alpha = .7)\n",
    "sns.regplot(model.fittedvalues, np.sqrt(np.abs(model.get_influence().resid_studentized_internal)),\n",
    "          scatter=False,\n",
    "          ci=False,\n",
    "          lowess=True,\n",
    "          line_kws={'color': 'red', 'lw': 1, 'alpha': 0.8});\n",
    "plt.title('Scale-Location', size = 15)\n",
    "plt.show()"
   ]
  },
  {
   "cell_type": "markdown",
   "metadata": {},
   "source": [
    "기울기가 변화하는 경향이 보이고 빨간 선에서 멀리 떨어진 점들이 존재해 이상치인 점이 있을 가능성이 있다고 볼 수 있다."
   ]
  },
  {
   "cell_type": "code",
   "execution_count": 80,
   "metadata": {},
   "outputs": [
    {
     "data": {
      "image/png": "[encoded data removed]",
      "text/plain": [
       "<Figure size 432x288 with 1 Axes>"
      ]
     },
     "metadata": {
      "needs_background": "light"
     },
     "output_type": "display_data"
    }
   ],
   "source": [
    "plt.scatter(model.get_influence().hat_matrix_diag, model.resid, color = 'black', alpha = .7)\n",
    "sns.regplot(model.get_influence().hat_matrix_diag, model.resid,\n",
    "              scatter=False,\n",
    "              ci=False,\n",
    "              lowess=True,\n",
    "              line_kws={'color': 'red', 'lw': 1, 'alpha': 0.8});\n",
    "leverage_top_3 = np.flip(np.argsort(model.get_influence().cooks_distance[0]), 0)[:3]\n",
    "for i in leverage_top_3:\n",
    "    plt.annotate(i, xy=(model.get_influence().hat_matrix_diag[i],\n",
    "                                 model.resid[i]));\n",
    "plt.title('Residuals vs Leverage', size = 15)\n",
    "plt.show()"
   ]
  },
  {
   "cell_type": "markdown",
   "metadata": {},
   "source": [
    "쿡의 거리 0.5 이상인 점들이 존재하지 않기 때문에 회귀 직선에 영향을 끼치는 이상치들은 없다고 볼 수 있다.\n",
    "\n",
    "***\n",
    "\n",
    "종합적으로 볼 때 독립성과 정규성은 만족하지만 등분산성은 만족한다고 볼 수 없기 때문에 모형을 활용할 수는 없다."
   ]
  }
 ],
 "metadata": {
  "kernelspec": {
   "display_name": "Python 3",
   "language": "python",
   "name": "python3"
  },
  "language_info": {
   "codemirror_mode": {
    "name": "ipython",
    "version": 3
   },
   "file_extension": ".py",
   "mimetype": "text/x-python",
   "name": "python",
   "nbconvert_exporter": "python",
   "pygments_lexer": "ipython3",
   "version": "3.7.6"
  }
 },
 "nbformat": 4,
 "nbformat_minor": 4
}
