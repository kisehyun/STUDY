{
 "cells": [
  {
   "cell_type": "markdown",
   "metadata": {},
   "source": [
    "# 분류분석(Classification)\n",
    "***\n",
    "\n",
    "#### 분류기법\n",
    "- 회귀분석, 로지스틱회귀분석\n",
    "- 의사결정나무\n",
    "- 베이지안 분류\n",
    "- 인공신경망\n",
    "- 지지도벡터기계\n",
    "- k-최근접 이웃\n",
    "- 규칙기반의 분류와 사례기반추론\n",
    "\n",
    "## 1. 성과분석\n",
    "\n",
    "### 1-1) 혼동행렬(Confusion Matrix)\n",
    "|구분||실제|실제|\n",
    "|---|---|---|---|\n",
    "|||Positive|Negative||\n",
    "|예측|positive|TP|FP|\n",
    "|예측|negative|FN|TN|\n",
    "\n",
    "#### - 정학도(Accuracy) : $(TN + TP)\\over(TN + TP + FN +FP)$\n",
    "#### - 오분류율(Error Rate) : 1 - $Accuracy$ = $(FN + FP)\\over (TN + TP + FN +FP)$\n",
    "#### - 특이도(Specificity) : $TN\\over(TN+FP)$ = TNR(True Negtative Rate)\n",
    "#### - 민감도(Sensitivity) : $TP\\over(TP+FN)$ = TPR(True Positive Rate)\n",
    "#### - 정확도(Precision) : $TP\\over(TP+FP)$\n",
    "#### - 재현율(Recall) : 민감도와 같음\n",
    "#### - F1 Score = 2 * $Precision * Recall \\over Precision + Recall$\n",
    "***\n",
    "### 1-2) ROCR 성과분석\n",
    "#### ROC Curve(Receiver Operating Characteristic Curve)\n",
    "- ROC Curve란 가로축을 **FPR(1 - 특이도)**로 두고 세로축을 **TPR** 값으로 두어 시각화한 그래프이다.\n",
    "- 그래프가 왼쪽 상단에 가깝게 그려질수록 올바르게 예측한 비율은 높고 잘못 예측한 비율은 낮음을 의미한다.\n",
    "- ROC 곡선 아래의 면적을 의미하는 **AUROC(Area Under ROC)** 값이 크면 클수록 모형의 성능이 좋다고 평가한다.\n",
    "\n",
    "|기준|구분|\n",
    "|---|---|\n",
    "|0.9 ~ 1.0|Excellent|\n",
    "|0.8 ~ 0.9|Good|\n",
    "|0.7 ~ 0.8|Fair|\n",
    "|0.6 ~ 0.7|Poor|\n",
    "|0.5 ~ 0.6|Fail|\n",
    "***\n",
    "\n",
    "### 1-3) 이익 도표(Lift Chart)\n",
    "- 분류된 관측치에 대해 예측의 정확성을 나타내기 위해 임의로 나눈 각 등급별로 반응검출율, 반응률, 리프트 등의 정보를 산출하여 나타내는 도표.\n",
    "\n",
    "< 과정 >\n",
    "- 1. 관측치별로 예측활률을 내림차순으로 정렬한다.\n",
    "- 2. 데이터를 n개 구간으로 나눈 다음 각 구간의 반응율(% response)을 산출한다.\n",
    "- 3. 기본 향상도에 비해 반응률이 몇 배나 높은지를 계산하는데 이것을 향상도라고 한다.\n",
    "\n",
    "\n",
    "- 이익도표의 각 등급은 예측확률에 따라 매겨진 순위로 상위 등급에서는 더 높은 반응률을 보이는 것이 좋은 모형이다.\n",
    "- 등급별로 향상도가 급격하게 변동할수록 좋은 모형이며 각 등급별로 향상도가 들쭉날쭉하면 좋은 모형이라고 볼 수 없다."
   ]
  },
  {
   "cell_type": "code",
   "execution_count": 47,
   "metadata": {},
   "outputs": [],
   "source": [
    "import pandas as pd\n",
    "import numpy as np\n",
    "import matplotlib.pyplot as plt\n",
    "%matplotlib inline"
   ]
  },
  {
   "cell_type": "code",
   "execution_count": 54,
   "metadata": {},
   "outputs": [],
   "source": [
    "from sklearn.metrics import accuracy_score, auc, f1_score, roc_curve, roc_auc_score, recall_score, precision_score,classification_report,confusion_matrix,log_loss,multilabel_confusion_matrix,plot_confusion_matrix,plot_roc_curve, plot_precision_recall_curve\n",
    "from sklearn.model_selection import StratifiedKFold, train_test_split"
   ]
  },
  {
   "cell_type": "code",
   "execution_count": 3,
   "metadata": {},
   "outputs": [],
   "source": [
    "from sklearn.ensemble import GradientBoostingClassifier, RandomForestClassifier\n",
    "from sklearn.svm import LinearSVC, SVC\n",
    "from sklearn.naive_bayes import GaussianNB\n",
    "from sklearn.tree import DecisionTreeClassifier\n",
    "from sklearn.neighbors import KNeighborsClassifier"
   ]
  },
  {
   "cell_type": "markdown",
   "metadata": {},
   "source": [
    "## Binary Classification"
   ]
  },
  {
   "cell_type": "code",
   "execution_count": 125,
   "metadata": {},
   "outputs": [],
   "source": [
    "X = pd.read_csv('/Users/kisehyun/kookmin/data_mining/X_train_competition.csv', encoding = 'cp949')\n",
    "y = pd.read_csv('/Users/kisehyun/kookmin/data_mining/y_train.csv')"
   ]
  },
  {
   "cell_type": "code",
   "execution_count": 126,
   "metadata": {
    "scrolled": false
   },
   "outputs": [
    {
     "data": {
      "text/html": [
       "<div>\n",
       "<style scoped>\n",
       "    .dataframe tbody tr th:only-of-type {\n",
       "        vertical-align: middle;\n",
       "    }\n",
       "\n",
       "    .dataframe tbody tr th {\n",
       "        vertical-align: top;\n",
       "    }\n",
       "\n",
       "    .dataframe thead th {\n",
       "        text-align: right;\n",
       "    }\n",
       "</style>\n",
       "<table border=\"1\" class=\"dataframe\">\n",
       "  <thead>\n",
       "    <tr style=\"text-align: right;\">\n",
       "      <th></th>\n",
       "      <th>custid</th>\n",
       "      <th>총구매액</th>\n",
       "      <th>구매건수</th>\n",
       "      <th>평균구매가격</th>\n",
       "      <th>평균할부개월수</th>\n",
       "      <th>매장이용다양성</th>\n",
       "      <th>이용지점다양성</th>\n",
       "      <th>내점일수</th>\n",
       "      <th>수입상품_구매비율</th>\n",
       "      <th>주말방문비율</th>\n",
       "      <th>...</th>\n",
       "      <th>sales_date</th>\n",
       "      <th>평균할인금액</th>\n",
       "      <th>평균구매시간</th>\n",
       "      <th>실제구매금액</th>\n",
       "      <th>실제구매금액평균</th>\n",
       "      <th>무역점</th>\n",
       "      <th>본점</th>\n",
       "      <th>신촌점</th>\n",
       "      <th>천호점</th>\n",
       "      <th>평균할인율</th>\n",
       "    </tr>\n",
       "  </thead>\n",
       "  <tbody>\n",
       "    <tr>\n",
       "      <th>0</th>\n",
       "      <td>0</td>\n",
       "      <td>1742000</td>\n",
       "      <td>11</td>\n",
       "      <td>158363.636</td>\n",
       "      <td>2.8</td>\n",
       "      <td>0.0037</td>\n",
       "      <td>0.50</td>\n",
       "      <td>7</td>\n",
       "      <td>63.6</td>\n",
       "      <td>42.9</td>\n",
       "      <td>...</td>\n",
       "      <td>5.557692</td>\n",
       "      <td>15836.4</td>\n",
       "      <td>1757.1</td>\n",
       "      <td>1567800</td>\n",
       "      <td>142527.3</td>\n",
       "      <td>5</td>\n",
       "      <td>6</td>\n",
       "      <td>0</td>\n",
       "      <td>0</td>\n",
       "      <td>10.000023</td>\n",
       "    </tr>\n",
       "    <tr>\n",
       "      <th>1</th>\n",
       "      <td>1</td>\n",
       "      <td>2772100</td>\n",
       "      <td>26</td>\n",
       "      <td>106619.231</td>\n",
       "      <td>2.5</td>\n",
       "      <td>0.0100</td>\n",
       "      <td>0.50</td>\n",
       "      <td>16</td>\n",
       "      <td>42.3</td>\n",
       "      <td>50.0</td>\n",
       "      <td>...</td>\n",
       "      <td>6.750000</td>\n",
       "      <td>2178.1</td>\n",
       "      <td>1531.2</td>\n",
       "      <td>2715470</td>\n",
       "      <td>104441.2</td>\n",
       "      <td>4</td>\n",
       "      <td>22</td>\n",
       "      <td>0</td>\n",
       "      <td>0</td>\n",
       "      <td>2.042877</td>\n",
       "    </tr>\n",
       "    <tr>\n",
       "      <th>2</th>\n",
       "      <td>2</td>\n",
       "      <td>3750850</td>\n",
       "      <td>11</td>\n",
       "      <td>340986.364</td>\n",
       "      <td>3.5</td>\n",
       "      <td>0.0037</td>\n",
       "      <td>0.50</td>\n",
       "      <td>7</td>\n",
       "      <td>9.1</td>\n",
       "      <td>28.6</td>\n",
       "      <td>...</td>\n",
       "      <td>2.500000</td>\n",
       "      <td>23190.0</td>\n",
       "      <td>1537.1</td>\n",
       "      <td>3495760</td>\n",
       "      <td>317796.4</td>\n",
       "      <td>8</td>\n",
       "      <td>0</td>\n",
       "      <td>0</td>\n",
       "      <td>3</td>\n",
       "      <td>6.800858</td>\n",
       "    </tr>\n",
       "    <tr>\n",
       "      <th>3</th>\n",
       "      <td>3</td>\n",
       "      <td>2300500</td>\n",
       "      <td>30</td>\n",
       "      <td>76683.333</td>\n",
       "      <td>2.7</td>\n",
       "      <td>0.0110</td>\n",
       "      <td>0.50</td>\n",
       "      <td>13</td>\n",
       "      <td>0.0</td>\n",
       "      <td>38.5</td>\n",
       "      <td>...</td>\n",
       "      <td>6.384615</td>\n",
       "      <td>3055.3</td>\n",
       "      <td>1604.1</td>\n",
       "      <td>2208840</td>\n",
       "      <td>73628.0</td>\n",
       "      <td>4</td>\n",
       "      <td>0</td>\n",
       "      <td>0</td>\n",
       "      <td>26</td>\n",
       "      <td>3.984308</td>\n",
       "    </tr>\n",
       "    <tr>\n",
       "      <th>4</th>\n",
       "      <td>4</td>\n",
       "      <td>1045000</td>\n",
       "      <td>4</td>\n",
       "      <td>261250.000</td>\n",
       "      <td>4.5</td>\n",
       "      <td>0.0021</td>\n",
       "      <td>0.25</td>\n",
       "      <td>2</td>\n",
       "      <td>25.0</td>\n",
       "      <td>50.0</td>\n",
       "      <td>...</td>\n",
       "      <td>0.076923</td>\n",
       "      <td>5450.0</td>\n",
       "      <td>1434.0</td>\n",
       "      <td>1023200</td>\n",
       "      <td>255800.0</td>\n",
       "      <td>4</td>\n",
       "      <td>0</td>\n",
       "      <td>0</td>\n",
       "      <td>0</td>\n",
       "      <td>2.086124</td>\n",
       "    </tr>\n",
       "  </tbody>\n",
       "</table>\n",
       "<p>5 rows × 27 columns</p>\n",
       "</div>"
      ],
      "text/plain": [
       "   custid     총구매액  구매건수      평균구매가격  평균할부개월수  매장이용다양성  이용지점다양성  내점일수  \\\n",
       "0       0  1742000    11  158363.636      2.8   0.0037     0.50     7   \n",
       "1       1  2772100    26  106619.231      2.5   0.0100     0.50    16   \n",
       "2       2  3750850    11  340986.364      3.5   0.0037     0.50     7   \n",
       "3       3  2300500    30   76683.333      2.7   0.0110     0.50    13   \n",
       "4       4  1045000     4  261250.000      4.5   0.0021     0.25     2   \n",
       "\n",
       "   수입상품_구매비율  주말방문비율  ...  sales_date   평균할인금액  평균구매시간   실제구매금액  실제구매금액평균  \\\n",
       "0       63.6    42.9  ...    5.557692  15836.4  1757.1  1567800  142527.3   \n",
       "1       42.3    50.0  ...    6.750000   2178.1  1531.2  2715470  104441.2   \n",
       "2        9.1    28.6  ...    2.500000  23190.0  1537.1  3495760  317796.4   \n",
       "3        0.0    38.5  ...    6.384615   3055.3  1604.1  2208840   73628.0   \n",
       "4       25.0    50.0  ...    0.076923   5450.0  1434.0  1023200  255800.0   \n",
       "\n",
       "   무역점  본점  신촌점  천호점      평균할인율  \n",
       "0    5   6    0    0  10.000023  \n",
       "1    4  22    0    0   2.042877  \n",
       "2    8   0    0    3   6.800858  \n",
       "3    4   0    0   26   3.984308  \n",
       "4    4   0    0    0   2.086124  \n",
       "\n",
       "[5 rows x 27 columns]"
      ]
     },
     "execution_count": 126,
     "metadata": {},
     "output_type": "execute_result"
    }
   ],
   "source": [
    "X.head()"
   ]
  },
  {
   "cell_type": "code",
   "execution_count": 127,
   "metadata": {
    "scrolled": true
   },
   "outputs": [
    {
     "data": {
      "text/html": [
       "<div>\n",
       "<style scoped>\n",
       "    .dataframe tbody tr th:only-of-type {\n",
       "        vertical-align: middle;\n",
       "    }\n",
       "\n",
       "    .dataframe tbody tr th {\n",
       "        vertical-align: top;\n",
       "    }\n",
       "\n",
       "    .dataframe thead th {\n",
       "        text-align: right;\n",
       "    }\n",
       "</style>\n",
       "<table border=\"1\" class=\"dataframe\">\n",
       "  <thead>\n",
       "    <tr style=\"text-align: right;\">\n",
       "      <th></th>\n",
       "      <th>custid</th>\n",
       "      <th>gender</th>\n",
       "    </tr>\n",
       "  </thead>\n",
       "  <tbody>\n",
       "    <tr>\n",
       "      <th>0</th>\n",
       "      <td>0</td>\n",
       "      <td>1</td>\n",
       "    </tr>\n",
       "    <tr>\n",
       "      <th>1</th>\n",
       "      <td>1</td>\n",
       "      <td>1</td>\n",
       "    </tr>\n",
       "    <tr>\n",
       "      <th>2</th>\n",
       "      <td>2</td>\n",
       "      <td>1</td>\n",
       "    </tr>\n",
       "    <tr>\n",
       "      <th>3</th>\n",
       "      <td>3</td>\n",
       "      <td>0</td>\n",
       "    </tr>\n",
       "    <tr>\n",
       "      <th>4</th>\n",
       "      <td>4</td>\n",
       "      <td>0</td>\n",
       "    </tr>\n",
       "  </tbody>\n",
       "</table>\n",
       "</div>"
      ],
      "text/plain": [
       "   custid  gender\n",
       "0       0       1\n",
       "1       1       1\n",
       "2       2       1\n",
       "3       3       0\n",
       "4       4       0"
      ]
     },
     "execution_count": 127,
     "metadata": {},
     "output_type": "execute_result"
    }
   ],
   "source": [
    "y.head()"
   ]
  },
  {
   "cell_type": "code",
   "execution_count": 128,
   "metadata": {},
   "outputs": [],
   "source": [
    "X = X.iloc[:, 1:]"
   ]
  },
  {
   "cell_type": "markdown",
   "metadata": {},
   "source": [
    "#### 파생변수 생성 파트는 생략"
   ]
  },
  {
   "cell_type": "code",
   "execution_count": 129,
   "metadata": {
    "scrolled": true
   },
   "outputs": [],
   "source": [
    "dt = DecisionTreeClassifier(random_state = 526)\n",
    "rf = RandomForestClassifier(random_state = 526)\n",
    "svm = SVC(random_state = 526)\n",
    "knn = KNeighborsClassifier()\n",
    "gb = GradientBoostingClassifier(random_state = 526)"
   ]
  },
  {
   "cell_type": "markdown",
   "metadata": {},
   "source": [
    "#### 평가지표 출력"
   ]
  },
  {
   "cell_type": "code",
   "execution_count": 130,
   "metadata": {},
   "outputs": [],
   "source": [
    "X_train, X_test, y_train, y_test = train_test_split(X, y.gender, test_size = .2, random_state = 526)"
   ]
  },
  {
   "cell_type": "code",
   "execution_count": 131,
   "metadata": {
    "scrolled": false
   },
   "outputs": [
    {
     "data": {
      "text/plain": [
       "GradientBoostingClassifier(random_state=526)"
      ]
     },
     "execution_count": 131,
     "metadata": {},
     "output_type": "execute_result"
    }
   ],
   "source": [
    "gb.fit(X_train, y_train)"
   ]
  },
  {
   "cell_type": "code",
   "execution_count": 132,
   "metadata": {},
   "outputs": [],
   "source": [
    "pred_class = gb.predict(X_test)"
   ]
  },
  {
   "cell_type": "markdown",
   "metadata": {},
   "source": [
    "#### 아래 지표들은 데이터의 예측 클래스로 계산"
   ]
  },
  {
   "cell_type": "code",
   "execution_count": 133,
   "metadata": {},
   "outputs": [
    {
     "name": "stdout",
     "output_type": "stream",
     "text": [
      "Accuracy : 0.7065\n",
      "Error Rate : 0.2935\n",
      "Recall : 0.12316874660879001\n",
      "Precision : 0.6102150537634409\n",
      "F1-score : 0.2049661399548533\n"
     ]
    }
   ],
   "source": [
    "print(f'Accuracy : {accuracy_score(y_test, pred_class)}')\n",
    "print(f'Error Rate : {1 - accuracy_score(y_test, pred_class)}')\n",
    "print(f'Recall : {recall_score(y_test, pred_class)}')\n",
    "print(f'Precision : {precision_score(y_test, pred_class)}')\n",
    "print(f'F1-score : {f1_score(y_test, pred_class)}')"
   ]
  },
  {
   "cell_type": "code",
   "execution_count": 134,
   "metadata": {
    "scrolled": false
   },
   "outputs": [
    {
     "name": "stdout",
     "output_type": "stream",
     "text": [
      "[[4012  145]\n",
      " [1616  227]]\n"
     ]
    }
   ],
   "source": [
    "print(confusion_matrix(y_test, pred_class))"
   ]
  },
  {
   "cell_type": "code",
   "execution_count": 135,
   "metadata": {},
   "outputs": [
    {
     "name": "stdout",
     "output_type": "stream",
     "text": [
      "              precision    recall  f1-score   support\n",
      "\n",
      "           0       0.71      0.97      0.82      4157\n",
      "           1       0.61      0.12      0.20      1843\n",
      "\n",
      "    accuracy                           0.71      6000\n",
      "   macro avg       0.66      0.54      0.51      6000\n",
      "weighted avg       0.68      0.71      0.63      6000\n",
      "\n"
     ]
    }
   ],
   "source": [
    "print(classification_report(y_test, pred_class))"
   ]
  },
  {
   "cell_type": "markdown",
   "metadata": {},
   "source": [
    "#### 아래 지표들은 데이터의 클래스별 예측 확률로 계산"
   ]
  },
  {
   "cell_type": "code",
   "execution_count": 136,
   "metadata": {},
   "outputs": [],
   "source": [
    "prob_class = gb.predict_proba(X_test)[:, 1]"
   ]
  },
  {
   "cell_type": "markdown",
   "metadata": {},
   "source": [
    "관측치별로 예측활률을 내림차순으로 정렬한다.\n",
    "데이터를 n개 구간으로 나눈 다음 각 구간의 반응율(% response)을 산출한다.\n",
    "기본 향상도에 비해 반응률이 몇 배나 높은지를 계산하는데 이것을 향상도라고 한다.\n",
    "이익도표의 각 등급은 예측b확률에 따라 매겨진 순위로 상위 등급에서는 더 높은 반응률을 보이는 것이 좋은 모형이다.\n",
    "등급별로 향상도가 급격하게 변동할수록 좋은 모형이며 각 등급별로 향상도가 들쭉날쭉하면 좋은 모형이라고 볼 수 없다."
   ]
  },
  {
   "cell_type": "code",
   "execution_count": 149,
   "metadata": {
    "scrolled": true
   },
   "outputs": [
    {
     "name": "stderr",
     "output_type": "stream",
     "text": [
      "<ipython-input-149-982fccadd269>:1: SettingWithCopyWarning: \n",
      "A value is trying to be set on a copy of a slice from a DataFrame.\n",
      "Try using .loc[row_indexer,col_indexer] = value instead\n",
      "\n",
      "See the caveats in the documentation: https://pandas.pydata.org/pandas-docs/stable/user_guide/indexing.html#returning-a-view-versus-a-copy\n",
      "  X_test['probability'] = prob_class\n"
     ]
    }
   ],
   "source": [
    "X_test['probability'] = prob_class"
   ]
  },
  {
   "cell_type": "code",
   "execution_count": 31,
   "metadata": {},
   "outputs": [],
   "source": [
    "fpr, tpr, thresholds = roc_curve(y_test, prob_class)"
   ]
  },
  {
   "cell_type": "code",
   "execution_count": 38,
   "metadata": {
    "scrolled": true
   },
   "outputs": [
    {
     "data": {
      "text/plain": [
       "0.655170282630309"
      ]
     },
     "execution_count": 38,
     "metadata": {},
     "output_type": "execute_result"
    }
   ],
   "source": [
    "auc(fpr, tpr) # roc auc와 동일"
   ]
  },
  {
   "cell_type": "code",
   "execution_count": 37,
   "metadata": {
    "scrolled": false
   },
   "outputs": [
    {
     "name": "stdout",
     "output_type": "stream",
     "text": [
      "roc auc : 0.655170282630309\n",
      "Log loss : 0.582606028479089\n"
     ]
    }
   ],
   "source": [
    "print(f'roc auc : {roc_auc_score(y_test, prob_class)}')\n",
    "print(f'Log loss : {log_loss(y_test, prob_class)}')"
   ]
  },
  {
   "cell_type": "markdown",
   "metadata": {},
   "source": [
    "#### 이익도표(Lift Chart)"
   ]
  },
  {
   "cell_type": "code",
   "execution_count": 174,
   "metadata": {
    "scrolled": true
   },
   "outputs": [
    {
     "name": "stderr",
     "output_type": "stream",
     "text": [
      "<ipython-input-174-5cdb4852a7e5>:1: SettingWithCopyWarning: \n",
      "A value is trying to be set on a copy of a slice from a DataFrame.\n",
      "Try using .loc[row_indexer,col_indexer] = value instead\n",
      "\n",
      "See the caveats in the documentation: https://pandas.pydata.org/pandas-docs/stable/user_guide/indexing.html#returning-a-view-versus-a-copy\n",
      "  X_test['actual_class'] = y_test\n"
     ]
    }
   ],
   "source": [
    "X_test['actual_class'] = y_test"
   ]
  },
  {
   "cell_type": "code",
   "execution_count": 190,
   "metadata": {
    "scrolled": false
   },
   "outputs": [
    {
     "data": {
      "text/html": [
       "<div>\n",
       "<style scoped>\n",
       "    .dataframe tbody tr th:only-of-type {\n",
       "        vertical-align: middle;\n",
       "    }\n",
       "\n",
       "    .dataframe tbody tr th {\n",
       "        vertical-align: top;\n",
       "    }\n",
       "\n",
       "    .dataframe thead th {\n",
       "        text-align: right;\n",
       "    }\n",
       "</style>\n",
       "<table border=\"1\" class=\"dataframe\">\n",
       "  <thead>\n",
       "    <tr style=\"text-align: right;\">\n",
       "      <th></th>\n",
       "      <th>총구매액</th>\n",
       "      <th>구매건수</th>\n",
       "      <th>평균구매가격</th>\n",
       "      <th>평균할부개월수</th>\n",
       "      <th>매장이용다양성</th>\n",
       "      <th>이용지점다양성</th>\n",
       "      <th>내점일수</th>\n",
       "      <th>수입상품_구매비율</th>\n",
       "      <th>주말방문비율</th>\n",
       "      <th>가을_구매건수</th>\n",
       "      <th>...</th>\n",
       "      <th>평균구매시간</th>\n",
       "      <th>실제구매금액</th>\n",
       "      <th>실제구매금액평균</th>\n",
       "      <th>무역점</th>\n",
       "      <th>본점</th>\n",
       "      <th>신촌점</th>\n",
       "      <th>천호점</th>\n",
       "      <th>평균할인율</th>\n",
       "      <th>probability</th>\n",
       "      <th>actual_class</th>\n",
       "    </tr>\n",
       "  </thead>\n",
       "  <tbody>\n",
       "    <tr>\n",
       "      <th>22111</th>\n",
       "      <td>17419300</td>\n",
       "      <td>51</td>\n",
       "      <td>341554.902</td>\n",
       "      <td>2.3</td>\n",
       "      <td>0.0136</td>\n",
       "      <td>0.50</td>\n",
       "      <td>18</td>\n",
       "      <td>27.5</td>\n",
       "      <td>72.2</td>\n",
       "      <td>16</td>\n",
       "      <td>...</td>\n",
       "      <td>1487.7</td>\n",
       "      <td>15720550</td>\n",
       "      <td>308246.1</td>\n",
       "      <td>12</td>\n",
       "      <td>39</td>\n",
       "      <td>0</td>\n",
       "      <td>0</td>\n",
       "      <td>9.752107</td>\n",
       "      <td>0.843076</td>\n",
       "      <td>1</td>\n",
       "    </tr>\n",
       "    <tr>\n",
       "      <th>6494</th>\n",
       "      <td>12069110</td>\n",
       "      <td>171</td>\n",
       "      <td>70579.591</td>\n",
       "      <td>1.2</td>\n",
       "      <td>0.0393</td>\n",
       "      <td>1.00</td>\n",
       "      <td>45</td>\n",
       "      <td>2.9</td>\n",
       "      <td>64.4</td>\n",
       "      <td>43</td>\n",
       "      <td>...</td>\n",
       "      <td>1538.0</td>\n",
       "      <td>11241070</td>\n",
       "      <td>65737.3</td>\n",
       "      <td>7</td>\n",
       "      <td>60</td>\n",
       "      <td>99</td>\n",
       "      <td>5</td>\n",
       "      <td>6.860765</td>\n",
       "      <td>0.839064</td>\n",
       "      <td>1</td>\n",
       "    </tr>\n",
       "    <tr>\n",
       "      <th>8409</th>\n",
       "      <td>10803900</td>\n",
       "      <td>40</td>\n",
       "      <td>270097.500</td>\n",
       "      <td>1.2</td>\n",
       "      <td>0.0131</td>\n",
       "      <td>0.50</td>\n",
       "      <td>19</td>\n",
       "      <td>10.0</td>\n",
       "      <td>73.7</td>\n",
       "      <td>19</td>\n",
       "      <td>...</td>\n",
       "      <td>1465.5</td>\n",
       "      <td>9748870</td>\n",
       "      <td>243721.8</td>\n",
       "      <td>2</td>\n",
       "      <td>38</td>\n",
       "      <td>0</td>\n",
       "      <td>0</td>\n",
       "      <td>9.765288</td>\n",
       "      <td>0.824685</td>\n",
       "      <td>0</td>\n",
       "    </tr>\n",
       "    <tr>\n",
       "      <th>1204</th>\n",
       "      <td>20325401</td>\n",
       "      <td>435</td>\n",
       "      <td>46725.060</td>\n",
       "      <td>1.0</td>\n",
       "      <td>0.0456</td>\n",
       "      <td>0.25</td>\n",
       "      <td>165</td>\n",
       "      <td>0.9</td>\n",
       "      <td>29.7</td>\n",
       "      <td>97</td>\n",
       "      <td>...</td>\n",
       "      <td>1659.9</td>\n",
       "      <td>19800421</td>\n",
       "      <td>45518.2</td>\n",
       "      <td>0</td>\n",
       "      <td>0</td>\n",
       "      <td>435</td>\n",
       "      <td>0</td>\n",
       "      <td>2.582982</td>\n",
       "      <td>0.815114</td>\n",
       "      <td>1</td>\n",
       "    </tr>\n",
       "    <tr>\n",
       "      <th>12828</th>\n",
       "      <td>30512209</td>\n",
       "      <td>189</td>\n",
       "      <td>161440.259</td>\n",
       "      <td>2.0</td>\n",
       "      <td>0.0409</td>\n",
       "      <td>0.75</td>\n",
       "      <td>94</td>\n",
       "      <td>28.6</td>\n",
       "      <td>29.8</td>\n",
       "      <td>58</td>\n",
       "      <td>...</td>\n",
       "      <td>1555.2</td>\n",
       "      <td>28189589</td>\n",
       "      <td>149151.3</td>\n",
       "      <td>9</td>\n",
       "      <td>65</td>\n",
       "      <td>115</td>\n",
       "      <td>0</td>\n",
       "      <td>7.612104</td>\n",
       "      <td>0.812746</td>\n",
       "      <td>1</td>\n",
       "    </tr>\n",
       "  </tbody>\n",
       "</table>\n",
       "<p>5 rows × 28 columns</p>\n",
       "</div>"
      ],
      "text/plain": [
       "           총구매액  구매건수      평균구매가격  평균할부개월수  매장이용다양성  이용지점다양성  내점일수  수입상품_구매비율  \\\n",
       "22111  17419300    51  341554.902      2.3   0.0136     0.50    18       27.5   \n",
       "6494   12069110   171   70579.591      1.2   0.0393     1.00    45        2.9   \n",
       "8409   10803900    40  270097.500      1.2   0.0131     0.50    19       10.0   \n",
       "1204   20325401   435   46725.060      1.0   0.0456     0.25   165        0.9   \n",
       "12828  30512209   189  161440.259      2.0   0.0409     0.75    94       28.6   \n",
       "\n",
       "       주말방문비율  가을_구매건수  ...  평균구매시간    실제구매금액  실제구매금액평균  무역점  본점  신촌점  천호점  \\\n",
       "22111    72.2       16  ...  1487.7  15720550  308246.1   12  39    0    0   \n",
       "6494     64.4       43  ...  1538.0  11241070   65737.3    7  60   99    5   \n",
       "8409     73.7       19  ...  1465.5   9748870  243721.8    2  38    0    0   \n",
       "1204     29.7       97  ...  1659.9  19800421   45518.2    0   0  435    0   \n",
       "12828    29.8       58  ...  1555.2  28189589  149151.3    9  65  115    0   \n",
       "\n",
       "          평균할인율  probability  actual_class  \n",
       "22111  9.752107     0.843076             1  \n",
       "6494   6.860765     0.839064             1  \n",
       "8409   9.765288     0.824685             0  \n",
       "1204   2.582982     0.815114             1  \n",
       "12828  7.612104     0.812746             1  \n",
       "\n",
       "[5 rows x 28 columns]"
      ]
     },
     "execution_count": 190,
     "metadata": {},
     "output_type": "execute_result"
    }
   ],
   "source": [
    "df = X_test.sort_values(by = 'probability', ascending = False)\n",
    "df.head()"
   ]
  },
  {
   "cell_type": "code",
   "execution_count": 191,
   "metadata": {},
   "outputs": [],
   "source": [
    "df['cls'] = pd.qcut(df.probability, 10, labels = [f'{i}등급' for i in range(10, 0, -1)])"
   ]
  },
  {
   "cell_type": "code",
   "execution_count": 192,
   "metadata": {},
   "outputs": [
    {
     "data": {
      "text/plain": [
       "10등급    600\n",
       "9등급     600\n",
       "8등급     600\n",
       "7등급     600\n",
       "6등급     600\n",
       "5등급     600\n",
       "4등급     600\n",
       "3등급     600\n",
       "2등급     600\n",
       "1등급     600\n",
       "Name: cls, dtype: int64"
      ]
     },
     "execution_count": 192,
     "metadata": {},
     "output_type": "execute_result"
    }
   ],
   "source": [
    "df.cls.value_counts()"
   ]
  },
  {
   "cell_type": "markdown",
   "metadata": {},
   "source": [
    "한 구간에 600개씩 10등급으로 구간화 진행"
   ]
  },
  {
   "cell_type": "code",
   "execution_count": 214,
   "metadata": {},
   "outputs": [
    {
     "data": {
      "text/plain": [
       "1843"
      ]
     },
     "execution_count": 214,
     "metadata": {},
     "output_type": "execute_result"
    }
   ],
   "source": [
    "pd.crosstab(df.cls, df.actual_class).iloc[:, 1].sum()\n",
    "# 실제 class가 1인 고객의 수"
   ]
  },
  {
   "cell_type": "code",
   "execution_count": 216,
   "metadata": {},
   "outputs": [
    {
     "data": {
      "text/plain": [
       "0.30716666666666664"
      ]
     },
     "execution_count": 216,
     "metadata": {},
     "output_type": "execute_result"
    }
   ],
   "source": [
    "baseline_lift = pd.crosstab(df.cls, df.actual_class).iloc[:, 1].sum() / 6000\n",
    "baseline_lift"
   ]
  },
  {
   "cell_type": "code",
   "execution_count": 220,
   "metadata": {},
   "outputs": [
    {
     "data": {
      "text/html": [
       "<div>\n",
       "<style scoped>\n",
       "    .dataframe tbody tr th:only-of-type {\n",
       "        vertical-align: middle;\n",
       "    }\n",
       "\n",
       "    .dataframe tbody tr th {\n",
       "        vertical-align: top;\n",
       "    }\n",
       "\n",
       "    .dataframe thead th {\n",
       "        text-align: right;\n",
       "    }\n",
       "</style>\n",
       "<table border=\"1\" class=\"dataframe\">\n",
       "  <thead>\n",
       "    <tr style=\"text-align: right;\">\n",
       "      <th></th>\n",
       "      <th>Captured_Response</th>\n",
       "      <th>Response</th>\n",
       "      <th>Lift</th>\n",
       "    </tr>\n",
       "    <tr>\n",
       "      <th>cls</th>\n",
       "      <th></th>\n",
       "      <th></th>\n",
       "      <th></th>\n",
       "    </tr>\n",
       "  </thead>\n",
       "  <tbody>\n",
       "    <tr>\n",
       "      <th>1등급</th>\n",
       "      <td>18.231145</td>\n",
       "      <td>56.000000</td>\n",
       "      <td>182.311449</td>\n",
       "    </tr>\n",
       "    <tr>\n",
       "      <th>2등급</th>\n",
       "      <td>12.913728</td>\n",
       "      <td>39.666667</td>\n",
       "      <td>129.137276</td>\n",
       "    </tr>\n",
       "    <tr>\n",
       "      <th>3등급</th>\n",
       "      <td>12.696690</td>\n",
       "      <td>39.000000</td>\n",
       "      <td>126.966902</td>\n",
       "    </tr>\n",
       "    <tr>\n",
       "      <th>4등급</th>\n",
       "      <td>10.797613</td>\n",
       "      <td>33.166667</td>\n",
       "      <td>107.976126</td>\n",
       "    </tr>\n",
       "    <tr>\n",
       "      <th>5등급</th>\n",
       "      <td>10.472056</td>\n",
       "      <td>32.166667</td>\n",
       "      <td>104.720564</td>\n",
       "    </tr>\n",
       "    <tr>\n",
       "      <th>6등급</th>\n",
       "      <td>9.983722</td>\n",
       "      <td>30.666667</td>\n",
       "      <td>99.837222</td>\n",
       "    </tr>\n",
       "    <tr>\n",
       "      <th>7등급</th>\n",
       "      <td>6.890939</td>\n",
       "      <td>21.166667</td>\n",
       "      <td>68.909387</td>\n",
       "    </tr>\n",
       "    <tr>\n",
       "      <th>8등급</th>\n",
       "      <td>7.596310</td>\n",
       "      <td>23.333333</td>\n",
       "      <td>75.963104</td>\n",
       "    </tr>\n",
       "    <tr>\n",
       "      <th>9등급</th>\n",
       "      <td>6.077048</td>\n",
       "      <td>18.666667</td>\n",
       "      <td>60.770483</td>\n",
       "    </tr>\n",
       "    <tr>\n",
       "      <th>10등급</th>\n",
       "      <td>4.340749</td>\n",
       "      <td>13.333333</td>\n",
       "      <td>43.407488</td>\n",
       "    </tr>\n",
       "  </tbody>\n",
       "</table>\n",
       "</div>"
      ],
      "text/plain": [
       "      Captured_Response   Response        Lift\n",
       "cls                                           \n",
       "1등급           18.231145  56.000000  182.311449\n",
       "2등급           12.913728  39.666667  129.137276\n",
       "3등급           12.696690  39.000000  126.966902\n",
       "4등급           10.797613  33.166667  107.976126\n",
       "5등급           10.472056  32.166667  104.720564\n",
       "6등급            9.983722  30.666667   99.837222\n",
       "7등급            6.890939  21.166667   68.909387\n",
       "8등급            7.596310  23.333333   75.963104\n",
       "9등급            6.077048  18.666667   60.770483\n",
       "10등급           4.340749  13.333333   43.407488"
      ]
     },
     "execution_count": 220,
     "metadata": {},
     "output_type": "execute_result"
    }
   ],
   "source": [
    "lift_df = pd.DataFrame((pd.crosstab(df.cls, df.actual_class).iloc[:, 1] / y_test.value_counts()[1]))\n",
    "lift_df.rename(columns = {1 : 'Captured_Response'}, inplace = True)\n",
    "lift_df['Response'] = pd.crosstab(df.cls, df.actual_class).iloc[:, 1] / 600\n",
    "lift_df['Lift'] = lift_df.Response / baseline_lift\n",
    "lift_df *= 100\n",
    "lift_df.sort_index(ascending = False)"
   ]
  },
  {
   "cell_type": "markdown",
   "metadata": {},
   "source": [
    "- Captured Response  : 반응검출율(해당 등급의 class 1 / 전체 데이터 수)\n",
    "- Response : 반응률(해당 등급의 class 1 / 등급 데이터 수)\n",
    "- Lift : 반응률(빠른 속도로 Lift가 감소해야 좋은 모델)"
   ]
  },
  {
   "cell_type": "markdown",
   "metadata": {},
   "source": [
    "### Auto Plotting by test set & Model"
   ]
  },
  {
   "cell_type": "code",
   "execution_count": 51,
   "metadata": {
    "scrolled": true
   },
   "outputs": [
    {
     "data": {
      "image/png": "[encoded data removed]",
      "text/plain": [
       "<Figure size 432x288 with 2 Axes>"
      ]
     },
     "metadata": {
      "needs_background": "light"
     },
     "output_type": "display_data"
    }
   ],
   "source": [
    "plot_confusion_matrix(gb, X_test, y_test)\n",
    "plt.show()"
   ]
  },
  {
   "cell_type": "code",
   "execution_count": 48,
   "metadata": {},
   "outputs": [
    {
     "data": {
      "image/png": "[encoded data removed]",
      "text/plain": [
       "<Figure size 432x288 with 1 Axes>"
      ]
     },
     "metadata": {
      "needs_background": "light"
     },
     "output_type": "display_data"
    }
   ],
   "source": [
    "plot_roc_curve(gb, X_test, y_test)\n",
    "plt.show()"
   ]
  },
  {
   "cell_type": "code",
   "execution_count": 56,
   "metadata": {},
   "outputs": [
    {
     "data": {
      "image/png": "[encoded data removed]",
      "text/plain": [
       "<Figure size 432x288 with 1 Axes>"
      ]
     },
     "metadata": {
      "needs_background": "light"
     },
     "output_type": "display_data"
    }
   ],
   "source": [
    "plot_precision_recall_curve(gb, X_test, y_test)\n",
    "plt.show()"
   ]
  },
  {
   "cell_type": "markdown",
   "metadata": {},
   "source": [
    "#### submission 제출 문제 -> 분류문제는 StratifiedKFold\n",
    "- 3개 이상의 알고리즘을 적용하여 제출 파일 생성하라."
   ]
  },
  {
   "cell_type": "code",
   "execution_count": 58,
   "metadata": {},
   "outputs": [],
   "source": [
    "n = 10\n",
    "skf = StratifiedKFold(n_splits = n, random_state = 526, shuffle = True)"
   ]
  },
  {
   "cell_type": "markdown",
   "metadata": {},
   "source": [
    "#### 의사결정나무"
   ]
  },
  {
   "cell_type": "code",
   "execution_count": 62,
   "metadata": {
    "scrolled": true
   },
   "outputs": [
    {
     "name": "stdout",
     "output_type": "stream",
     "text": [
      "1번째 FOLD roc_auc_score는 0.5284142468239564\n",
      "2번째 FOLD roc_auc_score는 0.5482078039927405\n",
      "3번째 FOLD roc_auc_score는 0.5237573099415205\n",
      "4번째 FOLD roc_auc_score는 0.5284520568663037\n",
      "5번째 FOLD roc_auc_score는 0.5458194696511394\n",
      "6번째 FOLD roc_auc_score는 0.5369656180681589\n",
      "7번째 FOLD roc_auc_score는 0.5336068259729784\n",
      "8번째 FOLD roc_auc_score는 0.5207388082274652\n",
      "9번째 FOLD roc_auc_score는 0.544050982644441\n",
      "10번째 FOLD roc_auc_score는 0.5271481110348021\n"
     ]
    }
   ],
   "source": [
    "i = 0\n",
    "### test 파일의 행수만큼 0행렬 생성\n",
    "# dt_pred = np.zeros((test.shape[0]))\n",
    "\n",
    "for tr_idx, val_idx in skf.split(X, y.gender) :\n",
    "    tr_x, tr_y = X.iloc[tr_idx], y.gender.iloc[tr_idx]\n",
    "    val_x, val_y = X.iloc[val_idx], y.gender.iloc[val_idx]\n",
    "    i += 1\n",
    "    dt.fit(tr_x, tr_y)\n",
    "    \n",
    "    pred = dt.predict_proba(val_x)[:, 1]\n",
    "    print(f'{i}번째 FOLD roc_auc_score는 {roc_auc_score(val_y, pred)}')\n",
    "    \n",
    "    ### 실제 test 파일 존재하면 아래와 같이 실행\n",
    "    # sub_pred = dt.predict_proba(test)[:, 1] / n\n",
    "    # dt_pred += sub_pred"
   ]
  },
  {
   "cell_type": "markdown",
   "metadata": {},
   "source": [
    "#### KNN"
   ]
  },
  {
   "cell_type": "code",
   "execution_count": 63,
   "metadata": {},
   "outputs": [
    {
     "name": "stdout",
     "output_type": "stream",
     "text": [
      "1번째 FOLD roc_auc_score는 0.5479649269846071\n",
      "2번째 FOLD roc_auc_score는 0.5457007881293272\n",
      "3번째 FOLD roc_auc_score는 0.5505958757646031\n",
      "4번째 FOLD roc_auc_score는 0.5430257276332594\n",
      "5번째 FOLD roc_auc_score는 0.5330654071721449\n",
      "6번째 FOLD roc_auc_score는 0.5535484724742892\n",
      "7번째 FOLD roc_auc_score는 0.5151347822981784\n",
      "8번째 FOLD roc_auc_score는 0.5301626987127781\n",
      "9번째 FOLD roc_auc_score는 0.5608708309008718\n",
      "10번째 FOLD roc_auc_score는 0.5425838864282566\n"
     ]
    }
   ],
   "source": [
    "i = 0\n",
    "### test 파일의 행수만큼 0행렬 생성\n",
    "# knn_pred = np.zeros((test.shape[0]))\n",
    "\n",
    "for tr_idx, val_idx in skf.split(X, y.gender) :\n",
    "    tr_x, tr_y = X.iloc[tr_idx], y.gender.iloc[tr_idx]\n",
    "    val_x, val_y = X.iloc[val_idx], y.gender.iloc[val_idx]\n",
    "    i += 1\n",
    "    knn.fit(tr_x, tr_y)\n",
    "    \n",
    "    pred = knn.predict_proba(val_x)[:, 1]\n",
    "    print(f'{i}번째 FOLD roc_auc_score는 {roc_auc_score(val_y, pred)}')\n",
    "    \n",
    "    ### 실제 test 파일 존재하면 아래와 같이 실행\n",
    "    # sub_pred = knn.predict_proba(test)[:, 1] / n\n",
    "    # knn_pred += sub_pred"
   ]
  },
  {
   "cell_type": "markdown",
   "metadata": {},
   "source": [
    "#### 랜덤포레스트"
   ]
  },
  {
   "cell_type": "code",
   "execution_count": 65,
   "metadata": {},
   "outputs": [
    {
     "name": "stdout",
     "output_type": "stream",
     "text": [
      "1번째 FOLD roc_auc_score는 0.6317501428379376\n",
      "2번째 FOLD roc_auc_score는 0.6333814886233784\n",
      "3번째 FOLD roc_auc_score는 0.6293444788935941\n",
      "4번째 FOLD roc_auc_score는 0.6293557693923506\n",
      "5번째 FOLD roc_auc_score는 0.6468213832593936\n",
      "6번째 FOLD roc_auc_score는 0.6422082955232911\n",
      "7번째 FOLD roc_auc_score는 0.62268964887074\n",
      "8번째 FOLD roc_auc_score는 0.618531594491497\n",
      "9번째 FOLD roc_auc_score는 0.6305221695998957\n",
      "10번째 FOLD roc_auc_score는 0.6470356721922736\n"
     ]
    }
   ],
   "source": [
    "i = 0\n",
    "### test 파일의 행수만큼 0행렬 생성\n",
    "# rf_pred = np.zeros((test.shape[0]))\n",
    "\n",
    "for tr_idx, val_idx in skf.split(X, y.gender) :\n",
    "    tr_x, tr_y = X.iloc[tr_idx], y.gender.iloc[tr_idx]\n",
    "    val_x, val_y = X.iloc[val_idx], y.gender.iloc[val_idx]\n",
    "    i += 1\n",
    "    rf.fit(tr_x, tr_y)\n",
    "    \n",
    "    pred = rf.predict_proba(val_x)[:, 1]\n",
    "    print(f'{i}번째 FOLD roc_auc_score는 {roc_auc_score(val_y, pred)}')\n",
    "    \n",
    "    ### 실제 test 파일 존재하면 아래와 같이 실행\n",
    "    # sub_pred = rf.predict_proba(test)[:, 1] / n\n",
    "    # rf_pred += sub_pred"
   ]
  },
  {
   "cell_type": "code",
   "execution_count": 66,
   "metadata": {},
   "outputs": [],
   "source": [
    "#### submission = (dt_pred + knn_pred + rf_pred) / 3"
   ]
  },
  {
   "cell_type": "markdown",
   "metadata": {},
   "source": [
    "## Multi Class Classification"
   ]
  },
  {
   "cell_type": "code",
   "execution_count": 69,
   "metadata": {},
   "outputs": [],
   "source": [
    "data = pd.read_csv('/Users/kisehyun/Competition/데이콘_신용카드_사용자연체예측/train.csv', encoding = 'cp949').iloc[:, 1:]"
   ]
  },
  {
   "cell_type": "code",
   "execution_count": 70,
   "metadata": {},
   "outputs": [
    {
     "data": {
      "text/html": [
       "<div>\n",
       "<style scoped>\n",
       "    .dataframe tbody tr th:only-of-type {\n",
       "        vertical-align: middle;\n",
       "    }\n",
       "\n",
       "    .dataframe tbody tr th {\n",
       "        vertical-align: top;\n",
       "    }\n",
       "\n",
       "    .dataframe thead th {\n",
       "        text-align: right;\n",
       "    }\n",
       "</style>\n",
       "<table border=\"1\" class=\"dataframe\">\n",
       "  <thead>\n",
       "    <tr style=\"text-align: right;\">\n",
       "      <th></th>\n",
       "      <th>gender</th>\n",
       "      <th>car</th>\n",
       "      <th>reality</th>\n",
       "      <th>child_num</th>\n",
       "      <th>income_total</th>\n",
       "      <th>income_type</th>\n",
       "      <th>edu_type</th>\n",
       "      <th>family_type</th>\n",
       "      <th>house_type</th>\n",
       "      <th>DAYS_BIRTH</th>\n",
       "      <th>DAYS_EMPLOYED</th>\n",
       "      <th>FLAG_MOBIL</th>\n",
       "      <th>work_phone</th>\n",
       "      <th>phone</th>\n",
       "      <th>email</th>\n",
       "      <th>occyp_type</th>\n",
       "      <th>family_size</th>\n",
       "      <th>begin_month</th>\n",
       "      <th>credit</th>\n",
       "    </tr>\n",
       "  </thead>\n",
       "  <tbody>\n",
       "    <tr>\n",
       "      <th>0</th>\n",
       "      <td>F</td>\n",
       "      <td>N</td>\n",
       "      <td>N</td>\n",
       "      <td>0</td>\n",
       "      <td>202500.0</td>\n",
       "      <td>Commercial associate</td>\n",
       "      <td>Higher education</td>\n",
       "      <td>Married</td>\n",
       "      <td>Municipal apartment</td>\n",
       "      <td>-13899</td>\n",
       "      <td>-4709</td>\n",
       "      <td>1</td>\n",
       "      <td>0</td>\n",
       "      <td>0</td>\n",
       "      <td>0</td>\n",
       "      <td>NaN</td>\n",
       "      <td>2.0</td>\n",
       "      <td>-6.0</td>\n",
       "      <td>1.0</td>\n",
       "    </tr>\n",
       "    <tr>\n",
       "      <th>1</th>\n",
       "      <td>F</td>\n",
       "      <td>N</td>\n",
       "      <td>Y</td>\n",
       "      <td>1</td>\n",
       "      <td>247500.0</td>\n",
       "      <td>Commercial associate</td>\n",
       "      <td>Secondary / secondary special</td>\n",
       "      <td>Civil marriage</td>\n",
       "      <td>House / apartment</td>\n",
       "      <td>-11380</td>\n",
       "      <td>-1540</td>\n",
       "      <td>1</td>\n",
       "      <td>0</td>\n",
       "      <td>0</td>\n",
       "      <td>1</td>\n",
       "      <td>Laborers</td>\n",
       "      <td>3.0</td>\n",
       "      <td>-5.0</td>\n",
       "      <td>1.0</td>\n",
       "    </tr>\n",
       "    <tr>\n",
       "      <th>2</th>\n",
       "      <td>M</td>\n",
       "      <td>Y</td>\n",
       "      <td>Y</td>\n",
       "      <td>0</td>\n",
       "      <td>450000.0</td>\n",
       "      <td>Working</td>\n",
       "      <td>Higher education</td>\n",
       "      <td>Married</td>\n",
       "      <td>House / apartment</td>\n",
       "      <td>-19087</td>\n",
       "      <td>-4434</td>\n",
       "      <td>1</td>\n",
       "      <td>0</td>\n",
       "      <td>1</td>\n",
       "      <td>0</td>\n",
       "      <td>Managers</td>\n",
       "      <td>2.0</td>\n",
       "      <td>-22.0</td>\n",
       "      <td>2.0</td>\n",
       "    </tr>\n",
       "    <tr>\n",
       "      <th>3</th>\n",
       "      <td>F</td>\n",
       "      <td>N</td>\n",
       "      <td>Y</td>\n",
       "      <td>0</td>\n",
       "      <td>202500.0</td>\n",
       "      <td>Commercial associate</td>\n",
       "      <td>Secondary / secondary special</td>\n",
       "      <td>Married</td>\n",
       "      <td>House / apartment</td>\n",
       "      <td>-15088</td>\n",
       "      <td>-2092</td>\n",
       "      <td>1</td>\n",
       "      <td>0</td>\n",
       "      <td>1</td>\n",
       "      <td>0</td>\n",
       "      <td>Sales staff</td>\n",
       "      <td>2.0</td>\n",
       "      <td>-37.0</td>\n",
       "      <td>0.0</td>\n",
       "    </tr>\n",
       "    <tr>\n",
       "      <th>4</th>\n",
       "      <td>F</td>\n",
       "      <td>Y</td>\n",
       "      <td>Y</td>\n",
       "      <td>0</td>\n",
       "      <td>157500.0</td>\n",
       "      <td>State servant</td>\n",
       "      <td>Higher education</td>\n",
       "      <td>Married</td>\n",
       "      <td>House / apartment</td>\n",
       "      <td>-15037</td>\n",
       "      <td>-2105</td>\n",
       "      <td>1</td>\n",
       "      <td>0</td>\n",
       "      <td>0</td>\n",
       "      <td>0</td>\n",
       "      <td>Managers</td>\n",
       "      <td>2.0</td>\n",
       "      <td>-26.0</td>\n",
       "      <td>2.0</td>\n",
       "    </tr>\n",
       "  </tbody>\n",
       "</table>\n",
       "</div>"
      ],
      "text/plain": [
       "  gender car reality  child_num  income_total           income_type  \\\n",
       "0      F   N       N          0      202500.0  Commercial associate   \n",
       "1      F   N       Y          1      247500.0  Commercial associate   \n",
       "2      M   Y       Y          0      450000.0               Working   \n",
       "3      F   N       Y          0      202500.0  Commercial associate   \n",
       "4      F   Y       Y          0      157500.0         State servant   \n",
       "\n",
       "                        edu_type     family_type           house_type  \\\n",
       "0               Higher education         Married  Municipal apartment   \n",
       "1  Secondary / secondary special  Civil marriage    House / apartment   \n",
       "2               Higher education         Married    House / apartment   \n",
       "3  Secondary / secondary special         Married    House / apartment   \n",
       "4               Higher education         Married    House / apartment   \n",
       "\n",
       "   DAYS_BIRTH  DAYS_EMPLOYED  FLAG_MOBIL  work_phone  phone  email  \\\n",
       "0      -13899          -4709           1           0      0      0   \n",
       "1      -11380          -1540           1           0      0      1   \n",
       "2      -19087          -4434           1           0      1      0   \n",
       "3      -15088          -2092           1           0      1      0   \n",
       "4      -15037          -2105           1           0      0      0   \n",
       "\n",
       "    occyp_type  family_size  begin_month  credit  \n",
       "0          NaN          2.0         -6.0     1.0  \n",
       "1     Laborers          3.0         -5.0     1.0  \n",
       "2     Managers          2.0        -22.0     2.0  \n",
       "3  Sales staff          2.0        -37.0     0.0  \n",
       "4     Managers          2.0        -26.0     2.0  "
      ]
     },
     "execution_count": 70,
     "metadata": {},
     "output_type": "execute_result"
    }
   ],
   "source": [
    "data.head()"
   ]
  },
  {
   "cell_type": "code",
   "execution_count": 73,
   "metadata": {},
   "outputs": [],
   "source": [
    "X = data.iloc[:, :-1]\n",
    "y = data.credit"
   ]
  },
  {
   "cell_type": "code",
   "execution_count": 74,
   "metadata": {},
   "outputs": [],
   "source": [
    "X = pd.get_dummies(columns = X.columns[X.dtypes == object], data = X)"
   ]
  },
  {
   "cell_type": "code",
   "execution_count": 75,
   "metadata": {},
   "outputs": [],
   "source": [
    "X_train, X_test, y_train, y_test  = train_test_split(X, y, test_size = .2, random_state = 526)"
   ]
  },
  {
   "cell_type": "code",
   "execution_count": 76,
   "metadata": {},
   "outputs": [
    {
     "data": {
      "text/plain": [
       "GradientBoostingClassifier(random_state=526)"
      ]
     },
     "execution_count": 76,
     "metadata": {},
     "output_type": "execute_result"
    }
   ],
   "source": [
    "gb.fit(X_train, y_train)"
   ]
  },
  {
   "cell_type": "code",
   "execution_count": 104,
   "metadata": {},
   "outputs": [],
   "source": [
    "pred = gb.predict(X_test)"
   ]
  },
  {
   "cell_type": "code",
   "execution_count": 105,
   "metadata": {
    "scrolled": true
   },
   "outputs": [
    {
     "name": "stdout",
     "output_type": "stream",
     "text": [
      "Accuracy : 0.6872637944066515\n",
      "Error Rate : 0.31273620559334847\n",
      "Recall : 0.6872637944066515\n",
      "Precision : 0.46825723296311533\n",
      "F1-score : 0.3905678215630172\n"
     ]
    }
   ],
   "source": [
    "print(f'Accuracy : {accuracy_score(y_test, pred)}')\n",
    "print(f'Error Rate : {1 - accuracy_score(y_test, pred)}')\n",
    "print(f'Recall : {recall_score(y_test, pred, average = \"micro\")}')\n",
    "print(f'Precision : {precision_score(y_test, pred, average = \"macro\")}')\n",
    "print(f'F1-score : {f1_score(y_test, pred, average = \"macro\")}')"
   ]
  },
  {
   "cell_type": "code",
   "execution_count": 106,
   "metadata": {
    "scrolled": false
   },
   "outputs": [
    {
     "data": {
      "text/plain": [
       "array([0.        , 0.36246334, 0.80924012])"
      ]
     },
     "execution_count": 106,
     "metadata": {},
     "output_type": "execute_result"
    }
   ],
   "source": [
    "f1_score(y_test, pred, average = None)"
   ]
  },
  {
   "cell_type": "code",
   "execution_count": 111,
   "metadata": {
    "scrolled": true
   },
   "outputs": [
    {
     "name": "stdout",
     "output_type": "stream",
     "text": [
      "0.6872637944066515\n",
      "0.3905678215630172\n",
      "0.6016586838023114\n"
     ]
    }
   ],
   "source": [
    "print(f1_score(y_test, pred, average = 'micro')) # 전체 데이터를 대상으로 전역적으로 계산됨\n",
    "print(f1_score(y_test, pred, average = 'macro')) # 각 클래스별 계산 \n",
    "print(f1_score(y_test, pred, average = 'weighted')) # "
   ]
  },
  {
   "cell_type": "code",
   "execution_count": 89,
   "metadata": {},
   "outputs": [
    {
     "name": "stdout",
     "output_type": "stream",
     "text": [
      "              precision    recall  f1-score   support\n",
      "\n",
      "         0.0       0.00      0.00      0.00       653\n",
      "         1.0       0.72      0.24      0.36      1276\n",
      "         2.0       0.68      0.99      0.81      3363\n",
      "\n",
      "    accuracy                           0.69      5292\n",
      "   macro avg       0.47      0.41      0.39      5292\n",
      "weighted avg       0.61      0.69      0.60      5292\n",
      "\n"
     ]
    }
   ],
   "source": [
    "print(classification_report(y_test, pred))"
   ]
  },
  {
   "cell_type": "code",
   "execution_count": 83,
   "metadata": {
    "scrolled": true
   },
   "outputs": [
    {
     "name": "stdout",
     "output_type": "stream",
     "text": [
      "[[[4638    1]\n",
      "  [ 653    0]]\n",
      "\n",
      " [[3896  120]\n",
      "  [ 967  309]]\n",
      "\n",
      " [[ 395 1534]\n",
      "  [  35 3328]]]\n"
     ]
    }
   ],
   "source": [
    "print(multilabel_confusion_matrix(y_test, pred, labels = [0, 1, 2]))"
   ]
  },
  {
   "cell_type": "code",
   "execution_count": 122,
   "metadata": {},
   "outputs": [],
   "source": [
    "pred = gb.predict_proba(X_test)"
   ]
  },
  {
   "cell_type": "code",
   "execution_count": 120,
   "metadata": {},
   "outputs": [
    {
     "name": "stdout",
     "output_type": "stream",
     "text": [
      "0.8004842205416338\n",
      "0.6284750759430278\n"
     ]
    }
   ],
   "source": [
    "print(log_loss(y_test ,pred))\n",
    "print(roc_auc_score(y_test, pred, average = 'macro', multi_class = 'ovo')) # 각 클래스별 계산 \n",
    "# ovo = One vs one\n",
    "# ovr = One vs rest"
   ]
  }
 ],
 "metadata": {
  "kernelspec": {
   "display_name": "Python 3",
   "language": "python",
   "name": "python3"
  },
  "language_info": {
   "codemirror_mode": {
    "name": "ipython",
    "version": 3
   },
   "file_extension": ".py",
   "mimetype": "text/x-python",
   "name": "python",
   "nbconvert_exporter": "python",
   "pygments_lexer": "ipython3",
   "version": "3.8.5"
  }
 },
 "nbformat": 4,
 "nbformat_minor": 4
}
