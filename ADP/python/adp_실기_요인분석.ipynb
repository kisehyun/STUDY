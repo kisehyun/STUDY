{
 "cells": [
  {
   "cell_type": "markdown",
   "metadata": {},
   "source": [
    "# 요인분석(Factor Analysis)\n",
    "\n",
    "#### 요인 분석은 관찰 된 변수 집합에서 영향력있는 기본 요인 또는 잠재 변수를 검색하는 데 사용되는 탐색적 데이터 분석 방법으로 변수 수를 줄여 데이터 해석에 도움이 된다. 모든 변수에서 최대 공분산을 추출하여 공통 점수에 넣는다.\n",
    "\n",
    "#### 요인 분석은 선형 통계 모델이다. 관측 변수 간의 분산을 설명하고 관측 변수 집합을 요인이라고하는 관측되지 않은 변수로 압축하는 데 사용된다. 관측 된 변수는 요인과 오류 항의 선형 조합으로 모델링된다. 요인 또는 잠재 변수는 공통 반응 패턴을 가진 여러 관측 변수와 연관된다. 각 요인은 관찰 된 변수의 특정 분산 량을 설명한다. 변수 수를 줄여 데이터 해석에 도움이된다.\n",
    "\n",
    "#### 요인분석은 분석자가 요인의 이름을 명명한다.\n",
    "#### 요인분석은 새 변수들이 기본적으로 대등한 관계를 갖고 '어떤 것이 더 중요하다'라는 의미는 요인분석에는 없다. 단 분류 및 예측에 그 다음 단계로 사용된다면 그 때 중요성의 의미가 부여된다.\n",
    "\n",
    "가정 :\n",
    "\n",
    "1. 데이터에는 특이값이 없다.\n",
    "2. 표본 크기는 요인보다 커야한다.\n",
    "3. 완벽한 다중 공선성이 없어야한다.\n",
    "4. 변수간에 동분산성이 없어야한다.\n",
    "5. 탐색 적 요인 분석 : 사회 및 경영 연구자들 사이에서 가장 인기있는 요인 분석 접근 방식이다. 기본 가정은 관측 된 변수가 모든 요인과 직접적으로 연관되어 있다는 것이다.\n",
    "6. 확인적 요인 분석 (CFA) : 기본 가정은 각 요인이 관찰 된 특정 변수 세트와 연관되어 있다는 것이다. CFA는 예상되는 것을 기준으로 확인한다.\n",
    "\n",
    "요인 분석의 주요 목적은 관찰 된 변수의 수를 줄이고 관찰 할 수 없는 변수를 찾는 것이다. 이러한 관찰되지 않은 변수는 시장 조사자가 설문 조사를 완료하는 데 도움이된다. 관찰 된 변수를 관찰되지 않은 변수로 변환하는 것은 두 단계로 수행 할 수 있다.\n",
    "\n",
    "\n",
    "\n",
    "요인은 무엇입니까?\n",
    "\n",
    "- 요인은 관측 된 변수 수 간의 연관성을 설명하는 잠재 변수이다. 최대 요인 수는 관찰 된 변수 수와 같다. 모든 요인은 관찰 된 변수의 특정 분산을 설명한다. 분산량이 가장 적은 요인이 삭제되었다. 요인은 잠재 변수 또는 숨겨진 변수 또는 관찰되지 않은 변수 또는 가설 변수라고도한다.\n",
    "\n",
    "요인 적재 란 무엇입니까?\n",
    "\n",
    "- 요인 적재는 각 변수와 기본 요인의 관계를 보여주는 행렬이다. 관측 된 변수와 요인에 대한 상관 계수를 보여줍니다. 관찰 된 변수로 설명되는 분산을 보여줍니다.\n",
    "\n",
    "고유 값이란 무엇입니까?\n",
    "\n",
    "- 고유 값은 전체 분산에서 각 요인을 설명하는 분산을 나타냅니다. 특징적인 뿌리라고도 한다.\n",
    "\n",
    "커뮤니티란 무엇입니까?\n",
    "\n",
    "- 공통성은 각 변수에 대한 제곱 적재의 합이다. 공통 분산을 나타냅니다. 범위는 0~1이고 1에 가까운 값은 더 많은 분산을 나타냅니다.\n",
    "\n",
    "요인 수 선택\n",
    "- 카이저 기준은 선택 될 요인에 의해 설명되는 더 중요한 분산 비율을 기반으로하는 분석적 접근 방식이다. 고유 값은 요인 수를 결정하는 데 좋은 기준이다. 일반적으로 1보다 큰 고유 값은 기능의 선택 기준으로 간주된다.\n",
    "\n",
    "그래픽 접근 방식은 스크리 플롯으로 요인의 고유 값을 시각적으로 표현한 것이다. 스크리 플롯은 곡선이 팔꿈치를 만드는 요인의 수를 결정하는 데 도움이된다.\n",
    "\n",
    "#### 요인회전 종류\n",
    "1. 직교회전\n",
    "- 회전된 요인들이 서로 상관되지 않도록 제약\n",
    "- varimax : 한 공통요인에 대해 각 변수가 가지는 요인적재값 제곱의 분산이 최대화 되도록 변환\n",
    "- quartimax : 한 변수가 각 공통요인에서 차지하는 비중의 제곱에 대해 분산을 최대화하도록 변환\n",
    "2. 사각회전\n",
    "- 상관된 요인들을 허용\n",
    "- oblinmin : 요인들 사이의 상관성 정도를 제어하는데 사용되는 모수를 통해 단순한 구조를 찾음\n",
    "- promax : varimax 회전에 의한 적재값을 어떤 승수로 올리는 방법\n",
    "\n",
    "#### 어떤 회전이 적절한가?\n",
    "- 보편적인 답은 없지만 데이터에 가장 잘 맞는 결과를 얻는데 관심이 있다면 사각회전\n",
    "- 결과를 일반화 하는데 더 관심이 있다면 직교회전"
   ]
  },
  {
   "cell_type": "code",
   "execution_count": 30,
   "metadata": {},
   "outputs": [],
   "source": [
    "import pandas as pd\n",
    "from sklearn.datasets import load_boston\n",
    "from factor_analyzer import FactorAnalyzer\n",
    "from sklearn.preprocessing import StandardScaler\n",
    "import matplotlib.pyplot as plt\n",
    "import seaborn as sns\n",
    "%matplotlib inline"
   ]
  },
  {
   "cell_type": "code",
   "execution_count": 3,
   "metadata": {},
   "outputs": [],
   "source": [
    "data = pd.DataFrame(load_boston().data, columns = load_boston().feature_names)\n",
    "data['target'] = load_boston().target"
   ]
  },
  {
   "cell_type": "code",
   "execution_count": 4,
   "metadata": {
    "scrolled": false
   },
   "outputs": [
    {
     "data": {
      "text/html": [
       "<div>\n",
       "<style scoped>\n",
       "    .dataframe tbody tr th:only-of-type {\n",
       "        vertical-align: middle;\n",
       "    }\n",
       "\n",
       "    .dataframe tbody tr th {\n",
       "        vertical-align: top;\n",
       "    }\n",
       "\n",
       "    .dataframe thead th {\n",
       "        text-align: right;\n",
       "    }\n",
       "</style>\n",
       "<table border=\"1\" class=\"dataframe\">\n",
       "  <thead>\n",
       "    <tr style=\"text-align: right;\">\n",
       "      <th></th>\n",
       "      <th>CRIM</th>\n",
       "      <th>ZN</th>\n",
       "      <th>INDUS</th>\n",
       "      <th>CHAS</th>\n",
       "      <th>NOX</th>\n",
       "      <th>RM</th>\n",
       "      <th>AGE</th>\n",
       "      <th>DIS</th>\n",
       "      <th>RAD</th>\n",
       "      <th>TAX</th>\n",
       "      <th>PTRATIO</th>\n",
       "      <th>B</th>\n",
       "      <th>LSTAT</th>\n",
       "      <th>target</th>\n",
       "    </tr>\n",
       "  </thead>\n",
       "  <tbody>\n",
       "    <tr>\n",
       "      <th>0</th>\n",
       "      <td>0.00632</td>\n",
       "      <td>18.0</td>\n",
       "      <td>2.31</td>\n",
       "      <td>0.0</td>\n",
       "      <td>0.538</td>\n",
       "      <td>6.575</td>\n",
       "      <td>65.2</td>\n",
       "      <td>4.0900</td>\n",
       "      <td>1.0</td>\n",
       "      <td>296.0</td>\n",
       "      <td>15.3</td>\n",
       "      <td>396.90</td>\n",
       "      <td>4.98</td>\n",
       "      <td>24.0</td>\n",
       "    </tr>\n",
       "    <tr>\n",
       "      <th>1</th>\n",
       "      <td>0.02731</td>\n",
       "      <td>0.0</td>\n",
       "      <td>7.07</td>\n",
       "      <td>0.0</td>\n",
       "      <td>0.469</td>\n",
       "      <td>6.421</td>\n",
       "      <td>78.9</td>\n",
       "      <td>4.9671</td>\n",
       "      <td>2.0</td>\n",
       "      <td>242.0</td>\n",
       "      <td>17.8</td>\n",
       "      <td>396.90</td>\n",
       "      <td>9.14</td>\n",
       "      <td>21.6</td>\n",
       "    </tr>\n",
       "    <tr>\n",
       "      <th>2</th>\n",
       "      <td>0.02729</td>\n",
       "      <td>0.0</td>\n",
       "      <td>7.07</td>\n",
       "      <td>0.0</td>\n",
       "      <td>0.469</td>\n",
       "      <td>7.185</td>\n",
       "      <td>61.1</td>\n",
       "      <td>4.9671</td>\n",
       "      <td>2.0</td>\n",
       "      <td>242.0</td>\n",
       "      <td>17.8</td>\n",
       "      <td>392.83</td>\n",
       "      <td>4.03</td>\n",
       "      <td>34.7</td>\n",
       "    </tr>\n",
       "    <tr>\n",
       "      <th>3</th>\n",
       "      <td>0.03237</td>\n",
       "      <td>0.0</td>\n",
       "      <td>2.18</td>\n",
       "      <td>0.0</td>\n",
       "      <td>0.458</td>\n",
       "      <td>6.998</td>\n",
       "      <td>45.8</td>\n",
       "      <td>6.0622</td>\n",
       "      <td>3.0</td>\n",
       "      <td>222.0</td>\n",
       "      <td>18.7</td>\n",
       "      <td>394.63</td>\n",
       "      <td>2.94</td>\n",
       "      <td>33.4</td>\n",
       "    </tr>\n",
       "    <tr>\n",
       "      <th>4</th>\n",
       "      <td>0.06905</td>\n",
       "      <td>0.0</td>\n",
       "      <td>2.18</td>\n",
       "      <td>0.0</td>\n",
       "      <td>0.458</td>\n",
       "      <td>7.147</td>\n",
       "      <td>54.2</td>\n",
       "      <td>6.0622</td>\n",
       "      <td>3.0</td>\n",
       "      <td>222.0</td>\n",
       "      <td>18.7</td>\n",
       "      <td>396.90</td>\n",
       "      <td>5.33</td>\n",
       "      <td>36.2</td>\n",
       "    </tr>\n",
       "  </tbody>\n",
       "</table>\n",
       "</div>"
      ],
      "text/plain": [
       "      CRIM    ZN  INDUS  CHAS    NOX     RM   AGE     DIS  RAD    TAX  \\\n",
       "0  0.00632  18.0   2.31   0.0  0.538  6.575  65.2  4.0900  1.0  296.0   \n",
       "1  0.02731   0.0   7.07   0.0  0.469  6.421  78.9  4.9671  2.0  242.0   \n",
       "2  0.02729   0.0   7.07   0.0  0.469  7.185  61.1  4.9671  2.0  242.0   \n",
       "3  0.03237   0.0   2.18   0.0  0.458  6.998  45.8  6.0622  3.0  222.0   \n",
       "4  0.06905   0.0   2.18   0.0  0.458  7.147  54.2  6.0622  3.0  222.0   \n",
       "\n",
       "   PTRATIO       B  LSTAT  target  \n",
       "0     15.3  396.90   4.98    24.0  \n",
       "1     17.8  396.90   9.14    21.6  \n",
       "2     17.8  392.83   4.03    34.7  \n",
       "3     18.7  394.63   2.94    33.4  \n",
       "4     18.7  396.90   5.33    36.2  "
      ]
     },
     "execution_count": 4,
     "metadata": {},
     "output_type": "execute_result"
    }
   ],
   "source": [
    "data.head()"
   ]
  },
  {
   "cell_type": "code",
   "execution_count": 11,
   "metadata": {},
   "outputs": [],
   "source": [
    "scaler = StandardScaler()"
   ]
  },
  {
   "cell_type": "code",
   "execution_count": 14,
   "metadata": {},
   "outputs": [],
   "source": [
    "scaled_df = pd.DataFrame(scaler.fit_transform(data), columns = data.columns)"
   ]
  },
  {
   "cell_type": "code",
   "execution_count": 17,
   "metadata": {},
   "outputs": [
    {
     "data": {
      "text/html": [
       "<div>\n",
       "<style scoped>\n",
       "    .dataframe tbody tr th:only-of-type {\n",
       "        vertical-align: middle;\n",
       "    }\n",
       "\n",
       "    .dataframe tbody tr th {\n",
       "        vertical-align: top;\n",
       "    }\n",
       "\n",
       "    .dataframe thead th {\n",
       "        text-align: right;\n",
       "    }\n",
       "</style>\n",
       "<table border=\"1\" class=\"dataframe\">\n",
       "  <thead>\n",
       "    <tr style=\"text-align: right;\">\n",
       "      <th></th>\n",
       "      <th>CRIM</th>\n",
       "      <th>ZN</th>\n",
       "      <th>INDUS</th>\n",
       "      <th>CHAS</th>\n",
       "      <th>NOX</th>\n",
       "      <th>RM</th>\n",
       "      <th>AGE</th>\n",
       "      <th>DIS</th>\n",
       "      <th>RAD</th>\n",
       "      <th>TAX</th>\n",
       "      <th>PTRATIO</th>\n",
       "      <th>B</th>\n",
       "      <th>LSTAT</th>\n",
       "      <th>target</th>\n",
       "    </tr>\n",
       "  </thead>\n",
       "  <tbody>\n",
       "    <tr>\n",
       "      <th>0</th>\n",
       "      <td>-0.419782</td>\n",
       "      <td>0.284830</td>\n",
       "      <td>-1.287909</td>\n",
       "      <td>-0.272599</td>\n",
       "      <td>-0.144217</td>\n",
       "      <td>0.413672</td>\n",
       "      <td>-0.120013</td>\n",
       "      <td>0.140214</td>\n",
       "      <td>-0.982843</td>\n",
       "      <td>-0.666608</td>\n",
       "      <td>-1.459000</td>\n",
       "      <td>0.441052</td>\n",
       "      <td>-1.075562</td>\n",
       "      <td>0.159686</td>\n",
       "    </tr>\n",
       "    <tr>\n",
       "      <th>1</th>\n",
       "      <td>-0.417339</td>\n",
       "      <td>-0.487722</td>\n",
       "      <td>-0.593381</td>\n",
       "      <td>-0.272599</td>\n",
       "      <td>-0.740262</td>\n",
       "      <td>0.194274</td>\n",
       "      <td>0.367166</td>\n",
       "      <td>0.557160</td>\n",
       "      <td>-0.867883</td>\n",
       "      <td>-0.987329</td>\n",
       "      <td>-0.303094</td>\n",
       "      <td>0.441052</td>\n",
       "      <td>-0.492439</td>\n",
       "      <td>-0.101524</td>\n",
       "    </tr>\n",
       "    <tr>\n",
       "      <th>2</th>\n",
       "      <td>-0.417342</td>\n",
       "      <td>-0.487722</td>\n",
       "      <td>-0.593381</td>\n",
       "      <td>-0.272599</td>\n",
       "      <td>-0.740262</td>\n",
       "      <td>1.282714</td>\n",
       "      <td>-0.265812</td>\n",
       "      <td>0.557160</td>\n",
       "      <td>-0.867883</td>\n",
       "      <td>-0.987329</td>\n",
       "      <td>-0.303094</td>\n",
       "      <td>0.396427</td>\n",
       "      <td>-1.208727</td>\n",
       "      <td>1.324247</td>\n",
       "    </tr>\n",
       "    <tr>\n",
       "      <th>3</th>\n",
       "      <td>-0.416750</td>\n",
       "      <td>-0.487722</td>\n",
       "      <td>-1.306878</td>\n",
       "      <td>-0.272599</td>\n",
       "      <td>-0.835284</td>\n",
       "      <td>1.016303</td>\n",
       "      <td>-0.809889</td>\n",
       "      <td>1.077737</td>\n",
       "      <td>-0.752922</td>\n",
       "      <td>-1.106115</td>\n",
       "      <td>0.113032</td>\n",
       "      <td>0.416163</td>\n",
       "      <td>-1.361517</td>\n",
       "      <td>1.182758</td>\n",
       "    </tr>\n",
       "    <tr>\n",
       "      <th>4</th>\n",
       "      <td>-0.412482</td>\n",
       "      <td>-0.487722</td>\n",
       "      <td>-1.306878</td>\n",
       "      <td>-0.272599</td>\n",
       "      <td>-0.835284</td>\n",
       "      <td>1.228577</td>\n",
       "      <td>-0.511180</td>\n",
       "      <td>1.077737</td>\n",
       "      <td>-0.752922</td>\n",
       "      <td>-1.106115</td>\n",
       "      <td>0.113032</td>\n",
       "      <td>0.441052</td>\n",
       "      <td>-1.026501</td>\n",
       "      <td>1.487503</td>\n",
       "    </tr>\n",
       "  </tbody>\n",
       "</table>\n",
       "</div>"
      ],
      "text/plain": [
       "       CRIM        ZN     INDUS      CHAS       NOX        RM       AGE  \\\n",
       "0 -0.419782  0.284830 -1.287909 -0.272599 -0.144217  0.413672 -0.120013   \n",
       "1 -0.417339 -0.487722 -0.593381 -0.272599 -0.740262  0.194274  0.367166   \n",
       "2 -0.417342 -0.487722 -0.593381 -0.272599 -0.740262  1.282714 -0.265812   \n",
       "3 -0.416750 -0.487722 -1.306878 -0.272599 -0.835284  1.016303 -0.809889   \n",
       "4 -0.412482 -0.487722 -1.306878 -0.272599 -0.835284  1.228577 -0.511180   \n",
       "\n",
       "        DIS       RAD       TAX   PTRATIO         B     LSTAT    target  \n",
       "0  0.140214 -0.982843 -0.666608 -1.459000  0.441052 -1.075562  0.159686  \n",
       "1  0.557160 -0.867883 -0.987329 -0.303094  0.441052 -0.492439 -0.101524  \n",
       "2  0.557160 -0.867883 -0.987329 -0.303094  0.396427 -1.208727  1.324247  \n",
       "3  1.077737 -0.752922 -1.106115  0.113032  0.416163 -1.361517  1.182758  \n",
       "4  1.077737 -0.752922 -1.106115  0.113032  0.441052 -1.026501  1.487503  "
      ]
     },
     "execution_count": 17,
     "metadata": {},
     "output_type": "execute_result"
    }
   ],
   "source": [
    "scaled_df.head()"
   ]
  },
  {
   "cell_type": "markdown",
   "metadata": {},
   "source": [
    "### 요인성 평가\n",
    "- Factorability는 \"데이터 세트에서 요인을 찾을 수 있습니까?\"를 의미\n",
    "- 인수 분해성 또는 샘플링 적절성을 확인하는 방법에는 두 가지가 있습니다.\n",
    "\n",
    "- Bartlett의 테스트\n",
    "- Kaiser-Meyer-Olkin 테스트"
   ]
  },
  {
   "cell_type": "code",
   "execution_count": 15,
   "metadata": {},
   "outputs": [
    {
     "data": {
      "text/plain": [
       "(5146.59752983002, 0.0)"
      ]
     },
     "execution_count": 15,
     "metadata": {},
     "output_type": "execute_result"
    }
   ],
   "source": [
    "from factor_analyzer.factor_analyzer import calculate_bartlett_sphericity\n",
    "chi_square_value,p_value=calculate_bartlett_sphericity(scaled_df)\n",
    "chi_square_value, p_value"
   ]
  },
  {
   "cell_type": "code",
   "execution_count": 16,
   "metadata": {
    "scrolled": true
   },
   "outputs": [
    {
     "data": {
      "text/plain": [
       "0.8527194101902152"
      ]
     },
     "execution_count": 16,
     "metadata": {},
     "output_type": "execute_result"
    }
   ],
   "source": [
    "from factor_analyzer.factor_analyzer import calculate_kmo\n",
    "kmo_all,kmo_model=calculate_kmo(scaled_df)\n",
    "kmo_model"
   ]
  },
  {
   "cell_type": "markdown",
   "metadata": {},
   "source": [
    "### **Kaiser-Meyer-Olkin(KMO) 검정**\n",
    "\n",
    "- 요인분석을 위한 데이터의 적합성을 측정\n",
    "- 관측 된 각 변수와 전체 모델에 대한 적절성을 결정\n",
    "- 관측 된 모든 변수 간의 분산 비율을 추정\n",
    "- KMO 값의 범위는 0에서 1 사이로 0.6 미만의 KMO 값은 부적절한 것으로 간주하고 0.8 이상이면 우수로 간주\n",
    "- 변수가 최소 3개 이상 필요"
   ]
  },
  {
   "cell_type": "markdown",
   "metadata": {},
   "source": [
    "## 요인 수 선택\n",
    "\n",
    "### 요인 수를 선택하기 위해 Kaiser 기준 및 Scree 그림을 사용할 수 있습니다. 둘 다 고유 값을 기반으로합니다."
   ]
  },
  {
   "cell_type": "code",
   "execution_count": 18,
   "metadata": {},
   "outputs": [
    {
     "data": {
      "text/plain": [
       "array([6.54598958, 1.64953191, 1.34890592, 0.88653987, 0.85089944,\n",
       "       0.66001077, 0.5354108 , 0.40307658, 0.27726358, 0.25225744,\n",
       "       0.21279025, 0.1829875 , 0.1340097 , 0.06032666])"
      ]
     },
     "execution_count": 18,
     "metadata": {},
     "output_type": "execute_result"
    }
   ],
   "source": [
    "fa = FactorAnalyzer(n_factors = 5, method = 'ml', rotation = 'promax')\n",
    "fa.fit(scaled_df)\n",
    "ev, v = fa.get_eigenvalues()\n",
    "ev"
   ]
  },
  {
   "cell_type": "code",
   "execution_count": 20,
   "metadata": {},
   "outputs": [
    {
     "data": {
      "image/png": "[encoded data removed]",
      "text/plain": [
       "<Figure size 576x432 with 1 Axes>"
      ]
     },
     "metadata": {
      "needs_background": "light"
     },
     "output_type": "display_data"
    }
   ],
   "source": [
    "plt.figure(figsize = (8,6))\n",
    "plt.scatter(range(1,scaled_df.shape[1]+1),ev)\n",
    "plt.plot(range(1,scaled_df.shape[1]+1),ev)\n",
    "plt.title(\"Scree Plot\",fontsize = 15)\n",
    "plt.xlabel('Factor')\n",
    "plt.ylabel('Eigenvalue')\n",
    "plt.grid()\n",
    "plt.show()"
   ]
  },
  {
   "cell_type": "code",
   "execution_count": 37,
   "metadata": {},
   "outputs": [
    {
     "data": {
      "text/plain": [
       "FactorAnalyzer(n_factors=4, rotation='quartimax', rotation_kwargs={})"
      ]
     },
     "execution_count": 37,
     "metadata": {},
     "output_type": "execute_result"
    }
   ],
   "source": [
    "fa = FactorAnalyzer(n_factors = 4, rotation = 'quartimax')\n",
    "fa.fit(scaled_df)"
   ]
  },
  {
   "cell_type": "code",
   "execution_count": 38,
   "metadata": {},
   "outputs": [],
   "source": [
    "result = pd.DataFrame(fa.loadings_,index = scaled_df.columns)"
   ]
  },
  {
   "cell_type": "code",
   "execution_count": 39,
   "metadata": {},
   "outputs": [],
   "source": [
    "result = round(result,2)"
   ]
  },
  {
   "cell_type": "code",
   "execution_count": 40,
   "metadata": {},
   "outputs": [
    {
     "data": {
      "image/png": "[encoded data removed]",
      "text/plain": [
       "<Figure size 432x720 with 2 Axes>"
      ]
     },
     "metadata": {
      "needs_background": "light"
     },
     "output_type": "display_data"
    }
   ],
   "source": [
    "plt.figure(figsize = (6,10))\n",
    "sns.heatmap(result, cmap = 'Blues', annot = True)\n",
    "plt.show()"
   ]
  },
  {
   "cell_type": "markdown",
   "metadata": {},
   "source": [
    "#### 1번 요인은 'INDUS', 'NOX', 'AGE', 'DIS', 'ZN'에 높은 요인 적재량을 가진다.\n",
    "#### 2번 요인은 'RM', 'target', 'LSTAT'에 높은 요인 적재량을 가진다.\n",
    "#### 3번 요인은 'RAD', 'TAX', 'CRIM'에 높은 요인 적재량을 가진다.\n",
    "#### 4번 요인은 'PTRATIO'에 높은 요인 적재량을 가진다."
   ]
  },
  {
   "cell_type": "code",
   "execution_count": 41,
   "metadata": {},
   "outputs": [
    {
     "name": "stdout",
     "output_type": "stream",
     "text": [
      "CRIM 변수의 분산의 43.47%는 4개의 공통요인에 의한 것이다\n",
      "나머지 56.53%는 CRIM의 특수요인에 의한 것이다\n"
     ]
    }
   ],
   "source": [
    "print('{} 변수의 분산의 {}%는 4개의 공통요인에 의한 것이다'.format(scaled_df.columns[0],round((sum(fa.loadings_[0]**2) * 100),2)))\n",
    "print(\"나머지 {}%는 {}의 특수요인에 의한 것이다\".format(round(fa.get_uniquenesses()[0] * 100,2),scaled_df.columns[0]))"
   ]
  },
  {
   "cell_type": "code",
   "execution_count": 42,
   "metadata": {
    "scrolled": true
   },
   "outputs": [
    {
     "data": {
      "text/html": [
       "<div>\n",
       "<style scoped>\n",
       "    .dataframe tbody tr th:only-of-type {\n",
       "        vertical-align: middle;\n",
       "    }\n",
       "\n",
       "    .dataframe tbody tr th {\n",
       "        vertical-align: top;\n",
       "    }\n",
       "\n",
       "    .dataframe thead th {\n",
       "        text-align: right;\n",
       "    }\n",
       "</style>\n",
       "<table border=\"1\" class=\"dataframe\">\n",
       "  <thead>\n",
       "    <tr style=\"text-align: right;\">\n",
       "      <th></th>\n",
       "      <th>0</th>\n",
       "      <th>1</th>\n",
       "      <th>2</th>\n",
       "      <th>3</th>\n",
       "    </tr>\n",
       "  </thead>\n",
       "  <tbody>\n",
       "    <tr>\n",
       "      <th>SS Loadings</th>\n",
       "      <td>4.635387</td>\n",
       "      <td>2.063826</td>\n",
       "      <td>1.910844</td>\n",
       "      <td>0.617816</td>\n",
       "    </tr>\n",
       "    <tr>\n",
       "      <th>Proportion Var</th>\n",
       "      <td>0.331099</td>\n",
       "      <td>0.147416</td>\n",
       "      <td>0.136489</td>\n",
       "      <td>0.044130</td>\n",
       "    </tr>\n",
       "    <tr>\n",
       "      <th>Cumulative Var</th>\n",
       "      <td>0.331099</td>\n",
       "      <td>0.478515</td>\n",
       "      <td>0.615004</td>\n",
       "      <td>0.659134</td>\n",
       "    </tr>\n",
       "  </tbody>\n",
       "</table>\n",
       "</div>"
      ],
      "text/plain": [
       "                       0         1         2         3\n",
       "SS Loadings     4.635387  2.063826  1.910844  0.617816\n",
       "Proportion Var  0.331099  0.147416  0.136489  0.044130\n",
       "Cumulative Var  0.331099  0.478515  0.615004  0.659134"
      ]
     },
     "execution_count": 42,
     "metadata": {},
     "output_type": "execute_result"
    }
   ],
   "source": [
    "fa_df = pd.DataFrame(fa.get_factor_variance())\n",
    "fa_df.index = ['SS Loadings','Proportion Var','Cumulative Var']\n",
    "fa_df"
   ]
  },
  {
   "cell_type": "markdown",
   "metadata": {},
   "source": [
    "4개의 요인으로 원변수 변동량의 66가 설명된다."
   ]
  },
  {
   "cell_type": "code",
   "execution_count": 44,
   "metadata": {
    "scrolled": true
   },
   "outputs": [
    {
     "data": {
      "text/plain": [
       "array([0.56532467, 0.36305939, 0.29069675, 0.92803481, 0.17048027,\n",
       "       0.43065366, 0.31682798, 0.14454814, 0.06933553, 0.10901033,\n",
       "       0.31053464, 0.73237629, 0.22827841, 0.11296685])"
      ]
     },
     "execution_count": 44,
     "metadata": {},
     "output_type": "execute_result"
    }
   ],
   "source": [
    "fa.get_uniquenesses() # 0.5 이하이면 유효"
   ]
  },
  {
   "cell_type": "code",
   "execution_count": 46,
   "metadata": {},
   "outputs": [
    {
     "data": {
      "image/png": "[encoded data removed]",
      "text/plain": [
       "<Figure size 648x432 with 1 Axes>"
      ]
     },
     "metadata": {
      "needs_background": "light"
     },
     "output_type": "display_data"
    }
   ],
   "source": [
    "fig,ax = plt.subplots(figsize = (9,6))\n",
    "plt.title(\"Factor Analysis Loading Plot\", fontsize = 15)\n",
    "x = fa.loadings_[:,0]\n",
    "y = fa.loadings_[:,1]\n",
    "ax.scatter(x,y)\n",
    "for i, txt in enumerate(scaled_df.columns) :\n",
    "    ax.annotate(txt,(x[i],y[i]),)\n",
    "    \n",
    "plt.xlabel(\"Factor1\",fontsize = 12)\n",
    "plt.ylabel(\"Factor2\",fontsize = 12)\n",
    "plt.grid()\n",
    "plt.show()"
   ]
  }
 ],
 "metadata": {
  "kernelspec": {
   "display_name": "Python 3",
   "language": "python",
   "name": "python3"
  },
  "language_info": {
   "codemirror_mode": {
    "name": "ipython",
    "version": 3
   },
   "file_extension": ".py",
   "mimetype": "text/x-python",
   "name": "python",
   "nbconvert_exporter": "python",
   "pygments_lexer": "ipython3",
   "version": "3.8.5"
  }
 },
 "nbformat": 4,
 "nbformat_minor": 4
}
