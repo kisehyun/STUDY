{
 "cells": [
  {
   "cell_type": "markdown",
   "metadata": {},
   "source": [
    "# 다차원 척도법(MDS)\n",
    "***\n",
    "\n",
    "### 설명\n",
    "- 객체간 근접성을 시각화하는 통계기법\n",
    "- 군집분석과 같이 개체들을 대상으로 변수들을 측정한 후 개체들 사이의 유사성 및 비유사성을 측정하여 개체들을 2차원 공간상에 표현\n",
    "- 개체들 사이의 집단화를 시각화로 표현\n",
    "\n",
    "### 목적\n",
    "- 데이터 속에 잠재된 패턴 및 구조 탐색\n",
    "- 데이터의 구조를 소수 차원의 공간에 기하학적으로 표현\n",
    "- 데이터 축소의 목적\n",
    "\n",
    "### 방법\n",
    "- 유클리드 거리 행렬 이용\n",
    "- 적합 정도를 스트레스 값으로 확인(0 : 완벽 / ~0.05 : 매우 좋음 / ~0.1 : 만족 / ~0.15 : 보통 / 0.15~ : 나쁨)\n",
    "\n",
    "### 종류\n",
    "#### 계량적 MDS\n",
    "- 데이터가 구간척도(온도, 학력, 시험점수 등)나 비율척도(연령, 무게, 신장 등)인 경우 활용(전통적 방법)\n",
    "- n개의 케이스에 대해 p개의 특성변수가 있는 경우 각 개체들간의 유클리드 거리행렬 계산후 개체들간의 비유사성 s(거리제곱 행렬의 선형함수)를 공간상에 표현"
   ]
  },
  {
   "cell_type": "code",
   "execution_count": 7,
   "metadata": {},
   "outputs": [
    {
     "name": "stderr",
     "output_type": "stream",
     "text": [
      "/Users/kisehyun/opt/anaconda3/lib/python3.8/site-packages/sklearn/utils/deprecation.py:143: FutureWarning: The sklearn.manifold.mds module is  deprecated in version 0.22 and will be removed in version 0.24. The corresponding classes / functions should instead be imported from sklearn.manifold. Anything that cannot be imported from sklearn.manifold is now part of the private API.\n",
      "  warnings.warn(message, FutureWarning)\n"
     ]
    }
   ],
   "source": [
    "import pandas as pd\n",
    "import numpy as np\n",
    "\n",
    "from sklearn.manifold import MDS,mds\n",
    "from sklearn.preprocessing import StandardScaler\n",
    "\n",
    "import matplotlib.pyplot as plt\n",
    "import seaborn as sns\n",
    "from matplotlib import rc\n",
    "rc('font', family='AppleGothic')\n",
    "plt.rcParams['axes.unicode_minus'] = False\n",
    "%matplotlib inline\n",
    "\n",
    "import warnings\n",
    "warnings.filterwarnings('ignore')"
   ]
  },
  {
   "cell_type": "code",
   "execution_count": 118,
   "metadata": {},
   "outputs": [],
   "source": [
    "data = pd.read_csv('/Users/kisehyun/Downloads/european_city_distances.csv', encoding = 'cp949', sep = ';', header = None).iloc[:, :-1]\n",
    "data.index = data[0]\n",
    "data = data.iloc[:, 1:]\n",
    "data.columns = data.index\n",
    "data.index.name = None"
   ]
  },
  {
   "cell_type": "code",
   "execution_count": 119,
   "metadata": {
    "scrolled": false
   },
   "outputs": [
    {
     "data": {
      "text/html": [
       "<div>\n",
       "<style scoped>\n",
       "    .dataframe tbody tr th:only-of-type {\n",
       "        vertical-align: middle;\n",
       "    }\n",
       "\n",
       "    .dataframe tbody tr th {\n",
       "        vertical-align: top;\n",
       "    }\n",
       "\n",
       "    .dataframe thead th {\n",
       "        text-align: right;\n",
       "    }\n",
       "</style>\n",
       "<table border=\"1\" class=\"dataframe\">\n",
       "  <thead>\n",
       "    <tr style=\"text-align: right;\">\n",
       "      <th></th>\n",
       "      <th>Barcelona</th>\n",
       "      <th>Belgrade</th>\n",
       "      <th>Berlin</th>\n",
       "      <th>Brussels</th>\n",
       "      <th>Bucharest</th>\n",
       "      <th>Budapest</th>\n",
       "      <th>Copenhagen</th>\n",
       "      <th>Dublin</th>\n",
       "      <th>Hamburg</th>\n",
       "      <th>Istanbul</th>\n",
       "      <th>...</th>\n",
       "      <th>Moscow</th>\n",
       "      <th>Munich</th>\n",
       "      <th>Paris</th>\n",
       "      <th>Prague</th>\n",
       "      <th>Rome</th>\n",
       "      <th>Saint Petersburg</th>\n",
       "      <th>Sofia</th>\n",
       "      <th>Stockholm</th>\n",
       "      <th>Vienna</th>\n",
       "      <th>Warsaw</th>\n",
       "    </tr>\n",
       "  </thead>\n",
       "  <tbody>\n",
       "    <tr>\n",
       "      <th>Barcelona</th>\n",
       "      <td>0.00</td>\n",
       "      <td>1528.13</td>\n",
       "      <td>1497.61</td>\n",
       "      <td>1062.89</td>\n",
       "      <td>1968.42</td>\n",
       "      <td>1498.79</td>\n",
       "      <td>1757.54</td>\n",
       "      <td>1469.29</td>\n",
       "      <td>1471.78</td>\n",
       "      <td>2230.42</td>\n",
       "      <td>...</td>\n",
       "      <td>3006.93</td>\n",
       "      <td>1054.55</td>\n",
       "      <td>831.59</td>\n",
       "      <td>1353.90</td>\n",
       "      <td>856.69</td>\n",
       "      <td>2813.02</td>\n",
       "      <td>1745.55</td>\n",
       "      <td>2276.51</td>\n",
       "      <td>1347.43</td>\n",
       "      <td>1862.33</td>\n",
       "    </tr>\n",
       "    <tr>\n",
       "      <th>Belgrade</th>\n",
       "      <td>1528.13</td>\n",
       "      <td>0.00</td>\n",
       "      <td>999.25</td>\n",
       "      <td>1372.59</td>\n",
       "      <td>447.34</td>\n",
       "      <td>316.41</td>\n",
       "      <td>1327.24</td>\n",
       "      <td>2145.39</td>\n",
       "      <td>1229.93</td>\n",
       "      <td>809.48</td>\n",
       "      <td>...</td>\n",
       "      <td>1710.99</td>\n",
       "      <td>773.33</td>\n",
       "      <td>1445.70</td>\n",
       "      <td>738.10</td>\n",
       "      <td>721.55</td>\n",
       "      <td>1797.75</td>\n",
       "      <td>329.46</td>\n",
       "      <td>1620.96</td>\n",
       "      <td>489.28</td>\n",
       "      <td>826.66</td>\n",
       "    </tr>\n",
       "    <tr>\n",
       "      <th>Berlin</th>\n",
       "      <td>1497.61</td>\n",
       "      <td>999.25</td>\n",
       "      <td>0.00</td>\n",
       "      <td>651.62</td>\n",
       "      <td>1293.40</td>\n",
       "      <td>689.06</td>\n",
       "      <td>354.03</td>\n",
       "      <td>1315.16</td>\n",
       "      <td>254.51</td>\n",
       "      <td>1735.01</td>\n",
       "      <td>...</td>\n",
       "      <td>1607.99</td>\n",
       "      <td>501.97</td>\n",
       "      <td>876.96</td>\n",
       "      <td>280.34</td>\n",
       "      <td>1181.67</td>\n",
       "      <td>1319.62</td>\n",
       "      <td>1318.67</td>\n",
       "      <td>810.38</td>\n",
       "      <td>523.61</td>\n",
       "      <td>516.06</td>\n",
       "    </tr>\n",
       "    <tr>\n",
       "      <th>Brussels</th>\n",
       "      <td>1062.89</td>\n",
       "      <td>1372.59</td>\n",
       "      <td>651.62</td>\n",
       "      <td>0.00</td>\n",
       "      <td>1769.69</td>\n",
       "      <td>1131.52</td>\n",
       "      <td>766.67</td>\n",
       "      <td>773.20</td>\n",
       "      <td>489.76</td>\n",
       "      <td>2178.85</td>\n",
       "      <td>...</td>\n",
       "      <td>2253.26</td>\n",
       "      <td>601.87</td>\n",
       "      <td>261.29</td>\n",
       "      <td>721.08</td>\n",
       "      <td>1171.34</td>\n",
       "      <td>1903.66</td>\n",
       "      <td>1697.83</td>\n",
       "      <td>1280.88</td>\n",
       "      <td>914.81</td>\n",
       "      <td>1159.85</td>\n",
       "    </tr>\n",
       "    <tr>\n",
       "      <th>Bucharest</th>\n",
       "      <td>1968.42</td>\n",
       "      <td>447.34</td>\n",
       "      <td>1293.40</td>\n",
       "      <td>1769.69</td>\n",
       "      <td>0.00</td>\n",
       "      <td>639.77</td>\n",
       "      <td>1571.54</td>\n",
       "      <td>2534.72</td>\n",
       "      <td>1544.17</td>\n",
       "      <td>445.62</td>\n",
       "      <td>...</td>\n",
       "      <td>1497.56</td>\n",
       "      <td>1186.37</td>\n",
       "      <td>1869.95</td>\n",
       "      <td>1076.82</td>\n",
       "      <td>1137.38</td>\n",
       "      <td>1740.39</td>\n",
       "      <td>296.68</td>\n",
       "      <td>1742.25</td>\n",
       "      <td>855.32</td>\n",
       "      <td>946.12</td>\n",
       "    </tr>\n",
       "  </tbody>\n",
       "</table>\n",
       "<p>5 rows × 24 columns</p>\n",
       "</div>"
      ],
      "text/plain": [
       "           Barcelona  Belgrade   Berlin  Brussels  Bucharest  Budapest  \\\n",
       "Barcelona       0.00   1528.13  1497.61   1062.89    1968.42   1498.79   \n",
       "Belgrade     1528.13      0.00   999.25   1372.59     447.34    316.41   \n",
       "Berlin       1497.61    999.25     0.00    651.62    1293.40    689.06   \n",
       "Brussels     1062.89   1372.59   651.62      0.00    1769.69   1131.52   \n",
       "Bucharest    1968.42    447.34  1293.40   1769.69       0.00    639.77   \n",
       "\n",
       "           Copenhagen   Dublin  Hamburg  Istanbul  ...   Moscow   Munich  \\\n",
       "Barcelona     1757.54  1469.29  1471.78   2230.42  ...  3006.93  1054.55   \n",
       "Belgrade      1327.24  2145.39  1229.93    809.48  ...  1710.99   773.33   \n",
       "Berlin         354.03  1315.16   254.51   1735.01  ...  1607.99   501.97   \n",
       "Brussels       766.67   773.20   489.76   2178.85  ...  2253.26   601.87   \n",
       "Bucharest     1571.54  2534.72  1544.17    445.62  ...  1497.56  1186.37   \n",
       "\n",
       "             Paris   Prague     Rome  Saint Petersburg    Sofia  Stockholm  \\\n",
       "Barcelona   831.59  1353.90   856.69           2813.02  1745.55    2276.51   \n",
       "Belgrade   1445.70   738.10   721.55           1797.75   329.46    1620.96   \n",
       "Berlin      876.96   280.34  1181.67           1319.62  1318.67     810.38   \n",
       "Brussels    261.29   721.08  1171.34           1903.66  1697.83    1280.88   \n",
       "Bucharest  1869.95  1076.82  1137.38           1740.39   296.68    1742.25   \n",
       "\n",
       "            Vienna   Warsaw  \n",
       "Barcelona  1347.43  1862.33  \n",
       "Belgrade    489.28   826.66  \n",
       "Berlin      523.61   516.06  \n",
       "Brussels    914.81  1159.85  \n",
       "Bucharest   855.32   946.12  \n",
       "\n",
       "[5 rows x 24 columns]"
      ]
     },
     "execution_count": 119,
     "metadata": {},
     "output_type": "execute_result"
    }
   ],
   "source": [
    "data.head()"
   ]
  },
  {
   "cell_type": "code",
   "execution_count": 120,
   "metadata": {
    "scrolled": true
   },
   "outputs": [
    {
     "data": {
      "text/plain": [
       "(24, 24)"
      ]
     },
     "execution_count": 120,
     "metadata": {},
     "output_type": "execute_result"
    }
   ],
   "source": [
    "data.shape"
   ]
  },
  {
   "cell_type": "code",
   "execution_count": 121,
   "metadata": {},
   "outputs": [],
   "source": [
    "#scaler = StandardScaler()\n",
    "#scaled_df = scaler.fit_transform(data)"
   ]
  },
  {
   "cell_type": "code",
   "execution_count": 122,
   "metadata": {},
   "outputs": [],
   "source": [
    "mds = MDS(n_components = 2, dissimilarity = 'euclidean', random_state = 61)\n",
    "result = mds.fit(data)"
   ]
  },
  {
   "cell_type": "markdown",
   "metadata": {},
   "source": [
    "#### dissimilarity는 default는 euclidean, Pre-computed dissimilarities are passed\n",
    "#### metric은 default 값이 True로 계량적 False는 비계량적"
   ]
  },
  {
   "cell_type": "code",
   "execution_count": 123,
   "metadata": {},
   "outputs": [],
   "source": [
    "name = data.columns\n",
    "embedding = result.embedding_"
   ]
  },
  {
   "cell_type": "code",
   "execution_count": 124,
   "metadata": {},
   "outputs": [
    {
     "data": {
      "text/plain": [
       "(24, 24)"
      ]
     },
     "execution_count": 124,
     "metadata": {},
     "output_type": "execute_result"
    }
   ],
   "source": [
    "result.dissimilarity_matrix_.shape"
   ]
  },
  {
   "cell_type": "code",
   "execution_count": 125,
   "metadata": {},
   "outputs": [
    {
     "data": {
      "text/plain": [
       "109933950.12621398"
      ]
     },
     "execution_count": 125,
     "metadata": {},
     "output_type": "execute_result"
    }
   ],
   "source": [
    "result.stress_"
   ]
  },
  {
   "cell_type": "code",
   "execution_count": 130,
   "metadata": {
    "scrolled": false
   },
   "outputs": [
    {
     "data": {
      "image/png": "[encoded data removed]",
      "text/plain": [
       "<Figure size 720x576 with 1 Axes>"
      ]
     },
     "metadata": {
      "needs_background": "light"
     },
     "output_type": "display_data"
    }
   ],
   "source": [
    "fig = plt.figure(figsize=(10,8))\n",
    "plt.subplots_adjust(bottom=.1)\n",
    "plt.scatter(embedding[:,0],embedding[:,1])\n",
    "plt.title('Mulitidimensional Scaling',fontsize = 15)\n",
    "for label, x,y in zip(name,embedding[:,0],embedding[:,1]) :\n",
    "    plt.annotate(label,xy = (x,y),\n",
    "                xytext = (-20, 10),\n",
    "                textcoords = 'offset points')\n",
    "    \n",
    "plt.show()"
   ]
  },
  {
   "cell_type": "markdown",
   "metadata": {},
   "source": [
    "#### 비계량적 MDS\n",
    "- 데이터가 순서척도인 경우 활용.\n",
    "- 개체들간의 거리가 순서로 주어진 경우에 사용.\n",
    "***\n",
    "# 주성분분석(PCA)\n",
    "\n",
    "### 목적\n",
    "- 여러 변수들의 변량을 **주성분**이라는 서로 상관관계가 높은 변수들의 선형결합으로 만들어 변수들을 요약 및 축소하는 기법\n",
    "- 소수의 주성분으로 차원을 축소\n",
    "- 다중공선성이 존재하는 경우 상관성이 적은 주성분으로 변수들을 축소\n",
    "- 주성분분석을 통해 차원을 축소한 후에 군집분석을 수행하면 군집화 결과와 연산속도 개선 가능\n",
    "\n",
    "### 변수 이름\n",
    "- 주로 제 1성분, 제 2성분 등으로 표현\n",
    "\n",
    "### 생성된 변수들 간의 관계\n",
    "- 제 1성분이 제일 중요하고 제 2성분이 중요하게 취급"
   ]
  },
  {
   "cell_type": "code",
   "execution_count": 120,
   "metadata": {},
   "outputs": [],
   "source": [
    "from sklearn.decomposition import PCA"
   ]
  },
  {
   "cell_type": "code",
   "execution_count": 136,
   "metadata": {},
   "outputs": [],
   "source": [
    "u23 = pd.read_csv('/Users/kisehyun/Downloads/나/국민대/프로그래밍/19다변량/dataset/U23.csv', encoding = 'cp949')"
   ]
  },
  {
   "cell_type": "code",
   "execution_count": 137,
   "metadata": {
    "scrolled": false
   },
   "outputs": [
    {
     "data": {
      "text/html": [
       "<div>\n",
       "<style scoped>\n",
       "    .dataframe tbody tr th:only-of-type {\n",
       "        vertical-align: middle;\n",
       "    }\n",
       "\n",
       "    .dataframe tbody tr th {\n",
       "        vertical-align: top;\n",
       "    }\n",
       "\n",
       "    .dataframe thead th {\n",
       "        text-align: right;\n",
       "    }\n",
       "</style>\n",
       "<table border=\"1\" class=\"dataframe\">\n",
       "  <thead>\n",
       "    <tr style=\"text-align: right;\">\n",
       "      <th></th>\n",
       "      <th>선수</th>\n",
       "      <th>포지션</th>\n",
       "      <th>출전경기</th>\n",
       "      <th>득점</th>\n",
       "      <th>선발출전</th>\n",
       "      <th>슈팅</th>\n",
       "      <th>골성공률</th>\n",
       "      <th>교체출전</th>\n",
       "      <th>유효슈팅</th>\n",
       "      <th>풀타임</th>\n",
       "      <th>...</th>\n",
       "      <th>퇴장</th>\n",
       "      <th>어시스트</th>\n",
       "      <th>크로스성공률</th>\n",
       "      <th>크로스횟수</th>\n",
       "      <th>킬패스횟수</th>\n",
       "      <th>돌파횟수</th>\n",
       "      <th>경합성공률</th>\n",
       "      <th>태클횟수</th>\n",
       "      <th>가로채기횟수</th>\n",
       "      <th>패스차단횟수</th>\n",
       "    </tr>\n",
       "  </thead>\n",
       "  <tbody>\n",
       "    <tr>\n",
       "      <th>0</th>\n",
       "      <td>김한솔</td>\n",
       "      <td>DF</td>\n",
       "      <td>4</td>\n",
       "      <td>0</td>\n",
       "      <td>3</td>\n",
       "      <td>0</td>\n",
       "      <td>0.00</td>\n",
       "      <td>1</td>\n",
       "      <td>0</td>\n",
       "      <td>1</td>\n",
       "      <td>...</td>\n",
       "      <td>0</td>\n",
       "      <td>0</td>\n",
       "      <td>0.25</td>\n",
       "      <td>8</td>\n",
       "      <td>1</td>\n",
       "      <td>0</td>\n",
       "      <td>0.25</td>\n",
       "      <td>10</td>\n",
       "      <td>6</td>\n",
       "      <td>9</td>\n",
       "    </tr>\n",
       "    <tr>\n",
       "      <th>1</th>\n",
       "      <td>강민수</td>\n",
       "      <td>DF</td>\n",
       "      <td>14</td>\n",
       "      <td>1</td>\n",
       "      <td>12</td>\n",
       "      <td>6</td>\n",
       "      <td>0.17</td>\n",
       "      <td>2</td>\n",
       "      <td>2</td>\n",
       "      <td>12</td>\n",
       "      <td>...</td>\n",
       "      <td>0</td>\n",
       "      <td>1</td>\n",
       "      <td>0.50</td>\n",
       "      <td>2</td>\n",
       "      <td>0</td>\n",
       "      <td>0</td>\n",
       "      <td>0.44</td>\n",
       "      <td>33</td>\n",
       "      <td>42</td>\n",
       "      <td>101</td>\n",
       "    </tr>\n",
       "    <tr>\n",
       "      <th>2</th>\n",
       "      <td>강상우</td>\n",
       "      <td>MF</td>\n",
       "      <td>8</td>\n",
       "      <td>0</td>\n",
       "      <td>2</td>\n",
       "      <td>7</td>\n",
       "      <td>0.00</td>\n",
       "      <td>6</td>\n",
       "      <td>1</td>\n",
       "      <td>1</td>\n",
       "      <td>...</td>\n",
       "      <td>0</td>\n",
       "      <td>0</td>\n",
       "      <td>0.46</td>\n",
       "      <td>13</td>\n",
       "      <td>0</td>\n",
       "      <td>3</td>\n",
       "      <td>0.14</td>\n",
       "      <td>9</td>\n",
       "      <td>7</td>\n",
       "      <td>10</td>\n",
       "    </tr>\n",
       "    <tr>\n",
       "      <th>3</th>\n",
       "      <td>강윤구</td>\n",
       "      <td>DF</td>\n",
       "      <td>4</td>\n",
       "      <td>0</td>\n",
       "      <td>3</td>\n",
       "      <td>1</td>\n",
       "      <td>0.00</td>\n",
       "      <td>1</td>\n",
       "      <td>0</td>\n",
       "      <td>3</td>\n",
       "      <td>...</td>\n",
       "      <td>0</td>\n",
       "      <td>0</td>\n",
       "      <td>0.29</td>\n",
       "      <td>7</td>\n",
       "      <td>0</td>\n",
       "      <td>0</td>\n",
       "      <td>0.60</td>\n",
       "      <td>12</td>\n",
       "      <td>10</td>\n",
       "      <td>24</td>\n",
       "    </tr>\n",
       "    <tr>\n",
       "      <th>4</th>\n",
       "      <td>고무열</td>\n",
       "      <td>MF</td>\n",
       "      <td>1</td>\n",
       "      <td>0</td>\n",
       "      <td>1</td>\n",
       "      <td>1</td>\n",
       "      <td>0.00</td>\n",
       "      <td>0</td>\n",
       "      <td>0</td>\n",
       "      <td>0</td>\n",
       "      <td>...</td>\n",
       "      <td>0</td>\n",
       "      <td>0</td>\n",
       "      <td>0.00</td>\n",
       "      <td>3</td>\n",
       "      <td>0</td>\n",
       "      <td>1</td>\n",
       "      <td>0.33</td>\n",
       "      <td>3</td>\n",
       "      <td>2</td>\n",
       "      <td>0</td>\n",
       "    </tr>\n",
       "  </tbody>\n",
       "</table>\n",
       "<p>5 rows × 27 columns</p>\n",
       "</div>"
      ],
      "text/plain": [
       "    선수 포지션  출전경기  득점  선발출전  슈팅  골성공률  교체출전  유효슈팅  풀타임  ...  퇴장  어시스트  크로스성공률  \\\n",
       "0  김한솔  DF     4   0     3   0  0.00     1     0    1  ...   0     0    0.25   \n",
       "1  강민수  DF    14   1    12   6  0.17     2     2   12  ...   0     1    0.50   \n",
       "2  강상우  MF     8   0     2   7  0.00     6     1    1  ...   0     0    0.46   \n",
       "3  강윤구  DF     4   0     3   1  0.00     1     0    3  ...   0     0    0.29   \n",
       "4  고무열  MF     1   0     1   1  0.00     0     0    0  ...   0     0    0.00   \n",
       "\n",
       "   크로스횟수  킬패스횟수  돌파횟수  경합성공률  태클횟수  가로채기횟수  패스차단횟수  \n",
       "0      8      1     0   0.25    10       6       9  \n",
       "1      2      0     0   0.44    33      42     101  \n",
       "2     13      0     3   0.14     9       7      10  \n",
       "3      7      0     0   0.60    12      10      24  \n",
       "4      3      0     1   0.33     3       2       0  \n",
       "\n",
       "[5 rows x 27 columns]"
      ]
     },
     "execution_count": 137,
     "metadata": {},
     "output_type": "execute_result"
    }
   ],
   "source": [
    "u23.head()"
   ]
  },
  {
   "cell_type": "code",
   "execution_count": 138,
   "metadata": {},
   "outputs": [],
   "source": [
    "u23 = u23[u23.포지션 == 'FW']\n",
    "names = u23.선수.tolist()\n",
    "u23 = u23[['득점', '슈팅', '골성공률', '어시스트', '돌파횟수', '중거리 슈팅', '유효슈팅']]"
   ]
  },
  {
   "cell_type": "code",
   "execution_count": 139,
   "metadata": {},
   "outputs": [],
   "source": [
    "scaler = StandardScaler()\n",
    "scaled = scaler.fit_transform(u23)"
   ]
  },
  {
   "cell_type": "code",
   "execution_count": 140,
   "metadata": {},
   "outputs": [],
   "source": [
    "pca = PCA(n_components = 5)\n",
    "comp = pca.fit_transform(scaled)"
   ]
  },
  {
   "cell_type": "code",
   "execution_count": 141,
   "metadata": {},
   "outputs": [],
   "source": [
    "pca_df = pd.DataFrame(comp, columns = ['주성분1', '주성분2', '주성분3', '주성분4', '주성분5'], index = names)"
   ]
  },
  {
   "cell_type": "code",
   "execution_count": 142,
   "metadata": {
    "scrolled": true
   },
   "outputs": [
    {
     "data": {
      "text/html": [
       "<div>\n",
       "<style scoped>\n",
       "    .dataframe tbody tr th:only-of-type {\n",
       "        vertical-align: middle;\n",
       "    }\n",
       "\n",
       "    .dataframe tbody tr th {\n",
       "        vertical-align: top;\n",
       "    }\n",
       "\n",
       "    .dataframe thead th {\n",
       "        text-align: right;\n",
       "    }\n",
       "</style>\n",
       "<table border=\"1\" class=\"dataframe\">\n",
       "  <thead>\n",
       "    <tr style=\"text-align: right;\">\n",
       "      <th></th>\n",
       "      <th>주성분1</th>\n",
       "      <th>주성분2</th>\n",
       "      <th>주성분3</th>\n",
       "      <th>주성분4</th>\n",
       "      <th>주성분5</th>\n",
       "    </tr>\n",
       "  </thead>\n",
       "  <tbody>\n",
       "    <tr>\n",
       "      <th>김경중</th>\n",
       "      <td>-0.672842</td>\n",
       "      <td>0.544658</td>\n",
       "      <td>0.203825</td>\n",
       "      <td>-0.505497</td>\n",
       "      <td>0.324872</td>\n",
       "    </tr>\n",
       "    <tr>\n",
       "      <th>김근환</th>\n",
       "      <td>-1.285941</td>\n",
       "      <td>-0.230458</td>\n",
       "      <td>-0.325396</td>\n",
       "      <td>0.020694</td>\n",
       "      <td>-0.125825</td>\n",
       "    </tr>\n",
       "    <tr>\n",
       "      <th>김동섭</th>\n",
       "      <td>-0.017720</td>\n",
       "      <td>-0.746750</td>\n",
       "      <td>-0.619092</td>\n",
       "      <td>-0.401268</td>\n",
       "      <td>-0.171649</td>\n",
       "    </tr>\n",
       "    <tr>\n",
       "      <th>김동현</th>\n",
       "      <td>-1.563957</td>\n",
       "      <td>0.016803</td>\n",
       "      <td>-0.332624</td>\n",
       "      <td>0.192916</td>\n",
       "      <td>0.036770</td>\n",
       "    </tr>\n",
       "    <tr>\n",
       "      <th>김동희</th>\n",
       "      <td>-1.687603</td>\n",
       "      <td>0.231932</td>\n",
       "      <td>-0.191061</td>\n",
       "      <td>0.118127</td>\n",
       "      <td>0.038096</td>\n",
       "    </tr>\n",
       "  </tbody>\n",
       "</table>\n",
       "</div>"
      ],
      "text/plain": [
       "         주성분1      주성분2      주성분3      주성분4      주성분5\n",
       "김경중 -0.672842  0.544658  0.203825 -0.505497  0.324872\n",
       "김근환 -1.285941 -0.230458 -0.325396  0.020694 -0.125825\n",
       "김동섭 -0.017720 -0.746750 -0.619092 -0.401268 -0.171649\n",
       "김동현 -1.563957  0.016803 -0.332624  0.192916  0.036770\n",
       "김동희 -1.687603  0.231932 -0.191061  0.118127  0.038096"
      ]
     },
     "execution_count": 142,
     "metadata": {},
     "output_type": "execute_result"
    }
   ],
   "source": [
    "pca_df.head()"
   ]
  },
  {
   "cell_type": "code",
   "execution_count": 143,
   "metadata": {},
   "outputs": [],
   "source": [
    "loadings = pd.DataFrame(pca.components_.T, columns = ['주성분1', '주성분2', '주성분3', '주성분4', '주성분5'], index = u23.columns)"
   ]
  },
  {
   "cell_type": "code",
   "execution_count": 144,
   "metadata": {},
   "outputs": [
    {
     "data": {
      "text/html": [
       "<div>\n",
       "<style scoped>\n",
       "    .dataframe tbody tr th:only-of-type {\n",
       "        vertical-align: middle;\n",
       "    }\n",
       "\n",
       "    .dataframe tbody tr th {\n",
       "        vertical-align: top;\n",
       "    }\n",
       "\n",
       "    .dataframe thead th {\n",
       "        text-align: right;\n",
       "    }\n",
       "</style>\n",
       "<table border=\"1\" class=\"dataframe\">\n",
       "  <thead>\n",
       "    <tr style=\"text-align: right;\">\n",
       "      <th></th>\n",
       "      <th>주성분1</th>\n",
       "      <th>주성분2</th>\n",
       "      <th>주성분3</th>\n",
       "      <th>주성분4</th>\n",
       "      <th>주성분5</th>\n",
       "    </tr>\n",
       "  </thead>\n",
       "  <tbody>\n",
       "    <tr>\n",
       "      <th>득점</th>\n",
       "      <td>0.409453</td>\n",
       "      <td>-0.291171</td>\n",
       "      <td>-0.194870</td>\n",
       "      <td>-0.440096</td>\n",
       "      <td>-0.572435</td>\n",
       "    </tr>\n",
       "    <tr>\n",
       "      <th>슈팅</th>\n",
       "      <td>0.470718</td>\n",
       "      <td>-0.113807</td>\n",
       "      <td>-0.043832</td>\n",
       "      <td>-0.059460</td>\n",
       "      <td>0.265666</td>\n",
       "    </tr>\n",
       "    <tr>\n",
       "      <th>골성공률</th>\n",
       "      <td>-0.030606</td>\n",
       "      <td>-0.584657</td>\n",
       "      <td>0.808921</td>\n",
       "      <td>0.031160</td>\n",
       "      <td>0.008170</td>\n",
       "    </tr>\n",
       "    <tr>\n",
       "      <th>어시스트</th>\n",
       "      <td>0.387813</td>\n",
       "      <td>0.304044</td>\n",
       "      <td>0.212715</td>\n",
       "      <td>0.693308</td>\n",
       "      <td>-0.479244</td>\n",
       "    </tr>\n",
       "    <tr>\n",
       "      <th>돌파횟수</th>\n",
       "      <td>0.205005</td>\n",
       "      <td>0.665339</td>\n",
       "      <td>0.501073</td>\n",
       "      <td>-0.493852</td>\n",
       "      <td>0.094048</td>\n",
       "    </tr>\n",
       "    <tr>\n",
       "      <th>중거리 슈팅</th>\n",
       "      <td>0.450155</td>\n",
       "      <td>-0.078093</td>\n",
       "      <td>-0.084971</td>\n",
       "      <td>0.238725</td>\n",
       "      <td>0.602528</td>\n",
       "    </tr>\n",
       "    <tr>\n",
       "      <th>유효슈팅</th>\n",
       "      <td>0.463434</td>\n",
       "      <td>-0.138658</td>\n",
       "      <td>-0.047009</td>\n",
       "      <td>-0.142315</td>\n",
       "      <td>0.010631</td>\n",
       "    </tr>\n",
       "  </tbody>\n",
       "</table>\n",
       "</div>"
      ],
      "text/plain": [
       "            주성분1      주성분2      주성분3      주성분4      주성분5\n",
       "득점      0.409453 -0.291171 -0.194870 -0.440096 -0.572435\n",
       "슈팅      0.470718 -0.113807 -0.043832 -0.059460  0.265666\n",
       "골성공률   -0.030606 -0.584657  0.808921  0.031160  0.008170\n",
       "어시스트    0.387813  0.304044  0.212715  0.693308 -0.479244\n",
       "돌파횟수    0.205005  0.665339  0.501073 -0.493852  0.094048\n",
       "중거리 슈팅  0.450155 -0.078093 -0.084971  0.238725  0.602528\n",
       "유효슈팅    0.463434 -0.138658 -0.047009 -0.142315  0.010631"
      ]
     },
     "execution_count": 144,
     "metadata": {},
     "output_type": "execute_result"
    }
   ],
   "source": [
    "loadings"
   ]
  },
  {
   "cell_type": "code",
   "execution_count": 145,
   "metadata": {},
   "outputs": [],
   "source": [
    "ax = pd.DataFrame(pca_df.std()).T"
   ]
  },
  {
   "cell_type": "code",
   "execution_count": 146,
   "metadata": {},
   "outputs": [],
   "source": [
    "pca_summary = pd.concat([ax,pd.DataFrame(pca.explained_variance_ratio_).set_index(ax.columns).T])"
   ]
  },
  {
   "cell_type": "code",
   "execution_count": 147,
   "metadata": {},
   "outputs": [
    {
     "data": {
      "text/html": [
       "<div>\n",
       "<style scoped>\n",
       "    .dataframe tbody tr th:only-of-type {\n",
       "        vertical-align: middle;\n",
       "    }\n",
       "\n",
       "    .dataframe tbody tr th {\n",
       "        vertical-align: top;\n",
       "    }\n",
       "\n",
       "    .dataframe thead th {\n",
       "        text-align: right;\n",
       "    }\n",
       "</style>\n",
       "<table border=\"1\" class=\"dataframe\">\n",
       "  <thead>\n",
       "    <tr style=\"text-align: right;\">\n",
       "      <th></th>\n",
       "      <th>주성분1</th>\n",
       "      <th>주성분2</th>\n",
       "      <th>주성분3</th>\n",
       "      <th>주성분4</th>\n",
       "      <th>주성분5</th>\n",
       "    </tr>\n",
       "  </thead>\n",
       "  <tbody>\n",
       "    <tr>\n",
       "      <th>0</th>\n",
       "      <td>2.099584</td>\n",
       "      <td>1.081103</td>\n",
       "      <td>0.972736</td>\n",
       "      <td>0.574251</td>\n",
       "      <td>0.470549</td>\n",
       "    </tr>\n",
       "    <tr>\n",
       "      <th>0</th>\n",
       "      <td>0.615438</td>\n",
       "      <td>0.163174</td>\n",
       "      <td>0.132102</td>\n",
       "      <td>0.046038</td>\n",
       "      <td>0.030912</td>\n",
       "    </tr>\n",
       "  </tbody>\n",
       "</table>\n",
       "</div>"
      ],
      "text/plain": [
       "       주성분1      주성분2      주성분3      주성분4      주성분5\n",
       "0  2.099584  1.081103  0.972736  0.574251  0.470549\n",
       "0  0.615438  0.163174  0.132102  0.046038  0.030912"
      ]
     },
     "execution_count": 147,
     "metadata": {},
     "output_type": "execute_result"
    }
   ],
   "source": [
    "pca_summary"
   ]
  },
  {
   "cell_type": "code",
   "execution_count": 148,
   "metadata": {},
   "outputs": [],
   "source": [
    "proportion = pca.explained_variance_ratio_\n",
    "s = 0\n",
    "result = []\n",
    "for i in range(len(proportion)) :\n",
    "    s = s+ proportion[i]\n",
    "    result.append(np.round(s,4))"
   ]
  },
  {
   "cell_type": "code",
   "execution_count": 149,
   "metadata": {},
   "outputs": [],
   "source": [
    "pca_summary.loc[1] = result"
   ]
  },
  {
   "cell_type": "code",
   "execution_count": 150,
   "metadata": {},
   "outputs": [],
   "source": [
    "pca_summary.index = ['표준편차', '변동량', '누적변동량']"
   ]
  },
  {
   "cell_type": "code",
   "execution_count": 151,
   "metadata": {},
   "outputs": [
    {
     "data": {
      "text/html": [
       "<div>\n",
       "<style scoped>\n",
       "    .dataframe tbody tr th:only-of-type {\n",
       "        vertical-align: middle;\n",
       "    }\n",
       "\n",
       "    .dataframe tbody tr th {\n",
       "        vertical-align: top;\n",
       "    }\n",
       "\n",
       "    .dataframe thead th {\n",
       "        text-align: right;\n",
       "    }\n",
       "</style>\n",
       "<table border=\"1\" class=\"dataframe\">\n",
       "  <thead>\n",
       "    <tr style=\"text-align: right;\">\n",
       "      <th></th>\n",
       "      <th>주성분1</th>\n",
       "      <th>주성분2</th>\n",
       "      <th>주성분3</th>\n",
       "      <th>주성분4</th>\n",
       "      <th>주성분5</th>\n",
       "    </tr>\n",
       "  </thead>\n",
       "  <tbody>\n",
       "    <tr>\n",
       "      <th>표준편차</th>\n",
       "      <td>2.099584</td>\n",
       "      <td>1.081103</td>\n",
       "      <td>0.972736</td>\n",
       "      <td>0.574251</td>\n",
       "      <td>0.470549</td>\n",
       "    </tr>\n",
       "    <tr>\n",
       "      <th>변동량</th>\n",
       "      <td>0.615438</td>\n",
       "      <td>0.163174</td>\n",
       "      <td>0.132102</td>\n",
       "      <td>0.046038</td>\n",
       "      <td>0.030912</td>\n",
       "    </tr>\n",
       "    <tr>\n",
       "      <th>누적변동량</th>\n",
       "      <td>0.615400</td>\n",
       "      <td>0.778600</td>\n",
       "      <td>0.910700</td>\n",
       "      <td>0.956800</td>\n",
       "      <td>0.987700</td>\n",
       "    </tr>\n",
       "  </tbody>\n",
       "</table>\n",
       "</div>"
      ],
      "text/plain": [
       "           주성분1      주성분2      주성분3      주성분4      주성분5\n",
       "표준편차   2.099584  1.081103  0.972736  0.574251  0.470549\n",
       "변동량    0.615438  0.163174  0.132102  0.046038  0.030912\n",
       "누적변동량  0.615400  0.778600  0.910700  0.956800  0.987700"
      ]
     },
     "execution_count": 151,
     "metadata": {},
     "output_type": "execute_result"
    }
   ],
   "source": [
    "pca_summary"
   ]
  },
  {
   "cell_type": "markdown",
   "metadata": {},
   "source": [
    "### Scree plot"
   ]
  },
  {
   "cell_type": "code",
   "execution_count": 152,
   "metadata": {},
   "outputs": [],
   "source": [
    "per_var = np.round(pca.explained_variance_,decimals=1)\n",
    "labels = ['주성분' + str(x) for x in range(1,len(per_var) + 1)]"
   ]
  },
  {
   "cell_type": "code",
   "execution_count": 153,
   "metadata": {},
   "outputs": [
    {
     "data": {
      "image/png": "[encoded data removed]",
      "text/plain": [
       "<Figure size 576x432 with 1 Axes>"
      ]
     },
     "metadata": {
      "needs_background": "light"
     },
     "output_type": "display_data"
    }
   ],
   "source": [
    "plt.figure(figsize = (8,6))\n",
    "plt.title('Scree Plot',fontsize = 15)\n",
    "plt.plot(per_var,marker = 'o',markerfacecolor = 'w',markersize = 8,markeredgecolor='k',color = 'r')\n",
    "plt.show()"
   ]
  },
  {
   "cell_type": "code",
   "execution_count": 154,
   "metadata": {},
   "outputs": [],
   "source": [
    "def biplot(score,coeff,value,labels) :\n",
    "    pca1 = 0\n",
    "    pca2 = 1\n",
    "    xs = score[:,pca1]\n",
    "    ys = score[:,pca2]\n",
    "    n = score.shape[1]\n",
    "\n",
    "    fig,ax = plt.subplots(figsize = (15, 12))\n",
    "    ax.scatter(xs,ys)\n",
    "    for i, txt in enumerate(value) :\n",
    "        ax.annotate(txt,(xs[i],ys[i]))\n",
    "    \n",
    "    for i in range(n) :\n",
    "        ax.arrow(0,0,coeff[i,pca1],coeff[i,pca2],color = 'r',alpha = 0.6)\n",
    "        ax.text(coeff[i,pca1] * 1.5, coeff[i,pca2] * 1.5,labels[i], color='g', ha='center', va='center')\n",
    "        \n",
    "\n",
    "    plt.xlabel('Comp.{}'.format(pca1+1))\n",
    "    plt.ylabel(\"Comp.{}\".format(pca2+1))\n",
    "    plt.grid()"
   ]
  },
  {
   "cell_type": "code",
   "execution_count": 161,
   "metadata": {},
   "outputs": [
    {
     "data": {
      "image/png": "[encoded data removed]",
      "text/plain": [
       "<Figure size 1080x864 with 1 Axes>"
      ]
     },
     "metadata": {
      "needs_background": "light"
     },
     "output_type": "display_data"
    }
   ],
   "source": [
    "biplot(comp,pca.components_,names,u23.columns)"
   ]
  },
  {
   "cell_type": "markdown",
   "metadata": {},
   "source": [
    "화살표 길이가 길수록 원변수의 분산을 잘 설명하는 변수라고 할 수 있다.\n",
    "\n",
    "화살표는 원변수와 PC의 상관계수를 뜻하며 PC와 평행할수록 해당 PC에 큰 영향"
   ]
  }
 ],
 "metadata": {
  "kernelspec": {
   "display_name": "Python 3",
   "language": "python",
   "name": "python3"
  },
  "language_info": {
   "codemirror_mode": {
    "name": "ipython",
    "version": 3
   },
   "file_extension": ".py",
   "mimetype": "text/x-python",
   "name": "python",
   "nbconvert_exporter": "python",
   "pygments_lexer": "ipython3",
   "version": "3.8.5"
  }
 },
 "nbformat": 4,
 "nbformat_minor": 4
}
