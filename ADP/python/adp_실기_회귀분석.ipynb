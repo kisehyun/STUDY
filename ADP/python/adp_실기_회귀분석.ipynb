{
 "cells": [
  {
   "cell_type": "markdown",
   "metadata": {},
   "source": [
    "# ADP 회귀분석\n",
    "\n",
    "***\n",
    "\n",
    "## 1. 선형회귀분석 가정\n",
    "\n",
    "1. 선형성 = 독립 및 종속변수의 관계가 선형이다.(가장 중요한 가정)\n",
    "2. 등분산성 = 오차의 분산이 일정하다.\n",
    "3. 독립성 = 독립변수와 오차는 관련이 없다. dubin-watson 통계량 사용\n",
    "4. 비상관성 = 오차들끼리 상관이 없다.\n",
    "5. 정상성(정규성) = 오차의 분포가 정규분포를 따른다. Q-Q plot, Kolmogolov-Smirnov 검정, shpiro-Wilk검정 등 활용"
   ]
  },
  {
   "cell_type": "code",
   "execution_count": 1,
   "metadata": {},
   "outputs": [],
   "source": [
    "import numpy as np\n",
    "import statsmodels.api as sm\n",
    "from statsmodels.formula.api import ols\n",
    "import pandas as pd\n",
    "\n",
    "from sklearn.datasets import load_boston"
   ]
  },
  {
   "cell_type": "code",
   "execution_count": 2,
   "metadata": {},
   "outputs": [],
   "source": [
    "boston = pd.DataFrame(load_boston().data, columns = load_boston().feature_names)\n",
    "boston['target'] = load_boston().target"
   ]
  },
  {
   "cell_type": "code",
   "execution_count": 3,
   "metadata": {
    "scrolled": true
   },
   "outputs": [
    {
     "data": {
      "text/html": [
       "<div>\n",
       "<style scoped>\n",
       "    .dataframe tbody tr th:only-of-type {\n",
       "        vertical-align: middle;\n",
       "    }\n",
       "\n",
       "    .dataframe tbody tr th {\n",
       "        vertical-align: top;\n",
       "    }\n",
       "\n",
       "    .dataframe thead th {\n",
       "        text-align: right;\n",
       "    }\n",
       "</style>\n",
       "<table border=\"1\" class=\"dataframe\">\n",
       "  <thead>\n",
       "    <tr style=\"text-align: right;\">\n",
       "      <th></th>\n",
       "      <th>CRIM</th>\n",
       "      <th>ZN</th>\n",
       "      <th>INDUS</th>\n",
       "      <th>CHAS</th>\n",
       "      <th>NOX</th>\n",
       "      <th>RM</th>\n",
       "      <th>AGE</th>\n",
       "      <th>DIS</th>\n",
       "      <th>RAD</th>\n",
       "      <th>TAX</th>\n",
       "      <th>PTRATIO</th>\n",
       "      <th>B</th>\n",
       "      <th>LSTAT</th>\n",
       "      <th>target</th>\n",
       "    </tr>\n",
       "  </thead>\n",
       "  <tbody>\n",
       "    <tr>\n",
       "      <th>0</th>\n",
       "      <td>0.00632</td>\n",
       "      <td>18.0</td>\n",
       "      <td>2.31</td>\n",
       "      <td>0.0</td>\n",
       "      <td>0.538</td>\n",
       "      <td>6.575</td>\n",
       "      <td>65.2</td>\n",
       "      <td>4.0900</td>\n",
       "      <td>1.0</td>\n",
       "      <td>296.0</td>\n",
       "      <td>15.3</td>\n",
       "      <td>396.90</td>\n",
       "      <td>4.98</td>\n",
       "      <td>24.0</td>\n",
       "    </tr>\n",
       "    <tr>\n",
       "      <th>1</th>\n",
       "      <td>0.02731</td>\n",
       "      <td>0.0</td>\n",
       "      <td>7.07</td>\n",
       "      <td>0.0</td>\n",
       "      <td>0.469</td>\n",
       "      <td>6.421</td>\n",
       "      <td>78.9</td>\n",
       "      <td>4.9671</td>\n",
       "      <td>2.0</td>\n",
       "      <td>242.0</td>\n",
       "      <td>17.8</td>\n",
       "      <td>396.90</td>\n",
       "      <td>9.14</td>\n",
       "      <td>21.6</td>\n",
       "    </tr>\n",
       "    <tr>\n",
       "      <th>2</th>\n",
       "      <td>0.02729</td>\n",
       "      <td>0.0</td>\n",
       "      <td>7.07</td>\n",
       "      <td>0.0</td>\n",
       "      <td>0.469</td>\n",
       "      <td>7.185</td>\n",
       "      <td>61.1</td>\n",
       "      <td>4.9671</td>\n",
       "      <td>2.0</td>\n",
       "      <td>242.0</td>\n",
       "      <td>17.8</td>\n",
       "      <td>392.83</td>\n",
       "      <td>4.03</td>\n",
       "      <td>34.7</td>\n",
       "    </tr>\n",
       "    <tr>\n",
       "      <th>3</th>\n",
       "      <td>0.03237</td>\n",
       "      <td>0.0</td>\n",
       "      <td>2.18</td>\n",
       "      <td>0.0</td>\n",
       "      <td>0.458</td>\n",
       "      <td>6.998</td>\n",
       "      <td>45.8</td>\n",
       "      <td>6.0622</td>\n",
       "      <td>3.0</td>\n",
       "      <td>222.0</td>\n",
       "      <td>18.7</td>\n",
       "      <td>394.63</td>\n",
       "      <td>2.94</td>\n",
       "      <td>33.4</td>\n",
       "    </tr>\n",
       "    <tr>\n",
       "      <th>4</th>\n",
       "      <td>0.06905</td>\n",
       "      <td>0.0</td>\n",
       "      <td>2.18</td>\n",
       "      <td>0.0</td>\n",
       "      <td>0.458</td>\n",
       "      <td>7.147</td>\n",
       "      <td>54.2</td>\n",
       "      <td>6.0622</td>\n",
       "      <td>3.0</td>\n",
       "      <td>222.0</td>\n",
       "      <td>18.7</td>\n",
       "      <td>396.90</td>\n",
       "      <td>5.33</td>\n",
       "      <td>36.2</td>\n",
       "    </tr>\n",
       "  </tbody>\n",
       "</table>\n",
       "</div>"
      ],
      "text/plain": [
       "      CRIM    ZN  INDUS  CHAS    NOX     RM   AGE     DIS  RAD    TAX  \\\n",
       "0  0.00632  18.0   2.31   0.0  0.538  6.575  65.2  4.0900  1.0  296.0   \n",
       "1  0.02731   0.0   7.07   0.0  0.469  6.421  78.9  4.9671  2.0  242.0   \n",
       "2  0.02729   0.0   7.07   0.0  0.469  7.185  61.1  4.9671  2.0  242.0   \n",
       "3  0.03237   0.0   2.18   0.0  0.458  6.998  45.8  6.0622  3.0  222.0   \n",
       "4  0.06905   0.0   2.18   0.0  0.458  7.147  54.2  6.0622  3.0  222.0   \n",
       "\n",
       "   PTRATIO       B  LSTAT  target  \n",
       "0     15.3  396.90   4.98    24.0  \n",
       "1     17.8  396.90   9.14    21.6  \n",
       "2     17.8  392.83   4.03    34.7  \n",
       "3     18.7  394.63   2.94    33.4  \n",
       "4     18.7  396.90   5.33    36.2  "
      ]
     },
     "execution_count": 3,
     "metadata": {},
     "output_type": "execute_result"
    }
   ],
   "source": [
    "boston.head()"
   ]
  },
  {
   "cell_type": "markdown",
   "metadata": {},
   "source": [
    "## 2. 단순 선형 회귀 분석"
   ]
  },
  {
   "cell_type": "code",
   "execution_count": 4,
   "metadata": {},
   "outputs": [],
   "source": [
    "model = ols(formula = 'target ~ LSTAT', data = boston)"
   ]
  },
  {
   "cell_type": "code",
   "execution_count": 5,
   "metadata": {},
   "outputs": [],
   "source": [
    "result = model.fit()"
   ]
  },
  {
   "cell_type": "code",
   "execution_count": 6,
   "metadata": {},
   "outputs": [
    {
     "data": {
      "text/html": [
       "<table class=\"simpletable\">\n",
       "<caption>OLS Regression Results</caption>\n",
       "<tr>\n",
       "  <th>Dep. Variable:</th>         <td>target</td>      <th>  R-squared:         </th> <td>   0.544</td>\n",
       "</tr>\n",
       "<tr>\n",
       "  <th>Model:</th>                   <td>OLS</td>       <th>  Adj. R-squared:    </th> <td>   0.543</td>\n",
       "</tr>\n",
       "<tr>\n",
       "  <th>Method:</th>             <td>Least Squares</td>  <th>  F-statistic:       </th> <td>   601.6</td>\n",
       "</tr>\n",
       "<tr>\n",
       "  <th>Date:</th>             <td>Thu, 25 Mar 2021</td> <th>  Prob (F-statistic):</th> <td>5.08e-88</td>\n",
       "</tr>\n",
       "<tr>\n",
       "  <th>Time:</th>                 <td>08:57:21</td>     <th>  Log-Likelihood:    </th> <td> -1641.5</td>\n",
       "</tr>\n",
       "<tr>\n",
       "  <th>No. Observations:</th>      <td>   506</td>      <th>  AIC:               </th> <td>   3287.</td>\n",
       "</tr>\n",
       "<tr>\n",
       "  <th>Df Residuals:</th>          <td>   504</td>      <th>  BIC:               </th> <td>   3295.</td>\n",
       "</tr>\n",
       "<tr>\n",
       "  <th>Df Model:</th>              <td>     1</td>      <th>                     </th>     <td> </td>   \n",
       "</tr>\n",
       "<tr>\n",
       "  <th>Covariance Type:</th>      <td>nonrobust</td>    <th>                     </th>     <td> </td>   \n",
       "</tr>\n",
       "</table>\n",
       "<table class=\"simpletable\">\n",
       "<tr>\n",
       "      <td></td>         <th>coef</th>     <th>std err</th>      <th>t</th>      <th>P>|t|</th>  <th>[0.025</th>    <th>0.975]</th>  \n",
       "</tr>\n",
       "<tr>\n",
       "  <th>Intercept</th> <td>   34.5538</td> <td>    0.563</td> <td>   61.415</td> <td> 0.000</td> <td>   33.448</td> <td>   35.659</td>\n",
       "</tr>\n",
       "<tr>\n",
       "  <th>LSTAT</th>     <td>   -0.9500</td> <td>    0.039</td> <td>  -24.528</td> <td> 0.000</td> <td>   -1.026</td> <td>   -0.874</td>\n",
       "</tr>\n",
       "</table>\n",
       "<table class=\"simpletable\">\n",
       "<tr>\n",
       "  <th>Omnibus:</th>       <td>137.043</td> <th>  Durbin-Watson:     </th> <td>   0.892</td>\n",
       "</tr>\n",
       "<tr>\n",
       "  <th>Prob(Omnibus):</th> <td> 0.000</td>  <th>  Jarque-Bera (JB):  </th> <td> 291.373</td>\n",
       "</tr>\n",
       "<tr>\n",
       "  <th>Skew:</th>          <td> 1.453</td>  <th>  Prob(JB):          </th> <td>5.36e-64</td>\n",
       "</tr>\n",
       "<tr>\n",
       "  <th>Kurtosis:</th>      <td> 5.319</td>  <th>  Cond. No.          </th> <td>    29.7</td>\n",
       "</tr>\n",
       "</table><br/><br/>Notes:<br/>[1] Standard Errors assume that the covariance matrix of the errors is correctly specified."
      ],
      "text/plain": [
       "<class 'statsmodels.iolib.summary.Summary'>\n",
       "\"\"\"\n",
       "                            OLS Regression Results                            \n",
       "==============================================================================\n",
       "Dep. Variable:                 target   R-squared:                       0.544\n",
       "Model:                            OLS   Adj. R-squared:                  0.543\n",
       "Method:                 Least Squares   F-statistic:                     601.6\n",
       "Date:                Thu, 25 Mar 2021   Prob (F-statistic):           5.08e-88\n",
       "Time:                        08:57:21   Log-Likelihood:                -1641.5\n",
       "No. Observations:                 506   AIC:                             3287.\n",
       "Df Residuals:                     504   BIC:                             3295.\n",
       "Df Model:                           1                                         \n",
       "Covariance Type:            nonrobust                                         \n",
       "==============================================================================\n",
       "                 coef    std err          t      P>|t|      [0.025      0.975]\n",
       "------------------------------------------------------------------------------\n",
       "Intercept     34.5538      0.563     61.415      0.000      33.448      35.659\n",
       "LSTAT         -0.9500      0.039    -24.528      0.000      -1.026      -0.874\n",
       "==============================================================================\n",
       "Omnibus:                      137.043   Durbin-Watson:                   0.892\n",
       "Prob(Omnibus):                  0.000   Jarque-Bera (JB):              291.373\n",
       "Skew:                           1.453   Prob(JB):                     5.36e-64\n",
       "Kurtosis:                       5.319   Cond. No.                         29.7\n",
       "==============================================================================\n",
       "\n",
       "Notes:\n",
       "[1] Standard Errors assume that the covariance matrix of the errors is correctly specified.\n",
       "\"\"\""
      ]
     },
     "execution_count": 6,
     "metadata": {},
     "output_type": "execute_result"
    }
   ],
   "source": [
    "result.summary()"
   ]
  },
  {
   "cell_type": "markdown",
   "metadata": {},
   "source": [
    "#### 추정된 회귀식은 target = 34.5538 - 0.95 * LSTAT\n",
    "#### 모형의 결정계수는 0.544이며 수정된 결정계수는 0.543이다.\n",
    "#### 모형의 F-통계량은 601.6이고 모형의 유의확률은 5.08e-88이다."
   ]
  },
  {
   "cell_type": "markdown",
   "metadata": {},
   "source": [
    "## 3. 다중선형회귀분석"
   ]
  },
  {
   "cell_type": "code",
   "execution_count": 7,
   "metadata": {},
   "outputs": [],
   "source": [
    "fifa = pd.read_csv('/Users/kisehyun/study_code/ADP/모의고사 1회/FIFA.csv', encoding = 'cp949')"
   ]
  },
  {
   "cell_type": "code",
   "execution_count": 8,
   "metadata": {},
   "outputs": [
    {
     "data": {
      "text/html": [
       "<div>\n",
       "<style scoped>\n",
       "    .dataframe tbody tr th:only-of-type {\n",
       "        vertical-align: middle;\n",
       "    }\n",
       "\n",
       "    .dataframe tbody tr th {\n",
       "        vertical-align: top;\n",
       "    }\n",
       "\n",
       "    .dataframe thead th {\n",
       "        text-align: right;\n",
       "    }\n",
       "</style>\n",
       "<table border=\"1\" class=\"dataframe\">\n",
       "  <thead>\n",
       "    <tr style=\"text-align: right;\">\n",
       "      <th></th>\n",
       "      <th>ID</th>\n",
       "      <th>Name</th>\n",
       "      <th>Age</th>\n",
       "      <th>Nationality</th>\n",
       "      <th>Overall</th>\n",
       "      <th>Club</th>\n",
       "      <th>Preferred_Foot</th>\n",
       "      <th>Work_Rate</th>\n",
       "      <th>Position</th>\n",
       "      <th>Jersey_Number</th>\n",
       "      <th>Contract_Valid_Until</th>\n",
       "      <th>Height</th>\n",
       "      <th>Weight_lb</th>\n",
       "      <th>Release_Clause</th>\n",
       "      <th>Value</th>\n",
       "      <th>Wage</th>\n",
       "    </tr>\n",
       "  </thead>\n",
       "  <tbody>\n",
       "    <tr>\n",
       "      <th>0</th>\n",
       "      <td>158023</td>\n",
       "      <td>L. Messi</td>\n",
       "      <td>31</td>\n",
       "      <td>Argentina</td>\n",
       "      <td>94</td>\n",
       "      <td>FC Barcelona</td>\n",
       "      <td>Left</td>\n",
       "      <td>Medium/ Medium</td>\n",
       "      <td>RF</td>\n",
       "      <td>10</td>\n",
       "      <td>2021</td>\n",
       "      <td>5'7</td>\n",
       "      <td>159</td>\n",
       "      <td>226500</td>\n",
       "      <td>110500</td>\n",
       "      <td>565</td>\n",
       "    </tr>\n",
       "    <tr>\n",
       "      <th>1</th>\n",
       "      <td>20801</td>\n",
       "      <td>Cristiano Ronaldo</td>\n",
       "      <td>33</td>\n",
       "      <td>Portugal</td>\n",
       "      <td>94</td>\n",
       "      <td>Juventus</td>\n",
       "      <td>Right</td>\n",
       "      <td>High/ Low</td>\n",
       "      <td>ST</td>\n",
       "      <td>7</td>\n",
       "      <td>2022</td>\n",
       "      <td>6'2</td>\n",
       "      <td>183</td>\n",
       "      <td>127100</td>\n",
       "      <td>77000</td>\n",
       "      <td>405</td>\n",
       "    </tr>\n",
       "    <tr>\n",
       "      <th>2</th>\n",
       "      <td>190871</td>\n",
       "      <td>Neymar Jr</td>\n",
       "      <td>26</td>\n",
       "      <td>Brazil</td>\n",
       "      <td>92</td>\n",
       "      <td>Paris Saint-Germain</td>\n",
       "      <td>Right</td>\n",
       "      <td>High/ Medium</td>\n",
       "      <td>LW</td>\n",
       "      <td>10</td>\n",
       "      <td>2022</td>\n",
       "      <td>5'9</td>\n",
       "      <td>150</td>\n",
       "      <td>228100</td>\n",
       "      <td>118500</td>\n",
       "      <td>290</td>\n",
       "    </tr>\n",
       "    <tr>\n",
       "      <th>3</th>\n",
       "      <td>193080</td>\n",
       "      <td>De Gea</td>\n",
       "      <td>27</td>\n",
       "      <td>Spain</td>\n",
       "      <td>91</td>\n",
       "      <td>Manchester United</td>\n",
       "      <td>Right</td>\n",
       "      <td>Medium/ Medium</td>\n",
       "      <td>GK</td>\n",
       "      <td>1</td>\n",
       "      <td>2020</td>\n",
       "      <td>6'4</td>\n",
       "      <td>168</td>\n",
       "      <td>138600</td>\n",
       "      <td>72000</td>\n",
       "      <td>260</td>\n",
       "    </tr>\n",
       "    <tr>\n",
       "      <th>4</th>\n",
       "      <td>192985</td>\n",
       "      <td>K. De Bruyne</td>\n",
       "      <td>27</td>\n",
       "      <td>Belgium</td>\n",
       "      <td>91</td>\n",
       "      <td>Manchester City</td>\n",
       "      <td>Right</td>\n",
       "      <td>High/ High</td>\n",
       "      <td>RCM</td>\n",
       "      <td>7</td>\n",
       "      <td>2023</td>\n",
       "      <td>5'11</td>\n",
       "      <td>154</td>\n",
       "      <td>196400</td>\n",
       "      <td>102000</td>\n",
       "      <td>355</td>\n",
       "    </tr>\n",
       "  </tbody>\n",
       "</table>\n",
       "</div>"
      ],
      "text/plain": [
       "       ID               Name  Age Nationality  Overall                 Club  \\\n",
       "0  158023           L. Messi   31   Argentina       94         FC Barcelona   \n",
       "1   20801  Cristiano Ronaldo   33    Portugal       94             Juventus   \n",
       "2  190871          Neymar Jr   26      Brazil       92  Paris Saint-Germain   \n",
       "3  193080             De Gea   27       Spain       91    Manchester United   \n",
       "4  192985       K. De Bruyne   27     Belgium       91      Manchester City   \n",
       "\n",
       "  Preferred_Foot       Work_Rate Position  Jersey_Number  \\\n",
       "0           Left  Medium/ Medium       RF             10   \n",
       "1          Right       High/ Low       ST              7   \n",
       "2          Right    High/ Medium       LW             10   \n",
       "3          Right  Medium/ Medium       GK              1   \n",
       "4          Right      High/ High      RCM              7   \n",
       "\n",
       "   Contract_Valid_Until Height  Weight_lb  Release_Clause   Value  Wage  \n",
       "0                  2021    5'7        159          226500  110500   565  \n",
       "1                  2022    6'2        183          127100   77000   405  \n",
       "2                  2022    5'9        150          228100  118500   290  \n",
       "3                  2020    6'4        168          138600   72000   260  \n",
       "4                  2023   5'11        154          196400  102000   355  "
      ]
     },
     "execution_count": 8,
     "metadata": {},
     "output_type": "execute_result"
    }
   ],
   "source": [
    "fifa.head()"
   ]
  },
  {
   "cell_type": "code",
   "execution_count": 9,
   "metadata": {},
   "outputs": [],
   "source": [
    "model = ols(formula = 'Value ~ Wage + Overall + Age', data = fifa)"
   ]
  },
  {
   "cell_type": "code",
   "execution_count": 10,
   "metadata": {},
   "outputs": [],
   "source": [
    "result = model.fit()"
   ]
  },
  {
   "cell_type": "code",
   "execution_count": 11,
   "metadata": {
    "scrolled": false
   },
   "outputs": [
    {
     "data": {
      "text/html": [
       "<table class=\"simpletable\">\n",
       "<caption>OLS Regression Results</caption>\n",
       "<tr>\n",
       "  <th>Dep. Variable:</th>          <td>Value</td>      <th>  R-squared:         </th>  <td>   0.791</td>  \n",
       "</tr>\n",
       "<tr>\n",
       "  <th>Model:</th>                   <td>OLS</td>       <th>  Adj. R-squared:    </th>  <td>   0.791</td>  \n",
       "</tr>\n",
       "<tr>\n",
       "  <th>Method:</th>             <td>Least Squares</td>  <th>  F-statistic:       </th>  <td>2.096e+04</td> \n",
       "</tr>\n",
       "<tr>\n",
       "  <th>Date:</th>             <td>Thu, 25 Mar 2021</td> <th>  Prob (F-statistic):</th>   <td>  0.00</td>   \n",
       "</tr>\n",
       "<tr>\n",
       "  <th>Time:</th>                 <td>08:57:21</td>     <th>  Log-Likelihood:    </th> <td>-1.5458e+05</td>\n",
       "</tr>\n",
       "<tr>\n",
       "  <th>No. Observations:</th>      <td> 16642</td>      <th>  AIC:               </th>  <td>3.092e+05</td> \n",
       "</tr>\n",
       "<tr>\n",
       "  <th>Df Residuals:</th>          <td> 16638</td>      <th>  BIC:               </th>  <td>3.092e+05</td> \n",
       "</tr>\n",
       "<tr>\n",
       "  <th>Df Model:</th>              <td>     3</td>      <th>                     </th>      <td> </td>     \n",
       "</tr>\n",
       "<tr>\n",
       "  <th>Covariance Type:</th>      <td>nonrobust</td>    <th>                     </th>      <td> </td>     \n",
       "</tr>\n",
       "</table>\n",
       "<table class=\"simpletable\">\n",
       "<tr>\n",
       "      <td></td>         <th>coef</th>     <th>std err</th>      <th>t</th>      <th>P>|t|</th>  <th>[0.025</th>    <th>0.975]</th>  \n",
       "</tr>\n",
       "<tr>\n",
       "  <th>Intercept</th> <td>-1.018e+04</td> <td>  228.843</td> <td>  -44.466</td> <td> 0.000</td> <td>-1.06e+04</td> <td>-9727.191</td>\n",
       "</tr>\n",
       "<tr>\n",
       "  <th>Wage</th>      <td>  184.1522</td> <td>    1.128</td> <td>  163.265</td> <td> 0.000</td> <td>  181.941</td> <td>  186.363</td>\n",
       "</tr>\n",
       "<tr>\n",
       "  <th>Overall</th>   <td>  241.4204</td> <td>    4.002</td> <td>   60.318</td> <td> 0.000</td> <td>  233.575</td> <td>  249.266</td>\n",
       "</tr>\n",
       "<tr>\n",
       "  <th>Age</th>       <td> -203.1997</td> <td>    4.925</td> <td>  -41.261</td> <td> 0.000</td> <td> -212.853</td> <td> -193.547</td>\n",
       "</tr>\n",
       "</table>\n",
       "<table class=\"simpletable\">\n",
       "<tr>\n",
       "  <th>Omnibus:</th>       <td>17093.962</td> <th>  Durbin-Watson:     </th>  <td>   1.409</td>  \n",
       "</tr>\n",
       "<tr>\n",
       "  <th>Prob(Omnibus):</th>  <td> 0.000</td>   <th>  Jarque-Bera (JB):  </th> <td>3530710.483</td>\n",
       "</tr>\n",
       "<tr>\n",
       "  <th>Skew:</th>           <td> 4.667</td>   <th>  Prob(JB):          </th>  <td>    0.00</td>  \n",
       "</tr>\n",
       "<tr>\n",
       "  <th>Kurtosis:</th>       <td>73.743</td>   <th>  Cond. No.          </th>  <td>    813.</td>  \n",
       "</tr>\n",
       "</table><br/><br/>Notes:<br/>[1] Standard Errors assume that the covariance matrix of the errors is correctly specified."
      ],
      "text/plain": [
       "<class 'statsmodels.iolib.summary.Summary'>\n",
       "\"\"\"\n",
       "                            OLS Regression Results                            \n",
       "==============================================================================\n",
       "Dep. Variable:                  Value   R-squared:                       0.791\n",
       "Model:                            OLS   Adj. R-squared:                  0.791\n",
       "Method:                 Least Squares   F-statistic:                 2.096e+04\n",
       "Date:                Thu, 25 Mar 2021   Prob (F-statistic):               0.00\n",
       "Time:                        08:57:21   Log-Likelihood:            -1.5458e+05\n",
       "No. Observations:               16642   AIC:                         3.092e+05\n",
       "Df Residuals:                   16638   BIC:                         3.092e+05\n",
       "Df Model:                           3                                         \n",
       "Covariance Type:            nonrobust                                         \n",
       "==============================================================================\n",
       "                 coef    std err          t      P>|t|      [0.025      0.975]\n",
       "------------------------------------------------------------------------------\n",
       "Intercept  -1.018e+04    228.843    -44.466      0.000   -1.06e+04   -9727.191\n",
       "Wage         184.1522      1.128    163.265      0.000     181.941     186.363\n",
       "Overall      241.4204      4.002     60.318      0.000     233.575     249.266\n",
       "Age         -203.1997      4.925    -41.261      0.000    -212.853    -193.547\n",
       "==============================================================================\n",
       "Omnibus:                    17093.962   Durbin-Watson:                   1.409\n",
       "Prob(Omnibus):                  0.000   Jarque-Bera (JB):          3530710.483\n",
       "Skew:                           4.667   Prob(JB):                         0.00\n",
       "Kurtosis:                      73.743   Cond. No.                         813.\n",
       "==============================================================================\n",
       "\n",
       "Notes:\n",
       "[1] Standard Errors assume that the covariance matrix of the errors is correctly specified.\n",
       "\"\"\""
      ]
     },
     "execution_count": 11,
     "metadata": {},
     "output_type": "execute_result"
    }
   ],
   "source": [
    "result.summary()"
   ]
  },
  {
   "cell_type": "markdown",
   "metadata": {},
   "source": [
    "## 4. 최적회귀방정식\n",
    "\n",
    "- 전진이든 후진이든 자동화 구성 말고 일일이 하는게 더 편할듯"
   ]
  },
  {
   "cell_type": "code",
   "execution_count": 14,
   "metadata": {},
   "outputs": [],
   "source": [
    "data = pd.read_csv('/Users/kisehyun/study_code/ADP/모의고사 4회/bike_marketing.csv', encoding = 'cp949')"
   ]
  },
  {
   "cell_type": "code",
   "execution_count": 15,
   "metadata": {},
   "outputs": [
    {
     "data": {
      "text/html": [
       "<div>\n",
       "<style scoped>\n",
       "    .dataframe tbody tr th:only-of-type {\n",
       "        vertical-align: middle;\n",
       "    }\n",
       "\n",
       "    .dataframe tbody tr th {\n",
       "        vertical-align: top;\n",
       "    }\n",
       "\n",
       "    .dataframe thead th {\n",
       "        text-align: right;\n",
       "    }\n",
       "</style>\n",
       "<table border=\"1\" class=\"dataframe\">\n",
       "  <thead>\n",
       "    <tr style=\"text-align: right;\">\n",
       "      <th></th>\n",
       "      <th>company_num</th>\n",
       "      <th>google_adwords</th>\n",
       "      <th>facebook</th>\n",
       "      <th>twitter</th>\n",
       "      <th>marketing_total</th>\n",
       "      <th>revenues</th>\n",
       "      <th>employees</th>\n",
       "      <th>pop_density</th>\n",
       "    </tr>\n",
       "  </thead>\n",
       "  <tbody>\n",
       "    <tr>\n",
       "      <th>0</th>\n",
       "      <td>1</td>\n",
       "      <td>65.66</td>\n",
       "      <td>47.86</td>\n",
       "      <td>52.46</td>\n",
       "      <td>166</td>\n",
       "      <td>39.26</td>\n",
       "      <td>5</td>\n",
       "      <td>High</td>\n",
       "    </tr>\n",
       "    <tr>\n",
       "      <th>1</th>\n",
       "      <td>2</td>\n",
       "      <td>39.10</td>\n",
       "      <td>55.20</td>\n",
       "      <td>77.40</td>\n",
       "      <td>172</td>\n",
       "      <td>38.90</td>\n",
       "      <td>7</td>\n",
       "      <td>Medium</td>\n",
       "    </tr>\n",
       "    <tr>\n",
       "      <th>2</th>\n",
       "      <td>3</td>\n",
       "      <td>174.81</td>\n",
       "      <td>52.01</td>\n",
       "      <td>68.01</td>\n",
       "      <td>295</td>\n",
       "      <td>49.51</td>\n",
       "      <td>11</td>\n",
       "      <td>Medium</td>\n",
       "    </tr>\n",
       "    <tr>\n",
       "      <th>3</th>\n",
       "      <td>4</td>\n",
       "      <td>34.36</td>\n",
       "      <td>61.96</td>\n",
       "      <td>86.86</td>\n",
       "      <td>183</td>\n",
       "      <td>40.56</td>\n",
       "      <td>7</td>\n",
       "      <td>High</td>\n",
       "    </tr>\n",
       "    <tr>\n",
       "      <th>4</th>\n",
       "      <td>5</td>\n",
       "      <td>78.21</td>\n",
       "      <td>40.91</td>\n",
       "      <td>30.41</td>\n",
       "      <td>150</td>\n",
       "      <td>40.21</td>\n",
       "      <td>9</td>\n",
       "      <td>Low</td>\n",
       "    </tr>\n",
       "  </tbody>\n",
       "</table>\n",
       "</div>"
      ],
      "text/plain": [
       "   company_num  google_adwords  facebook  twitter  marketing_total  revenues  \\\n",
       "0            1           65.66     47.86    52.46              166     39.26   \n",
       "1            2           39.10     55.20    77.40              172     38.90   \n",
       "2            3          174.81     52.01    68.01              295     49.51   \n",
       "3            4           34.36     61.96    86.86              183     40.56   \n",
       "4            5           78.21     40.91    30.41              150     40.21   \n",
       "\n",
       "   employees pop_density  \n",
       "0          5        High  \n",
       "1          7      Medium  \n",
       "2         11      Medium  \n",
       "3          7        High  \n",
       "4          9         Low  "
      ]
     },
     "execution_count": 15,
     "metadata": {},
     "output_type": "execute_result"
    }
   ],
   "source": [
    "data.head()"
   ]
  },
  {
   "cell_type": "code",
   "execution_count": 16,
   "metadata": {},
   "outputs": [],
   "source": [
    "X = data[['google_adwords', 'facebook', 'twitter', 'marketing_total', 'employees']]\n",
    "y = data.revenues"
   ]
  },
  {
   "cell_type": "code",
   "execution_count": 17,
   "metadata": {},
   "outputs": [],
   "source": [
    "model = ols('revenues ~ google_adwords + facebook + twitter + marketing_total + employees', data = data)"
   ]
  },
  {
   "cell_type": "code",
   "execution_count": 18,
   "metadata": {},
   "outputs": [],
   "source": [
    "result = model.fit()"
   ]
  },
  {
   "cell_type": "code",
   "execution_count": 19,
   "metadata": {},
   "outputs": [
    {
     "data": {
      "text/html": [
       "<table class=\"simpletable\">\n",
       "<caption>OLS Regression Results</caption>\n",
       "<tr>\n",
       "  <th>Dep. Variable:</th>        <td>revenues</td>     <th>  R-squared:         </th> <td>   0.873</td>\n",
       "</tr>\n",
       "<tr>\n",
       "  <th>Model:</th>                   <td>OLS</td>       <th>  Adj. R-squared:    </th> <td>   0.870</td>\n",
       "</tr>\n",
       "<tr>\n",
       "  <th>Method:</th>             <td>Least Squares</td>  <th>  F-statistic:       </th> <td>   228.9</td>\n",
       "</tr>\n",
       "<tr>\n",
       "  <th>Date:</th>             <td>Thu, 25 Mar 2021</td> <th>  Prob (F-statistic):</th> <td>1.57e-72</td>\n",
       "</tr>\n",
       "<tr>\n",
       "  <th>Time:</th>                 <td>08:57:21</td>     <th>  Log-Likelihood:    </th> <td> -369.26</td>\n",
       "</tr>\n",
       "<tr>\n",
       "  <th>No. Observations:</th>      <td>   172</td>      <th>  AIC:               </th> <td>   750.5</td>\n",
       "</tr>\n",
       "<tr>\n",
       "  <th>Df Residuals:</th>          <td>   166</td>      <th>  BIC:               </th> <td>   769.4</td>\n",
       "</tr>\n",
       "<tr>\n",
       "  <th>Df Model:</th>              <td>     5</td>      <th>                     </th>     <td> </td>   \n",
       "</tr>\n",
       "<tr>\n",
       "  <th>Covariance Type:</th>      <td>nonrobust</td>    <th>                     </th>     <td> </td>   \n",
       "</tr>\n",
       "</table>\n",
       "<table class=\"simpletable\">\n",
       "<tr>\n",
       "         <td></td>            <th>coef</th>     <th>std err</th>      <th>t</th>      <th>P>|t|</th>  <th>[0.025</th>    <th>0.975]</th>  \n",
       "</tr>\n",
       "<tr>\n",
       "  <th>Intercept</th>       <td>   28.4433</td> <td>    0.596</td> <td>   47.706</td> <td> 0.000</td> <td>   27.266</td> <td>   29.621</td>\n",
       "</tr>\n",
       "<tr>\n",
       "  <th>google_adwords</th>  <td>    1.2110</td> <td>    0.571</td> <td>    2.122</td> <td> 0.035</td> <td>    0.084</td> <td>    2.338</td>\n",
       "</tr>\n",
       "<tr>\n",
       "  <th>facebook</th>        <td>    1.3464</td> <td>    0.571</td> <td>    2.356</td> <td> 0.020</td> <td>    0.218</td> <td>    2.474</td>\n",
       "</tr>\n",
       "<tr>\n",
       "  <th>twitter</th>         <td>    1.1724</td> <td>    0.571</td> <td>    2.052</td> <td> 0.042</td> <td>    0.045</td> <td>    2.300</td>\n",
       "</tr>\n",
       "<tr>\n",
       "  <th>marketing_total</th> <td>   -1.1696</td> <td>    0.571</td> <td>   -2.049</td> <td> 0.042</td> <td>   -2.297</td> <td>   -0.043</td>\n",
       "</tr>\n",
       "<tr>\n",
       "  <th>employees</th>       <td>    0.3865</td> <td>    0.104</td> <td>    3.708</td> <td> 0.000</td> <td>    0.181</td> <td>    0.592</td>\n",
       "</tr>\n",
       "</table>\n",
       "<table class=\"simpletable\">\n",
       "<tr>\n",
       "  <th>Omnibus:</th>       <td> 3.945</td> <th>  Durbin-Watson:     </th> <td>   2.111</td>\n",
       "</tr>\n",
       "<tr>\n",
       "  <th>Prob(Omnibus):</th> <td> 0.139</td> <th>  Jarque-Bera (JB):  </th> <td>   3.974</td>\n",
       "</tr>\n",
       "<tr>\n",
       "  <th>Skew:</th>          <td>-0.341</td> <th>  Prob(JB):          </th> <td>   0.137</td>\n",
       "</tr>\n",
       "<tr>\n",
       "  <th>Kurtosis:</th>      <td> 2.702</td> <th>  Cond. No.          </th> <td>2.32e+03</td>\n",
       "</tr>\n",
       "</table><br/><br/>Notes:<br/>[1] Standard Errors assume that the covariance matrix of the errors is correctly specified.<br/>[2] The condition number is large, 2.32e+03. This might indicate that there are<br/>strong multicollinearity or other numerical problems."
      ],
      "text/plain": [
       "<class 'statsmodels.iolib.summary.Summary'>\n",
       "\"\"\"\n",
       "                            OLS Regression Results                            \n",
       "==============================================================================\n",
       "Dep. Variable:               revenues   R-squared:                       0.873\n",
       "Model:                            OLS   Adj. R-squared:                  0.870\n",
       "Method:                 Least Squares   F-statistic:                     228.9\n",
       "Date:                Thu, 25 Mar 2021   Prob (F-statistic):           1.57e-72\n",
       "Time:                        08:57:21   Log-Likelihood:                -369.26\n",
       "No. Observations:                 172   AIC:                             750.5\n",
       "Df Residuals:                     166   BIC:                             769.4\n",
       "Df Model:                           5                                         \n",
       "Covariance Type:            nonrobust                                         \n",
       "===================================================================================\n",
       "                      coef    std err          t      P>|t|      [0.025      0.975]\n",
       "-----------------------------------------------------------------------------------\n",
       "Intercept          28.4433      0.596     47.706      0.000      27.266      29.621\n",
       "google_adwords      1.2110      0.571      2.122      0.035       0.084       2.338\n",
       "facebook            1.3464      0.571      2.356      0.020       0.218       2.474\n",
       "twitter             1.1724      0.571      2.052      0.042       0.045       2.300\n",
       "marketing_total    -1.1696      0.571     -2.049      0.042      -2.297      -0.043\n",
       "employees           0.3865      0.104      3.708      0.000       0.181       0.592\n",
       "==============================================================================\n",
       "Omnibus:                        3.945   Durbin-Watson:                   2.111\n",
       "Prob(Omnibus):                  0.139   Jarque-Bera (JB):                3.974\n",
       "Skew:                          -0.341   Prob(JB):                        0.137\n",
       "Kurtosis:                       2.702   Cond. No.                     2.32e+03\n",
       "==============================================================================\n",
       "\n",
       "Notes:\n",
       "[1] Standard Errors assume that the covariance matrix of the errors is correctly specified.\n",
       "[2] The condition number is large, 2.32e+03. This might indicate that there are\n",
       "strong multicollinearity or other numerical problems.\n",
       "\"\"\""
      ]
     },
     "execution_count": 19,
     "metadata": {},
     "output_type": "execute_result"
    }
   ],
   "source": [
    "result.summary()"
   ]
  },
  {
   "cell_type": "markdown",
   "metadata": {},
   "source": [
    "#### 회귀모형은 revenues = 28.4433 + 1.211 * google_adwords + 1.3464 * facebook + 1.1724 * twitter - 1.1696 * marketing_total + 0.3865 * employees이다. 모형의 설명력은 87.3%이며 수정된 결정계수는 87%이다. "
   ]
  },
  {
   "cell_type": "code",
   "execution_count": 20,
   "metadata": {},
   "outputs": [],
   "source": [
    "import statsmodels.api as sm"
   ]
  },
  {
   "cell_type": "code",
   "execution_count": 21,
   "metadata": {},
   "outputs": [],
   "source": [
    "data['constant'] = 1\n",
    "y = data['revenues']"
   ]
  },
  {
   "cell_type": "markdown",
   "metadata": {},
   "source": [
    "### 1) 전진선택법"
   ]
  },
  {
   "cell_type": "code",
   "execution_count": 22,
   "metadata": {},
   "outputs": [
    {
     "name": "stdout",
     "output_type": "stream",
     "text": [
      "\n",
      "1번째 탐색\n",
      "google_adwords 추가 되었을 때 AIC는 945.7577이다.\n",
      "facebook 추가 되었을 때 AIC는 1028.0336이다.\n",
      "twitter 추가 되었을 때 AIC는 1084.9262이다.\n",
      "marketing_total 추가 되었을 때 AIC는 874.4012이다.\n",
      "employees 추가 되었을 때 AIC는 946.1149이다.\n",
      "추가될 변수는 marketing_total\n",
      "\n",
      "2번째 탐색\n",
      "google_adwords 추가 전은 874.4012이고 google_adwords추가 되었을 때 AIC는 865.4032\n",
      "facebook 추가 전은 874.4012이고 facebook추가 되었을 때 AIC는 789.0997\n",
      "twitter 추가 전은 874.4012이고 twitter추가 되었을 때 AIC는 874.4768\n",
      "employees 추가 전은 874.4012이고 employees추가 되었을 때 AIC는 843.5429\n",
      "추가될 feature는 facebook\n",
      "\n",
      "3번째 탐색\n",
      "google_adwords 추가 전은 789.0997이고 google_adwords추가 되었을 때 AIC는 765.5685\n",
      "twitter 추가 전은 789.0997이고 twitter추가 되었을 때 AIC는 765.9213\n",
      "employees 추가 전은 789.0997이고 employees추가 되었을 때 AIC는 772.4698\n",
      "추가될 feature는 google_adwords\n",
      "\n",
      "4번째 탐색\n",
      "twitter 추가 전은 765.5685이고 twitter추가 되었을 때 AIC는 762.2059\n",
      "employees 추가 전은 765.5685이고 employees추가 되었을 때 AIC는 752.8256\n",
      "추가될 feature는 employees\n",
      "\n",
      "5번째 탐색\n",
      "twitter 추가 전은 752.8256이고 twitter추가 되었을 때 AIC는 750.5159\n",
      "추가될 feature는 twitter\n",
      "\n",
      "6번째 탐색\n",
      "****************************************************************************************************\n",
      "최종 선택 변수들은 ['constant', 'marketing_total', 'facebook', 'google_adwords', 'employees', 'twitter']이다.\n"
     ]
    }
   ],
   "source": [
    "add_feature = ['constant']\n",
    "aic_list = []\n",
    "target_cols = ['google_adwords', 'facebook', 'twitter','marketing_total', 'employees']\n",
    "i = 0\n",
    "while True :\n",
    "    i += 1\n",
    "    print(f'\\n{i}번째 탐색')\n",
    "    if i == 1 :\n",
    "        \n",
    "        before_model = sm.OLS(y, data[['constant']]).fit()\n",
    "        before_aic = before_model.aic\n",
    "        for c in target_cols :\n",
    "            after_model = sm.OLS(y, data[add_feature + [c]]).fit()\n",
    "            after_aic = after_model.aic\n",
    "            print(f'{c} 추가 되었을 때 AIC는 {round(after_aic, 4)}이다.')\n",
    "            aic_list.append(after_aic)\n",
    "        print(f'추가될 변수는 {target_cols[np.argmin(aic_list)]}')\n",
    "        add_feature.append(target_cols[np.argmin(aic_list)])\n",
    "        del target_cols[np.argmin(aic_list)]\n",
    "        \n",
    "    elif i != 1 :\n",
    "        a = []\n",
    "        for c in target_cols :\n",
    "            before_model = sm.OLS(y, data[add_feature]).fit()\n",
    "            before_aic = before_model.aic\n",
    "            after_model = sm.OLS(y, data[add_feature + [c]]).fit()\n",
    "            after_aic = after_model.aic\n",
    "            print(f'{c} 추가 전은 {round(before_aic, 4)}이고 {c}추가 되었을 때 AIC는 {round(after_aic, 4)}')\n",
    "            a.append(after_aic)\n",
    "            \n",
    "        try :\n",
    "            if before_aic > np.min(a):\n",
    "                print(f'추가될 feature는 {target_cols[np.argmin(a)]}')\n",
    "                add_feature.append(target_cols[np.argmin(a)])\n",
    "                del target_cols[np.argmin(a)]\n",
    "            else :\n",
    "                break\n",
    "        except :\n",
    "            break\n",
    "print('*' * 100)\n",
    "print(f'최종 선택 변수들은 {add_feature}이다.')"
   ]
  },
  {
   "cell_type": "code",
   "execution_count": 23,
   "metadata": {},
   "outputs": [
    {
     "data": {
      "text/html": [
       "<table class=\"simpletable\">\n",
       "<caption>OLS Regression Results</caption>\n",
       "<tr>\n",
       "  <th>Dep. Variable:</th>        <td>revenues</td>     <th>  R-squared:         </th> <td>   0.873</td>\n",
       "</tr>\n",
       "<tr>\n",
       "  <th>Model:</th>                   <td>OLS</td>       <th>  Adj. R-squared:    </th> <td>   0.870</td>\n",
       "</tr>\n",
       "<tr>\n",
       "  <th>Method:</th>             <td>Least Squares</td>  <th>  F-statistic:       </th> <td>   228.9</td>\n",
       "</tr>\n",
       "<tr>\n",
       "  <th>Date:</th>             <td>Thu, 25 Mar 2021</td> <th>  Prob (F-statistic):</th> <td>1.57e-72</td>\n",
       "</tr>\n",
       "<tr>\n",
       "  <th>Time:</th>                 <td>08:57:21</td>     <th>  Log-Likelihood:    </th> <td> -369.26</td>\n",
       "</tr>\n",
       "<tr>\n",
       "  <th>No. Observations:</th>      <td>   172</td>      <th>  AIC:               </th> <td>   750.5</td>\n",
       "</tr>\n",
       "<tr>\n",
       "  <th>Df Residuals:</th>          <td>   166</td>      <th>  BIC:               </th> <td>   769.4</td>\n",
       "</tr>\n",
       "<tr>\n",
       "  <th>Df Model:</th>              <td>     5</td>      <th>                     </th>     <td> </td>   \n",
       "</tr>\n",
       "<tr>\n",
       "  <th>Covariance Type:</th>      <td>nonrobust</td>    <th>                     </th>     <td> </td>   \n",
       "</tr>\n",
       "</table>\n",
       "<table class=\"simpletable\">\n",
       "<tr>\n",
       "         <td></td>            <th>coef</th>     <th>std err</th>      <th>t</th>      <th>P>|t|</th>  <th>[0.025</th>    <th>0.975]</th>  \n",
       "</tr>\n",
       "<tr>\n",
       "  <th>constant</th>        <td>   28.4433</td> <td>    0.596</td> <td>   47.706</td> <td> 0.000</td> <td>   27.266</td> <td>   29.621</td>\n",
       "</tr>\n",
       "<tr>\n",
       "  <th>marketing_total</th> <td>   -1.1696</td> <td>    0.571</td> <td>   -2.049</td> <td> 0.042</td> <td>   -2.297</td> <td>   -0.043</td>\n",
       "</tr>\n",
       "<tr>\n",
       "  <th>facebook</th>        <td>    1.3464</td> <td>    0.571</td> <td>    2.356</td> <td> 0.020</td> <td>    0.218</td> <td>    2.474</td>\n",
       "</tr>\n",
       "<tr>\n",
       "  <th>google_adwords</th>  <td>    1.2110</td> <td>    0.571</td> <td>    2.122</td> <td> 0.035</td> <td>    0.084</td> <td>    2.338</td>\n",
       "</tr>\n",
       "<tr>\n",
       "  <th>employees</th>       <td>    0.3865</td> <td>    0.104</td> <td>    3.708</td> <td> 0.000</td> <td>    0.181</td> <td>    0.592</td>\n",
       "</tr>\n",
       "<tr>\n",
       "  <th>twitter</th>         <td>    1.1724</td> <td>    0.571</td> <td>    2.052</td> <td> 0.042</td> <td>    0.045</td> <td>    2.300</td>\n",
       "</tr>\n",
       "</table>\n",
       "<table class=\"simpletable\">\n",
       "<tr>\n",
       "  <th>Omnibus:</th>       <td> 3.945</td> <th>  Durbin-Watson:     </th> <td>   2.111</td>\n",
       "</tr>\n",
       "<tr>\n",
       "  <th>Prob(Omnibus):</th> <td> 0.139</td> <th>  Jarque-Bera (JB):  </th> <td>   3.974</td>\n",
       "</tr>\n",
       "<tr>\n",
       "  <th>Skew:</th>          <td>-0.341</td> <th>  Prob(JB):          </th> <td>   0.137</td>\n",
       "</tr>\n",
       "<tr>\n",
       "  <th>Kurtosis:</th>      <td> 2.702</td> <th>  Cond. No.          </th> <td>2.32e+03</td>\n",
       "</tr>\n",
       "</table><br/><br/>Notes:<br/>[1] Standard Errors assume that the covariance matrix of the errors is correctly specified.<br/>[2] The condition number is large, 2.32e+03. This might indicate that there are<br/>strong multicollinearity or other numerical problems."
      ],
      "text/plain": [
       "<class 'statsmodels.iolib.summary.Summary'>\n",
       "\"\"\"\n",
       "                            OLS Regression Results                            \n",
       "==============================================================================\n",
       "Dep. Variable:               revenues   R-squared:                       0.873\n",
       "Model:                            OLS   Adj. R-squared:                  0.870\n",
       "Method:                 Least Squares   F-statistic:                     228.9\n",
       "Date:                Thu, 25 Mar 2021   Prob (F-statistic):           1.57e-72\n",
       "Time:                        08:57:21   Log-Likelihood:                -369.26\n",
       "No. Observations:                 172   AIC:                             750.5\n",
       "Df Residuals:                     166   BIC:                             769.4\n",
       "Df Model:                           5                                         \n",
       "Covariance Type:            nonrobust                                         \n",
       "===================================================================================\n",
       "                      coef    std err          t      P>|t|      [0.025      0.975]\n",
       "-----------------------------------------------------------------------------------\n",
       "constant           28.4433      0.596     47.706      0.000      27.266      29.621\n",
       "marketing_total    -1.1696      0.571     -2.049      0.042      -2.297      -0.043\n",
       "facebook            1.3464      0.571      2.356      0.020       0.218       2.474\n",
       "google_adwords      1.2110      0.571      2.122      0.035       0.084       2.338\n",
       "employees           0.3865      0.104      3.708      0.000       0.181       0.592\n",
       "twitter             1.1724      0.571      2.052      0.042       0.045       2.300\n",
       "==============================================================================\n",
       "Omnibus:                        3.945   Durbin-Watson:                   2.111\n",
       "Prob(Omnibus):                  0.139   Jarque-Bera (JB):                3.974\n",
       "Skew:                          -0.341   Prob(JB):                        0.137\n",
       "Kurtosis:                       2.702   Cond. No.                     2.32e+03\n",
       "==============================================================================\n",
       "\n",
       "Notes:\n",
       "[1] Standard Errors assume that the covariance matrix of the errors is correctly specified.\n",
       "[2] The condition number is large, 2.32e+03. This might indicate that there are\n",
       "strong multicollinearity or other numerical problems.\n",
       "\"\"\""
      ]
     },
     "execution_count": 23,
     "metadata": {},
     "output_type": "execute_result"
    }
   ],
   "source": [
    "model = sm.OLS(y, data[add_feature]).fit()\n",
    "model.summary()"
   ]
  },
  {
   "cell_type": "markdown",
   "metadata": {},
   "source": [
    "#### 처음에 marketing_total 변수가 추가되었을 때 AIC 값이 874.4로 가장 작아지므로 다음 단계에 marketing_total 변수를 모형에 추가하였다. 다음 단계에서는 facebook 변수가 추가 되었을 때 AIC 값이 789.09로 가장 낮아지는 것을 알 수 있다.\n",
    "#### 이러한 단계들을 거쳐 최종적으로 marketing_total, facebook, google_adwords, employees, twitter 변수가 선택되었다.\n",
    "#### 최종 회귀식은 y = 28.443 + 1.3464 * facebook + 1.1724 * twitter + 0.3865 * employees + 1.211 * google_adwords - 1.1696 * marketing_total이며 변수선택을 하지 않았을 때와 동일한 결과를 보인다.\n",
    "#### 결정계수 값은 0.873이고 수정된 결정계수는 0.870이다. 또한 모든 변수들의 p-value가 유의수준 0.05보다 작기 때문에 통계적으로 모두 유의하다고 볼 수 있다.\n",
    "#### 모델의 통계적유의성을 띄는 F통계량이 매우 크며 p-value도 0에 수렴하기 때문에 통계적으로 유의한 모델이라고 볼 수 있다.\n",
    "\n",
    "### 2) 후진제거법"
   ]
  },
  {
   "cell_type": "code",
   "execution_count": 24,
   "metadata": {},
   "outputs": [],
   "source": [
    "features = boston.columns[:-1].tolist()\n",
    "y = boston.target"
   ]
  },
  {
   "cell_type": "code",
   "execution_count": 26,
   "metadata": {
    "scrolled": true
   },
   "outputs": [
    {
     "name": "stdout",
     "output_type": "stream",
     "text": [
      "초기 aic는 3025.6086\n"
     ]
    }
   ],
   "source": [
    "base_model = sm.OLS(y, sm.add_constant(boston[features])).fit()\n",
    "base_aic = base_model.aic\n",
    "print(f'초기 aic는 {round(base_aic, 4)}')"
   ]
  },
  {
   "cell_type": "markdown",
   "metadata": {},
   "source": [
    "## 5. 고급회귀분석\n",
    "\n",
    "#### 정규화 선형회귀\n",
    "1. 릿지 : 가중치들의 제곱합 최소화, L2규제, 가중치를 0에 근사하게 만든다.\n",
    "\n",
    "2. 라쏘 : 가중치 절대값의 합 최소화, L1규제, 가중치를 0으로 만든다.\n",
    "\n",
    "3. 엘라스틱넷 : 라쏘 & 릿지 절충"
   ]
  },
  {
   "cell_type": "code",
   "execution_count": 36,
   "metadata": {},
   "outputs": [],
   "source": [
    "from sklearn.linear_model import Ridge, Lasso, ElasticNet\n",
    "from sklearn.model_selection import train_test_split\n",
    "from sklearn.metrics import mean_squared_error"
   ]
  },
  {
   "cell_type": "code",
   "execution_count": 37,
   "metadata": {},
   "outputs": [],
   "source": [
    "X_train, X_test, y_train, y_test = train_test_split(load_boston().data, load_boston().target, test_size = .2, random_state = 324)"
   ]
  },
  {
   "cell_type": "code",
   "execution_count": 38,
   "metadata": {},
   "outputs": [],
   "source": [
    "lasso = Lasso()\n",
    "ridge = Ridge()\n",
    "els = ElasticNet()"
   ]
  },
  {
   "cell_type": "code",
   "execution_count": 39,
   "metadata": {},
   "outputs": [
    {
     "data": {
      "text/plain": [
       "ElasticNet()"
      ]
     },
     "execution_count": 39,
     "metadata": {},
     "output_type": "execute_result"
    }
   ],
   "source": [
    "ridge.fit(X_train, y_train)\n",
    "lasso.fit(X_train, y_train)\n",
    "els.fit(X_train, y_train)"
   ]
  },
  {
   "cell_type": "code",
   "execution_count": 40,
   "metadata": {},
   "outputs": [
    {
     "name": "stdout",
     "output_type": "stream",
     "text": [
      "17.643274769982035\n",
      "24.38322596156784\n",
      "23.716094920112916\n"
     ]
    }
   ],
   "source": [
    "print(mean_squared_error(y_test, ridge.predict(X_test)))\n",
    "print(mean_squared_error(y_test, lasso.predict(X_test)))\n",
    "print(mean_squared_error(y_test, els.predict(X_test)))"
   ]
  },
  {
   "cell_type": "markdown",
   "metadata": {},
   "source": [
    "***\n",
    "## 6. 일반화 선형회귀(GLM)\n",
    "\n",
    "#### 종속변수가 범주형이거나 정규성을 만족하지 못하는 경우 적절한 함수로 종속변수를 변환하여 f(x)를 정의한 후 이 f(x)와 독립변수를 선형 결합으로 모형화한다.\n",
    "\n",
    "- 포아송 : 일정한 시간 또는 공간 내에서 발생하는 사건의 발생횟수에 따른 확률분포\n",
    "\n",
    "예시> 5페이지당 오타 10개, 오타 3개 나올 확률은? = 2.718281 ^ (-평균오타수) * 2(평균오타수) ^ 3(오타수) / 3(오타수)!"
   ]
  },
  {
   "cell_type": "code",
   "execution_count": 118,
   "metadata": {},
   "outputs": [],
   "source": [
    "import statsmodels.formula.api as smf"
   ]
  },
  {
   "cell_type": "code",
   "execution_count": 112,
   "metadata": {},
   "outputs": [],
   "source": [
    "num = 1000\n",
    "lam  = 5\n",
    "y = np.random.poisson(lam,num)"
   ]
  },
  {
   "cell_type": "code",
   "execution_count": 114,
   "metadata": {},
   "outputs": [
    {
     "data": {
      "image/png": "[encoded data removed]",
      "text/plain": [
       "<Figure size 432x288 with 1 Axes>"
      ]
     },
     "metadata": {
      "needs_background": "light"
     },
     "output_type": "display_data"
    }
   ],
   "source": [
    "plt.hist(y,14,density = False)\n",
    "plt.show()"
   ]
  },
  {
   "cell_type": "code",
   "execution_count": 115,
   "metadata": {},
   "outputs": [],
   "source": [
    "x = range(len(y))\n",
    "df = pd.DataFrame({'x':x, 'y':y})"
   ]
  },
  {
   "cell_type": "code",
   "execution_count": 119,
   "metadata": {
    "scrolled": true
   },
   "outputs": [
    {
     "name": "stdout",
     "output_type": "stream",
     "text": [
      "                 Generalized Linear Model Regression Results                  \n",
      "==============================================================================\n",
      "Dep. Variable:                      y   No. Observations:                 1000\n",
      "Model:                            GLM   Df Residuals:                      998\n",
      "Model Family:                 Poisson   Df Model:                            1\n",
      "Link Function:                    log   Scale:                          1.0000\n",
      "Method:                          IRLS   Log-Likelihood:                -2178.3\n",
      "Date:                Thu, 25 Mar 2021   Deviance:                       1001.5\n",
      "Time:                        10:46:08   Pearson chi2:                     955.\n",
      "No. Iterations:                     4                                         \n",
      "Covariance Type:            nonrobust                                         \n",
      "==============================================================================\n",
      "                 coef    std err          z      P>|z|      [0.025      0.975]\n",
      "------------------------------------------------------------------------------\n",
      "Intercept      1.6187      0.028     57.260      0.000       1.563       1.674\n",
      "x          -3.924e-05   4.92e-05     -0.797      0.426      -0.000    5.73e-05\n",
      "==============================================================================\n"
     ]
    }
   ],
   "source": [
    "glm_model = 'y ~ x'\n",
    "result = smf.glm(formula=glm_model, data=df, family=sm.families.Poisson(link=sm.families.links.log)).fit()\n",
    "print(result.summary())"
   ]
  },
  {
   "cell_type": "code",
   "execution_count": 120,
   "metadata": {
    "scrolled": true
   },
   "outputs": [
    {
     "name": "stdout",
     "output_type": "stream",
     "text": [
      "exp(b0) = 5.046639637887927\n",
      "Mean of y = 4.949\n"
     ]
    }
   ],
   "source": [
    "b0,b1 = result.params\n",
    "print('exp(b0) = {}'.format(np.exp(b0)))\n",
    "print('Mean of y = {}'.format(df.y.mean()))"
   ]
  },
  {
   "cell_type": "markdown",
   "metadata": {},
   "source": [
    "#### 로지스틱 회귀분석"
   ]
  },
  {
   "cell_type": "code",
   "execution_count": 132,
   "metadata": {},
   "outputs": [],
   "source": [
    "from sklearn.datasets import load_breast_cancer"
   ]
  },
  {
   "cell_type": "code",
   "execution_count": 133,
   "metadata": {},
   "outputs": [],
   "source": [
    "log_data =pd.DataFrame(load_breast_cancer().data, columns = load_breast_cancer().feature_names)"
   ]
  },
  {
   "cell_type": "code",
   "execution_count": 136,
   "metadata": {},
   "outputs": [],
   "source": [
    "log_data['target'] = load_breast_cancer().target"
   ]
  },
  {
   "cell_type": "code",
   "execution_count": 153,
   "metadata": {},
   "outputs": [],
   "source": [
    "log_data.columns = [x.split(' ')[0] + \"_\" + x.split(' ')[-1] for x in log_data.columns]"
   ]
  },
  {
   "cell_type": "code",
   "execution_count": 161,
   "metadata": {},
   "outputs": [],
   "source": [
    "glm = smf.glm(formula = 'target_target ~ mean_radius+ mean_perimeter+ mean_area+ mean_concavity + mean_points+ worst_radius+ worst_perimeter+ worst_area + worst_concavity+ worst_points'\n",
    "              , data = log_data, family = sm.families.Binomial(link = sm.families.links.logit)).fit()"
   ]
  },
  {
   "cell_type": "code",
   "execution_count": 162,
   "metadata": {},
   "outputs": [
    {
     "data": {
      "text/html": [
       "<table class=\"simpletable\">\n",
       "<caption>Generalized Linear Model Regression Results</caption>\n",
       "<tr>\n",
       "  <th>Dep. Variable:</th>     <td>target_target</td>  <th>  No. Observations:  </th>  <td>   569</td> \n",
       "</tr>\n",
       "<tr>\n",
       "  <th>Model:</th>                  <td>GLM</td>       <th>  Df Residuals:      </th>  <td>   558</td> \n",
       "</tr>\n",
       "<tr>\n",
       "  <th>Model Family:</th>        <td>Binomial</td>     <th>  Df Model:          </th>  <td>    10</td> \n",
       "</tr>\n",
       "<tr>\n",
       "  <th>Link Function:</th>         <td>logit</td>      <th>  Scale:             </th> <td>  1.0000</td>\n",
       "</tr>\n",
       "<tr>\n",
       "  <th>Method:</th>                <td>IRLS</td>       <th>  Log-Likelihood:    </th> <td> -55.847</td>\n",
       "</tr>\n",
       "<tr>\n",
       "  <th>Date:</th>            <td>Thu, 25 Mar 2021</td> <th>  Deviance:          </th> <td>  111.69</td>\n",
       "</tr>\n",
       "<tr>\n",
       "  <th>Time:</th>                <td>11:09:57</td>     <th>  Pearson chi2:      </th> <td>2.08e+03</td>\n",
       "</tr>\n",
       "<tr>\n",
       "  <th>No. Iterations:</th>         <td>10</td>        <th>                     </th>     <td> </td>   \n",
       "</tr>\n",
       "<tr>\n",
       "  <th>Covariance Type:</th>     <td>nonrobust</td>    <th>                     </th>     <td> </td>   \n",
       "</tr>\n",
       "</table>\n",
       "<table class=\"simpletable\">\n",
       "<tr>\n",
       "         <td></td>            <th>coef</th>     <th>std err</th>      <th>z</th>      <th>P>|z|</th>  <th>[0.025</th>    <th>0.975]</th>  \n",
       "</tr>\n",
       "<tr>\n",
       "  <th>Intercept</th>       <td>   -8.6541</td> <td>   11.530</td> <td>   -0.751</td> <td> 0.453</td> <td>  -31.253</td> <td>   13.945</td>\n",
       "</tr>\n",
       "<tr>\n",
       "  <th>mean_radius</th>     <td>    1.7733</td> <td>    4.032</td> <td>    0.440</td> <td> 0.660</td> <td>   -6.129</td> <td>    9.676</td>\n",
       "</tr>\n",
       "<tr>\n",
       "  <th>mean_perimeter</th>  <td>    0.1779</td> <td>    0.420</td> <td>    0.424</td> <td> 0.672</td> <td>   -0.645</td> <td>    1.001</td>\n",
       "</tr>\n",
       "<tr>\n",
       "  <th>mean_area</th>       <td>   -0.0133</td> <td>    0.028</td> <td>   -0.482</td> <td> 0.630</td> <td>   -0.068</td> <td>    0.041</td>\n",
       "</tr>\n",
       "<tr>\n",
       "  <th>mean_concavity</th>  <td>   13.5051</td> <td>   12.876</td> <td>    1.049</td> <td> 0.294</td> <td>  -11.731</td> <td>   38.741</td>\n",
       "</tr>\n",
       "<tr>\n",
       "  <th>mean_points</th>     <td>  -97.5329</td> <td>   38.366</td> <td>   -2.542</td> <td> 0.011</td> <td> -172.728</td> <td>  -22.337</td>\n",
       "</tr>\n",
       "<tr>\n",
       "  <th>worst_radius</th>    <td>    0.4089</td> <td>    1.558</td> <td>    0.263</td> <td> 0.793</td> <td>   -2.644</td> <td>    3.462</td>\n",
       "</tr>\n",
       "<tr>\n",
       "  <th>worst_perimeter</th> <td>   -0.0220</td> <td>    0.103</td> <td>   -0.215</td> <td> 0.830</td> <td>   -0.223</td> <td>    0.179</td>\n",
       "</tr>\n",
       "<tr>\n",
       "  <th>worst_area</th>      <td>   -0.0274</td> <td>    0.016</td> <td>   -1.725</td> <td> 0.085</td> <td>   -0.058</td> <td>    0.004</td>\n",
       "</tr>\n",
       "<tr>\n",
       "  <th>worst_concavity</th> <td>   -4.4451</td> <td>    3.740</td> <td>   -1.189</td> <td> 0.235</td> <td>  -11.775</td> <td>    2.885</td>\n",
       "</tr>\n",
       "<tr>\n",
       "  <th>worst_points</th>    <td>  -12.2384</td> <td>   15.761</td> <td>   -0.776</td> <td> 0.437</td> <td>  -43.129</td> <td>   18.653</td>\n",
       "</tr>\n",
       "</table>"
      ],
      "text/plain": [
       "<class 'statsmodels.iolib.summary.Summary'>\n",
       "\"\"\"\n",
       "                 Generalized Linear Model Regression Results                  \n",
       "==============================================================================\n",
       "Dep. Variable:          target_target   No. Observations:                  569\n",
       "Model:                            GLM   Df Residuals:                      558\n",
       "Model Family:                Binomial   Df Model:                           10\n",
       "Link Function:                  logit   Scale:                          1.0000\n",
       "Method:                          IRLS   Log-Likelihood:                -55.847\n",
       "Date:                Thu, 25 Mar 2021   Deviance:                       111.69\n",
       "Time:                        11:09:57   Pearson chi2:                 2.08e+03\n",
       "No. Iterations:                    10                                         \n",
       "Covariance Type:            nonrobust                                         \n",
       "===================================================================================\n",
       "                      coef    std err          z      P>|z|      [0.025      0.975]\n",
       "-----------------------------------------------------------------------------------\n",
       "Intercept          -8.6541     11.530     -0.751      0.453     -31.253      13.945\n",
       "mean_radius         1.7733      4.032      0.440      0.660      -6.129       9.676\n",
       "mean_perimeter      0.1779      0.420      0.424      0.672      -0.645       1.001\n",
       "mean_area          -0.0133      0.028     -0.482      0.630      -0.068       0.041\n",
       "mean_concavity     13.5051     12.876      1.049      0.294     -11.731      38.741\n",
       "mean_points       -97.5329     38.366     -2.542      0.011    -172.728     -22.337\n",
       "worst_radius        0.4089      1.558      0.263      0.793      -2.644       3.462\n",
       "worst_perimeter    -0.0220      0.103     -0.215      0.830      -0.223       0.179\n",
       "worst_area         -0.0274      0.016     -1.725      0.085      -0.058       0.004\n",
       "worst_concavity    -4.4451      3.740     -1.189      0.235     -11.775       2.885\n",
       "worst_points      -12.2384     15.761     -0.776      0.437     -43.129      18.653\n",
       "===================================================================================\n",
       "\"\"\""
      ]
     },
     "execution_count": 162,
     "metadata": {},
     "output_type": "execute_result"
    }
   ],
   "source": [
    "glm.summary()"
   ]
  },
  {
   "cell_type": "code",
   "execution_count": 164,
   "metadata": {
    "scrolled": true
   },
   "outputs": [
    {
     "data": {
      "text/plain": [
       "Intercept          1.744076e-04\n",
       "mean_radius        5.890243e+00\n",
       "mean_perimeter     1.194707e+00\n",
       "mean_area          9.867572e-01\n",
       "mean_concavity     7.331602e+05\n",
       "mean_points        4.385431e-43\n",
       "worst_radius       1.505227e+00\n",
       "worst_perimeter    9.782387e-01\n",
       "worst_area         9.730107e-01\n",
       "worst_concavity    1.173645e-02\n",
       "worst_points       4.841171e-06\n",
       "dtype: float64"
      ]
     },
     "execution_count": 164,
     "metadata": {},
     "output_type": "execute_result"
    }
   ],
   "source": [
    "np.exp(glm.params)"
   ]
  },
  {
   "cell_type": "code",
   "execution_count": 192,
   "metadata": {},
   "outputs": [],
   "source": [
    "tt = pd.read_csv('/Users/kisehyun/study_code/ADP/모의고사 2회/titanic.csv', encoding = 'cp949')"
   ]
  },
  {
   "cell_type": "code",
   "execution_count": 193,
   "metadata": {},
   "outputs": [],
   "source": [
    "tt = tt[['pclass', 'sex', 'age', 'sibsp', 'parch', 'fare',  'survived']].dropna(how = 'any')"
   ]
  },
  {
   "cell_type": "code",
   "execution_count": 194,
   "metadata": {},
   "outputs": [],
   "source": [
    "tt['sex'] = tt.sex.map({'female' : 1, 'male' : 0})"
   ]
  },
  {
   "cell_type": "code",
   "execution_count": 195,
   "metadata": {},
   "outputs": [],
   "source": [
    "X_train, X_test, y_train, y_test = train_test_split(tt.iloc[:, :-1], tt.survived, test_size = .2, random_state = 325, stratify = tt.survived)"
   ]
  },
  {
   "cell_type": "code",
   "execution_count": 197,
   "metadata": {
    "scrolled": true
   },
   "outputs": [
    {
     "name": "stdout",
     "output_type": "stream",
     "text": [
      "Optimization terminated successfully.\n",
      "         Current function value: 0.459057\n",
      "         Iterations 6\n"
     ]
    }
   ],
   "source": [
    "logistic_model = sm.Logit(y_train,X_train)\n",
    "logistic_result = logistic_model.fit(method = 'newton') ## 뉴턴방법 적용"
   ]
  },
  {
   "cell_type": "code",
   "execution_count": 198,
   "metadata": {},
   "outputs": [
    {
     "name": "stdout",
     "output_type": "stream",
     "text": [
      "                           Logit Regression Results                           \n",
      "==============================================================================\n",
      "Dep. Variable:               survived   No. Observations:                  836\n",
      "Model:                          Logit   Df Residuals:                      830\n",
      "Method:                           MLE   Df Model:                            5\n",
      "Date:                Thu, 25 Mar 2021   Pseudo R-squ.:                  0.3214\n",
      "Time:                        11:20:05   Log-Likelihood:                -383.77\n",
      "converged:                       True   LL-Null:                       -565.58\n",
      "Covariance Type:            nonrobust   LLR p-value:                 2.056e-76\n",
      "==============================================================================\n",
      "                 coef    std err          z      P>|z|      [0.025      0.975]\n",
      "------------------------------------------------------------------------------\n",
      "pclass        -0.5848      0.074     -7.855      0.000      -0.731      -0.439\n",
      "sex            2.7380      0.191     14.328      0.000       2.363       3.113\n",
      "age           -0.0144      0.005     -2.836      0.005      -0.024      -0.004\n",
      "sibsp         -0.2658      0.121     -2.190      0.029      -0.504      -0.028\n",
      "parch          0.0198      0.112      0.176      0.860      -0.200       0.240\n",
      "fare           0.0069      0.002      3.079      0.002       0.002       0.011\n",
      "==============================================================================\n"
     ]
    }
   ],
   "source": [
    "print(logistic_result.summary())"
   ]
  },
  {
   "cell_type": "code",
   "execution_count": 199,
   "metadata": {},
   "outputs": [
    {
     "data": {
      "text/plain": [
       "pclass     0.557220\n",
       "sex       15.456512\n",
       "age        0.985699\n",
       "sibsp      0.766580\n",
       "parch      1.019963\n",
       "fare       1.006900\n",
       "dtype: float64"
      ]
     },
     "execution_count": 199,
     "metadata": {},
     "output_type": "execute_result"
    }
   ],
   "source": [
    "np.exp(logistic_result.params)"
   ]
  },
  {
   "cell_type": "markdown",
   "metadata": {},
   "source": [
    "#### 여성이 남성보다 생존확률이 15.45배 높다.\n",
    "#### 나이가 많을수록 생존활률이 0.98배 감소한다.\n",
    "***\n",
    "#### VIF(분산팽창요인) : 4 보다 크면 다중공선성 존재한다고 할 수 있으며 10 이상이면 심각한 문제가 있는 것으로 해석."
   ]
  },
  {
   "cell_type": "code",
   "execution_count": 12,
   "metadata": {},
   "outputs": [],
   "source": [
    "from statsmodels.stats.outliers_influence import variance_inflation_factor"
   ]
  },
  {
   "cell_type": "code",
   "execution_count": 13,
   "metadata": {
    "scrolled": true
   },
   "outputs": [
    {
     "data": {
      "text/plain": [
       "1.5320185825165729"
      ]
     },
     "execution_count": 13,
     "metadata": {},
     "output_type": "execute_result"
    }
   ],
   "source": [
    "variance_inflation_factor(model.exog, 1)"
   ]
  },
  {
   "cell_type": "markdown",
   "metadata": {},
   "source": [
    "두번째 변수는 VIF지수가 1.53이다"
   ]
  },
  {
   "cell_type": "markdown",
   "metadata": {},
   "source": [
    "## 7. 회귀모형 진단\n",
    "\n",
    "1. Residuals & Fitted Values(정규성)\n",
    "2. Q-Q Plot(정규성)\n",
    "3. Scale-Location(등분산성)\n",
    "4. Residuals & Leverage(영향력 진단)\n",
    "5. Cook's distance(영향력 진단)\n",
    "6. 기타(DFBETAS, DFFITS)"
   ]
  },
  {
   "cell_type": "code",
   "execution_count": 28,
   "metadata": {},
   "outputs": [],
   "source": [
    "from statsmodels.stats.stattools import durbin_watson\n",
    "from scipy.stats import shapiro\n",
    "import matplotlib.pyplot as plt\n",
    "import seaborn as sns\n",
    "%matplotlib inline\n",
    "import warnings\n",
    "warnings.filterwarnings('ignore')"
   ]
  },
  {
   "cell_type": "markdown",
   "metadata": {},
   "source": [
    "### 1) 오차항의 독립성 가정 -  더빈 왓슨 검정(2에 가까울 수록 만족 / 오차항이 자기 상관이 없음) / 0에 가까우면 양의 상관관계 / 4에 가까우면 음의 상관관계"
   ]
  },
  {
   "cell_type": "code",
   "execution_count": 29,
   "metadata": {
    "scrolled": true
   },
   "outputs": [
    {
     "data": {
      "text/plain": [
       "2.111378372860817"
      ]
     },
     "execution_count": 29,
     "metadata": {},
     "output_type": "execute_result"
    }
   ],
   "source": [
    "durbin_watson(model.resid)"
   ]
  },
  {
   "cell_type": "markdown",
   "metadata": {},
   "source": [
    "***\n",
    "### 2) 정규성 가정 - shapiro / H0 : 데이터는 정규분포를 따른다. / H1 : 정규분포를 따르지 않는다."
   ]
  },
  {
   "cell_type": "code",
   "execution_count": 30,
   "metadata": {},
   "outputs": [
    {
     "name": "stdout",
     "output_type": "stream",
     "text": [
      "shapiro 검정결과 검정 값은 0.9866이고 p-value는 0.0991이다.\n"
     ]
    }
   ],
   "source": [
    "shapiro = shapiro(model.resid)\n",
    "print(f'shapiro 검정결과 검정 값은 {np.round(shapiro[0],4)}이고 p-value는 {np.round(shapiro[1], 4)}이다.')"
   ]
  },
  {
   "cell_type": "markdown",
   "metadata": {},
   "source": [
    "#### 귀무가설을 채택하고 정규분포를 따른다고 할 수 있다.\n",
    "***\n",
    "### 3) 등분상성 & 정규성 가정 만족 여부 그래프\n",
    "\n",
    "#### 3-1) Residuals & Fitted Values(정규성)"
   ]
  },
  {
   "cell_type": "code",
   "execution_count": 31,
   "metadata": {},
   "outputs": [
    {
     "data": {
      "image/png": "[encoded data removed]",
      "text/plain": [
       "<Figure size 432x288 with 1 Axes>"
      ]
     },
     "metadata": {
      "needs_background": "light"
     },
     "output_type": "display_data"
    }
   ],
   "source": [
    "plt.scatter(model.fittedvalues, model.resid, color = 'purple', alpha = .7)\n",
    "sns.regplot(model.fittedvalues, model.resid,\n",
    "          scatter=False,\n",
    "          ci=False,\n",
    "          lowess=True,\n",
    "          line_kws={'color': 'red', 'lw': 1, 'alpha': 0.5});\n",
    "plt.title('Residuals VS Fitted', size = 15)\n",
    "plt.show()"
   ]
  },
  {
   "cell_type": "markdown",
   "metadata": {},
   "source": [
    "잔차가 평균인 0을 중심으로 고르게 퍼져있는 것을 알 수 있지만 포물선을 그리고 있기 때문에 정규성을 만족한다고 보기 어렵다.\n",
    "***\n",
    "#### 3-2) Q-Q Plot(정규성)"
   ]
  },
  {
   "cell_type": "code",
   "execution_count": 32,
   "metadata": {
    "scrolled": true
   },
   "outputs": [],
   "source": [
    "from scipy.stats import probplot"
   ]
  },
  {
   "cell_type": "code",
   "execution_count": 33,
   "metadata": {},
   "outputs": [
    {
     "data": {
      "image/png": "[encoded data removed]",
      "text/plain": [
       "<Figure size 432x288 with 1 Axes>"
      ]
     },
     "metadata": {
      "needs_background": "light"
     },
     "output_type": "display_data"
    }
   ],
   "source": [
    "probplot(model.resid, plot = plt)\n",
    "plt.title('Normal Q-Q', size = 15)\n",
    "plt.show()"
   ]
  },
  {
   "cell_type": "markdown",
   "metadata": {},
   "source": [
    "정규성을 만족한다고 할 수 있다.\n",
    "***\n",
    "#### 3-3) Scale-Location(등분산성)"
   ]
  },
  {
   "cell_type": "code",
   "execution_count": 34,
   "metadata": {},
   "outputs": [
    {
     "data": {
      "image/png": "[encoded data removed]",
      "text/plain": [
       "<Figure size 432x288 with 1 Axes>"
      ]
     },
     "metadata": {
      "needs_background": "light"
     },
     "output_type": "display_data"
    }
   ],
   "source": [
    "plt.scatter(model.fittedvalues, np.sqrt(np.abs(model.get_influence().resid_studentized_internal)), color = 'green', alpha = .7)\n",
    "sns.regplot(model.fittedvalues, np.sqrt(np.abs(model.get_influence().resid_studentized_internal)),\n",
    "          scatter=False,\n",
    "          ci=False,\n",
    "          lowess=True,\n",
    "          line_kws={'color': 'red', 'lw': 1, 'alpha': 0.8});\n",
    "plt.title('Scale-Location', size = 15)\n",
    "plt.show()"
   ]
  },
  {
   "cell_type": "markdown",
   "metadata": {},
   "source": [
    "빨간선의 기울기가 0에 가까워야 하지만 Fitted Values가 커질수록 기울기가 변화하고 있다. 이처럼 빨간선의 기울기가 0에서 떨어진 저밍 있다면 해당 점에서는 표준화 잔차가 큼을 의미하고 회귀직선이 y값을 잘 적합하지 못함을 의미한다. 또한 해당 점들은 이상치일 가능성이 있다.\n",
    "***\n",
    "#### 3-4) Residuals & Leverage(영향력 진단)"
   ]
  },
  {
   "cell_type": "code",
   "execution_count": 35,
   "metadata": {
    "scrolled": true
   },
   "outputs": [
    {
     "data": {
      "image/png": "[encoded data removed]",
      "text/plain": [
       "<Figure size 432x288 with 1 Axes>"
      ]
     },
     "metadata": {
      "needs_background": "light"
     },
     "output_type": "display_data"
    }
   ],
   "source": [
    "plt.scatter(model.get_influence().hat_matrix_diag, model.resid, color = 'black', alpha = .7)\n",
    "sns.regplot(model.get_influence().hat_matrix_diag, model.resid,\n",
    "              scatter=False,\n",
    "              ci=False,\n",
    "              lowess=True,\n",
    "              line_kws={'color': 'red', 'lw': 1, 'alpha': 0.8});\n",
    "leverage_top_3 = np.flip(np.argsort(model.get_influence().cooks_distance[0]), 0)[:3]\n",
    "for i in leverage_top_3:\n",
    "    plt.annotate(i, xy=(model.get_influence().hat_matrix_diag[i],\n",
    "                                 model.resid[i]));\n",
    "plt.title('Residuals vs Leverage', size = 15)\n",
    "plt.show()"
   ]
  },
  {
   "cell_type": "markdown",
   "metadata": {},
   "source": [
    "쿡의 거리가 0.5 이상이면 빨간 점선으로 표현되고 점선 바깥에 있는 점들은 무시할 수 없을 정도로 예측치를 벗어난 관측값이다. 본 그래프에서는 그런 점들은 보이지 않기 때문에 회귀직선에 크게 영향을 끼치는 점들은 드물다고 볼 수 있다."
   ]
  },
  {
   "cell_type": "markdown",
   "metadata": {},
   "source": [
    "#### 3-5) Cook's Distance\n",
    "\n",
    "- 각각의 값이 얼마나 많이 회귀 모델을 변화시키는지 확인하는 것. \n",
    "- 1이상일 경우 매우 큰 영향치로 간주."
   ]
  },
  {
   "cell_type": "code",
   "execution_count": 41,
   "metadata": {},
   "outputs": [],
   "source": [
    "from statsmodels.stats.outliers_influence import OLSInfluence"
   ]
  },
  {
   "cell_type": "code",
   "execution_count": 108,
   "metadata": {
    "scrolled": true
   },
   "outputs": [
    {
     "data": {
      "text/html": [
       "<div>\n",
       "<style scoped>\n",
       "    .dataframe tbody tr th:only-of-type {\n",
       "        vertical-align: middle;\n",
       "    }\n",
       "\n",
       "    .dataframe tbody tr th {\n",
       "        vertical-align: top;\n",
       "    }\n",
       "\n",
       "    .dataframe thead th {\n",
       "        text-align: right;\n",
       "    }\n",
       "</style>\n",
       "<table border=\"1\" class=\"dataframe\">\n",
       "  <thead>\n",
       "    <tr style=\"text-align: right;\">\n",
       "      <th></th>\n",
       "      <th>index</th>\n",
       "      <th>score</th>\n",
       "    </tr>\n",
       "  </thead>\n",
       "  <tbody>\n",
       "    <tr>\n",
       "      <th>0</th>\n",
       "      <td>0</td>\n",
       "      <td>0.007070</td>\n",
       "    </tr>\n",
       "    <tr>\n",
       "      <th>1</th>\n",
       "      <td>1</td>\n",
       "      <td>0.024714</td>\n",
       "    </tr>\n",
       "    <tr>\n",
       "      <th>2</th>\n",
       "      <td>2</td>\n",
       "      <td>0.000176</td>\n",
       "    </tr>\n",
       "    <tr>\n",
       "      <th>3</th>\n",
       "      <td>3</td>\n",
       "      <td>0.033372</td>\n",
       "    </tr>\n",
       "    <tr>\n",
       "      <th>4</th>\n",
       "      <td>4</td>\n",
       "      <td>0.005566</td>\n",
       "    </tr>\n",
       "  </tbody>\n",
       "</table>\n",
       "</div>"
      ],
      "text/plain": [
       "   index     score\n",
       "0      0  0.007070\n",
       "1      1  0.024714\n",
       "2      2  0.000176\n",
       "3      3  0.033372\n",
       "4      4  0.005566"
      ]
     },
     "execution_count": 108,
     "metadata": {},
     "output_type": "execute_result"
    }
   ],
   "source": [
    "CD, _ = OLSInfluence(result).cooks_distance\n",
    "CD.reset_index(name = 'score').head()"
   ]
  },
  {
   "cell_type": "code",
   "execution_count": 109,
   "metadata": {},
   "outputs": [
    {
     "data": {
      "image/png": "[encoded data removed]",
      "text/plain": [
       "<Figure size 1080x720 with 1 Axes>"
      ]
     },
     "metadata": {
      "needs_background": "light"
     },
     "output_type": "display_data"
    }
   ],
   "source": [
    "plt.figure(figsize = (15, 10))\n",
    "sns.barplot(x = np.arange(data.shape[0]), y = CD)\n",
    "plt.show()"
   ]
  },
  {
   "cell_type": "markdown",
   "metadata": {},
   "source": [
    "#### 3-6) DFBETAS\n",
    "- 각각의 Data를 제거시 포함시의 회귀 계수의 차이 \n",
    "- 각 데이터(행별)로 표시됨\n",
    "- 이상값 기준: 다른 행의 dfbeta 대비 얼마나 커야하는가?\n",
    "- 기준 값은 2 혹은 2/표본수의 제곱근"
   ]
  },
  {
   "cell_type": "code",
   "execution_count": 43,
   "metadata": {},
   "outputs": [
    {
     "data": {
      "text/plain": [
       "array([[-0.07977171, -0.01945092, -0.02201326, -0.02009155,  0.0194871 ,\n",
       "         0.11274822],\n",
       "       [ 0.03240655,  0.10833553,  0.10517777,  0.1048544 , -0.1075797 ,\n",
       "        -0.01236462],\n",
       "       [-0.01926689, -0.00867595, -0.00857023, -0.00844238,  0.00861644,\n",
       "         0.01830412],\n",
       "       ...,\n",
       "       [ 0.14301388,  0.08003157,  0.0789541 ,  0.07998145, -0.08017991,\n",
       "        -0.0415146 ],\n",
       "       [ 0.08158144, -0.02182097, -0.02352222, -0.02218922,  0.02151374,\n",
       "         0.06001309],\n",
       "       [-0.14264672, -0.01821846, -0.01605322, -0.0168151 ,  0.01921928,\n",
       "        -0.12808157]])"
      ]
     },
     "execution_count": 43,
     "metadata": {},
     "output_type": "execute_result"
    }
   ],
   "source": [
    "OLSInfluence(result).dfbetas "
   ]
  },
  {
   "cell_type": "markdown",
   "metadata": {},
   "source": [
    "#### 3-7) DFFITS\n",
    "\n",
    "- i번째 관측치 제외 시 종속변수 예측치의 변화 정도\n",
    "- 기준치는 2 * ((상수항을 포함한 변수의 수 + 1) / 표본의수)의 제곱근"
   ]
  },
  {
   "cell_type": "code",
   "execution_count": 51,
   "metadata": {},
   "outputs": [
    {
     "data": {
      "text/plain": [
       "(0     -0.206195\n",
       " 1     -0.387308\n",
       " 2      0.032418\n",
       " 3     -0.449974\n",
       " 4     -0.182581\n",
       "          ...   \n",
       " 167    0.018883\n",
       " 168    0.072071\n",
       " 169    0.167986\n",
       " 170    0.156569\n",
       " 171    0.365549\n",
       " Length: 172, dtype: float64,\n",
       " 0.3735436838188142)"
      ]
     },
     "execution_count": 51,
     "metadata": {},
     "output_type": "execute_result"
    }
   ],
   "source": [
    "OLSInfluence(result).dffits"
   ]
  },
  {
   "cell_type": "code",
   "execution_count": 49,
   "metadata": {},
   "outputs": [
    {
     "name": "stdout",
     "output_type": "stream",
     "text": [
      "기준치는 8.743251365736\n"
     ]
    }
   ],
   "source": [
    "print(f'기준치는 {2 / np.sqrt(len(data.columns) / data.shape[0])}')"
   ]
  },
  {
   "cell_type": "markdown",
   "metadata": {},
   "source": [
    "## 8. 벌점화 선택 기준 : 변수 선택 기준으로 사용되는 통계량\n",
    "\n",
    "### 1) 수정된 결정계수\n",
    "\n",
    "- 변수 개수 증가하면 자연히 결정계수도 증가\n",
    "- 수정된 결정계수는 이러한 단점을 보완하고 변수 선택 가능.\n",
    "- 수정된 결정계수 사용시 더 이상 변수를 추가할 필요가 없는 시점의 모형을 선택하게 된다.\n",
    "\n",
    "### 2) Mallow's CP\n",
    "\n",
    "- 최소자승법을 사용하여 추정된 회귀모형의 적합성 평가에 사용\n",
    "- Cp값이 작고 p+상수(변수의 개수 + 상수)에 가까운 모형을 선택\n",
    "1. Cp값이 p와 비슷한 경우 : 편향이 작고 우수한 모델\n",
    "2. Cp값이 p보다 큰 경우 : 편향이 크고 추가적인 변수가 필요한 모델을 의미\n",
    "3. Cp값이 p보다 작은 경우 : 분산의 증가폭보다 편향의 감소폭이 더 크며 필요 없는 변수가 모델에 있다는 것을 의미"
   ]
  },
  {
   "cell_type": "code",
   "execution_count": 65,
   "metadata": {
    "scrolled": true
   },
   "outputs": [
    {
     "name": "stdout",
     "output_type": "stream",
     "text": [
      "0 -4.000000000000028\n",
      "1 -2.0000000000000284\n",
      "2 -2.842170943040401e-14\n",
      "3 1.9999999999999716\n",
      "4 3.9999999999999716\n",
      "5 5.999999999999972\n",
      "6 7.999999999999972\n"
     ]
    }
   ],
   "source": [
    "for p in range(6 + 1) : # 상수항 포함 컬럼 6개\n",
    "    print(p, (np.sum(np.square(result.resid)) / result.mse_resid) - (data.shape[0] - 2 * (p+1)))"
   ]
  },
  {
   "cell_type": "markdown",
   "metadata": {},
   "source": [
    "## 9. 변수변환\n",
    "\n",
    "#### 로그변환, 제곱근변환 : 값이 작은 값으로 구성되어 있을 때 정규화\n",
    "#### 지수변환, 제곱변환 : 값이 큰 값으로 구성되어 있을 때 정규화\n",
    "#### 더미변수 생성 : 범주형 데이터를 원-핫 인코딩\n",
    "#### Box-Cox 변환 : 정규분포를 만족하지 않는 변수를 정규화하기 위해 사용"
   ]
  },
  {
   "cell_type": "code",
   "execution_count": 66,
   "metadata": {},
   "outputs": [],
   "source": [
    "from scipy.stats import boxcox"
   ]
  },
  {
   "cell_type": "code",
   "execution_count": 80,
   "metadata": {
    "scrolled": true
   },
   "outputs": [
    {
     "name": "stdout",
     "output_type": "stream",
     "text": [
      "constant의 왜도는 0\n",
      "marketing_total의 왜도는 0.06821242836349523\n",
      "facebook의 왜도는 0.05824871583429746\n",
      "google_adwords의 왜도는 -0.048824381005008764\n",
      "employees의 왜도는 -0.21447424461259335\n",
      "twitter의 왜도는 0.8937278225138959\n"
     ]
    }
   ],
   "source": [
    "for c in add_feature :\n",
    "    print(f'{c}의 왜도는 {data[c].skew()}')"
   ]
  },
  {
   "cell_type": "markdown",
   "metadata": {},
   "source": [
    "twitter에 box-cox 적용"
   ]
  },
  {
   "cell_type": "code",
   "execution_count": 90,
   "metadata": {
    "scrolled": true
   },
   "outputs": [
    {
     "data": {
      "text/plain": [
       "-0.03271390863662779"
      ]
     },
     "execution_count": 90,
     "metadata": {},
     "output_type": "execute_result"
    }
   ],
   "source": [
    "pd.Series(boxcox(data['twitter'])[0]).skew()"
   ]
  },
  {
   "cell_type": "markdown",
   "metadata": {},
   "source": [
    "## 10. 회귀분석 변수선택법 custom_function by 동욱"
   ]
  },
  {
   "cell_type": "code",
   "execution_count": 201,
   "metadata": {},
   "outputs": [],
   "source": [
    "def processSubset(X,y,feature_set):\n",
    "    model = sm.OLS(y,X[list(feature_set)]) # Modeling\n",
    "    regr = model.fit() # model fitting\n",
    "    AIC = regr.aic # model's AIC\n",
    "    return {\"model\" : regr, \"AIC\" : AIC}"
   ]
  },
  {
   "cell_type": "code",
   "execution_count": null,
   "metadata": {},
   "outputs": [],
   "source": [
    "import itertools \n",
    "\n",
    "# getBest : 가장 낮은 AIC를 가지는 모델을 선택하고 저장하는 함수\n",
    "\n",
    "def getBest(X,y,k):\n",
    "    tic = time.time()      # 시작 시간\n",
    "    results = []           # 결과 저장 공간\n",
    "    for combo in itertools.combinations(X.columns.difference(['const'],k) :\n",
    "\t 각 변수 조합을 고려한 경우의수\n",
    "        \n",
    "        combo = (list(combo)+['const'])\n",
    "        # 상수항을 추가하여 combo를 결성\n",
    "        \n",
    "        results.append(processSubset(X,y,feature_set = combo)) # 모델링된것을 저장\n",
    "        \n",
    "        # 만약 k=2이면 여기서 두가지 변수만 뽑아서 경우의 수를 분석하여\n",
    "        # 저장 후 그 중 AIC가 가장 낮은 모델을 선택하도록 함\n",
    "\t\n",
    "    models = pd.DataFrame(results) # 데이터프레임으로 모델결과 변환\n",
    "    best_model = models.loc[models['AIC'].argmin()] # argmin은 최소값의 인덱스를 뽑는 함수\n",
    "    toc = time.time()       # 종료 시간\n",
    "    print(\"Processed\", models.shape[0], \"models on\", k, \"predictors in\",(toc - tic),\"seconds.\")\n",
    "    \n",
    "    return best_model"
   ]
  },
  {
   "cell_type": "code",
   "execution_count": null,
   "metadata": {},
   "outputs": [],
   "source": [
    "models = pd.DataFrame(columns=[\"AIC\",\"model\"])\n",
    "tic = time.time()\n",
    "for i in range(1,4):\n",
    "\tmodels.loc[i] = getBest(X=train_x, y=train_y,k=i)\n",
    "toc = time.time()\n",
    "print(\"Total elapsed time:\",(toc-tic),\"seconds.\")ㅠ"
   ]
  },
  {
   "cell_type": "code",
   "execution_count": null,
   "metadata": {},
   "outputs": [],
   "source": [
    "def forward(X,y,predictors):\n",
    "\t\n",
    "    # predictor - 현재 선택되어있는 변수\n",
    "    # 데이터 변수들이 미리정의된 predictors에 있는지 없는지 확인 및 분류\n",
    "    \n",
    "    remaining_predictors = [p for p in X.columns.difference(['const']) if p not in predictors]\n",
    "    tic = time.time()\n",
    "    results = []\n",
    "    for p in remaining_predictors :\n",
    "    \tresults.append(processSubset(X=X,y=y,feature_set=predictors+[p]+['const']))\n",
    "    \n",
    "    # 데이터프레임으로 변환\n",
    "    models = pd.DataFrame(results)\n",
    "    \n",
    "    # AIC가 가장 낮은 것을 선택\n",
    "    best_model = models.loc[models['AIC'].argmin()]\n",
    "    toc = time.time()\n",
    "    print(\"Processed \",models.shape[0]. \"models on\", len(predictors)+1, \"predictors in\", (toc-tic))\n",
    "    print(\"Selected predictors:\",best_model[\"model\"].model.exog_names,\"AIC: \",best_model[0])\n",
    "    return best_model\n",
    "    \n",
    "### 전진선택법 모델\n",
    "\n",
    "def forward_model(X,y):\n",
    "\n",
    "    Fmodels = pd.DataFrame(columns=[\"AIC\",\"model\"])\n",
    "    tic = time.time()\n",
    "    \n",
    "    # 미리 정의된 데이터 변수\n",
    "    predictors = []\n",
    "    \n",
    "    # 변수 1~10개 : 0-9 -> 1-10\n",
    "    for i in range(1,len(X,columns.difference(['const']))+1):\n",
    "    \tForward_result = forward(X=X,y=y,predictors=predictors)\n",
    "        if i > 1 :\n",
    "            if Forward_result[\"AIC\"] > Fmodel_before:\n",
    "                break\n",
    "        Fmodels.loc[i] = Forward_result\n",
    "        predictors = Fmodels.loc[i][\"model\"].model.exog_names\n",
    "        Fmodel_before = Fmodels.loc[i][\"AIC\"]\n",
    "        predictors = [k for k in predictors if k != 'const']\n",
    "    toc = time.time()\n",
    "    print(\"Total elapsed time:\",(toc-tic), \"seconds.\")\n",
    "    \n",
    "    return (Fmodels['model'][len(Fmodels['model'])])\n",
    "\n",
    "Forward_best_model = forward_model(X=train_x, y=train_y)"
   ]
  },
  {
   "cell_type": "code",
   "execution_count": null,
   "metadata": {},
   "outputs": [],
   "source": [
    "def backward(X,y,predictors):\n",
    "    tic = time.time()\n",
    "    results = []\n",
    "    \n",
    "    # 데이터 변수들이 미리 정의된 predictors 조합 확인\n",
    "    \n",
    "    for combo in itertools.combinations(predictors, len(predictors) - 1):\n",
    "    \tresults.append(processSubset(X=X,y=y,feature_set=list(combo)+['const']))\n",
    "    models = pd.DataFrame(results)\n",
    "    \n",
    "    # 가장 낮은 AIC를 가진 모델을 선택\n",
    "    best_model = models.loc[models['AIC'].argmin()]\n",
    "    toc = time.time()\n",
    "    \n",
    "    print(\"Processed \",models.shape[0], \"models on\", len(predictors) - 1, \"predictors in\",(toc-tic))\n",
    "    print(\"Selected predictors:\",best_model['model'].model.exog_names,' AIC:',best_model[0])\n",
    "    return best_model\n",
    "    \n",
    "def backward_model(X,y) :\n",
    "    Bmodels = pd.DataFrame(columns=[\"AIC\",\"model\"], index = range(1,len(X.columns))\n",
    "    tic = time.time()\n",
    "    predictors = X.columns.difference(['const'])\n",
    "    Bmodel_before = processSubset(X,y,predictors)['AIC']\n",
    "    while (len(predictors) > 1):\n",
    "    \tBackward_result = backward(X=train_x, y= train_y, predictors=predictors)\n",
    "        if Backward_result['AIC'] > Bmodel_before :\n",
    "        \tbreak\n",
    "        Bmodels.loc[len(predictors) -1] = Backward_result\n",
    "        predictors = Bmodel.loc[len(predictors) - 1]['model'].model.exog_names\n",
    "        Bmodel_before = Backward_result[\"AIC\"]\n",
    "        predictors = [k for k in predictors if k != 'const']\n",
    "    \n",
    "    toc = time.time()\n",
    "    print(\"Total elapsed time:\",(toc-tic),\"seconds.\")\n",
    "    return (Bmodels[\"model\"].dropna().iloc[0]\n",
    "    \n",
    "Backward_best_model = backward_model(X=train_x, y= train_y)"
   ]
  },
  {
   "cell_type": "code",
   "execution_count": null,
   "metadata": {},
   "outputs": [],
   "source": [
    "def Stepwise_model(X,y):\n",
    "    Stepmodels = pd.DataFrame(columns = [\"AIC\",\"model\"])\n",
    "    tic = time.time()\n",
    "    predictors = []\n",
    "    Smodel_before = processSubset(X,y,predictors + ['const'])['AIC']\n",
    "    \n",
    "    # 변수 1~10개 0-9 -> 1-10\n",
    "    for i in range(1,len(X.columns.difference(['const']))+1) :\n",
    "        Forward_result = forward(X=X,y=y,predictors = predictors) # constant added\n",
    "        print('forward')\n",
    "        predictors = Stepmodels.loc[i]['model'].model.exog_names\n",
    "        predictors = [k for k in predictors if k != 'const']\n",
    "        Backward_result = backward(X=X,y=y,predictors = predictors)\n",
    "        if Backward_result[\"AIC\"] < Forward_result[\"AIC\"]\n",
    "            Stepmodels.loc[i] = Backward_result\n",
    "            predictors = Stepmodels.loc[i][\"model\"].model.exog_names\n",
    "            Smodel_before = Stepmodels.loc[i][\"AIC\"]\n",
    "            predictors = [k for k in predictors k != \"const\"]\n",
    "            print('backward')\n",
    "        if Stepmodels.loc[i][\"AIC\"] > Smodel_before:\n",
    "            break\n",
    "        else :\n",
    "            Smodel_before = Stepmodels.loc[i][\"AIC\"]\n",
    "    toc = time.time()\n",
    "    print(\"Total elapsed time:\",(toc-tic),\"seconds.\")\n",
    "    return (Stepmodels[\"model\"][len(Stepmodels[\"model\"])])"
   ]
  }
 ],
 "metadata": {
  "kernelspec": {
   "display_name": "Python 3",
   "language": "python",
   "name": "python3"
  },
  "language_info": {
   "codemirror_mode": {
    "name": "ipython",
    "version": 3
   },
   "file_extension": ".py",
   "mimetype": "text/x-python",
   "name": "python",
   "nbconvert_exporter": "python",
   "pygments_lexer": "ipython3",
   "version": "3.8.5"
  }
 },
 "nbformat": 4,
 "nbformat_minor": 4
}
