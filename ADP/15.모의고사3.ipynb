{
 "cells": [
  {
   "cell_type": "markdown",
   "metadata": {},
   "source": [
    "# 1. 시계열 분석(다변량)\n",
    "\n",
    "## 1-1. 데이터의 적합성 및 정상성을 판단하시오."
   ]
  },
  {
   "cell_type": "code",
   "execution_count": 1,
   "metadata": {},
   "outputs": [],
   "source": [
    "import pandas as pd\n",
    "import warnings\n",
    "warnings.filterwarnings('ignore')"
   ]
  },
  {
   "cell_type": "code",
   "execution_count": 2,
   "metadata": {},
   "outputs": [],
   "source": [
    "train = pd.read_csv('DailyDelhiClimateTrain.csv').iloc[:-1, :]\n",
    "test = pd.read_csv('DailyDelhiClimateTest.csv')"
   ]
  },
  {
   "cell_type": "code",
   "execution_count": 3,
   "metadata": {},
   "outputs": [
    {
     "data": {
      "text/html": [
       "<div>\n",
       "<style scoped>\n",
       "    .dataframe tbody tr th:only-of-type {\n",
       "        vertical-align: middle;\n",
       "    }\n",
       "\n",
       "    .dataframe tbody tr th {\n",
       "        vertical-align: top;\n",
       "    }\n",
       "\n",
       "    .dataframe thead th {\n",
       "        text-align: right;\n",
       "    }\n",
       "</style>\n",
       "<table border=\"1\" class=\"dataframe\">\n",
       "  <thead>\n",
       "    <tr style=\"text-align: right;\">\n",
       "      <th></th>\n",
       "      <th>date</th>\n",
       "      <th>meantemp</th>\n",
       "      <th>humidity</th>\n",
       "      <th>wind_speed</th>\n",
       "      <th>meanpressure</th>\n",
       "    </tr>\n",
       "  </thead>\n",
       "  <tbody>\n",
       "    <tr>\n",
       "      <th>0</th>\n",
       "      <td>2013-01-01</td>\n",
       "      <td>10.000000</td>\n",
       "      <td>84.500000</td>\n",
       "      <td>0.000000</td>\n",
       "      <td>1015.666667</td>\n",
       "    </tr>\n",
       "    <tr>\n",
       "      <th>1</th>\n",
       "      <td>2013-01-02</td>\n",
       "      <td>7.400000</td>\n",
       "      <td>92.000000</td>\n",
       "      <td>2.980000</td>\n",
       "      <td>1017.800000</td>\n",
       "    </tr>\n",
       "    <tr>\n",
       "      <th>2</th>\n",
       "      <td>2013-01-03</td>\n",
       "      <td>7.166667</td>\n",
       "      <td>87.000000</td>\n",
       "      <td>4.633333</td>\n",
       "      <td>1018.666667</td>\n",
       "    </tr>\n",
       "    <tr>\n",
       "      <th>3</th>\n",
       "      <td>2013-01-04</td>\n",
       "      <td>8.666667</td>\n",
       "      <td>71.333333</td>\n",
       "      <td>1.233333</td>\n",
       "      <td>1017.166667</td>\n",
       "    </tr>\n",
       "    <tr>\n",
       "      <th>4</th>\n",
       "      <td>2013-01-05</td>\n",
       "      <td>6.000000</td>\n",
       "      <td>86.833333</td>\n",
       "      <td>3.700000</td>\n",
       "      <td>1016.500000</td>\n",
       "    </tr>\n",
       "  </tbody>\n",
       "</table>\n",
       "</div>"
      ],
      "text/plain": [
       "         date   meantemp   humidity  wind_speed  meanpressure\n",
       "0  2013-01-01  10.000000  84.500000    0.000000   1015.666667\n",
       "1  2013-01-02   7.400000  92.000000    2.980000   1017.800000\n",
       "2  2013-01-03   7.166667  87.000000    4.633333   1018.666667\n",
       "3  2013-01-04   8.666667  71.333333    1.233333   1017.166667\n",
       "4  2013-01-05   6.000000  86.833333    3.700000   1016.500000"
      ]
     },
     "execution_count": 3,
     "metadata": {},
     "output_type": "execute_result"
    }
   ],
   "source": [
    "train.head()"
   ]
  },
  {
   "cell_type": "code",
   "execution_count": 4,
   "metadata": {
    "scrolled": false
   },
   "outputs": [
    {
     "data": {
      "text/html": [
       "<div>\n",
       "<style scoped>\n",
       "    .dataframe tbody tr th:only-of-type {\n",
       "        vertical-align: middle;\n",
       "    }\n",
       "\n",
       "    .dataframe tbody tr th {\n",
       "        vertical-align: top;\n",
       "    }\n",
       "\n",
       "    .dataframe thead th {\n",
       "        text-align: right;\n",
       "    }\n",
       "</style>\n",
       "<table border=\"1\" class=\"dataframe\">\n",
       "  <thead>\n",
       "    <tr style=\"text-align: right;\">\n",
       "      <th></th>\n",
       "      <th>date</th>\n",
       "      <th>meantemp</th>\n",
       "      <th>humidity</th>\n",
       "      <th>wind_speed</th>\n",
       "      <th>meanpressure</th>\n",
       "    </tr>\n",
       "  </thead>\n",
       "  <tbody>\n",
       "    <tr>\n",
       "      <th>0</th>\n",
       "      <td>2017-01-01</td>\n",
       "      <td>15.913043</td>\n",
       "      <td>85.869565</td>\n",
       "      <td>2.743478</td>\n",
       "      <td>59.000000</td>\n",
       "    </tr>\n",
       "    <tr>\n",
       "      <th>1</th>\n",
       "      <td>2017-01-02</td>\n",
       "      <td>18.500000</td>\n",
       "      <td>77.222222</td>\n",
       "      <td>2.894444</td>\n",
       "      <td>1018.277778</td>\n",
       "    </tr>\n",
       "    <tr>\n",
       "      <th>2</th>\n",
       "      <td>2017-01-03</td>\n",
       "      <td>17.111111</td>\n",
       "      <td>81.888889</td>\n",
       "      <td>4.016667</td>\n",
       "      <td>1018.333333</td>\n",
       "    </tr>\n",
       "    <tr>\n",
       "      <th>3</th>\n",
       "      <td>2017-01-04</td>\n",
       "      <td>18.700000</td>\n",
       "      <td>70.050000</td>\n",
       "      <td>4.545000</td>\n",
       "      <td>1015.700000</td>\n",
       "    </tr>\n",
       "    <tr>\n",
       "      <th>4</th>\n",
       "      <td>2017-01-05</td>\n",
       "      <td>18.388889</td>\n",
       "      <td>74.944444</td>\n",
       "      <td>3.300000</td>\n",
       "      <td>1014.333333</td>\n",
       "    </tr>\n",
       "  </tbody>\n",
       "</table>\n",
       "</div>"
      ],
      "text/plain": [
       "         date   meantemp   humidity  wind_speed  meanpressure\n",
       "0  2017-01-01  15.913043  85.869565    2.743478     59.000000\n",
       "1  2017-01-02  18.500000  77.222222    2.894444   1018.277778\n",
       "2  2017-01-03  17.111111  81.888889    4.016667   1018.333333\n",
       "3  2017-01-04  18.700000  70.050000    4.545000   1015.700000\n",
       "4  2017-01-05  18.388889  74.944444    3.300000   1014.333333"
      ]
     },
     "execution_count": 4,
     "metadata": {},
     "output_type": "execute_result"
    }
   ],
   "source": [
    "test.head()"
   ]
  },
  {
   "cell_type": "markdown",
   "metadata": {},
   "source": [
    "data가 1일 간격으로 생성된 것을 확인할 수 있다."
   ]
  },
  {
   "cell_type": "code",
   "execution_count": 5,
   "metadata": {},
   "outputs": [],
   "source": [
    "train['date'] = pd.to_datetime(train['date'])\n",
    "test['date'] = pd.to_datetime(test['date'])"
   ]
  },
  {
   "cell_type": "code",
   "execution_count": 6,
   "metadata": {},
   "outputs": [],
   "source": [
    "train.set_index('date', inplace = True)\n",
    "test.set_index('date', inplace = True)"
   ]
  },
  {
   "cell_type": "code",
   "execution_count": 7,
   "metadata": {},
   "outputs": [],
   "source": [
    "train = train.asfreq(freq = 'D')\n",
    "test = test.asfreq(freq = 'D')"
   ]
  },
  {
   "cell_type": "code",
   "execution_count": 8,
   "metadata": {},
   "outputs": [
    {
     "data": {
      "text/html": [
       "<div>\n",
       "<style scoped>\n",
       "    .dataframe tbody tr th:only-of-type {\n",
       "        vertical-align: middle;\n",
       "    }\n",
       "\n",
       "    .dataframe tbody tr th {\n",
       "        vertical-align: top;\n",
       "    }\n",
       "\n",
       "    .dataframe thead th {\n",
       "        text-align: right;\n",
       "    }\n",
       "</style>\n",
       "<table border=\"1\" class=\"dataframe\">\n",
       "  <thead>\n",
       "    <tr style=\"text-align: right;\">\n",
       "      <th></th>\n",
       "      <th>meantemp</th>\n",
       "      <th>humidity</th>\n",
       "      <th>wind_speed</th>\n",
       "      <th>meanpressure</th>\n",
       "    </tr>\n",
       "    <tr>\n",
       "      <th>date</th>\n",
       "      <th></th>\n",
       "      <th></th>\n",
       "      <th></th>\n",
       "      <th></th>\n",
       "    </tr>\n",
       "  </thead>\n",
       "  <tbody>\n",
       "    <tr>\n",
       "      <th>2013-01-01</th>\n",
       "      <td>10.000000</td>\n",
       "      <td>84.500000</td>\n",
       "      <td>0.000000</td>\n",
       "      <td>1015.666667</td>\n",
       "    </tr>\n",
       "    <tr>\n",
       "      <th>2013-01-02</th>\n",
       "      <td>7.400000</td>\n",
       "      <td>92.000000</td>\n",
       "      <td>2.980000</td>\n",
       "      <td>1017.800000</td>\n",
       "    </tr>\n",
       "    <tr>\n",
       "      <th>2013-01-03</th>\n",
       "      <td>7.166667</td>\n",
       "      <td>87.000000</td>\n",
       "      <td>4.633333</td>\n",
       "      <td>1018.666667</td>\n",
       "    </tr>\n",
       "    <tr>\n",
       "      <th>2013-01-04</th>\n",
       "      <td>8.666667</td>\n",
       "      <td>71.333333</td>\n",
       "      <td>1.233333</td>\n",
       "      <td>1017.166667</td>\n",
       "    </tr>\n",
       "    <tr>\n",
       "      <th>2013-01-05</th>\n",
       "      <td>6.000000</td>\n",
       "      <td>86.833333</td>\n",
       "      <td>3.700000</td>\n",
       "      <td>1016.500000</td>\n",
       "    </tr>\n",
       "    <tr>\n",
       "      <th>...</th>\n",
       "      <td>...</td>\n",
       "      <td>...</td>\n",
       "      <td>...</td>\n",
       "      <td>...</td>\n",
       "    </tr>\n",
       "    <tr>\n",
       "      <th>2016-12-27</th>\n",
       "      <td>16.850000</td>\n",
       "      <td>67.550000</td>\n",
       "      <td>8.335000</td>\n",
       "      <td>1017.200000</td>\n",
       "    </tr>\n",
       "    <tr>\n",
       "      <th>2016-12-28</th>\n",
       "      <td>17.217391</td>\n",
       "      <td>68.043478</td>\n",
       "      <td>3.547826</td>\n",
       "      <td>1015.565217</td>\n",
       "    </tr>\n",
       "    <tr>\n",
       "      <th>2016-12-29</th>\n",
       "      <td>15.238095</td>\n",
       "      <td>87.857143</td>\n",
       "      <td>6.000000</td>\n",
       "      <td>1016.904762</td>\n",
       "    </tr>\n",
       "    <tr>\n",
       "      <th>2016-12-30</th>\n",
       "      <td>14.095238</td>\n",
       "      <td>89.666667</td>\n",
       "      <td>6.266667</td>\n",
       "      <td>1017.904762</td>\n",
       "    </tr>\n",
       "    <tr>\n",
       "      <th>2016-12-31</th>\n",
       "      <td>15.052632</td>\n",
       "      <td>87.000000</td>\n",
       "      <td>7.325000</td>\n",
       "      <td>1016.100000</td>\n",
       "    </tr>\n",
       "  </tbody>\n",
       "</table>\n",
       "<p>1461 rows × 4 columns</p>\n",
       "</div>"
      ],
      "text/plain": [
       "             meantemp   humidity  wind_speed  meanpressure\n",
       "date                                                      \n",
       "2013-01-01  10.000000  84.500000    0.000000   1015.666667\n",
       "2013-01-02   7.400000  92.000000    2.980000   1017.800000\n",
       "2013-01-03   7.166667  87.000000    4.633333   1018.666667\n",
       "2013-01-04   8.666667  71.333333    1.233333   1017.166667\n",
       "2013-01-05   6.000000  86.833333    3.700000   1016.500000\n",
       "...               ...        ...         ...           ...\n",
       "2016-12-27  16.850000  67.550000    8.335000   1017.200000\n",
       "2016-12-28  17.217391  68.043478    3.547826   1015.565217\n",
       "2016-12-29  15.238095  87.857143    6.000000   1016.904762\n",
       "2016-12-30  14.095238  89.666667    6.266667   1017.904762\n",
       "2016-12-31  15.052632  87.000000    7.325000   1016.100000\n",
       "\n",
       "[1461 rows x 4 columns]"
      ]
     },
     "execution_count": 8,
     "metadata": {},
     "output_type": "execute_result"
    }
   ],
   "source": [
    "train"
   ]
  },
  {
   "cell_type": "code",
   "execution_count": 10,
   "metadata": {},
   "outputs": [],
   "source": [
    "import matplotlib.pyplot as plt\n",
    "%matplotlib inline"
   ]
  },
  {
   "cell_type": "code",
   "execution_count": 10,
   "metadata": {},
   "outputs": [
    {
     "data": {
      "image/png": "[encoded data removed]",
      "text/plain": [
       "<Figure size 432x288 with 1 Axes>"
      ]
     },
     "metadata": {
      "needs_background": "light"
     },
     "output_type": "display_data"
    }
   ],
   "source": [
    "train.iloc[:,0].plot()\n",
    "plt.show()"
   ]
  },
  {
   "cell_type": "code",
   "execution_count": 11,
   "metadata": {},
   "outputs": [
    {
     "data": {
      "image/png": "[encoded data removed]",
      "text/plain": [
       "<Figure size 432x288 with 1 Axes>"
      ]
     },
     "metadata": {
      "needs_background": "light"
     },
     "output_type": "display_data"
    }
   ],
   "source": [
    "train.iloc[:,1].plot()\n",
    "plt.show()"
   ]
  },
  {
   "cell_type": "code",
   "execution_count": 12,
   "metadata": {},
   "outputs": [
    {
     "data": {
      "image/png": "[encoded data removed]",
      "text/plain": [
       "<Figure size 432x288 with 1 Axes>"
      ]
     },
     "metadata": {
      "needs_background": "light"
     },
     "output_type": "display_data"
    }
   ],
   "source": [
    "train.iloc[:,2].plot()\n",
    "plt.show()"
   ]
  },
  {
   "cell_type": "code",
   "execution_count": 13,
   "metadata": {},
   "outputs": [
    {
     "data": {
      "image/png": "[encoded data removed]",
      "text/plain": [
       "<Figure size 432x288 with 1 Axes>"
      ]
     },
     "metadata": {
      "needs_background": "light"
     },
     "output_type": "display_data"
    }
   ],
   "source": [
    "train.iloc[:,3].plot()\n",
    "plt.show()"
   ]
  },
  {
   "cell_type": "code",
   "execution_count": 14,
   "metadata": {},
   "outputs": [],
   "source": [
    "from statsmodels.graphics.tsaplots import plot_acf, plot_pacf\n",
    "from statsmodels.tsa.stattools import adfuller, kpss\n",
    "\n",
    "from statsmodels.tsa.vector_ar.var_model import VAR"
   ]
  },
  {
   "cell_type": "code",
   "execution_count": 15,
   "metadata": {},
   "outputs": [],
   "source": [
    "def stationary_test(df, columns,treshold = 0.05):\n",
    "\n",
    "    for c in columns:\n",
    "\n",
    "        time_series = df[c][df[c].notnull()]\n",
    "        fig, ax = plt.subplots(1,2, figsize = (10,6))\n",
    "        plt.suptitle(f'{c}', size = 20)\n",
    "        plot_acf(time_series,title = f'ACF - {c}', ax = ax[0])\n",
    "        plot_pacf(time_series, title = f'PACF - {c}', ax = ax[1])\n",
    "        plt.xlabel('lags')\n",
    "        plt.show()\n",
    "\n",
    "        dickley_fuller_test = adfuller(time_series)\n",
    "        a_pvalue = dickley_fuller_test[1]\n",
    "        \n",
    "        kpss_test = kpss(time_series)\n",
    "        k_pvalue = kpss_test[1]\n",
    "\n",
    "        if a_pvalue < treshold:\n",
    "            print(f'Time series \"{c}\" is stationay (NULL HP rejected - pvalue = {a_pvalue})')\n",
    "        else:\n",
    "            print(f'Time series \"{c}\" might have unit root (NULL HP cannot be rejected - pvalue = {a_pvalue})')\n",
    "        if k_pvalue < treshold:\n",
    "            print(f'Time series \"{c}\" is stationay (NULL HP rejected - pvalue = {k_pvalue})')\n",
    "        else:\n",
    "            print(f'Time series \"{c}\" might have unit root (NULL HP cannot be rejected - pvalue = {k_pvalue})')"
   ]
  },
  {
   "cell_type": "code",
   "execution_count": 1,
   "metadata": {
    "scrolled": false
   },
   "outputs": [],
   "source": [
    "#stationary_test(train, train.columns)"
   ]
  },
  {
   "cell_type": "markdown",
   "metadata": {},
   "source": [
    "meantemp가 정상성을 만족하지 못하므로 차분을 진행한다."
   ]
  },
  {
   "cell_type": "code",
   "execution_count": 17,
   "metadata": {},
   "outputs": [],
   "source": [
    "tr_diff_mt = train.meantemp[-1]\n",
    "train['diff_meantemp'] = train.meantemp.diff(1)\n",
    "train.dropna(inplace = True)"
   ]
  },
  {
   "cell_type": "code",
   "execution_count": 2,
   "metadata": {
    "scrolled": false
   },
   "outputs": [],
   "source": [
    "#stationary_test(train.iloc[:,1:], train.columns[1:])"
   ]
  },
  {
   "cell_type": "markdown",
   "metadata": {},
   "source": [
    "전부 정상성을 만족한다. "
   ]
  },
  {
   "cell_type": "markdown",
   "metadata": {},
   "source": [
    "## 1-2. 시계열 분석 기법 3가지를 각각 소개하고 기법들을 활용하여 test세트로 예측을 수행하시오.\n",
    "- 모든 feature 예측값 출력"
   ]
  },
  {
   "cell_type": "code",
   "execution_count": 19,
   "metadata": {},
   "outputs": [],
   "source": [
    "cols = ['humidity', 'wind_speed', 'meanpressure', 'diff_meantemp']"
   ]
  },
  {
   "cell_type": "code",
   "execution_count": 20,
   "metadata": {},
   "outputs": [],
   "source": [
    "endog = train[cols]"
   ]
  },
  {
   "cell_type": "code",
   "execution_count": 21,
   "metadata": {},
   "outputs": [],
   "source": [
    "dates = endog.index"
   ]
  },
  {
   "cell_type": "markdown",
   "metadata": {},
   "source": [
    "### 1) VAR(Vector Auto Regression)"
   ]
  },
  {
   "cell_type": "code",
   "execution_count": 24,
   "metadata": {},
   "outputs": [],
   "source": [
    "import numpy as np"
   ]
  },
  {
   "cell_type": "code",
   "execution_count": 25,
   "metadata": {},
   "outputs": [],
   "source": [
    "forecasting_model = VAR(endog, dates = dates, freq = 'D')\n",
    "results_aic = []\n",
    "for p in range(1,10):\n",
    "    results = forecasting_model.fit(p)\n",
    "    results_aic.append(results.aic)"
   ]
  },
  {
   "cell_type": "code",
   "execution_count": 26,
   "metadata": {},
   "outputs": [
    {
     "data": {
      "image/png": "[encoded data removed]",
      "text/plain": [
       "<Figure size 432x288 with 1 Axes>"
      ]
     },
     "metadata": {
      "needs_background": "light"
     },
     "output_type": "display_data"
    }
   ],
   "source": [
    "plt.plot(list(np.arange(1,10,1)), results_aic)\n",
    "plt.xlabel(\"Order\")\n",
    "plt.ylabel(\"AIC\")\n",
    "plt.show()"
   ]
  },
  {
   "cell_type": "code",
   "execution_count": 27,
   "metadata": {},
   "outputs": [
    {
     "data": {
      "text/plain": [
       "[17.70490834523937,\n",
       " 17.692068334397053,\n",
       " 17.649146437096007,\n",
       " 17.624506543610053,\n",
       " 17.624417294648996,\n",
       " 17.624467115168176,\n",
       " 17.63194423989471,\n",
       " 17.633304686416334,\n",
       " 17.640702977052044]"
      ]
     },
     "execution_count": 27,
     "metadata": {},
     "output_type": "execute_result"
    }
   ],
   "source": [
    "results_aic"
   ]
  },
  {
   "cell_type": "code",
   "execution_count": 28,
   "metadata": {},
   "outputs": [],
   "source": [
    "var = VAR(endog, dates = dates, freq = 'D')"
   ]
  },
  {
   "cell_type": "code",
   "execution_count": 29,
   "metadata": {},
   "outputs": [
    {
     "name": "stdout",
     "output_type": "stream",
     "text": [
      "<statsmodels.tsa.vector_ar.var_model.LagOrderResults object. Selected orders are: AIC -> 4, BIC -> 1, FPE -> 4, HQIC -> 4>\n",
      "Using 4 based on aic criterion\n"
     ]
    }
   ],
   "source": [
    "var_result = var.fit(maxlags = 4, ic = 'aic', verbose = 1)"
   ]
  },
  {
   "cell_type": "code",
   "execution_count": 30,
   "metadata": {
    "scrolled": true
   },
   "outputs": [],
   "source": [
    "te_diff_mt = test['meantemp'][-1]\n",
    "for_steps = test.shape[0]\n",
    "for_index = test.index\n",
    "test_diff = test.copy()\n",
    "test_diff['diff_meantemp'] = test_diff['meantemp'].diff(1)\n",
    "test_diff.dropna(inplace = True)"
   ]
  },
  {
   "cell_type": "code",
   "execution_count": 31,
   "metadata": {},
   "outputs": [],
   "source": [
    "var_forcasted = var_result.forecast(train[cols].values[-4:], for_steps)"
   ]
  },
  {
   "cell_type": "code",
   "execution_count": 32,
   "metadata": {},
   "outputs": [],
   "source": [
    "var_df = pd.DataFrame(var_forcasted, columns = cols, index = for_index)"
   ]
  },
  {
   "cell_type": "code",
   "execution_count": 33,
   "metadata": {
    "scrolled": true
   },
   "outputs": [],
   "source": [
    "var_df['meantemp'] = tr_diff_mt + var_df['diff_meantemp'].cumsum()"
   ]
  },
  {
   "cell_type": "code",
   "execution_count": 34,
   "metadata": {},
   "outputs": [],
   "source": [
    "from sklearn.metrics import mean_squared_error\n",
    "import numpy as np"
   ]
  },
  {
   "cell_type": "code",
   "execution_count": 35,
   "metadata": {},
   "outputs": [],
   "source": [
    "cols[3] = 'meantemp'"
   ]
  },
  {
   "cell_type": "code",
   "execution_count": 36,
   "metadata": {
    "scrolled": true
   },
   "outputs": [
    {
     "name": "stdout",
     "output_type": "stream",
     "text": [
      "RMSE of humidity = 17.80371148592949\n",
      "RMSE of wind_speed = 3.8290818532869673\n",
      "RMSE of meanpressure = 92.32154081300835\n",
      "RMSE of meantemp = 7.464358732409516\n"
     ]
    }
   ],
   "source": [
    "for c in cols :\n",
    "    print(f'RMSE of {c} = {np.sqrt(mean_squared_error(test[c], var_df[c]))}')"
   ]
  },
  {
   "cell_type": "code",
   "execution_count": 37,
   "metadata": {},
   "outputs": [
    {
     "data": {
      "text/html": [
       "<div>\n",
       "<style scoped>\n",
       "    .dataframe tbody tr th:only-of-type {\n",
       "        vertical-align: middle;\n",
       "    }\n",
       "\n",
       "    .dataframe tbody tr th {\n",
       "        vertical-align: top;\n",
       "    }\n",
       "\n",
       "    .dataframe thead th {\n",
       "        text-align: right;\n",
       "    }\n",
       "</style>\n",
       "<table border=\"1\" class=\"dataframe\">\n",
       "  <thead>\n",
       "    <tr style=\"text-align: right;\">\n",
       "      <th></th>\n",
       "      <th>humidity</th>\n",
       "      <th>wind_speed</th>\n",
       "      <th>meanpressure</th>\n",
       "      <th>diff_meantemp</th>\n",
       "      <th>meantemp</th>\n",
       "    </tr>\n",
       "    <tr>\n",
       "      <th>date</th>\n",
       "      <th></th>\n",
       "      <th></th>\n",
       "      <th></th>\n",
       "      <th></th>\n",
       "      <th></th>\n",
       "    </tr>\n",
       "  </thead>\n",
       "  <tbody>\n",
       "    <tr>\n",
       "      <th>2017-01-01</th>\n",
       "      <td>82.099601</td>\n",
       "      <td>5.786990</td>\n",
       "      <td>1041.752322</td>\n",
       "      <td>0.361086</td>\n",
       "      <td>15.413717</td>\n",
       "    </tr>\n",
       "    <tr>\n",
       "      <th>2017-01-02</th>\n",
       "      <td>79.970499</td>\n",
       "      <td>5.962300</td>\n",
       "      <td>988.115666</td>\n",
       "      <td>0.288809</td>\n",
       "      <td>15.702526</td>\n",
       "    </tr>\n",
       "    <tr>\n",
       "      <th>2017-01-03</th>\n",
       "      <td>79.366637</td>\n",
       "      <td>6.010135</td>\n",
       "      <td>1002.584677</td>\n",
       "      <td>0.017947</td>\n",
       "      <td>15.720474</td>\n",
       "    </tr>\n",
       "    <tr>\n",
       "      <th>2017-01-04</th>\n",
       "      <td>79.524336</td>\n",
       "      <td>5.764507</td>\n",
       "      <td>1001.586410</td>\n",
       "      <td>-0.005596</td>\n",
       "      <td>15.714878</td>\n",
       "    </tr>\n",
       "    <tr>\n",
       "      <th>2017-01-05</th>\n",
       "      <td>78.583862</td>\n",
       "      <td>5.676823</td>\n",
       "      <td>1007.998489</td>\n",
       "      <td>0.078934</td>\n",
       "      <td>15.793812</td>\n",
       "    </tr>\n",
       "    <tr>\n",
       "      <th>...</th>\n",
       "      <td>...</td>\n",
       "      <td>...</td>\n",
       "      <td>...</td>\n",
       "      <td>...</td>\n",
       "      <td>...</td>\n",
       "    </tr>\n",
       "    <tr>\n",
       "      <th>2017-04-20</th>\n",
       "      <td>60.711726</td>\n",
       "      <td>6.822748</td>\n",
       "      <td>1011.068105</td>\n",
       "      <td>0.006058</td>\n",
       "      <td>17.768607</td>\n",
       "    </tr>\n",
       "    <tr>\n",
       "      <th>2017-04-21</th>\n",
       "      <td>60.709242</td>\n",
       "      <td>6.822928</td>\n",
       "      <td>1011.068561</td>\n",
       "      <td>0.006047</td>\n",
       "      <td>17.774654</td>\n",
       "    </tr>\n",
       "    <tr>\n",
       "      <th>2017-04-22</th>\n",
       "      <td>60.706894</td>\n",
       "      <td>6.823098</td>\n",
       "      <td>1011.068992</td>\n",
       "      <td>0.006036</td>\n",
       "      <td>17.780690</td>\n",
       "    </tr>\n",
       "    <tr>\n",
       "      <th>2017-04-23</th>\n",
       "      <td>60.704677</td>\n",
       "      <td>6.823259</td>\n",
       "      <td>1011.069399</td>\n",
       "      <td>0.006026</td>\n",
       "      <td>17.786717</td>\n",
       "    </tr>\n",
       "    <tr>\n",
       "      <th>2017-04-24</th>\n",
       "      <td>60.702583</td>\n",
       "      <td>6.823411</td>\n",
       "      <td>1011.069784</td>\n",
       "      <td>0.006017</td>\n",
       "      <td>17.792734</td>\n",
       "    </tr>\n",
       "  </tbody>\n",
       "</table>\n",
       "<p>114 rows × 5 columns</p>\n",
       "</div>"
      ],
      "text/plain": [
       "             humidity  wind_speed  meanpressure  diff_meantemp   meantemp\n",
       "date                                                                     \n",
       "2017-01-01  82.099601    5.786990   1041.752322       0.361086  15.413717\n",
       "2017-01-02  79.970499    5.962300    988.115666       0.288809  15.702526\n",
       "2017-01-03  79.366637    6.010135   1002.584677       0.017947  15.720474\n",
       "2017-01-04  79.524336    5.764507   1001.586410      -0.005596  15.714878\n",
       "2017-01-05  78.583862    5.676823   1007.998489       0.078934  15.793812\n",
       "...               ...         ...           ...            ...        ...\n",
       "2017-04-20  60.711726    6.822748   1011.068105       0.006058  17.768607\n",
       "2017-04-21  60.709242    6.822928   1011.068561       0.006047  17.774654\n",
       "2017-04-22  60.706894    6.823098   1011.068992       0.006036  17.780690\n",
       "2017-04-23  60.704677    6.823259   1011.069399       0.006026  17.786717\n",
       "2017-04-24  60.702583    6.823411   1011.069784       0.006017  17.792734\n",
       "\n",
       "[114 rows x 5 columns]"
      ]
     },
     "execution_count": 37,
     "metadata": {},
     "output_type": "execute_result"
    }
   ],
   "source": [
    "var_df"
   ]
  },
  {
   "cell_type": "code",
   "execution_count": 43,
   "metadata": {},
   "outputs": [],
   "source": [
    "from statsmodels.tsa.statespace.varmax import VARMAX"
   ]
  },
  {
   "cell_type": "markdown",
   "metadata": {},
   "source": [
    "### 2) SARIMA"
   ]
  },
  {
   "cell_type": "code",
   "execution_count": 38,
   "metadata": {},
   "outputs": [],
   "source": [
    "import itertools\n",
    "from tqdm import tqdm\n",
    "from statsmodels.tsa.statespace.sarimax import SARIMAX"
   ]
  },
  {
   "cell_type": "code",
   "execution_count": 67,
   "metadata": {},
   "outputs": [],
   "source": [
    "def get_pred(data) :\n",
    "    cols = data.columns.tolist()\n",
    "    df = pd.DataFrame()\n",
    "    for c in range(len(cols)) :\n",
    "        \n",
    "        p, q = range(1,3), range(1,3)\n",
    "        d = range(0,1)\n",
    "        P, Q = range(1,3), range(1,3)\n",
    "        D = range(1,2)\n",
    "        m = 12\n",
    "        trend_pdq = list(itertools.product(p, d, q))\n",
    "        seasonal_pdq = [(candi[0], candi[1], candi[2], m) for candi in list(itertools.product(P, D, Q))]\n",
    "        ## SARIMAX\n",
    "        AIC = []\n",
    "        SARIMAX_order = []\n",
    "        for trend_param in tqdm(trend_pdq):\n",
    "            for seasonal_params in seasonal_pdq:\n",
    "                try:\n",
    "                    result = SARIMAX(data[cols[c]], trend = 'c', \n",
    "                                           order = trend_param, seasonal_order = seasonal_params,\n",
    "                                     exog = data.drop(cols[c], axis = 1)).fit()\n",
    "                    AIC.append(result.aic)\n",
    "                    SARIMAX_order.append([trend_param, seasonal_params])\n",
    "                except:\n",
    "                    continue\n",
    "        print('The smallest AIC is {} for model SARIMAX{}x{}'.format(min(AIC), SARIMAX_order[AIC.index(min(AIC))][0],\n",
    "                                                                     SARIMAX_order[AIC.index(min(AIC))][1]))\n",
    "        \n",
    "        fit_ts_sarimax = SARIMAX(data[cols[c]], trend = 'c', order = SARIMAX_order[AIC.index(min(AIC))][0], \n",
    "                                seasonal_order = SARIMAX_order[AIC.index(min(AIC))][1],\n",
    "                                        exog = data.drop(cols[c], axis = 1)).fit()\n",
    "        pred = fit_ts_sarimax.get_prediction(start = for_index[0], end = for_index[-1],\n",
    "                                     exog = data.drop(cols[c], axis = 1).values[-for_steps:])\n",
    "        pred = pred.predicted_mean\n",
    "        df[cols[c]] = pred\n",
    "        plt.title(f'{cols[c]}', size = 15)\n",
    "        fit_ts_sarimax.plot_diagnostics(figsize = (16,10))\n",
    "        plt.show()\n",
    "    return df"
   ]
  },
  {
   "cell_type": "code",
   "execution_count": 3,
   "metadata": {
    "scrolled": false
   },
   "outputs": [],
   "source": [
    "#sarima_df = get_pred(train.iloc[:, 1:])\n",
    "#sarima_df\n",
    "### 그래프랑 최종 예측 결과 데이터프레임 나옴"
   ]
  },
  {
   "cell_type": "code",
   "execution_count": 69,
   "metadata": {},
   "outputs": [],
   "source": [
    "sarima_df['meantemp'] = tr_diff_mt + sarima_df['diff_meantemp'].cumsum()"
   ]
  },
  {
   "cell_type": "code",
   "execution_count": 70,
   "metadata": {
    "scrolled": true
   },
   "outputs": [
    {
     "data": {
      "text/html": [
       "<div>\n",
       "<style scoped>\n",
       "    .dataframe tbody tr th:only-of-type {\n",
       "        vertical-align: middle;\n",
       "    }\n",
       "\n",
       "    .dataframe tbody tr th {\n",
       "        vertical-align: top;\n",
       "    }\n",
       "\n",
       "    .dataframe thead th {\n",
       "        text-align: right;\n",
       "    }\n",
       "</style>\n",
       "<table border=\"1\" class=\"dataframe\">\n",
       "  <thead>\n",
       "    <tr style=\"text-align: right;\">\n",
       "      <th></th>\n",
       "      <th>humidity</th>\n",
       "      <th>wind_speed</th>\n",
       "      <th>meanpressure</th>\n",
       "      <th>diff_meantemp</th>\n",
       "      <th>meantemp</th>\n",
       "    </tr>\n",
       "  </thead>\n",
       "  <tbody>\n",
       "    <tr>\n",
       "      <th>2017-01-01</th>\n",
       "      <td>86.748495</td>\n",
       "      <td>10.526531</td>\n",
       "      <td>1009.844017</td>\n",
       "      <td>-0.085136</td>\n",
       "      <td>14.967495</td>\n",
       "    </tr>\n",
       "    <tr>\n",
       "      <th>2017-01-02</th>\n",
       "      <td>78.449881</td>\n",
       "      <td>9.682451</td>\n",
       "      <td>1007.866971</td>\n",
       "      <td>-0.031202</td>\n",
       "      <td>14.936293</td>\n",
       "    </tr>\n",
       "    <tr>\n",
       "      <th>2017-01-03</th>\n",
       "      <td>79.455957</td>\n",
       "      <td>8.914722</td>\n",
       "      <td>1004.278528</td>\n",
       "      <td>-0.004787</td>\n",
       "      <td>14.931506</td>\n",
       "    </tr>\n",
       "    <tr>\n",
       "      <th>2017-01-04</th>\n",
       "      <td>77.390252</td>\n",
       "      <td>8.203664</td>\n",
       "      <td>1011.455595</td>\n",
       "      <td>-0.173334</td>\n",
       "      <td>14.758172</td>\n",
       "    </tr>\n",
       "    <tr>\n",
       "      <th>2017-01-05</th>\n",
       "      <td>78.147833</td>\n",
       "      <td>7.743537</td>\n",
       "      <td>1001.537909</td>\n",
       "      <td>0.303997</td>\n",
       "      <td>15.062169</td>\n",
       "    </tr>\n",
       "    <tr>\n",
       "      <th>...</th>\n",
       "      <td>...</td>\n",
       "      <td>...</td>\n",
       "      <td>...</td>\n",
       "      <td>...</td>\n",
       "      <td>...</td>\n",
       "    </tr>\n",
       "    <tr>\n",
       "      <th>2017-04-20</th>\n",
       "      <td>58.748333</td>\n",
       "      <td>6.278469</td>\n",
       "      <td>1012.170237</td>\n",
       "      <td>0.001154</td>\n",
       "      <td>8.654235</td>\n",
       "    </tr>\n",
       "    <tr>\n",
       "      <th>2017-04-21</th>\n",
       "      <td>58.751864</td>\n",
       "      <td>5.789058</td>\n",
       "      <td>1007.570613</td>\n",
       "      <td>-0.021379</td>\n",
       "      <td>8.632856</td>\n",
       "    </tr>\n",
       "    <tr>\n",
       "      <th>2017-04-22</th>\n",
       "      <td>62.791560</td>\n",
       "      <td>3.655993</td>\n",
       "      <td>1016.640661</td>\n",
       "      <td>-0.307301</td>\n",
       "      <td>8.325556</td>\n",
       "    </tr>\n",
       "    <tr>\n",
       "      <th>2017-04-23</th>\n",
       "      <td>61.215532</td>\n",
       "      <td>2.451952</td>\n",
       "      <td>1003.379775</td>\n",
       "      <td>0.013451</td>\n",
       "      <td>8.339007</td>\n",
       "    </tr>\n",
       "    <tr>\n",
       "      <th>2017-04-24</th>\n",
       "      <td>56.428432</td>\n",
       "      <td>2.118309</td>\n",
       "      <td>1008.844427</td>\n",
       "      <td>-0.396119</td>\n",
       "      <td>7.942888</td>\n",
       "    </tr>\n",
       "  </tbody>\n",
       "</table>\n",
       "<p>114 rows × 5 columns</p>\n",
       "</div>"
      ],
      "text/plain": [
       "             humidity  wind_speed  meanpressure  diff_meantemp   meantemp\n",
       "2017-01-01  86.748495   10.526531   1009.844017      -0.085136  14.967495\n",
       "2017-01-02  78.449881    9.682451   1007.866971      -0.031202  14.936293\n",
       "2017-01-03  79.455957    8.914722   1004.278528      -0.004787  14.931506\n",
       "2017-01-04  77.390252    8.203664   1011.455595      -0.173334  14.758172\n",
       "2017-01-05  78.147833    7.743537   1001.537909       0.303997  15.062169\n",
       "...               ...         ...           ...            ...        ...\n",
       "2017-04-20  58.748333    6.278469   1012.170237       0.001154   8.654235\n",
       "2017-04-21  58.751864    5.789058   1007.570613      -0.021379   8.632856\n",
       "2017-04-22  62.791560    3.655993   1016.640661      -0.307301   8.325556\n",
       "2017-04-23  61.215532    2.451952   1003.379775       0.013451   8.339007\n",
       "2017-04-24  56.428432    2.118309   1008.844427      -0.396119   7.942888\n",
       "\n",
       "[114 rows x 5 columns]"
      ]
     },
     "execution_count": 70,
     "metadata": {},
     "output_type": "execute_result"
    }
   ],
   "source": [
    "sarima_df"
   ]
  },
  {
   "cell_type": "markdown",
   "metadata": {},
   "source": [
    "## 1-3. 각 기법별로 사후 분석을 수행하시오."
   ]
  },
  {
   "cell_type": "code",
   "execution_count": 75,
   "metadata": {},
   "outputs": [
    {
     "data": {
      "text/plain": [
       "47.19803375112001"
      ]
     },
     "execution_count": 75,
     "metadata": {},
     "output_type": "execute_result"
    }
   ],
   "source": [
    "np.sqrt(mean_squared_error(test[cols], var_df[cols]))"
   ]
  },
  {
   "cell_type": "code",
   "execution_count": 76,
   "metadata": {
    "scrolled": true
   },
   "outputs": [
    {
     "data": {
      "text/plain": [
       "46.687905133460376"
      ]
     },
     "execution_count": 76,
     "metadata": {},
     "output_type": "execute_result"
    }
   ],
   "source": [
    "np.sqrt(mean_squared_error(test[cols], sarima_df[cols]))"
   ]
  },
  {
   "cell_type": "markdown",
   "metadata": {},
   "source": [
    "SARIMAX의 성능이 더 우수한 것으로 나타났다."
   ]
  },
  {
   "cell_type": "code",
   "execution_count": 5,
   "metadata": {},
   "outputs": [],
   "source": [
    "var_result.summary()"
   ]
  },
  {
   "cell_type": "code",
   "execution_count": 4,
   "metadata": {},
   "outputs": [],
   "source": [
    "results.plot_forecast(114)\n",
    "plt.show()"
   ]
  },
  {
   "cell_type": "markdown",
   "metadata": {},
   "source": [
    "# 2. 회귀분석\n",
    "- 예측대상 = value\n",
    "\n",
    "## 2-1. 데이터를 전처리 한 후 시각화를 진행하고 해석하시오."
   ]
  },
  {
   "cell_type": "code",
   "execution_count": 2,
   "metadata": {},
   "outputs": [],
   "source": [
    "data = pd.read_csv(\"FIFA.csv\", encoding = 'cp949')"
   ]
  },
  {
   "cell_type": "code",
   "execution_count": 3,
   "metadata": {
    "scrolled": true
   },
   "outputs": [
    {
     "data": {
      "text/html": [
       "<div>\n",
       "<style scoped>\n",
       "    .dataframe tbody tr th:only-of-type {\n",
       "        vertical-align: middle;\n",
       "    }\n",
       "\n",
       "    .dataframe tbody tr th {\n",
       "        vertical-align: top;\n",
       "    }\n",
       "\n",
       "    .dataframe thead th {\n",
       "        text-align: right;\n",
       "    }\n",
       "</style>\n",
       "<table border=\"1\" class=\"dataframe\">\n",
       "  <thead>\n",
       "    <tr style=\"text-align: right;\">\n",
       "      <th></th>\n",
       "      <th>ID</th>\n",
       "      <th>Name</th>\n",
       "      <th>Age</th>\n",
       "      <th>Nationality</th>\n",
       "      <th>Overall</th>\n",
       "      <th>Club</th>\n",
       "      <th>Preferred_Foot</th>\n",
       "      <th>Work_Rate</th>\n",
       "      <th>Position</th>\n",
       "      <th>Jersey_Number</th>\n",
       "      <th>Contract_Valid_Until</th>\n",
       "      <th>Height</th>\n",
       "      <th>Weight_lb</th>\n",
       "      <th>Release_Clause</th>\n",
       "      <th>Value</th>\n",
       "      <th>Wage</th>\n",
       "    </tr>\n",
       "  </thead>\n",
       "  <tbody>\n",
       "    <tr>\n",
       "      <th>0</th>\n",
       "      <td>158023</td>\n",
       "      <td>L. Messi</td>\n",
       "      <td>31</td>\n",
       "      <td>Argentina</td>\n",
       "      <td>94</td>\n",
       "      <td>FC Barcelona</td>\n",
       "      <td>Left</td>\n",
       "      <td>Medium/ Medium</td>\n",
       "      <td>RF</td>\n",
       "      <td>10</td>\n",
       "      <td>2021</td>\n",
       "      <td>5'7</td>\n",
       "      <td>159</td>\n",
       "      <td>226500</td>\n",
       "      <td>110500</td>\n",
       "      <td>565</td>\n",
       "    </tr>\n",
       "    <tr>\n",
       "      <th>1</th>\n",
       "      <td>20801</td>\n",
       "      <td>Cristiano Ronaldo</td>\n",
       "      <td>33</td>\n",
       "      <td>Portugal</td>\n",
       "      <td>94</td>\n",
       "      <td>Juventus</td>\n",
       "      <td>Right</td>\n",
       "      <td>High/ Low</td>\n",
       "      <td>ST</td>\n",
       "      <td>7</td>\n",
       "      <td>2022</td>\n",
       "      <td>6'2</td>\n",
       "      <td>183</td>\n",
       "      <td>127100</td>\n",
       "      <td>77000</td>\n",
       "      <td>405</td>\n",
       "    </tr>\n",
       "    <tr>\n",
       "      <th>2</th>\n",
       "      <td>190871</td>\n",
       "      <td>Neymar Jr</td>\n",
       "      <td>26</td>\n",
       "      <td>Brazil</td>\n",
       "      <td>92</td>\n",
       "      <td>Paris Saint-Germain</td>\n",
       "      <td>Right</td>\n",
       "      <td>High/ Medium</td>\n",
       "      <td>LW</td>\n",
       "      <td>10</td>\n",
       "      <td>2022</td>\n",
       "      <td>5'9</td>\n",
       "      <td>150</td>\n",
       "      <td>228100</td>\n",
       "      <td>118500</td>\n",
       "      <td>290</td>\n",
       "    </tr>\n",
       "    <tr>\n",
       "      <th>3</th>\n",
       "      <td>193080</td>\n",
       "      <td>De Gea</td>\n",
       "      <td>27</td>\n",
       "      <td>Spain</td>\n",
       "      <td>91</td>\n",
       "      <td>Manchester United</td>\n",
       "      <td>Right</td>\n",
       "      <td>Medium/ Medium</td>\n",
       "      <td>GK</td>\n",
       "      <td>1</td>\n",
       "      <td>2020</td>\n",
       "      <td>6'4</td>\n",
       "      <td>168</td>\n",
       "      <td>138600</td>\n",
       "      <td>72000</td>\n",
       "      <td>260</td>\n",
       "    </tr>\n",
       "    <tr>\n",
       "      <th>4</th>\n",
       "      <td>192985</td>\n",
       "      <td>K. De Bruyne</td>\n",
       "      <td>27</td>\n",
       "      <td>Belgium</td>\n",
       "      <td>91</td>\n",
       "      <td>Manchester City</td>\n",
       "      <td>Right</td>\n",
       "      <td>High/ High</td>\n",
       "      <td>RCM</td>\n",
       "      <td>7</td>\n",
       "      <td>2023</td>\n",
       "      <td>5'11</td>\n",
       "      <td>154</td>\n",
       "      <td>196400</td>\n",
       "      <td>102000</td>\n",
       "      <td>355</td>\n",
       "    </tr>\n",
       "  </tbody>\n",
       "</table>\n",
       "</div>"
      ],
      "text/plain": [
       "       ID               Name  Age Nationality  Overall                 Club  \\\n",
       "0  158023           L. Messi   31   Argentina       94         FC Barcelona   \n",
       "1   20801  Cristiano Ronaldo   33    Portugal       94             Juventus   \n",
       "2  190871          Neymar Jr   26      Brazil       92  Paris Saint-Germain   \n",
       "3  193080             De Gea   27       Spain       91    Manchester United   \n",
       "4  192985       K. De Bruyne   27     Belgium       91      Manchester City   \n",
       "\n",
       "  Preferred_Foot       Work_Rate Position  Jersey_Number  \\\n",
       "0           Left  Medium/ Medium       RF             10   \n",
       "1          Right       High/ Low       ST              7   \n",
       "2          Right    High/ Medium       LW             10   \n",
       "3          Right  Medium/ Medium       GK              1   \n",
       "4          Right      High/ High      RCM              7   \n",
       "\n",
       "   Contract_Valid_Until Height  Weight_lb  Release_Clause   Value  Wage  \n",
       "0                  2021    5'7        159          226500  110500   565  \n",
       "1                  2022    6'2        183          127100   77000   405  \n",
       "2                  2022    5'9        150          228100  118500   290  \n",
       "3                  2020    6'4        168          138600   72000   260  \n",
       "4                  2023   5'11        154          196400  102000   355  "
      ]
     },
     "execution_count": 3,
     "metadata": {},
     "output_type": "execute_result"
    }
   ],
   "source": [
    "data.head()"
   ]
  },
  {
   "cell_type": "code",
   "execution_count": 4,
   "metadata": {},
   "outputs": [],
   "source": [
    "def get_position(x) :\n",
    "    if x.endswith('M') :\n",
    "        return 'MF'\n",
    "    elif x.endswith('B') :\n",
    "        return 'DF'\n",
    "    elif x == 'GK' :\n",
    "        return 'GK'\n",
    "    else :\n",
    "        return 'FW'"
   ]
  },
  {
   "cell_type": "code",
   "execution_count": 5,
   "metadata": {},
   "outputs": [],
   "source": [
    "data['pos'] = data['Position'].apply(get_position)"
   ]
  },
  {
   "cell_type": "code",
   "execution_count": 6,
   "metadata": {},
   "outputs": [],
   "source": [
    "data['Height'] = data['Height'].str.replace(\"'\", '.').astype(float)"
   ]
  },
  {
   "cell_type": "code",
   "execution_count": 7,
   "metadata": {
    "scrolled": true
   },
   "outputs": [],
   "source": [
    "data['Height'] *= 30.48\n",
    "data['Weight_lb'] *= 0.453592"
   ]
  },
  {
   "cell_type": "code",
   "execution_count": 8,
   "metadata": {},
   "outputs": [],
   "source": [
    "import seaborn as sns"
   ]
  },
  {
   "cell_type": "code",
   "execution_count": 11,
   "metadata": {},
   "outputs": [
    {
     "data": {
      "image/png": "[encoded data removed]",
      "text/plain": [
       "<Figure size 432x288 with 2 Axes>"
      ]
     },
     "metadata": {
      "needs_background": "light"
     },
     "output_type": "display_data"
    }
   ],
   "source": [
    "sns.heatmap(data.corr(), annot = True, fmt = '.2f')\n",
    "plt.show()"
   ]
  },
  {
   "cell_type": "markdown",
   "metadata": {},
   "source": [
    "Release_Clause는 value와 상관관계가 너무 높아 삭제한다."
   ]
  },
  {
   "cell_type": "code",
   "execution_count": 12,
   "metadata": {},
   "outputs": [],
   "source": [
    "data.drop('Release_Clause', axis = 1, inplace = True)"
   ]
  },
  {
   "cell_type": "code",
   "execution_count": 13,
   "metadata": {},
   "outputs": [],
   "source": [
    "q1 = data.Wage.quantile(.25)\n",
    "q3 = data.Wage.quantile(.75)"
   ]
  },
  {
   "cell_type": "code",
   "execution_count": 14,
   "metadata": {},
   "outputs": [],
   "source": [
    "q = q3 - q1"
   ]
  },
  {
   "cell_type": "code",
   "execution_count": 15,
   "metadata": {
    "scrolled": false
   },
   "outputs": [
    {
     "data": {
      "text/plain": [
       "18.5"
      ]
     },
     "execution_count": 15,
     "metadata": {},
     "output_type": "execute_result"
    }
   ],
   "source": [
    "q3 + 1.5 * q"
   ]
  },
  {
   "cell_type": "code",
   "execution_count": 16,
   "metadata": {
    "scrolled": true
   },
   "outputs": [
    {
     "data": {
      "text/plain": [
       "-9.5"
      ]
     },
     "execution_count": 16,
     "metadata": {},
     "output_type": "execute_result"
    }
   ],
   "source": [
    "q1 - 1.5 * q"
   ]
  },
  {
   "cell_type": "code",
   "execution_count": 17,
   "metadata": {},
   "outputs": [],
   "source": [
    "data = data[data.Wage < q3 + 1.5 * q]"
   ]
  },
  {
   "cell_type": "code",
   "execution_count": 18,
   "metadata": {
    "scrolled": false
   },
   "outputs": [
    {
     "data": {
      "text/plain": [
       "<AxesSubplot:xlabel='Wage', ylabel='Density'>"
      ]
     },
     "execution_count": 18,
     "metadata": {},
     "output_type": "execute_result"
    },
    {
     "data": {
      "image/png": "[encoded data removed]",
      "text/plain": [
       "<Figure size 432x288 with 1 Axes>"
      ]
     },
     "metadata": {
      "needs_background": "light"
     },
     "output_type": "display_data"
    }
   ],
   "source": [
    "sns.distplot(data.Wage)"
   ]
  },
  {
   "cell_type": "code",
   "execution_count": 19,
   "metadata": {},
   "outputs": [
    {
     "data": {
      "image/png": "[encoded data removed]",
      "text/plain": [
       "<Figure size 432x288 with 1 Axes>"
      ]
     },
     "metadata": {
      "needs_background": "light"
     },
     "output_type": "display_data"
    }
   ],
   "source": [
    "sns.scatterplot(data.Age, data.Value)\n",
    "plt.show()"
   ]
  },
  {
   "cell_type": "code",
   "execution_count": 20,
   "metadata": {
    "scrolled": true
   },
   "outputs": [
    {
     "data": {
      "image/png": "[encoded data removed]",
      "text/plain": [
       "<Figure size 432x288 with 1 Axes>"
      ]
     },
     "metadata": {
      "needs_background": "light"
     },
     "output_type": "display_data"
    }
   ],
   "source": [
    "sns.scatterplot(data.Wage, data.Value)\n",
    "sns.regplot(data.Wage, data.Value, color = 'r', scatter = False)\n",
    "plt.show()"
   ]
  },
  {
   "cell_type": "code",
   "execution_count": 22,
   "metadata": {
    "scrolled": true
   },
   "outputs": [
    {
     "name": "stdout",
     "output_type": "stream",
     "text": [
      "Int64Index([], dtype='int64')\n",
      "Int64Index([], dtype='int64')\n",
      "Int64Index([], dtype='int64')\n",
      "Int64Index([4308, 6532, 9529, 13988], dtype='int64')\n",
      "Int64Index([], dtype='int64')\n"
     ]
    }
   ],
   "source": [
    "print(data[(data.Age < 20) & (data.Value > 50000)].index)\n",
    "print(data[(data.Age < 30) & (data.Value > 80000)].index)\n",
    "print(data[(data.Age > 30) & (data.Value > 60000)].index)\n",
    "print(data[data.Age > 40].index)\n",
    "print(data[(data.Wage < 300) & (data.Value > 80000)].index)"
   ]
  },
  {
   "cell_type": "code",
   "execution_count": 23,
   "metadata": {},
   "outputs": [],
   "source": [
    "data = data.query(\"index not in [4308,6532,9529,13988]\")"
   ]
  },
  {
   "cell_type": "code",
   "execution_count": 24,
   "metadata": {
    "scrolled": true
   },
   "outputs": [
    {
     "data": {
      "image/png": "[encoded data removed]",
      "text/plain": [
       "<Figure size 432x288 with 1 Axes>"
      ]
     },
     "metadata": {
      "needs_background": "light"
     },
     "output_type": "display_data"
    }
   ],
   "source": [
    "sns.distplot(data['Value'])\n",
    "plt.show()"
   ]
  },
  {
   "cell_type": "markdown",
   "metadata": {},
   "source": [
    "이적료가 대부분 20000 이하에 분포되어 있으며 이상치도 존재하는 것으로 나타났다."
   ]
  },
  {
   "cell_type": "code",
   "execution_count": 25,
   "metadata": {},
   "outputs": [
    {
     "data": {
      "image/png": "[encoded data removed]",
      "text/plain": [
       "<Figure size 720x432 with 1 Axes>"
      ]
     },
     "metadata": {
      "needs_background": "light"
     },
     "output_type": "display_data"
    }
   ],
   "source": [
    "plt.figure(figsize = (10, 6))\n",
    "sns.countplot(y = data.Position, edgecolor = (0, 0, 0))\n",
    "plt.show()"
   ]
  },
  {
   "cell_type": "markdown",
   "metadata": {},
   "source": [
    "ST, GK, CB, CM 순으로 선수들이 많은 것을 알 수 있다."
   ]
  },
  {
   "cell_type": "code",
   "execution_count": 26,
   "metadata": {},
   "outputs": [
    {
     "data": {
      "image/png": "[encoded data removed]",
      "text/plain": [
       "<Figure size 432x288 with 1 Axes>"
      ]
     },
     "metadata": {
      "needs_background": "light"
     },
     "output_type": "display_data"
    }
   ],
   "source": [
    "sns.scatterplot(data.Overall, data.Value)\n",
    "plt.show()"
   ]
  },
  {
   "cell_type": "markdown",
   "metadata": {},
   "source": [
    "선수 개인 기량이 뛰어날수록 이적료가 높은 것으로 나타났다.\n",
    "\n",
    "## 2-2. 변수 선택법 중 하나를 택하여 최적의 회귀 모형을 탐색한 후 추정된 회귀식을 해석하시오."
   ]
  },
  {
   "cell_type": "code",
   "execution_count": 27,
   "metadata": {},
   "outputs": [],
   "source": [
    "import statsmodels.api as sm\n",
    "from statsmodels.formula.api import ols"
   ]
  },
  {
   "cell_type": "code",
   "execution_count": 28,
   "metadata": {},
   "outputs": [],
   "source": [
    "y = data.Value\n",
    "X = data[['Age', 'Overall', 'Contract_Valid_Until', 'Height', 'pos', 'Wage', 'Weight_lb']]\n",
    "X = sm.add_constant(X)"
   ]
  },
  {
   "cell_type": "code",
   "execution_count": 104,
   "metadata": {},
   "outputs": [],
   "source": [
    "X = pd.get_dummies(columns = ['pos'], data = X)"
   ]
  },
  {
   "cell_type": "code",
   "execution_count": 30,
   "metadata": {},
   "outputs": [],
   "source": [
    "from statsmodels.stats.outliers_influence import variance_inflation_factor"
   ]
  },
  {
   "cell_type": "code",
   "execution_count": 33,
   "metadata": {},
   "outputs": [
    {
     "data": {
      "text/html": [
       "<div>\n",
       "<style scoped>\n",
       "    .dataframe tbody tr th:only-of-type {\n",
       "        vertical-align: middle;\n",
       "    }\n",
       "\n",
       "    .dataframe tbody tr th {\n",
       "        vertical-align: top;\n",
       "    }\n",
       "\n",
       "    .dataframe thead th {\n",
       "        text-align: right;\n",
       "    }\n",
       "</style>\n",
       "<table border=\"1\" class=\"dataframe\">\n",
       "  <thead>\n",
       "    <tr style=\"text-align: right;\">\n",
       "      <th></th>\n",
       "      <th>컬럼</th>\n",
       "      <th>VIF</th>\n",
       "    </tr>\n",
       "  </thead>\n",
       "  <tbody>\n",
       "    <tr>\n",
       "      <th>0</th>\n",
       "      <td>Age</td>\n",
       "      <td>1.474779</td>\n",
       "    </tr>\n",
       "    <tr>\n",
       "      <th>1</th>\n",
       "      <td>Overall</td>\n",
       "      <td>2.177902</td>\n",
       "    </tr>\n",
       "    <tr>\n",
       "      <th>2</th>\n",
       "      <td>Contract_Valid_Until</td>\n",
       "      <td>1.075918</td>\n",
       "    </tr>\n",
       "    <tr>\n",
       "      <th>3</th>\n",
       "      <td>Height</td>\n",
       "      <td>1.249484</td>\n",
       "    </tr>\n",
       "    <tr>\n",
       "      <th>4</th>\n",
       "      <td>Wage</td>\n",
       "      <td>1.714767</td>\n",
       "    </tr>\n",
       "    <tr>\n",
       "      <th>5</th>\n",
       "      <td>Weight_lb</td>\n",
       "      <td>1.318628</td>\n",
       "    </tr>\n",
       "  </tbody>\n",
       "</table>\n",
       "</div>"
      ],
      "text/plain": [
       "                     컬럼       VIF\n",
       "0                   Age  1.474779\n",
       "1               Overall  2.177902\n",
       "2  Contract_Valid_Until  1.075918\n",
       "3                Height  1.249484\n",
       "4                  Wage  1.714767\n",
       "5             Weight_lb  1.318628"
      ]
     },
     "execution_count": 33,
     "metadata": {},
     "output_type": "execute_result"
    }
   ],
   "source": [
    "pd.DataFrame({'컬럼': column, 'VIF': variance_inflation_factor(X.drop('pos', axis = 1).values, i)} \n",
    "             for i, column in enumerate(X.drop('pos', axis =1 ).columns.tolist())\n",
    "             if column != 'const')  # 절편의 VIF는 구하지 않는다."
   ]
  },
  {
   "cell_type": "code",
   "execution_count": 44,
   "metadata": {},
   "outputs": [
    {
     "data": {
      "text/html": [
       "<table class=\"simpletable\">\n",
       "<caption>OLS Regression Results</caption>\n",
       "<tr>\n",
       "  <th>Dep. Variable:</th>          <td>Value</td>      <th>  R-squared:         </th>  <td>   0.474</td>  \n",
       "</tr>\n",
       "<tr>\n",
       "  <th>Model:</th>                   <td>OLS</td>       <th>  Adj. R-squared:    </th>  <td>   0.474</td>  \n",
       "</tr>\n",
       "<tr>\n",
       "  <th>Method:</th>             <td>Least Squares</td>  <th>  F-statistic:       </th>  <td>   2175.</td>  \n",
       "</tr>\n",
       "<tr>\n",
       "  <th>Date:</th>             <td>Fri, 04 Jun 2021</td> <th>  Prob (F-statistic):</th>   <td>  0.00</td>   \n",
       "</tr>\n",
       "<tr>\n",
       "  <th>Time:</th>                 <td>22:49:32</td>     <th>  Log-Likelihood:    </th> <td>-1.2451e+05</td>\n",
       "</tr>\n",
       "<tr>\n",
       "  <th>No. Observations:</th>      <td> 14494</td>      <th>  AIC:               </th>  <td>2.490e+05</td> \n",
       "</tr>\n",
       "<tr>\n",
       "  <th>Df Residuals:</th>          <td> 14487</td>      <th>  BIC:               </th>  <td>2.491e+05</td> \n",
       "</tr>\n",
       "<tr>\n",
       "  <th>Df Model:</th>              <td>     6</td>      <th>                     </th>      <td> </td>     \n",
       "</tr>\n",
       "<tr>\n",
       "  <th>Covariance Type:</th>      <td>nonrobust</td>    <th>                     </th>      <td> </td>     \n",
       "</tr>\n",
       "</table>\n",
       "<table class=\"simpletable\">\n",
       "<tr>\n",
       "        <td></td>          <th>coef</th>     <th>std err</th>      <th>t</th>      <th>P>|t|</th>  <th>[0.025</th>    <th>0.975]</th>  \n",
       "</tr>\n",
       "<tr>\n",
       "  <th>Intercept</th>    <td>-9123.8841</td> <td>  205.392</td> <td>  -44.422</td> <td> 0.000</td> <td>-9526.479</td> <td>-8721.289</td>\n",
       "</tr>\n",
       "<tr>\n",
       "  <th>C(pos)[T.FW]</th> <td>  279.9345</td> <td>   31.908</td> <td>    8.773</td> <td> 0.000</td> <td>  217.390</td> <td>  342.479</td>\n",
       "</tr>\n",
       "<tr>\n",
       "  <th>C(pos)[T.GK]</th> <td>   99.1748</td> <td>   37.439</td> <td>    2.649</td> <td> 0.008</td> <td>   25.790</td> <td>  172.560</td>\n",
       "</tr>\n",
       "<tr>\n",
       "  <th>C(pos)[T.MF]</th> <td>  301.7444</td> <td>   26.391</td> <td>   11.434</td> <td> 0.000</td> <td>  250.014</td> <td>  353.474</td>\n",
       "</tr>\n",
       "<tr>\n",
       "  <th>Wage</th>         <td>  111.9688</td> <td>    3.523</td> <td>   31.786</td> <td> 0.000</td> <td>  105.064</td> <td>  118.874</td>\n",
       "</tr>\n",
       "<tr>\n",
       "  <th>Overall</th>      <td>  150.7820</td> <td>    2.401</td> <td>   62.789</td> <td> 0.000</td> <td>  146.075</td> <td>  155.489</td>\n",
       "</tr>\n",
       "<tr>\n",
       "  <th>Height</th>       <td>   -0.5636</td> <td>    0.844</td> <td>   -0.668</td> <td> 0.504</td> <td>   -2.218</td> <td>    1.091</td>\n",
       "</tr>\n",
       "</table>\n",
       "<table class=\"simpletable\">\n",
       "<tr>\n",
       "  <th>Omnibus:</th>       <td>13861.730</td> <th>  Durbin-Watson:     </th>  <td>   0.597</td> \n",
       "</tr>\n",
       "<tr>\n",
       "  <th>Prob(Omnibus):</th>  <td> 0.000</td>   <th>  Jarque-Bera (JB):  </th> <td>976627.616</td>\n",
       "</tr>\n",
       "<tr>\n",
       "  <th>Skew:</th>           <td> 4.511</td>   <th>  Prob(JB):          </th>  <td>    0.00</td> \n",
       "</tr>\n",
       "<tr>\n",
       "  <th>Kurtosis:</th>       <td>42.189</td>   <th>  Cond. No.          </th>  <td>3.58e+03</td> \n",
       "</tr>\n",
       "</table><br/><br/>Notes:<br/>[1] Standard Errors assume that the covariance matrix of the errors is correctly specified.<br/>[2] The condition number is large, 3.58e+03. This might indicate that there are<br/>strong multicollinearity or other numerical problems."
      ],
      "text/plain": [
       "<class 'statsmodels.iolib.summary.Summary'>\n",
       "\"\"\"\n",
       "                            OLS Regression Results                            \n",
       "==============================================================================\n",
       "Dep. Variable:                  Value   R-squared:                       0.474\n",
       "Model:                            OLS   Adj. R-squared:                  0.474\n",
       "Method:                 Least Squares   F-statistic:                     2175.\n",
       "Date:                Fri, 04 Jun 2021   Prob (F-statistic):               0.00\n",
       "Time:                        22:49:32   Log-Likelihood:            -1.2451e+05\n",
       "No. Observations:               14494   AIC:                         2.490e+05\n",
       "Df Residuals:                   14487   BIC:                         2.491e+05\n",
       "Df Model:                           6                                         \n",
       "Covariance Type:            nonrobust                                         \n",
       "================================================================================\n",
       "                   coef    std err          t      P>|t|      [0.025      0.975]\n",
       "--------------------------------------------------------------------------------\n",
       "Intercept    -9123.8841    205.392    -44.422      0.000   -9526.479   -8721.289\n",
       "C(pos)[T.FW]   279.9345     31.908      8.773      0.000     217.390     342.479\n",
       "C(pos)[T.GK]    99.1748     37.439      2.649      0.008      25.790     172.560\n",
       "C(pos)[T.MF]   301.7444     26.391     11.434      0.000     250.014     353.474\n",
       "Wage           111.9688      3.523     31.786      0.000     105.064     118.874\n",
       "Overall        150.7820      2.401     62.789      0.000     146.075     155.489\n",
       "Height          -0.5636      0.844     -0.668      0.504      -2.218       1.091\n",
       "==============================================================================\n",
       "Omnibus:                    13861.730   Durbin-Watson:                   0.597\n",
       "Prob(Omnibus):                  0.000   Jarque-Bera (JB):           976627.616\n",
       "Skew:                           4.511   Prob(JB):                         0.00\n",
       "Kurtosis:                      42.189   Cond. No.                     3.58e+03\n",
       "==============================================================================\n",
       "\n",
       "Notes:\n",
       "[1] Standard Errors assume that the covariance matrix of the errors is correctly specified.\n",
       "[2] The condition number is large, 3.58e+03. This might indicate that there are\n",
       "strong multicollinearity or other numerical problems.\n",
       "\"\"\""
      ]
     },
     "execution_count": 44,
     "metadata": {},
     "output_type": "execute_result"
    }
   ],
   "source": [
    "ols('Value ~ C(pos) + Wage + Overall + Height', data = data).fit().summary()"
   ]
  },
  {
   "cell_type": "code",
   "execution_count": 107,
   "metadata": {},
   "outputs": [
    {
     "name": "stdout",
     "output_type": "stream",
     "text": [
      "\n",
      "1번째 탐색\n",
      "변수 추가 전 AIC는 258335.359441169\n",
      "Age 추가 되었을 때 AIC는 258263.9177\n",
      "Overall 추가 되었을 때 AIC는 250200.8077\n",
      "Contract_Valid_Until 추가 되었을 때 AIC는 257878.1477\n",
      "Height 추가 되었을 때 AIC는 258337.2742\n",
      "Wage 추가 되었을 때 AIC는 252631.7833\n",
      "Weight_lb 추가 되었을 때 AIC는 258333.101\n",
      "pos_DF 추가 되었을 때 AIC는 258298.6246\n",
      "pos_FW 추가 되었을 때 AIC는 258323.5242\n",
      "pos_GK 추가 되었을 때 AIC는 258252.3515\n",
      "pos_MF 추가 되었을 때 AIC는 258250.9768\n",
      "추가될 변수는 Overall\n",
      "1\n",
      "\n",
      "2번째 탐색\n",
      "250200.80765114306\n",
      "Age추가 되었을 때 AIC는 247787.56356152165\n",
      "Contract_Valid_Until추가 되었을 때 AIC는 249888.28128944786\n",
      "Height추가 되었을 때 AIC는 250186.93160421506\n",
      "Wage추가 되었을 때 AIC는 249193.87456174224\n",
      "Weight_lb추가 되었을 때 AIC는 250046.11035298102\n",
      "pos_DF추가 되었을 때 AIC는 250054.64180309756\n",
      "pos_FW추가 되었을 때 AIC는 250167.8597661429\n",
      "pos_GK추가 되었을 때 AIC는 250191.38763833552\n",
      "pos_MF추가 되었을 때 AIC는 250115.063904226\n",
      "추가될 feature는 Age\n",
      "\n",
      "3번째 탐색\n",
      "247787.56356152165\n",
      "Contract_Valid_Until추가 되었을 때 AIC는 247742.1258128542\n",
      "Height추가 되었을 때 AIC는 247785.14136337844\n",
      "Wage추가 되었을 때 AIC는 246899.8490607175\n",
      "Weight_lb추가 되었을 때 AIC는 247773.24683341396\n",
      "pos_DF추가 되었을 때 AIC는 247665.60433901072\n",
      "pos_FW추가 되었을 때 AIC는 247775.07925208384\n",
      "pos_GK추가 되었을 때 AIC는 247783.0563000579\n",
      "pos_MF추가 되었을 때 AIC는 247752.6593150508\n",
      "추가될 feature는 Wage\n",
      "\n",
      "4번째 탐색\n",
      "246899.8490607175\n",
      "Contract_Valid_Until추가 되었을 때 AIC는 246865.97555317444\n",
      "Height추가 되었을 때 AIC는 246899.07174396294\n",
      "Weight_lb추가 되었을 때 AIC는 246888.90800045704\n",
      "pos_DF추가 되었을 때 AIC는 246794.90823990345\n",
      "pos_FW추가 되었을 때 AIC는 246895.2727782458\n",
      "pos_GK추가 되었을 때 AIC는 246892.95566978247\n",
      "pos_MF추가 되었을 때 AIC는 246865.8125985469\n",
      "추가될 feature는 pos_DF\n",
      "\n",
      "5번째 탐색\n",
      "246794.90823990345\n",
      "Contract_Valid_Until추가 되었을 때 AIC는 246762.24547049263\n",
      "Height추가 되었을 때 AIC는 246796.11686978792\n",
      "Weight_lb추가 되었을 때 AIC는 246790.46401189273\n",
      "pos_FW추가 되었을 때 AIC는 246796.23153055378\n",
      "pos_GK추가 되었을 때 AIC는 246796.8354764717\n",
      "pos_MF추가 되었을 때 AIC는 246796.62979115773\n",
      "추가될 feature는 Contract_Valid_Until\n",
      "\n",
      "6번째 탐색\n",
      "246762.24547049263\n",
      "Height추가 되었을 때 AIC는 246763.3937490335\n",
      "Weight_lb추가 되었을 때 AIC는 246758.0455368922\n",
      "pos_FW추가 되었을 때 AIC는 246763.52047529293\n",
      "pos_GK추가 되었을 때 AIC는 246764.20607984887\n",
      "pos_MF추가 되었을 때 AIC는 246763.87582133728\n",
      "추가될 feature는 Weight_lb\n",
      "\n",
      "7번째 탐색\n",
      "246758.0455368922\n",
      "Height추가 되었을 때 AIC는 246760.00908666058\n",
      "pos_FW추가 되었을 때 AIC는 246759.46648015094\n",
      "pos_GK추가 되었을 때 AIC는 246758.38939851115\n",
      "pos_MF추가 되었을 때 AIC는 246759.98821406544\n",
      "****************************************************************************************************\n",
      "최종 선택 변수들은 ['const', 'Overall', 'Age', 'Wage', 'pos_DF', 'Contract_Valid_Until', 'Weight_lb']이다.\n"
     ]
    }
   ],
   "source": [
    "add_feature = ['const']\n",
    "aic_list = []\n",
    "target_cols = X.columns[1:].tolist()\n",
    "i = 0\n",
    "while True :\n",
    "    i += 1\n",
    "    print(f'\\n{i}번째 탐색')\n",
    "    if i == 1 :\n",
    "        \n",
    "        before_model = sm.OLS(y, X[['const']]).fit()\n",
    "        before_aic = before_model.aic\n",
    "        print(f'변수 추가 전 AIC는 {before_aic}')\n",
    "        for c in target_cols :\n",
    "            after_model = sm.OLS(y, X[add_feature + [c]]).fit()\n",
    "            after_aic = after_model.aic\n",
    "            print(f'{c} 추가 되었을 때 AIC는 {round(after_aic, 4)}')\n",
    "            aic_list.append(after_aic)\n",
    "        print(f'추가될 변수는 {target_cols[np.argmin(aic_list)]}')\n",
    "        add_feature.append(target_cols[np.argmin(aic_list)])\n",
    "        \n",
    "        target_cols.pop(np.argmin(aic_list))\n",
    "        print(1)\n",
    "    elif i != 1 :\n",
    "        a = []\n",
    "        before_model = sm.OLS(y, X[add_feature]).fit()\n",
    "        before_aic = before_model.aic\n",
    "        print(before_aic)\n",
    "        for c in target_cols :\n",
    "            \n",
    "            after_model = sm.OLS(y, X[add_feature + [c]]).fit()\n",
    "            after_aic = after_model.aic\n",
    "            print(f'{c}추가 되었을 때 AIC는 {after_aic}')\n",
    "            a.append(after_aic)\n",
    "            \n",
    "        try :\n",
    "            if before_aic >= np.min(a):\n",
    "                print(f'추가될 feature는 {target_cols[np.argmin(a)]}')\n",
    "                add_feature.append(target_cols[np.argmin(a)])\n",
    "                del target_cols[np.argmin(a)]\n",
    "            else :\n",
    "                break\n",
    "        except :\n",
    "            break\n",
    "print('*' * 100)\n",
    "print(f'최종 선택 변수들은 {add_feature}이다.')"
   ]
  },
  {
   "cell_type": "code",
   "execution_count": 114,
   "metadata": {},
   "outputs": [],
   "source": [
    "model = sm.OLS(y, X[add_feature])\n",
    "result = model.fit()"
   ]
  },
  {
   "cell_type": "code",
   "execution_count": 115,
   "metadata": {},
   "outputs": [
    {
     "data": {
      "text/html": [
       "<table class=\"simpletable\">\n",
       "<caption>OLS Regression Results</caption>\n",
       "<tr>\n",
       "  <th>Dep. Variable:</th>          <td>Value</td>      <th>  R-squared:         </th>  <td>   0.550</td>  \n",
       "</tr>\n",
       "<tr>\n",
       "  <th>Model:</th>                   <td>OLS</td>       <th>  Adj. R-squared:    </th>  <td>   0.550</td>  \n",
       "</tr>\n",
       "<tr>\n",
       "  <th>Method:</th>             <td>Least Squares</td>  <th>  F-statistic:       </th>  <td>   2957.</td>  \n",
       "</tr>\n",
       "<tr>\n",
       "  <th>Date:</th>             <td>Thu, 03 Jun 2021</td> <th>  Prob (F-statistic):</th>   <td>  0.00</td>   \n",
       "</tr>\n",
       "<tr>\n",
       "  <th>Time:</th>                 <td>16:40:23</td>     <th>  Log-Likelihood:    </th> <td>-1.2337e+05</td>\n",
       "</tr>\n",
       "<tr>\n",
       "  <th>No. Observations:</th>      <td> 14494</td>      <th>  AIC:               </th>  <td>2.468e+05</td> \n",
       "</tr>\n",
       "<tr>\n",
       "  <th>Df Residuals:</th>          <td> 14487</td>      <th>  BIC:               </th>  <td>2.468e+05</td> \n",
       "</tr>\n",
       "<tr>\n",
       "  <th>Df Model:</th>              <td>     6</td>      <th>                     </th>      <td> </td>     \n",
       "</tr>\n",
       "<tr>\n",
       "  <th>Covariance Type:</th>      <td>nonrobust</td>    <th>                     </th>      <td> </td>     \n",
       "</tr>\n",
       "</table>\n",
       "<table class=\"simpletable\">\n",
       "<tr>\n",
       "            <td></td>              <th>coef</th>     <th>std err</th>      <th>t</th>      <th>P>|t|</th>  <th>[0.025</th>    <th>0.975]</th>  \n",
       "</tr>\n",
       "<tr>\n",
       "  <th>const</th>                <td>-1.064e+05</td> <td> 1.65e+04</td> <td>   -6.428</td> <td> 0.000</td> <td>-1.39e+05</td> <td>-7.39e+04</td>\n",
       "</tr>\n",
       "<tr>\n",
       "  <th>Overall</th>              <td>  204.4239</td> <td>    2.505</td> <td>   81.614</td> <td> 0.000</td> <td>  199.514</td> <td>  209.334</td>\n",
       "</tr>\n",
       "<tr>\n",
       "  <th>Age</th>                  <td> -116.0924</td> <td>    2.541</td> <td>  -45.687</td> <td> 0.000</td> <td> -121.073</td> <td> -111.112</td>\n",
       "</tr>\n",
       "<tr>\n",
       "  <th>Wage</th>                 <td>   97.2424</td> <td>    3.268</td> <td>   29.754</td> <td> 0.000</td> <td>   90.836</td> <td>  103.649</td>\n",
       "</tr>\n",
       "<tr>\n",
       "  <th>pos_DF</th>               <td> -214.4452</td> <td>   21.479</td> <td>   -9.984</td> <td> 0.000</td> <td> -256.547</td> <td> -172.343</td>\n",
       "</tr>\n",
       "<tr>\n",
       "  <th>Contract_Valid_Until</th> <td>   48.0924</td> <td>    8.195</td> <td>    5.869</td> <td> 0.000</td> <td>   32.030</td> <td>   64.155</td>\n",
       "</tr>\n",
       "<tr>\n",
       "  <th>Weight_lb</th>            <td>   -3.6657</td> <td>    1.472</td> <td>   -2.490</td> <td> 0.013</td> <td>   -6.552</td> <td>   -0.780</td>\n",
       "</tr>\n",
       "</table>\n",
       "<table class=\"simpletable\">\n",
       "<tr>\n",
       "  <th>Omnibus:</th>       <td>14125.666</td> <th>  Durbin-Watson:     </th>  <td>   0.536</td>  \n",
       "</tr>\n",
       "<tr>\n",
       "  <th>Prob(Omnibus):</th>  <td> 0.000</td>   <th>  Jarque-Bera (JB):  </th> <td>1085458.504</td>\n",
       "</tr>\n",
       "<tr>\n",
       "  <th>Skew:</th>           <td> 4.624</td>   <th>  Prob(JB):          </th>  <td>    0.00</td>  \n",
       "</tr>\n",
       "<tr>\n",
       "  <th>Kurtosis:</th>       <td>44.374</td>   <th>  Cond. No.          </th>  <td>3.35e+06</td>  \n",
       "</tr>\n",
       "</table><br/><br/>Notes:<br/>[1] Standard Errors assume that the covariance matrix of the errors is correctly specified.<br/>[2] The condition number is large, 3.35e+06. This might indicate that there are<br/>strong multicollinearity or other numerical problems."
      ],
      "text/plain": [
       "<class 'statsmodels.iolib.summary.Summary'>\n",
       "\"\"\"\n",
       "                            OLS Regression Results                            \n",
       "==============================================================================\n",
       "Dep. Variable:                  Value   R-squared:                       0.550\n",
       "Model:                            OLS   Adj. R-squared:                  0.550\n",
       "Method:                 Least Squares   F-statistic:                     2957.\n",
       "Date:                Thu, 03 Jun 2021   Prob (F-statistic):               0.00\n",
       "Time:                        16:40:23   Log-Likelihood:            -1.2337e+05\n",
       "No. Observations:               14494   AIC:                         2.468e+05\n",
       "Df Residuals:                   14487   BIC:                         2.468e+05\n",
       "Df Model:                           6                                         \n",
       "Covariance Type:            nonrobust                                         \n",
       "========================================================================================\n",
       "                           coef    std err          t      P>|t|      [0.025      0.975]\n",
       "----------------------------------------------------------------------------------------\n",
       "const                -1.064e+05   1.65e+04     -6.428      0.000   -1.39e+05   -7.39e+04\n",
       "Overall                204.4239      2.505     81.614      0.000     199.514     209.334\n",
       "Age                   -116.0924      2.541    -45.687      0.000    -121.073    -111.112\n",
       "Wage                    97.2424      3.268     29.754      0.000      90.836     103.649\n",
       "pos_DF                -214.4452     21.479     -9.984      0.000    -256.547    -172.343\n",
       "Contract_Valid_Until    48.0924      8.195      5.869      0.000      32.030      64.155\n",
       "Weight_lb               -3.6657      1.472     -2.490      0.013      -6.552      -0.780\n",
       "==============================================================================\n",
       "Omnibus:                    14125.666   Durbin-Watson:                   0.536\n",
       "Prob(Omnibus):                  0.000   Jarque-Bera (JB):          1085458.504\n",
       "Skew:                           4.624   Prob(JB):                         0.00\n",
       "Kurtosis:                      44.374   Cond. No.                     3.35e+06\n",
       "==============================================================================\n",
       "\n",
       "Notes:\n",
       "[1] Standard Errors assume that the covariance matrix of the errors is correctly specified.\n",
       "[2] The condition number is large, 3.35e+06. This might indicate that there are\n",
       "strong multicollinearity or other numerical problems.\n",
       "\"\"\""
      ]
     },
     "execution_count": 115,
     "metadata": {},
     "output_type": "execute_result"
    }
   ],
   "source": [
    "result.summary()"
   ]
  },
  {
   "cell_type": "markdown",
   "metadata": {},
   "source": [
    "전진선택법을 이용한 변수 선택을 수행한 후 선택된 변수들로 회귀분석을 수행한 결과 const, Release_Clause, Overall, Wage, pos_DF, Age, pos_FW, pos_GK, pos_MF변수들은 유의수준 0.05 하에서 모두 통계적으로 유의한 것으로 나타났다.\n",
    "\n",
    "모형의 결정계수는 0.99로 매우 높게 나타났고 이는 회귀식이 전체 데이터의 약 99%를 설명하고 있다. 또한 회귀모형에 대한 F통계량은 2.245e+5로 매우 높고 유의확률은 0.05 보다 작아 모형이 통계적으로 유의한 것을 알 수 있다. \n",
    "\n",
    "또한 더빈-왓슨 통계량의 경우 1.927로 2에 가깝기 때문에 잔차의 자기상관이 없음을 의미한다."
   ]
  },
  {
   "cell_type": "code",
   "execution_count": 110,
   "metadata": {},
   "outputs": [],
   "source": [
    "from itertools import combinations"
   ]
  },
  {
   "cell_type": "code",
   "execution_count": 117,
   "metadata": {},
   "outputs": [],
   "source": [
    "cp_list = []\n",
    "aic_list = []\n",
    "bic_list = []\n",
    "variables = []\n",
    "cnt_variable = []\n",
    "sst = np.sum(np.square((data.Value - np.mean(data.Value))))\n",
    "for n in range(1, len(add_feature[1:]) + 1) :\n",
    "    \n",
    "    for c in combinations(add_feature[1:], n) :\n",
    "        exp = '+'.join(c)\n",
    "        ols_exp = 'Value ~ ' + exp\n",
    "        model = ols(ols_exp, data = pd.concat([X, y], axis = 1))\n",
    "        result = model.fit()\n",
    "        mse = result.mse_resid\n",
    "        sse = np.sum(np.square(result.resid))\n",
    "        cp = sse / mse - (data.shape[0] - 2 * (len(model.exog_names) + 1))\n",
    "        cp_list.append(cp)\n",
    "        variables.append(c)\n",
    "        aic = result.aic # n * np.log(sse) - n * np.log(n) + 2 * p\n",
    "        bic = result.bic # n * np.log(sse) - n * np.log(n) + n * np.log(n) * p\n",
    "        aic_list.append(aic)\n",
    "        bic_list.append(bic)\n",
    "        cnt_variable.append(len(c))"
   ]
  },
  {
   "cell_type": "code",
   "execution_count": 118,
   "metadata": {},
   "outputs": [
    {
     "data": {
      "text/html": [
       "<div>\n",
       "<style scoped>\n",
       "    .dataframe tbody tr th:only-of-type {\n",
       "        vertical-align: middle;\n",
       "    }\n",
       "\n",
       "    .dataframe tbody tr th {\n",
       "        vertical-align: top;\n",
       "    }\n",
       "\n",
       "    .dataframe thead th {\n",
       "        text-align: right;\n",
       "    }\n",
       "</style>\n",
       "<table border=\"1\" class=\"dataframe\">\n",
       "  <thead>\n",
       "    <tr style=\"text-align: right;\">\n",
       "      <th></th>\n",
       "      <th>num_of_variables</th>\n",
       "      <th>variable</th>\n",
       "      <th>Cp</th>\n",
       "      <th>AIC</th>\n",
       "      <th>BIC</th>\n",
       "    </tr>\n",
       "  </thead>\n",
       "  <tbody>\n",
       "    <tr>\n",
       "      <th>0</th>\n",
       "      <td>1</td>\n",
       "      <td>(Overall,)</td>\n",
       "      <td>4.0</td>\n",
       "      <td>250200.807651</td>\n",
       "      <td>250215.970631</td>\n",
       "    </tr>\n",
       "    <tr>\n",
       "      <th>1</th>\n",
       "      <td>1</td>\n",
       "      <td>(Age,)</td>\n",
       "      <td>4.0</td>\n",
       "      <td>258263.917712</td>\n",
       "      <td>258279.080692</td>\n",
       "    </tr>\n",
       "    <tr>\n",
       "      <th>2</th>\n",
       "      <td>1</td>\n",
       "      <td>(Wage,)</td>\n",
       "      <td>4.0</td>\n",
       "      <td>252631.783264</td>\n",
       "      <td>252646.946244</td>\n",
       "    </tr>\n",
       "    <tr>\n",
       "      <th>3</th>\n",
       "      <td>1</td>\n",
       "      <td>(pos_DF,)</td>\n",
       "      <td>4.0</td>\n",
       "      <td>258298.624634</td>\n",
       "      <td>258313.787614</td>\n",
       "    </tr>\n",
       "    <tr>\n",
       "      <th>4</th>\n",
       "      <td>1</td>\n",
       "      <td>(Contract_Valid_Until,)</td>\n",
       "      <td>4.0</td>\n",
       "      <td>257878.147711</td>\n",
       "      <td>257893.310691</td>\n",
       "    </tr>\n",
       "    <tr>\n",
       "      <th>...</th>\n",
       "      <td>...</td>\n",
       "      <td>...</td>\n",
       "      <td>...</td>\n",
       "      <td>...</td>\n",
       "      <td>...</td>\n",
       "    </tr>\n",
       "    <tr>\n",
       "      <th>58</th>\n",
       "      <td>5</td>\n",
       "      <td>(Overall, Age, Wage, Contract_Valid_Until, Wei...</td>\n",
       "      <td>8.0</td>\n",
       "      <td>246855.428895</td>\n",
       "      <td>246900.917835</td>\n",
       "    </tr>\n",
       "    <tr>\n",
       "      <th>59</th>\n",
       "      <td>5</td>\n",
       "      <td>(Overall, Age, pos_DF, Contract_Valid_Until, W...</td>\n",
       "      <td>8.0</td>\n",
       "      <td>247615.743268</td>\n",
       "      <td>247661.232208</td>\n",
       "    </tr>\n",
       "    <tr>\n",
       "      <th>60</th>\n",
       "      <td>5</td>\n",
       "      <td>(Overall, Wage, pos_DF, Contract_Valid_Until, ...</td>\n",
       "      <td>8.0</td>\n",
       "      <td>248706.948274</td>\n",
       "      <td>248752.437214</td>\n",
       "    </tr>\n",
       "    <tr>\n",
       "      <th>61</th>\n",
       "      <td>5</td>\n",
       "      <td>(Age, Wage, pos_DF, Contract_Valid_Until, Weig...</td>\n",
       "      <td>8.0</td>\n",
       "      <td>252238.970694</td>\n",
       "      <td>252284.459635</td>\n",
       "    </tr>\n",
       "    <tr>\n",
       "      <th>62</th>\n",
       "      <td>6</td>\n",
       "      <td>(Overall, Age, Wage, pos_DF, Contract_Valid_Un...</td>\n",
       "      <td>9.0</td>\n",
       "      <td>246758.045537</td>\n",
       "      <td>246811.115967</td>\n",
       "    </tr>\n",
       "  </tbody>\n",
       "</table>\n",
       "<p>63 rows × 5 columns</p>\n",
       "</div>"
      ],
      "text/plain": [
       "    num_of_variables                                           variable   Cp  \\\n",
       "0                  1                                         (Overall,)  4.0   \n",
       "1                  1                                             (Age,)  4.0   \n",
       "2                  1                                            (Wage,)  4.0   \n",
       "3                  1                                          (pos_DF,)  4.0   \n",
       "4                  1                            (Contract_Valid_Until,)  4.0   \n",
       "..               ...                                                ...  ...   \n",
       "58                 5  (Overall, Age, Wage, Contract_Valid_Until, Wei...  8.0   \n",
       "59                 5  (Overall, Age, pos_DF, Contract_Valid_Until, W...  8.0   \n",
       "60                 5  (Overall, Wage, pos_DF, Contract_Valid_Until, ...  8.0   \n",
       "61                 5  (Age, Wage, pos_DF, Contract_Valid_Until, Weig...  8.0   \n",
       "62                 6  (Overall, Age, Wage, pos_DF, Contract_Valid_Un...  9.0   \n",
       "\n",
       "              AIC            BIC  \n",
       "0   250200.807651  250215.970631  \n",
       "1   258263.917712  258279.080692  \n",
       "2   252631.783264  252646.946244  \n",
       "3   258298.624634  258313.787614  \n",
       "4   257878.147711  257893.310691  \n",
       "..            ...            ...  \n",
       "58  246855.428895  246900.917835  \n",
       "59  247615.743268  247661.232208  \n",
       "60  248706.948274  248752.437214  \n",
       "61  252238.970694  252284.459635  \n",
       "62  246758.045537  246811.115967  \n",
       "\n",
       "[63 rows x 5 columns]"
      ]
     },
     "execution_count": 118,
     "metadata": {},
     "output_type": "execute_result"
    }
   ],
   "source": [
    "df = pd.DataFrame({'num_of_variables' : cnt_variable, 'variable' : variables, 'Cp' : cp_list, 'AIC' : aic_list, 'BIC' : bic_list})\n",
    "df#.sort_values(by = 'Cp', ascending = False)[:10]"
   ]
  },
  {
   "cell_type": "markdown",
   "metadata": {},
   "source": [
    "## 2-3. 사후 검정을 실시하고 해석하시오."
   ]
  },
  {
   "cell_type": "code",
   "execution_count": 119,
   "metadata": {},
   "outputs": [],
   "source": [
    "fitted = result.predict(X[add_feature])\n",
    "resid = result.resid"
   ]
  },
  {
   "cell_type": "code",
   "execution_count": 120,
   "metadata": {},
   "outputs": [
    {
     "data": {
      "image/png": "[encoded data removed]",
      "text/plain": [
       "<Figure size 432x288 with 1 Axes>"
      ]
     },
     "metadata": {
      "needs_background": "light"
     },
     "output_type": "display_data"
    }
   ],
   "source": [
    "sns.regplot(fitted, resid, lowess = True, line_kws = {'color' : 'red'})\n",
    "plt.plot([fitted.min(), fitted.max()], [0, 0], '--', color = 'gray')\n",
    "plt.ylabel('Residuals')\n",
    "plt.xlabel('Fitted Values')\n",
    "plt.title('Residuals VS Fitted', size = 15)\n",
    "plt.show()"
   ]
  },
  {
   "cell_type": "markdown",
   "metadata": {},
   "source": [
    "잔차 분석 결과 잔차의 추정선이 기울기가 0인 직선과 유사하므로 잔차가 등분산을 만족한다고 할 수 있다."
   ]
  },
  {
   "cell_type": "code",
   "execution_count": 121,
   "metadata": {},
   "outputs": [],
   "source": [
    "from scipy.stats import shapiro"
   ]
  },
  {
   "cell_type": "code",
   "execution_count": 122,
   "metadata": {},
   "outputs": [
    {
     "name": "stdout",
     "output_type": "stream",
     "text": [
      "shapiro의 통계량은 0.69074이고 p-value는 0.0\n"
     ]
    }
   ],
   "source": [
    "s_test = shapiro(resid)\n",
    "print(f'shapiro의 통계량은 {round(s_test.statistic, 5)}이고 p-value는 {round(s_test.pvalue, 7)}')"
   ]
  },
  {
   "cell_type": "code",
   "execution_count": 124,
   "metadata": {},
   "outputs": [],
   "source": [
    "from scipy.stats import zscore, probplot\n",
    "from statsmodels.stats.outliers_influence import OLSInfluence\n",
    "# OLSInfluence로 호출하는 방식과 result.get_influence()로 호출하는 방식 동일"
   ]
  },
  {
   "cell_type": "code",
   "execution_count": 125,
   "metadata": {},
   "outputs": [
    {
     "data": {
      "image/png": "[encoded data removed]",
      "text/plain": [
       "<Figure size 432x288 with 1 Axes>"
      ]
     },
     "metadata": {
      "needs_background": "light"
     },
     "output_type": "display_data"
    }
   ],
   "source": [
    "probplot(result.get_influence().resid_studentized_internal, plot = plt)\n",
    "plt.title('Normal Q-Q', size = 15)\n",
    "plt.show()"
   ]
  },
  {
   "cell_type": "markdown",
   "metadata": {},
   "source": [
    "잔차의 정규성은 만족하지 못한다."
   ]
  },
  {
   "cell_type": "code",
   "execution_count": 126,
   "metadata": {},
   "outputs": [],
   "source": [
    "sr = zscore(resid)"
   ]
  },
  {
   "cell_type": "code",
   "execution_count": 127,
   "metadata": {},
   "outputs": [
    {
     "data": {
      "image/png": "[encoded data removed]",
      "text/plain": [
       "<Figure size 432x288 with 1 Axes>"
      ]
     },
     "metadata": {
      "needs_background": "light"
     },
     "output_type": "display_data"
    }
   ],
   "source": [
    "sns.regplot(fitted, np.sqrt(np.abs(sr)), lowess = True, line_kws = {'color': 'red'})\n",
    "plt.title('Scale-Location', size = 15)\n",
    "plt.ylabel('root(Standardized Residuals)')\n",
    "plt.xlabel('Fitted values')\n",
    "plt.show()"
   ]
  },
  {
   "cell_type": "code",
   "execution_count": 128,
   "metadata": {},
   "outputs": [],
   "source": [
    "cd, _ = OLSInfluence(result).cooks_distance\n",
    "cd = cd.sort_values()[::-1][:50]"
   ]
  },
  {
   "cell_type": "code",
   "execution_count": 129,
   "metadata": {},
   "outputs": [
    {
     "data": {
      "image/png": "[encoded data removed]",
      "text/plain": [
       "<Figure size 1080x720 with 1 Axes>"
      ]
     },
     "metadata": {
      "needs_background": "light"
     },
     "output_type": "display_data"
    }
   ],
   "source": [
    "plt.figure(figsize = (15, 10))\n",
    "sns.barplot(x = cd.index, y = cd, edgecolor = (0, 0, 0))\n",
    "plt.show()"
   ]
  },
  {
   "cell_type": "code",
   "execution_count": 130,
   "metadata": {},
   "outputs": [
    {
     "data": {
      "image/png": "[encoded data removed]",
      "text/plain": [
       "<Figure size 864x576 with 1 Axes>"
      ]
     },
     "metadata": {
      "needs_background": "light"
     },
     "output_type": "display_data"
    }
   ],
   "source": [
    "plt.figure(figsize = (12, 8))\n",
    "plt.scatter(result.get_influence().hat_matrix_diag, sr, color = 'black', alpha = .7)\n",
    "sns.regplot(result.get_influence().hat_matrix_diag, sr, lowess = True,\n",
    "              line_kws = {'color': 'red', 'lw': 1, 'alpha': 0.8});\n",
    "leverage_top_3 = np.flip(np.argsort(result.get_influence().cooks_distance[0]), 0)[:3]\n",
    "for i in leverage_top_3:\n",
    "    plt.annotate(i, xy = (result.get_influence().hat_matrix_diag[i], sr[i]));\n",
    "plt.xlabel('Leverage')\n",
    "plt.ylabel('Standardized Residuals')\n",
    "plt.title('Residuals vs Leverage', size = 15)\n",
    "plt.show()"
   ]
  }
 ],
 "metadata": {
  "kernelspec": {
   "display_name": "Python 3",
   "language": "python",
   "name": "python3"
  },
  "language_info": {
   "codemirror_mode": {
    "name": "ipython",
    "version": 3
   },
   "file_extension": ".py",
   "mimetype": "text/x-python",
   "name": "python",
   "nbconvert_exporter": "python",
   "pygments_lexer": "ipython3",
   "version": "3.8.5"
  }
 },
 "nbformat": 4,
 "nbformat_minor": 4
}
