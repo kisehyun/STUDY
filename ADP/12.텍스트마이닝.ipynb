{
 "cells": [
  {
   "cell_type": "markdown",
   "metadata": {},
   "source": [
    "# 텍스트마이닝\n",
    "\n",
    "- 텍스트로부터 고품질의 정보를 도출하는 분석방법으로 입력된 텍스트를 구조화해 그 데이터에서 패턴을 도출한 후 결과를 평가 및 해석하는 일련의 과정\n",
    "- 다양한 형태의 문서(웹 콘텐츠, PDF, MS office file, XML, text file 등)로부터 텍스트를 획득한 후 문서별 단어의 행렬을 만들어 추가적 분석을 수행하거나 데이터마이닝 기법을 적용하여 통찰을 발견하고 의사결정을 지원하는 방법\n",
    "- 다양한 포맷의 문서로부터 텍스트를 추출하여 이를 하나의 레코드로 만들고 단어 구성에 따라 데이터 마트를 구성한다. 단어들 간의 관계를 이용하여 감성분석, 워드 클라우드분석 등을 수행한 후 이 정보를 클러스터링, 분류, 사회 연결망 분석 등에 활용한다.\n",
    "- 주로 구조화된 정형 데이터 속에서 정보나 패턴을 발견하는 데이터마이닝과는 달리 텍스트마이닝은 인터넷 데이터, SNS 등과 같은 자연어로 구성된 비정형 텍스트 데이터 속에서 정보나 관계를 발견하는 분석 기법이다.\n",
    "\n",
    "### 텍스트 마이닝 기능\n",
    "- 문서 요약\n",
    "- 문서 분류\n",
    "- 문서 군집\n",
    "- 특성 추출\n",
    "\n",
    "\n",
    "## 텍스트 분석 수행 프로세스\n",
    "- 1. 텍스트 사전 준비작업(텍스트 전처리) : 텍스트를 피처로 만들기 전에 사전에 클렌징, 대/소문자 변경, 특수문자 삭제 등의 클렌징 작업, 단어 등의 토큰화 작업, 의미 없는 단어 제거 작업, 어근 추출 등의 텍스트 정규화 작업\n",
    "- 2. 피터 벡터화 / 추출 : 사전 준비 작업으로 가공된 텍스트에서 피처를 추출하고 여기에 벡터 값을 할당한다. 대표적인 방법은 BOW와 Word2Vec이 있으며BOW는 Count기반과 TF-IDF 방법이 있다.\n",
    "- 3. ML 모델 수립 및 학습/예측/평가 : 피처 벡터화 된 데이터에 ML 모델을 적용하여 학습/예측 및 평가를 수행한다.\n",
    "\n",
    "### 텍스트 정규화\n",
    "- 텍스트를 ML 알고리즘이나 NLP 애플리케이션에 입력 데이터로 사용하기 위해 클렌징, 정제, 토큰화, 어근화 등의 다양한 텍스트 데이터의 사전 작업을 수행하는 것을 의미한다.\n",
    "\n",
    "< 종류 >\n",
    "- 클렌징\n",
    "- 토큰화\n",
    "- 필터링/stopword 제거 및 철자 수정\n",
    "- stemming\n",
    "- lemmatization\n",
    "\n",
    "#### 문장토큰화 \n",
    "- 마침표(.), 개행문자(\\n) 등 문장의 마지막을 뜻하는 기호에 따라 분리하는 것이 빌반적이다."
   ]
  },
  {
   "cell_type": "code",
   "execution_count": 124,
   "metadata": {},
   "outputs": [
    {
     "name": "stderr",
     "output_type": "stream",
     "text": [
      "[nltk_data] Downloading package punkt to /Users/kisehyun/nltk_data...\n",
      "[nltk_data]   Package punkt is already up-to-date!\n",
      "[nltk_data] Downloading package wordnet to\n",
      "[nltk_data]     /Users/kisehyun/nltk_data...\n",
      "[nltk_data]   Unzipping corpora/wordnet.zip.\n"
     ]
    }
   ],
   "source": [
    "import nltk\n",
    "nltk.download('punkt')\n",
    "nltk.download('wordnet')\n",
    "from nltk import sent_tokenize"
   ]
  },
  {
   "cell_type": "code",
   "execution_count": 105,
   "metadata": {},
   "outputs": [],
   "source": [
    "text = 'The Matrix is everywhere its all around us, here even in this room. \\\n",
    "You can see it our your window or on your television. \\\n",
    "You feel it when you go to work, or go to church or pay your taxes.'"
   ]
  },
  {
   "cell_type": "code",
   "execution_count": 106,
   "metadata": {},
   "outputs": [],
   "source": [
    "sentence = sent_tokenize(text)"
   ]
  },
  {
   "cell_type": "code",
   "execution_count": 108,
   "metadata": {
    "scrolled": true
   },
   "outputs": [
    {
     "name": "stdout",
     "output_type": "stream",
     "text": [
      "토큰화 후 객체 타입은 <class 'list'>이고 길이는 3\n",
      "['The Matrix is everywhere its all around us, here even in this room.', 'You can see it our your window or on your television.', 'You feel it when you go to work, or go to church or pay your taxes.']\n"
     ]
    }
   ],
   "source": [
    "print(f'토큰화 후 객체 타입은 {type(sentence)}이고 길이는 {len(sentence)}')\n",
    "print(sentence)"
   ]
  },
  {
   "cell_type": "markdown",
   "metadata": {},
   "source": [
    "#### 단어 토큰화\n",
    "- 문장을 단어로 토큰화하는 것으로 기본적으로 공백, 콤마, 마침표, 개행문자 등으로 단어를 분리하지만 정규 표현식을 이용해 다양한 유형으로 토큰화를 수행 할 수 있다.\n",
    "- 일반적으로 문장 토큰화는 각 문장이 가지는 시맨틱적인 의미가 중요한 요소로 사용 될 때 사용한다."
   ]
  },
  {
   "cell_type": "code",
   "execution_count": 109,
   "metadata": {},
   "outputs": [],
   "source": [
    "from nltk import word_tokenize"
   ]
  },
  {
   "cell_type": "code",
   "execution_count": 110,
   "metadata": {},
   "outputs": [],
   "source": [
    "word = word_tokenize(text)"
   ]
  },
  {
   "cell_type": "code",
   "execution_count": 111,
   "metadata": {
    "scrolled": true
   },
   "outputs": [
    {
     "name": "stdout",
     "output_type": "stream",
     "text": [
      "토큰화 후 객체 타입은 <class 'list'>이고 길이는 45\n",
      "['The', 'Matrix', 'is', 'everywhere', 'its', 'all', 'around', 'us', ',', 'here', 'even', 'in', 'this', 'room', '.', 'You', 'can', 'see', 'it', 'our', 'your', 'window', 'or', 'on', 'your', 'television', '.', 'You', 'feel', 'it', 'when', 'you', 'go', 'to', 'work', ',', 'or', 'go', 'to', 'church', 'or', 'pay', 'your', 'taxes', '.']\n"
     ]
    }
   ],
   "source": [
    "print(f'토큰화 후 객체 타입은 {type(word)}이고 길이는 {len(word)}')\n",
    "print(word)"
   ]
  },
  {
   "cell_type": "markdown",
   "metadata": {},
   "source": [
    "문장을 단어별로 하나씩 토큰화 할 경우 문맥적인 의미가 무시되기 때문에 n-gram 활용\n",
    "\n",
    "#### Stopword\n",
    "- 분석에 큰 의미가 없는 단어를 지칭"
   ]
  },
  {
   "cell_type": "code",
   "execution_count": 97,
   "metadata": {},
   "outputs": [],
   "source": [
    "from nltk.corpus import stopwords "
   ]
  },
  {
   "cell_type": "code",
   "execution_count": 112,
   "metadata": {
    "scrolled": true
   },
   "outputs": [
    {
     "data": {
      "text/plain": [
       "['i',\n",
       " 'me',\n",
       " 'my',\n",
       " 'myself',\n",
       " 'we',\n",
       " 'our',\n",
       " 'ours',\n",
       " 'ourselves',\n",
       " 'you',\n",
       " \"you're\",\n",
       " \"you've\",\n",
       " \"you'll\",\n",
       " \"you'd\",\n",
       " 'your',\n",
       " 'yours',\n",
       " 'yourself',\n",
       " 'yourselves',\n",
       " 'he',\n",
       " 'him',\n",
       " 'his']"
      ]
     },
     "execution_count": 112,
     "metadata": {},
     "output_type": "execute_result"
    }
   ],
   "source": [
    "st = stopwords.words('english')\n",
    "st[:20]"
   ]
  },
  {
   "cell_type": "markdown",
   "metadata": {},
   "source": [
    "### Stemming & Lemmatization\n",
    "\n",
    "- Lemmatization이 Stemming 보다 정교하며 의미론적인 기반에서 단어의 원형을 찾는다.\n",
    "- Stemming은 원형 단어로 변환 시 일반적인 방법을 적용하거나 더 단순화된 방법을 저굥ㅇ해 원래 단어에서 일부 철자가 훼손된 어근 단어를 추출하는 경향이 있다.\n",
    "- 이에 반해 Lemmatization은 품사와 같은 문법적인 요소와 더 의미적인 부분을 감안해 정확한 철자로 된 어근 단어를 찾아준다.\n",
    "- 따라서 Lemma가 Stemm 보다 변환에 더 오랜 시간이 필요하다."
   ]
  },
  {
   "cell_type": "code",
   "execution_count": 121,
   "metadata": {},
   "outputs": [],
   "source": [
    "from nltk.stem import LancasterStemmer, WordNetLemmatizer"
   ]
  },
  {
   "cell_type": "code",
   "execution_count": 115,
   "metadata": {},
   "outputs": [],
   "source": [
    "stemmer = LancasterStemmer()"
   ]
  },
  {
   "cell_type": "code",
   "execution_count": 120,
   "metadata": {},
   "outputs": [
    {
     "name": "stdout",
     "output_type": "stream",
     "text": [
      "work work work\n",
      "happy happiest happy\n",
      "amus amus amus\n"
     ]
    }
   ],
   "source": [
    "print(stemmer.stem('working'), stemmer.stem('works'), stemmer.stem('worked'))\n",
    "print(stemmer.stem('happier'), stemmer.stem('happiest'), stemmer.stem('happy'))\n",
    "print(stemmer.stem('amusing'), stemmer.stem('amused'), stemmer.stem('amuse'))"
   ]
  },
  {
   "cell_type": "markdown",
   "metadata": {},
   "source": [
    "amuse가 원형인데 amus만 인식한다. "
   ]
  },
  {
   "cell_type": "code",
   "execution_count": 125,
   "metadata": {},
   "outputs": [],
   "source": [
    "lemma = WordNetLemmatizer()"
   ]
  },
  {
   "cell_type": "code",
   "execution_count": 126,
   "metadata": {},
   "outputs": [
    {
     "name": "stdout",
     "output_type": "stream",
     "text": [
      "work work work\n",
      "happy happy happy\n",
      "amuse amuse amuse\n"
     ]
    }
   ],
   "source": [
    "print(lemma.lemmatize('working', 'v'), lemma.lemmatize('works', 'v'), lemma.lemmatize('worked', 'v'))\n",
    "print(lemma.lemmatize('happier', 'a'), lemma.lemmatize('happiest', 'a'), lemma.lemmatize('happy', 'a'))\n",
    "print(lemma.lemmatize('amusing', 'v'), lemma.lemmatize('amused', 'v'), lemma.lemmatize('amuse', 'v'))"
   ]
  },
  {
   "cell_type": "markdown",
   "metadata": {},
   "source": [
    "stemmer 보다 원형 단어 추출을 더 잘하는 것을 알 수 있다.\n",
    "***\n",
    "## BOW\n",
    "- 문서가 가지는 모든 단어를 문맥이나 순서를 무시하고 일괄적으로 단어에 대해 빈도 값을 부여해 피처를 추출하는 모델\n",
    "- 쉽고 빠른 구축이라는 장점을 가지고 있다.\n",
    "- 하지만 문맥 의미 반영 부족과 희소 행렬 문제 등의 단점이 있다."
   ]
  },
  {
   "cell_type": "markdown",
   "metadata": {},
   "source": [
    "#### 영어 형태소 분석기"
   ]
  },
  {
   "cell_type": "code",
   "execution_count": 127,
   "metadata": {},
   "outputs": [],
   "source": [
    "import matplotlib.pyplot as plt\n",
    "import seaborn as sns\n",
    "from wordcloud import WordCloud\n",
    "from konlpy.tag import Mecab\n",
    "import pandas as pd\n",
    "from PIL import Image\n",
    "from matplotlib import rc\n",
    "rc('font', family='AppleGothic')\n",
    "plt.rcParams['axes.unicode_minus'] = False\n",
    "%matplotlib inline\n",
    "import nltk"
   ]
  },
  {
   "cell_type": "markdown",
   "metadata": {},
   "source": [
    "### Corpus 만들기\n",
    "\n",
    "### 형용사 추출"
   ]
  },
  {
   "cell_type": "code",
   "execution_count": 6,
   "metadata": {},
   "outputs": [],
   "source": [
    "adj = []"
   ]
  },
  {
   "cell_type": "code",
   "execution_count": 7,
   "metadata": {},
   "outputs": [],
   "source": [
    "mecab = Mecab()"
   ]
  },
  {
   "cell_type": "code",
   "execution_count": 8,
   "metadata": {
    "scrolled": true
   },
   "outputs": [
    {
     "data": {
      "text/plain": [
       "{'EC': '연결 어미',\n",
       " 'EF': '종결 어미',\n",
       " 'EP': '선어말어미',\n",
       " 'ETM': '관형형 전성 어미',\n",
       " 'ETN': '명사형 전성 어미',\n",
       " 'IC': '감탄사',\n",
       " 'JC': '접속 조사',\n",
       " 'JKB': '부사격 조사',\n",
       " 'JKC': '보격 조사',\n",
       " 'JKG': '관형격 조사',\n",
       " 'JKO': '목적격 조사',\n",
       " 'JKQ': '인용격 조사',\n",
       " 'JKS': '주격 조사',\n",
       " 'JKV': '호격 조사',\n",
       " 'JX': '보조사',\n",
       " 'MAG': '일반 부사',\n",
       " 'MAJ': '접속 부사',\n",
       " 'MM': '관형사',\n",
       " 'NNB': '의존 명사',\n",
       " 'NNBC': '단위를 나타내는 명사',\n",
       " 'NNG': '일반 명사',\n",
       " 'NNP': '고유 명사',\n",
       " 'NP': '대명사',\n",
       " 'NR': '수사',\n",
       " 'SC': '구분자 , · / :',\n",
       " 'SE': '줄임표 …',\n",
       " 'SF': '마침표, 물음표, 느낌표',\n",
       " 'SH': '한자',\n",
       " 'SL': '외국어',\n",
       " 'SN': '숫자',\n",
       " 'SSC': '닫는 괄호 ), ]',\n",
       " 'SSO': '여는 괄호 (, [',\n",
       " 'SY': '기타 기호',\n",
       " 'VA': '형용사',\n",
       " 'VCN': '부정 지정사',\n",
       " 'VCP': '긍정 지정사',\n",
       " 'VV': '동사',\n",
       " 'VX': '보조 용언',\n",
       " 'XPN': '체언 접두사',\n",
       " 'XR': '어근',\n",
       " 'XSA': '형용사 파생 접미사',\n",
       " 'XSN': '명사파생 접미사',\n",
       " 'XSV': '동사 파생 접미사'}"
      ]
     },
     "execution_count": 8,
     "metadata": {},
     "output_type": "execute_result"
    }
   ],
   "source": [
    "mecab.tagset"
   ]
  },
  {
   "cell_type": "code",
   "execution_count": 4,
   "metadata": {},
   "outputs": [],
   "source": [
    "news = pd.read_table('/Users/kisehyun/study_code/ADP/PART 06 실습용 데이터/키워드_뉴스.txt', sep = '\\t', encoding = 'cp949', names = ['텍스트'])"
   ]
  },
  {
   "cell_type": "code",
   "execution_count": 5,
   "metadata": {
    "scrolled": true
   },
   "outputs": [
    {
     "data": {
      "text/html": [
       "<div>\n",
       "<style scoped>\n",
       "    .dataframe tbody tr th:only-of-type {\n",
       "        vertical-align: middle;\n",
       "    }\n",
       "\n",
       "    .dataframe tbody tr th {\n",
       "        vertical-align: top;\n",
       "    }\n",
       "\n",
       "    .dataframe thead th {\n",
       "        text-align: right;\n",
       "    }\n",
       "</style>\n",
       "<table border=\"1\" class=\"dataframe\">\n",
       "  <thead>\n",
       "    <tr style=\"text-align: right;\">\n",
       "      <th></th>\n",
       "      <th>텍스트</th>\n",
       "    </tr>\n",
       "  </thead>\n",
       "  <tbody>\n",
       "    <tr>\n",
       "      <th>0</th>\n",
       "      <td>동아대학교(총장 한석정)가 '수요자 데이터기반 스마트헬스케어 서비스'분야 ‘4차 산...</td>\n",
       "    </tr>\n",
       "    <tr>\n",
       "      <th>1</th>\n",
       "      <td>첨단 정보통신기술에 AI 등이 더해지면서 무기체계가 날로 지능화하는 가운데 '국방개...</td>\n",
       "    </tr>\n",
       "    <tr>\n",
       "      <th>2</th>\n",
       "      <td>SK하이닉스는 김영한(사진) 미국 샌디에이고 캘리포니아대(UCSD) 종신 교수를 수...</td>\n",
       "    </tr>\n",
       "    <tr>\n",
       "      <th>3</th>\n",
       "      <td>삼성SDS(대표 홍원표)는 국내·외 대학(원)생을 대상으로 데이터 분석 경진대회인 ...</td>\n",
       "    </tr>\n",
       "    <tr>\n",
       "      <th>4</th>\n",
       "      <td>푸드테크 스타트업들이 빅데이터 기반 시스템 배달 체계로 전환한다. 일선 상점과 배달...</td>\n",
       "    </tr>\n",
       "  </tbody>\n",
       "</table>\n",
       "</div>"
      ],
      "text/plain": [
       "                                                 텍스트\n",
       "0  동아대학교(총장 한석정)가 '수요자 데이터기반 스마트헬스케어 서비스'분야 ‘4차 산...\n",
       "1  첨단 정보통신기술에 AI 등이 더해지면서 무기체계가 날로 지능화하는 가운데 '국방개...\n",
       "2  SK하이닉스는 김영한(사진) 미국 샌디에이고 캘리포니아대(UCSD) 종신 교수를 수...\n",
       "3  삼성SDS(대표 홍원표)는 국내·외 대학(원)생을 대상으로 데이터 분석 경진대회인 ...\n",
       "4  푸드테크 스타트업들이 빅데이터 기반 시스템 배달 체계로 전환한다. 일선 상점과 배달..."
      ]
     },
     "execution_count": 5,
     "metadata": {},
     "output_type": "execute_result"
    }
   ],
   "source": [
    "news.head()"
   ]
  },
  {
   "cell_type": "code",
   "execution_count": 9,
   "metadata": {},
   "outputs": [],
   "source": [
    "for r in news.values :\n",
    "    token = mecab.pos(r[0])\n",
    "    for text in token :\n",
    "        if text[1].startswith('VA') :\n",
    "            adj.append(text[0])\n",
    "        else :\n",
    "            pass"
   ]
  },
  {
   "cell_type": "code",
   "execution_count": 10,
   "metadata": {
    "scrolled": true
   },
   "outputs": [
    {
     "data": {
      "text/plain": [
       "['높', '빨라', '새로운', '빠르', '빨라', '걸맞', '뛰어난', '좋', '있', '같']"
      ]
     },
     "execution_count": 10,
     "metadata": {},
     "output_type": "execute_result"
    }
   ],
   "source": [
    "adj[:10] #형용사 10개"
   ]
  },
  {
   "cell_type": "markdown",
   "metadata": {},
   "source": [
    "### TDM 만들기"
   ]
  },
  {
   "cell_type": "code",
   "execution_count": 11,
   "metadata": {},
   "outputs": [],
   "source": [
    "from sklearn.feature_extraction.text import CountVectorizer, TfidfVectorizer"
   ]
  },
  {
   "cell_type": "markdown",
   "metadata": {},
   "source": [
    "### TF-IDF\n",
    "- 개별 문서에서 자주 등장하는 단어에 높은 가중치를 주되 모든 문서에서 전반적으로 자주 등장하는 단어에 대해서는 페널티를 주는 방식으로 값을 부여한다.\n",
    "- TF : 1개 문서 안에서 특정 단어의 등장 빈도\n",
    "- DF : 특정 단어가 나타나는 문서의 수\n",
    "- IDF : DF를 일종의 역수 변환을 해준 값\n",
    "\n",
    "$W_{i,j} = tf_{i,j} * \\log_{}({N\\over df_i})$\n",
    "\n",
    "$tf_{i,j}$ = number of occurences of $i$ in $j$\n",
    "\n",
    "$df_{i}$ = number of documents containg $i$\n",
    "\n",
    "$N$ = total number of documents"
   ]
  },
  {
   "cell_type": "code",
   "execution_count": 12,
   "metadata": {
    "scrolled": true
   },
   "outputs": [
    {
     "data": {
      "text/plain": [
       "array([\"동아대학교(총장 한석정)가 '수요자 데이터기반 스마트헬스케어 서비스'분야 ‘4차 산업혁명 혁신선도대학으로 최종선정됐습니다. 동아대가 혁신선도대학으로 펼치게 될 ‘수요자 데이터기반 스마트헬스케어 서비스’ 산업은 리빙데이터(운동·영양·약물)와 메디컬데이터(생체계측·진료기록)를 종합 분석, 다양한 헬스케어 서비스를 제공하는 것입니다. 동아대는 건강과학대학과 의료원, 재활요양병원 등 경쟁력 있는 인프라를 바탕으로 신뢰도 높은 정밀 분석을 실시, ‘헬스케어 기획 전문가’와 ‘헬스케어 데이터분석 전문가’ 등 수요자 맞춤형 헬스케어 서비스 분야를 선도하는 전문 인재를 키워나갈 계획입니다. ‘스마트헬스케어 융합전공’을 신설, 경영정보학과를 중심으로 한 빅데이터 분석, 식품영양학과·의약생명공학과·건강관리학과 중심의 헬스케어 등 학문 간 경계는 교육혁신도 이뤄나갈 방침입니다. \"],\n",
       "      dtype=object)"
      ]
     },
     "execution_count": 12,
     "metadata": {},
     "output_type": "execute_result"
    }
   ],
   "source": [
    "news.values[0]"
   ]
  },
  {
   "cell_type": "markdown",
   "metadata": {},
   "source": [
    "위의 보다시피 array 형태로 나오기 때문에 인덱싱 0필요"
   ]
  },
  {
   "cell_type": "code",
   "execution_count": 138,
   "metadata": {},
   "outputs": [],
   "source": [
    "text = [x[0] for x in news.values] # 0으로 인덱싱"
   ]
  },
  {
   "cell_type": "code",
   "execution_count": 14,
   "metadata": {
    "scrolled": false
   },
   "outputs": [
    {
     "data": {
      "text/plain": [
       "\"동아대학교(총장 한석정)가 '수요자 데이터기반 스마트헬스케어 서비스'분야 ‘4차 산업혁명 혁신선도대학으로 최종선정됐습니다. 동아대가 혁신선도대학으로 펼치게 될 ‘수요자 데이터기반 스마트헬스케어 서비스’ 산업은 리빙데이터(운동·영양·약물)와 메디컬데이터(생체계측·진료기록)를 종합 분석, 다양한 헬스케어 서비스를 제공하는 것입니다. 동아대는 건강과학대학과 의료원, 재활요양병원 등 경쟁력 있는 인프라를 바탕으로 신뢰도 높은 정밀 분석을 실시, ‘헬스케어 기획 전문가’와 ‘헬스케어 데이터분석 전문가’ 등 수요자 맞춤형 헬스케어 서비스 분야를 선도하는 전문 인재를 키워나갈 계획입니다. ‘스마트헬스케어 융합전공’을 신설, 경영정보학과를 중심으로 한 빅데이터 분석, 식품영양학과·의약생명공학과·건강관리학과 중심의 헬스케어 등 학문 간 경계는 교육혁신도 이뤄나갈 방침입니다. \""
      ]
     },
     "execution_count": 14,
     "metadata": {},
     "output_type": "execute_result"
    }
   ],
   "source": [
    "text[0]"
   ]
  },
  {
   "cell_type": "code",
   "execution_count": 157,
   "metadata": {},
   "outputs": [],
   "source": [
    "tf = TfidfVectorizer(min_df = 3, max_features = 500, lowercase = False)"
   ]
  },
  {
   "cell_type": "code",
   "execution_count": 158,
   "metadata": {},
   "outputs": [],
   "source": [
    "tfidf = tf.fit_transform([x[0] for x in news.values])"
   ]
  },
  {
   "cell_type": "code",
   "execution_count": 160,
   "metadata": {
    "scrolled": true
   },
   "outputs": [
    {
     "data": {
      "text/plain": [
       "['4차', 'AI', '개발', '경쟁력', '경쟁력을', '계획이다', '관계자는', '관련', '기반', '기반으로']"
      ]
     },
     "execution_count": 160,
     "metadata": {},
     "output_type": "execute_result"
    }
   ],
   "source": [
    "tf.get_feature_names()[:10]"
   ]
  },
  {
   "cell_type": "markdown",
   "metadata": {},
   "source": [
    "### CountVectorizer\n",
    "- 전처리 없이 공백 기준으로 TDM 구축"
   ]
  },
  {
   "cell_type": "code",
   "execution_count": 15,
   "metadata": {},
   "outputs": [],
   "source": [
    "c = CountVectorizer()"
   ]
  },
  {
   "cell_type": "code",
   "execution_count": 16,
   "metadata": {},
   "outputs": [],
   "source": [
    "tdm = c.fit_transform([x[0] for x in news.values])"
   ]
  },
  {
   "cell_type": "code",
   "execution_count": 17,
   "metadata": {},
   "outputs": [
    {
     "data": {
      "text/plain": [
       "<10x1388 sparse matrix of type '<class 'numpy.int64'>'\n",
       "\twith 1635 stored elements in Compressed Sparse Row format>"
      ]
     },
     "execution_count": 17,
     "metadata": {},
     "output_type": "execute_result"
    }
   ],
   "source": [
    "tdm"
   ]
  },
  {
   "cell_type": "code",
   "execution_count": 18,
   "metadata": {},
   "outputs": [
    {
     "data": {
      "text/plain": [
       "['000만원',\n",
       " '000만원으로',\n",
       " '000명',\n",
       " '10시간',\n",
       " '10월',\n",
       " '10일',\n",
       " '10일부터',\n",
       " '11월',\n",
       " '13일',\n",
       " '150여명에',\n",
       " '15여년간',\n",
       " '15일',\n",
       " '15일까지',\n",
       " '17일',\n",
       " '1월부터',\n",
       " '1일부터',\n",
       " '1차',\n",
       " '1팀',\n",
       " '200만원',\n",
       " '2014년']"
      ]
     },
     "execution_count": 18,
     "metadata": {},
     "output_type": "execute_result"
    }
   ],
   "source": [
    "c.get_feature_names()[:20]"
   ]
  },
  {
   "cell_type": "code",
   "execution_count": 19,
   "metadata": {},
   "outputs": [],
   "source": [
    "tdm = pd.DataFrame(tdm.todense().T, index = c.get_feature_names())"
   ]
  },
  {
   "cell_type": "code",
   "execution_count": 20,
   "metadata": {},
   "outputs": [
    {
     "data": {
      "text/html": [
       "<div>\n",
       "<style scoped>\n",
       "    .dataframe tbody tr th:only-of-type {\n",
       "        vertical-align: middle;\n",
       "    }\n",
       "\n",
       "    .dataframe tbody tr th {\n",
       "        vertical-align: top;\n",
       "    }\n",
       "\n",
       "    .dataframe thead th {\n",
       "        text-align: right;\n",
       "    }\n",
       "</style>\n",
       "<table border=\"1\" class=\"dataframe\">\n",
       "  <thead>\n",
       "    <tr style=\"text-align: right;\">\n",
       "      <th></th>\n",
       "      <th>0</th>\n",
       "      <th>1</th>\n",
       "      <th>2</th>\n",
       "      <th>3</th>\n",
       "      <th>4</th>\n",
       "      <th>5</th>\n",
       "      <th>6</th>\n",
       "      <th>7</th>\n",
       "      <th>8</th>\n",
       "      <th>9</th>\n",
       "    </tr>\n",
       "  </thead>\n",
       "  <tbody>\n",
       "    <tr>\n",
       "      <th>000만원</th>\n",
       "      <td>0</td>\n",
       "      <td>0</td>\n",
       "      <td>0</td>\n",
       "      <td>0</td>\n",
       "      <td>0</td>\n",
       "      <td>0</td>\n",
       "      <td>1</td>\n",
       "      <td>0</td>\n",
       "      <td>0</td>\n",
       "      <td>0</td>\n",
       "    </tr>\n",
       "    <tr>\n",
       "      <th>000만원으로</th>\n",
       "      <td>0</td>\n",
       "      <td>0</td>\n",
       "      <td>0</td>\n",
       "      <td>0</td>\n",
       "      <td>0</td>\n",
       "      <td>0</td>\n",
       "      <td>1</td>\n",
       "      <td>0</td>\n",
       "      <td>0</td>\n",
       "      <td>0</td>\n",
       "    </tr>\n",
       "    <tr>\n",
       "      <th>000명</th>\n",
       "      <td>0</td>\n",
       "      <td>0</td>\n",
       "      <td>0</td>\n",
       "      <td>1</td>\n",
       "      <td>0</td>\n",
       "      <td>0</td>\n",
       "      <td>0</td>\n",
       "      <td>0</td>\n",
       "      <td>0</td>\n",
       "      <td>0</td>\n",
       "    </tr>\n",
       "    <tr>\n",
       "      <th>10시간</th>\n",
       "      <td>0</td>\n",
       "      <td>0</td>\n",
       "      <td>0</td>\n",
       "      <td>0</td>\n",
       "      <td>1</td>\n",
       "      <td>0</td>\n",
       "      <td>0</td>\n",
       "      <td>0</td>\n",
       "      <td>0</td>\n",
       "      <td>0</td>\n",
       "    </tr>\n",
       "    <tr>\n",
       "      <th>10월</th>\n",
       "      <td>0</td>\n",
       "      <td>0</td>\n",
       "      <td>0</td>\n",
       "      <td>0</td>\n",
       "      <td>0</td>\n",
       "      <td>0</td>\n",
       "      <td>1</td>\n",
       "      <td>0</td>\n",
       "      <td>0</td>\n",
       "      <td>0</td>\n",
       "    </tr>\n",
       "    <tr>\n",
       "      <th>10일</th>\n",
       "      <td>0</td>\n",
       "      <td>0</td>\n",
       "      <td>1</td>\n",
       "      <td>0</td>\n",
       "      <td>0</td>\n",
       "      <td>0</td>\n",
       "      <td>0</td>\n",
       "      <td>0</td>\n",
       "      <td>0</td>\n",
       "      <td>0</td>\n",
       "    </tr>\n",
       "    <tr>\n",
       "      <th>10일부터</th>\n",
       "      <td>0</td>\n",
       "      <td>0</td>\n",
       "      <td>1</td>\n",
       "      <td>0</td>\n",
       "      <td>0</td>\n",
       "      <td>0</td>\n",
       "      <td>0</td>\n",
       "      <td>0</td>\n",
       "      <td>0</td>\n",
       "      <td>0</td>\n",
       "    </tr>\n",
       "    <tr>\n",
       "      <th>11월</th>\n",
       "      <td>0</td>\n",
       "      <td>0</td>\n",
       "      <td>0</td>\n",
       "      <td>1</td>\n",
       "      <td>0</td>\n",
       "      <td>0</td>\n",
       "      <td>0</td>\n",
       "      <td>0</td>\n",
       "      <td>0</td>\n",
       "      <td>0</td>\n",
       "    </tr>\n",
       "    <tr>\n",
       "      <th>13일</th>\n",
       "      <td>0</td>\n",
       "      <td>0</td>\n",
       "      <td>0</td>\n",
       "      <td>0</td>\n",
       "      <td>1</td>\n",
       "      <td>0</td>\n",
       "      <td>0</td>\n",
       "      <td>0</td>\n",
       "      <td>0</td>\n",
       "      <td>0</td>\n",
       "    </tr>\n",
       "    <tr>\n",
       "      <th>150여명에</th>\n",
       "      <td>0</td>\n",
       "      <td>0</td>\n",
       "      <td>0</td>\n",
       "      <td>0</td>\n",
       "      <td>0</td>\n",
       "      <td>0</td>\n",
       "      <td>0</td>\n",
       "      <td>0</td>\n",
       "      <td>0</td>\n",
       "      <td>1</td>\n",
       "    </tr>\n",
       "  </tbody>\n",
       "</table>\n",
       "</div>"
      ],
      "text/plain": [
       "         0  1  2  3  4  5  6  7  8  9\n",
       "000만원    0  0  0  0  0  0  1  0  0  0\n",
       "000만원으로  0  0  0  0  0  0  1  0  0  0\n",
       "000명     0  0  0  1  0  0  0  0  0  0\n",
       "10시간     0  0  0  0  1  0  0  0  0  0\n",
       "10월      0  0  0  0  0  0  1  0  0  0\n",
       "10일      0  0  1  0  0  0  0  0  0  0\n",
       "10일부터    0  0  1  0  0  0  0  0  0  0\n",
       "11월      0  0  0  1  0  0  0  0  0  0\n",
       "13일      0  0  0  0  1  0  0  0  0  0\n",
       "150여명에   0  0  0  0  0  0  0  0  0  1"
      ]
     },
     "execution_count": 20,
     "metadata": {},
     "output_type": "execute_result"
    }
   ],
   "source": [
    "tdm.head(10)"
   ]
  },
  {
   "cell_type": "markdown",
   "metadata": {},
   "source": [
    "#### 0 ~ 9번(10개 기사) 본문에서 등장한 각 단어들을 원-핫 인코딩으로 표현한 데이터 프레임"
   ]
  },
  {
   "cell_type": "code",
   "execution_count": 21,
   "metadata": {},
   "outputs": [
    {
     "data": {
      "text/plain": [
       "0    False\n",
       "1    False\n",
       "2    False\n",
       "3    False\n",
       "4    False\n",
       "5    False\n",
       "6    False\n",
       "7    False\n",
       "8     True\n",
       "9    False\n",
       "Name: 텍스트, dtype: bool"
      ]
     },
     "execution_count": 21,
     "metadata": {},
     "output_type": "execute_result"
    }
   ],
   "source": [
    "news.텍스트.str.contains('힘써달라')"
   ]
  },
  {
   "cell_type": "markdown",
   "metadata": {},
   "source": [
    "#### 실제로 9번째 글에 '힘써달라'라는 단어가 있는 것을 알 수 있다.\n",
    "\n",
    "### 명사만 추출하여 TDM 구축"
   ]
  },
  {
   "cell_type": "code",
   "execution_count": 22,
   "metadata": {},
   "outputs": [],
   "source": [
    "nouns_token = []"
   ]
  },
  {
   "cell_type": "code",
   "execution_count": 23,
   "metadata": {},
   "outputs": [],
   "source": [
    "for r in news.values :\n",
    "    nouns = mecab.nouns(r[0])\n",
    "    nouns_token.append(nouns)"
   ]
  },
  {
   "cell_type": "code",
   "execution_count": 24,
   "metadata": {},
   "outputs": [],
   "source": [
    "token_df = pd.DataFrame([t + ' ' for x in nouns_token for t in x])"
   ]
  },
  {
   "cell_type": "code",
   "execution_count": 25,
   "metadata": {},
   "outputs": [
    {
     "data": {
      "text/html": [
       "<div>\n",
       "<style scoped>\n",
       "    .dataframe tbody tr th:only-of-type {\n",
       "        vertical-align: middle;\n",
       "    }\n",
       "\n",
       "    .dataframe tbody tr th {\n",
       "        vertical-align: top;\n",
       "    }\n",
       "\n",
       "    .dataframe thead th {\n",
       "        text-align: right;\n",
       "    }\n",
       "</style>\n",
       "<table border=\"1\" class=\"dataframe\">\n",
       "  <thead>\n",
       "    <tr style=\"text-align: right;\">\n",
       "      <th></th>\n",
       "      <th>0</th>\n",
       "    </tr>\n",
       "  </thead>\n",
       "  <tbody>\n",
       "    <tr>\n",
       "      <th>0</th>\n",
       "      <td>동아</td>\n",
       "    </tr>\n",
       "    <tr>\n",
       "      <th>1</th>\n",
       "      <td>대학교</td>\n",
       "    </tr>\n",
       "    <tr>\n",
       "      <th>2</th>\n",
       "      <td>총장</td>\n",
       "    </tr>\n",
       "    <tr>\n",
       "      <th>3</th>\n",
       "      <td>한석정</td>\n",
       "    </tr>\n",
       "    <tr>\n",
       "      <th>4</th>\n",
       "      <td>수요자</td>\n",
       "    </tr>\n",
       "  </tbody>\n",
       "</table>\n",
       "</div>"
      ],
      "text/plain": [
       "      0\n",
       "0   동아 \n",
       "1  대학교 \n",
       "2   총장 \n",
       "3  한석정 \n",
       "4  수요자 "
      ]
     },
     "execution_count": 25,
     "metadata": {},
     "output_type": "execute_result"
    }
   ],
   "source": [
    "token_df.head()"
   ]
  },
  {
   "cell_type": "code",
   "execution_count": 26,
   "metadata": {},
   "outputs": [],
   "source": [
    "from collections import Counter"
   ]
  },
  {
   "cell_type": "code",
   "execution_count": 27,
   "metadata": {},
   "outputs": [],
   "source": [
    "l = []\n",
    "for i in range(10) :\n",
    "    l += nouns_token[i]"
   ]
  },
  {
   "cell_type": "code",
   "execution_count": 28,
   "metadata": {},
   "outputs": [
    {
     "data": {
      "text/html": [
       "<div>\n",
       "<style scoped>\n",
       "    .dataframe tbody tr th:only-of-type {\n",
       "        vertical-align: middle;\n",
       "    }\n",
       "\n",
       "    .dataframe tbody tr th {\n",
       "        vertical-align: top;\n",
       "    }\n",
       "\n",
       "    .dataframe thead th {\n",
       "        text-align: right;\n",
       "    }\n",
       "</style>\n",
       "<table border=\"1\" class=\"dataframe\">\n",
       "  <thead>\n",
       "    <tr style=\"text-align: right;\">\n",
       "      <th></th>\n",
       "      <th>단어</th>\n",
       "    </tr>\n",
       "  </thead>\n",
       "  <tbody>\n",
       "    <tr>\n",
       "      <th>0</th>\n",
       "      <td>동아</td>\n",
       "    </tr>\n",
       "    <tr>\n",
       "      <th>1</th>\n",
       "      <td>대학교</td>\n",
       "    </tr>\n",
       "    <tr>\n",
       "      <th>2</th>\n",
       "      <td>총장</td>\n",
       "    </tr>\n",
       "    <tr>\n",
       "      <th>3</th>\n",
       "      <td>한석정</td>\n",
       "    </tr>\n",
       "    <tr>\n",
       "      <th>4</th>\n",
       "      <td>수요자</td>\n",
       "    </tr>\n",
       "  </tbody>\n",
       "</table>\n",
       "</div>"
      ],
      "text/plain": [
       "    단어\n",
       "0   동아\n",
       "1  대학교\n",
       "2   총장\n",
       "3  한석정\n",
       "4  수요자"
      ]
     },
     "execution_count": 28,
     "metadata": {},
     "output_type": "execute_result"
    }
   ],
   "source": [
    "word_df = pd.DataFrame(l, columns = ['단어'])\n",
    "word_df.head()"
   ]
  },
  {
   "cell_type": "code",
   "execution_count": 29,
   "metadata": {},
   "outputs": [],
   "source": [
    "for doc_num in range(10) :\n",
    "    cnt = Counter(nouns_token[doc_num])\n",
    "    key = list(cnt.keys())\n",
    "    value = list(cnt.values())\n",
    "    doc_df = pd.DataFrame({'단어' : key, f'기사{doc_num + 1}' : value})\n",
    "    word_df = pd.merge(word_df, doc_df, how = 'left', on = '단어')\n",
    "word_df.fillna(0, inplace = True)"
   ]
  },
  {
   "cell_type": "code",
   "execution_count": 30,
   "metadata": {},
   "outputs": [
    {
     "data": {
      "text/html": [
       "<div>\n",
       "<style scoped>\n",
       "    .dataframe tbody tr th:only-of-type {\n",
       "        vertical-align: middle;\n",
       "    }\n",
       "\n",
       "    .dataframe tbody tr th {\n",
       "        vertical-align: top;\n",
       "    }\n",
       "\n",
       "    .dataframe thead th {\n",
       "        text-align: right;\n",
       "    }\n",
       "</style>\n",
       "<table border=\"1\" class=\"dataframe\">\n",
       "  <thead>\n",
       "    <tr style=\"text-align: right;\">\n",
       "      <th></th>\n",
       "      <th>단어</th>\n",
       "      <th>기사1</th>\n",
       "      <th>기사2</th>\n",
       "      <th>기사3</th>\n",
       "      <th>기사4</th>\n",
       "      <th>기사5</th>\n",
       "      <th>기사6</th>\n",
       "      <th>기사7</th>\n",
       "      <th>기사8</th>\n",
       "      <th>기사9</th>\n",
       "      <th>기사10</th>\n",
       "    </tr>\n",
       "  </thead>\n",
       "  <tbody>\n",
       "    <tr>\n",
       "      <th>0</th>\n",
       "      <td>동아</td>\n",
       "      <td>3.0</td>\n",
       "      <td>0.0</td>\n",
       "      <td>0.0</td>\n",
       "      <td>0.0</td>\n",
       "      <td>0.0</td>\n",
       "      <td>0.0</td>\n",
       "      <td>0.0</td>\n",
       "      <td>0.0</td>\n",
       "      <td>0.0</td>\n",
       "      <td>0.0</td>\n",
       "    </tr>\n",
       "    <tr>\n",
       "      <th>1</th>\n",
       "      <td>대학교</td>\n",
       "      <td>1.0</td>\n",
       "      <td>0.0</td>\n",
       "      <td>0.0</td>\n",
       "      <td>0.0</td>\n",
       "      <td>0.0</td>\n",
       "      <td>0.0</td>\n",
       "      <td>0.0</td>\n",
       "      <td>0.0</td>\n",
       "      <td>0.0</td>\n",
       "      <td>0.0</td>\n",
       "    </tr>\n",
       "    <tr>\n",
       "      <th>2</th>\n",
       "      <td>총장</td>\n",
       "      <td>1.0</td>\n",
       "      <td>0.0</td>\n",
       "      <td>0.0</td>\n",
       "      <td>0.0</td>\n",
       "      <td>0.0</td>\n",
       "      <td>0.0</td>\n",
       "      <td>0.0</td>\n",
       "      <td>1.0</td>\n",
       "      <td>0.0</td>\n",
       "      <td>0.0</td>\n",
       "    </tr>\n",
       "    <tr>\n",
       "      <th>3</th>\n",
       "      <td>한석정</td>\n",
       "      <td>1.0</td>\n",
       "      <td>0.0</td>\n",
       "      <td>0.0</td>\n",
       "      <td>0.0</td>\n",
       "      <td>0.0</td>\n",
       "      <td>0.0</td>\n",
       "      <td>0.0</td>\n",
       "      <td>0.0</td>\n",
       "      <td>0.0</td>\n",
       "      <td>0.0</td>\n",
       "    </tr>\n",
       "    <tr>\n",
       "      <th>4</th>\n",
       "      <td>수요자</td>\n",
       "      <td>3.0</td>\n",
       "      <td>0.0</td>\n",
       "      <td>0.0</td>\n",
       "      <td>0.0</td>\n",
       "      <td>0.0</td>\n",
       "      <td>0.0</td>\n",
       "      <td>0.0</td>\n",
       "      <td>0.0</td>\n",
       "      <td>0.0</td>\n",
       "      <td>0.0</td>\n",
       "    </tr>\n",
       "    <tr>\n",
       "      <th>...</th>\n",
       "      <td>...</td>\n",
       "      <td>...</td>\n",
       "      <td>...</td>\n",
       "      <td>...</td>\n",
       "      <td>...</td>\n",
       "      <td>...</td>\n",
       "      <td>...</td>\n",
       "      <td>...</td>\n",
       "      <td>...</td>\n",
       "      <td>...</td>\n",
       "      <td>...</td>\n",
       "    </tr>\n",
       "    <tr>\n",
       "      <th>2016</th>\n",
       "      <td>모델</td>\n",
       "      <td>0.0</td>\n",
       "      <td>0.0</td>\n",
       "      <td>0.0</td>\n",
       "      <td>0.0</td>\n",
       "      <td>0.0</td>\n",
       "      <td>0.0</td>\n",
       "      <td>0.0</td>\n",
       "      <td>0.0</td>\n",
       "      <td>2.0</td>\n",
       "      <td>2.0</td>\n",
       "    </tr>\n",
       "    <tr>\n",
       "      <th>2017</th>\n",
       "      <td>등</td>\n",
       "      <td>3.0</td>\n",
       "      <td>2.0</td>\n",
       "      <td>1.0</td>\n",
       "      <td>2.0</td>\n",
       "      <td>1.0</td>\n",
       "      <td>3.0</td>\n",
       "      <td>3.0</td>\n",
       "      <td>1.0</td>\n",
       "      <td>1.0</td>\n",
       "      <td>3.0</td>\n",
       "    </tr>\n",
       "    <tr>\n",
       "      <th>2018</th>\n",
       "      <td>개발</td>\n",
       "      <td>0.0</td>\n",
       "      <td>0.0</td>\n",
       "      <td>3.0</td>\n",
       "      <td>0.0</td>\n",
       "      <td>4.0</td>\n",
       "      <td>0.0</td>\n",
       "      <td>1.0</td>\n",
       "      <td>0.0</td>\n",
       "      <td>1.0</td>\n",
       "      <td>3.0</td>\n",
       "    </tr>\n",
       "    <tr>\n",
       "      <th>2019</th>\n",
       "      <td>서비스</td>\n",
       "      <td>4.0</td>\n",
       "      <td>3.0</td>\n",
       "      <td>0.0</td>\n",
       "      <td>0.0</td>\n",
       "      <td>7.0</td>\n",
       "      <td>4.0</td>\n",
       "      <td>1.0</td>\n",
       "      <td>0.0</td>\n",
       "      <td>0.0</td>\n",
       "      <td>3.0</td>\n",
       "    </tr>\n",
       "    <tr>\n",
       "      <th>2020</th>\n",
       "      <td>예정</td>\n",
       "      <td>0.0</td>\n",
       "      <td>0.0</td>\n",
       "      <td>1.0</td>\n",
       "      <td>0.0</td>\n",
       "      <td>1.0</td>\n",
       "      <td>0.0</td>\n",
       "      <td>1.0</td>\n",
       "      <td>1.0</td>\n",
       "      <td>0.0</td>\n",
       "      <td>1.0</td>\n",
       "    </tr>\n",
       "  </tbody>\n",
       "</table>\n",
       "<p>2021 rows × 11 columns</p>\n",
       "</div>"
      ],
      "text/plain": [
       "       단어  기사1  기사2  기사3  기사4  기사5  기사6  기사7  기사8  기사9  기사10\n",
       "0      동아  3.0  0.0  0.0  0.0  0.0  0.0  0.0  0.0  0.0   0.0\n",
       "1     대학교  1.0  0.0  0.0  0.0  0.0  0.0  0.0  0.0  0.0   0.0\n",
       "2      총장  1.0  0.0  0.0  0.0  0.0  0.0  0.0  1.0  0.0   0.0\n",
       "3     한석정  1.0  0.0  0.0  0.0  0.0  0.0  0.0  0.0  0.0   0.0\n",
       "4     수요자  3.0  0.0  0.0  0.0  0.0  0.0  0.0  0.0  0.0   0.0\n",
       "...   ...  ...  ...  ...  ...  ...  ...  ...  ...  ...   ...\n",
       "2016   모델  0.0  0.0  0.0  0.0  0.0  0.0  0.0  0.0  2.0   2.0\n",
       "2017    등  3.0  2.0  1.0  2.0  1.0  3.0  3.0  1.0  1.0   3.0\n",
       "2018   개발  0.0  0.0  3.0  0.0  4.0  0.0  1.0  0.0  1.0   3.0\n",
       "2019  서비스  4.0  3.0  0.0  0.0  7.0  4.0  1.0  0.0  0.0   3.0\n",
       "2020   예정  0.0  0.0  1.0  0.0  1.0  0.0  1.0  1.0  0.0   1.0\n",
       "\n",
       "[2021 rows x 11 columns]"
      ]
     },
     "execution_count": 30,
     "metadata": {},
     "output_type": "execute_result"
    }
   ],
   "source": [
    "word_df # 명사 TDM 구축"
   ]
  },
  {
   "cell_type": "markdown",
   "metadata": {},
   "source": [
    "#### 상위 20개 단어 시각화"
   ]
  },
  {
   "cell_type": "code",
   "execution_count": 31,
   "metadata": {},
   "outputs": [],
   "source": [
    "top20 = pd.Series(l).value_counts().sort_values(ascending = False)[:20].reset_index(name = '언급량')"
   ]
  },
  {
   "cell_type": "code",
   "execution_count": 32,
   "metadata": {},
   "outputs": [
    {
     "name": "stderr",
     "output_type": "stream",
     "text": [
      "/Users/kisehyun/opt/anaconda3/lib/python3.8/site-packages/seaborn/_decorators.py:36: FutureWarning: Pass the following variables as keyword args: x, y. From version 0.12, the only valid positional argument will be `data`, and passing other arguments without an explicit keyword will result in an error or misinterpretation.\n",
      "  warnings.warn(\n"
     ]
    },
    {
     "data": {
      "image/png": "[encoded data removed]",
      "text/plain": [
       "<Figure size 720x432 with 1 Axes>"
      ]
     },
     "metadata": {
      "needs_background": "light"
     },
     "output_type": "display_data"
    }
   ],
   "source": [
    "plt.figure(figsize = (10,6))\n",
    "sns.barplot(top20['index'], top20.언급량, edgecolor = (0, 0, 0))\n",
    "plt.show()"
   ]
  },
  {
   "cell_type": "markdown",
   "metadata": {},
   "source": [
    "## 워드클라우드"
   ]
  },
  {
   "cell_type": "code",
   "execution_count": 33,
   "metadata": {},
   "outputs": [],
   "source": [
    "from wordcloud import WordCloud"
   ]
  },
  {
   "cell_type": "code",
   "execution_count": 34,
   "metadata": {
    "scrolled": true
   },
   "outputs": [
    {
     "data": {
      "text/plain": [
       "{'데이터': 101,\n",
       " '분석': 53,\n",
       " '빅': 41,\n",
       " '수': 28,\n",
       " '서비스': 22,\n",
       " '활용': 21,\n",
       " '등': 20,\n",
       " '배달': 17,\n",
       " '기반': 16,\n",
       " '일': 16,\n",
       " '전문가': 15,\n",
       " '금융': 14,\n",
       " '산업': 13,\n",
       " '교육': 12,\n",
       " '기술': 12,\n",
       " '개발': 12,\n",
       " '대회': 12,\n",
       " '팀': 12,\n",
       " '대표': 11,\n",
       " '현장': 11,\n",
       " '그룹': 11,\n",
       " '시간': 10,\n",
       " '차': 9,\n",
       " '것': 9,\n",
       " '원': 9,\n",
       " '정보': 9,\n",
       " '국방': 9,\n",
       " '경진': 9,\n",
       " '브라이': 9,\n",
       " '월': 9,\n",
       " '계획': 8,\n",
       " '년': 8,\n",
       " '연구': 8,\n",
       " '제조': 8,\n",
       " '시스템': 8,\n",
       " '과제': 8,\n",
       " '환경': 8,\n",
       " '스마트': 7,\n",
       " '헬스': 7,\n",
       " '케어': 7,\n",
       " '분야': 7,\n",
       " '혁신': 7,\n",
       " '경쟁력': 7,\n",
       " '체계': 7,\n",
       " '방안': 7,\n",
       " '업계': 7,\n",
       " '올해': 7,\n",
       " '역량': 7,\n",
       " '대상': 7,\n",
       " '개최': 7,\n",
       " '지원': 7,\n",
       " '부문': 7,\n",
       " '만': 7,\n",
       " '기사': 7,\n",
       " '참여': 7,\n",
       " '대구': 7,\n",
       " '혁명': 6,\n",
       " '제공': 6,\n",
       " '과학': 6,\n",
       " '운영': 6,\n",
       " '말': 6,\n",
       " '엔지니어': 6,\n",
       " '관계자': 6,\n",
       " '러닝': 6,\n",
       " '우수': 6,\n",
       " '향상': 6,\n",
       " '주문': 6,\n",
       " '인력': 6,\n",
       " '광양제철': 6,\n",
       " '간': 5,\n",
       " '미래': 5,\n",
       " '인공지능': 5,\n",
       " '공정': 5,\n",
       " '하이닉스': 5,\n",
       " '기업': 5,\n",
       " '머신': 5,\n",
       " '예정': 5,\n",
       " '삼성': 5,\n",
       " '플랫': 5,\n",
       " '폼': 5,\n",
       " '명': 5,\n",
       " '사업': 5,\n",
       " '개': 5,\n",
       " '고객': 5,\n",
       " '배송': 5,\n",
       " '효율': 5,\n",
       " '코오롱': 5,\n",
       " '학습': 5,\n",
       " '대학': 4,\n",
       " '맞춤': 4,\n",
       " '전문': 4,\n",
       " '공학': 4,\n",
       " '속도': 4,\n",
       " '구축': 4,\n",
       " '블록체인': 4,\n",
       " '주제': 4,\n",
       " '클라우드': 4,\n",
       " '시대': 4,\n",
       " '필요': 4,\n",
       " '확보': 4}"
      ]
     },
     "execution_count": 34,
     "metadata": {},
     "output_type": "execute_result"
    }
   ],
   "source": [
    "dict(Counter(l).most_common(100))"
   ]
  },
  {
   "cell_type": "markdown",
   "metadata": {},
   "source": [
    "- dict 형태는 generate_from_frequencies 메서드 활용"
   ]
  },
  {
   "cell_type": "code",
   "execution_count": 35,
   "metadata": {},
   "outputs": [],
   "source": [
    "wc = WordCloud(font_path = 'AppleGothic', background_color = 'white').generate_from_frequencies(dict(Counter(l).most_common(100)))"
   ]
  },
  {
   "cell_type": "code",
   "execution_count": 36,
   "metadata": {},
   "outputs": [
    {
     "data": {
      "image/png": "[encoded data removed]",
      "text/plain": [
       "<Figure size 720x432 with 1 Axes>"
      ]
     },
     "metadata": {
      "needs_background": "light"
     },
     "output_type": "display_data"
    }
   ],
   "source": [
    "plt.figure(figsize = (10, 6))\n",
    "plt.imshow(wc)\n",
    "plt.show()"
   ]
  },
  {
   "cell_type": "markdown",
   "metadata": {},
   "source": [
    "***\n",
    "### 주제분석"
   ]
  },
  {
   "cell_type": "code",
   "execution_count": 207,
   "metadata": {},
   "outputs": [],
   "source": [
    "df = pd.read_csv('/Users/kisehyun/vacation/2019winter/비정형/wiki_movie_plots_deduped.csv')"
   ]
  },
  {
   "cell_type": "code",
   "execution_count": 208,
   "metadata": {
    "scrolled": false
   },
   "outputs": [
    {
     "data": {
      "text/html": [
       "<div>\n",
       "<style scoped>\n",
       "    .dataframe tbody tr th:only-of-type {\n",
       "        vertical-align: middle;\n",
       "    }\n",
       "\n",
       "    .dataframe tbody tr th {\n",
       "        vertical-align: top;\n",
       "    }\n",
       "\n",
       "    .dataframe thead th {\n",
       "        text-align: right;\n",
       "    }\n",
       "</style>\n",
       "<table border=\"1\" class=\"dataframe\">\n",
       "  <thead>\n",
       "    <tr style=\"text-align: right;\">\n",
       "      <th></th>\n",
       "      <th>Release Year</th>\n",
       "      <th>Title</th>\n",
       "      <th>Origin/Ethnicity</th>\n",
       "      <th>Director</th>\n",
       "      <th>Cast</th>\n",
       "      <th>Genre</th>\n",
       "      <th>Wiki Page</th>\n",
       "      <th>Plot</th>\n",
       "    </tr>\n",
       "  </thead>\n",
       "  <tbody>\n",
       "    <tr>\n",
       "      <th>0</th>\n",
       "      <td>1901</td>\n",
       "      <td>Kansas Saloon Smashers</td>\n",
       "      <td>American</td>\n",
       "      <td>Unknown</td>\n",
       "      <td>NaN</td>\n",
       "      <td>unknown</td>\n",
       "      <td>https://en.wikipedia.org/wiki/Kansas_Saloon_Sm...</td>\n",
       "      <td>A bartender is working at a saloon, serving dr...</td>\n",
       "    </tr>\n",
       "    <tr>\n",
       "      <th>1</th>\n",
       "      <td>1901</td>\n",
       "      <td>Love by the Light of the Moon</td>\n",
       "      <td>American</td>\n",
       "      <td>Unknown</td>\n",
       "      <td>NaN</td>\n",
       "      <td>unknown</td>\n",
       "      <td>https://en.wikipedia.org/wiki/Love_by_the_Ligh...</td>\n",
       "      <td>The moon, painted with a smiling face hangs ov...</td>\n",
       "    </tr>\n",
       "    <tr>\n",
       "      <th>2</th>\n",
       "      <td>1901</td>\n",
       "      <td>The Martyred Presidents</td>\n",
       "      <td>American</td>\n",
       "      <td>Unknown</td>\n",
       "      <td>NaN</td>\n",
       "      <td>unknown</td>\n",
       "      <td>https://en.wikipedia.org/wiki/The_Martyred_Pre...</td>\n",
       "      <td>The film, just over a minute long, is composed...</td>\n",
       "    </tr>\n",
       "    <tr>\n",
       "      <th>3</th>\n",
       "      <td>1901</td>\n",
       "      <td>Terrible Teddy, the Grizzly King</td>\n",
       "      <td>American</td>\n",
       "      <td>Unknown</td>\n",
       "      <td>NaN</td>\n",
       "      <td>unknown</td>\n",
       "      <td>https://en.wikipedia.org/wiki/Terrible_Teddy,_...</td>\n",
       "      <td>Lasting just 61 seconds and consisting of two ...</td>\n",
       "    </tr>\n",
       "    <tr>\n",
       "      <th>4</th>\n",
       "      <td>1902</td>\n",
       "      <td>Jack and the Beanstalk</td>\n",
       "      <td>American</td>\n",
       "      <td>George S. Fleming, Edwin S. Porter</td>\n",
       "      <td>NaN</td>\n",
       "      <td>unknown</td>\n",
       "      <td>https://en.wikipedia.org/wiki/Jack_and_the_Bea...</td>\n",
       "      <td>The earliest known adaptation of the classic f...</td>\n",
       "    </tr>\n",
       "  </tbody>\n",
       "</table>\n",
       "</div>"
      ],
      "text/plain": [
       "   Release Year                             Title Origin/Ethnicity  \\\n",
       "0          1901            Kansas Saloon Smashers         American   \n",
       "1          1901     Love by the Light of the Moon         American   \n",
       "2          1901           The Martyred Presidents         American   \n",
       "3          1901  Terrible Teddy, the Grizzly King         American   \n",
       "4          1902            Jack and the Beanstalk         American   \n",
       "\n",
       "                             Director Cast    Genre  \\\n",
       "0                             Unknown  NaN  unknown   \n",
       "1                             Unknown  NaN  unknown   \n",
       "2                             Unknown  NaN  unknown   \n",
       "3                             Unknown  NaN  unknown   \n",
       "4  George S. Fleming, Edwin S. Porter  NaN  unknown   \n",
       "\n",
       "                                           Wiki Page  \\\n",
       "0  https://en.wikipedia.org/wiki/Kansas_Saloon_Sm...   \n",
       "1  https://en.wikipedia.org/wiki/Love_by_the_Ligh...   \n",
       "2  https://en.wikipedia.org/wiki/The_Martyred_Pre...   \n",
       "3  https://en.wikipedia.org/wiki/Terrible_Teddy,_...   \n",
       "4  https://en.wikipedia.org/wiki/Jack_and_the_Bea...   \n",
       "\n",
       "                                                Plot  \n",
       "0  A bartender is working at a saloon, serving dr...  \n",
       "1  The moon, painted with a smiling face hangs ov...  \n",
       "2  The film, just over a minute long, is composed...  \n",
       "3  Lasting just 61 seconds and consisting of two ...  \n",
       "4  The earliest known adaptation of the classic f...  "
      ]
     },
     "execution_count": 208,
     "metadata": {},
     "output_type": "execute_result"
    }
   ],
   "source": [
    "df.head()"
   ]
  },
  {
   "cell_type": "code",
   "execution_count": 209,
   "metadata": {},
   "outputs": [],
   "source": [
    "plot = df['Plot']"
   ]
  },
  {
   "cell_type": "code",
   "execution_count": 210,
   "metadata": {},
   "outputs": [],
   "source": [
    "from sklearn.model_selection import train_test_split"
   ]
  },
  {
   "cell_type": "code",
   "execution_count": 211,
   "metadata": {},
   "outputs": [],
   "source": [
    "plot_train, plot_test = train_test_split(plot, test_size=.2, random_state=1234)"
   ]
  },
  {
   "cell_type": "code",
   "execution_count": 212,
   "metadata": {},
   "outputs": [],
   "source": [
    "tfidf = TfidfVectorizer(max_features = 2000, stop_words = 'english')"
   ]
  },
  {
   "cell_type": "code",
   "execution_count": 213,
   "metadata": {},
   "outputs": [],
   "source": [
    "x_train = tfidf.fit_transform(plot_train)\n",
    "x_test = tfidf.transform(plot_test)"
   ]
  },
  {
   "cell_type": "code",
   "execution_count": 214,
   "metadata": {},
   "outputs": [],
   "source": [
    "from gensim.matutils import Sparse2Corpus"
   ]
  },
  {
   "cell_type": "code",
   "execution_count": 215,
   "metadata": {},
   "outputs": [],
   "source": [
    "corpus = Sparse2Corpus(x_train.T)"
   ]
  },
  {
   "cell_type": "code",
   "execution_count": 217,
   "metadata": {},
   "outputs": [],
   "source": [
    "id2word = dict(enumerate(tfidf.get_feature_names()))"
   ]
  },
  {
   "cell_type": "code",
   "execution_count": 221,
   "metadata": {
    "scrolled": true
   },
   "outputs": [
    {
     "data": {
      "text/plain": [
       "'accept'"
      ]
     },
     "execution_count": 221,
     "metadata": {},
     "output_type": "execute_result"
    }
   ],
   "source": [
    "id2word[10]"
   ]
  },
  {
   "cell_type": "code",
   "execution_count": 222,
   "metadata": {},
   "outputs": [],
   "source": [
    "from gensim.models.ldamodel import LdaModel"
   ]
  },
  {
   "cell_type": "code",
   "execution_count": 225,
   "metadata": {},
   "outputs": [],
   "source": [
    "models = {}\n",
    "for num_topics in [5, 10, 50]:\n",
    "    models[num_topics] = LdaModel(\n",
    "        corpus = corpus,\n",
    "        num_topics = num_topics,\n",
    "        passes = 5, # 클수록 더 분석 잘됨 / 전체데이터 몇번 훑어보냐\n",
    "        iterations = 500, # 클수록 더 분석 잘됨\n",
    "        id2word = id2word,\n",
    "        random_state = 123)"
   ]
  },
  {
   "cell_type": "code",
   "execution_count": 226,
   "metadata": {},
   "outputs": [],
   "source": [
    "test_corpus = Sparse2Corpus(x_test.T)"
   ]
  },
  {
   "cell_type": "code",
   "execution_count": 227,
   "metadata": {},
   "outputs": [
    {
     "data": {
      "text/plain": [
       "-8.080769902303723"
      ]
     },
     "execution_count": 227,
     "metadata": {},
     "output_type": "execute_result"
    }
   ],
   "source": [
    "models[5].log_perplexity(test_corpus)"
   ]
  },
  {
   "cell_type": "markdown",
   "metadata": {},
   "source": [
    "#### Perplexity\n",
    "\n",
    "0에 가까울 수록 더 좋다.\n",
    "단어의 분포가 얼마나 정확한지"
   ]
  },
  {
   "cell_type": "code",
   "execution_count": 228,
   "metadata": {
    "scrolled": true
   },
   "outputs": [
    {
     "name": "stdout",
     "output_type": "stream",
     "text": [
      "5 -8.080758346311226\n",
      "10 -8.478776723703584\n",
      "50 -10.316311212846818\n"
     ]
    }
   ],
   "source": [
    "for num_topics in models:\n",
    "    print(num_topics, models[num_topics].log_perplexity(test_corpus))"
   ]
  },
  {
   "cell_type": "code",
   "execution_count": 236,
   "metadata": {
    "scrolled": true
   },
   "outputs": [
    {
     "data": {
      "text/plain": [
       "[(0,\n",
       "  '0.005*\"war\" + 0.004*\"ship\" + 0.004*\"king\" + 0.004*\"army\" + 0.003*\"men\" + 0.003*\"group\" + 0.003*\"island\" + 0.003*\"world\" + 0.003*\"captain\" + 0.003*\"japanese\"'),\n",
       " (1,\n",
       "  '0.113*\"tom\" + 0.072*\"jerry\" + 0.061*\"nick\" + 0.039*\"adam\" + 0.033*\"jake\" + 0.032*\"maggie\" + 0.031*\"bugs\" + 0.029*\"simon\" + 0.029*\"vicky\" + 0.025*\"leo\"'),\n",
       " (2,\n",
       "  '0.021*\"police\" + 0.012*\"gang\" + 0.011*\"murder\" + 0.008*\"crime\" + 0.008*\"officer\" + 0.008*\"inspector\" + 0.007*\"case\" + 0.007*\"killer\" + 0.007*\"criminal\" + 0.006*\"maya\"'),\n",
       " (3,\n",
       "  '0.004*\"new\" + 0.003*\"home\" + 0.003*\"father\" + 0.003*\"man\" + 0.003*\"john\" + 0.003*\"tells\" + 0.003*\"wife\" + 0.003*\"house\" + 0.003*\"mother\" + 0.003*\"money\"'),\n",
       " (4,\n",
       "  '0.010*\"love\" + 0.008*\"father\" + 0.007*\"family\" + 0.007*\"story\" + 0.007*\"village\" + 0.006*\"son\" + 0.006*\"life\" + 0.006*\"mother\" + 0.005*\"daughter\" + 0.005*\"film\"')]"
      ]
     },
     "execution_count": 236,
     "metadata": {},
     "output_type": "execute_result"
    }
   ],
   "source": [
    "models[5].show_topics()"
   ]
  },
  {
   "cell_type": "code",
   "execution_count": 230,
   "metadata": {},
   "outputs": [
    {
     "data": {
      "text/plain": [
       "[(1993, 0.06528280681046097),\n",
       " (1977, 0.07151206703394507),\n",
       " (1972, 0.05584072279450985),\n",
       " (1971, 0.08521185343204893),\n",
       " (1905, 0.08271537554653867),\n",
       " (1880, 0.07078730465734658),\n",
       " (1853, 0.037420602783727726),\n",
       " (1808, 0.13836375779228274),\n",
       " (1790, 0.057526286760798066),\n",
       " (1778, 0.05102612333044115)]"
      ]
     },
     "execution_count": 230,
     "metadata": {},
     "output_type": "execute_result"
    }
   ],
   "source": [
    "row = x_test[3]\n",
    "doc = list(zip(row.indices, row.data))\n",
    "doc[:10] # (몇번째 단어, 몇번 등장)"
   ]
  },
  {
   "cell_type": "code",
   "execution_count": 231,
   "metadata": {},
   "outputs": [
    {
     "data": {
      "text/plain": [
       "[(0, 0.023540417),\n",
       " (1, 0.031190291),\n",
       " (2, 0.6707645),\n",
       " (3, 0.023531703),\n",
       " (4, 0.25097308)]"
      ]
     },
     "execution_count": 231,
     "metadata": {},
     "output_type": "execute_result"
    }
   ],
   "source": [
    "models[5].get_document_topics(doc) # 이 문서가 몇번 토픽을 가지고 있는지 나타냄"
   ]
  },
  {
   "cell_type": "code",
   "execution_count": 238,
   "metadata": {
    "scrolled": false
   },
   "outputs": [
    {
     "data": {
      "text/plain": [
       "'Sakthi (Vijay) is the adopted son of a Madurai-based don Sivan (Mohanlal) and is also his right-hand man, bodyguard and driver. He hates the police due to a police officer killing his father, who was '"
      ]
     },
     "execution_count": 238,
     "metadata": {},
     "output_type": "execute_result"
    }
   ],
   "source": [
    "plot_test.iloc[3][:200] # 주로 kill, police 등 이야기"
   ]
  },
  {
   "cell_type": "markdown",
   "metadata": {},
   "source": [
    "### LSA"
   ]
  },
  {
   "cell_type": "code",
   "execution_count": 256,
   "metadata": {},
   "outputs": [],
   "source": [
    "from sklearn.decomposition import TruncatedSVD"
   ]
  },
  {
   "cell_type": "code",
   "execution_count": 271,
   "metadata": {},
   "outputs": [],
   "source": [
    "svd = TruncatedSVD(n_components = 10, random_state=1234) # 10개 주제 출력"
   ]
  },
  {
   "cell_type": "code",
   "execution_count": 272,
   "metadata": {},
   "outputs": [],
   "source": [
    "tr_svd = svd.fit(x_train)"
   ]
  },
  {
   "cell_type": "code",
   "execution_count": 273,
   "metadata": {},
   "outputs": [],
   "source": [
    "doc_emb = svd.transform(x_test)"
   ]
  },
  {
   "cell_type": "code",
   "execution_count": 274,
   "metadata": {},
   "outputs": [
    {
     "data": {
      "text/plain": [
       "(6978, 10)"
      ]
     },
     "execution_count": 274,
     "metadata": {},
     "output_type": "execute_result"
    }
   ],
   "source": [
    "doc_emb.shape"
   ]
  },
  {
   "cell_type": "code",
   "execution_count": 275,
   "metadata": {},
   "outputs": [],
   "source": [
    "loading = pd.DataFrame(svd.components_.T)"
   ]
  },
  {
   "cell_type": "code",
   "execution_count": 276,
   "metadata": {},
   "outputs": [],
   "source": [
    "loading['word'] = tfidf.get_feature_names()"
   ]
  },
  {
   "cell_type": "code",
   "execution_count": 277,
   "metadata": {
    "scrolled": true
   },
   "outputs": [
    {
     "data": {
      "text/html": [
       "<div>\n",
       "<style scoped>\n",
       "    .dataframe tbody tr th:only-of-type {\n",
       "        vertical-align: middle;\n",
       "    }\n",
       "\n",
       "    .dataframe tbody tr th {\n",
       "        vertical-align: top;\n",
       "    }\n",
       "\n",
       "    .dataframe thead th {\n",
       "        text-align: right;\n",
       "    }\n",
       "</style>\n",
       "<table border=\"1\" class=\"dataframe\">\n",
       "  <thead>\n",
       "    <tr style=\"text-align: right;\">\n",
       "      <th></th>\n",
       "      <th>0</th>\n",
       "      <th>word</th>\n",
       "    </tr>\n",
       "  </thead>\n",
       "  <tbody>\n",
       "    <tr>\n",
       "      <th>636</th>\n",
       "      <td>0.149419</td>\n",
       "      <td>father</td>\n",
       "    </tr>\n",
       "    <tr>\n",
       "      <th>1087</th>\n",
       "      <td>0.132846</td>\n",
       "      <td>love</td>\n",
       "    </tr>\n",
       "    <tr>\n",
       "      <th>630</th>\n",
       "      <td>0.128779</td>\n",
       "      <td>family</td>\n",
       "    </tr>\n",
       "    <tr>\n",
       "      <th>1110</th>\n",
       "      <td>0.113285</td>\n",
       "      <td>man</td>\n",
       "    </tr>\n",
       "    <tr>\n",
       "      <th>1188</th>\n",
       "      <td>0.109760</td>\n",
       "      <td>mother</td>\n",
       "    </tr>\n",
       "    <tr>\n",
       "      <th>...</th>\n",
       "      <td>...</td>\n",
       "      <td>...</td>\n",
       "    </tr>\n",
       "    <tr>\n",
       "      <th>1720</th>\n",
       "      <td>0.004829</td>\n",
       "      <td>steven</td>\n",
       "    </tr>\n",
       "    <tr>\n",
       "      <th>948</th>\n",
       "      <td>0.004761</td>\n",
       "      <td>josh</td>\n",
       "    </tr>\n",
       "    <tr>\n",
       "      <th>1010</th>\n",
       "      <td>0.004638</td>\n",
       "      <td>kyle</td>\n",
       "    </tr>\n",
       "    <tr>\n",
       "      <th>1128</th>\n",
       "      <td>0.004345</td>\n",
       "      <td>marty</td>\n",
       "    </tr>\n",
       "    <tr>\n",
       "      <th>1686</th>\n",
       "      <td>0.003683</td>\n",
       "      <td>spike</td>\n",
       "    </tr>\n",
       "  </tbody>\n",
       "</table>\n",
       "<p>2000 rows × 2 columns</p>\n",
       "</div>"
      ],
      "text/plain": [
       "             0    word\n",
       "636   0.149419  father\n",
       "1087  0.132846    love\n",
       "630   0.128779  family\n",
       "1110  0.113285     man\n",
       "1188  0.109760  mother\n",
       "...        ...     ...\n",
       "1720  0.004829  steven\n",
       "948   0.004761    josh\n",
       "1010  0.004638    kyle\n",
       "1128  0.004345   marty\n",
       "1686  0.003683   spike\n",
       "\n",
       "[2000 rows x 2 columns]"
      ]
     },
     "execution_count": 277,
     "metadata": {},
     "output_type": "execute_result"
    }
   ],
   "source": [
    "loading.sort_values(0, ascending=False).loc[:, [0, 'word']]"
   ]
  },
  {
   "cell_type": "code",
   "execution_count": 278,
   "metadata": {
    "scrolled": false
   },
   "outputs": [
    {
     "name": "stdout",
     "output_type": "stream",
     "text": [
      "Topic 1: [('father', 0.14942), ('love', 0.13285), ('family', 0.12878), ('man', 0.11329), ('mother', 0.10976)]\n",
      "Topic 2: [('love', 0.26227), ('father', 0.19947), ('village', 0.19565), ('family', 0.19342), ('marriage', 0.1504)]\n",
      "Topic 3: [('tom', 0.64096), ('jerry', 0.36855), ('mother', 0.07864), ('house', 0.07737), ('joe', 0.07518)]\n",
      "Topic 4: [('film', 0.54669), ('tom', 0.25103), ('story', 0.20438), ('jerry', 0.13898), ('life', 0.12745)]\n",
      "Topic 5: [('tom', 0.4907), ('jerry', 0.27631), ('village', 0.2592), ('king', 0.17162), ('raja', 0.11661)]\n",
      "Topic 6: [('film', 0.38355), ('police', 0.36652), ('story', 0.18817), ('gang', 0.17977), ('murder', 0.14428)]\n",
      "Topic 7: [('jack', 0.86631), ('film', 0.10321), ('wife', 0.09758), ('mary', 0.08244), ('sam', 0.07997)]\n",
      "Topic 8: [('joe', 0.4769), ('love', 0.38502), ('falls', 0.14386), ('raja', 0.12313), ('jack', 0.11856)]\n",
      "Topic 9: [('joe', 0.58395), ('village', 0.4289), ('family', 0.27784), ('villagers', 0.12338), ('father', 0.11654)]\n",
      "Topic 10: [('school', 0.4031), ('jack', 0.34005), ('village', 0.16699), ('team', 0.16635), ('students', 0.16501)]\n"
     ]
    }
   ],
   "source": [
    "def get_topics(components, feature_names, n=5):\n",
    "    for idx, topic in enumerate(components):\n",
    "        print(\"Topic %d:\" % (idx+1), [(feature_names[i], topic[i].round(5)) for i in topic.argsort()[:-n - 1:-1]])\n",
    "get_topics(tr_svd.components_, loading['word'])"
   ]
  },
  {
   "cell_type": "markdown",
   "metadata": {},
   "source": [
    "### NMF 활용"
   ]
  },
  {
   "cell_type": "code",
   "execution_count": 279,
   "metadata": {},
   "outputs": [],
   "source": [
    "from sklearn.decomposition import NMF"
   ]
  },
  {
   "cell_type": "code",
   "execution_count": 280,
   "metadata": {},
   "outputs": [
    {
     "data": {
      "text/plain": [
       "NMF(n_components=20, random_state=1234)"
      ]
     },
     "execution_count": 280,
     "metadata": {},
     "output_type": "execute_result"
    }
   ],
   "source": [
    "nmf = NMF(n_components = 20, random_state=1234)\n",
    "nmf.fit(x_train)"
   ]
  },
  {
   "cell_type": "code",
   "execution_count": 281,
   "metadata": {},
   "outputs": [],
   "source": [
    "loading = pd.DataFrame(nmf.components_.T)"
   ]
  },
  {
   "cell_type": "code",
   "execution_count": 282,
   "metadata": {},
   "outputs": [],
   "source": [
    "loading['word'] = tfidf.get_feature_names()"
   ]
  },
  {
   "cell_type": "code",
   "execution_count": 283,
   "metadata": {},
   "outputs": [
    {
     "data": {
      "text/html": [
       "<div>\n",
       "<style scoped>\n",
       "    .dataframe tbody tr th:only-of-type {\n",
       "        vertical-align: middle;\n",
       "    }\n",
       "\n",
       "    .dataframe tbody tr th {\n",
       "        vertical-align: top;\n",
       "    }\n",
       "\n",
       "    .dataframe thead th {\n",
       "        text-align: right;\n",
       "    }\n",
       "</style>\n",
       "<table border=\"1\" class=\"dataframe\">\n",
       "  <thead>\n",
       "    <tr style=\"text-align: right;\">\n",
       "      <th></th>\n",
       "      <th>0</th>\n",
       "      <th>word</th>\n",
       "    </tr>\n",
       "  </thead>\n",
       "  <tbody>\n",
       "    <tr>\n",
       "      <th>1797</th>\n",
       "      <td>0.960970</td>\n",
       "      <td>tells</td>\n",
       "    </tr>\n",
       "    <tr>\n",
       "      <th>850</th>\n",
       "      <td>0.893712</td>\n",
       "      <td>house</td>\n",
       "    </tr>\n",
       "    <tr>\n",
       "      <th>838</th>\n",
       "      <td>0.852376</td>\n",
       "      <td>home</td>\n",
       "    </tr>\n",
       "    <tr>\n",
       "      <th>1225</th>\n",
       "      <td>0.796090</td>\n",
       "      <td>new</td>\n",
       "    </tr>\n",
       "    <tr>\n",
       "      <th>1230</th>\n",
       "      <td>0.776854</td>\n",
       "      <td>night</td>\n",
       "    </tr>\n",
       "    <tr>\n",
       "      <th>1180</th>\n",
       "      <td>0.699460</td>\n",
       "      <td>money</td>\n",
       "    </tr>\n",
       "    <tr>\n",
       "      <th>263</th>\n",
       "      <td>0.693152</td>\n",
       "      <td>car</td>\n",
       "    </tr>\n",
       "    <tr>\n",
       "      <th>445</th>\n",
       "      <td>0.672845</td>\n",
       "      <td>day</td>\n",
       "    </tr>\n",
       "    <tr>\n",
       "      <th>743</th>\n",
       "      <td>0.644448</td>\n",
       "      <td>goes</td>\n",
       "    </tr>\n",
       "    <tr>\n",
       "      <th>1823</th>\n",
       "      <td>0.607291</td>\n",
       "      <td>time</td>\n",
       "    </tr>\n",
       "  </tbody>\n",
       "</table>\n",
       "</div>"
      ],
      "text/plain": [
       "             0   word\n",
       "1797  0.960970  tells\n",
       "850   0.893712  house\n",
       "838   0.852376   home\n",
       "1225  0.796090    new\n",
       "1230  0.776854  night\n",
       "1180  0.699460  money\n",
       "263   0.693152    car\n",
       "445   0.672845    day\n",
       "743   0.644448   goes\n",
       "1823  0.607291   time"
      ]
     },
     "execution_count": 283,
     "metadata": {},
     "output_type": "execute_result"
    }
   ],
   "source": [
    "loading.sort_values(0, ascending=False).loc[:, [0, 'word']].head(10)"
   ]
  },
  {
   "cell_type": "code",
   "execution_count": 284,
   "metadata": {},
   "outputs": [],
   "source": [
    "emb = nmf.transform(x_test)"
   ]
  },
  {
   "cell_type": "code",
   "execution_count": 290,
   "metadata": {},
   "outputs": [
    {
     "data": {
      "text/plain": [
       "[(0, 0.014872720424531754),\n",
       " (1, 0.014779370655314214),\n",
       " (8, 0.014452449778256257),\n",
       " (17, 0.01212802989601967),\n",
       " (9, 0.006738482993220086),\n",
       " (6, 0.004763297144121587),\n",
       " (19, 0.003527971358305374),\n",
       " (5, 0.0022847492473488063),\n",
       " (12, 0.0022113811414935275),\n",
       " (11, 0.0019661582044016098),\n",
       " (14, 0.0012251313093876275),\n",
       " (2, 0.0010372289295779475),\n",
       " (3, 0.0),\n",
       " (4, 0.0),\n",
       " (7, 0.0),\n",
       " (10, 0.0),\n",
       " (13, 0.0),\n",
       " (15, 0.0),\n",
       " (16, 0.0),\n",
       " (18, 0.0)]"
      ]
     },
     "execution_count": 290,
     "metadata": {},
     "output_type": "execute_result"
    }
   ],
   "source": [
    "sorted(list(enumerate(emb[150])), key=lambda x: x[1], reverse=True)\n",
    "# 0번차원이 가장 큼(0번 차원에 많은 단어 위치) / 좌표가 0은 해당 차원으로 단어가 없다"
   ]
  },
  {
   "cell_type": "markdown",
   "metadata": {},
   "source": [
    "### 감성분석\n",
    "#### 지도학습 기반"
   ]
  },
  {
   "cell_type": "code",
   "execution_count": 293,
   "metadata": {},
   "outputs": [],
   "source": [
    "data = pd.read_csv('/Users/kisehyun/Vacation/2019summer/python_machinelearning_guide/word2vec-nlp-tutorial/labeledTrainData.tsv', header = 0, sep = '\\t', quoting =3)"
   ]
  },
  {
   "cell_type": "code",
   "execution_count": 295,
   "metadata": {},
   "outputs": [
    {
     "data": {
      "text/html": [
       "<div>\n",
       "<style scoped>\n",
       "    .dataframe tbody tr th:only-of-type {\n",
       "        vertical-align: middle;\n",
       "    }\n",
       "\n",
       "    .dataframe tbody tr th {\n",
       "        vertical-align: top;\n",
       "    }\n",
       "\n",
       "    .dataframe thead th {\n",
       "        text-align: right;\n",
       "    }\n",
       "</style>\n",
       "<table border=\"1\" class=\"dataframe\">\n",
       "  <thead>\n",
       "    <tr style=\"text-align: right;\">\n",
       "      <th></th>\n",
       "      <th>id</th>\n",
       "      <th>sentiment</th>\n",
       "      <th>review</th>\n",
       "    </tr>\n",
       "  </thead>\n",
       "  <tbody>\n",
       "    <tr>\n",
       "      <th>0</th>\n",
       "      <td>\"5814_8\"</td>\n",
       "      <td>1</td>\n",
       "      <td>\"With all this stuff going down at the moment ...</td>\n",
       "    </tr>\n",
       "    <tr>\n",
       "      <th>1</th>\n",
       "      <td>\"2381_9\"</td>\n",
       "      <td>1</td>\n",
       "      <td>\"\\\"The Classic War of the Worlds\\\" by Timothy ...</td>\n",
       "    </tr>\n",
       "    <tr>\n",
       "      <th>2</th>\n",
       "      <td>\"7759_3\"</td>\n",
       "      <td>0</td>\n",
       "      <td>\"The film starts with a manager (Nicholas Bell...</td>\n",
       "    </tr>\n",
       "    <tr>\n",
       "      <th>3</th>\n",
       "      <td>\"3630_4\"</td>\n",
       "      <td>0</td>\n",
       "      <td>\"It must be assumed that those who praised thi...</td>\n",
       "    </tr>\n",
       "    <tr>\n",
       "      <th>4</th>\n",
       "      <td>\"9495_8\"</td>\n",
       "      <td>1</td>\n",
       "      <td>\"Superbly trashy and wondrously unpretentious ...</td>\n",
       "    </tr>\n",
       "  </tbody>\n",
       "</table>\n",
       "</div>"
      ],
      "text/plain": [
       "         id  sentiment                                             review\n",
       "0  \"5814_8\"          1  \"With all this stuff going down at the moment ...\n",
       "1  \"2381_9\"          1  \"\\\"The Classic War of the Worlds\\\" by Timothy ...\n",
       "2  \"7759_3\"          0  \"The film starts with a manager (Nicholas Bell...\n",
       "3  \"3630_4\"          0  \"It must be assumed that those who praised thi...\n",
       "4  \"9495_8\"          1  \"Superbly trashy and wondrously unpretentious ..."
      ]
     },
     "execution_count": 295,
     "metadata": {},
     "output_type": "execute_result"
    }
   ],
   "source": [
    "data.head()"
   ]
  },
  {
   "cell_type": "code",
   "execution_count": 296,
   "metadata": {},
   "outputs": [],
   "source": [
    "data['review'] = data.review.str.replace('<br />', ' ')"
   ]
  },
  {
   "cell_type": "code",
   "execution_count": 297,
   "metadata": {},
   "outputs": [],
   "source": [
    "data['review'] = data.review.apply(lambda x : re.sub(r'[^a-zA-Z]', ' ', x))"
   ]
  },
  {
   "cell_type": "code",
   "execution_count": 299,
   "metadata": {},
   "outputs": [],
   "source": [
    "X_train, X_test, y_train, y_test = train_test_split(data.review, data.sentiment, test_size = .2, random_state = 530)"
   ]
  },
  {
   "cell_type": "code",
   "execution_count": 300,
   "metadata": {},
   "outputs": [],
   "source": [
    "tfidf = TfidfVectorizer(max_features = 1000, ngram_range = (1,3), stop_words = 'english')"
   ]
  },
  {
   "cell_type": "code",
   "execution_count": 301,
   "metadata": {},
   "outputs": [],
   "source": [
    "X_train = tfidf.fit_transform(X_train)"
   ]
  },
  {
   "cell_type": "code",
   "execution_count": 302,
   "metadata": {},
   "outputs": [],
   "source": [
    "X_test = tfidf.transform(X_test)"
   ]
  },
  {
   "cell_type": "code",
   "execution_count": 303,
   "metadata": {},
   "outputs": [],
   "source": [
    "from sklearn.ensemble import RandomForestClassifier"
   ]
  },
  {
   "cell_type": "code",
   "execution_count": 304,
   "metadata": {},
   "outputs": [],
   "source": [
    "rf = RandomForestClassifier(random_state = 530)"
   ]
  },
  {
   "cell_type": "code",
   "execution_count": 305,
   "metadata": {},
   "outputs": [
    {
     "data": {
      "text/plain": [
       "RandomForestClassifier(random_state=530)"
      ]
     },
     "execution_count": 305,
     "metadata": {},
     "output_type": "execute_result"
    }
   ],
   "source": [
    "rf.fit(X_train, y_train)"
   ]
  },
  {
   "cell_type": "code",
   "execution_count": 306,
   "metadata": {},
   "outputs": [],
   "source": [
    "pred = rf.predict_proba(X_test)[:, 1]"
   ]
  },
  {
   "cell_type": "code",
   "execution_count": 307,
   "metadata": {},
   "outputs": [],
   "source": [
    "from sklearn.metrics import roc_auc_score"
   ]
  },
  {
   "cell_type": "code",
   "execution_count": 308,
   "metadata": {
    "scrolled": false
   },
   "outputs": [
    {
     "name": "stdout",
     "output_type": "stream",
     "text": [
      "roc-auc는 0.913046052866379\n"
     ]
    }
   ],
   "source": [
    "print(f'roc-auc는 {roc_auc_score(y_test, pred)}')"
   ]
  },
  {
   "cell_type": "markdown",
   "metadata": {},
   "source": [
    "#### 비지도학습 기반\n",
    "- lexicon을 기반으로 한다. \n",
    "\n",
    "- sentiwordnet : 감성 단어 전용의 wordnet, 긍정 감성, 부정감성, 객관성 지수가 있다. \n",
    "- vader : SNS에 대한 감성분석, 비교적 빠른 수행 시간을 보장한다.\n",
    "- pattern : 예측 성능에서 가장 주목 받는 패키지이다. 파이썬 3.x 버전에는 동작 x"
   ]
  },
  {
   "cell_type": "code",
   "execution_count": 309,
   "metadata": {},
   "outputs": [],
   "source": [
    "from nltk.corpus import wordnet as wn"
   ]
  },
  {
   "cell_type": "code",
   "execution_count": 322,
   "metadata": {},
   "outputs": [],
   "source": [
    "term = 'present'"
   ]
  },
  {
   "cell_type": "code",
   "execution_count": 323,
   "metadata": {},
   "outputs": [],
   "source": [
    "synsets = wn.synsets(term)"
   ]
  },
  {
   "cell_type": "code",
   "execution_count": 324,
   "metadata": {
    "scrolled": false
   },
   "outputs": [
    {
     "name": "stdout",
     "output_type": "stream",
     "text": [
      "### Synset Name : present.n.01 ###\n",
      "POS : noun.time\n",
      "Definition : the period of time that is happening now; any continuous stretch of time including the moment of speech\n",
      "Lemmas : ['present', 'nowadays']\n",
      "### Synset Name : present.n.02 ###\n",
      "POS : noun.possession\n",
      "Definition : something presented as a gift\n",
      "Lemmas : ['present']\n",
      "### Synset Name : present.n.03 ###\n",
      "POS : noun.communication\n",
      "Definition : a verb tense that expresses actions or states at the time of speaking\n",
      "Lemmas : ['present', 'present_tense']\n",
      "### Synset Name : show.v.01 ###\n",
      "POS : verb.perception\n",
      "Definition : give an exhibition of to an interested audience\n",
      "Lemmas : ['show', 'demo', 'exhibit', 'present', 'demonstrate']\n",
      "### Synset Name : present.v.02 ###\n",
      "POS : verb.communication\n",
      "Definition : bring forward and present to the mind\n",
      "Lemmas : ['present', 'represent', 'lay_out']\n",
      "### Synset Name : stage.v.01 ###\n",
      "POS : verb.creation\n",
      "Definition : perform (a play), especially on a stage\n",
      "Lemmas : ['stage', 'present', 'represent']\n",
      "### Synset Name : present.v.04 ###\n",
      "POS : verb.possession\n",
      "Definition : hand over formally\n",
      "Lemmas : ['present', 'submit']\n",
      "### Synset Name : present.v.05 ###\n",
      "POS : verb.stative\n",
      "Definition : introduce\n",
      "Lemmas : ['present', 'pose']\n",
      "### Synset Name : award.v.01 ###\n",
      "POS : verb.possession\n",
      "Definition : give, especially as an honor or reward\n",
      "Lemmas : ['award', 'present']\n",
      "### Synset Name : give.v.08 ###\n",
      "POS : verb.possession\n",
      "Definition : give as a present; make a gift of\n",
      "Lemmas : ['give', 'gift', 'present']\n",
      "### Synset Name : deliver.v.01 ###\n",
      "POS : verb.communication\n",
      "Definition : deliver (a speech, oration, or idea)\n",
      "Lemmas : ['deliver', 'present']\n",
      "### Synset Name : introduce.v.01 ###\n",
      "POS : verb.communication\n",
      "Definition : cause to come to know personally\n",
      "Lemmas : ['introduce', 'present', 'acquaint']\n",
      "### Synset Name : portray.v.04 ###\n",
      "POS : verb.creation\n",
      "Definition : represent abstractly, for example in a painting, drawing, or sculpture\n",
      "Lemmas : ['portray', 'present']\n",
      "### Synset Name : confront.v.03 ###\n",
      "POS : verb.communication\n",
      "Definition : present somebody with something, usually to accuse or criticize\n",
      "Lemmas : ['confront', 'face', 'present']\n",
      "### Synset Name : present.v.12 ###\n",
      "POS : verb.communication\n",
      "Definition : formally present a debutante, a representative of a country, etc.\n",
      "Lemmas : ['present']\n",
      "### Synset Name : salute.v.06 ###\n",
      "POS : verb.communication\n",
      "Definition : recognize with a gesture prescribed by a military regulation; assume a prescribed position\n",
      "Lemmas : ['salute', 'present']\n",
      "### Synset Name : present.a.01 ###\n",
      "POS : adj.all\n",
      "Definition : temporal sense; intermediate between past and future; now existing or happening or in consideration\n",
      "Lemmas : ['present']\n",
      "### Synset Name : present.a.02 ###\n",
      "POS : adj.all\n",
      "Definition : being or existing in a specified place\n",
      "Lemmas : ['present']\n"
     ]
    }
   ],
   "source": [
    "for s in synsets :\n",
    "    print(f'### Synset Name : {s.name()} ###')\n",
    "    print(f'POS : {s.lexname()}')\n",
    "    print(f'Definition : {s.definition()}')\n",
    "    print(f'Lemmas : {s.lemma_names()}')"
   ]
  },
  {
   "cell_type": "markdown",
   "metadata": {},
   "source": [
    "wordnet은 어떤 어휘와 다른 어휘 간의 관계를 유사도로 나타낼 수 있다."
   ]
  },
  {
   "cell_type": "code",
   "execution_count": 325,
   "metadata": {},
   "outputs": [],
   "source": [
    "tree = wn.synset('tree.n.01')\n",
    "cat = wn.synset('cat.n.01')\n",
    "lion = wn.synset('lion.n.01')\n",
    "dog = wn.synset('dog.n.01')\n",
    "flower = wn.synset('flower.n.01')\n",
    "car = wn.synset('car.n.01')"
   ]
  },
  {
   "cell_type": "code",
   "execution_count": 326,
   "metadata": {},
   "outputs": [],
   "source": [
    "e = [tree, cat, lion, dog, flower, car]"
   ]
  },
  {
   "cell_type": "code",
   "execution_count": 327,
   "metadata": {},
   "outputs": [],
   "source": [
    "s = []\n",
    "e_names = [en.name().split('.')[0] for en in e]"
   ]
  },
  {
   "cell_type": "code",
   "execution_count": 328,
   "metadata": {},
   "outputs": [],
   "source": [
    "for i in e :\n",
    "    sim = [round(i.path_similarity(c), 2) for c in e]\n",
    "    s.append(sim)"
   ]
  },
  {
   "cell_type": "code",
   "execution_count": 329,
   "metadata": {},
   "outputs": [],
   "source": [
    "s_df = pd.DataFrame(s, columns = e, index = e_names)"
   ]
  },
  {
   "cell_type": "code",
   "execution_count": 330,
   "metadata": {},
   "outputs": [
    {
     "data": {
      "text/html": [
       "<div>\n",
       "<style scoped>\n",
       "    .dataframe tbody tr th:only-of-type {\n",
       "        vertical-align: middle;\n",
       "    }\n",
       "\n",
       "    .dataframe tbody tr th {\n",
       "        vertical-align: top;\n",
       "    }\n",
       "\n",
       "    .dataframe thead th {\n",
       "        text-align: right;\n",
       "    }\n",
       "</style>\n",
       "<table border=\"1\" class=\"dataframe\">\n",
       "  <thead>\n",
       "    <tr style=\"text-align: right;\">\n",
       "      <th></th>\n",
       "      <th>Synset('tree.n.01')</th>\n",
       "      <th>Synset('cat.n.01')</th>\n",
       "      <th>Synset('lion.n.01')</th>\n",
       "      <th>Synset('dog.n.01')</th>\n",
       "      <th>Synset('flower.n.01')</th>\n",
       "      <th>Synset('car.n.01')</th>\n",
       "    </tr>\n",
       "  </thead>\n",
       "  <tbody>\n",
       "    <tr>\n",
       "      <th>tree</th>\n",
       "      <td>1.00</td>\n",
       "      <td>0.08</td>\n",
       "      <td>0.07</td>\n",
       "      <td>0.12</td>\n",
       "      <td>0.17</td>\n",
       "      <td>0.07</td>\n",
       "    </tr>\n",
       "    <tr>\n",
       "      <th>cat</th>\n",
       "      <td>0.08</td>\n",
       "      <td>1.00</td>\n",
       "      <td>0.25</td>\n",
       "      <td>0.20</td>\n",
       "      <td>0.07</td>\n",
       "      <td>0.06</td>\n",
       "    </tr>\n",
       "    <tr>\n",
       "      <th>lion</th>\n",
       "      <td>0.07</td>\n",
       "      <td>0.25</td>\n",
       "      <td>1.00</td>\n",
       "      <td>0.17</td>\n",
       "      <td>0.07</td>\n",
       "      <td>0.05</td>\n",
       "    </tr>\n",
       "    <tr>\n",
       "      <th>dog</th>\n",
       "      <td>0.12</td>\n",
       "      <td>0.20</td>\n",
       "      <td>0.17</td>\n",
       "      <td>1.00</td>\n",
       "      <td>0.11</td>\n",
       "      <td>0.08</td>\n",
       "    </tr>\n",
       "    <tr>\n",
       "      <th>flower</th>\n",
       "      <td>0.17</td>\n",
       "      <td>0.07</td>\n",
       "      <td>0.07</td>\n",
       "      <td>0.11</td>\n",
       "      <td>1.00</td>\n",
       "      <td>0.07</td>\n",
       "    </tr>\n",
       "    <tr>\n",
       "      <th>car</th>\n",
       "      <td>0.07</td>\n",
       "      <td>0.06</td>\n",
       "      <td>0.05</td>\n",
       "      <td>0.08</td>\n",
       "      <td>0.07</td>\n",
       "      <td>1.00</td>\n",
       "    </tr>\n",
       "  </tbody>\n",
       "</table>\n",
       "</div>"
      ],
      "text/plain": [
       "        Synset('tree.n.01')  Synset('cat.n.01')  Synset('lion.n.01')  \\\n",
       "tree                   1.00                0.08                 0.07   \n",
       "cat                    0.08                1.00                 0.25   \n",
       "lion                   0.07                0.25                 1.00   \n",
       "dog                    0.12                0.20                 0.17   \n",
       "flower                 0.17                0.07                 0.07   \n",
       "car                    0.07                0.06                 0.05   \n",
       "\n",
       "        Synset('dog.n.01')  Synset('flower.n.01')  Synset('car.n.01')  \n",
       "tree                  0.12                   0.17                0.07  \n",
       "cat                   0.20                   0.07                0.06  \n",
       "lion                  0.17                   0.07                0.05  \n",
       "dog                   1.00                   0.11                0.08  \n",
       "flower                0.11                   1.00                0.07  \n",
       "car                   0.08                   0.07                1.00  "
      ]
     },
     "execution_count": 330,
     "metadata": {},
     "output_type": "execute_result"
    }
   ],
   "source": [
    "s_df"
   ]
  },
  {
   "cell_type": "markdown",
   "metadata": {},
   "source": [
    "car와 lion이 유사도가 0.05로 가장 적고 cat과 lion이 유사도가 0.25로 가장 높다.\n",
    "\n",
    "senti_synset은 wordnet의 synset과 유사하다. "
   ]
  },
  {
   "cell_type": "code",
   "execution_count": 333,
   "metadata": {},
   "outputs": [
    {
     "name": "stderr",
     "output_type": "stream",
     "text": [
      "[nltk_data] Downloading package sentiwordnet to\n",
      "[nltk_data]     /Users/kisehyun/nltk_data...\n",
      "[nltk_data]   Unzipping corpora/sentiwordnet.zip.\n"
     ]
    }
   ],
   "source": [
    "nltk.download('sentiwordnet')\n",
    "from nltk.corpus import sentiwordnet as sw"
   ]
  },
  {
   "cell_type": "code",
   "execution_count": 334,
   "metadata": {},
   "outputs": [],
   "source": [
    "s = list(sw.senti_synsets('slow'))"
   ]
  },
  {
   "cell_type": "code",
   "execution_count": 337,
   "metadata": {
    "scrolled": true
   },
   "outputs": [
    {
     "data": {
      "text/plain": [
       "[SentiSynset('decelerate.v.01'),\n",
       " SentiSynset('slow.v.02'),\n",
       " SentiSynset('slow.v.03'),\n",
       " SentiSynset('slow.a.01'),\n",
       " SentiSynset('slow.a.02'),\n",
       " SentiSynset('dense.s.04'),\n",
       " SentiSynset('slow.a.04'),\n",
       " SentiSynset('boring.s.01'),\n",
       " SentiSynset('dull.s.08'),\n",
       " SentiSynset('slowly.r.01'),\n",
       " SentiSynset('behind.r.03')]"
      ]
     },
     "execution_count": 337,
     "metadata": {},
     "output_type": "execute_result"
    }
   ],
   "source": [
    "s"
   ]
  },
  {
   "cell_type": "code",
   "execution_count": 338,
   "metadata": {},
   "outputs": [],
   "source": [
    "father = sw.senti_synset('father.n.01')"
   ]
  },
  {
   "cell_type": "code",
   "execution_count": 339,
   "metadata": {},
   "outputs": [
    {
     "name": "stdout",
     "output_type": "stream",
     "text": [
      "긍정감성 지수 : 0.0\n",
      "부정감성 지수 : 0.0\n",
      "객관성 지수 : 1.0\n"
     ]
    }
   ],
   "source": [
    "print(f'긍정감성 지수 : {father.pos_score()}')\n",
    "print(f'부정감성 지수 : {father.neg_score()}')\n",
    "print(f'객관성 지수 : {father.obj_score()}')"
   ]
  },
  {
   "cell_type": "code",
   "execution_count": 340,
   "metadata": {},
   "outputs": [],
   "source": [
    "murder = sw.senti_synset('murder.v.01')"
   ]
  },
  {
   "cell_type": "code",
   "execution_count": 341,
   "metadata": {},
   "outputs": [
    {
     "name": "stdout",
     "output_type": "stream",
     "text": [
      "긍정감성 지수 : 0.0\n",
      "부정감성 지수 : 0.625\n",
      "객관성 지수 : 0.375\n"
     ]
    }
   ],
   "source": [
    "print(f'긍정감성 지수 : {murder.pos_score()}')\n",
    "print(f'부정감성 지수 : {murder.neg_score()}')\n",
    "print(f'객관성 지수 : {murder.obj_score()}')"
   ]
  },
  {
   "cell_type": "markdown",
   "metadata": {},
   "source": [
    "각 단어의 긍정 감성 지수와 부정 감성 지수를 모두 합한 총 감성지수가 0 이상일 경우 긍정 그렇지 않을 경우 부정 감성으로 예측"
   ]
  },
  {
   "cell_type": "code",
   "execution_count": 349,
   "metadata": {},
   "outputs": [
    {
     "name": "stderr",
     "output_type": "stream",
     "text": [
      "[nltk_data] Downloading package averaged_perceptron_tagger to\n",
      "[nltk_data]     /Users/kisehyun/nltk_data...\n",
      "[nltk_data]   Unzipping taggers/averaged_perceptron_tagger.zip.\n"
     ]
    },
    {
     "data": {
      "text/plain": [
       "True"
      ]
     },
     "execution_count": 349,
     "metadata": {},
     "output_type": "execute_result"
    }
   ],
   "source": [
    "from nltk import pos_tag\n",
    "nltk.download('averaged_perceptron_tagger')"
   ]
  },
  {
   "cell_type": "code",
   "execution_count": 352,
   "metadata": {},
   "outputs": [],
   "source": [
    "def penn_to_wn(x) :\n",
    "    if x.startswith('N') :\n",
    "        return wn.NOUN\n",
    "    elif x.startswith('A') :\n",
    "        return wn.ADJ\n",
    "    elif x.startswith('R') :\n",
    "        return wn.ADV\n",
    "    elif x.startswith('V') :\n",
    "        return wn.VERB"
   ]
  },
  {
   "cell_type": "code",
   "execution_count": 356,
   "metadata": {},
   "outputs": [],
   "source": [
    "def sw_polarity(x) :\n",
    "    s = 0\n",
    "    t_cnt = 0\n",
    "    \n",
    "    lemma = WordNetLemmatizer()\n",
    "    r_s = sent_tokenize(x)\n",
    "    \n",
    "    for i in r_s :\n",
    "        tagged_s = pos_tag(word_tokenize(i))\n",
    "        for w, t in tagged_s :\n",
    "            wn_tag = penn_to_wn(t)\n",
    "            if wn_tag not in (wn.NOUN, wn.ADJ, wn.ADV) :\n",
    "                continue\n",
    "            lem = lemma.lemmatize(w, pos = wn_tag)\n",
    "            if not lem :\n",
    "                continue\n",
    "            synsets = wn.synsets(lem, pos = wn_tag)\n",
    "            if not synsets :\n",
    "                continue\n",
    "                \n",
    "            synset = synsets[0]\n",
    "            sw_synset = sw.senti_synset(synset.name())\n",
    "            s += (sw_synset.pos_score() - sw_synset.neg_score())\n",
    "            t_cnt += 1\n",
    "    if not t_cnt :\n",
    "        return 0\n",
    "    if s >= 0 :\n",
    "        return 1\n",
    "    return 0"
   ]
  },
  {
   "cell_type": "code",
   "execution_count": 357,
   "metadata": {},
   "outputs": [],
   "source": [
    "data['pred'] = data.review.apply(sw_polarity)"
   ]
  },
  {
   "cell_type": "code",
   "execution_count": 363,
   "metadata": {},
   "outputs": [],
   "source": [
    "from sklearn.metrics import confusion_matrix, accuracy_score"
   ]
  },
  {
   "cell_type": "code",
   "execution_count": 362,
   "metadata": {},
   "outputs": [
    {
     "name": "stdout",
     "output_type": "stream",
     "text": [
      "[[6781 5719]\n",
      " [5243 7257]]\n"
     ]
    }
   ],
   "source": [
    "print(confusion_matrix(data['sentiment'], data['pred']))"
   ]
  },
  {
   "cell_type": "code",
   "execution_count": 371,
   "metadata": {
    "scrolled": true
   },
   "outputs": [
    {
     "name": "stdout",
     "output_type": "stream",
     "text": [
      "정확도는 56.152%\n"
     ]
    }
   ],
   "source": [
    "print(f'정확도는 {accuracy_score(data.sentiment, data.pred) * 100}%')"
   ]
  },
  {
   "cell_type": "markdown",
   "metadata": {},
   "source": [
    "#### vader 활용 감성 분석"
   ]
  },
  {
   "cell_type": "code",
   "execution_count": 374,
   "metadata": {},
   "outputs": [
    {
     "name": "stderr",
     "output_type": "stream",
     "text": [
      "[nltk_data] Downloading package vader_lexicon to\n",
      "[nltk_data]     /Users/kisehyun/nltk_data...\n"
     ]
    }
   ],
   "source": [
    "nltk.download('vader_lexicon')\n",
    "from nltk.sentiment.vader import SentimentIntensityAnalyzer"
   ]
  },
  {
   "cell_type": "code",
   "execution_count": 375,
   "metadata": {},
   "outputs": [],
   "source": [
    "analyzer = SentimentIntensityAnalyzer()"
   ]
  },
  {
   "cell_type": "code",
   "execution_count": 380,
   "metadata": {},
   "outputs": [
    {
     "data": {
      "text/plain": [
       "' With all this stuff going down at the moment with MJ i ve started listening to his music  watching the odd documentary here and there  watched The Wiz and watched Moonwalker again  Maybe i just want to get a certain insight into this guy who i thought was really cool in the eighties just to maybe make up my mind whether he is guilty or innocent  Moonwalker is part biography  part feature film which i remember going to see at the cinema when it was originally released  Some of it has subtle messages about MJ s feeling towards the press and also the obvious message of drugs are bad m kay   Visually impressive but of course this is all about Michael Jackson so unless you remotely like MJ in anyway then you are going to hate this and find it boring  Some may call MJ an egotist for consenting to the making of this movie BUT MJ and most of his fans would say that he made it for the fans which if true is really nice of him   The actual feature film bit when it finally starts is only on for    minutes or so excluding the Smooth Criminal sequence and Joe Pesci is convincing as a psychopathic all powerful drug lord  Why he wants MJ dead so bad is beyond me  Because MJ overheard his plans  Nah  Joe Pesci s character ranted that he wanted people to know it is he who is supplying drugs etc so i dunno  maybe he just hates MJ s music   Lots of cool things in this like MJ turning into a car and a robot and the whole Speed Demon sequence  Also  the director must have had the patience of a saint when it came to filming the kiddy Bad sequence as usually directors hate working with one kid let alone a whole bunch of them performing a complex dance scene   Bottom line  this movie is for people who like MJ on one level or another  which i think is most people   If not  then stay away  It does try and give off a wholesome message and ironically MJ s bestest buddy in this movie is a girl  Michael Jackson is truly one of the most talented people ever to grace this planet but is he guilty  Well  with all the attention i ve gave this subject    hmmm well i don t know because people can be different behind closed doors  i know this for a fact  He is either an extremely nice but stupid guy or one of the most sickest liars  I hope he is not the latter  '"
      ]
     },
     "execution_count": 380,
     "metadata": {},
     "output_type": "execute_result"
    }
   ],
   "source": [
    "data.review[0]"
   ]
  },
  {
   "cell_type": "code",
   "execution_count": 376,
   "metadata": {},
   "outputs": [
    {
     "name": "stdout",
     "output_type": "stream",
     "text": [
      "{'neg': 0.13, 'neu': 0.743, 'pos': 0.127, 'compound': -0.7943}\n"
     ]
    }
   ],
   "source": [
    "score = analyzer.polarity_scores(data['review'][0])\n",
    "print(score)"
   ]
  },
  {
   "cell_type": "code",
   "execution_count": 384,
   "metadata": {},
   "outputs": [],
   "source": [
    "def vader_polrity(x,  threshold = .15) :\n",
    "    analyzer = SentimentIntensityAnalyzer()\n",
    "    score = analyzer.polarity_scores(x)\n",
    "    \n",
    "    agg_score = score['compound']\n",
    "    final = 1 if agg_score >= threshold else 0\n",
    "    return final"
   ]
  },
  {
   "cell_type": "code",
   "execution_count": 385,
   "metadata": {},
   "outputs": [],
   "source": [
    "data['vader_pred'] = data.review.apply(lambda x : vader_polrity(x, 0.15))"
   ]
  },
  {
   "cell_type": "code",
   "execution_count": 386,
   "metadata": {},
   "outputs": [
    {
     "name": "stdout",
     "output_type": "stream",
     "text": [
      "[[ 6829  5671]\n",
      " [ 1895 10605]]\n"
     ]
    }
   ],
   "source": [
    "print(confusion_matrix(data['sentiment'], data['vader_pred']))"
   ]
  },
  {
   "cell_type": "code",
   "execution_count": 387,
   "metadata": {
    "scrolled": true
   },
   "outputs": [
    {
     "name": "stdout",
     "output_type": "stream",
     "text": [
      "정확도는 69.736%\n"
     ]
    }
   ],
   "source": [
    "print(f'정확도는 {accuracy_score(data.sentiment, data.vader_pred) * 100}%')"
   ]
  },
  {
   "cell_type": "markdown",
   "metadata": {},
   "source": [
    "## 문서 유사도\n",
    "### Doc2Vec\n",
    "- window = n-gram\n",
    "- size = 벡터 사이즈\n",
    "- alpha = learning_rate\n",
    "- dim = 학습방법 1 : PV-DM, 0 : PV_DBOW"
   ]
  },
  {
   "cell_type": "code",
   "execution_count": 392,
   "metadata": {},
   "outputs": [],
   "source": [
    "from gensim.models.doc2vec import Doc2Vec, TaggedDocument\n",
    "from nltk.tokenize import RegexpTokenizer"
   ]
  },
  {
   "cell_type": "code",
   "execution_count": 393,
   "metadata": {},
   "outputs": [],
   "source": [
    "s_w = set(stopwords.words('english'))"
   ]
  },
  {
   "cell_type": "code",
   "execution_count": 394,
   "metadata": {},
   "outputs": [],
   "source": [
    "tokenizer = RegexpTokenizer(\"[\\w']+\")"
   ]
  },
  {
   "cell_type": "code",
   "execution_count": 395,
   "metadata": {},
   "outputs": [],
   "source": [
    "token_plot = []"
   ]
  },
  {
   "cell_type": "code",
   "execution_count": 397,
   "metadata": {
    "scrolled": true
   },
   "outputs": [
    {
     "name": "stderr",
     "output_type": "stream",
     "text": [
      "100%|██████████| 34886/34886 [00:03<00:00, 9717.27it/s] \n"
     ]
    }
   ],
   "source": [
    "for text in tqdm(range(len(df.Plot))):\n",
    "    token_plot.append(tokenizer.tokenize(df.Plot[text]))"
   ]
  },
  {
   "cell_type": "code",
   "execution_count": 398,
   "metadata": {},
   "outputs": [],
   "source": [
    "t_s_w = []"
   ]
  },
  {
   "cell_type": "code",
   "execution_count": 399,
   "metadata": {
    "collapsed": true
   },
   "outputs": [
    {
     "name": "stderr",
     "output_type": "stream",
     "text": [
      "100%|██████████| 34886/34886 [00:01<00:00, 28980.84it/s]\n"
     ]
    }
   ],
   "source": [
    "for word in tqdm(range(len(token_plot))):\n",
    "    t_s_w.append([text for text in token_plot[word] if not text in s_w])"
   ]
  },
  {
   "cell_type": "code",
   "execution_count": 400,
   "metadata": {},
   "outputs": [],
   "source": [
    "df['token_plot'] = t_s_w"
   ]
  },
  {
   "cell_type": "code",
   "execution_count": 401,
   "metadata": {},
   "outputs": [],
   "source": [
    "doc_df = df[['Title','token_plot']].values.tolist()\n",
    "tagged_data = [TaggedDocument(words=_d, tags=[uid]) for uid, _d in doc_df]"
   ]
  },
  {
   "cell_type": "code",
   "execution_count": 402,
   "metadata": {},
   "outputs": [
    {
     "name": "stderr",
     "output_type": "stream",
     "text": [
      "/Users/kisehyun/opt/anaconda3/lib/python3.8/site-packages/gensim/models/doc2vec.py:319: UserWarning: The parameter `size` is deprecated, will be removed in 4.0.0, use `vector_size` instead.\n",
      "  warnings.warn(\"The parameter `size` is deprecated, will be removed in 4.0.0, use `vector_size` instead.\")\n"
     ]
    },
    {
     "name": "stdout",
     "output_type": "stream",
     "text": [
      "iteration 0\n"
     ]
    },
    {
     "name": "stderr",
     "output_type": "stream",
     "text": [
      "<ipython-input-402-8d3f02b7c84c>:19: DeprecationWarning: Call to deprecated `iter` (Attribute will be removed in 4.0.0, use self.epochs instead).\n",
      "  epochs=model.iter)\n"
     ]
    },
    {
     "name": "stdout",
     "output_type": "stream",
     "text": [
      "iteration 1\n",
      "iteration 2\n",
      "iteration 3\n",
      "iteration 4\n",
      "iteration 5\n",
      "iteration 6\n",
      "iteration 7\n",
      "iteration 8\n",
      "iteration 9\n"
     ]
    }
   ],
   "source": [
    "max_epochs = 10\n",
    "\n",
    "model = Doc2Vec(\n",
    "    window = 5,\n",
    "    size = 500,\n",
    "    alpha = 0.025, \n",
    "    min_alpha = 0.025,\n",
    "    min_count = 3,\n",
    "    dm = 1,\n",
    "    negative = 5,\n",
    "    seed = 530)\n",
    "  \n",
    "model.build_vocab(tagged_data)\n",
    "\n",
    "for epoch in range(max_epochs):\n",
    "    print('iteration {0}'.format(epoch))\n",
    "    model.train(tagged_data,\n",
    "                total_examples=model.corpus_count,\n",
    "                epochs=model.iter)\n",
    "    # decrease the learning rate\n",
    "    model.alpha -= 0.002\n",
    "    # fix the learning rate, no decay\n",
    "    model.min_alpha = model.alpha"
   ]
  },
  {
   "cell_type": "code",
   "execution_count": 405,
   "metadata": {},
   "outputs": [],
   "source": [
    "model.random.seed(530)"
   ]
  },
  {
   "cell_type": "code",
   "execution_count": 406,
   "metadata": {},
   "outputs": [
    {
     "name": "stdout",
     "output_type": "stream",
     "text": [
      "유사 영화 제목은 Return of the Jedi\n",
      "#############------############------#########################------############------############\n",
      "유사 영화 제목은 Star Wars Episode IV: A New Hope (aka Star Wars)\n",
      "#############------############------#########################------############------############\n",
      "유사 영화 제목은 The Empire Strikes Back\n",
      "#############------############------#########################------############------############\n",
      "유사 영화 제목은 Star Wars: Episode I – The Phantom Menace 3D\n",
      "#############------############------#########################------############------############\n",
      "유사 영화 제목은 Star Wars: Episode III – Revenge of the Sith\n",
      "#############------############------#########################------############------############\n",
      "유사 영화 제목은 Star Wars: Episode I – The Phantom Menace\n",
      "#############------############------#########################------############------############\n",
      "유사 영화 제목은 Star Wars: The Force Unleashed\n",
      "#############------############------#########################------############------############\n",
      "유사 영화 제목은 Star Wars: The Force Unleashed II\n",
      "#############------############------#########################------############------############\n",
      "유사 영화 제목은 Rogue One: A Star Wars Story (film)\n",
      "#############------############------#########################------############------############\n",
      "유사 영화 제목은 Sun Vulcan Movie\n",
      "#############------############------#########################------############------############\n"
     ]
    }
   ],
   "source": [
    "return_docs = model.docvecs.most_similar('Star Wars: The Last Jedi',topn = 10)\n",
    "for s_m in return_docs:\n",
    "    for context in df[df['Title'] == s_m[0]]['Plot']:\n",
    "        print('유사 영화 제목은', s_m[0])\n",
    "        #print('유사도는', s_m[1])\n",
    "        #print('영화 내용은', context)\n",
    "        print('#############------############------############'*2)"
   ]
  },
  {
   "cell_type": "markdown",
   "metadata": {},
   "source": [
    "### 코사인 유사도\n"
   ]
  },
  {
   "cell_type": "code",
   "execution_count": 407,
   "metadata": {},
   "outputs": [],
   "source": [
    "from sklearn.metrics.pairwise import linear_kernel"
   ]
  },
  {
   "cell_type": "code",
   "execution_count": 410,
   "metadata": {},
   "outputs": [
    {
     "name": "stdout",
     "output_type": "stream",
     "text": [
      "(34886, 1500)\n"
     ]
    }
   ],
   "source": [
    "tfidf = TfidfVectorizer(stop_words='english', max_features = 1500)\n",
    "\n",
    "tfidf_matrix = tfidf.fit_transform(df['Plot'])\n",
    "print(tfidf_matrix.shape)"
   ]
  },
  {
   "cell_type": "code",
   "execution_count": 411,
   "metadata": {},
   "outputs": [],
   "source": [
    "cosine_sim = linear_kernel(tfidf_matrix, tfidf_matrix)"
   ]
  },
  {
   "cell_type": "code",
   "execution_count": 415,
   "metadata": {},
   "outputs": [],
   "source": [
    "indices = pd.Series(df.index,index=df['Title']).drop_duplicates()"
   ]
  },
  {
   "cell_type": "code",
   "execution_count": 423,
   "metadata": {},
   "outputs": [],
   "source": [
    "def get_recommendations(title, cosine_sim=cosine_sim):\n",
    "    idx = indices[title]\n",
    "\n",
    "    sim_scores = list(enumerate(cosine_sim[idx]))\n",
    "\n",
    "    sim_scores = sorted(sim_scores, key=lambda x: x[1], reverse=True)\n",
    "\n",
    "    sim_scores = sim_scores[1:11]\n",
    "\n",
    "    movie_indices = [i[0] for i in sim_scores]\n",
    "\n",
    "    return df['Title'].iloc[movie_indices]"
   ]
  },
  {
   "cell_type": "code",
   "execution_count": 424,
   "metadata": {},
   "outputs": [
    {
     "data": {
      "text/plain": [
       "11434    Initiation: Silent Night, Deadly Night 4\n",
       "16382                                     Taken 2\n",
       "15543                                       Taken\n",
       "16907                               The Interview\n",
       "34741                                 The Priests\n",
       "21111                                 Chalet Girl\n",
       "17876                           Kath & Kimderella\n",
       "5853                            Fair Wind to Java\n",
       "23387                         The Three Swordsmen\n",
       "34535                                     Unbowed\n",
       "Name: Title, dtype: object"
      ]
     },
     "execution_count": 424,
     "metadata": {},
     "output_type": "execute_result"
    }
   ],
   "source": [
    "get_recommendations('Taken 3')"
   ]
  },
  {
   "cell_type": "markdown",
   "metadata": {},
   "source": [
    "### 한글 텍스트 분류 - Tfidf + LGBM + multiclass"
   ]
  },
  {
   "cell_type": "code",
   "execution_count": 37,
   "metadata": {},
   "outputs": [],
   "source": [
    "train = pd.read_csv('train.csv')\n",
    "test = pd.read_csv('test.csv')"
   ]
  },
  {
   "cell_type": "code",
   "execution_count": 38,
   "metadata": {},
   "outputs": [
    {
     "data": {
      "text/html": [
       "<div>\n",
       "<style scoped>\n",
       "    .dataframe tbody tr th:only-of-type {\n",
       "        vertical-align: middle;\n",
       "    }\n",
       "\n",
       "    .dataframe tbody tr th {\n",
       "        vertical-align: top;\n",
       "    }\n",
       "\n",
       "    .dataframe thead th {\n",
       "        text-align: right;\n",
       "    }\n",
       "</style>\n",
       "<table border=\"1\" class=\"dataframe\">\n",
       "  <thead>\n",
       "    <tr style=\"text-align: right;\">\n",
       "      <th></th>\n",
       "      <th>index</th>\n",
       "      <th>category</th>\n",
       "      <th>data</th>\n",
       "    </tr>\n",
       "  </thead>\n",
       "  <tbody>\n",
       "    <tr>\n",
       "      <th>0</th>\n",
       "      <td>0</td>\n",
       "      <td>2</td>\n",
       "      <td>신혼부부위한 주택정책 보다 보육시설 늘려주세요.. 국민세금으로 일부를 위한 정책펴지...</td>\n",
       "    </tr>\n",
       "    <tr>\n",
       "      <th>1</th>\n",
       "      <td>1</td>\n",
       "      <td>0</td>\n",
       "      <td>학교이름에 '남자'도 붙여주세요. 울산여자중학교에 재학중인 학생입니다 최근 양성평등...</td>\n",
       "    </tr>\n",
       "    <tr>\n",
       "      <th>2</th>\n",
       "      <td>2</td>\n",
       "      <td>1</td>\n",
       "      <td>빙상연맹, 대한축구협회등 각종 체육협회의 비리를 철저하게 밝혀주세요.. 최근 동계올...</td>\n",
       "    </tr>\n",
       "    <tr>\n",
       "      <th>3</th>\n",
       "      <td>3</td>\n",
       "      <td>1</td>\n",
       "      <td>티비 12세,15세 관람가도 연령확인 의무화 하자.. 제기 에전에 티비를 보다가 잠...</td>\n",
       "    </tr>\n",
       "    <tr>\n",
       "      <th>4</th>\n",
       "      <td>4</td>\n",
       "      <td>1</td>\n",
       "      <td>무더운 여름철엔 남성들도 시원한 자율복장을 해야. 무더운 여름철에는 남성들도 노넥타...</td>\n",
       "    </tr>\n",
       "  </tbody>\n",
       "</table>\n",
       "</div>"
      ],
      "text/plain": [
       "   index  category                                               data\n",
       "0      0         2  신혼부부위한 주택정책 보다 보육시설 늘려주세요.. 국민세금으로 일부를 위한 정책펴지...\n",
       "1      1         0  학교이름에 '남자'도 붙여주세요. 울산여자중학교에 재학중인 학생입니다 최근 양성평등...\n",
       "2      2         1  빙상연맹, 대한축구협회등 각종 체육협회의 비리를 철저하게 밝혀주세요.. 최근 동계올...\n",
       "3      3         1  티비 12세,15세 관람가도 연령확인 의무화 하자.. 제기 에전에 티비를 보다가 잠...\n",
       "4      4         1  무더운 여름철엔 남성들도 시원한 자율복장을 해야. 무더운 여름철에는 남성들도 노넥타..."
      ]
     },
     "execution_count": 38,
     "metadata": {},
     "output_type": "execute_result"
    }
   ],
   "source": [
    "train.head()"
   ]
  },
  {
   "cell_type": "code",
   "execution_count": 39,
   "metadata": {},
   "outputs": [
    {
     "data": {
      "text/html": [
       "<div>\n",
       "<style scoped>\n",
       "    .dataframe tbody tr th:only-of-type {\n",
       "        vertical-align: middle;\n",
       "    }\n",
       "\n",
       "    .dataframe tbody tr th {\n",
       "        vertical-align: top;\n",
       "    }\n",
       "\n",
       "    .dataframe thead th {\n",
       "        text-align: right;\n",
       "    }\n",
       "</style>\n",
       "<table border=\"1\" class=\"dataframe\">\n",
       "  <thead>\n",
       "    <tr style=\"text-align: right;\">\n",
       "      <th></th>\n",
       "      <th>index</th>\n",
       "      <th>data</th>\n",
       "    </tr>\n",
       "  </thead>\n",
       "  <tbody>\n",
       "    <tr>\n",
       "      <th>0</th>\n",
       "      <td>0</td>\n",
       "      <td>소년법 폐지해주세요. 법 아래에서 보호받아야 할 아이들이\\n법으로 인해 보호받지 못...</td>\n",
       "    </tr>\n",
       "    <tr>\n",
       "      <th>1</th>\n",
       "      <td>1</td>\n",
       "      <td>국공립 유치원 증설에 관하여. 국공립 유치원 부지 학보와건립및 증설에\\n*지역 어린...</td>\n",
       "    </tr>\n",
       "    <tr>\n",
       "      <th>2</th>\n",
       "      <td>2</td>\n",
       "      <td>나경원파면. 나경원의원의  동계올림픽 위원을 파면해 주세요</td>\n",
       "    </tr>\n",
       "    <tr>\n",
       "      <th>3</th>\n",
       "      <td>3</td>\n",
       "      <td>국민위원에가 삼성편만들어요. 삼성에서 11년간  일하고 혈암과 백혈병 진단을 받은 ...</td>\n",
       "    </tr>\n",
       "    <tr>\n",
       "      <th>4</th>\n",
       "      <td>4</td>\n",
       "      <td>방과후,유치원,어린이집 영어교육을 유지시켜주세요. 저는 아이 셋 키우는 평범한 주부...</td>\n",
       "    </tr>\n",
       "  </tbody>\n",
       "</table>\n",
       "</div>"
      ],
      "text/plain": [
       "   index                                               data\n",
       "0      0  소년법 폐지해주세요. 법 아래에서 보호받아야 할 아이들이\\n법으로 인해 보호받지 못...\n",
       "1      1  국공립 유치원 증설에 관하여. 국공립 유치원 부지 학보와건립및 증설에\\n*지역 어린...\n",
       "2      2                   나경원파면. 나경원의원의  동계올림픽 위원을 파면해 주세요\n",
       "3      3  국민위원에가 삼성편만들어요. 삼성에서 11년간  일하고 혈암과 백혈병 진단을 받은 ...\n",
       "4      4  방과후,유치원,어린이집 영어교육을 유지시켜주세요. 저는 아이 셋 키우는 평범한 주부..."
      ]
     },
     "execution_count": 39,
     "metadata": {},
     "output_type": "execute_result"
    }
   ],
   "source": [
    "test.head()"
   ]
  },
  {
   "cell_type": "code",
   "execution_count": 40,
   "metadata": {
    "scrolled": true
   },
   "outputs": [
    {
     "data": {
      "text/plain": [
       "2    13362\n",
       "1    13337\n",
       "0    13301\n",
       "Name: category, dtype: int64"
      ]
     },
     "execution_count": 40,
     "metadata": {},
     "output_type": "execute_result"
    }
   ],
   "source": [
    "train.category.value_counts()"
   ]
  },
  {
   "cell_type": "code",
   "execution_count": 41,
   "metadata": {
    "scrolled": false
   },
   "outputs": [
    {
     "data": {
      "text/html": [
       "<div>\n",
       "<style scoped>\n",
       "    .dataframe tbody tr th:only-of-type {\n",
       "        vertical-align: middle;\n",
       "    }\n",
       "\n",
       "    .dataframe tbody tr th {\n",
       "        vertical-align: top;\n",
       "    }\n",
       "\n",
       "    .dataframe thead th {\n",
       "        text-align: right;\n",
       "    }\n",
       "</style>\n",
       "<table border=\"1\" class=\"dataframe\">\n",
       "  <thead>\n",
       "    <tr style=\"text-align: right;\">\n",
       "      <th></th>\n",
       "      <th>index</th>\n",
       "      <th>category</th>\n",
       "      <th>data</th>\n",
       "    </tr>\n",
       "  </thead>\n",
       "  <tbody>\n",
       "    <tr>\n",
       "      <th>2819</th>\n",
       "      <td>2819</td>\n",
       "      <td>0</td>\n",
       "      <td>NaN</td>\n",
       "    </tr>\n",
       "    <tr>\n",
       "      <th>3462</th>\n",
       "      <td>3462</td>\n",
       "      <td>1</td>\n",
       "      <td>NaN</td>\n",
       "    </tr>\n",
       "    <tr>\n",
       "      <th>20934</th>\n",
       "      <td>20934</td>\n",
       "      <td>2</td>\n",
       "      <td>NaN</td>\n",
       "    </tr>\n",
       "    <tr>\n",
       "      <th>22856</th>\n",
       "      <td>22856</td>\n",
       "      <td>2</td>\n",
       "      <td>NaN</td>\n",
       "    </tr>\n",
       "    <tr>\n",
       "      <th>26550</th>\n",
       "      <td>26550</td>\n",
       "      <td>2</td>\n",
       "      <td>NaN</td>\n",
       "    </tr>\n",
       "    <tr>\n",
       "      <th>28546</th>\n",
       "      <td>28546</td>\n",
       "      <td>2</td>\n",
       "      <td>NaN</td>\n",
       "    </tr>\n",
       "    <tr>\n",
       "      <th>31400</th>\n",
       "      <td>31400</td>\n",
       "      <td>1</td>\n",
       "      <td>NaN</td>\n",
       "    </tr>\n",
       "    <tr>\n",
       "      <th>36070</th>\n",
       "      <td>36070</td>\n",
       "      <td>0</td>\n",
       "      <td>NaN</td>\n",
       "    </tr>\n",
       "  </tbody>\n",
       "</table>\n",
       "</div>"
      ],
      "text/plain": [
       "       index  category data\n",
       "2819    2819         0  NaN\n",
       "3462    3462         1  NaN\n",
       "20934  20934         2  NaN\n",
       "22856  22856         2  NaN\n",
       "26550  26550         2  NaN\n",
       "28546  28546         2  NaN\n",
       "31400  31400         1  NaN\n",
       "36070  36070         0  NaN"
      ]
     },
     "execution_count": 41,
     "metadata": {},
     "output_type": "execute_result"
    }
   ],
   "source": [
    "train[train.data.isnull()]"
   ]
  },
  {
   "cell_type": "code",
   "execution_count": 42,
   "metadata": {},
   "outputs": [],
   "source": [
    "train.dropna(inplace = True)"
   ]
  },
  {
   "cell_type": "code",
   "execution_count": 43,
   "metadata": {},
   "outputs": [],
   "source": [
    "import re"
   ]
  },
  {
   "cell_type": "code",
   "execution_count": 44,
   "metadata": {},
   "outputs": [],
   "source": [
    "train['data'] = [re.sub(r'[^가-힣]', ' ', x) for x in train['data']]\n",
    "test['data'] = [re.sub(r'[^가-힣]', ' ', x) for x in test['data']]"
   ]
  },
  {
   "cell_type": "code",
   "execution_count": 45,
   "metadata": {},
   "outputs": [],
   "source": [
    "tf = TfidfVectorizer(min_df = 5, max_features = 500)"
   ]
  },
  {
   "cell_type": "code",
   "execution_count": 46,
   "metadata": {},
   "outputs": [],
   "source": [
    "from tqdm import tqdm"
   ]
  },
  {
   "cell_type": "code",
   "execution_count": 52,
   "metadata": {
    "scrolled": true
   },
   "outputs": [],
   "source": [
    "tr_tokens = []\n",
    "for t in train['data'] :\n",
    "    nouns = []\n",
    "    temp_x = mecab.nouns(t)\n",
    "    for t2 in temp_x :\n",
    "        if len(t2) > 1 :\n",
    "            nouns.append(t2)\n",
    "        else :\n",
    "            pass\n",
    "    tr_tokens.append(nouns)"
   ]
  },
  {
   "cell_type": "code",
   "execution_count": 53,
   "metadata": {},
   "outputs": [],
   "source": [
    "te_tokens = []\n",
    "for t in test['data'] :\n",
    "    nouns = []\n",
    "    temp_x = mecab.nouns(t)\n",
    "    for t2 in temp_x :\n",
    "        if len(t2) > 1 :\n",
    "            nouns.append(t2)\n",
    "        else :\n",
    "            pass\n",
    "    te_tokens.append(nouns)"
   ]
  },
  {
   "cell_type": "code",
   "execution_count": 250,
   "metadata": {},
   "outputs": [],
   "source": [
    "import numpy as np"
   ]
  },
  {
   "cell_type": "code",
   "execution_count": 54,
   "metadata": {},
   "outputs": [],
   "source": [
    "train['token'] = tr_tokens\n",
    "test['token'] = te_tokens"
   ]
  },
  {
   "cell_type": "code",
   "execution_count": 55,
   "metadata": {},
   "outputs": [],
   "source": [
    "tf = TfidfVectorizer(max_features = 300, min_df = 7, lowercase = False)"
   ]
  },
  {
   "cell_type": "code",
   "execution_count": 56,
   "metadata": {},
   "outputs": [],
   "source": [
    "train['len_token'] = [len(x) for x in train['token']]"
   ]
  },
  {
   "cell_type": "code",
   "execution_count": 57,
   "metadata": {},
   "outputs": [
    {
     "data": {
      "text/html": [
       "<div>\n",
       "<style scoped>\n",
       "    .dataframe tbody tr th:only-of-type {\n",
       "        vertical-align: middle;\n",
       "    }\n",
       "\n",
       "    .dataframe tbody tr th {\n",
       "        vertical-align: top;\n",
       "    }\n",
       "\n",
       "    .dataframe thead th {\n",
       "        text-align: right;\n",
       "    }\n",
       "</style>\n",
       "<table border=\"1\" class=\"dataframe\">\n",
       "  <thead>\n",
       "    <tr style=\"text-align: right;\">\n",
       "      <th></th>\n",
       "      <th>index</th>\n",
       "      <th>category</th>\n",
       "      <th>data</th>\n",
       "      <th>token</th>\n",
       "      <th>len_token</th>\n",
       "    </tr>\n",
       "  </thead>\n",
       "  <tbody>\n",
       "    <tr>\n",
       "      <th>4003</th>\n",
       "      <td>4003</td>\n",
       "      <td>1</td>\n",
       "      <td>룰을 모르면 국대 그만둬야죠    룰을 모르면 그만둬야죠</td>\n",
       "      <td>[]</td>\n",
       "      <td>0</td>\n",
       "    </tr>\n",
       "    <tr>\n",
       "      <th>35035</th>\n",
       "      <td>35035</td>\n",
       "      <td>1</td>\n",
       "      <td>빠른년생  빠른년생 술마시게 해주세요 너무 힘듭니다</td>\n",
       "      <td>[]</td>\n",
       "      <td>0</td>\n",
       "    </tr>\n",
       "    <tr>\n",
       "      <th>24885</th>\n",
       "      <td>24885</td>\n",
       "      <td>1</td>\n",
       "      <td></td>\n",
       "      <td>[]</td>\n",
       "      <td>0</td>\n",
       "    </tr>\n",
       "    <tr>\n",
       "      <th>29972</th>\n",
       "      <td>29972</td>\n",
       "      <td>0</td>\n",
       "      <td>...</td>\n",
       "      <td>[]</td>\n",
       "      <td>0</td>\n",
       "    </tr>\n",
       "    <tr>\n",
       "      <th>33229</th>\n",
       "      <td>33229</td>\n",
       "      <td>0</td>\n",
       "      <td>한표한표 모여 큰 힘이 되길    안되는거 알지만  그래도 한표 올립니다</td>\n",
       "      <td>[]</td>\n",
       "      <td>0</td>\n",
       "    </tr>\n",
       "    <tr>\n",
       "      <th>11215</th>\n",
       "      <td>11215</td>\n",
       "      <td>1</td>\n",
       "      <td></td>\n",
       "      <td>[]</td>\n",
       "      <td>0</td>\n",
       "    </tr>\n",
       "    <tr>\n",
       "      <th>16884</th>\n",
       "      <td>16884</td>\n",
       "      <td>0</td>\n",
       "      <td>이따 네시에 깨워주세요  잘거임</td>\n",
       "      <td>[]</td>\n",
       "      <td>0</td>\n",
       "    </tr>\n",
       "    <tr>\n",
       "      <th>28496</th>\n",
       "      <td>28496</td>\n",
       "      <td>1</td>\n",
       "      <td></td>\n",
       "      <td>[]</td>\n",
       "      <td>0</td>\n",
       "    </tr>\n",
       "    <tr>\n",
       "      <th>30773</th>\n",
       "      <td>30773</td>\n",
       "      <td>0</td>\n",
       "      <td></td>\n",
       "      <td>[]</td>\n",
       "      <td>0</td>\n",
       "    </tr>\n",
       "    <tr>\n",
       "      <th>14916</th>\n",
       "      <td>14916</td>\n",
       "      <td>1</td>\n",
       "      <td></td>\n",
       "      <td>[]</td>\n",
       "      <td>0</td>\n",
       "    </tr>\n",
       "  </tbody>\n",
       "</table>\n",
       "</div>"
      ],
      "text/plain": [
       "       index  category                                               data  \\\n",
       "4003    4003         1                  룰을 모르면 국대 그만둬야죠    룰을 모르면 그만둬야죠     \n",
       "35035  35035         1                       빠른년생  빠른년생 술마시게 해주세요 너무 힘듭니다   \n",
       "24885  24885         1                                                      \n",
       "29972  29972         0                                                ...   \n",
       "33229  33229         0          한표한표 모여 큰 힘이 되길    안되는거 알지만  그래도 한표 올립니다    \n",
       "11215  11215         1                                                      \n",
       "16884  16884         0                                  이따 네시에 깨워주세요  잘거임   \n",
       "28496  28496         1                                                      \n",
       "30773  30773         0                                                      \n",
       "14916  14916         1                                                      \n",
       "\n",
       "      token  len_token  \n",
       "4003     []          0  \n",
       "35035    []          0  \n",
       "24885    []          0  \n",
       "29972    []          0  \n",
       "33229    []          0  \n",
       "11215    []          0  \n",
       "16884    []          0  \n",
       "28496    []          0  \n",
       "30773    []          0  \n",
       "14916    []          0  "
      ]
     },
     "execution_count": 57,
     "metadata": {},
     "output_type": "execute_result"
    }
   ],
   "source": [
    "train.sort_values(by = 'len_token')[:10]"
   ]
  },
  {
   "cell_type": "code",
   "execution_count": 58,
   "metadata": {},
   "outputs": [],
   "source": [
    "train = train[train.len_token > 0]"
   ]
  },
  {
   "cell_type": "code",
   "execution_count": 59,
   "metadata": {},
   "outputs": [],
   "source": [
    "tr_sentence = []\n",
    "for t in train.token :\n",
    "    c = ''\n",
    "    for n in range(len(t)) :\n",
    "        text = t[n] + ' '\n",
    "        c += text\n",
    "    tr_sentence.append(c)"
   ]
  },
  {
   "cell_type": "code",
   "execution_count": 60,
   "metadata": {},
   "outputs": [],
   "source": [
    "te_sentence = []\n",
    "for t in test.token :\n",
    "    c = ''\n",
    "    for n in range(len(t)) :\n",
    "        text = t[n] + ' '\n",
    "        c += text\n",
    "    te_sentence.append(c)"
   ]
  },
  {
   "cell_type": "code",
   "execution_count": 62,
   "metadata": {
    "scrolled": true
   },
   "outputs": [
    {
     "data": {
      "text/plain": [
       "['신혼 부부 주택 정책 보육 시설 국민 세금 일부 정책 보편 국민 수긍 복지 정책 신혼 부부 당첨 사람 로또 주택 정책 반대 국민 세금 일부 사람 세금 우리 보육 시설 전국 설치 기업 솔선수범 사업장 의무 설치 경력 단절 개인 능력 능력 육아 전담 우리 아이 부모 이제 국가 시대 부동산 가격 정부 정책 부동산 역효과 ',\n",
       " '학교 이름 남자 울산 여자 중학교 재학 학생 최근 양성 평등 글짓기 생각 우리 울산 울산 중학교 하나 남중 하나 여중 우리 학교 여자 남자 우위 학교 울산 중학교 남중 남자 울산 남자 중학교 평소 학교 이름 우리 학교 여중 남중 동안 현실 이젠 조선 시대 국내 학교 울산 국내 고등학교 문제 해결 ']"
      ]
     },
     "execution_count": 62,
     "metadata": {},
     "output_type": "execute_result"
    }
   ],
   "source": [
    "tr_sentence[:2]"
   ]
  },
  {
   "cell_type": "code",
   "execution_count": 64,
   "metadata": {},
   "outputs": [],
   "source": [
    "tfidf = tf.fit_transform(tr_sentence)"
   ]
  },
  {
   "cell_type": "code",
   "execution_count": 65,
   "metadata": {},
   "outputs": [],
   "source": [
    "X = tfidf.todense()"
   ]
  },
  {
   "cell_type": "code",
   "execution_count": 66,
   "metadata": {
    "scrolled": true
   },
   "outputs": [
    {
     "data": {
      "text/plain": [
       "(39969, 300)"
      ]
     },
     "execution_count": 66,
     "metadata": {},
     "output_type": "execute_result"
    }
   ],
   "source": [
    "X.shape"
   ]
  },
  {
   "cell_type": "code",
   "execution_count": 67,
   "metadata": {},
   "outputs": [],
   "source": [
    "X = pd.DataFrame(X, columns = tf.get_feature_names())"
   ]
  },
  {
   "cell_type": "code",
   "execution_count": 68,
   "metadata": {},
   "outputs": [],
   "source": [
    "from lightgbm import LGBMClassifier\n",
    "from sklearn.multioutput import MultiOutputClassifier"
   ]
  },
  {
   "cell_type": "code",
   "execution_count": 69,
   "metadata": {},
   "outputs": [],
   "source": [
    "lgbm = LGBMClassifier(metric = 'multi_logloss', objective = 'multiclass', random_state = 530, n_estimators = 10000)"
   ]
  },
  {
   "cell_type": "code",
   "execution_count": 70,
   "metadata": {},
   "outputs": [],
   "source": [
    "y = train.category"
   ]
  },
  {
   "cell_type": "code",
   "execution_count": 71,
   "metadata": {
    "scrolled": true
   },
   "outputs": [
    {
     "data": {
      "text/plain": [
       "(39969, 300)"
      ]
     },
     "execution_count": 71,
     "metadata": {},
     "output_type": "execute_result"
    }
   ],
   "source": [
    "X.shape"
   ]
  },
  {
   "cell_type": "code",
   "execution_count": 84,
   "metadata": {},
   "outputs": [],
   "source": [
    "target = tf.transform(te_sentence).todense()"
   ]
  },
  {
   "cell_type": "code",
   "execution_count": 85,
   "metadata": {
    "scrolled": false
   },
   "outputs": [
    {
     "data": {
      "text/plain": [
       "(5000, 300)"
      ]
     },
     "execution_count": 85,
     "metadata": {},
     "output_type": "execute_result"
    }
   ],
   "source": [
    "target.shape"
   ]
  },
  {
   "cell_type": "code",
   "execution_count": 87,
   "metadata": {
    "scrolled": true
   },
   "outputs": [],
   "source": [
    "target = pd.DataFrame(target, columns = tf.get_feature_names())"
   ]
  },
  {
   "cell_type": "code",
   "execution_count": 72,
   "metadata": {},
   "outputs": [],
   "source": [
    "from sklearn.model_selection import StratifiedKFold\n",
    "from sklearn.metrics import accuracy_score"
   ]
  },
  {
   "cell_type": "code",
   "execution_count": 73,
   "metadata": {},
   "outputs": [],
   "source": [
    "skf = StratifiedKFold(n_splits = 15, random_state = 530, shuffle = True)"
   ]
  },
  {
   "cell_type": "markdown",
   "metadata": {},
   "source": [
    "multiclass의 경우 lgbm은 multiclass 지정하면 됨\n",
    "\n",
    "정확도 계산의 경우 sklearn의 MultioutputClassifier 사용"
   ]
  },
  {
   "cell_type": "code",
   "execution_count": null,
   "metadata": {},
   "outputs": [],
   "source": [
    "i = 0\n",
    "sub_pred = np.zeros((target.shape[0], 3))\n",
    "for tr_idx, val_idx in skf.split(X, y) :\n",
    "    i += 1\n",
    "    print(f'#### {i} FOLD ####')\n",
    "    tr_x, tr_y = X.iloc[tr_idx], y.iloc[tr_idx]\n",
    "    val_x, val_y = X.iloc[val_idx], y.iloc[val_idx]\n",
    "    lgbm.fit(tr_x, tr_y, eval_set = [(tr_x, tr_y), (val_x, val_y)], verbose = 2000, early_stopping_rounds = 1000)\n",
    "    pred = lgbm.predict_proba(target) / 15\n",
    "    sub_pred += pred"
   ]
  },
  {
   "cell_type": "markdown",
   "metadata": {},
   "source": [
    "#### 추가) 영어 전처리"
   ]
  },
  {
   "cell_type": "code",
   "execution_count": 172,
   "metadata": {},
   "outputs": [],
   "source": [
    "### url 제거\n",
    "def remove_URL(text):\n",
    "    url = re.compile(r'https?://\\S+|www\\.\\S+')\n",
    "    return url.sub(r'',text)"
   ]
  },
  {
   "cell_type": "code",
   "execution_count": 173,
   "metadata": {},
   "outputs": [],
   "source": [
    "### html 포맷 제거\n",
    "def remove_html(text):\n",
    "    html=re.compile(r'<.*?>')\n",
    "    return html.sub(r'',text)"
   ]
  },
  {
   "cell_type": "code",
   "execution_count": 175,
   "metadata": {},
   "outputs": [],
   "source": [
    "### 이모티콘 제거\n",
    "def remove_emoji(text):\n",
    "    emoji_pattern = re.compile(\"[\"\n",
    "                           u\"\\U0001F600-\\U0001F64F\"  # emoticons\n",
    "                           u\"\\U0001F300-\\U0001F5FF\"  # symbols & pictographs\n",
    "                           u\"\\U0001F680-\\U0001F6FF\"  # transport & map symbols\n",
    "                           u\"\\U0001F1E0-\\U0001F1FF\"  # flags (iOS)\n",
    "                           u\"\\U00002702-\\U000027B0\"\n",
    "                           u\"\\U000024C2-\\U0001F251\"\n",
    "                           \"]+\", flags=re.UNICODE)\n",
    "    return emoji_pattern.sub(r'', text)"
   ]
  },
  {
   "cell_type": "markdown",
   "metadata": {},
   "source": [
    "## 딥러닝"
   ]
  },
  {
   "cell_type": "code",
   "execution_count": null,
   "metadata": {},
   "outputs": [],
   "source": [
    "#from tensorflow.keras.preprocessing.text import Tokenizer\n",
    "#from tensorflow.keras.preprocessing.sequence import pad_sequences\n",
    "#from tensorflow.keras.layers import *\n",
    "#from tensorflow.keras.models import *\n",
    "#from tensorflow.keras.regularizers import *\n",
    "#from tensorflow.keras.optimizers import *\n",
    "#from tensorflow.keras.callbacks import *\n",
    "#from sklearn.metrics import accuracy_score"
   ]
  },
  {
   "cell_type": "code",
   "execution_count": null,
   "metadata": {},
   "outputs": [],
   "source": [
    "#tokenizer = Tokenizer(num_words = n) # 가장 빈도 높은 n개 단어 추출 / 초기 단계에선느 n세팅 no"
   ]
  },
  {
   "cell_type": "code",
   "execution_count": null,
   "metadata": {},
   "outputs": [],
   "source": [
    "#tokenizer.fit_on_texts(text)"
   ]
  },
  {
   "cell_type": "code",
   "execution_count": null,
   "metadata": {},
   "outputs": [],
   "source": [
    "#one_hot_results = tokenizer.texts_to_matrix(samples, mode='binary')\n",
    "\n",
    "# 계산된 단어 인덱스를 dictionary 형태로 확인\n",
    "#word_index = tokenizer.word_index\n",
    "\n",
    "#print('Found %s unique tokens.' % len(word_index))"
   ]
  },
  {
   "cell_type": "code",
   "execution_count": null,
   "metadata": {},
   "outputs": [],
   "source": [
    "#threshold = 6\n",
    "#total_cnt = len(tokenizer.word_index) # 단어의 수\n",
    "#rare_cnt = 0 # 등장 빈도수가 threshold보다 작은 단어의 개수를 카운트\n",
    "#total_freq = 0 # 훈련 데이터의 전체 단어 빈도수 총 합\n",
    "#rare_freq = 0 # 등장 빈도수가 threshold보다 작은 단어의 등장 빈도수의 총 합\n",
    "\n",
    "# 단어와 빈도수의 쌍(pair)을 key와 value로 받는다.\n",
    "#for key, value in tokenizer.word_counts.items():\n",
    "#    total_freq = total_freq + value\n",
    "\n",
    "    # 단어의 등장 빈도수가 threshold보다 작으면\n",
    "#    if(value < threshold):\n",
    "#        rare_cnt = rare_cnt + 1\n",
    "#        rare_freq = rare_freq + value\n",
    "\n",
    "#print('단어 집합(vocabulary)의 크기 :',total_cnt)\n",
    "#print('등장 빈도가 %s번 이하인 희귀 단어의 수: %s'%(threshold - 1, rare_cnt))\n",
    "#print(\"단어 집합에서 희귀 단어의 비율:\", (rare_cnt / total_cnt)*100)\n",
    "#print(\"전체 등장 빈도에서 희귀 단어 등장 빈도 비율:\", (rare_freq / total_freq)*100)"
   ]
  },
  {
   "cell_type": "code",
   "execution_count": 403,
   "metadata": {},
   "outputs": [],
   "source": [
    "#vocab_size = total_cnt - rare_cnt + 1 # 전체 단어 개수 중 빈도수 2이하인 단어 개수는 제거. 0번 패딩 토큰을 고려하여 +1\n",
    "#print('단어 집합의 크기 :',vocab_size)"
   ]
  },
  {
   "cell_type": "code",
   "execution_count": 404,
   "metadata": {},
   "outputs": [],
   "source": [
    "#tokenizer = Tokenizer(vocab_size)\n",
    "#tokenizer.fit_on_texts(text)"
   ]
  },
  {
   "cell_type": "code",
   "execution_count": null,
   "metadata": {},
   "outputs": [],
   "source": [
    "#seq = tokenizer.texts_to_sequences(text)"
   ]
  },
  {
   "cell_type": "code",
   "execution_count": null,
   "metadata": {},
   "outputs": [],
   "source": [
    "#seq = pad_sequences(sequences, maxlen = max_len)"
   ]
  },
  {
   "cell_type": "code",
   "execution_count": null,
   "metadata": {},
   "outputs": [],
   "source": [
    "#model = Sequential()\n",
    "#model.add(Embedding(vocab_size, 32, input_length = max_len))\n",
    "#model.add(Dropout(.2))\n",
    "#model.add(GRU(32, dropout = .2, recurrent_dropout = .1))\n",
    "#model.add(Dense(1, activation = 'sigmoid'))"
   ]
  },
  {
   "cell_type": "code",
   "execution_count": null,
   "metadata": {},
   "outputs": [],
   "source": [
    "#model = Sequential()\n",
    "#model.add(Embedding(vocab_size, 32, input_length = max_len))\n",
    "#model.add(Dropout(.3))\n",
    "#model.add(Conv1D(32, 3, activation='relu', kernel_regularizer = l2(0.001)))\n",
    "#model.add(GlobalMaxPooling1D())\n",
    "#model.add(Dense(32, activation = 'relu'))\n",
    "#model.add(Dense(1, activation = 'sigmoid'))"
   ]
  },
  {
   "cell_type": "code",
   "execution_count": null,
   "metadata": {},
   "outputs": [],
   "source": [
    "#es = EarlyStopping(monitor = 'val_acc', mode = 'max', verbose = 1, patience = 3)\n",
    "#mc = ModelCheckpoint('model1.h5', monitor = 'val_acc', mode = 'max', verbose = 1, save_best_only = True)"
   ]
  },
  {
   "cell_type": "code",
   "execution_count": null,
   "metadata": {},
   "outputs": [],
   "source": [
    "#model.compile(optimizer= RMSprop(lr = .005), loss = 'binary_crossentropy', metrics = ['acc'])\n",
    "#history = model.fit(tr_seq, labels, epochs = 50, batch_size = 64, shuffle = True, validation_split = .1, verbose = 1, callbacks = [es,mc])"
   ]
  }
 ],
 "metadata": {
  "kernelspec": {
   "display_name": "Python 3",
   "language": "python",
   "name": "python3"
  },
  "language_info": {
   "codemirror_mode": {
    "name": "ipython",
    "version": 3
   },
   "file_extension": ".py",
   "mimetype": "text/x-python",
   "name": "python",
   "nbconvert_exporter": "python",
   "pygments_lexer": "ipython3",
   "version": "3.8.2"
  }
 },
 "nbformat": 4,
 "nbformat_minor": 4
}
