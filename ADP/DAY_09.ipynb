{
 "cells": [
  {
   "cell_type": "markdown",
   "metadata": {},
   "source": [
    "# DAY_09"
   ]
  },
  {
   "cell_type": "markdown",
   "metadata": {},
   "source": [
    "***\n",
    "\n",
    "<br>\n",
    "\n",
    "### 01. 정형 데이터 마이닝<br>\n",
    "#### Q1) 연관규칙분석을 수행하기 위해 lotto 데이터셋을 transaction 데이터로 변환하시오. \n",
    "#### 단, 본 분석에서 로또번호가 추첨된 순서는 고려하지 않고 분석을 수행하도록 한다. \n",
    "#### 그리고 변환된 데이터에서 가장 많이 등장한 \n",
    "#### 상위 10개의 로또번호를 막대그래프로 출력하고 이에 대해 설명하시오.  "
   ]
  },
  {
   "cell_type": "code",
   "execution_count": 157,
   "metadata": {},
   "outputs": [],
   "source": [
    "import pandas as pd\n",
    "import numpy as np\n",
    "from apyori import apriori\n",
    "import matplotlib.pyplot as plt\n",
    "import seaborn as sns\n",
    "%matplotlib inline\n",
    "from collections import Counter"
   ]
  },
  {
   "cell_type": "code",
   "execution_count": 12,
   "metadata": {},
   "outputs": [],
   "source": [
    "df = pd.read_csv(\"C:/Users/kcisa/Desktop/ADP실기/모의고사 1회/lotto.csv\")"
   ]
  },
  {
   "cell_type": "code",
   "execution_count": 87,
   "metadata": {
    "scrolled": true
   },
   "outputs": [
    {
     "data": {
      "text/html": [
       "<div>\n",
       "<style scoped>\n",
       "    .dataframe tbody tr th:only-of-type {\n",
       "        vertical-align: middle;\n",
       "    }\n",
       "\n",
       "    .dataframe tbody tr th {\n",
       "        vertical-align: top;\n",
       "    }\n",
       "\n",
       "    .dataframe thead th {\n",
       "        text-align: right;\n",
       "    }\n",
       "</style>\n",
       "<table border=\"1\" class=\"dataframe\">\n",
       "  <thead>\n",
       "    <tr style=\"text-align: right;\">\n",
       "      <th></th>\n",
       "      <th>time_id</th>\n",
       "      <th>num1</th>\n",
       "      <th>num2</th>\n",
       "      <th>num3</th>\n",
       "      <th>num4</th>\n",
       "      <th>num5</th>\n",
       "      <th>num6</th>\n",
       "    </tr>\n",
       "  </thead>\n",
       "  <tbody>\n",
       "    <tr>\n",
       "      <th>0</th>\n",
       "      <td>859</td>\n",
       "      <td>8</td>\n",
       "      <td>22</td>\n",
       "      <td>35</td>\n",
       "      <td>38</td>\n",
       "      <td>39</td>\n",
       "      <td>41</td>\n",
       "    </tr>\n",
       "    <tr>\n",
       "      <th>1</th>\n",
       "      <td>858</td>\n",
       "      <td>9</td>\n",
       "      <td>13</td>\n",
       "      <td>32</td>\n",
       "      <td>38</td>\n",
       "      <td>39</td>\n",
       "      <td>43</td>\n",
       "    </tr>\n",
       "    <tr>\n",
       "      <th>2</th>\n",
       "      <td>857</td>\n",
       "      <td>6</td>\n",
       "      <td>10</td>\n",
       "      <td>16</td>\n",
       "      <td>28</td>\n",
       "      <td>34</td>\n",
       "      <td>38</td>\n",
       "    </tr>\n",
       "    <tr>\n",
       "      <th>3</th>\n",
       "      <td>856</td>\n",
       "      <td>10</td>\n",
       "      <td>24</td>\n",
       "      <td>40</td>\n",
       "      <td>41</td>\n",
       "      <td>43</td>\n",
       "      <td>44</td>\n",
       "    </tr>\n",
       "    <tr>\n",
       "      <th>4</th>\n",
       "      <td>855</td>\n",
       "      <td>8</td>\n",
       "      <td>15</td>\n",
       "      <td>17</td>\n",
       "      <td>19</td>\n",
       "      <td>43</td>\n",
       "      <td>44</td>\n",
       "    </tr>\n",
       "  </tbody>\n",
       "</table>\n",
       "</div>"
      ],
      "text/plain": [
       "   time_id  num1  num2  num3  num4  num5  num6\n",
       "0      859     8    22    35    38    39    41\n",
       "1      858     9    13    32    38    39    43\n",
       "2      857     6    10    16    28    34    38\n",
       "3      856    10    24    40    41    43    44\n",
       "4      855     8    15    17    19    43    44"
      ]
     },
     "execution_count": 87,
     "metadata": {},
     "output_type": "execute_result"
    }
   ],
   "source": [
    "df.head()"
   ]
  },
  {
   "cell_type": "code",
   "execution_count": 88,
   "metadata": {
    "scrolled": false
   },
   "outputs": [
    {
     "name": "stdout",
     "output_type": "stream",
     "text": [
      "<class 'pandas.core.frame.DataFrame'>\n",
      "RangeIndex: 859 entries, 0 to 858\n",
      "Data columns (total 7 columns):\n",
      " #   Column   Non-Null Count  Dtype\n",
      "---  ------   --------------  -----\n",
      " 0   time_id  859 non-null    int64\n",
      " 1   num1     859 non-null    int64\n",
      " 2   num2     859 non-null    int64\n",
      " 3   num3     859 non-null    int64\n",
      " 4   num4     859 non-null    int64\n",
      " 5   num5     859 non-null    int64\n",
      " 6   num6     859 non-null    int64\n",
      "dtypes: int64(7)\n",
      "memory usage: 47.1 KB\n"
     ]
    }
   ],
   "source": [
    "df.info()"
   ]
  },
  {
   "cell_type": "code",
   "execution_count": 17,
   "metadata": {
    "scrolled": true
   },
   "outputs": [],
   "source": [
    "num_list = pd.concat([df.num1, df.num2, df.num3, df.num4, df.num5, df.num6], axis = 0, ignore_index = True)"
   ]
  },
  {
   "cell_type": "code",
   "execution_count": 47,
   "metadata": {},
   "outputs": [],
   "source": [
    "num_cnt_df = pd.DataFrame(Counter(num_list).items(), columns = ['number', 'count'])\n",
    "top10_df = num_cnt_df.sort_values(by = 'count', ascending = 0)[:10]"
   ]
  },
  {
   "cell_type": "code",
   "execution_count": 54,
   "metadata": {},
   "outputs": [
    {
     "data": {
      "image/png": "[encoded data removed]",
      "text/plain": [
       "<Figure size 432x288 with 1 Axes>"
      ]
     },
     "metadata": {
      "needs_background": "light"
     },
     "output_type": "display_data"
    }
   ],
   "source": [
    "sns.barplot(top10_df.number, top10_df['count'], order = top10_df.number, palette = 'gist_rainbow', edgecolor = (0,0,0))\n",
    "plt.title('Top 10 Number', size = 15)\n",
    "plt.show()"
   ]
  },
  {
   "cell_type": "markdown",
   "metadata": {},
   "source": [
    "Top 10개의 숫자들을 추출하여 시각화 한 결과 34번이 가장 많이 등장했고 나머지 숫자들의 빈도는 비슷하였다."
   ]
  },
  {
   "cell_type": "code",
   "execution_count": 55,
   "metadata": {},
   "outputs": [],
   "source": [
    "value_list = []\n",
    "for row in range(df.shape[0]) :\n",
    "    value_list.append(df.iloc[row, 1:].values)"
   ]
  },
  {
   "cell_type": "code",
   "execution_count": 59,
   "metadata": {},
   "outputs": [],
   "source": [
    "df['value_list'] = value_list\n",
    "df = df[['time_id', 'value_list']]"
   ]
  },
  {
   "cell_type": "code",
   "execution_count": 62,
   "metadata": {
    "scrolled": true
   },
   "outputs": [
    {
     "data": {
      "text/html": [
       "<div>\n",
       "<style scoped>\n",
       "    .dataframe tbody tr th:only-of-type {\n",
       "        vertical-align: middle;\n",
       "    }\n",
       "\n",
       "    .dataframe tbody tr th {\n",
       "        vertical-align: top;\n",
       "    }\n",
       "\n",
       "    .dataframe thead th {\n",
       "        text-align: right;\n",
       "    }\n",
       "</style>\n",
       "<table border=\"1\" class=\"dataframe\">\n",
       "  <thead>\n",
       "    <tr style=\"text-align: right;\">\n",
       "      <th></th>\n",
       "      <th>time_id</th>\n",
       "      <th>value_list</th>\n",
       "    </tr>\n",
       "  </thead>\n",
       "  <tbody>\n",
       "    <tr>\n",
       "      <th>858</th>\n",
       "      <td>1</td>\n",
       "      <td>[10, 23, 29, 33, 37, 40]</td>\n",
       "    </tr>\n",
       "    <tr>\n",
       "      <th>857</th>\n",
       "      <td>2</td>\n",
       "      <td>[9, 13, 21, 25, 32, 42]</td>\n",
       "    </tr>\n",
       "    <tr>\n",
       "      <th>856</th>\n",
       "      <td>3</td>\n",
       "      <td>[11, 16, 19, 21, 27, 31]</td>\n",
       "    </tr>\n",
       "    <tr>\n",
       "      <th>855</th>\n",
       "      <td>4</td>\n",
       "      <td>[14, 27, 30, 31, 40, 42]</td>\n",
       "    </tr>\n",
       "    <tr>\n",
       "      <th>854</th>\n",
       "      <td>5</td>\n",
       "      <td>[16, 24, 29, 40, 41, 42]</td>\n",
       "    </tr>\n",
       "  </tbody>\n",
       "</table>\n",
       "</div>"
      ],
      "text/plain": [
       "     time_id                value_list\n",
       "858        1  [10, 23, 29, 33, 37, 40]\n",
       "857        2   [9, 13, 21, 25, 32, 42]\n",
       "856        3  [11, 16, 19, 21, 27, 31]\n",
       "855        4  [14, 27, 30, 31, 40, 42]\n",
       "854        5  [16, 24, 29, 40, 41, 42]"
      ]
     },
     "execution_count": 62,
     "metadata": {},
     "output_type": "execute_result"
    }
   ],
   "source": [
    "df[::-1].head()"
   ]
  },
  {
   "cell_type": "markdown",
   "metadata": {},
   "source": [
    "#### Q2) 변환한 데이터에 대해 apriori함수를 사용하여 다음 괄호 안의 조건을 반영하여 \n",
    "#### 연관규칙을 생성하고, 이를 ‘rules_1’이라는 변수에 저장하여 결과를 해석하시오. \n",
    "#### (최소 지지도 : 0.002, 최소 신뢰도 : 0.8, 최소조합 항목 수 : 2개, 최대조합 항목 수 : 6개) \n",
    "#### 그리고 도출된 연관규칙들을 향상도를 기준으로 내림차순 정렬하여 상위 30개의 규칙을 확인하고, \n",
    "#### 이를 데이터프레임으로 변환하여 csv파일로 출력하시오.  "
   ]
  },
  {
   "cell_type": "code",
   "execution_count": 164,
   "metadata": {},
   "outputs": [],
   "source": [
    "association_rules = apriori(df.value_list, min_support = 0.002, min_confidence = 0.8, max_length = 6,  min_length=2)\n",
    "association_result = list(association_rules)"
   ]
  },
  {
   "cell_type": "code",
   "execution_count": 165,
   "metadata": {},
   "outputs": [],
   "source": [
    "rules_1 = pd.DataFrame(association_result)"
   ]
  },
  {
   "cell_type": "code",
   "execution_count": 166,
   "metadata": {},
   "outputs": [
    {
     "name": "stdout",
     "output_type": "stream",
     "text": [
      "연관분석에서 생성된 규칙의 개수는 394개이다.\n"
     ]
    }
   ],
   "source": [
    "print(f'연관분석에서 생성된 규칙의 개수는 {rules_1.shape[0]}개이다.')"
   ]
  },
  {
   "cell_type": "code",
   "execution_count": 167,
   "metadata": {},
   "outputs": [],
   "source": [
    "rules_1['lhs'] = [x[0][0] for x in rules_1.ordered_statistics] # 좌측항 생성"
   ]
  },
  {
   "cell_type": "code",
   "execution_count": 168,
   "metadata": {},
   "outputs": [],
   "source": [
    "rules_1['rhs'] = [x[0][1] for x in rules_1.ordered_statistics] # 우측항 생성"
   ]
  },
  {
   "cell_type": "code",
   "execution_count": 169,
   "metadata": {},
   "outputs": [],
   "source": [
    "rules_1['confindence'] = [x[0][2] for x in rules_1.ordered_statistics] # 신뢰도 생성"
   ]
  },
  {
   "cell_type": "code",
   "execution_count": 170,
   "metadata": {},
   "outputs": [],
   "source": [
    "rules_1['lift'] = [x[0][3] for x in rules_1.ordered_statistics] # 향상도 생성"
   ]
  },
  {
   "cell_type": "code",
   "execution_count": 171,
   "metadata": {
    "scrolled": true
   },
   "outputs": [],
   "source": [
    "rules_1['n_items'] = rules_1['items'].apply(lambda x : len(x))"
   ]
  },
  {
   "cell_type": "markdown",
   "metadata": {},
   "source": [
    "#### Q3) 생성된 연관규칙 'rules_1'에 대한 정보를 해석하고, 1)번 문제를 통해 확인했을 때 \n",
    "#### 가장 많이 추첨된 번호가 우측항에 존재하는 규칙들만을 ‘rules_most_freq’라는 변수에 저장하시오. \n",
    "#### 그리고 해당 규칙들을 해석하여 인사이트를 도출한 후 서술하시오."
   ]
  },
  {
   "cell_type": "code",
   "execution_count": 172,
   "metadata": {},
   "outputs": [
    {
     "name": "stdout",
     "output_type": "stream",
     "text": [
      "4개의 번호로 구성된 규칙은 384개이다.\n",
      "5개의 번호로 구성된 규칙은 10개이다.\n"
     ]
    }
   ],
   "source": [
    "vc = rules_1.n_items.value_counts()\n",
    "for n in range(rules_1.n_items.nunique()) :\n",
    "    print(f'{vc.index[n]}개의 번호로 구성된 규칙은 {vc.values[n]}개이다.')"
   ]
  },
  {
   "cell_type": "code",
   "execution_count": 173,
   "metadata": {
    "scrolled": true
   },
   "outputs": [
    {
     "name": "stdout",
     "output_type": "stream",
     "text": [
      "규칙들에 대한 평균 지지도는 0.002361로 나타났다.\n"
     ]
    }
   ],
   "source": [
    "print(f'규칙들에 대한 평균 지지도는 {np.round(rules_1.support.mean(), 6)}로 나타났다.')"
   ]
  },
  {
   "cell_type": "code",
   "execution_count": 174,
   "metadata": {
    "scrolled": true
   },
   "outputs": [
    {
     "name": "stdout",
     "output_type": "stream",
     "text": [
      "규칙들에 대한 평균 신뢰도는 8.684778로 나타났다.\n",
      "규칙들에 대한 최소 신뢰도는 6.410448로 나타났다.\n"
     ]
    }
   ],
   "source": [
    "print(f'규칙들에 대한 평균 신뢰도는 {np.round(rules_1.lift.mean(), 6)}로 나타났다.')\n",
    "print(f'규칙들에 대한 최소 신뢰도는 {np.round(rules_1.lift.min(), 6)}로 나타났다.')"
   ]
  },
  {
   "cell_type": "code",
   "execution_count": 175,
   "metadata": {},
   "outputs": [],
   "source": [
    "rules_1['in_34'] = [1 if 34 in x else 0 for x in rules_1['items']] # 34번이 가장 많이 등장"
   ]
  },
  {
   "cell_type": "code",
   "execution_count": 177,
   "metadata": {},
   "outputs": [],
   "source": [
    "rules_1.drop(['ordered_statistics', 'items'], axis = 1, inplace = True) # 불필요한 열 삭제"
   ]
  },
  {
   "cell_type": "code",
   "execution_count": 184,
   "metadata": {
    "scrolled": false
   },
   "outputs": [
    {
     "data": {
      "text/html": [
       "<div>\n",
       "<style scoped>\n",
       "    .dataframe tbody tr th:only-of-type {\n",
       "        vertical-align: middle;\n",
       "    }\n",
       "\n",
       "    .dataframe tbody tr th {\n",
       "        vertical-align: top;\n",
       "    }\n",
       "\n",
       "    .dataframe thead th {\n",
       "        text-align: right;\n",
       "    }\n",
       "</style>\n",
       "<table border=\"1\" class=\"dataframe\">\n",
       "  <thead>\n",
       "    <tr style=\"text-align: right;\">\n",
       "      <th></th>\n",
       "      <th>support</th>\n",
       "      <th>lhs</th>\n",
       "      <th>rhs</th>\n",
       "      <th>confindence</th>\n",
       "      <th>lift</th>\n",
       "      <th>n_items</th>\n",
       "      <th>in_34</th>\n",
       "    </tr>\n",
       "  </thead>\n",
       "  <tbody>\n",
       "    <tr>\n",
       "      <th>5</th>\n",
       "      <td>0.002328</td>\n",
       "      <td>(1, 13, 5)</td>\n",
       "      <td>(34)</td>\n",
       "      <td>1.0</td>\n",
       "      <td>6.410448</td>\n",
       "      <td>4</td>\n",
       "      <td>1</td>\n",
       "    </tr>\n",
       "    <tr>\n",
       "      <th>32</th>\n",
       "      <td>0.003492</td>\n",
       "      <td>(2, 4, 31)</td>\n",
       "      <td>(34)</td>\n",
       "      <td>1.0</td>\n",
       "      <td>6.410448</td>\n",
       "      <td>4</td>\n",
       "      <td>1</td>\n",
       "    </tr>\n",
       "    <tr>\n",
       "      <th>42</th>\n",
       "      <td>0.002328</td>\n",
       "      <td>(2, 21, 15)</td>\n",
       "      <td>(34)</td>\n",
       "      <td>1.0</td>\n",
       "      <td>6.410448</td>\n",
       "      <td>4</td>\n",
       "      <td>1</td>\n",
       "    </tr>\n",
       "    <tr>\n",
       "      <th>44</th>\n",
       "      <td>0.002328</td>\n",
       "      <td>(2, 28, 15)</td>\n",
       "      <td>(34)</td>\n",
       "      <td>1.0</td>\n",
       "      <td>6.410448</td>\n",
       "      <td>4</td>\n",
       "      <td>1</td>\n",
       "    </tr>\n",
       "    <tr>\n",
       "      <th>119</th>\n",
       "      <td>0.002328</td>\n",
       "      <td>(13, 29, 5)</td>\n",
       "      <td>(34)</td>\n",
       "      <td>1.0</td>\n",
       "      <td>6.410448</td>\n",
       "      <td>4</td>\n",
       "      <td>1</td>\n",
       "    </tr>\n",
       "  </tbody>\n",
       "</table>\n",
       "</div>"
      ],
      "text/plain": [
       "      support          lhs   rhs  confindence      lift  n_items  in_34\n",
       "5    0.002328   (1, 13, 5)  (34)          1.0  6.410448        4      1\n",
       "32   0.003492   (2, 4, 31)  (34)          1.0  6.410448        4      1\n",
       "42   0.002328  (2, 21, 15)  (34)          1.0  6.410448        4      1\n",
       "44   0.002328  (2, 28, 15)  (34)          1.0  6.410448        4      1\n",
       "119  0.002328  (13, 29, 5)  (34)          1.0  6.410448        4      1"
      ]
     },
     "execution_count": 184,
     "metadata": {},
     "output_type": "execute_result"
    }
   ],
   "source": [
    "rules_most_freq = rules_1.loc[rule_df.in_34 == 1] # 34가 등장한 행만 추출\n",
    "rules_most_freq.head()"
   ]
  },
  {
   "cell_type": "code",
   "execution_count": 183,
   "metadata": {},
   "outputs": [
    {
     "name": "stdout",
     "output_type": "stream",
     "text": [
      "총 18개의 규칙이 도출되었다.\n"
     ]
    }
   ],
   "source": [
    "print(f'총 {rules_most_freq.shape[0]}개의 규칙이 도출되었다.')"
   ]
  },
  {
   "cell_type": "markdown",
   "metadata": {},
   "source": [
    "첫번째 규칙을 살펴보면 {1, 13, 5}번과 {34}번이 함께 뽑힐 확률은 지지도(support)를 봤을 때 0.002328로 약 0.2%에 불과하다. 해당 규칙의 향상도(lift)는 6.410448로 {34}만 뽑힐 때 보다 {1, 13, 5}가 뽑히고 {34}도 뽑힐 확률이 6배 가량 높다는 것을 의미한다. 하지만 단순히 확률만 고려한 규칙이기 때문에 해당 조합들이 당첨 확률을 보장해준다고는 할 수 없다."
   ]
  }
 ],
 "metadata": {
  "kernelspec": {
   "display_name": "Python 3",
   "language": "python",
   "name": "python3"
  },
  "language_info": {
   "codemirror_mode": {
    "name": "ipython",
    "version": 3
   },
   "file_extension": ".py",
   "mimetype": "text/x-python",
   "name": "python",
   "nbconvert_exporter": "python",
   "pygments_lexer": "ipython3",
   "version": "3.8.3"
  }
 },
 "nbformat": 4,
 "nbformat_minor": 4
}
