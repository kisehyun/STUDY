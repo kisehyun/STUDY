{
 "cells": [
  {
   "cell_type": "markdown",
   "metadata": {},
   "source": [
    "## 1 ML - RFM을 통한 고객 세분화"
   ]
  },
  {
   "cell_type": "markdown",
   "metadata": {},
   "source": [
    "### 1. 전처리 및 EDA"
   ]
  },
  {
   "cell_type": "code",
   "execution_count": 7,
   "metadata": {},
   "outputs": [],
   "source": [
    "import pandas as pd"
   ]
  },
  {
   "cell_type": "code",
   "execution_count": 194,
   "metadata": {},
   "outputs": [],
   "source": [
    "data = pd.read_csv('UK.csv')"
   ]
  },
  {
   "cell_type": "code",
   "execution_count": 195,
   "metadata": {},
   "outputs": [],
   "source": [
    "data.dropna(inplace = True)"
   ]
  },
  {
   "cell_type": "code",
   "execution_count": 196,
   "metadata": {},
   "outputs": [],
   "source": [
    "data.InvoiceDate = pd.to_datetime(data.InvoiceDate)"
   ]
  },
  {
   "cell_type": "code",
   "execution_count": 197,
   "metadata": {},
   "outputs": [],
   "source": [
    "data['sale_amount'] = data['Quantity'] * data['UnitPrice']\n",
    "data['CustomerID'] = data['CustomerID'].astype(int)\n",
    "inv = data.groupby('CustomerID').CustomerID.size().reset_index(name = 'InvoiceNo')\n",
    "cust_df = data.groupby('CustomerID').agg({'InvoiceDate' : 'max', 'sale_amount' : 'sum'}).reset_index()"
   ]
  },
  {
   "cell_type": "markdown",
   "metadata": {},
   "source": [
    "### 2. Feature Engineering 및 파생변수 생성"
   ]
  },
  {
   "cell_type": "code",
   "execution_count": 198,
   "metadata": {},
   "outputs": [],
   "source": [
    "data['Month'] = data.InvoiceDate.dt.month\n",
    "data['Hour'] = data.InvoiceDate.dt.hour"
   ]
  },
  {
   "cell_type": "code",
   "execution_count": 199,
   "metadata": {},
   "outputs": [],
   "source": [
    "time_df = data.groupby('CustomerID').agg({'Hour' : 'mean', 'Month' : 'mean'}).reset_index()"
   ]
  },
  {
   "cell_type": "code",
   "execution_count": 200,
   "metadata": {},
   "outputs": [],
   "source": [
    "cust_df = pd.concat([inv, cust_df.iloc[:, 1:], time_df.iloc[:, 1:]], axis = 1, ignore_index = True)\n",
    "cust_df.columns = ['CustomerID', 'Frequency', 'Recency', 'Monetary', 'mean_hour', 'mean_month']\n",
    "cust_df.set_index('CustomerID', inplace = True)"
   ]
  },
  {
   "cell_type": "code",
   "execution_count": 208,
   "metadata": {
    "scrolled": true
   },
   "outputs": [
    {
     "data": {
      "text/html": [
       "<div>\n",
       "<style scoped>\n",
       "    .dataframe tbody tr th:only-of-type {\n",
       "        vertical-align: middle;\n",
       "    }\n",
       "\n",
       "    .dataframe tbody tr th {\n",
       "        vertical-align: top;\n",
       "    }\n",
       "\n",
       "    .dataframe thead th {\n",
       "        text-align: right;\n",
       "    }\n",
       "</style>\n",
       "<table border=\"1\" class=\"dataframe\">\n",
       "  <thead>\n",
       "    <tr style=\"text-align: right;\">\n",
       "      <th></th>\n",
       "      <th>Frequency</th>\n",
       "      <th>Recency</th>\n",
       "      <th>Monetary</th>\n",
       "      <th>mean_hour</th>\n",
       "      <th>mean_month</th>\n",
       "    </tr>\n",
       "    <tr>\n",
       "      <th>CustomerID</th>\n",
       "      <th></th>\n",
       "      <th></th>\n",
       "      <th></th>\n",
       "      <th></th>\n",
       "      <th></th>\n",
       "    </tr>\n",
       "  </thead>\n",
       "  <tbody>\n",
       "    <tr>\n",
       "      <th>12346</th>\n",
       "      <td>2</td>\n",
       "      <td>326</td>\n",
       "      <td>0.00</td>\n",
       "      <td>10.000000</td>\n",
       "      <td>1.000000</td>\n",
       "    </tr>\n",
       "    <tr>\n",
       "      <th>12747</th>\n",
       "      <td>103</td>\n",
       "      <td>3</td>\n",
       "      <td>4196.01</td>\n",
       "      <td>12.029126</td>\n",
       "      <td>7.718447</td>\n",
       "    </tr>\n",
       "    <tr>\n",
       "      <th>12748</th>\n",
       "      <td>4642</td>\n",
       "      <td>1</td>\n",
       "      <td>29072.10</td>\n",
       "      <td>13.481043</td>\n",
       "      <td>9.301163</td>\n",
       "    </tr>\n",
       "    <tr>\n",
       "      <th>12749</th>\n",
       "      <td>231</td>\n",
       "      <td>4</td>\n",
       "      <td>3868.20</td>\n",
       "      <td>12.090909</td>\n",
       "      <td>8.389610</td>\n",
       "    </tr>\n",
       "    <tr>\n",
       "      <th>12820</th>\n",
       "      <td>59</td>\n",
       "      <td>4</td>\n",
       "      <td>942.34</td>\n",
       "      <td>12.745763</td>\n",
       "      <td>8.491525</td>\n",
       "    </tr>\n",
       "  </tbody>\n",
       "</table>\n",
       "</div>"
      ],
      "text/plain": [
       "            Frequency  Recency  Monetary  mean_hour  mean_month\n",
       "CustomerID                                                     \n",
       "12346               2      326      0.00  10.000000    1.000000\n",
       "12747             103        3   4196.01  12.029126    7.718447\n",
       "12748            4642        1  29072.10  13.481043    9.301163\n",
       "12749             231        4   3868.20  12.090909    8.389610\n",
       "12820              59        4    942.34  12.745763    8.491525"
      ]
     },
     "execution_count": 208,
     "metadata": {},
     "output_type": "execute_result"
    }
   ],
   "source": [
    "cust_df.head()"
   ]
  },
  {
   "cell_type": "code",
   "execution_count": 144,
   "metadata": {},
   "outputs": [],
   "source": [
    "import datetime as dt"
   ]
  },
  {
   "cell_type": "code",
   "execution_count": 202,
   "metadata": {},
   "outputs": [],
   "source": [
    "cust_df.Recency = dt.datetime(2011, 12, 10) - cust_df.Recency"
   ]
  },
  {
   "cell_type": "code",
   "execution_count": 203,
   "metadata": {},
   "outputs": [],
   "source": [
    "cust_df.Recency = cust_df.Recency.apply(lambda x : x.days + 1)"
   ]
  },
  {
   "cell_type": "code",
   "execution_count": 209,
   "metadata": {
    "scrolled": true
   },
   "outputs": [
    {
     "data": {
      "text/html": [
       "<div>\n",
       "<style scoped>\n",
       "    .dataframe tbody tr th:only-of-type {\n",
       "        vertical-align: middle;\n",
       "    }\n",
       "\n",
       "    .dataframe tbody tr th {\n",
       "        vertical-align: top;\n",
       "    }\n",
       "\n",
       "    .dataframe thead th {\n",
       "        text-align: right;\n",
       "    }\n",
       "</style>\n",
       "<table border=\"1\" class=\"dataframe\">\n",
       "  <thead>\n",
       "    <tr style=\"text-align: right;\">\n",
       "      <th></th>\n",
       "      <th>Frequency</th>\n",
       "      <th>Recency</th>\n",
       "      <th>Monetary</th>\n",
       "      <th>mean_hour</th>\n",
       "      <th>mean_month</th>\n",
       "    </tr>\n",
       "    <tr>\n",
       "      <th>CustomerID</th>\n",
       "      <th></th>\n",
       "      <th></th>\n",
       "      <th></th>\n",
       "      <th></th>\n",
       "      <th></th>\n",
       "    </tr>\n",
       "  </thead>\n",
       "  <tbody>\n",
       "    <tr>\n",
       "      <th>12346</th>\n",
       "      <td>2</td>\n",
       "      <td>326</td>\n",
       "      <td>0.00</td>\n",
       "      <td>10.000000</td>\n",
       "      <td>1.000000</td>\n",
       "    </tr>\n",
       "    <tr>\n",
       "      <th>12747</th>\n",
       "      <td>103</td>\n",
       "      <td>3</td>\n",
       "      <td>4196.01</td>\n",
       "      <td>12.029126</td>\n",
       "      <td>7.718447</td>\n",
       "    </tr>\n",
       "    <tr>\n",
       "      <th>12748</th>\n",
       "      <td>4642</td>\n",
       "      <td>1</td>\n",
       "      <td>29072.10</td>\n",
       "      <td>13.481043</td>\n",
       "      <td>9.301163</td>\n",
       "    </tr>\n",
       "    <tr>\n",
       "      <th>12749</th>\n",
       "      <td>231</td>\n",
       "      <td>4</td>\n",
       "      <td>3868.20</td>\n",
       "      <td>12.090909</td>\n",
       "      <td>8.389610</td>\n",
       "    </tr>\n",
       "    <tr>\n",
       "      <th>12820</th>\n",
       "      <td>59</td>\n",
       "      <td>4</td>\n",
       "      <td>942.34</td>\n",
       "      <td>12.745763</td>\n",
       "      <td>8.491525</td>\n",
       "    </tr>\n",
       "  </tbody>\n",
       "</table>\n",
       "</div>"
      ],
      "text/plain": [
       "            Frequency  Recency  Monetary  mean_hour  mean_month\n",
       "CustomerID                                                     \n",
       "12346               2      326      0.00  10.000000    1.000000\n",
       "12747             103        3   4196.01  12.029126    7.718447\n",
       "12748            4642        1  29072.10  13.481043    9.301163\n",
       "12749             231        4   3868.20  12.090909    8.389610\n",
       "12820              59        4    942.34  12.745763    8.491525"
      ]
     },
     "execution_count": 209,
     "metadata": {},
     "output_type": "execute_result"
    }
   ],
   "source": [
    "cust_df.head()"
   ]
  },
  {
   "cell_type": "code",
   "execution_count": 214,
   "metadata": {},
   "outputs": [],
   "source": [
    "from sklearn.preprocessing import MinMaxScaler"
   ]
  },
  {
   "cell_type": "code",
   "execution_count": 215,
   "metadata": {},
   "outputs": [],
   "source": [
    "scaler = MinMaxScaler()"
   ]
  },
  {
   "cell_type": "code",
   "execution_count": 216,
   "metadata": {},
   "outputs": [],
   "source": [
    "scaled_df = scaler.fit_transform(cust_df)"
   ]
  },
  {
   "cell_type": "code",
   "execution_count": 217,
   "metadata": {},
   "outputs": [],
   "source": [
    "scaled_df = pd.DataFrame(scaled_df, columns = cust_df.columns, index = cust_df.index)"
   ]
  },
  {
   "cell_type": "code",
   "execution_count": 218,
   "metadata": {},
   "outputs": [
    {
     "data": {
      "text/html": [
       "<div>\n",
       "<style scoped>\n",
       "    .dataframe tbody tr th:only-of-type {\n",
       "        vertical-align: middle;\n",
       "    }\n",
       "\n",
       "    .dataframe tbody tr th {\n",
       "        vertical-align: top;\n",
       "    }\n",
       "\n",
       "    .dataframe thead th {\n",
       "        text-align: right;\n",
       "    }\n",
       "</style>\n",
       "<table border=\"1\" class=\"dataframe\">\n",
       "  <thead>\n",
       "    <tr style=\"text-align: right;\">\n",
       "      <th></th>\n",
       "      <th>Frequency</th>\n",
       "      <th>Recency</th>\n",
       "      <th>Monetary</th>\n",
       "      <th>mean_hour</th>\n",
       "      <th>mean_month</th>\n",
       "    </tr>\n",
       "    <tr>\n",
       "      <th>CustomerID</th>\n",
       "      <th></th>\n",
       "      <th></th>\n",
       "      <th></th>\n",
       "      <th></th>\n",
       "      <th></th>\n",
       "    </tr>\n",
       "  </thead>\n",
       "  <tbody>\n",
       "    <tr>\n",
       "      <th>12346</th>\n",
       "      <td>0.000125</td>\n",
       "      <td>0.871314</td>\n",
       "      <td>0.016445</td>\n",
       "      <td>0.172932</td>\n",
       "      <td>0.000000</td>\n",
       "    </tr>\n",
       "    <tr>\n",
       "      <th>12747</th>\n",
       "      <td>0.012779</td>\n",
       "      <td>0.005362</td>\n",
       "      <td>0.032539</td>\n",
       "      <td>0.340755</td>\n",
       "      <td>0.610768</td>\n",
       "    </tr>\n",
       "    <tr>\n",
       "      <th>12748</th>\n",
       "      <td>0.581433</td>\n",
       "      <td>0.000000</td>\n",
       "      <td>0.127949</td>\n",
       "      <td>0.460838</td>\n",
       "      <td>0.754651</td>\n",
       "    </tr>\n",
       "    <tr>\n",
       "      <th>12749</th>\n",
       "      <td>0.028815</td>\n",
       "      <td>0.008043</td>\n",
       "      <td>0.031281</td>\n",
       "      <td>0.345865</td>\n",
       "      <td>0.671783</td>\n",
       "    </tr>\n",
       "    <tr>\n",
       "      <th>12820</th>\n",
       "      <td>0.007266</td>\n",
       "      <td>0.008043</td>\n",
       "      <td>0.020059</td>\n",
       "      <td>0.400025</td>\n",
       "      <td>0.681048</td>\n",
       "    </tr>\n",
       "  </tbody>\n",
       "</table>\n",
       "</div>"
      ],
      "text/plain": [
       "            Frequency   Recency  Monetary  mean_hour  mean_month\n",
       "CustomerID                                                      \n",
       "12346        0.000125  0.871314  0.016445   0.172932    0.000000\n",
       "12747        0.012779  0.005362  0.032539   0.340755    0.610768\n",
       "12748        0.581433  0.000000  0.127949   0.460838    0.754651\n",
       "12749        0.028815  0.008043  0.031281   0.345865    0.671783\n",
       "12820        0.007266  0.008043  0.020059   0.400025    0.681048"
      ]
     },
     "execution_count": 218,
     "metadata": {},
     "output_type": "execute_result"
    }
   ],
   "source": [
    "scaled_df.head()"
   ]
  },
  {
   "cell_type": "markdown",
   "metadata": {},
   "source": [
    "### 3. 군집 분석 및 적절한 집단 갯수 설정"
   ]
  },
  {
   "cell_type": "code",
   "execution_count": 219,
   "metadata": {},
   "outputs": [],
   "source": [
    "from sklearn.cluster import KMeans"
   ]
  },
  {
   "cell_type": "code",
   "execution_count": 223,
   "metadata": {},
   "outputs": [],
   "source": [
    "cls_n = range(1, 11)\n",
    "inertia_list = []"
   ]
  },
  {
   "cell_type": "code",
   "execution_count": 224,
   "metadata": {},
   "outputs": [],
   "source": [
    "for k in cls_n :\n",
    "    model = KMeans(n_clusters = k, random_state = 605, max_iter = 1000).fit(scaled_df)\n",
    "    inertia_list.append(model.inertia_)"
   ]
  },
  {
   "cell_type": "code",
   "execution_count": 212,
   "metadata": {},
   "outputs": [],
   "source": [
    "import matplotlib.pyplot as plt\n",
    "%matplotlib inline"
   ]
  },
  {
   "cell_type": "code",
   "execution_count": 225,
   "metadata": {},
   "outputs": [
    {
     "data": {
      "image/png": "[encoded data removed]",
      "text/plain": [
       "<Figure size 432x288 with 1 Axes>"
      ]
     },
     "metadata": {
      "needs_background": "light"
     },
     "output_type": "display_data"
    }
   ],
   "source": [
    "plt.plot(cls_n, inertia_list, marker = 'o')\n",
    "plt.xlabel(\"Number of cluster\")\n",
    "plt.ylabel(\"SSE\")\n",
    "plt.show()"
   ]
  },
  {
   "cell_type": "markdown",
   "metadata": {},
   "source": [
    "군집개수 4로 설정"
   ]
  },
  {
   "cell_type": "markdown",
   "metadata": {},
   "source": [
    "### 4. 군집별 의미 파악 + 군집별로 월 기준으로 rfm 히트맵 그리기"
   ]
  },
  {
   "cell_type": "code",
   "execution_count": 227,
   "metadata": {},
   "outputs": [],
   "source": [
    "model = KMeans(4, random_state = 605, max_iter = 1000).fit(scaled_df)\n",
    "cust_df['cls'] = model.labels_"
   ]
  },
  {
   "cell_type": "code",
   "execution_count": 231,
   "metadata": {},
   "outputs": [
    {
     "data": {
      "text/html": [
       "<div>\n",
       "<style scoped>\n",
       "    .dataframe tbody tr th:only-of-type {\n",
       "        vertical-align: middle;\n",
       "    }\n",
       "\n",
       "    .dataframe tbody tr th {\n",
       "        vertical-align: top;\n",
       "    }\n",
       "\n",
       "    .dataframe thead th {\n",
       "        text-align: right;\n",
       "    }\n",
       "</style>\n",
       "<table border=\"1\" class=\"dataframe\">\n",
       "  <thead>\n",
       "    <tr style=\"text-align: right;\">\n",
       "      <th></th>\n",
       "      <th>CustomerID</th>\n",
       "      <th>cls</th>\n",
       "    </tr>\n",
       "  </thead>\n",
       "  <tbody>\n",
       "    <tr>\n",
       "      <th>0</th>\n",
       "      <td>12346</td>\n",
       "      <td>0</td>\n",
       "    </tr>\n",
       "    <tr>\n",
       "      <th>1</th>\n",
       "      <td>12747</td>\n",
       "      <td>1</td>\n",
       "    </tr>\n",
       "    <tr>\n",
       "      <th>2</th>\n",
       "      <td>12748</td>\n",
       "      <td>2</td>\n",
       "    </tr>\n",
       "    <tr>\n",
       "      <th>3</th>\n",
       "      <td>12749</td>\n",
       "      <td>2</td>\n",
       "    </tr>\n",
       "    <tr>\n",
       "      <th>4</th>\n",
       "      <td>12820</td>\n",
       "      <td>2</td>\n",
       "    </tr>\n",
       "    <tr>\n",
       "      <th>...</th>\n",
       "      <td>...</td>\n",
       "      <td>...</td>\n",
       "    </tr>\n",
       "    <tr>\n",
       "      <th>3945</th>\n",
       "      <td>18280</td>\n",
       "      <td>0</td>\n",
       "    </tr>\n",
       "    <tr>\n",
       "      <th>3946</th>\n",
       "      <td>18281</td>\n",
       "      <td>0</td>\n",
       "    </tr>\n",
       "    <tr>\n",
       "      <th>3947</th>\n",
       "      <td>18282</td>\n",
       "      <td>2</td>\n",
       "    </tr>\n",
       "    <tr>\n",
       "      <th>3948</th>\n",
       "      <td>18283</td>\n",
       "      <td>1</td>\n",
       "    </tr>\n",
       "    <tr>\n",
       "      <th>3949</th>\n",
       "      <td>18287</td>\n",
       "      <td>1</td>\n",
       "    </tr>\n",
       "  </tbody>\n",
       "</table>\n",
       "<p>3950 rows × 2 columns</p>\n",
       "</div>"
      ],
      "text/plain": [
       "      CustomerID  cls\n",
       "0          12346    0\n",
       "1          12747    1\n",
       "2          12748    2\n",
       "3          12749    2\n",
       "4          12820    2\n",
       "...          ...  ...\n",
       "3945       18280    0\n",
       "3946       18281    0\n",
       "3947       18282    2\n",
       "3948       18283    1\n",
       "3949       18287    1\n",
       "\n",
       "[3950 rows x 2 columns]"
      ]
     },
     "execution_count": 231,
     "metadata": {},
     "output_type": "execute_result"
    }
   ],
   "source": [
    "cust_df.reset_index().iloc[:,[0,-1]]"
   ]
  },
  {
   "cell_type": "code",
   "execution_count": null,
   "metadata": {},
   "outputs": [],
   "source": []
  },
  {
   "cell_type": "markdown",
   "metadata": {},
   "source": [
    "### 5. 군집별 마케팅 인사이트 도출"
   ]
  },
  {
   "cell_type": "code",
   "execution_count": null,
   "metadata": {},
   "outputs": [],
   "source": []
  },
  {
   "cell_type": "code",
   "execution_count": null,
   "metadata": {},
   "outputs": [],
   "source": []
  },
  {
   "cell_type": "markdown",
   "metadata": {},
   "source": [
    "## 2 시계열 \n",
    "\n",
    "- sales값 예측"
   ]
  },
  {
   "cell_type": "code",
   "execution_count": 112,
   "metadata": {},
   "outputs": [],
   "source": [
    "data['InvoiceDate'] = pd.to_datetime(data['InvoiceDate'])"
   ]
  },
  {
   "cell_type": "code",
   "execution_count": 118,
   "metadata": {},
   "outputs": [],
   "source": [
    "data.set_index('InvoiceDate', inplace = True)"
   ]
  },
  {
   "cell_type": "code",
   "execution_count": 119,
   "metadata": {},
   "outputs": [],
   "source": [
    "ts_df = data.iloc[:, 1:].resample('D').sum()"
   ]
  },
  {
   "cell_type": "code",
   "execution_count": 120,
   "metadata": {},
   "outputs": [
    {
     "data": {
      "text/html": [
       "<div>\n",
       "<style scoped>\n",
       "    .dataframe tbody tr th:only-of-type {\n",
       "        vertical-align: middle;\n",
       "    }\n",
       "\n",
       "    .dataframe tbody tr th {\n",
       "        vertical-align: top;\n",
       "    }\n",
       "\n",
       "    .dataframe thead th {\n",
       "        text-align: right;\n",
       "    }\n",
       "</style>\n",
       "<table border=\"1\" class=\"dataframe\">\n",
       "  <thead>\n",
       "    <tr style=\"text-align: right;\">\n",
       "      <th></th>\n",
       "      <th>Quantity</th>\n",
       "      <th>UnitPrice</th>\n",
       "      <th>sale_amount</th>\n",
       "    </tr>\n",
       "    <tr>\n",
       "      <th>InvoiceDate</th>\n",
       "      <th></th>\n",
       "      <th></th>\n",
       "      <th></th>\n",
       "    </tr>\n",
       "  </thead>\n",
       "  <tbody>\n",
       "    <tr>\n",
       "      <th>2010-12-01</th>\n",
       "      <td>21167</td>\n",
       "      <td>5764.05</td>\n",
       "      <td>42030.85</td>\n",
       "    </tr>\n",
       "    <tr>\n",
       "      <th>2010-12-02</th>\n",
       "      <td>20705</td>\n",
       "      <td>6539.18</td>\n",
       "      <td>45622.08</td>\n",
       "    </tr>\n",
       "    <tr>\n",
       "      <th>2010-12-03</th>\n",
       "      <td>7357</td>\n",
       "      <td>2957.19</td>\n",
       "      <td>17512.44</td>\n",
       "    </tr>\n",
       "    <tr>\n",
       "      <th>2010-12-04</th>\n",
       "      <td>0</td>\n",
       "      <td>0.00</td>\n",
       "      <td>0.00</td>\n",
       "    </tr>\n",
       "    <tr>\n",
       "      <th>2010-12-05</th>\n",
       "      <td>13603</td>\n",
       "      <td>7102.72</td>\n",
       "      <td>25458.85</td>\n",
       "    </tr>\n",
       "    <tr>\n",
       "      <th>...</th>\n",
       "      <td>...</td>\n",
       "      <td>...</td>\n",
       "      <td>...</td>\n",
       "    </tr>\n",
       "    <tr>\n",
       "      <th>2011-12-05</th>\n",
       "      <td>36600</td>\n",
       "      <td>11341.01</td>\n",
       "      <td>53598.46</td>\n",
       "    </tr>\n",
       "    <tr>\n",
       "      <th>2011-12-06</th>\n",
       "      <td>24885</td>\n",
       "      <td>5633.66</td>\n",
       "      <td>39738.14</td>\n",
       "    </tr>\n",
       "    <tr>\n",
       "      <th>2011-12-07</th>\n",
       "      <td>28993</td>\n",
       "      <td>4245.88</td>\n",
       "      <td>48943.63</td>\n",
       "    </tr>\n",
       "    <tr>\n",
       "      <th>2011-12-08</th>\n",
       "      <td>25028</td>\n",
       "      <td>6307.69</td>\n",
       "      <td>46462.31</td>\n",
       "    </tr>\n",
       "    <tr>\n",
       "      <th>2011-12-09</th>\n",
       "      <td>6137</td>\n",
       "      <td>1266.97</td>\n",
       "      <td>10773.71</td>\n",
       "    </tr>\n",
       "  </tbody>\n",
       "</table>\n",
       "<p>374 rows × 3 columns</p>\n",
       "</div>"
      ],
      "text/plain": [
       "             Quantity  UnitPrice  sale_amount\n",
       "InvoiceDate                                  \n",
       "2010-12-01      21167    5764.05     42030.85\n",
       "2010-12-02      20705    6539.18     45622.08\n",
       "2010-12-03       7357    2957.19     17512.44\n",
       "2010-12-04          0       0.00         0.00\n",
       "2010-12-05      13603    7102.72     25458.85\n",
       "...               ...        ...          ...\n",
       "2011-12-05      36600   11341.01     53598.46\n",
       "2011-12-06      24885    5633.66     39738.14\n",
       "2011-12-07      28993    4245.88     48943.63\n",
       "2011-12-08      25028    6307.69     46462.31\n",
       "2011-12-09       6137    1266.97     10773.71\n",
       "\n",
       "[374 rows x 3 columns]"
      ]
     },
     "execution_count": 120,
     "metadata": {},
     "output_type": "execute_result"
    }
   ],
   "source": [
    "ts_df"
   ]
  },
  {
   "cell_type": "markdown",
   "metadata": {},
   "source": [
    "### 1. 전처리 수행 및 EDA"
   ]
  },
  {
   "cell_type": "code",
   "execution_count": 240,
   "metadata": {},
   "outputs": [
    {
     "data": {
      "image/png": "[encoded data removed]",
      "text/plain": [
       "<Figure size 1080x504 with 1 Axes>"
      ]
     },
     "metadata": {
      "needs_background": "light"
     },
     "output_type": "display_data"
    }
   ],
   "source": [
    "plt.rcParams['figure.figsize'] = (15 ,7)\n",
    "ts_df.plot()\n",
    "plt.show()"
   ]
  },
  {
   "cell_type": "code",
   "execution_count": 235,
   "metadata": {},
   "outputs": [],
   "source": [
    "from statsmodels.tsa.seasonal import seasonal_decompose"
   ]
  },
  {
   "cell_type": "code",
   "execution_count": 275,
   "metadata": {},
   "outputs": [
    {
     "data": {
      "image/png": "[encoded data removed]",
      "text/plain": [
       "<Figure size 1080x504 with 4 Axes>"
      ]
     },
     "metadata": {
      "needs_background": "light"
     },
     "output_type": "display_data"
    }
   ],
   "source": [
    "d = seasonal_decompose(ts_df.sale_amount)\n",
    "d.plot()\n",
    "plt.show()"
   ]
  },
  {
   "cell_type": "code",
   "execution_count": 278,
   "metadata": {},
   "outputs": [],
   "source": [
    "from statsmodels.graphics.tsaplots import plot_acf, plot_pacf"
   ]
  },
  {
   "cell_type": "code",
   "execution_count": 282,
   "metadata": {},
   "outputs": [
    {
     "data": {
      "image/png": "[encoded data removed]",
      "text/plain": [
       "<Figure size 1080x504 with 1 Axes>"
      ]
     },
     "metadata": {
      "needs_background": "light"
     },
     "output_type": "display_data"
    },
    {
     "data": {
      "image/png": "[encoded data removed]",
      "text/plain": [
       "<Figure size 1080x504 with 1 Axes>"
      ]
     },
     "metadata": {
      "needs_background": "light"
     },
     "output_type": "display_data"
    }
   ],
   "source": [
    "plot_acf(d.trend.fillna(0))\n",
    "plot_pacf(d.trend.fillna(0))\n",
    "plt.show()"
   ]
  },
  {
   "cell_type": "markdown",
   "metadata": {},
   "source": [
    "### 2. 정상성 검정"
   ]
  },
  {
   "cell_type": "code",
   "execution_count": 236,
   "metadata": {},
   "outputs": [],
   "source": [
    "from statsmodels.tsa.stattools import kpss"
   ]
  },
  {
   "cell_type": "code",
   "execution_count": 237,
   "metadata": {},
   "outputs": [
    {
     "name": "stdout",
     "output_type": "stream",
     "text": [
      "KPSS Statistic : 1.2227906140172484\n",
      "P-value : 0.01\n",
      "num_lags : 17\n",
      "Critial_values : {'10%': 0.347, '5%': 0.463, '2.5%': 0.574, '1%': 0.739}\n"
     ]
    },
    {
     "name": "stderr",
     "output_type": "stream",
     "text": [
      "/Users/kisehyun/opt/anaconda3/lib/python3.8/site-packages/statsmodels/tsa/stattools.py:1850: FutureWarning: The behavior of using nlags=None will change in release 0.13.Currently nlags=None is the same as nlags=\"legacy\", and so a sample-size lag length is used. After the next release, the default will change to be the same as nlags=\"auto\" which uses an automatic lag length selection method. To silence this warning, either use \"auto\" or \"legacy\"\n",
      "  warnings.warn(msg, FutureWarning)\n",
      "/Users/kisehyun/opt/anaconda3/lib/python3.8/site-packages/statsmodels/tsa/stattools.py:1881: InterpolationWarning: The test statistic is outside of the range of p-values available in the\n",
      "look-up table. The actual p-value is smaller than the p-value returned.\n",
      "\n",
      "  warnings.warn(\n"
     ]
    }
   ],
   "source": [
    "statistic, p_value, n_lags, critial_values = kpss(ts_df.sale_amount)\n",
    "\n",
    "print(\"KPSS Statistic : {}\".format(statistic))\n",
    "print(\"P-value : {}\".format(p_value))\n",
    "print(\"num_lags : {}\".format(n_lags))\n",
    "print(\"Critial_values : {}\".format(critial_values))"
   ]
  },
  {
   "cell_type": "code",
   "execution_count": 239,
   "metadata": {},
   "outputs": [
    {
     "name": "stdout",
     "output_type": "stream",
     "text": [
      "KPSS Statistic : 0.16772120300207138\n",
      "P-value : 0.1\n",
      "num_lags : 17\n",
      "Critial_values : {'10%': 0.347, '5%': 0.463, '2.5%': 0.574, '1%': 0.739}\n"
     ]
    },
    {
     "name": "stderr",
     "output_type": "stream",
     "text": [
      "/Users/kisehyun/opt/anaconda3/lib/python3.8/site-packages/statsmodels/tsa/stattools.py:1885: InterpolationWarning: The test statistic is outside of the range of p-values available in the\n",
      "look-up table. The actual p-value is greater than the p-value returned.\n",
      "\n",
      "  warnings.warn(\n"
     ]
    }
   ],
   "source": [
    "statistic, p_value, n_lags, critial_values = kpss(ts_df.sale_amount.diff(7).dropna())\n",
    "\n",
    "print(\"KPSS Statistic : {}\".format(statistic))\n",
    "print(\"P-value : {}\".format(p_value))\n",
    "print(\"num_lags : {}\".format(n_lags))\n",
    "print(\"Critial_values : {}\".format(critial_values))"
   ]
  },
  {
   "cell_type": "code",
   "execution_count": 241,
   "metadata": {},
   "outputs": [],
   "source": [
    "from statsmodels.tsa.stattools import adfuller"
   ]
  },
  {
   "cell_type": "code",
   "execution_count": 246,
   "metadata": {
    "scrolled": true
   },
   "outputs": [
    {
     "name": "stdout",
     "output_type": "stream",
     "text": [
      "원 데이터의 ADF 값 : -2.0385165255824247\n",
      "원 데이터의 P-value : 0.26994435620382634\n",
      "\n",
      "1차 차분 데이터의 ADF 값 : -5.587557930401772\n",
      "1차 차분 데이터의 P-value : 1.3520773655531406e-06\n"
     ]
    }
   ],
   "source": [
    "y = ts_df['sale_amount']\n",
    "y1dif = ts_df['sale_amount'].diff(periods = 7).dropna()\n",
    "\n",
    "result = adfuller(y)\n",
    "print(\"원 데이터의 ADF 값 : {}\".format(result[0]))\n",
    "print('원 데이터의 P-value : {}\\n'.format(result[1]))\n",
    "\n",
    "result1 = adfuller(y1dif, autolag = None)\n",
    "print(\"1차 차분 데이터의 ADF 값 : {}\".format(result1[0]))\n",
    "print('1차 차분 데이터의 P-value : {}'.format(result1[1]))"
   ]
  },
  {
   "cell_type": "markdown",
   "metadata": {},
   "source": [
    "d = 1, D = 1로 파라미터를 결정한다."
   ]
  },
  {
   "cell_type": "markdown",
   "metadata": {},
   "source": [
    "### 3. sales 데이터만을 이용하여 시계열 분석 후 사후 분석"
   ]
  },
  {
   "cell_type": "code",
   "execution_count": 253,
   "metadata": {},
   "outputs": [],
   "source": [
    "y_train = ts_df.sale_amount.iloc[:344]\n",
    "y_test = ts_df.sale_amount.iloc[344:]"
   ]
  },
  {
   "cell_type": "code",
   "execution_count": 261,
   "metadata": {},
   "outputs": [
    {
     "name": "stderr",
     "output_type": "stream",
     "text": [
      "\r",
      "  0%|          | 0/18 [00:00<?, ?it/s]"
     ]
    },
    {
     "name": "stdout",
     "output_type": "stream",
     "text": [
      "Fit SARIMAX: trend_order=(0, 0, 0) seasonal_order=(0, 0, 0, 7) AIC=7524.598124271766, BIC=7532.279407586513\n",
      "Fit SARIMAX: trend_order=(0, 0, 0) seasonal_order=(0, 0, 1, 7) AIC=7455.656215742243, BIC=7467.1781407143635\n",
      "Fit SARIMAX: trend_order=(0, 0, 0) seasonal_order=(0, 0, 2, 7) AIC=7432.427373853277, BIC=7447.78994048277\n",
      "Fit SARIMAX: trend_order=(0, 0, 0) seasonal_order=(0, 1, 0, 7) AIC=7307.144623175447, BIC=7314.784789036152\n",
      "Fit SARIMAX: trend_order=(0, 0, 0) seasonal_order=(0, 1, 1, 7) AIC=7167.684508820186, BIC=7179.144757611243\n",
      "Fit SARIMAX: trend_order=(0, 0, 0) seasonal_order=(0, 1, 2, 7) AIC=7159.084827095266, BIC=7174.365158816675\n",
      "Fit SARIMAX: trend_order=(0, 0, 0) seasonal_order=(1, 0, 0, 7) AIC=7485.390554616285, BIC=7496.912479588405\n",
      "Fit SARIMAX: trend_order=(0, 0, 0) seasonal_order=(1, 0, 1, 7) AIC=7452.33752394444, BIC=7467.700090573934\n"
     ]
    },
    {
     "name": "stderr",
     "output_type": "stream",
     "text": [
      "/Users/kisehyun/opt/anaconda3/lib/python3.8/site-packages/statsmodels/tsa/statespace/sarimax.py:997: UserWarning: Non-stationary starting seasonal autoregressive Using zeros as starting parameters.\n",
      "  warn('Non-stationary starting seasonal autoregressive'\n"
     ]
    },
    {
     "name": "stdout",
     "output_type": "stream",
     "text": [
      "Fit SARIMAX: trend_order=(0, 0, 0) seasonal_order=(1, 0, 2, 7) AIC=7432.97694640551, BIC=7452.180154692377\n",
      "Fit SARIMAX: trend_order=(0, 0, 0) seasonal_order=(1, 1, 0, 7) AIC=7256.06864845559, BIC=7267.528897246647\n"
     ]
    },
    {
     "name": "stderr",
     "output_type": "stream",
     "text": [
      "/Users/kisehyun/opt/anaconda3/lib/python3.8/site-packages/statsmodels/base/model.py:566: ConvergenceWarning: Maximum Likelihood optimization failed to converge. Check mle_retvals\n",
      "  warnings.warn(\"Maximum Likelihood optimization failed to \"\n"
     ]
    },
    {
     "name": "stdout",
     "output_type": "stream",
     "text": [
      "Fit SARIMAX: trend_order=(0, 0, 0) seasonal_order=(1, 1, 1, 7) AIC=7159.027941968224, BIC=7174.308273689633\n",
      "Fit SARIMAX: trend_order=(0, 0, 0) seasonal_order=(1, 1, 2, 7) AIC=7191.171482954349, BIC=7210.2718976061105\n",
      "Fit SARIMAX: trend_order=(0, 0, 0) seasonal_order=(2, 0, 0, 7) AIC=7487.388162483259, BIC=7502.750729112753\n",
      "Fit SARIMAX: trend_order=(0, 0, 0) seasonal_order=(2, 0, 1, 7) AIC=7422.9686773941885, BIC=7442.171885681056\n",
      "Fit SARIMAX: trend_order=(0, 0, 0) seasonal_order=(2, 0, 2, 7) AIC=7423.733116325104, BIC=7446.7769662693445\n",
      "Fit SARIMAX: trend_order=(0, 0, 0) seasonal_order=(2, 1, 0, 7) AIC=7241.12916816836, BIC=7256.409499889769\n",
      "Fit SARIMAX: trend_order=(0, 0, 0) seasonal_order=(2, 1, 1, 7) AIC=7191.074764618632, BIC=7210.1751792703935\n"
     ]
    },
    {
     "name": "stderr",
     "output_type": "stream",
     "text": [
      "/Users/kisehyun/opt/anaconda3/lib/python3.8/site-packages/statsmodels/base/model.py:566: ConvergenceWarning: Maximum Likelihood optimization failed to converge. Check mle_retvals\n",
      "  warnings.warn(\"Maximum Likelihood optimization failed to \"\n",
      "  6%|▌         | 1/18 [00:07<02:04,  7.30s/it]"
     ]
    },
    {
     "name": "stdout",
     "output_type": "stream",
     "text": [
      "Fit SARIMAX: trend_order=(0, 0, 0) seasonal_order=(2, 1, 2, 7) AIC=7183.486300768729, BIC=7206.406798350843\n",
      "Fit SARIMAX: trend_order=(0, 0, 1) seasonal_order=(0, 0, 0, 7) AIC=7492.512157950311, BIC=7504.0340829224315\n",
      "Fit SARIMAX: trend_order=(0, 0, 1) seasonal_order=(0, 0, 1, 7) AIC=7430.942110942924, BIC=7446.304677572418\n",
      "Fit SARIMAX: trend_order=(0, 0, 1) seasonal_order=(0, 0, 2, 7) AIC=7413.227337111184, BIC=7432.430545398051\n",
      "Fit SARIMAX: trend_order=(0, 0, 1) seasonal_order=(0, 1, 0, 7) AIC=7299.662213075506, BIC=7311.122461866563\n",
      "Fit SARIMAX: trend_order=(0, 0, 1) seasonal_order=(0, 1, 1, 7) AIC=7189.31474879822, BIC=7204.595080519629\n",
      "Fit SARIMAX: trend_order=(0, 0, 1) seasonal_order=(0, 1, 2, 7) AIC=7180.020052353122, BIC=7199.120467004884\n",
      "Fit SARIMAX: trend_order=(0, 0, 1) seasonal_order=(1, 0, 0, 7) AIC=7438.690885231526, BIC=7454.05345186102\n",
      "Fit SARIMAX: trend_order=(0, 0, 1) seasonal_order=(1, 0, 1, 7) AIC=7423.461193249159, BIC=7442.664401536026\n",
      "Fit SARIMAX: trend_order=(0, 0, 1) seasonal_order=(1, 0, 2, 7) AIC=7411.414713751394, BIC=7434.458563695634\n",
      "Fit SARIMAX: trend_order=(0, 0, 1) seasonal_order=(1, 1, 0, 7) AIC=7248.124050254566, BIC=7263.404381975975\n",
      "Fit SARIMAX: trend_order=(0, 0, 1) seasonal_order=(1, 1, 1, 7) AIC=7185.4393176235635, BIC=7204.539732275325\n",
      "Fit SARIMAX: trend_order=(0, 0, 1) seasonal_order=(1, 1, 2, 7) AIC=7187.353142137814, BIC=7210.273639719928\n",
      "Fit SARIMAX: trend_order=(0, 0, 1) seasonal_order=(2, 0, 0, 7) AIC=7440.547788610689, BIC=7459.750996897556\n",
      "Fit SARIMAX: trend_order=(0, 0, 1) seasonal_order=(2, 0, 1, 7) AIC=7403.268171842849, BIC=7426.31202178709\n",
      "Fit SARIMAX: trend_order=(0, 0, 1) seasonal_order=(2, 0, 2, 7) AIC=7402.308088815191, BIC=7429.192580416805\n",
      "Fit SARIMAX: trend_order=(0, 0, 1) seasonal_order=(2, 1, 0, 7) AIC=7232.514876430751, BIC=7251.615291082513\n",
      "Fit SARIMAX: trend_order=(0, 0, 1) seasonal_order=(2, 1, 1, 7) AIC=7187.267314961324, BIC=7210.187812543438\n"
     ]
    },
    {
     "name": "stderr",
     "output_type": "stream",
     "text": [
      "/Users/kisehyun/opt/anaconda3/lib/python3.8/site-packages/statsmodels/base/model.py:566: ConvergenceWarning: Maximum Likelihood optimization failed to converge. Check mle_retvals\n",
      "  warnings.warn(\"Maximum Likelihood optimization failed to \"\n",
      " 11%|█         | 2/18 [00:14<01:52,  7.06s/it]"
     ]
    },
    {
     "name": "stdout",
     "output_type": "stream",
     "text": [
      "Fit SARIMAX: trend_order=(0, 0, 1) seasonal_order=(2, 1, 2, 7) AIC=7176.696757292745, BIC=7203.437337805211\n",
      "Fit SARIMAX: trend_order=(0, 0, 2) seasonal_order=(0, 0, 0, 7) AIC=7490.828659290083, BIC=7506.191225919577\n",
      "Fit SARIMAX: trend_order=(0, 0, 2) seasonal_order=(0, 0, 1, 7) AIC=7430.372068965664, BIC=7449.575277252531\n",
      "Fit SARIMAX: trend_order=(0, 0, 2) seasonal_order=(0, 0, 2, 7) AIC=7412.125049418535, BIC=7435.168899362776\n",
      "Fit SARIMAX: trend_order=(0, 0, 2) seasonal_order=(0, 1, 0, 7) AIC=7300.92900711019, BIC=7316.209338831599\n",
      "Fit SARIMAX: trend_order=(0, 0, 2) seasonal_order=(0, 1, 1, 7) AIC=7173.370659038143, BIC=7192.471073689904\n",
      "Fit SARIMAX: trend_order=(0, 0, 2) seasonal_order=(0, 1, 2, 7) AIC=7182.8862837541765, BIC=7205.80678133629\n",
      "Fit SARIMAX: trend_order=(0, 0, 2) seasonal_order=(1, 0, 0, 7) AIC=7435.439569720542, BIC=7454.642778007409\n",
      "Fit SARIMAX: trend_order=(0, 0, 2) seasonal_order=(1, 0, 1, 7) AIC=7423.317517172018, BIC=7446.361367116258\n",
      "Fit SARIMAX: trend_order=(0, 0, 2) seasonal_order=(1, 0, 2, 7) AIC=7410.472807774862, BIC=7437.3572993764765\n",
      "Fit SARIMAX: trend_order=(0, 0, 2) seasonal_order=(1, 1, 0, 7) AIC=7242.726886461474, BIC=7261.827301113236\n",
      "Fit SARIMAX: trend_order=(0, 0, 2) seasonal_order=(1, 1, 1, 7) AIC=7182.388803744834, BIC=7205.309301326948\n",
      "Fit SARIMAX: trend_order=(0, 0, 2) seasonal_order=(1, 1, 2, 7) AIC=7186.729996218335, BIC=7213.470576730801\n",
      "Fit SARIMAX: trend_order=(0, 0, 2) seasonal_order=(2, 0, 0, 7) AIC=7436.324284220148, BIC=7459.368134164389\n",
      "Fit SARIMAX: trend_order=(0, 0, 2) seasonal_order=(2, 0, 1, 7) AIC=7402.332689125022, BIC=7429.217180726636\n",
      "Fit SARIMAX: trend_order=(0, 0, 2) seasonal_order=(2, 0, 2, 7) AIC=7400.862121273568, BIC=7431.587254532556\n",
      "Fit SARIMAX: trend_order=(0, 0, 2) seasonal_order=(2, 1, 0, 7) AIC=7227.78788374434, BIC=7250.708381326454\n",
      "Fit SARIMAX: trend_order=(0, 0, 2) seasonal_order=(2, 1, 1, 7) AIC=7184.379557454427, BIC=7211.120137966894\n"
     ]
    },
    {
     "name": "stderr",
     "output_type": "stream",
     "text": [
      "\r",
      " 17%|█▋        | 3/18 [00:22<01:51,  7.43s/it]"
     ]
    },
    {
     "name": "stdout",
     "output_type": "stream",
     "text": [
      "Fit SARIMAX: trend_order=(0, 0, 2) seasonal_order=(2, 1, 2, 7) AIC=7185.274083753644, BIC=7215.834747196463\n",
      "Fit SARIMAX: trend_order=(0, 1, 0) seasonal_order=(0, 0, 0, 7) AIC=7599.992418909302, BIC=7607.667879803634\n",
      "Fit SARIMAX: trend_order=(0, 1, 0) seasonal_order=(0, 0, 1, 7) AIC=7550.086889924893, BIC=7561.600081266391\n",
      "Fit SARIMAX: trend_order=(0, 1, 0) seasonal_order=(0, 0, 2, 7) AIC=7536.796533288221, BIC=7552.147455076885\n",
      "Fit SARIMAX: trend_order=(0, 1, 0) seasonal_order=(0, 1, 0, 7) AIC=7448.678677374404, BIC=7456.312899694331\n",
      "Fit SARIMAX: trend_order=(0, 1, 0) seasonal_order=(0, 1, 1, 7) AIC=7305.696159885033, BIC=7317.147493364922\n",
      "Fit SARIMAX: trend_order=(0, 1, 0) seasonal_order=(0, 1, 2, 7) AIC=7333.5361669859785, BIC=7348.804611625831\n",
      "Fit SARIMAX: trend_order=(0, 1, 0) seasonal_order=(1, 0, 0, 7) AIC=7528.434118806232, BIC=7539.94731014773\n"
     ]
    },
    {
     "name": "stderr",
     "output_type": "stream",
     "text": [
      "/Users/kisehyun/opt/anaconda3/lib/python3.8/site-packages/statsmodels/base/model.py:566: ConvergenceWarning: Maximum Likelihood optimization failed to converge. Check mle_retvals\n",
      "  warnings.warn(\"Maximum Likelihood optimization failed to \"\n"
     ]
    },
    {
     "name": "stdout",
     "output_type": "stream",
     "text": [
      "Fit SARIMAX: trend_order=(0, 1, 0) seasonal_order=(1, 0, 1, 7) AIC=7471.044670095186, BIC=7486.39559188385\n",
      "Fit SARIMAX: trend_order=(0, 1, 0) seasonal_order=(1, 0, 2, 7) AIC=7493.551668440001, BIC=7512.740320675831\n",
      "Fit SARIMAX: trend_order=(0, 1, 0) seasonal_order=(1, 1, 0, 7) AIC=7394.6355371134105, BIC=7406.0868705933\n",
      "Fit SARIMAX: trend_order=(0, 1, 0) seasonal_order=(1, 1, 1, 7) AIC=7300.019318557693, BIC=7315.287763197545\n",
      "Fit SARIMAX: trend_order=(0, 1, 0) seasonal_order=(1, 1, 2, 7) AIC=7335.525241997873, BIC=7354.610797797689\n",
      "Fit SARIMAX: trend_order=(0, 1, 0) seasonal_order=(2, 0, 0, 7) AIC=7520.340901379695, BIC=7535.691823168359\n",
      "Fit SARIMAX: trend_order=(0, 1, 0) seasonal_order=(2, 0, 1, 7) AIC=7493.515359658162, BIC=7512.704011893992\n",
      "Fit SARIMAX: trend_order=(0, 1, 0) seasonal_order=(2, 0, 2, 7) AIC=7497.537370899699, BIC=7520.563753582695\n",
      "Fit SARIMAX: trend_order=(0, 1, 0) seasonal_order=(2, 1, 0, 7) AIC=7377.129784179697, BIC=7392.398228819549\n",
      "Fit SARIMAX: trend_order=(0, 1, 0) seasonal_order=(2, 1, 1, 7) AIC=7335.650289628456, BIC=7354.735845428272\n"
     ]
    },
    {
     "name": "stderr",
     "output_type": "stream",
     "text": [
      "\r",
      " 22%|██▏       | 4/18 [00:27<01:34,  6.75s/it]"
     ]
    },
    {
     "name": "stdout",
     "output_type": "stream",
     "text": [
      "Fit SARIMAX: trend_order=(0, 1, 0) seasonal_order=(2, 1, 2, 7) AIC=7336.609746078054, BIC=7359.512413037833\n",
      "Fit SARIMAX: trend_order=(0, 1, 1) seasonal_order=(0, 0, 0, 7) AIC=7464.214340629724, BIC=7475.727531971222\n",
      "Fit SARIMAX: trend_order=(0, 1, 1) seasonal_order=(0, 0, 1, 7) AIC=7429.411162772395, BIC=7444.762084561059\n",
      "Fit SARIMAX: trend_order=(0, 1, 1) seasonal_order=(0, 0, 2, 7) AIC=7414.484623585138, BIC=7433.673275820968\n",
      "Fit SARIMAX: trend_order=(0, 1, 1) seasonal_order=(0, 1, 0, 7) AIC=7316.295776164994, BIC=7327.7471096448835\n"
     ]
    },
    {
     "name": "stderr",
     "output_type": "stream",
     "text": [
      "/Users/kisehyun/opt/anaconda3/lib/python3.8/site-packages/statsmodels/base/model.py:566: ConvergenceWarning: Maximum Likelihood optimization failed to converge. Check mle_retvals\n",
      "  warnings.warn(\"Maximum Likelihood optimization failed to \"\n"
     ]
    },
    {
     "name": "stdout",
     "output_type": "stream",
     "text": [
      "Fit SARIMAX: trend_order=(0, 1, 1) seasonal_order=(0, 1, 1, 7) AIC=7147.435762989269, BIC=7162.704207629122\n"
     ]
    },
    {
     "name": "stderr",
     "output_type": "stream",
     "text": [
      "/Users/kisehyun/opt/anaconda3/lib/python3.8/site-packages/statsmodels/base/model.py:566: ConvergenceWarning: Maximum Likelihood optimization failed to converge. Check mle_retvals\n",
      "  warnings.warn(\"Maximum Likelihood optimization failed to \"\n"
     ]
    },
    {
     "name": "stdout",
     "output_type": "stream",
     "text": [
      "Fit SARIMAX: trend_order=(0, 1, 1) seasonal_order=(0, 1, 2, 7) AIC=7147.529367032076, BIC=7166.614922831892\n"
     ]
    },
    {
     "name": "stderr",
     "output_type": "stream",
     "text": [
      "/Users/kisehyun/opt/anaconda3/lib/python3.8/site-packages/statsmodels/base/model.py:566: ConvergenceWarning: Maximum Likelihood optimization failed to converge. Check mle_retvals\n",
      "  warnings.warn(\"Maximum Likelihood optimization failed to \"\n"
     ]
    },
    {
     "name": "stdout",
     "output_type": "stream",
     "text": [
      "Fit SARIMAX: trend_order=(0, 1, 1) seasonal_order=(1, 0, 0, 7) AIC=7375.914315630689, BIC=7391.265237419353\n"
     ]
    },
    {
     "name": "stderr",
     "output_type": "stream",
     "text": [
      "/Users/kisehyun/opt/anaconda3/lib/python3.8/site-packages/statsmodels/base/model.py:566: ConvergenceWarning: Maximum Likelihood optimization failed to converge. Check mle_retvals\n",
      "  warnings.warn(\"Maximum Likelihood optimization failed to \"\n"
     ]
    },
    {
     "name": "stdout",
     "output_type": "stream",
     "text": [
      "Fit SARIMAX: trend_order=(0, 1, 1) seasonal_order=(1, 0, 1, 7) AIC=7349.983530654636, BIC=7369.172182890466\n"
     ]
    },
    {
     "name": "stderr",
     "output_type": "stream",
     "text": [
      "/Users/kisehyun/opt/anaconda3/lib/python3.8/site-packages/statsmodels/base/model.py:566: ConvergenceWarning: Maximum Likelihood optimization failed to converge. Check mle_retvals\n",
      "  warnings.warn(\"Maximum Likelihood optimization failed to \"\n"
     ]
    },
    {
     "name": "stdout",
     "output_type": "stream",
     "text": [
      "Fit SARIMAX: trend_order=(0, 1, 1) seasonal_order=(1, 0, 2, 7) AIC=7366.667949885981, BIC=7389.694332568977\n",
      "Fit SARIMAX: trend_order=(0, 1, 1) seasonal_order=(1, 1, 0, 7) AIC=7253.994831752876, BIC=7269.263276392729\n"
     ]
    },
    {
     "name": "stderr",
     "output_type": "stream",
     "text": [
      "/Users/kisehyun/opt/anaconda3/lib/python3.8/site-packages/statsmodels/base/model.py:566: ConvergenceWarning: Maximum Likelihood optimization failed to converge. Check mle_retvals\n",
      "  warnings.warn(\"Maximum Likelihood optimization failed to \"\n"
     ]
    },
    {
     "name": "stdout",
     "output_type": "stream",
     "text": [
      "Fit SARIMAX: trend_order=(0, 1, 1) seasonal_order=(1, 1, 1, 7) AIC=7152.023424458199, BIC=7171.1089802580145\n"
     ]
    },
    {
     "name": "stderr",
     "output_type": "stream",
     "text": [
      "/Users/kisehyun/opt/anaconda3/lib/python3.8/site-packages/statsmodels/base/model.py:566: ConvergenceWarning: Maximum Likelihood optimization failed to converge. Check mle_retvals\n",
      "  warnings.warn(\"Maximum Likelihood optimization failed to \"\n"
     ]
    },
    {
     "name": "stdout",
     "output_type": "stream",
     "text": [
      "Fit SARIMAX: trend_order=(0, 1, 1) seasonal_order=(1, 1, 2, 7) AIC=7194.8550378647315, BIC=7217.75770482451\n",
      "Fit SARIMAX: trend_order=(0, 1, 1) seasonal_order=(2, 0, 0, 7) AIC=7390.979755093914, BIC=7410.168407329744\n"
     ]
    },
    {
     "name": "stderr",
     "output_type": "stream",
     "text": [
      "/Users/kisehyun/opt/anaconda3/lib/python3.8/site-packages/statsmodels/base/model.py:566: ConvergenceWarning: Maximum Likelihood optimization failed to converge. Check mle_retvals\n",
      "  warnings.warn(\"Maximum Likelihood optimization failed to \"\n"
     ]
    },
    {
     "name": "stdout",
     "output_type": "stream",
     "text": [
      "Fit SARIMAX: trend_order=(0, 1, 1) seasonal_order=(2, 0, 1, 7) AIC=7367.167832100717, BIC=7390.194214783713\n",
      "Fit SARIMAX: trend_order=(0, 1, 1) seasonal_order=(2, 0, 2, 7) AIC=7381.059563508188, BIC=7407.92367663835\n",
      "Fit SARIMAX: trend_order=(0, 1, 1) seasonal_order=(2, 1, 0, 7) AIC=7239.312995187096, BIC=7258.398550986912\n"
     ]
    },
    {
     "name": "stderr",
     "output_type": "stream",
     "text": [
      "/Users/kisehyun/opt/anaconda3/lib/python3.8/site-packages/statsmodels/base/model.py:566: ConvergenceWarning: Maximum Likelihood optimization failed to converge. Check mle_retvals\n",
      "  warnings.warn(\"Maximum Likelihood optimization failed to \"\n"
     ]
    },
    {
     "name": "stdout",
     "output_type": "stream",
     "text": [
      "Fit SARIMAX: trend_order=(0, 1, 1) seasonal_order=(2, 1, 1, 7) AIC=7194.961588608717, BIC=7217.8642555684955\n"
     ]
    },
    {
     "name": "stderr",
     "output_type": "stream",
     "text": [
      "/Users/kisehyun/opt/anaconda3/lib/python3.8/site-packages/statsmodels/base/model.py:566: ConvergenceWarning: Maximum Likelihood optimization failed to converge. Check mle_retvals\n",
      "  warnings.warn(\"Maximum Likelihood optimization failed to \"\n",
      " 28%|██▊       | 5/18 [00:38<01:48,  8.32s/it]"
     ]
    },
    {
     "name": "stdout",
     "output_type": "stream",
     "text": [
      "Fit SARIMAX: trend_order=(0, 1, 1) seasonal_order=(2, 1, 2, 7) AIC=7196.650427066119, BIC=7223.370205185862\n",
      "Fit SARIMAX: trend_order=(0, 1, 2) seasonal_order=(0, 0, 0, 7) AIC=7448.98400637577, BIC=7464.334928164434\n",
      "Fit SARIMAX: trend_order=(0, 1, 2) seasonal_order=(0, 0, 1, 7) AIC=7396.305538443037, BIC=7415.494190678867\n",
      "Fit SARIMAX: trend_order=(0, 1, 2) seasonal_order=(0, 0, 2, 7) AIC=7381.270113968335, BIC=7404.296496651331\n",
      "Fit SARIMAX: trend_order=(0, 1, 2) seasonal_order=(0, 1, 0, 7) AIC=7300.385582048082, BIC=7315.654026687935\n",
      "Fit SARIMAX: trend_order=(0, 1, 2) seasonal_order=(0, 1, 1, 7) AIC=7189.0193431164535, BIC=7208.104898916269\n",
      "Fit SARIMAX: trend_order=(0, 1, 2) seasonal_order=(0, 1, 2, 7) AIC=7190.191659314072, BIC=7213.094326273851\n",
      "Fit SARIMAX: trend_order=(0, 1, 2) seasonal_order=(1, 0, 0, 7) AIC=7372.687834479109, BIC=7391.876486714939\n"
     ]
    },
    {
     "name": "stderr",
     "output_type": "stream",
     "text": [
      "/Users/kisehyun/opt/anaconda3/lib/python3.8/site-packages/statsmodels/base/model.py:566: ConvergenceWarning: Maximum Likelihood optimization failed to converge. Check mle_retvals\n",
      "  warnings.warn(\"Maximum Likelihood optimization failed to \"\n"
     ]
    },
    {
     "name": "stdout",
     "output_type": "stream",
     "text": [
      "Fit SARIMAX: trend_order=(0, 1, 2) seasonal_order=(1, 0, 1, 7) AIC=7326.441900896366, BIC=7349.468283579362\n"
     ]
    },
    {
     "name": "stderr",
     "output_type": "stream",
     "text": [
      "/Users/kisehyun/opt/anaconda3/lib/python3.8/site-packages/statsmodels/base/model.py:566: ConvergenceWarning: Maximum Likelihood optimization failed to converge. Check mle_retvals\n",
      "  warnings.warn(\"Maximum Likelihood optimization failed to \"\n"
     ]
    },
    {
     "name": "stdout",
     "output_type": "stream",
     "text": [
      "Fit SARIMAX: trend_order=(0, 1, 2) seasonal_order=(1, 0, 2, 7) AIC=7334.68920805459, BIC=7361.553321184752\n",
      "Fit SARIMAX: trend_order=(0, 1, 2) seasonal_order=(1, 1, 0, 7) AIC=7254.186883570996, BIC=7273.272439370811\n"
     ]
    },
    {
     "name": "stderr",
     "output_type": "stream",
     "text": [
      "/Users/kisehyun/opt/anaconda3/lib/python3.8/site-packages/statsmodels/base/model.py:566: ConvergenceWarning: Maximum Likelihood optimization failed to converge. Check mle_retvals\n",
      "  warnings.warn(\"Maximum Likelihood optimization failed to \"\n"
     ]
    },
    {
     "name": "stdout",
     "output_type": "stream",
     "text": [
      "Fit SARIMAX: trend_order=(0, 1, 2) seasonal_order=(1, 1, 1, 7) AIC=7170.514091413488, BIC=7193.416758373267\n",
      "Fit SARIMAX: trend_order=(0, 1, 2) seasonal_order=(1, 1, 2, 7) AIC=7190.534862015109, BIC=7217.254640134852\n",
      "Fit SARIMAX: trend_order=(0, 1, 2) seasonal_order=(2, 0, 0, 7) AIC=7365.01666494422, BIC=7388.043047627216\n"
     ]
    },
    {
     "name": "stderr",
     "output_type": "stream",
     "text": [
      "/Users/kisehyun/opt/anaconda3/lib/python3.8/site-packages/statsmodels/base/model.py:566: ConvergenceWarning: Maximum Likelihood optimization failed to converge. Check mle_retvals\n",
      "  warnings.warn(\"Maximum Likelihood optimization failed to \"\n"
     ]
    },
    {
     "name": "stdout",
     "output_type": "stream",
     "text": [
      "Fit SARIMAX: trend_order=(0, 1, 2) seasonal_order=(2, 0, 1, 7) AIC=7334.710745576018, BIC=7361.57485870618\n"
     ]
    },
    {
     "name": "stderr",
     "output_type": "stream",
     "text": [
      "/Users/kisehyun/opt/anaconda3/lib/python3.8/site-packages/statsmodels/base/model.py:566: ConvergenceWarning: Maximum Likelihood optimization failed to converge. Check mle_retvals\n",
      "  warnings.warn(\"Maximum Likelihood optimization failed to \"\n"
     ]
    },
    {
     "name": "stdout",
     "output_type": "stream",
     "text": [
      "Fit SARIMAX: trend_order=(0, 1, 2) seasonal_order=(2, 0, 2, 7) AIC=7337.656696657533, BIC=7368.358540234861\n",
      "Fit SARIMAX: trend_order=(0, 1, 2) seasonal_order=(2, 1, 0, 7) AIC=7238.823046872627, BIC=7261.725713832406\n",
      "Fit SARIMAX: trend_order=(0, 1, 2) seasonal_order=(2, 1, 1, 7) AIC=7191.955916225221, BIC=7218.675694344964\n"
     ]
    },
    {
     "name": "stderr",
     "output_type": "stream",
     "text": [
      "/Users/kisehyun/opt/anaconda3/lib/python3.8/site-packages/statsmodels/base/model.py:566: ConvergenceWarning: Maximum Likelihood optimization failed to converge. Check mle_retvals\n",
      "  warnings.warn(\"Maximum Likelihood optimization failed to \"\n",
      " 33%|███▎      | 6/18 [00:52<02:01, 10.13s/it]"
     ]
    },
    {
     "name": "stdout",
     "output_type": "stream",
     "text": [
      "Fit SARIMAX: trend_order=(0, 1, 2) seasonal_order=(2, 1, 2, 7) AIC=7193.268953323922, BIC=7223.805842603628\n",
      "Fit SARIMAX: trend_order=(1, 0, 0) seasonal_order=(0, 0, 0, 7) AIC=7487.899096716335, BIC=7499.421021688456\n",
      "Fit SARIMAX: trend_order=(1, 0, 0) seasonal_order=(0, 0, 1, 7) AIC=7426.315108577659, BIC=7441.677675207153\n",
      "Fit SARIMAX: trend_order=(1, 0, 0) seasonal_order=(0, 0, 2, 7) AIC=7407.891695882863, BIC=7427.09490416973\n",
      "Fit SARIMAX: trend_order=(1, 0, 0) seasonal_order=(0, 1, 0, 7) AIC=7299.013750620619, BIC=7310.473999411676\n",
      "Fit SARIMAX: trend_order=(1, 0, 0) seasonal_order=(0, 1, 1, 7) AIC=7185.905477003297, BIC=7201.1858087247065\n",
      "Fit SARIMAX: trend_order=(1, 0, 0) seasonal_order=(0, 1, 2, 7) AIC=7183.211877935184, BIC=7202.312292586946\n",
      "Fit SARIMAX: trend_order=(1, 0, 0) seasonal_order=(1, 0, 0, 7) AIC=7417.706264444256, BIC=7433.06883107375\n",
      "Fit SARIMAX: trend_order=(1, 0, 0) seasonal_order=(1, 0, 1, 7) AIC=7413.948449706304, BIC=7433.151657993171\n",
      "Fit SARIMAX: trend_order=(1, 0, 0) seasonal_order=(1, 0, 2, 7) AIC=7403.6046104375, BIC=7426.648460381741\n",
      "Fit SARIMAX: trend_order=(1, 0, 0) seasonal_order=(1, 1, 0, 7) AIC=7245.248894342687, BIC=7260.529226064096\n",
      "Fit SARIMAX: trend_order=(1, 0, 0) seasonal_order=(1, 1, 1, 7) AIC=7182.630651724505, BIC=7201.731066376266\n",
      "Fit SARIMAX: trend_order=(1, 0, 0) seasonal_order=(1, 1, 2, 7) AIC=7184.546819650418, BIC=7207.467317232532\n",
      "Fit SARIMAX: trend_order=(1, 0, 0) seasonal_order=(2, 0, 0, 7) AIC=7417.318458808248, BIC=7436.521667095115\n",
      "Fit SARIMAX: trend_order=(1, 0, 0) seasonal_order=(2, 0, 1, 7) AIC=7395.668805584379, BIC=7418.7126555286195\n",
      "Fit SARIMAX: trend_order=(1, 0, 0) seasonal_order=(2, 0, 2, 7) AIC=7393.662229240952, BIC=7420.546720842566\n",
      "Fit SARIMAX: trend_order=(1, 0, 0) seasonal_order=(2, 1, 0, 7) AIC=7229.597949345772, BIC=7248.698363997533\n",
      "Fit SARIMAX: trend_order=(1, 0, 0) seasonal_order=(2, 1, 1, 7) AIC=7184.53367330511, BIC=7207.454170887224\n"
     ]
    },
    {
     "name": "stderr",
     "output_type": "stream",
     "text": [
      "/Users/kisehyun/opt/anaconda3/lib/python3.8/site-packages/statsmodels/base/model.py:566: ConvergenceWarning: Maximum Likelihood optimization failed to converge. Check mle_retvals\n",
      "  warnings.warn(\"Maximum Likelihood optimization failed to \"\n",
      " 39%|███▉      | 7/18 [00:57<01:34,  8.58s/it]"
     ]
    },
    {
     "name": "stdout",
     "output_type": "stream",
     "text": [
      "Fit SARIMAX: trend_order=(1, 0, 0) seasonal_order=(2, 1, 2, 7) AIC=7175.655610181557, BIC=7202.396190694023\n",
      "Fit SARIMAX: trend_order=(1, 0, 1) seasonal_order=(0, 0, 0, 7) AIC=7489.908472195431, BIC=7505.271038824925\n",
      "Fit SARIMAX: trend_order=(1, 0, 1) seasonal_order=(0, 0, 1, 7) AIC=7427.6950088090525, BIC=7446.89821709592\n",
      "Fit SARIMAX: trend_order=(1, 0, 1) seasonal_order=(0, 0, 2, 7) AIC=7408.081953899546, BIC=7431.125803843786\n",
      "Fit SARIMAX: trend_order=(1, 0, 1) seasonal_order=(0, 1, 0, 7) AIC=7300.662628282461, BIC=7315.94296000387\n"
     ]
    },
    {
     "name": "stderr",
     "output_type": "stream",
     "text": [
      "/Users/kisehyun/opt/anaconda3/lib/python3.8/site-packages/statsmodels/base/model.py:566: ConvergenceWarning: Maximum Likelihood optimization failed to converge. Check mle_retvals\n",
      "  warnings.warn(\"Maximum Likelihood optimization failed to \"\n"
     ]
    },
    {
     "name": "stdout",
     "output_type": "stream",
     "text": [
      "Fit SARIMAX: trend_order=(1, 0, 1) seasonal_order=(0, 1, 1, 7) AIC=7135.384898857907, BIC=7154.485313509668\n"
     ]
    },
    {
     "name": "stderr",
     "output_type": "stream",
     "text": [
      "/Users/kisehyun/opt/anaconda3/lib/python3.8/site-packages/statsmodels/base/model.py:566: ConvergenceWarning: Maximum Likelihood optimization failed to converge. Check mle_retvals\n",
      "  warnings.warn(\"Maximum Likelihood optimization failed to \"\n"
     ]
    },
    {
     "name": "stdout",
     "output_type": "stream",
     "text": [
      "Fit SARIMAX: trend_order=(1, 0, 1) seasonal_order=(0, 1, 2, 7) AIC=7149.297764551266, BIC=7172.2182621333795\n",
      "Fit SARIMAX: trend_order=(1, 0, 1) seasonal_order=(1, 0, 0, 7) AIC=7400.897908176032, BIC=7420.101116462899\n",
      "Fit SARIMAX: trend_order=(1, 0, 1) seasonal_order=(1, 0, 1, 7) AIC=7400.080282462359, BIC=7423.1241324065995\n",
      "Fit SARIMAX: trend_order=(1, 0, 1) seasonal_order=(1, 0, 2, 7) AIC=7400.786545228988, BIC=7427.671036830602\n",
      "Fit SARIMAX: trend_order=(1, 0, 1) seasonal_order=(1, 1, 0, 7) AIC=7237.316917524921, BIC=7256.417332176683\n"
     ]
    },
    {
     "name": "stderr",
     "output_type": "stream",
     "text": [
      "/Users/kisehyun/opt/anaconda3/lib/python3.8/site-packages/statsmodels/base/model.py:566: ConvergenceWarning: Maximum Likelihood optimization failed to converge. Check mle_retvals\n",
      "  warnings.warn(\"Maximum Likelihood optimization failed to \"\n"
     ]
    },
    {
     "name": "stdout",
     "output_type": "stream",
     "text": [
      "Fit SARIMAX: trend_order=(1, 0, 1) seasonal_order=(1, 1, 1, 7) AIC=7157.676824994451, BIC=7180.597322576565\n"
     ]
    },
    {
     "name": "stderr",
     "output_type": "stream",
     "text": [
      "/Users/kisehyun/opt/anaconda3/lib/python3.8/site-packages/statsmodels/base/model.py:566: ConvergenceWarning: Maximum Likelihood optimization failed to converge. Check mle_retvals\n",
      "  warnings.warn(\"Maximum Likelihood optimization failed to \"\n"
     ]
    },
    {
     "name": "stdout",
     "output_type": "stream",
     "text": [
      "Fit SARIMAX: trend_order=(1, 0, 1) seasonal_order=(1, 1, 2, 7) AIC=7172.945084886571, BIC=7199.685665399037\n",
      "Fit SARIMAX: trend_order=(1, 0, 1) seasonal_order=(2, 0, 0, 7) AIC=7395.449877306899, BIC=7418.49372725114\n",
      "Fit SARIMAX: trend_order=(1, 0, 1) seasonal_order=(2, 0, 1, 7) AIC=7395.825475619973, BIC=7422.709967221587\n",
      "Fit SARIMAX: trend_order=(1, 0, 1) seasonal_order=(2, 0, 2, 7) AIC=7391.574264781949, BIC=7422.2993980409365\n",
      "Fit SARIMAX: trend_order=(1, 0, 1) seasonal_order=(2, 1, 0, 7) AIC=7221.779970427679, BIC=7244.7004680097925\n",
      "Fit SARIMAX: trend_order=(1, 0, 1) seasonal_order=(2, 1, 1, 7) AIC=7179.885369055613, BIC=7206.62594956808\n"
     ]
    },
    {
     "name": "stderr",
     "output_type": "stream",
     "text": [
      "/Users/kisehyun/opt/anaconda3/lib/python3.8/site-packages/statsmodels/base/model.py:566: ConvergenceWarning: Maximum Likelihood optimization failed to converge. Check mle_retvals\n",
      "  warnings.warn(\"Maximum Likelihood optimization failed to \"\n",
      " 44%|████▍     | 8/18 [01:08<01:30,  9.07s/it]"
     ]
    },
    {
     "name": "stdout",
     "output_type": "stream",
     "text": [
      "Fit SARIMAX: trend_order=(1, 0, 1) seasonal_order=(2, 1, 2, 7) AIC=7174.355685073891, BIC=7204.91634851671\n",
      "Fit SARIMAX: trend_order=(1, 0, 2) seasonal_order=(0, 0, 0, 7) AIC=7491.957631743197, BIC=7511.160840030065\n",
      "Fit SARIMAX: trend_order=(1, 0, 2) seasonal_order=(0, 0, 1, 7) AIC=7428.136935132231, BIC=7451.180785076472\n",
      "Fit SARIMAX: trend_order=(1, 0, 2) seasonal_order=(0, 0, 2, 7) AIC=7408.1388228489905, BIC=7435.023314450605\n",
      "Fit SARIMAX: trend_order=(1, 0, 2) seasonal_order=(0, 1, 0, 7) AIC=7303.123094840455, BIC=7322.223509492217\n"
     ]
    },
    {
     "name": "stderr",
     "output_type": "stream",
     "text": [
      "/Users/kisehyun/opt/anaconda3/lib/python3.8/site-packages/statsmodels/tsa/statespace/sarimax.py:966: UserWarning: Non-stationary starting autoregressive parameters found. Using zeros as starting parameters.\n",
      "  warn('Non-stationary starting autoregressive parameters'\n",
      "/Users/kisehyun/opt/anaconda3/lib/python3.8/site-packages/statsmodels/tsa/statespace/sarimax.py:978: UserWarning: Non-invertible starting MA parameters found. Using zeros as starting parameters.\n",
      "  warn('Non-invertible starting MA parameters found.'\n",
      "/Users/kisehyun/opt/anaconda3/lib/python3.8/site-packages/statsmodels/base/model.py:566: ConvergenceWarning: Maximum Likelihood optimization failed to converge. Check mle_retvals\n",
      "  warnings.warn(\"Maximum Likelihood optimization failed to \"\n"
     ]
    },
    {
     "name": "stdout",
     "output_type": "stream",
     "text": [
      "Fit SARIMAX: trend_order=(1, 0, 2) seasonal_order=(0, 1, 1, 7) AIC=7168.040145569697, BIC=7190.960643151811\n",
      "Fit SARIMAX: trend_order=(1, 0, 2) seasonal_order=(0, 1, 2, 7) AIC=7175.898841757435, BIC=7202.639422269901\n",
      "Fit SARIMAX: trend_order=(1, 0, 2) seasonal_order=(1, 0, 0, 7) AIC=7395.587440439551, BIC=7418.631290383792\n",
      "Fit SARIMAX: trend_order=(1, 0, 2) seasonal_order=(1, 0, 1, 7) AIC=7385.239390590617, BIC=7412.123882192232\n",
      "Fit SARIMAX: trend_order=(1, 0, 2) seasonal_order=(1, 0, 2, 7) AIC=7387.277686095899, BIC=7418.002819354887\n",
      "Fit SARIMAX: trend_order=(1, 0, 2) seasonal_order=(1, 1, 0, 7) AIC=7236.729205068554, BIC=7259.649702650668\n",
      "Fit SARIMAX: trend_order=(1, 0, 2) seasonal_order=(1, 1, 1, 7) AIC=7176.566583630623, BIC=7203.30716414309\n"
     ]
    },
    {
     "name": "stderr",
     "output_type": "stream",
     "text": [
      "/Users/kisehyun/opt/anaconda3/lib/python3.8/site-packages/statsmodels/base/model.py:566: ConvergenceWarning: Maximum Likelihood optimization failed to converge. Check mle_retvals\n",
      "  warnings.warn(\"Maximum Likelihood optimization failed to \"\n"
     ]
    },
    {
     "name": "stdout",
     "output_type": "stream",
     "text": [
      "Fit SARIMAX: trend_order=(1, 0, 2) seasonal_order=(1, 1, 2, 7) AIC=7171.143741471487, BIC=7201.704404914306\n",
      "Fit SARIMAX: trend_order=(1, 0, 2) seasonal_order=(2, 0, 0, 7) AIC=7386.397648407456, BIC=7413.28214000907\n"
     ]
    },
    {
     "name": "stderr",
     "output_type": "stream",
     "text": [
      "/Users/kisehyun/opt/anaconda3/lib/python3.8/site-packages/statsmodels/base/model.py:566: ConvergenceWarning: Maximum Likelihood optimization failed to converge. Check mle_retvals\n",
      "  warnings.warn(\"Maximum Likelihood optimization failed to \"\n"
     ]
    },
    {
     "name": "stdout",
     "output_type": "stream",
     "text": [
      "Fit SARIMAX: trend_order=(1, 0, 2) seasonal_order=(2, 0, 1, 7) AIC=7386.41442582331, BIC=7417.139559082298\n"
     ]
    },
    {
     "name": "stderr",
     "output_type": "stream",
     "text": [
      "/Users/kisehyun/opt/anaconda3/lib/python3.8/site-packages/statsmodels/base/model.py:566: ConvergenceWarning: Maximum Likelihood optimization failed to converge. Check mle_retvals\n",
      "  warnings.warn(\"Maximum Likelihood optimization failed to \"\n"
     ]
    },
    {
     "name": "stdout",
     "output_type": "stream",
     "text": [
      "Fit SARIMAX: trend_order=(1, 0, 2) seasonal_order=(2, 0, 2, 7) AIC=7380.840808865494, BIC=7415.406583781854\n",
      "Fit SARIMAX: trend_order=(1, 0, 2) seasonal_order=(2, 1, 0, 7) AIC=7221.03069285178, BIC=7247.771273364247\n",
      "Fit SARIMAX: trend_order=(1, 0, 2) seasonal_order=(2, 1, 1, 7) AIC=7178.423299522186, BIC=7208.983962965005\n"
     ]
    },
    {
     "name": "stderr",
     "output_type": "stream",
     "text": [
      "\r",
      " 50%|█████     | 9/18 [01:21<01:34, 10.51s/it]"
     ]
    },
    {
     "name": "stdout",
     "output_type": "stream",
     "text": [
      "Fit SARIMAX: trend_order=(1, 0, 2) seasonal_order=(2, 1, 2, 7) AIC=7175.3934871212905, BIC=7209.774233494461\n",
      "Fit SARIMAX: trend_order=(1, 1, 0) seasonal_order=(0, 0, 0, 7) AIC=7563.037026956474, BIC=7574.550218297972\n",
      "Fit SARIMAX: trend_order=(1, 1, 0) seasonal_order=(0, 0, 1, 7) AIC=7510.8683740284705, BIC=7526.2192958171345\n",
      "Fit SARIMAX: trend_order=(1, 1, 0) seasonal_order=(0, 0, 2, 7) AIC=7486.404247633069, BIC=7505.592899868899\n",
      "Fit SARIMAX: trend_order=(1, 1, 0) seasonal_order=(0, 1, 0, 7) AIC=7385.1407278153865, BIC=7396.592061295276\n"
     ]
    },
    {
     "name": "stderr",
     "output_type": "stream",
     "text": [
      "/Users/kisehyun/opt/anaconda3/lib/python3.8/site-packages/statsmodels/base/model.py:566: ConvergenceWarning: Maximum Likelihood optimization failed to converge. Check mle_retvals\n",
      "  warnings.warn(\"Maximum Likelihood optimization failed to \"\n"
     ]
    },
    {
     "name": "stdout",
     "output_type": "stream",
     "text": [
      "Fit SARIMAX: trend_order=(1, 1, 0) seasonal_order=(0, 1, 1, 7) AIC=7211.7670484006485, BIC=7227.035493040501\n",
      "Fit SARIMAX: trend_order=(1, 1, 0) seasonal_order=(0, 1, 2, 7) AIC=7254.560767280776, BIC=7273.646323080592\n",
      "Fit SARIMAX: trend_order=(1, 1, 0) seasonal_order=(1, 0, 0, 7) AIC=7479.519709752805, BIC=7494.870631541469\n"
     ]
    },
    {
     "name": "stderr",
     "output_type": "stream",
     "text": [
      "/Users/kisehyun/opt/anaconda3/lib/python3.8/site-packages/statsmodels/base/model.py:566: ConvergenceWarning: Maximum Likelihood optimization failed to converge. Check mle_retvals\n",
      "  warnings.warn(\"Maximum Likelihood optimization failed to \"\n"
     ]
    },
    {
     "name": "stdout",
     "output_type": "stream",
     "text": [
      "Fit SARIMAX: trend_order=(1, 1, 0) seasonal_order=(1, 0, 1, 7) AIC=7408.209111706574, BIC=7427.397763942404\n"
     ]
    },
    {
     "name": "stderr",
     "output_type": "stream",
     "text": [
      "/Users/kisehyun/opt/anaconda3/lib/python3.8/site-packages/statsmodels/base/model.py:566: ConvergenceWarning: Maximum Likelihood optimization failed to converge. Check mle_retvals\n",
      "  warnings.warn(\"Maximum Likelihood optimization failed to \"\n"
     ]
    },
    {
     "name": "stdout",
     "output_type": "stream",
     "text": [
      "Fit SARIMAX: trend_order=(1, 1, 0) seasonal_order=(1, 0, 2, 7) AIC=7428.1128451159875, BIC=7451.1392277989835\n",
      "Fit SARIMAX: trend_order=(1, 1, 0) seasonal_order=(1, 1, 0, 7) AIC=7306.784717968386, BIC=7322.053162608238\n",
      "Fit SARIMAX: trend_order=(1, 1, 0) seasonal_order=(1, 1, 1, 7) AIC=7254.660858496107, BIC=7273.7464142959225\n",
      "Fit SARIMAX: trend_order=(1, 1, 0) seasonal_order=(1, 1, 2, 7) AIC=7254.330448701333, BIC=7277.233115661112\n",
      "Fit SARIMAX: trend_order=(1, 1, 0) seasonal_order=(2, 0, 0, 7) AIC=7456.830786773464, BIC=7476.019439009294\n",
      "Fit SARIMAX: trend_order=(1, 1, 0) seasonal_order=(2, 0, 1, 7) AIC=7430.01073050366, BIC=7453.037113186656\n"
     ]
    },
    {
     "name": "stderr",
     "output_type": "stream",
     "text": [
      "/Users/kisehyun/opt/anaconda3/lib/python3.8/site-packages/statsmodels/base/model.py:566: ConvergenceWarning: Maximum Likelihood optimization failed to converge. Check mle_retvals\n",
      "  warnings.warn(\"Maximum Likelihood optimization failed to \"\n"
     ]
    },
    {
     "name": "stdout",
     "output_type": "stream",
     "text": [
      "Fit SARIMAX: trend_order=(1, 1, 0) seasonal_order=(2, 0, 2, 7) AIC=7420.740878803124, BIC=7447.604991933286\n",
      "Fit SARIMAX: trend_order=(1, 1, 0) seasonal_order=(2, 1, 0, 7) AIC=7291.787634668557, BIC=7310.873190468373\n",
      "Fit SARIMAX: trend_order=(1, 1, 0) seasonal_order=(2, 1, 1, 7) AIC=7256.62844768739, BIC=7279.531114647169\n"
     ]
    },
    {
     "name": "stderr",
     "output_type": "stream",
     "text": [
      "\r",
      " 56%|█████▌    | 10/18 [01:28<01:14,  9.25s/it]"
     ]
    },
    {
     "name": "stdout",
     "output_type": "stream",
     "text": [
      "Fit SARIMAX: trend_order=(1, 1, 0) seasonal_order=(2, 1, 2, 7) AIC=7257.529387931885, BIC=7284.249166051628\n",
      "Fit SARIMAX: trend_order=(1, 1, 1) seasonal_order=(0, 0, 0, 7) AIC=7457.283332408081, BIC=7472.634254196745\n",
      "Fit SARIMAX: trend_order=(1, 1, 1) seasonal_order=(0, 0, 1, 7) AIC=7420.674749055537, BIC=7439.863401291367\n",
      "Fit SARIMAX: trend_order=(1, 1, 1) seasonal_order=(0, 0, 2, 7) AIC=7406.982017016885, BIC=7430.008399699881\n",
      "Fit SARIMAX: trend_order=(1, 1, 1) seasonal_order=(0, 1, 0, 7) AIC=7298.548277200531, BIC=7313.816721840383\n",
      "Fit SARIMAX: trend_order=(1, 1, 1) seasonal_order=(0, 1, 1, 7) AIC=7193.609289701443, BIC=7212.694845501259\n",
      "Fit SARIMAX: trend_order=(1, 1, 1) seasonal_order=(0, 1, 2, 7) AIC=7194.822704586052, BIC=7217.725371545831\n",
      "Fit SARIMAX: trend_order=(1, 1, 1) seasonal_order=(1, 0, 0, 7) AIC=7393.666768980052, BIC=7412.855421215882\n"
     ]
    },
    {
     "name": "stderr",
     "output_type": "stream",
     "text": [
      "/Users/kisehyun/opt/anaconda3/lib/python3.8/site-packages/statsmodels/base/model.py:566: ConvergenceWarning: Maximum Likelihood optimization failed to converge. Check mle_retvals\n",
      "  warnings.warn(\"Maximum Likelihood optimization failed to \"\n"
     ]
    },
    {
     "name": "stdout",
     "output_type": "stream",
     "text": [
      "Fit SARIMAX: trend_order=(1, 1, 1) seasonal_order=(1, 0, 1, 7) AIC=7363.689404944749, BIC=7386.715787627745\n",
      "Fit SARIMAX: trend_order=(1, 1, 1) seasonal_order=(1, 0, 2, 7) AIC=7364.784246029441, BIC=7391.648359159603\n",
      "Fit SARIMAX: trend_order=(1, 1, 1) seasonal_order=(1, 1, 0, 7) AIC=7255.275512654159, BIC=7274.361068453974\n"
     ]
    },
    {
     "name": "stderr",
     "output_type": "stream",
     "text": [
      "/Users/kisehyun/opt/anaconda3/lib/python3.8/site-packages/statsmodels/base/model.py:566: ConvergenceWarning: Maximum Likelihood optimization failed to converge. Check mle_retvals\n",
      "  warnings.warn(\"Maximum Likelihood optimization failed to \"\n"
     ]
    },
    {
     "name": "stdout",
     "output_type": "stream",
     "text": [
      "Fit SARIMAX: trend_order=(1, 1, 1) seasonal_order=(1, 1, 1, 7) AIC=7158.881934114932, BIC=7181.784601074711\n"
     ]
    },
    {
     "name": "stderr",
     "output_type": "stream",
     "text": [
      "/Users/kisehyun/opt/anaconda3/lib/python3.8/site-packages/statsmodels/base/model.py:566: ConvergenceWarning: Maximum Likelihood optimization failed to converge. Check mle_retvals\n",
      "  warnings.warn(\"Maximum Likelihood optimization failed to \"\n"
     ]
    },
    {
     "name": "stdout",
     "output_type": "stream",
     "text": [
      "Fit SARIMAX: trend_order=(1, 1, 1) seasonal_order=(1, 1, 2, 7) AIC=7195.781394496498, BIC=7222.501172616241\n",
      "Fit SARIMAX: trend_order=(1, 1, 1) seasonal_order=(2, 0, 0, 7) AIC=7394.536606489074, BIC=7417.56298917207\n"
     ]
    },
    {
     "name": "stderr",
     "output_type": "stream",
     "text": [
      "/Users/kisehyun/opt/anaconda3/lib/python3.8/site-packages/statsmodels/base/model.py:566: ConvergenceWarning: Maximum Likelihood optimization failed to converge. Check mle_retvals\n",
      "  warnings.warn(\"Maximum Likelihood optimization failed to \"\n"
     ]
    },
    {
     "name": "stdout",
     "output_type": "stream",
     "text": [
      "Fit SARIMAX: trend_order=(1, 1, 1) seasonal_order=(2, 0, 1, 7) AIC=7364.706322558262, BIC=7391.570435688424\n"
     ]
    },
    {
     "name": "stderr",
     "output_type": "stream",
     "text": [
      "/Users/kisehyun/opt/anaconda3/lib/python3.8/site-packages/statsmodels/base/model.py:566: ConvergenceWarning: Maximum Likelihood optimization failed to converge. Check mle_retvals\n",
      "  warnings.warn(\"Maximum Likelihood optimization failed to \"\n"
     ]
    },
    {
     "name": "stdout",
     "output_type": "stream",
     "text": [
      "Fit SARIMAX: trend_order=(1, 1, 1) seasonal_order=(2, 0, 2, 7) AIC=7367.2140316408395, BIC=7397.9158752181675\n",
      "Fit SARIMAX: trend_order=(1, 1, 1) seasonal_order=(2, 1, 0, 7) AIC=7240.480836246934, BIC=7263.383503206713\n",
      "Fit SARIMAX: trend_order=(1, 1, 1) seasonal_order=(2, 1, 1, 7) AIC=7196.696656643657, BIC=7223.4164347634\n"
     ]
    },
    {
     "name": "stderr",
     "output_type": "stream",
     "text": [
      "/Users/kisehyun/opt/anaconda3/lib/python3.8/site-packages/statsmodels/base/model.py:566: ConvergenceWarning: Maximum Likelihood optimization failed to converge. Check mle_retvals\n",
      "  warnings.warn(\"Maximum Likelihood optimization failed to \"\n",
      " 61%|██████    | 11/18 [01:40<01:10, 10.09s/it]"
     ]
    },
    {
     "name": "stdout",
     "output_type": "stream",
     "text": [
      "Fit SARIMAX: trend_order=(1, 1, 1) seasonal_order=(2, 1, 2, 7) AIC=7198.374934503167, BIC=7228.911823782873\n",
      "Fit SARIMAX: trend_order=(1, 1, 2) seasonal_order=(0, 0, 0, 7) AIC=7452.591279033939, BIC=7471.779931269769\n",
      "Fit SARIMAX: trend_order=(1, 1, 2) seasonal_order=(0, 0, 1, 7) AIC=7397.704264239226, BIC=7420.730646922222\n",
      "Fit SARIMAX: trend_order=(1, 1, 2) seasonal_order=(0, 0, 2, 7) AIC=7382.749589677063, BIC=7409.613702807225\n"
     ]
    },
    {
     "name": "stderr",
     "output_type": "stream",
     "text": [
      "/Users/kisehyun/opt/anaconda3/lib/python3.8/site-packages/statsmodels/base/model.py:566: ConvergenceWarning: Maximum Likelihood optimization failed to converge. Check mle_retvals\n",
      "  warnings.warn(\"Maximum Likelihood optimization failed to \"\n"
     ]
    },
    {
     "name": "stdout",
     "output_type": "stream",
     "text": [
      "Fit SARIMAX: trend_order=(1, 1, 2) seasonal_order=(0, 1, 0, 7) AIC=7296.533794041069, BIC=7315.619349840885\n"
     ]
    },
    {
     "name": "stderr",
     "output_type": "stream",
     "text": [
      "/Users/kisehyun/opt/anaconda3/lib/python3.8/site-packages/statsmodels/base/model.py:566: ConvergenceWarning: Maximum Likelihood optimization failed to converge. Check mle_retvals\n",
      "  warnings.warn(\"Maximum Likelihood optimization failed to \"\n"
     ]
    },
    {
     "name": "stdout",
     "output_type": "stream",
     "text": [
      "Fit SARIMAX: trend_order=(1, 1, 2) seasonal_order=(0, 1, 1, 7) AIC=7185.206352691276, BIC=7208.109019651055\n",
      "Fit SARIMAX: trend_order=(1, 1, 2) seasonal_order=(0, 1, 2, 7) AIC=7188.7026713067935, BIC=7215.422449426536\n",
      "Fit SARIMAX: trend_order=(1, 1, 2) seasonal_order=(1, 0, 0, 7) AIC=7373.504084225582, BIC=7396.530466908578\n"
     ]
    },
    {
     "name": "stderr",
     "output_type": "stream",
     "text": [
      "/Users/kisehyun/opt/anaconda3/lib/python3.8/site-packages/statsmodels/base/model.py:566: ConvergenceWarning: Maximum Likelihood optimization failed to converge. Check mle_retvals\n",
      "  warnings.warn(\"Maximum Likelihood optimization failed to \"\n"
     ]
    },
    {
     "name": "stdout",
     "output_type": "stream",
     "text": [
      "Fit SARIMAX: trend_order=(1, 1, 2) seasonal_order=(1, 0, 1, 7) AIC=7334.33963629531, BIC=7361.203749425472\n"
     ]
    },
    {
     "name": "stderr",
     "output_type": "stream",
     "text": [
      "/Users/kisehyun/opt/anaconda3/lib/python3.8/site-packages/statsmodels/base/model.py:566: ConvergenceWarning: Maximum Likelihood optimization failed to converge. Check mle_retvals\n",
      "  warnings.warn(\"Maximum Likelihood optimization failed to \"\n"
     ]
    },
    {
     "name": "stdout",
     "output_type": "stream",
     "text": [
      "Fit SARIMAX: trend_order=(1, 1, 2) seasonal_order=(1, 0, 2, 7) AIC=7335.54569533696, BIC=7366.247538914288\n",
      "Fit SARIMAX: trend_order=(1, 1, 2) seasonal_order=(1, 1, 0, 7) AIC=7253.8650859592035, BIC=7276.767752918982\n"
     ]
    },
    {
     "name": "stderr",
     "output_type": "stream",
     "text": [
      "/Users/kisehyun/opt/anaconda3/lib/python3.8/site-packages/statsmodels/base/model.py:566: ConvergenceWarning: Maximum Likelihood optimization failed to converge. Check mle_retvals\n",
      "  warnings.warn(\"Maximum Likelihood optimization failed to \"\n"
     ]
    },
    {
     "name": "stdout",
     "output_type": "stream",
     "text": [
      "Fit SARIMAX: trend_order=(1, 1, 2) seasonal_order=(1, 1, 1, 7) AIC=7188.725729024049, BIC=7215.4455071437915\n"
     ]
    },
    {
     "name": "stderr",
     "output_type": "stream",
     "text": [
      "/Users/kisehyun/opt/anaconda3/lib/python3.8/site-packages/statsmodels/base/model.py:566: ConvergenceWarning: Maximum Likelihood optimization failed to converge. Check mle_retvals\n",
      "  warnings.warn(\"Maximum Likelihood optimization failed to \"\n"
     ]
    },
    {
     "name": "stdout",
     "output_type": "stream",
     "text": [
      "Fit SARIMAX: trend_order=(1, 1, 2) seasonal_order=(1, 1, 2, 7) AIC=7187.642321370828, BIC=7218.179210650534\n"
     ]
    },
    {
     "name": "stderr",
     "output_type": "stream",
     "text": [
      "/Users/kisehyun/opt/anaconda3/lib/python3.8/site-packages/statsmodels/base/model.py:566: ConvergenceWarning: Maximum Likelihood optimization failed to converge. Check mle_retvals\n",
      "  warnings.warn(\"Maximum Likelihood optimization failed to \"\n"
     ]
    },
    {
     "name": "stdout",
     "output_type": "stream",
     "text": [
      "Fit SARIMAX: trend_order=(1, 1, 2) seasonal_order=(2, 0, 0, 7) AIC=7360.341803143815, BIC=7387.205916273977\n"
     ]
    },
    {
     "name": "stderr",
     "output_type": "stream",
     "text": [
      "/Users/kisehyun/opt/anaconda3/lib/python3.8/site-packages/statsmodels/base/model.py:566: ConvergenceWarning: Maximum Likelihood optimization failed to converge. Check mle_retvals\n",
      "  warnings.warn(\"Maximum Likelihood optimization failed to \"\n"
     ]
    },
    {
     "name": "stdout",
     "output_type": "stream",
     "text": [
      "Fit SARIMAX: trend_order=(1, 1, 2) seasonal_order=(2, 0, 1, 7) AIC=7335.597678355762, BIC=7366.29952193309\n"
     ]
    },
    {
     "name": "stderr",
     "output_type": "stream",
     "text": [
      "/Users/kisehyun/opt/anaconda3/lib/python3.8/site-packages/statsmodels/base/model.py:566: ConvergenceWarning: Maximum Likelihood optimization failed to converge. Check mle_retvals\n",
      "  warnings.warn(\"Maximum Likelihood optimization failed to \"\n"
     ]
    },
    {
     "name": "stdout",
     "output_type": "stream",
     "text": [
      "Fit SARIMAX: trend_order=(1, 1, 2) seasonal_order=(2, 0, 2, 7) AIC=7335.521775032806, BIC=7370.061349057299\n",
      "Fit SARIMAX: trend_order=(1, 1, 2) seasonal_order=(2, 1, 0, 7) AIC=7238.043065617048, BIC=7264.762843736791\n"
     ]
    },
    {
     "name": "stderr",
     "output_type": "stream",
     "text": [
      "/Users/kisehyun/opt/anaconda3/lib/python3.8/site-packages/statsmodels/base/model.py:566: ConvergenceWarning: Maximum Likelihood optimization failed to converge. Check mle_retvals\n",
      "  warnings.warn(\"Maximum Likelihood optimization failed to \"\n"
     ]
    },
    {
     "name": "stdout",
     "output_type": "stream",
     "text": [
      "Fit SARIMAX: trend_order=(1, 1, 2) seasonal_order=(2, 1, 1, 7) AIC=7190.549339275144, BIC=7221.08622855485\n"
     ]
    },
    {
     "name": "stderr",
     "output_type": "stream",
     "text": [
      "/Users/kisehyun/opt/anaconda3/lib/python3.8/site-packages/statsmodels/base/model.py:566: ConvergenceWarning: Maximum Likelihood optimization failed to converge. Check mle_retvals\n",
      "  warnings.warn(\"Maximum Likelihood optimization failed to \"\n",
      " 67%|██████▋   | 12/18 [01:58<01:15, 12.58s/it]"
     ]
    },
    {
     "name": "stdout",
     "output_type": "stream",
     "text": [
      "Fit SARIMAX: trend_order=(1, 1, 2) seasonal_order=(2, 1, 2, 7) AIC=7189.582603953752, BIC=7223.9366043934215\n",
      "Fit SARIMAX: trend_order=(2, 0, 0) seasonal_order=(0, 0, 0, 7) AIC=7489.896127884417, BIC=7505.258694513911\n",
      "Fit SARIMAX: trend_order=(2, 0, 0) seasonal_order=(0, 0, 1, 7) AIC=7427.872663135035, BIC=7447.075871421902\n",
      "Fit SARIMAX: trend_order=(2, 0, 0) seasonal_order=(0, 0, 2, 7) AIC=7408.395435732326, BIC=7431.439285676567\n",
      "Fit SARIMAX: trend_order=(2, 0, 0) seasonal_order=(0, 1, 0, 7) AIC=7300.866851625748, BIC=7316.147183347157\n",
      "Fit SARIMAX: trend_order=(2, 0, 0) seasonal_order=(0, 1, 1, 7) AIC=7161.470392842197, BIC=7180.5708074939585\n",
      "Fit SARIMAX: trend_order=(2, 0, 0) seasonal_order=(0, 1, 2, 7) AIC=7178.918705720304, BIC=7201.839203302418\n",
      "Fit SARIMAX: trend_order=(2, 0, 0) seasonal_order=(1, 0, 0, 7) AIC=7418.365920492468, BIC=7437.569128779335\n",
      "Fit SARIMAX: trend_order=(2, 0, 0) seasonal_order=(1, 0, 1, 7) AIC=7415.205528204682, BIC=7438.249378148923\n",
      "Fit SARIMAX: trend_order=(2, 0, 0) seasonal_order=(1, 0, 2, 7) AIC=7405.495307517229, BIC=7432.379799118843\n",
      "Fit SARIMAX: trend_order=(2, 0, 0) seasonal_order=(1, 1, 0, 7) AIC=7239.624326435656, BIC=7258.724741087418\n",
      "Fit SARIMAX: trend_order=(2, 0, 0) seasonal_order=(1, 1, 1, 7) AIC=7178.709275384884, BIC=7201.629772966998\n",
      "Fit SARIMAX: trend_order=(2, 0, 0) seasonal_order=(1, 1, 2, 7) AIC=7181.999878618468, BIC=7208.740459130934\n",
      "Fit SARIMAX: trend_order=(2, 0, 0) seasonal_order=(2, 0, 0, 7) AIC=7418.772222427701, BIC=7441.816072371942\n",
      "Fit SARIMAX: trend_order=(2, 0, 0) seasonal_order=(2, 0, 1, 7) AIC=7397.354512935828, BIC=7424.239004537442\n",
      "Fit SARIMAX: trend_order=(2, 0, 0) seasonal_order=(2, 0, 2, 7) AIC=7395.427547370871, BIC=7426.152680629859\n",
      "Fit SARIMAX: trend_order=(2, 0, 0) seasonal_order=(2, 1, 0, 7) AIC=7224.787913213448, BIC=7247.708410795562\n",
      "Fit SARIMAX: trend_order=(2, 0, 0) seasonal_order=(2, 1, 1, 7) AIC=7180.70918152161, BIC=7207.449762034076\n"
     ]
    },
    {
     "name": "stderr",
     "output_type": "stream",
     "text": [
      "\r",
      " 72%|███████▏  | 13/18 [02:05<00:54, 10.86s/it]"
     ]
    },
    {
     "name": "stdout",
     "output_type": "stream",
     "text": [
      "Fit SARIMAX: trend_order=(2, 0, 0) seasonal_order=(2, 1, 2, 7) AIC=7182.665890072487, BIC=7213.226553515306\n",
      "Fit SARIMAX: trend_order=(2, 0, 1) seasonal_order=(0, 0, 0, 7) AIC=7491.898306595251, BIC=7511.101514882118\n",
      "Fit SARIMAX: trend_order=(2, 0, 1) seasonal_order=(0, 0, 1, 7) AIC=7429.487141267573, BIC=7452.530991211814\n",
      "Fit SARIMAX: trend_order=(2, 0, 1) seasonal_order=(0, 0, 2, 7) AIC=7410.029545321476, BIC=7436.91403692309\n",
      "Fit SARIMAX: trend_order=(2, 0, 1) seasonal_order=(0, 1, 0, 7) AIC=7302.3476509072025, BIC=7321.448065558964\n"
     ]
    },
    {
     "name": "stderr",
     "output_type": "stream",
     "text": [
      "/Users/kisehyun/opt/anaconda3/lib/python3.8/site-packages/statsmodels/base/model.py:566: ConvergenceWarning: Maximum Likelihood optimization failed to converge. Check mle_retvals\n",
      "  warnings.warn(\"Maximum Likelihood optimization failed to \"\n"
     ]
    },
    {
     "name": "stdout",
     "output_type": "stream",
     "text": [
      "Fit SARIMAX: trend_order=(2, 0, 1) seasonal_order=(0, 1, 1, 7) AIC=7171.5676005093765, BIC=7194.48809809149\n",
      "Fit SARIMAX: trend_order=(2, 0, 1) seasonal_order=(0, 1, 2, 7) AIC=7173.770838316385, BIC=7200.511418828852\n",
      "Fit SARIMAX: trend_order=(2, 0, 1) seasonal_order=(1, 0, 0, 7) AIC=7381.468652456753, BIC=7404.512502400994\n",
      "Fit SARIMAX: trend_order=(2, 0, 1) seasonal_order=(1, 0, 1, 7) AIC=7393.122087088402, BIC=7420.006578690016\n",
      "Fit SARIMAX: trend_order=(2, 0, 1) seasonal_order=(1, 0, 2, 7) AIC=7394.023134593969, BIC=7424.748267852957\n",
      "Fit SARIMAX: trend_order=(2, 0, 1) seasonal_order=(1, 1, 0, 7) AIC=7238.375937543817, BIC=7261.296435125931\n",
      "Fit SARIMAX: trend_order=(2, 0, 1) seasonal_order=(1, 1, 1, 7) AIC=7178.312871914597, BIC=7205.053452427063\n"
     ]
    },
    {
     "name": "stderr",
     "output_type": "stream",
     "text": [
      "/Users/kisehyun/opt/anaconda3/lib/python3.8/site-packages/statsmodels/base/model.py:566: ConvergenceWarning: Maximum Likelihood optimization failed to converge. Check mle_retvals\n",
      "  warnings.warn(\"Maximum Likelihood optimization failed to \"\n"
     ]
    },
    {
     "name": "stdout",
     "output_type": "stream",
     "text": [
      "Fit SARIMAX: trend_order=(2, 0, 1) seasonal_order=(1, 1, 2, 7) AIC=7172.897638121973, BIC=7203.458301564791\n",
      "Fit SARIMAX: trend_order=(2, 0, 1) seasonal_order=(2, 0, 0, 7) AIC=7388.899391832563, BIC=7415.783883434177\n"
     ]
    },
    {
     "name": "stderr",
     "output_type": "stream",
     "text": [
      "/Users/kisehyun/opt/anaconda3/lib/python3.8/site-packages/statsmodels/base/model.py:566: ConvergenceWarning: Maximum Likelihood optimization failed to converge. Check mle_retvals\n",
      "  warnings.warn(\"Maximum Likelihood optimization failed to \"\n"
     ]
    },
    {
     "name": "stdout",
     "output_type": "stream",
     "text": [
      "Fit SARIMAX: trend_order=(2, 0, 1) seasonal_order=(2, 0, 1, 7) AIC=7390.887530397633, BIC=7421.6126636566205\n"
     ]
    },
    {
     "name": "stderr",
     "output_type": "stream",
     "text": [
      "/Users/kisehyun/opt/anaconda3/lib/python3.8/site-packages/statsmodels/base/model.py:566: ConvergenceWarning: Maximum Likelihood optimization failed to converge. Check mle_retvals\n",
      "  warnings.warn(\"Maximum Likelihood optimization failed to \"\n"
     ]
    },
    {
     "name": "stdout",
     "output_type": "stream",
     "text": [
      "Fit SARIMAX: trend_order=(2, 0, 1) seasonal_order=(2, 0, 2, 7) AIC=7385.344181599954, BIC=7419.909956516314\n",
      "Fit SARIMAX: trend_order=(2, 0, 1) seasonal_order=(2, 1, 0, 7) AIC=7223.165466988054, BIC=7249.90604750052\n",
      "Fit SARIMAX: trend_order=(2, 0, 1) seasonal_order=(2, 1, 1, 7) AIC=7175.814816375721, BIC=7206.37547981854\n"
     ]
    },
    {
     "name": "stderr",
     "output_type": "stream",
     "text": [
      "\r",
      " 78%|███████▊  | 14/18 [02:17<00:45, 11.41s/it]"
     ]
    },
    {
     "name": "stdout",
     "output_type": "stream",
     "text": [
      "Fit SARIMAX: trend_order=(2, 0, 1) seasonal_order=(2, 1, 2, 7) AIC=7178.474587075201, BIC=7212.855333448372\n",
      "Fit SARIMAX: trend_order=(2, 0, 2) seasonal_order=(0, 0, 0, 7) AIC=7493.9574746289545, BIC=7517.001324573195\n",
      "Fit SARIMAX: trend_order=(2, 0, 2) seasonal_order=(0, 0, 1, 7) AIC=7430.019330908828, BIC=7456.903822510442\n",
      "Fit SARIMAX: trend_order=(2, 0, 2) seasonal_order=(0, 0, 2, 7) AIC=7409.060064542526, BIC=7439.785197801513\n",
      "Fit SARIMAX: trend_order=(2, 0, 2) seasonal_order=(0, 1, 0, 7) AIC=7304.615488023786, BIC=7327.5359856059\n",
      "Fit SARIMAX: trend_order=(2, 0, 2) seasonal_order=(0, 1, 1, 7) AIC=7173.329630606942, BIC=7200.070211119409\n"
     ]
    },
    {
     "name": "stderr",
     "output_type": "stream",
     "text": [
      "/Users/kisehyun/opt/anaconda3/lib/python3.8/site-packages/statsmodels/base/model.py:566: ConvergenceWarning: Maximum Likelihood optimization failed to converge. Check mle_retvals\n",
      "  warnings.warn(\"Maximum Likelihood optimization failed to \"\n"
     ]
    },
    {
     "name": "stdout",
     "output_type": "stream",
     "text": [
      "Fit SARIMAX: trend_order=(2, 0, 2) seasonal_order=(0, 1, 2, 7) AIC=7170.0600627074455, BIC=7200.620726150264\n",
      "Fit SARIMAX: trend_order=(2, 0, 2) seasonal_order=(1, 0, 0, 7) AIC=7391.5037152908135, BIC=7418.388206892428\n",
      "Fit SARIMAX: trend_order=(2, 0, 2) seasonal_order=(1, 0, 1, 7) AIC=7384.524574442645, BIC=7415.249707701632\n"
     ]
    },
    {
     "name": "stderr",
     "output_type": "stream",
     "text": [
      "/Users/kisehyun/opt/anaconda3/lib/python3.8/site-packages/statsmodels/base/model.py:566: ConvergenceWarning: Maximum Likelihood optimization failed to converge. Check mle_retvals\n",
      "  warnings.warn(\"Maximum Likelihood optimization failed to \"\n"
     ]
    },
    {
     "name": "stdout",
     "output_type": "stream",
     "text": [
      "Fit SARIMAX: trend_order=(2, 0, 2) seasonal_order=(1, 0, 2, 7) AIC=7385.7124614600925, BIC=7420.278236376453\n",
      "Fit SARIMAX: trend_order=(2, 0, 2) seasonal_order=(1, 1, 0, 7) AIC=7237.728421735703, BIC=7264.469002248169\n"
     ]
    },
    {
     "name": "stderr",
     "output_type": "stream",
     "text": [
      "/Users/kisehyun/opt/anaconda3/lib/python3.8/site-packages/statsmodels/base/model.py:566: ConvergenceWarning: Maximum Likelihood optimization failed to converge. Check mle_retvals\n",
      "  warnings.warn(\"Maximum Likelihood optimization failed to \"\n"
     ]
    },
    {
     "name": "stdout",
     "output_type": "stream",
     "text": [
      "Fit SARIMAX: trend_order=(2, 0, 2) seasonal_order=(1, 1, 1, 7) AIC=7169.677496150191, BIC=7200.238159593009\n",
      "Fit SARIMAX: trend_order=(2, 0, 2) seasonal_order=(1, 1, 2, 7) AIC=7172.801970096783, BIC=7207.182716469954\n"
     ]
    },
    {
     "name": "stderr",
     "output_type": "stream",
     "text": [
      "/Users/kisehyun/opt/anaconda3/lib/python3.8/site-packages/statsmodels/base/model.py:566: ConvergenceWarning: Maximum Likelihood optimization failed to converge. Check mle_retvals\n",
      "  warnings.warn(\"Maximum Likelihood optimization failed to \"\n"
     ]
    },
    {
     "name": "stdout",
     "output_type": "stream",
     "text": [
      "Fit SARIMAX: trend_order=(2, 0, 2) seasonal_order=(2, 0, 0, 7) AIC=7384.075028071481, BIC=7414.800161330469\n",
      "Fit SARIMAX: trend_order=(2, 0, 2) seasonal_order=(2, 0, 1, 7) AIC=7386.490742783263, BIC=7421.056517699623\n",
      "Fit SARIMAX: trend_order=(2, 0, 2) seasonal_order=(2, 0, 2, 7) AIC=7381.091480665529, BIC=7419.497897239263\n",
      "Fit SARIMAX: trend_order=(2, 0, 2) seasonal_order=(2, 1, 0, 7) AIC=7221.579357594185, BIC=7252.140021037004\n"
     ]
    },
    {
     "name": "stderr",
     "output_type": "stream",
     "text": [
      "/Users/kisehyun/opt/anaconda3/lib/python3.8/site-packages/statsmodels/base/model.py:566: ConvergenceWarning: Maximum Likelihood optimization failed to converge. Check mle_retvals\n",
      "  warnings.warn(\"Maximum Likelihood optimization failed to \"\n"
     ]
    },
    {
     "name": "stdout",
     "output_type": "stream",
     "text": [
      "Fit SARIMAX: trend_order=(2, 0, 2) seasonal_order=(2, 1, 1, 7) AIC=7174.247961842491, BIC=7208.628708215662\n"
     ]
    },
    {
     "name": "stderr",
     "output_type": "stream",
     "text": [
      "\r",
      " 83%|████████▎ | 15/18 [02:35<00:39, 13.16s/it]"
     ]
    },
    {
     "name": "stdout",
     "output_type": "stream",
     "text": [
      "Fit SARIMAX: trend_order=(2, 0, 2) seasonal_order=(2, 1, 2, 7) AIC=7174.342361445282, BIC=7212.5431907488055\n",
      "Fit SARIMAX: trend_order=(2, 1, 0) seasonal_order=(0, 0, 0, 7) AIC=7540.698567909579, BIC=7556.049489698243\n",
      "Fit SARIMAX: trend_order=(2, 1, 0) seasonal_order=(0, 0, 1, 7) AIC=7485.513232982501, BIC=7504.701885218331\n",
      "Fit SARIMAX: trend_order=(2, 1, 0) seasonal_order=(0, 0, 2, 7) AIC=7462.336797638709, BIC=7485.363180321705\n",
      "Fit SARIMAX: trend_order=(2, 1, 0) seasonal_order=(0, 1, 0, 7) AIC=7357.689154326806, BIC=7372.957598966658\n",
      "Fit SARIMAX: trend_order=(2, 1, 0) seasonal_order=(0, 1, 1, 7) AIC=7225.655735164064, BIC=7244.74129096388\n",
      "Fit SARIMAX: trend_order=(2, 1, 0) seasonal_order=(0, 1, 2, 7) AIC=7223.445097665028, BIC=7246.347764624807\n",
      "Fit SARIMAX: trend_order=(2, 1, 0) seasonal_order=(1, 0, 0, 7) AIC=7453.814438593832, BIC=7473.003090829662\n",
      "Fit SARIMAX: trend_order=(2, 1, 0) seasonal_order=(1, 0, 1, 7) AIC=7404.8285861941695, BIC=7427.854968877165\n",
      "Fit SARIMAX: trend_order=(2, 1, 0) seasonal_order=(1, 0, 2, 7) AIC=7406.685566803597, BIC=7433.549679933759\n",
      "Fit SARIMAX: trend_order=(2, 1, 0) seasonal_order=(1, 1, 0, 7) AIC=7283.234297194524, BIC=7302.319852994339\n",
      "Fit SARIMAX: trend_order=(2, 1, 0) seasonal_order=(1, 1, 1, 7) AIC=7227.308231940566, BIC=7250.210898900345\n",
      "Fit SARIMAX: trend_order=(2, 1, 0) seasonal_order=(1, 1, 2, 7) AIC=7227.193196292272, BIC=7253.912974412015\n",
      "Fit SARIMAX: trend_order=(2, 1, 0) seasonal_order=(2, 0, 0, 7) AIC=7433.186661504655, BIC=7456.213044187651\n",
      "Fit SARIMAX: trend_order=(2, 1, 0) seasonal_order=(2, 0, 1, 7) AIC=7401.988969305663, BIC=7428.853082435825\n",
      "Fit SARIMAX: trend_order=(2, 1, 0) seasonal_order=(2, 0, 2, 7) AIC=7405.6808570891, BIC=7436.382700666428\n",
      "Fit SARIMAX: trend_order=(2, 1, 0) seasonal_order=(2, 1, 0, 7) AIC=7269.733888035989, BIC=7292.636554995768\n",
      "Fit SARIMAX: trend_order=(2, 1, 0) seasonal_order=(2, 1, 1, 7) AIC=7229.259594228422, BIC=7255.979372348165\n"
     ]
    },
    {
     "name": "stderr",
     "output_type": "stream",
     "text": [
      "\r",
      " 89%|████████▉ | 16/18 [02:43<00:23, 11.59s/it]"
     ]
    },
    {
     "name": "stdout",
     "output_type": "stream",
     "text": [
      "Fit SARIMAX: trend_order=(2, 1, 0) seasonal_order=(2, 1, 2, 7) AIC=7230.404796380307, BIC=7260.941685660013\n",
      "Fit SARIMAX: trend_order=(2, 1, 1) seasonal_order=(0, 0, 0, 7) AIC=7461.289607734787, BIC=7480.478259970617\n",
      "Fit SARIMAX: trend_order=(2, 1, 1) seasonal_order=(0, 0, 1, 7) AIC=7414.2856269225595, BIC=7437.312009605555\n",
      "Fit SARIMAX: trend_order=(2, 1, 1) seasonal_order=(0, 0, 2, 7) AIC=7408.466848943299, BIC=7435.330962073461\n",
      "Fit SARIMAX: trend_order=(2, 1, 1) seasonal_order=(0, 1, 0, 7) AIC=7299.2966637927475, BIC=7318.382219592563\n"
     ]
    },
    {
     "name": "stderr",
     "output_type": "stream",
     "text": [
      "/Users/kisehyun/opt/anaconda3/lib/python3.8/site-packages/statsmodels/base/model.py:566: ConvergenceWarning: Maximum Likelihood optimization failed to converge. Check mle_retvals\n",
      "  warnings.warn(\"Maximum Likelihood optimization failed to \"\n"
     ]
    },
    {
     "name": "stdout",
     "output_type": "stream",
     "text": [
      "Fit SARIMAX: trend_order=(2, 1, 1) seasonal_order=(0, 1, 1, 7) AIC=7195.274540552426, BIC=7218.177207512204\n"
     ]
    },
    {
     "name": "stderr",
     "output_type": "stream",
     "text": [
      "/Users/kisehyun/opt/anaconda3/lib/python3.8/site-packages/statsmodels/base/model.py:566: ConvergenceWarning: Maximum Likelihood optimization failed to converge. Check mle_retvals\n",
      "  warnings.warn(\"Maximum Likelihood optimization failed to \"\n"
     ]
    },
    {
     "name": "stdout",
     "output_type": "stream",
     "text": [
      "Fit SARIMAX: trend_order=(2, 1, 1) seasonal_order=(0, 1, 2, 7) AIC=7196.449653557078, BIC=7223.169431676821\n",
      "Fit SARIMAX: trend_order=(2, 1, 1) seasonal_order=(1, 0, 0, 7) AIC=7404.757807002542, BIC=7427.784189685538\n"
     ]
    },
    {
     "name": "stderr",
     "output_type": "stream",
     "text": [
      "/Users/kisehyun/opt/anaconda3/lib/python3.8/site-packages/statsmodels/base/model.py:566: ConvergenceWarning: Maximum Likelihood optimization failed to converge. Check mle_retvals\n",
      "  warnings.warn(\"Maximum Likelihood optimization failed to \"\n"
     ]
    },
    {
     "name": "stdout",
     "output_type": "stream",
     "text": [
      "Fit SARIMAX: trend_order=(2, 1, 1) seasonal_order=(1, 0, 1, 7) AIC=7365.5357815557145, BIC=7392.3998946858765\n"
     ]
    },
    {
     "name": "stderr",
     "output_type": "stream",
     "text": [
      "/Users/kisehyun/opt/anaconda3/lib/python3.8/site-packages/statsmodels/base/model.py:566: ConvergenceWarning: Maximum Likelihood optimization failed to converge. Check mle_retvals\n",
      "  warnings.warn(\"Maximum Likelihood optimization failed to \"\n"
     ]
    },
    {
     "name": "stdout",
     "output_type": "stream",
     "text": [
      "Fit SARIMAX: trend_order=(2, 1, 1) seasonal_order=(1, 0, 2, 7) AIC=7366.369859399867, BIC=7397.071702977195\n",
      "Fit SARIMAX: trend_order=(2, 1, 1) seasonal_order=(1, 1, 0, 7) AIC=7248.665067364954, BIC=7271.567734324733\n"
     ]
    },
    {
     "name": "stderr",
     "output_type": "stream",
     "text": [
      "/Users/kisehyun/opt/anaconda3/lib/python3.8/site-packages/statsmodels/base/model.py:566: ConvergenceWarning: Maximum Likelihood optimization failed to converge. Check mle_retvals\n",
      "  warnings.warn(\"Maximum Likelihood optimization failed to \"\n"
     ]
    },
    {
     "name": "stdout",
     "output_type": "stream",
     "text": [
      "Fit SARIMAX: trend_order=(2, 1, 1) seasonal_order=(1, 1, 1, 7) AIC=7303.312579690926, BIC=7330.032357810669\n",
      "Fit SARIMAX: trend_order=(2, 1, 1) seasonal_order=(1, 1, 2, 7) AIC=7199.041976813566, BIC=7229.578866093272\n",
      "Fit SARIMAX: trend_order=(2, 1, 1) seasonal_order=(2, 0, 0, 7) AIC=7396.4930914187125, BIC=7423.3572045488745\n"
     ]
    },
    {
     "name": "stderr",
     "output_type": "stream",
     "text": [
      "/Users/kisehyun/opt/anaconda3/lib/python3.8/site-packages/statsmodels/base/model.py:566: ConvergenceWarning: Maximum Likelihood optimization failed to converge. Check mle_retvals\n",
      "  warnings.warn(\"Maximum Likelihood optimization failed to \"\n"
     ]
    },
    {
     "name": "stdout",
     "output_type": "stream",
     "text": [
      "Fit SARIMAX: trend_order=(2, 1, 1) seasonal_order=(2, 0, 1, 7) AIC=7366.28005803163, BIC=7396.981901608958\n"
     ]
    },
    {
     "name": "stderr",
     "output_type": "stream",
     "text": [
      "/Users/kisehyun/opt/anaconda3/lib/python3.8/site-packages/statsmodels/base/model.py:566: ConvergenceWarning: Maximum Likelihood optimization failed to converge. Check mle_retvals\n",
      "  warnings.warn(\"Maximum Likelihood optimization failed to \"\n"
     ]
    },
    {
     "name": "stdout",
     "output_type": "stream",
     "text": [
      "Fit SARIMAX: trend_order=(2, 1, 1) seasonal_order=(2, 0, 2, 7) AIC=7368.980476063366, BIC=7403.520050087859\n",
      "Fit SARIMAX: trend_order=(2, 1, 1) seasonal_order=(2, 1, 0, 7) AIC=7241.7771801979125, BIC=7268.496958317655\n"
     ]
    },
    {
     "name": "stderr",
     "output_type": "stream",
     "text": [
      "/Users/kisehyun/opt/anaconda3/lib/python3.8/site-packages/statsmodels/base/model.py:566: ConvergenceWarning: Maximum Likelihood optimization failed to converge. Check mle_retvals\n",
      "  warnings.warn(\"Maximum Likelihood optimization failed to \"\n"
     ]
    },
    {
     "name": "stdout",
     "output_type": "stream",
     "text": [
      "Fit SARIMAX: trend_order=(2, 1, 1) seasonal_order=(2, 1, 1, 7) AIC=7249.4229675995575, BIC=7279.9598568792635\n"
     ]
    },
    {
     "name": "stderr",
     "output_type": "stream",
     "text": [
      "/Users/kisehyun/opt/anaconda3/lib/python3.8/site-packages/statsmodels/base/model.py:566: ConvergenceWarning: Maximum Likelihood optimization failed to converge. Check mle_retvals\n",
      "  warnings.warn(\"Maximum Likelihood optimization failed to \"\n",
      " 94%|█████████▍| 17/18 [03:00<00:13, 13.45s/it]"
     ]
    },
    {
     "name": "stdout",
     "output_type": "stream",
     "text": [
      "Fit SARIMAX: trend_order=(2, 1, 1) seasonal_order=(2, 1, 2, 7) AIC=7201.207055682552, BIC=7235.561056122221\n",
      "Fit SARIMAX: trend_order=(2, 1, 2) seasonal_order=(0, 0, 0, 7) AIC=7459.6872389750215, BIC=7482.7136216580175\n",
      "Fit SARIMAX: trend_order=(2, 1, 2) seasonal_order=(0, 0, 1, 7) AIC=7397.378996375665, BIC=7424.243109505827\n",
      "Fit SARIMAX: trend_order=(2, 1, 2) seasonal_order=(0, 0, 2, 7) AIC=7375.572486949188, BIC=7406.274330526516\n"
     ]
    },
    {
     "name": "stderr",
     "output_type": "stream",
     "text": [
      "/Users/kisehyun/opt/anaconda3/lib/python3.8/site-packages/statsmodels/base/model.py:566: ConvergenceWarning: Maximum Likelihood optimization failed to converge. Check mle_retvals\n",
      "  warnings.warn(\"Maximum Likelihood optimization failed to \"\n"
     ]
    },
    {
     "name": "stdout",
     "output_type": "stream",
     "text": [
      "Fit SARIMAX: trend_order=(2, 1, 2) seasonal_order=(0, 1, 0, 7) AIC=7301.012854033662, BIC=7323.915520993441\n",
      "Fit SARIMAX: trend_order=(2, 1, 2) seasonal_order=(0, 1, 1, 7) AIC=7185.162867919483, BIC=7211.882646039226\n"
     ]
    },
    {
     "name": "stderr",
     "output_type": "stream",
     "text": [
      "/Users/kisehyun/opt/anaconda3/lib/python3.8/site-packages/statsmodels/base/model.py:566: ConvergenceWarning: Maximum Likelihood optimization failed to converge. Check mle_retvals\n",
      "  warnings.warn(\"Maximum Likelihood optimization failed to \"\n"
     ]
    },
    {
     "name": "stdout",
     "output_type": "stream",
     "text": [
      "Fit SARIMAX: trend_order=(2, 1, 2) seasonal_order=(0, 1, 2, 7) AIC=7187.878485783104, BIC=7218.41537506281\n"
     ]
    },
    {
     "name": "stderr",
     "output_type": "stream",
     "text": [
      "/Users/kisehyun/opt/anaconda3/lib/python3.8/site-packages/statsmodels/base/model.py:566: ConvergenceWarning: Maximum Likelihood optimization failed to converge. Check mle_retvals\n",
      "  warnings.warn(\"Maximum Likelihood optimization failed to \"\n"
     ]
    },
    {
     "name": "stdout",
     "output_type": "stream",
     "text": [
      "Fit SARIMAX: trend_order=(2, 1, 2) seasonal_order=(1, 0, 0, 7) AIC=7364.903411532856, BIC=7391.767524663018\n"
     ]
    },
    {
     "name": "stderr",
     "output_type": "stream",
     "text": [
      "/Users/kisehyun/opt/anaconda3/lib/python3.8/site-packages/statsmodels/base/model.py:566: ConvergenceWarning: Maximum Likelihood optimization failed to converge. Check mle_retvals\n",
      "  warnings.warn(\"Maximum Likelihood optimization failed to \"\n"
     ]
    },
    {
     "name": "stdout",
     "output_type": "stream",
     "text": [
      "Fit SARIMAX: trend_order=(2, 1, 2) seasonal_order=(1, 0, 1, 7) AIC=7312.5595417254735, BIC=7343.2613853028015\n"
     ]
    },
    {
     "name": "stderr",
     "output_type": "stream",
     "text": [
      "/Users/kisehyun/opt/anaconda3/lib/python3.8/site-packages/statsmodels/base/model.py:566: ConvergenceWarning: Maximum Likelihood optimization failed to converge. Check mle_retvals\n",
      "  warnings.warn(\"Maximum Likelihood optimization failed to \"\n"
     ]
    },
    {
     "name": "stdout",
     "output_type": "stream",
     "text": [
      "Fit SARIMAX: trend_order=(2, 1, 2) seasonal_order=(1, 0, 2, 7) AIC=7313.327092337153, BIC=7347.866666361646\n",
      "Fit SARIMAX: trend_order=(2, 1, 2) seasonal_order=(1, 1, 0, 7) AIC=7252.123979831704, BIC=7278.843757951447\n"
     ]
    },
    {
     "name": "stderr",
     "output_type": "stream",
     "text": [
      "/Users/kisehyun/opt/anaconda3/lib/python3.8/site-packages/statsmodels/base/model.py:566: ConvergenceWarning: Maximum Likelihood optimization failed to converge. Check mle_retvals\n",
      "  warnings.warn(\"Maximum Likelihood optimization failed to \"\n"
     ]
    },
    {
     "name": "stdout",
     "output_type": "stream",
     "text": [
      "Fit SARIMAX: trend_order=(2, 1, 2) seasonal_order=(1, 1, 1, 7) AIC=7187.963119708767, BIC=7218.500008988473\n"
     ]
    },
    {
     "name": "stderr",
     "output_type": "stream",
     "text": [
      "/Users/kisehyun/opt/anaconda3/lib/python3.8/site-packages/statsmodels/base/model.py:566: ConvergenceWarning: Maximum Likelihood optimization failed to converge. Check mle_retvals\n",
      "  warnings.warn(\"Maximum Likelihood optimization failed to \"\n"
     ]
    },
    {
     "name": "stdout",
     "output_type": "stream",
     "text": [
      "Fit SARIMAX: trend_order=(2, 1, 2) seasonal_order=(1, 1, 2, 7) AIC=7187.953269454716, BIC=7222.307269894385\n"
     ]
    },
    {
     "name": "stderr",
     "output_type": "stream",
     "text": [
      "/Users/kisehyun/opt/anaconda3/lib/python3.8/site-packages/statsmodels/base/model.py:566: ConvergenceWarning: Maximum Likelihood optimization failed to converge. Check mle_retvals\n",
      "  warnings.warn(\"Maximum Likelihood optimization failed to \"\n"
     ]
    },
    {
     "name": "stdout",
     "output_type": "stream",
     "text": [
      "Fit SARIMAX: trend_order=(2, 1, 2) seasonal_order=(2, 0, 0, 7) AIC=7355.973827616872, BIC=7386.6756711942\n"
     ]
    },
    {
     "name": "stderr",
     "output_type": "stream",
     "text": [
      "/Users/kisehyun/opt/anaconda3/lib/python3.8/site-packages/statsmodels/base/model.py:566: ConvergenceWarning: Maximum Likelihood optimization failed to converge. Check mle_retvals\n",
      "  warnings.warn(\"Maximum Likelihood optimization failed to \"\n"
     ]
    },
    {
     "name": "stdout",
     "output_type": "stream",
     "text": [
      "Fit SARIMAX: trend_order=(2, 1, 2) seasonal_order=(2, 0, 1, 7) AIC=7313.619080825229, BIC=7348.158654849722\n"
     ]
    },
    {
     "name": "stderr",
     "output_type": "stream",
     "text": [
      "/Users/kisehyun/opt/anaconda3/lib/python3.8/site-packages/statsmodels/base/model.py:566: ConvergenceWarning: Maximum Likelihood optimization failed to converge. Check mle_retvals\n",
      "  warnings.warn(\"Maximum Likelihood optimization failed to \"\n"
     ]
    },
    {
     "name": "stdout",
     "output_type": "stream",
     "text": [
      "Fit SARIMAX: trend_order=(2, 1, 2) seasonal_order=(2, 0, 2, 7) AIC=7322.7441706458285, BIC=7361.1214751174875\n",
      "Fit SARIMAX: trend_order=(2, 1, 2) seasonal_order=(2, 1, 0, 7) AIC=7238.5952511633595, BIC=7269.1321404430655\n"
     ]
    },
    {
     "name": "stderr",
     "output_type": "stream",
     "text": [
      "/Users/kisehyun/opt/anaconda3/lib/python3.8/site-packages/statsmodels/base/model.py:566: ConvergenceWarning: Maximum Likelihood optimization failed to converge. Check mle_retvals\n",
      "  warnings.warn(\"Maximum Likelihood optimization failed to \"\n"
     ]
    },
    {
     "name": "stdout",
     "output_type": "stream",
     "text": [
      "Fit SARIMAX: trend_order=(2, 1, 2) seasonal_order=(2, 1, 1, 7) AIC=7189.730708629339, BIC=7224.084709069008\n"
     ]
    },
    {
     "name": "stderr",
     "output_type": "stream",
     "text": [
      "100%|██████████| 18/18 [03:21<00:00, 11.17s/it]"
     ]
    },
    {
     "name": "stdout",
     "output_type": "stream",
     "text": [
      "Fit SARIMAX: trend_order=(2, 1, 2) seasonal_order=(2, 1, 2, 7) AIC=7194.506290484862, BIC=7232.677402084494\n",
      "The smallest AIC is 7135.384898857907 for model SARIMAX(1, 0, 1)x(0, 1, 1, 7)\n"
     ]
    },
    {
     "name": "stderr",
     "output_type": "stream",
     "text": [
      "\n"
     ]
    }
   ],
   "source": [
    "from statsmodels.stats.stattools import durbin_watson\n",
    "from sklearn.metrics import mean_squared_error\n",
    "from itertools import product, combinations\n",
    "from tqdm import tqdm\n",
    "from statsmodels.tsa.api import SARIMAX\n",
    "p, q = range(0,3), range(0,3)\n",
    "d = range(2)\n",
    "P, Q = range(0,3), range(0,3)\n",
    "D = range(2)\n",
    "m = 7\n",
    "trend_pdq = list(product(p, d, q))\n",
    "seasonal_pdq = [(candi[0], candi[1], candi[2], m) for candi in list(product(P, D, Q))]\n",
    "## SARIMAX\n",
    "AIC = []\n",
    "SARIMAX_order = []\n",
    "for trend_param in tqdm(trend_pdq):\n",
    "    for seasonal_params in seasonal_pdq:\n",
    "        try:\n",
    "            result = SARIMAX(y_train, trend = 'c', \n",
    "                                   order = trend_param, seasonal_order = seasonal_params, exog = None).fit()\n",
    "            print('Fit SARIMAX: trend_order={} seasonal_order={} AIC={}, BIC={}'.format(trend_param, seasonal_params, result.aic, result.bic, end='\\r'))\n",
    "            AIC.append(result.aic)\n",
    "            SARIMAX_order.append([trend_param, seasonal_params])\n",
    "        except:\n",
    "            continue\n",
    "## Parameter Selection\n",
    "print('The smallest AIC is {} for model SARIMAX{}x{}'.format(min(AIC), SARIMAX_order[AIC.index(min(AIC))][0], SARIMAX_order[AIC.index(min(AIC))][1]))"
   ]
  },
  {
   "cell_type": "code",
   "execution_count": 268,
   "metadata": {},
   "outputs": [
    {
     "name": "stdout",
     "output_type": "stream",
     "text": [
      "ARMA 파라미터는 (1, 0, 1)\n",
      "계절성 주기는 (0, 1, 1, 7)\n"
     ]
    }
   ],
   "source": [
    "print(f'ARMA 파라미터는 {SARIMAX_order[AIC.index(min(AIC))][0]}')\n",
    "print(f'계절성 주기는 {SARIMAX_order[AIC.index(min(AIC))][1]}')"
   ]
  },
  {
   "cell_type": "code",
   "execution_count": 269,
   "metadata": {},
   "outputs": [
    {
     "name": "stderr",
     "output_type": "stream",
     "text": [
      "/Users/kisehyun/opt/anaconda3/lib/python3.8/site-packages/statsmodels/base/model.py:566: ConvergenceWarning: Maximum Likelihood optimization failed to converge. Check mle_retvals\n",
      "  warnings.warn(\"Maximum Likelihood optimization failed to \"\n"
     ]
    },
    {
     "data": {
      "text/html": [
       "<table class=\"simpletable\">\n",
       "<caption>SARIMAX Results</caption>\n",
       "<tr>\n",
       "  <th>Dep. Variable:</th>            <td>sale_amount</td>          <th>  No. Observations:  </th>    <td>344</td>   \n",
       "</tr>\n",
       "<tr>\n",
       "  <th>Model:</th>           <td>SARIMAX(1, 0, 1)x(0, 1, 1, 7)</td> <th>  Log Likelihood     </th> <td>-3562.692</td>\n",
       "</tr>\n",
       "<tr>\n",
       "  <th>Date:</th>                  <td>Sat, 05 Jun 2021</td>        <th>  AIC                </th> <td>7135.385</td> \n",
       "</tr>\n",
       "<tr>\n",
       "  <th>Time:</th>                      <td>09:15:49</td>            <th>  BIC                </th> <td>7154.485</td> \n",
       "</tr>\n",
       "<tr>\n",
       "  <th>Sample:</th>                   <td>12-01-2010</td>           <th>  HQIC               </th> <td>7142.998</td> \n",
       "</tr>\n",
       "<tr>\n",
       "  <th></th>                         <td>- 11-09-2011</td>          <th>                     </th>     <td> </td>    \n",
       "</tr>\n",
       "<tr>\n",
       "  <th>Covariance Type:</th>              <td>opg</td>              <th>                     </th>     <td> </td>    \n",
       "</tr>\n",
       "</table>\n",
       "<table class=\"simpletable\">\n",
       "<tr>\n",
       "      <td></td>         <th>coef</th>     <th>std err</th>      <th>z</th>      <th>P>|z|</th>  <th>[0.025</th>    <th>0.975]</th>  \n",
       "</tr>\n",
       "<tr>\n",
       "  <th>intercept</th> <td>   37.5844</td> <td>   26.874</td> <td>    1.399</td> <td> 0.162</td> <td>  -15.088</td> <td>   90.257</td>\n",
       "</tr>\n",
       "<tr>\n",
       "  <th>ar.L1</th>     <td>    0.8854</td> <td>    0.055</td> <td>   16.097</td> <td> 0.000</td> <td>    0.778</td> <td>    0.993</td>\n",
       "</tr>\n",
       "<tr>\n",
       "  <th>ma.L1</th>     <td>   -0.7317</td> <td>    0.077</td> <td>   -9.524</td> <td> 0.000</td> <td>   -0.882</td> <td>   -0.581</td>\n",
       "</tr>\n",
       "<tr>\n",
       "  <th>ma.S.L7</th>   <td>   -0.9136</td> <td>    0.030</td> <td>  -30.118</td> <td> 0.000</td> <td>   -0.973</td> <td>   -0.854</td>\n",
       "</tr>\n",
       "<tr>\n",
       "  <th>sigma2</th>    <td> 8.715e+07</td> <td>  1.8e-05</td> <td> 4.85e+12</td> <td> 0.000</td> <td> 8.72e+07</td> <td> 8.72e+07</td>\n",
       "</tr>\n",
       "</table>\n",
       "<table class=\"simpletable\">\n",
       "<tr>\n",
       "  <th>Ljung-Box (L1) (Q):</th>     <td>0.74</td> <th>  Jarque-Bera (JB):  </th> <td>3007.13</td>\n",
       "</tr>\n",
       "<tr>\n",
       "  <th>Prob(Q):</th>                <td>0.39</td> <th>  Prob(JB):          </th>  <td>0.00</td>  \n",
       "</tr>\n",
       "<tr>\n",
       "  <th>Heteroskedasticity (H):</th> <td>2.91</td> <th>  Skew:              </th>  <td>2.35</td>  \n",
       "</tr>\n",
       "<tr>\n",
       "  <th>Prob(H) (two-sided):</th>    <td>0.00</td> <th>  Kurtosis:          </th>  <td>16.86</td> \n",
       "</tr>\n",
       "</table><br/><br/>Warnings:<br/>[1] Covariance matrix calculated using the outer product of gradients (complex-step).<br/>[2] Covariance matrix is singular or near-singular, with condition number 3.29e+28. Standard errors may be unstable."
      ],
      "text/plain": [
       "<class 'statsmodels.iolib.summary.Summary'>\n",
       "\"\"\"\n",
       "                                     SARIMAX Results                                     \n",
       "=========================================================================================\n",
       "Dep. Variable:                       sale_amount   No. Observations:                  344\n",
       "Model:             SARIMAX(1, 0, 1)x(0, 1, 1, 7)   Log Likelihood               -3562.692\n",
       "Date:                           Sat, 05 Jun 2021   AIC                           7135.385\n",
       "Time:                                   09:15:49   BIC                           7154.485\n",
       "Sample:                               12-01-2010   HQIC                          7142.998\n",
       "                                    - 11-09-2011                                         \n",
       "Covariance Type:                             opg                                         \n",
       "==============================================================================\n",
       "                 coef    std err          z      P>|z|      [0.025      0.975]\n",
       "------------------------------------------------------------------------------\n",
       "intercept     37.5844     26.874      1.399      0.162     -15.088      90.257\n",
       "ar.L1          0.8854      0.055     16.097      0.000       0.778       0.993\n",
       "ma.L1         -0.7317      0.077     -9.524      0.000      -0.882      -0.581\n",
       "ma.S.L7       -0.9136      0.030    -30.118      0.000      -0.973      -0.854\n",
       "sigma2      8.715e+07    1.8e-05   4.85e+12      0.000    8.72e+07    8.72e+07\n",
       "===================================================================================\n",
       "Ljung-Box (L1) (Q):                   0.74   Jarque-Bera (JB):              3007.13\n",
       "Prob(Q):                              0.39   Prob(JB):                         0.00\n",
       "Heteroskedasticity (H):               2.91   Skew:                             2.35\n",
       "Prob(H) (two-sided):                  0.00   Kurtosis:                        16.86\n",
       "===================================================================================\n",
       "\n",
       "Warnings:\n",
       "[1] Covariance matrix calculated using the outer product of gradients (complex-step).\n",
       "[2] Covariance matrix is singular or near-singular, with condition number 3.29e+28. Standard errors may be unstable.\n",
       "\"\"\""
      ]
     },
     "metadata": {},
     "output_type": "display_data"
    }
   ],
   "source": [
    "model = SARIMAX(y_train, trend='c', order=SARIMAX_order[AIC.index(min(AIC))][0], \n",
    "                                seasonal_order=SARIMAX_order[AIC.index(min(AIC))][1], exog=None).fit()\n",
    "display(model.summary())\n",
    "\n",
    "pred = model.get_forecast(len(y_test), exog=None).predicted_mean"
   ]
  },
  {
   "cell_type": "markdown",
   "metadata": {},
   "source": [
    "상수항이 유의하지 않으므로 trend = 'nc' 지정"
   ]
  },
  {
   "cell_type": "code",
   "execution_count": 274,
   "metadata": {},
   "outputs": [
    {
     "name": "stderr",
     "output_type": "stream",
     "text": [
      "/Users/kisehyun/opt/anaconda3/lib/python3.8/site-packages/statsmodels/base/model.py:566: ConvergenceWarning: Maximum Likelihood optimization failed to converge. Check mle_retvals\n",
      "  warnings.warn(\"Maximum Likelihood optimization failed to \"\n"
     ]
    },
    {
     "data": {
      "text/html": [
       "<table class=\"simpletable\">\n",
       "<caption>SARIMAX Results</caption>\n",
       "<tr>\n",
       "  <th>Dep. Variable:</th>            <td>sale_amount</td>          <th>  No. Observations:  </th>    <td>344</td>   \n",
       "</tr>\n",
       "<tr>\n",
       "  <th>Model:</th>           <td>SARIMAX(1, 0, 1)x(0, 1, 1, 7)</td> <th>  Log Likelihood     </th> <td>-3562.692</td>\n",
       "</tr>\n",
       "<tr>\n",
       "  <th>Date:</th>                  <td>Sat, 05 Jun 2021</td>        <th>  AIC                </th> <td>7135.385</td> \n",
       "</tr>\n",
       "<tr>\n",
       "  <th>Time:</th>                      <td>09:18:43</td>            <th>  BIC                </th> <td>7154.485</td> \n",
       "</tr>\n",
       "<tr>\n",
       "  <th>Sample:</th>                   <td>12-01-2010</td>           <th>  HQIC               </th> <td>7142.998</td> \n",
       "</tr>\n",
       "<tr>\n",
       "  <th></th>                         <td>- 11-09-2011</td>          <th>                     </th>     <td> </td>    \n",
       "</tr>\n",
       "<tr>\n",
       "  <th>Covariance Type:</th>              <td>opg</td>              <th>                     </th>     <td> </td>    \n",
       "</tr>\n",
       "</table>\n",
       "<table class=\"simpletable\">\n",
       "<tr>\n",
       "      <td></td>         <th>coef</th>     <th>std err</th>      <th>z</th>      <th>P>|z|</th>  <th>[0.025</th>    <th>0.975]</th>  \n",
       "</tr>\n",
       "<tr>\n",
       "  <th>intercept</th> <td>   37.5844</td> <td>   26.874</td> <td>    1.399</td> <td> 0.162</td> <td>  -15.088</td> <td>   90.257</td>\n",
       "</tr>\n",
       "<tr>\n",
       "  <th>ar.L1</th>     <td>    0.8854</td> <td>    0.055</td> <td>   16.097</td> <td> 0.000</td> <td>    0.778</td> <td>    0.993</td>\n",
       "</tr>\n",
       "<tr>\n",
       "  <th>ma.L1</th>     <td>   -0.7317</td> <td>    0.077</td> <td>   -9.524</td> <td> 0.000</td> <td>   -0.882</td> <td>   -0.581</td>\n",
       "</tr>\n",
       "<tr>\n",
       "  <th>ma.S.L7</th>   <td>   -0.9136</td> <td>    0.030</td> <td>  -30.118</td> <td> 0.000</td> <td>   -0.973</td> <td>   -0.854</td>\n",
       "</tr>\n",
       "<tr>\n",
       "  <th>sigma2</th>    <td> 8.715e+07</td> <td>  1.8e-05</td> <td> 4.85e+12</td> <td> 0.000</td> <td> 8.72e+07</td> <td> 8.72e+07</td>\n",
       "</tr>\n",
       "</table>\n",
       "<table class=\"simpletable\">\n",
       "<tr>\n",
       "  <th>Ljung-Box (L1) (Q):</th>     <td>0.74</td> <th>  Jarque-Bera (JB):  </th> <td>3007.13</td>\n",
       "</tr>\n",
       "<tr>\n",
       "  <th>Prob(Q):</th>                <td>0.39</td> <th>  Prob(JB):          </th>  <td>0.00</td>  \n",
       "</tr>\n",
       "<tr>\n",
       "  <th>Heteroskedasticity (H):</th> <td>2.91</td> <th>  Skew:              </th>  <td>2.35</td>  \n",
       "</tr>\n",
       "<tr>\n",
       "  <th>Prob(H) (two-sided):</th>    <td>0.00</td> <th>  Kurtosis:          </th>  <td>16.86</td> \n",
       "</tr>\n",
       "</table><br/><br/>Warnings:<br/>[1] Covariance matrix calculated using the outer product of gradients (complex-step).<br/>[2] Covariance matrix is singular or near-singular, with condition number 3.29e+28. Standard errors may be unstable."
      ],
      "text/plain": [
       "<class 'statsmodels.iolib.summary.Summary'>\n",
       "\"\"\"\n",
       "                                     SARIMAX Results                                     \n",
       "=========================================================================================\n",
       "Dep. Variable:                       sale_amount   No. Observations:                  344\n",
       "Model:             SARIMAX(1, 0, 1)x(0, 1, 1, 7)   Log Likelihood               -3562.692\n",
       "Date:                           Sat, 05 Jun 2021   AIC                           7135.385\n",
       "Time:                                   09:18:43   BIC                           7154.485\n",
       "Sample:                               12-01-2010   HQIC                          7142.998\n",
       "                                    - 11-09-2011                                         \n",
       "Covariance Type:                             opg                                         \n",
       "==============================================================================\n",
       "                 coef    std err          z      P>|z|      [0.025      0.975]\n",
       "------------------------------------------------------------------------------\n",
       "intercept     37.5844     26.874      1.399      0.162     -15.088      90.257\n",
       "ar.L1          0.8854      0.055     16.097      0.000       0.778       0.993\n",
       "ma.L1         -0.7317      0.077     -9.524      0.000      -0.882      -0.581\n",
       "ma.S.L7       -0.9136      0.030    -30.118      0.000      -0.973      -0.854\n",
       "sigma2      8.715e+07    1.8e-05   4.85e+12      0.000    8.72e+07    8.72e+07\n",
       "===================================================================================\n",
       "Ljung-Box (L1) (Q):                   0.74   Jarque-Bera (JB):              3007.13\n",
       "Prob(Q):                              0.39   Prob(JB):                         0.00\n",
       "Heteroskedasticity (H):               2.91   Skew:                             2.35\n",
       "Prob(H) (two-sided):                  0.00   Kurtosis:                        16.86\n",
       "===================================================================================\n",
       "\n",
       "Warnings:\n",
       "[1] Covariance matrix calculated using the outer product of gradients (complex-step).\n",
       "[2] Covariance matrix is singular or near-singular, with condition number 3.29e+28. Standard errors may be unstable.\n",
       "\"\"\""
      ]
     },
     "metadata": {},
     "output_type": "display_data"
    }
   ],
   "source": [
    "model = SARIMAX(y_train, trend = 'c', order = SARIMAX_order[AIC.index(min(AIC))][0], \n",
    "                                seasonal_order = SARIMAX_order[AIC.index(min(AIC))][1], exog = None).fit()\n",
    "display(model.summary())\n",
    "\n",
    "pred = model.get_forecast(len(y_test), exog = None).predicted_mean"
   ]
  },
  {
   "cell_type": "code",
   "execution_count": 270,
   "metadata": {
    "scrolled": false
   },
   "outputs": [
    {
     "data": {
      "text/plain": [
       "1.81551343689027"
      ]
     },
     "execution_count": 270,
     "metadata": {},
     "output_type": "execute_result"
    }
   ],
   "source": [
    "durbin_watson(model.resid)"
   ]
  },
  {
   "cell_type": "code",
   "execution_count": 271,
   "metadata": {},
   "outputs": [],
   "source": [
    "import numpy as np"
   ]
  },
  {
   "cell_type": "code",
   "execution_count": 272,
   "metadata": {},
   "outputs": [
    {
     "name": "stdout",
     "output_type": "stream",
     "text": [
      "SARIMA 모형의 RMSE = 10910.47468701315\n"
     ]
    }
   ],
   "source": [
    "print(f'SARIMA 모형의 RMSE = {np.sqrt(mean_squared_error(y_test, pred))}')"
   ]
  },
  {
   "cell_type": "code",
   "execution_count": 267,
   "metadata": {
    "scrolled": true
   },
   "outputs": [
    {
     "data": {
      "image/png": "[encoded data removed]",
      "text/plain": [
       "<Figure size 1080x504 with 4 Axes>"
      ]
     },
     "metadata": {
      "needs_background": "light"
     },
     "output_type": "display_data"
    }
   ],
   "source": [
    "model.plot_diagnostics()\n",
    "plt.show()"
   ]
  },
  {
   "cell_type": "code",
   "execution_count": 334,
   "metadata": {},
   "outputs": [
    {
     "data": {
      "text/plain": [
       "<AxesSubplot:xlabel='InvoiceDate'>"
      ]
     },
     "execution_count": 334,
     "metadata": {},
     "output_type": "execute_result"
    },
    {
     "data": {
      "image/png": "[encoded data removed]",
      "text/plain": [
       "<Figure size 1080x504 with 1 Axes>"
      ]
     },
     "metadata": {
      "needs_background": "light"
     },
     "output_type": "display_data"
    }
   ],
   "source": [
    "ts_df.sale_amount.plot()\n",
    "pred.plot()"
   ]
  },
  {
   "cell_type": "markdown",
   "metadata": {},
   "source": [
    "### 4. 파생변수 생성 후 시계열 분석 후 사후 분석"
   ]
  },
  {
   "cell_type": "code",
   "execution_count": null,
   "metadata": {},
   "outputs": [],
   "source": []
  },
  {
   "cell_type": "code",
   "execution_count": null,
   "metadata": {},
   "outputs": [],
   "source": []
  },
  {
   "cell_type": "code",
   "execution_count": null,
   "metadata": {},
   "outputs": [],
   "source": []
  },
  {
   "cell_type": "code",
   "execution_count": null,
   "metadata": {},
   "outputs": [],
   "source": []
  },
  {
   "cell_type": "markdown",
   "metadata": {},
   "source": [
    "### 5. 3번과 4번 중 어떤 것이 예측을 잘 하였는가? 평가 후 잔차 시각화"
   ]
  },
  {
   "cell_type": "code",
   "execution_count": null,
   "metadata": {},
   "outputs": [],
   "source": []
  },
  {
   "cell_type": "code",
   "execution_count": null,
   "metadata": {},
   "outputs": [],
   "source": []
  },
  {
   "cell_type": "code",
   "execution_count": null,
   "metadata": {},
   "outputs": [],
   "source": []
  }
 ],
 "metadata": {
  "kernelspec": {
   "display_name": "Python 3",
   "language": "python",
   "name": "python3"
  },
  "language_info": {
   "codemirror_mode": {
    "name": "ipython",
    "version": 3
   },
   "file_extension": ".py",
   "mimetype": "text/x-python",
   "name": "python",
   "nbconvert_exporter": "python",
   "pygments_lexer": "ipython3",
   "version": "3.8.5"
  }
 },
 "nbformat": 4,
 "nbformat_minor": 4
}
