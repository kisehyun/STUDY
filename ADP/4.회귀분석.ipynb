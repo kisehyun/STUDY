{
 "cells": [
  {
   "cell_type": "markdown",
   "metadata": {},
   "source": [
    "# 회귀분석\n",
    "***\n",
    "\n",
    "## 회귀분석을 이용할 수 있는 경우\n",
    "- 자료가 등간 척도나 비율 척도일 경우 활용이 가능하다.\n",
    "- 독립변수 중 범주형 변수는 더미변수(가변수)를 사용한다.\n",
    "- 종속변수가 이변량 변수이면 로지스틱 회귀분석을 실시한다.\n",
    "\n",
    "## 선형회귀분석의 가정\n",
    "- **선형성** : 독립변수와 종속변수의 관계가 선형이다.\n",
    "- **등분산성** : 오차의 분산이 일정하다. 산점도를 그렸을 때 무작위로 분포되어 있어야 등분산성을 만족한다.\n",
    "- **독립성** : 독립변수와 오차는 관련이 없다. 자기상관(독립성)을 알아보기 위해 Durbin-Watson 통계량을 사용하며 주로 시계열 데이터에서 많이 활용한다.\n",
    "- **비상관성** : 오차들끼리 상관이 없다.\n",
    "- **정규성** : 오차의 분포가 정규분포를 따른다. Q-Q Plot, Kolmogolov - Smirnovr검정, Shapiro-Wilk 검정 등을 활용한다.\n",
    "***\n",
    "## 회귀식 검토\n",
    "#### - 결정계수를 통해 추정된 회귀식의 타당성을 검토한다.\n",
    "\n",
    "#### - 독립변수가 많아지면 결정계수가 높아진다. -> 수정된 결정계수를 사용한다.\n",
    "#### - 회귀식을 만들기 위해 다음의 가정을 고려해야 한다.\n",
    "- **다중공선성** 여부 확인 : **VIF = $1 \\over (1 - R^2)$**을 계산해야한다. **10이상인 경우 다중공선성** 문제를 의심해야한다.\n",
    "- **잔차들 간의 상관성의 존재여부**를 판단해야 한다. 이때 사용되는 통계량은 **더빈왓슨계수**로 0 < D-W < 4의 값을 가지는데 만약 **1.5와 2.5 사이일 경우 자기상관이 없는 것**으로 판단한다.\n",
    "\n",
    "\n",
    "***\n",
    "\n",
    "## 회귀분석 종류\n",
    "- 단순회귀분석 : 독립변수 하나\n",
    "- 다중회귀분석 : 두 개 이상의 독립변수\n",
    "- 다항회귀분석 : 독립변수와 종속변수와의 관계가 1차 함수 이상인 경우\n",
    "- 비선형회귀분석 : 미지의 모수들의 선형관계로 이루어져 있지 않은 경우\n",
    "\n",
    "### 단순회귀분석 분산분석표\n",
    "| 요인 | 제곱합 | 자유도 | 제곱평균 | F |\n",
    "| --- | --- | --- | --- | --- |\n",
    "|회귀 | SSR | 1 | MSR = SSR | F = MSR / MSE |\n",
    "| 잔차 | SSE | n - 2 | MSE = SSE / (n - 2) | \n",
    "|총 | SST | n - 1 | | |\n",
    "\n",
    "### 다중회귀분석 분산분석표\n",
    "| 요인 | 제곱합 | 자유도 | 제곱평균 | F |\n",
    "| --- | --- | --- | --- | --- |\n",
    "|회귀 | SSR | k | MSR = $SSR \\over  k$ | F = MSR / MSE |\n",
    "| 잔차 | SSE | n - k - 1 | MSE = SSE / (n -k - 1) | |\n",
    "|총 | SST | n - 1 | | |\n",
    "\n",
    "- k = 독립변수 개수\n",
    "- n = 데이터 수\n",
    "\n",
    "### 결정계수\n",
    "- $SSR\\over SST$ = 1 - $SSE\\over SST$"
   ]
  },
  {
   "cell_type": "code",
   "execution_count": 2,
   "metadata": {},
   "outputs": [],
   "source": [
    "import numpy as np\n",
    "import statsmodels.api as sm\n",
    "from statsmodels.formula.api import ols\n",
    "from statsmodels.stats.anova import anova_lm\n",
    "from statsmodels.stats.outliers_influence import variance_inflation_factor\n",
    "import pandas as pd\n",
    "import warnings\n",
    "warnings.filterwarnings('ignore')\n",
    "import matplotlib.pyplot as plt\n",
    "import seaborn as sns\n",
    "%matplotlib inline"
   ]
  },
  {
   "cell_type": "code",
   "execution_count": 4,
   "metadata": {},
   "outputs": [],
   "source": [
    "cars = pd.read_csv('/Users/kisehyun/study_code/ADP/21th/csv/MASS/Cars93.csv')"
   ]
  },
  {
   "cell_type": "code",
   "execution_count": 5,
   "metadata": {
    "scrolled": true
   },
   "outputs": [
    {
     "data": {
      "text/html": [
       "<div>\n",
       "<style scoped>\n",
       "    .dataframe tbody tr th:only-of-type {\n",
       "        vertical-align: middle;\n",
       "    }\n",
       "\n",
       "    .dataframe tbody tr th {\n",
       "        vertical-align: top;\n",
       "    }\n",
       "\n",
       "    .dataframe thead th {\n",
       "        text-align: right;\n",
       "    }\n",
       "</style>\n",
       "<table border=\"1\" class=\"dataframe\">\n",
       "  <thead>\n",
       "    <tr style=\"text-align: right;\">\n",
       "      <th></th>\n",
       "      <th>Unnamed: 0</th>\n",
       "      <th>Manufacturer</th>\n",
       "      <th>Model</th>\n",
       "      <th>Type</th>\n",
       "      <th>Min.Price</th>\n",
       "      <th>Price</th>\n",
       "      <th>Max.Price</th>\n",
       "      <th>MPG.city</th>\n",
       "      <th>MPG.highway</th>\n",
       "      <th>AirBags</th>\n",
       "      <th>...</th>\n",
       "      <th>Passengers</th>\n",
       "      <th>Length</th>\n",
       "      <th>Wheelbase</th>\n",
       "      <th>Width</th>\n",
       "      <th>Turn.circle</th>\n",
       "      <th>Rear.seat.room</th>\n",
       "      <th>Luggage.room</th>\n",
       "      <th>Weight</th>\n",
       "      <th>Origin</th>\n",
       "      <th>Make</th>\n",
       "    </tr>\n",
       "  </thead>\n",
       "  <tbody>\n",
       "    <tr>\n",
       "      <th>0</th>\n",
       "      <td>1</td>\n",
       "      <td>Acura</td>\n",
       "      <td>Integra</td>\n",
       "      <td>Small</td>\n",
       "      <td>12.9</td>\n",
       "      <td>15.9</td>\n",
       "      <td>18.8</td>\n",
       "      <td>25</td>\n",
       "      <td>31</td>\n",
       "      <td>None</td>\n",
       "      <td>...</td>\n",
       "      <td>5</td>\n",
       "      <td>177</td>\n",
       "      <td>102</td>\n",
       "      <td>68</td>\n",
       "      <td>37</td>\n",
       "      <td>26.5</td>\n",
       "      <td>11.0</td>\n",
       "      <td>2705</td>\n",
       "      <td>non-USA</td>\n",
       "      <td>Acura Integra</td>\n",
       "    </tr>\n",
       "    <tr>\n",
       "      <th>1</th>\n",
       "      <td>2</td>\n",
       "      <td>Acura</td>\n",
       "      <td>Legend</td>\n",
       "      <td>Midsize</td>\n",
       "      <td>29.2</td>\n",
       "      <td>33.9</td>\n",
       "      <td>38.7</td>\n",
       "      <td>18</td>\n",
       "      <td>25</td>\n",
       "      <td>Driver &amp; Passenger</td>\n",
       "      <td>...</td>\n",
       "      <td>5</td>\n",
       "      <td>195</td>\n",
       "      <td>115</td>\n",
       "      <td>71</td>\n",
       "      <td>38</td>\n",
       "      <td>30.0</td>\n",
       "      <td>15.0</td>\n",
       "      <td>3560</td>\n",
       "      <td>non-USA</td>\n",
       "      <td>Acura Legend</td>\n",
       "    </tr>\n",
       "    <tr>\n",
       "      <th>2</th>\n",
       "      <td>3</td>\n",
       "      <td>Audi</td>\n",
       "      <td>90</td>\n",
       "      <td>Compact</td>\n",
       "      <td>25.9</td>\n",
       "      <td>29.1</td>\n",
       "      <td>32.3</td>\n",
       "      <td>20</td>\n",
       "      <td>26</td>\n",
       "      <td>Driver only</td>\n",
       "      <td>...</td>\n",
       "      <td>5</td>\n",
       "      <td>180</td>\n",
       "      <td>102</td>\n",
       "      <td>67</td>\n",
       "      <td>37</td>\n",
       "      <td>28.0</td>\n",
       "      <td>14.0</td>\n",
       "      <td>3375</td>\n",
       "      <td>non-USA</td>\n",
       "      <td>Audi 90</td>\n",
       "    </tr>\n",
       "    <tr>\n",
       "      <th>3</th>\n",
       "      <td>4</td>\n",
       "      <td>Audi</td>\n",
       "      <td>100</td>\n",
       "      <td>Midsize</td>\n",
       "      <td>30.8</td>\n",
       "      <td>37.7</td>\n",
       "      <td>44.6</td>\n",
       "      <td>19</td>\n",
       "      <td>26</td>\n",
       "      <td>Driver &amp; Passenger</td>\n",
       "      <td>...</td>\n",
       "      <td>6</td>\n",
       "      <td>193</td>\n",
       "      <td>106</td>\n",
       "      <td>70</td>\n",
       "      <td>37</td>\n",
       "      <td>31.0</td>\n",
       "      <td>17.0</td>\n",
       "      <td>3405</td>\n",
       "      <td>non-USA</td>\n",
       "      <td>Audi 100</td>\n",
       "    </tr>\n",
       "    <tr>\n",
       "      <th>4</th>\n",
       "      <td>5</td>\n",
       "      <td>BMW</td>\n",
       "      <td>535i</td>\n",
       "      <td>Midsize</td>\n",
       "      <td>23.7</td>\n",
       "      <td>30.0</td>\n",
       "      <td>36.2</td>\n",
       "      <td>22</td>\n",
       "      <td>30</td>\n",
       "      <td>Driver only</td>\n",
       "      <td>...</td>\n",
       "      <td>4</td>\n",
       "      <td>186</td>\n",
       "      <td>109</td>\n",
       "      <td>69</td>\n",
       "      <td>39</td>\n",
       "      <td>27.0</td>\n",
       "      <td>13.0</td>\n",
       "      <td>3640</td>\n",
       "      <td>non-USA</td>\n",
       "      <td>BMW 535i</td>\n",
       "    </tr>\n",
       "  </tbody>\n",
       "</table>\n",
       "<p>5 rows × 28 columns</p>\n",
       "</div>"
      ],
      "text/plain": [
       "   Unnamed: 0 Manufacturer    Model     Type  Min.Price  Price  Max.Price  \\\n",
       "0           1        Acura  Integra    Small       12.9   15.9       18.8   \n",
       "1           2        Acura   Legend  Midsize       29.2   33.9       38.7   \n",
       "2           3         Audi       90  Compact       25.9   29.1       32.3   \n",
       "3           4         Audi      100  Midsize       30.8   37.7       44.6   \n",
       "4           5          BMW     535i  Midsize       23.7   30.0       36.2   \n",
       "\n",
       "   MPG.city  MPG.highway             AirBags  ... Passengers Length  \\\n",
       "0        25           31                None  ...          5    177   \n",
       "1        18           25  Driver & Passenger  ...          5    195   \n",
       "2        20           26         Driver only  ...          5    180   \n",
       "3        19           26  Driver & Passenger  ...          6    193   \n",
       "4        22           30         Driver only  ...          4    186   \n",
       "\n",
       "   Wheelbase  Width  Turn.circle  Rear.seat.room Luggage.room  Weight  \\\n",
       "0        102     68           37            26.5         11.0    2705   \n",
       "1        115     71           38            30.0         15.0    3560   \n",
       "2        102     67           37            28.0         14.0    3375   \n",
       "3        106     70           37            31.0         17.0    3405   \n",
       "4        109     69           39            27.0         13.0    3640   \n",
       "\n",
       "    Origin           Make  \n",
       "0  non-USA  Acura Integra  \n",
       "1  non-USA   Acura Legend  \n",
       "2  non-USA        Audi 90  \n",
       "3  non-USA       Audi 100  \n",
       "4  non-USA       BMW 535i  \n",
       "\n",
       "[5 rows x 28 columns]"
      ]
     },
     "execution_count": 5,
     "metadata": {},
     "output_type": "execute_result"
    }
   ],
   "source": [
    "cars.head()"
   ]
  },
  {
   "cell_type": "markdown",
   "metadata": {},
   "source": [
    "#### 단순회귀분석"
   ]
  },
  {
   "cell_type": "code",
   "execution_count": 6,
   "metadata": {},
   "outputs": [],
   "source": [
    "model = ols('Price ~ Passengers', data = cars).fit()"
   ]
  },
  {
   "cell_type": "code",
   "execution_count": 7,
   "metadata": {
    "scrolled": true
   },
   "outputs": [
    {
     "data": {
      "text/html": [
       "<table class=\"simpletable\">\n",
       "<caption>OLS Regression Results</caption>\n",
       "<tr>\n",
       "  <th>Dep. Variable:</th>          <td>Price</td>      <th>  R-squared:         </th> <td>   0.003</td>\n",
       "</tr>\n",
       "<tr>\n",
       "  <th>Model:</th>                   <td>OLS</td>       <th>  Adj. R-squared:    </th> <td>  -0.008</td>\n",
       "</tr>\n",
       "<tr>\n",
       "  <th>Method:</th>             <td>Least Squares</td>  <th>  F-statistic:       </th> <td>  0.3057</td>\n",
       "</tr>\n",
       "<tr>\n",
       "  <th>Date:</th>             <td>Thu, 03 Jun 2021</td> <th>  Prob (F-statistic):</th>  <td> 0.582</td> \n",
       "</tr>\n",
       "<tr>\n",
       "  <th>Time:</th>                 <td>10:48:55</td>     <th>  Log-Likelihood:    </th> <td> -342.22</td>\n",
       "</tr>\n",
       "<tr>\n",
       "  <th>No. Observations:</th>      <td>    93</td>      <th>  AIC:               </th> <td>   688.4</td>\n",
       "</tr>\n",
       "<tr>\n",
       "  <th>Df Residuals:</th>          <td>    91</td>      <th>  BIC:               </th> <td>   693.5</td>\n",
       "</tr>\n",
       "<tr>\n",
       "  <th>Df Model:</th>              <td>     1</td>      <th>                     </th>     <td> </td>   \n",
       "</tr>\n",
       "<tr>\n",
       "  <th>Covariance Type:</th>      <td>nonrobust</td>    <th>                     </th>     <td> </td>   \n",
       "</tr>\n",
       "</table>\n",
       "<table class=\"simpletable\">\n",
       "<tr>\n",
       "       <td></td>         <th>coef</th>     <th>std err</th>      <th>t</th>      <th>P>|t|</th>  <th>[0.025</th>    <th>0.975]</th>  \n",
       "</tr>\n",
       "<tr>\n",
       "  <th>Intercept</th>  <td>   16.7738</td> <td>    5.050</td> <td>    3.322</td> <td> 0.001</td> <td>    6.743</td> <td>   26.804</td>\n",
       "</tr>\n",
       "<tr>\n",
       "  <th>Passengers</th> <td>    0.5379</td> <td>    0.973</td> <td>    0.553</td> <td> 0.582</td> <td>   -1.395</td> <td>    2.471</td>\n",
       "</tr>\n",
       "</table>\n",
       "<table class=\"simpletable\">\n",
       "<tr>\n",
       "  <th>Omnibus:</th>       <td>37.893</td> <th>  Durbin-Watson:     </th> <td>   1.339</td>\n",
       "</tr>\n",
       "<tr>\n",
       "  <th>Prob(Omnibus):</th> <td> 0.000</td> <th>  Jarque-Bera (JB):  </th> <td>  79.654</td>\n",
       "</tr>\n",
       "<tr>\n",
       "  <th>Skew:</th>          <td> 1.567</td> <th>  Prob(JB):          </th> <td>5.05e-18</td>\n",
       "</tr>\n",
       "<tr>\n",
       "  <th>Kurtosis:</th>      <td> 6.276</td> <th>  Cond. No.          </th> <td>    27.0</td>\n",
       "</tr>\n",
       "</table><br/><br/>Notes:<br/>[1] Standard Errors assume that the covariance matrix of the errors is correctly specified."
      ],
      "text/plain": [
       "<class 'statsmodels.iolib.summary.Summary'>\n",
       "\"\"\"\n",
       "                            OLS Regression Results                            \n",
       "==============================================================================\n",
       "Dep. Variable:                  Price   R-squared:                       0.003\n",
       "Model:                            OLS   Adj. R-squared:                 -0.008\n",
       "Method:                 Least Squares   F-statistic:                    0.3057\n",
       "Date:                Thu, 03 Jun 2021   Prob (F-statistic):              0.582\n",
       "Time:                        10:48:55   Log-Likelihood:                -342.22\n",
       "No. Observations:                  93   AIC:                             688.4\n",
       "Df Residuals:                      91   BIC:                             693.5\n",
       "Df Model:                           1                                         \n",
       "Covariance Type:            nonrobust                                         \n",
       "==============================================================================\n",
       "                 coef    std err          t      P>|t|      [0.025      0.975]\n",
       "------------------------------------------------------------------------------\n",
       "Intercept     16.7738      5.050      3.322      0.001       6.743      26.804\n",
       "Passengers     0.5379      0.973      0.553      0.582      -1.395       2.471\n",
       "==============================================================================\n",
       "Omnibus:                       37.893   Durbin-Watson:                   1.339\n",
       "Prob(Omnibus):                  0.000   Jarque-Bera (JB):               79.654\n",
       "Skew:                           1.567   Prob(JB):                     5.05e-18\n",
       "Kurtosis:                       6.276   Cond. No.                         27.0\n",
       "==============================================================================\n",
       "\n",
       "Notes:\n",
       "[1] Standard Errors assume that the covariance matrix of the errors is correctly specified.\n",
       "\"\"\""
      ]
     },
     "execution_count": 7,
     "metadata": {},
     "output_type": "execute_result"
    }
   ],
   "source": [
    "model.summary()"
   ]
  },
  {
   "cell_type": "markdown",
   "metadata": {},
   "source": [
    "모형의 결정계수는 0.003으로 매우 낮고 F-통계량은 0.3이며 이때 유의확률은 0.582로 모형이 통계적으로 유의하지 않다고 할 수 있다.\n",
    "\n",
    "passengers 변수의 회귀계수는 0.5379이다.\n",
    "***\n",
    "#### 다중회귀분석"
   ]
  },
  {
   "cell_type": "code",
   "execution_count": 8,
   "metadata": {},
   "outputs": [],
   "source": [
    "X = cars[['Price', 'EngineSize', 'RPM', 'Weight']]"
   ]
  },
  {
   "cell_type": "code",
   "execution_count": 9,
   "metadata": {},
   "outputs": [],
   "source": [
    "model = ols('Price ~ EngineSize + RPM + Weight', data = X)\n",
    "result = model.fit()"
   ]
  },
  {
   "cell_type": "code",
   "execution_count": 10,
   "metadata": {},
   "outputs": [
    {
     "data": {
      "text/html": [
       "<table class=\"simpletable\">\n",
       "<caption>OLS Regression Results</caption>\n",
       "<tr>\n",
       "  <th>Dep. Variable:</th>          <td>Price</td>      <th>  R-squared:         </th> <td>   0.561</td>\n",
       "</tr>\n",
       "<tr>\n",
       "  <th>Model:</th>                   <td>OLS</td>       <th>  Adj. R-squared:    </th> <td>   0.547</td>\n",
       "</tr>\n",
       "<tr>\n",
       "  <th>Method:</th>             <td>Least Squares</td>  <th>  F-statistic:       </th> <td>   37.98</td>\n",
       "</tr>\n",
       "<tr>\n",
       "  <th>Date:</th>             <td>Thu, 03 Jun 2021</td> <th>  Prob (F-statistic):</th> <td>6.75e-16</td>\n",
       "</tr>\n",
       "<tr>\n",
       "  <th>Time:</th>                 <td>10:48:55</td>     <th>  Log-Likelihood:    </th> <td> -304.05</td>\n",
       "</tr>\n",
       "<tr>\n",
       "  <th>No. Observations:</th>      <td>    93</td>      <th>  AIC:               </th> <td>   616.1</td>\n",
       "</tr>\n",
       "<tr>\n",
       "  <th>Df Residuals:</th>          <td>    89</td>      <th>  BIC:               </th> <td>   626.2</td>\n",
       "</tr>\n",
       "<tr>\n",
       "  <th>Df Model:</th>              <td>     3</td>      <th>                     </th>     <td> </td>   \n",
       "</tr>\n",
       "<tr>\n",
       "  <th>Covariance Type:</th>      <td>nonrobust</td>    <th>                     </th>     <td> </td>   \n",
       "</tr>\n",
       "</table>\n",
       "<table class=\"simpletable\">\n",
       "<tr>\n",
       "       <td></td>         <th>coef</th>     <th>std err</th>      <th>t</th>      <th>P>|t|</th>  <th>[0.025</th>    <th>0.975]</th>  \n",
       "</tr>\n",
       "<tr>\n",
       "  <th>Intercept</th>  <td>  -51.7933</td> <td>    9.106</td> <td>   -5.688</td> <td> 0.000</td> <td>  -69.887</td> <td>  -33.699</td>\n",
       "</tr>\n",
       "<tr>\n",
       "  <th>EngineSize</th> <td>    4.3054</td> <td>    1.325</td> <td>    3.249</td> <td> 0.002</td> <td>    1.673</td> <td>    6.938</td>\n",
       "</tr>\n",
       "<tr>\n",
       "  <th>RPM</th>        <td>    0.0071</td> <td>    0.001</td> <td>    5.208</td> <td> 0.000</td> <td>    0.004</td> <td>    0.010</td>\n",
       "</tr>\n",
       "<tr>\n",
       "  <th>Weight</th>     <td>    0.0073</td> <td>    0.002</td> <td>    3.372</td> <td> 0.001</td> <td>    0.003</td> <td>    0.012</td>\n",
       "</tr>\n",
       "</table>\n",
       "<table class=\"simpletable\">\n",
       "<tr>\n",
       "  <th>Omnibus:</th>       <td>62.441</td> <th>  Durbin-Watson:     </th> <td>   1.406</td>\n",
       "</tr>\n",
       "<tr>\n",
       "  <th>Prob(Omnibus):</th> <td> 0.000</td> <th>  Jarque-Bera (JB):  </th> <td> 361.880</td>\n",
       "</tr>\n",
       "<tr>\n",
       "  <th>Skew:</th>          <td> 2.076</td> <th>  Prob(JB):          </th> <td>2.62e-79</td>\n",
       "</tr>\n",
       "<tr>\n",
       "  <th>Kurtosis:</th>      <td>11.726</td> <th>  Cond. No.          </th> <td>8.27e+04</td>\n",
       "</tr>\n",
       "</table><br/><br/>Notes:<br/>[1] Standard Errors assume that the covariance matrix of the errors is correctly specified.<br/>[2] The condition number is large, 8.27e+04. This might indicate that there are<br/>strong multicollinearity or other numerical problems."
      ],
      "text/plain": [
       "<class 'statsmodels.iolib.summary.Summary'>\n",
       "\"\"\"\n",
       "                            OLS Regression Results                            \n",
       "==============================================================================\n",
       "Dep. Variable:                  Price   R-squared:                       0.561\n",
       "Model:                            OLS   Adj. R-squared:                  0.547\n",
       "Method:                 Least Squares   F-statistic:                     37.98\n",
       "Date:                Thu, 03 Jun 2021   Prob (F-statistic):           6.75e-16\n",
       "Time:                        10:48:55   Log-Likelihood:                -304.05\n",
       "No. Observations:                  93   AIC:                             616.1\n",
       "Df Residuals:                      89   BIC:                             626.2\n",
       "Df Model:                           3                                         \n",
       "Covariance Type:            nonrobust                                         \n",
       "==============================================================================\n",
       "                 coef    std err          t      P>|t|      [0.025      0.975]\n",
       "------------------------------------------------------------------------------\n",
       "Intercept    -51.7933      9.106     -5.688      0.000     -69.887     -33.699\n",
       "EngineSize     4.3054      1.325      3.249      0.002       1.673       6.938\n",
       "RPM            0.0071      0.001      5.208      0.000       0.004       0.010\n",
       "Weight         0.0073      0.002      3.372      0.001       0.003       0.012\n",
       "==============================================================================\n",
       "Omnibus:                       62.441   Durbin-Watson:                   1.406\n",
       "Prob(Omnibus):                  0.000   Jarque-Bera (JB):              361.880\n",
       "Skew:                           2.076   Prob(JB):                     2.62e-79\n",
       "Kurtosis:                      11.726   Cond. No.                     8.27e+04\n",
       "==============================================================================\n",
       "\n",
       "Notes:\n",
       "[1] Standard Errors assume that the covariance matrix of the errors is correctly specified.\n",
       "[2] The condition number is large, 8.27e+04. This might indicate that there are\n",
       "strong multicollinearity or other numerical problems.\n",
       "\"\"\""
      ]
     },
     "execution_count": 10,
     "metadata": {},
     "output_type": "execute_result"
    }
   ],
   "source": [
    "result.summary()"
   ]
  },
  {
   "cell_type": "code",
   "execution_count": 11,
   "metadata": {
    "scrolled": false
   },
   "outputs": [
    {
     "data": {
      "text/plain": [
       "['Intercept', 'EngineSize', 'RPM', 'Weight']"
      ]
     },
     "execution_count": 11,
     "metadata": {},
     "output_type": "execute_result"
    }
   ],
   "source": [
    "model.exog_names"
   ]
  },
  {
   "cell_type": "markdown",
   "metadata": {},
   "source": [
    "모형식에서 독립변수는 '절편', 'EngineSize', 'RPM', 'Weight' 순이다."
   ]
  },
  {
   "cell_type": "code",
   "execution_count": 15,
   "metadata": {},
   "outputs": [
    {
     "data": {
      "text/plain": [
       "(93, 4)"
      ]
     },
     "execution_count": 15,
     "metadata": {},
     "output_type": "execute_result"
    }
   ],
   "source": [
    "model.exog.shape"
   ]
  },
  {
   "cell_type": "code",
   "execution_count": 12,
   "metadata": {
    "scrolled": true
   },
   "outputs": [
    {
     "data": {
      "text/html": [
       "<div>\n",
       "<style scoped>\n",
       "    .dataframe tbody tr th:only-of-type {\n",
       "        vertical-align: middle;\n",
       "    }\n",
       "\n",
       "    .dataframe tbody tr th {\n",
       "        vertical-align: top;\n",
       "    }\n",
       "\n",
       "    .dataframe thead th {\n",
       "        text-align: right;\n",
       "    }\n",
       "</style>\n",
       "<table border=\"1\" class=\"dataframe\">\n",
       "  <thead>\n",
       "    <tr style=\"text-align: right;\">\n",
       "      <th></th>\n",
       "      <th>컬럼</th>\n",
       "      <th>VIF</th>\n",
       "    </tr>\n",
       "  </thead>\n",
       "  <tbody>\n",
       "    <tr>\n",
       "      <th>0</th>\n",
       "      <td>EngineSize</td>\n",
       "      <td>4.108869</td>\n",
       "    </tr>\n",
       "    <tr>\n",
       "      <th>1</th>\n",
       "      <td>RPM</td>\n",
       "      <td>1.437810</td>\n",
       "    </tr>\n",
       "    <tr>\n",
       "      <th>2</th>\n",
       "      <td>Weight</td>\n",
       "      <td>3.520026</td>\n",
       "    </tr>\n",
       "  </tbody>\n",
       "</table>\n",
       "</div>"
      ],
      "text/plain": [
       "           컬럼       VIF\n",
       "0  EngineSize  4.108869\n",
       "1         RPM  1.437810\n",
       "2      Weight  3.520026"
      ]
     },
     "execution_count": 12,
     "metadata": {},
     "output_type": "execute_result"
    }
   ],
   "source": [
    "pd.DataFrame({'컬럼': column, 'VIF': variance_inflation_factor(model.exog, i)} \n",
    "             for i, column in enumerate(model.exog_names)\n",
    "             if column != 'Intercept')  # 절편의 VIF는 구하지 않는다."
   ]
  },
  {
   "cell_type": "markdown",
   "metadata": {},
   "source": [
    "VIF가 10을 초과하는 변수는 없는 것으로 나타났다.\n",
    "\n",
    "***"
   ]
  },
  {
   "cell_type": "markdown",
   "metadata": {},
   "source": [
    "**F-통계량**은 37.98이며 **유의확률**은 6.75e-16로 모형이 통계적으로 매우 유의하다고 할 수 있다. \n",
    "\n",
    "회귀계수들이 통계적으로 유의하며 결정계수가 낮아 데이터의 설명력은 낮지만 위의 3개의 변수로 자동차의 가격을 추정할 수 있다.\n",
    "\n",
    "**더빈-왓슨** 통계량의 경우 1.406으로 2에 가깝기 때문에 오차항의 자기상관이 없음을 의미한다."
   ]
  },
  {
   "cell_type": "code",
   "execution_count": 13,
   "metadata": {
    "scrolled": true
   },
   "outputs": [
    {
     "data": {
      "text/html": [
       "<div>\n",
       "<style scoped>\n",
       "    .dataframe tbody tr th:only-of-type {\n",
       "        vertical-align: middle;\n",
       "    }\n",
       "\n",
       "    .dataframe tbody tr th {\n",
       "        vertical-align: top;\n",
       "    }\n",
       "\n",
       "    .dataframe thead th {\n",
       "        text-align: right;\n",
       "    }\n",
       "</style>\n",
       "<table border=\"1\" class=\"dataframe\">\n",
       "  <thead>\n",
       "    <tr style=\"text-align: right;\">\n",
       "      <th></th>\n",
       "      <th>df</th>\n",
       "      <th>sum_sq</th>\n",
       "      <th>mean_sq</th>\n",
       "      <th>F</th>\n",
       "      <th>PR(&gt;F)</th>\n",
       "    </tr>\n",
       "  </thead>\n",
       "  <tbody>\n",
       "    <tr>\n",
       "      <th>EngineSize</th>\n",
       "      <td>1.0</td>\n",
       "      <td>3063.783973</td>\n",
       "      <td>3063.783973</td>\n",
       "      <td>72.431085</td>\n",
       "      <td>3.861891e-13</td>\n",
       "    </tr>\n",
       "    <tr>\n",
       "      <th>RPM</th>\n",
       "      <td>1.0</td>\n",
       "      <td>1274.763314</td>\n",
       "      <td>1274.763314</td>\n",
       "      <td>30.136750</td>\n",
       "      <td>3.760092e-07</td>\n",
       "    </tr>\n",
       "    <tr>\n",
       "      <th>Weight</th>\n",
       "      <td>1.0</td>\n",
       "      <td>480.836582</td>\n",
       "      <td>480.836582</td>\n",
       "      <td>11.367484</td>\n",
       "      <td>1.107490e-03</td>\n",
       "    </tr>\n",
       "    <tr>\n",
       "      <th>Residual</th>\n",
       "      <td>89.0</td>\n",
       "      <td>3764.637420</td>\n",
       "      <td>42.299297</td>\n",
       "      <td>NaN</td>\n",
       "      <td>NaN</td>\n",
       "    </tr>\n",
       "  </tbody>\n",
       "</table>\n",
       "</div>"
      ],
      "text/plain": [
       "              df       sum_sq      mean_sq          F        PR(>F)\n",
       "EngineSize   1.0  3063.783973  3063.783973  72.431085  3.861891e-13\n",
       "RPM          1.0  1274.763314  1274.763314  30.136750  3.760092e-07\n",
       "Weight       1.0   480.836582   480.836582  11.367484  1.107490e-03\n",
       "Residual    89.0  3764.637420    42.299297        NaN           NaN"
      ]
     },
     "execution_count": 13,
     "metadata": {},
     "output_type": "execute_result"
    }
   ],
   "source": [
    "anova = anova_lm(result)\n",
    "anova"
   ]
  },
  {
   "cell_type": "code",
   "execution_count": null,
   "metadata": {},
   "outputs": [],
   "source": [
    "result.predict_conf_int(alpha = .05) # 95% 신뢰구간"
   ]
  },
  {
   "cell_type": "markdown",
   "metadata": {},
   "source": [
    "### 회귀모형 진단\n",
    "\n",
    "#### 1) Residual vs Fitted\n",
    "- 선형 회귀에서 오차는  평균이 0이고 분산이 일정한 정규분포를 가정하므로 분산이 일정해야 한다.\n",
    "- 따라서 기울기가 0인 직선이 관측되는 것이 이상적이다."
   ]
  },
  {
   "cell_type": "code",
   "execution_count": 14,
   "metadata": {},
   "outputs": [],
   "source": [
    "fitted = result.predict(X)\n",
    "resid = result.resid"
   ]
  },
  {
   "cell_type": "code",
   "execution_count": 15,
   "metadata": {
    "scrolled": true
   },
   "outputs": [
    {
     "data": {
      "image/png": "[encoded data removed]",
      "text/plain": [
       "<Figure size 432x288 with 1 Axes>"
      ]
     },
     "metadata": {
      "needs_background": "light"
     },
     "output_type": "display_data"
    }
   ],
   "source": [
    "sns.regplot(fitted, resid, lowess = True, line_kws = {'color' : 'red'})\n",
    "plt.plot([fitted.min(), fitted.max()], [0, 0], '--', color = 'gray')\n",
    "plt.ylabel('Residuals')\n",
    "plt.xlabel('Fitted Values')\n",
    "plt.title('Residuals VS Fitted', size = 15)\n",
    "plt.show()"
   ]
  },
  {
   "cell_type": "markdown",
   "metadata": {},
   "source": [
    "2차 함수 처럼 보이면 루트를 씌우면 된다.\n",
    "\n",
    "\n",
    "#### 2) Normal Q-Q\n",
    "- 잔차가 정규분포를 따른다.\n",
    "- Q-Q Plot으로 확인 가능\n",
    "- Shapiro-Wilk 검정 \n",
    "- 잔차가 정규분포를 따르면 Q-Q Plot에서 점들이 점선을 따라 배치된다."
   ]
  },
  {
   "cell_type": "code",
   "execution_count": 1,
   "metadata": {},
   "outputs": [],
   "source": [
    "from scipy.stats import zscore\n",
    "from statsmodels.stats.outliers_influence import OLSInfluence\n",
    "# OLSInfluence로 호출하는 방식과 result.get_influence()로 호출하는 방식 동일"
   ]
  },
  {
   "cell_type": "code",
   "execution_count": 17,
   "metadata": {},
   "outputs": [],
   "source": [
    "sr = zscore(resid) # result.get_influence().resid_studentized_internal 과 동일 / 표준화 잔차\n",
    "(x, y), _ = scipy.stats.probplot(sr)"
   ]
  },
  {
   "cell_type": "code",
   "execution_count": 18,
   "metadata": {},
   "outputs": [
    {
     "data": {
      "image/png": "[encoded data removed]",
      "text/plain": [
       "<Figure size 432x288 with 1 Axes>"
      ]
     },
     "metadata": {
      "needs_background": "light"
     },
     "output_type": "display_data"
    }
   ],
   "source": [
    "sns.scatterplot(x, y)\n",
    "plt.plot([-3, 3], [-3, 3], '--', color='grey')\n",
    "plt.title('Normal Q-Q', size = 15)\n",
    "plt.show()"
   ]
  },
  {
   "cell_type": "code",
   "execution_count": 19,
   "metadata": {},
   "outputs": [],
   "source": [
    "from scipy.stats import probplot"
   ]
  },
  {
   "cell_type": "code",
   "execution_count": 20,
   "metadata": {},
   "outputs": [
    {
     "data": {
      "image/png": "[encoded data removed]",
      "text/plain": [
       "<Figure size 432x288 with 1 Axes>"
      ]
     },
     "metadata": {
      "needs_background": "light"
     },
     "output_type": "display_data"
    }
   ],
   "source": [
    "probplot(result.get_influence().resid_studentized_internal, plot = plt)\n",
    "plt.title('Normal Q-Q', size = 15)\n",
    "plt.show()"
   ]
  },
  {
   "cell_type": "markdown",
   "metadata": {},
   "source": [
    "***\n",
    "#### 3) Scale-Location\n",
    "- 회귀모형을 통해 예측된 값이 모든 값들에 대해 잔차의 분산이 동일하다는 가정.\n",
    "- 빨간색 실선이 수평을 그리는 것이 이상적"
   ]
  },
  {
   "cell_type": "code",
   "execution_count": 21,
   "metadata": {
    "scrolled": false
   },
   "outputs": [
    {
     "data": {
      "image/png": "[encoded data removed]",
      "text/plain": [
       "<Figure size 432x288 with 1 Axes>"
      ]
     },
     "metadata": {
      "needs_background": "light"
     },
     "output_type": "display_data"
    }
   ],
   "source": [
    "sns.regplot(fitted, np.sqrt(np.abs(sr)), lowess = True, line_kws = {'color': 'red'})\n",
    "plt.title('Scale-Location', size = 15)\n",
    "plt.ylabel('root(Standardized Residuals)')\n",
    "plt.xlabel('Fitted values')\n",
    "plt.show()"
   ]
  },
  {
   "cell_type": "markdown",
   "metadata": {},
   "source": [
    "빨간선의 기울기가 0에 가까워야 하지만 Fitted Values가 커질수록 기울기가 변화하고 있다. 이처럼 빨간선의 기울기가 0에서 떨어진 점이 있다면 해당 점에서는 표준화 잔차가 큼을 의미하고 회귀직선이 y값을 잘 적합하지 못함을 의미한다. 또한 해당 점들은 이상치일 가능성이 있다.\n",
    "***\n",
    "#### 4) 극단값\n",
    "- $Cook's Distance$\n",
    "- 관측치별로 회귀모형에 미치는 영향을 나타낸다.\n",
    "- 일반적으로 1이상일 경우 매우 큰 영향을 주는 관측값으로 간주한다."
   ]
  },
  {
   "cell_type": "code",
   "execution_count": 22,
   "metadata": {},
   "outputs": [],
   "source": [
    "cd, _ = OLSInfluence(result).cooks_distance"
   ]
  },
  {
   "cell_type": "code",
   "execution_count": 23,
   "metadata": {},
   "outputs": [
    {
     "data": {
      "text/plain": [
       "58    0.181849\n",
       "18    0.084765\n",
       "56    0.072036\n",
       "9     0.071539\n",
       "47    0.067208\n",
       "dtype: float64"
      ]
     },
     "execution_count": 23,
     "metadata": {},
     "output_type": "execute_result"
    }
   ],
   "source": [
    "cd.sort_values(ascending=False).head()"
   ]
  },
  {
   "cell_type": "code",
   "execution_count": 24,
   "metadata": {},
   "outputs": [
    {
     "data": {
      "image/png": "[encoded data removed]",
      "text/plain": [
       "<Figure size 1080x720 with 1 Axes>"
      ]
     },
     "metadata": {
      "needs_background": "light"
     },
     "output_type": "display_data"
    }
   ],
   "source": [
    "plt.figure(figsize = (15, 10))\n",
    "sns.barplot(x = np.arange(cars.shape[0]), y = cd, edgecolor = (0, 0, 0))\n",
    "plt.show()"
   ]
  },
  {
   "cell_type": "markdown",
   "metadata": {},
   "source": [
    "#### 5) 영향력 진단\n",
    "- x축은 leverage, y축은 표준화 잔차 값을 나타낸다. \n",
    "- $leverage$란 관측치가 다른 관측치 집단으로부터 떨어진 정도를 나타내며 극단에 치우친 정도를 의미한다.\n",
    "- 쿡의 거리가 0.5 이상인 점은 예측치를  크게 벗어난 관측치이다."
   ]
  },
  {
   "cell_type": "code",
   "execution_count": 25,
   "metadata": {
    "scrolled": false
   },
   "outputs": [
    {
     "data": {
      "image/png": "[encoded data removed]",
      "text/plain": [
       "<Figure size 864x576 with 1 Axes>"
      ]
     },
     "metadata": {
      "needs_background": "light"
     },
     "output_type": "display_data"
    }
   ],
   "source": [
    "plt.figure(figsize = (10, 6))\n",
    "plt.scatter(result.get_influence().hat_matrix_diag, sr, color = 'black', alpha = .7)\n",
    "sns.regplot(result.get_influence().hat_matrix_diag, sr, lowess = True,\n",
    "              line_kws = {'color': 'red', 'lw': 1, 'alpha': 0.8});\n",
    "leverage_top_3 = np.flip(np.argsort(result.get_influence().cooks_distance[0]), 0)[:3]\n",
    "for i in leverage_top_3:\n",
    "    plt.annotate(i, xy = (result.get_influence().hat_matrix_diag[i], sr[i]));\n",
    "plt.xlabel('Leverage')\n",
    "plt.ylabel('Standardized Residuals')\n",
    "plt.title('Residuals vs Leverage', size = 15)\n",
    "plt.show()"
   ]
  },
  {
   "cell_type": "markdown",
   "metadata": {},
   "source": [
    "쿡의 거리가 0.5 이상이면 빨간 점선으로 표현되고 점선 바깥에 있는 점들은 무시할 수 없을 정도로 예측치를 벗어난 관측값이다. 쿡의 거리가 0.5이상인 관측치는 없기 때문에 회귀직선에 크게 영향을 끼치는 점들은 드물다고 볼 수 있다. \n",
    "***\n",
    "#### 6) DFBETAS\n",
    "- 특정 데이터를 제외한 회귀계수와 모든 데이터를 이용한 회귀계수의 차이\n",
    "- 각 데이터(행별)로 표시됨\n",
    "- 이상값 기준: 다른 행의 dfbeta 대비 얼마나 커야하는가? \n",
    "- 1보다 큰 경우 영향점이라고 판단한다."
   ]
  },
  {
   "cell_type": "code",
   "execution_count": 26,
   "metadata": {},
   "outputs": [
    {
     "data": {
      "text/html": [
       "<div>\n",
       "<style scoped>\n",
       "    .dataframe tbody tr th:only-of-type {\n",
       "        vertical-align: middle;\n",
       "    }\n",
       "\n",
       "    .dataframe tbody tr th {\n",
       "        vertical-align: top;\n",
       "    }\n",
       "\n",
       "    .dataframe thead th {\n",
       "        text-align: right;\n",
       "    }\n",
       "</style>\n",
       "<table border=\"1\" class=\"dataframe\">\n",
       "  <thead>\n",
       "    <tr style=\"text-align: right;\">\n",
       "      <th></th>\n",
       "      <th>DFBETAS_Intercept</th>\n",
       "      <th>DFBETAS_EngineSize</th>\n",
       "      <th>DFBETAS_RPM</th>\n",
       "      <th>DFBETAS_Weight</th>\n",
       "    </tr>\n",
       "  </thead>\n",
       "  <tbody>\n",
       "    <tr>\n",
       "      <th>0</th>\n",
       "      <td>0.084661</td>\n",
       "      <td>-0.002883</td>\n",
       "      <td>-0.110004</td>\n",
       "      <td>-0.002854</td>\n",
       "    </tr>\n",
       "    <tr>\n",
       "      <th>1</th>\n",
       "      <td>-0.111813</td>\n",
       "      <td>-0.004748</td>\n",
       "      <td>0.082983</td>\n",
       "      <td>0.077745</td>\n",
       "    </tr>\n",
       "    <tr>\n",
       "      <th>2</th>\n",
       "      <td>-0.058539</td>\n",
       "      <td>-0.029882</td>\n",
       "      <td>0.039973</td>\n",
       "      <td>0.061679</td>\n",
       "    </tr>\n",
       "    <tr>\n",
       "      <th>3</th>\n",
       "      <td>-0.163005</td>\n",
       "      <td>-0.096870</td>\n",
       "      <td>0.104365</td>\n",
       "      <td>0.185433</td>\n",
       "    </tr>\n",
       "    <tr>\n",
       "      <th>4</th>\n",
       "      <td>0.004712</td>\n",
       "      <td>-0.001578</td>\n",
       "      <td>-0.004239</td>\n",
       "      <td>-0.001354</td>\n",
       "    </tr>\n",
       "    <tr>\n",
       "      <th>...</th>\n",
       "      <td>...</td>\n",
       "      <td>...</td>\n",
       "      <td>...</td>\n",
       "      <td>...</td>\n",
       "    </tr>\n",
       "    <tr>\n",
       "      <th>88</th>\n",
       "      <td>0.000020</td>\n",
       "      <td>-0.000129</td>\n",
       "      <td>-0.000077</td>\n",
       "      <td>0.000129</td>\n",
       "    </tr>\n",
       "    <tr>\n",
       "      <th>89</th>\n",
       "      <td>-0.003188</td>\n",
       "      <td>-0.003526</td>\n",
       "      <td>0.002931</td>\n",
       "      <td>0.003607</td>\n",
       "    </tr>\n",
       "    <tr>\n",
       "      <th>90</th>\n",
       "      <td>-0.013917</td>\n",
       "      <td>0.032055</td>\n",
       "      <td>0.029003</td>\n",
       "      <td>-0.027034</td>\n",
       "    </tr>\n",
       "    <tr>\n",
       "      <th>91</th>\n",
       "      <td>0.002655</td>\n",
       "      <td>-0.029602</td>\n",
       "      <td>-0.001125</td>\n",
       "      <td>0.020847</td>\n",
       "    </tr>\n",
       "    <tr>\n",
       "      <th>92</th>\n",
       "      <td>-0.016128</td>\n",
       "      <td>-0.002409</td>\n",
       "      <td>0.015252</td>\n",
       "      <td>0.007851</td>\n",
       "    </tr>\n",
       "  </tbody>\n",
       "</table>\n",
       "<p>93 rows × 4 columns</p>\n",
       "</div>"
      ],
      "text/plain": [
       "    DFBETAS_Intercept  DFBETAS_EngineSize  DFBETAS_RPM  DFBETAS_Weight\n",
       "0            0.084661           -0.002883    -0.110004       -0.002854\n",
       "1           -0.111813           -0.004748     0.082983        0.077745\n",
       "2           -0.058539           -0.029882     0.039973        0.061679\n",
       "3           -0.163005           -0.096870     0.104365        0.185433\n",
       "4            0.004712           -0.001578    -0.004239       -0.001354\n",
       "..                ...                 ...          ...             ...\n",
       "88           0.000020           -0.000129    -0.000077        0.000129\n",
       "89          -0.003188           -0.003526     0.002931        0.003607\n",
       "90          -0.013917            0.032055     0.029003       -0.027034\n",
       "91           0.002655           -0.029602    -0.001125        0.020847\n",
       "92          -0.016128           -0.002409     0.015252        0.007851\n",
       "\n",
       "[93 rows x 4 columns]"
      ]
     },
     "execution_count": 26,
     "metadata": {},
     "output_type": "execute_result"
    }
   ],
   "source": [
    "pd.DataFrame(OLSInfluence(result).dfbetas, columns = [f'DFBETAS_{x}' for x in model.exog_names])"
   ]
  },
  {
   "cell_type": "markdown",
   "metadata": {},
   "source": [
    "#### 3-7) DFFITS\n",
    "\n",
    "- 특정 데이터를 제외한 모형의 적합값(fitted values)과 모든 데이터를 이용한 모형 적합값의 차이를 이용한다.\n",
    "- 경험적으로 데이터가 적을 때는 값이 1보다 큰 경우를 영향점으로 판단한다.\n",
    "- 반면 데이터가 많을 때는 값이 $2*\\sqrt{변수의 수\\over 표본의수}$ 보다 큰 경우 영향점으로 판단한다."
   ]
  },
  {
   "cell_type": "code",
   "execution_count": 27,
   "metadata": {},
   "outputs": [
    {
     "data": {
      "text/plain": [
       "(0    -0.146570\n",
       " 1     0.175099\n",
       " 2     0.115128\n",
       " 3     0.317692\n",
       " 4    -0.006121\n",
       "         ...   \n",
       " 88    0.000150\n",
       " 89    0.007842\n",
       " 90    0.045132\n",
       " 91    0.080813\n",
       " 92    0.020264\n",
       " Length: 93, dtype: float64,\n",
       " 0.4147806778921701)"
      ]
     },
     "execution_count": 27,
     "metadata": {},
     "output_type": "execute_result"
    }
   ],
   "source": [
    "OLSInfluence(result).dffits"
   ]
  },
  {
   "cell_type": "markdown",
   "metadata": {},
   "source": [
    "데이터가 적으므로 절대값 1을 기준으로 한다."
   ]
  },
  {
   "cell_type": "code",
   "execution_count": 28,
   "metadata": {},
   "outputs": [
    {
     "data": {
      "text/plain": [
       "88    0.000150\n",
       "80    0.001604\n",
       "85    0.003397\n",
       "5     0.003455\n",
       "66    0.003528\n",
       "        ...   \n",
       "47    0.521486\n",
       "9     0.539905\n",
       "56    0.544272\n",
       "18    0.581903\n",
       "58    1.042429\n",
       "Length: 93, dtype: float64"
      ]
     },
     "execution_count": 28,
     "metadata": {},
     "output_type": "execute_result"
    }
   ],
   "source": [
    "abs(OLSInfluence(result).dffits[0]).sort_values()"
   ]
  },
  {
   "cell_type": "markdown",
   "metadata": {},
   "source": [
    "58번 관측치를 영향치로 판단할 수 있다.\n",
    "***\n",
    "### 전 모형  탐색법(최적 부분집합 알고리즘)\n",
    "- 변수만 p개 있는 경우 이를 이용하여 만들 수 있는 모든 모형의 개수는 일차항만 고려할 경우 $2^p$개가 된다. 전 모형 탐색법이란 $2^p$개의 모든 모형에 대해 점수를 구하고 가장 낮거나 높은 점수를 가지는 모형을 찾는 방법이다.\n",
    "- 보통 변수의 개수인 p가 증가할수록 계산해야 되는 양은 엄청나게 많아지는데 보통 p가 30 이하일 때 사용한다.\n",
    "\n",
    "#### 1) 수정된 결정계수\n",
    "\n",
    "- 변수 개수 증가하면 자연히 결정계수도 증가\n",
    "- 수정된 결정계수는 이러한 단점을 보완하고 변수 선택 가능.\n",
    "- 수정된 결정계수 사용시 더 이상 변수를 추가할 필요가 없는 시점의 모형을 선택하게 된다."
   ]
  },
  {
   "cell_type": "code",
   "execution_count": 71,
   "metadata": {},
   "outputs": [],
   "source": [
    "from itertools import combinations"
   ]
  },
  {
   "cell_type": "code",
   "execution_count": 95,
   "metadata": {},
   "outputs": [],
   "source": [
    "columns = ['Passengers', 'Horsepower', 'Length', 'Weight', 'Width', 'EngineSize']"
   ]
  },
  {
   "cell_type": "code",
   "execution_count": 104,
   "metadata": {},
   "outputs": [],
   "source": [
    "ad_r_list = []\n",
    "r_list = []\n",
    "variables = []\n",
    "cnt_variable = []\n",
    "for n in range(1, len(columns)) :\n",
    "    \n",
    "    for c in combinations(columns, n) :\n",
    "        exp = '+'.join(c)\n",
    "        ols_exp = 'Price ~ ' + exp\n",
    "        model = ols(ols_exp, data = cars)\n",
    "        result = model.fit()\n",
    "        r = result.rsquared\n",
    "        r_list.append(r)\n",
    "        ad_r = result.rsquared_adj\n",
    "        ad_r_list.append(ad_r)\n",
    "        variables.append(c)\n",
    "        cnt_variable.append(len(c))"
   ]
  },
  {
   "cell_type": "code",
   "execution_count": 107,
   "metadata": {},
   "outputs": [
    {
     "data": {
      "text/html": [
       "<div>\n",
       "<style scoped>\n",
       "    .dataframe tbody tr th:only-of-type {\n",
       "        vertical-align: middle;\n",
       "    }\n",
       "\n",
       "    .dataframe tbody tr th {\n",
       "        vertical-align: top;\n",
       "    }\n",
       "\n",
       "    .dataframe thead th {\n",
       "        text-align: right;\n",
       "    }\n",
       "</style>\n",
       "<table border=\"1\" class=\"dataframe\">\n",
       "  <thead>\n",
       "    <tr style=\"text-align: right;\">\n",
       "      <th></th>\n",
       "      <th>num_of_variables</th>\n",
       "      <th>variable</th>\n",
       "      <th>ad_r</th>\n",
       "      <th>r</th>\n",
       "    </tr>\n",
       "  </thead>\n",
       "  <tbody>\n",
       "    <tr>\n",
       "      <th>61</th>\n",
       "      <td>5</td>\n",
       "      <td>(Horsepower, Length, Weight, Width, EngineSize)</td>\n",
       "      <td>0.682890</td>\n",
       "      <td>0.700125</td>\n",
       "    </tr>\n",
       "    <tr>\n",
       "      <th>51</th>\n",
       "      <td>4</td>\n",
       "      <td>(Horsepower, Length, Weight, Width)</td>\n",
       "      <td>0.682677</td>\n",
       "      <td>0.696474</td>\n",
       "    </tr>\n",
       "    <tr>\n",
       "      <th>56</th>\n",
       "      <td>5</td>\n",
       "      <td>(Passengers, Horsepower, Length, Weight, Width)</td>\n",
       "      <td>0.680963</td>\n",
       "      <td>0.698302</td>\n",
       "    </tr>\n",
       "    <tr>\n",
       "      <th>54</th>\n",
       "      <td>4</td>\n",
       "      <td>(Horsepower, Weight, Width, EngineSize)</td>\n",
       "      <td>0.673899</td>\n",
       "      <td>0.688077</td>\n",
       "    </tr>\n",
       "    <tr>\n",
       "      <th>59</th>\n",
       "      <td>5</td>\n",
       "      <td>(Passengers, Horsepower, Weight, Width, Engine...</td>\n",
       "      <td>0.672097</td>\n",
       "      <td>0.689918</td>\n",
       "    </tr>\n",
       "    <tr>\n",
       "      <th>34</th>\n",
       "      <td>3</td>\n",
       "      <td>(Horsepower, Weight, Width)</td>\n",
       "      <td>0.670344</td>\n",
       "      <td>0.681094</td>\n",
       "    </tr>\n",
       "    <tr>\n",
       "      <th>44</th>\n",
       "      <td>4</td>\n",
       "      <td>(Passengers, Horsepower, Weight, Width)</td>\n",
       "      <td>0.668590</td>\n",
       "      <td>0.682999</td>\n",
       "    </tr>\n",
       "    <tr>\n",
       "      <th>58</th>\n",
       "      <td>5</td>\n",
       "      <td>(Passengers, Horsepower, Length, Width, Engine...</td>\n",
       "      <td>0.657553</td>\n",
       "      <td>0.676165</td>\n",
       "    </tr>\n",
       "    <tr>\n",
       "      <th>42</th>\n",
       "      <td>4</td>\n",
       "      <td>(Passengers, Horsepower, Length, Width)</td>\n",
       "      <td>0.655560</td>\n",
       "      <td>0.670535</td>\n",
       "    </tr>\n",
       "    <tr>\n",
       "      <th>53</th>\n",
       "      <td>4</td>\n",
       "      <td>(Horsepower, Length, Width, EngineSize)</td>\n",
       "      <td>0.655371</td>\n",
       "      <td>0.670355</td>\n",
       "    </tr>\n",
       "  </tbody>\n",
       "</table>\n",
       "</div>"
      ],
      "text/plain": [
       "    num_of_variables                                           variable  \\\n",
       "61                 5    (Horsepower, Length, Weight, Width, EngineSize)   \n",
       "51                 4                (Horsepower, Length, Weight, Width)   \n",
       "56                 5    (Passengers, Horsepower, Length, Weight, Width)   \n",
       "54                 4            (Horsepower, Weight, Width, EngineSize)   \n",
       "59                 5  (Passengers, Horsepower, Weight, Width, Engine...   \n",
       "34                 3                        (Horsepower, Weight, Width)   \n",
       "44                 4            (Passengers, Horsepower, Weight, Width)   \n",
       "58                 5  (Passengers, Horsepower, Length, Width, Engine...   \n",
       "42                 4            (Passengers, Horsepower, Length, Width)   \n",
       "53                 4            (Horsepower, Length, Width, EngineSize)   \n",
       "\n",
       "        ad_r         r  \n",
       "61  0.682890  0.700125  \n",
       "51  0.682677  0.696474  \n",
       "56  0.680963  0.698302  \n",
       "54  0.673899  0.688077  \n",
       "59  0.672097  0.689918  \n",
       "34  0.670344  0.681094  \n",
       "44  0.668590  0.682999  \n",
       "58  0.657553  0.676165  \n",
       "42  0.655560  0.670535  \n",
       "53  0.655371  0.670355  "
      ]
     },
     "execution_count": 107,
     "metadata": {},
     "output_type": "execute_result"
    }
   ],
   "source": [
    "r_sq_df = pd.DataFrame({'num_of_variables' : cnt_variable, 'variable' : variables, 'ad_r' : ad_r_list, 'r' : r_list})\n",
    "r_sq_df.sort_values(by = 'ad_r', ascending = False)[:10]"
   ]
  },
  {
   "cell_type": "markdown",
   "metadata": {},
   "source": [
    "#### 2) Mallow's CP\n",
    "\n",
    "- 최소자승법을 사용하여 추정된 회귀모형의 적합성 평가에 사용\n",
    "- Cp값이 작으며 p+상수(변수의 개수 + 상수)에 가까운 모형을 선택\n",
    "1. Cp값이 p와 비슷한 경우 : 편향이 작고 우수한 모델\n",
    "2. Cp값이 p보다 큰 경우 : 편향이 크고 추가적인 변수가 필요한 모델을 의미\n",
    "3. Cp값이 p보다 작은 경우 : 분산의 증가폭보다 편향의 감소폭이 더 크며 필요 없는 변수가 모델에 있다는 것을 의미"
   ]
  },
  {
   "cell_type": "code",
   "execution_count": 111,
   "metadata": {},
   "outputs": [],
   "source": [
    "cp_list = []\n",
    "variables = []\n",
    "cnt_variable = []\n",
    "sst = np.sum(np.square((cars.Price - np.mean(cars.Price))))\n",
    "for n in range(1, len(columns)) :\n",
    "    \n",
    "    for c in combinations(columns, n) :\n",
    "        exp = '+'.join(c)\n",
    "        ols_exp = 'Price ~ ' + exp\n",
    "        model = ols(ols_exp, data = cars)\n",
    "        result = model.fit()\n",
    "        mse = result.mse_resid\n",
    "        sse = np.sum(np.square(result.resid))\n",
    "        cp = sse / mse - (cars.shape[0] - 2 * (len(model.exog_names) + 1))\n",
    "        cp_list.append(cp)\n",
    "        variables.append(c)\n",
    "        cnt_variable.append(len(c))"
   ]
  },
  {
   "cell_type": "code",
   "execution_count": 114,
   "metadata": {},
   "outputs": [
    {
     "data": {
      "text/html": [
       "<div>\n",
       "<style scoped>\n",
       "    .dataframe tbody tr th:only-of-type {\n",
       "        vertical-align: middle;\n",
       "    }\n",
       "\n",
       "    .dataframe tbody tr th {\n",
       "        vertical-align: top;\n",
       "    }\n",
       "\n",
       "    .dataframe thead th {\n",
       "        text-align: right;\n",
       "    }\n",
       "</style>\n",
       "<table border=\"1\" class=\"dataframe\">\n",
       "  <thead>\n",
       "    <tr style=\"text-align: right;\">\n",
       "      <th></th>\n",
       "      <th>num_of_variables</th>\n",
       "      <th>variable</th>\n",
       "      <th>Cp</th>\n",
       "    </tr>\n",
       "  </thead>\n",
       "  <tbody>\n",
       "    <tr>\n",
       "      <th>61</th>\n",
       "      <td>5</td>\n",
       "      <td>(Horsepower, Length, Weight, Width, EngineSize)</td>\n",
       "      <td>8.0</td>\n",
       "    </tr>\n",
       "    <tr>\n",
       "      <th>57</th>\n",
       "      <td>5</td>\n",
       "      <td>(Passengers, Horsepower, Length, Weight, Engin...</td>\n",
       "      <td>8.0</td>\n",
       "    </tr>\n",
       "    <tr>\n",
       "      <th>60</th>\n",
       "      <td>5</td>\n",
       "      <td>(Passengers, Length, Weight, Width, EngineSize)</td>\n",
       "      <td>8.0</td>\n",
       "    </tr>\n",
       "    <tr>\n",
       "      <th>59</th>\n",
       "      <td>5</td>\n",
       "      <td>(Passengers, Horsepower, Weight, Width, Engine...</td>\n",
       "      <td>8.0</td>\n",
       "    </tr>\n",
       "    <tr>\n",
       "      <th>58</th>\n",
       "      <td>5</td>\n",
       "      <td>(Passengers, Horsepower, Length, Width, Engine...</td>\n",
       "      <td>8.0</td>\n",
       "    </tr>\n",
       "    <tr>\n",
       "      <th>56</th>\n",
       "      <td>5</td>\n",
       "      <td>(Passengers, Horsepower, Length, Weight, Width)</td>\n",
       "      <td>8.0</td>\n",
       "    </tr>\n",
       "    <tr>\n",
       "      <th>51</th>\n",
       "      <td>4</td>\n",
       "      <td>(Horsepower, Length, Weight, Width)</td>\n",
       "      <td>7.0</td>\n",
       "    </tr>\n",
       "    <tr>\n",
       "      <th>48</th>\n",
       "      <td>4</td>\n",
       "      <td>(Passengers, Length, Weight, EngineSize)</td>\n",
       "      <td>7.0</td>\n",
       "    </tr>\n",
       "    <tr>\n",
       "      <th>41</th>\n",
       "      <td>4</td>\n",
       "      <td>(Passengers, Horsepower, Length, Weight)</td>\n",
       "      <td>7.0</td>\n",
       "    </tr>\n",
       "    <tr>\n",
       "      <th>42</th>\n",
       "      <td>4</td>\n",
       "      <td>(Passengers, Horsepower, Length, Width)</td>\n",
       "      <td>7.0</td>\n",
       "    </tr>\n",
       "  </tbody>\n",
       "</table>\n",
       "</div>"
      ],
      "text/plain": [
       "    num_of_variables                                           variable   Cp\n",
       "61                 5    (Horsepower, Length, Weight, Width, EngineSize)  8.0\n",
       "57                 5  (Passengers, Horsepower, Length, Weight, Engin...  8.0\n",
       "60                 5    (Passengers, Length, Weight, Width, EngineSize)  8.0\n",
       "59                 5  (Passengers, Horsepower, Weight, Width, Engine...  8.0\n",
       "58                 5  (Passengers, Horsepower, Length, Width, Engine...  8.0\n",
       "56                 5    (Passengers, Horsepower, Length, Weight, Width)  8.0\n",
       "51                 4                (Horsepower, Length, Weight, Width)  7.0\n",
       "48                 4           (Passengers, Length, Weight, EngineSize)  7.0\n",
       "41                 4           (Passengers, Horsepower, Length, Weight)  7.0\n",
       "42                 4            (Passengers, Horsepower, Length, Width)  7.0"
      ]
     },
     "execution_count": 114,
     "metadata": {},
     "output_type": "execute_result"
    }
   ],
   "source": [
    "cp_df = pd.DataFrame({'num_of_variables' : cnt_variable, 'variable' : variables, 'Cp' : cp_list})\n",
    "cp_df.sort_values(by = 'Cp', ascending = False)[:10]"
   ]
  },
  {
   "cell_type": "markdown",
   "metadata": {},
   "source": [
    "CP값이 작으며 p+상수인 5에 가까우므로 적합한 모형이라고 할 수 있다.\n",
    "\n",
    "변수선택시 for 문을 활용하면 적합한 모델 탐색을 할 수 있다.\n",
    "***\n",
    "#### 3) AIC(Akaike's information criterion) & BIC(Bayes information criterion)\n",
    "- AIC = $n\\log{SSE} - n\\log{n} + 2p$\n",
    "- BIC = $n\\log{SSE} - n\\log{n} + (n\\log{n})p$"
   ]
  },
  {
   "cell_type": "code",
   "execution_count": 129,
   "metadata": {},
   "outputs": [],
   "source": [
    "n = cars.shape[0]\n",
    "aic_list = []\n",
    "bic_list = []\n",
    "variables = []\n",
    "cnt_variable = []\n",
    "sst = np.sum(np.square((cars.Price - np.mean(cars.Price))))\n",
    "for n in range(1, len(columns)) :\n",
    "    \n",
    "    for c in combinations(columns, n) :\n",
    "        exp = '+'.join(c)\n",
    "        ols_exp = 'Price ~ ' + exp\n",
    "        p = len(c) + 1 # 상수항 포함이므로 + 1\n",
    "        model = ols(ols_exp, data = cars)\n",
    "        result = model.fit()\n",
    "        sse = np.sum(np.square(result.resid))\n",
    "        aic = result.aic # n * np.log(sse) - n * np.log(n) + 2 * p\n",
    "        bic = result.bic # n * np.log(sse) - n * np.log(n) + n * np.log(n) * p\n",
    "        aic_list.append(aic)\n",
    "        bic_list.append(bic)\n",
    "        variables.append(c)\n",
    "        cnt_variable.append(p)"
   ]
  },
  {
   "cell_type": "code",
   "execution_count": 130,
   "metadata": {},
   "outputs": [
    {
     "data": {
      "text/html": [
       "<div>\n",
       "<style scoped>\n",
       "    .dataframe tbody tr th:only-of-type {\n",
       "        vertical-align: middle;\n",
       "    }\n",
       "\n",
       "    .dataframe tbody tr th {\n",
       "        vertical-align: top;\n",
       "    }\n",
       "\n",
       "    .dataframe thead th {\n",
       "        text-align: right;\n",
       "    }\n",
       "</style>\n",
       "<table border=\"1\" class=\"dataframe\">\n",
       "  <thead>\n",
       "    <tr style=\"text-align: right;\">\n",
       "      <th></th>\n",
       "      <th>num_of_variables</th>\n",
       "      <th>variable</th>\n",
       "      <th>aic</th>\n",
       "      <th>bic</th>\n",
       "    </tr>\n",
       "  </thead>\n",
       "  <tbody>\n",
       "    <tr>\n",
       "      <th>51</th>\n",
       "      <td>5</td>\n",
       "      <td>(Horsepower, Length, Weight, Width)</td>\n",
       "      <td>583.870258</td>\n",
       "      <td>596.533255</td>\n",
       "    </tr>\n",
       "    <tr>\n",
       "      <th>61</th>\n",
       "      <td>6</td>\n",
       "      <td>(Horsepower, Length, Weight, Width, EngineSize)</td>\n",
       "      <td>584.744854</td>\n",
       "      <td>599.940451</td>\n",
       "    </tr>\n",
       "    <tr>\n",
       "      <th>56</th>\n",
       "      <td>6</td>\n",
       "      <td>(Passengers, Horsepower, Length, Weight, Width)</td>\n",
       "      <td>585.308295</td>\n",
       "      <td>600.503892</td>\n",
       "    </tr>\n",
       "    <tr>\n",
       "      <th>54</th>\n",
       "      <td>5</td>\n",
       "      <td>(Horsepower, Weight, Width, EngineSize)</td>\n",
       "      <td>586.407998</td>\n",
       "      <td>599.070995</td>\n",
       "    </tr>\n",
       "    <tr>\n",
       "      <th>34</th>\n",
       "      <td>4</td>\n",
       "      <td>(Horsepower, Weight, Width)</td>\n",
       "      <td>586.467178</td>\n",
       "      <td>596.597576</td>\n",
       "    </tr>\n",
       "  </tbody>\n",
       "</table>\n",
       "</div>"
      ],
      "text/plain": [
       "    num_of_variables                                         variable  \\\n",
       "51                 5              (Horsepower, Length, Weight, Width)   \n",
       "61                 6  (Horsepower, Length, Weight, Width, EngineSize)   \n",
       "56                 6  (Passengers, Horsepower, Length, Weight, Width)   \n",
       "54                 5          (Horsepower, Weight, Width, EngineSize)   \n",
       "34                 4                      (Horsepower, Weight, Width)   \n",
       "\n",
       "           aic         bic  \n",
       "51  583.870258  596.533255  \n",
       "61  584.744854  599.940451  \n",
       "56  585.308295  600.503892  \n",
       "54  586.407998  599.070995  \n",
       "34  586.467178  596.597576  "
      ]
     },
     "execution_count": 130,
     "metadata": {},
     "output_type": "execute_result"
    }
   ],
   "source": [
    "ab_df = pd.DataFrame({'num_of_variables' : cnt_variable, 'variable' : variables, 'aic' : aic_list, 'bic' : bic_list})\n",
    "ab_df.sort_values(by = 'aic')[:5]"
   ]
  },
  {
   "cell_type": "code",
   "execution_count": 126,
   "metadata": {},
   "outputs": [
    {
     "data": {
      "text/html": [
       "<div>\n",
       "<style scoped>\n",
       "    .dataframe tbody tr th:only-of-type {\n",
       "        vertical-align: middle;\n",
       "    }\n",
       "\n",
       "    .dataframe tbody tr th {\n",
       "        vertical-align: top;\n",
       "    }\n",
       "\n",
       "    .dataframe thead th {\n",
       "        text-align: right;\n",
       "    }\n",
       "</style>\n",
       "<table border=\"1\" class=\"dataframe\">\n",
       "  <thead>\n",
       "    <tr style=\"text-align: right;\">\n",
       "      <th></th>\n",
       "      <th>num_of_variables</th>\n",
       "      <th>variable</th>\n",
       "      <th>aic</th>\n",
       "      <th>bic</th>\n",
       "    </tr>\n",
       "  </thead>\n",
       "  <tbody>\n",
       "    <tr>\n",
       "      <th>51</th>\n",
       "      <td>4</td>\n",
       "      <td>(Horsepower, Length, Weight, Width)</td>\n",
       "      <td>583.870258</td>\n",
       "      <td>596.533255</td>\n",
       "    </tr>\n",
       "    <tr>\n",
       "      <th>34</th>\n",
       "      <td>3</td>\n",
       "      <td>(Horsepower, Weight, Width)</td>\n",
       "      <td>586.467178</td>\n",
       "      <td>596.597576</td>\n",
       "    </tr>\n",
       "    <tr>\n",
       "      <th>54</th>\n",
       "      <td>4</td>\n",
       "      <td>(Horsepower, Weight, Width, EngineSize)</td>\n",
       "      <td>586.407998</td>\n",
       "      <td>599.070995</td>\n",
       "    </tr>\n",
       "    <tr>\n",
       "      <th>61</th>\n",
       "      <td>5</td>\n",
       "      <td>(Horsepower, Length, Weight, Width, EngineSize)</td>\n",
       "      <td>584.744854</td>\n",
       "      <td>599.940451</td>\n",
       "    </tr>\n",
       "    <tr>\n",
       "      <th>56</th>\n",
       "      <td>5</td>\n",
       "      <td>(Passengers, Horsepower, Length, Weight, Width)</td>\n",
       "      <td>585.308295</td>\n",
       "      <td>600.503892</td>\n",
       "    </tr>\n",
       "  </tbody>\n",
       "</table>\n",
       "</div>"
      ],
      "text/plain": [
       "    num_of_variables                                         variable  \\\n",
       "51                 4              (Horsepower, Length, Weight, Width)   \n",
       "34                 3                      (Horsepower, Weight, Width)   \n",
       "54                 4          (Horsepower, Weight, Width, EngineSize)   \n",
       "61                 5  (Horsepower, Length, Weight, Width, EngineSize)   \n",
       "56                 5  (Passengers, Horsepower, Length, Weight, Width)   \n",
       "\n",
       "           aic         bic  \n",
       "51  583.870258  596.533255  \n",
       "34  586.467178  596.597576  \n",
       "54  586.407998  599.070995  \n",
       "61  584.744854  599.940451  \n",
       "56  585.308295  600.503892  "
      ]
     },
     "execution_count": 126,
     "metadata": {},
     "output_type": "execute_result"
    }
   ],
   "source": [
    "ab_df.sort_values(by = 'bic')[:5]"
   ]
  },
  {
   "cell_type": "markdown",
   "metadata": {},
   "source": [
    "#### 4) PRESS(Prediction Sum of Square)\n",
    "- PRESS = $\\sum_{i = 1}^N ({y_{i} - \\hat y_{i_{(i)}})^2}$\n",
    "- $\\hat y_{i_{(i)}}$은 $i$번째를 제외한 데이터를 이용한 모형의 적합값이다. PRESS는 $i$번째 실제 $y$값과 추정값의 차이를 이용했다는 점에서 예측 오차를 나타내는 척도라 할 수 있다.\n",
    "- 따라서 값이 작을수록 좋은 예측력을 가진 모형이라고 할 수 있다.\n",
    "- PRESS를 계산하려면 $n - 1$ 개의 데이터를 이용하여 $n$번의 모형 적합을 해야 하지만 $Hat Matrix$를 사용하면 모든 데이터를 이용하여 적합한 모형 하나로 계산할 수 있다. \n",
    "- PRESS = $\\sum_{i = 1}^n$ (${y_{i} - \\hat y_{i}}\\over 1 - h_{ii})$)$^2$\n",
    "- $h_{ii}$는 $Hat Matrix$의 $i$번째 대각 원소이다."
   ]
  },
  {
   "cell_type": "code",
   "execution_count": 158,
   "metadata": {},
   "outputs": [],
   "source": [
    "### 수식으로 직접 구할 때 아래 코드 활용\n",
    "# cars['Intercept'] = 1\n",
    "# X = np.array(cars[['Intercept', 'Horsepower', 'EngineSize', 'Width', 'Length', 'Weight', 'Passengers']])\n",
    "# X_tX = np.matmul(X.transpose(), X)\n",
    "# X_tX_inv = np.linalg.inv(X_tX)\n",
    "# hat_matrix = np.matmul(np.matmul(X, X_tX_inv), X.transpose())\n",
    "# diag = np.array([hat_matrix[i][i] for i in range(cars.shape[0])])"
   ]
  },
  {
   "cell_type": "code",
   "execution_count": 175,
   "metadata": {},
   "outputs": [],
   "source": [
    "n = cars.shape[0]\n",
    "press_list = []\n",
    "variables = []\n",
    "cnt_variable = []\n",
    "sst = np.sum(np.square((cars.Price - np.mean(cars.Price))))\n",
    "for n in range(1, len(columns)) :\n",
    "    \n",
    "    for c in combinations(columns, n) :\n",
    "        exp = '+'.join(c)\n",
    "        ols_exp = 'Price ~ ' + exp\n",
    "        p = len(c) + 1 # 상수항 포함이므로 + 1\n",
    "        model = ols(ols_exp, data = cars)\n",
    "        result = model.fit()\n",
    "        press = OLSInfluence(result).ess_press\n",
    "        # 다음과 동일press = np.sum(np.square(np.divide(result.resid, 1 - diag)))\n",
    "        press_list.append(press)\n",
    "        variables.append(c)\n",
    "        cnt_variable.append(p)"
   ]
  },
  {
   "cell_type": "code",
   "execution_count": 178,
   "metadata": {
    "scrolled": false
   },
   "outputs": [
    {
     "data": {
      "text/html": [
       "<div>\n",
       "<style scoped>\n",
       "    .dataframe tbody tr th:only-of-type {\n",
       "        vertical-align: middle;\n",
       "    }\n",
       "\n",
       "    .dataframe tbody tr th {\n",
       "        vertical-align: top;\n",
       "    }\n",
       "\n",
       "    .dataframe thead th {\n",
       "        text-align: right;\n",
       "    }\n",
       "</style>\n",
       "<table border=\"1\" class=\"dataframe\">\n",
       "  <thead>\n",
       "    <tr style=\"text-align: right;\">\n",
       "      <th></th>\n",
       "      <th>num_of_variable</th>\n",
       "      <th>variable</th>\n",
       "      <th>press</th>\n",
       "    </tr>\n",
       "  </thead>\n",
       "  <tbody>\n",
       "    <tr>\n",
       "      <th>51</th>\n",
       "      <td>5</td>\n",
       "      <td>(Horsepower, Length, Weight, Width)</td>\n",
       "      <td>2965.707105</td>\n",
       "    </tr>\n",
       "    <tr>\n",
       "      <th>61</th>\n",
       "      <td>6</td>\n",
       "      <td>(Horsepower, Length, Weight, Width, EngineSize)</td>\n",
       "      <td>2980.426962</td>\n",
       "    </tr>\n",
       "    <tr>\n",
       "      <th>56</th>\n",
       "      <td>6</td>\n",
       "      <td>(Passengers, Horsepower, Length, Weight, Width)</td>\n",
       "      <td>2986.667062</td>\n",
       "    </tr>\n",
       "    <tr>\n",
       "      <th>54</th>\n",
       "      <td>5</td>\n",
       "      <td>(Horsepower, Weight, Width, EngineSize)</td>\n",
       "      <td>3060.455832</td>\n",
       "    </tr>\n",
       "    <tr>\n",
       "      <th>34</th>\n",
       "      <td>4</td>\n",
       "      <td>(Horsepower, Weight, Width)</td>\n",
       "      <td>3062.701290</td>\n",
       "    </tr>\n",
       "  </tbody>\n",
       "</table>\n",
       "</div>"
      ],
      "text/plain": [
       "    num_of_variable                                         variable  \\\n",
       "51                5              (Horsepower, Length, Weight, Width)   \n",
       "61                6  (Horsepower, Length, Weight, Width, EngineSize)   \n",
       "56                6  (Passengers, Horsepower, Length, Weight, Width)   \n",
       "54                5          (Horsepower, Weight, Width, EngineSize)   \n",
       "34                4                      (Horsepower, Weight, Width)   \n",
       "\n",
       "          press  \n",
       "51  2965.707105  \n",
       "61  2980.426962  \n",
       "56  2986.667062  \n",
       "54  3060.455832  \n",
       "34  3062.701290  "
      ]
     },
     "execution_count": 178,
     "metadata": {},
     "output_type": "execute_result"
    }
   ],
   "source": [
    "press_df = pd.DataFrame({'num_of_variable' : cnt_variable, 'variable' : variables, 'press' : press_list})\n",
    "press_df.sort_values(by = 'press')[:5]"
   ]
  },
  {
   "cell_type": "markdown",
   "metadata": {},
   "source": [
    "***\n",
    "### 단계적 변수 선택법(각자 방식이 있어서 생략)\n",
    "\n",
    "\n",
    "#### 1) 전진선택법(Forward Selection)\n",
    "- 기존 모형에 가장 설명력이 좋은 변수를 하나씩 추가하는 방법"
   ]
  },
  {
   "cell_type": "markdown",
   "metadata": {},
   "source": [
    "***\n",
    "#### 2) 후진제거법"
   ]
  },
  {
   "cell_type": "markdown",
   "metadata": {},
   "source": [
    "***\n",
    "#### 3) 단계선택법"
   ]
  },
  {
   "cell_type": "markdown",
   "metadata": {},
   "source": [
    "#### Box-cox 변환\n",
    "- 정규분포를 따르지 않는 반응변수를 정규성을 만족하도록 변환시킨다."
   ]
  },
  {
   "cell_type": "code",
   "execution_count": 34,
   "metadata": {},
   "outputs": [],
   "source": [
    "from scipy.stats import boxcox"
   ]
  },
  {
   "cell_type": "code",
   "execution_count": 39,
   "metadata": {},
   "outputs": [
    {
     "name": "stdout",
     "output_type": "stream",
     "text": [
      "box-cox 변환 전 왜도는 1.53308185621344\n"
     ]
    }
   ],
   "source": [
    "print(f'box-cox 변환 전 왜도는 {cars.Price.skew()}')"
   ]
  },
  {
   "cell_type": "code",
   "execution_count": 40,
   "metadata": {
    "scrolled": false
   },
   "outputs": [
    {
     "name": "stdout",
     "output_type": "stream",
     "text": [
      "box-cox 변환 후 왜도는 0.020892143673899875\n"
     ]
    }
   ],
   "source": [
    "print(f'box-cox 변환 후 왜도는 {pd.Series(boxcox(cars.Price)[0]).skew()}')"
   ]
  }
 ],
 "metadata": {
  "kernelspec": {
   "display_name": "Python 3",
   "language": "python",
   "name": "python3"
  },
  "language_info": {
   "codemirror_mode": {
    "name": "ipython",
    "version": 3
   },
   "file_extension": ".py",
   "mimetype": "text/x-python",
   "name": "python",
   "nbconvert_exporter": "python",
   "pygments_lexer": "ipython3",
   "version": "3.8.2"
  }
 },
 "nbformat": 4,
 "nbformat_minor": 4
}
