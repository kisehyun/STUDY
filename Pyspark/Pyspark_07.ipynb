{
 "cells": [
  {
   "cell_type": "code",
   "execution_count": 1,
   "id": "6c1b29a7",
   "metadata": {},
   "outputs": [],
   "source": [
    "from pyspark.sql import SparkSession\n",
    "from pyspark.sql import functions as f\n",
    "import pandas as pd\n",
    "import numpy as np"
   ]
  },
  {
   "cell_type": "code",
   "execution_count": 115,
   "id": "4d738417",
   "metadata": {},
   "outputs": [],
   "source": [
    "spark = SparkSession.builder.getOrCreate()"
   ]
  },
  {
   "cell_type": "code",
   "execution_count": 116,
   "id": "88f0006c",
   "metadata": {},
   "outputs": [],
   "source": [
    "data = pd.DataFrame({'CSNO' : [1, 2, 3, 4], 'RANK' : [[5, 2, 7, 3, 4, 6], [1, 9, 3, 4, 5, 6], [1, 2, 3, 4, 8, 6], [3, 4, 6]]})"
   ]
  },
  {
   "cell_type": "code",
   "execution_count": 117,
   "id": "ab689b08",
   "metadata": {},
   "outputs": [],
   "source": [
    "df = spark.createDataFrame(data)"
   ]
  },
  {
   "cell_type": "code",
   "execution_count": 118,
   "id": "68da5af7",
   "metadata": {
    "scrolled": true
   },
   "outputs": [
    {
     "name": "stdout",
     "output_type": "stream",
     "text": [
      "+----+------------------+\n",
      "|CSNO|              RANK|\n",
      "+----+------------------+\n",
      "|   1|[5, 2, 7, 3, 4, 6]|\n",
      "|   2|[1, 9, 3, 4, 5, 6]|\n",
      "|   3|[1, 2, 3, 4, 8, 6]|\n",
      "|   4|         [3, 4, 6]|\n",
      "+----+------------------+\n",
      "\n"
     ]
    }
   ],
   "source": [
    "df.show()"
   ]
  },
  {
   "cell_type": "markdown",
   "id": "191685b1",
   "metadata": {},
   "source": [
    "## MRR@k"
   ]
  },
  {
   "cell_type": "code",
   "execution_count": 119,
   "id": "2c0de637",
   "metadata": {},
   "outputs": [],
   "source": [
    "def get_MRR_k(rel, k) :\n",
    "    \n",
    "    m_idx = np.min(sorted(rel)[:k])\n",
    "    RR = np.float(1 / m_idx)\n",
    "    \n",
    "    return RR"
   ]
  },
  {
   "cell_type": "code",
   "execution_count": 120,
   "id": "0d40b5f3",
   "metadata": {},
   "outputs": [],
   "source": [
    "udf_MRR = f.udf(get_MRR_k)"
   ]
  },
  {
   "cell_type": "code",
   "execution_count": 121,
   "id": "f565b976",
   "metadata": {
    "scrolled": true
   },
   "outputs": [
    {
     "name": "stdout",
     "output_type": "stream",
     "text": [
      "+----+------------------+------------------+\n",
      "|CSNO|              RANK|              RR@5|\n",
      "+----+------------------+------------------+\n",
      "|   1|[5, 2, 7, 3, 4, 6]|               0.5|\n",
      "|   2|[1, 9, 3, 4, 5, 6]|               1.0|\n",
      "|   3|[1, 2, 3, 4, 8, 6]|               1.0|\n",
      "|   4|         [3, 4, 6]|0.3333333333333333|\n",
      "+----+------------------+------------------+\n",
      "\n"
     ]
    }
   ],
   "source": [
    "df.withColumn('RR@5', udf_MRR(f.col('RANK'), f.lit(5))).show()"
   ]
  },
  {
   "cell_type": "markdown",
   "id": "253488ac",
   "metadata": {},
   "source": [
    "## MAP@k"
   ]
  },
  {
   "cell_type": "code",
   "execution_count": 122,
   "id": "f6f72f20",
   "metadata": {},
   "outputs": [],
   "source": [
    "def get_MAP(rel, k) :\n",
    "    ideal = sorted(rel)[:k]\n",
    "    z = list(np.zeros(k))\n",
    "    o = list(np.ones(k))\n",
    "    \n",
    "    for v in ideal :\n",
    "        if v <= k :\n",
    "            z[v-1] = 1\n",
    "        else :\n",
    "            pass\n",
    "    ap = 0\n",
    "    for i in range(k) :\n",
    "        cum_z = z[:i + 1].count(1)\n",
    "        cum_o = o[:i + 1].count(1)\n",
    "        ap += cum_z / cum_o\n",
    "\n",
    "    avg_precision = ap / k\n",
    "    \n",
    "    return avg_precision"
   ]
  },
  {
   "cell_type": "code",
   "execution_count": 123,
   "id": "ae5b429b",
   "metadata": {},
   "outputs": [],
   "source": [
    "udf_pre = f.udf(get_MAP)"
   ]
  },
  {
   "cell_type": "code",
   "execution_count": 125,
   "id": "778b576a",
   "metadata": {
    "scrolled": true
   },
   "outputs": [
    {
     "name": "stdout",
     "output_type": "stream",
     "text": [
      "+----+------------------+-------------------+\n",
      "|CSNO|              RANK|              MAP@5|\n",
      "+----+------------------+-------------------+\n",
      "|   1|[5, 2, 7, 3, 4, 6]| 0.5433333333333333|\n",
      "|   2|[1, 9, 3, 4, 5, 6]| 0.7433333333333334|\n",
      "|   3|[1, 2, 3, 4, 8, 6]|               0.96|\n",
      "|   4|         [3, 4, 6]|0.24666666666666667|\n",
      "+----+------------------+-------------------+\n",
      "\n"
     ]
    }
   ],
   "source": [
    "df.withColumn('MAP@5', udf_pre(f.col('RANK'), f.lit(5))).show()"
   ]
  },
  {
   "cell_type": "markdown",
   "id": "8bb909d5",
   "metadata": {},
   "source": [
    "## nDCG@k"
   ]
  },
  {
   "cell_type": "code",
   "execution_count": 149,
   "id": "bf3efd22",
   "metadata": {},
   "outputs": [],
   "source": [
    "data = pd.DataFrame({'CSNO' : [1, 2, 3, 4, 5, 6], 'REL' : [[7, 4, 2, 1], [3, 5, 8, 10], [5, 2, 7, 4, 10, 1], [1, 9, 3, 5, 6], [7, 2, 3, 4, 8, 6], [3, 4, 6]]})"
   ]
  },
  {
   "cell_type": "code",
   "execution_count": 150,
   "id": "820bc4a9",
   "metadata": {},
   "outputs": [],
   "source": [
    "df = spark.createDataFrame(data)"
   ]
  },
  {
   "cell_type": "code",
   "execution_count": 151,
   "id": "4d7e4009",
   "metadata": {
    "scrolled": true
   },
   "outputs": [
    {
     "name": "stdout",
     "output_type": "stream",
     "text": [
      "+----+-------------------+\n",
      "|CSNO|                REL|\n",
      "+----+-------------------+\n",
      "|   1|       [7, 4, 2, 1]|\n",
      "|   2|      [3, 5, 8, 10]|\n",
      "|   3|[5, 2, 7, 4, 10, 1]|\n",
      "|   4|    [1, 9, 3, 5, 6]|\n",
      "|   5| [7, 2, 3, 4, 8, 6]|\n",
      "|   6|          [3, 4, 6]|\n",
      "+----+-------------------+\n",
      "\n"
     ]
    }
   ],
   "source": [
    "df.show()"
   ]
  },
  {
   "cell_type": "code",
   "execution_count": 152,
   "id": "4cafbddb",
   "metadata": {},
   "outputs": [],
   "source": [
    "def get_nDCG(rel, k) :\n",
    "    \n",
    "    ideal = sorted(rel)[::-1][:k]\n",
    "    \n",
    "    cdg = 0\n",
    "    for i, v in enumerate(rel[:k]) :\n",
    "        cdg += (v / np.log2(i + 2))\n",
    "    cdg = np.float(cdg)\n",
    "    \n",
    "    idcg = 0\n",
    "    for i, v in enumerate(ideal[:k]) :\n",
    "        idcg += (v / np.log2(i + 2))\n",
    "    idcg = np.float(idcg)\n",
    "    \n",
    "    ndcg_k = np.float(cdg / idcg)\n",
    "    \n",
    "    return ndcg_k"
   ]
  },
  {
   "cell_type": "code",
   "execution_count": 153,
   "id": "b3343b93",
   "metadata": {},
   "outputs": [],
   "source": [
    "get_ndcg = f.udf(get_nDCG)"
   ]
  },
  {
   "cell_type": "code",
   "execution_count": 154,
   "id": "0d020172",
   "metadata": {},
   "outputs": [],
   "source": [
    "df = df.withColumn('nDCG@5', get_ndcg(f.col('REL'), f.lit(5)))"
   ]
  },
  {
   "cell_type": "code",
   "execution_count": 155,
   "id": "88358a87",
   "metadata": {
    "scrolled": false
   },
   "outputs": [
    {
     "name": "stdout",
     "output_type": "stream",
     "text": [
      "+----+-------------------+------------------+\n",
      "|CSNO|                REL|            nDCG@5|\n",
      "+----+-------------------+------------------+\n",
      "|   1|       [7, 4, 2, 1]|               1.0|\n",
      "|   2|      [3, 5, 8, 10]| 0.767612682944761|\n",
      "|   3|[5, 2, 7, 4, 10, 1]|0.7908698802386929|\n",
      "|   4|    [1, 9, 3, 5, 6]|0.7458455304749564|\n",
      "|   5| [7, 2, 3, 4, 8, 6]|0.7966977652608278|\n",
      "|   6|          [3, 4, 6]|0.8503549433237109|\n",
      "+----+-------------------+------------------+\n",
      "\n"
     ]
    }
   ],
   "source": [
    "df.show()"
   ]
  }
 ],
 "metadata": {
  "kernelspec": {
   "display_name": "Python 3",
   "language": "python",
   "name": "python3"
  },
  "language_info": {
   "codemirror_mode": {
    "name": "ipython",
    "version": 3
   },
   "file_extension": ".py",
   "mimetype": "text/x-python",
   "name": "python",
   "nbconvert_exporter": "python",
   "pygments_lexer": "ipython3",
   "version": "3.8.8"
  }
 },
 "nbformat": 4,
 "nbformat_minor": 5
}
