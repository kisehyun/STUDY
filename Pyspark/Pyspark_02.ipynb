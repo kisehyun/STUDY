{
 "cells": [
  {
   "cell_type": "code",
   "execution_count": null,
   "metadata": {
    "id": "saGl57Kj7CAT"
   },
   "outputs": [],
   "source": [
    "def get_setting() :\n",
    "    !apt-get install openjdk-8-jdk-headless\n",
    "    !wget -q https://mirror.navercorp.com/apache/spark/spark-3.1.2/spark-3.1.2-bin-hadoop3.2.tgz\n",
    "    !tar -xvf spark-3.1.2-bin-hadoop3.2.tgz\n",
    "    !pip install findspark\n",
    "    import os\n",
    "    os.environ[\"JAVA_HOME\"] = \"/usr/lib/jvm/java-8-openjdk-amd64\"\n",
    "    os.environ[\"SPARK_HOME\"] = \"/content/spark-3.1.2-bin-hadoop3.2\"\n",
    "    import findspark\n",
    "    findspark.init()"
   ]
  },
  {
   "cell_type": "code",
   "execution_count": null,
   "metadata": {
    "id": "Le76Tgpc7Tmi"
   },
   "outputs": [],
   "source": [
    "get_setting()"
   ]
  },
  {
   "cell_type": "code",
   "execution_count": null,
   "metadata": {
    "id": "O4ZjIf1i7T-2"
   },
   "outputs": [],
   "source": [
    "from pyspark.sql import SparkSession\n",
    "import pandas as pd"
   ]
  },
  {
   "cell_type": "code",
   "execution_count": null,
   "metadata": {
    "id": "m2pTpIIOA2wI"
   },
   "outputs": [],
   "source": [
    "spark = SparkSession.builder.getOrCreate()"
   ]
  },
  {
   "cell_type": "code",
   "execution_count": null,
   "metadata": {
    "id": "t-Yky3AFBF68"
   },
   "outputs": [],
   "source": [
    "data = pd.DataFrame({'INDEX' : [0 ,1, 2, 3],\n",
    "                     'CSNO' : ['A300', 'B852', 'C180', 'D596'],\n",
    "                     'RELEVANCE' : [[9, 8, 5, 2], [5, 1, 7, 2], [4, 7, 3, 8], [6, 3, 1, 7]],\n",
    "                     'MODEL' : ['DL', 'ML', 'DL', 'DL']})"
   ]
  },
  {
   "cell_type": "code",
   "execution_count": null,
   "metadata": {
    "id": "u12CUDkUkkMq"
   },
   "outputs": [],
   "source": [
    "df = spark.createDataFrame(data)"
   ]
  },
  {
   "cell_type": "code",
   "execution_count": null,
   "metadata": {
    "colab": {
     "base_uri": "https://localhost:8080/"
    },
    "id": "OJx32aPMkm7P",
    "outputId": "d4ab1ccb-04db-4780-e416-4060e43e86be"
   },
   "outputs": [
    {
     "name": "stdout",
     "output_type": "stream",
     "text": [
      "+-----+----+------------+-----+\n",
      "|INDEX|CSNO|   RELEVANCE|MODEL|\n",
      "+-----+----+------------+-----+\n",
      "|    0|A300|[9, 8, 5, 2]|   DL|\n",
      "|    1|B852|[5, 1, 7, 2]|   ML|\n",
      "|    2|C180|[4, 7, 3, 8]|   DL|\n",
      "|    3|D596|[6, 3, 1, 7]|   DL|\n",
      "+-----+----+------------+-----+\n",
      "\n"
     ]
    }
   ],
   "source": [
    "df.show()"
   ]
  },
  {
   "cell_type": "code",
   "execution_count": null,
   "metadata": {
    "colab": {
     "base_uri": "https://localhost:8080/"
    },
    "id": "8Vh-y1HGAzFK",
    "outputId": "8263b54f-2570-4299-d117-05f7eebc7502",
    "scrolled": true
   },
   "outputs": [
    {
     "data": {
      "text/plain": [
       "Column<'CSNO'>"
      ]
     },
     "execution_count": 44,
     "metadata": {},
     "output_type": "execute_result"
    }
   ],
   "source": [
    "df.CSNO"
   ]
  },
  {
   "cell_type": "markdown",
   "metadata": {},
   "source": [
    ".뒤에 컬럼명을 호출하면 pandas와 달리 컬럼명이 출력된다."
   ]
  },
  {
   "cell_type": "code",
   "execution_count": null,
   "metadata": {
    "colab": {
     "base_uri": "https://localhost:8080/"
    },
    "id": "bXGFK7kHkvs0",
    "outputId": "13936d36-64bd-4272-cfe9-5872719be65e",
    "scrolled": true
   },
   "outputs": [
    {
     "data": {
      "text/plain": [
       "DataFrame[CSNO: string]"
      ]
     },
     "execution_count": 45,
     "metadata": {},
     "output_type": "execute_result"
    }
   ],
   "source": [
    "df.select(df.CSNO)"
   ]
  },
  {
   "cell_type": "markdown",
   "metadata": {},
   "source": [
    "pandas의 인덱싱 처럼 특정 column을 지정하려면 spark는 select를 활용해야 한다."
   ]
  },
  {
   "cell_type": "code",
   "execution_count": null,
   "metadata": {
    "colab": {
     "base_uri": "https://localhost:8080/"
    },
    "id": "G1kw1JM0rKTL",
    "outputId": "e955f24d-06ce-4ab3-84bc-6ad9cc64b431",
    "scrolled": true
   },
   "outputs": [
    {
     "name": "stdout",
     "output_type": "stream",
     "text": [
      "+----+\n",
      "|CSNO|\n",
      "+----+\n",
      "|A300|\n",
      "|B852|\n",
      "|C180|\n",
      "|D596|\n",
      "+----+\n",
      "\n"
     ]
    }
   ],
   "source": [
    "df.select(df.CSNO).show()"
   ]
  },
  {
   "cell_type": "markdown",
   "metadata": {},
   "source": [
    "다중 컬럼 또한 ,로 연결하여 지정할 수 있다."
   ]
  },
  {
   "cell_type": "code",
   "execution_count": null,
   "metadata": {
    "colab": {
     "base_uri": "https://localhost:8080/"
    },
    "id": "UWy7yJq8rNW5",
    "outputId": "8fb736f3-aa44-407e-ecae-b1163b45f689",
    "scrolled": true
   },
   "outputs": [
    {
     "data": {
      "text/plain": [
       "DataFrame[CSNO: string, MODEL: string]"
      ]
     },
     "execution_count": 47,
     "metadata": {},
     "output_type": "execute_result"
    }
   ],
   "source": [
    "df.select(df.CSNO, df.MODEL)"
   ]
  },
  {
   "cell_type": "code",
   "execution_count": null,
   "metadata": {
    "colab": {
     "base_uri": "https://localhost:8080/"
    },
    "id": "FABzOLbZrUm6",
    "outputId": "36b742d3-0700-4ca0-f96f-f1704c7d26dd"
   },
   "outputs": [
    {
     "name": "stdout",
     "output_type": "stream",
     "text": [
      "+----+-----+\n",
      "|CSNO|MODEL|\n",
      "+----+-----+\n",
      "|A300|   DL|\n",
      "|B852|   ML|\n",
      "|C180|   DL|\n",
      "|D596|   DL|\n",
      "+----+-----+\n",
      "\n"
     ]
    }
   ],
   "source": [
    "df.select(df.CSNO, df.MODEL).show()"
   ]
  },
  {
   "cell_type": "markdown",
   "metadata": {},
   "source": [
    "또한, col 기능을 이용하여 column명만 지정하여 특정 column을 지정할 수 있다."
   ]
  },
  {
   "cell_type": "code",
   "execution_count": null,
   "metadata": {
    "id": "kvm6QmPNLqY6"
   },
   "outputs": [],
   "source": [
    "from pyspark.sql.functions import col"
   ]
  },
  {
   "cell_type": "code",
   "execution_count": null,
   "metadata": {
    "colab": {
     "base_uri": "https://localhost:8080/"
    },
    "id": "oRdu6I47rWJP",
    "outputId": "002dce7a-891e-4737-e9ea-43c90fba6cb8"
   },
   "outputs": [
    {
     "data": {
      "text/plain": [
       "DataFrame[CSNO: string, RELEVANCE: array<bigint>]"
      ]
     },
     "execution_count": 50,
     "metadata": {},
     "output_type": "execute_result"
    }
   ],
   "source": [
    "df.select(col('CSNO'), col('RELEVANCE'))"
   ]
  },
  {
   "cell_type": "code",
   "execution_count": null,
   "metadata": {
    "colab": {
     "base_uri": "https://localhost:8080/"
    },
    "id": "bUOfS6naLo1b",
    "outputId": "af37a14d-37ba-4530-80ce-38343639e3b8"
   },
   "outputs": [
    {
     "name": "stdout",
     "output_type": "stream",
     "text": [
      "+----+------------+\n",
      "|CSNO|   RELEVANCE|\n",
      "+----+------------+\n",
      "|A300|[9, 8, 5, 2]|\n",
      "|B852|[5, 1, 7, 2]|\n",
      "|C180|[4, 7, 3, 8]|\n",
      "|D596|[6, 3, 1, 7]|\n",
      "+----+------------+\n",
      "\n"
     ]
    }
   ],
   "source": [
    "df.select(col('CSNO'), col('RELEVANCE')).show()"
   ]
  },
  {
   "cell_type": "code",
   "execution_count": null,
   "metadata": {
    "id": "7xWVn5MMNK9a"
   },
   "outputs": [],
   "source": [
    "import numpy as np"
   ]
  },
  {
   "cell_type": "code",
   "execution_count": null,
   "metadata": {
    "id": "ym64l_9qL1Py"
   },
   "outputs": [],
   "source": [
    "def my_func(x) :\n",
    "    return x + 1"
   ]
  },
  {
   "cell_type": "markdown",
   "metadata": {},
   "source": [
    "특정 컬럼에 function을 적용하여 column을 추출할 수도 있다."
   ]
  },
  {
   "cell_type": "code",
   "execution_count": null,
   "metadata": {
    "colab": {
     "base_uri": "https://localhost:8080/"
    },
    "id": "s2byBHJ-MhXC",
    "outputId": "fdc7b4f7-3478-4757-e452-01afe5cad498"
   },
   "outputs": [
    {
     "name": "stdout",
     "output_type": "stream",
     "text": [
      "+-----------+----+\n",
      "|(INDEX + 1)|CSNO|\n",
      "+-----------+----+\n",
      "|          1|A300|\n",
      "|          2|B852|\n",
      "|          3|C180|\n",
      "|          4|D596|\n",
      "+-----------+----+\n",
      "\n"
     ]
    }
   ],
   "source": [
    "df.select(my_func(col('INDEX')), col('CSNO')).show()"
   ]
  }
 ],
 "metadata": {
  "colab": {
   "collapsed_sections": [],
   "name": "Pyspark_02.ipynb",
   "provenance": []
  },
  "kernelspec": {
   "display_name": "Python 3",
   "language": "python",
   "name": "python3"
  },
  "language_info": {
   "codemirror_mode": {
    "name": "ipython",
    "version": 3
   },
   "file_extension": ".py",
   "mimetype": "text/x-python",
   "name": "python",
   "nbconvert_exporter": "python",
   "pygments_lexer": "ipython3",
   "version": "3.8.8"
  }
 },
 "nbformat": 4,
 "nbformat_minor": 1
}
