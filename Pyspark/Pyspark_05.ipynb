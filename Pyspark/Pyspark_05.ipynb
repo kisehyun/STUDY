{
 "cells": [
  {
   "cell_type": "code",
   "execution_count": 35,
   "id": "2c5b2549",
   "metadata": {},
   "outputs": [],
   "source": [
    "from pyspark.sql import SparkSession\n",
    "from pyspark.sql.functions import col, count, avg, countDistinct\n",
    "import pandas as pd"
   ]
  },
  {
   "cell_type": "code",
   "execution_count": 2,
   "id": "86a73ffe",
   "metadata": {},
   "outputs": [],
   "source": [
    "spark = SparkSession.builder.getOrCreate()"
   ]
  },
  {
   "cell_type": "code",
   "execution_count": 12,
   "id": "2973d3b9",
   "metadata": {},
   "outputs": [],
   "source": [
    "data = pd.DataFrame({'CSNO' : [1, 2, 3], 'REL' : [[5, 2, 7], [1, 9, 3], [4, 8, 6]]})"
   ]
  },
  {
   "cell_type": "code",
   "execution_count": 13,
   "id": "f0753e93",
   "metadata": {},
   "outputs": [],
   "source": [
    "df = spark.createDataFrame(data)"
   ]
  },
  {
   "cell_type": "code",
   "execution_count": 14,
   "id": "8e19e1c7",
   "metadata": {},
   "outputs": [
    {
     "name": "stdout",
     "output_type": "stream",
     "text": [
      "+----+---------+\n",
      "|CSNO|      REL|\n",
      "+----+---------+\n",
      "|   1|[5, 2, 7]|\n",
      "|   2|[1, 9, 3]|\n",
      "|   3|[4, 8, 6]|\n",
      "+----+---------+\n",
      "\n"
     ]
    }
   ],
   "source": [
    "df.show()"
   ]
  },
  {
   "cell_type": "markdown",
   "id": "6bbbc3fb",
   "metadata": {},
   "source": [
    "### column 삭제 -> drop(column)"
   ]
  },
  {
   "cell_type": "code",
   "execution_count": 15,
   "id": "899b8b08",
   "metadata": {},
   "outputs": [],
   "source": [
    "df = df.drop(col('REL'))"
   ]
  },
  {
   "cell_type": "code",
   "execution_count": 16,
   "id": "137c0d28",
   "metadata": {},
   "outputs": [
    {
     "name": "stdout",
     "output_type": "stream",
     "text": [
      "+----+\n",
      "|CSNO|\n",
      "+----+\n",
      "|   1|\n",
      "|   2|\n",
      "|   3|\n",
      "+----+\n",
      "\n"
     ]
    }
   ],
   "source": [
    "df.show()"
   ]
  },
  {
   "cell_type": "code",
   "execution_count": 30,
   "id": "159ef8db",
   "metadata": {},
   "outputs": [],
   "source": [
    "data = pd.DataFrame({'DATE' : ['2022-01-23', '2022-01-18', '2022-01-24', '2022-01-23', '2022-01-18'],\n",
    "                    'ID' : ['A', 'B', 'A', 'C', 'A'],\n",
    "                    'RATING' : [6, 9, 8, 1, 6]})"
   ]
  },
  {
   "cell_type": "code",
   "execution_count": 31,
   "id": "9028a1eb",
   "metadata": {},
   "outputs": [],
   "source": [
    "df = spark.createDataFrame(data)"
   ]
  },
  {
   "cell_type": "code",
   "execution_count": 32,
   "id": "9590e903",
   "metadata": {},
   "outputs": [
    {
     "name": "stdout",
     "output_type": "stream",
     "text": [
      "+----------+---+------+\n",
      "|      DATE| ID|RATING|\n",
      "+----------+---+------+\n",
      "|2022-01-23|  A|     6|\n",
      "|2022-01-18|  B|     9|\n",
      "|2022-01-24|  A|     8|\n",
      "|2022-01-23|  C|     1|\n",
      "|2022-01-18|  A|     6|\n",
      "+----------+---+------+\n",
      "\n"
     ]
    }
   ],
   "source": [
    "df.show()"
   ]
  },
  {
   "cell_type": "markdown",
   "id": "f759696a",
   "metadata": {},
   "source": [
    "### 집계 함수 적용 -> groupBy"
   ]
  },
  {
   "cell_type": "code",
   "execution_count": 33,
   "id": "e58300f4",
   "metadata": {},
   "outputs": [
    {
     "name": "stdout",
     "output_type": "stream",
     "text": [
      "+----------+---+\n",
      "|      DATE|avg|\n",
      "+----------+---+\n",
      "|2022-01-23|3.5|\n",
      "|2022-01-18|7.5|\n",
      "|2022-01-24|8.0|\n",
      "+----------+---+\n",
      "\n"
     ]
    }
   ],
   "source": [
    "df.groupBy('DATE').agg(avg(col(\"RATING\")).alias('avg')).show()"
   ]
  },
  {
   "cell_type": "markdown",
   "id": "3fbde183",
   "metadata": {},
   "source": [
    "count 함수는 개수만 세어주는 것이고 중복 제거는 하지 않는다."
   ]
  },
  {
   "cell_type": "code",
   "execution_count": 34,
   "id": "2becab7e",
   "metadata": {},
   "outputs": [
    {
     "name": "stdout",
     "output_type": "stream",
     "text": [
      "+---+-----------+\n",
      "| ID|count(DATE)|\n",
      "+---+-----------+\n",
      "|  A|          3|\n",
      "|  B|          1|\n",
      "|  C|          1|\n",
      "+---+-----------+\n",
      "\n"
     ]
    }
   ],
   "source": [
    "df.groupBy('ID').agg(count(col(\"DATE\"))).show()"
   ]
  },
  {
   "cell_type": "markdown",
   "id": "0d72c356",
   "metadata": {},
   "source": [
    "중복을 제거한 후 count를 하고 싶다면 countDistinct를 해야 한다."
   ]
  },
  {
   "cell_type": "code",
   "execution_count": 37,
   "id": "36563526",
   "metadata": {},
   "outputs": [
    {
     "name": "stdout",
     "output_type": "stream",
     "text": [
      "+---+------+\n",
      "| ID|no_dup|\n",
      "+---+------+\n",
      "|  B|     1|\n",
      "|  C|     1|\n",
      "|  A|     2|\n",
      "+---+------+\n",
      "\n"
     ]
    }
   ],
   "source": [
    "df.groupBy('ID').agg(countDistinct('RATING').alias('no_dup')).show()"
   ]
  },
  {
   "cell_type": "markdown",
   "id": "2e96da34",
   "metadata": {},
   "source": [
    "### 정렬 -> orderBy"
   ]
  },
  {
   "cell_type": "code",
   "execution_count": 39,
   "id": "c86ddeab",
   "metadata": {},
   "outputs": [
    {
     "name": "stdout",
     "output_type": "stream",
     "text": [
      "+----------+---+------+\n",
      "|      DATE| ID|RATING|\n",
      "+----------+---+------+\n",
      "|2022-01-18|  A|     6|\n",
      "|2022-01-18|  B|     9|\n",
      "|2022-01-23|  A|     6|\n",
      "|2022-01-23|  C|     1|\n",
      "|2022-01-24|  A|     8|\n",
      "+----------+---+------+\n",
      "\n"
     ]
    }
   ],
   "source": [
    "df.orderBy('DATE').show()"
   ]
  },
  {
   "cell_type": "markdown",
   "id": "af78a5d5",
   "metadata": {},
   "source": [
    "### pivot 함수"
   ]
  },
  {
   "cell_type": "code",
   "execution_count": 47,
   "id": "40969771",
   "metadata": {},
   "outputs": [
    {
     "name": "stdout",
     "output_type": "stream",
     "text": [
      "+----------+---+---+---+\n",
      "|      DATE|  A|  B|  C|\n",
      "+----------+---+---+---+\n",
      "|2022-01-18|6.0|9.0|0.0|\n",
      "|2022-01-23|6.0|0.0|1.0|\n",
      "|2022-01-24|8.0|0.0|0.0|\n",
      "+----------+---+---+---+\n",
      "\n"
     ]
    }
   ],
   "source": [
    "df.groupBy('DATE').pivot('ID').agg(avg('RATING')).fillna(0).show()"
   ]
  },
  {
   "cell_type": "markdown",
   "id": "f825dd48",
   "metadata": {},
   "source": [
    "### collect 함수"
   ]
  },
  {
   "cell_type": "code",
   "execution_count": 44,
   "id": "52881365",
   "metadata": {},
   "outputs": [
    {
     "data": {
      "text/plain": [
       "[Row(DATE='2022-01-23', ID='A', RATING=6),\n",
       " Row(DATE='2022-01-18', ID='B', RATING=9),\n",
       " Row(DATE='2022-01-24', ID='A', RATING=8),\n",
       " Row(DATE='2022-01-23', ID='C', RATING=1),\n",
       " Row(DATE='2022-01-18', ID='A', RATING=6)]"
      ]
     },
     "execution_count": 44,
     "metadata": {},
     "output_type": "execute_result"
    }
   ],
   "source": [
    "df.collect()"
   ]
  },
  {
   "cell_type": "markdown",
   "id": "cde7e1fe",
   "metadata": {},
   "source": [
    "collect()는 해당 데이터의 모든 row를 반환한다."
   ]
  },
  {
   "cell_type": "markdown",
   "id": "fd913e92",
   "metadata": {},
   "source": [
    "### describe 함수"
   ]
  },
  {
   "cell_type": "code",
   "execution_count": 46,
   "id": "e2014968",
   "metadata": {},
   "outputs": [
    {
     "name": "stdout",
     "output_type": "stream",
     "text": [
      "+-------+----------+----+-----------------+\n",
      "|summary|      DATE|  ID|           RATING|\n",
      "+-------+----------+----+-----------------+\n",
      "|  count|         5|   5|                5|\n",
      "|   mean|      null|null|              6.0|\n",
      "| stddev|      null|null|3.082207001484488|\n",
      "|    min|2022-01-18|   A|                1|\n",
      "|    max|2022-01-24|   C|                9|\n",
      "+-------+----------+----+-----------------+\n",
      "\n"
     ]
    }
   ],
   "source": [
    "df.describe().show()"
   ]
  }
 ],
 "metadata": {
  "kernelspec": {
   "display_name": "Python 3",
   "language": "python",
   "name": "python3"
  },
  "language_info": {
   "codemirror_mode": {
    "name": "ipython",
    "version": 3
   },
   "file_extension": ".py",
   "mimetype": "text/x-python",
   "name": "python",
   "nbconvert_exporter": "python",
   "pygments_lexer": "ipython3",
   "version": "3.8.8"
  }
 },
 "nbformat": 4,
 "nbformat_minor": 5
}
