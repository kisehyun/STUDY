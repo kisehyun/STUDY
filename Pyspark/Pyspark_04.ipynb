{
 "cells": [
  {
   "cell_type": "code",
   "execution_count": 13,
   "id": "71939289",
   "metadata": {},
   "outputs": [],
   "source": [
    "from pyspark.sql import SparkSession, Row\n",
    "from pyspark.sql.functions import col, regexp_replace\n",
    "from pyspark.sql import functions as F\n",
    "import pandas as pd\n",
    "import numpy as np"
   ]
  },
  {
   "cell_type": "markdown",
   "id": "8fa67766",
   "metadata": {},
   "source": [
    "spark session 만들기"
   ]
  },
  {
   "cell_type": "code",
   "execution_count": 2,
   "id": "6f2afda6",
   "metadata": {},
   "outputs": [],
   "source": [
    "sp = SparkSession.builder.getOrCreate()"
   ]
  },
  {
   "cell_type": "code",
   "execution_count": 3,
   "id": "0c026680",
   "metadata": {},
   "outputs": [],
   "source": [
    "data = sp.createDataFrame([\n",
    "                         Row(NAME = 'MESSI', NATION = 'ARG', NUM = 10),\n",
    "                         Row(NAME = 'RONALDO', NATION = 'POR', NUM = 7),\n",
    "                         Row(NAME = 'NEYMAR', NATION = 'BRA', NUM = 10),\n",
    "                         Row(NAME = 'DE BRUYNE', NATION = 'BEL', NUM = 17)])"
   ]
  },
  {
   "cell_type": "code",
   "execution_count": 4,
   "id": "d8959fb7",
   "metadata": {},
   "outputs": [
    {
     "name": "stdout",
     "output_type": "stream",
     "text": [
      "+---------+------+---+\n",
      "|     NAME|NATION|NUM|\n",
      "+---------+------+---+\n",
      "|    MESSI|   ARG| 10|\n",
      "|  RONALDO|   POR|  7|\n",
      "|   NEYMAR|   BRA| 10|\n",
      "|DE BRUYNE|   BEL| 17|\n",
      "+---------+------+---+\n",
      "\n"
     ]
    }
   ],
   "source": [
    "data.show()"
   ]
  },
  {
   "cell_type": "markdown",
   "id": "a43663df",
   "metadata": {},
   "source": [
    "필터링 방법 중에 where method를 사용하는 방법도 있다.\n",
    "\n",
    "where method를 붙이고 괄호 안에 필요한 조건 절을 작성하면 된다.\n",
    "\n",
    "이 때,\n",
    "\n",
    "- AND --> &\n",
    "- OR --> |"
   ]
  },
  {
   "cell_type": "code",
   "execution_count": 8,
   "id": "68f6bc06",
   "metadata": {},
   "outputs": [
    {
     "name": "stdout",
     "output_type": "stream",
     "text": [
      "+------+------+---+\n",
      "|  NAME|NATION|NUM|\n",
      "+------+------+---+\n",
      "|NEYMAR|   BRA| 10|\n",
      "+------+------+---+\n",
      "\n"
     ]
    }
   ],
   "source": [
    "data.where((data.NUM == 10) & (col('NATION') == 'BRA')).show()"
   ]
  },
  {
   "cell_type": "code",
   "execution_count": 35,
   "id": "a3215e45",
   "metadata": {},
   "outputs": [
    {
     "name": "stdout",
     "output_type": "stream",
     "text": [
      "+-----------------------------------+\n",
      "|regexp_replace(NATION, [A-Z], @, 1)|\n",
      "+-----------------------------------+\n",
      "|                                @@@|\n",
      "|                                @@@|\n",
      "|                                @@@|\n",
      "|                                @@@|\n",
      "+-----------------------------------+\n",
      "\n"
     ]
    }
   ],
   "source": [
    "data.select(regexp_replace(col('NATION'), '[A-Z]', '@')).show()"
   ]
  },
  {
   "cell_type": "markdown",
   "id": "03e984d4",
   "metadata": {},
   "source": [
    "alias를 써보자"
   ]
  },
  {
   "cell_type": "code",
   "execution_count": 36,
   "id": "a20a0689",
   "metadata": {},
   "outputs": [
    {
     "name": "stdout",
     "output_type": "stream",
     "text": [
      "+-------+\n",
      "|MASKING|\n",
      "+-------+\n",
      "|    @@@|\n",
      "|    @@@|\n",
      "|    @@@|\n",
      "|    @@@|\n",
      "+-------+\n",
      "\n"
     ]
    }
   ],
   "source": [
    "data.select(regexp_replace(col('NATION'), '[A-Z]', '@').alias('MASKING')).show()"
   ]
  },
  {
   "cell_type": "markdown",
   "id": "4af24bee",
   "metadata": {},
   "source": [
    "아예 column을 새로 만들어 보자"
   ]
  },
  {
   "cell_type": "code",
   "execution_count": 39,
   "id": "3151fbcc",
   "metadata": {},
   "outputs": [
    {
     "name": "stdout",
     "output_type": "stream",
     "text": [
      "+---------+------+---+-------+\n",
      "|     NAME|NATION|NUM|MASKING|\n",
      "+---------+------+---+-------+\n",
      "|    MESSI|   ARG| 10|    @@@|\n",
      "|  RONALDO|   POR|  7|    @@@|\n",
      "|   NEYMAR|   BRA| 10|    @@@|\n",
      "|DE BRUYNE|   BEL| 17|    @@@|\n",
      "+---------+------+---+-------+\n",
      "\n"
     ]
    }
   ],
   "source": [
    "data = data.withColumn('MASKING', regexp_replace(col('NATION'), '[A-Z]', '@'))\n",
    "data.show()"
   ]
  },
  {
   "cell_type": "markdown",
   "id": "c0949e50",
   "metadata": {},
   "source": [
    "### 사용자 정의 함수(User Defined Functions : UDF)"
   ]
  },
  {
   "cell_type": "code",
   "execution_count": 42,
   "id": "a3e376f9",
   "metadata": {},
   "outputs": [],
   "source": [
    "from pyspark.sql.functions import udf"
   ]
  },
  {
   "cell_type": "code",
   "execution_count": 43,
   "id": "49d0d430",
   "metadata": {},
   "outputs": [],
   "source": [
    "def my_func(x) :\n",
    "    return x ** 3"
   ]
  },
  {
   "cell_type": "code",
   "execution_count": 44,
   "id": "fda65dba",
   "metadata": {},
   "outputs": [],
   "source": [
    "udf_myfunc = udf(my_func)"
   ]
  },
  {
   "cell_type": "code",
   "execution_count": 45,
   "id": "e1904262",
   "metadata": {},
   "outputs": [],
   "source": [
    "data = data.withColumn('Num**3', udf_myfunc(col('NUM')))"
   ]
  },
  {
   "cell_type": "code",
   "execution_count": 46,
   "id": "65fc6f48",
   "metadata": {},
   "outputs": [
    {
     "name": "stdout",
     "output_type": "stream",
     "text": [
      "+---------+------+---+-------+------+\n",
      "|     NAME|NATION|NUM|MASKING|Num**3|\n",
      "+---------+------+---+-------+------+\n",
      "|    MESSI|   ARG| 10|    @@@|  1000|\n",
      "|  RONALDO|   POR|  7|    @@@|   343|\n",
      "|   NEYMAR|   BRA| 10|    @@@|  1000|\n",
      "|DE BRUYNE|   BEL| 17|    @@@|  4913|\n",
      "+---------+------+---+-------+------+\n",
      "\n"
     ]
    }
   ],
   "source": [
    "data.show()"
   ]
  },
  {
   "cell_type": "code",
   "execution_count": 94,
   "id": "a14a62e4",
   "metadata": {},
   "outputs": [],
   "source": [
    "sp = SparkSession.builder.getOrCreate()"
   ]
  },
  {
   "cell_type": "code",
   "execution_count": 108,
   "id": "d3d8f590",
   "metadata": {},
   "outputs": [],
   "source": [
    "data = sp.createDataFrame([\n",
    "    Row(CSNO = 'A300', RELEVANCE = [8, 5, 3, 9], DATE = '0213'),\n",
    "    Row(CSNO = 'A300', RELEVANCE = [3, 1, 6, 4], DATE = '0214')\n",
    "])"
   ]
  },
  {
   "cell_type": "code",
   "execution_count": 109,
   "id": "a006da4c",
   "metadata": {},
   "outputs": [
    {
     "name": "stdout",
     "output_type": "stream",
     "text": [
      "+----+------------+----+\n",
      "|CSNO|   RELEVANCE|DATE|\n",
      "+----+------------+----+\n",
      "|A300|[8, 5, 3, 9]|0213|\n",
      "|A300|[3, 1, 6, 4]|0214|\n",
      "+----+------------+----+\n",
      "\n"
     ]
    }
   ],
   "source": [
    "data.show()"
   ]
  },
  {
   "cell_type": "code",
   "execution_count": 110,
   "id": "bbf9d25b",
   "metadata": {},
   "outputs": [],
   "source": [
    "def get_ideal(x) :\n",
    "    return sorted(x)"
   ]
  },
  {
   "cell_type": "code",
   "execution_count": 111,
   "id": "524dc28f",
   "metadata": {},
   "outputs": [],
   "source": [
    "udf_sort = udf(get_ideal)"
   ]
  },
  {
   "cell_type": "code",
   "execution_count": 112,
   "id": "de8da622",
   "metadata": {},
   "outputs": [],
   "source": [
    "data = data.withColumn('IDEAL', udf_sort(col('RELEVANCE')))"
   ]
  },
  {
   "cell_type": "code",
   "execution_count": 113,
   "id": "6c5396c5",
   "metadata": {},
   "outputs": [
    {
     "name": "stdout",
     "output_type": "stream",
     "text": [
      "+----+------------+----+------------+\n",
      "|CSNO|   RELEVANCE|DATE|       IDEAL|\n",
      "+----+------------+----+------------+\n",
      "|A300|[8, 5, 3, 9]|0213|[3, 5, 8, 9]|\n",
      "|A300|[3, 1, 6, 4]|0214|[1, 3, 4, 6]|\n",
      "+----+------------+----+------------+\n",
      "\n"
     ]
    }
   ],
   "source": [
    "data.show()"
   ]
  },
  {
   "cell_type": "code",
   "execution_count": 114,
   "id": "6cb04c47",
   "metadata": {},
   "outputs": [],
   "source": [
    "def get_CDG(x) :\n",
    "    cdg = 0\n",
    "    for v in x :\n",
    "        cdg += v\n",
    "    return cdg"
   ]
  },
  {
   "cell_type": "code",
   "execution_count": 115,
   "id": "a471eb9a",
   "metadata": {},
   "outputs": [],
   "source": [
    "udf_cdg = udf(get_CDG)"
   ]
  },
  {
   "cell_type": "code",
   "execution_count": 116,
   "id": "3b971080",
   "metadata": {},
   "outputs": [],
   "source": [
    "data = data.withColumn('CDG', udf_cdg(col('RELEVANCE')))"
   ]
  },
  {
   "cell_type": "code",
   "execution_count": 117,
   "id": "59ba57e5",
   "metadata": {},
   "outputs": [
    {
     "name": "stdout",
     "output_type": "stream",
     "text": [
      "+----+------------+----+------------+---+\n",
      "|CSNO|   RELEVANCE|DATE|       IDEAL|CDG|\n",
      "+----+------------+----+------------+---+\n",
      "|A300|[8, 5, 3, 9]|0213|[3, 5, 8, 9]| 25|\n",
      "|A300|[3, 1, 6, 4]|0214|[1, 3, 4, 6]| 14|\n",
      "+----+------------+----+------------+---+\n",
      "\n"
     ]
    }
   ],
   "source": [
    "data.show()"
   ]
  },
  {
   "cell_type": "markdown",
   "id": "3b4d56b8",
   "metadata": {},
   "source": [
    "### LIT(Literal value로 column 생성)"
   ]
  },
  {
   "cell_type": "code",
   "execution_count": 118,
   "id": "7b503656",
   "metadata": {},
   "outputs": [],
   "source": [
    "from pyspark.sql.functions import lit"
   ]
  },
  {
   "cell_type": "code",
   "execution_count": 121,
   "id": "c81be9ce",
   "metadata": {},
   "outputs": [],
   "source": [
    "import datetime"
   ]
  },
  {
   "cell_type": "code",
   "execution_count": 127,
   "id": "e8c171ac",
   "metadata": {},
   "outputs": [
    {
     "name": "stdout",
     "output_type": "stream",
     "text": [
      "+----+------------+----+------------+---+--------+\n",
      "|CSNO|   RELEVANCE|DATE|       IDEAL|CDG|DATETIME|\n",
      "+----+------------+----+------------+---+--------+\n",
      "|A300|[8, 5, 3, 9]|0213|[3, 5, 8, 9]| 25|20220213|\n",
      "|A300|[3, 1, 6, 4]|0214|[1, 3, 4, 6]| 14|20220213|\n",
      "+----+------------+----+------------+---+--------+\n",
      "\n"
     ]
    }
   ],
   "source": [
    "data.withColumn('DATETIME', lit(datetime.datetime.now().strftime('%Y%m%d'))).show()"
   ]
  },
  {
   "cell_type": "code",
   "execution_count": 129,
   "id": "7b44be84",
   "metadata": {
    "scrolled": true
   },
   "outputs": [
    {
     "name": "stdout",
     "output_type": "stream",
     "text": [
      "+----+------------+----+------------+---+-----+\n",
      "|CSNO|   RELEVANCE|DATE|       IDEAL|CDG|INDEX|\n",
      "+----+------------+----+------------+---+-----+\n",
      "|A300|[8, 5, 3, 9]|0213|[3, 5, 8, 9]| 25|    2|\n",
      "|A300|[3, 1, 6, 4]|0214|[1, 3, 4, 6]| 14|    2|\n",
      "+----+------------+----+------------+---+-----+\n",
      "\n"
     ]
    }
   ],
   "source": [
    "data.withColumn('INDEX', lit(2)).show()"
   ]
  }
 ],
 "metadata": {
  "kernelspec": {
   "display_name": "Python 3",
   "language": "python",
   "name": "python3"
  },
  "language_info": {
   "codemirror_mode": {
    "name": "ipython",
    "version": 3
   },
   "file_extension": ".py",
   "mimetype": "text/x-python",
   "name": "python",
   "nbconvert_exporter": "python",
   "pygments_lexer": "ipython3",
   "version": "3.8.8"
  }
 },
 "nbformat": 4,
 "nbformat_minor": 5
}
