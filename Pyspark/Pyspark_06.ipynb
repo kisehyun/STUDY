{
 "cells": [
  {
   "cell_type": "code",
   "execution_count": 76,
   "id": "afc01d22",
   "metadata": {},
   "outputs": [],
   "source": [
    "from pyspark.sql import SparkSession\n",
    "from pyspark.sql import functions as f\n",
    "import pandas as pd"
   ]
  },
  {
   "cell_type": "code",
   "execution_count": 77,
   "id": "f1be8951",
   "metadata": {},
   "outputs": [],
   "source": [
    "spark = SparkSession.builder.getOrCreate()"
   ]
  },
  {
   "cell_type": "code",
   "execution_count": 111,
   "id": "e7d1e3d2",
   "metadata": {},
   "outputs": [],
   "source": [
    "data = pd.DataFrame({'name' : ['John', 'Mike', 'Lisa', 'Paul', 'Serena'], 'age' : [18, 39, 24, 67, 45],\n",
    "                    'income' : [100, 300, 1000, 530, 4300]})"
   ]
  },
  {
   "cell_type": "code",
   "execution_count": 112,
   "id": "6fb9cc57",
   "metadata": {},
   "outputs": [],
   "source": [
    "df = spark.createDataFrame(data)"
   ]
  },
  {
   "cell_type": "code",
   "execution_count": 113,
   "id": "88d1abaa",
   "metadata": {
    "scrolled": true
   },
   "outputs": [
    {
     "name": "stdout",
     "output_type": "stream",
     "text": [
      "+------+---+------+\n",
      "|  name|age|income|\n",
      "+------+---+------+\n",
      "|  John| 18|   100|\n",
      "|  Mike| 39|   300|\n",
      "|  Lisa| 24|  1000|\n",
      "|  Paul| 67|   530|\n",
      "|Serena| 45|  4300|\n",
      "+------+---+------+\n",
      "\n"
     ]
    }
   ],
   "source": [
    "df.show()"
   ]
  },
  {
   "cell_type": "markdown",
   "id": "68c10772",
   "metadata": {},
   "source": [
    "#### dtypes로 각 column별 데이터 타입 확인"
   ]
  },
  {
   "cell_type": "code",
   "execution_count": 114,
   "id": "61607951",
   "metadata": {
    "scrolled": true
   },
   "outputs": [
    {
     "data": {
      "text/plain": [
       "[('name', 'string'), ('age', 'bigint'), ('income', 'bigint')]"
      ]
     },
     "execution_count": 114,
     "metadata": {},
     "output_type": "execute_result"
    }
   ],
   "source": [
    "df.dtypes"
   ]
  },
  {
   "cell_type": "markdown",
   "id": "d72b7498",
   "metadata": {},
   "source": [
    "#### printSchema로  dtypes와 비슷하긴 하지만 Tree 형태로 column별 데이터 타입 반환"
   ]
  },
  {
   "cell_type": "code",
   "execution_count": 115,
   "id": "01211b5a",
   "metadata": {},
   "outputs": [
    {
     "name": "stdout",
     "output_type": "stream",
     "text": [
      "root\n",
      " |-- name: string (nullable = true)\n",
      " |-- age: long (nullable = true)\n",
      " |-- income: long (nullable = true)\n",
      "\n"
     ]
    }
   ],
   "source": [
    "df.printSchema()"
   ]
  },
  {
   "cell_type": "markdown",
   "id": "8f22938b",
   "metadata": {},
   "source": [
    "#### replace는 대체 할 값, 대체 값, subset 형태로 가능하다.\n",
    "- 단, 동일한 데이터 타입간의 변환만 가능하다."
   ]
  },
  {
   "cell_type": "code",
   "execution_count": 116,
   "id": "6868229a",
   "metadata": {},
   "outputs": [
    {
     "name": "stdout",
     "output_type": "stream",
     "text": [
      "+------+---+------+\n",
      "|  name|age|income|\n",
      "+------+---+------+\n",
      "|  John| 18|   100|\n",
      "|  Mike| 39|   300|\n",
      "|  Lisa| 24|  1000|\n",
      "|  Paul| 60|   530|\n",
      "|Serena| 45|  4300|\n",
      "+------+---+------+\n",
      "\n"
     ]
    }
   ],
   "source": [
    "df.replace(67, 60, 'age').show()"
   ]
  },
  {
   "cell_type": "markdown",
   "id": "fc641087",
   "metadata": {},
   "source": [
    "#### summary는 describe와 기능이 유사하다."
   ]
  },
  {
   "cell_type": "code",
   "execution_count": 117,
   "id": "4f6ef8d9",
   "metadata": {},
   "outputs": [
    {
     "name": "stdout",
     "output_type": "stream",
     "text": [
      "+-------+------+------------------+------------------+\n",
      "|summary|  name|               age|            income|\n",
      "+-------+------+------------------+------------------+\n",
      "|  count|     5|                 5|                 5|\n",
      "|   mean|  null|              38.6|            1246.0|\n",
      "| stddev|  null|19.269146322554096|1739.8505682960247|\n",
      "|    min|  John|                18|               100|\n",
      "|    25%|  null|                24|               300|\n",
      "|    50%|  null|                39|               530|\n",
      "|    75%|  null|                45|              1000|\n",
      "|    max|Serena|                67|              4300|\n",
      "+-------+------+------------------+------------------+\n",
      "\n"
     ]
    }
   ],
   "source": [
    "df.summary().show()"
   ]
  },
  {
   "cell_type": "markdown",
   "id": "62520779",
   "metadata": {},
   "source": [
    "#### between은 True or False로 값을 반환한다."
   ]
  },
  {
   "cell_type": "code",
   "execution_count": 118,
   "id": "8b0a1345",
   "metadata": {},
   "outputs": [
    {
     "name": "stdout",
     "output_type": "stream",
     "text": [
      "+------+---+------+-----+\n",
      "|  name|age|income| High|\n",
      "+------+---+------+-----+\n",
      "|  John| 18|   100|false|\n",
      "|  Mike| 39|   300|false|\n",
      "|  Lisa| 24|  1000| true|\n",
      "|  Paul| 67|   530|false|\n",
      "|Serena| 45|  4300| true|\n",
      "+------+---+------+-----+\n",
      "\n"
     ]
    }
   ],
   "source": [
    "df.withColumn('High', df.income.between(1000,4500)).show()"
   ]
  },
  {
   "cell_type": "markdown",
   "id": "c52eaabe",
   "metadata": {},
   "source": [
    "#### contains는 특정 값을 포함하는지에 대한 여부를 반환한다."
   ]
  },
  {
   "cell_type": "code",
   "execution_count": 119,
   "id": "02832320",
   "metadata": {},
   "outputs": [
    {
     "data": {
      "text/plain": [
       "Column<'contains(name, e)'>"
      ]
     },
     "execution_count": 119,
     "metadata": {},
     "output_type": "execute_result"
    }
   ],
   "source": [
    "df.name.contains('e')"
   ]
  },
  {
   "cell_type": "markdown",
   "id": "07e1457a",
   "metadata": {},
   "source": [
    "column형태로 반환되면 filter문과 함께 쓰면 된다."
   ]
  },
  {
   "cell_type": "code",
   "execution_count": 124,
   "id": "e02634b4",
   "metadata": {},
   "outputs": [
    {
     "name": "stdout",
     "output_type": "stream",
     "text": [
      "+------+---+------+\n",
      "|  name|age|income|\n",
      "+------+---+------+\n",
      "|  Mike| 39|   300|\n",
      "|Serena| 45|  4300|\n",
      "+------+---+------+\n",
      "\n"
     ]
    }
   ],
   "source": [
    "df.filter(df.name.contains('e')).show()"
   ]
  },
  {
   "cell_type": "code",
   "execution_count": 126,
   "id": "779f1ea9",
   "metadata": {},
   "outputs": [
    {
     "name": "stdout",
     "output_type": "stream",
     "text": [
      "+----+---+------+\n",
      "|name|age|income|\n",
      "+----+---+------+\n",
      "|John| 18|   100|\n",
      "|Mike| 39|   300|\n",
      "|Lisa| 24|  1000|\n",
      "|Paul| 67|   530|\n",
      "+----+---+------+\n",
      "\n"
     ]
    }
   ],
   "source": [
    "df.filter(df.income.between(0,1000)).show()"
   ]
  },
  {
   "cell_type": "markdown",
   "id": "217a4d9b",
   "metadata": {},
   "source": [
    "#### when은 조건절, 만족할 때 값으로 지정하여 사용한다."
   ]
  },
  {
   "cell_type": "code",
   "execution_count": 130,
   "id": "435ecd6f",
   "metadata": {},
   "outputs": [
    {
     "name": "stdout",
     "output_type": "stream",
     "text": [
      "+---------------------------------------------------------+\n",
      "|CASE WHEN ((age >= 20) AND (age <= 29)) THEN 1 ELSE 0 END|\n",
      "+---------------------------------------------------------+\n",
      "|                                                        0|\n",
      "|                                                        0|\n",
      "|                                                        1|\n",
      "|                                                        0|\n",
      "|                                                        0|\n",
      "+---------------------------------------------------------+\n",
      "\n"
     ]
    }
   ],
   "source": [
    "df.select(f.when(df.age.between(20, 29), 1).otherwise(0)).show()"
   ]
  },
  {
   "cell_type": "code",
   "execution_count": 131,
   "id": "6af3cdb3",
   "metadata": {},
   "outputs": [
    {
     "name": "stdout",
     "output_type": "stream",
     "text": [
      "+----+---+------+\n",
      "|name|age|income|\n",
      "+----+---+------+\n",
      "|Lisa| 24|  1000|\n",
      "+----+---+------+\n",
      "\n"
     ]
    }
   ],
   "source": [
    "df.filter(df.age.between(20, 29)).show()"
   ]
  }
 ],
 "metadata": {
  "kernelspec": {
   "display_name": "Python 3",
   "language": "python",
   "name": "python3"
  },
  "language_info": {
   "codemirror_mode": {
    "name": "ipython",
    "version": 3
   },
   "file_extension": ".py",
   "mimetype": "text/x-python",
   "name": "python",
   "nbconvert_exporter": "python",
   "pygments_lexer": "ipython3",
   "version": "3.8.8"
  }
 },
 "nbformat": 4,
 "nbformat_minor": 5
}
