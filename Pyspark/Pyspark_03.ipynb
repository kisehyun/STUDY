{
 "cells": [
  {
   "cell_type": "code",
   "execution_count": 1,
   "metadata": {
    "id": "2ZleacpAQXMC"
   },
   "outputs": [],
   "source": [
    "from pyspark.sql import SparkSession\n",
    "from pyspark.sql.functions import col\n",
    "import pandas as pd\n",
    "import numpy as np"
   ]
  },
  {
   "cell_type": "code",
   "execution_count": 2,
   "metadata": {
    "id": "jiSlBZzdR3kA"
   },
   "outputs": [],
   "source": [
    "data = pd.DataFrame({'A' : [1, 2, 3],\n",
    "                   'B' : [10.5, 23.8, 74.9],\n",
    "                   'C' : ['apple', 'orange', 'banana']})"
   ]
  },
  {
   "cell_type": "code",
   "execution_count": 3,
   "metadata": {
    "id": "oqAzOKstSEAp"
   },
   "outputs": [],
   "source": [
    "spark = SparkSession.builder.getOrCreate()"
   ]
  },
  {
   "cell_type": "code",
   "execution_count": 18,
   "metadata": {
    "id": "7Yo5-HIbSMB2"
   },
   "outputs": [],
   "source": [
    "df = spark.createDataFrame(data)"
   ]
  },
  {
   "cell_type": "code",
   "execution_count": 19,
   "metadata": {
    "colab": {
     "base_uri": "https://localhost:8080/"
    },
    "id": "PD8bb37_SOMw",
    "outputId": "6d661e84-4784-4495-e200-e6c5f1fe4241",
    "scrolled": false
   },
   "outputs": [
    {
     "name": "stdout",
     "output_type": "stream",
     "text": [
      "+---+----+------+\n",
      "|  A|   B|     C|\n",
      "+---+----+------+\n",
      "|  1|10.5| apple|\n",
      "|  2|23.8|orange|\n",
      "|  3|74.9|banana|\n",
      "+---+----+------+\n",
      "\n"
     ]
    }
   ],
   "source": [
    "df.show()"
   ]
  },
  {
   "cell_type": "markdown",
   "metadata": {},
   "source": [
    "새로운 column을 생성해보자.\n",
    "\n",
    "new_A라는 column은 기존의 A라는 컬럼에 있는 값에 3을 더한 값들의 집합이다."
   ]
  },
  {
   "cell_type": "code",
   "execution_count": 6,
   "metadata": {
    "id": "CiagPODtSOrt"
   },
   "outputs": [],
   "source": [
    "df1 = df.withColumn('new_A', col('A') + 3)"
   ]
  },
  {
   "cell_type": "code",
   "execution_count": 7,
   "metadata": {
    "colab": {
     "base_uri": "https://localhost:8080/"
    },
    "id": "_3_xhEkUTHPU",
    "outputId": "39fced8a-fd6b-46d3-a262-cd9e064981c8",
    "scrolled": true
   },
   "outputs": [
    {
     "name": "stdout",
     "output_type": "stream",
     "text": [
      "+---+----+------+-----+\n",
      "|  A|   B|     C|new_A|\n",
      "+---+----+------+-----+\n",
      "|  1|10.5| apple|    4|\n",
      "|  2|23.8|orange|    5|\n",
      "|  3|74.9|banana|    6|\n",
      "+---+----+------+-----+\n",
      "\n"
     ]
    }
   ],
   "source": [
    "df1.show()"
   ]
  },
  {
   "cell_type": "markdown",
   "metadata": {},
   "source": [
    "커스텀 함수를 적용할 수도 있다."
   ]
  },
  {
   "cell_type": "code",
   "execution_count": 9,
   "metadata": {
    "id": "gGxdnJOQTPx6"
   },
   "outputs": [],
   "source": [
    "def get_new_col(x) :\n",
    "    return x ** 0.5"
   ]
  },
  {
   "cell_type": "code",
   "execution_count": 10,
   "metadata": {
    "id": "1lADMrx4TwYu"
   },
   "outputs": [],
   "source": [
    "df2 = df.withColumn('new_C', get_new_col(col('B')))"
   ]
  },
  {
   "cell_type": "code",
   "execution_count": 11,
   "metadata": {
    "colab": {
     "base_uri": "https://localhost:8080/"
    },
    "id": "15-m_xlnR26r",
    "outputId": "0a4b8777-a8cc-4ff5-fbd5-8bb526a4efef"
   },
   "outputs": [
    {
     "name": "stdout",
     "output_type": "stream",
     "text": [
      "+---+----+------+-----------------+\n",
      "|  A|   B|     C|            new_C|\n",
      "+---+----+------+-----------------+\n",
      "|  1|10.5| apple| 3.24037034920393|\n",
      "|  2|23.8|orange|4.878524367060187|\n",
      "|  3|74.9|banana|8.654478609367523|\n",
      "+---+----+------+-----------------+\n",
      "\n"
     ]
    }
   ],
   "source": [
    "df2.show()"
   ]
  },
  {
   "cell_type": "code",
   "execution_count": 15,
   "metadata": {
    "colab": {
     "base_uri": "https://localhost:8080/"
    },
    "id": "8RwwNJDwUfBA",
    "outputId": "1e664cda-74e2-456f-b756-4d85b49042db"
   },
   "outputs": [
    {
     "name": "stdout",
     "output_type": "stream",
     "text": [
      "+---+----+------+\n",
      "|  A|   B|     C|\n",
      "+---+----+------+\n",
      "|  3|74.9|banana|\n",
      "+---+----+------+\n",
      "\n"
     ]
    }
   ],
   "source": [
    "df3 = df.filter(col('C') == 'banana')\n",
    "df3.show()"
   ]
  },
  {
   "cell_type": "code",
   "execution_count": 20,
   "metadata": {},
   "outputs": [],
   "source": [
    "cols = df.columns"
   ]
  },
  {
   "cell_type": "code",
   "execution_count": 21,
   "metadata": {},
   "outputs": [
    {
     "data": {
      "text/plain": [
       "['A', 'B', 'C']"
      ]
     },
     "execution_count": 21,
     "metadata": {},
     "output_type": "execute_result"
    }
   ],
   "source": [
    "cols"
   ]
  },
  {
   "cell_type": "code",
   "execution_count": 24,
   "metadata": {},
   "outputs": [
    {
     "name": "stdout",
     "output_type": "stream",
     "text": [
      "+---+\n",
      "|  A|\n",
      "+---+\n",
      "|  1|\n",
      "|  2|\n",
      "|  3|\n",
      "+---+\n",
      "\n"
     ]
    }
   ],
   "source": [
    "df.select(cols[0]).show()"
   ]
  }
 ],
 "metadata": {
  "colab": {
   "collapsed_sections": [],
   "name": "Pyspark_03.ipynb",
   "provenance": []
  },
  "kernelspec": {
   "display_name": "Python 3",
   "language": "python",
   "name": "python3"
  },
  "language_info": {
   "codemirror_mode": {
    "name": "ipython",
    "version": 3
   },
   "file_extension": ".py",
   "mimetype": "text/x-python",
   "name": "python",
   "nbconvert_exporter": "python",
   "pygments_lexer": "ipython3",
   "version": "3.8.8"
  }
 },
 "nbformat": 4,
 "nbformat_minor": 1
}
