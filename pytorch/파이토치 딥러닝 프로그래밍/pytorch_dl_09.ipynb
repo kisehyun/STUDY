{
  "cells": [
    {
      "cell_type": "markdown",
      "id": "3c5806f6",
      "metadata": {
        "id": "3c5806f6"
      },
      "source": [
        "선형 함수의 층을 아무리 깊게 쌓더라도 결국 하나의 층으로 이뤄진 모델과 수학적으로 차이가 없다.\n",
        "\n",
        "깊어진 신경망이 유의미하기 위해서는 선형 함수를 통한 계산 결과에 비선형 함수가 적용되어야 한다."
      ]
    },
    {
      "cell_type": "code",
      "execution_count": 1,
      "id": "28129d5f",
      "metadata": {
        "id": "28129d5f"
      },
      "outputs": [],
      "source": [
        "import torch\n",
        "import torch.nn as nn\n",
        "\n",
        "import numpy as np\n",
        "\n",
        "import matplotlib.pyplot as plt\n",
        "%matplotlib inline"
      ]
    },
    {
      "cell_type": "code",
      "execution_count": null,
      "id": "cf5fca9e",
      "metadata": {
        "id": "cf5fca9e"
      },
      "outputs": [],
      "source": [
        "relu = nn.ReLU()\n",
        "x = np.arange(-2, 2.1, 0.25)\n",
        "x = torch.tensor(x).float()\n",
        "y = relu(x)"
      ]
    },
    {
      "cell_type": "code",
      "execution_count": null,
      "id": "7f74e0d3",
      "metadata": {
        "scrolled": true,
        "colab": {
          "base_uri": "https://localhost:8080/",
          "height": 281
        },
        "id": "7f74e0d3",
        "outputId": "4e66fd24-d2b7-4a9b-cf43-e6b96d2e8b17"
      },
      "outputs": [
        {
          "output_type": "display_data",
          "data": {
            "text/plain": [
              "<Figure size 432x288 with 1 Axes>"
            ],
            "image/png": "[encoded data removed]"
          },
          "metadata": {
            "needs_background": "light"
          }
        }
      ],
      "source": [
        "plt.plot(x.data, y.data)\n",
        "plt.title('ReLU')\n",
        "plt.show()"
      ]
    },
    {
      "cell_type": "markdown",
      "id": "4a5bc46a",
      "metadata": {
        "id": "4a5bc46a"
      },
      "source": [
        "$x < 0$에서는 0, $x >= 0$에서는 $y = x$인 매우 간단한 함수\n",
        "***\n",
        "## GPU 사용 규칙\n",
        "\n",
        "- 텐서 변수는 데이터가 CPU와 GPU 중 어디에 속하는지를 속성으로 갖는다.\n",
        "- CPU와 GPU 사이에서 데이터는 to 함수로 전송한다.\n",
        "- 두 개의 변수가 모두 GPU에 올라가 있는 경우 연산은 GPU로 수행한다.\n",
        "- 두 변수 중 한쪽이 CPU 다른 한 쪽이 GPU에 올라가 있는 경우 연산은 에러가 발생한다."
      ]
    },
    {
      "cell_type": "code",
      "execution_count": 2,
      "id": "b45caa25",
      "metadata": {
        "id": "b45caa25"
      },
      "outputs": [],
      "source": [
        "device = torch.device('cuda:0' if torch.cuda.is_available() else 'cpu')"
      ]
    },
    {
      "cell_type": "code",
      "source": [
        "device"
      ],
      "metadata": {
        "colab": {
          "base_uri": "https://localhost:8080/"
        },
        "id": "T5KVtGgyFxhD",
        "outputId": "e8249cff-6e9d-4e8c-d444-5c1b2ffe3d84"
      },
      "id": "T5KVtGgyFxhD",
      "execution_count": 3,
      "outputs": [
        {
          "output_type": "execute_result",
          "data": {
            "text/plain": [
              "device(type='cuda', index=0)"
            ]
          },
          "metadata": {},
          "execution_count": 3
        }
      ]
    },
    {
      "cell_type": "code",
      "source": [
        "x = np.arange(-2, 2.1, 0.25)\n",
        "y = np.arange(-1, 3.1, 0.25)"
      ],
      "metadata": {
        "id": "-D5NABEKFx_P"
      },
      "id": "-D5NABEKFx_P",
      "execution_count": null,
      "outputs": []
    },
    {
      "cell_type": "code",
      "source": [
        "x = torch.tensor(x).float()\n",
        "y = torch.tensor(y).float()"
      ],
      "metadata": {
        "id": "R1FUQtl8GQ-6"
      },
      "id": "R1FUQtl8GQ-6",
      "execution_count": null,
      "outputs": []
    },
    {
      "cell_type": "code",
      "source": [
        "z = x + y"
      ],
      "metadata": {
        "id": "sqyjbipaGUPY"
      },
      "id": "sqyjbipaGUPY",
      "execution_count": null,
      "outputs": []
    },
    {
      "cell_type": "code",
      "source": [
        "z"
      ],
      "metadata": {
        "colab": {
          "base_uri": "https://localhost:8080/"
        },
        "id": "_4KGGYgIGWkd",
        "outputId": "53d5cba4-643e-4f6b-965e-8f35d0ff2d09"
      },
      "id": "_4KGGYgIGWkd",
      "execution_count": null,
      "outputs": [
        {
          "output_type": "execute_result",
          "data": {
            "text/plain": [
              "tensor([-3.0000, -2.5000, -2.0000, -1.5000, -1.0000, -0.5000,  0.0000,  0.5000,\n",
              "         1.0000,  1.5000,  2.0000,  2.5000,  3.0000,  3.5000,  4.0000,  4.5000,\n",
              "         5.0000])"
            ]
          },
          "metadata": {},
          "execution_count": 10
        }
      ]
    },
    {
      "cell_type": "code",
      "source": [
        "z.device"
      ],
      "metadata": {
        "colab": {
          "base_uri": "https://localhost:8080/"
        },
        "id": "V-0hFDOZGV8X",
        "outputId": "5c227353-50ee-40c5-fb34-fbd48e405e13"
      },
      "id": "V-0hFDOZGV8X",
      "execution_count": null,
      "outputs": [
        {
          "output_type": "execute_result",
          "data": {
            "text/plain": [
              "device(type='cpu')"
            ]
          },
          "metadata": {},
          "execution_count": 12
        }
      ]
    },
    {
      "cell_type": "code",
      "source": [
        "x = x.to(device)"
      ],
      "metadata": {
        "id": "r7OntnWLGYCq"
      },
      "id": "r7OntnWLGYCq",
      "execution_count": null,
      "outputs": []
    },
    {
      "cell_type": "code",
      "source": [
        "x.device, y.device"
      ],
      "metadata": {
        "colab": {
          "base_uri": "https://localhost:8080/"
        },
        "id": "1p-2rFzUGdyP",
        "outputId": "262e5e80-91ca-4448-f49a-0ea14690503c"
      },
      "id": "1p-2rFzUGdyP",
      "execution_count": null,
      "outputs": [
        {
          "output_type": "execute_result",
          "data": {
            "text/plain": [
              "(device(type='cuda', index=0), device(type='cpu'))"
            ]
          },
          "metadata": {},
          "execution_count": 14
        }
      ]
    },
    {
      "cell_type": "code",
      "source": [
        "x + y # 이 상태에서 x와 y의 연산을 수행하면 에러 발생"
      ],
      "metadata": {
        "colab": {
          "base_uri": "https://localhost:8080/",
          "height": 164
        },
        "id": "bYl3qyikGfSi",
        "outputId": "398b06a2-0761-407c-a23f-123bfa4ab117"
      },
      "id": "bYl3qyikGfSi",
      "execution_count": null,
      "outputs": [
        {
          "output_type": "error",
          "ename": "RuntimeError",
          "evalue": "ignored",
          "traceback": [
            "\u001b[0;31m---------------------------------------------------------------------------\u001b[0m",
            "\u001b[0;31mRuntimeError\u001b[0m                              Traceback (most recent call last)",
            "\u001b[0;32m<ipython-input-15-cd60f97aa77f>\u001b[0m in \u001b[0;36m<module>\u001b[0;34m\u001b[0m\n\u001b[0;32m----> 1\u001b[0;31m \u001b[0mx\u001b[0m \u001b[0;34m+\u001b[0m \u001b[0my\u001b[0m\u001b[0;34m\u001b[0m\u001b[0;34m\u001b[0m\u001b[0m\n\u001b[0m",
            "\u001b[0;31mRuntimeError\u001b[0m: Expected all tensors to be on the same device, but found at least two devices, cuda:0 and cpu!"
          ]
        }
      ]
    },
    {
      "cell_type": "code",
      "source": [
        "y = y.to(device)"
      ],
      "metadata": {
        "id": "Jzq7vxNHGhJu"
      },
      "id": "Jzq7vxNHGhJu",
      "execution_count": null,
      "outputs": []
    },
    {
      "cell_type": "code",
      "source": [
        "x + y"
      ],
      "metadata": {
        "colab": {
          "base_uri": "https://localhost:8080/"
        },
        "id": "DOxyRZV8Grkq",
        "outputId": "eebdaed8-b81d-40df-d2ea-2be71d4fde50"
      },
      "id": "DOxyRZV8Grkq",
      "execution_count": null,
      "outputs": [
        {
          "output_type": "execute_result",
          "data": {
            "text/plain": [
              "tensor([-3.0000, -2.5000, -2.0000, -1.5000, -1.0000, -0.5000,  0.0000,  0.5000,\n",
              "         1.0000,  1.5000,  2.0000,  2.5000,  3.0000,  3.5000,  4.0000,  4.5000,\n",
              "         5.0000], device='cuda:0')"
            ]
          },
          "metadata": {},
          "execution_count": 17
        }
      ]
    },
    {
      "cell_type": "markdown",
      "source": [
        "***\n",
        "## 데이터 준비\n",
        "\n",
        "- 데이터 입수 : Dataset\n",
        "- 데이터 전처리 : Transforms\n",
        "- 미니 배치용 데이터셋 생성 : DataLoader\n",
        "\n",
        "\n",
        "### 1. 데이터 입수"
      ],
      "metadata": {
        "id": "wHlKEvOEG6Dw"
      },
      "id": "wHlKEvOEG6Dw"
    },
    {
      "cell_type": "code",
      "source": [
        "import torchvision.datasets as datasets"
      ],
      "metadata": {
        "id": "OFQcczlJHANH"
      },
      "id": "OFQcczlJHANH",
      "execution_count": 4,
      "outputs": []
    },
    {
      "cell_type": "code",
      "source": [
        "data_root = './data'"
      ],
      "metadata": {
        "id": "VMV3b34DHGRi"
      },
      "id": "VMV3b34DHGRi",
      "execution_count": 5,
      "outputs": []
    },
    {
      "cell_type": "code",
      "source": [
        "train = datasets.MNIST(root = data_root, train = True, download = True)"
      ],
      "metadata": {
        "colab": {
          "base_uri": "https://localhost:8080/",
          "height": 437,
          "referenced_widgets": [
            "74bf9d4bf0414c4c889d4b6b0e5b4a5b",
            "1d3d470f8d5a4cd5a8bc311024e6de05",
            "f731b44baa9d486f88b18dc4b11916b3",
            "7c956ae7defa46ef8ea730515acc7976",
            "064c8cc1291041f59e2583984a36baba",
            "29f3c4e6e7984aa4a94bea96bde15322",
            "0b9e4af28ed2476db85dfba1deba9a8c",
            "b159a80ebe5a410f9e9b523f7795ecfd",
            "ea63916e392b46f193b1b16f5c0a9daa",
            "39bfa86799fa44398879e49bc0bd7d31",
            "89e60226aae7476b970307a89f0eef09",
            "d2e988d3a4ab45c0ada37a8db2fcf1d2",
            "a6b6a62bcd924e6bba05a04799d24e00",
            "9b5d49d289a44dce88dddddae633dde4",
            "3d94cddd403c42319be3391f111de343",
            "d1481c6946754f20a58ec77a2f0ed0c9",
            "9c16c226469a41e2982bebea7052b7d7",
            "a3d511d1179440d0ae9626767e33a3e9",
            "898f433dbe64411b864fbbcb124dd8ad",
            "0fa27e9dfbf54f7caba2de25ee4f3f20",
            "e9c9886f4c7041f4a96fe15512b36826",
            "62a10a1ee9ae485aaeeac3ba257aafbd",
            "dfdf347b867143eeb8e40d8135a1a342",
            "71769e2696bc4b2281c9ca45e9c470bf",
            "79d612c7660b4b2f827b3433ecd5c9bc",
            "17034cf9315a479dad1720817c64e888",
            "bd2947332232491794070c627a537abd",
            "8e0a08e6e7124756a44be5fb34d1e0e9",
            "2d6de4785d334308975b011d67502c01",
            "7388b485959f4ce993bb9cde6e00b838",
            "cb50449ecfa84426895dff2f432769b3",
            "6ef5f04fc39548568f436265eb2677bf",
            "11267993a5a9464593768f2960a2d9ac",
            "86259dcc2ed345b9b33840fecc5754cf",
            "18265323e26d44e59a74f4f5fee9eba8",
            "a9df3286546b47f9bcb3c20499b3f8c0",
            "11b5e54d0d094482a3e787c73f99858d",
            "6fe5f40623df41439e981d671a564805",
            "a26466bf656f43a6bf6201ff73baff9f",
            "ba322251a0be4016b0f9d99b65b0e7f2",
            "bf4cec976c364e2b9cee5e549b21f746",
            "34d4aaccbd004a1eb208e756b7ee70e0",
            "44836dd27d1044d7aa8a795f91465830",
            "166b339360db4e6d9636b3374e95ebef"
          ]
        },
        "id": "ZWAigSTcHJH0",
        "outputId": "c2ff928b-a063-4c4d-ab03-eb738339b616"
      },
      "id": "ZWAigSTcHJH0",
      "execution_count": 5,
      "outputs": [
        {
          "output_type": "stream",
          "name": "stdout",
          "text": [
            "Downloading http://yann.lecun.com/exdb/mnist/train-images-idx3-ubyte.gz\n",
            "Downloading http://yann.lecun.com/exdb/mnist/train-images-idx3-ubyte.gz to ./data/MNIST/raw/train-images-idx3-ubyte.gz\n"
          ]
        },
        {
          "output_type": "display_data",
          "data": {
            "text/plain": [
              "  0%|          | 0/9912422 [00:00<?, ?it/s]"
            ],
            "application/vnd.jupyter.widget-view+json": {
              "version_major": 2,
              "version_minor": 0,
              "model_id": "74bf9d4bf0414c4c889d4b6b0e5b4a5b"
            }
          },
          "metadata": {}
        },
        {
          "output_type": "stream",
          "name": "stdout",
          "text": [
            "Extracting ./data/MNIST/raw/train-images-idx3-ubyte.gz to ./data/MNIST/raw\n",
            "\n",
            "Downloading http://yann.lecun.com/exdb/mnist/train-labels-idx1-ubyte.gz\n",
            "Downloading http://yann.lecun.com/exdb/mnist/train-labels-idx1-ubyte.gz to ./data/MNIST/raw/train-labels-idx1-ubyte.gz\n"
          ]
        },
        {
          "output_type": "display_data",
          "data": {
            "text/plain": [
              "  0%|          | 0/28881 [00:00<?, ?it/s]"
            ],
            "application/vnd.jupyter.widget-view+json": {
              "version_major": 2,
              "version_minor": 0,
              "model_id": "d2e988d3a4ab45c0ada37a8db2fcf1d2"
            }
          },
          "metadata": {}
        },
        {
          "output_type": "stream",
          "name": "stdout",
          "text": [
            "Extracting ./data/MNIST/raw/train-labels-idx1-ubyte.gz to ./data/MNIST/raw\n",
            "\n",
            "Downloading http://yann.lecun.com/exdb/mnist/t10k-images-idx3-ubyte.gz\n",
            "Downloading http://yann.lecun.com/exdb/mnist/t10k-images-idx3-ubyte.gz to ./data/MNIST/raw/t10k-images-idx3-ubyte.gz\n"
          ]
        },
        {
          "output_type": "display_data",
          "data": {
            "text/plain": [
              "  0%|          | 0/1648877 [00:00<?, ?it/s]"
            ],
            "application/vnd.jupyter.widget-view+json": {
              "version_major": 2,
              "version_minor": 0,
              "model_id": "dfdf347b867143eeb8e40d8135a1a342"
            }
          },
          "metadata": {}
        },
        {
          "output_type": "stream",
          "name": "stdout",
          "text": [
            "Extracting ./data/MNIST/raw/t10k-images-idx3-ubyte.gz to ./data/MNIST/raw\n",
            "\n",
            "Downloading http://yann.lecun.com/exdb/mnist/t10k-labels-idx1-ubyte.gz\n",
            "Downloading http://yann.lecun.com/exdb/mnist/t10k-labels-idx1-ubyte.gz to ./data/MNIST/raw/t10k-labels-idx1-ubyte.gz\n"
          ]
        },
        {
          "output_type": "display_data",
          "data": {
            "text/plain": [
              "  0%|          | 0/4542 [00:00<?, ?it/s]"
            ],
            "application/vnd.jupyter.widget-view+json": {
              "version_major": 2,
              "version_minor": 0,
              "model_id": "86259dcc2ed345b9b33840fecc5754cf"
            }
          },
          "metadata": {}
        },
        {
          "output_type": "stream",
          "name": "stdout",
          "text": [
            "Extracting ./data/MNIST/raw/t10k-labels-idx1-ubyte.gz to ./data/MNIST/raw\n",
            "\n"
          ]
        }
      ]
    },
    {
      "cell_type": "code",
      "source": [
        "!ls -lR ./data/MNIST"
      ],
      "metadata": {
        "colab": {
          "base_uri": "https://localhost:8080/"
        },
        "id": "8pQqup_wHO7a",
        "outputId": "f40bc824-0cd5-4bb5-ffb4-85953d2f709e"
      },
      "id": "8pQqup_wHO7a",
      "execution_count": 6,
      "outputs": [
        {
          "output_type": "stream",
          "name": "stdout",
          "text": [
            "./data/MNIST:\n",
            "total 4\n",
            "drwxr-xr-x 2 root root 4096 Jan  2 12:34 raw\n",
            "\n",
            "./data/MNIST/raw:\n",
            "total 65008\n",
            "-rw-r--r-- 1 root root  7840016 Jan  2 12:34 t10k-images-idx3-ubyte\n",
            "-rw-r--r-- 1 root root  1648877 Jan  2 12:34 t10k-images-idx3-ubyte.gz\n",
            "-rw-r--r-- 1 root root    10008 Jan  2 12:34 t10k-labels-idx1-ubyte\n",
            "-rw-r--r-- 1 root root     4542 Jan  2 12:34 t10k-labels-idx1-ubyte.gz\n",
            "-rw-r--r-- 1 root root 47040016 Jan  2 12:34 train-images-idx3-ubyte\n",
            "-rw-r--r-- 1 root root  9912422 Jan  2 12:34 train-images-idx3-ubyte.gz\n",
            "-rw-r--r-- 1 root root    60008 Jan  2 12:34 train-labels-idx1-ubyte\n",
            "-rw-r--r-- 1 root root    28881 Jan  2 12:34 train-labels-idx1-ubyte.gz\n"
          ]
        }
      ]
    },
    {
      "cell_type": "code",
      "source": [
        "print(f\"데이터 수는 {len(train)}개\")"
      ],
      "metadata": {
        "colab": {
          "base_uri": "https://localhost:8080/"
        },
        "id": "L91D9F3kGsE-",
        "outputId": "f48473da-08e9-4b51-8174-d4b2fb832ead"
      },
      "id": "L91D9F3kGsE-",
      "execution_count": 7,
      "outputs": [
        {
          "output_type": "stream",
          "name": "stdout",
          "text": [
            "데이터 수는 60000개\n"
          ]
        }
      ]
    },
    {
      "cell_type": "code",
      "source": [
        "image, label = train[0]"
      ],
      "metadata": {
        "id": "XWTvV2wvIydM"
      },
      "id": "XWTvV2wvIydM",
      "execution_count": 8,
      "outputs": []
    },
    {
      "cell_type": "code",
      "source": [
        "plt.title(f'Label is {label}.')\n",
        "plt.imshow(image, cmap = 'gray_r')\n",
        "plt.show()"
      ],
      "metadata": {
        "colab": {
          "base_uri": "https://localhost:8080/",
          "height": 281
        },
        "id": "9AWUwK-jI4dn",
        "outputId": "6d12071b-4d87-4253-a434-006d5568945a"
      },
      "id": "9AWUwK-jI4dn",
      "execution_count": 9,
      "outputs": [
        {
          "output_type": "display_data",
          "data": {
            "text/plain": [
              "<Figure size 432x288 with 1 Axes>"
            ],
            "image/png": "[encoded data removed]"
          },
          "metadata": {
            "needs_background": "light"
          }
        }
      ]
    },
    {
      "cell_type": "markdown",
      "source": [
        "### 2. 데이터 전처리(Transforms)\n",
        "\n",
        "- ToTensor : 텐서 형식으로 데이터를 변환해준다."
      ],
      "metadata": {
        "id": "A2UwA_tnJbQh"
      },
      "id": "A2UwA_tnJbQh"
    },
    {
      "cell_type": "code",
      "source": [
        "import torchvision.transforms as transforms"
      ],
      "metadata": {
        "id": "E3eFc3f6I4uS"
      },
      "id": "E3eFc3f6I4uS",
      "execution_count": 6,
      "outputs": []
    },
    {
      "cell_type": "code",
      "source": [
        "transform1 = transforms.Compose([\n",
        "    transforms.ToTensor(),\n",
        "])"
      ],
      "metadata": {
        "id": "Y7UD8g5cezdI"
      },
      "id": "Y7UD8g5cezdI",
      "execution_count": 11,
      "outputs": []
    },
    {
      "cell_type": "code",
      "source": [
        "train_set1 = datasets.MNIST(root = data_root, train = True, download = True, transform = transform1)"
      ],
      "metadata": {
        "id": "lBIvTGZWfOZJ"
      },
      "id": "lBIvTGZWfOZJ",
      "execution_count": 13,
      "outputs": []
    },
    {
      "cell_type": "code",
      "source": [
        "image, label = train_set1[0]"
      ],
      "metadata": {
        "id": "ddPi0aSrfHUX"
      },
      "id": "ddPi0aSrfHUX",
      "execution_count": 14,
      "outputs": []
    },
    {
      "cell_type": "code",
      "source": [
        "print(f\"데이터 타입 : {type(image)}\")\n",
        "print(f\"최솟값 : {image.data.min()}\")\n",
        "print(f\"최댓값 : {image.data.max()}\")"
      ],
      "metadata": {
        "colab": {
          "base_uri": "https://localhost:8080/"
        },
        "id": "8NQzPBh6fWmR",
        "outputId": "c52eea8d-5513-41f2-ac87-ac9e3db23aee"
      },
      "id": "8NQzPBh6fWmR",
      "execution_count": 17,
      "outputs": [
        {
          "output_type": "stream",
          "name": "stdout",
          "text": [
            "데이터 타입 : <class 'torch.Tensor'>\n",
            "최솟값 : 0.0\n",
            "최댓값 : 1.0\n"
          ]
        }
      ]
    },
    {
      "cell_type": "markdown",
      "source": [
        "- Normalize : 정규화"
      ],
      "metadata": {
        "id": "9QYhPLpqfkpW"
      },
      "id": "9QYhPLpqfkpW"
    },
    {
      "cell_type": "code",
      "source": [
        "transform2 = transforms.Compose([\n",
        "    transforms.ToTensor(),\n",
        "    transforms.Normalize(0.5, 0.5), # mu = 0.5, sigma = 0.5로 하면 -1 ~ 1로 정규화 가능\n",
        "])"
      ],
      "metadata": {
        "id": "L9XvVk5QfK2l"
      },
      "id": "L9XvVk5QfK2l",
      "execution_count": 18,
      "outputs": []
    },
    {
      "cell_type": "code",
      "source": [
        "train_set2 = datasets.MNIST(root = data_root, train = True, download = True, transform = transform2)"
      ],
      "metadata": {
        "id": "Uwl6t157f2dY"
      },
      "id": "Uwl6t157f2dY",
      "execution_count": 19,
      "outputs": []
    },
    {
      "cell_type": "code",
      "source": [
        "image, label = train_set2[0]"
      ],
      "metadata": {
        "id": "DyQMDDQQf5j9"
      },
      "id": "DyQMDDQQf5j9",
      "execution_count": 20,
      "outputs": []
    },
    {
      "cell_type": "code",
      "source": [
        "print(f\"데이터 타입 : {type(image)}\")\n",
        "print(f\"최솟값 : {image.data.min()}\")\n",
        "print(f\"최댓값 : {image.data.max()}\")"
      ],
      "metadata": {
        "colab": {
          "base_uri": "https://localhost:8080/"
        },
        "id": "KMZzBRE2f4PO",
        "outputId": "1dd372e1-0d09-4148-d31b-b3c976082e87"
      },
      "id": "KMZzBRE2f4PO",
      "execution_count": 21,
      "outputs": [
        {
          "output_type": "stream",
          "name": "stdout",
          "text": [
            "데이터 타입 : <class 'torch.Tensor'>\n",
            "최솟값 : -1.0\n",
            "최댓값 : 1.0\n"
          ]
        }
      ]
    },
    {
      "cell_type": "markdown",
      "source": [
        "- Lambda 클래스"
      ],
      "metadata": {
        "id": "KHjm9kpTf-W3"
      },
      "id": "KHjm9kpTf-W3"
    },
    {
      "cell_type": "code",
      "source": [
        "transform3 = transforms.Compose([\n",
        "    transforms.ToTensor(),\n",
        "    transforms.Normalize(0.5, 0.5),\n",
        "    transforms.Lambda(lambda x : x.view(-1))\n",
        "])"
      ],
      "metadata": {
        "id": "X8DdRfKTf6c-"
      },
      "id": "X8DdRfKTf6c-",
      "execution_count": 7,
      "outputs": []
    },
    {
      "cell_type": "code",
      "source": [
        "train_set3 = datasets.MNIST(root = data_root, train = True, download = True, transform = transform3)"
      ],
      "metadata": {
        "id": "KMu-a9SggNJ6"
      },
      "id": "KMu-a9SggNJ6",
      "execution_count": 23,
      "outputs": []
    },
    {
      "cell_type": "code",
      "source": [
        "image, label = train_set3[0]"
      ],
      "metadata": {
        "id": "3ugI772GgYff"
      },
      "id": "3ugI772GgYff",
      "execution_count": 24,
      "outputs": []
    },
    {
      "cell_type": "code",
      "source": [
        "print(f\"데이터 타입 : {type(image)}\")\n",
        "print(f\"데이터 shape : {image.shape}\")\n",
        "print(f\"최솟값 : {image.data.min()}\")\n",
        "print(f\"최댓값 : {image.data.max()}\")"
      ],
      "metadata": {
        "colab": {
          "base_uri": "https://localhost:8080/"
        },
        "id": "fPOqx3t5gPFf",
        "outputId": "ee37d085-ba14-4988-94d3-fc69372bf346"
      },
      "id": "fPOqx3t5gPFf",
      "execution_count": 25,
      "outputs": [
        {
          "output_type": "stream",
          "name": "stdout",
          "text": [
            "데이터 타입 : <class 'torch.Tensor'>\n",
            "데이터 shape : torch.Size([784])\n",
            "최솟값 : -1.0\n",
            "최댓값 : 1.0\n"
          ]
        }
      ]
    },
    {
      "cell_type": "code",
      "source": [
        "train_set = datasets.MNIST(root = data_root, train = True, download = True, transform = transform3)\n",
        "test_set = datasets.MNIST(root = data_root, train = False, download = True, transform = transform3)"
      ],
      "metadata": {
        "id": "e5fTypL4gd4a"
      },
      "id": "e5fTypL4gd4a",
      "execution_count": 8,
      "outputs": []
    },
    {
      "cell_type": "markdown",
      "source": [
        "### 3. 배치 데이터 생성\n",
        "- DataLoader"
      ],
      "metadata": {
        "id": "jlEl6b4Xgoez"
      },
      "id": "jlEl6b4Xgoez"
    },
    {
      "cell_type": "code",
      "source": [
        "from torch.utils.data import DataLoader"
      ],
      "metadata": {
        "id": "_PzSCJ-Tgm9B"
      },
      "id": "_PzSCJ-Tgm9B",
      "execution_count": 9,
      "outputs": []
    },
    {
      "cell_type": "code",
      "source": [
        "bs = 1024"
      ],
      "metadata": {
        "id": "d_klcck7gzjN"
      },
      "id": "d_klcck7gzjN",
      "execution_count": 23,
      "outputs": []
    },
    {
      "cell_type": "code",
      "source": [
        "tr_loader = DataLoader(train_set, batch_size = bs, shuffle = True)\n",
        "te_loader = DataLoader(test_set, batch_size = bs, shuffle = False)"
      ],
      "metadata": {
        "id": "EKrS0BXhg038"
      },
      "id": "EKrS0BXhg038",
      "execution_count": 24,
      "outputs": []
    },
    {
      "cell_type": "markdown",
      "source": [
        "***"
      ],
      "metadata": {
        "id": "mdScoRp7hgmd"
      },
      "id": "mdScoRp7hgmd"
    },
    {
      "cell_type": "code",
      "source": [
        "n_input = image.shape[0] # 784\n",
        "n_output = 10"
      ],
      "metadata": {
        "id": "Rkzrho4Vg_K_"
      },
      "id": "Rkzrho4Vg_K_",
      "execution_count": null,
      "outputs": []
    },
    {
      "cell_type": "code",
      "source": [
        "class Net(nn.Module) :\n",
        "\n",
        "  def __init__(self, n_input, n_output) :\n",
        "    super().__init__()\n",
        "    self.layer1 = nn.Linear(n_input, 256)\n",
        "    self.bn1 = nn.BatchNorm1d(256)\n",
        "    self.relu1 = nn.LeakyReLU()\n",
        "    self.layer2 = nn.Linear(256, 64)\n",
        "    self.bn2 = nn.BatchNorm1d(64)\n",
        "    self.relu2 = nn.LeakyReLU(64, inplace = True)\n",
        "    self.layer3 = nn.Linear(64, n_output)\n",
        "\n",
        "  def forward(self, x) :\n",
        "    x = self.layer1(x)\n",
        "    x = self.bn1(x)\n",
        "    x = self.relu1(x)\n",
        "    x = self.layer2(x)\n",
        "    x = self.bn2(x)\n",
        "    x = self.relu2(x)\n",
        "    x = self.layer3(x)\n",
        "\n",
        "    return x"
      ],
      "metadata": {
        "id": "gVUbqMtvhvLJ"
      },
      "id": "gVUbqMtvhvLJ",
      "execution_count": 13,
      "outputs": []
    },
    {
      "cell_type": "code",
      "source": [
        "torch.manual_seed(42)\n",
        "torch.cuda.manual_seed(42)"
      ],
      "metadata": {
        "id": "AYecDZNNitrm"
      },
      "id": "AYecDZNNitrm",
      "execution_count": 14,
      "outputs": []
    },
    {
      "cell_type": "code",
      "source": [
        "net = Net(784, 10)"
      ],
      "metadata": {
        "id": "dN4xduTGhnFe"
      },
      "id": "dN4xduTGhnFe",
      "execution_count": 36,
      "outputs": []
    },
    {
      "cell_type": "code",
      "source": [
        "net = net.to(device)"
      ],
      "metadata": {
        "id": "X1Ae-UysjGph"
      },
      "id": "X1Ae-UysjGph",
      "execution_count": 37,
      "outputs": []
    },
    {
      "cell_type": "code",
      "source": [
        "net"
      ],
      "metadata": {
        "colab": {
          "base_uri": "https://localhost:8080/"
        },
        "id": "rw3ZU7NajIMT",
        "outputId": "28297d69-1c4b-4107-a7b6-ff0c422e40d4"
      },
      "id": "rw3ZU7NajIMT",
      "execution_count": 38,
      "outputs": [
        {
          "output_type": "execute_result",
          "data": {
            "text/plain": [
              "Net(\n",
              "  (layer1): Linear(in_features=784, out_features=256, bias=True)\n",
              "  (bn1): BatchNorm1d(256, eps=1e-05, momentum=0.1, affine=True, track_running_stats=True)\n",
              "  (relu1): LeakyReLU(negative_slope=0.01)\n",
              "  (layer2): Linear(in_features=256, out_features=64, bias=True)\n",
              "  (bn2): BatchNorm1d(64, eps=1e-05, momentum=0.1, affine=True, track_running_stats=True)\n",
              "  (relu2): LeakyReLU(negative_slope=64, inplace=True)\n",
              "  (layer3): Linear(in_features=64, out_features=10, bias=True)\n",
              ")"
            ]
          },
          "metadata": {},
          "execution_count": 38
        }
      ]
    },
    {
      "cell_type": "code",
      "source": [
        "for parameter in net.named_parameters() :\n",
        "  print(parameter)"
      ],
      "metadata": {
        "colab": {
          "base_uri": "https://localhost:8080/"
        },
        "id": "f7LMqqZzjjGp",
        "outputId": "e79a8a9a-899d-4103-f3ff-9e3af608dc18"
      },
      "id": "f7LMqqZzjjGp",
      "execution_count": 39,
      "outputs": [
        {
          "output_type": "stream",
          "name": "stdout",
          "text": [
            "('layer1.weight', Parameter containing:\n",
            "tensor([[ 0.0273,  0.0296, -0.0084,  ..., -0.0142,  0.0093,  0.0135],\n",
            "        [-0.0188, -0.0354,  0.0187,  ..., -0.0106, -0.0001,  0.0115],\n",
            "        [-0.0008,  0.0017,  0.0045,  ..., -0.0127, -0.0188,  0.0059],\n",
            "        ...,\n",
            "        [ 0.0307,  0.0202,  0.0212,  ...,  0.0272,  0.0314,  0.0152],\n",
            "        [-0.0355,  0.0334, -0.0232,  ...,  0.0185, -0.0292, -0.0017],\n",
            "        [-0.0068, -0.0321,  0.0248,  ..., -0.0255, -0.0138, -0.0288]],\n",
            "       device='cuda:0', requires_grad=True))\n",
            "('layer1.bias', Parameter containing:\n",
            "tensor([ 0.0214, -0.0092,  0.0252,  0.0054, -0.0258, -0.0166, -0.0220, -0.0342,\n",
            "        -0.0085,  0.0256, -0.0313, -0.0035,  0.0126,  0.0164,  0.0323, -0.0243,\n",
            "         0.0015,  0.0066,  0.0342, -0.0187,  0.0285,  0.0317,  0.0150,  0.0209,\n",
            "        -0.0146,  0.0140,  0.0086,  0.0305, -0.0045,  0.0026,  0.0236, -0.0042,\n",
            "        -0.0229,  0.0194, -0.0331,  0.0304, -0.0212,  0.0333, -0.0287,  0.0210,\n",
            "         0.0166,  0.0281,  0.0161,  0.0301,  0.0113, -0.0220,  0.0346,  0.0303,\n",
            "        -0.0307,  0.0046, -0.0006,  0.0303,  0.0257,  0.0259, -0.0135,  0.0305,\n",
            "        -0.0002,  0.0227,  0.0155, -0.0320,  0.0140,  0.0089, -0.0101, -0.0295,\n",
            "        -0.0044,  0.0036, -0.0183,  0.0012,  0.0055, -0.0030,  0.0078, -0.0228,\n",
            "         0.0309,  0.0275, -0.0249,  0.0034,  0.0067, -0.0108, -0.0239, -0.0230,\n",
            "        -0.0296,  0.0070,  0.0075,  0.0286, -0.0290,  0.0152, -0.0192, -0.0340,\n",
            "         0.0138,  0.0192,  0.0256, -0.0190,  0.0138, -0.0186,  0.0160, -0.0218,\n",
            "        -0.0356,  0.0350, -0.0205,  0.0027,  0.0296, -0.0229, -0.0248,  0.0190,\n",
            "        -0.0102, -0.0203, -0.0118, -0.0298, -0.0080, -0.0045, -0.0301, -0.0131,\n",
            "         0.0216, -0.0231, -0.0166,  0.0142, -0.0174, -0.0335, -0.0166, -0.0023,\n",
            "         0.0219,  0.0150,  0.0357, -0.0165, -0.0098,  0.0300, -0.0166,  0.0223,\n",
            "         0.0241, -0.0349, -0.0024,  0.0292,  0.0319, -0.0270,  0.0338,  0.0269,\n",
            "         0.0256,  0.0057,  0.0025, -0.0031, -0.0185,  0.0355, -0.0114, -0.0292,\n",
            "        -0.0169, -0.0193,  0.0251, -0.0351, -0.0145, -0.0044, -0.0158,  0.0029,\n",
            "         0.0128,  0.0125, -0.0279,  0.0070,  0.0090,  0.0115,  0.0020, -0.0023,\n",
            "        -0.0178, -0.0123, -0.0031, -0.0146,  0.0244, -0.0333, -0.0025,  0.0186,\n",
            "        -0.0186,  0.0029, -0.0137, -0.0225, -0.0338,  0.0124,  0.0305,  0.0085,\n",
            "        -0.0336, -0.0202,  0.0297, -0.0185, -0.0033,  0.0206, -0.0086,  0.0113,\n",
            "        -0.0130, -0.0299,  0.0179, -0.0173,  0.0329,  0.0296,  0.0275, -0.0334,\n",
            "         0.0327, -0.0030, -0.0039, -0.0343, -0.0267,  0.0160,  0.0348, -0.0156,\n",
            "         0.0164, -0.0296, -0.0266,  0.0295, -0.0166,  0.0321,  0.0249,  0.0082,\n",
            "        -0.0096,  0.0340, -0.0279,  0.0353, -0.0010,  0.0054, -0.0005, -0.0099,\n",
            "         0.0047,  0.0106, -0.0141,  0.0302, -0.0143,  0.0004,  0.0236, -0.0152,\n",
            "        -0.0306, -0.0117,  0.0209,  0.0307, -0.0289,  0.0137, -0.0033,  0.0296,\n",
            "         0.0292, -0.0014,  0.0348,  0.0150,  0.0040, -0.0179, -0.0353, -0.0163,\n",
            "        -0.0160,  0.0108, -0.0261,  0.0201, -0.0202, -0.0156, -0.0196, -0.0046,\n",
            "        -0.0242,  0.0263, -0.0147,  0.0245,  0.0276,  0.0352,  0.0175, -0.0024],\n",
            "       device='cuda:0', requires_grad=True))\n",
            "('bn1.weight', Parameter containing:\n",
            "tensor([1., 1., 1., 1., 1., 1., 1., 1., 1., 1., 1., 1., 1., 1., 1., 1., 1., 1.,\n",
            "        1., 1., 1., 1., 1., 1., 1., 1., 1., 1., 1., 1., 1., 1., 1., 1., 1., 1.,\n",
            "        1., 1., 1., 1., 1., 1., 1., 1., 1., 1., 1., 1., 1., 1., 1., 1., 1., 1.,\n",
            "        1., 1., 1., 1., 1., 1., 1., 1., 1., 1., 1., 1., 1., 1., 1., 1., 1., 1.,\n",
            "        1., 1., 1., 1., 1., 1., 1., 1., 1., 1., 1., 1., 1., 1., 1., 1., 1., 1.,\n",
            "        1., 1., 1., 1., 1., 1., 1., 1., 1., 1., 1., 1., 1., 1., 1., 1., 1., 1.,\n",
            "        1., 1., 1., 1., 1., 1., 1., 1., 1., 1., 1., 1., 1., 1., 1., 1., 1., 1.,\n",
            "        1., 1., 1., 1., 1., 1., 1., 1., 1., 1., 1., 1., 1., 1., 1., 1., 1., 1.,\n",
            "        1., 1., 1., 1., 1., 1., 1., 1., 1., 1., 1., 1., 1., 1., 1., 1., 1., 1.,\n",
            "        1., 1., 1., 1., 1., 1., 1., 1., 1., 1., 1., 1., 1., 1., 1., 1., 1., 1.,\n",
            "        1., 1., 1., 1., 1., 1., 1., 1., 1., 1., 1., 1., 1., 1., 1., 1., 1., 1.,\n",
            "        1., 1., 1., 1., 1., 1., 1., 1., 1., 1., 1., 1., 1., 1., 1., 1., 1., 1.,\n",
            "        1., 1., 1., 1., 1., 1., 1., 1., 1., 1., 1., 1., 1., 1., 1., 1., 1., 1.,\n",
            "        1., 1., 1., 1., 1., 1., 1., 1., 1., 1., 1., 1., 1., 1., 1., 1., 1., 1.,\n",
            "        1., 1., 1., 1.], device='cuda:0', requires_grad=True))\n",
            "('bn1.bias', Parameter containing:\n",
            "tensor([0., 0., 0., 0., 0., 0., 0., 0., 0., 0., 0., 0., 0., 0., 0., 0., 0., 0., 0., 0., 0., 0., 0., 0.,\n",
            "        0., 0., 0., 0., 0., 0., 0., 0., 0., 0., 0., 0., 0., 0., 0., 0., 0., 0., 0., 0., 0., 0., 0., 0.,\n",
            "        0., 0., 0., 0., 0., 0., 0., 0., 0., 0., 0., 0., 0., 0., 0., 0., 0., 0., 0., 0., 0., 0., 0., 0.,\n",
            "        0., 0., 0., 0., 0., 0., 0., 0., 0., 0., 0., 0., 0., 0., 0., 0., 0., 0., 0., 0., 0., 0., 0., 0.,\n",
            "        0., 0., 0., 0., 0., 0., 0., 0., 0., 0., 0., 0., 0., 0., 0., 0., 0., 0., 0., 0., 0., 0., 0., 0.,\n",
            "        0., 0., 0., 0., 0., 0., 0., 0., 0., 0., 0., 0., 0., 0., 0., 0., 0., 0., 0., 0., 0., 0., 0., 0.,\n",
            "        0., 0., 0., 0., 0., 0., 0., 0., 0., 0., 0., 0., 0., 0., 0., 0., 0., 0., 0., 0., 0., 0., 0., 0.,\n",
            "        0., 0., 0., 0., 0., 0., 0., 0., 0., 0., 0., 0., 0., 0., 0., 0., 0., 0., 0., 0., 0., 0., 0., 0.,\n",
            "        0., 0., 0., 0., 0., 0., 0., 0., 0., 0., 0., 0., 0., 0., 0., 0., 0., 0., 0., 0., 0., 0., 0., 0.,\n",
            "        0., 0., 0., 0., 0., 0., 0., 0., 0., 0., 0., 0., 0., 0., 0., 0., 0., 0., 0., 0., 0., 0., 0., 0.,\n",
            "        0., 0., 0., 0., 0., 0., 0., 0., 0., 0., 0., 0., 0., 0., 0., 0.],\n",
            "       device='cuda:0', requires_grad=True))\n",
            "('layer2.weight', Parameter containing:\n",
            "tensor([[-0.0037, -0.0117, -0.0331,  ..., -0.0597, -0.0381, -0.0448],\n",
            "        [ 0.0040, -0.0283,  0.0334,  ...,  0.0215,  0.0532, -0.0258],\n",
            "        [ 0.0014,  0.0222, -0.0412,  ..., -0.0555, -0.0589, -0.0559],\n",
            "        ...,\n",
            "        [-0.0273,  0.0314, -0.0169,  ...,  0.0467,  0.0016, -0.0249],\n",
            "        [-0.0606,  0.0080, -0.0128,  ...,  0.0218,  0.0472, -0.0424],\n",
            "        [ 0.0079, -0.0047,  0.0185,  ..., -0.0579, -0.0320,  0.0019]],\n",
            "       device='cuda:0', requires_grad=True))\n",
            "('layer2.bias', Parameter containing:\n",
            "tensor([-0.0162, -0.0446, -0.0022,  0.0130,  0.0300, -0.0399, -0.0420, -0.0247,\n",
            "         0.0100, -0.0098,  0.0038,  0.0589,  0.0543, -0.0029,  0.0012,  0.0276,\n",
            "         0.0110,  0.0074,  0.0283, -0.0285, -0.0403,  0.0440,  0.0400,  0.0352,\n",
            "         0.0075, -0.0214,  0.0018, -0.0140,  0.0352,  0.0224, -0.0261, -0.0004,\n",
            "        -0.0288,  0.0339,  0.0298, -0.0485,  0.0584,  0.0238,  0.0066,  0.0246,\n",
            "        -0.0186,  0.0033,  0.0255,  0.0324, -0.0155, -0.0059,  0.0092, -0.0423,\n",
            "         0.0352,  0.0369,  0.0507,  0.0436,  0.0011,  0.0071,  0.0302, -0.0294,\n",
            "        -0.0583, -0.0214,  0.0124,  0.0040,  0.0504, -0.0382, -0.0597,  0.0247],\n",
            "       device='cuda:0', requires_grad=True))\n",
            "('bn2.weight', Parameter containing:\n",
            "tensor([1., 1., 1., 1., 1., 1., 1., 1., 1., 1., 1., 1., 1., 1., 1., 1., 1., 1.,\n",
            "        1., 1., 1., 1., 1., 1., 1., 1., 1., 1., 1., 1., 1., 1., 1., 1., 1., 1.,\n",
            "        1., 1., 1., 1., 1., 1., 1., 1., 1., 1., 1., 1., 1., 1., 1., 1., 1., 1.,\n",
            "        1., 1., 1., 1., 1., 1., 1., 1., 1., 1.], device='cuda:0',\n",
            "       requires_grad=True))\n",
            "('bn2.bias', Parameter containing:\n",
            "tensor([0., 0., 0., 0., 0., 0., 0., 0., 0., 0., 0., 0., 0., 0., 0., 0., 0., 0., 0., 0., 0., 0., 0., 0.,\n",
            "        0., 0., 0., 0., 0., 0., 0., 0., 0., 0., 0., 0., 0., 0., 0., 0., 0., 0., 0., 0., 0., 0., 0., 0.,\n",
            "        0., 0., 0., 0., 0., 0., 0., 0., 0., 0., 0., 0., 0., 0., 0., 0.],\n",
            "       device='cuda:0', requires_grad=True))\n",
            "('layer3.weight', Parameter containing:\n",
            "tensor([[-0.0287,  0.0101, -0.0561, -0.0444,  0.1185, -0.0178,  0.0995,  0.1129,\n",
            "          0.0630, -0.0066,  0.0337,  0.0904,  0.0603,  0.0522,  0.0496,  0.0405,\n",
            "         -0.0023,  0.1184,  0.1248,  0.0243, -0.0590, -0.1135,  0.0960,  0.0539,\n",
            "         -0.1042, -0.0969,  0.1108,  0.0887, -0.0277,  0.1059, -0.0264, -0.0479,\n",
            "         -0.0695, -0.0207,  0.0509,  0.1014, -0.0281, -0.0454,  0.0926,  0.0203,\n",
            "          0.0275,  0.0714, -0.0117, -0.0302,  0.0327, -0.0892, -0.0207, -0.0806,\n",
            "          0.0840,  0.1090, -0.0484,  0.1229,  0.0801, -0.0879,  0.0495, -0.0013,\n",
            "          0.0733,  0.0142,  0.0026,  0.0278,  0.0751,  0.0190, -0.0417,  0.0134]],\n",
            "       device='cuda:0', requires_grad=True))\n",
            "('layer3.bias', Parameter containing:\n",
            "tensor([-0.0458], device='cuda:0', requires_grad=True))\n"
          ]
        }
      ]
    },
    {
      "cell_type": "code",
      "source": [
        "lr = 0.01\n",
        "criterion = nn.CrossEntropyLoss().to(device)\n",
        "optimizer = torch.optim.Adam(net.parameters(), lr = lr)"
      ],
      "metadata": {
        "id": "t9bkJUyFjogY"
      },
      "id": "t9bkJUyFjogY",
      "execution_count": 39,
      "outputs": []
    },
    {
      "cell_type": "code",
      "source": [
        "from tqdm.notebook import tqdm_notebook"
      ],
      "metadata": {
        "id": "3PZGIMP7kzGI"
      },
      "id": "3PZGIMP7kzGI",
      "execution_count": 21,
      "outputs": []
    },
    {
      "cell_type": "code",
      "source": [
        "for epoch in tqdm_notebook(range(15)) :\n",
        "\n",
        "  tr_acc, tr_cnt = 0.0, 0.0\n",
        "  te_acc, te_cnt = 0.0, 0.0\n",
        "\n",
        "  net.train()\n",
        "  for img, cls in tr_loader :\n",
        "    \n",
        "    img = img.to(device)\n",
        "    cls = cls.to(device)\n",
        "\n",
        "    optimizer.zero_grad()\n",
        "\n",
        "    pred = net(img)\n",
        "    pred_cls = torch.max(pred, 1)[1]\n",
        "\n",
        "    loss = criterion(pred, cls)\n",
        "    loss.backward()\n",
        "\n",
        "    optimizer.step()\n",
        "    \n",
        "    tr_acc += (pred_cls == cls).sum().item()\n",
        "    tr_cnt += len(cls)\n",
        "  \n",
        "  net.eval()\n",
        "  with torch.no_grad() : \n",
        "    for img, cls in te_loader :\n",
        "\n",
        "      img = img.to(device)\n",
        "      cls = cls.to(device)\n",
        "\n",
        "      optimizer.zero_grad()\n",
        "\n",
        "      pred = net(img)\n",
        "      pred_cls = torch.max(pred, 1)[1]\n",
        "\n",
        "      loss = criterion(pred, cls)\n",
        "\n",
        "      te_acc += (pred_cls == cls).sum().item()\n",
        "      te_cnt += len(cls)\n",
        "\n",
        "  print(f\"{epoch + 1} Epoch Train Accuracy : {tr_acc / tr_cnt} Test Accuracy : {te_acc / te_cnt}\")"
      ],
      "metadata": {
        "colab": {
          "base_uri": "https://localhost:8080/",
          "height": 304,
          "referenced_widgets": [
            "52b812bbe54b4168a716ef354a0a123f",
            "0c21ab8fddb14f74808660d171ee6e33",
            "071f92e37d7c4c94b551de7a542d7d2c",
            "3d3a05edfdd242aaa8704b89ccf60f80",
            "f38ee2da336c445ea75041bf0147455b",
            "92f23b405e0d4927a05b804b4659932b",
            "f61d3fb4538b4ced9f4b5797cb79434f",
            "a0324e6580534aaaaa663feb044802bf",
            "4d39572c9c8242359cd6f507e7d1e06b",
            "ec8d69376d954bb893559ae0b1ef895a",
            "48bb70facfd24d36abae3a63cda5a693"
          ]
        },
        "id": "Td9dSONTk7rc",
        "outputId": "d4f5e5a8-3908-46fe-bab7-1e22c722fff8"
      },
      "id": "Td9dSONTk7rc",
      "execution_count": 40,
      "outputs": [
        {
          "output_type": "display_data",
          "data": {
            "text/plain": [
              "  0%|          | 0/15 [00:00<?, ?it/s]"
            ],
            "application/vnd.jupyter.widget-view+json": {
              "version_major": 2,
              "version_minor": 0,
              "model_id": "52b812bbe54b4168a716ef354a0a123f"
            }
          },
          "metadata": {}
        },
        {
          "output_type": "stream",
          "name": "stdout",
          "text": [
            "1 Epoch Train Accuracy : 0.8638 Test Accuracy : 0.9216\n",
            "2 Epoch Train Accuracy : 0.9398666666666666 Test Accuracy : 0.935\n",
            "3 Epoch Train Accuracy : 0.9536 Test Accuracy : 0.9531\n",
            "4 Epoch Train Accuracy : 0.9620666666666666 Test Accuracy : 0.9529\n",
            "5 Epoch Train Accuracy : 0.9678 Test Accuracy : 0.9581\n",
            "6 Epoch Train Accuracy : 0.9728666666666667 Test Accuracy : 0.9632\n",
            "7 Epoch Train Accuracy : 0.9757666666666667 Test Accuracy : 0.9645\n",
            "8 Epoch Train Accuracy : 0.9797333333333333 Test Accuracy : 0.9649\n",
            "9 Epoch Train Accuracy : 0.9824666666666667 Test Accuracy : 0.9594\n",
            "10 Epoch Train Accuracy : 0.9852666666666666 Test Accuracy : 0.9634\n",
            "11 Epoch Train Accuracy : 0.9869166666666667 Test Accuracy : 0.9636\n",
            "12 Epoch Train Accuracy : 0.9895 Test Accuracy : 0.967\n",
            "13 Epoch Train Accuracy : 0.9927333333333334 Test Accuracy : 0.968\n",
            "14 Epoch Train Accuracy : 0.9925666666666667 Test Accuracy : 0.9695\n",
            "15 Epoch Train Accuracy : 0.9917833333333334 Test Accuracy : 0.9628\n"
          ]
        }
      ]
    }
  ],
  "metadata": {
    "kernelspec": {
      "display_name": "Python 3",
      "language": "python",
      "name": "python3"
    },
    "language_info": {
      "codemirror_mode": {
        "name": "ipython",
        "version": 3
      },
      "file_extension": ".py",
      "mimetype": "text/x-python",
      "name": "python",
      "nbconvert_exporter": "python",
      "pygments_lexer": "ipython3",
      "version": "3.8.8"
    },
    "colab": {
      "provenance": []
    },
    "accelerator": "GPU",
    "gpuClass": "standard",
    "widgets": {
      "application/vnd.jupyter.widget-state+json": {
        "74bf9d4bf0414c4c889d4b6b0e5b4a5b": {
          "model_module": "@jupyter-widgets/controls",
          "model_name": "HBoxModel",
          "model_module_version": "1.5.0",
          "state": {
            "_dom_classes": [],
            "_model_module": "@jupyter-widgets/controls",
            "_model_module_version": "1.5.0",
            "_model_name": "HBoxModel",
            "_view_count": null,
            "_view_module": "@jupyter-widgets/controls",
            "_view_module_version": "1.5.0",
            "_view_name": "HBoxView",
            "box_style": "",
            "children": [
              "IPY_MODEL_1d3d470f8d5a4cd5a8bc311024e6de05",
              "IPY_MODEL_f731b44baa9d486f88b18dc4b11916b3",
              "IPY_MODEL_7c956ae7defa46ef8ea730515acc7976"
            ],
            "layout": "IPY_MODEL_064c8cc1291041f59e2583984a36baba"
          }
        },
        "1d3d470f8d5a4cd5a8bc311024e6de05": {
          "model_module": "@jupyter-widgets/controls",
          "model_name": "HTMLModel",
          "model_module_version": "1.5.0",
          "state": {
            "_dom_classes": [],
            "_model_module": "@jupyter-widgets/controls",
            "_model_module_version": "1.5.0",
            "_model_name": "HTMLModel",
            "_view_count": null,
            "_view_module": "@jupyter-widgets/controls",
            "_view_module_version": "1.5.0",
            "_view_name": "HTMLView",
            "description": "",
            "description_tooltip": null,
            "layout": "IPY_MODEL_29f3c4e6e7984aa4a94bea96bde15322",
            "placeholder": "​",
            "style": "IPY_MODEL_0b9e4af28ed2476db85dfba1deba9a8c",
            "value": "100%"
          }
        },
        "f731b44baa9d486f88b18dc4b11916b3": {
          "model_module": "@jupyter-widgets/controls",
          "model_name": "FloatProgressModel",
          "model_module_version": "1.5.0",
          "state": {
            "_dom_classes": [],
            "_model_module": "@jupyter-widgets/controls",
            "_model_module_version": "1.5.0",
            "_model_name": "FloatProgressModel",
            "_view_count": null,
            "_view_module": "@jupyter-widgets/controls",
            "_view_module_version": "1.5.0",
            "_view_name": "ProgressView",
            "bar_style": "success",
            "description": "",
            "description_tooltip": null,
            "layout": "IPY_MODEL_b159a80ebe5a410f9e9b523f7795ecfd",
            "max": 9912422,
            "min": 0,
            "orientation": "horizontal",
            "style": "IPY_MODEL_ea63916e392b46f193b1b16f5c0a9daa",
            "value": 9912422
          }
        },
        "7c956ae7defa46ef8ea730515acc7976": {
          "model_module": "@jupyter-widgets/controls",
          "model_name": "HTMLModel",
          "model_module_version": "1.5.0",
          "state": {
            "_dom_classes": [],
            "_model_module": "@jupyter-widgets/controls",
            "_model_module_version": "1.5.0",
            "_model_name": "HTMLModel",
            "_view_count": null,
            "_view_module": "@jupyter-widgets/controls",
            "_view_module_version": "1.5.0",
            "_view_name": "HTMLView",
            "description": "",
            "description_tooltip": null,
            "layout": "IPY_MODEL_39bfa86799fa44398879e49bc0bd7d31",
            "placeholder": "​",
            "style": "IPY_MODEL_89e60226aae7476b970307a89f0eef09",
            "value": " 9912422/9912422 [00:00&lt;00:00, 32432386.47it/s]"
          }
        },
        "064c8cc1291041f59e2583984a36baba": {
          "model_module": "@jupyter-widgets/base",
          "model_name": "LayoutModel",
          "model_module_version": "1.2.0",
          "state": {
            "_model_module": "@jupyter-widgets/base",
            "_model_module_version": "1.2.0",
            "_model_name": "LayoutModel",
            "_view_count": null,
            "_view_module": "@jupyter-widgets/base",
            "_view_module_version": "1.2.0",
            "_view_name": "LayoutView",
            "align_content": null,
            "align_items": null,
            "align_self": null,
            "border": null,
            "bottom": null,
            "display": null,
            "flex": null,
            "flex_flow": null,
            "grid_area": null,
            "grid_auto_columns": null,
            "grid_auto_flow": null,
            "grid_auto_rows": null,
            "grid_column": null,
            "grid_gap": null,
            "grid_row": null,
            "grid_template_areas": null,
            "grid_template_columns": null,
            "grid_template_rows": null,
            "height": null,
            "justify_content": null,
            "justify_items": null,
            "left": null,
            "margin": null,
            "max_height": null,
            "max_width": null,
            "min_height": null,
            "min_width": null,
            "object_fit": null,
            "object_position": null,
            "order": null,
            "overflow": null,
            "overflow_x": null,
            "overflow_y": null,
            "padding": null,
            "right": null,
            "top": null,
            "visibility": null,
            "width": null
          }
        },
        "29f3c4e6e7984aa4a94bea96bde15322": {
          "model_module": "@jupyter-widgets/base",
          "model_name": "LayoutModel",
          "model_module_version": "1.2.0",
          "state": {
            "_model_module": "@jupyter-widgets/base",
            "_model_module_version": "1.2.0",
            "_model_name": "LayoutModel",
            "_view_count": null,
            "_view_module": "@jupyter-widgets/base",
            "_view_module_version": "1.2.0",
            "_view_name": "LayoutView",
            "align_content": null,
            "align_items": null,
            "align_self": null,
            "border": null,
            "bottom": null,
            "display": null,
            "flex": null,
            "flex_flow": null,
            "grid_area": null,
            "grid_auto_columns": null,
            "grid_auto_flow": null,
            "grid_auto_rows": null,
            "grid_column": null,
            "grid_gap": null,
            "grid_row": null,
            "grid_template_areas": null,
            "grid_template_columns": null,
            "grid_template_rows": null,
            "height": null,
            "justify_content": null,
            "justify_items": null,
            "left": null,
            "margin": null,
            "max_height": null,
            "max_width": null,
            "min_height": null,
            "min_width": null,
            "object_fit": null,
            "object_position": null,
            "order": null,
            "overflow": null,
            "overflow_x": null,
            "overflow_y": null,
            "padding": null,
            "right": null,
            "top": null,
            "visibility": null,
            "width": null
          }
        },
        "0b9e4af28ed2476db85dfba1deba9a8c": {
          "model_module": "@jupyter-widgets/controls",
          "model_name": "DescriptionStyleModel",
          "model_module_version": "1.5.0",
          "state": {
            "_model_module": "@jupyter-widgets/controls",
            "_model_module_version": "1.5.0",
            "_model_name": "DescriptionStyleModel",
            "_view_count": null,
            "_view_module": "@jupyter-widgets/base",
            "_view_module_version": "1.2.0",
            "_view_name": "StyleView",
            "description_width": ""
          }
        },
        "b159a80ebe5a410f9e9b523f7795ecfd": {
          "model_module": "@jupyter-widgets/base",
          "model_name": "LayoutModel",
          "model_module_version": "1.2.0",
          "state": {
            "_model_module": "@jupyter-widgets/base",
            "_model_module_version": "1.2.0",
            "_model_name": "LayoutModel",
            "_view_count": null,
            "_view_module": "@jupyter-widgets/base",
            "_view_module_version": "1.2.0",
            "_view_name": "LayoutView",
            "align_content": null,
            "align_items": null,
            "align_self": null,
            "border": null,
            "bottom": null,
            "display": null,
            "flex": null,
            "flex_flow": null,
            "grid_area": null,
            "grid_auto_columns": null,
            "grid_auto_flow": null,
            "grid_auto_rows": null,
            "grid_column": null,
            "grid_gap": null,
            "grid_row": null,
            "grid_template_areas": null,
            "grid_template_columns": null,
            "grid_template_rows": null,
            "height": null,
            "justify_content": null,
            "justify_items": null,
            "left": null,
            "margin": null,
            "max_height": null,
            "max_width": null,
            "min_height": null,
            "min_width": null,
            "object_fit": null,
            "object_position": null,
            "order": null,
            "overflow": null,
            "overflow_x": null,
            "overflow_y": null,
            "padding": null,
            "right": null,
            "top": null,
            "visibility": null,
            "width": null
          }
        },
        "ea63916e392b46f193b1b16f5c0a9daa": {
          "model_module": "@jupyter-widgets/controls",
          "model_name": "ProgressStyleModel",
          "model_module_version": "1.5.0",
          "state": {
            "_model_module": "@jupyter-widgets/controls",
            "_model_module_version": "1.5.0",
            "_model_name": "ProgressStyleModel",
            "_view_count": null,
            "_view_module": "@jupyter-widgets/base",
            "_view_module_version": "1.2.0",
            "_view_name": "StyleView",
            "bar_color": null,
            "description_width": ""
          }
        },
        "39bfa86799fa44398879e49bc0bd7d31": {
          "model_module": "@jupyter-widgets/base",
          "model_name": "LayoutModel",
          "model_module_version": "1.2.0",
          "state": {
            "_model_module": "@jupyter-widgets/base",
            "_model_module_version": "1.2.0",
            "_model_name": "LayoutModel",
            "_view_count": null,
            "_view_module": "@jupyter-widgets/base",
            "_view_module_version": "1.2.0",
            "_view_name": "LayoutView",
            "align_content": null,
            "align_items": null,
            "align_self": null,
            "border": null,
            "bottom": null,
            "display": null,
            "flex": null,
            "flex_flow": null,
            "grid_area": null,
            "grid_auto_columns": null,
            "grid_auto_flow": null,
            "grid_auto_rows": null,
            "grid_column": null,
            "grid_gap": null,
            "grid_row": null,
            "grid_template_areas": null,
            "grid_template_columns": null,
            "grid_template_rows": null,
            "height": null,
            "justify_content": null,
            "justify_items": null,
            "left": null,
            "margin": null,
            "max_height": null,
            "max_width": null,
            "min_height": null,
            "min_width": null,
            "object_fit": null,
            "object_position": null,
            "order": null,
            "overflow": null,
            "overflow_x": null,
            "overflow_y": null,
            "padding": null,
            "right": null,
            "top": null,
            "visibility": null,
            "width": null
          }
        },
        "89e60226aae7476b970307a89f0eef09": {
          "model_module": "@jupyter-widgets/controls",
          "model_name": "DescriptionStyleModel",
          "model_module_version": "1.5.0",
          "state": {
            "_model_module": "@jupyter-widgets/controls",
            "_model_module_version": "1.5.0",
            "_model_name": "DescriptionStyleModel",
            "_view_count": null,
            "_view_module": "@jupyter-widgets/base",
            "_view_module_version": "1.2.0",
            "_view_name": "StyleView",
            "description_width": ""
          }
        },
        "d2e988d3a4ab45c0ada37a8db2fcf1d2": {
          "model_module": "@jupyter-widgets/controls",
          "model_name": "HBoxModel",
          "model_module_version": "1.5.0",
          "state": {
            "_dom_classes": [],
            "_model_module": "@jupyter-widgets/controls",
            "_model_module_version": "1.5.0",
            "_model_name": "HBoxModel",
            "_view_count": null,
            "_view_module": "@jupyter-widgets/controls",
            "_view_module_version": "1.5.0",
            "_view_name": "HBoxView",
            "box_style": "",
            "children": [
              "IPY_MODEL_a6b6a62bcd924e6bba05a04799d24e00",
              "IPY_MODEL_9b5d49d289a44dce88dddddae633dde4",
              "IPY_MODEL_3d94cddd403c42319be3391f111de343"
            ],
            "layout": "IPY_MODEL_d1481c6946754f20a58ec77a2f0ed0c9"
          }
        },
        "a6b6a62bcd924e6bba05a04799d24e00": {
          "model_module": "@jupyter-widgets/controls",
          "model_name": "HTMLModel",
          "model_module_version": "1.5.0",
          "state": {
            "_dom_classes": [],
            "_model_module": "@jupyter-widgets/controls",
            "_model_module_version": "1.5.0",
            "_model_name": "HTMLModel",
            "_view_count": null,
            "_view_module": "@jupyter-widgets/controls",
            "_view_module_version": "1.5.0",
            "_view_name": "HTMLView",
            "description": "",
            "description_tooltip": null,
            "layout": "IPY_MODEL_9c16c226469a41e2982bebea7052b7d7",
            "placeholder": "​",
            "style": "IPY_MODEL_a3d511d1179440d0ae9626767e33a3e9",
            "value": "100%"
          }
        },
        "9b5d49d289a44dce88dddddae633dde4": {
          "model_module": "@jupyter-widgets/controls",
          "model_name": "FloatProgressModel",
          "model_module_version": "1.5.0",
          "state": {
            "_dom_classes": [],
            "_model_module": "@jupyter-widgets/controls",
            "_model_module_version": "1.5.0",
            "_model_name": "FloatProgressModel",
            "_view_count": null,
            "_view_module": "@jupyter-widgets/controls",
            "_view_module_version": "1.5.0",
            "_view_name": "ProgressView",
            "bar_style": "success",
            "description": "",
            "description_tooltip": null,
            "layout": "IPY_MODEL_898f433dbe64411b864fbbcb124dd8ad",
            "max": 28881,
            "min": 0,
            "orientation": "horizontal",
            "style": "IPY_MODEL_0fa27e9dfbf54f7caba2de25ee4f3f20",
            "value": 28881
          }
        },
        "3d94cddd403c42319be3391f111de343": {
          "model_module": "@jupyter-widgets/controls",
          "model_name": "HTMLModel",
          "model_module_version": "1.5.0",
          "state": {
            "_dom_classes": [],
            "_model_module": "@jupyter-widgets/controls",
            "_model_module_version": "1.5.0",
            "_model_name": "HTMLModel",
            "_view_count": null,
            "_view_module": "@jupyter-widgets/controls",
            "_view_module_version": "1.5.0",
            "_view_name": "HTMLView",
            "description": "",
            "description_tooltip": null,
            "layout": "IPY_MODEL_e9c9886f4c7041f4a96fe15512b36826",
            "placeholder": "​",
            "style": "IPY_MODEL_62a10a1ee9ae485aaeeac3ba257aafbd",
            "value": " 28881/28881 [00:00&lt;00:00, 758154.76it/s]"
          }
        },
        "d1481c6946754f20a58ec77a2f0ed0c9": {
          "model_module": "@jupyter-widgets/base",
          "model_name": "LayoutModel",
          "model_module_version": "1.2.0",
          "state": {
            "_model_module": "@jupyter-widgets/base",
            "_model_module_version": "1.2.0",
            "_model_name": "LayoutModel",
            "_view_count": null,
            "_view_module": "@jupyter-widgets/base",
            "_view_module_version": "1.2.0",
            "_view_name": "LayoutView",
            "align_content": null,
            "align_items": null,
            "align_self": null,
            "border": null,
            "bottom": null,
            "display": null,
            "flex": null,
            "flex_flow": null,
            "grid_area": null,
            "grid_auto_columns": null,
            "grid_auto_flow": null,
            "grid_auto_rows": null,
            "grid_column": null,
            "grid_gap": null,
            "grid_row": null,
            "grid_template_areas": null,
            "grid_template_columns": null,
            "grid_template_rows": null,
            "height": null,
            "justify_content": null,
            "justify_items": null,
            "left": null,
            "margin": null,
            "max_height": null,
            "max_width": null,
            "min_height": null,
            "min_width": null,
            "object_fit": null,
            "object_position": null,
            "order": null,
            "overflow": null,
            "overflow_x": null,
            "overflow_y": null,
            "padding": null,
            "right": null,
            "top": null,
            "visibility": null,
            "width": null
          }
        },
        "9c16c226469a41e2982bebea7052b7d7": {
          "model_module": "@jupyter-widgets/base",
          "model_name": "LayoutModel",
          "model_module_version": "1.2.0",
          "state": {
            "_model_module": "@jupyter-widgets/base",
            "_model_module_version": "1.2.0",
            "_model_name": "LayoutModel",
            "_view_count": null,
            "_view_module": "@jupyter-widgets/base",
            "_view_module_version": "1.2.0",
            "_view_name": "LayoutView",
            "align_content": null,
            "align_items": null,
            "align_self": null,
            "border": null,
            "bottom": null,
            "display": null,
            "flex": null,
            "flex_flow": null,
            "grid_area": null,
            "grid_auto_columns": null,
            "grid_auto_flow": null,
            "grid_auto_rows": null,
            "grid_column": null,
            "grid_gap": null,
            "grid_row": null,
            "grid_template_areas": null,
            "grid_template_columns": null,
            "grid_template_rows": null,
            "height": null,
            "justify_content": null,
            "justify_items": null,
            "left": null,
            "margin": null,
            "max_height": null,
            "max_width": null,
            "min_height": null,
            "min_width": null,
            "object_fit": null,
            "object_position": null,
            "order": null,
            "overflow": null,
            "overflow_x": null,
            "overflow_y": null,
            "padding": null,
            "right": null,
            "top": null,
            "visibility": null,
            "width": null
          }
        },
        "a3d511d1179440d0ae9626767e33a3e9": {
          "model_module": "@jupyter-widgets/controls",
          "model_name": "DescriptionStyleModel",
          "model_module_version": "1.5.0",
          "state": {
            "_model_module": "@jupyter-widgets/controls",
            "_model_module_version": "1.5.0",
            "_model_name": "DescriptionStyleModel",
            "_view_count": null,
            "_view_module": "@jupyter-widgets/base",
            "_view_module_version": "1.2.0",
            "_view_name": "StyleView",
            "description_width": ""
          }
        },
        "898f433dbe64411b864fbbcb124dd8ad": {
          "model_module": "@jupyter-widgets/base",
          "model_name": "LayoutModel",
          "model_module_version": "1.2.0",
          "state": {
            "_model_module": "@jupyter-widgets/base",
            "_model_module_version": "1.2.0",
            "_model_name": "LayoutModel",
            "_view_count": null,
            "_view_module": "@jupyter-widgets/base",
            "_view_module_version": "1.2.0",
            "_view_name": "LayoutView",
            "align_content": null,
            "align_items": null,
            "align_self": null,
            "border": null,
            "bottom": null,
            "display": null,
            "flex": null,
            "flex_flow": null,
            "grid_area": null,
            "grid_auto_columns": null,
            "grid_auto_flow": null,
            "grid_auto_rows": null,
            "grid_column": null,
            "grid_gap": null,
            "grid_row": null,
            "grid_template_areas": null,
            "grid_template_columns": null,
            "grid_template_rows": null,
            "height": null,
            "justify_content": null,
            "justify_items": null,
            "left": null,
            "margin": null,
            "max_height": null,
            "max_width": null,
            "min_height": null,
            "min_width": null,
            "object_fit": null,
            "object_position": null,
            "order": null,
            "overflow": null,
            "overflow_x": null,
            "overflow_y": null,
            "padding": null,
            "right": null,
            "top": null,
            "visibility": null,
            "width": null
          }
        },
        "0fa27e9dfbf54f7caba2de25ee4f3f20": {
          "model_module": "@jupyter-widgets/controls",
          "model_name": "ProgressStyleModel",
          "model_module_version": "1.5.0",
          "state": {
            "_model_module": "@jupyter-widgets/controls",
            "_model_module_version": "1.5.0",
            "_model_name": "ProgressStyleModel",
            "_view_count": null,
            "_view_module": "@jupyter-widgets/base",
            "_view_module_version": "1.2.0",
            "_view_name": "StyleView",
            "bar_color": null,
            "description_width": ""
          }
        },
        "e9c9886f4c7041f4a96fe15512b36826": {
          "model_module": "@jupyter-widgets/base",
          "model_name": "LayoutModel",
          "model_module_version": "1.2.0",
          "state": {
            "_model_module": "@jupyter-widgets/base",
            "_model_module_version": "1.2.0",
            "_model_name": "LayoutModel",
            "_view_count": null,
            "_view_module": "@jupyter-widgets/base",
            "_view_module_version": "1.2.0",
            "_view_name": "LayoutView",
            "align_content": null,
            "align_items": null,
            "align_self": null,
            "border": null,
            "bottom": null,
            "display": null,
            "flex": null,
            "flex_flow": null,
            "grid_area": null,
            "grid_auto_columns": null,
            "grid_auto_flow": null,
            "grid_auto_rows": null,
            "grid_column": null,
            "grid_gap": null,
            "grid_row": null,
            "grid_template_areas": null,
            "grid_template_columns": null,
            "grid_template_rows": null,
            "height": null,
            "justify_content": null,
            "justify_items": null,
            "left": null,
            "margin": null,
            "max_height": null,
            "max_width": null,
            "min_height": null,
            "min_width": null,
            "object_fit": null,
            "object_position": null,
            "order": null,
            "overflow": null,
            "overflow_x": null,
            "overflow_y": null,
            "padding": null,
            "right": null,
            "top": null,
            "visibility": null,
            "width": null
          }
        },
        "62a10a1ee9ae485aaeeac3ba257aafbd": {
          "model_module": "@jupyter-widgets/controls",
          "model_name": "DescriptionStyleModel",
          "model_module_version": "1.5.0",
          "state": {
            "_model_module": "@jupyter-widgets/controls",
            "_model_module_version": "1.5.0",
            "_model_name": "DescriptionStyleModel",
            "_view_count": null,
            "_view_module": "@jupyter-widgets/base",
            "_view_module_version": "1.2.0",
            "_view_name": "StyleView",
            "description_width": ""
          }
        },
        "dfdf347b867143eeb8e40d8135a1a342": {
          "model_module": "@jupyter-widgets/controls",
          "model_name": "HBoxModel",
          "model_module_version": "1.5.0",
          "state": {
            "_dom_classes": [],
            "_model_module": "@jupyter-widgets/controls",
            "_model_module_version": "1.5.0",
            "_model_name": "HBoxModel",
            "_view_count": null,
            "_view_module": "@jupyter-widgets/controls",
            "_view_module_version": "1.5.0",
            "_view_name": "HBoxView",
            "box_style": "",
            "children": [
              "IPY_MODEL_71769e2696bc4b2281c9ca45e9c470bf",
              "IPY_MODEL_79d612c7660b4b2f827b3433ecd5c9bc",
              "IPY_MODEL_17034cf9315a479dad1720817c64e888"
            ],
            "layout": "IPY_MODEL_bd2947332232491794070c627a537abd"
          }
        },
        "71769e2696bc4b2281c9ca45e9c470bf": {
          "model_module": "@jupyter-widgets/controls",
          "model_name": "HTMLModel",
          "model_module_version": "1.5.0",
          "state": {
            "_dom_classes": [],
            "_model_module": "@jupyter-widgets/controls",
            "_model_module_version": "1.5.0",
            "_model_name": "HTMLModel",
            "_view_count": null,
            "_view_module": "@jupyter-widgets/controls",
            "_view_module_version": "1.5.0",
            "_view_name": "HTMLView",
            "description": "",
            "description_tooltip": null,
            "layout": "IPY_MODEL_8e0a08e6e7124756a44be5fb34d1e0e9",
            "placeholder": "​",
            "style": "IPY_MODEL_2d6de4785d334308975b011d67502c01",
            "value": "100%"
          }
        },
        "79d612c7660b4b2f827b3433ecd5c9bc": {
          "model_module": "@jupyter-widgets/controls",
          "model_name": "FloatProgressModel",
          "model_module_version": "1.5.0",
          "state": {
            "_dom_classes": [],
            "_model_module": "@jupyter-widgets/controls",
            "_model_module_version": "1.5.0",
            "_model_name": "FloatProgressModel",
            "_view_count": null,
            "_view_module": "@jupyter-widgets/controls",
            "_view_module_version": "1.5.0",
            "_view_name": "ProgressView",
            "bar_style": "success",
            "description": "",
            "description_tooltip": null,
            "layout": "IPY_MODEL_7388b485959f4ce993bb9cde6e00b838",
            "max": 1648877,
            "min": 0,
            "orientation": "horizontal",
            "style": "IPY_MODEL_cb50449ecfa84426895dff2f432769b3",
            "value": 1648877
          }
        },
        "17034cf9315a479dad1720817c64e888": {
          "model_module": "@jupyter-widgets/controls",
          "model_name": "HTMLModel",
          "model_module_version": "1.5.0",
          "state": {
            "_dom_classes": [],
            "_model_module": "@jupyter-widgets/controls",
            "_model_module_version": "1.5.0",
            "_model_name": "HTMLModel",
            "_view_count": null,
            "_view_module": "@jupyter-widgets/controls",
            "_view_module_version": "1.5.0",
            "_view_name": "HTMLView",
            "description": "",
            "description_tooltip": null,
            "layout": "IPY_MODEL_6ef5f04fc39548568f436265eb2677bf",
            "placeholder": "​",
            "style": "IPY_MODEL_11267993a5a9464593768f2960a2d9ac",
            "value": " 1648877/1648877 [00:00&lt;00:00, 32757951.11it/s]"
          }
        },
        "bd2947332232491794070c627a537abd": {
          "model_module": "@jupyter-widgets/base",
          "model_name": "LayoutModel",
          "model_module_version": "1.2.0",
          "state": {
            "_model_module": "@jupyter-widgets/base",
            "_model_module_version": "1.2.0",
            "_model_name": "LayoutModel",
            "_view_count": null,
            "_view_module": "@jupyter-widgets/base",
            "_view_module_version": "1.2.0",
            "_view_name": "LayoutView",
            "align_content": null,
            "align_items": null,
            "align_self": null,
            "border": null,
            "bottom": null,
            "display": null,
            "flex": null,
            "flex_flow": null,
            "grid_area": null,
            "grid_auto_columns": null,
            "grid_auto_flow": null,
            "grid_auto_rows": null,
            "grid_column": null,
            "grid_gap": null,
            "grid_row": null,
            "grid_template_areas": null,
            "grid_template_columns": null,
            "grid_template_rows": null,
            "height": null,
            "justify_content": null,
            "justify_items": null,
            "left": null,
            "margin": null,
            "max_height": null,
            "max_width": null,
            "min_height": null,
            "min_width": null,
            "object_fit": null,
            "object_position": null,
            "order": null,
            "overflow": null,
            "overflow_x": null,
            "overflow_y": null,
            "padding": null,
            "right": null,
            "top": null,
            "visibility": null,
            "width": null
          }
        },
        "8e0a08e6e7124756a44be5fb34d1e0e9": {
          "model_module": "@jupyter-widgets/base",
          "model_name": "LayoutModel",
          "model_module_version": "1.2.0",
          "state": {
            "_model_module": "@jupyter-widgets/base",
            "_model_module_version": "1.2.0",
            "_model_name": "LayoutModel",
            "_view_count": null,
            "_view_module": "@jupyter-widgets/base",
            "_view_module_version": "1.2.0",
            "_view_name": "LayoutView",
            "align_content": null,
            "align_items": null,
            "align_self": null,
            "border": null,
            "bottom": null,
            "display": null,
            "flex": null,
            "flex_flow": null,
            "grid_area": null,
            "grid_auto_columns": null,
            "grid_auto_flow": null,
            "grid_auto_rows": null,
            "grid_column": null,
            "grid_gap": null,
            "grid_row": null,
            "grid_template_areas": null,
            "grid_template_columns": null,
            "grid_template_rows": null,
            "height": null,
            "justify_content": null,
            "justify_items": null,
            "left": null,
            "margin": null,
            "max_height": null,
            "max_width": null,
            "min_height": null,
            "min_width": null,
            "object_fit": null,
            "object_position": null,
            "order": null,
            "overflow": null,
            "overflow_x": null,
            "overflow_y": null,
            "padding": null,
            "right": null,
            "top": null,
            "visibility": null,
            "width": null
          }
        },
        "2d6de4785d334308975b011d67502c01": {
          "model_module": "@jupyter-widgets/controls",
          "model_name": "DescriptionStyleModel",
          "model_module_version": "1.5.0",
          "state": {
            "_model_module": "@jupyter-widgets/controls",
            "_model_module_version": "1.5.0",
            "_model_name": "DescriptionStyleModel",
            "_view_count": null,
            "_view_module": "@jupyter-widgets/base",
            "_view_module_version": "1.2.0",
            "_view_name": "StyleView",
            "description_width": ""
          }
        },
        "7388b485959f4ce993bb9cde6e00b838": {
          "model_module": "@jupyter-widgets/base",
          "model_name": "LayoutModel",
          "model_module_version": "1.2.0",
          "state": {
            "_model_module": "@jupyter-widgets/base",
            "_model_module_version": "1.2.0",
            "_model_name": "LayoutModel",
            "_view_count": null,
            "_view_module": "@jupyter-widgets/base",
            "_view_module_version": "1.2.0",
            "_view_name": "LayoutView",
            "align_content": null,
            "align_items": null,
            "align_self": null,
            "border": null,
            "bottom": null,
            "display": null,
            "flex": null,
            "flex_flow": null,
            "grid_area": null,
            "grid_auto_columns": null,
            "grid_auto_flow": null,
            "grid_auto_rows": null,
            "grid_column": null,
            "grid_gap": null,
            "grid_row": null,
            "grid_template_areas": null,
            "grid_template_columns": null,
            "grid_template_rows": null,
            "height": null,
            "justify_content": null,
            "justify_items": null,
            "left": null,
            "margin": null,
            "max_height": null,
            "max_width": null,
            "min_height": null,
            "min_width": null,
            "object_fit": null,
            "object_position": null,
            "order": null,
            "overflow": null,
            "overflow_x": null,
            "overflow_y": null,
            "padding": null,
            "right": null,
            "top": null,
            "visibility": null,
            "width": null
          }
        },
        "cb50449ecfa84426895dff2f432769b3": {
          "model_module": "@jupyter-widgets/controls",
          "model_name": "ProgressStyleModel",
          "model_module_version": "1.5.0",
          "state": {
            "_model_module": "@jupyter-widgets/controls",
            "_model_module_version": "1.5.0",
            "_model_name": "ProgressStyleModel",
            "_view_count": null,
            "_view_module": "@jupyter-widgets/base",
            "_view_module_version": "1.2.0",
            "_view_name": "StyleView",
            "bar_color": null,
            "description_width": ""
          }
        },
        "6ef5f04fc39548568f436265eb2677bf": {
          "model_module": "@jupyter-widgets/base",
          "model_name": "LayoutModel",
          "model_module_version": "1.2.0",
          "state": {
            "_model_module": "@jupyter-widgets/base",
            "_model_module_version": "1.2.0",
            "_model_name": "LayoutModel",
            "_view_count": null,
            "_view_module": "@jupyter-widgets/base",
            "_view_module_version": "1.2.0",
            "_view_name": "LayoutView",
            "align_content": null,
            "align_items": null,
            "align_self": null,
            "border": null,
            "bottom": null,
            "display": null,
            "flex": null,
            "flex_flow": null,
            "grid_area": null,
            "grid_auto_columns": null,
            "grid_auto_flow": null,
            "grid_auto_rows": null,
            "grid_column": null,
            "grid_gap": null,
            "grid_row": null,
            "grid_template_areas": null,
            "grid_template_columns": null,
            "grid_template_rows": null,
            "height": null,
            "justify_content": null,
            "justify_items": null,
            "left": null,
            "margin": null,
            "max_height": null,
            "max_width": null,
            "min_height": null,
            "min_width": null,
            "object_fit": null,
            "object_position": null,
            "order": null,
            "overflow": null,
            "overflow_x": null,
            "overflow_y": null,
            "padding": null,
            "right": null,
            "top": null,
            "visibility": null,
            "width": null
          }
        },
        "11267993a5a9464593768f2960a2d9ac": {
          "model_module": "@jupyter-widgets/controls",
          "model_name": "DescriptionStyleModel",
          "model_module_version": "1.5.0",
          "state": {
            "_model_module": "@jupyter-widgets/controls",
            "_model_module_version": "1.5.0",
            "_model_name": "DescriptionStyleModel",
            "_view_count": null,
            "_view_module": "@jupyter-widgets/base",
            "_view_module_version": "1.2.0",
            "_view_name": "StyleView",
            "description_width": ""
          }
        },
        "86259dcc2ed345b9b33840fecc5754cf": {
          "model_module": "@jupyter-widgets/controls",
          "model_name": "HBoxModel",
          "model_module_version": "1.5.0",
          "state": {
            "_dom_classes": [],
            "_model_module": "@jupyter-widgets/controls",
            "_model_module_version": "1.5.0",
            "_model_name": "HBoxModel",
            "_view_count": null,
            "_view_module": "@jupyter-widgets/controls",
            "_view_module_version": "1.5.0",
            "_view_name": "HBoxView",
            "box_style": "",
            "children": [
              "IPY_MODEL_18265323e26d44e59a74f4f5fee9eba8",
              "IPY_MODEL_a9df3286546b47f9bcb3c20499b3f8c0",
              "IPY_MODEL_11b5e54d0d094482a3e787c73f99858d"
            ],
            "layout": "IPY_MODEL_6fe5f40623df41439e981d671a564805"
          }
        },
        "18265323e26d44e59a74f4f5fee9eba8": {
          "model_module": "@jupyter-widgets/controls",
          "model_name": "HTMLModel",
          "model_module_version": "1.5.0",
          "state": {
            "_dom_classes": [],
            "_model_module": "@jupyter-widgets/controls",
            "_model_module_version": "1.5.0",
            "_model_name": "HTMLModel",
            "_view_count": null,
            "_view_module": "@jupyter-widgets/controls",
            "_view_module_version": "1.5.0",
            "_view_name": "HTMLView",
            "description": "",
            "description_tooltip": null,
            "layout": "IPY_MODEL_a26466bf656f43a6bf6201ff73baff9f",
            "placeholder": "​",
            "style": "IPY_MODEL_ba322251a0be4016b0f9d99b65b0e7f2",
            "value": "100%"
          }
        },
        "a9df3286546b47f9bcb3c20499b3f8c0": {
          "model_module": "@jupyter-widgets/controls",
          "model_name": "FloatProgressModel",
          "model_module_version": "1.5.0",
          "state": {
            "_dom_classes": [],
            "_model_module": "@jupyter-widgets/controls",
            "_model_module_version": "1.5.0",
            "_model_name": "FloatProgressModel",
            "_view_count": null,
            "_view_module": "@jupyter-widgets/controls",
            "_view_module_version": "1.5.0",
            "_view_name": "ProgressView",
            "bar_style": "success",
            "description": "",
            "description_tooltip": null,
            "layout": "IPY_MODEL_bf4cec976c364e2b9cee5e549b21f746",
            "max": 4542,
            "min": 0,
            "orientation": "horizontal",
            "style": "IPY_MODEL_34d4aaccbd004a1eb208e756b7ee70e0",
            "value": 4542
          }
        },
        "11b5e54d0d094482a3e787c73f99858d": {
          "model_module": "@jupyter-widgets/controls",
          "model_name": "HTMLModel",
          "model_module_version": "1.5.0",
          "state": {
            "_dom_classes": [],
            "_model_module": "@jupyter-widgets/controls",
            "_model_module_version": "1.5.0",
            "_model_name": "HTMLModel",
            "_view_count": null,
            "_view_module": "@jupyter-widgets/controls",
            "_view_module_version": "1.5.0",
            "_view_name": "HTMLView",
            "description": "",
            "description_tooltip": null,
            "layout": "IPY_MODEL_44836dd27d1044d7aa8a795f91465830",
            "placeholder": "​",
            "style": "IPY_MODEL_166b339360db4e6d9636b3374e95ebef",
            "value": " 4542/4542 [00:00&lt;00:00, 75223.90it/s]"
          }
        },
        "6fe5f40623df41439e981d671a564805": {
          "model_module": "@jupyter-widgets/base",
          "model_name": "LayoutModel",
          "model_module_version": "1.2.0",
          "state": {
            "_model_module": "@jupyter-widgets/base",
            "_model_module_version": "1.2.0",
            "_model_name": "LayoutModel",
            "_view_count": null,
            "_view_module": "@jupyter-widgets/base",
            "_view_module_version": "1.2.0",
            "_view_name": "LayoutView",
            "align_content": null,
            "align_items": null,
            "align_self": null,
            "border": null,
            "bottom": null,
            "display": null,
            "flex": null,
            "flex_flow": null,
            "grid_area": null,
            "grid_auto_columns": null,
            "grid_auto_flow": null,
            "grid_auto_rows": null,
            "grid_column": null,
            "grid_gap": null,
            "grid_row": null,
            "grid_template_areas": null,
            "grid_template_columns": null,
            "grid_template_rows": null,
            "height": null,
            "justify_content": null,
            "justify_items": null,
            "left": null,
            "margin": null,
            "max_height": null,
            "max_width": null,
            "min_height": null,
            "min_width": null,
            "object_fit": null,
            "object_position": null,
            "order": null,
            "overflow": null,
            "overflow_x": null,
            "overflow_y": null,
            "padding": null,
            "right": null,
            "top": null,
            "visibility": null,
            "width": null
          }
        },
        "a26466bf656f43a6bf6201ff73baff9f": {
          "model_module": "@jupyter-widgets/base",
          "model_name": "LayoutModel",
          "model_module_version": "1.2.0",
          "state": {
            "_model_module": "@jupyter-widgets/base",
            "_model_module_version": "1.2.0",
            "_model_name": "LayoutModel",
            "_view_count": null,
            "_view_module": "@jupyter-widgets/base",
            "_view_module_version": "1.2.0",
            "_view_name": "LayoutView",
            "align_content": null,
            "align_items": null,
            "align_self": null,
            "border": null,
            "bottom": null,
            "display": null,
            "flex": null,
            "flex_flow": null,
            "grid_area": null,
            "grid_auto_columns": null,
            "grid_auto_flow": null,
            "grid_auto_rows": null,
            "grid_column": null,
            "grid_gap": null,
            "grid_row": null,
            "grid_template_areas": null,
            "grid_template_columns": null,
            "grid_template_rows": null,
            "height": null,
            "justify_content": null,
            "justify_items": null,
            "left": null,
            "margin": null,
            "max_height": null,
            "max_width": null,
            "min_height": null,
            "min_width": null,
            "object_fit": null,
            "object_position": null,
            "order": null,
            "overflow": null,
            "overflow_x": null,
            "overflow_y": null,
            "padding": null,
            "right": null,
            "top": null,
            "visibility": null,
            "width": null
          }
        },
        "ba322251a0be4016b0f9d99b65b0e7f2": {
          "model_module": "@jupyter-widgets/controls",
          "model_name": "DescriptionStyleModel",
          "model_module_version": "1.5.0",
          "state": {
            "_model_module": "@jupyter-widgets/controls",
            "_model_module_version": "1.5.0",
            "_model_name": "DescriptionStyleModel",
            "_view_count": null,
            "_view_module": "@jupyter-widgets/base",
            "_view_module_version": "1.2.0",
            "_view_name": "StyleView",
            "description_width": ""
          }
        },
        "bf4cec976c364e2b9cee5e549b21f746": {
          "model_module": "@jupyter-widgets/base",
          "model_name": "LayoutModel",
          "model_module_version": "1.2.0",
          "state": {
            "_model_module": "@jupyter-widgets/base",
            "_model_module_version": "1.2.0",
            "_model_name": "LayoutModel",
            "_view_count": null,
            "_view_module": "@jupyter-widgets/base",
            "_view_module_version": "1.2.0",
            "_view_name": "LayoutView",
            "align_content": null,
            "align_items": null,
            "align_self": null,
            "border": null,
            "bottom": null,
            "display": null,
            "flex": null,
            "flex_flow": null,
            "grid_area": null,
            "grid_auto_columns": null,
            "grid_auto_flow": null,
            "grid_auto_rows": null,
            "grid_column": null,
            "grid_gap": null,
            "grid_row": null,
            "grid_template_areas": null,
            "grid_template_columns": null,
            "grid_template_rows": null,
            "height": null,
            "justify_content": null,
            "justify_items": null,
            "left": null,
            "margin": null,
            "max_height": null,
            "max_width": null,
            "min_height": null,
            "min_width": null,
            "object_fit": null,
            "object_position": null,
            "order": null,
            "overflow": null,
            "overflow_x": null,
            "overflow_y": null,
            "padding": null,
            "right": null,
            "top": null,
            "visibility": null,
            "width": null
          }
        },
        "34d4aaccbd004a1eb208e756b7ee70e0": {
          "model_module": "@jupyter-widgets/controls",
          "model_name": "ProgressStyleModel",
          "model_module_version": "1.5.0",
          "state": {
            "_model_module": "@jupyter-widgets/controls",
            "_model_module_version": "1.5.0",
            "_model_name": "ProgressStyleModel",
            "_view_count": null,
            "_view_module": "@jupyter-widgets/base",
            "_view_module_version": "1.2.0",
            "_view_name": "StyleView",
            "bar_color": null,
            "description_width": ""
          }
        },
        "44836dd27d1044d7aa8a795f91465830": {
          "model_module": "@jupyter-widgets/base",
          "model_name": "LayoutModel",
          "model_module_version": "1.2.0",
          "state": {
            "_model_module": "@jupyter-widgets/base",
            "_model_module_version": "1.2.0",
            "_model_name": "LayoutModel",
            "_view_count": null,
            "_view_module": "@jupyter-widgets/base",
            "_view_module_version": "1.2.0",
            "_view_name": "LayoutView",
            "align_content": null,
            "align_items": null,
            "align_self": null,
            "border": null,
            "bottom": null,
            "display": null,
            "flex": null,
            "flex_flow": null,
            "grid_area": null,
            "grid_auto_columns": null,
            "grid_auto_flow": null,
            "grid_auto_rows": null,
            "grid_column": null,
            "grid_gap": null,
            "grid_row": null,
            "grid_template_areas": null,
            "grid_template_columns": null,
            "grid_template_rows": null,
            "height": null,
            "justify_content": null,
            "justify_items": null,
            "left": null,
            "margin": null,
            "max_height": null,
            "max_width": null,
            "min_height": null,
            "min_width": null,
            "object_fit": null,
            "object_position": null,
            "order": null,
            "overflow": null,
            "overflow_x": null,
            "overflow_y": null,
            "padding": null,
            "right": null,
            "top": null,
            "visibility": null,
            "width": null
          }
        },
        "166b339360db4e6d9636b3374e95ebef": {
          "model_module": "@jupyter-widgets/controls",
          "model_name": "DescriptionStyleModel",
          "model_module_version": "1.5.0",
          "state": {
            "_model_module": "@jupyter-widgets/controls",
            "_model_module_version": "1.5.0",
            "_model_name": "DescriptionStyleModel",
            "_view_count": null,
            "_view_module": "@jupyter-widgets/base",
            "_view_module_version": "1.2.0",
            "_view_name": "StyleView",
            "description_width": ""
          }
        },
        "52b812bbe54b4168a716ef354a0a123f": {
          "model_module": "@jupyter-widgets/controls",
          "model_name": "HBoxModel",
          "model_module_version": "1.5.0",
          "state": {
            "_dom_classes": [],
            "_model_module": "@jupyter-widgets/controls",
            "_model_module_version": "1.5.0",
            "_model_name": "HBoxModel",
            "_view_count": null,
            "_view_module": "@jupyter-widgets/controls",
            "_view_module_version": "1.5.0",
            "_view_name": "HBoxView",
            "box_style": "",
            "children": [
              "IPY_MODEL_0c21ab8fddb14f74808660d171ee6e33",
              "IPY_MODEL_071f92e37d7c4c94b551de7a542d7d2c",
              "IPY_MODEL_3d3a05edfdd242aaa8704b89ccf60f80"
            ],
            "layout": "IPY_MODEL_f38ee2da336c445ea75041bf0147455b"
          }
        },
        "0c21ab8fddb14f74808660d171ee6e33": {
          "model_module": "@jupyter-widgets/controls",
          "model_name": "HTMLModel",
          "model_module_version": "1.5.0",
          "state": {
            "_dom_classes": [],
            "_model_module": "@jupyter-widgets/controls",
            "_model_module_version": "1.5.0",
            "_model_name": "HTMLModel",
            "_view_count": null,
            "_view_module": "@jupyter-widgets/controls",
            "_view_module_version": "1.5.0",
            "_view_name": "HTMLView",
            "description": "",
            "description_tooltip": null,
            "layout": "IPY_MODEL_92f23b405e0d4927a05b804b4659932b",
            "placeholder": "​",
            "style": "IPY_MODEL_f61d3fb4538b4ced9f4b5797cb79434f",
            "value": "100%"
          }
        },
        "071f92e37d7c4c94b551de7a542d7d2c": {
          "model_module": "@jupyter-widgets/controls",
          "model_name": "FloatProgressModel",
          "model_module_version": "1.5.0",
          "state": {
            "_dom_classes": [],
            "_model_module": "@jupyter-widgets/controls",
            "_model_module_version": "1.5.0",
            "_model_name": "FloatProgressModel",
            "_view_count": null,
            "_view_module": "@jupyter-widgets/controls",
            "_view_module_version": "1.5.0",
            "_view_name": "ProgressView",
            "bar_style": "success",
            "description": "",
            "description_tooltip": null,
            "layout": "IPY_MODEL_a0324e6580534aaaaa663feb044802bf",
            "max": 15,
            "min": 0,
            "orientation": "horizontal",
            "style": "IPY_MODEL_4d39572c9c8242359cd6f507e7d1e06b",
            "value": 15
          }
        },
        "3d3a05edfdd242aaa8704b89ccf60f80": {
          "model_module": "@jupyter-widgets/controls",
          "model_name": "HTMLModel",
          "model_module_version": "1.5.0",
          "state": {
            "_dom_classes": [],
            "_model_module": "@jupyter-widgets/controls",
            "_model_module_version": "1.5.0",
            "_model_name": "HTMLModel",
            "_view_count": null,
            "_view_module": "@jupyter-widgets/controls",
            "_view_module_version": "1.5.0",
            "_view_name": "HTMLView",
            "description": "",
            "description_tooltip": null,
            "layout": "IPY_MODEL_ec8d69376d954bb893559ae0b1ef895a",
            "placeholder": "​",
            "style": "IPY_MODEL_48bb70facfd24d36abae3a63cda5a693",
            "value": " 15/15 [02:45&lt;00:00, 11.06s/it]"
          }
        },
        "f38ee2da336c445ea75041bf0147455b": {
          "model_module": "@jupyter-widgets/base",
          "model_name": "LayoutModel",
          "model_module_version": "1.2.0",
          "state": {
            "_model_module": "@jupyter-widgets/base",
            "_model_module_version": "1.2.0",
            "_model_name": "LayoutModel",
            "_view_count": null,
            "_view_module": "@jupyter-widgets/base",
            "_view_module_version": "1.2.0",
            "_view_name": "LayoutView",
            "align_content": null,
            "align_items": null,
            "align_self": null,
            "border": null,
            "bottom": null,
            "display": null,
            "flex": null,
            "flex_flow": null,
            "grid_area": null,
            "grid_auto_columns": null,
            "grid_auto_flow": null,
            "grid_auto_rows": null,
            "grid_column": null,
            "grid_gap": null,
            "grid_row": null,
            "grid_template_areas": null,
            "grid_template_columns": null,
            "grid_template_rows": null,
            "height": null,
            "justify_content": null,
            "justify_items": null,
            "left": null,
            "margin": null,
            "max_height": null,
            "max_width": null,
            "min_height": null,
            "min_width": null,
            "object_fit": null,
            "object_position": null,
            "order": null,
            "overflow": null,
            "overflow_x": null,
            "overflow_y": null,
            "padding": null,
            "right": null,
            "top": null,
            "visibility": null,
            "width": null
          }
        },
        "92f23b405e0d4927a05b804b4659932b": {
          "model_module": "@jupyter-widgets/base",
          "model_name": "LayoutModel",
          "model_module_version": "1.2.0",
          "state": {
            "_model_module": "@jupyter-widgets/base",
            "_model_module_version": "1.2.0",
            "_model_name": "LayoutModel",
            "_view_count": null,
            "_view_module": "@jupyter-widgets/base",
            "_view_module_version": "1.2.0",
            "_view_name": "LayoutView",
            "align_content": null,
            "align_items": null,
            "align_self": null,
            "border": null,
            "bottom": null,
            "display": null,
            "flex": null,
            "flex_flow": null,
            "grid_area": null,
            "grid_auto_columns": null,
            "grid_auto_flow": null,
            "grid_auto_rows": null,
            "grid_column": null,
            "grid_gap": null,
            "grid_row": null,
            "grid_template_areas": null,
            "grid_template_columns": null,
            "grid_template_rows": null,
            "height": null,
            "justify_content": null,
            "justify_items": null,
            "left": null,
            "margin": null,
            "max_height": null,
            "max_width": null,
            "min_height": null,
            "min_width": null,
            "object_fit": null,
            "object_position": null,
            "order": null,
            "overflow": null,
            "overflow_x": null,
            "overflow_y": null,
            "padding": null,
            "right": null,
            "top": null,
            "visibility": null,
            "width": null
          }
        },
        "f61d3fb4538b4ced9f4b5797cb79434f": {
          "model_module": "@jupyter-widgets/controls",
          "model_name": "DescriptionStyleModel",
          "model_module_version": "1.5.0",
          "state": {
            "_model_module": "@jupyter-widgets/controls",
            "_model_module_version": "1.5.0",
            "_model_name": "DescriptionStyleModel",
            "_view_count": null,
            "_view_module": "@jupyter-widgets/base",
            "_view_module_version": "1.2.0",
            "_view_name": "StyleView",
            "description_width": ""
          }
        },
        "a0324e6580534aaaaa663feb044802bf": {
          "model_module": "@jupyter-widgets/base",
          "model_name": "LayoutModel",
          "model_module_version": "1.2.0",
          "state": {
            "_model_module": "@jupyter-widgets/base",
            "_model_module_version": "1.2.0",
            "_model_name": "LayoutModel",
            "_view_count": null,
            "_view_module": "@jupyter-widgets/base",
            "_view_module_version": "1.2.0",
            "_view_name": "LayoutView",
            "align_content": null,
            "align_items": null,
            "align_self": null,
            "border": null,
            "bottom": null,
            "display": null,
            "flex": null,
            "flex_flow": null,
            "grid_area": null,
            "grid_auto_columns": null,
            "grid_auto_flow": null,
            "grid_auto_rows": null,
            "grid_column": null,
            "grid_gap": null,
            "grid_row": null,
            "grid_template_areas": null,
            "grid_template_columns": null,
            "grid_template_rows": null,
            "height": null,
            "justify_content": null,
            "justify_items": null,
            "left": null,
            "margin": null,
            "max_height": null,
            "max_width": null,
            "min_height": null,
            "min_width": null,
            "object_fit": null,
            "object_position": null,
            "order": null,
            "overflow": null,
            "overflow_x": null,
            "overflow_y": null,
            "padding": null,
            "right": null,
            "top": null,
            "visibility": null,
            "width": null
          }
        },
        "4d39572c9c8242359cd6f507e7d1e06b": {
          "model_module": "@jupyter-widgets/controls",
          "model_name": "ProgressStyleModel",
          "model_module_version": "1.5.0",
          "state": {
            "_model_module": "@jupyter-widgets/controls",
            "_model_module_version": "1.5.0",
            "_model_name": "ProgressStyleModel",
            "_view_count": null,
            "_view_module": "@jupyter-widgets/base",
            "_view_module_version": "1.2.0",
            "_view_name": "StyleView",
            "bar_color": null,
            "description_width": ""
          }
        },
        "ec8d69376d954bb893559ae0b1ef895a": {
          "model_module": "@jupyter-widgets/base",
          "model_name": "LayoutModel",
          "model_module_version": "1.2.0",
          "state": {
            "_model_module": "@jupyter-widgets/base",
            "_model_module_version": "1.2.0",
            "_model_name": "LayoutModel",
            "_view_count": null,
            "_view_module": "@jupyter-widgets/base",
            "_view_module_version": "1.2.0",
            "_view_name": "LayoutView",
            "align_content": null,
            "align_items": null,
            "align_self": null,
            "border": null,
            "bottom": null,
            "display": null,
            "flex": null,
            "flex_flow": null,
            "grid_area": null,
            "grid_auto_columns": null,
            "grid_auto_flow": null,
            "grid_auto_rows": null,
            "grid_column": null,
            "grid_gap": null,
            "grid_row": null,
            "grid_template_areas": null,
            "grid_template_columns": null,
            "grid_template_rows": null,
            "height": null,
            "justify_content": null,
            "justify_items": null,
            "left": null,
            "margin": null,
            "max_height": null,
            "max_width": null,
            "min_height": null,
            "min_width": null,
            "object_fit": null,
            "object_position": null,
            "order": null,
            "overflow": null,
            "overflow_x": null,
            "overflow_y": null,
            "padding": null,
            "right": null,
            "top": null,
            "visibility": null,
            "width": null
          }
        },
        "48bb70facfd24d36abae3a63cda5a693": {
          "model_module": "@jupyter-widgets/controls",
          "model_name": "DescriptionStyleModel",
          "model_module_version": "1.5.0",
          "state": {
            "_model_module": "@jupyter-widgets/controls",
            "_model_module_version": "1.5.0",
            "_model_name": "DescriptionStyleModel",
            "_view_count": null,
            "_view_module": "@jupyter-widgets/base",
            "_view_module_version": "1.2.0",
            "_view_name": "StyleView",
            "description_width": ""
          }
        }
      }
    }
  },
  "nbformat": 4,
  "nbformat_minor": 5
}