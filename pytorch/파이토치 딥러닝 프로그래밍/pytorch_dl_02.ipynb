{
  "nbformat": 4,
  "nbformat_minor": 0,
  "metadata": {
    "colab": {
      "provenance": [],
      "collapsed_sections": []
    },
    "kernelspec": {
      "name": "python3",
      "display_name": "Python 3"
    },
    "language_info": {
      "name": "python"
    }
  },
  "cells": [
    {
      "cell_type": "markdown",
      "source": [
        "## 자동 미분 기능\n",
        "***\n",
        "#### 자동 미분 기능의 스텝은 아래와 같다.\n",
        "\n",
        "1. 미분 계산용 변수 정의 : requires_grad = True로 설정\n",
        "2. 텐서 변수 간의 계산 : 내부에서 계산 그래프가 자동 생성\n",
        "3. 계산 그래프 시각화 : make_dot 함수\n",
        "4. 미분 계산 : backward 함수\n",
        "5. 미분값 가져오기 : grad 속성\n",
        "6. 미분값 초기화 : zero_ 함수"
      ],
      "metadata": {
        "id": "ENtRhkCoQLQk"
      }
    },
    {
      "cell_type": "code",
      "source": [
        "import numpy as np\n",
        "import torch"
      ],
      "metadata": {
        "id": "nJivDHXLQM2N"
      },
      "execution_count": null,
      "outputs": []
    },
    {
      "cell_type": "code",
      "source": [
        "X = np.arange(-2, 2.1, 0.25)"
      ],
      "metadata": {
        "id": "TEXnYTGJWmha"
      },
      "execution_count": 2,
      "outputs": []
    },
    {
      "cell_type": "code",
      "source": [
        "X"
      ],
      "metadata": {
        "colab": {
          "base_uri": "https://localhost:8080/"
        },
        "id": "acm8jfbmWoGv",
        "outputId": "68beeb4a-6087-4665-a772-90d86b51430f"
      },
      "execution_count": 3,
      "outputs": [
        {
          "output_type": "execute_result",
          "data": {
            "text/plain": [
              "array([-2.  , -1.75, -1.5 , -1.25, -1.  , -0.75, -0.5 , -0.25,  0.  ,\n",
              "        0.25,  0.5 ,  0.75,  1.  ,  1.25,  1.5 ,  1.75,  2.  ])"
            ]
          },
          "metadata": {},
          "execution_count": 3
        }
      ]
    },
    {
      "cell_type": "code",
      "source": [
        "### 미분 계산 대상 변수는 requires_grad = True로 설정\n",
        "X = torch.tensor(X, requires_grad = True, dtype = torch.float32)"
      ],
      "metadata": {
        "id": "JQbW01o9WoWP"
      },
      "execution_count": 4,
      "outputs": []
    },
    {
      "cell_type": "code",
      "source": [
        "X"
      ],
      "metadata": {
        "colab": {
          "base_uri": "https://localhost:8080/"
        },
        "id": "4IENVHicWvTy",
        "outputId": "861c4ccd-efac-47e8-fc79-bb6364ebcf67"
      },
      "execution_count": 5,
      "outputs": [
        {
          "output_type": "execute_result",
          "data": {
            "text/plain": [
              "tensor([-2.0000, -1.7500, -1.5000, -1.2500, -1.0000, -0.7500, -0.5000, -0.2500,\n",
              "         0.0000,  0.2500,  0.5000,  0.7500,  1.0000,  1.2500,  1.5000,  1.7500,\n",
              "         2.0000], requires_grad=True)"
            ]
          },
          "metadata": {},
          "execution_count": 5
        }
      ]
    },
    {
      "cell_type": "code",
      "source": [
        "y = 2 * X ** 2 + 2"
      ],
      "metadata": {
        "id": "tCVM6RtTWwv1"
      },
      "execution_count": 6,
      "outputs": []
    },
    {
      "cell_type": "code",
      "source": [
        "y"
      ],
      "metadata": {
        "colab": {
          "base_uri": "https://localhost:8080/"
        },
        "id": "2tj2BKtOWzux",
        "outputId": "f09db7a6-6542-4682-d6f5-0cea31e5c679"
      },
      "execution_count": 7,
      "outputs": [
        {
          "output_type": "execute_result",
          "data": {
            "text/plain": [
              "tensor([10.0000,  8.1250,  6.5000,  5.1250,  4.0000,  3.1250,  2.5000,  2.1250,\n",
              "         2.0000,  2.1250,  2.5000,  3.1250,  4.0000,  5.1250,  6.5000,  8.1250,\n",
              "        10.0000], grad_fn=<AddBackward0>)"
            ]
          },
          "metadata": {},
          "execution_count": 7
        }
      ]
    },
    {
      "cell_type": "code",
      "source": [
        "import matplotlib.pyplot as plt\n",
        "%matplotlib inline"
      ],
      "metadata": {
        "id": "UXX8EkLPWz8k"
      },
      "execution_count": 8,
      "outputs": []
    },
    {
      "cell_type": "code",
      "source": [
        "plt.plot(X.data, y.data)\n",
        "plt.show()"
      ],
      "metadata": {
        "colab": {
          "base_uri": "https://localhost:8080/",
          "height": 265
        },
        "id": "1ch55oN1W50O",
        "outputId": "3ce9b135-eeeb-4375-eb8b-e3756b01ecca"
      },
      "execution_count": 9,
      "outputs": [
        {
          "output_type": "display_data",
          "data": {
            "text/plain": [
              "<Figure size 432x288 with 1 Axes>"
            ],
            "image/png": "[encoded data removed]"
          },
          "metadata": {
            "needs_background": "light"
          }
        }
      ]
    },
    {
      "cell_type": "code",
      "source": [
        "z = y.sum()"
      ],
      "metadata": {
        "id": "UIo3dOgPW7km"
      },
      "execution_count": 10,
      "outputs": []
    },
    {
      "cell_type": "code",
      "source": [
        "z"
      ],
      "metadata": {
        "colab": {
          "base_uri": "https://localhost:8080/"
        },
        "id": "w2aQC0WtW-rD",
        "outputId": "e495ca88-3c54-44b2-9a15-ab80335190ce"
      },
      "execution_count": 11,
      "outputs": [
        {
          "output_type": "execute_result",
          "data": {
            "text/plain": [
              "tensor(85., grad_fn=<SumBackward0>)"
            ]
          },
          "metadata": {},
          "execution_count": 11
        }
      ]
    },
    {
      "cell_type": "code",
      "source": [
        "from torchviz import make_dot"
      ],
      "metadata": {
        "id": "cu2skxGPW-43"
      },
      "execution_count": null,
      "outputs": []
    },
    {
      "cell_type": "code",
      "source": [
        "### 계산 그래프의 대상인 z, 미분 계산 대상의 변수 x\n",
        "g = make_dot(z, params = {'x' : X})\n",
        "display(g)"
      ],
      "metadata": {
        "colab": {
          "base_uri": "https://localhost:8080/",
          "height": 528
        },
        "id": "ynY5yLoXXCMD",
        "outputId": "f547aba6-2061-4f36-ad0e-4832f5523e3e"
      },
      "execution_count": 13,
      "outputs": [
        {
          "output_type": "display_data",
          "data": {
            "text/plain": [
              "<graphviz.dot.Digraph at 0x7fa315aa6fd0>"
            ],
            "image/svg+xml": "<?xml version=\"1.0\" encoding=\"UTF-8\" standalone=\"no\"?>\n<!DOCTYPE svg PUBLIC \"-//W3C//DTD SVG 1.1//EN\"\n \"http://www.w3.org/Graphics/SVG/1.1/DTD/svg11.dtd\">\n<!-- Generated by graphviz version 2.40.1 (20161225.0304)\n -->\n<!-- Title: %3 Pages: 1 -->\n<svg width=\"109pt\" height=\"380pt\"\n viewBox=\"0.00 0.00 109.00 380.00\" xmlns=\"http://www.w3.org/2000/svg\" xmlns:xlink=\"http://www.w3.org/1999/xlink\">\n<g id=\"graph0\" class=\"graph\" transform=\"scale(1 1) rotate(0) translate(4 376)\">\n<title>%3</title>\n<polygon fill=\"#ffffff\" stroke=\"transparent\" points=\"-4,4 -4,-376 105,-376 105,4 -4,4\"/>\n<!-- 140338434713936 -->\n<g id=\"node1\" class=\"node\">\n<title>140338434713936</title>\n<polygon fill=\"#caff70\" stroke=\"#000000\" points=\"77.5,-31 23.5,-31 23.5,0 77.5,0 77.5,-31\"/>\n<text text-anchor=\"middle\" x=\"50.5\" y=\"-7\" font-family=\"monospace\" font-size=\"10.00\" fill=\"#000000\"> ()</text>\n</g>\n<!-- 140338419887952 -->\n<g id=\"node2\" class=\"node\">\n<title>140338419887952</title>\n<polygon fill=\"#d3d3d3\" stroke=\"#000000\" points=\"95,-86 6,-86 6,-67 95,-67 95,-86\"/>\n<text text-anchor=\"middle\" x=\"50.5\" y=\"-74\" font-family=\"monospace\" font-size=\"10.00\" fill=\"#000000\">SumBackward0</text>\n</g>\n<!-- 140338419887952&#45;&gt;140338434713936 -->\n<g id=\"edge6\" class=\"edge\">\n<title>140338419887952&#45;&gt;140338434713936</title>\n<path fill=\"none\" stroke=\"#000000\" d=\"M50.5,-66.9688C50.5,-60.1289 50.5,-50.5621 50.5,-41.5298\"/>\n<polygon fill=\"#000000\" stroke=\"#000000\" points=\"54.0001,-41.3678 50.5,-31.3678 47.0001,-41.3678 54.0001,-41.3678\"/>\n</g>\n<!-- 140338419888016 -->\n<g id=\"node3\" class=\"node\">\n<title>140338419888016</title>\n<polygon fill=\"#d3d3d3\" stroke=\"#000000\" points=\"95,-141 6,-141 6,-122 95,-122 95,-141\"/>\n<text text-anchor=\"middle\" x=\"50.5\" y=\"-129\" font-family=\"monospace\" font-size=\"10.00\" fill=\"#000000\">AddBackward0</text>\n</g>\n<!-- 140338419888016&#45;&gt;140338419887952 -->\n<g id=\"edge1\" class=\"edge\">\n<title>140338419888016&#45;&gt;140338419887952</title>\n<path fill=\"none\" stroke=\"#000000\" d=\"M50.5,-121.9197C50.5,-114.9083 50.5,-105.1442 50.5,-96.4652\"/>\n<polygon fill=\"#000000\" stroke=\"#000000\" points=\"54.0001,-96.3408 50.5,-86.3408 47.0001,-96.3409 54.0001,-96.3408\"/>\n</g>\n<!-- 140340329073168 -->\n<g id=\"node4\" class=\"node\">\n<title>140340329073168</title>\n<polygon fill=\"#d3d3d3\" stroke=\"#000000\" points=\"95,-196 6,-196 6,-177 95,-177 95,-196\"/>\n<text text-anchor=\"middle\" x=\"50.5\" y=\"-184\" font-family=\"monospace\" font-size=\"10.00\" fill=\"#000000\">MulBackward0</text>\n</g>\n<!-- 140340329073168&#45;&gt;140338419888016 -->\n<g id=\"edge2\" class=\"edge\">\n<title>140340329073168&#45;&gt;140338419888016</title>\n<path fill=\"none\" stroke=\"#000000\" d=\"M50.5,-176.9197C50.5,-169.9083 50.5,-160.1442 50.5,-151.4652\"/>\n<polygon fill=\"#000000\" stroke=\"#000000\" points=\"54.0001,-151.3408 50.5,-141.3408 47.0001,-151.3409 54.0001,-151.3408\"/>\n</g>\n<!-- 140338419921040 -->\n<g id=\"node5\" class=\"node\">\n<title>140338419921040</title>\n<polygon fill=\"#d3d3d3\" stroke=\"#000000\" points=\"95,-251 6,-251 6,-232 95,-232 95,-251\"/>\n<text text-anchor=\"middle\" x=\"50.5\" y=\"-239\" font-family=\"monospace\" font-size=\"10.00\" fill=\"#000000\">PowBackward0</text>\n</g>\n<!-- 140338419921040&#45;&gt;140340329073168 -->\n<g id=\"edge3\" class=\"edge\">\n<title>140338419921040&#45;&gt;140340329073168</title>\n<path fill=\"none\" stroke=\"#000000\" d=\"M50.5,-231.9197C50.5,-224.9083 50.5,-215.1442 50.5,-206.4652\"/>\n<polygon fill=\"#000000\" stroke=\"#000000\" points=\"54.0001,-206.3408 50.5,-196.3408 47.0001,-206.3409 54.0001,-206.3408\"/>\n</g>\n<!-- 140338419921360 -->\n<g id=\"node6\" class=\"node\">\n<title>140338419921360</title>\n<polygon fill=\"#d3d3d3\" stroke=\"#000000\" points=\"101,-306 0,-306 0,-287 101,-287 101,-306\"/>\n<text text-anchor=\"middle\" x=\"50.5\" y=\"-294\" font-family=\"monospace\" font-size=\"10.00\" fill=\"#000000\">AccumulateGrad</text>\n</g>\n<!-- 140338419921360&#45;&gt;140338419921040 -->\n<g id=\"edge4\" class=\"edge\">\n<title>140338419921360&#45;&gt;140338419921040</title>\n<path fill=\"none\" stroke=\"#000000\" d=\"M50.5,-286.9197C50.5,-279.9083 50.5,-270.1442 50.5,-261.4652\"/>\n<polygon fill=\"#000000\" stroke=\"#000000\" points=\"54.0001,-261.3408 50.5,-251.3408 47.0001,-261.3409 54.0001,-261.3408\"/>\n</g>\n<!-- 140338434580400 -->\n<g id=\"node7\" class=\"node\">\n<title>140338434580400</title>\n<polygon fill=\"#add8e6\" stroke=\"#000000\" points=\"77.5,-372 23.5,-372 23.5,-342 77.5,-342 77.5,-372\"/>\n<text text-anchor=\"middle\" x=\"50.5\" y=\"-360\" font-family=\"monospace\" font-size=\"10.00\" fill=\"#000000\">x</text>\n<text text-anchor=\"middle\" x=\"50.5\" y=\"-349\" font-family=\"monospace\" font-size=\"10.00\" fill=\"#000000\"> (17)</text>\n</g>\n<!-- 140338434580400&#45;&gt;140338419921360 -->\n<g id=\"edge5\" class=\"edge\">\n<title>140338434580400&#45;&gt;140338419921360</title>\n<path fill=\"none\" stroke=\"#000000\" d=\"M50.5,-341.7333C50.5,-334.0322 50.5,-324.5977 50.5,-316.3414\"/>\n<polygon fill=\"#000000\" stroke=\"#000000\" points=\"54.0001,-316.0864 50.5,-306.0864 47.0001,-316.0864 54.0001,-316.0864\"/>\n</g>\n</g>\n</svg>\n"
          },
          "metadata": {}
        }
      ]
    },
    {
      "cell_type": "markdown",
      "source": [
        "출발점 x를 텐서 변수로 설정하고 requires_grad 그래프를 지정하면 계산 과정이 자동으로 기록된다.\n",
        "\n",
        "값을 계산해 나가며 계산 과정을 자동적으로 기록하는 기능을 Define by Run이라고 하는데 pytorch의 가장 큰 특징이다."
      ],
      "metadata": {
        "id": "8d8zg3UaTeJ7"
      }
    },
    {
      "cell_type": "code",
      "source": [
        "z.backward()"
      ],
      "metadata": {
        "id": "I1GIt3IKXHQY"
      },
      "execution_count": 14,
      "outputs": []
    },
    {
      "cell_type": "code",
      "source": [
        "X.grad"
      ],
      "metadata": {
        "colab": {
          "base_uri": "https://localhost:8080/"
        },
        "id": "S2yGa1R8XX4o",
        "outputId": "26ecb3b6-314d-4116-d864-03d8a46cbbc8"
      },
      "execution_count": 15,
      "outputs": [
        {
          "output_type": "execute_result",
          "data": {
            "text/plain": [
              "tensor([-8., -7., -6., -5., -4., -3., -2., -1.,  0.,  1.,  2.,  3.,  4.,  5.,\n",
              "         6.,  7.,  8.])"
            ]
          },
          "metadata": {},
          "execution_count": 15
        }
      ]
    },
    {
      "cell_type": "code",
      "source": [
        "plt.plot(X.data, y.data, c = 'b', label = 'y')\n",
        "plt.plot(X.data, X.grad.data, c = 'k', label = 'y.grad')\n",
        "plt.legend()\n",
        "plt.show()"
      ],
      "metadata": {
        "colab": {
          "base_uri": "https://localhost:8080/",
          "height": 265
        },
        "id": "aZmINNr5XbNZ",
        "outputId": "6fa7ad43-9837-4ff4-83a0-aa8e77f2f8f5"
      },
      "execution_count": 16,
      "outputs": [
        {
          "output_type": "display_data",
          "data": {
            "text/plain": [
              "<Figure size 432x288 with 1 Axes>"
            ],
            "image/png": "[encoded data removed]"
          },
          "metadata": {
            "needs_background": "light"
          }
        }
      ]
    },
    {
      "cell_type": "code",
      "source": [
        "y = 2 * X ** 2 + 2\n",
        "z = y.sum()\n",
        "z.backward()\n",
        "\n",
        "X.grad"
      ],
      "metadata": {
        "colab": {
          "base_uri": "https://localhost:8080/"
        },
        "id": "JApeZ2OFXwqn",
        "outputId": "d089187d-b511-4bd9-f3a0-1a34027ced9d"
      },
      "execution_count": 17,
      "outputs": [
        {
          "output_type": "execute_result",
          "data": {
            "text/plain": [
              "tensor([-16., -14., -12., -10.,  -8.,  -6.,  -4.,  -2.,   0.,   2.,   4.,   6.,\n",
              "          8.,  10.,  12.,  14.,  16.])"
            ]
          },
          "metadata": {},
          "execution_count": 17
        }
      ]
    },
    {
      "cell_type": "code",
      "source": [
        "### 미분 값을 초기화\n",
        "X.grad.zero_()\n",
        "X.grad"
      ],
      "metadata": {
        "colab": {
          "base_uri": "https://localhost:8080/"
        },
        "id": "eR0KkbfiX5go",
        "outputId": "2e3ba45a-08c3-4f7f-c7f5-c91db272c88c"
      },
      "execution_count": 18,
      "outputs": [
        {
          "output_type": "execute_result",
          "data": {
            "text/plain": [
              "tensor([0., 0., 0., 0., 0., 0., 0., 0., 0., 0., 0., 0., 0., 0., 0., 0., 0.])"
            ]
          },
          "metadata": {},
          "execution_count": 18
        }
      ]
    },
    {
      "cell_type": "code",
      "source": [
        "sigmoid = torch.nn.Sigmoid()"
      ],
      "metadata": {
        "id": "9-gNu-zHYFm1"
      },
      "execution_count": 19,
      "outputs": []
    },
    {
      "cell_type": "code",
      "source": [
        "y = sigmoid(X)"
      ],
      "metadata": {
        "id": "dhQTp5QQYLC3"
      },
      "execution_count": 20,
      "outputs": []
    },
    {
      "cell_type": "code",
      "source": [
        "plt.plot(X.data, y.data)\n",
        "plt.show()"
      ],
      "metadata": {
        "colab": {
          "base_uri": "https://localhost:8080/",
          "height": 265
        },
        "id": "FrT6gKkkYMlH",
        "outputId": "bb83a35c-a2b3-4f77-9a94-50915471328f"
      },
      "execution_count": 21,
      "outputs": [
        {
          "output_type": "display_data",
          "data": {
            "text/plain": [
              "<Figure size 432x288 with 1 Axes>"
            ],
            "image/png": "[encoded data removed]"
          },
          "metadata": {
            "needs_background": "light"
          }
        }
      ]
    },
    {
      "cell_type": "code",
      "source": [
        "z = y.sum()"
      ],
      "metadata": {
        "id": "tHu01E0QYNVZ"
      },
      "execution_count": 22,
      "outputs": []
    },
    {
      "cell_type": "code",
      "source": [
        "g = make_dot(z, {'x' : X})\n",
        "display(g)"
      ],
      "metadata": {
        "colab": {
          "base_uri": "https://localhost:8080/",
          "height": 381
        },
        "id": "PTpZSpKqYgP4",
        "outputId": "0ea8294e-5a9a-49e4-bcdf-227f12d6a7c7"
      },
      "execution_count": 23,
      "outputs": [
        {
          "output_type": "display_data",
          "data": {
            "text/plain": [
              "<graphviz.dot.Digraph at 0x7fa3159d9550>"
            ],
            "image/svg+xml": "<?xml version=\"1.0\" encoding=\"UTF-8\" standalone=\"no\"?>\n<!DOCTYPE svg PUBLIC \"-//W3C//DTD SVG 1.1//EN\"\n \"http://www.w3.org/Graphics/SVG/1.1/DTD/svg11.dtd\">\n<!-- Generated by graphviz version 2.40.1 (20161225.0304)\n -->\n<!-- Title: %3 Pages: 1 -->\n<svg width=\"121pt\" height=\"270pt\"\n viewBox=\"0.00 0.00 121.00 270.00\" xmlns=\"http://www.w3.org/2000/svg\" xmlns:xlink=\"http://www.w3.org/1999/xlink\">\n<g id=\"graph0\" class=\"graph\" transform=\"scale(1 1) rotate(0) translate(4 266)\">\n<title>%3</title>\n<polygon fill=\"#ffffff\" stroke=\"transparent\" points=\"-4,4 -4,-266 117,-266 117,4 -4,4\"/>\n<!-- 140338433887120 -->\n<g id=\"node1\" class=\"node\">\n<title>140338433887120</title>\n<polygon fill=\"#caff70\" stroke=\"#000000\" points=\"83.5,-31 29.5,-31 29.5,0 83.5,0 83.5,-31\"/>\n<text text-anchor=\"middle\" x=\"56.5\" y=\"-7\" font-family=\"monospace\" font-size=\"10.00\" fill=\"#000000\"> ()</text>\n</g>\n<!-- 140338419920976 -->\n<g id=\"node2\" class=\"node\">\n<title>140338419920976</title>\n<polygon fill=\"#d3d3d3\" stroke=\"#000000\" points=\"101,-86 12,-86 12,-67 101,-67 101,-86\"/>\n<text text-anchor=\"middle\" x=\"56.5\" y=\"-74\" font-family=\"monospace\" font-size=\"10.00\" fill=\"#000000\">SumBackward0</text>\n</g>\n<!-- 140338419920976&#45;&gt;140338433887120 -->\n<g id=\"edge4\" class=\"edge\">\n<title>140338419920976&#45;&gt;140338433887120</title>\n<path fill=\"none\" stroke=\"#000000\" d=\"M56.5,-66.9688C56.5,-60.1289 56.5,-50.5621 56.5,-41.5298\"/>\n<polygon fill=\"#000000\" stroke=\"#000000\" points=\"60.0001,-41.3678 56.5,-31.3678 53.0001,-41.3678 60.0001,-41.3678\"/>\n</g>\n<!-- 140338434626576 -->\n<g id=\"node3\" class=\"node\">\n<title>140338434626576</title>\n<polygon fill=\"#d3d3d3\" stroke=\"#000000\" points=\"113,-141 0,-141 0,-122 113,-122 113,-141\"/>\n<text text-anchor=\"middle\" x=\"56.5\" y=\"-129\" font-family=\"monospace\" font-size=\"10.00\" fill=\"#000000\">SigmoidBackward0</text>\n</g>\n<!-- 140338434626576&#45;&gt;140338419920976 -->\n<g id=\"edge1\" class=\"edge\">\n<title>140338434626576&#45;&gt;140338419920976</title>\n<path fill=\"none\" stroke=\"#000000\" d=\"M56.5,-121.9197C56.5,-114.9083 56.5,-105.1442 56.5,-96.4652\"/>\n<polygon fill=\"#000000\" stroke=\"#000000\" points=\"60.0001,-96.3408 56.5,-86.3408 53.0001,-96.3409 60.0001,-96.3408\"/>\n</g>\n<!-- 140338419574224 -->\n<g id=\"node4\" class=\"node\">\n<title>140338419574224</title>\n<polygon fill=\"#d3d3d3\" stroke=\"#000000\" points=\"107,-196 6,-196 6,-177 107,-177 107,-196\"/>\n<text text-anchor=\"middle\" x=\"56.5\" y=\"-184\" font-family=\"monospace\" font-size=\"10.00\" fill=\"#000000\">AccumulateGrad</text>\n</g>\n<!-- 140338419574224&#45;&gt;140338434626576 -->\n<g id=\"edge2\" class=\"edge\">\n<title>140338419574224&#45;&gt;140338434626576</title>\n<path fill=\"none\" stroke=\"#000000\" d=\"M56.5,-176.9197C56.5,-169.9083 56.5,-160.1442 56.5,-151.4652\"/>\n<polygon fill=\"#000000\" stroke=\"#000000\" points=\"60.0001,-151.3408 56.5,-141.3408 53.0001,-151.3409 60.0001,-151.3408\"/>\n</g>\n<!-- 140338434580400 -->\n<g id=\"node5\" class=\"node\">\n<title>140338434580400</title>\n<polygon fill=\"#add8e6\" stroke=\"#000000\" points=\"83.5,-262 29.5,-262 29.5,-232 83.5,-232 83.5,-262\"/>\n<text text-anchor=\"middle\" x=\"56.5\" y=\"-250\" font-family=\"monospace\" font-size=\"10.00\" fill=\"#000000\">x</text>\n<text text-anchor=\"middle\" x=\"56.5\" y=\"-239\" font-family=\"monospace\" font-size=\"10.00\" fill=\"#000000\"> (17)</text>\n</g>\n<!-- 140338434580400&#45;&gt;140338419574224 -->\n<g id=\"edge3\" class=\"edge\">\n<title>140338434580400&#45;&gt;140338419574224</title>\n<path fill=\"none\" stroke=\"#000000\" d=\"M56.5,-231.7333C56.5,-224.0322 56.5,-214.5977 56.5,-206.3414\"/>\n<polygon fill=\"#000000\" stroke=\"#000000\" points=\"60.0001,-206.0864 56.5,-196.0864 53.0001,-206.0864 60.0001,-206.0864\"/>\n</g>\n</g>\n</svg>\n"
          },
          "metadata": {}
        }
      ]
    },
    {
      "cell_type": "code",
      "source": [
        "z.backward()"
      ],
      "metadata": {
        "id": "CDXEmGuyYit7"
      },
      "execution_count": 24,
      "outputs": []
    },
    {
      "cell_type": "code",
      "source": [
        "X.grad"
      ],
      "metadata": {
        "colab": {
          "base_uri": "https://localhost:8080/"
        },
        "id": "2l_DaAAXYl7y",
        "outputId": "e6c3b866-0dfd-4b68-ace4-8f1554ed7538"
      },
      "execution_count": 25,
      "outputs": [
        {
          "output_type": "execute_result",
          "data": {
            "text/plain": [
              "tensor([0.1050, 0.1261, 0.1491, 0.1731, 0.1966, 0.2179, 0.2350, 0.2461, 0.2500,\n",
              "        0.2461, 0.2350, 0.2179, 0.1966, 0.1731, 0.1491, 0.1261, 0.1050])"
            ]
          },
          "metadata": {},
          "execution_count": 25
        }
      ]
    },
    {
      "cell_type": "code",
      "source": [
        "plt.plot(X.data, y.data, c = 'b', label = 'y')\n",
        "plt.plot(X.data, X.grad.data, c = 'k', label = 'y.grad')\n",
        "plt.legend()\n",
        "plt.show()"
      ],
      "metadata": {
        "colab": {
          "base_uri": "https://localhost:8080/",
          "height": 265
        },
        "id": "Zz9S1geHYma1",
        "outputId": "21490fe7-5f37-4994-d561-71f4de7f7ada"
      },
      "execution_count": 26,
      "outputs": [
        {
          "output_type": "display_data",
          "data": {
            "text/plain": [
              "<Figure size 432x288 with 1 Axes>"
            ],
            "image/png": "[encoded data removed]"
          },
          "metadata": {
            "needs_background": "light"
          }
        }
      ]
    }
  ]
}