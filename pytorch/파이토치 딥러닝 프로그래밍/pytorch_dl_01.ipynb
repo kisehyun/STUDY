{
 "cells": [
  {
   "cell_type": "markdown",
   "id": "ea71c264",
   "metadata": {},
   "source": [
    "# Pytorch 기본 기능\n",
    "***\n",
    "### 핵심\n",
    "\n",
    "#### 텐서\n",
    "- 0계 텐서 = 스칼라(수치)\n",
    "- 1계 텐서 = 벡터\n",
    "- 2계 텐서 = 행렬\n",
    "\n",
    "#### 함수\n",
    "\n",
    "- .view() : numpy의 reshape\n",
    "- .item() : 텐서에서 클래스의 수치 꺼낼 때 사용 -> 스칼라일 때만 사용 가능\n",
    "- .max() : 최대치 반환\n",
    "- .numpy() : 텐서를 넘파이 배열 형태로 변환"
   ]
  },
  {
   "cell_type": "code",
   "execution_count": 1,
   "id": "21b3a864",
   "metadata": {},
   "outputs": [],
   "source": [
    "import torch"
   ]
  },
  {
   "cell_type": "code",
   "execution_count": 2,
   "id": "c8da040d",
   "metadata": {},
   "outputs": [],
   "source": [
    "a = torch.tensor(1.0).float()"
   ]
  },
  {
   "cell_type": "code",
   "execution_count": 4,
   "id": "38a17754",
   "metadata": {},
   "outputs": [
    {
     "data": {
      "text/plain": [
       "torch.Tensor"
      ]
     },
     "execution_count": 4,
     "metadata": {},
     "output_type": "execute_result"
    }
   ],
   "source": [
    "type(a)"
   ]
  },
  {
   "cell_type": "code",
   "execution_count": 3,
   "id": "7da16f33",
   "metadata": {},
   "outputs": [
    {
     "data": {
      "text/plain": [
       "tensor(1.)"
      ]
     },
     "execution_count": 3,
     "metadata": {},
     "output_type": "execute_result"
    }
   ],
   "source": [
    "a"
   ]
  },
  {
   "cell_type": "code",
   "execution_count": 5,
   "id": "a981401b",
   "metadata": {
    "scrolled": true
   },
   "outputs": [
    {
     "data": {
      "text/plain": [
       "torch.float32"
      ]
     },
     "execution_count": 5,
     "metadata": {},
     "output_type": "execute_result"
    }
   ],
   "source": [
    "a.dtype"
   ]
  },
  {
   "cell_type": "markdown",
   "id": "7692a70b",
   "metadata": {},
   "source": [
    "주의>\n",
    "\n",
    "- 텐서 변수 생성시 dtype을 float32로 변환해야 한다. numpy 변수일 때 변환을 하지 않으면 dtype이 float64가 되어 nn.Linear와 같은 부분에서 오류를 발생시킨다."
   ]
  },
  {
   "cell_type": "code",
   "execution_count": 6,
   "id": "f7abcf03",
   "metadata": {
    "scrolled": true
   },
   "outputs": [
    {
     "data": {
      "text/plain": [
       "torch.Size([])"
      ]
     },
     "execution_count": 6,
     "metadata": {},
     "output_type": "execute_result"
    }
   ],
   "source": [
    "a.shape"
   ]
  },
  {
   "cell_type": "markdown",
   "id": "7549a4b6",
   "metadata": {},
   "source": [
    "0계 텐서이므로 위와 같이 표기"
   ]
  },
  {
   "cell_type": "code",
   "execution_count": 7,
   "id": "0220a115",
   "metadata": {},
   "outputs": [],
   "source": [
    "import numpy as np"
   ]
  },
  {
   "cell_type": "code",
   "execution_count": 16,
   "id": "58d9c8fd",
   "metadata": {},
   "outputs": [],
   "source": [
    "b = np.array([1., 2., 3., 4., 5.])"
   ]
  },
  {
   "cell_type": "code",
   "execution_count": 17,
   "id": "6ff29e5c",
   "metadata": {},
   "outputs": [
    {
     "data": {
      "text/plain": [
       "(5,)"
      ]
     },
     "execution_count": 17,
     "metadata": {},
     "output_type": "execute_result"
    }
   ],
   "source": [
    "b.shape"
   ]
  },
  {
   "cell_type": "code",
   "execution_count": 18,
   "id": "952d07ef",
   "metadata": {},
   "outputs": [],
   "source": [
    "b_t = torch.tensor(b)"
   ]
  },
  {
   "cell_type": "code",
   "execution_count": 20,
   "id": "2b2ae70b",
   "metadata": {
    "scrolled": true
   },
   "outputs": [
    {
     "data": {
      "text/plain": [
       "torch.float64"
      ]
     },
     "execution_count": 20,
     "metadata": {},
     "output_type": "execute_result"
    }
   ],
   "source": [
    "b_t.dtype # float으로 변환안하면 float64 형태"
   ]
  },
  {
   "cell_type": "code",
   "execution_count": 21,
   "id": "42289ef5",
   "metadata": {},
   "outputs": [],
   "source": [
    "b_t = torch.tensor(b).float()"
   ]
  },
  {
   "cell_type": "code",
   "execution_count": 22,
   "id": "cf40659c",
   "metadata": {},
   "outputs": [
    {
     "data": {
      "text/plain": [
       "torch.float32"
      ]
     },
     "execution_count": 22,
     "metadata": {},
     "output_type": "execute_result"
    }
   ],
   "source": [
    "b_t.dtype"
   ]
  },
  {
   "cell_type": "code",
   "execution_count": 23,
   "id": "b279edcf",
   "metadata": {},
   "outputs": [
    {
     "data": {
      "text/plain": [
       "tensor([1., 2., 3., 4., 5.])"
      ]
     },
     "execution_count": 23,
     "metadata": {},
     "output_type": "execute_result"
    }
   ],
   "source": [
    "b_t.data"
   ]
  },
  {
   "cell_type": "code",
   "execution_count": 25,
   "id": "a7010fbf",
   "metadata": {},
   "outputs": [],
   "source": [
    "### 2계 텐서\n",
    "c = np.array([[1., 2., 3.],\n",
    "             [4., 5., 6.]])"
   ]
  },
  {
   "cell_type": "code",
   "execution_count": 27,
   "id": "eb11797f",
   "metadata": {},
   "outputs": [
    {
     "data": {
      "text/plain": [
       "(2, 3)"
      ]
     },
     "execution_count": 27,
     "metadata": {},
     "output_type": "execute_result"
    }
   ],
   "source": [
    "c.shape"
   ]
  },
  {
   "cell_type": "code",
   "execution_count": 30,
   "id": "104be00e",
   "metadata": {},
   "outputs": [
    {
     "data": {
      "text/plain": [
       "dtype('float64')"
      ]
     },
     "execution_count": 30,
     "metadata": {},
     "output_type": "execute_result"
    }
   ],
   "source": [
    "c.dtype"
   ]
  },
  {
   "cell_type": "code",
   "execution_count": 28,
   "id": "dfff0315",
   "metadata": {},
   "outputs": [],
   "source": [
    "c_t = torch.tensor(c).float()"
   ]
  },
  {
   "cell_type": "code",
   "execution_count": 29,
   "id": "5d1361d8",
   "metadata": {},
   "outputs": [
    {
     "data": {
      "text/plain": [
       "tensor([[1., 2., 3.],\n",
       "        [4., 5., 6.]])"
      ]
     },
     "execution_count": 29,
     "metadata": {},
     "output_type": "execute_result"
    }
   ],
   "source": [
    "c_t"
   ]
  },
  {
   "cell_type": "code",
   "execution_count": 31,
   "id": "8e71a139",
   "metadata": {},
   "outputs": [
    {
     "data": {
      "text/plain": [
       "torch.float32"
      ]
     },
     "execution_count": 31,
     "metadata": {},
     "output_type": "execute_result"
    }
   ],
   "source": [
    "c_t.dtype"
   ]
  },
  {
   "cell_type": "code",
   "execution_count": 32,
   "id": "40c6d6eb",
   "metadata": {},
   "outputs": [
    {
     "data": {
      "text/plain": [
       "<torch._C.Generator at 0x7f9cc0452650>"
      ]
     },
     "execution_count": 32,
     "metadata": {},
     "output_type": "execute_result"
    }
   ],
   "source": [
    "torch.manual_seed(42)"
   ]
  },
  {
   "cell_type": "code",
   "execution_count": 38,
   "id": "792abf1a",
   "metadata": {},
   "outputs": [],
   "source": [
    "### 3계 텐서\n",
    "d = torch.randn((3, 2, 2)).float()"
   ]
  },
  {
   "cell_type": "code",
   "execution_count": 39,
   "id": "3edad8f7",
   "metadata": {},
   "outputs": [
    {
     "data": {
      "text/plain": [
       "torch.float32"
      ]
     },
     "execution_count": 39,
     "metadata": {},
     "output_type": "execute_result"
    }
   ],
   "source": [
    "d.dtype"
   ]
  },
  {
   "cell_type": "code",
   "execution_count": 40,
   "id": "fd68369b",
   "metadata": {},
   "outputs": [
    {
     "data": {
      "text/plain": [
       "tensor([[[ 0.2815,  0.0562],\n",
       "         [ 0.5227, -0.2384]],\n",
       "\n",
       "        [[-0.0499,  0.5263],\n",
       "         [-0.0085,  0.7291]],\n",
       "\n",
       "        [[ 0.1331,  0.8640],\n",
       "         [-1.0157, -0.8887]]])"
      ]
     },
     "execution_count": 40,
     "metadata": {},
     "output_type": "execute_result"
    }
   ],
   "source": [
    "d"
   ]
  },
  {
   "cell_type": "code",
   "execution_count": 41,
   "id": "a002e59e",
   "metadata": {},
   "outputs": [
    {
     "data": {
      "text/plain": [
       "torch.Size([3, 2, 2])"
      ]
     },
     "execution_count": 41,
     "metadata": {},
     "output_type": "execute_result"
    }
   ],
   "source": [
    "d.shape"
   ]
  },
  {
   "cell_type": "code",
   "execution_count": 42,
   "id": "6db7e533",
   "metadata": {},
   "outputs": [],
   "source": [
    "e = torch.ones((2, 3, 2, 2))"
   ]
  },
  {
   "cell_type": "code",
   "execution_count": 44,
   "id": "411f4f00",
   "metadata": {
    "scrolled": true
   },
   "outputs": [
    {
     "data": {
      "text/plain": [
       "torch.Size([2, 3, 2, 2])"
      ]
     },
     "execution_count": 44,
     "metadata": {},
     "output_type": "execute_result"
    }
   ],
   "source": [
    "e.shape"
   ]
  },
  {
   "cell_type": "markdown",
   "id": "eda3a4c9",
   "metadata": {},
   "source": [
    "***\n",
    "Pytorch의 대부분은 float32 형태를 사용하지만 CrossEntropyLoss, NLLoss의 경우는 정수 타입을 사용한다."
   ]
  },
  {
   "cell_type": "code",
   "execution_count": 48,
   "id": "2ea279d7",
   "metadata": {},
   "outputs": [],
   "source": [
    "a = a.long()"
   ]
  },
  {
   "cell_type": "code",
   "execution_count": 49,
   "id": "5a32712f",
   "metadata": {},
   "outputs": [
    {
     "data": {
      "text/plain": [
       "tensor(1)"
      ]
     },
     "execution_count": 49,
     "metadata": {},
     "output_type": "execute_result"
    }
   ],
   "source": [
    "a"
   ]
  },
  {
   "cell_type": "code",
   "execution_count": 50,
   "id": "92783813",
   "metadata": {
    "scrolled": true
   },
   "outputs": [
    {
     "data": {
      "text/plain": [
       "torch.int64"
      ]
     },
     "execution_count": 50,
     "metadata": {},
     "output_type": "execute_result"
    }
   ],
   "source": [
    "a.dtype"
   ]
  },
  {
   "cell_type": "markdown",
   "id": "ee3a47be",
   "metadata": {},
   "source": [
    "\n",
    "***\n",
    "View 함수는 numpy의 reshape과 같은 기능을 한다."
   ]
  },
  {
   "cell_type": "code",
   "execution_count": 63,
   "id": "35115869",
   "metadata": {},
   "outputs": [
    {
     "data": {
      "text/plain": [
       "torch.Size([3, 2, 2])"
      ]
     },
     "execution_count": 63,
     "metadata": {},
     "output_type": "execute_result"
    }
   ],
   "source": [
    "d.shape"
   ]
  },
  {
   "cell_type": "code",
   "execution_count": 61,
   "id": "598e9ef7",
   "metadata": {},
   "outputs": [
    {
     "data": {
      "text/plain": [
       "tensor([[ 0.2815,  0.0562,  0.5227, -0.2384],\n",
       "        [-0.0499,  0.5263, -0.0085,  0.7291],\n",
       "        [ 0.1331,  0.8640, -1.0157, -0.8887]])"
      ]
     },
     "execution_count": 61,
     "metadata": {},
     "output_type": "execute_result"
    }
   ],
   "source": [
    "d.view(3, -1)"
   ]
  },
  {
   "cell_type": "code",
   "execution_count": 62,
   "id": "e0e9a832",
   "metadata": {
    "scrolled": true
   },
   "outputs": [
    {
     "data": {
      "text/plain": [
       "torch.Size([3, 4])"
      ]
     },
     "execution_count": 62,
     "metadata": {},
     "output_type": "execute_result"
    }
   ],
   "source": [
    "d.view(3, -1).shape"
   ]
  },
  {
   "cell_type": "markdown",
   "id": "ff8e6818",
   "metadata": {},
   "source": [
    "***\n",
    "Item 함수는 클래스에서 수치를 꺼낼 때 사용 -> 0계 텐서 즉, 스칼라일 때만 사용 가능!"
   ]
  },
  {
   "cell_type": "code",
   "execution_count": 67,
   "id": "a0e1eac3",
   "metadata": {},
   "outputs": [
    {
     "data": {
      "text/plain": [
       "1"
      ]
     },
     "execution_count": 67,
     "metadata": {},
     "output_type": "execute_result"
    }
   ],
   "source": [
    "a.item()"
   ]
  },
  {
   "cell_type": "code",
   "execution_count": 70,
   "id": "bca9e763",
   "metadata": {},
   "outputs": [
    {
     "ename": "ValueError",
     "evalue": "can only convert an array of size 1 to a Python scalar",
     "output_type": "error",
     "traceback": [
      "\u001b[0;31m---------------------------------------------------------------------------\u001b[0m",
      "\u001b[0;31mValueError\u001b[0m                                Traceback (most recent call last)",
      "\u001b[0;32m/var/folders/k_/3pjd40sx6378qz9pkpp0w0fc0000gn/T/ipykernel_2081/877313637.py\u001b[0m in \u001b[0;36m<module>\u001b[0;34m\u001b[0m\n\u001b[0;32m----> 1\u001b[0;31m \u001b[0mc\u001b[0m\u001b[0;34m.\u001b[0m\u001b[0mitem\u001b[0m\u001b[0;34m(\u001b[0m\u001b[0;34m)\u001b[0m\u001b[0;34m\u001b[0m\u001b[0;34m\u001b[0m\u001b[0m\n\u001b[0m",
      "\u001b[0;31mValueError\u001b[0m: can only convert an array of size 1 to a Python scalar"
     ]
    }
   ],
   "source": [
    "c.item()"
   ]
  },
  {
   "cell_type": "markdown",
   "id": "7d08e097",
   "metadata": {},
   "source": [
    "스칼라가 아닐 경우 위와 같이 오류가 발생한다.\n",
    "\n",
    "단, 1계 텐서(벡터)나 2계 텐서(행렬)라도 요소가 한 개 밖에 없는 경우 사용 가능"
   ]
  },
  {
   "cell_type": "code",
   "execution_count": 71,
   "id": "72fe7b29",
   "metadata": {},
   "outputs": [],
   "source": [
    "t = torch.ones(1)"
   ]
  },
  {
   "cell_type": "code",
   "execution_count": 73,
   "id": "c3e39aba",
   "metadata": {
    "scrolled": true
   },
   "outputs": [
    {
     "data": {
      "text/plain": [
       "1.0"
      ]
     },
     "execution_count": 73,
     "metadata": {},
     "output_type": "execute_result"
    }
   ],
   "source": [
    "t.item()"
   ]
  },
  {
   "cell_type": "markdown",
   "id": "45e17b66",
   "metadata": {},
   "source": [
    "***\n",
    "\n",
    "Max 함수는 최대치를 반환한다. torch.max()로도 사용 가능"
   ]
  },
  {
   "cell_type": "code",
   "execution_count": 75,
   "id": "b6daf10e",
   "metadata": {
    "scrolled": true
   },
   "outputs": [
    {
     "data": {
      "text/plain": [
       "5.0"
      ]
     },
     "execution_count": 75,
     "metadata": {},
     "output_type": "execute_result"
    }
   ],
   "source": [
    "b.max()"
   ]
  },
  {
   "cell_type": "code",
   "execution_count": 78,
   "id": "04ffd0c6",
   "metadata": {},
   "outputs": [
    {
     "data": {
      "text/plain": [
       "array([[1., 2., 3.],\n",
       "       [4., 5., 6.]])"
      ]
     },
     "execution_count": 78,
     "metadata": {},
     "output_type": "execute_result"
    }
   ],
   "source": [
    "c"
   ]
  },
  {
   "cell_type": "code",
   "execution_count": 77,
   "id": "2de08aec",
   "metadata": {
    "scrolled": true
   },
   "outputs": [
    {
     "data": {
      "text/plain": [
       "6.0"
      ]
     },
     "execution_count": 77,
     "metadata": {},
     "output_type": "execute_result"
    }
   ],
   "source": [
    "c.max()"
   ]
  },
  {
   "cell_type": "code",
   "execution_count": 83,
   "id": "0c2ff410",
   "metadata": {},
   "outputs": [
    {
     "data": {
      "text/plain": [
       "torch.return_types.max(\n",
       "values=tensor([[0.2815, 0.8640],\n",
       "        [0.5227, 0.7291]]),\n",
       "indices=tensor([[0, 2],\n",
       "        [0, 1]]))"
      ]
     },
     "execution_count": 83,
     "metadata": {},
     "output_type": "execute_result"
    }
   ],
   "source": [
    "torch.max(d, 0)"
   ]
  },
  {
   "cell_type": "code",
   "execution_count": 101,
   "id": "29397226",
   "metadata": {
    "scrolled": true
   },
   "outputs": [
    {
     "data": {
      "text/plain": [
       "tensor(0.2815)"
      ]
     },
     "execution_count": 101,
     "metadata": {},
     "output_type": "execute_result"
    }
   ],
   "source": [
    "d[:, 0, 0][0]"
   ]
  },
  {
   "cell_type": "code",
   "execution_count": 100,
   "id": "d9d0fc2f",
   "metadata": {
    "scrolled": true
   },
   "outputs": [
    {
     "data": {
      "text/plain": [
       "tensor(0.8640)"
      ]
     },
     "execution_count": 100,
     "metadata": {},
     "output_type": "execute_result"
    }
   ],
   "source": [
    "d[:, 0, 1][2]"
   ]
  },
  {
   "cell_type": "code",
   "execution_count": 102,
   "id": "fd23dbb6",
   "metadata": {
    "scrolled": true
   },
   "outputs": [
    {
     "data": {
      "text/plain": [
       "tensor(0.5227)"
      ]
     },
     "execution_count": 102,
     "metadata": {},
     "output_type": "execute_result"
    }
   ],
   "source": [
    "d[:, 1, 0][0]"
   ]
  },
  {
   "cell_type": "code",
   "execution_count": 104,
   "id": "c57bb087",
   "metadata": {
    "scrolled": false
   },
   "outputs": [
    {
     "data": {
      "text/plain": [
       "tensor(0.7291)"
      ]
     },
     "execution_count": 104,
     "metadata": {},
     "output_type": "execute_result"
    }
   ],
   "source": [
    "d[:, 1, 1][1]"
   ]
  },
  {
   "cell_type": "markdown",
   "id": "1a7255c1",
   "metadata": {},
   "source": [
    "***"
   ]
  },
  {
   "cell_type": "code",
   "execution_count": 108,
   "id": "b9894732",
   "metadata": {
    "scrolled": true
   },
   "outputs": [
    {
     "data": {
      "text/plain": [
       "array([[[ 0.28151956,  0.05616354],\n",
       "        [ 0.52271605, -0.23835687]],\n",
       "\n",
       "       [[-0.04990335,  0.52633697],\n",
       "        [-0.00849882,  0.7290606 ]],\n",
       "\n",
       "       [[ 0.13314196,  0.8639777 ],\n",
       "        [-1.0156747 , -0.8887485 ]]], dtype=float32)"
      ]
     },
     "execution_count": 108,
     "metadata": {},
     "output_type": "execute_result"
    }
   ],
   "source": [
    "d.numpy()"
   ]
  }
 ],
 "metadata": {
  "kernelspec": {
   "display_name": "Python 3 (ipykernel)",
   "language": "python",
   "name": "python3"
  },
  "language_info": {
   "codemirror_mode": {
    "name": "ipython",
    "version": 3
   },
   "file_extension": ".py",
   "mimetype": "text/x-python",
   "name": "python",
   "nbconvert_exporter": "python",
   "pygments_lexer": "ipython3",
   "version": "3.9.7"
  }
 },
 "nbformat": 4,
 "nbformat_minor": 5
}
