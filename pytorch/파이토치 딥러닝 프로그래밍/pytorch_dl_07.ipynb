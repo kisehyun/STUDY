{
 "cells": [
  {
   "cell_type": "markdown",
   "id": "d0b3eafd",
   "metadata": {},
   "source": [
    "# 이진 분류\n",
    "\n",
    "***\n",
    "\n",
    "기존 선형 회귀 모델의 마지막 단에 시그모이드 함수가 추가 -> 이진 로지스틱 회귀 모델"
   ]
  },
  {
   "cell_type": "code",
   "execution_count": 762,
   "id": "3a710de0",
   "metadata": {},
   "outputs": [
    {
     "data": {
      "text/html": [
       "<style>.container { width:100% !important; }</style>"
      ],
      "text/plain": [
       "<IPython.core.display.HTML object>"
      ]
     },
     "metadata": {},
     "output_type": "display_data"
    }
   ],
   "source": [
    "from IPython.display import display, HTML\n",
    "display(HTML(\"<style>.container { width:100% !important; }</style>\"))"
   ]
  },
  {
   "cell_type": "code",
   "execution_count": 763,
   "id": "9ab7b27d",
   "metadata": {},
   "outputs": [],
   "source": [
    "import matplotlib.pyplot as plt\n",
    "%matplotlib inline"
   ]
  },
  {
   "cell_type": "code",
   "execution_count": 764,
   "id": "a5ff42bd",
   "metadata": {},
   "outputs": [],
   "source": [
    "import torch\n",
    "import torch.nn as nn"
   ]
  },
  {
   "cell_type": "code",
   "execution_count": 765,
   "id": "c420c6ec",
   "metadata": {},
   "outputs": [],
   "source": [
    "import numpy as np"
   ]
  },
  {
   "cell_type": "code",
   "execution_count": 766,
   "id": "34611310",
   "metadata": {},
   "outputs": [],
   "source": [
    "x = np.arange(-5, 5.1, 0.25)"
   ]
  },
  {
   "cell_type": "code",
   "execution_count": 767,
   "id": "e6be0478",
   "metadata": {},
   "outputs": [],
   "source": [
    "x = torch.tensor(x, dtype = torch.float)"
   ]
  },
  {
   "cell_type": "code",
   "execution_count": 768,
   "id": "5f7e20e4",
   "metadata": {},
   "outputs": [],
   "source": [
    "y = torch.sigmoid(x)"
   ]
  },
  {
   "cell_type": "code",
   "execution_count": 769,
   "id": "4ea97d83",
   "metadata": {},
   "outputs": [
    {
     "data": {
      "image/png": "[encoded data removed]",
      "text/plain": [
       "<Figure size 432x288 with 1 Axes>"
      ]
     },
     "metadata": {
      "needs_background": "light"
     },
     "output_type": "display_data"
    }
   ],
   "source": [
    "plt.title(\"Sigmoid Graph\")\n",
    "plt.plot(x.data, y.data)\n",
    "plt.show()"
   ]
  },
  {
   "cell_type": "code",
   "execution_count": 770,
   "id": "cb49a959",
   "metadata": {},
   "outputs": [],
   "source": [
    "from sklearn.datasets import load_breast_cancer"
   ]
  },
  {
   "cell_type": "code",
   "execution_count": 771,
   "id": "95fa947e",
   "metadata": {},
   "outputs": [],
   "source": [
    "CFG = {\"num_epochs\" : 2000, \"lr\" : 0.04}"
   ]
  },
  {
   "cell_type": "code",
   "execution_count": 772,
   "id": "df2b6da5",
   "metadata": {},
   "outputs": [],
   "source": [
    "data = load_breast_cancer()"
   ]
  },
  {
   "cell_type": "code",
   "execution_count": 773,
   "id": "7d1a0b1c",
   "metadata": {},
   "outputs": [],
   "source": [
    "X, y = data.data, data.target"
   ]
  },
  {
   "cell_type": "code",
   "execution_count": 774,
   "id": "c7d107be",
   "metadata": {},
   "outputs": [
    {
     "data": {
      "text/plain": [
       "((569, 30), (569,))"
      ]
     },
     "execution_count": 774,
     "metadata": {},
     "output_type": "execute_result"
    }
   ],
   "source": [
    "X.shape, y.shape"
   ]
  },
  {
   "cell_type": "code",
   "execution_count": 775,
   "id": "d3bf4f13",
   "metadata": {},
   "outputs": [],
   "source": [
    "from sklearn.model_selection import train_test_split"
   ]
  },
  {
   "cell_type": "code",
   "execution_count": 776,
   "id": "5d403f25",
   "metadata": {},
   "outputs": [],
   "source": [
    "X_train, X_test, y_train, y_test = train_test_split(X, y, test_size = 100, random_state = 42, stratify = y)"
   ]
  },
  {
   "cell_type": "code",
   "execution_count": 777,
   "id": "d3d4c061",
   "metadata": {},
   "outputs": [
    {
     "data": {
      "text/plain": [
       "((469, 30), (100, 30))"
      ]
     },
     "execution_count": 777,
     "metadata": {},
     "output_type": "execute_result"
    }
   ],
   "source": [
    "X_train.shape, X_test.shape"
   ]
  },
  {
   "cell_type": "code",
   "execution_count": 778,
   "id": "dc057ba2",
   "metadata": {},
   "outputs": [],
   "source": [
    "class Net(nn.Module) :\n",
    "    \n",
    "    def __init__(self) :\n",
    "        super().__init__()\n",
    "        self.layer = nn.Linear(30, 1)\n",
    "        self.sigmoid = nn.Sigmoid()\n",
    "        \n",
    "    def forward(self, x) :\n",
    "        x = self.layer(x)\n",
    "        x = self.sigmoid(x)\n",
    "        \n",
    "        return x"
   ]
  },
  {
   "cell_type": "code",
   "execution_count": 779,
   "id": "a1c88509",
   "metadata": {},
   "outputs": [],
   "source": [
    "net = Net()"
   ]
  },
  {
   "cell_type": "code",
   "execution_count": 780,
   "id": "aeab2624",
   "metadata": {
    "scrolled": true
   },
   "outputs": [
    {
     "data": {
      "text/plain": [
       "Net(\n",
       "  (layer): Linear(in_features=30, out_features=1, bias=True)\n",
       "  (sigmoid): Sigmoid()\n",
       ")"
      ]
     },
     "execution_count": 780,
     "metadata": {},
     "output_type": "execute_result"
    }
   ],
   "source": [
    "net"
   ]
  },
  {
   "cell_type": "code",
   "execution_count": 781,
   "id": "ba51c336",
   "metadata": {},
   "outputs": [],
   "source": [
    "criterion = nn.BCELoss()"
   ]
  },
  {
   "cell_type": "code",
   "execution_count": 782,
   "id": "bdaa9093",
   "metadata": {},
   "outputs": [],
   "source": [
    "from torch.optim import Adam, RMSprop"
   ]
  },
  {
   "cell_type": "code",
   "execution_count": 783,
   "id": "c32aa0ab",
   "metadata": {},
   "outputs": [],
   "source": [
    "adam = Adam(net.parameters(), lr = CFG['lr']) "
   ]
  },
  {
   "cell_type": "code",
   "execution_count": 784,
   "id": "b897f1ca",
   "metadata": {},
   "outputs": [],
   "source": [
    "from tqdm import tqdm_notebook"
   ]
  },
  {
   "cell_type": "code",
   "execution_count": 785,
   "id": "3f8206bc",
   "metadata": {},
   "outputs": [],
   "source": [
    "X_train = torch.tensor(X_train, dtype = torch.float)\n",
    "X_test = torch.tensor(X_test, dtype = torch.float)\n",
    "y_train = torch.tensor(y_train, dtype = torch.float)\n",
    "y_test = torch.tensor(y_test, dtype = torch.float)"
   ]
  },
  {
   "cell_type": "code",
   "execution_count": 786,
   "id": "ba287ad3",
   "metadata": {},
   "outputs": [],
   "source": [
    "from sklearn.metrics import accuracy_score"
   ]
  },
  {
   "cell_type": "code",
   "execution_count": 787,
   "id": "6908e64c",
   "metadata": {},
   "outputs": [],
   "source": [
    "import warnings\n",
    "warnings.filterwarnings('ignore')"
   ]
  },
  {
   "cell_type": "code",
   "execution_count": 788,
   "id": "0080fd71",
   "metadata": {
    "scrolled": false
   },
   "outputs": [
    {
     "data": {
      "application/vnd.jupyter.widget-view+json": {
       "model_id": "a3581a07c8154fc1a22df9b557208076",
       "version_major": 2,
       "version_minor": 0
      },
      "text/plain": [
       "  0%|          | 0/2000 [00:00<?, ?it/s]"
      ]
     },
     "metadata": {},
     "output_type": "display_data"
    },
    {
     "name": "stdout",
     "output_type": "stream",
     "text": [
      "Epoch 0 Train Loss : 37.31343460083008 Train Accuracy : 0.6268656716417911 Test Loss : 37.0 Test Accuracy : 0.63\n",
      "Epoch 100 Train Loss : 37.31343460083008 Train Accuracy : 0.6268656716417911 Test Loss : 37.0 Test Accuracy : 0.63\n",
      "Epoch 200 Train Loss : 37.31343460083008 Train Accuracy : 0.6268656716417911 Test Loss : 37.0 Test Accuracy : 0.63\n",
      "Epoch 300 Train Loss : 37.31343460083008 Train Accuracy : 0.6268656716417911 Test Loss : 37.0 Test Accuracy : 0.63\n",
      "Epoch 400 Train Loss : 37.31343460083008 Train Accuracy : 0.6268656716417911 Test Loss : 37.0 Test Accuracy : 0.63\n",
      "Epoch 500 Train Loss : 37.31343460083008 Train Accuracy : 0.6268656716417911 Test Loss : 37.0 Test Accuracy : 0.63\n",
      "Epoch 600 Train Loss : 37.31343460083008 Train Accuracy : 0.6268656716417911 Test Loss : 37.0 Test Accuracy : 0.63\n",
      "Epoch 700 Train Loss : 37.31343460083008 Train Accuracy : 0.6268656716417911 Test Loss : 37.0 Test Accuracy : 0.63\n",
      "Epoch 800 Train Loss : 37.31343460083008 Train Accuracy : 0.6268656716417911 Test Loss : 37.0 Test Accuracy : 0.63\n",
      "Epoch 900 Train Loss : 37.31343460083008 Train Accuracy : 0.6268656716417911 Test Loss : 37.0 Test Accuracy : 0.63\n",
      "Epoch 1000 Train Loss : 37.31343460083008 Train Accuracy : 0.6268656716417911 Test Loss : 37.0 Test Accuracy : 0.63\n",
      "Epoch 1100 Train Loss : 37.31343460083008 Train Accuracy : 0.6268656716417911 Test Loss : 37.0 Test Accuracy : 0.63\n",
      "Epoch 1200 Train Loss : 37.31343460083008 Train Accuracy : 0.6268656716417911 Test Loss : 37.0 Test Accuracy : 0.63\n",
      "Epoch 1300 Train Loss : 37.31343460083008 Train Accuracy : 0.6268656716417911 Test Loss : 37.0 Test Accuracy : 0.63\n",
      "Epoch 1400 Train Loss : 37.31343460083008 Train Accuracy : 0.6268656716417911 Test Loss : 37.0 Test Accuracy : 0.63\n",
      "Epoch 1500 Train Loss : 37.31343460083008 Train Accuracy : 0.6268656716417911 Test Loss : 37.0 Test Accuracy : 0.63\n",
      "Epoch 1600 Train Loss : 37.31343460083008 Train Accuracy : 0.6268656716417911 Test Loss : 37.0 Test Accuracy : 0.63\n",
      "Epoch 1700 Train Loss : 37.31343460083008 Train Accuracy : 0.6268656716417911 Test Loss : 37.0 Test Accuracy : 0.63\n",
      "Epoch 1800 Train Loss : 37.31343460083008 Train Accuracy : 0.6268656716417911 Test Loss : 37.0 Test Accuracy : 0.63\n",
      "Epoch 1900 Train Loss : 37.31343460083008 Train Accuracy : 0.6268656716417911 Test Loss : 37.0 Test Accuracy : 0.63\n"
     ]
    }
   ],
   "source": [
    "tr_losses = []\n",
    "te_losses = []\n",
    "tr_accs = []\n",
    "te_accs = []\n",
    "\n",
    "for epoch in tqdm_notebook(range(CFG['num_epochs'])) :\n",
    "    \n",
    "    adam.zero_grad()\n",
    "    tr_pred = net(X_train)\n",
    "    tr_cls = [1 if p >= 0.5 else 0 for p in tr_pred]\n",
    "    \n",
    "    tr_acc = accuracy_score(y_train, tr_cls)\n",
    "    tr_accs.append(tr_acc)\n",
    "    \n",
    "    tr_loss = criterion(tr_pred, y_train)\n",
    "    tr_losses.append(tr_loss.item())\n",
    "    tr_loss.backward()\n",
    "    \n",
    "    adam.step()\n",
    "    \n",
    "    te_pred = net(X_test)\n",
    "    te_cls = [1 if p >= 0.5 else 0 for p in te_pred]\n",
    "    \n",
    "    te_loss = criterion(te_pred, y_test)\n",
    "    te_losses.append(te_loss.item())\n",
    "    \n",
    "    te_acc = accuracy_score(y_test, te_cls)\n",
    "    te_accs.append(te_acc)\n",
    "    \n",
    "    if (epoch % 100 == 0) :\n",
    "        print(f\"Epoch {epoch} Train Loss : {tr_loss} Train Accuracy : {tr_acc} Test Loss : {te_loss} Test Accuracy : {te_acc}\")"
   ]
  }
 ],
 "metadata": {
  "kernelspec": {
   "display_name": "Python 3",
   "language": "python",
   "name": "python3"
  },
  "language_info": {
   "codemirror_mode": {
    "name": "ipython",
    "version": 3
   },
   "file_extension": ".py",
   "mimetype": "text/x-python",
   "name": "python",
   "nbconvert_exporter": "python",
   "pygments_lexer": "ipython3",
   "version": "3.8.8"
  }
 },
 "nbformat": 4,
 "nbformat_minor": 5
}
