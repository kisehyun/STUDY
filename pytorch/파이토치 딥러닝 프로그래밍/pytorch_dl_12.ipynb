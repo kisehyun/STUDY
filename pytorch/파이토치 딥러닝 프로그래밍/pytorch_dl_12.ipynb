{
  "nbformat": 4,
  "nbformat_minor": 0,
  "metadata": {
    "colab": {
      "provenance": []
    },
    "kernelspec": {
      "name": "python3",
      "display_name": "Python 3"
    },
    "language_info": {
      "name": "python"
    },
    "accelerator": "GPU",
    "gpuClass": "standard",
    "widgets": {
      "application/vnd.jupyter.widget-state+json": {
        "fe4eb18322a54a459177fb74e961d6de": {
          "model_module": "@jupyter-widgets/controls",
          "model_name": "HBoxModel",
          "model_module_version": "1.5.0",
          "state": {
            "_dom_classes": [],
            "_model_module": "@jupyter-widgets/controls",
            "_model_module_version": "1.5.0",
            "_model_name": "HBoxModel",
            "_view_count": null,
            "_view_module": "@jupyter-widgets/controls",
            "_view_module_version": "1.5.0",
            "_view_name": "HBoxView",
            "box_style": "",
            "children": [
              "IPY_MODEL_f34769bcf56f4c18a6cab7925825a4e6",
              "IPY_MODEL_abdd6481f9324165bcaacf744c57ad41",
              "IPY_MODEL_b32c9bdfb4694a03b5eda576491f1719"
            ],
            "layout": "IPY_MODEL_023e48f85a3b4a3c80eee326aa95886f"
          }
        },
        "f34769bcf56f4c18a6cab7925825a4e6": {
          "model_module": "@jupyter-widgets/controls",
          "model_name": "HTMLModel",
          "model_module_version": "1.5.0",
          "state": {
            "_dom_classes": [],
            "_model_module": "@jupyter-widgets/controls",
            "_model_module_version": "1.5.0",
            "_model_name": "HTMLModel",
            "_view_count": null,
            "_view_module": "@jupyter-widgets/controls",
            "_view_module_version": "1.5.0",
            "_view_name": "HTMLView",
            "description": "",
            "description_tooltip": null,
            "layout": "IPY_MODEL_e59306021d1b45f0aa2abd5f0fb9cf84",
            "placeholder": "​",
            "style": "IPY_MODEL_e19978b2bee24be29b7086edf852173e",
            "value": "100%"
          }
        },
        "abdd6481f9324165bcaacf744c57ad41": {
          "model_module": "@jupyter-widgets/controls",
          "model_name": "FloatProgressModel",
          "model_module_version": "1.5.0",
          "state": {
            "_dom_classes": [],
            "_model_module": "@jupyter-widgets/controls",
            "_model_module_version": "1.5.0",
            "_model_name": "FloatProgressModel",
            "_view_count": null,
            "_view_module": "@jupyter-widgets/controls",
            "_view_module_version": "1.5.0",
            "_view_name": "ProgressView",
            "bar_style": "success",
            "description": "",
            "description_tooltip": null,
            "layout": "IPY_MODEL_f1a7c5c6ca904beebb531d87ad1ebf71",
            "max": 170498071,
            "min": 0,
            "orientation": "horizontal",
            "style": "IPY_MODEL_40bee7c92f9645b4b52bc88d574e14b0",
            "value": 170498071
          }
        },
        "b32c9bdfb4694a03b5eda576491f1719": {
          "model_module": "@jupyter-widgets/controls",
          "model_name": "HTMLModel",
          "model_module_version": "1.5.0",
          "state": {
            "_dom_classes": [],
            "_model_module": "@jupyter-widgets/controls",
            "_model_module_version": "1.5.0",
            "_model_name": "HTMLModel",
            "_view_count": null,
            "_view_module": "@jupyter-widgets/controls",
            "_view_module_version": "1.5.0",
            "_view_name": "HTMLView",
            "description": "",
            "description_tooltip": null,
            "layout": "IPY_MODEL_09229d9502c947d3a837f91e27c324d6",
            "placeholder": "​",
            "style": "IPY_MODEL_33c2b8e1ffd14074b9564414c23a610f",
            "value": " 170498071/170498071 [00:02&lt;00:00, 83300462.58it/s]"
          }
        },
        "023e48f85a3b4a3c80eee326aa95886f": {
          "model_module": "@jupyter-widgets/base",
          "model_name": "LayoutModel",
          "model_module_version": "1.2.0",
          "state": {
            "_model_module": "@jupyter-widgets/base",
            "_model_module_version": "1.2.0",
            "_model_name": "LayoutModel",
            "_view_count": null,
            "_view_module": "@jupyter-widgets/base",
            "_view_module_version": "1.2.0",
            "_view_name": "LayoutView",
            "align_content": null,
            "align_items": null,
            "align_self": null,
            "border": null,
            "bottom": null,
            "display": null,
            "flex": null,
            "flex_flow": null,
            "grid_area": null,
            "grid_auto_columns": null,
            "grid_auto_flow": null,
            "grid_auto_rows": null,
            "grid_column": null,
            "grid_gap": null,
            "grid_row": null,
            "grid_template_areas": null,
            "grid_template_columns": null,
            "grid_template_rows": null,
            "height": null,
            "justify_content": null,
            "justify_items": null,
            "left": null,
            "margin": null,
            "max_height": null,
            "max_width": null,
            "min_height": null,
            "min_width": null,
            "object_fit": null,
            "object_position": null,
            "order": null,
            "overflow": null,
            "overflow_x": null,
            "overflow_y": null,
            "padding": null,
            "right": null,
            "top": null,
            "visibility": null,
            "width": null
          }
        },
        "e59306021d1b45f0aa2abd5f0fb9cf84": {
          "model_module": "@jupyter-widgets/base",
          "model_name": "LayoutModel",
          "model_module_version": "1.2.0",
          "state": {
            "_model_module": "@jupyter-widgets/base",
            "_model_module_version": "1.2.0",
            "_model_name": "LayoutModel",
            "_view_count": null,
            "_view_module": "@jupyter-widgets/base",
            "_view_module_version": "1.2.0",
            "_view_name": "LayoutView",
            "align_content": null,
            "align_items": null,
            "align_self": null,
            "border": null,
            "bottom": null,
            "display": null,
            "flex": null,
            "flex_flow": null,
            "grid_area": null,
            "grid_auto_columns": null,
            "grid_auto_flow": null,
            "grid_auto_rows": null,
            "grid_column": null,
            "grid_gap": null,
            "grid_row": null,
            "grid_template_areas": null,
            "grid_template_columns": null,
            "grid_template_rows": null,
            "height": null,
            "justify_content": null,
            "justify_items": null,
            "left": null,
            "margin": null,
            "max_height": null,
            "max_width": null,
            "min_height": null,
            "min_width": null,
            "object_fit": null,
            "object_position": null,
            "order": null,
            "overflow": null,
            "overflow_x": null,
            "overflow_y": null,
            "padding": null,
            "right": null,
            "top": null,
            "visibility": null,
            "width": null
          }
        },
        "e19978b2bee24be29b7086edf852173e": {
          "model_module": "@jupyter-widgets/controls",
          "model_name": "DescriptionStyleModel",
          "model_module_version": "1.5.0",
          "state": {
            "_model_module": "@jupyter-widgets/controls",
            "_model_module_version": "1.5.0",
            "_model_name": "DescriptionStyleModel",
            "_view_count": null,
            "_view_module": "@jupyter-widgets/base",
            "_view_module_version": "1.2.0",
            "_view_name": "StyleView",
            "description_width": ""
          }
        },
        "f1a7c5c6ca904beebb531d87ad1ebf71": {
          "model_module": "@jupyter-widgets/base",
          "model_name": "LayoutModel",
          "model_module_version": "1.2.0",
          "state": {
            "_model_module": "@jupyter-widgets/base",
            "_model_module_version": "1.2.0",
            "_model_name": "LayoutModel",
            "_view_count": null,
            "_view_module": "@jupyter-widgets/base",
            "_view_module_version": "1.2.0",
            "_view_name": "LayoutView",
            "align_content": null,
            "align_items": null,
            "align_self": null,
            "border": null,
            "bottom": null,
            "display": null,
            "flex": null,
            "flex_flow": null,
            "grid_area": null,
            "grid_auto_columns": null,
            "grid_auto_flow": null,
            "grid_auto_rows": null,
            "grid_column": null,
            "grid_gap": null,
            "grid_row": null,
            "grid_template_areas": null,
            "grid_template_columns": null,
            "grid_template_rows": null,
            "height": null,
            "justify_content": null,
            "justify_items": null,
            "left": null,
            "margin": null,
            "max_height": null,
            "max_width": null,
            "min_height": null,
            "min_width": null,
            "object_fit": null,
            "object_position": null,
            "order": null,
            "overflow": null,
            "overflow_x": null,
            "overflow_y": null,
            "padding": null,
            "right": null,
            "top": null,
            "visibility": null,
            "width": null
          }
        },
        "40bee7c92f9645b4b52bc88d574e14b0": {
          "model_module": "@jupyter-widgets/controls",
          "model_name": "ProgressStyleModel",
          "model_module_version": "1.5.0",
          "state": {
            "_model_module": "@jupyter-widgets/controls",
            "_model_module_version": "1.5.0",
            "_model_name": "ProgressStyleModel",
            "_view_count": null,
            "_view_module": "@jupyter-widgets/base",
            "_view_module_version": "1.2.0",
            "_view_name": "StyleView",
            "bar_color": null,
            "description_width": ""
          }
        },
        "09229d9502c947d3a837f91e27c324d6": {
          "model_module": "@jupyter-widgets/base",
          "model_name": "LayoutModel",
          "model_module_version": "1.2.0",
          "state": {
            "_model_module": "@jupyter-widgets/base",
            "_model_module_version": "1.2.0",
            "_model_name": "LayoutModel",
            "_view_count": null,
            "_view_module": "@jupyter-widgets/base",
            "_view_module_version": "1.2.0",
            "_view_name": "LayoutView",
            "align_content": null,
            "align_items": null,
            "align_self": null,
            "border": null,
            "bottom": null,
            "display": null,
            "flex": null,
            "flex_flow": null,
            "grid_area": null,
            "grid_auto_columns": null,
            "grid_auto_flow": null,
            "grid_auto_rows": null,
            "grid_column": null,
            "grid_gap": null,
            "grid_row": null,
            "grid_template_areas": null,
            "grid_template_columns": null,
            "grid_template_rows": null,
            "height": null,
            "justify_content": null,
            "justify_items": null,
            "left": null,
            "margin": null,
            "max_height": null,
            "max_width": null,
            "min_height": null,
            "min_width": null,
            "object_fit": null,
            "object_position": null,
            "order": null,
            "overflow": null,
            "overflow_x": null,
            "overflow_y": null,
            "padding": null,
            "right": null,
            "top": null,
            "visibility": null,
            "width": null
          }
        },
        "33c2b8e1ffd14074b9564414c23a610f": {
          "model_module": "@jupyter-widgets/controls",
          "model_name": "DescriptionStyleModel",
          "model_module_version": "1.5.0",
          "state": {
            "_model_module": "@jupyter-widgets/controls",
            "_model_module_version": "1.5.0",
            "_model_name": "DescriptionStyleModel",
            "_view_count": null,
            "_view_module": "@jupyter-widgets/base",
            "_view_module_version": "1.2.0",
            "_view_name": "StyleView",
            "description_width": ""
          }
        },
        "4ff4eede02614e84ae5ee88ec0898b70": {
          "model_module": "@jupyter-widgets/controls",
          "model_name": "HBoxModel",
          "model_module_version": "1.5.0",
          "state": {
            "_dom_classes": [],
            "_model_module": "@jupyter-widgets/controls",
            "_model_module_version": "1.5.0",
            "_model_name": "HBoxModel",
            "_view_count": null,
            "_view_module": "@jupyter-widgets/controls",
            "_view_module_version": "1.5.0",
            "_view_name": "HBoxView",
            "box_style": "",
            "children": [
              "IPY_MODEL_fc3260c6fdcf4648bfeef2d2b997824b",
              "IPY_MODEL_3ecee9cf5d704e2590aa3d4e5d9167df",
              "IPY_MODEL_b9a11024ec8348b584c947a2a0859575"
            ],
            "layout": "IPY_MODEL_a564ebdf10b24d4d824483c506570f1a"
          }
        },
        "fc3260c6fdcf4648bfeef2d2b997824b": {
          "model_module": "@jupyter-widgets/controls",
          "model_name": "HTMLModel",
          "model_module_version": "1.5.0",
          "state": {
            "_dom_classes": [],
            "_model_module": "@jupyter-widgets/controls",
            "_model_module_version": "1.5.0",
            "_model_name": "HTMLModel",
            "_view_count": null,
            "_view_module": "@jupyter-widgets/controls",
            "_view_module_version": "1.5.0",
            "_view_name": "HTMLView",
            "description": "",
            "description_tooltip": null,
            "layout": "IPY_MODEL_bafd12b6fb664f0fa0ea3ecfdb740cee",
            "placeholder": "​",
            "style": "IPY_MODEL_5997daca72a84f229547f8a62bbf278a",
            "value": "100%"
          }
        },
        "3ecee9cf5d704e2590aa3d4e5d9167df": {
          "model_module": "@jupyter-widgets/controls",
          "model_name": "FloatProgressModel",
          "model_module_version": "1.5.0",
          "state": {
            "_dom_classes": [],
            "_model_module": "@jupyter-widgets/controls",
            "_model_module_version": "1.5.0",
            "_model_name": "FloatProgressModel",
            "_view_count": null,
            "_view_module": "@jupyter-widgets/controls",
            "_view_module_version": "1.5.0",
            "_view_name": "ProgressView",
            "bar_style": "success",
            "description": "",
            "description_tooltip": null,
            "layout": "IPY_MODEL_0f6898aaa82344878ae0d9f7a4dd53f2",
            "max": 20,
            "min": 0,
            "orientation": "horizontal",
            "style": "IPY_MODEL_94930ae44d3344a687e35d192f16e3fd",
            "value": 20
          }
        },
        "b9a11024ec8348b584c947a2a0859575": {
          "model_module": "@jupyter-widgets/controls",
          "model_name": "HTMLModel",
          "model_module_version": "1.5.0",
          "state": {
            "_dom_classes": [],
            "_model_module": "@jupyter-widgets/controls",
            "_model_module_version": "1.5.0",
            "_model_name": "HTMLModel",
            "_view_count": null,
            "_view_module": "@jupyter-widgets/controls",
            "_view_module_version": "1.5.0",
            "_view_name": "HTMLView",
            "description": "",
            "description_tooltip": null,
            "layout": "IPY_MODEL_d947d116c6b649d88b3e7dceaa28c6c3",
            "placeholder": "​",
            "style": "IPY_MODEL_44d7fb3c169b4effb2d74d305dc3bbc9",
            "value": " 20/20 [07:44&lt;00:00, 23.67s/it]"
          }
        },
        "a564ebdf10b24d4d824483c506570f1a": {
          "model_module": "@jupyter-widgets/base",
          "model_name": "LayoutModel",
          "model_module_version": "1.2.0",
          "state": {
            "_model_module": "@jupyter-widgets/base",
            "_model_module_version": "1.2.0",
            "_model_name": "LayoutModel",
            "_view_count": null,
            "_view_module": "@jupyter-widgets/base",
            "_view_module_version": "1.2.0",
            "_view_name": "LayoutView",
            "align_content": null,
            "align_items": null,
            "align_self": null,
            "border": null,
            "bottom": null,
            "display": null,
            "flex": null,
            "flex_flow": null,
            "grid_area": null,
            "grid_auto_columns": null,
            "grid_auto_flow": null,
            "grid_auto_rows": null,
            "grid_column": null,
            "grid_gap": null,
            "grid_row": null,
            "grid_template_areas": null,
            "grid_template_columns": null,
            "grid_template_rows": null,
            "height": null,
            "justify_content": null,
            "justify_items": null,
            "left": null,
            "margin": null,
            "max_height": null,
            "max_width": null,
            "min_height": null,
            "min_width": null,
            "object_fit": null,
            "object_position": null,
            "order": null,
            "overflow": null,
            "overflow_x": null,
            "overflow_y": null,
            "padding": null,
            "right": null,
            "top": null,
            "visibility": null,
            "width": null
          }
        },
        "bafd12b6fb664f0fa0ea3ecfdb740cee": {
          "model_module": "@jupyter-widgets/base",
          "model_name": "LayoutModel",
          "model_module_version": "1.2.0",
          "state": {
            "_model_module": "@jupyter-widgets/base",
            "_model_module_version": "1.2.0",
            "_model_name": "LayoutModel",
            "_view_count": null,
            "_view_module": "@jupyter-widgets/base",
            "_view_module_version": "1.2.0",
            "_view_name": "LayoutView",
            "align_content": null,
            "align_items": null,
            "align_self": null,
            "border": null,
            "bottom": null,
            "display": null,
            "flex": null,
            "flex_flow": null,
            "grid_area": null,
            "grid_auto_columns": null,
            "grid_auto_flow": null,
            "grid_auto_rows": null,
            "grid_column": null,
            "grid_gap": null,
            "grid_row": null,
            "grid_template_areas": null,
            "grid_template_columns": null,
            "grid_template_rows": null,
            "height": null,
            "justify_content": null,
            "justify_items": null,
            "left": null,
            "margin": null,
            "max_height": null,
            "max_width": null,
            "min_height": null,
            "min_width": null,
            "object_fit": null,
            "object_position": null,
            "order": null,
            "overflow": null,
            "overflow_x": null,
            "overflow_y": null,
            "padding": null,
            "right": null,
            "top": null,
            "visibility": null,
            "width": null
          }
        },
        "5997daca72a84f229547f8a62bbf278a": {
          "model_module": "@jupyter-widgets/controls",
          "model_name": "DescriptionStyleModel",
          "model_module_version": "1.5.0",
          "state": {
            "_model_module": "@jupyter-widgets/controls",
            "_model_module_version": "1.5.0",
            "_model_name": "DescriptionStyleModel",
            "_view_count": null,
            "_view_module": "@jupyter-widgets/base",
            "_view_module_version": "1.2.0",
            "_view_name": "StyleView",
            "description_width": ""
          }
        },
        "0f6898aaa82344878ae0d9f7a4dd53f2": {
          "model_module": "@jupyter-widgets/base",
          "model_name": "LayoutModel",
          "model_module_version": "1.2.0",
          "state": {
            "_model_module": "@jupyter-widgets/base",
            "_model_module_version": "1.2.0",
            "_model_name": "LayoutModel",
            "_view_count": null,
            "_view_module": "@jupyter-widgets/base",
            "_view_module_version": "1.2.0",
            "_view_name": "LayoutView",
            "align_content": null,
            "align_items": null,
            "align_self": null,
            "border": null,
            "bottom": null,
            "display": null,
            "flex": null,
            "flex_flow": null,
            "grid_area": null,
            "grid_auto_columns": null,
            "grid_auto_flow": null,
            "grid_auto_rows": null,
            "grid_column": null,
            "grid_gap": null,
            "grid_row": null,
            "grid_template_areas": null,
            "grid_template_columns": null,
            "grid_template_rows": null,
            "height": null,
            "justify_content": null,
            "justify_items": null,
            "left": null,
            "margin": null,
            "max_height": null,
            "max_width": null,
            "min_height": null,
            "min_width": null,
            "object_fit": null,
            "object_position": null,
            "order": null,
            "overflow": null,
            "overflow_x": null,
            "overflow_y": null,
            "padding": null,
            "right": null,
            "top": null,
            "visibility": null,
            "width": null
          }
        },
        "94930ae44d3344a687e35d192f16e3fd": {
          "model_module": "@jupyter-widgets/controls",
          "model_name": "ProgressStyleModel",
          "model_module_version": "1.5.0",
          "state": {
            "_model_module": "@jupyter-widgets/controls",
            "_model_module_version": "1.5.0",
            "_model_name": "ProgressStyleModel",
            "_view_count": null,
            "_view_module": "@jupyter-widgets/base",
            "_view_module_version": "1.2.0",
            "_view_name": "StyleView",
            "bar_color": null,
            "description_width": ""
          }
        },
        "d947d116c6b649d88b3e7dceaa28c6c3": {
          "model_module": "@jupyter-widgets/base",
          "model_name": "LayoutModel",
          "model_module_version": "1.2.0",
          "state": {
            "_model_module": "@jupyter-widgets/base",
            "_model_module_version": "1.2.0",
            "_model_name": "LayoutModel",
            "_view_count": null,
            "_view_module": "@jupyter-widgets/base",
            "_view_module_version": "1.2.0",
            "_view_name": "LayoutView",
            "align_content": null,
            "align_items": null,
            "align_self": null,
            "border": null,
            "bottom": null,
            "display": null,
            "flex": null,
            "flex_flow": null,
            "grid_area": null,
            "grid_auto_columns": null,
            "grid_auto_flow": null,
            "grid_auto_rows": null,
            "grid_column": null,
            "grid_gap": null,
            "grid_row": null,
            "grid_template_areas": null,
            "grid_template_columns": null,
            "grid_template_rows": null,
            "height": null,
            "justify_content": null,
            "justify_items": null,
            "left": null,
            "margin": null,
            "max_height": null,
            "max_width": null,
            "min_height": null,
            "min_width": null,
            "object_fit": null,
            "object_position": null,
            "order": null,
            "overflow": null,
            "overflow_x": null,
            "overflow_y": null,
            "padding": null,
            "right": null,
            "top": null,
            "visibility": null,
            "width": null
          }
        },
        "44d7fb3c169b4effb2d74d305dc3bbc9": {
          "model_module": "@jupyter-widgets/controls",
          "model_name": "DescriptionStyleModel",
          "model_module_version": "1.5.0",
          "state": {
            "_model_module": "@jupyter-widgets/controls",
            "_model_module_version": "1.5.0",
            "_model_name": "DescriptionStyleModel",
            "_view_count": null,
            "_view_module": "@jupyter-widgets/base",
            "_view_module_version": "1.2.0",
            "_view_name": "StyleView",
            "description_width": ""
          }
        }
      }
    }
  },
  "cells": [
    {
      "cell_type": "markdown",
      "source": [
        "## 최적화 함수\n",
        "- 손실의 경사 값(편미분의 계산 결과)을 기반으로, 어떤 알고리즘을 통해 파라미터를 수정해 나갈 것인지에 관한 함수\n",
        "\n",
        "### SGD(Stochastic Gradient Descent)\n",
        "- 경사에 일정한 학습률을 곱해서 파라미터를 수정해 나가는 방식\n",
        "\n",
        "### Momentum\n",
        "- SGD는 가장 근접한 경사 값만을 파라미터 갱신에 사용하지 않는데 모멘텀은 과거에 계산했던 경사 값을 저장했다가 파라미터를 일정 비율 감소시킨다."
      ],
      "metadata": {
        "id": "MvUhgSNNYRKW"
      }
    },
    {
      "cell_type": "markdown",
      "source": [
        "## Dropout\n",
        "\n",
        "- 설정한 비율만큼 학습에 사용하지 않는다. -> 출력층에 반영이 되지 않는다.\n",
        "\n",
        "ex> 0.3일 경우 30%의 확률로 이전 레이어의 출력값을 다음 레이어로 전달하지 않는다."
      ],
      "metadata": {
        "id": "fmZKuEwXkWnf"
      }
    },
    {
      "cell_type": "code",
      "source": [
        "import torch\n",
        "import torch.nn as nn"
      ],
      "metadata": {
        "id": "--BfQzrMYlN7"
      },
      "execution_count": 1,
      "outputs": []
    },
    {
      "cell_type": "code",
      "source": [
        "torch.manual_seed(42)"
      ],
      "metadata": {
        "colab": {
          "base_uri": "https://localhost:8080/"
        },
        "id": "jhLXVV-LkrUy",
        "outputId": "3acccfcb-6af5-41a4-9c8b-f7c7f8da9ebc"
      },
      "execution_count": 2,
      "outputs": [
        {
          "output_type": "execute_result",
          "data": {
            "text/plain": [
              "<torch._C.Generator at 0x7f63c867e910>"
            ]
          },
          "metadata": {},
          "execution_count": 2
        }
      ]
    },
    {
      "cell_type": "code",
      "source": [
        "inputs = torch.randn(1, 10)\n",
        "inputs"
      ],
      "metadata": {
        "colab": {
          "base_uri": "https://localhost:8080/"
        },
        "id": "cBdbjqw-ks7F",
        "outputId": "a76e7a73-7a38-4f07-ddaf-5166cbdf6414"
      },
      "execution_count": null,
      "outputs": [
        {
          "output_type": "execute_result",
          "data": {
            "text/plain": [
              "tensor([[-1.4285, -0.2810,  0.7489,  1.1164,  1.2931,  0.4137, -0.5710, -0.9749,\n",
              "          0.1863,  1.6273]])"
            ]
          },
          "metadata": {},
          "execution_count": 11
        }
      ]
    },
    {
      "cell_type": "code",
      "source": [
        "dropout = nn.Dropout(0.3)"
      ],
      "metadata": {
        "id": "Ys7-SlbCkvSY"
      },
      "execution_count": null,
      "outputs": []
    },
    {
      "cell_type": "code",
      "source": [
        "dropout.train()"
      ],
      "metadata": {
        "colab": {
          "base_uri": "https://localhost:8080/"
        },
        "id": "q2TaOoNBk1dK",
        "outputId": "582dba79-a9bf-44cd-e705-6253dd013912"
      },
      "execution_count": null,
      "outputs": [
        {
          "output_type": "execute_result",
          "data": {
            "text/plain": [
              "Dropout(p=0.3, inplace=False)"
            ]
          },
          "metadata": {},
          "execution_count": 13
        }
      ]
    },
    {
      "cell_type": "code",
      "source": [
        "dropout(inputs)"
      ],
      "metadata": {
        "colab": {
          "base_uri": "https://localhost:8080/"
        },
        "id": "tadGkHblk2R_",
        "outputId": "66f701fd-62f6-40c2-f75c-fd2e3333efb0"
      },
      "execution_count": null,
      "outputs": [
        {
          "output_type": "execute_result",
          "data": {
            "text/plain": [
              "tensor([[-0.0000, -0.4014,  1.0699,  0.0000,  0.0000,  0.5910, -0.8157, -0.0000,\n",
              "          0.2662,  2.3247]])"
            ]
          },
          "metadata": {},
          "execution_count": 14
        }
      ]
    },
    {
      "cell_type": "markdown",
      "source": [
        "드롭아웃 비율을 p로 설정하면 출력값은 1/(1-p)를 곱한 값이 반환된다."
      ],
      "metadata": {
        "id": "SQv8gaHHlexS"
      }
    },
    {
      "cell_type": "code",
      "source": [
        "0.7489 * (1 / (1 - 0.3)) # 3번째 요소"
      ],
      "metadata": {
        "colab": {
          "base_uri": "https://localhost:8080/"
        },
        "id": "s4KECeR1k0JR",
        "outputId": "5cf08fe5-5478-45ba-d8c7-e6199ca8a722"
      },
      "execution_count": null,
      "outputs": [
        {
          "output_type": "execute_result",
          "data": {
            "text/plain": [
              "1.0698571428571428"
            ]
          },
          "metadata": {},
          "execution_count": 15
        }
      ]
    },
    {
      "cell_type": "markdown",
      "source": [
        "## Batch Normalization\n",
        "- 미니 배치 학습에서 이전 레이어의 출력 값을 미니 배치 단위로 정규화 처리를 한 후 다음 레이어의 입력값으로 사용하면 학습 효율 향상 및 과적합 예방 가능\n",
        "- 합성곱 연산에서는 nn.BatchNorm2d, 선형 함수 연산에서는 nn.BatchNorm1d를 사용"
      ],
      "metadata": {
        "id": "iA7EnP2llsIS"
      }
    },
    {
      "cell_type": "markdown",
      "source": [
        "## Data Augmentation\n",
        "- 데이터 증강은 학습 전 입력 데이터를 가공하여 학습 데이터의 다양성을 증가시키는 방법이다."
      ],
      "metadata": {
        "id": "lH1tfOPamRLj"
      }
    },
    {
      "cell_type": "code",
      "source": [
        "from torchvision.transforms import *\n",
        "import torchvision.datasets as datasets\n",
        "\n",
        "import numpy as np\n",
        "\n",
        "from tqdm import tqdm_notebook"
      ],
      "metadata": {
        "id": "xFc_5g4qm3nj"
      },
      "execution_count": 3,
      "outputs": []
    },
    {
      "cell_type": "code",
      "source": [
        "device = 'cuda:0' if torch.cuda.is_available() else 'cpu'"
      ],
      "metadata": {
        "id": "XWiE_FYfq4mE"
      },
      "execution_count": 4,
      "outputs": []
    },
    {
      "cell_type": "code",
      "source": [
        "device"
      ],
      "metadata": {
        "colab": {
          "base_uri": "https://localhost:8080/",
          "height": 37
        },
        "id": "3n0NA2ABq8SL",
        "outputId": "61a0edc1-65ba-4e68-a431-6d74ce131d30"
      },
      "execution_count": 5,
      "outputs": [
        {
          "output_type": "execute_result",
          "data": {
            "text/plain": [
              "'cuda:0'"
            ],
            "application/vnd.google.colaboratory.intrinsic+json": {
              "type": "string"
            }
          },
          "metadata": {},
          "execution_count": 5
        }
      ]
    },
    {
      "cell_type": "code",
      "source": [
        "transform = Compose([\n",
        "    RandomHorizontalFlip(p = 0.5),\n",
        "    ToTensor(),\n",
        "    Normalize(0.5, 0.5),\n",
        "    RandomErasing(p = 0.5, scale = (0.02, 0.33), ratio = (0.3, 3.3), value = 0, inplace = False)\n",
        "])"
      ],
      "metadata": {
        "id": "hGVu_2Pnmd8P"
      },
      "execution_count": 6,
      "outputs": []
    },
    {
      "cell_type": "markdown",
      "source": [
        "**RandomHorizontalFlip**은 **무작위로 좌우 반전을 수행**하고 **RandomErasing**은 **무작위로 일부 영역을 삭제**한다."
      ],
      "metadata": {
        "id": "jRYnlxrRoDAj"
      }
    },
    {
      "cell_type": "code",
      "source": [
        "data_root = './data'"
      ],
      "metadata": {
        "id": "iC_z49vHlowU"
      },
      "execution_count": 7,
      "outputs": []
    },
    {
      "cell_type": "code",
      "source": [
        "train_set = datasets.CIFAR10(root = data_root, train = True, download = True, transform = transform)\n",
        "test_set = datasets.CIFAR10(root = data_root, train = False, download = True, transform = transform)"
      ],
      "metadata": {
        "colab": {
          "base_uri": "https://localhost:8080/",
          "height": 100,
          "referenced_widgets": [
            "fe4eb18322a54a459177fb74e961d6de",
            "f34769bcf56f4c18a6cab7925825a4e6",
            "abdd6481f9324165bcaacf744c57ad41",
            "b32c9bdfb4694a03b5eda576491f1719",
            "023e48f85a3b4a3c80eee326aa95886f",
            "e59306021d1b45f0aa2abd5f0fb9cf84",
            "e19978b2bee24be29b7086edf852173e",
            "f1a7c5c6ca904beebb531d87ad1ebf71",
            "40bee7c92f9645b4b52bc88d574e14b0",
            "09229d9502c947d3a837f91e27c324d6",
            "33c2b8e1ffd14074b9564414c23a610f"
          ]
        },
        "id": "XR8v2yb3nORd",
        "outputId": "43861b88-6611-4ba5-c4e4-fea19cd40c23"
      },
      "execution_count": 8,
      "outputs": [
        {
          "output_type": "stream",
          "name": "stdout",
          "text": [
            "Downloading https://www.cs.toronto.edu/~kriz/cifar-10-python.tar.gz to ./data/cifar-10-python.tar.gz\n"
          ]
        },
        {
          "output_type": "display_data",
          "data": {
            "text/plain": [
              "  0%|          | 0/170498071 [00:00<?, ?it/s]"
            ],
            "application/vnd.jupyter.widget-view+json": {
              "version_major": 2,
              "version_minor": 0,
              "model_id": "fe4eb18322a54a459177fb74e961d6de"
            }
          },
          "metadata": {}
        },
        {
          "output_type": "stream",
          "name": "stdout",
          "text": [
            "Extracting ./data/cifar-10-python.tar.gz to ./data\n",
            "Files already downloaded and verified\n"
          ]
        }
      ]
    },
    {
      "cell_type": "code",
      "source": [
        "from torch.utils.data import DataLoader\n",
        "from torch.optim import Adam"
      ],
      "metadata": {
        "id": "93Z33fM_qUDz"
      },
      "execution_count": 9,
      "outputs": []
    },
    {
      "cell_type": "code",
      "source": [
        "bs = 1024"
      ],
      "metadata": {
        "id": "IlbiEM_tqXcP"
      },
      "execution_count": 10,
      "outputs": []
    },
    {
      "cell_type": "code",
      "source": [
        "tr_loader = DataLoader(train_set, batch_size = bs, shuffle = True)\n",
        "te_loader = DataLoader(test_set, batch_size = bs, shuffle = False)"
      ],
      "metadata": {
        "id": "Vh2JlFp5qSD4"
      },
      "execution_count": 11,
      "outputs": []
    },
    {
      "cell_type": "code",
      "source": [
        "class CNN(nn.Module) :\n",
        "\n",
        "  def __init__(self) :\n",
        "\n",
        "    super().__init__()\n",
        "\n",
        "    self.c1 = nn.Conv2d(3, 32, 3, padding = (1, 1))\n",
        "    self.c2 = nn.Conv2d(32, 32, 3, padding = (1, 1))\n",
        "    self.c3 = nn.Conv2d(32, 64, 3, padding = (1, 1))\n",
        "    self.c4 = nn.Conv2d(64, 64, 3, padding = (1, 1))\n",
        "    self.c5 = nn.Conv2d(64, 128, 3, padding = (1, 1))\n",
        "    self.c6 = nn.Conv2d(128, 128, 3, padding = (1, 1))\n",
        "    self.relu = nn.ReLU(inplace = True)\n",
        "    self.flatten = nn.Flatten()\n",
        "    self.maxpool = nn.MaxPool2d((2, 2))\n",
        "    self.l1 = nn.Linear(4 * 4 * 128, 128)\n",
        "    self.l2 = nn.Linear(128, 10)\n",
        "    self.d1 = nn.Dropout(0.2)\n",
        "    self.d2 = nn.Dropout(0.3)\n",
        "    self.d3 = nn.Dropout(0.4)\n",
        "    self.bn1 = nn.BatchNorm2d(32)\n",
        "    self.bn2 = nn.BatchNorm2d(32)\n",
        "    self.bn3 = nn.BatchNorm2d(64)\n",
        "    self.bn4 = nn.BatchNorm2d(64)\n",
        "    self.bn5 = nn.BatchNorm2d(128)\n",
        "    self.bn6 = nn.BatchNorm2d(128)\n",
        "\n",
        "    self.features = nn.Sequential(\n",
        "        self.c1,\n",
        "        self.bn1,\n",
        "        self.relu,\n",
        "        self.c2,\n",
        "        self.bn2,\n",
        "        self.relu,\n",
        "        self.maxpool,\n",
        "        self.d1,\n",
        "        self.c3,\n",
        "        self.bn3,\n",
        "        self.relu,\n",
        "        self.c4,\n",
        "        self.bn4,\n",
        "        self.relu,\n",
        "        self.maxpool,\n",
        "        self.d2\n",
        "        self.c5,\n",
        "        self.bn5,\n",
        "        self.relu,\n",
        "        self.c6,\n",
        "        self.bn6,\n",
        "        self.relu,\n",
        "        self.maxpool,\n",
        "        self.d3\n",
        "    )\n",
        "\n",
        "    self.cls = nn.Sequential(\n",
        "        self.l1,\n",
        "        self.relu,\n",
        "        self.d3,\n",
        "        self.l2\n",
        "    )\n",
        "\n",
        "  def forward(self, x) :\n",
        "    x = self.features(x)\n",
        "    x = self.flatten(x)\n",
        "    x = self.cls(x)\n",
        "\n",
        "    return x"
      ],
      "metadata": {
        "id": "6vyVV2-so7Jw"
      },
      "execution_count": 13,
      "outputs": []
    },
    {
      "cell_type": "code",
      "source": [
        "def fit(net, optimizer, criterion, num_epohcs, train_loader, test_loader, device) :\n",
        "\n",
        "  history = np.zeros((0, 5))\n",
        "\n",
        "  for epoch in tqdm_notebook(range(num_epochs)) :\n",
        "\n",
        "    tr_acc, tr_loss, tr_cnt = 0.0, 0.0, 0.0\n",
        "    te_acc, te_loss, te_cnt = 0.0, 0.0, 0.0\n",
        "\n",
        "    net.train()\n",
        "\n",
        "    for image, label in train_loader :\n",
        "      \n",
        "      tr_cnt += len(label)\n",
        "\n",
        "      image = image.to(device)\n",
        "      label = label.to(device)\n",
        "\n",
        "      optimizer.zero_grad()\n",
        "\n",
        "      pred = net(image)\n",
        "\n",
        "      loss = criterion(pred, label)\n",
        "      tr_loss += loss.item()\n",
        "      loss.backward()\n",
        "\n",
        "      optimizer.step()\n",
        "\n",
        "      cls = torch.max(pred, 1)[1]\n",
        "      tr_acc += (cls == label).sum().item()\n",
        "\n",
        "    avg_tr_acc = tr_acc / tr_cnt\n",
        "    avg_tr_loss = tr_loss / tr_cnt\n",
        "\n",
        "    net.eval()\n",
        "    with torch.no_grad() :\n",
        "      for image, label in test_loader :\n",
        "\n",
        "        te_cnt += len(label)\n",
        "\n",
        "        image = image.to(device)\n",
        "        label = label.to(device)\n",
        "\n",
        "        pred = net(image)\n",
        "\n",
        "        loss = criterion(pred, label)\n",
        "        te_loss += loss.item()\n",
        "\n",
        "        cls = torch.max(pred, 1)[1]\n",
        "\n",
        "        te_acc += (cls == label).sum().item()\n",
        "\n",
        "      avg_te_acc = te_acc / te_cnt\n",
        "      avg_te_loss = te_loss / te_cnt\n",
        "\n",
        "    print(f\"Epoch {epoch + 1} Train Accuracy : {avg_tr_acc} / Test Accuracy : {avg_te_acc}\")\n",
        "    history = np.vstack((history, np.array([epoch + 1, avg_tr_acc, avg_tr_loss, avg_te_acc, avg_te_loss])))\n",
        "  \n",
        "  return history"
      ],
      "metadata": {
        "id": "lSTPeMOkqCkr"
      },
      "execution_count": 14,
      "outputs": []
    },
    {
      "cell_type": "code",
      "source": [
        "net = CNN().to(device)\n",
        "criterion = nn.CrossEntropyLoss()\n",
        "lr = 0.003\n",
        "optimizer = Adam(net.parameters(), lr = lr)\n",
        "net   "
      ],
      "metadata": {
        "colab": {
          "base_uri": "https://localhost:8080/"
        },
        "id": "Zj7r1DBeqN95",
        "outputId": "55b5209e-bf52-4ec0-b50f-4aaab0a5ab13"
      },
      "execution_count": 20,
      "outputs": [
        {
          "output_type": "execute_result",
          "data": {
            "text/plain": [
              "CNN(\n",
              "  (c1): Conv2d(3, 32, kernel_size=(3, 3), stride=(1, 1), padding=(1, 1))\n",
              "  (c2): Conv2d(32, 32, kernel_size=(3, 3), stride=(1, 1), padding=(1, 1))\n",
              "  (c3): Conv2d(32, 64, kernel_size=(3, 3), stride=(1, 1), padding=(1, 1))\n",
              "  (c4): Conv2d(64, 64, kernel_size=(3, 3), stride=(1, 1), padding=(1, 1))\n",
              "  (c5): Conv2d(64, 128, kernel_size=(3, 3), stride=(1, 1), padding=(1, 1))\n",
              "  (c6): Conv2d(128, 128, kernel_size=(3, 3), stride=(1, 1), padding=(1, 1))\n",
              "  (relu): ReLU(inplace=True)\n",
              "  (flatten): Flatten(start_dim=1, end_dim=-1)\n",
              "  (maxpool): MaxPool2d(kernel_size=(2, 2), stride=(2, 2), padding=0, dilation=1, ceil_mode=False)\n",
              "  (l1): Linear(in_features=2048, out_features=128, bias=True)\n",
              "  (l2): Linear(in_features=128, out_features=10, bias=True)\n",
              "  (features): Sequential(\n",
              "    (0): Conv2d(3, 32, kernel_size=(3, 3), stride=(1, 1), padding=(1, 1))\n",
              "    (1): ReLU(inplace=True)\n",
              "    (2): Conv2d(32, 32, kernel_size=(3, 3), stride=(1, 1), padding=(1, 1))\n",
              "    (3): ReLU(inplace=True)\n",
              "    (4): MaxPool2d(kernel_size=(2, 2), stride=(2, 2), padding=0, dilation=1, ceil_mode=False)\n",
              "    (5): Conv2d(32, 64, kernel_size=(3, 3), stride=(1, 1), padding=(1, 1))\n",
              "    (6): ReLU(inplace=True)\n",
              "    (7): MaxPool2d(kernel_size=(2, 2), stride=(2, 2), padding=0, dilation=1, ceil_mode=False)\n",
              "    (8): Conv2d(64, 128, kernel_size=(3, 3), stride=(1, 1), padding=(1, 1))\n",
              "    (9): ReLU(inplace=True)\n",
              "    (10): Conv2d(128, 128, kernel_size=(3, 3), stride=(1, 1), padding=(1, 1))\n",
              "    (11): ReLU(inplace=True)\n",
              "    (12): MaxPool2d(kernel_size=(2, 2), stride=(2, 2), padding=0, dilation=1, ceil_mode=False)\n",
              "  )\n",
              "  (cls): Sequential(\n",
              "    (0): Linear(in_features=2048, out_features=128, bias=True)\n",
              "    (1): ReLU(inplace=True)\n",
              "    (2): Linear(in_features=128, out_features=10, bias=True)\n",
              "  )\n",
              ")"
            ]
          },
          "metadata": {},
          "execution_count": 20
        }
      ]
    },
    {
      "cell_type": "code",
      "source": [
        "num_epochs = 20"
      ],
      "metadata": {
        "id": "ashoJTzHqomq"
      },
      "execution_count": 21,
      "outputs": []
    },
    {
      "cell_type": "code",
      "source": [
        "history = fit(net, optimizer, criterion, num_epochs, tr_loader, te_loader, device)"
      ],
      "metadata": {
        "colab": {
          "base_uri": "https://localhost:8080/",
          "height": 440,
          "referenced_widgets": [
            "4ff4eede02614e84ae5ee88ec0898b70",
            "fc3260c6fdcf4648bfeef2d2b997824b",
            "3ecee9cf5d704e2590aa3d4e5d9167df",
            "b9a11024ec8348b584c947a2a0859575",
            "a564ebdf10b24d4d824483c506570f1a",
            "bafd12b6fb664f0fa0ea3ecfdb740cee",
            "5997daca72a84f229547f8a62bbf278a",
            "0f6898aaa82344878ae0d9f7a4dd53f2",
            "94930ae44d3344a687e35d192f16e3fd",
            "d947d116c6b649d88b3e7dceaa28c6c3",
            "44d7fb3c169b4effb2d74d305dc3bbc9"
          ]
        },
        "id": "Mrnq7evsqqa8",
        "outputId": "083cbaad-f711-4f6a-a438-7735d1b707f3"
      },
      "execution_count": 24,
      "outputs": [
        {
          "output_type": "stream",
          "name": "stderr",
          "text": [
            "<ipython-input-14-839ecd69b94e>:5: TqdmDeprecationWarning: This function will be removed in tqdm==5.0.0\n",
            "Please use `tqdm.notebook.tqdm` instead of `tqdm.tqdm_notebook`\n",
            "  for epoch in tqdm_notebook(range(num_epochs)) :\n"
          ]
        },
        {
          "output_type": "display_data",
          "data": {
            "text/plain": [
              "  0%|          | 0/20 [00:00<?, ?it/s]"
            ],
            "application/vnd.jupyter.widget-view+json": {
              "version_major": 2,
              "version_minor": 0,
              "model_id": "4ff4eede02614e84ae5ee88ec0898b70"
            }
          },
          "metadata": {}
        },
        {
          "output_type": "stream",
          "name": "stdout",
          "text": [
            "Epoch 1 Train Accuracy : 0.78388 / Test Accuracy : 0.7517\n",
            "Epoch 2 Train Accuracy : 0.79014 / Test Accuracy : 0.7609\n",
            "Epoch 3 Train Accuracy : 0.79686 / Test Accuracy : 0.764\n",
            "Epoch 4 Train Accuracy : 0.8088 / Test Accuracy : 0.7663\n",
            "Epoch 5 Train Accuracy : 0.8136 / Test Accuracy : 0.76\n",
            "Epoch 6 Train Accuracy : 0.8193 / Test Accuracy : 0.7635\n",
            "Epoch 7 Train Accuracy : 0.82206 / Test Accuracy : 0.7731\n",
            "Epoch 8 Train Accuracy : 0.8271 / Test Accuracy : 0.7709\n",
            "Epoch 9 Train Accuracy : 0.83132 / Test Accuracy : 0.7749\n",
            "Epoch 10 Train Accuracy : 0.84258 / Test Accuracy : 0.7774\n",
            "Epoch 11 Train Accuracy : 0.84296 / Test Accuracy : 0.7717\n",
            "Epoch 12 Train Accuracy : 0.84624 / Test Accuracy : 0.7731\n",
            "Epoch 13 Train Accuracy : 0.85198 / Test Accuracy : 0.7635\n",
            "Epoch 14 Train Accuracy : 0.85484 / Test Accuracy : 0.7746\n",
            "Epoch 15 Train Accuracy : 0.8643 / Test Accuracy : 0.7756\n",
            "Epoch 16 Train Accuracy : 0.86544 / Test Accuracy : 0.7763\n",
            "Epoch 17 Train Accuracy : 0.86782 / Test Accuracy : 0.7872\n",
            "Epoch 18 Train Accuracy : 0.86968 / Test Accuracy : 0.7851\n",
            "Epoch 19 Train Accuracy : 0.87486 / Test Accuracy : 0.7777\n",
            "Epoch 20 Train Accuracy : 0.87384 / Test Accuracy : 0.7788\n"
          ]
        }
      ]
    },
    {
      "cell_type": "markdown",
      "source": [
        "## net.train() & net.eval()\n",
        "\n",
        "- 학습시 파라미터 수정을 위한 **훈련 페이즈**와 수정한 파라미터 값으로 예측 값을 구하는 **예측 페이즈**를 교대로 반복한다."
      ],
      "metadata": {
        "id": "ZSfaQ33NoXcE"
      }
    }
  ]
}