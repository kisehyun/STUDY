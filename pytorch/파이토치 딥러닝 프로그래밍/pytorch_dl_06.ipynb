{
 "cells": [
  {
   "cell_type": "code",
   "execution_count": 1,
   "id": "64d40ca0",
   "metadata": {},
   "outputs": [],
   "source": [
    "import pandas as pd\n",
    "\n",
    "from sklearn.datasets import load_boston"
   ]
  },
  {
   "cell_type": "code",
   "execution_count": 2,
   "id": "e80880a9",
   "metadata": {},
   "outputs": [],
   "source": [
    "raw_df = load_boston()"
   ]
  },
  {
   "cell_type": "code",
   "execution_count": 3,
   "id": "1d7d7892",
   "metadata": {},
   "outputs": [],
   "source": [
    "X = raw_df.data"
   ]
  },
  {
   "cell_type": "code",
   "execution_count": 4,
   "id": "931bfa2e",
   "metadata": {},
   "outputs": [],
   "source": [
    "y = raw_df.target"
   ]
  },
  {
   "cell_type": "code",
   "execution_count": 5,
   "id": "40940dc9",
   "metadata": {},
   "outputs": [
    {
     "data": {
      "text/plain": [
       "((506, 13), 506)"
      ]
     },
     "execution_count": 5,
     "metadata": {},
     "output_type": "execute_result"
    }
   ],
   "source": [
    "X.shape, len(y)"
   ]
  },
  {
   "cell_type": "code",
   "execution_count": 6,
   "id": "33a01c06",
   "metadata": {},
   "outputs": [],
   "source": [
    "n_input = X.shape[1]\n",
    "n_output = 1"
   ]
  },
  {
   "cell_type": "code",
   "execution_count": 7,
   "id": "ce4fb5e5",
   "metadata": {},
   "outputs": [],
   "source": [
    "import torch\n",
    "import torch.nn as nn"
   ]
  },
  {
   "cell_type": "code",
   "execution_count": 8,
   "id": "698379a9",
   "metadata": {},
   "outputs": [],
   "source": [
    "class Net(nn.Module) :\n",
    "    \n",
    "    def __init__(self, n_input, n_output) :\n",
    "        \n",
    "        super().__init__()\n",
    "        self.l1 = nn.Linear(n_input, n_output)\n",
    "        \n",
    "        nn.init.constant_(self.l1.weight, 1.0)\n",
    "        nn.init.constant_(self.l1.bias, 1.0)\n",
    "        \n",
    "    def forward(self, x) :\n",
    "        \n",
    "        x = self.l1(x)\n",
    "        \n",
    "        return x"
   ]
  },
  {
   "cell_type": "markdown",
   "id": "ca89d86e",
   "metadata": {},
   "source": [
    "- 커스텀 클래스 Net을 nn.Module의 자식 클래스로 정의\n",
    "- __init__ 함수로 초기화\n",
    "- 인스턴스 생성 시 n_input, n_output 두 값을 인수로 설정\n",
    "- __init__ 함수의 내부에서 부모 클래스의 __init__ 함수를 호출"
   ]
  },
  {
   "cell_type": "code",
   "execution_count": 9,
   "id": "214d0cde",
   "metadata": {},
   "outputs": [],
   "source": [
    "### 인스턴스 생성\n",
    "net = Net(n_input, n_output)"
   ]
  },
  {
   "cell_type": "code",
   "execution_count": 10,
   "id": "4f412cfc",
   "metadata": {},
   "outputs": [
    {
     "data": {
      "text/plain": [
       "Net(\n",
       "  (l1): Linear(in_features=13, out_features=1, bias=True)\n",
       ")"
      ]
     },
     "execution_count": 10,
     "metadata": {},
     "output_type": "execute_result"
    }
   ],
   "source": [
    "net"
   ]
  },
  {
   "cell_type": "code",
   "execution_count": 11,
   "id": "7f26b725",
   "metadata": {},
   "outputs": [
    {
     "name": "stdout",
     "output_type": "stream",
     "text": [
      "변수명 : l1.weight\n",
      "변수값 : Parameter containing:\n",
      "tensor([[1., 1., 1., 1., 1., 1., 1., 1., 1., 1., 1., 1., 1.]],\n",
      "       requires_grad=True)\n",
      "변수명 : l1.bias\n",
      "변수값 : Parameter containing:\n",
      "tensor([1.], requires_grad=True)\n"
     ]
    }
   ],
   "source": [
    "for parameter in net.named_parameters() :\n",
    "    \n",
    "    print(f\"변수명 : {parameter[0]}\")\n",
    "    print(f\"변수값 : {parameter[1]}\")"
   ]
  },
  {
   "cell_type": "code",
   "execution_count": 12,
   "id": "91d975e6",
   "metadata": {
    "scrolled": true
   },
   "outputs": [],
   "source": [
    "from torchinfo import summary"
   ]
  },
  {
   "cell_type": "code",
   "execution_count": 13,
   "id": "66d19373",
   "metadata": {},
   "outputs": [
    {
     "data": {
      "text/plain": [
       "==========================================================================================\n",
       "Layer (type:depth-idx)                   Output Shape              Param #\n",
       "==========================================================================================\n",
       "Net                                      [1]                       --\n",
       "├─Linear: 1-1                            [1]                       14\n",
       "==========================================================================================\n",
       "Total params: 14\n",
       "Trainable params: 14\n",
       "Non-trainable params: 0\n",
       "Total mult-adds (M): 0.00\n",
       "==========================================================================================\n",
       "Input size (MB): 0.00\n",
       "Forward/backward pass size (MB): 0.00\n",
       "Params size (MB): 0.00\n",
       "Estimated Total Size (MB): 0.00\n",
       "=========================================================================================="
      ]
     },
     "execution_count": 13,
     "metadata": {},
     "output_type": "execute_result"
    }
   ],
   "source": [
    "summary(net, (13, ))\n",
    "### 인수로 net 변수와 입력 변수의 사이즈를 지정해야 한다. -> keras의 summary와 비슷?"
   ]
  },
  {
   "cell_type": "code",
   "execution_count": 14,
   "id": "196acacb",
   "metadata": {},
   "outputs": [],
   "source": [
    "inputs = torch.tensor(X, dtype = torch.float)"
   ]
  },
  {
   "cell_type": "code",
   "execution_count": 22,
   "id": "a5a563cd",
   "metadata": {},
   "outputs": [],
   "source": [
    "outputs = torch.tensor(y, dtype = torch.float)"
   ]
  },
  {
   "cell_type": "code",
   "execution_count": 15,
   "id": "9d3ff9c1",
   "metadata": {},
   "outputs": [],
   "source": [
    "num_epochs = 2000"
   ]
  },
  {
   "cell_type": "code",
   "execution_count": 30,
   "id": "c033dff1",
   "metadata": {},
   "outputs": [],
   "source": [
    "lr = 0.01"
   ]
  },
  {
   "cell_type": "code",
   "execution_count": 31,
   "id": "f5568145",
   "metadata": {},
   "outputs": [],
   "source": [
    "net = Net(n_input, n_output)"
   ]
  },
  {
   "cell_type": "code",
   "execution_count": 32,
   "id": "11af3a84",
   "metadata": {},
   "outputs": [],
   "source": [
    "optim = torch.optim.Adam(net.parameters(), lr = lr)"
   ]
  },
  {
   "cell_type": "code",
   "execution_count": 33,
   "id": "11c8b674",
   "metadata": {},
   "outputs": [],
   "source": [
    "criterion = torch.nn.MSELoss()"
   ]
  },
  {
   "cell_type": "code",
   "execution_count": 34,
   "id": "c36f7920",
   "metadata": {},
   "outputs": [],
   "source": [
    "from tqdm import tqdm_notebook"
   ]
  },
  {
   "cell_type": "code",
   "execution_count": 35,
   "id": "f0ef28e9",
   "metadata": {},
   "outputs": [
    {
     "name": "stderr",
     "output_type": "stream",
     "text": [
      "<ipython-input-35-ea40dd4f9921>:1: TqdmDeprecationWarning: This function will be removed in tqdm==5.0.0\n",
      "Please use `tqdm.notebook.tqdm` instead of `tqdm.tqdm_notebook`\n",
      "  for epoch in tqdm_notebook(range(num_epochs)) :\n"
     ]
    },
    {
     "data": {
      "application/vnd.jupyter.widget-view+json": {
       "model_id": "355ac5ed746c4e1f9aacd0c0cf5192eb",
       "version_major": 2,
       "version_minor": 0
      },
      "text/plain": [
       "  0%|          | 0/2000 [00:00<?, ?it/s]"
      ]
     },
     "metadata": {},
     "output_type": "display_data"
    },
    {
     "name": "stdout",
     "output_type": "stream",
     "text": [
      "Epoch 0 loss :  822535.43750\n",
      "Epoch 100 loss :  37204.80859\n",
      "Epoch 200 loss :  233.02597\n",
      "Epoch 300 loss :  98.20445\n",
      "Epoch 400 loss :  96.68077\n",
      "Epoch 500 loss :  95.72710\n",
      "Epoch 600 loss :  95.15235\n",
      "Epoch 700 loss :  94.79242\n",
      "Epoch 800 loss :  94.54022\n",
      "Epoch 900 loss :  94.33736\n",
      "Epoch 1000 loss :  94.15562\n",
      "Epoch 1100 loss :  93.98235\n",
      "Epoch 1200 loss :  93.81152\n",
      "Epoch 1300 loss :  93.64079\n",
      "Epoch 1400 loss :  93.46879\n",
      "Epoch 1500 loss :  93.29498\n",
      "Epoch 1600 loss :  93.11932\n",
      "Epoch 1700 loss :  92.94179\n",
      "Epoch 1800 loss :  92.76270\n",
      "Epoch 1900 loss :  92.58189\n"
     ]
    }
   ],
   "source": [
    "for epoch in tqdm_notebook(range(num_epochs)) :\n",
    "    \n",
    "    optim.zero_grad()\n",
    "    pred = net(inputs)\n",
    "    \n",
    "    loss = criterion(pred, outputs)\n",
    "    loss.backward()\n",
    "    \n",
    "    optim.step()\n",
    "    \n",
    "    if (epoch % 100 == 0) :\n",
    "        print(f\"Epoch {epoch} loss : {loss.item() : .5f}\")"
   ]
  }
 ],
 "metadata": {
  "kernelspec": {
   "display_name": "Python 3",
   "language": "python",
   "name": "python3"
  },
  "language_info": {
   "codemirror_mode": {
    "name": "ipython",
    "version": 3
   },
   "file_extension": ".py",
   "mimetype": "text/x-python",
   "name": "python",
   "nbconvert_exporter": "python",
   "pygments_lexer": "ipython3",
   "version": "3.8.8"
  }
 },
 "nbformat": 4,
 "nbformat_minor": 5
}
