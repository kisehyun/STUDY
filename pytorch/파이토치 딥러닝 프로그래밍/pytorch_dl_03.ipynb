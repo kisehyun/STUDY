{
  "nbformat": 4,
  "nbformat_minor": 0,
  "metadata": {
    "colab": {
      "provenance": [],
      "collapsed_sections": []
    },
    "kernelspec": {
      "name": "python3",
      "display_name": "Python 3"
    },
    "language_info": {
      "name": "python"
    }
  },
  "cells": [
    {
      "cell_type": "code",
      "execution_count": null,
      "metadata": {
        "id": "_DEl-o_qWCn7"
      },
      "outputs": [],
      "source": [
        "import numpy as np"
      ]
    },
    {
      "cell_type": "code",
      "source": [
        "data = np.array([\n",
        "    [166, 58.7],\n",
        "    [176.0, 75.7],\n",
        "    [171.0, 62.1],\n",
        "    [173.0, 70.4],\n",
        "    [169.0, 60.1]\n",
        "])"
      ],
      "metadata": {
        "id": "XJUe73PlWbkT"
      },
      "execution_count": 145,
      "outputs": []
    },
    {
      "cell_type": "code",
      "source": [
        "X = data[:, 0]\n",
        "y = data[:, 1]"
      ],
      "metadata": {
        "id": "RiBeE9ePatkh"
      },
      "execution_count": 146,
      "outputs": []
    },
    {
      "cell_type": "code",
      "source": [
        "import matplotlib.pyplot as plt\n",
        "%matplotlib inline"
      ],
      "metadata": {
        "id": "ZaTmNzdDayT6"
      },
      "execution_count": 147,
      "outputs": []
    },
    {
      "cell_type": "code",
      "source": [
        "plt.scatter(X, y, c = 'k', s = 50)\n",
        "plt.xlabel('Height')\n",
        "plt.ylabel('Weight')\n",
        "plt.title('H & W')\n",
        "plt.show()"
      ],
      "metadata": {
        "colab": {
          "base_uri": "https://localhost:8080/",
          "height": 295
        },
        "id": "o0e4Re-6a1WG",
        "outputId": "a657d77b-4bdc-4a40-d223-51bb03e99430"
      },
      "execution_count": 148,
      "outputs": [
        {
          "output_type": "display_data",
          "data": {
            "text/plain": [
              "<Figure size 432x288 with 1 Axes>"
            ],
            "image/png": "[encoded data removed]"
          },
          "metadata": {
            "needs_background": "light"
          }
        }
      ]
    },
    {
      "cell_type": "code",
      "source": [
        "X -= X.mean()\n",
        "y -= y.mean()"
      ],
      "metadata": {
        "id": "yRgpfv9VbOAR"
      },
      "execution_count": 149,
      "outputs": []
    },
    {
      "cell_type": "code",
      "source": [
        "plt.scatter(X, y, c = 'k', s = 50)\n",
        "plt.xlabel('Height')\n",
        "plt.ylabel('Weight')\n",
        "plt.title('H & W')\n",
        "plt.show()"
      ],
      "metadata": {
        "id": "OGaxmSu3bsAb",
        "outputId": "d996753a-3a27-4c9a-b06f-de0230668091",
        "colab": {
          "base_uri": "https://localhost:8080/",
          "height": 295
        }
      },
      "execution_count": 150,
      "outputs": [
        {
          "output_type": "display_data",
          "data": {
            "text/plain": [
              "<Figure size 432x288 with 1 Axes>"
            ],
            "image/png": "[encoded data removed]"
          },
          "metadata": {
            "needs_background": "light"
          }
        }
      ]
    },
    {
      "cell_type": "markdown",
      "source": [
        "### 예측 계산"
      ],
      "metadata": {
        "id": "z9_6J6eWehp3"
      }
    },
    {
      "cell_type": "code",
      "source": [
        "import torch\n",
        "import warnings\n",
        "warnings.filterwarnings('ignore')"
      ],
      "metadata": {
        "id": "1LO3R_DNauAc"
      },
      "execution_count": 151,
      "outputs": []
    },
    {
      "cell_type": "code",
      "source": [
        "X = torch.tensor(X).float()\n",
        "y = torch.tensor(y).float()"
      ],
      "metadata": {
        "id": "HCBzZWL8ctWw"
      },
      "execution_count": 152,
      "outputs": []
    },
    {
      "cell_type": "code",
      "source": [
        "# 각각 Weight와 Bias의 초기값을 1로 설정\n",
        "W = torch.tensor(1.0, requires_grad = True).float()\n",
        "B = torch.tensor(1.0, requires_grad = True).float()"
      ],
      "metadata": {
        "id": "uJvuFWrJcxD2"
      },
      "execution_count": 153,
      "outputs": []
    },
    {
      "cell_type": "code",
      "source": [
        "W, B"
      ],
      "metadata": {
        "colab": {
          "base_uri": "https://localhost:8080/"
        },
        "id": "FpSYC52EdBES",
        "outputId": "b4bdbacc-a088-45d2-9967-b4b50f08a5b8"
      },
      "execution_count": 154,
      "outputs": [
        {
          "output_type": "execute_result",
          "data": {
            "text/plain": [
              "(tensor(1., requires_grad=True), tensor(1., requires_grad=True))"
            ]
          },
          "metadata": {},
          "execution_count": 154
        }
      ]
    },
    {
      "cell_type": "code",
      "source": [
        "def pred(x) :\n",
        "  return W * x + B"
      ],
      "metadata": {
        "id": "QZFrL286cxqK"
      },
      "execution_count": 155,
      "outputs": []
    },
    {
      "cell_type": "code",
      "source": [
        "Yp = pred(X)"
      ],
      "metadata": {
        "id": "YZwC9jlqdLrm"
      },
      "execution_count": 156,
      "outputs": []
    },
    {
      "cell_type": "code",
      "source": [
        "Yp"
      ],
      "metadata": {
        "colab": {
          "base_uri": "https://localhost:8080/"
        },
        "id": "ef66TigfdMsp",
        "outputId": "64c81ee8-8451-401b-df66-526ed542f888"
      },
      "execution_count": 157,
      "outputs": [
        {
          "output_type": "execute_result",
          "data": {
            "text/plain": [
              "tensor([-4.,  6.,  1.,  3., -1.], grad_fn=<AddBackward0>)"
            ]
          },
          "metadata": {},
          "execution_count": 157
        }
      ]
    },
    {
      "cell_type": "code",
      "source": [
        "from torchviz import make_dot"
      ],
      "metadata": {
        "id": "9c20xAPqdNIC"
      },
      "execution_count": 158,
      "outputs": []
    },
    {
      "cell_type": "code",
      "source": [
        "params = {'W' : W, 'B' : B}"
      ],
      "metadata": {
        "id": "nCtopOoNdquI"
      },
      "execution_count": 159,
      "outputs": []
    },
    {
      "cell_type": "code",
      "source": [
        "g = make_dot(Yp, params)\n",
        "display(g)"
      ],
      "metadata": {
        "colab": {
          "base_uri": "https://localhost:8080/",
          "height": 396
        },
        "id": "Q0oP9_V7dtKq",
        "outputId": "01197887-fe3d-47d1-bd0e-01c8320547d8"
      },
      "execution_count": 160,
      "outputs": [
        {
          "output_type": "display_data",
          "data": {
            "text/plain": [
              "<graphviz.dot.Digraph at 0x7f00dd8595d0>"
            ],
            "image/svg+xml": "<?xml version=\"1.0\" encoding=\"UTF-8\" standalone=\"no\"?>\n<!DOCTYPE svg PUBLIC \"-//W3C//DTD SVG 1.1//EN\"\n \"http://www.w3.org/Graphics/SVG/1.1/DTD/svg11.dtd\">\n<!-- Generated by graphviz version 2.40.1 (20161225.0304)\n -->\n<!-- Title: %3 Pages: 1 -->\n<svg width=\"222pt\" height=\"281pt\"\n viewBox=\"0.00 0.00 222.00 281.00\" xmlns=\"http://www.w3.org/2000/svg\" xmlns:xlink=\"http://www.w3.org/1999/xlink\">\n<g id=\"graph0\" class=\"graph\" transform=\"scale(1 1) rotate(0) translate(4 277)\">\n<title>%3</title>\n<polygon fill=\"#ffffff\" stroke=\"transparent\" points=\"-4,4 -4,-277 218,-277 218,4 -4,4\"/>\n<!-- 139641694054544 -->\n<g id=\"node1\" class=\"node\">\n<title>139641694054544</title>\n<polygon fill=\"#caff70\" stroke=\"#000000\" points=\"133.5,-31 79.5,-31 79.5,0 133.5,0 133.5,-31\"/>\n<text text-anchor=\"middle\" x=\"106.5\" y=\"-7\" font-family=\"monospace\" font-size=\"10.00\" fill=\"#000000\"> (5)</text>\n</g>\n<!-- 139641693247056 -->\n<g id=\"node2\" class=\"node\">\n<title>139641693247056</title>\n<polygon fill=\"#d3d3d3\" stroke=\"#000000\" points=\"151,-86 62,-86 62,-67 151,-67 151,-86\"/>\n<text text-anchor=\"middle\" x=\"106.5\" y=\"-74\" font-family=\"monospace\" font-size=\"10.00\" fill=\"#000000\">AddBackward0</text>\n</g>\n<!-- 139641693247056&#45;&gt;139641694054544 -->\n<g id=\"edge6\" class=\"edge\">\n<title>139641693247056&#45;&gt;139641694054544</title>\n<path fill=\"none\" stroke=\"#000000\" d=\"M106.5,-66.9688C106.5,-60.1289 106.5,-50.5621 106.5,-41.5298\"/>\n<polygon fill=\"#000000\" stroke=\"#000000\" points=\"110.0001,-41.3678 106.5,-31.3678 103.0001,-41.3678 110.0001,-41.3678\"/>\n</g>\n<!-- 139641693246864 -->\n<g id=\"node3\" class=\"node\">\n<title>139641693246864</title>\n<polygon fill=\"#d3d3d3\" stroke=\"#000000\" points=\"95,-141 6,-141 6,-122 95,-122 95,-141\"/>\n<text text-anchor=\"middle\" x=\"50.5\" y=\"-129\" font-family=\"monospace\" font-size=\"10.00\" fill=\"#000000\">MulBackward0</text>\n</g>\n<!-- 139641693246864&#45;&gt;139641693247056 -->\n<g id=\"edge1\" class=\"edge\">\n<title>139641693246864&#45;&gt;139641693247056</title>\n<path fill=\"none\" stroke=\"#000000\" d=\"M60.2545,-121.9197C68.1865,-114.1293 79.5788,-102.9405 89.0712,-93.6176\"/>\n<polygon fill=\"#000000\" stroke=\"#000000\" points=\"91.7982,-95.845 96.4802,-86.3408 86.8932,-90.8509 91.7982,-95.845\"/>\n</g>\n<!-- 139641693246800 -->\n<g id=\"node4\" class=\"node\">\n<title>139641693246800</title>\n<polygon fill=\"#d3d3d3\" stroke=\"#000000\" points=\"101,-201.5 0,-201.5 0,-182.5 101,-182.5 101,-201.5\"/>\n<text text-anchor=\"middle\" x=\"50.5\" y=\"-189.5\" font-family=\"monospace\" font-size=\"10.00\" fill=\"#000000\">AccumulateGrad</text>\n</g>\n<!-- 139641693246800&#45;&gt;139641693246864 -->\n<g id=\"edge2\" class=\"edge\">\n<title>139641693246800&#45;&gt;139641693246864</title>\n<path fill=\"none\" stroke=\"#000000\" d=\"M50.5,-182.2796C50.5,-174.0376 50.5,-161.9457 50.5,-151.629\"/>\n<polygon fill=\"#000000\" stroke=\"#000000\" points=\"54.0001,-151.3972 50.5,-141.3972 47.0001,-151.3973 54.0001,-151.3972\"/>\n</g>\n<!-- 139641693538448 -->\n<g id=\"node5\" class=\"node\">\n<title>139641693538448</title>\n<polygon fill=\"#add8e6\" stroke=\"#000000\" points=\"77.5,-273 23.5,-273 23.5,-243 77.5,-243 77.5,-273\"/>\n<text text-anchor=\"middle\" x=\"50.5\" y=\"-261\" font-family=\"monospace\" font-size=\"10.00\" fill=\"#000000\">W</text>\n<text text-anchor=\"middle\" x=\"50.5\" y=\"-250\" font-family=\"monospace\" font-size=\"10.00\" fill=\"#000000\"> ()</text>\n</g>\n<!-- 139641693538448&#45;&gt;139641693246800 -->\n<g id=\"edge3\" class=\"edge\">\n<title>139641693538448&#45;&gt;139641693246800</title>\n<path fill=\"none\" stroke=\"#000000\" d=\"M50.5,-242.6924C50.5,-233.5067 50.5,-221.7245 50.5,-211.8312\"/>\n<polygon fill=\"#000000\" stroke=\"#000000\" points=\"54.0001,-211.703 50.5,-201.7031 47.0001,-211.7031 54.0001,-211.703\"/>\n</g>\n<!-- 139641693247184 -->\n<g id=\"node6\" class=\"node\">\n<title>139641693247184</title>\n<polygon fill=\"#d3d3d3\" stroke=\"#000000\" points=\"214,-141 113,-141 113,-122 214,-122 214,-141\"/>\n<text text-anchor=\"middle\" x=\"163.5\" y=\"-129\" font-family=\"monospace\" font-size=\"10.00\" fill=\"#000000\">AccumulateGrad</text>\n</g>\n<!-- 139641693247184&#45;&gt;139641693247056 -->\n<g id=\"edge4\" class=\"edge\">\n<title>139641693247184&#45;&gt;139641693247056</title>\n<path fill=\"none\" stroke=\"#000000\" d=\"M153.5714,-121.9197C145.4169,-114.0514 133.6697,-102.7164 123.9508,-93.3385\"/>\n<polygon fill=\"#000000\" stroke=\"#000000\" points=\"126.3252,-90.7659 116.6987,-86.3408 121.4646,-95.8032 126.3252,-90.7659\"/>\n</g>\n<!-- 139641693704656 -->\n<g id=\"node7\" class=\"node\">\n<title>139641693704656</title>\n<polygon fill=\"#add8e6\" stroke=\"#000000\" points=\"190.5,-207 136.5,-207 136.5,-177 190.5,-177 190.5,-207\"/>\n<text text-anchor=\"middle\" x=\"163.5\" y=\"-195\" font-family=\"monospace\" font-size=\"10.00\" fill=\"#000000\">B</text>\n<text text-anchor=\"middle\" x=\"163.5\" y=\"-184\" font-family=\"monospace\" font-size=\"10.00\" fill=\"#000000\"> ()</text>\n</g>\n<!-- 139641693704656&#45;&gt;139641693247184 -->\n<g id=\"edge5\" class=\"edge\">\n<title>139641693704656&#45;&gt;139641693247184</title>\n<path fill=\"none\" stroke=\"#000000\" d=\"M163.5,-176.7333C163.5,-169.0322 163.5,-159.5977 163.5,-151.3414\"/>\n<polygon fill=\"#000000\" stroke=\"#000000\" points=\"167.0001,-151.0864 163.5,-141.0864 160.0001,-151.0864 167.0001,-151.0864\"/>\n</g>\n</g>\n</svg>\n"
          },
          "metadata": {}
        }
      ]
    },
    {
      "cell_type": "markdown",
      "source": [
        "### 손실 계산"
      ],
      "metadata": {
        "id": "lNpyvzJkecWS"
      }
    },
    {
      "cell_type": "code",
      "source": [
        "def mse(pred, true) :\n",
        "  loss = ((pred - true) ** 2).mean()\n",
        "  return loss"
      ],
      "metadata": {
        "id": "xepIWbCOdSH6"
      },
      "execution_count": 161,
      "outputs": []
    },
    {
      "cell_type": "code",
      "source": [
        "loss = mse(Yp, y)"
      ],
      "metadata": {
        "id": "wcsbJdXFewOi"
      },
      "execution_count": 162,
      "outputs": []
    },
    {
      "cell_type": "code",
      "source": [
        "loss.item()"
      ],
      "metadata": {
        "colab": {
          "base_uri": "https://localhost:8080/"
        },
        "id": "6ZAMveFMezN4",
        "outputId": "485e4d18-4794-43d9-e774-d455b3bf4841"
      },
      "execution_count": 163,
      "outputs": [
        {
          "output_type": "execute_result",
          "data": {
            "text/plain": [
              "13.352002143859863"
            ]
          },
          "metadata": {},
          "execution_count": 163
        }
      ]
    },
    {
      "cell_type": "code",
      "source": [
        "g = make_dot(loss, params = params)\n",
        "display(g)"
      ],
      "metadata": {
        "colab": {
          "base_uri": "https://localhost:8080/",
          "height": 616
        },
        "id": "axVI9DxGezjP",
        "outputId": "7223e640-4ec3-4710-a603-0280988c3226"
      },
      "execution_count": 164,
      "outputs": [
        {
          "output_type": "display_data",
          "data": {
            "text/plain": [
              "<graphviz.dot.Digraph at 0x7f00dd864bd0>"
            ],
            "image/svg+xml": "<?xml version=\"1.0\" encoding=\"UTF-8\" standalone=\"no\"?>\n<!DOCTYPE svg PUBLIC \"-//W3C//DTD SVG 1.1//EN\"\n \"http://www.w3.org/Graphics/SVG/1.1/DTD/svg11.dtd\">\n<!-- Generated by graphviz version 2.40.1 (20161225.0304)\n -->\n<!-- Title: %3 Pages: 1 -->\n<svg width=\"222pt\" height=\"446pt\"\n viewBox=\"0.00 0.00 222.00 446.00\" xmlns=\"http://www.w3.org/2000/svg\" xmlns:xlink=\"http://www.w3.org/1999/xlink\">\n<g id=\"graph0\" class=\"graph\" transform=\"scale(1 1) rotate(0) translate(4 442)\">\n<title>%3</title>\n<polygon fill=\"#ffffff\" stroke=\"transparent\" points=\"-4,4 -4,-442 218,-442 218,4 -4,4\"/>\n<!-- 139641693250672 -->\n<g id=\"node1\" class=\"node\">\n<title>139641693250672</title>\n<polygon fill=\"#caff70\" stroke=\"#000000\" points=\"133.5,-31 79.5,-31 79.5,0 133.5,0 133.5,-31\"/>\n<text text-anchor=\"middle\" x=\"106.5\" y=\"-7\" font-family=\"monospace\" font-size=\"10.00\" fill=\"#000000\"> ()</text>\n</g>\n<!-- 139641693247952 -->\n<g id=\"node2\" class=\"node\">\n<title>139641693247952</title>\n<polygon fill=\"#d3d3d3\" stroke=\"#000000\" points=\"154,-86 59,-86 59,-67 154,-67 154,-86\"/>\n<text text-anchor=\"middle\" x=\"106.5\" y=\"-74\" font-family=\"monospace\" font-size=\"10.00\" fill=\"#000000\">MeanBackward0</text>\n</g>\n<!-- 139641693247952&#45;&gt;139641693250672 -->\n<g id=\"edge9\" class=\"edge\">\n<title>139641693247952&#45;&gt;139641693250672</title>\n<path fill=\"none\" stroke=\"#000000\" d=\"M106.5,-66.9688C106.5,-60.1289 106.5,-50.5621 106.5,-41.5298\"/>\n<polygon fill=\"#000000\" stroke=\"#000000\" points=\"110.0001,-41.3678 106.5,-31.3678 103.0001,-41.3678 110.0001,-41.3678\"/>\n</g>\n<!-- 139641693246992 -->\n<g id=\"node3\" class=\"node\">\n<title>139641693246992</title>\n<polygon fill=\"#d3d3d3\" stroke=\"#000000\" points=\"151,-141 62,-141 62,-122 151,-122 151,-141\"/>\n<text text-anchor=\"middle\" x=\"106.5\" y=\"-129\" font-family=\"monospace\" font-size=\"10.00\" fill=\"#000000\">PowBackward0</text>\n</g>\n<!-- 139641693246992&#45;&gt;139641693247952 -->\n<g id=\"edge1\" class=\"edge\">\n<title>139641693246992&#45;&gt;139641693247952</title>\n<path fill=\"none\" stroke=\"#000000\" d=\"M106.5,-121.9197C106.5,-114.9083 106.5,-105.1442 106.5,-96.4652\"/>\n<polygon fill=\"#000000\" stroke=\"#000000\" points=\"110.0001,-96.3408 106.5,-86.3408 103.0001,-96.3409 110.0001,-96.3408\"/>\n</g>\n<!-- 139641693293456 -->\n<g id=\"node4\" class=\"node\">\n<title>139641693293456</title>\n<polygon fill=\"#d3d3d3\" stroke=\"#000000\" points=\"151,-196 62,-196 62,-177 151,-177 151,-196\"/>\n<text text-anchor=\"middle\" x=\"106.5\" y=\"-184\" font-family=\"monospace\" font-size=\"10.00\" fill=\"#000000\">SubBackward0</text>\n</g>\n<!-- 139641693293456&#45;&gt;139641693246992 -->\n<g id=\"edge2\" class=\"edge\">\n<title>139641693293456&#45;&gt;139641693246992</title>\n<path fill=\"none\" stroke=\"#000000\" d=\"M106.5,-176.9197C106.5,-169.9083 106.5,-160.1442 106.5,-151.4652\"/>\n<polygon fill=\"#000000\" stroke=\"#000000\" points=\"110.0001,-151.3408 106.5,-141.3408 103.0001,-151.3409 110.0001,-151.3408\"/>\n</g>\n<!-- 139641693247056 -->\n<g id=\"node5\" class=\"node\">\n<title>139641693247056</title>\n<polygon fill=\"#d3d3d3\" stroke=\"#000000\" points=\"151,-251 62,-251 62,-232 151,-232 151,-251\"/>\n<text text-anchor=\"middle\" x=\"106.5\" y=\"-239\" font-family=\"monospace\" font-size=\"10.00\" fill=\"#000000\">AddBackward0</text>\n</g>\n<!-- 139641693247056&#45;&gt;139641693293456 -->\n<g id=\"edge3\" class=\"edge\">\n<title>139641693247056&#45;&gt;139641693293456</title>\n<path fill=\"none\" stroke=\"#000000\" d=\"M106.5,-231.9197C106.5,-224.9083 106.5,-215.1442 106.5,-206.4652\"/>\n<polygon fill=\"#000000\" stroke=\"#000000\" points=\"110.0001,-206.3408 106.5,-196.3408 103.0001,-206.3409 110.0001,-206.3408\"/>\n</g>\n<!-- 139641693246864 -->\n<g id=\"node6\" class=\"node\">\n<title>139641693246864</title>\n<polygon fill=\"#d3d3d3\" stroke=\"#000000\" points=\"95,-306 6,-306 6,-287 95,-287 95,-306\"/>\n<text text-anchor=\"middle\" x=\"50.5\" y=\"-294\" font-family=\"monospace\" font-size=\"10.00\" fill=\"#000000\">MulBackward0</text>\n</g>\n<!-- 139641693246864&#45;&gt;139641693247056 -->\n<g id=\"edge4\" class=\"edge\">\n<title>139641693246864&#45;&gt;139641693247056</title>\n<path fill=\"none\" stroke=\"#000000\" d=\"M60.2545,-286.9197C68.1865,-279.1293 79.5788,-267.9405 89.0712,-258.6176\"/>\n<polygon fill=\"#000000\" stroke=\"#000000\" points=\"91.7982,-260.845 96.4802,-251.3408 86.8932,-255.8509 91.7982,-260.845\"/>\n</g>\n<!-- 139641693246800 -->\n<g id=\"node7\" class=\"node\">\n<title>139641693246800</title>\n<polygon fill=\"#d3d3d3\" stroke=\"#000000\" points=\"101,-366.5 0,-366.5 0,-347.5 101,-347.5 101,-366.5\"/>\n<text text-anchor=\"middle\" x=\"50.5\" y=\"-354.5\" font-family=\"monospace\" font-size=\"10.00\" fill=\"#000000\">AccumulateGrad</text>\n</g>\n<!-- 139641693246800&#45;&gt;139641693246864 -->\n<g id=\"edge5\" class=\"edge\">\n<title>139641693246800&#45;&gt;139641693246864</title>\n<path fill=\"none\" stroke=\"#000000\" d=\"M50.5,-347.2796C50.5,-339.0376 50.5,-326.9457 50.5,-316.629\"/>\n<polygon fill=\"#000000\" stroke=\"#000000\" points=\"54.0001,-316.3972 50.5,-306.3972 47.0001,-316.3973 54.0001,-316.3972\"/>\n</g>\n<!-- 139641693538448 -->\n<g id=\"node8\" class=\"node\">\n<title>139641693538448</title>\n<polygon fill=\"#add8e6\" stroke=\"#000000\" points=\"77.5,-438 23.5,-438 23.5,-408 77.5,-408 77.5,-438\"/>\n<text text-anchor=\"middle\" x=\"50.5\" y=\"-426\" font-family=\"monospace\" font-size=\"10.00\" fill=\"#000000\">W</text>\n<text text-anchor=\"middle\" x=\"50.5\" y=\"-415\" font-family=\"monospace\" font-size=\"10.00\" fill=\"#000000\"> ()</text>\n</g>\n<!-- 139641693538448&#45;&gt;139641693246800 -->\n<g id=\"edge6\" class=\"edge\">\n<title>139641693538448&#45;&gt;139641693246800</title>\n<path fill=\"none\" stroke=\"#000000\" d=\"M50.5,-407.6924C50.5,-398.5067 50.5,-386.7245 50.5,-376.8312\"/>\n<polygon fill=\"#000000\" stroke=\"#000000\" points=\"54.0001,-376.703 50.5,-366.7031 47.0001,-376.7031 54.0001,-376.703\"/>\n</g>\n<!-- 139641693247184 -->\n<g id=\"node9\" class=\"node\">\n<title>139641693247184</title>\n<polygon fill=\"#d3d3d3\" stroke=\"#000000\" points=\"214,-306 113,-306 113,-287 214,-287 214,-306\"/>\n<text text-anchor=\"middle\" x=\"163.5\" y=\"-294\" font-family=\"monospace\" font-size=\"10.00\" fill=\"#000000\">AccumulateGrad</text>\n</g>\n<!-- 139641693247184&#45;&gt;139641693247056 -->\n<g id=\"edge7\" class=\"edge\">\n<title>139641693247184&#45;&gt;139641693247056</title>\n<path fill=\"none\" stroke=\"#000000\" d=\"M153.5714,-286.9197C145.4169,-279.0514 133.6697,-267.7164 123.9508,-258.3385\"/>\n<polygon fill=\"#000000\" stroke=\"#000000\" points=\"126.3252,-255.7659 116.6987,-251.3408 121.4646,-260.8032 126.3252,-255.7659\"/>\n</g>\n<!-- 139641693704656 -->\n<g id=\"node10\" class=\"node\">\n<title>139641693704656</title>\n<polygon fill=\"#add8e6\" stroke=\"#000000\" points=\"190.5,-372 136.5,-372 136.5,-342 190.5,-342 190.5,-372\"/>\n<text text-anchor=\"middle\" x=\"163.5\" y=\"-360\" font-family=\"monospace\" font-size=\"10.00\" fill=\"#000000\">B</text>\n<text text-anchor=\"middle\" x=\"163.5\" y=\"-349\" font-family=\"monospace\" font-size=\"10.00\" fill=\"#000000\"> ()</text>\n</g>\n<!-- 139641693704656&#45;&gt;139641693247184 -->\n<g id=\"edge8\" class=\"edge\">\n<title>139641693704656&#45;&gt;139641693247184</title>\n<path fill=\"none\" stroke=\"#000000\" d=\"M163.5,-341.7333C163.5,-334.0322 163.5,-324.5977 163.5,-316.3414\"/>\n<polygon fill=\"#000000\" stroke=\"#000000\" points=\"167.0001,-316.0864 163.5,-306.0864 160.0001,-316.0864 167.0001,-316.0864\"/>\n</g>\n</g>\n</svg>\n"
          },
          "metadata": {}
        }
      ]
    },
    {
      "cell_type": "markdown",
      "source": [
        "### 미분 계산\n"
      ],
      "metadata": {
        "id": "-sk4zVmYe_fC"
      }
    },
    {
      "cell_type": "code",
      "source": [
        "loss.backward()"
      ],
      "metadata": {
        "id": "zwges90TfBRK"
      },
      "execution_count": 165,
      "outputs": []
    },
    {
      "cell_type": "code",
      "source": [
        "W.grad, B.grad"
      ],
      "metadata": {
        "colab": {
          "base_uri": "https://localhost:8080/"
        },
        "id": "fZPVi1UAiPTU",
        "outputId": "58e1ceb9-2e44-4341-d5b8-3066e6912b5d"
      },
      "execution_count": 166,
      "outputs": [
        {
          "output_type": "execute_result",
          "data": {
            "text/plain": [
              "(tensor(-19.0400), tensor(2.0000))"
            ]
          },
          "metadata": {},
          "execution_count": 166
        }
      ]
    },
    {
      "cell_type": "markdown",
      "source": [
        "### 파라미터 수정\n",
        "\n",
        "- 미분 계산이 끝나면 그 값에 학습률을 곱한 결과를 원래 값에서 뺀다."
      ],
      "metadata": {
        "id": "mcEgcHdXimrp"
      }
    },
    {
      "cell_type": "code",
      "source": [
        "lr = 0.001"
      ],
      "metadata": {
        "id": "S4wwMaDhe6ts"
      },
      "execution_count": 167,
      "outputs": []
    },
    {
      "cell_type": "code",
      "source": [
        "W -= lr * W.grad\n",
        "B -= lr * B.grad"
      ],
      "metadata": {
        "colab": {
          "base_uri": "https://localhost:8080/",
          "height": 181
        },
        "id": "QC1xFUqwtYe-",
        "outputId": "97b70ece-5a7c-458d-b6f6-d12a7f6679c9"
      },
      "execution_count": 76,
      "outputs": [
        {
          "output_type": "error",
          "ename": "RuntimeError",
          "evalue": "ignored",
          "traceback": [
            "\u001b[0;31m---------------------------------------------------------------------------\u001b[0m",
            "\u001b[0;31mRuntimeError\u001b[0m                              Traceback (most recent call last)",
            "\u001b[0;32m<ipython-input-76-a16b9273748c>\u001b[0m in \u001b[0;36m<module>\u001b[0;34m\u001b[0m\n\u001b[0;32m----> 1\u001b[0;31m \u001b[0mW\u001b[0m \u001b[0;34m-=\u001b[0m \u001b[0mlr\u001b[0m \u001b[0;34m*\u001b[0m \u001b[0mW\u001b[0m\u001b[0;34m.\u001b[0m\u001b[0mgrad\u001b[0m\u001b[0;34m\u001b[0m\u001b[0;34m\u001b[0m\u001b[0m\n\u001b[0m\u001b[1;32m      2\u001b[0m \u001b[0mB\u001b[0m \u001b[0;34m-=\u001b[0m \u001b[0mlr\u001b[0m \u001b[0;34m*\u001b[0m \u001b[0mB\u001b[0m\u001b[0;34m.\u001b[0m\u001b[0mgrad\u001b[0m\u001b[0;34m\u001b[0m\u001b[0;34m\u001b[0m\u001b[0m\n",
            "\u001b[0;31mRuntimeError\u001b[0m: a leaf Variable that requires grad is being used in an in-place operation."
          ]
        }
      ]
    },
    {
      "cell_type": "markdown",
      "source": [
        "위의 코드로는 미분 대상인 두 변수가 외부(계산 과정)에 영향을 주므로 임의로 수정이 불가하다. \n",
        "\n",
        "이런 경우 with torch.no_grad()라는 코드를 통해 일시적으로 내부에서 계산 그래프 생성을 하지 못하게 한다."
      ],
      "metadata": {
        "id": "4GMA_B27tg26"
      }
    },
    {
      "cell_type": "code",
      "source": [
        "with torch.no_grad() :\n",
        "\n",
        "  W -= lr * W.grad\n",
        "  B -= lr * B.grad\n",
        "\n",
        "  W.grad.zero_()\n",
        "  B.grad.zero_()"
      ],
      "metadata": {
        "id": "5dRxPw08tbDa"
      },
      "execution_count": 168,
      "outputs": []
    },
    {
      "cell_type": "code",
      "source": [
        "print(W)\n",
        "print(B)\n",
        "print(W.grad)\n",
        "print(B.grad)"
      ],
      "metadata": {
        "colab": {
          "base_uri": "https://localhost:8080/"
        },
        "id": "TZc7RZvVtv50",
        "outputId": "39a1c504-a9ca-4e6b-ea8e-e3ded40f5dd4"
      },
      "execution_count": 169,
      "outputs": [
        {
          "output_type": "stream",
          "name": "stdout",
          "text": [
            "tensor(1.0190, requires_grad=True)\n",
            "tensor(0.9980, requires_grad=True)\n",
            "tensor(0.)\n",
            "tensor(0.)\n"
          ]
        }
      ]
    },
    {
      "cell_type": "markdown",
      "source": [
        "### 반복 계산"
      ],
      "metadata": {
        "id": "fiIKTlEGujIW"
      }
    },
    {
      "cell_type": "code",
      "source": [
        "W = torch.tensor(1.0, requires_grad = True, dtype = torch.float)\n",
        "B = torch.tensor(1.0, requires_grad = True, dtype = torch.float)"
      ],
      "metadata": {
        "id": "vTkA9er7uIPR"
      },
      "execution_count": 175,
      "outputs": []
    },
    {
      "cell_type": "code",
      "source": [
        "num_epochs = 500"
      ],
      "metadata": {
        "id": "tOVhMMouuqaK"
      },
      "execution_count": 176,
      "outputs": []
    },
    {
      "cell_type": "code",
      "source": [
        "lr = 0.001"
      ],
      "metadata": {
        "id": "DaHabCHKusXc"
      },
      "execution_count": 177,
      "outputs": []
    },
    {
      "cell_type": "code",
      "source": [
        "history = np.zeros((0, 2))"
      ],
      "metadata": {
        "id": "upktcfSxutDb"
      },
      "execution_count": 178,
      "outputs": []
    },
    {
      "cell_type": "code",
      "source": [
        "for epoch in range(num_epochs) :\n",
        "  Yp = pred(X)\n",
        "\n",
        "  loss = mse(Yp, y)\n",
        "\n",
        "  loss.backward()\n",
        "  with torch.no_grad() :\n",
        "\n",
        "    W -= lr * W.grad\n",
        "    B -= lr * B.grad\n",
        "\n",
        "    W.grad.zero_()\n",
        "    B.grad.zero_()\n",
        "\n",
        "  if (epoch % 10 == 0) :\n",
        "    \n",
        "    loss_value = np.array([epoch, loss.item()])\n",
        "    history = np.vstack((history, loss_value))\n",
        "    print(f'Epoch : {epoch} loss = {loss:.4f}')"
      ],
      "metadata": {
        "colab": {
          "base_uri": "https://localhost:8080/"
        },
        "id": "HBNlQJm3uvXV",
        "outputId": "ebadf01c-d743-430d-a728-895bfd1bc5e0"
      },
      "execution_count": 179,
      "outputs": [
        {
          "output_type": "stream",
          "name": "stdout",
          "text": [
            "Epoch : 0 loss = 13.3520\n",
            "Epoch : 10 loss = 10.3855\n",
            "Epoch : 20 loss = 8.5173\n",
            "Epoch : 30 loss = 7.3364\n",
            "Epoch : 40 loss = 6.5858\n",
            "Epoch : 50 loss = 6.1047\n",
            "Epoch : 60 loss = 5.7927\n",
            "Epoch : 70 loss = 5.5868\n",
            "Epoch : 80 loss = 5.4476\n",
            "Epoch : 90 loss = 5.3507\n",
            "Epoch : 100 loss = 5.2805\n",
            "Epoch : 110 loss = 5.2275\n",
            "Epoch : 120 loss = 5.1855\n",
            "Epoch : 130 loss = 5.1507\n",
            "Epoch : 140 loss = 5.1208\n",
            "Epoch : 150 loss = 5.0943\n",
            "Epoch : 160 loss = 5.0703\n",
            "Epoch : 170 loss = 5.0480\n",
            "Epoch : 180 loss = 5.0271\n",
            "Epoch : 190 loss = 5.0074\n",
            "Epoch : 200 loss = 4.9887\n",
            "Epoch : 210 loss = 4.9708\n",
            "Epoch : 220 loss = 4.9537\n",
            "Epoch : 230 loss = 4.9373\n",
            "Epoch : 240 loss = 4.9217\n",
            "Epoch : 250 loss = 4.9066\n",
            "Epoch : 260 loss = 4.8922\n",
            "Epoch : 270 loss = 4.8783\n",
            "Epoch : 280 loss = 4.8650\n",
            "Epoch : 290 loss = 4.8522\n",
            "Epoch : 300 loss = 4.8399\n",
            "Epoch : 310 loss = 4.8281\n",
            "Epoch : 320 loss = 4.8167\n",
            "Epoch : 330 loss = 4.8058\n",
            "Epoch : 340 loss = 4.7953\n",
            "Epoch : 350 loss = 4.7853\n",
            "Epoch : 360 loss = 4.7756\n",
            "Epoch : 370 loss = 4.7663\n",
            "Epoch : 380 loss = 4.7574\n",
            "Epoch : 390 loss = 4.7488\n",
            "Epoch : 400 loss = 4.7406\n",
            "Epoch : 410 loss = 4.7327\n",
            "Epoch : 420 loss = 4.7251\n",
            "Epoch : 430 loss = 4.7178\n",
            "Epoch : 440 loss = 4.7108\n",
            "Epoch : 450 loss = 4.7040\n",
            "Epoch : 460 loss = 4.6976\n",
            "Epoch : 470 loss = 4.6913\n",
            "Epoch : 480 loss = 4.6854\n",
            "Epoch : 490 loss = 4.6796\n"
          ]
        }
      ]
    },
    {
      "cell_type": "code",
      "source": [
        "### 최종 파라미터\n",
        "print(f'W = {W.data}')\n",
        "print(f'B = {B.data}')"
      ],
      "metadata": {
        "colab": {
          "base_uri": "https://localhost:8080/"
        },
        "id": "nCiUFd4Z9YR9",
        "outputId": "9358ce38-a1d9-4e0b-936b-1b875751845f"
      },
      "execution_count": 180,
      "outputs": [
        {
          "output_type": "stream",
          "name": "stdout",
          "text": [
            "W = 1.8206830024719238\n",
            "B = 0.3675113916397095\n"
          ]
        }
      ]
    },
    {
      "cell_type": "code",
      "source": [
        "### 손실 변화\n",
        "print(f'초기 상태 손실 = {history[0, 1]:.4f}')\n",
        "print(f'최종 상태 손실 = {history[-1, 1]:.4f}')"
      ],
      "metadata": {
        "colab": {
          "base_uri": "https://localhost:8080/"
        },
        "id": "xw1O4qfY93wl",
        "outputId": "336b889f-471c-4fe4-b55d-4c327b311fe0"
      },
      "execution_count": 181,
      "outputs": [
        {
          "output_type": "stream",
          "name": "stdout",
          "text": [
            "초기 상태 손실 = 13.3520\n",
            "최종 상태 손실 = 4.6796\n"
          ]
        }
      ]
    },
    {
      "cell_type": "code",
      "source": [
        "plt.plot(history[:, 0], history[:, 1], color = 'r')\n",
        "plt.xlabel('Epoch')\n",
        "plt.ylabel('loss(mse)')\n",
        "plt.title('Training History')\n",
        "plt.show()"
      ],
      "metadata": {
        "colab": {
          "base_uri": "https://localhost:8080/",
          "height": 295
        },
        "id": "8ZvzNmjIAOFq",
        "outputId": "4c48484c-f71a-45be-99ad-324d922ccddd"
      },
      "execution_count": 184,
      "outputs": [
        {
          "output_type": "display_data",
          "data": {
            "text/plain": [
              "<Figure size 432x288 with 1 Axes>"
            ],
            "image/png": "[encoded data removed]"
          },
          "metadata": {
            "needs_background": "light"
          }
        }
      ]
    },
    {
      "cell_type": "markdown",
      "source": [
        "### 최적화 함수 & Step 함수"
      ],
      "metadata": {
        "id": "HYnBUkgwBtcg"
      }
    },
    {
      "cell_type": "code",
      "source": [
        "W = torch.tensor(1.0, requires_grad = True, dtype = torch.float)\n",
        "B = torch.tensor(1.0, requires_grad = True, dtype = torch.float)"
      ],
      "metadata": {
        "id": "Z9QZiRU4AUg2"
      },
      "execution_count": 212,
      "outputs": []
    },
    {
      "cell_type": "code",
      "source": [
        "num_epochs = 500"
      ],
      "metadata": {
        "id": "WaBOWj4KB1jH"
      },
      "execution_count": 213,
      "outputs": []
    },
    {
      "cell_type": "code",
      "source": [
        "lr = 0.001"
      ],
      "metadata": {
        "id": "7UsM1xm0B2-M"
      },
      "execution_count": 214,
      "outputs": []
    },
    {
      "cell_type": "code",
      "source": [
        "import torch.optim as optim\n",
        "opt = optim.SGD([W, B], lr = lr)"
      ],
      "metadata": {
        "id": "s-V3jcQ6B37P"
      },
      "execution_count": 215,
      "outputs": []
    },
    {
      "cell_type": "code",
      "source": [
        "history = np.zeros((0, 2))"
      ],
      "metadata": {
        "id": "QWaF40H_B9HO"
      },
      "execution_count": 216,
      "outputs": []
    },
    {
      "cell_type": "markdown",
      "source": [
        "with torch.no_grad()로 파라미터를 수정했던 부분을 최적화 함수를 이용해 변환"
      ],
      "metadata": {
        "id": "8NsYkY3HCSsq"
      }
    },
    {
      "cell_type": "code",
      "source": [
        "for epoch in range(num_epochs) :\n",
        "  Yp = pred(X)\n",
        "\n",
        "  loss = mse(Yp, y)\n",
        "\n",
        "  loss.backward()\n",
        "\n",
        "  opt.step() # 파라미터 수정\n",
        "\n",
        "  opt.zero_grad() # 미분값 초기화\n",
        "\n",
        "  '''\n",
        "  with torch.no_grad() :\n",
        "\n",
        "    W -= lr * W.grad\n",
        "    B -= lr * B.grad\n",
        "\n",
        "    W.grad.zero_()\n",
        "    B.grad.zero_()\n",
        "  '''\n",
        "\n",
        "  if (epoch % 10 == 0) :\n",
        "    \n",
        "    loss_value = np.array([epoch, loss.item()])\n",
        "    history = np.vstack((history, loss_value))\n",
        "    print(f'Epoch : {epoch} loss = {loss:.4f}')"
      ],
      "metadata": {
        "colab": {
          "base_uri": "https://localhost:8080/"
        },
        "id": "Xw9F9Kb2B_4n",
        "outputId": "f10c97ce-6878-4647-c08f-67850665aa59"
      },
      "execution_count": 217,
      "outputs": [
        {
          "output_type": "stream",
          "name": "stdout",
          "text": [
            "Epoch : 0 loss = 13.3520\n",
            "Epoch : 10 loss = 10.3855\n",
            "Epoch : 20 loss = 8.5173\n",
            "Epoch : 30 loss = 7.3364\n",
            "Epoch : 40 loss = 6.5858\n",
            "Epoch : 50 loss = 6.1047\n",
            "Epoch : 60 loss = 5.7927\n",
            "Epoch : 70 loss = 5.5868\n",
            "Epoch : 80 loss = 5.4476\n",
            "Epoch : 90 loss = 5.3507\n",
            "Epoch : 100 loss = 5.2805\n",
            "Epoch : 110 loss = 5.2275\n",
            "Epoch : 120 loss = 5.1855\n",
            "Epoch : 130 loss = 5.1507\n",
            "Epoch : 140 loss = 5.1208\n",
            "Epoch : 150 loss = 5.0943\n",
            "Epoch : 160 loss = 5.0703\n",
            "Epoch : 170 loss = 5.0480\n",
            "Epoch : 180 loss = 5.0271\n",
            "Epoch : 190 loss = 5.0074\n",
            "Epoch : 200 loss = 4.9887\n",
            "Epoch : 210 loss = 4.9708\n",
            "Epoch : 220 loss = 4.9537\n",
            "Epoch : 230 loss = 4.9373\n",
            "Epoch : 240 loss = 4.9217\n",
            "Epoch : 250 loss = 4.9066\n",
            "Epoch : 260 loss = 4.8922\n",
            "Epoch : 270 loss = 4.8783\n",
            "Epoch : 280 loss = 4.8650\n",
            "Epoch : 290 loss = 4.8522\n",
            "Epoch : 300 loss = 4.8399\n",
            "Epoch : 310 loss = 4.8281\n",
            "Epoch : 320 loss = 4.8167\n",
            "Epoch : 330 loss = 4.8058\n",
            "Epoch : 340 loss = 4.7953\n",
            "Epoch : 350 loss = 4.7853\n",
            "Epoch : 360 loss = 4.7756\n",
            "Epoch : 370 loss = 4.7663\n",
            "Epoch : 380 loss = 4.7574\n",
            "Epoch : 390 loss = 4.7488\n",
            "Epoch : 400 loss = 4.7406\n",
            "Epoch : 410 loss = 4.7327\n",
            "Epoch : 420 loss = 4.7251\n",
            "Epoch : 430 loss = 4.7178\n",
            "Epoch : 440 loss = 4.7108\n",
            "Epoch : 450 loss = 4.7040\n",
            "Epoch : 460 loss = 4.6976\n",
            "Epoch : 470 loss = 4.6913\n",
            "Epoch : 480 loss = 4.6854\n",
            "Epoch : 490 loss = 4.6796\n"
          ]
        }
      ]
    },
    {
      "cell_type": "code",
      "source": [
        "### 최종 파라미터\n",
        "print(f'W = {W.data}')\n",
        "print(f'B = {B.data}')"
      ],
      "metadata": {
        "colab": {
          "base_uri": "https://localhost:8080/"
        },
        "id": "9zfA9h_JCMXp",
        "outputId": "7edffd91-a738-4486-8646-6a90d0b770d4"
      },
      "execution_count": 193,
      "outputs": [
        {
          "output_type": "stream",
          "name": "stdout",
          "text": [
            "W = 1.820683479309082\n",
            "B = 0.36456814408302307\n"
          ]
        }
      ]
    },
    {
      "cell_type": "code",
      "source": [
        "### 손실 변화\n",
        "print(f'초기 상태 손실 = {history[0, 1]:.4f}')\n",
        "print(f'최종 상태 손실 = {history[-1, 1]:.4f}')"
      ],
      "metadata": {
        "colab": {
          "base_uri": "https://localhost:8080/"
        },
        "id": "2yn92KwFCahV",
        "outputId": "f8f2935a-1e76-4528-e852-6c08d18e5209"
      },
      "execution_count": 194,
      "outputs": [
        {
          "output_type": "stream",
          "name": "stdout",
          "text": [
            "초기 상태 손실 = 12.6358\n",
            "최종 상태 손실 = 4.6774\n"
          ]
        }
      ]
    },
    {
      "cell_type": "code",
      "source": [
        "'''\n",
        "with torch.no_grad() :\n",
        "  W -= lr * W.grad\n",
        "  B -= lr * B.grad\n",
        "'''\n",
        "\n",
        "'''\n",
        "opt.step()\n",
        "'''"
      ],
      "metadata": {
        "colab": {
          "base_uri": "https://localhost:8080/",
          "height": 37
        },
        "id": "TSg_AmlzCjp2",
        "outputId": "10f7249f-d55d-4b9a-c93e-e864800ee788"
      },
      "execution_count": 195,
      "outputs": [
        {
          "output_type": "execute_result",
          "data": {
            "text/plain": [
              "'\\nopt.step()\\n'"
            ],
            "application/vnd.google.colaboratory.intrinsic+json": {
              "type": "string"
            }
          },
          "metadata": {},
          "execution_count": 195
        }
      ]
    },
    {
      "cell_type": "code",
      "source": [
        "W = torch.tensor(1.0, requires_grad = True, dtype = torch.float)\n",
        "B = torch.tensor(1.0, requires_grad = True, dtype = torch.float)"
      ],
      "metadata": {
        "id": "XcNe8Fm7EYbB"
      },
      "execution_count": 207,
      "outputs": []
    },
    {
      "cell_type": "code",
      "source": [
        "opt = optim.SGD([W, B], lr = lr, momentum = 0.9)"
      ],
      "metadata": {
        "id": "n-8I6Fo7CrB3"
      },
      "execution_count": 208,
      "outputs": []
    },
    {
      "cell_type": "code",
      "source": [
        "history2 = np.zeros((0, 2))"
      ],
      "metadata": {
        "id": "3OcXN9V4ET-d"
      },
      "execution_count": 209,
      "outputs": []
    },
    {
      "cell_type": "code",
      "source": [
        "for epoch in range(num_epochs) :\n",
        "  Yp = pred(X)\n",
        "\n",
        "  loss = mse(Yp, y)\n",
        "\n",
        "  loss.backward()\n",
        "\n",
        "  opt.step() # 파라미터 수정\n",
        "\n",
        "  opt.zero_grad() # 미분값 초기화\n",
        "\n",
        "  '''\n",
        "  with torch.no_grad() :\n",
        "\n",
        "    W -= lr * W.grad\n",
        "    B -= lr * B.grad\n",
        "\n",
        "    W.grad.zero_()\n",
        "    B.grad.zero_()\n",
        "  '''\n",
        "\n",
        "  if (epoch % 10 == 0) :\n",
        "    \n",
        "    loss_value = np.array([epoch, loss.item()])\n",
        "    history2 = np.vstack((history2, loss_value))\n",
        "    print(f'Epoch : {epoch} loss = {loss:.4f}')"
      ],
      "metadata": {
        "colab": {
          "base_uri": "https://localhost:8080/"
        },
        "id": "A0mxmnWyEWJU",
        "outputId": "9ba83ab5-3313-4c4c-cdf7-15a34138ddd3"
      },
      "execution_count": 210,
      "outputs": [
        {
          "output_type": "stream",
          "name": "stdout",
          "text": [
            "Epoch : 0 loss = 13.3520\n",
            "Epoch : 10 loss = 5.7585\n",
            "Epoch : 20 loss = 5.9541\n",
            "Epoch : 30 loss = 5.0276\n",
            "Epoch : 40 loss = 4.8578\n",
            "Epoch : 50 loss = 4.7052\n",
            "Epoch : 60 loss = 4.6327\n",
            "Epoch : 70 loss = 4.5940\n",
            "Epoch : 80 loss = 4.5698\n",
            "Epoch : 90 loss = 4.5574\n",
            "Epoch : 100 loss = 4.5495\n",
            "Epoch : 110 loss = 4.5452\n",
            "Epoch : 120 loss = 4.5426\n",
            "Epoch : 130 loss = 4.5411\n",
            "Epoch : 140 loss = 4.5403\n",
            "Epoch : 150 loss = 4.5398\n",
            "Epoch : 160 loss = 4.5395\n",
            "Epoch : 170 loss = 4.5393\n",
            "Epoch : 180 loss = 4.5392\n",
            "Epoch : 190 loss = 4.5391\n",
            "Epoch : 200 loss = 4.5391\n",
            "Epoch : 210 loss = 4.5391\n",
            "Epoch : 220 loss = 4.5391\n",
            "Epoch : 230 loss = 4.5390\n",
            "Epoch : 240 loss = 4.5390\n",
            "Epoch : 250 loss = 4.5390\n",
            "Epoch : 260 loss = 4.5390\n",
            "Epoch : 270 loss = 4.5390\n",
            "Epoch : 280 loss = 4.5390\n",
            "Epoch : 290 loss = 4.5390\n",
            "Epoch : 300 loss = 4.5390\n",
            "Epoch : 310 loss = 4.5390\n",
            "Epoch : 320 loss = 4.5390\n",
            "Epoch : 330 loss = 4.5390\n",
            "Epoch : 340 loss = 4.5390\n",
            "Epoch : 350 loss = 4.5390\n",
            "Epoch : 360 loss = 4.5390\n",
            "Epoch : 370 loss = 4.5390\n",
            "Epoch : 380 loss = 4.5390\n",
            "Epoch : 390 loss = 4.5390\n",
            "Epoch : 400 loss = 4.5390\n",
            "Epoch : 410 loss = 4.5390\n",
            "Epoch : 420 loss = 4.5390\n",
            "Epoch : 430 loss = 4.5390\n",
            "Epoch : 440 loss = 4.5390\n",
            "Epoch : 450 loss = 4.5390\n",
            "Epoch : 460 loss = 4.5390\n",
            "Epoch : 470 loss = 4.5390\n",
            "Epoch : 480 loss = 4.5390\n",
            "Epoch : 490 loss = 4.5390\n"
          ]
        }
      ]
    },
    {
      "cell_type": "code",
      "source": [
        "plt.plot(history[:, 0], history[:, 1], color = 'r', label = 'SGD')\n",
        "plt.plot(history2[:, 0], history2[:, 1], color = 'b', label = 'SGD\\n(momentum 0.9)')\n",
        "plt.xlabel('Epoch')\n",
        "plt.ylabel('loss(mse)')\n",
        "plt.title('Training History')\n",
        "plt.legend()\n",
        "plt.show()"
      ],
      "metadata": {
        "colab": {
          "base_uri": "https://localhost:8080/",
          "height": 295
        },
        "id": "s2GkwWVNEZf_",
        "outputId": "1993c7b3-f980-41d1-da2a-8584657ee8b1"
      },
      "execution_count": 220,
      "outputs": [
        {
          "output_type": "display_data",
          "data": {
            "text/plain": [
              "<Figure size 432x288 with 1 Axes>"
            ],
            "image/png": "[encoded data removed]"
          },
          "metadata": {
            "needs_background": "light"
          }
        }
      ]
    }
  ]
}