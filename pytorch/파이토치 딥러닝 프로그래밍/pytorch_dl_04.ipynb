{
 "cells": [
  {
   "cell_type": "markdown",
   "id": "362c16a2",
   "metadata": {},
   "source": [
    "## 예측 함수"
   ]
  },
  {
   "cell_type": "code",
   "execution_count": 23,
   "id": "e3d6594c",
   "metadata": {},
   "outputs": [],
   "source": [
    "import torch\n",
    "import torch.nn as nn"
   ]
  },
  {
   "cell_type": "code",
   "execution_count": 24,
   "id": "8ce0b9dd",
   "metadata": {},
   "outputs": [],
   "source": [
    "layer1 = nn.Linear(784, 128)\n",
    "layer2 = nn.Linear(128, 10)"
   ]
  },
  {
   "cell_type": "code",
   "execution_count": 25,
   "id": "b444d079",
   "metadata": {},
   "outputs": [],
   "source": [
    "relu = nn.ReLU(inplace = True)"
   ]
  },
  {
   "cell_type": "markdown",
   "id": "874c2e13",
   "metadata": {},
   "source": [
    "### Sample\n",
    "\n",
    "- keras의 functional 형태?"
   ]
  },
  {
   "cell_type": "code",
   "execution_count": 26,
   "id": "acca8a81",
   "metadata": {},
   "outputs": [],
   "source": [
    "inputs = torch.randn(100, 784)"
   ]
  },
  {
   "cell_type": "code",
   "execution_count": 27,
   "id": "97922e73",
   "metadata": {},
   "outputs": [
    {
     "data": {
      "text/plain": [
       "torch.Size([100, 784])"
      ]
     },
     "execution_count": 27,
     "metadata": {},
     "output_type": "execute_result"
    }
   ],
   "source": [
    "inputs.shape"
   ]
  },
  {
   "cell_type": "code",
   "execution_count": 28,
   "id": "e5d2f147",
   "metadata": {},
   "outputs": [],
   "source": [
    "m1 = layer1(inputs)\n",
    "m2 = relu(m1)\n",
    "outputs = layer2(m2)"
   ]
  },
  {
   "cell_type": "code",
   "execution_count": 29,
   "id": "b833ab87",
   "metadata": {
    "scrolled": true
   },
   "outputs": [
    {
     "name": "stdout",
     "output_type": "stream",
     "text": [
      "입력 텐서 : torch.Size([100, 784])\n",
      "출력 텐서 : torch.Size([100, 10])\n"
     ]
    }
   ],
   "source": [
    "print(f'입력 텐서 : {inputs.shape}')\n",
    "print(f'출력 텐서 : {outputs.shape}')"
   ]
  },
  {
   "cell_type": "markdown",
   "id": "b78b2cd9",
   "metadata": {},
   "source": [
    "- Sequential 사용"
   ]
  },
  {
   "cell_type": "code",
   "execution_count": 30,
   "id": "97312675",
   "metadata": {},
   "outputs": [],
   "source": [
    "model = nn.Sequential(\n",
    "layer1,\n",
    "relu,\n",
    "layer2\n",
    ")"
   ]
  },
  {
   "cell_type": "code",
   "execution_count": 31,
   "id": "b67854e8",
   "metadata": {
    "scrolled": true
   },
   "outputs": [
    {
     "data": {
      "text/plain": [
       "Sequential(\n",
       "  (0): Linear(in_features=784, out_features=128, bias=True)\n",
       "  (1): ReLU(inplace=True)\n",
       "  (2): Linear(in_features=128, out_features=10, bias=True)\n",
       ")"
      ]
     },
     "execution_count": 31,
     "metadata": {},
     "output_type": "execute_result"
    }
   ],
   "source": [
    "model # = model.eval()"
   ]
  },
  {
   "cell_type": "code",
   "execution_count": 32,
   "id": "84c6e202",
   "metadata": {
    "scrolled": true
   },
   "outputs": [
    {
     "name": "stdout",
     "output_type": "stream",
     "text": [
      "입력 텐서 : torch.Size([100, 784])\n",
      "출력 텐서 : torch.Size([100, 10])\n"
     ]
    }
   ],
   "source": [
    "print(f'입력 텐서 : {inputs.shape}')\n",
    "print(f'출력 텐서 : {outputs.shape}')"
   ]
  },
  {
   "cell_type": "markdown",
   "id": "8b63eb71",
   "metadata": {},
   "source": [
    "***\n",
    "## pytorch 머신러닝 프로그램 전체상\n",
    "\n"
   ]
  },
  {
   "cell_type": "code",
   "execution_count": null,
   "id": "e8b3dde6",
   "metadata": {},
   "outputs": [],
   "source": []
  },
  {
   "cell_type": "markdown",
   "id": "c69d6572",
   "metadata": {},
   "source": [
    "### 활성화 함수"
   ]
  },
  {
   "cell_type": "code",
   "execution_count": 35,
   "id": "8c5ad42d",
   "metadata": {},
   "outputs": [],
   "source": [
    "import numpy as np"
   ]
  },
  {
   "cell_type": "code",
   "execution_count": 36,
   "id": "17b421f5",
   "metadata": {},
   "outputs": [],
   "source": [
    "X = np.random.randn(100, 1)"
   ]
  },
  {
   "cell_type": "code",
   "execution_count": 38,
   "id": "c6a83226",
   "metadata": {},
   "outputs": [],
   "source": [
    "y = X ** 2 + np.random.randn(100, 1) * 0.1"
   ]
  },
  {
   "cell_type": "code",
   "execution_count": 40,
   "id": "cae3ae74",
   "metadata": {},
   "outputs": [],
   "source": [
    "X_train = X[:50, :]\n",
    "X_test = X[50:, :]"
   ]
  },
  {
   "cell_type": "code",
   "execution_count": 41,
   "id": "20888a57",
   "metadata": {},
   "outputs": [],
   "source": [
    "y_train = y[:50, :]\n",
    "y_test = y[50:, :]"
   ]
  },
  {
   "cell_type": "code",
   "execution_count": 42,
   "id": "effecd86",
   "metadata": {},
   "outputs": [],
   "source": [
    "import matplotlib.pyplot as plt\n",
    "%matplotlib inline"
   ]
  },
  {
   "cell_type": "code",
   "execution_count": 46,
   "id": "988dacff",
   "metadata": {
    "scrolled": false
   },
   "outputs": [
    {
     "data": {
      "image/png": "[encoded data removed]",
      "text/plain": [
       "<Figure size 864x648 with 1 Axes>"
      ]
     },
     "metadata": {
      "needs_background": "light"
     },
     "output_type": "display_data"
    }
   ],
   "source": [
    "plt.figure(figsize = (12, 9))\n",
    "plt.scatter(X_train, y_train, c = 'b', label = 'Train')\n",
    "plt.scatter(X_test, y_test, c = 'r', marker = 'x', label = 'Test')\n",
    "plt.legend()\n",
    "plt.show()"
   ]
  },
  {
   "cell_type": "code",
   "execution_count": 52,
   "id": "14814cfc",
   "metadata": {},
   "outputs": [],
   "source": [
    "X_train = torch.Tensor(X_train).float()\n",
    "X_test = torch.Tensor(X_test).float()\n",
    "\n",
    "y_train = torch.Tensor(y_train).float()\n",
    "y_test = torch.Tensor(y_test).float()"
   ]
  },
  {
   "cell_type": "markdown",
   "id": "dc73326b",
   "metadata": {},
   "source": [
    "#### 선형 회귀 모델"
   ]
  },
  {
   "cell_type": "code",
   "execution_count": 53,
   "id": "8814c58d",
   "metadata": {},
   "outputs": [],
   "source": [
    "model1 = nn.Sequential(\n",
    "nn.Linear(1, 1)\n",
    ")"
   ]
  },
  {
   "cell_type": "code",
   "execution_count": 56,
   "id": "6e3f73f5",
   "metadata": {},
   "outputs": [],
   "source": [
    "pred1 = model1(X_test)"
   ]
  },
  {
   "cell_type": "code",
   "execution_count": 65,
   "id": "b1b419b4",
   "metadata": {
    "scrolled": true
   },
   "outputs": [
    {
     "data": {
      "image/png": "[encoded data removed]",
      "text/plain": [
       "<Figure size 720x504 with 1 Axes>"
      ]
     },
     "metadata": {
      "needs_background": "light"
     },
     "output_type": "display_data"
    }
   ],
   "source": [
    "plt.figure(figsize = (10, 7))\n",
    "plt.scatter(X_test, y_test, c = 'b', label = 'Actual')\n",
    "plt.scatter(X_test, pred1.tolist(), c = 'r', marker = 'x', label = 'Prediction')\n",
    "plt.legend()\n",
    "plt.show()"
   ]
  },
  {
   "cell_type": "markdown",
   "id": "e02d40b7",
   "metadata": {},
   "source": [
    "#### 활성화 함수 사용하지 않은 모델"
   ]
  },
  {
   "cell_type": "code",
   "execution_count": 70,
   "id": "0756d7c8",
   "metadata": {},
   "outputs": [],
   "source": [
    "model2 = nn.Sequential(\n",
    "nn.Linear(1, 2),\n",
    "nn.Linear(2, 1)\n",
    ")"
   ]
  },
  {
   "cell_type": "code",
   "execution_count": 71,
   "id": "2872ec9b",
   "metadata": {},
   "outputs": [],
   "source": [
    "pred2 = model2(X_test)"
   ]
  },
  {
   "cell_type": "code",
   "execution_count": 72,
   "id": "c44e6cbe",
   "metadata": {
    "scrolled": false
   },
   "outputs": [
    {
     "data": {
      "image/png": "[encoded data removed]",
      "text/plain": [
       "<Figure size 720x504 with 1 Axes>"
      ]
     },
     "metadata": {
      "needs_background": "light"
     },
     "output_type": "display_data"
    }
   ],
   "source": [
    "plt.figure(figsize = (10, 7))\n",
    "plt.scatter(X_test, y_test, c = 'b', label = 'Actual')\n",
    "plt.scatter(X_test, pred2.tolist(), c = 'r', marker = 'x', label = 'Prediction')\n",
    "plt.legend()\n",
    "plt.show()"
   ]
  }
 ],
 "metadata": {
  "kernelspec": {
   "display_name": "Python 3",
   "language": "python",
   "name": "python3"
  },
  "language_info": {
   "codemirror_mode": {
    "name": "ipython",
    "version": 3
   },
   "file_extension": ".py",
   "mimetype": "text/x-python",
   "name": "python",
   "nbconvert_exporter": "python",
   "pygments_lexer": "ipython3",
   "version": "3.8.8"
  }
 },
 "nbformat": 4,
 "nbformat_minor": 5
}
