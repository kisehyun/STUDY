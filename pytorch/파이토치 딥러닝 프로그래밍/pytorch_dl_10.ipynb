{
  "nbformat": 4,
  "nbformat_minor": 0,
  "metadata": {
    "colab": {
      "provenance": []
    },
    "kernelspec": {
      "name": "python3",
      "display_name": "Python 3"
    },
    "language_info": {
      "name": "python"
    },
    "accelerator": "GPU",
    "gpuClass": "standard"
  },
  "cells": [
    {
      "cell_type": "code",
      "execution_count": 1,
      "metadata": {
        "id": "0IgWeIzxqSJT"
      },
      "outputs": [],
      "source": [
        "import torch\n",
        "import torch.nn as nn"
      ]
    },
    {
      "cell_type": "code",
      "source": [
        "conv1 = nn.Conv2d(3, 32, 3)"
      ],
      "metadata": {
        "id": "QDlFGoyauIpv"
      },
      "execution_count": null,
      "outputs": []
    },
    {
      "cell_type": "markdown",
      "source": [
        "pytorch에서 합성곱 함수는 nn.Conv2d라는 레어이로 구현한다. 첫번째 인자는 **입력 채널 수**, 두번째 인자는 **출력 채널 수**, 세번째 인수는 **커널 사이즈**를 의미한다."
      ],
      "metadata": {
        "id": "XyDvIXugtV3N"
      }
    },
    {
      "cell_type": "code",
      "source": [
        "maxpool = nn.MaxPool2d((2, 2))"
      ],
      "metadata": {
        "id": "jdJ--tX8tc3A"
      },
      "execution_count": null,
      "outputs": []
    },
    {
      "cell_type": "markdown",
      "source": [
        "풀링 함수는 nn.MaxPool2d라는 레이어를 사용하는데 (2, 2)는 풀링 사각형의 **가로와 세로의 화소 수**를 의미한다."
      ],
      "metadata": {
        "id": "cYJSYZEutl87"
      }
    },
    {
      "cell_type": "code",
      "source": [
        "inputs = torch.randn(100, 3, 32, 32)\n",
        "print(inputs.shape)"
      ],
      "metadata": {
        "colab": {
          "base_uri": "https://localhost:8080/"
        },
        "id": "mWPJS-E_tuhy",
        "outputId": "5c534673-b901-40f1-8919-e7f4f7004974"
      },
      "execution_count": 4,
      "outputs": [
        {
          "output_type": "stream",
          "name": "stdout",
          "text": [
            "torch.Size([100, 3, 32, 32])\n"
          ]
        }
      ]
    },
    {
      "cell_type": "code",
      "source": [
        "x1 = nn.Conv2d(3, 32, 3)(inputs)\n",
        "x2 = nn.ReLU()(x1)\n",
        "x3 = nn.Conv2d(32, 32, 3)(x2)\n",
        "x4 = nn.ReLU()(x3)\n",
        "x5 = nn.MaxPool2d((2, 2))(x4)"
      ],
      "metadata": {
        "id": "cU6jxXQKuXUr"
      },
      "execution_count": 11,
      "outputs": []
    },
    {
      "cell_type": "code",
      "source": [
        "print(inputs.shape)\n",
        "print(x1.shape)\n",
        "print(x2.shape)\n",
        "print(x3.shape)\n",
        "print(x4.shape)\n",
        "print(x5.shape)"
      ],
      "metadata": {
        "colab": {
          "base_uri": "https://localhost:8080/"
        },
        "id": "VPyaguxiuekY",
        "outputId": "8850c6d7-6157-4ac0-e281-247afc603f8f"
      },
      "execution_count": 12,
      "outputs": [
        {
          "output_type": "stream",
          "name": "stdout",
          "text": [
            "torch.Size([100, 3, 32, 32])\n",
            "torch.Size([100, 32, 30, 30])\n",
            "torch.Size([100, 32, 30, 30])\n",
            "torch.Size([100, 32, 28, 28])\n",
            "torch.Size([100, 32, 28, 28])\n",
            "torch.Size([100, 32, 14, 14])\n"
          ]
        }
      ]
    },
    {
      "cell_type": "markdown",
      "source": [
        "출력 결과는 데이터 건수, 채널 수, 가로 화소 수, 세로 화소 수를 의미한다.\n",
        "\n",
        "nn.Sequential은 pytorch에서 컨테이너라고 불리는 클래스 중 하나다. 함수를 직관적으로 직렬 구조로 만들 수 있다."
      ],
      "metadata": {
        "id": "qnvVzApEu6-x"
      }
    },
    {
      "cell_type": "code",
      "source": [
        "model = nn.Sequential(\n",
        "    nn.Conv2d(3, 32, 3),\n",
        "    nn.ReLU(),\n",
        "    nn.Conv2d(32, 32, 3),\n",
        "    nn.ReLU(),\n",
        "    nn.MaxPool2d((2, 2))\n",
        ")"
      ],
      "metadata": {
        "id": "z8BrmgQNu0cg"
      },
      "execution_count": 14,
      "outputs": []
    },
    {
      "cell_type": "code",
      "source": [
        "outputs = model(inputs)"
      ],
      "metadata": {
        "id": "e7QcRoJhwAKm"
      },
      "execution_count": 15,
      "outputs": []
    },
    {
      "cell_type": "code",
      "source": [
        "outputs.shape"
      ],
      "metadata": {
        "colab": {
          "base_uri": "https://localhost:8080/"
        },
        "id": "Bw9U2XrdwE94",
        "outputId": "43efedae-7e7c-428d-e516-43ed4a8c55b6"
      },
      "execution_count": 16,
      "outputs": [
        {
          "output_type": "execute_result",
          "data": {
            "text/plain": [
              "torch.Size([100, 32, 14, 14])"
            ]
          },
          "metadata": {},
          "execution_count": 16
        }
      ]
    },
    {
      "cell_type": "markdown",
      "source": [
        "nn.Flatten은 3계 이상의 텐서의 데이터를 nn.Linear와 같은 선형 함수에서 사용할 수 있도록 1계 텐서로 변환한다."
      ],
      "metadata": {
        "id": "NS8HkB1NwZdq"
      }
    },
    {
      "cell_type": "code",
      "source": [
        "flatten = nn.Flatten()"
      ],
      "metadata": {
        "id": "G91wMo6BwL-_"
      },
      "execution_count": 18,
      "outputs": []
    },
    {
      "cell_type": "code",
      "source": [
        "output2 = flatten(outputs)"
      ],
      "metadata": {
        "id": "rSDoDWx2xDnB"
      },
      "execution_count": 19,
      "outputs": []
    },
    {
      "cell_type": "code",
      "source": [
        "output2.shape # 32 * 14 * 14 = 6272"
      ],
      "metadata": {
        "colab": {
          "base_uri": "https://localhost:8080/"
        },
        "id": "0zpVnvrCxHBK",
        "outputId": "6ac94ef0-6da5-4ce0-b3cb-d104817d40c8"
      },
      "execution_count": 22,
      "outputs": [
        {
          "output_type": "execute_result",
          "data": {
            "text/plain": [
              "torch.Size([100, 6272])"
            ]
          },
          "metadata": {},
          "execution_count": 22
        }
      ]
    }
  ]
}