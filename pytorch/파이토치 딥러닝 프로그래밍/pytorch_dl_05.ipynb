{
 "cells": [
  {
   "cell_type": "markdown",
   "id": "da16ccfc",
   "metadata": {},
   "source": [
    "## ML 실전\n"
   ]
  },
  {
   "cell_type": "code",
   "execution_count": 58,
   "id": "e4e61da7",
   "metadata": {},
   "outputs": [],
   "source": [
    "import torch\n",
    "import torch.nn as nn\n",
    "\n",
    "import warnings\n",
    "warnings.filterwarnings('ignore')"
   ]
  },
  {
   "cell_type": "code",
   "execution_count": 9,
   "id": "e8d7560b",
   "metadata": {},
   "outputs": [],
   "source": [
    "### 1차 함수(선형)\n",
    "\n",
    "layer = nn.Linear(2, 3) # 입력 2, 출력 3"
   ]
  },
  {
   "cell_type": "code",
   "execution_count": 10,
   "id": "6f96d80e",
   "metadata": {
    "scrolled": false
   },
   "outputs": [
    {
     "data": {
      "text/plain": [
       "Linear(in_features=2, out_features=3, bias=True)"
      ]
     },
     "execution_count": 10,
     "metadata": {},
     "output_type": "execute_result"
    }
   ],
   "source": [
    "layer"
   ]
  },
  {
   "cell_type": "markdown",
   "id": "cb665e26",
   "metadata": {},
   "source": [
    "named_parameters라는 함수를 통해 레이어의 파라미터를 확인할 수 있다."
   ]
  },
  {
   "cell_type": "code",
   "execution_count": 11,
   "id": "ad9b3511",
   "metadata": {},
   "outputs": [
    {
     "name": "stdout",
     "output_type": "stream",
     "text": [
      "name : weight\n",
      "tensor : Parameter containing:\n",
      "tensor([[-0.1910, -0.6510],\n",
      "        [ 0.6682,  0.1615],\n",
      "        [-0.5586,  0.3934]], requires_grad=True)\n",
      "shape : torch.Size([3, 2])\n",
      "name : bias\n",
      "tensor : Parameter containing:\n",
      "tensor([-0.1285, -0.6623, -0.3237], requires_grad=True)\n",
      "shape : torch.Size([3])\n"
     ]
    }
   ],
   "source": [
    "for param in layer.named_parameters() :\n",
    "    \n",
    "    print(f\"name : {param[0]}\")\n",
    "    print(f\"tensor : {param[1]}\")\n",
    "    print(f\"shape : {param[1].shape}\")"
   ]
  },
  {
   "cell_type": "markdown",
   "id": "0e5c166f",
   "metadata": {},
   "source": [
    "레이어 함수 안의 파라미터들은 학습의 대상이다.\n",
    "\n",
    "명시적으로 파라미터 값을 임의로 설정하고 싶은 경우 nn.init.constant_를 호출한다."
   ]
  },
  {
   "cell_type": "code",
   "execution_count": 14,
   "id": "b94ea1db",
   "metadata": {
    "scrolled": true
   },
   "outputs": [
    {
     "data": {
      "text/plain": [
       "Parameter containing:\n",
       "tensor([[2., 2.],\n",
       "        [2., 2.],\n",
       "        [2., 2.]], requires_grad=True)"
      ]
     },
     "execution_count": 14,
     "metadata": {},
     "output_type": "execute_result"
    }
   ],
   "source": [
    "nn.init.constant_(layer.weight, 2)"
   ]
  },
  {
   "cell_type": "code",
   "execution_count": 15,
   "id": "f8cfdb39",
   "metadata": {},
   "outputs": [
    {
     "data": {
      "text/plain": [
       "Parameter containing:\n",
       "tensor([7., 7., 7.], requires_grad=True)"
      ]
     },
     "execution_count": 15,
     "metadata": {},
     "output_type": "execute_result"
    }
   ],
   "source": [
    "nn.init.constant_(layer.bias, 7)"
   ]
  },
  {
   "cell_type": "markdown",
   "id": "ce6b969d",
   "metadata": {},
   "source": [
    "***\n",
    "\n",
    "### Input 1 Ouput 1"
   ]
  },
  {
   "cell_type": "code",
   "execution_count": 16,
   "id": "5e824ef7",
   "metadata": {},
   "outputs": [],
   "source": [
    "import numpy as np"
   ]
  },
  {
   "cell_type": "code",
   "execution_count": 18,
   "id": "0967102e",
   "metadata": {},
   "outputs": [],
   "source": [
    "X = np.arange(-2, 2, 1)"
   ]
  },
  {
   "cell_type": "code",
   "execution_count": 20,
   "id": "7bed0d9a",
   "metadata": {},
   "outputs": [],
   "source": [
    "X = torch.Tensor(X).float()"
   ]
  },
  {
   "cell_type": "code",
   "execution_count": 23,
   "id": "33a58ea6",
   "metadata": {},
   "outputs": [],
   "source": [
    "X = X.view(-1, 1)"
   ]
  },
  {
   "cell_type": "code",
   "execution_count": 24,
   "id": "6ced32ad",
   "metadata": {},
   "outputs": [
    {
     "data": {
      "text/plain": [
       "tensor([[-2.],\n",
       "        [-1.],\n",
       "        [ 0.],\n",
       "        [ 1.]])"
      ]
     },
     "execution_count": 24,
     "metadata": {},
     "output_type": "execute_result"
    }
   ],
   "source": [
    "X"
   ]
  },
  {
   "cell_type": "code",
   "execution_count": 25,
   "id": "1585544a",
   "metadata": {},
   "outputs": [],
   "source": [
    "layer = nn.Linear(1, 1)"
   ]
  },
  {
   "cell_type": "code",
   "execution_count": 28,
   "id": "1325f450",
   "metadata": {
    "scrolled": true
   },
   "outputs": [
    {
     "data": {
      "text/plain": [
       "Parameter containing:\n",
       "tensor([[2.]], requires_grad=True)"
      ]
     },
     "execution_count": 28,
     "metadata": {},
     "output_type": "execute_result"
    }
   ],
   "source": [
    "nn.init.constant_(layer.weight, 2)"
   ]
  },
  {
   "cell_type": "code",
   "execution_count": 29,
   "id": "04ef8480",
   "metadata": {},
   "outputs": [
    {
     "data": {
      "text/plain": [
       "Parameter containing:\n",
       "tensor([7.], requires_grad=True)"
      ]
     },
     "execution_count": 29,
     "metadata": {},
     "output_type": "execute_result"
    }
   ],
   "source": [
    "nn.init.constant_(layer.bias, 7)"
   ]
  },
  {
   "cell_type": "markdown",
   "id": "e081ef5f",
   "metadata": {},
   "source": [
    "위의 weight, bias를 각각 2, 7로 설정했기 때문에 Linear 식은 $$y = 2x + 7$$"
   ]
  },
  {
   "cell_type": "code",
   "execution_count": 30,
   "id": "68e399a7",
   "metadata": {},
   "outputs": [],
   "source": [
    "y = layer(X)"
   ]
  },
  {
   "cell_type": "code",
   "execution_count": 31,
   "id": "a5a42f5d",
   "metadata": {},
   "outputs": [
    {
     "data": {
      "text/plain": [
       "tensor([[3.],\n",
       "        [5.],\n",
       "        [7.],\n",
       "        [9.]], grad_fn=<AddmmBackward>)"
      ]
     },
     "execution_count": 31,
     "metadata": {},
     "output_type": "execute_result"
    }
   ],
   "source": [
    "y"
   ]
  },
  {
   "cell_type": "markdown",
   "id": "c55d585c",
   "metadata": {},
   "source": [
    "***\n",
    "### Input 2 Output 1"
   ]
  },
  {
   "cell_type": "code",
   "execution_count": 34,
   "id": "98fcd448",
   "metadata": {},
   "outputs": [],
   "source": [
    "layer = nn.Linear(2, 1)"
   ]
  },
  {
   "cell_type": "code",
   "execution_count": 35,
   "id": "100c2447",
   "metadata": {
    "scrolled": true
   },
   "outputs": [
    {
     "name": "stdout",
     "output_type": "stream",
     "text": [
      "Parameter containing:\n",
      "tensor([[1., 1.]], requires_grad=True)\n",
      "Parameter containing:\n",
      "tensor([2.], requires_grad=True)\n"
     ]
    }
   ],
   "source": [
    "print(nn.init.constant_(layer.weight, 1))\n",
    "print(nn.init.constant_(layer.bias, 2))"
   ]
  },
  {
   "cell_type": "markdown",
   "id": "15ab5902",
   "metadata": {},
   "source": [
    "$$y = x_{1} + x_{2} + 2$$"
   ]
  },
  {
   "cell_type": "code",
   "execution_count": 36,
   "id": "48ce07d0",
   "metadata": {},
   "outputs": [],
   "source": [
    "X = np.array([[0, 0],\n",
    "             [1, 1],\n",
    "             [1, 0],\n",
    "             [0, 1]\n",
    "             ])"
   ]
  },
  {
   "cell_type": "code",
   "execution_count": 38,
   "id": "38ced9a3",
   "metadata": {},
   "outputs": [],
   "source": [
    "X = torch.Tensor(X).float()"
   ]
  },
  {
   "cell_type": "code",
   "execution_count": 40,
   "id": "4bffd8ce",
   "metadata": {},
   "outputs": [],
   "source": [
    "y = layer(X)"
   ]
  },
  {
   "cell_type": "code",
   "execution_count": 41,
   "id": "dfc51373",
   "metadata": {},
   "outputs": [
    {
     "data": {
      "text/plain": [
       "tensor([[2.],\n",
       "        [4.],\n",
       "        [3.],\n",
       "        [3.]], grad_fn=<AddmmBackward>)"
      ]
     },
     "execution_count": 41,
     "metadata": {},
     "output_type": "execute_result"
    }
   ],
   "source": [
    "y"
   ]
  },
  {
   "cell_type": "markdown",
   "id": "b9eedd24",
   "metadata": {},
   "source": [
    "***\n",
    "### Input 2 Output 3"
   ]
  },
  {
   "cell_type": "code",
   "execution_count": 52,
   "id": "0a245d55",
   "metadata": {},
   "outputs": [],
   "source": [
    "layer = nn.Linear(2, 3)"
   ]
  },
  {
   "cell_type": "code",
   "execution_count": 53,
   "id": "d811882f",
   "metadata": {
    "scrolled": true
   },
   "outputs": [
    {
     "data": {
      "text/plain": [
       "Parameter containing:\n",
       "tensor([[ 0.2044,  0.0722],\n",
       "        [ 0.1444, -0.5376],\n",
       "        [ 0.3626, -0.5427]], requires_grad=True)"
      ]
     },
     "execution_count": 53,
     "metadata": {},
     "output_type": "execute_result"
    }
   ],
   "source": [
    "layer.weight"
   ]
  },
  {
   "cell_type": "code",
   "execution_count": 59,
   "id": "811ae7f4",
   "metadata": {
    "scrolled": true
   },
   "outputs": [
    {
     "data": {
      "text/plain": [
       "tensor([1., 1.], grad_fn=<AsStridedBackward>)"
      ]
     },
     "execution_count": 59,
     "metadata": {},
     "output_type": "execute_result"
    }
   ],
   "source": [
    "nn.init.constant(layer.weight[0, :], 1)"
   ]
  },
  {
   "cell_type": "code",
   "execution_count": 60,
   "id": "d7f1fa03",
   "metadata": {},
   "outputs": [
    {
     "data": {
      "text/plain": [
       "tensor([2., 2.], grad_fn=<AsStridedBackward>)"
      ]
     },
     "execution_count": 60,
     "metadata": {},
     "output_type": "execute_result"
    }
   ],
   "source": [
    "nn.init.constant(layer.weight[1, :], 2)"
   ]
  },
  {
   "cell_type": "code",
   "execution_count": 61,
   "id": "399c7095",
   "metadata": {
    "scrolled": true
   },
   "outputs": [
    {
     "data": {
      "text/plain": [
       "tensor([3., 3.], grad_fn=<AsStridedBackward>)"
      ]
     },
     "execution_count": 61,
     "metadata": {},
     "output_type": "execute_result"
    }
   ],
   "source": [
    "nn.init.constant(layer.weight[2, :], 3)"
   ]
  },
  {
   "cell_type": "code",
   "execution_count": 63,
   "id": "d1a6b24c",
   "metadata": {},
   "outputs": [
    {
     "data": {
      "text/plain": [
       "Parameter containing:\n",
       "tensor([2., 2., 2.], requires_grad=True)"
      ]
     },
     "execution_count": 63,
     "metadata": {},
     "output_type": "execute_result"
    }
   ],
   "source": [
    "nn.init.constant(layer.bias, 2)"
   ]
  },
  {
   "cell_type": "code",
   "execution_count": 62,
   "id": "443f056e",
   "metadata": {
    "scrolled": true
   },
   "outputs": [
    {
     "data": {
      "text/plain": [
       "Parameter containing:\n",
       "tensor([[1., 1.],\n",
       "        [2., 2.],\n",
       "        [3., 3.]], requires_grad=True)"
      ]
     },
     "execution_count": 62,
     "metadata": {},
     "output_type": "execute_result"
    }
   ],
   "source": [
    "layer.weight"
   ]
  },
  {
   "cell_type": "code",
   "execution_count": 64,
   "id": "79edeb79",
   "metadata": {},
   "outputs": [],
   "source": [
    "y = layer(X)"
   ]
  },
  {
   "cell_type": "code",
   "execution_count": 65,
   "id": "429a12d5",
   "metadata": {},
   "outputs": [
    {
     "data": {
      "text/plain": [
       "tensor([[2., 2., 2.],\n",
       "        [4., 6., 8.],\n",
       "        [3., 4., 5.],\n",
       "        [3., 4., 5.]], grad_fn=<AddmmBackward>)"
      ]
     },
     "execution_count": 65,
     "metadata": {},
     "output_type": "execute_result"
    }
   ],
   "source": [
    "y"
   ]
  },
  {
   "cell_type": "markdown",
   "id": "644aff5d",
   "metadata": {},
   "source": [
    "***\n",
    "\n",
    "### class 활용"
   ]
  },
  {
   "cell_type": "code",
   "execution_count": 66,
   "id": "72109dcb",
   "metadata": {},
   "outputs": [],
   "source": [
    "class Net(nn.Module) :\n",
    "    \n",
    "    def __init__(self, n_input, n_output) :\n",
    "        super().__init__()\n",
    "        self.layer1 = nn.Linear(n_input, n_output)\n",
    "        \n",
    "    def forward(self, x) :\n",
    "        return x"
   ]
  },
  {
   "cell_type": "code",
   "execution_count": 88,
   "id": "69e9b222",
   "metadata": {},
   "outputs": [],
   "source": [
    "inputs = torch.ones(100, 1)"
   ]
  },
  {
   "cell_type": "code",
   "execution_count": 89,
   "id": "02e6207a",
   "metadata": {},
   "outputs": [],
   "source": [
    "n_input = 1\n",
    "n_output = 1"
   ]
  },
  {
   "cell_type": "code",
   "execution_count": 90,
   "id": "87318df8",
   "metadata": {},
   "outputs": [],
   "source": [
    "net = Net(n_input, n_output)"
   ]
  },
  {
   "cell_type": "code",
   "execution_count": 91,
   "id": "00f0dd8a",
   "metadata": {},
   "outputs": [
    {
     "data": {
      "text/plain": [
       "Net(\n",
       "  (layer1): Linear(in_features=1, out_features=1, bias=True)\n",
       ")"
      ]
     },
     "execution_count": 91,
     "metadata": {},
     "output_type": "execute_result"
    }
   ],
   "source": [
    "net"
   ]
  },
  {
   "cell_type": "code",
   "execution_count": 92,
   "id": "f67b4c57",
   "metadata": {},
   "outputs": [],
   "source": [
    "outputs = net(inputs)"
   ]
  },
  {
   "cell_type": "markdown",
   "id": "08fa433c",
   "metadata": {},
   "source": [
    "***\n",
    "### MSELoss"
   ]
  },
  {
   "cell_type": "code",
   "execution_count": 76,
   "id": "410ee36c",
   "metadata": {},
   "outputs": [],
   "source": [
    "criterion = nn.MSELoss()"
   ]
  },
  {
   "cell_type": "code",
   "execution_count": 85,
   "id": "bc2eb3bf",
   "metadata": {},
   "outputs": [],
   "source": [
    "loss = criterion(outputs, inputs) / 2.0"
   ]
  },
  {
   "cell_type": "code",
   "execution_count": 86,
   "id": "7c1513ad",
   "metadata": {},
   "outputs": [
    {
     "data": {
      "text/plain": [
       "tensor(2.)"
      ]
     },
     "execution_count": 86,
     "metadata": {},
     "output_type": "execute_result"
    }
   ],
   "source": [
    "loss"
   ]
  },
  {
   "cell_type": "code",
   "execution_count": 93,
   "id": "6ee77fd2",
   "metadata": {},
   "outputs": [],
   "source": [
    "# loss.backward()"
   ]
  }
 ],
 "metadata": {
  "kernelspec": {
   "display_name": "Python 3",
   "language": "python",
   "name": "python3"
  },
  "language_info": {
   "codemirror_mode": {
    "name": "ipython",
    "version": 3
   },
   "file_extension": ".py",
   "mimetype": "text/x-python",
   "name": "python",
   "nbconvert_exporter": "python",
   "pygments_lexer": "ipython3",
   "version": "3.8.8"
  }
 },
 "nbformat": 4,
 "nbformat_minor": 5
}
