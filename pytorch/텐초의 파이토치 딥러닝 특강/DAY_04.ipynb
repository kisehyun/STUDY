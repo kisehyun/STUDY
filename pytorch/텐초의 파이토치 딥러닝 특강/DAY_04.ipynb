{
  "nbformat": 4,
  "nbformat_minor": 0,
  "metadata": {
    "colab": {
      "provenance": []
    },
    "kernelspec": {
      "name": "python3",
      "display_name": "Python 3"
    },
    "language_info": {
      "name": "python"
    },
    "accelerator": "GPU",
    "gpuClass": "standard",
    "widgets": {
      "application/vnd.jupyter.widget-state+json": {
        "ae0247d576ef450e9297a4d75fe48240": {
          "model_module": "@jupyter-widgets/controls",
          "model_name": "HBoxModel",
          "model_module_version": "1.5.0",
          "state": {
            "_dom_classes": [],
            "_model_module": "@jupyter-widgets/controls",
            "_model_module_version": "1.5.0",
            "_model_name": "HBoxModel",
            "_view_count": null,
            "_view_module": "@jupyter-widgets/controls",
            "_view_module_version": "1.5.0",
            "_view_name": "HBoxView",
            "box_style": "",
            "children": [
              "IPY_MODEL_78cf4c8f11d54abca1a06851936a0130",
              "IPY_MODEL_099b74e06d4b416789e3085b5a30e2fd",
              "IPY_MODEL_342fe7eaa2f84cb49bdaac74195b7098"
            ],
            "layout": "IPY_MODEL_3e3946077e5f42bbb0f747ef8076047c"
          }
        },
        "78cf4c8f11d54abca1a06851936a0130": {
          "model_module": "@jupyter-widgets/controls",
          "model_name": "HTMLModel",
          "model_module_version": "1.5.0",
          "state": {
            "_dom_classes": [],
            "_model_module": "@jupyter-widgets/controls",
            "_model_module_version": "1.5.0",
            "_model_name": "HTMLModel",
            "_view_count": null,
            "_view_module": "@jupyter-widgets/controls",
            "_view_module_version": "1.5.0",
            "_view_name": "HTMLView",
            "description": "",
            "description_tooltip": null,
            "layout": "IPY_MODEL_9fdbd3546bc441a18f1275aea6a4dc88",
            "placeholder": "​",
            "style": "IPY_MODEL_ebed180be0e345ce824ce4c566418ecf",
            "value": "100%"
          }
        },
        "099b74e06d4b416789e3085b5a30e2fd": {
          "model_module": "@jupyter-widgets/controls",
          "model_name": "FloatProgressModel",
          "model_module_version": "1.5.0",
          "state": {
            "_dom_classes": [],
            "_model_module": "@jupyter-widgets/controls",
            "_model_module_version": "1.5.0",
            "_model_name": "FloatProgressModel",
            "_view_count": null,
            "_view_module": "@jupyter-widgets/controls",
            "_view_module_version": "1.5.0",
            "_view_name": "ProgressView",
            "bar_style": "success",
            "description": "",
            "description_tooltip": null,
            "layout": "IPY_MODEL_91716bc72ca743a198fc8eec8f8f8e7d",
            "max": 170498071,
            "min": 0,
            "orientation": "horizontal",
            "style": "IPY_MODEL_6bf2ee7ba9364f2989e0badb763b5b6e",
            "value": 170498071
          }
        },
        "342fe7eaa2f84cb49bdaac74195b7098": {
          "model_module": "@jupyter-widgets/controls",
          "model_name": "HTMLModel",
          "model_module_version": "1.5.0",
          "state": {
            "_dom_classes": [],
            "_model_module": "@jupyter-widgets/controls",
            "_model_module_version": "1.5.0",
            "_model_name": "HTMLModel",
            "_view_count": null,
            "_view_module": "@jupyter-widgets/controls",
            "_view_module_version": "1.5.0",
            "_view_name": "HTMLView",
            "description": "",
            "description_tooltip": null,
            "layout": "IPY_MODEL_6996ef32ba52433a8b114bec05575420",
            "placeholder": "​",
            "style": "IPY_MODEL_798412d19d0e42c7a97afeea296f1d91",
            "value": " 170498071/170498071 [00:06&lt;00:00, 32371934.76it/s]"
          }
        },
        "3e3946077e5f42bbb0f747ef8076047c": {
          "model_module": "@jupyter-widgets/base",
          "model_name": "LayoutModel",
          "model_module_version": "1.2.0",
          "state": {
            "_model_module": "@jupyter-widgets/base",
            "_model_module_version": "1.2.0",
            "_model_name": "LayoutModel",
            "_view_count": null,
            "_view_module": "@jupyter-widgets/base",
            "_view_module_version": "1.2.0",
            "_view_name": "LayoutView",
            "align_content": null,
            "align_items": null,
            "align_self": null,
            "border": null,
            "bottom": null,
            "display": null,
            "flex": null,
            "flex_flow": null,
            "grid_area": null,
            "grid_auto_columns": null,
            "grid_auto_flow": null,
            "grid_auto_rows": null,
            "grid_column": null,
            "grid_gap": null,
            "grid_row": null,
            "grid_template_areas": null,
            "grid_template_columns": null,
            "grid_template_rows": null,
            "height": null,
            "justify_content": null,
            "justify_items": null,
            "left": null,
            "margin": null,
            "max_height": null,
            "max_width": null,
            "min_height": null,
            "min_width": null,
            "object_fit": null,
            "object_position": null,
            "order": null,
            "overflow": null,
            "overflow_x": null,
            "overflow_y": null,
            "padding": null,
            "right": null,
            "top": null,
            "visibility": null,
            "width": null
          }
        },
        "9fdbd3546bc441a18f1275aea6a4dc88": {
          "model_module": "@jupyter-widgets/base",
          "model_name": "LayoutModel",
          "model_module_version": "1.2.0",
          "state": {
            "_model_module": "@jupyter-widgets/base",
            "_model_module_version": "1.2.0",
            "_model_name": "LayoutModel",
            "_view_count": null,
            "_view_module": "@jupyter-widgets/base",
            "_view_module_version": "1.2.0",
            "_view_name": "LayoutView",
            "align_content": null,
            "align_items": null,
            "align_self": null,
            "border": null,
            "bottom": null,
            "display": null,
            "flex": null,
            "flex_flow": null,
            "grid_area": null,
            "grid_auto_columns": null,
            "grid_auto_flow": null,
            "grid_auto_rows": null,
            "grid_column": null,
            "grid_gap": null,
            "grid_row": null,
            "grid_template_areas": null,
            "grid_template_columns": null,
            "grid_template_rows": null,
            "height": null,
            "justify_content": null,
            "justify_items": null,
            "left": null,
            "margin": null,
            "max_height": null,
            "max_width": null,
            "min_height": null,
            "min_width": null,
            "object_fit": null,
            "object_position": null,
            "order": null,
            "overflow": null,
            "overflow_x": null,
            "overflow_y": null,
            "padding": null,
            "right": null,
            "top": null,
            "visibility": null,
            "width": null
          }
        },
        "ebed180be0e345ce824ce4c566418ecf": {
          "model_module": "@jupyter-widgets/controls",
          "model_name": "DescriptionStyleModel",
          "model_module_version": "1.5.0",
          "state": {
            "_model_module": "@jupyter-widgets/controls",
            "_model_module_version": "1.5.0",
            "_model_name": "DescriptionStyleModel",
            "_view_count": null,
            "_view_module": "@jupyter-widgets/base",
            "_view_module_version": "1.2.0",
            "_view_name": "StyleView",
            "description_width": ""
          }
        },
        "91716bc72ca743a198fc8eec8f8f8e7d": {
          "model_module": "@jupyter-widgets/base",
          "model_name": "LayoutModel",
          "model_module_version": "1.2.0",
          "state": {
            "_model_module": "@jupyter-widgets/base",
            "_model_module_version": "1.2.0",
            "_model_name": "LayoutModel",
            "_view_count": null,
            "_view_module": "@jupyter-widgets/base",
            "_view_module_version": "1.2.0",
            "_view_name": "LayoutView",
            "align_content": null,
            "align_items": null,
            "align_self": null,
            "border": null,
            "bottom": null,
            "display": null,
            "flex": null,
            "flex_flow": null,
            "grid_area": null,
            "grid_auto_columns": null,
            "grid_auto_flow": null,
            "grid_auto_rows": null,
            "grid_column": null,
            "grid_gap": null,
            "grid_row": null,
            "grid_template_areas": null,
            "grid_template_columns": null,
            "grid_template_rows": null,
            "height": null,
            "justify_content": null,
            "justify_items": null,
            "left": null,
            "margin": null,
            "max_height": null,
            "max_width": null,
            "min_height": null,
            "min_width": null,
            "object_fit": null,
            "object_position": null,
            "order": null,
            "overflow": null,
            "overflow_x": null,
            "overflow_y": null,
            "padding": null,
            "right": null,
            "top": null,
            "visibility": null,
            "width": null
          }
        },
        "6bf2ee7ba9364f2989e0badb763b5b6e": {
          "model_module": "@jupyter-widgets/controls",
          "model_name": "ProgressStyleModel",
          "model_module_version": "1.5.0",
          "state": {
            "_model_module": "@jupyter-widgets/controls",
            "_model_module_version": "1.5.0",
            "_model_name": "ProgressStyleModel",
            "_view_count": null,
            "_view_module": "@jupyter-widgets/base",
            "_view_module_version": "1.2.0",
            "_view_name": "StyleView",
            "bar_color": null,
            "description_width": ""
          }
        },
        "6996ef32ba52433a8b114bec05575420": {
          "model_module": "@jupyter-widgets/base",
          "model_name": "LayoutModel",
          "model_module_version": "1.2.0",
          "state": {
            "_model_module": "@jupyter-widgets/base",
            "_model_module_version": "1.2.0",
            "_model_name": "LayoutModel",
            "_view_count": null,
            "_view_module": "@jupyter-widgets/base",
            "_view_module_version": "1.2.0",
            "_view_name": "LayoutView",
            "align_content": null,
            "align_items": null,
            "align_self": null,
            "border": null,
            "bottom": null,
            "display": null,
            "flex": null,
            "flex_flow": null,
            "grid_area": null,
            "grid_auto_columns": null,
            "grid_auto_flow": null,
            "grid_auto_rows": null,
            "grid_column": null,
            "grid_gap": null,
            "grid_row": null,
            "grid_template_areas": null,
            "grid_template_columns": null,
            "grid_template_rows": null,
            "height": null,
            "justify_content": null,
            "justify_items": null,
            "left": null,
            "margin": null,
            "max_height": null,
            "max_width": null,
            "min_height": null,
            "min_width": null,
            "object_fit": null,
            "object_position": null,
            "order": null,
            "overflow": null,
            "overflow_x": null,
            "overflow_y": null,
            "padding": null,
            "right": null,
            "top": null,
            "visibility": null,
            "width": null
          }
        },
        "798412d19d0e42c7a97afeea296f1d91": {
          "model_module": "@jupyter-widgets/controls",
          "model_name": "DescriptionStyleModel",
          "model_module_version": "1.5.0",
          "state": {
            "_model_module": "@jupyter-widgets/controls",
            "_model_module_version": "1.5.0",
            "_model_name": "DescriptionStyleModel",
            "_view_count": null,
            "_view_module": "@jupyter-widgets/base",
            "_view_module_version": "1.2.0",
            "_view_name": "StyleView",
            "description_width": ""
          }
        }
      }
    }
  },
  "cells": [
    {
      "cell_type": "markdown",
      "source": [
        "## ResNet\n",
        "- CNN에서 가장 많이 사용되는 모델\n",
        "- **스킵 커넥션** 기법을 이용해 VGG 모델의 기울기 소실 문제를 어느 정도 해결함.\n",
        "- 스킵 커넥션은 자기 자신을 미분하면 1이 되기 때문에 신경망의 출력 부분에 입력을 더하는 방식으로 기울기를 최소 1로 확보\n",
        "\n",
        "+) 스킵 커넥션 : 은닉층을 거치지 않은 입력값을 은닉층의 출력값과 더하는 구조\n",
        "\n",
        "< 장점 >\n",
        "- 층을 깊게 쌓을 수 있다.\n",
        "- VGG에 비해 학습이 안정적이다.\n",
        "- 기울기 소실 문제를 어느 정도 해결한다.\n",
        "\n",
        "< 단점 >\n",
        "- 가중치가 늘어나기 때문에 계산량이 많아진다.\n",
        "- VGG에 비해 과적합이 일어나기 쉽다.\n",
        "\n",
        "### Batch Normalization\n",
        "- 배치 데이터의 분포의 불균형을 해결한다.\n",
        "- 배치의 값의 분포가 서로 다르면 출력의 분포가 달라지기 때문에 학습에 악영향 -> 값의 분포를 일정하게 맞춰준다.\n"
      ],
      "metadata": {
        "id": "T05sx-W_C2Ur"
      }
    },
    {
      "cell_type": "code",
      "source": [
        "import torch\n",
        "import torch.nn as nn"
      ],
      "metadata": {
        "id": "2svWNbrSEBWb"
      },
      "execution_count": null,
      "outputs": []
    },
    {
      "cell_type": "code",
      "source": [
        "### skip-connection\n",
        "class BasicBlock(nn.Module) :\n",
        "\n",
        "  def __init__(self, in_channels, out_channels, kernel_size = 3) :\n",
        "    super(BasicBlock, self).__init__()\n",
        "    self.conv1 = nn.Conv2d(in_channels, out_channels, kernel_size = kernel_size, padding = 1)\n",
        "    self.conv2 = nn.Conv2d(out_channels, out_channels, kernel_size = kernel_size, padding = 1)\n",
        "    self.downsample = nn.Conv2d(in_channels, out_channels, kernel_size = 1)\n",
        "    self.bn1 = nn.BatchNorm2d(num_features = out_channels)\n",
        "    self.bn2 = nn.BatchNorm2d(num_features = out_channels)\n",
        "    self.relu = nn.ReLU()\n",
        "\n",
        "  def forward(self, x) :\n",
        "\n",
        "    skip_x = x\n",
        "\n",
        "    x = self.conv1(x)\n",
        "    x = self.bn1(x)\n",
        "    x = self.relu(x)\n",
        "    x = self.conv2(x)\n",
        "    x = self.bn2(x)\n",
        "\n",
        "    skip_x = self.downsample(skip_x) # 입력 이미지의 채널은 3인데 특징 맵은 훨씬 많은 채널을 가지고 있으므로 채널 수를 맞춰준다.\n",
        "\n",
        "    x += skip_x\n",
        "    x = self.relu(x)\n",
        "\n",
        "    return x"
      ],
      "metadata": {
        "id": "Wln4u41wE-tB"
      },
      "execution_count": null,
      "outputs": []
    },
    {
      "cell_type": "code",
      "source": [
        "class ResNet(nn.Module) :\n",
        "\n",
        "  def __init__(self, num_classes = 10) :\n",
        "    super(ResNet, self).__init__()\n",
        "    self.b1 = BasicBlock(in_channels = 3, out_channels = 64)\n",
        "    self.b2 = BasicBlock(in_channels = 64, out_channels = 128)\n",
        "    self.b3 = BasicBlock(in_channels = 128, out_channels = 256)\n",
        "    self.pool = nn.AvgPool2d(kernel_size = 2, stride = 2)\n",
        "    self.fc1 = nn.Linear(in_features = 4096, out_features = 2048)\n",
        "    self.fc2 = nn.Linear(in_features = 2048, out_features = 512)\n",
        "    self.fc3 = nn.Linear(in_features = 512, out_features = num_classes)\n",
        "    self.relu = nn.ReLU()\n",
        "\n",
        "  def forward(self, x) :\n",
        "\n",
        "    x = self.b1(x)\n",
        "    x = self.pool(x)\n",
        "    x = self.b2(x)\n",
        "    x = self.pool(x)\n",
        "    x = self.b3(x)\n",
        "    x = self.pool(x)\n",
        "    x = torch.flatten(x, start_dim = 1)\n",
        "    x = self.fc1(x)\n",
        "    x = self.relu(x)\n",
        "    x = self.fc2(x)\n",
        "    x = self.relu(x)\n",
        "    x = self.fc3(x)\n",
        "\n",
        "    return x"
      ],
      "metadata": {
        "id": "jGXP84wtG6ys"
      },
      "execution_count": null,
      "outputs": []
    },
    {
      "cell_type": "code",
      "source": [
        "import tqdm"
      ],
      "metadata": {
        "id": "JR5fiEGRIKy6"
      },
      "execution_count": null,
      "outputs": []
    },
    {
      "cell_type": "code",
      "source": [
        "from torchvision.datasets.cifar import CIFAR10\n",
        "from torchvision.transforms import Compose, ToTensor, RandomHorizontalFlip, RandomCrop, Normalize\n",
        "from torch.utils.data import DataLoader\n",
        "from torch.optim.adam import Adam"
      ],
      "metadata": {
        "id": "S-ofcpy3IZ7X"
      },
      "execution_count": null,
      "outputs": []
    },
    {
      "cell_type": "code",
      "source": [
        "transforms = Compose([\n",
        "    RandomCrop((32, 32), padding = 4),\n",
        "    RandomHorizontalFlip(p = 0.5),\n",
        "    ToTensor(),\n",
        "    Normalize(mean = (0.4914, 0.4822, 0.4465), std = (0.247, 0.243, 0.261))\n",
        "])"
      ],
      "metadata": {
        "id": "L8WRZ-RuIpih"
      },
      "execution_count": null,
      "outputs": []
    },
    {
      "cell_type": "code",
      "source": [
        "train = CIFAR10(root = './', train = True, download = True, transform = transforms)\n",
        "test = CIFAR10(root = './', train = False, download = True, transform = transforms)"
      ],
      "metadata": {
        "colab": {
          "base_uri": "https://localhost:8080/",
          "height": 100,
          "referenced_widgets": [
            "ae0247d576ef450e9297a4d75fe48240",
            "78cf4c8f11d54abca1a06851936a0130",
            "099b74e06d4b416789e3085b5a30e2fd",
            "342fe7eaa2f84cb49bdaac74195b7098",
            "3e3946077e5f42bbb0f747ef8076047c",
            "9fdbd3546bc441a18f1275aea6a4dc88",
            "ebed180be0e345ce824ce4c566418ecf",
            "91716bc72ca743a198fc8eec8f8f8e7d",
            "6bf2ee7ba9364f2989e0badb763b5b6e",
            "6996ef32ba52433a8b114bec05575420",
            "798412d19d0e42c7a97afeea296f1d91"
          ]
        },
        "id": "QaciuBZmJAvO",
        "outputId": "53684745-38ac-4b02-bff4-42bed50e64d2"
      },
      "execution_count": null,
      "outputs": [
        {
          "output_type": "stream",
          "name": "stdout",
          "text": [
            "Downloading https://www.cs.toronto.edu/~kriz/cifar-10-python.tar.gz to ./cifar-10-python.tar.gz\n"
          ]
        },
        {
          "output_type": "display_data",
          "data": {
            "text/plain": [
              "  0%|          | 0/170498071 [00:00<?, ?it/s]"
            ],
            "application/vnd.jupyter.widget-view+json": {
              "version_major": 2,
              "version_minor": 0,
              "model_id": "ae0247d576ef450e9297a4d75fe48240"
            }
          },
          "metadata": {}
        },
        {
          "output_type": "stream",
          "name": "stdout",
          "text": [
            "Extracting ./cifar-10-python.tar.gz to ./\n",
            "Files already downloaded and verified\n"
          ]
        }
      ]
    },
    {
      "cell_type": "code",
      "source": [
        "tr_loader = DataLoader(train, batch_size = 32, shuffle = True)\n",
        "te_loader = DataLoader(test, batch_size = 32, shuffle = False)"
      ],
      "metadata": {
        "id": "h-YuVjmCJIEt"
      },
      "execution_count": null,
      "outputs": []
    },
    {
      "cell_type": "code",
      "source": [
        "device = 'cuda:0' if torch.cuda.is_available() else 'cpu'"
      ],
      "metadata": {
        "id": "26bn3dF7JUhd"
      },
      "execution_count": null,
      "outputs": []
    },
    {
      "cell_type": "code",
      "source": [
        "device"
      ],
      "metadata": {
        "colab": {
          "base_uri": "https://localhost:8080/",
          "height": 37
        },
        "id": "M0Zhe7aDJYY2",
        "outputId": "ca64c9eb-eadd-46fd-c931-d940c61154a5"
      },
      "execution_count": null,
      "outputs": [
        {
          "output_type": "execute_result",
          "data": {
            "text/plain": [
              "'cuda:0'"
            ],
            "application/vnd.google.colaboratory.intrinsic+json": {
              "type": "string"
            }
          },
          "metadata": {},
          "execution_count": 13
        }
      ]
    },
    {
      "cell_type": "code",
      "source": [
        "model = ResNet(num_classes = 10)"
      ],
      "metadata": {
        "id": "W5Mjj6ToJYrK"
      },
      "execution_count": null,
      "outputs": []
    },
    {
      "cell_type": "code",
      "source": [
        "model.to(device)"
      ],
      "metadata": {
        "colab": {
          "base_uri": "https://localhost:8080/"
        },
        "id": "04g53aNlJbWg",
        "outputId": "ce04a48e-9f14-4195-c998-74838140c961"
      },
      "execution_count": null,
      "outputs": [
        {
          "output_type": "execute_result",
          "data": {
            "text/plain": [
              "ResNet(\n",
              "  (b1): BasicBlock(\n",
              "    (conv1): Conv2d(3, 64, kernel_size=(3, 3), stride=(1, 1), padding=(1, 1))\n",
              "    (conv2): Conv2d(64, 64, kernel_size=(3, 3), stride=(1, 1), padding=(1, 1))\n",
              "    (downsample): Conv2d(3, 64, kernel_size=(1, 1), stride=(1, 1))\n",
              "    (bn1): BatchNorm2d(64, eps=1e-05, momentum=0.1, affine=True, track_running_stats=True)\n",
              "    (bn2): BatchNorm2d(64, eps=1e-05, momentum=0.1, affine=True, track_running_stats=True)\n",
              "    (relu): ReLU()\n",
              "  )\n",
              "  (b2): BasicBlock(\n",
              "    (conv1): Conv2d(64, 128, kernel_size=(3, 3), stride=(1, 1), padding=(1, 1))\n",
              "    (conv2): Conv2d(128, 128, kernel_size=(3, 3), stride=(1, 1), padding=(1, 1))\n",
              "    (downsample): Conv2d(64, 128, kernel_size=(1, 1), stride=(1, 1))\n",
              "    (bn1): BatchNorm2d(128, eps=1e-05, momentum=0.1, affine=True, track_running_stats=True)\n",
              "    (bn2): BatchNorm2d(128, eps=1e-05, momentum=0.1, affine=True, track_running_stats=True)\n",
              "    (relu): ReLU()\n",
              "  )\n",
              "  (b3): BasicBlock(\n",
              "    (conv1): Conv2d(128, 256, kernel_size=(3, 3), stride=(1, 1), padding=(1, 1))\n",
              "    (conv2): Conv2d(256, 256, kernel_size=(3, 3), stride=(1, 1), padding=(1, 1))\n",
              "    (downsample): Conv2d(128, 256, kernel_size=(1, 1), stride=(1, 1))\n",
              "    (bn1): BatchNorm2d(256, eps=1e-05, momentum=0.1, affine=True, track_running_stats=True)\n",
              "    (bn2): BatchNorm2d(256, eps=1e-05, momentum=0.1, affine=True, track_running_stats=True)\n",
              "    (relu): ReLU()\n",
              "  )\n",
              "  (pool): AvgPool2d(kernel_size=2, stride=2, padding=0)\n",
              "  (fc1): Linear(in_features=4096, out_features=2048, bias=True)\n",
              "  (fc2): Linear(in_features=2048, out_features=512, bias=True)\n",
              "  (fc3): Linear(in_features=512, out_features=10, bias=True)\n",
              "  (relu): ReLU()\n",
              ")"
            ]
          },
          "metadata": {},
          "execution_count": 28
        }
      ]
    },
    {
      "cell_type": "code",
      "source": [
        "lr = 1e-4"
      ],
      "metadata": {
        "id": "bZvSCsKyJi8o"
      },
      "execution_count": null,
      "outputs": []
    },
    {
      "cell_type": "code",
      "source": [
        "optim = Adam(model.parameters(), lr = lr)"
      ],
      "metadata": {
        "id": "uNDpcgweJxDM"
      },
      "execution_count": null,
      "outputs": []
    },
    {
      "cell_type": "code",
      "source": [
        "for epoch in range(30) :\n",
        "\n",
        "  model.train()\n",
        "  tr_acc, tr_cnt, tr_loss = 0., 0., 0.\n",
        "  for image, label in tr_loader :\n",
        "\n",
        "    optim.zero_grad()\n",
        "\n",
        "    image = image.to(device)\n",
        "    label = label.to(device)\n",
        "\n",
        "    pred = model(image)\n",
        "    cls = pred.data.max(1)[1]\n",
        "\n",
        "    loss = nn.CrossEntropyLoss()(pred, label)\n",
        "    loss.backward()\n",
        "    \n",
        "    optim.step()\n",
        "\n",
        "    corr = cls.eq(label.data).sum().item()\n",
        "    tr_acc += corr\n",
        "    tr_cnt += len(label)\n",
        "    tr_loss += loss.item()\n",
        "\n",
        "  tr_acc /= tr_cnt\n",
        "  tr_loss /= len(tr_loader)\n",
        "  \n",
        "  model.eval()\n",
        "  te_acc, te_cnt, te_loss = 0., 0., 0.\n",
        "\n",
        "  with torch.no_grad() :\n",
        "\n",
        "    for image, label in te_loader :\n",
        "\n",
        "      image = image.to(device)\n",
        "      label = label.to(device)\n",
        "\n",
        "      pred = model(image)\n",
        "      cls = pred.data.max(1)[1]\n",
        "      \n",
        "      loss = nn.CrossEntropyLoss()(pred, label)\n",
        "\n",
        "      corr = cls.eq(label.data).sum().item()\n",
        "\n",
        "      te_acc += corr\n",
        "      te_cnt += len(label)\n",
        "      te_loss += loss.item()\n",
        "\n",
        "    te_acc /= te_cnt\n",
        "    te_loss /= len(te_loader)\n",
        "  \n",
        "  print(f\"{epoch + 1} Epoch Train Accuracy : {tr_acc} / Test Accuracy : {te_acc}\")"
      ],
      "metadata": {
        "colab": {
          "base_uri": "https://localhost:8080/"
        },
        "id": "ASaqvKnoJzBE",
        "outputId": "ee4f9330-730e-4633-85b1-e2e7c655cab9"
      },
      "execution_count": null,
      "outputs": [
        {
          "output_type": "stream",
          "name": "stdout",
          "text": [
            "1 Epoch Train Accuracy : 0.50976 / Test Accuracy : 0.6179\n",
            "2 Epoch Train Accuracy : 0.68172 / Test Accuracy : 0.7198\n",
            "3 Epoch Train Accuracy : 0.74914 / Test Accuracy : 0.7632\n",
            "4 Epoch Train Accuracy : 0.7853 / Test Accuracy : 0.7917\n",
            "5 Epoch Train Accuracy : 0.81246 / Test Accuracy : 0.8033\n",
            "6 Epoch Train Accuracy : 0.83218 / Test Accuracy : 0.8131\n",
            "7 Epoch Train Accuracy : 0.8474 / Test Accuracy : 0.834\n",
            "8 Epoch Train Accuracy : 0.86362 / Test Accuracy : 0.8291\n",
            "9 Epoch Train Accuracy : 0.87448 / Test Accuracy : 0.8425\n",
            "10 Epoch Train Accuracy : 0.8849 / Test Accuracy : 0.8474\n",
            "11 Epoch Train Accuracy : 0.89442 / Test Accuracy : 0.8586\n",
            "12 Epoch Train Accuracy : 0.90214 / Test Accuracy : 0.8463\n",
            "13 Epoch Train Accuracy : 0.91092 / Test Accuracy : 0.8543\n",
            "14 Epoch Train Accuracy : 0.91664 / Test Accuracy : 0.8659\n",
            "15 Epoch Train Accuracy : 0.92296 / Test Accuracy : 0.874\n",
            "16 Epoch Train Accuracy : 0.92854 / Test Accuracy : 0.8678\n",
            "17 Epoch Train Accuracy : 0.9346 / Test Accuracy : 0.8663\n",
            "18 Epoch Train Accuracy : 0.93888 / Test Accuracy : 0.8729\n",
            "19 Epoch Train Accuracy : 0.9417 / Test Accuracy : 0.8794\n",
            "20 Epoch Train Accuracy : 0.94702 / Test Accuracy : 0.8654\n",
            "21 Epoch Train Accuracy : 0.94878 / Test Accuracy : 0.8821\n",
            "22 Epoch Train Accuracy : 0.9529 / Test Accuracy : 0.8753\n",
            "23 Epoch Train Accuracy : 0.9556 / Test Accuracy : 0.8783\n",
            "24 Epoch Train Accuracy : 0.9591 / Test Accuracy : 0.8823\n",
            "25 Epoch Train Accuracy : 0.9605 / Test Accuracy : 0.8832\n",
            "26 Epoch Train Accuracy : 0.96378 / Test Accuracy : 0.8828\n",
            "27 Epoch Train Accuracy : 0.96502 / Test Accuracy : 0.88\n",
            "28 Epoch Train Accuracy : 0.96804 / Test Accuracy : 0.8746\n",
            "29 Epoch Train Accuracy : 0.96856 / Test Accuracy : 0.8838\n",
            "30 Epoch Train Accuracy : 0.96952 / Test Accuracy : 0.8838\n"
          ]
        }
      ]
    }
  ]
}