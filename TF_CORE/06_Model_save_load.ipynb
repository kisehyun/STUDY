{
  "nbformat": 4,
  "nbformat_minor": 0,
  "metadata": {
    "colab": {
      "name": "06.Model_save_load.ipynb",
      "provenance": [],
      "collapsed_sections": []
    },
    "kernelspec": {
      "name": "python3",
      "display_name": "Python 3"
    },
    "language_info": {
      "name": "python"
    },
    "accelerator": "GPU"
  },
  "cells": [
    {
      "cell_type": "code",
      "metadata": {
        "id": "Ce0FdBYk7vWQ"
      },
      "source": [
        "!pip install -q pyyaml h5py"
      ],
      "execution_count": 1,
      "outputs": []
    },
    {
      "cell_type": "code",
      "metadata": {
        "colab": {
          "base_uri": "https://localhost:8080/"
        },
        "id": "CB1Lb1EOh4OA",
        "outputId": "70d21458-6027-4135-8ae3-98f242c3262d"
      },
      "source": [
        "import os\n",
        "\n",
        "import tensorflow as tf\n",
        "from tensorflow import keras\n",
        "\n",
        "print(tf.__version__)"
      ],
      "execution_count": 2,
      "outputs": [
        {
          "output_type": "stream",
          "text": [
            "2.6.0\n"
          ],
          "name": "stdout"
        }
      ]
    },
    {
      "cell_type": "code",
      "metadata": {
        "id": "WK2kU25fh9oN"
      },
      "source": [
        "(tr_img, tr_cls), (te_img, te_cls) = tf.keras.datasets.mnist.load_data()"
      ],
      "execution_count": 75,
      "outputs": []
    },
    {
      "cell_type": "code",
      "metadata": {
        "colab": {
          "base_uri": "https://localhost:8080/"
        },
        "id": "hyoongnNiDjY",
        "outputId": "be32baba-6063-4752-f3a6-b0481f2e49e1"
      },
      "source": [
        "tr_img.shape, te_img.shape"
      ],
      "execution_count": 4,
      "outputs": [
        {
          "output_type": "execute_result",
          "data": {
            "text/plain": [
              "((60000, 28, 28), (10000, 28, 28))"
            ]
          },
          "metadata": {},
          "execution_count": 4
        }
      ]
    },
    {
      "cell_type": "code",
      "metadata": {
        "id": "jkzsHjp_nm79"
      },
      "source": [
        "tr_cls = tr_cls[:1000]\n",
        "te_cls = te_cls[:1000]"
      ],
      "execution_count": 76,
      "outputs": []
    },
    {
      "cell_type": "code",
      "metadata": {
        "id": "zCdebJkxiNbU"
      },
      "source": [
        "tr_img = tr_img[:1000].reshape(-1, 28 * 28) / 255.0\n",
        "te_img = te_img[:1000].reshape(-1, 28 * 28) / 255.0"
      ],
      "execution_count": 77,
      "outputs": []
    },
    {
      "cell_type": "code",
      "metadata": {
        "id": "cstAaZZriRct"
      },
      "source": [
        "def create_model() :\n",
        "  model = tf.keras.models.Sequential([\n",
        "          keras.layers.Dense(512, activation = 'relu', input_shape = (784, )),\n",
        "          keras.layers.Dropout(.2),\n",
        "          keras.layers.Dense(10)\n",
        "  ])\n",
        "\n",
        "  model.compile(optimizer = 'adam', loss = 'sparse_categorical_crossentropy', metrics = ['acc'])\n",
        "\n",
        "  return model"
      ],
      "execution_count": 78,
      "outputs": []
    },
    {
      "cell_type": "code",
      "metadata": {
        "id": "gcR5PchLiwO7"
      },
      "source": [
        "model = create_model()"
      ],
      "execution_count": 92,
      "outputs": []
    },
    {
      "cell_type": "code",
      "metadata": {
        "colab": {
          "base_uri": "https://localhost:8080/"
        },
        "id": "7NS9N5yaix8s",
        "outputId": "dccf8b70-a97e-41c9-c565-3d27f3b88fcf"
      },
      "source": [
        "model.summary()"
      ],
      "execution_count": 93,
      "outputs": [
        {
          "output_type": "stream",
          "text": [
            "Model: \"sequential_11\"\n",
            "_________________________________________________________________\n",
            "Layer (type)                 Output Shape              Param #   \n",
            "=================================================================\n",
            "dense_22 (Dense)             (None, 512)               401920    \n",
            "_________________________________________________________________\n",
            "dropout_11 (Dropout)         (None, 512)               0         \n",
            "_________________________________________________________________\n",
            "dense_23 (Dense)             (None, 10)                5130      \n",
            "=================================================================\n",
            "Total params: 407,050\n",
            "Trainable params: 407,050\n",
            "Non-trainable params: 0\n",
            "_________________________________________________________________\n"
          ],
          "name": "stdout"
        }
      ]
    },
    {
      "cell_type": "markdown",
      "metadata": {
        "id": "gcD-A3dMkAq7"
      },
      "source": [
        "#### Model Checkpoint 활용\n",
        "\n",
        "- 모델을 학습 중간 혹은 종료시 저장한다.\n",
        "- 저장된 모델을 다시 불러와 추가적인 학습이 가능하다."
      ]
    },
    {
      "cell_type": "code",
      "metadata": {
        "id": "DNFlGEnQkb4D"
      },
      "source": [
        "checking_path = 'training_1/'\n",
        "checking_dir = os.path.dirname(checking_path)"
      ],
      "execution_count": 94,
      "outputs": []
    },
    {
      "cell_type": "code",
      "metadata": {
        "id": "j9sU_mr5kM5Q"
      },
      "source": [
        "mc = tf.keras.callbacks.ModelCheckpoint(filepath = checking_dir, save_weights_only = True, verbose = 1)"
      ],
      "execution_count": 95,
      "outputs": []
    },
    {
      "cell_type": "code",
      "metadata": {
        "colab": {
          "base_uri": "https://localhost:8080/"
        },
        "id": "gXInqQhikmpQ",
        "outputId": "22dff251-1f5a-4e5f-e54f-0bbf5ca8f12a"
      },
      "source": [
        "model.fit(tr_img, tr_cls, epochs = 10, validation_data = (te_img, te_cls), callbacks = [mc])"
      ],
      "execution_count": 96,
      "outputs": [
        {
          "output_type": "stream",
          "text": [
            "Epoch 1/10\n",
            "32/32 [==============================] - 1s 10ms/step - loss: 4.2822 - acc: 0.2850 - val_loss: 2.0749 - val_acc: 0.2810\n",
            "\n",
            "Epoch 00001: saving model to training_1\n",
            "Epoch 2/10\n",
            "32/32 [==============================] - 0s 8ms/step - loss: 2.2040 - acc: 0.2680 - val_loss: 2.1092 - val_acc: 0.2690\n",
            "\n",
            "Epoch 00002: saving model to training_1\n",
            "Epoch 3/10\n",
            "32/32 [==============================] - 0s 5ms/step - loss: 2.2608 - acc: 0.2540 - val_loss: 2.2013 - val_acc: 0.2830\n",
            "\n",
            "Epoch 00003: saving model to training_1\n",
            "Epoch 4/10\n",
            "32/32 [==============================] - 0s 6ms/step - loss: 2.2565 - acc: 0.2460 - val_loss: 2.2059 - val_acc: 0.2830\n",
            "\n",
            "Epoch 00004: saving model to training_1\n",
            "Epoch 5/10\n",
            "32/32 [==============================] - 0s 7ms/step - loss: 2.2542 - acc: 0.2440 - val_loss: 2.2059 - val_acc: 0.2830\n",
            "\n",
            "Epoch 00005: saving model to training_1\n",
            "Epoch 6/10\n",
            "32/32 [==============================] - 0s 5ms/step - loss: 2.2427 - acc: 0.2410 - val_loss: 2.2015 - val_acc: 0.2830\n",
            "\n",
            "Epoch 00006: saving model to training_1\n",
            "Epoch 7/10\n",
            "32/32 [==============================] - 0s 8ms/step - loss: 2.2519 - acc: 0.2250 - val_loss: 2.1990 - val_acc: 0.2830\n",
            "\n",
            "Epoch 00007: saving model to training_1\n",
            "Epoch 8/10\n",
            "32/32 [==============================] - 0s 5ms/step - loss: 2.2381 - acc: 0.2390 - val_loss: 2.1990 - val_acc: 0.2830\n",
            "\n",
            "Epoch 00008: saving model to training_1\n",
            "Epoch 9/10\n",
            "32/32 [==============================] - 0s 5ms/step - loss: 2.2565 - acc: 0.2380 - val_loss: 2.1990 - val_acc: 0.2830\n",
            "\n",
            "Epoch 00009: saving model to training_1\n",
            "Epoch 10/10\n",
            "32/32 [==============================] - 0s 6ms/step - loss: 2.2427 - acc: 0.2430 - val_loss: 2.1990 - val_acc: 0.2830\n",
            "\n",
            "Epoch 00010: saving model to training_1\n"
          ],
          "name": "stdout"
        },
        {
          "output_type": "execute_result",
          "data": {
            "text/plain": [
              "<keras.callbacks.History at 0x7fc3029cc0d0>"
            ]
          },
          "metadata": {},
          "execution_count": 96
        }
      ]
    },
    {
      "cell_type": "code",
      "metadata": {
        "id": "3WMxRVUDn1kf"
      },
      "source": [
        "model = create_model()"
      ],
      "execution_count": 97,
      "outputs": []
    },
    {
      "cell_type": "code",
      "metadata": {
        "colab": {
          "base_uri": "https://localhost:8080/"
        },
        "id": "bBkAsuP2n6Ba",
        "outputId": "1543d9d3-8e36-446c-efe5-27508629f7cf"
      },
      "source": [
        "loss, acc = model.evaluate(te_img, te_cls, verbose = 2)"
      ],
      "execution_count": 98,
      "outputs": [
        {
          "output_type": "stream",
          "text": [
            "32/32 - 0s - loss: 11.7028 - acc: 0.0480\n"
          ],
          "name": "stdout"
        }
      ]
    },
    {
      "cell_type": "markdown",
      "metadata": {
        "id": "_1B2Bzt4pcbv"
      },
      "source": [
        "#### model.load_weights(checking_path) 하고 동일하게 evaluate하면 저장된 가중치 사용해서 성능이 더 좋다."
      ]
    },
    {
      "cell_type": "code",
      "metadata": {
        "id": "8GZ_KAO6pjTL"
      },
      "source": [
        "mc = tf.keras.callbacks.ModelCheckpoint(\n",
        "    file_path = checking_path,\n",
        "    verbose = 1,\n",
        "    save_weights_only = True,\n",
        "    period = 5\n",
        ")\n",
        "\n",
        "### 다섯 번의 에포크마다 체크포인트를 저장하라는 의미다."
      ],
      "execution_count": null,
      "outputs": []
    },
    {
      "cell_type": "markdown",
      "metadata": {
        "id": "B0x9bYNTsJJG"
      },
      "source": [
        "#### 수동으로 가중치 저장하기\n",
        "\n",
        "- model.save_weights"
      ]
    },
    {
      "cell_type": "code",
      "metadata": {
        "colab": {
          "base_uri": "https://localhost:8080/"
        },
        "id": "TPJDJCMrsM--",
        "outputId": "f66f4cfd-7198-4ca5-c7ac-4a8bbe6404f0"
      },
      "source": [
        "model.save_weights('mc')\n",
        "\n",
        "model.load_weights('mc')"
      ],
      "execution_count": 101,
      "outputs": [
        {
          "output_type": "execute_result",
          "data": {
            "text/plain": [
              "<tensorflow.python.training.tracking.util.CheckpointLoadStatus at 0x7fc30281cf90>"
            ]
          },
          "metadata": {},
          "execution_count": 101
        }
      ]
    },
    {
      "cell_type": "code",
      "metadata": {
        "colab": {
          "base_uri": "https://localhost:8080/"
        },
        "id": "RMOVt8DnsZlA",
        "outputId": "528c2cfa-4f9a-4056-c25a-32a79968c180"
      },
      "source": [
        "loss, acc = model.evaluate(te_img, te_cls, verbose = 2)"
      ],
      "execution_count": 102,
      "outputs": [
        {
          "output_type": "stream",
          "text": [
            "32/32 - 0s - loss: 11.7028 - acc: 0.0480\n"
          ],
          "name": "stdout"
        }
      ]
    },
    {
      "cell_type": "markdown",
      "metadata": {
        "id": "KHHO35kJsh_Q"
      },
      "source": [
        "#### model.save는 전체 모델을 저장한다.\n",
        "\n",
        "- 모델의 구조\n",
        "- 가중치\n",
        "- 훈련설정\n",
        "\n",
        "SaveModel or HDF5로 저장된다."
      ]
    },
    {
      "cell_type": "code",
      "metadata": {
        "id": "szz6mgjSsqgr"
      },
      "source": [
        "model = create_model()"
      ],
      "execution_count": 103,
      "outputs": []
    },
    {
      "cell_type": "code",
      "metadata": {
        "colab": {
          "base_uri": "https://localhost:8080/"
        },
        "id": "W3SZvKPBss3h",
        "outputId": "dae9abaf-6daa-412c-931a-cac37a600765"
      },
      "source": [
        "model.fit(tr_img, tr_cls, epochs = 5)"
      ],
      "execution_count": 104,
      "outputs": [
        {
          "output_type": "stream",
          "text": [
            "Epoch 1/5\n",
            "32/32 [==============================] - 0s 3ms/step - loss: 3.1584 - acc: 0.3170\n",
            "Epoch 2/5\n",
            "32/32 [==============================] - 0s 3ms/step - loss: 2.2450 - acc: 0.3200\n",
            "Epoch 3/5\n",
            "32/32 [==============================] - 0s 3ms/step - loss: 2.2519 - acc: 0.3340\n",
            "Epoch 4/5\n",
            "32/32 [==============================] - 0s 3ms/step - loss: 2.2496 - acc: 0.3280\n",
            "Epoch 5/5\n",
            "32/32 [==============================] - 0s 3ms/step - loss: 2.2496 - acc: 0.3280\n"
          ],
          "name": "stdout"
        },
        {
          "output_type": "execute_result",
          "data": {
            "text/plain": [
              "<keras.callbacks.History at 0x7fc302788790>"
            ]
          },
          "metadata": {},
          "execution_count": 104
        }
      ]
    },
    {
      "cell_type": "code",
      "metadata": {
        "colab": {
          "base_uri": "https://localhost:8080/"
        },
        "id": "ncr-CO_-su7v",
        "outputId": "23b0ebd1-7967-488e-cc63-fae8ee8518d7"
      },
      "source": [
        "model.save('save_model')"
      ],
      "execution_count": 105,
      "outputs": [
        {
          "output_type": "stream",
          "text": [
            "INFO:tensorflow:Assets written to: save_model/assets\n"
          ],
          "name": "stdout"
        }
      ]
    },
    {
      "cell_type": "code",
      "metadata": {
        "id": "JwdIoqeosxvn"
      },
      "source": [
        "new_model = tf.keras.models.load_model('save_model')"
      ],
      "execution_count": 115,
      "outputs": []
    },
    {
      "cell_type": "code",
      "metadata": {
        "colab": {
          "base_uri": "https://localhost:8080/"
        },
        "id": "sjgmv4T3tBn0",
        "outputId": "08532e5f-88bc-4741-aa97-7518cdac8b3a"
      },
      "source": [
        "new_model.summary()"
      ],
      "execution_count": 116,
      "outputs": [
        {
          "output_type": "stream",
          "text": [
            "Model: \"sequential_13\"\n",
            "_________________________________________________________________\n",
            "Layer (type)                 Output Shape              Param #   \n",
            "=================================================================\n",
            "dense_26 (Dense)             (None, 512)               401920    \n",
            "_________________________________________________________________\n",
            "dropout_13 (Dropout)         (None, 512)               0         \n",
            "_________________________________________________________________\n",
            "dense_27 (Dense)             (None, 10)                5130      \n",
            "=================================================================\n",
            "Total params: 407,050\n",
            "Trainable params: 407,050\n",
            "Non-trainable params: 0\n",
            "_________________________________________________________________\n"
          ],
          "name": "stdout"
        }
      ]
    },
    {
      "cell_type": "code",
      "metadata": {
        "colab": {
          "base_uri": "https://localhost:8080/"
        },
        "id": "2R-k0VEftDIg",
        "outputId": "122f341e-2510-4901-d3ac-08b19fc3858b"
      },
      "source": [
        "loss, acc = new_model.evaluate(te_img, te_cls, verbose = 2)"
      ],
      "execution_count": 117,
      "outputs": [
        {
          "output_type": "stream",
          "text": [
            "32/32 - 0s - loss: 2.2404 - acc: 0.2800\n"
          ],
          "name": "stdout"
        }
      ]
    },
    {
      "cell_type": "markdown",
      "metadata": {
        "id": "GhxyzaigtLI-"
      },
      "source": [
        "#### HDF5"
      ]
    },
    {
      "cell_type": "code",
      "metadata": {
        "id": "73LncoYItGk5"
      },
      "source": [
        "model = create_model()"
      ],
      "execution_count": 109,
      "outputs": []
    },
    {
      "cell_type": "code",
      "metadata": {
        "colab": {
          "base_uri": "https://localhost:8080/"
        },
        "id": "daWyfCmdtKYb",
        "outputId": "45c5f02e-fb70-40d3-a550-b0da7035aca2"
      },
      "source": [
        "model.fit(tr_img, tr_cls, epochs = 5)"
      ],
      "execution_count": 110,
      "outputs": [
        {
          "output_type": "stream",
          "text": [
            "Epoch 1/5\n",
            "32/32 [==============================] - 0s 3ms/step - loss: 4.4001 - acc: 0.4570\n",
            "Epoch 2/5\n",
            "32/32 [==============================] - 0s 3ms/step - loss: 2.1998 - acc: 0.3370\n",
            "Epoch 3/5\n",
            "32/32 [==============================] - 0s 3ms/step - loss: 2.2206 - acc: 0.2520\n",
            "Epoch 4/5\n",
            "32/32 [==============================] - 0s 3ms/step - loss: 2.2451 - acc: 0.2640\n",
            "Epoch 5/5\n",
            "32/32 [==============================] - 0s 3ms/step - loss: 2.2312 - acc: 0.2680\n"
          ],
          "name": "stdout"
        },
        {
          "output_type": "execute_result",
          "data": {
            "text/plain": [
              "<keras.callbacks.History at 0x7fc25f9a74d0>"
            ]
          },
          "metadata": {},
          "execution_count": 110
        }
      ]
    },
    {
      "cell_type": "code",
      "metadata": {
        "id": "yDCulF_ztMqU"
      },
      "source": [
        "model.save('my_model.h5')"
      ],
      "execution_count": 111,
      "outputs": []
    },
    {
      "cell_type": "code",
      "metadata": {
        "colab": {
          "base_uri": "https://localhost:8080/"
        },
        "id": "IaBynY_JtOxi",
        "outputId": "17d24298-8562-4dde-94b6-a3ca1e4f7451"
      },
      "source": [
        "# 가중치와 옵티마이저를 포함하여 정확히 동일한 모델을 다시 생성합니다\n",
        "new_model = tf.keras.models.load_model('my_model.h5')\n",
        "\n",
        "# 모델 구조를 출력합니다\n",
        "new_model.summary()"
      ],
      "execution_count": 112,
      "outputs": [
        {
          "output_type": "stream",
          "text": [
            "Model: \"sequential_14\"\n",
            "_________________________________________________________________\n",
            "Layer (type)                 Output Shape              Param #   \n",
            "=================================================================\n",
            "dense_28 (Dense)             (None, 512)               401920    \n",
            "_________________________________________________________________\n",
            "dropout_14 (Dropout)         (None, 512)               0         \n",
            "_________________________________________________________________\n",
            "dense_29 (Dense)             (None, 10)                5130      \n",
            "=================================================================\n",
            "Total params: 407,050\n",
            "Trainable params: 407,050\n",
            "Non-trainable params: 0\n",
            "_________________________________________________________________\n"
          ],
          "name": "stdout"
        }
      ]
    },
    {
      "cell_type": "code",
      "metadata": {
        "colab": {
          "base_uri": "https://localhost:8080/"
        },
        "id": "V53BZ3I-tfVd",
        "outputId": "3b6a505a-d1b5-4d33-c6ff-53e1a5ae0b8a"
      },
      "source": [
        "loss, acc = new_model.evaluate(te_img, te_cls, verbose = 2)"
      ],
      "execution_count": 114,
      "outputs": [
        {
          "output_type": "stream",
          "text": [
            "32/32 - 0s - loss: 2.2611 - acc: 0.2420\n"
          ],
          "name": "stdout"
        }
      ]
    }
  ]
}