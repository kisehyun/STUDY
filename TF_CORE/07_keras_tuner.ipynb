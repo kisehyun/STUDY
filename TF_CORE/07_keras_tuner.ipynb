{
  "nbformat": 4,
  "nbformat_minor": 0,
  "metadata": {
    "colab": {
      "name": "07.keras_tuner.ipynb",
      "provenance": [],
      "collapsed_sections": []
    },
    "kernelspec": {
      "name": "python3",
      "display_name": "Python 3"
    },
    "language_info": {
      "name": "python"
    },
    "accelerator": "GPU"
  },
  "cells": [
    {
      "cell_type": "code",
      "metadata": {
        "id": "kimg4FlFJHAt"
      },
      "source": [
        "import tensorflow as tf\n",
        "from tensorflow import keras\n",
        "\n",
        "import IPython"
      ],
      "execution_count": 2,
      "outputs": []
    },
    {
      "cell_type": "code",
      "metadata": {
        "colab": {
          "base_uri": "https://localhost:8080/"
        },
        "id": "hssl6MVaJHG-",
        "outputId": "a5eef478-8662-4337-aa98-0d53e83710b9"
      },
      "source": [
        "!pip install -q -U keras-tuner\n",
        "import kerastuner as kt"
      ],
      "execution_count": 3,
      "outputs": [
        {
          "output_type": "stream",
          "text": [
            "\u001b[?25l\r\u001b[K     |███▍                            | 10 kB 23.3 MB/s eta 0:00:01\r\u001b[K     |██████▉                         | 20 kB 17.2 MB/s eta 0:00:01\r\u001b[K     |██████████▏                     | 30 kB 13.6 MB/s eta 0:00:01\r\u001b[K     |█████████████▋                  | 40 kB 11.0 MB/s eta 0:00:01\r\u001b[K     |█████████████████               | 51 kB 8.0 MB/s eta 0:00:01\r\u001b[K     |████████████████████▍           | 61 kB 8.5 MB/s eta 0:00:01\r\u001b[K     |███████████████████████▊        | 71 kB 7.9 MB/s eta 0:00:01\r\u001b[K     |███████████████████████████▏    | 81 kB 8.7 MB/s eta 0:00:01\r\u001b[K     |██████████████████████████████▋ | 92 kB 8.2 MB/s eta 0:00:01\r\u001b[K     |████████████████████████████████| 96 kB 3.2 MB/s \n",
            "\u001b[?25h"
          ],
          "name": "stdout"
        },
        {
          "output_type": "stream",
          "text": [
            "/usr/local/lib/python3.7/dist-packages/ipykernel_launcher.py:2: DeprecationWarning: `import kerastuner` is deprecated, please use `import keras_tuner`.\n",
            "  \n"
          ],
          "name": "stderr"
        }
      ]
    },
    {
      "cell_type": "code",
      "metadata": {
        "colab": {
          "base_uri": "https://localhost:8080/"
        },
        "id": "uUvTQo-3Jook",
        "outputId": "d188ba7c-a5c0-4ec2-8189-26089825a9d7"
      },
      "source": [
        "(tr_img, tr_cls), (te_img, te_cls) = keras.datasets.fashion_mnist.load_data()"
      ],
      "execution_count": 4,
      "outputs": [
        {
          "output_type": "stream",
          "text": [
            "Downloading data from https://storage.googleapis.com/tensorflow/tf-keras-datasets/train-labels-idx1-ubyte.gz\n",
            "32768/29515 [=================================] - 0s 0us/step\n",
            "40960/29515 [=========================================] - 0s 0us/step\n",
            "Downloading data from https://storage.googleapis.com/tensorflow/tf-keras-datasets/train-images-idx3-ubyte.gz\n",
            "26427392/26421880 [==============================] - 0s 0us/step\n",
            "26435584/26421880 [==============================] - 0s 0us/step\n",
            "Downloading data from https://storage.googleapis.com/tensorflow/tf-keras-datasets/t10k-labels-idx1-ubyte.gz\n",
            "16384/5148 [===============================================================================================] - 0s 0us/step\n",
            "Downloading data from https://storage.googleapis.com/tensorflow/tf-keras-datasets/t10k-images-idx3-ubyte.gz\n",
            "4423680/4422102 [==============================] - 0s 0us/step\n",
            "4431872/4422102 [==============================] - 0s 0us/step\n"
          ],
          "name": "stdout"
        }
      ]
    },
    {
      "cell_type": "markdown",
      "metadata": {
        "id": "TApvnOL_J156"
      },
      "source": [
        "데이터가 너무 많으니까 학습 데이터는 2000개만 사용"
      ]
    },
    {
      "cell_type": "code",
      "metadata": {
        "id": "25QwFnV7Jvo0"
      },
      "source": [
        "tr_img = tr_img[:2000].astype('float32') / 255.0\n",
        "te_img = te_img[:1000].astype('float32') / 255.0"
      ],
      "execution_count": 5,
      "outputs": []
    },
    {
      "cell_type": "code",
      "metadata": {
        "id": "ONhO9TN8MB_4"
      },
      "source": [
        "tr_cls = tr_cls[:2000]\n",
        "te_cls = te_cls[:1000]"
      ],
      "execution_count": 23,
      "outputs": []
    },
    {
      "cell_type": "code",
      "metadata": {
        "id": "aZFkTausKAGz"
      },
      "source": [
        "def model_builder(hp) :\n",
        "  model = keras.Sequential()\n",
        "  model.add(keras.layers.Flatten(input_shape = (28, 28)))\n",
        "\n",
        "  hp_units = hp.Int('units', min_value = 32, max_value = 128, step = 16)\n",
        "  model.add(keras.layers.Dense(units = hp_units, activation = 'relu'))\n",
        "  model.add(keras.layers.Dense(10))\n",
        "\n",
        "  hp_lr = hp.Choice('learning_rate', values = [1e-2, 1e-3, 1e-4])\n",
        "\n",
        "  model.compile(optimizer = keras.optimizers.Adam(learning_rate = hp_lr),\n",
        "                loss = keras.losses.SparseCategoricalCrossentropy(from_logits = True),\n",
        "                metrics = ['acc'])\n",
        "  \n",
        "  return model"
      ],
      "execution_count": 19,
      "outputs": []
    },
    {
      "cell_type": "markdown",
      "metadata": {
        "id": "0bcDydWCNU5o"
      },
      "source": [
        "#### Dense의 노드 수와 optimizer의 learning_rate를 탐색한다."
      ]
    },
    {
      "cell_type": "code",
      "metadata": {
        "id": "NM1DMndBKyDj"
      },
      "source": [
        "tuner = kt.Hyperband(model_builder, objective = 'val_acc',\n",
        "                     max_epochs = 10,\n",
        "                     factor = 3,\n",
        "                     directory = '/content/gdrive/My Drive/tensorflow_core',\n",
        "                     project_name = 'intro_kt')"
      ],
      "execution_count": 20,
      "outputs": []
    },
    {
      "cell_type": "code",
      "metadata": {
        "id": "mo_EqBDxLRXj"
      },
      "source": [
        "class ClearTrainingOutput(tf.keras.callbacks.Callback):\n",
        "  def on_train_end(*args, **kwargs):\n",
        "    IPython.display.clear_output(wait = True)"
      ],
      "execution_count": 21,
      "outputs": []
    },
    {
      "cell_type": "code",
      "metadata": {
        "colab": {
          "base_uri": "https://localhost:8080/"
        },
        "id": "qeyhauiVLwse",
        "outputId": "e9aa44f1-5bda-40ec-e667-65a57a1dfd77"
      },
      "source": [
        "tuner.search(tr_img, tr_cls, epochs = 10, validation_data = (te_img, te_cls), callbacks = [ClearTrainingOutput()])\n",
        "\n",
        "best = tuner.get_best_hyperparameters(num_trials = 1)[0]"
      ],
      "execution_count": 24,
      "outputs": [
        {
          "output_type": "stream",
          "text": [
            "Trial 29 Complete [00h 00m 02s]\n",
            "val_acc: 0.7710000276565552\n",
            "\n",
            "Best val_acc So Far: 0.828000009059906\n",
            "Total elapsed time: 00h 01m 10s\n",
            "INFO:tensorflow:Oracle triggered exit\n"
          ],
          "name": "stdout"
        }
      ]
    },
    {
      "cell_type": "code",
      "metadata": {
        "colab": {
          "base_uri": "https://localhost:8080/"
        },
        "id": "Tn0_ClidL_09",
        "outputId": "207df672-2c66-4f51-f905-7589ba26a8ac"
      },
      "source": [
        "best_model = tuner.hypermodel.build(best)\n",
        "\n",
        "best_model.fit(tr_img, tr_cls, epochs = 15, validation_data = (te_img, te_cls))"
      ],
      "execution_count": 26,
      "outputs": [
        {
          "output_type": "stream",
          "text": [
            "Epoch 1/15\n",
            "63/63 [==============================] - 1s 5ms/step - loss: 0.9850 - acc: 0.6510 - val_loss: 0.6441 - val_acc: 0.7470\n",
            "Epoch 2/15\n",
            "63/63 [==============================] - 0s 3ms/step - loss: 0.5996 - acc: 0.7865 - val_loss: 0.6765 - val_acc: 0.7440\n",
            "Epoch 3/15\n",
            "63/63 [==============================] - 0s 3ms/step - loss: 0.4964 - acc: 0.8285 - val_loss: 0.5825 - val_acc: 0.7870\n",
            "Epoch 4/15\n",
            "63/63 [==============================] - 0s 2ms/step - loss: 0.4466 - acc: 0.8475 - val_loss: 0.6545 - val_acc: 0.7610\n",
            "Epoch 5/15\n",
            "63/63 [==============================] - 0s 4ms/step - loss: 0.4091 - acc: 0.8540 - val_loss: 0.5738 - val_acc: 0.8100\n",
            "Epoch 6/15\n",
            "63/63 [==============================] - 0s 3ms/step - loss: 0.4172 - acc: 0.8580 - val_loss: 0.6506 - val_acc: 0.7630\n",
            "Epoch 7/15\n",
            "63/63 [==============================] - 0s 3ms/step - loss: 0.4139 - acc: 0.8460 - val_loss: 0.6131 - val_acc: 0.7920\n",
            "Epoch 8/15\n",
            "63/63 [==============================] - 0s 3ms/step - loss: 0.3296 - acc: 0.8900 - val_loss: 0.5521 - val_acc: 0.8160\n",
            "Epoch 9/15\n",
            "63/63 [==============================] - 0s 3ms/step - loss: 0.3235 - acc: 0.8840 - val_loss: 0.5116 - val_acc: 0.8280\n",
            "Epoch 10/15\n",
            "63/63 [==============================] - 0s 2ms/step - loss: 0.2759 - acc: 0.9095 - val_loss: 0.6769 - val_acc: 0.7900\n",
            "Epoch 11/15\n",
            "63/63 [==============================] - 0s 3ms/step - loss: 0.2987 - acc: 0.8925 - val_loss: 0.5753 - val_acc: 0.8190\n",
            "Epoch 12/15\n",
            "63/63 [==============================] - 0s 3ms/step - loss: 0.2997 - acc: 0.8960 - val_loss: 0.5680 - val_acc: 0.8080\n",
            "Epoch 13/15\n",
            "63/63 [==============================] - 0s 3ms/step - loss: 0.3053 - acc: 0.8900 - val_loss: 0.6265 - val_acc: 0.8100\n",
            "Epoch 14/15\n",
            "63/63 [==============================] - 0s 3ms/step - loss: 0.2436 - acc: 0.9135 - val_loss: 0.5568 - val_acc: 0.8410\n",
            "Epoch 15/15\n",
            "63/63 [==============================] - 0s 3ms/step - loss: 0.2487 - acc: 0.9115 - val_loss: 0.5738 - val_acc: 0.8280\n"
          ],
          "name": "stdout"
        },
        {
          "output_type": "execute_result",
          "data": {
            "text/plain": [
              "<keras.callbacks.History at 0x7fd2e926e650>"
            ]
          },
          "metadata": {},
          "execution_count": 26
        }
      ]
    }
  ]
}