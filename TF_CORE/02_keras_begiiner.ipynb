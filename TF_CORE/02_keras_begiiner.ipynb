{
  "nbformat": 4,
  "nbformat_minor": 0,
  "metadata": {
    "colab": {
      "name": "02.keras_begiiner.ipynb",
      "provenance": [],
      "collapsed_sections": []
    },
    "kernelspec": {
      "name": "python3",
      "display_name": "Python 3"
    },
    "language_info": {
      "name": "python"
    },
    "accelerator": "GPU"
  },
  "cells": [
    {
      "cell_type": "code",
      "metadata": {
        "id": "y_hfVzxfZCwg",
        "colab": {
          "base_uri": "https://localhost:8080/"
        },
        "outputId": "7a69e3f4-6eee-42a6-f621-f1b47139de53"
      },
      "source": [
        "import tensorflow\n",
        "import numpy as np\n",
        "print(tensorflow.__version__)"
      ],
      "execution_count": 1,
      "outputs": [
        {
          "output_type": "stream",
          "text": [
            "2.5.0\n"
          ],
          "name": "stdout"
        }
      ]
    },
    {
      "cell_type": "code",
      "metadata": {
        "id": "bq0TMtsRYQZN"
      },
      "source": [
        "from tensorflow.keras.datasets import imdb"
      ],
      "execution_count": 2,
      "outputs": []
    },
    {
      "cell_type": "code",
      "metadata": {
        "colab": {
          "base_uri": "https://localhost:8080/"
        },
        "id": "aAnV3TiuYUQo",
        "outputId": "977501af-7f9b-4c65-d2ee-b4319abc6c3c"
      },
      "source": [
        "(tr_data, tr_cls), (te_data, te_cls) = imdb.load_data(num_words = 10000)"
      ],
      "execution_count": 3,
      "outputs": [
        {
          "output_type": "stream",
          "text": [
            "Downloading data from https://storage.googleapis.com/tensorflow/tf-keras-datasets/imdb.npz\n",
            "17465344/17464789 [==============================] - 0s 0us/step\n"
          ],
          "name": "stdout"
        },
        {
          "output_type": "stream",
          "text": [
            "<string>:6: VisibleDeprecationWarning: Creating an ndarray from ragged nested sequences (which is a list-or-tuple of lists-or-tuples-or ndarrays with different lengths or shapes) is deprecated. If you meant to do this, you must specify 'dtype=object' when creating the ndarray\n",
            "/usr/local/lib/python3.7/dist-packages/tensorflow/python/keras/datasets/imdb.py:155: VisibleDeprecationWarning: Creating an ndarray from ragged nested sequences (which is a list-or-tuple of lists-or-tuples-or ndarrays with different lengths or shapes) is deprecated. If you meant to do this, you must specify 'dtype=object' when creating the ndarray\n",
            "  x_train, y_train = np.array(xs[:idx]), np.array(labels[:idx])\n",
            "/usr/local/lib/python3.7/dist-packages/tensorflow/python/keras/datasets/imdb.py:156: VisibleDeprecationWarning: Creating an ndarray from ragged nested sequences (which is a list-or-tuple of lists-or-tuples-or ndarrays with different lengths or shapes) is deprecated. If you meant to do this, you must specify 'dtype=object' when creating the ndarray\n",
            "  x_test, y_test = np.array(xs[idx:]), np.array(labels[idx:])\n"
          ],
          "name": "stderr"
        }
      ]
    },
    {
      "cell_type": "markdown",
      "metadata": {
        "id": "dlLesI2ka6vL"
      },
      "source": [
        "#### num_words는 사용할 vocab의 숫자이다. 크게 설정할 수록 적게 등장한 단어까지 사용한다."
      ]
    },
    {
      "cell_type": "code",
      "metadata": {
        "colab": {
          "base_uri": "https://localhost:8080/"
        },
        "id": "J3kbInQka4c6",
        "outputId": "c1cffd0c-271f-4e12-b31a-99419c70eac1"
      },
      "source": [
        "tr_data.shape, te_data.shape"
      ],
      "execution_count": 4,
      "outputs": [
        {
          "output_type": "execute_result",
          "data": {
            "text/plain": [
              "((25000,), (25000,))"
            ]
          },
          "metadata": {
            "tags": []
          },
          "execution_count": 4
        }
      ]
    },
    {
      "cell_type": "markdown",
      "metadata": {
        "id": "pIR_2lt0bK_U"
      },
      "source": [
        "#### 학습 데이터가 25,000개 테스트 데이터가 25,000개가 있다."
      ]
    },
    {
      "cell_type": "code",
      "metadata": {
        "colab": {
          "base_uri": "https://localhost:8080/"
        },
        "id": "_Oe-PX_jbKA7",
        "outputId": "7b707a2a-f62b-40e0-c56f-64e7fc8c4788"
      },
      "source": [
        "tr_data[0][:10]"
      ],
      "execution_count": 5,
      "outputs": [
        {
          "output_type": "execute_result",
          "data": {
            "text/plain": [
              "[1, 14, 22, 16, 43, 530, 973, 1622, 1385, 65]"
            ]
          },
          "metadata": {
            "tags": []
          },
          "execution_count": 5
        }
      ]
    },
    {
      "cell_type": "markdown",
      "metadata": {
        "id": "YdlTZbYAb_kI"
      },
      "source": [
        "#### 실제 텍스트 데이터는 토큰화를 통해서 인코딩을 해야하지만 이미 되어있는 것을 알 수 있다."
      ]
    },
    {
      "cell_type": "code",
      "metadata": {
        "id": "nvMcpKlWjI0j"
      },
      "source": [
        "from tensorflow.keras.preprocessing.sequence import pad_sequences"
      ],
      "execution_count": 6,
      "outputs": []
    },
    {
      "cell_type": "code",
      "metadata": {
        "id": "qiJydtY8jMVN"
      },
      "source": [
        "train = pad_sequences(tr_data, padding = 'post', maxlen = 256)"
      ],
      "execution_count": 7,
      "outputs": []
    },
    {
      "cell_type": "code",
      "metadata": {
        "id": "eg2-SgI2bHCD"
      },
      "source": [
        "test = pad_sequences(te_data, padding = 'post', maxlen = 256)"
      ],
      "execution_count": 8,
      "outputs": []
    },
    {
      "cell_type": "markdown",
      "metadata": {
        "id": "Z8PKDveajd3A"
      },
      "source": [
        "#### pad_sequence로 정수 텐서를 만들어 임베딩층에 사용한다."
      ]
    },
    {
      "cell_type": "code",
      "metadata": {
        "id": "USY9LGp5i9Ke"
      },
      "source": [
        "from tensorflow.keras.models import Sequential, load_model\n",
        "from tensorflow.keras.layers import GlobalMaxPooling1D, Dense, Embedding, Conv1D, LSTM, GRU, Dropout, BatchNormalization\n",
        "from tensorflow.keras.callbacks import EarlyStopping, ModelCheckpoint"
      ],
      "execution_count": 40,
      "outputs": []
    },
    {
      "cell_type": "code",
      "metadata": {
        "id": "mLFfIoH0bFbT"
      },
      "source": [
        "vocab_size = 10000"
      ],
      "execution_count": 10,
      "outputs": []
    },
    {
      "cell_type": "code",
      "metadata": {
        "id": "6VopRVz1jvt-"
      },
      "source": [
        "model = Sequential()\n",
        "model.add(Embedding(vocab_size, 32, input_shape = (None, )))\n",
        "model.add(Conv1D(32, 3, padding = 'same', activation = 'swish'))\n",
        "model.add(Dropout(.3))\n",
        "model.add(GlobalMaxPooling1D())\n",
        "model.add(Dense(8, activation = 'relu'))\n",
        "model.add(Dense(1, activation = 'sigmoid'))"
      ],
      "execution_count": 34,
      "outputs": []
    },
    {
      "cell_type": "markdown",
      "metadata": {
        "id": "0ejbFesO4GGg"
      },
      "source": [
        "#### 공식 홈페이지에는 AveragePooling만 하고 Dense층으로 보내는데 우선 Conv1D를 사용해봄."
      ]
    },
    {
      "cell_type": "code",
      "metadata": {
        "colab": {
          "base_uri": "https://localhost:8080/"
        },
        "id": "jxr5XvGKkY-I",
        "outputId": "1c2c5e4b-e0da-4c2e-86eb-7c8813332e62"
      },
      "source": [
        "model.summary()"
      ],
      "execution_count": 35,
      "outputs": [
        {
          "output_type": "stream",
          "text": [
            "Model: \"sequential_6\"\n",
            "_________________________________________________________________\n",
            "Layer (type)                 Output Shape              Param #   \n",
            "=================================================================\n",
            "embedding_6 (Embedding)      (None, None, 32)          320000    \n",
            "_________________________________________________________________\n",
            "conv1d_6 (Conv1D)            (None, None, 32)          3104      \n",
            "_________________________________________________________________\n",
            "dropout_6 (Dropout)          (None, None, 32)          0         \n",
            "_________________________________________________________________\n",
            "global_max_pooling1d_1 (Glob (None, 32)                0         \n",
            "_________________________________________________________________\n",
            "dense_10 (Dense)             (None, 8)                 264       \n",
            "_________________________________________________________________\n",
            "dense_11 (Dense)             (None, 1)                 9         \n",
            "=================================================================\n",
            "Total params: 323,377\n",
            "Trainable params: 323,377\n",
            "Non-trainable params: 0\n",
            "_________________________________________________________________\n"
          ],
          "name": "stdout"
        }
      ]
    },
    {
      "cell_type": "code",
      "metadata": {
        "id": "PquimmTckgwk"
      },
      "source": [
        "model.compile(optimizer = 'adam', loss = 'binary_crossentropy', metrics = ['acc'])"
      ],
      "execution_count": 36,
      "outputs": []
    },
    {
      "cell_type": "code",
      "metadata": {
        "id": "SFv1ZIwWk1AY"
      },
      "source": [
        "es = EarlyStopping(monitor = 'val_acc', patience = 5, mode = 'max', verbose = 1)\n",
        "mc = ModelCheckpoint('tf_core.h5', monitor = 'val_acc', patience = 5, save_best_only = True, mode = 'max', verbose = 1)"
      ],
      "execution_count": 37,
      "outputs": []
    },
    {
      "cell_type": "code",
      "metadata": {
        "colab": {
          "base_uri": "https://localhost:8080/"
        },
        "id": "2717IqvVkpX2",
        "outputId": "97c46d4e-1a55-4e53-b718-d0bac4a5724c"
      },
      "source": [
        "history = model.fit(train, tr_cls, batch_size = 256, epochs = 50, validation_split = .2, callbacks = [es, mc])"
      ],
      "execution_count": 38,
      "outputs": [
        {
          "output_type": "stream",
          "text": [
            "Epoch 1/50\n",
            "79/79 [==============================] - 3s 29ms/step - loss: 0.6779 - acc: 0.6644 - val_loss: 0.6408 - val_acc: 0.7798\n",
            "\n",
            "Epoch 00001: val_acc improved from -inf to 0.77980, saving model to tf_core.h5\n",
            "Epoch 2/50\n",
            "79/79 [==============================] - 2s 25ms/step - loss: 0.4966 - acc: 0.8021 - val_loss: 0.4113 - val_acc: 0.8316\n",
            "\n",
            "Epoch 00002: val_acc improved from 0.77980 to 0.83160, saving model to tf_core.h5\n",
            "Epoch 3/50\n",
            "79/79 [==============================] - 2s 26ms/step - loss: 0.3278 - acc: 0.8600 - val_loss: 0.3386 - val_acc: 0.8600\n",
            "\n",
            "Epoch 00003: val_acc improved from 0.83160 to 0.86000, saving model to tf_core.h5\n",
            "Epoch 4/50\n",
            "79/79 [==============================] - 2s 26ms/step - loss: 0.2520 - acc: 0.8982 - val_loss: 0.3049 - val_acc: 0.8748\n",
            "\n",
            "Epoch 00004: val_acc improved from 0.86000 to 0.87480, saving model to tf_core.h5\n",
            "Epoch 5/50\n",
            "79/79 [==============================] - 2s 26ms/step - loss: 0.1978 - acc: 0.9238 - val_loss: 0.2913 - val_acc: 0.8782\n",
            "\n",
            "Epoch 00005: val_acc improved from 0.87480 to 0.87820, saving model to tf_core.h5\n",
            "Epoch 6/50\n",
            "79/79 [==============================] - 2s 26ms/step - loss: 0.1531 - acc: 0.9459 - val_loss: 0.2849 - val_acc: 0.8792\n",
            "\n",
            "Epoch 00006: val_acc improved from 0.87820 to 0.87920, saving model to tf_core.h5\n",
            "Epoch 7/50\n",
            "79/79 [==============================] - 2s 25ms/step - loss: 0.1141 - acc: 0.9624 - val_loss: 0.2839 - val_acc: 0.8864\n",
            "\n",
            "Epoch 00007: val_acc improved from 0.87920 to 0.88640, saving model to tf_core.h5\n",
            "Epoch 8/50\n",
            "79/79 [==============================] - 2s 26ms/step - loss: 0.0894 - acc: 0.9716 - val_loss: 0.2941 - val_acc: 0.8868\n",
            "\n",
            "Epoch 00008: val_acc improved from 0.88640 to 0.88680, saving model to tf_core.h5\n",
            "Epoch 9/50\n",
            "79/79 [==============================] - 2s 27ms/step - loss: 0.0643 - acc: 0.9813 - val_loss: 0.3015 - val_acc: 0.8840\n",
            "\n",
            "Epoch 00009: val_acc did not improve from 0.88680\n",
            "Epoch 10/50\n",
            "79/79 [==============================] - 2s 26ms/step - loss: 0.0491 - acc: 0.9862 - val_loss: 0.3119 - val_acc: 0.8840\n",
            "\n",
            "Epoch 00010: val_acc did not improve from 0.88680\n",
            "Epoch 11/50\n",
            "79/79 [==============================] - 2s 26ms/step - loss: 0.0378 - acc: 0.9903 - val_loss: 0.3329 - val_acc: 0.8788\n",
            "\n",
            "Epoch 00011: val_acc did not improve from 0.88680\n",
            "Epoch 12/50\n",
            "79/79 [==============================] - 2s 26ms/step - loss: 0.0285 - acc: 0.9930 - val_loss: 0.3459 - val_acc: 0.8812\n",
            "\n",
            "Epoch 00012: val_acc did not improve from 0.88680\n",
            "Epoch 13/50\n",
            "79/79 [==============================] - 2s 26ms/step - loss: 0.0220 - acc: 0.9951 - val_loss: 0.3607 - val_acc: 0.8792\n",
            "\n",
            "Epoch 00013: val_acc did not improve from 0.88680\n",
            "Epoch 00013: early stopping\n"
          ],
          "name": "stdout"
        }
      ]
    },
    {
      "cell_type": "code",
      "metadata": {
        "id": "oBjd-QwbkBYP"
      },
      "source": [
        "use_model = load_model('tf_core.h5')"
      ],
      "execution_count": 41,
      "outputs": []
    },
    {
      "cell_type": "markdown",
      "metadata": {
        "id": "mGePv8S130W0"
      },
      "source": [
        "#### 가장 성능이 좋았던 모델을 load한다."
      ]
    },
    {
      "cell_type": "code",
      "metadata": {
        "id": "7Z-3tIdS3ZQR"
      },
      "source": [
        "pred = use_model.predict(test)"
      ],
      "execution_count": 44,
      "outputs": []
    },
    {
      "cell_type": "code",
      "metadata": {
        "id": "59YchJx33eDy"
      },
      "source": [
        "cls = [1 if p >= .5 else 0 for p in pred]"
      ],
      "execution_count": 45,
      "outputs": []
    },
    {
      "cell_type": "code",
      "metadata": {
        "id": "dBKSPDyf3hlO"
      },
      "source": [
        "from sklearn.metrics import accuracy_score"
      ],
      "execution_count": 47,
      "outputs": []
    },
    {
      "cell_type": "code",
      "metadata": {
        "id": "jAf5SQGo3kbG"
      },
      "source": [
        "acc = accuracy_score(te_cls, cls)"
      ],
      "execution_count": 49,
      "outputs": []
    },
    {
      "cell_type": "code",
      "metadata": {
        "colab": {
          "base_uri": "https://localhost:8080/"
        },
        "id": "wDvDoqcD3q7f",
        "outputId": "bb2ddb92-bf29-404d-a9fe-34cbc5d5e6ce"
      },
      "source": [
        "acc"
      ],
      "execution_count": 50,
      "outputs": [
        {
          "output_type": "execute_result",
          "data": {
            "text/plain": [
              "0.86988"
            ]
          },
          "metadata": {
            "tags": []
          },
          "execution_count": 50
        }
      ]
    },
    {
      "cell_type": "markdown",
      "metadata": {
        "id": "f2P3m-oz3w95"
      },
      "source": [
        "#### test데이터에 대해 약 87%의 정확도를 가지는 것을 알 수 있다."
      ]
    },
    {
      "cell_type": "code",
      "metadata": {
        "id": "zKT31JdM3bwX"
      },
      "source": [
        "import matplotlib.pyplot as plt\n",
        "%matplotlib inline"
      ],
      "execution_count": 51,
      "outputs": []
    },
    {
      "cell_type": "code",
      "metadata": {
        "id": "vd_sS9FI4SQg"
      },
      "source": [
        "acc = history.history['acc']\n",
        "val_acc = history.history['val_acc']\n",
        "loss = history.history['loss']\n",
        "val_loss = history.history['val_loss']"
      ],
      "execution_count": 53,
      "outputs": []
    },
    {
      "cell_type": "code",
      "metadata": {
        "id": "xyMTvZUm4c4b"
      },
      "source": [
        "epochs = range(1, len(acc) + 1)"
      ],
      "execution_count": 54,
      "outputs": []
    },
    {
      "cell_type": "code",
      "metadata": {
        "colab": {
          "base_uri": "https://localhost:8080/",
          "height": 279
        },
        "id": "icmWRTtr4jFh",
        "outputId": "4a2f93ff-e7aa-4398-e214-1c6dd144718b"
      },
      "source": [
        "plt.plot(epochs, acc, linestyle = ':', color = 'b', label = 'Train Acc')\n",
        "plt.plot(epochs, val_acc, linestyle = ':', color = 'r', label = 'Val Acc')\n",
        "plt.legend()\n",
        "plt.xlabel('epoch')\n",
        "plt.ylabel('acc')\n",
        "plt.show()"
      ],
      "execution_count": 56,
      "outputs": [
        {
          "output_type": "display_data",
          "data": {
            "image/png": "[encoded data removed]",
            "text/plain": [
              "<Figure size 432x288 with 1 Axes>"
            ]
          },
          "metadata": {
            "tags": [],
            "needs_background": "light"
          }
        }
      ]
    },
    {
      "cell_type": "code",
      "metadata": {
        "colab": {
          "base_uri": "https://localhost:8080/",
          "height": 280
        },
        "id": "GZvfPTP-48fE",
        "outputId": "3fddd625-efef-4b9a-9d7e-35d3117f63df"
      },
      "source": [
        "plt.plot(epochs, loss, linestyle = ':', color = 'b', label = 'Train Loss')\n",
        "plt.plot(epochs, val_loss, linestyle = ':', color = 'r', label = 'Val Loss')\n",
        "plt.legend()\n",
        "plt.xlabel('epoch')\n",
        "plt.ylabel('loss')\n",
        "plt.show()"
      ],
      "execution_count": 58,
      "outputs": [
        {
          "output_type": "display_data",
          "data": {
            "image/png": "[encoded data removed]",
            "text/plain": [
              "<Figure size 432x288 with 1 Axes>"
            ]
          },
          "metadata": {
            "tags": [],
            "needs_background": "light"
          }
        }
      ]
    }
  ]
}