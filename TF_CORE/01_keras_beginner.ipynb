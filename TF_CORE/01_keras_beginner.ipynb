{
 "cells": [
  {
   "cell_type": "markdown",
   "metadata": {},
   "source": [
    "# 첫 번째 신경망 훈련하기: 기초적인 분류 문제\n",
    "\n",
    "## 기본 : 이미지 분류"
   ]
  },
  {
   "cell_type": "code",
   "execution_count": 1,
   "metadata": {
    "colab": {
     "base_uri": "https://localhost:8080/"
    },
    "id": "G_Y7ii9eh3cu",
    "outputId": "eab81200-822b-460a-8f0a-3e65e8a87a9e"
   },
   "outputs": [
    {
     "name": "stdout",
     "output_type": "stream",
     "text": [
      "2.5.0\n"
     ]
    }
   ],
   "source": [
    "import tensorflow as tf\n",
    "\n",
    "import numpy as np\n",
    "import matplotlib.pyplot as plt\n",
    "%matplotlib inline\n",
    "\n",
    "print(tf.__version__)"
   ]
  },
  {
   "cell_type": "code",
   "execution_count": 2,
   "metadata": {
    "id": "UXH1btm-iIrp"
   },
   "outputs": [],
   "source": [
    "from tensorflow.keras.datasets import fashion_mnist"
   ]
  },
  {
   "cell_type": "code",
   "execution_count": 3,
   "metadata": {
    "colab": {
     "base_uri": "https://localhost:8080/"
    },
    "id": "UoHfwYB4iO5o",
    "outputId": "b0b591b3-cc0b-4bf6-8336-d2b9447630c8"
   },
   "outputs": [
    {
     "name": "stdout",
     "output_type": "stream",
     "text": [
      "Downloading data from https://storage.googleapis.com/tensorflow/tf-keras-datasets/train-labels-idx1-ubyte.gz\n",
      "32768/29515 [=================================] - 0s 0us/step\n",
      "Downloading data from https://storage.googleapis.com/tensorflow/tf-keras-datasets/train-images-idx3-ubyte.gz\n",
      "26427392/26421880 [==============================] - 0s 0us/step\n",
      "Downloading data from https://storage.googleapis.com/tensorflow/tf-keras-datasets/t10k-labels-idx1-ubyte.gz\n",
      "8192/5148 [===============================================] - 0s 0us/step\n",
      "Downloading data from https://storage.googleapis.com/tensorflow/tf-keras-datasets/t10k-images-idx3-ubyte.gz\n",
      "4423680/4422102 [==============================] - 0s 0us/step\n"
     ]
    }
   ],
   "source": [
    "(tr_img, tr_cls), (te_img, te_cls) = fashion_mnist.load_data()"
   ]
  },
  {
   "cell_type": "code",
   "execution_count": 8,
   "metadata": {
    "colab": {
     "base_uri": "https://localhost:8080/"
    },
    "id": "IAfheIbMiVSp",
    "outputId": "62eb7d4f-31aa-4cc3-8042-49d7a39913c7"
   },
   "outputs": [
    {
     "data": {
      "text/plain": [
       "(numpy.ndarray, numpy.ndarray, numpy.ndarray, numpy.ndarray)"
      ]
     },
     "execution_count": 8,
     "metadata": {
      "tags": []
     },
     "output_type": "execute_result"
    }
   ],
   "source": [
    "type(tr_img), type(tr_cls), type(te_img), type(te_cls)"
   ]
  },
  {
   "cell_type": "markdown",
   "metadata": {
    "id": "b4fRNmM1i0y3"
   },
   "source": [
    "#### 데이터가 모두 넘파이 배열로 이루어 진 것을 알 수 있다."
   ]
  },
  {
   "cell_type": "code",
   "execution_count": 13,
   "metadata": {
    "colab": {
     "base_uri": "https://localhost:8080/"
    },
    "id": "kSLhstipi4Xq",
    "outputId": "9967662f-1730-45c6-abcb-f36ec0eecbdd"
   },
   "outputs": [
    {
     "data": {
      "text/plain": [
       "(255, 0, 255, 0)"
      ]
     },
     "execution_count": 13,
     "metadata": {
      "tags": []
     },
     "output_type": "execute_result"
    }
   ],
   "source": [
    "tr_img[0].max(), tr_img[0].min(), te_img[0].max(), te_img[0].min()"
   ]
  },
  {
   "cell_type": "markdown",
   "metadata": {
    "id": "uSho3pZRjlRS"
   },
   "source": [
    "#### 데이터의 픽셀 값은 0 ~ 255 사이다. 이는 RGB채널의 최댓값이 255이기 때문이다."
   ]
  },
  {
   "cell_type": "code",
   "execution_count": 16,
   "metadata": {
    "colab": {
     "base_uri": "https://localhost:8080/"
    },
    "id": "UThBWrrMjowt",
    "outputId": "1d66c257-4ccc-43ac-c915-e79c73584518"
   },
   "outputs": [
    {
     "data": {
      "text/plain": [
       "(array([0, 1, 2, 3, 4, 5, 6, 7, 8, 9], dtype=uint8),\n",
       " array([0, 1, 2, 3, 4, 5, 6, 7, 8, 9], dtype=uint8))"
      ]
     },
     "execution_count": 16,
     "metadata": {
      "tags": []
     },
     "output_type": "execute_result"
    }
   ],
   "source": [
    "np.unique(tr_cls), np.unique(te_cls)"
   ]
  },
  {
   "cell_type": "markdown",
   "metadata": {
    "id": "Jx0ScDz4juJl"
   },
   "source": [
    "#### 예측 대상인 이미지의 클래스는 0 ~ 9사이의 정수 값이다."
   ]
  },
  {
   "cell_type": "code",
   "execution_count": 17,
   "metadata": {
    "colab": {
     "base_uri": "https://localhost:8080/"
    },
    "id": "TmOPEZB1jtfz",
    "outputId": "682c986d-a9e1-404a-ff6b-bec64a72c8f4"
   },
   "outputs": [
    {
     "data": {
      "text/plain": [
       "((60000, 28, 28), (10000, 28, 28))"
      ]
     },
     "execution_count": 17,
     "metadata": {
      "tags": []
     },
     "output_type": "execute_result"
    }
   ],
   "source": [
    "tr_img.shape, te_img.shape"
   ]
  },
  {
   "cell_type": "markdown",
   "metadata": {
    "id": "Ht1kZOzCj36_"
   },
   "source": [
    "#### train 데이터는 60,000장이고 test 데이터는 10,000장이다."
   ]
  },
  {
   "cell_type": "code",
   "execution_count": 18,
   "metadata": {
    "colab": {
     "base_uri": "https://localhost:8080/",
     "height": 265
    },
    "id": "TqK772W9j8BO",
    "outputId": "f6e9c491-b94f-4462-8fe1-8eb55647ca91"
   },
   "outputs": [
    {
     "data": {
      "image/png": "[encoded data removed]",
      "text/plain": [
       "<Figure size 432x288 with 2 Axes>"
      ]
     },
     "metadata": {
      "needs_background": "light",
      "tags": []
     },
     "output_type": "display_data"
    }
   ],
   "source": [
    "plt.imshow(tr_img[2021])\n",
    "plt.colorbar()\n",
    "plt.show()"
   ]
  },
  {
   "cell_type": "code",
   "execution_count": 21,
   "metadata": {
    "id": "biypoPvMkwru"
   },
   "outputs": [],
   "source": [
    "tr_img = tr_img / 255.0\n",
    "te_img = te_img / 255.0"
   ]
  },
  {
   "cell_type": "markdown",
   "metadata": {
    "id": "fuYkE4f3lc0q"
   },
   "source": [
    "#### 신경망은 input 값이 0 ~ 1 사이일 때 성능이 좋으므로 최댓값인 255로 나누어 준다. 단, train 데이터에 적용한 전처리 방식을 그대로 test 데이터에 적용해야한다."
   ]
  },
  {
   "cell_type": "code",
   "execution_count": 23,
   "metadata": {
    "id": "DBVpaiSsiuM_"
   },
   "outputs": [],
   "source": [
    "from tensorflow.keras.models import Sequential\n",
    "from tensorflow.keras.layers import Dense, Flatten"
   ]
  },
  {
   "cell_type": "code",
   "execution_count": 24,
   "metadata": {
    "id": "BdqFQw3cmJ_A"
   },
   "outputs": [],
   "source": [
    "model = Sequential()\n",
    "model.add(Flatten(input_shape = (28, 28)))\n",
    "model.add(Dense(128, activation = 'swish'))\n",
    "model.add(Dense(10, activation = 'softmax'))"
   ]
  },
  {
   "cell_type": "markdown",
   "metadata": {
    "id": "90LUYBDymTWJ"
   },
   "source": [
    "#### 모델의 첫 번째 층은 Flatten은 28 x 28 2차원 배열을 28 * 28 = 784 픽셀의 1차원 배열로 변환한다. \n",
    "\n",
    "#### 두 번째 층에 input이 전달될 때 128개의 노드를 가진 값이 전달된다.\n",
    "\n",
    "#### 마지막 층은 최종 예측값을 출력하는 것으로 우리가 예측할 데이터의 클래스 개수는 10개이므로 10개노드에 대해 출력하고 softmax 활성화 함수를 사용한다. \n",
    "\n"
   ]
  },
  {
   "cell_type": "code",
   "execution_count": 26,
   "metadata": {
    "id": "yQDrYFrCmS2F"
   },
   "outputs": [],
   "source": [
    "model.compile(optimizer = 'adam', loss = 'sparse_categorical_crossentropy', metrics = ['acc'])"
   ]
  },
  {
   "cell_type": "markdown",
   "metadata": {
    "id": "HyEenveeoEqE"
   },
   "source": [
    "#### 모델을 학습시키기 전에 **손실 함수**, **옵티마이저**, **지표**를 설정해야한다."
   ]
  },
  {
   "cell_type": "code",
   "execution_count": 27,
   "metadata": {
    "colab": {
     "base_uri": "https://localhost:8080/"
    },
    "id": "DlzEX5UHoEGn",
    "outputId": "eb52570d-acfb-439b-8642-012a63231ba7"
   },
   "outputs": [
    {
     "name": "stdout",
     "output_type": "stream",
     "text": [
      "Epoch 1/10\n",
      "750/750 [==============================] - 5s 3ms/step - loss: 0.5381 - acc: 0.8151 - val_loss: 0.4877 - val_acc: 0.8251\n",
      "Epoch 2/10\n",
      "750/750 [==============================] - 2s 2ms/step - loss: 0.3989 - acc: 0.8573 - val_loss: 0.3926 - val_acc: 0.8589\n",
      "Epoch 3/10\n",
      "750/750 [==============================] - 2s 2ms/step - loss: 0.3521 - acc: 0.8727 - val_loss: 0.3661 - val_acc: 0.8675\n",
      "Epoch 4/10\n",
      "750/750 [==============================] - 2s 2ms/step - loss: 0.3236 - acc: 0.8824 - val_loss: 0.3422 - val_acc: 0.8758\n",
      "Epoch 5/10\n",
      "750/750 [==============================] - 2s 2ms/step - loss: 0.3028 - acc: 0.8891 - val_loss: 0.3431 - val_acc: 0.8733\n",
      "Epoch 6/10\n",
      "750/750 [==============================] - 2s 2ms/step - loss: 0.2864 - acc: 0.8928 - val_loss: 0.3349 - val_acc: 0.8792\n",
      "Epoch 7/10\n",
      "750/750 [==============================] - 2s 2ms/step - loss: 0.2706 - acc: 0.8996 - val_loss: 0.3436 - val_acc: 0.8808\n",
      "Epoch 8/10\n",
      "750/750 [==============================] - 2s 2ms/step - loss: 0.2580 - acc: 0.9043 - val_loss: 0.3326 - val_acc: 0.8798\n",
      "Epoch 9/10\n",
      "750/750 [==============================] - 2s 2ms/step - loss: 0.2472 - acc: 0.9088 - val_loss: 0.3212 - val_acc: 0.8869\n",
      "Epoch 10/10\n",
      "750/750 [==============================] - 2s 2ms/step - loss: 0.2381 - acc: 0.9117 - val_loss: 0.3244 - val_acc: 0.8877\n"
     ]
    },
    {
     "data": {
      "text/plain": [
       "<tensorflow.python.keras.callbacks.History at 0x7fcb600a9290>"
      ]
     },
     "execution_count": 27,
     "metadata": {
      "tags": []
     },
     "output_type": "execute_result"
    }
   ],
   "source": [
    "model.fit(tr_img, tr_cls, epochs = 10, validation_split = 0.2, batch_size = 64)"
   ]
  },
  {
   "cell_type": "markdown",
   "metadata": {
    "id": "b9agbtKHpkWh"
   },
   "source": [
    "#### validation_split은 모델에 사용된 학습데이터 중에서 일정 비율을 validation용으로 사용한다. "
   ]
  },
  {
   "cell_type": "code",
   "execution_count": 29,
   "metadata": {
    "id": "2lf5np3ApXkR"
   },
   "outputs": [],
   "source": [
    "te_loss, te_acc = model.evaluate(te_img, te_cls, verbose = 0)"
   ]
  },
  {
   "cell_type": "code",
   "execution_count": 30,
   "metadata": {
    "colab": {
     "base_uri": "https://localhost:8080/"
    },
    "id": "WYkOv4Qmp2xu",
    "outputId": "a344edf8-a278-445e-8017-4a11953855a7"
   },
   "outputs": [
    {
     "name": "stdout",
     "output_type": "stream",
     "text": [
      "테스트 loss = 0.3545226454734802 / 테스트 acc = 0.8779000043869019\n"
     ]
    }
   ],
   "source": [
    "print(f\"테스트 loss = {te_loss} / 테스트 acc = {te_acc}\")"
   ]
  },
  {
   "cell_type": "markdown",
   "metadata": {
    "id": "yUX78lMHqUAQ"
   },
   "source": [
    "#### 테스트 데이터의 성능이 학습 데이터에서 보다 낮은 것을 알 수 있다.\n",
    "\n",
    "#### 다양한 이유로 모델의 과대적합이 발생할 수 있고 과대적합이 발생하면 성능이 안좋다."
   ]
  },
  {
   "cell_type": "code",
   "execution_count": 31,
   "metadata": {
    "id": "XTA62Y_3qEWI"
   },
   "outputs": [],
   "source": [
    "pred = model.predict(te_img)"
   ]
  },
  {
   "cell_type": "code",
   "execution_count": 33,
   "metadata": {
    "id": "W3U84WlZqnmT"
   },
   "outputs": [],
   "source": [
    "pred_cls = [np.argmax(p) for p in pred]"
   ]
  },
  {
   "cell_type": "code",
   "execution_count": 35,
   "metadata": {
    "colab": {
     "base_uri": "https://localhost:8080/"
    },
    "id": "v0l4dKA3qtLL",
    "outputId": "4573a96b-8cac-4640-b58f-85f7d29d9944"
   },
   "outputs": [
    {
     "data": {
      "text/plain": [
       "[9, 2, 1, 1, 6, 1, 4, 6, 5, 7]"
      ]
     },
     "execution_count": 35,
     "metadata": {
      "tags": []
     },
     "output_type": "execute_result"
    }
   ],
   "source": [
    "pred_cls[:10]"
   ]
  }
 ],
 "metadata": {
  "accelerator": "GPU",
  "colab": {
   "collapsed_sections": [],
   "name": "01.keras_beginner.ipynb",
   "provenance": []
  },
  "kernelspec": {
   "display_name": "Python 3",
   "language": "python",
   "name": "python3"
  },
  "language_info": {
   "codemirror_mode": {
    "name": "ipython",
    "version": 3
   },
   "file_extension": ".py",
   "mimetype": "text/x-python",
   "name": "python",
   "nbconvert_exporter": "python",
   "pygments_lexer": "ipython3",
   "version": "3.8.2"
  }
 },
 "nbformat": 4,
 "nbformat_minor": 1
}
