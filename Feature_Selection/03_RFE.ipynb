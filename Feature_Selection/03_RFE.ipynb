{
 "cells": [
  {
   "cell_type": "markdown",
   "id": "cd4e0892",
   "metadata": {},
   "source": [
    "# RFE(Recursive Feature Elimination)\n",
    "***\n",
    "\n",
    "- 모델을 학습하면서 모든 feature에 대해 중요하지 않은 feature를 제거해가며 최종적으로 원하는 개수만큼의 feature만 남기는 방법\n",
    "- 위의 이유로 인해 상당히 직관적인 feature selection이다."
   ]
  },
  {
   "cell_type": "code",
   "execution_count": 40,
   "id": "2c5a4ba3",
   "metadata": {},
   "outputs": [],
   "source": [
    "from sklearn.datasets import make_classification, load_breast_cancer\n",
    "from sklearn.model_selection import StratifiedKFold\n",
    "from sklearn.ensemble import RandomForestClassifier\n",
    "from sklearn.feature_selection import RFE, RFECV\n",
    "import pandas as pd"
   ]
  },
  {
   "cell_type": "code",
   "execution_count": 2,
   "id": "3beffe95",
   "metadata": {},
   "outputs": [],
   "source": [
    "X, y = make_classification(n_samples = 10000, n_features = 100, n_informative = 10, n_redundant = 2, random_state = 42)"
   ]
  },
  {
   "cell_type": "code",
   "execution_count": 5,
   "id": "fc89cd1d",
   "metadata": {},
   "outputs": [],
   "source": [
    "rf = RandomForestClassifier(random_state = 42)"
   ]
  },
  {
   "cell_type": "code",
   "execution_count": 6,
   "id": "c0994cfd",
   "metadata": {},
   "outputs": [],
   "source": [
    "rfe = RFE(estimator = rf, n_features_to_select = 20)"
   ]
  },
  {
   "cell_type": "code",
   "execution_count": 7,
   "id": "12e3ba9a",
   "metadata": {
    "scrolled": true
   },
   "outputs": [
    {
     "data": {
      "text/plain": [
       "RFE(estimator=RandomForestClassifier(random_state=42), n_features_to_select=20)"
      ]
     },
     "execution_count": 7,
     "metadata": {},
     "output_type": "execute_result"
    }
   ],
   "source": [
    "rfe.fit(X, y)"
   ]
  },
  {
   "cell_type": "code",
   "execution_count": 14,
   "id": "ceecfbf5",
   "metadata": {},
   "outputs": [
    {
     "data": {
      "text/plain": [
       "array([False, False, False, False,  True, False, False, False,  True,\n",
       "       False, False, False, False,  True, False, False,  True,  True,\n",
       "       False, False, False,  True, False, False,  True, False, False,\n",
       "       False, False, False,  True, False, False, False, False, False,\n",
       "       False, False, False, False,  True, False, False,  True,  True,\n",
       "       False, False, False, False, False, False,  True,  True, False,\n",
       "       False, False, False, False, False, False, False, False, False,\n",
       "       False,  True, False,  True, False, False, False,  True, False,\n",
       "       False, False, False, False, False, False,  True, False, False,\n",
       "       False, False, False, False, False, False, False,  True, False,\n",
       "       False,  True, False, False, False, False, False, False, False,\n",
       "        True])"
      ]
     },
     "execution_count": 14,
     "metadata": {},
     "output_type": "execute_result"
    }
   ],
   "source": [
    "rfe.get_support()"
   ]
  },
  {
   "cell_type": "markdown",
   "id": "a8086f2d",
   "metadata": {},
   "source": [
    "feaure의 index를 기준으로 boolean 형태로 생존(?) 여부를 반환한다."
   ]
  },
  {
   "cell_type": "code",
   "execution_count": 12,
   "id": "2dd5aa12",
   "metadata": {
    "scrolled": true
   },
   "outputs": [
    {
     "data": {
      "text/plain": [
       "array(['x4', 'x8', 'x13', 'x16', 'x17', 'x21', 'x24', 'x30', 'x40', 'x43',\n",
       "       'x44', 'x51', 'x52', 'x64', 'x66', 'x70', 'x78', 'x88', 'x91',\n",
       "       'x99'], dtype=object)"
      ]
     },
     "execution_count": 12,
     "metadata": {},
     "output_type": "execute_result"
    }
   ],
   "source": [
    "rfe.get_feature_names_out()"
   ]
  },
  {
   "cell_type": "markdown",
   "id": "dc64e096",
   "metadata": {},
   "source": [
    "RFE를 통해 선택된 feature명은 위와 같다."
   ]
  },
  {
   "cell_type": "code",
   "execution_count": 19,
   "id": "5f8ad6a4",
   "metadata": {},
   "outputs": [
    {
     "data": {
      "text/plain": [
       "array([22, 74, 19, 13,  1, 77, 33, 68,  1, 25, 36, 48, 17,  1, 16, 73,  1,\n",
       "        1, 44, 53, 62,  1, 60, 46,  1, 26, 32, 15, 52, 38,  1, 27, 41, 72,\n",
       "       54, 58, 29, 14, 21, 76,  1, 39, 80,  1,  1, 42,  2,  3, 20, 12, 79,\n",
       "        1,  1, 75, 11, 69, 50, 56, 65, 30, 31, 24,  4, 59,  1, 63,  1,  6,\n",
       "       28, 34,  1, 43,  8, 81, 71, 61, 37, 35,  1, 70, 23, 64, 67, 40, 45,\n",
       "       66, 10, 47,  1, 51, 49,  1, 55, 18, 78,  5, 57,  9,  7,  1])"
      ]
     },
     "execution_count": 19,
     "metadata": {},
     "output_type": "execute_result"
    }
   ],
   "source": [
    "rfe.ranking_"
   ]
  },
  {
   "cell_type": "markdown",
   "id": "b156cd80",
   "metadata": {},
   "source": [
    "각 feature의 index를 feature의 랭킹 형태로 반환하며 선택된 feature는 1로 표시된다.\n",
    "\n",
    "뿐만 아니라 RFE는 cross-validation 형태로도 사용이 가능하다."
   ]
  },
  {
   "cell_type": "code",
   "execution_count": 21,
   "id": "e96d6e4e",
   "metadata": {},
   "outputs": [],
   "source": [
    "data = load_breast_cancer()"
   ]
  },
  {
   "cell_type": "code",
   "execution_count": 41,
   "id": "3b4b4f47",
   "metadata": {},
   "outputs": [],
   "source": [
    "X = pd.DataFrame(data.data, columns = data.feature_names)"
   ]
  },
  {
   "cell_type": "code",
   "execution_count": 42,
   "id": "d9300352",
   "metadata": {},
   "outputs": [],
   "source": [
    "y = data.target"
   ]
  },
  {
   "cell_type": "code",
   "execution_count": 30,
   "id": "74a158c8",
   "metadata": {},
   "outputs": [],
   "source": [
    "skf = StratifiedKFold(n_splits = 10, random_state = 42, shuffle = True)"
   ]
  },
  {
   "cell_type": "code",
   "execution_count": 31,
   "id": "fc6c871c",
   "metadata": {},
   "outputs": [],
   "source": [
    "rfe = RFECV(estimator = rf, cv = skf)"
   ]
  },
  {
   "cell_type": "code",
   "execution_count": 43,
   "id": "1765aadb",
   "metadata": {},
   "outputs": [
    {
     "data": {
      "text/plain": [
       "RFECV(cv=StratifiedKFold(n_splits=10, random_state=42, shuffle=True),\n",
       "      estimator=RandomForestClassifier(random_state=42))"
      ]
     },
     "execution_count": 43,
     "metadata": {},
     "output_type": "execute_result"
    }
   ],
   "source": [
    "rfe.fit(X, y)"
   ]
  },
  {
   "cell_type": "code",
   "execution_count": 44,
   "id": "460bf166",
   "metadata": {},
   "outputs": [],
   "source": [
    "rfe_X = rfe.transform(X)"
   ]
  },
  {
   "cell_type": "code",
   "execution_count": 55,
   "id": "e1f8f7e1",
   "metadata": {},
   "outputs": [
    {
     "data": {
      "text/plain": [
       "26"
      ]
     },
     "execution_count": 55,
     "metadata": {},
     "output_type": "execute_result"
    }
   ],
   "source": [
    "len(rfe.get_feature_names_out())"
   ]
  },
  {
   "cell_type": "code",
   "execution_count": 56,
   "id": "c2044332",
   "metadata": {},
   "outputs": [
    {
     "data": {
      "text/plain": [
       "30"
      ]
     },
     "execution_count": 56,
     "metadata": {},
     "output_type": "execute_result"
    }
   ],
   "source": [
    "len(X.columns)"
   ]
  }
 ],
 "metadata": {
  "kernelspec": {
   "display_name": "Python 3 (ipykernel)",
   "language": "python",
   "name": "python3"
  },
  "language_info": {
   "codemirror_mode": {
    "name": "ipython",
    "version": 3
   },
   "file_extension": ".py",
   "mimetype": "text/x-python",
   "name": "python",
   "nbconvert_exporter": "python",
   "pygments_lexer": "ipython3",
   "version": "3.8.10"
  }
 },
 "nbformat": 4,
 "nbformat_minor": 5
}
