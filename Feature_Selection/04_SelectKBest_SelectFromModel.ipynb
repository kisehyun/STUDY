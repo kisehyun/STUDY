{
 "cells": [
  {
   "cell_type": "markdown",
   "id": "311d41ca",
   "metadata": {},
   "source": [
    "# SelectKBest\n",
    "***\n",
    "\n",
    "- 예측하고자 하는 target 변수와 다른 feature들 간의 상관관계를 고려하여 가장 강한 상관관계를 가지는 변수 k개를 선정\n",
    "- 상관관계를 분석하는 방법으로는 f-regression, chi2, f-classif 등이 있다."
   ]
  },
  {
   "cell_type": "code",
   "execution_count": 46,
   "id": "0d0a905e",
   "metadata": {},
   "outputs": [],
   "source": [
    "import warnings\n",
    "warnings.filterwarnings('ignore')\n",
    "\n",
    "import pandas as pd\n",
    "\n",
    "from sklearn.datasets import load_breast_cancer, load_boston\n",
    "from sklearn.feature_selection import SelectKBest, chi2, f_regression, SelectFromModel\n",
    "from sklearn.model_selection import KFold, StratifiedKFold, cross_val_score\n",
    "from sklearn.ensemble import RandomForestClassifier, RandomForestRegressor"
   ]
  },
  {
   "cell_type": "markdown",
   "id": "98ad96cd",
   "metadata": {},
   "source": [
    "#### 1) Regression"
   ]
  },
  {
   "cell_type": "code",
   "execution_count": 35,
   "id": "adba58e0",
   "metadata": {},
   "outputs": [],
   "source": [
    "data = load_boston()"
   ]
  },
  {
   "cell_type": "code",
   "execution_count": 36,
   "id": "0587a115",
   "metadata": {},
   "outputs": [],
   "source": [
    "X = pd.DataFrame(data.data, columns = data.feature_names)\n",
    "y = data.target"
   ]
  },
  {
   "cell_type": "code",
   "execution_count": 37,
   "id": "ba3000d1",
   "metadata": {
    "scrolled": true
   },
   "outputs": [
    {
     "data": {
      "text/plain": [
       "(506, 13)"
      ]
     },
     "execution_count": 37,
     "metadata": {},
     "output_type": "execute_result"
    }
   ],
   "source": [
    "X.shape"
   ]
  },
  {
   "cell_type": "code",
   "execution_count": 38,
   "id": "3f0e86d8",
   "metadata": {},
   "outputs": [],
   "source": [
    "rf = RandomForestRegressor(random_state = 42)"
   ]
  },
  {
   "cell_type": "code",
   "execution_count": 39,
   "id": "924985c5",
   "metadata": {},
   "outputs": [],
   "source": [
    "sk = SelectKBest(f_regression, k = 10)\n",
    "sk_X = sk.fit_transform(X, y)"
   ]
  },
  {
   "cell_type": "code",
   "execution_count": 40,
   "id": "0f23f99f",
   "metadata": {
    "scrolled": true
   },
   "outputs": [
    {
     "data": {
      "text/plain": [
       "(506, 10)"
      ]
     },
     "execution_count": 40,
     "metadata": {},
     "output_type": "execute_result"
    }
   ],
   "source": [
    "sk_X.shape"
   ]
  },
  {
   "cell_type": "markdown",
   "id": "6e1863d9",
   "metadata": {},
   "source": [
    "SelectKBest에서 지정한 k개의 feature가 뽑힌다."
   ]
  },
  {
   "cell_type": "code",
   "execution_count": 41,
   "id": "6dd87862",
   "metadata": {},
   "outputs": [
    {
     "data": {
      "text/plain": [
       "Index(['CRIM', 'ZN', 'INDUS', 'CHAS', 'NOX', 'RM', 'AGE', 'DIS', 'RAD', 'TAX',\n",
       "       'PTRATIO', 'B', 'LSTAT'],\n",
       "      dtype='object')"
      ]
     },
     "execution_count": 41,
     "metadata": {},
     "output_type": "execute_result"
    }
   ],
   "source": [
    "X.columns"
   ]
  },
  {
   "cell_type": "code",
   "execution_count": 42,
   "id": "a1fbb19a",
   "metadata": {
    "scrolled": false
   },
   "outputs": [
    {
     "data": {
      "text/plain": [
       "array(['CRIM', 'ZN', 'INDUS', 'NOX', 'RM', 'AGE', 'RAD', 'TAX', 'PTRATIO',\n",
       "       'LSTAT'], dtype=object)"
      ]
     },
     "execution_count": 42,
     "metadata": {},
     "output_type": "execute_result"
    }
   ],
   "source": [
    "sk.get_feature_names_out()"
   ]
  },
  {
   "cell_type": "code",
   "execution_count": 43,
   "id": "18e85341",
   "metadata": {},
   "outputs": [],
   "source": [
    "rf_cv = cross_val_score(rf, sk_X, y, scoring = 'neg_mean_squared_error', cv = KFold())"
   ]
  },
  {
   "cell_type": "code",
   "execution_count": 45,
   "id": "3bad884a",
   "metadata": {},
   "outputs": [
    {
     "data": {
      "text/plain": [
       "21.959984864434084"
      ]
     },
     "execution_count": 45,
     "metadata": {},
     "output_type": "execute_result"
    }
   ],
   "source": [
    "abs(rf_cv.mean())"
   ]
  },
  {
   "cell_type": "markdown",
   "id": "2eaed952",
   "metadata": {},
   "source": [
    "***\n",
    "#### 2) Classification"
   ]
  },
  {
   "cell_type": "code",
   "execution_count": 69,
   "id": "e27c366e",
   "metadata": {},
   "outputs": [],
   "source": [
    "data = load_breast_cancer()"
   ]
  },
  {
   "cell_type": "code",
   "execution_count": 70,
   "id": "39eb04c4",
   "metadata": {},
   "outputs": [],
   "source": [
    "X = pd.DataFrame(data.data, columns = data.feature_names)\n",
    "y = data.target"
   ]
  },
  {
   "cell_type": "code",
   "execution_count": 71,
   "id": "bbc3734b",
   "metadata": {
    "scrolled": true
   },
   "outputs": [
    {
     "data": {
      "text/plain": [
       "(569, 30)"
      ]
     },
     "execution_count": 71,
     "metadata": {},
     "output_type": "execute_result"
    }
   ],
   "source": [
    "X.shape"
   ]
  },
  {
   "cell_type": "code",
   "execution_count": 72,
   "id": "a14932ee",
   "metadata": {},
   "outputs": [],
   "source": [
    "rf = RandomForestClassifier(random_state = 42)"
   ]
  },
  {
   "cell_type": "code",
   "execution_count": 73,
   "id": "c7c64819",
   "metadata": {},
   "outputs": [],
   "source": [
    "sk = SelectKBest(chi2, k = 10)\n",
    "sk_X = sk.fit_transform(X, y)"
   ]
  },
  {
   "cell_type": "code",
   "execution_count": 75,
   "id": "d889794f",
   "metadata": {},
   "outputs": [],
   "source": [
    "rf_cv = cross_val_score(rf, sk_X, y, scoring = 'roc_auc', cv = StratifiedKFold())"
   ]
  },
  {
   "cell_type": "code",
   "execution_count": 76,
   "id": "6e647cc1",
   "metadata": {},
   "outputs": [
    {
     "data": {
      "text/plain": [
       "0.9850525959373814"
      ]
     },
     "execution_count": 76,
     "metadata": {},
     "output_type": "execute_result"
    }
   ],
   "source": [
    "rf_cv.mean()"
   ]
  },
  {
   "cell_type": "markdown",
   "id": "dc37f534",
   "metadata": {},
   "source": [
    "***\n",
    "# SelectFromModel\n",
    "***\n",
    "- feature importance에서 지정한 임계치 보다 큰 feature들을 사용한다.\n",
    "- 트리 기반의 모델은 L1 규제(Lasso)를 일반적으로 사용한다.\n",
    "- 임계치는 중위값, 평균 등의 값으로 설정이 가능하다.\n",
    "- 단변량인 SelectKBest와 달리 모든 특성을 고려하므로 상호작용 부분을 반영 할 수 있다.\n",
    "***\n",
    "\n",
    "#### 1) Regression"
   ]
  },
  {
   "cell_type": "code",
   "execution_count": 84,
   "id": "2b8be862",
   "metadata": {},
   "outputs": [],
   "source": [
    "data = load_boston()"
   ]
  },
  {
   "cell_type": "code",
   "execution_count": 85,
   "id": "4949669f",
   "metadata": {},
   "outputs": [],
   "source": [
    "X = pd.DataFrame(data.data, columns = data.feature_names)\n",
    "y = data.target"
   ]
  },
  {
   "cell_type": "code",
   "execution_count": 86,
   "id": "3adadac0",
   "metadata": {
    "scrolled": true
   },
   "outputs": [
    {
     "data": {
      "text/plain": [
       "(506, 13)"
      ]
     },
     "execution_count": 86,
     "metadata": {},
     "output_type": "execute_result"
    }
   ],
   "source": [
    "X.shape"
   ]
  },
  {
   "cell_type": "code",
   "execution_count": 87,
   "id": "e410b12a",
   "metadata": {},
   "outputs": [],
   "source": [
    "rf = RandomForestRegressor(random_state = 42)"
   ]
  },
  {
   "cell_type": "code",
   "execution_count": 88,
   "id": "ce7dd926",
   "metadata": {},
   "outputs": [],
   "source": [
    "sfm = SelectFromModel(rf, threshold = 'median')"
   ]
  },
  {
   "cell_type": "code",
   "execution_count": 89,
   "id": "f141a313",
   "metadata": {},
   "outputs": [
    {
     "data": {
      "text/plain": [
       "SelectFromModel(estimator=RandomForestRegressor(random_state=42),\n",
       "                threshold='median')"
      ]
     },
     "execution_count": 89,
     "metadata": {},
     "output_type": "execute_result"
    }
   ],
   "source": [
    "sfm.fit(X, y)"
   ]
  },
  {
   "cell_type": "code",
   "execution_count": 90,
   "id": "20bca993",
   "metadata": {},
   "outputs": [],
   "source": [
    "sfm_cols = sfm.get_feature_names_out()"
   ]
  },
  {
   "cell_type": "code",
   "execution_count": 91,
   "id": "adaac819",
   "metadata": {},
   "outputs": [],
   "source": [
    "rf_cv = cross_val_score(rf, X[sfm_cols.tolist()], y, scoring = 'neg_mean_squared_error', cv = KFold())"
   ]
  },
  {
   "cell_type": "code",
   "execution_count": 92,
   "id": "e8a9a387",
   "metadata": {
    "scrolled": true
   },
   "outputs": [
    {
     "data": {
      "text/plain": [
       "20.981635685497956"
      ]
     },
     "execution_count": 92,
     "metadata": {},
     "output_type": "execute_result"
    }
   ],
   "source": [
    "abs(rf_cv.mean())"
   ]
  },
  {
   "cell_type": "markdown",
   "id": "669058c4",
   "metadata": {},
   "source": [
    "***\n",
    "#### 2) Classification"
   ]
  },
  {
   "cell_type": "code",
   "execution_count": 53,
   "id": "42bd90f4",
   "metadata": {},
   "outputs": [],
   "source": [
    "data = load_breast_cancer()"
   ]
  },
  {
   "cell_type": "code",
   "execution_count": 54,
   "id": "666f3c4e",
   "metadata": {},
   "outputs": [],
   "source": [
    "X = pd.DataFrame(data.data, columns = data.feature_names)\n",
    "y = data.target"
   ]
  },
  {
   "cell_type": "code",
   "execution_count": 55,
   "id": "fa532c07",
   "metadata": {
    "scrolled": true
   },
   "outputs": [
    {
     "data": {
      "text/plain": [
       "(569, 30)"
      ]
     },
     "execution_count": 55,
     "metadata": {},
     "output_type": "execute_result"
    }
   ],
   "source": [
    "X.shape"
   ]
  },
  {
   "cell_type": "code",
   "execution_count": 56,
   "id": "aafdf943",
   "metadata": {},
   "outputs": [],
   "source": [
    "rf = RandomForestClassifier(random_state = 42)"
   ]
  },
  {
   "cell_type": "code",
   "execution_count": 57,
   "id": "cd27e5d2",
   "metadata": {},
   "outputs": [],
   "source": [
    "sfm = SelectFromModel(rf, threshold = 'median')"
   ]
  },
  {
   "cell_type": "code",
   "execution_count": 58,
   "id": "0bef32f8",
   "metadata": {},
   "outputs": [
    {
     "data": {
      "text/plain": [
       "SelectFromModel(estimator=RandomForestClassifier(random_state=42),\n",
       "                threshold='median')"
      ]
     },
     "execution_count": 58,
     "metadata": {},
     "output_type": "execute_result"
    }
   ],
   "source": [
    "sfm.fit(X, y)"
   ]
  },
  {
   "cell_type": "code",
   "execution_count": 60,
   "id": "1294ae07",
   "metadata": {},
   "outputs": [],
   "source": [
    "sfm_cols = sfm.get_feature_names_out()"
   ]
  },
  {
   "cell_type": "code",
   "execution_count": 67,
   "id": "301c7bce",
   "metadata": {},
   "outputs": [],
   "source": [
    "rf_cv = cross_val_score(rf, X[sfm_cols.tolist()], y, scoring = 'roc_auc', cv = StratifiedKFold())"
   ]
  },
  {
   "cell_type": "code",
   "execution_count": 68,
   "id": "b0b53ddf",
   "metadata": {
    "scrolled": true
   },
   "outputs": [
    {
     "data": {
      "text/plain": [
       "0.9907208106520258"
      ]
     },
     "execution_count": 68,
     "metadata": {},
     "output_type": "execute_result"
    }
   ],
   "source": [
    "rf_cv.mean()"
   ]
  }
 ],
 "metadata": {
  "kernelspec": {
   "display_name": "Python 3 (ipykernel)",
   "language": "python",
   "name": "python3"
  },
  "language_info": {
   "codemirror_mode": {
    "name": "ipython",
    "version": 3
   },
   "file_extension": ".py",
   "mimetype": "text/x-python",
   "name": "python",
   "nbconvert_exporter": "python",
   "pygments_lexer": "ipython3",
   "version": "3.8.10"
  }
 },
 "nbformat": 4,
 "nbformat_minor": 5
}
