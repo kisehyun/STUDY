{
 "cells": [
  {
   "cell_type": "markdown",
   "id": "c3a0dcc4",
   "metadata": {},
   "source": [
    "# Boruta\n",
    "\n",
    "- ML task에서 적절한 feature selection은 매우 중요한 문제이다. feature 수가 너무 많을 경우 overfitting이 발생하게 되고 실제 예측해야 할 데이터에 대한 성능은 떨어질 수 밖에 없다.\n",
    "- 기존의 통계적 방법인 step 기법들은 계산량, 시간 등을 고려했을 때 큰 데이터셋에는 적절하지 않을 수 있다.\n",
    "- 또한 해당 도메인에 대한 이해가 수반되지 않을 경우 섣불리 feature selection을 하기에는 무리가 있다.\n",
    "- Boruta는 R 패키지 기반의 알고리즘으로 부스팅, 트리 계열 등 자체적인 feature importance를 제공하는 모델에 사용될 수 있다.\n",
    "\n",
    "***\n",
    "\n",
    "## 작동 원리\n",
    "\n",
    "- 기존의 column들을 복사한 새로운 feature(=shadow features)를 만든다.\n",
    "- 복사된 feature들은 기존 feature들의 값과 똑같기 때문에 랜덤하게 섞는다.(permute)\n",
    "- 모든 feature들을 concat한 후 모델(feature importance 제공) 학습을 한다.\n",
    "- 학습한 모델의 feature importance를 기반으로 shadow feature의 가장 큰 importance를 임계치로 설정하고 이보다 작은 importance를 가진 feature를 뺀다.\n",
    "- 앞선 과정들을 반복한다.\n",
    "***\n",
    "## 예제"
   ]
  },
  {
   "cell_type": "code",
   "execution_count": 1,
   "id": "2b725d46",
   "metadata": {},
   "outputs": [],
   "source": [
    "import pandas as pd\n",
    "from boruta import BorutaPy\n",
    "from sklearn.datasets import load_boston, load_breast_cancer\n",
    "from sklearn.model_selection import cross_val_score, KFold, StratifiedKFold\n",
    "from sklearn.metrics import mean_squared_error, accuracy_score\n",
    "from sklearn.ensemble import RandomForestClassifier, RandomForestRegressor"
   ]
  },
  {
   "cell_type": "markdown",
   "id": "ea3e656f",
   "metadata": {},
   "source": [
    "### 1) Regression"
   ]
  },
  {
   "cell_type": "code",
   "execution_count": 2,
   "id": "6e6cdabd",
   "metadata": {},
   "outputs": [],
   "source": [
    "boston = load_boston()"
   ]
  },
  {
   "cell_type": "code",
   "execution_count": 3,
   "id": "43439c21",
   "metadata": {},
   "outputs": [],
   "source": [
    "data = pd.DataFrame(boston.data, columns = boston.feature_names)"
   ]
  },
  {
   "cell_type": "code",
   "execution_count": 4,
   "id": "7f49b444",
   "metadata": {},
   "outputs": [],
   "source": [
    "data['target'] = boston.target"
   ]
  },
  {
   "cell_type": "code",
   "execution_count": 5,
   "id": "beb8a1a7",
   "metadata": {},
   "outputs": [
    {
     "data": {
      "text/html": [
       "<div>\n",
       "<style scoped>\n",
       "    .dataframe tbody tr th:only-of-type {\n",
       "        vertical-align: middle;\n",
       "    }\n",
       "\n",
       "    .dataframe tbody tr th {\n",
       "        vertical-align: top;\n",
       "    }\n",
       "\n",
       "    .dataframe thead th {\n",
       "        text-align: right;\n",
       "    }\n",
       "</style>\n",
       "<table border=\"1\" class=\"dataframe\">\n",
       "  <thead>\n",
       "    <tr style=\"text-align: right;\">\n",
       "      <th></th>\n",
       "      <th>CRIM</th>\n",
       "      <th>ZN</th>\n",
       "      <th>INDUS</th>\n",
       "      <th>CHAS</th>\n",
       "      <th>NOX</th>\n",
       "      <th>RM</th>\n",
       "      <th>AGE</th>\n",
       "      <th>DIS</th>\n",
       "      <th>RAD</th>\n",
       "      <th>TAX</th>\n",
       "      <th>PTRATIO</th>\n",
       "      <th>B</th>\n",
       "      <th>LSTAT</th>\n",
       "      <th>target</th>\n",
       "    </tr>\n",
       "  </thead>\n",
       "  <tbody>\n",
       "    <tr>\n",
       "      <th>0</th>\n",
       "      <td>0.00632</td>\n",
       "      <td>18.0</td>\n",
       "      <td>2.31</td>\n",
       "      <td>0.0</td>\n",
       "      <td>0.538</td>\n",
       "      <td>6.575</td>\n",
       "      <td>65.2</td>\n",
       "      <td>4.0900</td>\n",
       "      <td>1.0</td>\n",
       "      <td>296.0</td>\n",
       "      <td>15.3</td>\n",
       "      <td>396.90</td>\n",
       "      <td>4.98</td>\n",
       "      <td>24.0</td>\n",
       "    </tr>\n",
       "    <tr>\n",
       "      <th>1</th>\n",
       "      <td>0.02731</td>\n",
       "      <td>0.0</td>\n",
       "      <td>7.07</td>\n",
       "      <td>0.0</td>\n",
       "      <td>0.469</td>\n",
       "      <td>6.421</td>\n",
       "      <td>78.9</td>\n",
       "      <td>4.9671</td>\n",
       "      <td>2.0</td>\n",
       "      <td>242.0</td>\n",
       "      <td>17.8</td>\n",
       "      <td>396.90</td>\n",
       "      <td>9.14</td>\n",
       "      <td>21.6</td>\n",
       "    </tr>\n",
       "    <tr>\n",
       "      <th>2</th>\n",
       "      <td>0.02729</td>\n",
       "      <td>0.0</td>\n",
       "      <td>7.07</td>\n",
       "      <td>0.0</td>\n",
       "      <td>0.469</td>\n",
       "      <td>7.185</td>\n",
       "      <td>61.1</td>\n",
       "      <td>4.9671</td>\n",
       "      <td>2.0</td>\n",
       "      <td>242.0</td>\n",
       "      <td>17.8</td>\n",
       "      <td>392.83</td>\n",
       "      <td>4.03</td>\n",
       "      <td>34.7</td>\n",
       "    </tr>\n",
       "    <tr>\n",
       "      <th>3</th>\n",
       "      <td>0.03237</td>\n",
       "      <td>0.0</td>\n",
       "      <td>2.18</td>\n",
       "      <td>0.0</td>\n",
       "      <td>0.458</td>\n",
       "      <td>6.998</td>\n",
       "      <td>45.8</td>\n",
       "      <td>6.0622</td>\n",
       "      <td>3.0</td>\n",
       "      <td>222.0</td>\n",
       "      <td>18.7</td>\n",
       "      <td>394.63</td>\n",
       "      <td>2.94</td>\n",
       "      <td>33.4</td>\n",
       "    </tr>\n",
       "    <tr>\n",
       "      <th>4</th>\n",
       "      <td>0.06905</td>\n",
       "      <td>0.0</td>\n",
       "      <td>2.18</td>\n",
       "      <td>0.0</td>\n",
       "      <td>0.458</td>\n",
       "      <td>7.147</td>\n",
       "      <td>54.2</td>\n",
       "      <td>6.0622</td>\n",
       "      <td>3.0</td>\n",
       "      <td>222.0</td>\n",
       "      <td>18.7</td>\n",
       "      <td>396.90</td>\n",
       "      <td>5.33</td>\n",
       "      <td>36.2</td>\n",
       "    </tr>\n",
       "  </tbody>\n",
       "</table>\n",
       "</div>"
      ],
      "text/plain": [
       "      CRIM    ZN  INDUS  CHAS    NOX     RM   AGE     DIS  RAD    TAX  \\\n",
       "0  0.00632  18.0   2.31   0.0  0.538  6.575  65.2  4.0900  1.0  296.0   \n",
       "1  0.02731   0.0   7.07   0.0  0.469  6.421  78.9  4.9671  2.0  242.0   \n",
       "2  0.02729   0.0   7.07   0.0  0.469  7.185  61.1  4.9671  2.0  242.0   \n",
       "3  0.03237   0.0   2.18   0.0  0.458  6.998  45.8  6.0622  3.0  222.0   \n",
       "4  0.06905   0.0   2.18   0.0  0.458  7.147  54.2  6.0622  3.0  222.0   \n",
       "\n",
       "   PTRATIO       B  LSTAT  target  \n",
       "0     15.3  396.90   4.98    24.0  \n",
       "1     17.8  396.90   9.14    21.6  \n",
       "2     17.8  392.83   4.03    34.7  \n",
       "3     18.7  394.63   2.94    33.4  \n",
       "4     18.7  396.90   5.33    36.2  "
      ]
     },
     "execution_count": 5,
     "metadata": {},
     "output_type": "execute_result"
    }
   ],
   "source": [
    "data.head()"
   ]
  },
  {
   "cell_type": "code",
   "execution_count": 6,
   "id": "bc2cedcb",
   "metadata": {},
   "outputs": [],
   "source": [
    "X = data.drop('target', axis = 1).values\n",
    "y = data.target.values"
   ]
  },
  {
   "cell_type": "code",
   "execution_count": 7,
   "id": "2ed92f4d",
   "metadata": {},
   "outputs": [],
   "source": [
    "rf = RandomForestRegressor(max_depth = 4, n_estimators = 150)"
   ]
  },
  {
   "cell_type": "code",
   "execution_count": 8,
   "id": "5eb5b6ab",
   "metadata": {},
   "outputs": [],
   "source": [
    "boruta_selector = BorutaPy(rf, n_estimators = 'auto', max_iter = 20, verbose = 1)"
   ]
  },
  {
   "cell_type": "code",
   "execution_count": 9,
   "id": "2fea6b7b",
   "metadata": {},
   "outputs": [
    {
     "name": "stdout",
     "output_type": "stream",
     "text": [
      "Iteration: 1 / 20\n",
      "Iteration: 2 / 20\n",
      "Iteration: 3 / 20\n",
      "Iteration: 4 / 20\n",
      "Iteration: 5 / 20\n",
      "Iteration: 6 / 20\n",
      "Iteration: 7 / 20\n",
      "Iteration: 8 / 20\n",
      "Iteration: 9 / 20\n",
      "Iteration: 10 / 20\n",
      "Iteration: 11 / 20\n",
      "Iteration: 12 / 20\n",
      "Iteration: 13 / 20\n",
      "Iteration: 14 / 20\n",
      "Iteration: 15 / 20\n",
      "Iteration: 16 / 20\n",
      "Iteration: 17 / 20\n",
      "Iteration: 18 / 20\n",
      "Iteration: 19 / 20\n",
      "\n",
      "\n",
      "BorutaPy finished running.\n",
      "\n",
      "Iteration: \t20 / 20\n",
      "Confirmed: \t7\n",
      "Tentative: \t2\n",
      "Rejected: \t3\n"
     ]
    },
    {
     "data": {
      "text/plain": [
       "BorutaPy(estimator=RandomForestRegressor(max_depth=4, n_estimators=111,\n",
       "                                         random_state=RandomState(MT19937) at 0x7F800911EE40),\n",
       "         max_iter=20, n_estimators='auto',\n",
       "         random_state=RandomState(MT19937) at 0x7F800911EE40, verbose=1)"
      ]
     },
     "execution_count": 9,
     "metadata": {},
     "output_type": "execute_result"
    }
   ],
   "source": [
    "boruta_selector.fit(X, y)"
   ]
  },
  {
   "cell_type": "code",
   "execution_count": 10,
   "id": "888b4feb",
   "metadata": {
    "scrolled": false
   },
   "outputs": [
    {
     "data": {
      "text/plain": [
       "array([ True, False, False, False,  True,  True, False,  True, False,\n",
       "        True,  True, False,  True])"
      ]
     },
     "execution_count": 10,
     "metadata": {},
     "output_type": "execute_result"
    }
   ],
   "source": [
    "boruta_selector.support_"
   ]
  },
  {
   "cell_type": "markdown",
   "id": "a30d24a6",
   "metadata": {},
   "source": [
    "support_ 메서드는 전체 feature 중 선택된 feature들을 boolean 형태로 반환한다."
   ]
  },
  {
   "cell_type": "code",
   "execution_count": 11,
   "id": "cb771eba",
   "metadata": {},
   "outputs": [],
   "source": [
    "use_cols = data.columns[:-1][boruta_selector.support_].tolist()"
   ]
  },
  {
   "cell_type": "code",
   "execution_count": 12,
   "id": "84571de6",
   "metadata": {
    "scrolled": true
   },
   "outputs": [
    {
     "data": {
      "text/plain": [
       "7"
      ]
     },
     "execution_count": 12,
     "metadata": {},
     "output_type": "execute_result"
    }
   ],
   "source": [
    "boruta_selector.n_features_"
   ]
  },
  {
   "cell_type": "markdown",
   "id": "75d6a982",
   "metadata": {},
   "source": [
    "n_features에는 최종 선택된 feature의 개수가 저장되어 있다."
   ]
  },
  {
   "cell_type": "code",
   "execution_count": 13,
   "id": "22209514",
   "metadata": {},
   "outputs": [
    {
     "data": {
      "text/plain": [
       "['CRIM', 'NOX', 'RM', 'DIS', 'TAX', 'PTRATIO', 'LSTAT']"
      ]
     },
     "execution_count": 13,
     "metadata": {},
     "output_type": "execute_result"
    }
   ],
   "source": [
    "use_cols"
   ]
  },
  {
   "cell_type": "code",
   "execution_count": 14,
   "id": "c2c45f2d",
   "metadata": {},
   "outputs": [
    {
     "data": {
      "text/plain": [
       "array([1, 6, 3, 5, 1, 1, 2, 1, 4, 1, 1, 2, 1])"
      ]
     },
     "execution_count": 14,
     "metadata": {},
     "output_type": "execute_result"
    }
   ],
   "source": [
    "boruta_selector.ranking_"
   ]
  },
  {
   "cell_type": "markdown",
   "id": "9a5d06de",
   "metadata": {},
   "source": [
    "ranking_ 메서드는 각 feature들의 랭킹을 반환하는데 1은 선택됨을 의미하고 2는 중간 3 이상은 기각된(사용되지 않을) feature로 보면 된다."
   ]
  },
  {
   "cell_type": "code",
   "execution_count": 15,
   "id": "47339e42",
   "metadata": {},
   "outputs": [],
   "source": [
    "rf_cv = cross_val_score(rf, X, y, scoring = 'neg_mean_squared_error', cv = KFold(n_splits = 5))"
   ]
  },
  {
   "cell_type": "code",
   "execution_count": 16,
   "id": "f6a8e5e4",
   "metadata": {
    "scrolled": true
   },
   "outputs": [
    {
     "data": {
      "text/plain": [
       "22.63125186194921"
      ]
     },
     "execution_count": 16,
     "metadata": {},
     "output_type": "execute_result"
    }
   ],
   "source": [
    "abs(rf_cv).mean()"
   ]
  },
  {
   "cell_type": "markdown",
   "id": "90ae1c5d",
   "metadata": {},
   "source": [
    "모든 feature를 사용한 RandomForest 모델의 5Fold 평균 MSE는 23.77이다."
   ]
  },
  {
   "cell_type": "code",
   "execution_count": 17,
   "id": "31201e74",
   "metadata": {},
   "outputs": [],
   "source": [
    "boruta_X = data[use_cols]"
   ]
  },
  {
   "cell_type": "code",
   "execution_count": 18,
   "id": "4d92b008",
   "metadata": {},
   "outputs": [],
   "source": [
    "boruta_cv = cross_val_score(rf, boruta_X, y, scoring = 'neg_mean_squared_error', cv = KFold(n_splits = 5))"
   ]
  },
  {
   "cell_type": "code",
   "execution_count": 19,
   "id": "287cc50b",
   "metadata": {},
   "outputs": [
    {
     "data": {
      "text/plain": [
       "22.382480342640612"
      ]
     },
     "execution_count": 19,
     "metadata": {},
     "output_type": "execute_result"
    }
   ],
   "source": [
    "abs(boruta_cv).mean()"
   ]
  },
  {
   "cell_type": "markdown",
   "id": "d81b5ea9",
   "metadata": {},
   "source": [
    "Boruta로 추출한 feature만을 사용한 RandomForest 모델의 5Fold 평균 MSE는 23.06으로 성능이 더 우수한 것을 알 수 있다.\n",
    "***\n",
    "### 2) Classification"
   ]
  },
  {
   "cell_type": "code",
   "execution_count": 20,
   "id": "bf73fd4e",
   "metadata": {},
   "outputs": [],
   "source": [
    "breast_cancer = load_breast_cancer()"
   ]
  },
  {
   "cell_type": "code",
   "execution_count": 21,
   "id": "edd9dee5",
   "metadata": {},
   "outputs": [],
   "source": [
    "data = pd.DataFrame(breast_cancer.data, columns = breast_cancer.feature_names)"
   ]
  },
  {
   "cell_type": "code",
   "execution_count": 22,
   "id": "ee89ea2e",
   "metadata": {},
   "outputs": [],
   "source": [
    "data['target'] = breast_cancer.target"
   ]
  },
  {
   "cell_type": "code",
   "execution_count": 23,
   "id": "b72d2456",
   "metadata": {
    "scrolled": true
   },
   "outputs": [
    {
     "data": {
      "text/html": [
       "<div>\n",
       "<style scoped>\n",
       "    .dataframe tbody tr th:only-of-type {\n",
       "        vertical-align: middle;\n",
       "    }\n",
       "\n",
       "    .dataframe tbody tr th {\n",
       "        vertical-align: top;\n",
       "    }\n",
       "\n",
       "    .dataframe thead th {\n",
       "        text-align: right;\n",
       "    }\n",
       "</style>\n",
       "<table border=\"1\" class=\"dataframe\">\n",
       "  <thead>\n",
       "    <tr style=\"text-align: right;\">\n",
       "      <th></th>\n",
       "      <th>mean radius</th>\n",
       "      <th>mean texture</th>\n",
       "      <th>mean perimeter</th>\n",
       "      <th>mean area</th>\n",
       "      <th>mean smoothness</th>\n",
       "      <th>mean compactness</th>\n",
       "      <th>mean concavity</th>\n",
       "      <th>mean concave points</th>\n",
       "      <th>mean symmetry</th>\n",
       "      <th>mean fractal dimension</th>\n",
       "      <th>...</th>\n",
       "      <th>worst texture</th>\n",
       "      <th>worst perimeter</th>\n",
       "      <th>worst area</th>\n",
       "      <th>worst smoothness</th>\n",
       "      <th>worst compactness</th>\n",
       "      <th>worst concavity</th>\n",
       "      <th>worst concave points</th>\n",
       "      <th>worst symmetry</th>\n",
       "      <th>worst fractal dimension</th>\n",
       "      <th>target</th>\n",
       "    </tr>\n",
       "  </thead>\n",
       "  <tbody>\n",
       "    <tr>\n",
       "      <th>0</th>\n",
       "      <td>17.99</td>\n",
       "      <td>10.38</td>\n",
       "      <td>122.80</td>\n",
       "      <td>1001.0</td>\n",
       "      <td>0.11840</td>\n",
       "      <td>0.27760</td>\n",
       "      <td>0.3001</td>\n",
       "      <td>0.14710</td>\n",
       "      <td>0.2419</td>\n",
       "      <td>0.07871</td>\n",
       "      <td>...</td>\n",
       "      <td>17.33</td>\n",
       "      <td>184.60</td>\n",
       "      <td>2019.0</td>\n",
       "      <td>0.1622</td>\n",
       "      <td>0.6656</td>\n",
       "      <td>0.7119</td>\n",
       "      <td>0.2654</td>\n",
       "      <td>0.4601</td>\n",
       "      <td>0.11890</td>\n",
       "      <td>0</td>\n",
       "    </tr>\n",
       "    <tr>\n",
       "      <th>1</th>\n",
       "      <td>20.57</td>\n",
       "      <td>17.77</td>\n",
       "      <td>132.90</td>\n",
       "      <td>1326.0</td>\n",
       "      <td>0.08474</td>\n",
       "      <td>0.07864</td>\n",
       "      <td>0.0869</td>\n",
       "      <td>0.07017</td>\n",
       "      <td>0.1812</td>\n",
       "      <td>0.05667</td>\n",
       "      <td>...</td>\n",
       "      <td>23.41</td>\n",
       "      <td>158.80</td>\n",
       "      <td>1956.0</td>\n",
       "      <td>0.1238</td>\n",
       "      <td>0.1866</td>\n",
       "      <td>0.2416</td>\n",
       "      <td>0.1860</td>\n",
       "      <td>0.2750</td>\n",
       "      <td>0.08902</td>\n",
       "      <td>0</td>\n",
       "    </tr>\n",
       "    <tr>\n",
       "      <th>2</th>\n",
       "      <td>19.69</td>\n",
       "      <td>21.25</td>\n",
       "      <td>130.00</td>\n",
       "      <td>1203.0</td>\n",
       "      <td>0.10960</td>\n",
       "      <td>0.15990</td>\n",
       "      <td>0.1974</td>\n",
       "      <td>0.12790</td>\n",
       "      <td>0.2069</td>\n",
       "      <td>0.05999</td>\n",
       "      <td>...</td>\n",
       "      <td>25.53</td>\n",
       "      <td>152.50</td>\n",
       "      <td>1709.0</td>\n",
       "      <td>0.1444</td>\n",
       "      <td>0.4245</td>\n",
       "      <td>0.4504</td>\n",
       "      <td>0.2430</td>\n",
       "      <td>0.3613</td>\n",
       "      <td>0.08758</td>\n",
       "      <td>0</td>\n",
       "    </tr>\n",
       "    <tr>\n",
       "      <th>3</th>\n",
       "      <td>11.42</td>\n",
       "      <td>20.38</td>\n",
       "      <td>77.58</td>\n",
       "      <td>386.1</td>\n",
       "      <td>0.14250</td>\n",
       "      <td>0.28390</td>\n",
       "      <td>0.2414</td>\n",
       "      <td>0.10520</td>\n",
       "      <td>0.2597</td>\n",
       "      <td>0.09744</td>\n",
       "      <td>...</td>\n",
       "      <td>26.50</td>\n",
       "      <td>98.87</td>\n",
       "      <td>567.7</td>\n",
       "      <td>0.2098</td>\n",
       "      <td>0.8663</td>\n",
       "      <td>0.6869</td>\n",
       "      <td>0.2575</td>\n",
       "      <td>0.6638</td>\n",
       "      <td>0.17300</td>\n",
       "      <td>0</td>\n",
       "    </tr>\n",
       "    <tr>\n",
       "      <th>4</th>\n",
       "      <td>20.29</td>\n",
       "      <td>14.34</td>\n",
       "      <td>135.10</td>\n",
       "      <td>1297.0</td>\n",
       "      <td>0.10030</td>\n",
       "      <td>0.13280</td>\n",
       "      <td>0.1980</td>\n",
       "      <td>0.10430</td>\n",
       "      <td>0.1809</td>\n",
       "      <td>0.05883</td>\n",
       "      <td>...</td>\n",
       "      <td>16.67</td>\n",
       "      <td>152.20</td>\n",
       "      <td>1575.0</td>\n",
       "      <td>0.1374</td>\n",
       "      <td>0.2050</td>\n",
       "      <td>0.4000</td>\n",
       "      <td>0.1625</td>\n",
       "      <td>0.2364</td>\n",
       "      <td>0.07678</td>\n",
       "      <td>0</td>\n",
       "    </tr>\n",
       "  </tbody>\n",
       "</table>\n",
       "<p>5 rows × 31 columns</p>\n",
       "</div>"
      ],
      "text/plain": [
       "   mean radius  mean texture  mean perimeter  mean area  mean smoothness  \\\n",
       "0        17.99         10.38          122.80     1001.0          0.11840   \n",
       "1        20.57         17.77          132.90     1326.0          0.08474   \n",
       "2        19.69         21.25          130.00     1203.0          0.10960   \n",
       "3        11.42         20.38           77.58      386.1          0.14250   \n",
       "4        20.29         14.34          135.10     1297.0          0.10030   \n",
       "\n",
       "   mean compactness  mean concavity  mean concave points  mean symmetry  \\\n",
       "0           0.27760          0.3001              0.14710         0.2419   \n",
       "1           0.07864          0.0869              0.07017         0.1812   \n",
       "2           0.15990          0.1974              0.12790         0.2069   \n",
       "3           0.28390          0.2414              0.10520         0.2597   \n",
       "4           0.13280          0.1980              0.10430         0.1809   \n",
       "\n",
       "   mean fractal dimension  ...  worst texture  worst perimeter  worst area  \\\n",
       "0                 0.07871  ...          17.33           184.60      2019.0   \n",
       "1                 0.05667  ...          23.41           158.80      1956.0   \n",
       "2                 0.05999  ...          25.53           152.50      1709.0   \n",
       "3                 0.09744  ...          26.50            98.87       567.7   \n",
       "4                 0.05883  ...          16.67           152.20      1575.0   \n",
       "\n",
       "   worst smoothness  worst compactness  worst concavity  worst concave points  \\\n",
       "0            0.1622             0.6656           0.7119                0.2654   \n",
       "1            0.1238             0.1866           0.2416                0.1860   \n",
       "2            0.1444             0.4245           0.4504                0.2430   \n",
       "3            0.2098             0.8663           0.6869                0.2575   \n",
       "4            0.1374             0.2050           0.4000                0.1625   \n",
       "\n",
       "   worst symmetry  worst fractal dimension  target  \n",
       "0          0.4601                  0.11890       0  \n",
       "1          0.2750                  0.08902       0  \n",
       "2          0.3613                  0.08758       0  \n",
       "3          0.6638                  0.17300       0  \n",
       "4          0.2364                  0.07678       0  \n",
       "\n",
       "[5 rows x 31 columns]"
      ]
     },
     "execution_count": 23,
     "metadata": {},
     "output_type": "execute_result"
    }
   ],
   "source": [
    "data.head()"
   ]
  },
  {
   "cell_type": "code",
   "execution_count": 24,
   "id": "ed521158",
   "metadata": {},
   "outputs": [],
   "source": [
    "X = data.drop('target', axis = 1).values\n",
    "y = data.target.values"
   ]
  },
  {
   "cell_type": "code",
   "execution_count": 25,
   "id": "28c07dbd",
   "metadata": {},
   "outputs": [],
   "source": [
    "rf = RandomForestClassifier(max_depth = 4, n_estimators = 200)"
   ]
  },
  {
   "cell_type": "code",
   "execution_count": 26,
   "id": "5c97dbf0",
   "metadata": {},
   "outputs": [],
   "source": [
    "boruta_selector = BorutaPy(rf, n_estimators = 'auto', max_iter = 100)"
   ]
  },
  {
   "cell_type": "code",
   "execution_count": 27,
   "id": "bdb13a45",
   "metadata": {},
   "outputs": [
    {
     "data": {
      "text/plain": [
       "BorutaPy(estimator=RandomForestClassifier(max_depth=4, n_estimators=190,\n",
       "                                          random_state=RandomState(MT19937) at 0x7F800911EE40),\n",
       "         n_estimators='auto',\n",
       "         random_state=RandomState(MT19937) at 0x7F800911EE40)"
      ]
     },
     "execution_count": 27,
     "metadata": {},
     "output_type": "execute_result"
    }
   ],
   "source": [
    "boruta_selector.fit(X, y)"
   ]
  },
  {
   "cell_type": "code",
   "execution_count": 28,
   "id": "979d7b6d",
   "metadata": {
    "scrolled": false
   },
   "outputs": [
    {
     "data": {
      "text/plain": [
       "array([ True,  True,  True,  True,  True,  True,  True,  True,  True,\n",
       "        True,  True, False,  True,  True, False,  True,  True,  True,\n",
       "       False,  True,  True,  True,  True,  True,  True,  True,  True,\n",
       "        True,  True,  True])"
      ]
     },
     "execution_count": 28,
     "metadata": {},
     "output_type": "execute_result"
    }
   ],
   "source": [
    "boruta_selector.support_"
   ]
  },
  {
   "cell_type": "code",
   "execution_count": 29,
   "id": "0aa01168",
   "metadata": {},
   "outputs": [],
   "source": [
    "use_cols = data.columns[:-1][boruta_selector.support_].tolist()"
   ]
  },
  {
   "cell_type": "code",
   "execution_count": 30,
   "id": "14e07654",
   "metadata": {
    "scrolled": true
   },
   "outputs": [
    {
     "data": {
      "text/plain": [
       "27"
      ]
     },
     "execution_count": 30,
     "metadata": {},
     "output_type": "execute_result"
    }
   ],
   "source": [
    "boruta_selector.n_features_"
   ]
  },
  {
   "cell_type": "code",
   "execution_count": 31,
   "id": "b438bc26",
   "metadata": {},
   "outputs": [
    {
     "data": {
      "text/plain": [
       "['mean radius',\n",
       " 'mean texture',\n",
       " 'mean perimeter',\n",
       " 'mean area',\n",
       " 'mean smoothness',\n",
       " 'mean compactness',\n",
       " 'mean concavity',\n",
       " 'mean concave points',\n",
       " 'mean symmetry',\n",
       " 'mean fractal dimension',\n",
       " 'radius error',\n",
       " 'perimeter error',\n",
       " 'area error',\n",
       " 'compactness error',\n",
       " 'concavity error',\n",
       " 'concave points error',\n",
       " 'fractal dimension error',\n",
       " 'worst radius',\n",
       " 'worst texture',\n",
       " 'worst perimeter',\n",
       " 'worst area',\n",
       " 'worst smoothness',\n",
       " 'worst compactness',\n",
       " 'worst concavity',\n",
       " 'worst concave points',\n",
       " 'worst symmetry',\n",
       " 'worst fractal dimension']"
      ]
     },
     "execution_count": 31,
     "metadata": {},
     "output_type": "execute_result"
    }
   ],
   "source": [
    "use_cols"
   ]
  },
  {
   "cell_type": "code",
   "execution_count": 32,
   "id": "66706e3f",
   "metadata": {},
   "outputs": [
    {
     "data": {
      "text/plain": [
       "array([1, 1, 1, 1, 1, 1, 1, 1, 1, 1, 1, 2, 1, 1, 3, 1, 1, 1, 2, 1, 1, 1,\n",
       "       1, 1, 1, 1, 1, 1, 1, 1])"
      ]
     },
     "execution_count": 32,
     "metadata": {},
     "output_type": "execute_result"
    }
   ],
   "source": [
    "boruta_selector.ranking_"
   ]
  },
  {
   "cell_type": "markdown",
   "id": "cab783cd",
   "metadata": {},
   "source": [
    "cross_validation으로 성능 비교"
   ]
  },
  {
   "cell_type": "code",
   "execution_count": 33,
   "id": "1e4de4e1",
   "metadata": {},
   "outputs": [],
   "source": [
    "rf_cv = cross_val_score(rf, X, y, scoring = 'roc_auc', cv = StratifiedKFold(n_splits = 5))"
   ]
  },
  {
   "cell_type": "code",
   "execution_count": 34,
   "id": "8d73f76a",
   "metadata": {
    "scrolled": true
   },
   "outputs": [
    {
     "data": {
      "text/plain": [
       "0.9906694690104452"
      ]
     },
     "execution_count": 34,
     "metadata": {},
     "output_type": "execute_result"
    }
   ],
   "source": [
    "rf_cv.mean()"
   ]
  },
  {
   "cell_type": "code",
   "execution_count": 35,
   "id": "0aaca28b",
   "metadata": {},
   "outputs": [],
   "source": [
    "boruta_X = data[use_cols]"
   ]
  },
  {
   "cell_type": "code",
   "execution_count": 36,
   "id": "97ee78ff",
   "metadata": {},
   "outputs": [],
   "source": [
    "boruta_cv = cross_val_score(rf, boruta_X, y, scoring = 'roc_auc', cv = StratifiedKFold(n_splits = 5))"
   ]
  },
  {
   "cell_type": "code",
   "execution_count": 37,
   "id": "6e79d5a2",
   "metadata": {},
   "outputs": [
    {
     "data": {
      "text/plain": [
       "0.9904704064178352"
      ]
     },
     "execution_count": 37,
     "metadata": {},
     "output_type": "execute_result"
    }
   ],
   "source": [
    "boruta_cv.mean()"
   ]
  }
 ],
 "metadata": {
  "kernelspec": {
   "display_name": "Python 3",
   "language": "python",
   "name": "python3"
  },
  "language_info": {
   "codemirror_mode": {
    "name": "ipython",
    "version": 3
   },
   "file_extension": ".py",
   "mimetype": "text/x-python",
   "name": "python",
   "nbconvert_exporter": "python",
   "pygments_lexer": "ipython3",
   "version": "3.8.8"
  }
 },
 "nbformat": 4,
 "nbformat_minor": 5
}
