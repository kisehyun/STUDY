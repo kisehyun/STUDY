{
 "cells": [
  {
   "cell_type": "markdown",
   "id": "adcf1e87",
   "metadata": {},
   "source": [
    "# 빅데이터분석기사 8주차 모의고사 2회\n",
    "\n",
    "### 데이터\n",
    "- 1번 문제 : shipping_X_train / shipping_y_train / shipping_X_test / shipping_submission\n",
    "- 2번 문제 : clients_train / clients_test / clients_submission\n",
    "\n",
    "## 1-1. Warehouse_block 별로 Cost_of_the_Product와 Weight_in_gms의 상관계수를 구하고 두번째, 네번째로 상관관계가 강한 값들의 곱을 출력하시오."
   ]
  },
  {
   "cell_type": "code",
   "execution_count": 3,
   "id": "42d6fc59",
   "metadata": {},
   "outputs": [],
   "source": [
    "import pandas as pd\n",
    "import numpy as np"
   ]
  },
  {
   "cell_type": "code",
   "execution_count": 84,
   "id": "7e4b8ab5",
   "metadata": {},
   "outputs": [],
   "source": [
    "X_train = pd.read_csv(\"shipping_X_train.csv\")\n",
    "y_train = pd.read_csv(\"shipping_y_train.csv\")\n",
    "test = pd.read_csv(\"shipping_X_test.csv\")\n",
    "submission = pd.read_csv(\"shipping_submission.csv\")"
   ]
  },
  {
   "cell_type": "code",
   "execution_count": 85,
   "id": "e6a723c1",
   "metadata": {
    "scrolled": true
   },
   "outputs": [
    {
     "data": {
      "text/html": [
       "<div>\n",
       "<style scoped>\n",
       "    .dataframe tbody tr th:only-of-type {\n",
       "        vertical-align: middle;\n",
       "    }\n",
       "\n",
       "    .dataframe tbody tr th {\n",
       "        vertical-align: top;\n",
       "    }\n",
       "\n",
       "    .dataframe thead th {\n",
       "        text-align: right;\n",
       "    }\n",
       "</style>\n",
       "<table border=\"1\" class=\"dataframe\">\n",
       "  <thead>\n",
       "    <tr style=\"text-align: right;\">\n",
       "      <th></th>\n",
       "      <th>ID</th>\n",
       "      <th>Warehouse_block</th>\n",
       "      <th>Mode_of_Shipment</th>\n",
       "      <th>Customer_care_calls</th>\n",
       "      <th>Customer_rating</th>\n",
       "      <th>Cost_of_the_Product</th>\n",
       "      <th>Prior_purchases</th>\n",
       "      <th>Product_importance</th>\n",
       "      <th>Gender</th>\n",
       "      <th>Discount_offered</th>\n",
       "      <th>Weight_in_gms</th>\n",
       "    </tr>\n",
       "  </thead>\n",
       "  <tbody>\n",
       "    <tr>\n",
       "      <th>0</th>\n",
       "      <td>6045</td>\n",
       "      <td>A</td>\n",
       "      <td>Flight</td>\n",
       "      <td>4</td>\n",
       "      <td>3</td>\n",
       "      <td>266</td>\n",
       "      <td>5</td>\n",
       "      <td>high</td>\n",
       "      <td>F</td>\n",
       "      <td>5</td>\n",
       "      <td>1590</td>\n",
       "    </tr>\n",
       "    <tr>\n",
       "      <th>1</th>\n",
       "      <td>44</td>\n",
       "      <td>F</td>\n",
       "      <td>Ship</td>\n",
       "      <td>3</td>\n",
       "      <td>1</td>\n",
       "      <td>174</td>\n",
       "      <td>2</td>\n",
       "      <td>low</td>\n",
       "      <td>M</td>\n",
       "      <td>44</td>\n",
       "      <td>1556</td>\n",
       "    </tr>\n",
       "    <tr>\n",
       "      <th>2</th>\n",
       "      <td>7940</td>\n",
       "      <td>F</td>\n",
       "      <td>Road</td>\n",
       "      <td>4</td>\n",
       "      <td>1</td>\n",
       "      <td>154</td>\n",
       "      <td>10</td>\n",
       "      <td>high</td>\n",
       "      <td>M</td>\n",
       "      <td>10</td>\n",
       "      <td>5674</td>\n",
       "    </tr>\n",
       "    <tr>\n",
       "      <th>3</th>\n",
       "      <td>1596</td>\n",
       "      <td>F</td>\n",
       "      <td>Ship</td>\n",
       "      <td>4</td>\n",
       "      <td>3</td>\n",
       "      <td>158</td>\n",
       "      <td>3</td>\n",
       "      <td>medium</td>\n",
       "      <td>F</td>\n",
       "      <td>27</td>\n",
       "      <td>1207</td>\n",
       "    </tr>\n",
       "    <tr>\n",
       "      <th>4</th>\n",
       "      <td>4395</td>\n",
       "      <td>A</td>\n",
       "      <td>Flight</td>\n",
       "      <td>5</td>\n",
       "      <td>3</td>\n",
       "      <td>175</td>\n",
       "      <td>3</td>\n",
       "      <td>low</td>\n",
       "      <td>M</td>\n",
       "      <td>7</td>\n",
       "      <td>4833</td>\n",
       "    </tr>\n",
       "  </tbody>\n",
       "</table>\n",
       "</div>"
      ],
      "text/plain": [
       "     ID Warehouse_block Mode_of_Shipment Customer_care_calls  Customer_rating  \\\n",
       "0  6045               A           Flight                   4                3   \n",
       "1    44               F             Ship                   3                1   \n",
       "2  7940               F             Road                   4                1   \n",
       "3  1596               F             Ship                   4                3   \n",
       "4  4395               A           Flight                   5                3   \n",
       "\n",
       "   Cost_of_the_Product  Prior_purchases Product_importance Gender  \\\n",
       "0                  266                5               high      F   \n",
       "1                  174                2                low      M   \n",
       "2                  154               10               high      M   \n",
       "3                  158                3             medium      F   \n",
       "4                  175                3                low      M   \n",
       "\n",
       "   Discount_offered  Weight_in_gms  \n",
       "0                 5           1590  \n",
       "1                44           1556  \n",
       "2                10           5674  \n",
       "3                27           1207  \n",
       "4                 7           4833  "
      ]
     },
     "execution_count": 85,
     "metadata": {},
     "output_type": "execute_result"
    }
   ],
   "source": [
    "X_train.head()"
   ]
  },
  {
   "cell_type": "code",
   "execution_count": 86,
   "id": "808ba7d9",
   "metadata": {
    "scrolled": true
   },
   "outputs": [
    {
     "data": {
      "text/plain": [
       "array(['A', 'F', 'C', 'B', 'D'], dtype=object)"
      ]
     },
     "execution_count": 86,
     "metadata": {},
     "output_type": "execute_result"
    }
   ],
   "source": [
    "X_train.Warehouse_block.unique()"
   ]
  },
  {
   "cell_type": "code",
   "execution_count": 87,
   "id": "33e4f7e7",
   "metadata": {},
   "outputs": [],
   "source": [
    "a = X_train[X_train.Warehouse_block == 'A']\n",
    "b = X_train[X_train.Warehouse_block == 'B']\n",
    "c = X_train[X_train.Warehouse_block == 'C']\n",
    "d = X_train[X_train.Warehouse_block == 'D']\n",
    "f = X_train[X_train.Warehouse_block == 'F']"
   ]
  },
  {
   "cell_type": "markdown",
   "id": "a7b77673",
   "metadata": {},
   "source": [
    "Cost_of_the_Product와 Weight_in_gms"
   ]
  },
  {
   "cell_type": "code",
   "execution_count": 88,
   "id": "4717cef3",
   "metadata": {},
   "outputs": [],
   "source": [
    "a_c = a.corr()['Cost_of_the_Product']['Weight_in_gms']\n",
    "b_c = b.corr()['Cost_of_the_Product']['Weight_in_gms']\n",
    "c_c = c.corr()['Cost_of_the_Product']['Weight_in_gms']\n",
    "d_c = d.corr()['Cost_of_the_Product']['Weight_in_gms']\n",
    "f_c = f.corr()['Cost_of_the_Product']['Weight_in_gms']"
   ]
  },
  {
   "cell_type": "code",
   "execution_count": 89,
   "id": "fedf06ee",
   "metadata": {},
   "outputs": [
    {
     "data": {
      "text/plain": [
       "(-0.14148106808904823,\n",
       " -0.08054612765484861,\n",
       " -0.1361480385913863,\n",
       " -0.1606446568710385,\n",
       " -0.15677176112946)"
      ]
     },
     "execution_count": 89,
     "metadata": {},
     "output_type": "execute_result"
    }
   ],
   "source": [
    "a_c, b_c, c_c, d_c, f_c"
   ]
  },
  {
   "cell_type": "code",
   "execution_count": 90,
   "id": "af5ac0a4",
   "metadata": {
    "scrolled": true
   },
   "outputs": [
    {
     "data": {
      "text/plain": [
       "(-0.1361480385913863, -0.15677176112946)"
      ]
     },
     "execution_count": 90,
     "metadata": {},
     "output_type": "execute_result"
    }
   ],
   "source": [
    "c_c, f_c"
   ]
  },
  {
   "cell_type": "code",
   "execution_count": 91,
   "id": "61c60520",
   "metadata": {},
   "outputs": [
    {
     "name": "stdout",
     "output_type": "stream",
     "text": [
      "0.021344167784293315\n"
     ]
    }
   ],
   "source": [
    "print(c_c * f_c)"
   ]
  },
  {
   "cell_type": "markdown",
   "id": "e36fdcb9",
   "metadata": {},
   "source": [
    "## 1-2. Cost_of_the_Product를 표준화한 결과 중 -0.25 초과, 0.4 미만인 데이터의 Customer_rating 중위값과 Cost_of_the_Product를 정규화한 결과 중 0.1 이상, 0.6 이하인 데이터의 Customer_care_calls의 평균을 곱한 값을 출력하시오."
   ]
  },
  {
   "cell_type": "code",
   "execution_count": 92,
   "id": "281a639f",
   "metadata": {
    "scrolled": false
   },
   "outputs": [
    {
     "data": {
      "text/html": [
       "<div>\n",
       "<style scoped>\n",
       "    .dataframe tbody tr th:only-of-type {\n",
       "        vertical-align: middle;\n",
       "    }\n",
       "\n",
       "    .dataframe tbody tr th {\n",
       "        vertical-align: top;\n",
       "    }\n",
       "\n",
       "    .dataframe thead th {\n",
       "        text-align: right;\n",
       "    }\n",
       "</style>\n",
       "<table border=\"1\" class=\"dataframe\">\n",
       "  <thead>\n",
       "    <tr style=\"text-align: right;\">\n",
       "      <th></th>\n",
       "      <th>ID</th>\n",
       "      <th>Warehouse_block</th>\n",
       "      <th>Mode_of_Shipment</th>\n",
       "      <th>Customer_care_calls</th>\n",
       "      <th>Customer_rating</th>\n",
       "      <th>Cost_of_the_Product</th>\n",
       "      <th>Prior_purchases</th>\n",
       "      <th>Product_importance</th>\n",
       "      <th>Gender</th>\n",
       "      <th>Discount_offered</th>\n",
       "      <th>Weight_in_gms</th>\n",
       "    </tr>\n",
       "  </thead>\n",
       "  <tbody>\n",
       "    <tr>\n",
       "      <th>0</th>\n",
       "      <td>6045</td>\n",
       "      <td>A</td>\n",
       "      <td>Flight</td>\n",
       "      <td>4</td>\n",
       "      <td>3</td>\n",
       "      <td>266</td>\n",
       "      <td>5</td>\n",
       "      <td>high</td>\n",
       "      <td>F</td>\n",
       "      <td>5</td>\n",
       "      <td>1590</td>\n",
       "    </tr>\n",
       "    <tr>\n",
       "      <th>1</th>\n",
       "      <td>44</td>\n",
       "      <td>F</td>\n",
       "      <td>Ship</td>\n",
       "      <td>3</td>\n",
       "      <td>1</td>\n",
       "      <td>174</td>\n",
       "      <td>2</td>\n",
       "      <td>low</td>\n",
       "      <td>M</td>\n",
       "      <td>44</td>\n",
       "      <td>1556</td>\n",
       "    </tr>\n",
       "    <tr>\n",
       "      <th>2</th>\n",
       "      <td>7940</td>\n",
       "      <td>F</td>\n",
       "      <td>Road</td>\n",
       "      <td>4</td>\n",
       "      <td>1</td>\n",
       "      <td>154</td>\n",
       "      <td>10</td>\n",
       "      <td>high</td>\n",
       "      <td>M</td>\n",
       "      <td>10</td>\n",
       "      <td>5674</td>\n",
       "    </tr>\n",
       "    <tr>\n",
       "      <th>3</th>\n",
       "      <td>1596</td>\n",
       "      <td>F</td>\n",
       "      <td>Ship</td>\n",
       "      <td>4</td>\n",
       "      <td>3</td>\n",
       "      <td>158</td>\n",
       "      <td>3</td>\n",
       "      <td>medium</td>\n",
       "      <td>F</td>\n",
       "      <td>27</td>\n",
       "      <td>1207</td>\n",
       "    </tr>\n",
       "    <tr>\n",
       "      <th>4</th>\n",
       "      <td>4395</td>\n",
       "      <td>A</td>\n",
       "      <td>Flight</td>\n",
       "      <td>5</td>\n",
       "      <td>3</td>\n",
       "      <td>175</td>\n",
       "      <td>3</td>\n",
       "      <td>low</td>\n",
       "      <td>M</td>\n",
       "      <td>7</td>\n",
       "      <td>4833</td>\n",
       "    </tr>\n",
       "  </tbody>\n",
       "</table>\n",
       "</div>"
      ],
      "text/plain": [
       "     ID Warehouse_block Mode_of_Shipment Customer_care_calls  Customer_rating  \\\n",
       "0  6045               A           Flight                   4                3   \n",
       "1    44               F             Ship                   3                1   \n",
       "2  7940               F             Road                   4                1   \n",
       "3  1596               F             Ship                   4                3   \n",
       "4  4395               A           Flight                   5                3   \n",
       "\n",
       "   Cost_of_the_Product  Prior_purchases Product_importance Gender  \\\n",
       "0                  266                5               high      F   \n",
       "1                  174                2                low      M   \n",
       "2                  154               10               high      M   \n",
       "3                  158                3             medium      F   \n",
       "4                  175                3                low      M   \n",
       "\n",
       "   Discount_offered  Weight_in_gms  \n",
       "0                 5           1590  \n",
       "1                44           1556  \n",
       "2                10           5674  \n",
       "3                27           1207  \n",
       "4                 7           4833  "
      ]
     },
     "execution_count": 92,
     "metadata": {},
     "output_type": "execute_result"
    }
   ],
   "source": [
    "X_train.head()"
   ]
  },
  {
   "cell_type": "markdown",
   "id": "08f0e6cf",
   "metadata": {},
   "source": [
    "표준화한 결과 중 -0.25 초과, 0.4 미만"
   ]
  },
  {
   "cell_type": "code",
   "execution_count": 93,
   "id": "dc318382",
   "metadata": {},
   "outputs": [],
   "source": [
    "from sklearn.preprocessing import StandardScaler"
   ]
  },
  {
   "cell_type": "code",
   "execution_count": 94,
   "id": "5073ff40",
   "metadata": {},
   "outputs": [],
   "source": [
    "ss = StandardScaler()"
   ]
  },
  {
   "cell_type": "code",
   "execution_count": 95,
   "id": "061f00a3",
   "metadata": {},
   "outputs": [],
   "source": [
    "X_train['ss_cp'] = ss.fit_transform(X_train[['Cost_of_the_Product']])"
   ]
  },
  {
   "cell_type": "code",
   "execution_count": 96,
   "id": "a59304b5",
   "metadata": {},
   "outputs": [],
   "source": [
    "result1 = X_train.query('-0.25 < ss_cp < 0.4')"
   ]
  },
  {
   "cell_type": "code",
   "execution_count": 97,
   "id": "764fbf2f",
   "metadata": {},
   "outputs": [],
   "source": [
    "value1 = result1.Customer_rating.median()"
   ]
  },
  {
   "cell_type": "code",
   "execution_count": 98,
   "id": "47eb4459",
   "metadata": {},
   "outputs": [
    {
     "data": {
      "text/plain": [
       "3.0"
      ]
     },
     "execution_count": 98,
     "metadata": {},
     "output_type": "execute_result"
    }
   ],
   "source": [
    "value1"
   ]
  },
  {
   "cell_type": "markdown",
   "id": "12315c14",
   "metadata": {},
   "source": [
    "정규화한 결과 중 0.1 이상, 0.6 이하"
   ]
  },
  {
   "cell_type": "code",
   "execution_count": 99,
   "id": "580ff93a",
   "metadata": {},
   "outputs": [],
   "source": [
    "from sklearn.preprocessing import MinMaxScaler"
   ]
  },
  {
   "cell_type": "code",
   "execution_count": 100,
   "id": "fad41def",
   "metadata": {},
   "outputs": [],
   "source": [
    "ms = MinMaxScaler()"
   ]
  },
  {
   "cell_type": "code",
   "execution_count": 101,
   "id": "f4697cb7",
   "metadata": {},
   "outputs": [],
   "source": [
    "X_train['ms_cp'] = ms.fit_transform(X_train[['Cost_of_the_Product']])"
   ]
  },
  {
   "cell_type": "code",
   "execution_count": 102,
   "id": "36b09502",
   "metadata": {},
   "outputs": [],
   "source": [
    "result2 = X_train.query('0.1 <= ms_cp <= 0.6')"
   ]
  },
  {
   "cell_type": "code",
   "execution_count": 103,
   "id": "ed832be4",
   "metadata": {},
   "outputs": [],
   "source": [
    "value2 = result2.Customer_rating.mean()"
   ]
  },
  {
   "cell_type": "code",
   "execution_count": 104,
   "id": "93c3cb70",
   "metadata": {},
   "outputs": [
    {
     "data": {
      "text/plain": [
       "2.9735955056179777"
      ]
     },
     "execution_count": 104,
     "metadata": {},
     "output_type": "execute_result"
    }
   ],
   "source": [
    "value2"
   ]
  },
  {
   "cell_type": "code",
   "execution_count": 105,
   "id": "182ba6d0",
   "metadata": {},
   "outputs": [
    {
     "name": "stdout",
     "output_type": "stream",
     "text": [
      "8.920786516853934\n"
     ]
    }
   ],
   "source": [
    "print(value1 * value2)"
   ]
  },
  {
   "cell_type": "markdown",
   "id": "a8d5acc7",
   "metadata": {},
   "source": [
    "## 1-3. Reached.on.Time_Y.N을 예측하는 모델링을 수행하시오. 예측확률 값을 submission형태로 제출하고 이 때 파일명을 result1으로 저장하시오."
   ]
  },
  {
   "cell_type": "code",
   "execution_count": 106,
   "id": "ff8c20f9",
   "metadata": {},
   "outputs": [],
   "source": [
    "X_train.drop(['ID', 'ms_cp', 'ss_cp'], axis = 1, inplace = True)\n",
    "test.drop('ID', axis = 1, inplace = True)"
   ]
  },
  {
   "cell_type": "code",
   "execution_count": 107,
   "id": "f5465b08",
   "metadata": {},
   "outputs": [],
   "source": [
    "train = pd.concat([X_train, y_train[['Reached.on.Time_Y.N']]], axis = 1)"
   ]
  },
  {
   "cell_type": "code",
   "execution_count": 108,
   "id": "9ee34abf",
   "metadata": {},
   "outputs": [],
   "source": [
    "train['Gender'] = [1 if g == 'M' else 0 for g in train['Gender']]\n",
    "test['Gender'] = [1 if g == 'M' else 0 for g in test['Gender']]"
   ]
  },
  {
   "cell_type": "code",
   "execution_count": 110,
   "id": "ad0f6eb8",
   "metadata": {
    "scrolled": false
   },
   "outputs": [
    {
     "data": {
      "text/plain": [
       "array(['4', '3', '5', '6', '2', '$7'], dtype=object)"
      ]
     },
     "execution_count": 110,
     "metadata": {},
     "output_type": "execute_result"
    }
   ],
   "source": [
    "train.Customer_care_calls.unique()"
   ]
  },
  {
   "cell_type": "markdown",
   "id": "6e01726b",
   "metadata": {},
   "source": [
    "#### 정규 표현식 이용"
   ]
  },
  {
   "cell_type": "code",
   "execution_count": 78,
   "id": "36f3daf7",
   "metadata": {},
   "outputs": [],
   "source": [
    "import re"
   ]
  },
  {
   "cell_type": "code",
   "execution_count": 81,
   "id": "0ebae7be",
   "metadata": {},
   "outputs": [],
   "source": [
    "train['Customer_care_calls'] = [int(re.sub(r'[^0-9]+', '', s)) for s in train['Customer_care_calls']]"
   ]
  },
  {
   "cell_type": "code",
   "execution_count": 83,
   "id": "cfad132b",
   "metadata": {},
   "outputs": [],
   "source": [
    "test['Customer_care_calls'] = [int(re.sub(r'[^0-9]+', '', s)) for s in test['Customer_care_calls']]"
   ]
  },
  {
   "cell_type": "code",
   "execution_count": 82,
   "id": "14eadb83",
   "metadata": {
    "scrolled": false
   },
   "outputs": [
    {
     "data": {
      "text/plain": [
       "array([4, 3, 5, 6, 2, 7])"
      ]
     },
     "execution_count": 82,
     "metadata": {},
     "output_type": "execute_result"
    }
   ],
   "source": [
    "train.Customer_care_calls.unique()"
   ]
  },
  {
   "cell_type": "markdown",
   "id": "46184cf9",
   "metadata": {},
   "source": [
    "#### str.replace 사용"
   ]
  },
  {
   "cell_type": "code",
   "execution_count": 111,
   "id": "11c83161",
   "metadata": {},
   "outputs": [
    {
     "name": "stderr",
     "output_type": "stream",
     "text": [
      "<ipython-input-111-a18334066eec>:1: FutureWarning: The default value of regex will change from True to False in a future version. In addition, single character regular expressions will*not* be treated as literal strings when regex=True.\n",
      "  train['Customer_care_calls'] = train['Customer_care_calls'].str.replace('$', '').astype(int)\n"
     ]
    }
   ],
   "source": [
    "train['Customer_care_calls'] = train['Customer_care_calls'].str.replace('$', '').astype(int)"
   ]
  },
  {
   "cell_type": "code",
   "execution_count": 112,
   "id": "d4da14c5",
   "metadata": {},
   "outputs": [
    {
     "name": "stderr",
     "output_type": "stream",
     "text": [
      "<ipython-input-112-47d831329eaf>:1: FutureWarning: The default value of regex will change from True to False in a future version. In addition, single character regular expressions will*not* be treated as literal strings when regex=True.\n",
      "  test['Customer_care_calls'] = test['Customer_care_calls'].str.replace('$', '').astype(int)\n"
     ]
    }
   ],
   "source": [
    "test['Customer_care_calls'] = test['Customer_care_calls'].str.replace('$', '').astype(int)"
   ]
  },
  {
   "cell_type": "code",
   "execution_count": 113,
   "id": "e5bd4861",
   "metadata": {
    "scrolled": true
   },
   "outputs": [
    {
     "data": {
      "text/plain": [
       "array([4, 3, 5, 6, 2, 7])"
      ]
     },
     "execution_count": 113,
     "metadata": {},
     "output_type": "execute_result"
    }
   ],
   "source": [
    "train.Customer_care_calls.unique()"
   ]
  },
  {
   "cell_type": "code",
   "execution_count": 114,
   "id": "8ca14a1f",
   "metadata": {},
   "outputs": [],
   "source": [
    "X = train.drop('Reached.on.Time_Y.N', axis = 1)\n",
    "y = train['Reached.on.Time_Y.N']"
   ]
  },
  {
   "cell_type": "code",
   "execution_count": 115,
   "id": "35753cfc",
   "metadata": {},
   "outputs": [],
   "source": [
    "X = pd.get_dummies(X)"
   ]
  },
  {
   "cell_type": "code",
   "execution_count": 118,
   "id": "6e8adf7c",
   "metadata": {},
   "outputs": [],
   "source": [
    "target = pd.get_dummies(test)"
   ]
  },
  {
   "cell_type": "code",
   "execution_count": 119,
   "id": "27863439",
   "metadata": {
    "scrolled": true
   },
   "outputs": [
    {
     "data": {
      "text/plain": [
       "((4401, 18), (6598, 18))"
      ]
     },
     "execution_count": 119,
     "metadata": {},
     "output_type": "execute_result"
    }
   ],
   "source": [
    "target.shape, X.shape"
   ]
  },
  {
   "cell_type": "code",
   "execution_count": 120,
   "id": "94117de4",
   "metadata": {},
   "outputs": [],
   "source": [
    "target = target[X.columns]"
   ]
  },
  {
   "cell_type": "markdown",
   "id": "53278fe8",
   "metadata": {},
   "source": [
    "### SVM, RandomForest"
   ]
  },
  {
   "cell_type": "code",
   "execution_count": 121,
   "id": "d1cc76c4",
   "metadata": {},
   "outputs": [],
   "source": [
    "from sklearn.svm import SVC\n",
    "from sklearn.ensemble import RandomForestClassifier"
   ]
  },
  {
   "cell_type": "markdown",
   "id": "a3a616b1",
   "metadata": {},
   "source": [
    "### Hold Out"
   ]
  },
  {
   "cell_type": "code",
   "execution_count": 124,
   "id": "d8dbad0b",
   "metadata": {},
   "outputs": [],
   "source": [
    "from sklearn.model_selection import train_test_split"
   ]
  },
  {
   "cell_type": "code",
   "execution_count": 125,
   "id": "0c10a84b",
   "metadata": {},
   "outputs": [],
   "source": [
    "X_train, X_val, y_train, y_val = train_test_split(X, y, random_state = 42, test_size = 0.2, stratify = y)"
   ]
  },
  {
   "cell_type": "code",
   "execution_count": 126,
   "id": "0a0aded5",
   "metadata": {},
   "outputs": [],
   "source": [
    "svc = SVC(probability = True)"
   ]
  },
  {
   "cell_type": "code",
   "execution_count": 127,
   "id": "296c3330",
   "metadata": {},
   "outputs": [
    {
     "data": {
      "text/plain": [
       "SVC(probability=True)"
      ]
     },
     "execution_count": 127,
     "metadata": {},
     "output_type": "execute_result"
    }
   ],
   "source": [
    "svc.fit(X_train, y_train)"
   ]
  },
  {
   "cell_type": "code",
   "execution_count": 128,
   "id": "84c77707",
   "metadata": {},
   "outputs": [],
   "source": [
    "svc_pred = svc.predict_proba(X_val)[:, 1]"
   ]
  },
  {
   "cell_type": "code",
   "execution_count": 130,
   "id": "1a46a58d",
   "metadata": {},
   "outputs": [],
   "source": [
    "from sklearn.metrics import roc_auc_score"
   ]
  },
  {
   "cell_type": "code",
   "execution_count": 132,
   "id": "fdcf2532",
   "metadata": {},
   "outputs": [],
   "source": [
    "svc_score = roc_auc_score(y_val, svc_pred)"
   ]
  },
  {
   "cell_type": "code",
   "execution_count": 133,
   "id": "b9e3b999",
   "metadata": {},
   "outputs": [
    {
     "data": {
      "text/plain": [
       "0.7286911759093164"
      ]
     },
     "execution_count": 133,
     "metadata": {},
     "output_type": "execute_result"
    }
   ],
   "source": [
    "svc_score"
   ]
  },
  {
   "cell_type": "code",
   "execution_count": 134,
   "id": "cbe06930",
   "metadata": {},
   "outputs": [],
   "source": [
    "rf = RandomForestClassifier(random_state = 42)"
   ]
  },
  {
   "cell_type": "code",
   "execution_count": 135,
   "id": "626e9fb2",
   "metadata": {},
   "outputs": [
    {
     "data": {
      "text/plain": [
       "RandomForestClassifier(random_state=42)"
      ]
     },
     "execution_count": 135,
     "metadata": {},
     "output_type": "execute_result"
    }
   ],
   "source": [
    "rf.fit(X_train, y_train)"
   ]
  },
  {
   "cell_type": "code",
   "execution_count": 136,
   "id": "59a5cbe9",
   "metadata": {},
   "outputs": [],
   "source": [
    "rf_pred = rf.predict_proba(X_val)[:, 1]"
   ]
  },
  {
   "cell_type": "code",
   "execution_count": 137,
   "id": "5ed97029",
   "metadata": {},
   "outputs": [],
   "source": [
    "rf_score = roc_auc_score(y_val, rf_pred)"
   ]
  },
  {
   "cell_type": "code",
   "execution_count": 138,
   "id": "d4a0e14a",
   "metadata": {
    "scrolled": true
   },
   "outputs": [
    {
     "data": {
      "text/plain": [
       "0.7516733617037519"
      ]
     },
     "execution_count": 138,
     "metadata": {},
     "output_type": "execute_result"
    }
   ],
   "source": [
    "rf_score"
   ]
  },
  {
   "cell_type": "markdown",
   "id": "3a8a4a8e",
   "metadata": {},
   "source": [
    "### 전체 데이터 학습"
   ]
  },
  {
   "cell_type": "code",
   "execution_count": 143,
   "id": "7c0fc802",
   "metadata": {},
   "outputs": [],
   "source": [
    "svc = SVC(probability = True)"
   ]
  },
  {
   "cell_type": "code",
   "execution_count": 144,
   "id": "93505500",
   "metadata": {},
   "outputs": [
    {
     "data": {
      "text/plain": [
       "SVC(probability=True)"
      ]
     },
     "execution_count": 144,
     "metadata": {},
     "output_type": "execute_result"
    }
   ],
   "source": [
    "svc.fit(X, y)"
   ]
  },
  {
   "cell_type": "code",
   "execution_count": 145,
   "id": "024f5f06",
   "metadata": {},
   "outputs": [],
   "source": [
    "svc_pred = svc.predict_proba(target)[:, 1]"
   ]
  },
  {
   "cell_type": "code",
   "execution_count": 146,
   "id": "d252d79e",
   "metadata": {},
   "outputs": [
    {
     "data": {
      "text/plain": [
       "array([0.73545943, 0.34606237, 0.59951557, ..., 0.37195058, 0.34324547,\n",
       "       0.79621129])"
      ]
     },
     "execution_count": 146,
     "metadata": {},
     "output_type": "execute_result"
    }
   ],
   "source": [
    "svc_pred"
   ]
  },
  {
   "cell_type": "code",
   "execution_count": 140,
   "id": "e24bcc7b",
   "metadata": {
    "scrolled": true
   },
   "outputs": [
    {
     "data": {
      "text/plain": [
       "RandomForestClassifier(random_state=42)"
      ]
     },
     "execution_count": 140,
     "metadata": {},
     "output_type": "execute_result"
    }
   ],
   "source": [
    "rf.fit(X, y)"
   ]
  },
  {
   "cell_type": "code",
   "execution_count": 141,
   "id": "2da4d3b6",
   "metadata": {},
   "outputs": [],
   "source": [
    "rf_pred = rf.predict_proba(target)[:, 1]"
   ]
  },
  {
   "cell_type": "code",
   "execution_count": 142,
   "id": "0baef065",
   "metadata": {
    "scrolled": true
   },
   "outputs": [
    {
     "data": {
      "text/plain": [
       "array([0.43, 0.46, 0.44, ..., 0.35, 0.31, 1.  ])"
      ]
     },
     "execution_count": 142,
     "metadata": {},
     "output_type": "execute_result"
    }
   ],
   "source": [
    "rf_pred"
   ]
  },
  {
   "cell_type": "code",
   "execution_count": 147,
   "id": "9e467144",
   "metadata": {},
   "outputs": [],
   "source": [
    "submission['Reached.on.Time_Y.N'] = rf_pred * 0.65 + svc_pred * 0.35"
   ]
  },
  {
   "cell_type": "code",
   "execution_count": 148,
   "id": "6c0c305c",
   "metadata": {},
   "outputs": [
    {
     "data": {
      "text/html": [
       "<div>\n",
       "<style scoped>\n",
       "    .dataframe tbody tr th:only-of-type {\n",
       "        vertical-align: middle;\n",
       "    }\n",
       "\n",
       "    .dataframe tbody tr th {\n",
       "        vertical-align: top;\n",
       "    }\n",
       "\n",
       "    .dataframe thead th {\n",
       "        text-align: right;\n",
       "    }\n",
       "</style>\n",
       "<table border=\"1\" class=\"dataframe\">\n",
       "  <thead>\n",
       "    <tr style=\"text-align: right;\">\n",
       "      <th></th>\n",
       "      <th>ID</th>\n",
       "      <th>Reached.on.Time_Y.N</th>\n",
       "    </tr>\n",
       "  </thead>\n",
       "  <tbody>\n",
       "    <tr>\n",
       "      <th>0</th>\n",
       "      <td>6811</td>\n",
       "      <td>0.536911</td>\n",
       "    </tr>\n",
       "    <tr>\n",
       "      <th>1</th>\n",
       "      <td>4320</td>\n",
       "      <td>0.420122</td>\n",
       "    </tr>\n",
       "    <tr>\n",
       "      <th>2</th>\n",
       "      <td>5732</td>\n",
       "      <td>0.495830</td>\n",
       "    </tr>\n",
       "    <tr>\n",
       "      <th>3</th>\n",
       "      <td>7429</td>\n",
       "      <td>0.591969</td>\n",
       "    </tr>\n",
       "    <tr>\n",
       "      <th>4</th>\n",
       "      <td>2191</td>\n",
       "      <td>0.931595</td>\n",
       "    </tr>\n",
       "  </tbody>\n",
       "</table>\n",
       "</div>"
      ],
      "text/plain": [
       "     ID  Reached.on.Time_Y.N\n",
       "0  6811             0.536911\n",
       "1  4320             0.420122\n",
       "2  5732             0.495830\n",
       "3  7429             0.591969\n",
       "4  2191             0.931595"
      ]
     },
     "execution_count": 148,
     "metadata": {},
     "output_type": "execute_result"
    }
   ],
   "source": [
    "submission.head()"
   ]
  },
  {
   "cell_type": "code",
   "execution_count": 149,
   "id": "5c69a862",
   "metadata": {},
   "outputs": [],
   "source": [
    "#submission.to_csv('result1.csv', index = False)"
   ]
  },
  {
   "cell_type": "markdown",
   "id": "f4d33e7b",
   "metadata": {},
   "source": [
    "### Ensemble"
   ]
  },
  {
   "cell_type": "code",
   "execution_count": 150,
   "id": "938825b7",
   "metadata": {},
   "outputs": [],
   "source": [
    "from sklearn.model_selection import StratifiedKFold"
   ]
  },
  {
   "cell_type": "code",
   "execution_count": 151,
   "id": "93fa6eb8",
   "metadata": {},
   "outputs": [],
   "source": [
    "skf = StratifiedKFold(n_splits = 10, shuffle = True, random_state = 42)"
   ]
  },
  {
   "cell_type": "code",
   "execution_count": 152,
   "id": "62f2dfbe",
   "metadata": {},
   "outputs": [],
   "source": [
    "svc_pred = np.zeros(target.shape[0])\n",
    "scores = []\n",
    "for tr_idx, val_idx in skf.split(X, y) :\n",
    "    tr_x, tr_y = X.iloc[tr_idx], y.iloc[tr_idx]\n",
    "    val_x, val_y = X.iloc[val_idx], y.iloc[val_idx]\n",
    "    \n",
    "    svc = SVC(probability = True)\n",
    "    svc.fit(tr_x, tr_y)\n",
    "    \n",
    "    val_pred = svc.predict_proba(val_x)[:, 1]\n",
    "    val_score = roc_auc_score(val_y, val_pred)\n",
    "    scores.append(val_score)\n",
    "    \n",
    "    fold_pred = svc.predict_proba(target)[:, 1] / 10\n",
    "    svc_pred += fold_pred"
   ]
  },
  {
   "cell_type": "code",
   "execution_count": 153,
   "id": "3c8a292a",
   "metadata": {},
   "outputs": [
    {
     "data": {
      "text/plain": [
       "0.7256092173863691"
      ]
     },
     "execution_count": 153,
     "metadata": {},
     "output_type": "execute_result"
    }
   ],
   "source": [
    "np.mean(scores)"
   ]
  },
  {
   "cell_type": "markdown",
   "id": "819e1170",
   "metadata": {},
   "source": [
    "#### RandomForest Ensemble"
   ]
  },
  {
   "cell_type": "code",
   "execution_count": 154,
   "id": "59cc1599",
   "metadata": {},
   "outputs": [],
   "source": [
    "rf_pred = np.zeros(target.shape[0])\n",
    "scores = []\n",
    "for tr_idx, val_idx in skf.split(X, y) :\n",
    "    tr_x, tr_y = X.iloc[tr_idx], y.iloc[tr_idx]\n",
    "    val_x, val_y = X.iloc[val_idx], y.iloc[val_idx]\n",
    "    \n",
    "    rf = RandomForestClassifier(random_state = 42)\n",
    "    rf.fit(tr_x, tr_y)\n",
    "    \n",
    "    val_pred = rf.predict_proba(val_x)[:, 1]\n",
    "    val_score = roc_auc_score(val_y, val_pred)\n",
    "    scores.append(val_score)\n",
    "    \n",
    "    fold_pred = rf.predict_proba(target)[:, 1] / 10\n",
    "    rf_pred += fold_pred"
   ]
  },
  {
   "cell_type": "code",
   "execution_count": 155,
   "id": "7f74f05e",
   "metadata": {},
   "outputs": [
    {
     "data": {
      "text/plain": [
       "0.7422187988399715"
      ]
     },
     "execution_count": 155,
     "metadata": {},
     "output_type": "execute_result"
    }
   ],
   "source": [
    "np.mean(scores)"
   ]
  },
  {
   "cell_type": "code",
   "execution_count": 156,
   "id": "224c04e3",
   "metadata": {},
   "outputs": [],
   "source": [
    "submission['Reached.on.Time_Y.N'] = rf_pred * 0.75 + svc_pred * 0.25"
   ]
  },
  {
   "cell_type": "code",
   "execution_count": 158,
   "id": "afe299ff",
   "metadata": {
    "scrolled": true
   },
   "outputs": [
    {
     "data": {
      "text/html": [
       "<div>\n",
       "<style scoped>\n",
       "    .dataframe tbody tr th:only-of-type {\n",
       "        vertical-align: middle;\n",
       "    }\n",
       "\n",
       "    .dataframe tbody tr th {\n",
       "        vertical-align: top;\n",
       "    }\n",
       "\n",
       "    .dataframe thead th {\n",
       "        text-align: right;\n",
       "    }\n",
       "</style>\n",
       "<table border=\"1\" class=\"dataframe\">\n",
       "  <thead>\n",
       "    <tr style=\"text-align: right;\">\n",
       "      <th></th>\n",
       "      <th>ID</th>\n",
       "      <th>Reached.on.Time_Y.N</th>\n",
       "    </tr>\n",
       "  </thead>\n",
       "  <tbody>\n",
       "    <tr>\n",
       "      <th>0</th>\n",
       "      <td>6811</td>\n",
       "      <td>0.515248</td>\n",
       "    </tr>\n",
       "    <tr>\n",
       "      <th>1</th>\n",
       "      <td>4320</td>\n",
       "      <td>0.399009</td>\n",
       "    </tr>\n",
       "    <tr>\n",
       "      <th>2</th>\n",
       "      <td>5732</td>\n",
       "      <td>0.482839</td>\n",
       "    </tr>\n",
       "    <tr>\n",
       "      <th>3</th>\n",
       "      <td>7429</td>\n",
       "      <td>0.529212</td>\n",
       "    </tr>\n",
       "    <tr>\n",
       "      <th>4</th>\n",
       "      <td>2191</td>\n",
       "      <td>0.950521</td>\n",
       "    </tr>\n",
       "  </tbody>\n",
       "</table>\n",
       "</div>"
      ],
      "text/plain": [
       "     ID  Reached.on.Time_Y.N\n",
       "0  6811             0.515248\n",
       "1  4320             0.399009\n",
       "2  5732             0.482839\n",
       "3  7429             0.529212\n",
       "4  2191             0.950521"
      ]
     },
     "execution_count": 158,
     "metadata": {},
     "output_type": "execute_result"
    }
   ],
   "source": [
    "submission.head()"
   ]
  },
  {
   "cell_type": "code",
   "execution_count": 159,
   "id": "f2de13b4",
   "metadata": {},
   "outputs": [],
   "source": [
    "#submission.to_csv('result1.csv', index = False)"
   ]
  },
  {
   "cell_type": "markdown",
   "id": "816b936b",
   "metadata": {},
   "source": [
    "### Parameter Tuning"
   ]
  },
  {
   "cell_type": "code",
   "execution_count": 160,
   "id": "2609a134",
   "metadata": {},
   "outputs": [],
   "source": [
    "from sklearn.model_selection import GridSearchCV"
   ]
  },
  {
   "cell_type": "code",
   "execution_count": 169,
   "id": "d4e5054a",
   "metadata": {},
   "outputs": [],
   "source": [
    "rf_params = {'max_depth' : [4, 5, 6], 'n_estimators' : [100, 300]}"
   ]
  },
  {
   "cell_type": "code",
   "execution_count": 170,
   "id": "0f3655ef",
   "metadata": {},
   "outputs": [],
   "source": [
    "rf_grid = GridSearchCV(rf, rf_params, scoring = 'roc_auc', cv = skf)"
   ]
  },
  {
   "cell_type": "markdown",
   "id": "d9285625",
   "metadata": {},
   "source": [
    "10 Fold * max_depth(3) * n_estimators(2) ---> fitting 60!!!"
   ]
  },
  {
   "cell_type": "code",
   "execution_count": 171,
   "id": "2d7d26dc",
   "metadata": {},
   "outputs": [
    {
     "data": {
      "text/plain": [
       "GridSearchCV(cv=StratifiedKFold(n_splits=10, random_state=42, shuffle=True),\n",
       "             estimator=RandomForestClassifier(random_state=42),\n",
       "             param_grid={'max_depth': [4, 5, 6], 'n_estimators': [100, 300]},\n",
       "             scoring='roc_auc')"
      ]
     },
     "execution_count": 171,
     "metadata": {},
     "output_type": "execute_result"
    }
   ],
   "source": [
    "rf_grid.fit(X, y)"
   ]
  },
  {
   "cell_type": "code",
   "execution_count": 172,
   "id": "f36f90bc",
   "metadata": {},
   "outputs": [
    {
     "data": {
      "text/plain": [
       "RandomForestClassifier(max_depth=4, n_estimators=300, random_state=42)"
      ]
     },
     "execution_count": 172,
     "metadata": {},
     "output_type": "execute_result"
    }
   ],
   "source": [
    "rf_grid.best_estimator_"
   ]
  },
  {
   "cell_type": "code",
   "execution_count": 173,
   "id": "5b74c73c",
   "metadata": {},
   "outputs": [
    {
     "data": {
      "text/plain": [
       "{'max_depth': 4, 'n_estimators': 300}"
      ]
     },
     "execution_count": 173,
     "metadata": {},
     "output_type": "execute_result"
    }
   ],
   "source": [
    "rf_grid.best_params_"
   ]
  },
  {
   "cell_type": "code",
   "execution_count": 175,
   "id": "a4a1faee",
   "metadata": {},
   "outputs": [
    {
     "data": {
      "text/plain": [
       "0.7517393459572195"
      ]
     },
     "execution_count": 175,
     "metadata": {},
     "output_type": "execute_result"
    }
   ],
   "source": [
    "rf_grid.best_score_"
   ]
  },
  {
   "cell_type": "markdown",
   "id": "78b19746",
   "metadata": {},
   "source": [
    "***\n",
    "## 2-1. age를 기준으로 이상치를 탐색하고 이상치 데이터의 higher education 비율을 출력하시오."
   ]
  },
  {
   "cell_type": "code",
   "execution_count": 177,
   "id": "7ffc538d",
   "metadata": {},
   "outputs": [],
   "source": [
    "train = pd.read_csv('clients_train.csv')\n",
    "test = pd.read_csv('clients_test.csv')\n",
    "submission = pd.read_csv('client_submission.csv')"
   ]
  },
  {
   "cell_type": "code",
   "execution_count": 179,
   "id": "1ac76d0c",
   "metadata": {},
   "outputs": [],
   "source": [
    "q1 = train['age'].quantile(0.25)\n",
    "q3 = train['age'].quantile(0.75)"
   ]
  },
  {
   "cell_type": "code",
   "execution_count": 180,
   "id": "1a2d177a",
   "metadata": {},
   "outputs": [
    {
     "data": {
      "text/plain": [
       "(26.0, 44.0)"
      ]
     },
     "execution_count": 180,
     "metadata": {},
     "output_type": "execute_result"
    }
   ],
   "source": [
    "q1, q3"
   ]
  },
  {
   "cell_type": "code",
   "execution_count": 181,
   "id": "5d1f1995",
   "metadata": {},
   "outputs": [],
   "source": [
    "q1 = np.percentile(train['age'], 25)\n",
    "q3 = np.percentile(train['age'], 75)"
   ]
  },
  {
   "cell_type": "code",
   "execution_count": 182,
   "id": "707593e6",
   "metadata": {},
   "outputs": [
    {
     "data": {
      "text/plain": [
       "(26.0, 44.0)"
      ]
     },
     "execution_count": 182,
     "metadata": {},
     "output_type": "execute_result"
    }
   ],
   "source": [
    "q1, q3"
   ]
  },
  {
   "cell_type": "code",
   "execution_count": 183,
   "id": "b06de926",
   "metadata": {},
   "outputs": [],
   "source": [
    "iqr = q3 - q1"
   ]
  },
  {
   "cell_type": "code",
   "execution_count": 184,
   "id": "1072d6f5",
   "metadata": {},
   "outputs": [],
   "source": [
    "l_b = q1 - 1.5 * iqr\n",
    "u_b = q3 + 1.5 * iqr"
   ]
  },
  {
   "cell_type": "code",
   "execution_count": 186,
   "id": "23b3ec28",
   "metadata": {},
   "outputs": [],
   "source": [
    "out = train[train.age > u_b]"
   ]
  },
  {
   "cell_type": "code",
   "execution_count": 188,
   "id": "0db1893c",
   "metadata": {},
   "outputs": [
    {
     "data": {
      "text/plain": [
       "array(['Secondary education', 'Secondary special education',\n",
       "       'Higher education'], dtype=object)"
      ]
     },
     "execution_count": 188,
     "metadata": {},
     "output_type": "execute_result"
    }
   ],
   "source": [
    "out.education.unique()"
   ]
  },
  {
   "cell_type": "code",
   "execution_count": 191,
   "id": "a88549b8",
   "metadata": {},
   "outputs": [
    {
     "name": "stdout",
     "output_type": "stream",
     "text": [
      "0.4\n"
     ]
    }
   ],
   "source": [
    "print(out[out.education == 'Higher education'].shape[0] / out.shape[0])"
   ]
  },
  {
   "cell_type": "code",
   "execution_count": 196,
   "id": "c43c97ae",
   "metadata": {},
   "outputs": [
    {
     "data": {
      "text/plain": [
       "Higher education               10\n",
       "Secondary education             8\n",
       "Secondary special education     7\n",
       "Name: education, dtype: int64"
      ]
     },
     "execution_count": 196,
     "metadata": {},
     "output_type": "execute_result"
    }
   ],
   "source": [
    "out.education.value_counts()"
   ]
  },
  {
   "cell_type": "code",
   "execution_count": 195,
   "id": "a23bbafd",
   "metadata": {},
   "outputs": [
    {
     "name": "stdout",
     "output_type": "stream",
     "text": [
      "10\n",
      "25\n"
     ]
    }
   ],
   "source": [
    "print(out.education.value_counts()['Higher education'])\n",
    "print(out.education.value_counts().sum())"
   ]
  },
  {
   "cell_type": "markdown",
   "id": "03616411",
   "metadata": {},
   "source": [
    "## 2-2. income에 대해 정규화를 실시하고 결과값이 0.3 이상 0.65미만인 데이터의 credit_amount와 age의 상관계수를 출력하시오."
   ]
  },
  {
   "cell_type": "code",
   "execution_count": 198,
   "id": "ef2c9a43",
   "metadata": {},
   "outputs": [],
   "source": [
    "from sklearn.preprocessing import MinMaxScaler"
   ]
  },
  {
   "cell_type": "code",
   "execution_count": 199,
   "id": "47e4845c",
   "metadata": {},
   "outputs": [],
   "source": [
    "ms = MinMaxScaler()"
   ]
  },
  {
   "cell_type": "code",
   "execution_count": 200,
   "id": "8b0e8ec7",
   "metadata": {},
   "outputs": [],
   "source": [
    "train['ms_i'] = ms.fit_transform(train[['income']])"
   ]
  },
  {
   "cell_type": "code",
   "execution_count": 202,
   "id": "179849d3",
   "metadata": {},
   "outputs": [],
   "source": [
    "result = train.query('0.3 <= ms_i < 0.65')"
   ]
  },
  {
   "cell_type": "markdown",
   "id": "7241747f",
   "metadata": {},
   "source": [
    "#### numpy 이용"
   ]
  },
  {
   "cell_type": "code",
   "execution_count": 205,
   "id": "5ba2226e",
   "metadata": {},
   "outputs": [
    {
     "data": {
      "text/plain": [
       "-0.03882987309782206"
      ]
     },
     "execution_count": 205,
     "metadata": {},
     "output_type": "execute_result"
    }
   ],
   "source": [
    "np.corrcoef(result['credit_amount'], result['age'])[0, 1]"
   ]
  },
  {
   "cell_type": "markdown",
   "id": "2937c25a",
   "metadata": {},
   "source": [
    "#### pandas 이용"
   ]
  },
  {
   "cell_type": "code",
   "execution_count": 207,
   "id": "bb281a09",
   "metadata": {},
   "outputs": [
    {
     "data": {
      "text/plain": [
       "-0.03882987309782211"
      ]
     },
     "execution_count": 207,
     "metadata": {},
     "output_type": "execute_result"
    }
   ],
   "source": [
    "result.corr()['credit_amount']['age']"
   ]
  },
  {
   "cell_type": "markdown",
   "id": "77a500dd",
   "metadata": {},
   "source": [
    "## 2-3. product_type별로 credit_amount의 왜도를 탐색하고 이 때 3, 5번째로 왜도의 절댓값이 큰 type을 리스트로 출력하시오."
   ]
  },
  {
   "cell_type": "code",
   "execution_count": 217,
   "id": "2042aa4d",
   "metadata": {},
   "outputs": [],
   "source": [
    "result = abs(train.groupby('product_type').credit_amount.skew()).sort_values()[::-1].reset_index()"
   ]
  },
  {
   "cell_type": "code",
   "execution_count": 223,
   "id": "f099fa58",
   "metadata": {},
   "outputs": [
    {
     "data": {
      "text/html": [
       "<div>\n",
       "<style scoped>\n",
       "    .dataframe tbody tr th:only-of-type {\n",
       "        vertical-align: middle;\n",
       "    }\n",
       "\n",
       "    .dataframe tbody tr th {\n",
       "        vertical-align: top;\n",
       "    }\n",
       "\n",
       "    .dataframe thead th {\n",
       "        text-align: right;\n",
       "    }\n",
       "</style>\n",
       "<table border=\"1\" class=\"dataframe\">\n",
       "  <thead>\n",
       "    <tr style=\"text-align: right;\">\n",
       "      <th></th>\n",
       "      <th>product_type</th>\n",
       "      <th>credit_amount</th>\n",
       "    </tr>\n",
       "  </thead>\n",
       "  <tbody>\n",
       "    <tr>\n",
       "      <th>0</th>\n",
       "      <td>Music</td>\n",
       "      <td>NaN</td>\n",
       "    </tr>\n",
       "    <tr>\n",
       "      <th>1</th>\n",
       "      <td>Garden equipment</td>\n",
       "      <td>NaN</td>\n",
       "    </tr>\n",
       "    <tr>\n",
       "      <th>2</th>\n",
       "      <td>Childen's goods</td>\n",
       "      <td>NaN</td>\n",
       "    </tr>\n",
       "    <tr>\n",
       "      <th>3</th>\n",
       "      <td>Furniture</td>\n",
       "      <td>2.835442</td>\n",
       "    </tr>\n",
       "    <tr>\n",
       "      <th>4</th>\n",
       "      <td>Windows &amp; Doors</td>\n",
       "      <td>2.626691</td>\n",
       "    </tr>\n",
       "    <tr>\n",
       "      <th>5</th>\n",
       "      <td>Household appliances</td>\n",
       "      <td>2.481810</td>\n",
       "    </tr>\n",
       "    <tr>\n",
       "      <th>6</th>\n",
       "      <td>Clothing</td>\n",
       "      <td>2.287323</td>\n",
       "    </tr>\n",
       "    <tr>\n",
       "      <th>7</th>\n",
       "      <td>Cosmetics and beauty services</td>\n",
       "      <td>2.117954</td>\n",
       "    </tr>\n",
       "    <tr>\n",
       "      <th>8</th>\n",
       "      <td>Auto</td>\n",
       "      <td>2.073833</td>\n",
       "    </tr>\n",
       "    <tr>\n",
       "      <th>9</th>\n",
       "      <td>Jewelry</td>\n",
       "      <td>1.699410</td>\n",
       "    </tr>\n",
       "    <tr>\n",
       "      <th>10</th>\n",
       "      <td>Construction Materials</td>\n",
       "      <td>1.685631</td>\n",
       "    </tr>\n",
       "    <tr>\n",
       "      <th>11</th>\n",
       "      <td>Boats</td>\n",
       "      <td>1.337400</td>\n",
       "    </tr>\n",
       "    <tr>\n",
       "      <th>12</th>\n",
       "      <td>Repair Services</td>\n",
       "      <td>1.325996</td>\n",
       "    </tr>\n",
       "    <tr>\n",
       "      <th>13</th>\n",
       "      <td>Medical services</td>\n",
       "      <td>1.314655</td>\n",
       "    </tr>\n",
       "    <tr>\n",
       "      <th>14</th>\n",
       "      <td>Computers</td>\n",
       "      <td>1.282450</td>\n",
       "    </tr>\n",
       "    <tr>\n",
       "      <th>15</th>\n",
       "      <td>Tourism</td>\n",
       "      <td>1.150843</td>\n",
       "    </tr>\n",
       "    <tr>\n",
       "      <th>16</th>\n",
       "      <td>Cell phones</td>\n",
       "      <td>0.686620</td>\n",
       "    </tr>\n",
       "    <tr>\n",
       "      <th>17</th>\n",
       "      <td>Fitness</td>\n",
       "      <td>0.409684</td>\n",
       "    </tr>\n",
       "    <tr>\n",
       "      <th>18</th>\n",
       "      <td>Audio &amp; Video</td>\n",
       "      <td>0.243648</td>\n",
       "    </tr>\n",
       "    <tr>\n",
       "      <th>19</th>\n",
       "      <td>Sporting goods</td>\n",
       "      <td>0.226944</td>\n",
       "    </tr>\n",
       "    <tr>\n",
       "      <th>20</th>\n",
       "      <td>Training</td>\n",
       "      <td>0.044665</td>\n",
       "    </tr>\n",
       "  </tbody>\n",
       "</table>\n",
       "</div>"
      ],
      "text/plain": [
       "                     product_type  credit_amount\n",
       "0                           Music            NaN\n",
       "1                Garden equipment            NaN\n",
       "2                 Childen's goods            NaN\n",
       "3                       Furniture       2.835442\n",
       "4                 Windows & Doors       2.626691\n",
       "5            Household appliances       2.481810\n",
       "6                        Clothing       2.287323\n",
       "7   Cosmetics and beauty services       2.117954\n",
       "8                            Auto       2.073833\n",
       "9                         Jewelry       1.699410\n",
       "10         Construction Materials       1.685631\n",
       "11                          Boats       1.337400\n",
       "12                Repair Services       1.325996\n",
       "13               Medical services       1.314655\n",
       "14                      Computers       1.282450\n",
       "15                        Tourism       1.150843\n",
       "16                    Cell phones       0.686620\n",
       "17                        Fitness       0.409684\n",
       "18                  Audio & Video       0.243648\n",
       "19                 Sporting goods       0.226944\n",
       "20                       Training       0.044665"
      ]
     },
     "execution_count": 223,
     "metadata": {},
     "output_type": "execute_result"
    }
   ],
   "source": [
    "result"
   ]
  },
  {
   "cell_type": "code",
   "execution_count": 222,
   "id": "2c605d64",
   "metadata": {},
   "outputs": [
    {
     "name": "stdout",
     "output_type": "stream",
     "text": [
      "['Household appliances', 'Cosmetics and beauty services']\n"
     ]
    }
   ],
   "source": [
    "print(result.iloc[[5, 7]].product_type.tolist())"
   ]
  },
  {
   "cell_type": "code",
   "execution_count": 213,
   "id": "f9e61864",
   "metadata": {},
   "outputs": [],
   "source": [
    "answer = ['Household appliances', 'Cosmetics and beauty services']"
   ]
  },
  {
   "cell_type": "code",
   "execution_count": 214,
   "id": "0fcc488d",
   "metadata": {},
   "outputs": [
    {
     "name": "stdout",
     "output_type": "stream",
     "text": [
      "['Household appliances', 'Cosmetics and beauty services']\n"
     ]
    }
   ],
   "source": [
    "print(answer)"
   ]
  },
  {
   "cell_type": "markdown",
   "id": "a762cffe",
   "metadata": {},
   "source": [
    "## 2-4. bad_client_target을 예측하는 모델링을 수행하시오. 이 때 submission의 bad_client_target을 확률값으로 도출하고 result3 파일명으로 저장하시오."
   ]
  },
  {
   "cell_type": "code",
   "execution_count": 225,
   "id": "d9dd31f3",
   "metadata": {},
   "outputs": [],
   "source": [
    "train.drop('ms_i', axis = 1, inplace = True)"
   ]
  },
  {
   "cell_type": "code",
   "execution_count": 227,
   "id": "0bd315be",
   "metadata": {},
   "outputs": [],
   "source": [
    "from sklearn.linear_model import LogisticRegression\n",
    "from sklearn.tree import DecisionTreeClassifier"
   ]
  },
  {
   "cell_type": "code",
   "execution_count": 339,
   "id": "ae3d59a8",
   "metadata": {},
   "outputs": [],
   "source": [
    "X = train.drop('bad_client_target', axis = 1)\n",
    "y = train.bad_client_target\n",
    "\n",
    "target = test.drop('bad_client_target', axis = 1)"
   ]
  },
  {
   "cell_type": "code",
   "execution_count": 340,
   "id": "77e6fa4a",
   "metadata": {},
   "outputs": [],
   "source": [
    "X['sex'] = [1 if s == 'female' else 0 for s in X['sex']]\n",
    "target['sex'] = [1 if s == 'female' else 0 for s in target['sex']]"
   ]
  },
  {
   "cell_type": "code",
   "execution_count": 341,
   "id": "27f5c463",
   "metadata": {},
   "outputs": [
    {
     "data": {
      "text/plain": [
       "education\n",
       "Incomplete secondary education    0.000000\n",
       "PhD degree                        0.000000\n",
       "Higher education                  0.058939\n",
       "Incomplete higher education       0.068493\n",
       "Secondary special education       0.131215\n",
       "Secondary education               0.181818\n",
       "Name: bad_client_target, dtype: float64"
      ]
     },
     "execution_count": 341,
     "metadata": {},
     "output_type": "execute_result"
    }
   ],
   "source": [
    "train.groupby('education').bad_client_target.mean().sort_values()"
   ]
  },
  {
   "cell_type": "code",
   "execution_count": 342,
   "id": "3ce03268",
   "metadata": {},
   "outputs": [],
   "source": [
    "def new_edu(x) :\n",
    "    if x in ['Higher education', 'Incomplete higher education'] :\n",
    "        return 2\n",
    "    elif x in ['Secondary education', 'Secondary special education'] :\n",
    "        return 3\n",
    "    else :\n",
    "        return 1"
   ]
  },
  {
   "cell_type": "code",
   "execution_count": 343,
   "id": "3437b04a",
   "metadata": {},
   "outputs": [],
   "source": [
    "X['education'] = X['education'].apply(new_edu)"
   ]
  },
  {
   "cell_type": "code",
   "execution_count": 344,
   "id": "e408322b",
   "metadata": {},
   "outputs": [],
   "source": [
    "target['education'] = target['education'].apply(new_edu)"
   ]
  },
  {
   "cell_type": "code",
   "execution_count": 345,
   "id": "77e32422",
   "metadata": {},
   "outputs": [],
   "source": [
    "def new_type(x) :\n",
    "    if x in ['Audio & Video', 'Sporting goods', 'Music', 'Garden equipment',\n",
    "       \"Childen's goods\", 'Training', 'Fitness'] :\n",
    "        return 1\n",
    "    elif x in ['Furniture', 'Clothing', 'Windows & Doors', 'Medical services',\n",
    "       'Computers', 'Auto', 'Tourism', 'Household appliances',\n",
    "       'Cosmetics and beauty services'] :\n",
    "        return 2\n",
    "    else :\n",
    "        return 3"
   ]
  },
  {
   "cell_type": "code",
   "execution_count": 346,
   "id": "f2f82cf8",
   "metadata": {},
   "outputs": [],
   "source": [
    "X['product_type'] = X['product_type'].apply(new_type)"
   ]
  },
  {
   "cell_type": "code",
   "execution_count": 347,
   "id": "df0a7dc2",
   "metadata": {},
   "outputs": [],
   "source": [
    "target['product_type'] = target['product_type'].apply(new_type)"
   ]
  },
  {
   "cell_type": "code",
   "execution_count": 348,
   "id": "f386ce37",
   "metadata": {},
   "outputs": [],
   "source": [
    "X = pd.get_dummies(X)\n",
    "target = pd.get_dummies(target)"
   ]
  },
  {
   "cell_type": "code",
   "execution_count": 349,
   "id": "6c798727",
   "metadata": {},
   "outputs": [],
   "source": [
    "target = target[X.columns]"
   ]
  },
  {
   "cell_type": "code",
   "execution_count": 350,
   "id": "8edb0b73",
   "metadata": {},
   "outputs": [],
   "source": [
    "from sklearn.preprocessing import StandardScaler"
   ]
  },
  {
   "cell_type": "code",
   "execution_count": 351,
   "id": "c41cfc60",
   "metadata": {},
   "outputs": [],
   "source": [
    "ss = StandardScaler()"
   ]
  },
  {
   "cell_type": "code",
   "execution_count": 352,
   "id": "4025d0ea",
   "metadata": {},
   "outputs": [],
   "source": [
    "X = pd.DataFrame(ss.fit_transform(X), columns = X.columns)"
   ]
  },
  {
   "cell_type": "code",
   "execution_count": 353,
   "id": "ae44e35e",
   "metadata": {},
   "outputs": [],
   "source": [
    "target = pd.DataFrame(ss.transform(target), columns = X.columns)"
   ]
  },
  {
   "cell_type": "code",
   "execution_count": 354,
   "id": "02ad574e",
   "metadata": {},
   "outputs": [],
   "source": [
    "lr_model = LogisticRegression(random_state = 42)\n",
    "dtc = DecisionTreeClassifier(random_state = 42)"
   ]
  },
  {
   "cell_type": "code",
   "execution_count": 355,
   "id": "9108f462",
   "metadata": {},
   "outputs": [],
   "source": [
    "X_train, X_val, y_train, y_val = train_test_split(X, y, random_state = 42, stratify = y, test_size = 0.25)"
   ]
  },
  {
   "cell_type": "code",
   "execution_count": 298,
   "id": "ecb07c82",
   "metadata": {},
   "outputs": [
    {
     "data": {
      "text/plain": [
       "LogisticRegression(random_state=42)"
      ]
     },
     "execution_count": 298,
     "metadata": {},
     "output_type": "execute_result"
    }
   ],
   "source": [
    "lr_model.fit(X_train, y_train)"
   ]
  },
  {
   "cell_type": "code",
   "execution_count": 299,
   "id": "6081d096",
   "metadata": {},
   "outputs": [],
   "source": [
    "lr_pred = lr_model.predict_proba(X_val)[:, 1]"
   ]
  },
  {
   "cell_type": "code",
   "execution_count": 300,
   "id": "b6705388",
   "metadata": {},
   "outputs": [],
   "source": [
    "lr_score = roc_auc_score(y_val, lr_pred)"
   ]
  },
  {
   "cell_type": "code",
   "execution_count": 301,
   "id": "eb216675",
   "metadata": {
    "scrolled": true
   },
   "outputs": [
    {
     "data": {
      "text/plain": [
       "0.7690959544325982"
      ]
     },
     "execution_count": 301,
     "metadata": {},
     "output_type": "execute_result"
    }
   ],
   "source": [
    "lr_score"
   ]
  },
  {
   "cell_type": "code",
   "execution_count": 302,
   "id": "8c316fc7",
   "metadata": {},
   "outputs": [
    {
     "data": {
      "text/plain": [
       "DecisionTreeClassifier(random_state=42)"
      ]
     },
     "execution_count": 302,
     "metadata": {},
     "output_type": "execute_result"
    }
   ],
   "source": [
    "dtc.fit(X_train, y_train)"
   ]
  },
  {
   "cell_type": "code",
   "execution_count": 303,
   "id": "6d7fd632",
   "metadata": {},
   "outputs": [],
   "source": [
    "dtc_pred = dtc.predict_proba(X_val)[:, 1]"
   ]
  },
  {
   "cell_type": "code",
   "execution_count": 304,
   "id": "52aa2c1d",
   "metadata": {},
   "outputs": [],
   "source": [
    "dtc_score = roc_auc_score(y_val, dtc_pred)"
   ]
  },
  {
   "cell_type": "code",
   "execution_count": 305,
   "id": "5342ca45",
   "metadata": {},
   "outputs": [
    {
     "data": {
      "text/plain": [
       "0.5682780779903608"
      ]
     },
     "execution_count": 305,
     "metadata": {},
     "output_type": "execute_result"
    }
   ],
   "source": [
    "dtc_score"
   ]
  },
  {
   "cell_type": "markdown",
   "id": "79705a08",
   "metadata": {},
   "source": [
    "#### 전체 데이터 학습"
   ]
  },
  {
   "cell_type": "code",
   "execution_count": 306,
   "id": "6765a298",
   "metadata": {},
   "outputs": [
    {
     "data": {
      "text/plain": [
       "LogisticRegression(random_state=42)"
      ]
     },
     "execution_count": 306,
     "metadata": {},
     "output_type": "execute_result"
    }
   ],
   "source": [
    "lr_model.fit(X, y)"
   ]
  },
  {
   "cell_type": "code",
   "execution_count": 307,
   "id": "68b93d92",
   "metadata": {},
   "outputs": [],
   "source": [
    "lr_pred = lr_model.predict_proba(target)[:, 1]"
   ]
  },
  {
   "cell_type": "code",
   "execution_count": 309,
   "id": "9e14df5e",
   "metadata": {},
   "outputs": [],
   "source": [
    "submission['bad_client_target'] = lr_pred"
   ]
  },
  {
   "cell_type": "code",
   "execution_count": 310,
   "id": "72fffe9b",
   "metadata": {},
   "outputs": [
    {
     "data": {
      "text/html": [
       "<div>\n",
       "<style scoped>\n",
       "    .dataframe tbody tr th:only-of-type {\n",
       "        vertical-align: middle;\n",
       "    }\n",
       "\n",
       "    .dataframe tbody tr th {\n",
       "        vertical-align: top;\n",
       "    }\n",
       "\n",
       "    .dataframe thead th {\n",
       "        text-align: right;\n",
       "    }\n",
       "</style>\n",
       "<table border=\"1\" class=\"dataframe\">\n",
       "  <thead>\n",
       "    <tr style=\"text-align: right;\">\n",
       "      <th></th>\n",
       "      <th>index</th>\n",
       "      <th>bad_client_target</th>\n",
       "    </tr>\n",
       "  </thead>\n",
       "  <tbody>\n",
       "    <tr>\n",
       "      <th>0</th>\n",
       "      <td>0</td>\n",
       "      <td>0.067311</td>\n",
       "    </tr>\n",
       "    <tr>\n",
       "      <th>1</th>\n",
       "      <td>1</td>\n",
       "      <td>0.047440</td>\n",
       "    </tr>\n",
       "    <tr>\n",
       "      <th>2</th>\n",
       "      <td>2</td>\n",
       "      <td>0.184097</td>\n",
       "    </tr>\n",
       "    <tr>\n",
       "      <th>3</th>\n",
       "      <td>3</td>\n",
       "      <td>0.213726</td>\n",
       "    </tr>\n",
       "    <tr>\n",
       "      <th>4</th>\n",
       "      <td>4</td>\n",
       "      <td>0.496248</td>\n",
       "    </tr>\n",
       "  </tbody>\n",
       "</table>\n",
       "</div>"
      ],
      "text/plain": [
       "   index  bad_client_target\n",
       "0      0           0.067311\n",
       "1      1           0.047440\n",
       "2      2           0.184097\n",
       "3      3           0.213726\n",
       "4      4           0.496248"
      ]
     },
     "execution_count": 310,
     "metadata": {},
     "output_type": "execute_result"
    }
   ],
   "source": [
    "submission.head()"
   ]
  },
  {
   "cell_type": "code",
   "execution_count": 311,
   "id": "8001244a",
   "metadata": {},
   "outputs": [],
   "source": [
    "#submission.to_csv(\"result3.csv\", index = False)"
   ]
  },
  {
   "cell_type": "markdown",
   "id": "212e28c1",
   "metadata": {},
   "source": [
    "### Parameter Tuning"
   ]
  },
  {
   "cell_type": "code",
   "execution_count": 313,
   "id": "18827ec1",
   "metadata": {},
   "outputs": [],
   "source": [
    "skf = StratifiedKFold(n_splits = 5, random_state = 42, shuffle = True)"
   ]
  },
  {
   "cell_type": "code",
   "execution_count": 312,
   "id": "9e8f1fbd",
   "metadata": {},
   "outputs": [],
   "source": [
    "params = {'max_depth' : [3, 4, 5, 6], 'min_samples_split' : [2, 4, 8]}"
   ]
  },
  {
   "cell_type": "code",
   "execution_count": 315,
   "id": "dd2e5ca3",
   "metadata": {},
   "outputs": [],
   "source": [
    "dtc_grid = GridSearchCV(dtc, scoring = 'roc_auc', cv = skf, param_grid = params)"
   ]
  },
  {
   "cell_type": "code",
   "execution_count": 316,
   "id": "35f3e552",
   "metadata": {},
   "outputs": [
    {
     "data": {
      "text/plain": [
       "GridSearchCV(cv=StratifiedKFold(n_splits=5, random_state=42, shuffle=True),\n",
       "             estimator=DecisionTreeClassifier(random_state=42),\n",
       "             param_grid={'max_depth': [3, 4, 5, 6],\n",
       "                         'min_samples_split': [2, 4, 8]},\n",
       "             scoring='roc_auc')"
      ]
     },
     "execution_count": 316,
     "metadata": {},
     "output_type": "execute_result"
    }
   ],
   "source": [
    "dtc_grid.fit(X, y)"
   ]
  },
  {
   "cell_type": "code",
   "execution_count": 317,
   "id": "7374bcfd",
   "metadata": {
    "scrolled": true
   },
   "outputs": [
    {
     "data": {
      "text/plain": [
       "DecisionTreeClassifier(max_depth=3, random_state=42)"
      ]
     },
     "execution_count": 317,
     "metadata": {},
     "output_type": "execute_result"
    }
   ],
   "source": [
    "dtc_grid.best_estimator_"
   ]
  },
  {
   "cell_type": "code",
   "execution_count": 325,
   "id": "5fdb5367",
   "metadata": {},
   "outputs": [
    {
     "data": {
      "text/plain": [
       "0.7269135071366015"
      ]
     },
     "execution_count": 325,
     "metadata": {},
     "output_type": "execute_result"
    }
   ],
   "source": [
    "dtc_grid.best_score_"
   ]
  },
  {
   "cell_type": "code",
   "execution_count": 319,
   "id": "e059f628",
   "metadata": {},
   "outputs": [],
   "source": [
    "best_params = dtc_grid.best_params_"
   ]
  },
  {
   "cell_type": "code",
   "execution_count": 320,
   "id": "b346c0b3",
   "metadata": {},
   "outputs": [],
   "source": [
    "dtc = DecisionTreeClassifier(random_state = 42, **best_params)"
   ]
  },
  {
   "cell_type": "code",
   "execution_count": 321,
   "id": "ac220322",
   "metadata": {
    "scrolled": true
   },
   "outputs": [
    {
     "data": {
      "text/plain": [
       "DecisionTreeClassifier(max_depth=3, random_state=42)"
      ]
     },
     "execution_count": 321,
     "metadata": {},
     "output_type": "execute_result"
    }
   ],
   "source": [
    "dtc.fit(X, y)"
   ]
  },
  {
   "cell_type": "code",
   "execution_count": 322,
   "id": "d74a45e1",
   "metadata": {},
   "outputs": [],
   "source": [
    "dtc_pred = dtc.predict_proba(target)[:, 1]"
   ]
  },
  {
   "cell_type": "code",
   "execution_count": 326,
   "id": "4b987754",
   "metadata": {},
   "outputs": [],
   "source": [
    "submission['bad_client_target'] = dtc_pred * 0.2 + lr_pred * 0.8"
   ]
  },
  {
   "cell_type": "code",
   "execution_count": 327,
   "id": "d4a94e78",
   "metadata": {},
   "outputs": [
    {
     "data": {
      "text/html": [
       "<div>\n",
       "<style scoped>\n",
       "    .dataframe tbody tr th:only-of-type {\n",
       "        vertical-align: middle;\n",
       "    }\n",
       "\n",
       "    .dataframe tbody tr th {\n",
       "        vertical-align: top;\n",
       "    }\n",
       "\n",
       "    .dataframe thead th {\n",
       "        text-align: right;\n",
       "    }\n",
       "</style>\n",
       "<table border=\"1\" class=\"dataframe\">\n",
       "  <thead>\n",
       "    <tr style=\"text-align: right;\">\n",
       "      <th></th>\n",
       "      <th>index</th>\n",
       "      <th>bad_client_target</th>\n",
       "    </tr>\n",
       "  </thead>\n",
       "  <tbody>\n",
       "    <tr>\n",
       "      <th>0</th>\n",
       "      <td>0</td>\n",
       "      <td>0.070671</td>\n",
       "    </tr>\n",
       "    <tr>\n",
       "      <th>1</th>\n",
       "      <td>1</td>\n",
       "      <td>0.054774</td>\n",
       "    </tr>\n",
       "    <tr>\n",
       "      <th>2</th>\n",
       "      <td>2</td>\n",
       "      <td>0.192786</td>\n",
       "    </tr>\n",
       "    <tr>\n",
       "      <th>3</th>\n",
       "      <td>3</td>\n",
       "      <td>0.188581</td>\n",
       "    </tr>\n",
       "    <tr>\n",
       "      <th>4</th>\n",
       "      <td>4</td>\n",
       "      <td>0.513127</td>\n",
       "    </tr>\n",
       "  </tbody>\n",
       "</table>\n",
       "</div>"
      ],
      "text/plain": [
       "   index  bad_client_target\n",
       "0      0           0.070671\n",
       "1      1           0.054774\n",
       "2      2           0.192786\n",
       "3      3           0.188581\n",
       "4      4           0.513127"
      ]
     },
     "execution_count": 327,
     "metadata": {},
     "output_type": "execute_result"
    }
   ],
   "source": [
    "submission.head()"
   ]
  },
  {
   "cell_type": "code",
   "execution_count": 328,
   "id": "80966829",
   "metadata": {},
   "outputs": [],
   "source": [
    "#submission.to_csv('result3.csv', index = False)"
   ]
  },
  {
   "cell_type": "markdown",
   "id": "240a6344",
   "metadata": {},
   "source": [
    "### Except"
   ]
  },
  {
   "cell_type": "code",
   "execution_count": 333,
   "id": "4bb5441b",
   "metadata": {},
   "outputs": [],
   "source": [
    "from sklearn.ensemble import RandomForestClassifier"
   ]
  },
  {
   "cell_type": "code",
   "execution_count": 334,
   "id": "acc432c0",
   "metadata": {},
   "outputs": [],
   "source": [
    "rf = RandomForestClassifier(random_state = 42)"
   ]
  },
  {
   "cell_type": "code",
   "execution_count": 335,
   "id": "b1ae313c",
   "metadata": {},
   "outputs": [],
   "source": [
    "params = {'max_depth' : np.arange(3, 100), 'n_estimators' : [750, 800, 1000, 1200]} "
   ]
  },
  {
   "cell_type": "markdown",
   "id": "5c5a2bff",
   "metadata": {},
   "source": [
    "Fitting 수 : 파라미터1의 범위 * 파라미터 2의 범위 * ---- * 파라미터 n의 범위 * kfold의 k수"
   ]
  },
  {
   "cell_type": "code",
   "execution_count": 336,
   "id": "20e05310",
   "metadata": {},
   "outputs": [],
   "source": [
    "rf_grid = GridSearchCV(rf, param_grid = params, cv = skf, scoring = 'roc_auc')"
   ]
  },
  {
   "cell_type": "code",
   "execution_count": 356,
   "id": "890dd8bd",
   "metadata": {},
   "outputs": [
    {
     "data": {
      "text/plain": [
       "GridSearchCV(cv=StratifiedKFold(n_splits=5, random_state=42, shuffle=True),\n",
       "             estimator=RandomForestClassifier(random_state=42),\n",
       "             param_grid={'max_depth': [3, 4, 5],\n",
       "                         'n_estimators': [100, 500, 1000]},\n",
       "             scoring='roc_auc')"
      ]
     },
     "execution_count": 356,
     "metadata": {},
     "output_type": "execute_result"
    }
   ],
   "source": [
    "rf_grid.fit(X, y)"
   ]
  },
  {
   "cell_type": "code",
   "execution_count": 357,
   "id": "f808cef3",
   "metadata": {},
   "outputs": [
    {
     "data": {
      "text/plain": [
       "{'max_depth': 4, 'n_estimators': 1000}"
      ]
     },
     "execution_count": 357,
     "metadata": {},
     "output_type": "execute_result"
    }
   ],
   "source": [
    "rf_grid.best_params_"
   ]
  },
  {
   "cell_type": "markdown",
   "id": "3901e0ff",
   "metadata": {},
   "source": [
    "***"
   ]
  },
  {
   "cell_type": "code",
   "execution_count": 260,
   "id": "e15c17ed",
   "metadata": {},
   "outputs": [],
   "source": [
    "t1 = pd.DataFrame({'city' : ['서울', '도쿄', '파리']})"
   ]
  },
  {
   "cell_type": "code",
   "execution_count": 263,
   "id": "29d7b440",
   "metadata": {
    "scrolled": true
   },
   "outputs": [
    {
     "data": {
      "text/html": [
       "<div>\n",
       "<style scoped>\n",
       "    .dataframe tbody tr th:only-of-type {\n",
       "        vertical-align: middle;\n",
       "    }\n",
       "\n",
       "    .dataframe tbody tr th {\n",
       "        vertical-align: top;\n",
       "    }\n",
       "\n",
       "    .dataframe thead th {\n",
       "        text-align: right;\n",
       "    }\n",
       "</style>\n",
       "<table border=\"1\" class=\"dataframe\">\n",
       "  <thead>\n",
       "    <tr style=\"text-align: right;\">\n",
       "      <th></th>\n",
       "      <th>city_도쿄</th>\n",
       "      <th>city_서울</th>\n",
       "      <th>city_파리</th>\n",
       "    </tr>\n",
       "  </thead>\n",
       "  <tbody>\n",
       "    <tr>\n",
       "      <th>0</th>\n",
       "      <td>0</td>\n",
       "      <td>1</td>\n",
       "      <td>0</td>\n",
       "    </tr>\n",
       "    <tr>\n",
       "      <th>1</th>\n",
       "      <td>1</td>\n",
       "      <td>0</td>\n",
       "      <td>0</td>\n",
       "    </tr>\n",
       "    <tr>\n",
       "      <th>2</th>\n",
       "      <td>0</td>\n",
       "      <td>0</td>\n",
       "      <td>1</td>\n",
       "    </tr>\n",
       "  </tbody>\n",
       "</table>\n",
       "</div>"
      ],
      "text/plain": [
       "   city_도쿄  city_서울  city_파리\n",
       "0        0        1        0\n",
       "1        1        0        0\n",
       "2        0        0        1"
      ]
     },
     "execution_count": 263,
     "metadata": {},
     "output_type": "execute_result"
    }
   ],
   "source": [
    "pd.get_dummies(t1)"
   ]
  },
  {
   "cell_type": "code",
   "execution_count": 264,
   "id": "b0158925",
   "metadata": {},
   "outputs": [],
   "source": [
    "t2 = pd.DataFrame({'city' : ['서울', '도쿄']})"
   ]
  },
  {
   "cell_type": "code",
   "execution_count": 268,
   "id": "fae65634",
   "metadata": {},
   "outputs": [],
   "source": [
    "t2 = pd.get_dummies(t2)"
   ]
  },
  {
   "cell_type": "code",
   "execution_count": 270,
   "id": "79ed2afc",
   "metadata": {},
   "outputs": [],
   "source": [
    "t2['city_파리'] = 0"
   ]
  },
  {
   "cell_type": "code",
   "execution_count": 271,
   "id": "d0a392ff",
   "metadata": {},
   "outputs": [
    {
     "data": {
      "text/html": [
       "<div>\n",
       "<style scoped>\n",
       "    .dataframe tbody tr th:only-of-type {\n",
       "        vertical-align: middle;\n",
       "    }\n",
       "\n",
       "    .dataframe tbody tr th {\n",
       "        vertical-align: top;\n",
       "    }\n",
       "\n",
       "    .dataframe thead th {\n",
       "        text-align: right;\n",
       "    }\n",
       "</style>\n",
       "<table border=\"1\" class=\"dataframe\">\n",
       "  <thead>\n",
       "    <tr style=\"text-align: right;\">\n",
       "      <th></th>\n",
       "      <th>city_도쿄</th>\n",
       "      <th>city_서울</th>\n",
       "      <th>city_파리</th>\n",
       "    </tr>\n",
       "  </thead>\n",
       "  <tbody>\n",
       "    <tr>\n",
       "      <th>0</th>\n",
       "      <td>0</td>\n",
       "      <td>1</td>\n",
       "      <td>0</td>\n",
       "    </tr>\n",
       "    <tr>\n",
       "      <th>1</th>\n",
       "      <td>1</td>\n",
       "      <td>0</td>\n",
       "      <td>0</td>\n",
       "    </tr>\n",
       "  </tbody>\n",
       "</table>\n",
       "</div>"
      ],
      "text/plain": [
       "   city_도쿄  city_서울  city_파리\n",
       "0        0        1        0\n",
       "1        1        0        0"
      ]
     },
     "execution_count": 271,
     "metadata": {},
     "output_type": "execute_result"
    }
   ],
   "source": [
    "t2"
   ]
  }
 ],
 "metadata": {
  "kernelspec": {
   "display_name": "Python 3",
   "language": "python",
   "name": "python3"
  },
  "language_info": {
   "codemirror_mode": {
    "name": "ipython",
    "version": 3
   },
   "file_extension": ".py",
   "mimetype": "text/x-python",
   "name": "python",
   "nbconvert_exporter": "python",
   "pygments_lexer": "ipython3",
   "version": "3.8.8"
  }
 },
 "nbformat": 4,
 "nbformat_minor": 5
}
