{
 "cells": [
  {
   "cell_type": "markdown",
   "id": "2cdf211e",
   "metadata": {},
   "source": [
    "# 빅데이터 분석 기사 실기 스터디 1주차 과제\n",
    "\n",
    "***\n",
    "\n",
    "## Pandas + Preprocessing 예제(10개)\n",
    "\n",
    "- 출력 결과 형태는 답안예시와 달라도 무방합니다. 문제에서 요구한 값들만 출력되면 됩니다.\n",
    "\n",
    "#### Data : 축구 선수 정보 데이터"
   ]
  },
  {
   "cell_type": "code",
   "execution_count": 8,
   "id": "a0968c98",
   "metadata": {},
   "outputs": [],
   "source": [
    "import pandas as pd\n",
    "import numpy as np"
   ]
  },
  {
   "cell_type": "code",
   "execution_count": 71,
   "id": "c63e7228",
   "metadata": {},
   "outputs": [],
   "source": [
    "data = pd.read_csv(\"FIFA_train.csv\")"
   ]
  },
  {
   "cell_type": "markdown",
   "id": "fa53ae3d",
   "metadata": {},
   "source": [
    "### 1. age, value의 왜도를 각각 구하시오."
   ]
  },
  {
   "cell_type": "code",
   "execution_count": 4,
   "id": "79c2d1e5",
   "metadata": {},
   "outputs": [
    {
     "data": {
      "text/plain": [
       "age      0.356824\n",
       "value    5.885798\n",
       "dtype: float64"
      ]
     },
     "execution_count": 4,
     "metadata": {},
     "output_type": "execute_result"
    }
   ],
   "source": []
  },
  {
   "cell_type": "markdown",
   "id": "1830723e",
   "metadata": {},
   "source": [
    "### 2. 연속형 변수들에 대해 각 변수들의 1사분위수, 3사분위수를 출력하시오."
   ]
  },
  {
   "cell_type": "code",
   "execution_count": 14,
   "id": "884a3f2f",
   "metadata": {},
   "outputs": [
    {
     "name": "stdout",
     "output_type": "stream",
     "text": [
      "id의 1사분위수 : 3751.75, 3사분위수 : 12082.25\n",
      "age의 1사분위수 : 21.0, 3사분위수 : 28.0\n",
      "reputation의 1사분위수 : 1.0, 3사분위수 : 1.0\n",
      "stat_overall의 1사분위수 : 63.0, 3사분위수 : 72.0\n",
      "stat_potential의 1사분위수 : 68.0, 3사분위수 : 76.0\n",
      "stat_skill_moves의 1사분위수 : 2.0, 3사분위수 : 3.0\n",
      "value의 1사분위수 : 375000.0, 3사분위수 : 2600000.0\n"
     ]
    }
   ],
   "source": []
  },
  {
   "cell_type": "markdown",
   "id": "5895d317",
   "metadata": {},
   "source": [
    "### 3. 각 포지션 별로 이적료(value)가 가장 높은 선수 3명을 출력하시오."
   ]
  },
  {
   "cell_type": "code",
   "execution_count": 19,
   "id": "9fefec43",
   "metadata": {},
   "outputs": [
    {
     "data": {
      "text/html": [
       "<div>\n",
       "<style scoped>\n",
       "    .dataframe tbody tr th:only-of-type {\n",
       "        vertical-align: middle;\n",
       "    }\n",
       "\n",
       "    .dataframe tbody tr th {\n",
       "        vertical-align: top;\n",
       "    }\n",
       "\n",
       "    .dataframe thead th {\n",
       "        text-align: right;\n",
       "    }\n",
       "</style>\n",
       "<table border=\"1\" class=\"dataframe\">\n",
       "  <thead>\n",
       "    <tr style=\"text-align: right;\">\n",
       "      <th></th>\n",
       "      <th>position</th>\n",
       "      <th>level_1</th>\n",
       "      <th>value</th>\n",
       "    </tr>\n",
       "  </thead>\n",
       "  <tbody>\n",
       "    <tr>\n",
       "      <th>0</th>\n",
       "      <td>DF</td>\n",
       "      <td>24</td>\n",
       "      <td>57000000.0</td>\n",
       "    </tr>\n",
       "    <tr>\n",
       "      <th>1</th>\n",
       "      <td>DF</td>\n",
       "      <td>3</td>\n",
       "      <td>51000000.0</td>\n",
       "    </tr>\n",
       "    <tr>\n",
       "      <th>2</th>\n",
       "      <td>DF</td>\n",
       "      <td>25</td>\n",
       "      <td>51000000.0</td>\n",
       "    </tr>\n",
       "    <tr>\n",
       "      <th>3</th>\n",
       "      <td>GK</td>\n",
       "      <td>1</td>\n",
       "      <td>72000000.0</td>\n",
       "    </tr>\n",
       "    <tr>\n",
       "      <th>4</th>\n",
       "      <td>GK</td>\n",
       "      <td>4</td>\n",
       "      <td>68000000.0</td>\n",
       "    </tr>\n",
       "    <tr>\n",
       "      <th>5</th>\n",
       "      <td>GK</td>\n",
       "      <td>8</td>\n",
       "      <td>58000000.0</td>\n",
       "    </tr>\n",
       "    <tr>\n",
       "      <th>6</th>\n",
       "      <td>MF</td>\n",
       "      <td>14</td>\n",
       "      <td>69500000.0</td>\n",
       "    </tr>\n",
       "    <tr>\n",
       "      <th>7</th>\n",
       "      <td>MF</td>\n",
       "      <td>26</td>\n",
       "      <td>64000000.0</td>\n",
       "    </tr>\n",
       "    <tr>\n",
       "      <th>8</th>\n",
       "      <td>MF</td>\n",
       "      <td>7</td>\n",
       "      <td>63000000.0</td>\n",
       "    </tr>\n",
       "    <tr>\n",
       "      <th>9</th>\n",
       "      <td>ST</td>\n",
       "      <td>0</td>\n",
       "      <td>110500000.0</td>\n",
       "    </tr>\n",
       "    <tr>\n",
       "      <th>10</th>\n",
       "      <td>ST</td>\n",
       "      <td>2</td>\n",
       "      <td>80000000.0</td>\n",
       "    </tr>\n",
       "    <tr>\n",
       "      <th>11</th>\n",
       "      <td>ST</td>\n",
       "      <td>17</td>\n",
       "      <td>73500000.0</td>\n",
       "    </tr>\n",
       "  </tbody>\n",
       "</table>\n",
       "</div>"
      ],
      "text/plain": [
       "   position  level_1        value\n",
       "0        DF       24   57000000.0\n",
       "1        DF        3   51000000.0\n",
       "2        DF       25   51000000.0\n",
       "3        GK        1   72000000.0\n",
       "4        GK        4   68000000.0\n",
       "5        GK        8   58000000.0\n",
       "6        MF       14   69500000.0\n",
       "7        MF       26   64000000.0\n",
       "8        MF        7   63000000.0\n",
       "9        ST        0  110500000.0\n",
       "10       ST        2   80000000.0\n",
       "11       ST       17   73500000.0"
      ]
     },
     "execution_count": 19,
     "metadata": {},
     "output_type": "execute_result"
    }
   ],
   "source": []
  },
  {
   "cell_type": "markdown",
   "id": "b8299242",
   "metadata": {},
   "source": [
    "### 4. stat_overall에 대해 표준화를 진행하시오.\n",
    "\n",
    "- 1. sklaern 활용\n",
    "- 2. 수식 활용"
   ]
  },
  {
   "cell_type": "code",
   "execution_count": null,
   "id": "89521cb3",
   "metadata": {},
   "outputs": [],
   "source": []
  },
  {
   "cell_type": "code",
   "execution_count": null,
   "id": "b63f4dfa",
   "metadata": {},
   "outputs": [],
   "source": []
  },
  {
   "cell_type": "code",
   "execution_count": 27,
   "id": "b275d651",
   "metadata": {},
   "outputs": [
    {
     "data": {
      "text/plain": [
       "array([[ 3.9257078 ],\n",
       "       [ 3.48804079],\n",
       "       [ 3.48804079],\n",
       "       ...,\n",
       "       [-2.93107538],\n",
       "       [-2.93107538],\n",
       "       [-2.93107538]])"
      ]
     },
     "execution_count": 27,
     "metadata": {},
     "output_type": "execute_result"
    }
   ],
   "source": []
  },
  {
   "cell_type": "code",
   "execution_count": 28,
   "id": "9a05bb87",
   "metadata": {},
   "outputs": [],
   "source": []
  },
  {
   "cell_type": "code",
   "execution_count": 31,
   "id": "35618025",
   "metadata": {},
   "outputs": [],
   "source": []
  },
  {
   "cell_type": "code",
   "execution_count": 32,
   "id": "ac389d7e",
   "metadata": {},
   "outputs": [
    {
     "data": {
      "text/plain": [
       "0       3.925488\n",
       "1       3.487846\n",
       "2       3.487846\n",
       "3       3.487846\n",
       "4       3.341965\n",
       "          ...   \n",
       "8927   -2.785030\n",
       "8928   -2.930911\n",
       "8929   -2.930911\n",
       "8930   -2.930911\n",
       "8931   -2.930911\n",
       "Name: 표준화, Length: 8932, dtype: float64"
      ]
     },
     "execution_count": 32,
     "metadata": {},
     "output_type": "execute_result"
    }
   ],
   "source": []
  },
  {
   "cell_type": "markdown",
   "id": "453a1380",
   "metadata": {},
   "source": [
    "### 5. age에 대해 정규화를 진행하시오.\n",
    "\n",
    "- 1. sklearn 활용\n",
    "- 2. 수식 활용"
   ]
  },
  {
   "cell_type": "code",
   "execution_count": null,
   "id": "69a9e877",
   "metadata": {},
   "outputs": [],
   "source": []
  },
  {
   "cell_type": "code",
   "execution_count": 35,
   "id": "361ec52b",
   "metadata": {
    "scrolled": true
   },
   "outputs": [
    {
     "data": {
      "text/plain": [
       "array([[0.625     ],\n",
       "       [0.45833333],\n",
       "       [0.625     ],\n",
       "       ...,\n",
       "       [0.08333333],\n",
       "       [0.08333333],\n",
       "       [0.125     ]])"
      ]
     },
     "execution_count": 35,
     "metadata": {},
     "output_type": "execute_result"
    }
   ],
   "source": []
  },
  {
   "cell_type": "code",
   "execution_count": 36,
   "id": "7b721156",
   "metadata": {},
   "outputs": [],
   "source": []
  },
  {
   "cell_type": "code",
   "execution_count": 37,
   "id": "52824e8a",
   "metadata": {},
   "outputs": [],
   "source": []
  },
  {
   "cell_type": "code",
   "execution_count": 38,
   "id": "2aa8c1fa",
   "metadata": {},
   "outputs": [
    {
     "data": {
      "text/plain": [
       "0       0.625000\n",
       "1       0.458333\n",
       "2       0.625000\n",
       "3       0.666667\n",
       "4       0.375000\n",
       "          ...   \n",
       "8927    0.083333\n",
       "8928    0.125000\n",
       "8929    0.083333\n",
       "8930    0.083333\n",
       "8931    0.125000\n",
       "Name: 정규화, Length: 8932, dtype: float64"
      ]
     },
     "execution_count": 38,
     "metadata": {},
     "output_type": "execute_result"
    }
   ],
   "source": []
  },
  {
   "cell_type": "code",
   "execution_count": null,
   "id": "0a6149aa",
   "metadata": {},
   "outputs": [],
   "source": []
  },
  {
   "cell_type": "code",
   "execution_count": null,
   "id": "0d0c3f4a",
   "metadata": {},
   "outputs": [],
   "source": []
  },
  {
   "cell_type": "markdown",
   "id": "91fb58fa",
   "metadata": {},
   "source": [
    "### 6. 유럽 소속 선수 중 value를 정규화 하여 0.5 보다 큰 값을 가지는 선수의 수를 구하시오."
   ]
  },
  {
   "cell_type": "code",
   "execution_count": 40,
   "id": "c76eb296",
   "metadata": {},
   "outputs": [],
   "source": []
  },
  {
   "cell_type": "code",
   "execution_count": 43,
   "id": "32f964c0",
   "metadata": {},
   "outputs": [
    {
     "data": {
      "text/plain": [
       "18"
      ]
     },
     "execution_count": 43,
     "metadata": {},
     "output_type": "execute_result"
    }
   ],
   "source": []
  },
  {
   "cell_type": "markdown",
   "id": "81e6e4e7",
   "metadata": {},
   "source": [
    "### 7. value를 기준으로 이상치를 검출하고 이상치를 제거한 데이터의 포지션별 선수의 수를 출력하시오."
   ]
  },
  {
   "cell_type": "code",
   "execution_count": 44,
   "id": "77a46b6d",
   "metadata": {},
   "outputs": [],
   "source": []
  },
  {
   "cell_type": "code",
   "execution_count": 45,
   "id": "a2409186",
   "metadata": {},
   "outputs": [],
   "source": []
  },
  {
   "cell_type": "code",
   "execution_count": 46,
   "id": "34572d76",
   "metadata": {},
   "outputs": [],
   "source": []
  },
  {
   "cell_type": "code",
   "execution_count": 47,
   "id": "5b8611a6",
   "metadata": {},
   "outputs": [],
   "source": []
  },
  {
   "cell_type": "code",
   "execution_count": 50,
   "id": "546dc42d",
   "metadata": {},
   "outputs": [
    {
     "data": {
      "text/plain": [
       "MF    2891\n",
       "DF    2484\n",
       "ST    1452\n",
       "GK     927\n",
       "Name: position, dtype: int64"
      ]
     },
     "execution_count": 50,
     "metadata": {},
     "output_type": "execute_result"
    }
   ],
   "source": []
  },
  {
   "cell_type": "markdown",
   "id": "540578fd",
   "metadata": {},
   "source": [
    "### 8. age, stat_overall 각 변수에 대해 이상치 개수를 출력하시오."
   ]
  },
  {
   "cell_type": "code",
   "execution_count": 51,
   "id": "be7dd54b",
   "metadata": {},
   "outputs": [],
   "source": []
  },
  {
   "cell_type": "code",
   "execution_count": 52,
   "id": "239daf26",
   "metadata": {},
   "outputs": [],
   "source": []
  },
  {
   "cell_type": "code",
   "execution_count": 53,
   "id": "6b5252c0",
   "metadata": {},
   "outputs": [],
   "source": []
  },
  {
   "cell_type": "code",
   "execution_count": 56,
   "id": "5a06e1e8",
   "metadata": {},
   "outputs": [
    {
     "data": {
      "text/plain": [
       "19"
      ]
     },
     "execution_count": 56,
     "metadata": {},
     "output_type": "execute_result"
    }
   ],
   "source": []
  },
  {
   "cell_type": "code",
   "execution_count": null,
   "id": "e4d28e07",
   "metadata": {},
   "outputs": [],
   "source": []
  },
  {
   "cell_type": "code",
   "execution_count": null,
   "id": "44015d55",
   "metadata": {},
   "outputs": [],
   "source": []
  },
  {
   "cell_type": "code",
   "execution_count": 57,
   "id": "71fa3c93",
   "metadata": {},
   "outputs": [],
   "source": []
  },
  {
   "cell_type": "code",
   "execution_count": 58,
   "id": "ec3f67ab",
   "metadata": {},
   "outputs": [],
   "source": []
  },
  {
   "cell_type": "code",
   "execution_count": 59,
   "id": "cbe94769",
   "metadata": {},
   "outputs": [],
   "source": []
  },
  {
   "cell_type": "code",
   "execution_count": 60,
   "id": "964323a8",
   "metadata": {},
   "outputs": [
    {
     "data": {
      "text/plain": [
       "61"
      ]
     },
     "execution_count": 60,
     "metadata": {},
     "output_type": "execute_result"
    }
   ],
   "source": []
  },
  {
   "cell_type": "markdown",
   "id": "4f8b5e55",
   "metadata": {},
   "source": [
    "### 9. 10대, 20대, 30대, 40대 선수들을 각각 따로 데이터를 구성하고 각 연령대(4개 구간)에 대해 value의 왜도를 출력하시오.\n",
    "- 10대 : 20세 미만\n",
    "- 20대 : 20세 이상 30세 미만\n",
    "- 30대 : 30세 이상 40세 미만\n",
    "- 40대 : 40세 이상"
   ]
  },
  {
   "cell_type": "code",
   "execution_count": 63,
   "id": "5e554454",
   "metadata": {},
   "outputs": [],
   "source": []
  },
  {
   "cell_type": "code",
   "execution_count": 67,
   "id": "786ef989",
   "metadata": {
    "scrolled": true
   },
   "outputs": [
    {
     "name": "stdout",
     "output_type": "stream",
     "text": [
      "10대 선수들 value 왜도 = 8.440166147833173\n",
      "20대 선수들 value 왜도 = 5.092657558372404\n",
      "30대 선수들 value 왜도 = 7.488561019823759\n",
      "40대 선수들 value 왜도 = 1.7112131659323588\n"
     ]
    }
   ],
   "source": []
  },
  {
   "cell_type": "markdown",
   "id": "8a9287f5",
   "metadata": {},
   "source": [
    "### 10. 각 대륙별로 value의 왜도와 표준편차를 구하시오."
   ]
  },
  {
   "cell_type": "code",
   "execution_count": 69,
   "id": "f28380a6",
   "metadata": {},
   "outputs": [
    {
     "data": {
      "text/html": [
       "<div>\n",
       "<style scoped>\n",
       "    .dataframe tbody tr th:only-of-type {\n",
       "        vertical-align: middle;\n",
       "    }\n",
       "\n",
       "    .dataframe tbody tr th {\n",
       "        vertical-align: top;\n",
       "    }\n",
       "\n",
       "    .dataframe thead th {\n",
       "        text-align: right;\n",
       "    }\n",
       "</style>\n",
       "<table border=\"1\" class=\"dataframe\">\n",
       "  <thead>\n",
       "    <tr style=\"text-align: right;\">\n",
       "      <th></th>\n",
       "      <th>왜도</th>\n",
       "      <th>표준편차</th>\n",
       "    </tr>\n",
       "    <tr>\n",
       "      <th>continent</th>\n",
       "      <th></th>\n",
       "      <th></th>\n",
       "    </tr>\n",
       "  </thead>\n",
       "  <tbody>\n",
       "    <tr>\n",
       "      <th>africa</th>\n",
       "      <td>6.192343</td>\n",
       "      <td>5.843619e+06</td>\n",
       "    </tr>\n",
       "    <tr>\n",
       "      <th>asia</th>\n",
       "      <td>3.944000</td>\n",
       "      <td>1.934162e+06</td>\n",
       "    </tr>\n",
       "    <tr>\n",
       "      <th>europe</th>\n",
       "      <td>5.083833</td>\n",
       "      <td>6.054414e+06</td>\n",
       "    </tr>\n",
       "    <tr>\n",
       "      <th>oceania</th>\n",
       "      <td>4.041870</td>\n",
       "      <td>1.376729e+06</td>\n",
       "    </tr>\n",
       "    <tr>\n",
       "      <th>south america</th>\n",
       "      <td>6.793150</td>\n",
       "      <td>6.374981e+06</td>\n",
       "    </tr>\n",
       "  </tbody>\n",
       "</table>\n",
       "</div>"
      ],
      "text/plain": [
       "                     왜도          표준편차\n",
       "continent                            \n",
       "africa         6.192343  5.843619e+06\n",
       "asia           3.944000  1.934162e+06\n",
       "europe         5.083833  6.054414e+06\n",
       "oceania        4.041870  1.376729e+06\n",
       "south america  6.793150  6.374981e+06"
      ]
     },
     "execution_count": 69,
     "metadata": {},
     "output_type": "execute_result"
    }
   ],
   "source": []
  }
 ],
 "metadata": {
  "kernelspec": {
   "display_name": "Python 3",
   "language": "python",
   "name": "python3"
  },
  "language_info": {
   "codemirror_mode": {
    "name": "ipython",
    "version": 3
   },
   "file_extension": ".py",
   "mimetype": "text/x-python",
   "name": "python",
   "nbconvert_exporter": "python",
   "pygments_lexer": "ipython3",
   "version": "3.8.8"
  }
 },
 "nbformat": 4,
 "nbformat_minor": 5
}
