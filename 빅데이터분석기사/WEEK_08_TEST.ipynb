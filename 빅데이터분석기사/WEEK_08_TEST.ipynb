{
 "cells": [
  {
   "cell_type": "markdown",
   "id": "ac9a7e3f",
   "metadata": {},
   "source": [
    "# 8주차 모의고사 1회\n",
    "\n",
    "## 1번 문제\n",
    "- wine_train / wine_test / wine_submission\n",
    "\n",
    "### 1-1. total sulfur dioxide에 대해 정규화를 실시하고 0.4 초과 0.55미만의 결과값을 가지는 데이터의 수를 출력하시오."
   ]
  },
  {
   "cell_type": "code",
   "execution_count": 21,
   "id": "b0a1337a",
   "metadata": {},
   "outputs": [],
   "source": [
    "import pandas as pd\n",
    "import numpy as np"
   ]
  },
  {
   "cell_type": "code",
   "execution_count": 112,
   "id": "769ef5e6",
   "metadata": {},
   "outputs": [],
   "source": [
    "train = pd.read_csv('wine_train.csv')\n",
    "test = pd.read_csv('wine_test.csv')\n",
    "submission = pd.read_csv('wine_submission.csv')"
   ]
  },
  {
   "cell_type": "code",
   "execution_count": 23,
   "id": "844bfac6",
   "metadata": {},
   "outputs": [
    {
     "name": "stdout",
     "output_type": "stream",
     "text": [
      "<class 'pandas.core.frame.DataFrame'>\n",
      "RangeIndex: 5497 entries, 0 to 5496\n",
      "Data columns (total 13 columns):\n",
      " #   Column                Non-Null Count  Dtype  \n",
      "---  ------                --------------  -----  \n",
      " 0   quality               5497 non-null   int64  \n",
      " 1   fixed acidity         5497 non-null   float64\n",
      " 2   volatile acidity      5497 non-null   float64\n",
      " 3   citric acid           5497 non-null   float64\n",
      " 4   residual sugar        5497 non-null   float64\n",
      " 5   chlorides             5497 non-null   float64\n",
      " 6   free sulfur dioxide   5497 non-null   float64\n",
      " 7   total sulfur dioxide  5497 non-null   float64\n",
      " 8   density               5497 non-null   float64\n",
      " 9   pH                    5497 non-null   float64\n",
      " 10  sulphates             5497 non-null   float64\n",
      " 11  alcohol               5497 non-null   float64\n",
      " 12  type                  5497 non-null   object \n",
      "dtypes: float64(11), int64(1), object(1)\n",
      "memory usage: 558.4+ KB\n"
     ]
    }
   ],
   "source": [
    "train.info()"
   ]
  },
  {
   "cell_type": "code",
   "execution_count": 24,
   "id": "21395794",
   "metadata": {},
   "outputs": [],
   "source": [
    "from sklearn.preprocessing import MinMaxScaler"
   ]
  },
  {
   "cell_type": "code",
   "execution_count": 25,
   "id": "1427d5ca",
   "metadata": {},
   "outputs": [],
   "source": [
    "ms = MinMaxScaler()"
   ]
  },
  {
   "cell_type": "code",
   "execution_count": 26,
   "id": "62e60148",
   "metadata": {},
   "outputs": [],
   "source": [
    "train['ms'] = ms.fit_transform(train[['total sulfur dioxide']])"
   ]
  },
  {
   "cell_type": "code",
   "execution_count": 27,
   "id": "9469e020",
   "metadata": {
    "scrolled": true
   },
   "outputs": [
    {
     "data": {
      "text/html": [
       "<div>\n",
       "<style scoped>\n",
       "    .dataframe tbody tr th:only-of-type {\n",
       "        vertical-align: middle;\n",
       "    }\n",
       "\n",
       "    .dataframe tbody tr th {\n",
       "        vertical-align: top;\n",
       "    }\n",
       "\n",
       "    .dataframe thead th {\n",
       "        text-align: right;\n",
       "    }\n",
       "</style>\n",
       "<table border=\"1\" class=\"dataframe\">\n",
       "  <thead>\n",
       "    <tr style=\"text-align: right;\">\n",
       "      <th></th>\n",
       "      <th>quality</th>\n",
       "      <th>fixed acidity</th>\n",
       "      <th>volatile acidity</th>\n",
       "      <th>citric acid</th>\n",
       "      <th>residual sugar</th>\n",
       "      <th>chlorides</th>\n",
       "      <th>free sulfur dioxide</th>\n",
       "      <th>total sulfur dioxide</th>\n",
       "      <th>density</th>\n",
       "      <th>pH</th>\n",
       "      <th>sulphates</th>\n",
       "      <th>alcohol</th>\n",
       "      <th>type</th>\n",
       "      <th>ms</th>\n",
       "    </tr>\n",
       "  </thead>\n",
       "  <tbody>\n",
       "    <tr>\n",
       "      <th>0</th>\n",
       "      <td>5</td>\n",
       "      <td>5.6</td>\n",
       "      <td>0.695</td>\n",
       "      <td>0.06</td>\n",
       "      <td>6.8</td>\n",
       "      <td>0.042</td>\n",
       "      <td>9.0</td>\n",
       "      <td>84.0</td>\n",
       "      <td>0.99432</td>\n",
       "      <td>3.44</td>\n",
       "      <td>0.44</td>\n",
       "      <td>10.2</td>\n",
       "      <td>white</td>\n",
       "      <td>0.179724</td>\n",
       "    </tr>\n",
       "    <tr>\n",
       "      <th>1</th>\n",
       "      <td>5</td>\n",
       "      <td>8.8</td>\n",
       "      <td>0.610</td>\n",
       "      <td>0.14</td>\n",
       "      <td>2.4</td>\n",
       "      <td>0.067</td>\n",
       "      <td>10.0</td>\n",
       "      <td>42.0</td>\n",
       "      <td>0.99690</td>\n",
       "      <td>3.19</td>\n",
       "      <td>0.59</td>\n",
       "      <td>9.5</td>\n",
       "      <td>red</td>\n",
       "      <td>0.082949</td>\n",
       "    </tr>\n",
       "    <tr>\n",
       "      <th>2</th>\n",
       "      <td>5</td>\n",
       "      <td>7.9</td>\n",
       "      <td>0.210</td>\n",
       "      <td>0.39</td>\n",
       "      <td>2.0</td>\n",
       "      <td>0.057</td>\n",
       "      <td>21.0</td>\n",
       "      <td>138.0</td>\n",
       "      <td>0.99176</td>\n",
       "      <td>3.05</td>\n",
       "      <td>0.52</td>\n",
       "      <td>10.9</td>\n",
       "      <td>white</td>\n",
       "      <td>0.304147</td>\n",
       "    </tr>\n",
       "    <tr>\n",
       "      <th>3</th>\n",
       "      <td>6</td>\n",
       "      <td>7.0</td>\n",
       "      <td>0.210</td>\n",
       "      <td>0.31</td>\n",
       "      <td>6.0</td>\n",
       "      <td>0.046</td>\n",
       "      <td>29.0</td>\n",
       "      <td>108.0</td>\n",
       "      <td>0.99390</td>\n",
       "      <td>3.26</td>\n",
       "      <td>0.50</td>\n",
       "      <td>10.8</td>\n",
       "      <td>white</td>\n",
       "      <td>0.235023</td>\n",
       "    </tr>\n",
       "    <tr>\n",
       "      <th>4</th>\n",
       "      <td>6</td>\n",
       "      <td>7.8</td>\n",
       "      <td>0.400</td>\n",
       "      <td>0.26</td>\n",
       "      <td>9.5</td>\n",
       "      <td>0.059</td>\n",
       "      <td>32.0</td>\n",
       "      <td>178.0</td>\n",
       "      <td>0.99550</td>\n",
       "      <td>3.04</td>\n",
       "      <td>0.43</td>\n",
       "      <td>10.9</td>\n",
       "      <td>white</td>\n",
       "      <td>0.396313</td>\n",
       "    </tr>\n",
       "  </tbody>\n",
       "</table>\n",
       "</div>"
      ],
      "text/plain": [
       "   quality  fixed acidity  volatile acidity  citric acid  residual sugar  \\\n",
       "0        5            5.6             0.695         0.06             6.8   \n",
       "1        5            8.8             0.610         0.14             2.4   \n",
       "2        5            7.9             0.210         0.39             2.0   \n",
       "3        6            7.0             0.210         0.31             6.0   \n",
       "4        6            7.8             0.400         0.26             9.5   \n",
       "\n",
       "   chlorides  free sulfur dioxide  total sulfur dioxide  density    pH  \\\n",
       "0      0.042                  9.0                  84.0  0.99432  3.44   \n",
       "1      0.067                 10.0                  42.0  0.99690  3.19   \n",
       "2      0.057                 21.0                 138.0  0.99176  3.05   \n",
       "3      0.046                 29.0                 108.0  0.99390  3.26   \n",
       "4      0.059                 32.0                 178.0  0.99550  3.04   \n",
       "\n",
       "   sulphates  alcohol   type        ms  \n",
       "0       0.44     10.2  white  0.179724  \n",
       "1       0.59      9.5    red  0.082949  \n",
       "2       0.52     10.9  white  0.304147  \n",
       "3       0.50     10.8  white  0.235023  \n",
       "4       0.43     10.9  white  0.396313  "
      ]
     },
     "execution_count": 27,
     "metadata": {},
     "output_type": "execute_result"
    }
   ],
   "source": [
    "train.head()"
   ]
  },
  {
   "cell_type": "markdown",
   "id": "cc6a794c",
   "metadata": {},
   "source": [
    "#### 방법1"
   ]
  },
  {
   "cell_type": "code",
   "execution_count": 29,
   "id": "24faaa9a",
   "metadata": {
    "scrolled": true
   },
   "outputs": [
    {
     "name": "stdout",
     "output_type": "stream",
     "text": [
      "691\n"
     ]
    }
   ],
   "source": [
    "print(train[(train.ms > 0.4) & (train.ms < 0.55)].shape[0])"
   ]
  },
  {
   "cell_type": "markdown",
   "id": "71034fb1",
   "metadata": {},
   "source": [
    "#### 방법2"
   ]
  },
  {
   "cell_type": "code",
   "execution_count": 31,
   "id": "a6ef720a",
   "metadata": {},
   "outputs": [
    {
     "name": "stdout",
     "output_type": "stream",
     "text": [
      "691\n"
     ]
    }
   ],
   "source": [
    "print(train.query('ms > 0.4 & ms < 0.55').shape[0])"
   ]
  },
  {
   "cell_type": "markdown",
   "id": "0358807d",
   "metadata": {},
   "source": [
    "### 1-2. alcohol과 가장 강한 상관관계를 가지는 변수(alcohol제외)와 그 상관계수를 출력하시오."
   ]
  },
  {
   "cell_type": "code",
   "execution_count": 43,
   "id": "d73f0de2",
   "metadata": {},
   "outputs": [
    {
     "data": {
      "text/plain": [
       "quality                 0.439615\n",
       "fixed acidity          -0.096274\n",
       "volatile acidity       -0.032897\n",
       "citric acid            -0.005376\n",
       "residual sugar         -0.361457\n",
       "chlorides              -0.259774\n",
       "free sulfur dioxide    -0.182321\n",
       "total sulfur dioxide   -0.271566\n",
       "density                -0.688053\n",
       "pH                      0.114959\n",
       "sulphates              -0.008713\n",
       "alcohol                 1.000000\n",
       "ms                     -0.271566\n",
       "Name: alcohol, dtype: float64"
      ]
     },
     "execution_count": 43,
     "metadata": {},
     "output_type": "execute_result"
    }
   ],
   "source": [
    "train.corr()['alcohol']"
   ]
  },
  {
   "cell_type": "code",
   "execution_count": 41,
   "id": "0b7b31c9",
   "metadata": {},
   "outputs": [],
   "source": [
    "feature_name = abs(train.corr()['alcohol']).sort_values().index[-2]\n",
    "cor_value = abs(train.corr()['alcohol']).sort_values()[-2]"
   ]
  },
  {
   "cell_type": "code",
   "execution_count": 42,
   "id": "ff80d0d9",
   "metadata": {},
   "outputs": [
    {
     "name": "stdout",
     "output_type": "stream",
     "text": [
      "density 0.6880527353336923\n"
     ]
    }
   ],
   "source": [
    "print(feature_name, cor_value)"
   ]
  },
  {
   "cell_type": "markdown",
   "id": "fe385568",
   "metadata": {},
   "source": [
    "### 1-3. 변수별 왜도 최대값과 첨도 최대값을 곱한 값을 출력하시오. (단, 소수 넷째자리에서 반올림 하시오.)"
   ]
  },
  {
   "cell_type": "code",
   "execution_count": 45,
   "id": "09b8a68d",
   "metadata": {},
   "outputs": [],
   "source": [
    "train.drop('ms', axis = 1, inplace = True)"
   ]
  },
  {
   "cell_type": "code",
   "execution_count": 48,
   "id": "dac82778",
   "metadata": {},
   "outputs": [],
   "source": [
    "max_skew = train.skew().sort_values()[-1]"
   ]
  },
  {
   "cell_type": "code",
   "execution_count": 49,
   "id": "f4ea4bec",
   "metadata": {},
   "outputs": [],
   "source": [
    "max_kurt = train.kurt().sort_values()[-1]"
   ]
  },
  {
   "cell_type": "code",
   "execution_count": 50,
   "id": "81d92109",
   "metadata": {},
   "outputs": [
    {
     "data": {
      "text/plain": [
       "(5.187326841371147, 45.98622081640241)"
      ]
     },
     "execution_count": 50,
     "metadata": {},
     "output_type": "execute_result"
    }
   ],
   "source": [
    "max_skew, max_kurt"
   ]
  },
  {
   "cell_type": "code",
   "execution_count": 53,
   "id": "bee38ed2",
   "metadata": {},
   "outputs": [],
   "source": [
    "result = round(max_skew * max_kurt, 3)"
   ]
  },
  {
   "cell_type": "code",
   "execution_count": 54,
   "id": "bd2a9131",
   "metadata": {},
   "outputs": [
    {
     "name": "stdout",
     "output_type": "stream",
     "text": [
      "238.546\n"
     ]
    }
   ],
   "source": [
    "print(result)"
   ]
  },
  {
   "cell_type": "markdown",
   "id": "ea8ab289",
   "metadata": {},
   "source": [
    "### 1-4. quality를 예측하는 모델링을 수행하시오. 각 클래스별 예측 확률을 아래 예시와 같이 도출하고 submission을 result1이라는 파일명으로 저장하시오.\n",
    "\n",
    "< 예시 >\n",
    "\n",
    "|index|3|4|5|6|7|8|9|\n",
    "|---|---|---|---|---|---|---|---|\n",
    "|1|0.3|0.1|0.1|0.1|0.1|0.25|0.05|\n",
    "|2|0.25|0.1|0.1|0.1|0.3|0.1|0.05|\n",
    "|3|0.15|0.1|0.1|0.1|0.1|0.05|0.4|"
   ]
  },
  {
   "cell_type": "markdown",
   "id": "28ee4654",
   "metadata": {},
   "source": [
    "### Hold Out"
   ]
  },
  {
   "cell_type": "code",
   "execution_count": 56,
   "id": "5ada6192",
   "metadata": {},
   "outputs": [],
   "source": [
    "from sklearn.model_selection import train_test_split\n",
    "from sklearn.ensemble import RandomForestClassifier\n",
    "from sklearn.svm import SVC"
   ]
  },
  {
   "cell_type": "code",
   "execution_count": 57,
   "id": "b089b869",
   "metadata": {},
   "outputs": [
    {
     "data": {
      "text/html": [
       "<div>\n",
       "<style scoped>\n",
       "    .dataframe tbody tr th:only-of-type {\n",
       "        vertical-align: middle;\n",
       "    }\n",
       "\n",
       "    .dataframe tbody tr th {\n",
       "        vertical-align: top;\n",
       "    }\n",
       "\n",
       "    .dataframe thead th {\n",
       "        text-align: right;\n",
       "    }\n",
       "</style>\n",
       "<table border=\"1\" class=\"dataframe\">\n",
       "  <thead>\n",
       "    <tr style=\"text-align: right;\">\n",
       "      <th></th>\n",
       "      <th>quality</th>\n",
       "      <th>fixed acidity</th>\n",
       "      <th>volatile acidity</th>\n",
       "      <th>citric acid</th>\n",
       "      <th>residual sugar</th>\n",
       "      <th>chlorides</th>\n",
       "      <th>free sulfur dioxide</th>\n",
       "      <th>total sulfur dioxide</th>\n",
       "      <th>density</th>\n",
       "      <th>pH</th>\n",
       "      <th>sulphates</th>\n",
       "      <th>alcohol</th>\n",
       "      <th>type</th>\n",
       "    </tr>\n",
       "  </thead>\n",
       "  <tbody>\n",
       "    <tr>\n",
       "      <th>0</th>\n",
       "      <td>5</td>\n",
       "      <td>5.6</td>\n",
       "      <td>0.695</td>\n",
       "      <td>0.06</td>\n",
       "      <td>6.8</td>\n",
       "      <td>0.042</td>\n",
       "      <td>9.0</td>\n",
       "      <td>84.0</td>\n",
       "      <td>0.99432</td>\n",
       "      <td>3.44</td>\n",
       "      <td>0.44</td>\n",
       "      <td>10.2</td>\n",
       "      <td>white</td>\n",
       "    </tr>\n",
       "    <tr>\n",
       "      <th>1</th>\n",
       "      <td>5</td>\n",
       "      <td>8.8</td>\n",
       "      <td>0.610</td>\n",
       "      <td>0.14</td>\n",
       "      <td>2.4</td>\n",
       "      <td>0.067</td>\n",
       "      <td>10.0</td>\n",
       "      <td>42.0</td>\n",
       "      <td>0.99690</td>\n",
       "      <td>3.19</td>\n",
       "      <td>0.59</td>\n",
       "      <td>9.5</td>\n",
       "      <td>red</td>\n",
       "    </tr>\n",
       "    <tr>\n",
       "      <th>2</th>\n",
       "      <td>5</td>\n",
       "      <td>7.9</td>\n",
       "      <td>0.210</td>\n",
       "      <td>0.39</td>\n",
       "      <td>2.0</td>\n",
       "      <td>0.057</td>\n",
       "      <td>21.0</td>\n",
       "      <td>138.0</td>\n",
       "      <td>0.99176</td>\n",
       "      <td>3.05</td>\n",
       "      <td>0.52</td>\n",
       "      <td>10.9</td>\n",
       "      <td>white</td>\n",
       "    </tr>\n",
       "    <tr>\n",
       "      <th>3</th>\n",
       "      <td>6</td>\n",
       "      <td>7.0</td>\n",
       "      <td>0.210</td>\n",
       "      <td>0.31</td>\n",
       "      <td>6.0</td>\n",
       "      <td>0.046</td>\n",
       "      <td>29.0</td>\n",
       "      <td>108.0</td>\n",
       "      <td>0.99390</td>\n",
       "      <td>3.26</td>\n",
       "      <td>0.50</td>\n",
       "      <td>10.8</td>\n",
       "      <td>white</td>\n",
       "    </tr>\n",
       "    <tr>\n",
       "      <th>4</th>\n",
       "      <td>6</td>\n",
       "      <td>7.8</td>\n",
       "      <td>0.400</td>\n",
       "      <td>0.26</td>\n",
       "      <td>9.5</td>\n",
       "      <td>0.059</td>\n",
       "      <td>32.0</td>\n",
       "      <td>178.0</td>\n",
       "      <td>0.99550</td>\n",
       "      <td>3.04</td>\n",
       "      <td>0.43</td>\n",
       "      <td>10.9</td>\n",
       "      <td>white</td>\n",
       "    </tr>\n",
       "  </tbody>\n",
       "</table>\n",
       "</div>"
      ],
      "text/plain": [
       "   quality  fixed acidity  volatile acidity  citric acid  residual sugar  \\\n",
       "0        5            5.6             0.695         0.06             6.8   \n",
       "1        5            8.8             0.610         0.14             2.4   \n",
       "2        5            7.9             0.210         0.39             2.0   \n",
       "3        6            7.0             0.210         0.31             6.0   \n",
       "4        6            7.8             0.400         0.26             9.5   \n",
       "\n",
       "   chlorides  free sulfur dioxide  total sulfur dioxide  density    pH  \\\n",
       "0      0.042                  9.0                  84.0  0.99432  3.44   \n",
       "1      0.067                 10.0                  42.0  0.99690  3.19   \n",
       "2      0.057                 21.0                 138.0  0.99176  3.05   \n",
       "3      0.046                 29.0                 108.0  0.99390  3.26   \n",
       "4      0.059                 32.0                 178.0  0.99550  3.04   \n",
       "\n",
       "   sulphates  alcohol   type  \n",
       "0       0.44     10.2  white  \n",
       "1       0.59      9.5    red  \n",
       "2       0.52     10.9  white  \n",
       "3       0.50     10.8  white  \n",
       "4       0.43     10.9  white  "
      ]
     },
     "execution_count": 57,
     "metadata": {},
     "output_type": "execute_result"
    }
   ],
   "source": [
    "train.head()"
   ]
  },
  {
   "cell_type": "code",
   "execution_count": 113,
   "id": "2be2e34b",
   "metadata": {},
   "outputs": [],
   "source": [
    "X = train.drop('quality', axis = 1)\n",
    "y = train.quality"
   ]
  },
  {
   "cell_type": "code",
   "execution_count": 114,
   "id": "d37f5d6b",
   "metadata": {},
   "outputs": [],
   "source": [
    "X = pd.get_dummies(X)\n",
    "target = pd.get_dummies(test)"
   ]
  },
  {
   "cell_type": "code",
   "execution_count": 61,
   "id": "da7fec8a",
   "metadata": {},
   "outputs": [
    {
     "data": {
      "text/plain": [
       "((5497, 13), (1000, 13))"
      ]
     },
     "execution_count": 61,
     "metadata": {},
     "output_type": "execute_result"
    }
   ],
   "source": [
    "X.shape, target.shape"
   ]
  },
  {
   "cell_type": "code",
   "execution_count": 62,
   "id": "f06941bb",
   "metadata": {
    "scrolled": true
   },
   "outputs": [],
   "source": [
    "X_train, X_val, y_train, y_val = train_test_split(X, y, test_size = 0.25, random_state = 42, stratify = y, shuffle = True)"
   ]
  },
  {
   "cell_type": "code",
   "execution_count": 67,
   "id": "f5ae5013",
   "metadata": {},
   "outputs": [],
   "source": [
    "model1 = SVC(probability = True)\n",
    "model2 = RandomForestClassifier(random_state = 42)"
   ]
  },
  {
   "cell_type": "code",
   "execution_count": 68,
   "id": "3da53b79",
   "metadata": {},
   "outputs": [
    {
     "data": {
      "text/plain": [
       "RandomForestClassifier(random_state=42)"
      ]
     },
     "execution_count": 68,
     "metadata": {},
     "output_type": "execute_result"
    }
   ],
   "source": [
    "model1.fit(X_train, y_train)\n",
    "model2.fit(X_train, y_train)"
   ]
  },
  {
   "cell_type": "code",
   "execution_count": 83,
   "id": "e8d14b2e",
   "metadata": {},
   "outputs": [],
   "source": [
    "from sklearn.metrics import log_loss, accuracy_score"
   ]
  },
  {
   "cell_type": "markdown",
   "id": "bbd38795",
   "metadata": {},
   "source": [
    "이진분류 문제라고 가정할 때\n",
    "\n",
    "- 정확도 : 0 -> 51% / 1 -> 49%로 예측하는 경우\n",
    "- log_loss : 0 -> 90% / 1 -> 10%로 예측하는 경우"
   ]
  },
  {
   "cell_type": "code",
   "execution_count": 84,
   "id": "2e6252b6",
   "metadata": {},
   "outputs": [],
   "source": [
    "pred1 = model1.predict_proba(X_val)\n",
    "pred2 = model2.predict_proba(X_val)"
   ]
  },
  {
   "cell_type": "code",
   "execution_count": 86,
   "id": "b371bac5",
   "metadata": {},
   "outputs": [],
   "source": [
    "a = [3, 6, 100, 20, 4]"
   ]
  },
  {
   "cell_type": "code",
   "execution_count": 87,
   "id": "c448e115",
   "metadata": {},
   "outputs": [
    {
     "data": {
      "text/plain": [
       "2"
      ]
     },
     "execution_count": 87,
     "metadata": {},
     "output_type": "execute_result"
    }
   ],
   "source": [
    "np.argmax(a)"
   ]
  },
  {
   "cell_type": "code",
   "execution_count": 91,
   "id": "e89461cf",
   "metadata": {},
   "outputs": [],
   "source": [
    "cls1 = np.argmax(pred1, axis = 1)"
   ]
  },
  {
   "cell_type": "code",
   "execution_count": 98,
   "id": "74eaacf6",
   "metadata": {},
   "outputs": [],
   "source": [
    "cls2 = np.argmax(pred2, axis = 1)"
   ]
  },
  {
   "cell_type": "code",
   "execution_count": 96,
   "id": "3a44270b",
   "metadata": {},
   "outputs": [],
   "source": [
    "y_val -= 3"
   ]
  },
  {
   "cell_type": "code",
   "execution_count": 97,
   "id": "293017e6",
   "metadata": {
    "scrolled": false
   },
   "outputs": [
    {
     "data": {
      "text/plain": [
       "0.47709090909090907"
      ]
     },
     "execution_count": 97,
     "metadata": {},
     "output_type": "execute_result"
    }
   ],
   "source": [
    "accuracy_score(y_val, cls1)"
   ]
  },
  {
   "cell_type": "code",
   "execution_count": 99,
   "id": "175b95b0",
   "metadata": {},
   "outputs": [
    {
     "data": {
      "text/plain": [
       "0.6603636363636364"
      ]
     },
     "execution_count": 99,
     "metadata": {},
     "output_type": "execute_result"
    }
   ],
   "source": [
    "accuracy_score(y_val, cls2)"
   ]
  },
  {
   "cell_type": "code",
   "execution_count": 72,
   "id": "8e154740",
   "metadata": {},
   "outputs": [
    {
     "data": {
      "text/plain": [
       "1.176730605735629"
      ]
     },
     "execution_count": 72,
     "metadata": {},
     "output_type": "execute_result"
    }
   ],
   "source": [
    "log_loss(y_val, pred1)"
   ]
  },
  {
   "cell_type": "code",
   "execution_count": 73,
   "id": "ced63dd2",
   "metadata": {
    "scrolled": true
   },
   "outputs": [
    {
     "data": {
      "text/plain": [
       "0.9964611053620294"
      ]
     },
     "execution_count": 73,
     "metadata": {},
     "output_type": "execute_result"
    }
   ],
   "source": [
    "log_loss(y_val, pred2)"
   ]
  },
  {
   "cell_type": "code",
   "execution_count": 74,
   "id": "5ebc27d5",
   "metadata": {},
   "outputs": [],
   "source": [
    "svc_pred = model1.predict_proba(target)\n",
    "rf_pred = model2.predict_proba(target)"
   ]
  },
  {
   "cell_type": "code",
   "execution_count": 79,
   "id": "38850a5f",
   "metadata": {},
   "outputs": [],
   "source": [
    "submission.iloc[:, 1:] = (rf_pred + svc_pred) / 2"
   ]
  },
  {
   "cell_type": "code",
   "execution_count": 100,
   "id": "86df2f37",
   "metadata": {},
   "outputs": [
    {
     "data": {
      "text/html": [
       "<div>\n",
       "<style scoped>\n",
       "    .dataframe tbody tr th:only-of-type {\n",
       "        vertical-align: middle;\n",
       "    }\n",
       "\n",
       "    .dataframe tbody tr th {\n",
       "        vertical-align: top;\n",
       "    }\n",
       "\n",
       "    .dataframe thead th {\n",
       "        text-align: right;\n",
       "    }\n",
       "</style>\n",
       "<table border=\"1\" class=\"dataframe\">\n",
       "  <thead>\n",
       "    <tr style=\"text-align: right;\">\n",
       "      <th></th>\n",
       "      <th>index</th>\n",
       "      <th>3</th>\n",
       "      <th>4</th>\n",
       "      <th>5</th>\n",
       "      <th>6</th>\n",
       "      <th>7</th>\n",
       "      <th>8</th>\n",
       "      <th>9</th>\n",
       "    </tr>\n",
       "  </thead>\n",
       "  <tbody>\n",
       "    <tr>\n",
       "      <th>0</th>\n",
       "      <td>0</td>\n",
       "      <td>0.012627</td>\n",
       "      <td>0.042009</td>\n",
       "      <td>0.364902</td>\n",
       "      <td>0.466871</td>\n",
       "      <td>0.082853</td>\n",
       "      <td>0.030514</td>\n",
       "      <td>0.000223</td>\n",
       "    </tr>\n",
       "    <tr>\n",
       "      <th>1</th>\n",
       "      <td>1</td>\n",
       "      <td>0.002587</td>\n",
       "      <td>0.031160</td>\n",
       "      <td>0.446484</td>\n",
       "      <td>0.472288</td>\n",
       "      <td>0.039451</td>\n",
       "      <td>0.007732</td>\n",
       "      <td>0.000298</td>\n",
       "    </tr>\n",
       "    <tr>\n",
       "      <th>2</th>\n",
       "      <td>2</td>\n",
       "      <td>0.011663</td>\n",
       "      <td>0.041328</td>\n",
       "      <td>0.332156</td>\n",
       "      <td>0.534634</td>\n",
       "      <td>0.069109</td>\n",
       "      <td>0.010314</td>\n",
       "      <td>0.000797</td>\n",
       "    </tr>\n",
       "    <tr>\n",
       "      <th>3</th>\n",
       "      <td>3</td>\n",
       "      <td>0.001877</td>\n",
       "      <td>0.040508</td>\n",
       "      <td>0.551475</td>\n",
       "      <td>0.361129</td>\n",
       "      <td>0.036893</td>\n",
       "      <td>0.007071</td>\n",
       "      <td>0.001046</td>\n",
       "    </tr>\n",
       "    <tr>\n",
       "      <th>4</th>\n",
       "      <td>4</td>\n",
       "      <td>0.003492</td>\n",
       "      <td>0.060555</td>\n",
       "      <td>0.144658</td>\n",
       "      <td>0.477177</td>\n",
       "      <td>0.279375</td>\n",
       "      <td>0.033741</td>\n",
       "      <td>0.001002</td>\n",
       "    </tr>\n",
       "  </tbody>\n",
       "</table>\n",
       "</div>"
      ],
      "text/plain": [
       "   index         3         4         5         6         7         8         9\n",
       "0      0  0.012627  0.042009  0.364902  0.466871  0.082853  0.030514  0.000223\n",
       "1      1  0.002587  0.031160  0.446484  0.472288  0.039451  0.007732  0.000298\n",
       "2      2  0.011663  0.041328  0.332156  0.534634  0.069109  0.010314  0.000797\n",
       "3      3  0.001877  0.040508  0.551475  0.361129  0.036893  0.007071  0.001046\n",
       "4      4  0.003492  0.060555  0.144658  0.477177  0.279375  0.033741  0.001002"
      ]
     },
     "execution_count": 100,
     "metadata": {},
     "output_type": "execute_result"
    }
   ],
   "source": [
    "submission.head()"
   ]
  },
  {
   "cell_type": "code",
   "execution_count": 81,
   "id": "9b69052d",
   "metadata": {},
   "outputs": [],
   "source": [
    "#submission.to_csv('result1.csv', index = False)"
   ]
  },
  {
   "cell_type": "markdown",
   "id": "c93a6adb",
   "metadata": {},
   "source": [
    "### Ensemble"
   ]
  },
  {
   "cell_type": "code",
   "execution_count": 101,
   "id": "a9c6dced",
   "metadata": {},
   "outputs": [],
   "source": [
    "from sklearn.model_selection import StratifiedKFold"
   ]
  },
  {
   "cell_type": "code",
   "execution_count": 102,
   "id": "ade011b2",
   "metadata": {},
   "outputs": [],
   "source": [
    "skf = StratifiedKFold(n_splits = 10, random_state = 42, shuffle = True)"
   ]
  },
  {
   "cell_type": "code",
   "execution_count": 115,
   "id": "19f9c1f4",
   "metadata": {},
   "outputs": [],
   "source": [
    "y -= 3"
   ]
  },
  {
   "cell_type": "code",
   "execution_count": 116,
   "id": "264b58f5",
   "metadata": {},
   "outputs": [
    {
     "name": "stderr",
     "output_type": "stream",
     "text": [
      "/opt/anaconda3/lib/python3.8/site-packages/sklearn/model_selection/_split.py:670: UserWarning: The least populated class in y has only 5 members, which is less than n_splits=10.\n",
      "  warnings.warn((\"The least populated class in y has only %d\"\n"
     ]
    },
    {
     "name": "stdout",
     "output_type": "stream",
     "text": [
      "0.4636363636363636\n",
      "0.4636363636363636\n",
      "0.44545454545454544\n",
      "0.43454545454545457\n",
      "0.44545454545454544\n",
      "0.45636363636363636\n",
      "0.4309090909090909\n",
      "0.4207650273224044\n",
      "0.4517304189435337\n",
      "0.45901639344262296\n"
     ]
    }
   ],
   "source": [
    "svc_pred = np.zeros((target.shape[0], 7))\n",
    "for tr_idx, val_idx in skf.split(X, y) :\n",
    "    tr_x, tr_y = X.iloc[tr_idx], y.iloc[tr_idx]\n",
    "    val_x, val_y = X.iloc[val_idx], y.iloc[val_idx]\n",
    "    \n",
    "    model1 = SVC(probability = True)\n",
    "    model1.fit(tr_x, tr_y)\n",
    "    \n",
    "    pred1 = np.argmax(model1.predict_proba(val_x), axis = 1)\n",
    "    val_acc = accuracy_score(val_y, pred1)\n",
    "    print(val_acc)\n",
    "    \n",
    "    fold_pred = model1.predict_proba(target) / 10\n",
    "    svc_pred += fold_pred"
   ]
  },
  {
   "cell_type": "code",
   "execution_count": 117,
   "id": "c024b00f",
   "metadata": {},
   "outputs": [
    {
     "name": "stderr",
     "output_type": "stream",
     "text": [
      "/opt/anaconda3/lib/python3.8/site-packages/sklearn/model_selection/_split.py:670: UserWarning: The least populated class in y has only 5 members, which is less than n_splits=10.\n",
      "  warnings.warn((\"The least populated class in y has only %d\"\n"
     ]
    },
    {
     "name": "stdout",
     "output_type": "stream",
     "text": [
      "0.6563636363636364\n",
      "0.6836363636363636\n",
      "0.7036363636363636\n",
      "0.6745454545454546\n",
      "0.6781818181818182\n",
      "0.6818181818181818\n",
      "0.68\n",
      "0.697632058287796\n",
      "0.7030965391621129\n",
      "0.668488160291439\n"
     ]
    }
   ],
   "source": [
    "rf_pred = np.zeros((target.shape[0], 7))\n",
    "for tr_idx, val_idx in skf.split(X, y) :\n",
    "    tr_x, tr_y = X.iloc[tr_idx], y.iloc[tr_idx]\n",
    "    val_x, val_y = X.iloc[val_idx], y.iloc[val_idx]\n",
    "    \n",
    "    model2 = RandomForestClassifier(random_state = 42)\n",
    "    model2.fit(tr_x, tr_y)\n",
    "    \n",
    "    pred1 = np.argmax(model2.predict_proba(val_x), axis = 1)\n",
    "    val_acc = accuracy_score(val_y, pred1)\n",
    "    print(val_acc)\n",
    "    \n",
    "    fold_pred = model2.predict_proba(target) / 10\n",
    "    rf_pred += fold_pred"
   ]
  },
  {
   "cell_type": "code",
   "execution_count": 124,
   "id": "452168d1",
   "metadata": {},
   "outputs": [],
   "source": [
    "submission.iloc[:, 1:] = rf_pred * 0.6 + svc_pred * 0.4"
   ]
  },
  {
   "cell_type": "code",
   "execution_count": 127,
   "id": "f1e7c6be",
   "metadata": {},
   "outputs": [],
   "source": [
    "#submission.to_csv('result1.csv', index = False)"
   ]
  },
  {
   "cell_type": "markdown",
   "id": "5f3376fa",
   "metadata": {},
   "source": [
    "***\n",
    "## 2번 문제\n",
    "- apt_train / apt_test / apt_submission\n",
    "\n",
    "### 2-1. 서울특별시와 부산광역시의 exclusive_use_area와 transaction_real_price의 상관계수 합을 구하시오."
   ]
  },
  {
   "cell_type": "code",
   "execution_count": 167,
   "id": "5844bf24",
   "metadata": {},
   "outputs": [],
   "source": [
    "train = pd.read_csv('apt_train.csv')\n",
    "test = pd.read_csv('apt_test.csv')\n",
    "submission = pd.read_csv('apt_submission.csv')"
   ]
  },
  {
   "cell_type": "code",
   "execution_count": 169,
   "id": "24b5a34b",
   "metadata": {},
   "outputs": [],
   "source": [
    "train = train.iloc[:, 3:]\n",
    "test = test.iloc[:, 2:]"
   ]
  },
  {
   "cell_type": "code",
   "execution_count": 135,
   "id": "841eb923",
   "metadata": {},
   "outputs": [],
   "source": [
    "s = train[train.city == '서울특별시']\n",
    "b = train[train.city == '부산광역시']"
   ]
  },
  {
   "cell_type": "code",
   "execution_count": 140,
   "id": "64309445",
   "metadata": {},
   "outputs": [],
   "source": [
    "s_c = s[['exclusive_use_area', 'transaction_real_price']].corr().iloc[0, 1]\n",
    "b_c = b[['exclusive_use_area', 'transaction_real_price']].corr().iloc[0, 1]"
   ]
  },
  {
   "cell_type": "code",
   "execution_count": 141,
   "id": "269b5f1c",
   "metadata": {},
   "outputs": [
    {
     "data": {
      "text/plain": [
       "(0.6660977467865185, 0.7043428982606751)"
      ]
     },
     "execution_count": 141,
     "metadata": {},
     "output_type": "execute_result"
    }
   ],
   "source": [
    "s_c, b_c"
   ]
  },
  {
   "cell_type": "code",
   "execution_count": 142,
   "id": "ae4f1624",
   "metadata": {},
   "outputs": [
    {
     "name": "stdout",
     "output_type": "stream",
     "text": [
      "1.3704406450471935\n"
     ]
    }
   ],
   "source": [
    "print(s_c + b_c)"
   ]
  },
  {
   "cell_type": "markdown",
   "id": "a42ded5e",
   "metadata": {},
   "source": [
    "### 2-2. 자이 아파트와 래미안 아파트의 transaction_real_price의 왜도 곱을 출력하시오."
   ]
  },
  {
   "cell_type": "code",
   "execution_count": 145,
   "id": "14d46b82",
   "metadata": {},
   "outputs": [],
   "source": [
    "train['래미안'] = train.apt.str.contains('래미안')\n",
    "train['자이'] = train.apt.str.contains('자이')"
   ]
  },
  {
   "cell_type": "code",
   "execution_count": 147,
   "id": "2404bba7",
   "metadata": {},
   "outputs": [],
   "source": [
    "x = train[train.자이 == 1]"
   ]
  },
  {
   "cell_type": "code",
   "execution_count": 150,
   "id": "723fa41f",
   "metadata": {},
   "outputs": [],
   "source": [
    "r = train[train.래미안 == 1]"
   ]
  },
  {
   "cell_type": "code",
   "execution_count": 151,
   "id": "5c550a08",
   "metadata": {},
   "outputs": [],
   "source": [
    "x_s = x.transaction_real_price.skew()\n",
    "r_s = r.transaction_real_price.skew()"
   ]
  },
  {
   "cell_type": "code",
   "execution_count": 152,
   "id": "e36d5165",
   "metadata": {},
   "outputs": [
    {
     "data": {
      "text/plain": [
       "(1.6633803166816743, 3.200426744957116)"
      ]
     },
     "execution_count": 152,
     "metadata": {},
     "output_type": "execute_result"
    }
   ],
   "source": [
    "x_s, r_s"
   ]
  },
  {
   "cell_type": "code",
   "execution_count": 153,
   "id": "6d09c1c2",
   "metadata": {},
   "outputs": [
    {
     "name": "stdout",
     "output_type": "stream",
     "text": [
      "5.323526852543268\n"
     ]
    }
   ],
   "source": [
    "print(x_s * r_s)"
   ]
  },
  {
   "cell_type": "markdown",
   "id": "f8153703",
   "metadata": {},
   "source": [
    "### 2-3. exclusive_use_area에 대해 표준화를 실시하고 0.25 초과 0.4 이하인 데이터의 수를 구하시오."
   ]
  },
  {
   "cell_type": "code",
   "execution_count": 156,
   "id": "577cb4d8",
   "metadata": {},
   "outputs": [],
   "source": [
    "from sklearn.preprocessing import StandardScaler"
   ]
  },
  {
   "cell_type": "code",
   "execution_count": 157,
   "id": "c0e1941a",
   "metadata": {},
   "outputs": [],
   "source": [
    "ss = StandardScaler()"
   ]
  },
  {
   "cell_type": "code",
   "execution_count": 158,
   "id": "3d04ff4a",
   "metadata": {},
   "outputs": [],
   "source": [
    "train['ss'] = ss.fit_transform(train[['exclusive_use_area']])"
   ]
  },
  {
   "cell_type": "code",
   "execution_count": 161,
   "id": "75f8bf0e",
   "metadata": {},
   "outputs": [
    {
     "name": "stdout",
     "output_type": "stream",
     "text": [
      "111\n"
     ]
    }
   ],
   "source": [
    "print(train.query('ss > 0.25 & ss <= 0.4').shape[0])"
   ]
  },
  {
   "cell_type": "markdown",
   "id": "1fb0e9fa",
   "metadata": {},
   "source": [
    "### 2-4. transaction_real_price를 예측하는 모델링을 수행하시오. submission의 파일명을 result2로 저장하시오."
   ]
  },
  {
   "cell_type": "code",
   "execution_count": 163,
   "id": "9e251d60",
   "metadata": {},
   "outputs": [],
   "source": [
    "train.drop(['래미안', '자이', 'ss'], axis = 1, inplace = True)"
   ]
  },
  {
   "cell_type": "code",
   "execution_count": 170,
   "id": "33b14b39",
   "metadata": {},
   "outputs": [
    {
     "data": {
      "text/html": [
       "<div>\n",
       "<style scoped>\n",
       "    .dataframe tbody tr th:only-of-type {\n",
       "        vertical-align: middle;\n",
       "    }\n",
       "\n",
       "    .dataframe tbody tr th {\n",
       "        vertical-align: top;\n",
       "    }\n",
       "\n",
       "    .dataframe thead th {\n",
       "        text-align: right;\n",
       "    }\n",
       "</style>\n",
       "<table border=\"1\" class=\"dataframe\">\n",
       "  <thead>\n",
       "    <tr style=\"text-align: right;\">\n",
       "      <th></th>\n",
       "      <th>city</th>\n",
       "      <th>dong</th>\n",
       "      <th>jibun</th>\n",
       "      <th>apt</th>\n",
       "      <th>addr_kr</th>\n",
       "      <th>exclusive_use_area</th>\n",
       "      <th>year_of_completion</th>\n",
       "      <th>transaction_year_month</th>\n",
       "      <th>transaction_date</th>\n",
       "      <th>floor</th>\n",
       "      <th>transaction_real_price</th>\n",
       "    </tr>\n",
       "  </thead>\n",
       "  <tbody>\n",
       "    <tr>\n",
       "      <th>0</th>\n",
       "      <td>서울특별시</td>\n",
       "      <td>잠원동</td>\n",
       "      <td>63-2</td>\n",
       "      <td>청구</td>\n",
       "      <td>잠원동 63-2 청구</td>\n",
       "      <td>84.86</td>\n",
       "      <td>1998</td>\n",
       "      <td>201106</td>\n",
       "      <td>1~10</td>\n",
       "      <td>7</td>\n",
       "      <td>94500</td>\n",
       "    </tr>\n",
       "    <tr>\n",
       "      <th>1</th>\n",
       "      <td>서울특별시</td>\n",
       "      <td>둔촌동</td>\n",
       "      <td>170-1</td>\n",
       "      <td>둔촌주공1단지</td>\n",
       "      <td>둔촌동 170-1 둔촌주공1단지</td>\n",
       "      <td>58.08</td>\n",
       "      <td>1980</td>\n",
       "      <td>201301</td>\n",
       "      <td>11~20</td>\n",
       "      <td>3</td>\n",
       "      <td>54700</td>\n",
       "    </tr>\n",
       "    <tr>\n",
       "      <th>2</th>\n",
       "      <td>서울특별시</td>\n",
       "      <td>논현동</td>\n",
       "      <td>22</td>\n",
       "      <td>신동아(22)</td>\n",
       "      <td>논현동 22 신동아(22)</td>\n",
       "      <td>35.73</td>\n",
       "      <td>1997</td>\n",
       "      <td>201705</td>\n",
       "      <td>21~31</td>\n",
       "      <td>3</td>\n",
       "      <td>60000</td>\n",
       "    </tr>\n",
       "    <tr>\n",
       "      <th>3</th>\n",
       "      <td>서울특별시</td>\n",
       "      <td>방이동</td>\n",
       "      <td>40</td>\n",
       "      <td>파라다이스빌(40-0)</td>\n",
       "      <td>방이동 40 파라다이스빌(40-0)</td>\n",
       "      <td>84.66</td>\n",
       "      <td>2006</td>\n",
       "      <td>201005</td>\n",
       "      <td>21~31</td>\n",
       "      <td>6</td>\n",
       "      <td>43000</td>\n",
       "    </tr>\n",
       "    <tr>\n",
       "      <th>4</th>\n",
       "      <td>서울특별시</td>\n",
       "      <td>암사동</td>\n",
       "      <td>509</td>\n",
       "      <td>선사현대아파트</td>\n",
       "      <td>암사동 509 선사현대아파트</td>\n",
       "      <td>72.85</td>\n",
       "      <td>2000</td>\n",
       "      <td>201211</td>\n",
       "      <td>21~30</td>\n",
       "      <td>14</td>\n",
       "      <td>39500</td>\n",
       "    </tr>\n",
       "  </tbody>\n",
       "</table>\n",
       "</div>"
      ],
      "text/plain": [
       "    city dong  jibun           apt              addr_kr  exclusive_use_area  \\\n",
       "0  서울특별시  잠원동   63-2            청구          잠원동 63-2 청구               84.86   \n",
       "1  서울특별시  둔촌동  170-1       둔촌주공1단지    둔촌동 170-1 둔촌주공1단지               58.08   \n",
       "2  서울특별시  논현동     22       신동아(22)       논현동 22 신동아(22)               35.73   \n",
       "3  서울특별시  방이동     40  파라다이스빌(40-0)  방이동 40 파라다이스빌(40-0)               84.66   \n",
       "4  서울특별시  암사동    509       선사현대아파트      암사동 509 선사현대아파트               72.85   \n",
       "\n",
       "   year_of_completion  transaction_year_month transaction_date  floor  \\\n",
       "0                1998                  201106             1~10      7   \n",
       "1                1980                  201301            11~20      3   \n",
       "2                1997                  201705            21~31      3   \n",
       "3                2006                  201005            21~31      6   \n",
       "4                2000                  201211            21~30     14   \n",
       "\n",
       "   transaction_real_price  \n",
       "0                   94500  \n",
       "1                   54700  \n",
       "2                   60000  \n",
       "3                   43000  \n",
       "4                   39500  "
      ]
     },
     "execution_count": 170,
     "metadata": {},
     "output_type": "execute_result"
    }
   ],
   "source": [
    "train.head()"
   ]
  },
  {
   "cell_type": "code",
   "execution_count": 172,
   "id": "b3fc1709",
   "metadata": {},
   "outputs": [],
   "source": [
    "train['city'] = [1 if c == '서울특별시' else 0 for c in train['city']]\n",
    "test['city'] = [1 if c == '서울특별시' else 0 for c in test['city']]"
   ]
  },
  {
   "cell_type": "code",
   "execution_count": 174,
   "id": "2fa2ec0c",
   "metadata": {},
   "outputs": [],
   "source": [
    "train['apt'] = train.apt.str.contains('자이|래미안|롯데')\n",
    "test['apt'] = test.apt.str.contains('자이|래미안|롯데')"
   ]
  },
  {
   "cell_type": "code",
   "execution_count": 176,
   "id": "250ac5e2",
   "metadata": {},
   "outputs": [],
   "source": [
    "train.drop(['dong', 'jibun', 'addr_kr'], axis = 1, inplace = True)\n",
    "test.drop(['dong', 'jibun', 'addr_kr'], axis = 1, inplace = True)"
   ]
  },
  {
   "cell_type": "code",
   "execution_count": 178,
   "id": "b34264eb",
   "metadata": {},
   "outputs": [],
   "source": [
    "train.year_of_completion = 2021 - train.year_of_completion\n",
    "test.year_of_completion = 2021 - test.year_of_completion"
   ]
  },
  {
   "cell_type": "code",
   "execution_count": 191,
   "id": "5df44115",
   "metadata": {},
   "outputs": [],
   "source": [
    "train['year'] = 2021 - train.transaction_year_month.astype(str).str[:4].astype(int)\n",
    "test['year'] = 2021 - test.transaction_year_month.astype(str).str[:4].astype(int)"
   ]
  },
  {
   "cell_type": "code",
   "execution_count": 194,
   "id": "f3ccc774",
   "metadata": {},
   "outputs": [],
   "source": [
    "train.drop(['transaction_year_month', 'transaction_date'], axis = 1, inplace = True)\n",
    "test.drop(['transaction_year_month', 'transaction_date'], axis = 1, inplace = True)"
   ]
  },
  {
   "cell_type": "code",
   "execution_count": 196,
   "id": "8fec27b9",
   "metadata": {},
   "outputs": [],
   "source": [
    "X = train.drop('transaction_real_price', axis = 1)\n",
    "y = train.transaction_real_price"
   ]
  },
  {
   "cell_type": "code",
   "execution_count": 198,
   "id": "c6b9bc9a",
   "metadata": {},
   "outputs": [],
   "source": [
    "from xgboost import XGBRegressor\n",
    "from sklearn.linear_model import Lasso"
   ]
  },
  {
   "cell_type": "markdown",
   "id": "151723b7",
   "metadata": {},
   "source": [
    "### Hold Out"
   ]
  },
  {
   "cell_type": "code",
   "execution_count": 199,
   "id": "5ce39697",
   "metadata": {},
   "outputs": [],
   "source": [
    "X_train, X_val, y_train, y_val = train_test_split(X, y, test_size = 0.3, random_state = 42)"
   ]
  },
  {
   "cell_type": "code",
   "execution_count": 200,
   "id": "3bd7be32",
   "metadata": {},
   "outputs": [],
   "source": [
    "model1 = Lasso()\n",
    "model2 = XGBRegressor(random_state = 42)"
   ]
  },
  {
   "cell_type": "code",
   "execution_count": 201,
   "id": "ccbed60f",
   "metadata": {},
   "outputs": [
    {
     "data": {
      "text/plain": [
       "XGBRegressor(base_score=0.5, booster='gbtree', colsample_bylevel=1,\n",
       "             colsample_bynode=1, colsample_bytree=1, gamma=0, gpu_id=-1,\n",
       "             importance_type='gain', interaction_constraints='',\n",
       "             learning_rate=0.300000012, max_delta_step=0, max_depth=6,\n",
       "             min_child_weight=1, missing=nan, monotone_constraints='()',\n",
       "             n_estimators=100, n_jobs=8, num_parallel_tree=1, random_state=42,\n",
       "             reg_alpha=0, reg_lambda=1, scale_pos_weight=1, subsample=1,\n",
       "             tree_method='exact', validate_parameters=1, verbosity=None)"
      ]
     },
     "execution_count": 201,
     "metadata": {},
     "output_type": "execute_result"
    }
   ],
   "source": [
    "model1.fit(X_train, y_train)\n",
    "model2.fit(X_train, y_train)"
   ]
  },
  {
   "cell_type": "code",
   "execution_count": 202,
   "id": "29ca3fad",
   "metadata": {},
   "outputs": [],
   "source": [
    "from sklearn.metrics import mean_absolute_error"
   ]
  },
  {
   "cell_type": "code",
   "execution_count": 203,
   "id": "862541f7",
   "metadata": {},
   "outputs": [],
   "source": [
    "pred1 = model1.predict(X_val)\n",
    "pred2 = model2.predict(X_val)"
   ]
  },
  {
   "cell_type": "code",
   "execution_count": 204,
   "id": "f9531e71",
   "metadata": {},
   "outputs": [],
   "source": [
    "mae1 = mean_absolute_error(y_val, pred1)\n",
    "mae2 = mean_absolute_error(y_val, pred2)"
   ]
  },
  {
   "cell_type": "code",
   "execution_count": 205,
   "id": "8f2944b5",
   "metadata": {},
   "outputs": [
    {
     "data": {
      "text/plain": [
       "(13490.219409903246, 8389.627346366035)"
      ]
     },
     "execution_count": 205,
     "metadata": {},
     "output_type": "execute_result"
    }
   ],
   "source": [
    "mae1, mae2"
   ]
  },
  {
   "cell_type": "code",
   "execution_count": 207,
   "id": "b2098c46",
   "metadata": {},
   "outputs": [],
   "source": [
    "ls_pred = model1.predict(test)"
   ]
  },
  {
   "cell_type": "code",
   "execution_count": 208,
   "id": "f49d9655",
   "metadata": {},
   "outputs": [],
   "source": [
    "xgb_pred = model2.predict(test)"
   ]
  },
  {
   "cell_type": "code",
   "execution_count": 210,
   "id": "b6b0f7c6",
   "metadata": {},
   "outputs": [],
   "source": [
    "submission['transaction_real_price'] = 0.8 * xgb_pred + 0.2 * ls_pred"
   ]
  },
  {
   "cell_type": "code",
   "execution_count": 211,
   "id": "7588c0ec",
   "metadata": {},
   "outputs": [
    {
     "data": {
      "text/html": [
       "<div>\n",
       "<style scoped>\n",
       "    .dataframe tbody tr th:only-of-type {\n",
       "        vertical-align: middle;\n",
       "    }\n",
       "\n",
       "    .dataframe tbody tr th {\n",
       "        vertical-align: top;\n",
       "    }\n",
       "\n",
       "    .dataframe thead th {\n",
       "        text-align: right;\n",
       "    }\n",
       "</style>\n",
       "<table border=\"1\" class=\"dataframe\">\n",
       "  <thead>\n",
       "    <tr style=\"text-align: right;\">\n",
       "      <th></th>\n",
       "      <th>index</th>\n",
       "      <th>transaction_real_price</th>\n",
       "    </tr>\n",
       "  </thead>\n",
       "  <tbody>\n",
       "    <tr>\n",
       "      <th>0</th>\n",
       "      <td>0</td>\n",
       "      <td>27673.117421</td>\n",
       "    </tr>\n",
       "    <tr>\n",
       "      <th>1</th>\n",
       "      <td>1</td>\n",
       "      <td>19704.809260</td>\n",
       "    </tr>\n",
       "    <tr>\n",
       "      <th>2</th>\n",
       "      <td>2</td>\n",
       "      <td>19790.711858</td>\n",
       "    </tr>\n",
       "    <tr>\n",
       "      <th>3</th>\n",
       "      <td>3</td>\n",
       "      <td>63025.308315</td>\n",
       "    </tr>\n",
       "    <tr>\n",
       "      <th>4</th>\n",
       "      <td>4</td>\n",
       "      <td>61366.142637</td>\n",
       "    </tr>\n",
       "    <tr>\n",
       "      <th>...</th>\n",
       "      <td>...</td>\n",
       "      <td>...</td>\n",
       "    </tr>\n",
       "    <tr>\n",
       "      <th>5458</th>\n",
       "      <td>5458</td>\n",
       "      <td>46568.025278</td>\n",
       "    </tr>\n",
       "    <tr>\n",
       "      <th>5459</th>\n",
       "      <td>5459</td>\n",
       "      <td>102053.258430</td>\n",
       "    </tr>\n",
       "    <tr>\n",
       "      <th>5460</th>\n",
       "      <td>5460</td>\n",
       "      <td>111107.102942</td>\n",
       "    </tr>\n",
       "    <tr>\n",
       "      <th>5461</th>\n",
       "      <td>5461</td>\n",
       "      <td>53548.324362</td>\n",
       "    </tr>\n",
       "    <tr>\n",
       "      <th>5462</th>\n",
       "      <td>5462</td>\n",
       "      <td>27190.824147</td>\n",
       "    </tr>\n",
       "  </tbody>\n",
       "</table>\n",
       "<p>5463 rows × 2 columns</p>\n",
       "</div>"
      ],
      "text/plain": [
       "      index  transaction_real_price\n",
       "0         0            27673.117421\n",
       "1         1            19704.809260\n",
       "2         2            19790.711858\n",
       "3         3            63025.308315\n",
       "4         4            61366.142637\n",
       "...     ...                     ...\n",
       "5458   5458            46568.025278\n",
       "5459   5459           102053.258430\n",
       "5460   5460           111107.102942\n",
       "5461   5461            53548.324362\n",
       "5462   5462            27190.824147\n",
       "\n",
       "[5463 rows x 2 columns]"
      ]
     },
     "execution_count": 211,
     "metadata": {},
     "output_type": "execute_result"
    }
   ],
   "source": [
    "submission"
   ]
  },
  {
   "cell_type": "code",
   "execution_count": 212,
   "id": "32f63080",
   "metadata": {},
   "outputs": [],
   "source": [
    "#submission.to_csv('result2.csv', index = False)"
   ]
  },
  {
   "cell_type": "markdown",
   "id": "6782e0c0",
   "metadata": {},
   "source": [
    "### Ensemble"
   ]
  },
  {
   "cell_type": "code",
   "execution_count": 213,
   "id": "d436e51d",
   "metadata": {},
   "outputs": [],
   "source": [
    "from sklearn.model_selection import KFold"
   ]
  },
  {
   "cell_type": "code",
   "execution_count": 214,
   "id": "6621bf44",
   "metadata": {},
   "outputs": [],
   "source": [
    "kf = KFold(n_splits = 8, random_state = 42, shuffle = True)"
   ]
  },
  {
   "cell_type": "code",
   "execution_count": 215,
   "id": "15f877af",
   "metadata": {},
   "outputs": [
    {
     "name": "stdout",
     "output_type": "stream",
     "text": [
      "13604.609555566874\n",
      "13231.401189780803\n",
      "13475.890576291396\n",
      "13432.272809162341\n",
      "13568.422341213234\n",
      "13540.599232956443\n",
      "13553.88321864712\n",
      "13705.546220488333\n"
     ]
    }
   ],
   "source": [
    "ls_pred = np.zeros(test.shape[0])\n",
    "for tr_idx, val_idx in kf.split(X, y) :\n",
    "    tr_x, tr_y = X.iloc[tr_idx], y.iloc[tr_idx]\n",
    "    val_x, val_y = X.iloc[val_idx], y.iloc[val_idx]\n",
    "    \n",
    "    model1 = Lasso()\n",
    "    model1.fit(tr_x, tr_y)\n",
    "    \n",
    "    pred = model1.predict(val_x)\n",
    "    mae = mean_absolute_error(val_y, pred)\n",
    "    print(mae)\n",
    "    \n",
    "    fold_pred = model1.predict(test) / 8\n",
    "    ls_pred += fold_pred"
   ]
  },
  {
   "cell_type": "code",
   "execution_count": 216,
   "id": "abbbbc1b",
   "metadata": {},
   "outputs": [
    {
     "name": "stdout",
     "output_type": "stream",
     "text": [
      "8065.039213834635\n",
      "8132.123083658854\n",
      "8517.609152604167\n",
      "8335.275866536458\n",
      "8096.497823063151\n",
      "7798.895463403321\n",
      "8107.886042675781\n",
      "8187.390291253662\n"
     ]
    }
   ],
   "source": [
    "xgb_pred = np.zeros(test.shape[0])\n",
    "for tr_idx, val_idx in kf.split(X, y) :\n",
    "    tr_x, tr_y = X.iloc[tr_idx], y.iloc[tr_idx]\n",
    "    val_x, val_y = X.iloc[val_idx], y.iloc[val_idx]\n",
    "    \n",
    "    model1 = XGBRegressor(random_state = 42)\n",
    "    model1.fit(tr_x, tr_y)\n",
    "    \n",
    "    pred = model1.predict(val_x)\n",
    "    mae = mean_absolute_error(val_y, pred)\n",
    "    print(mae)\n",
    "    \n",
    "    fold_pred = model1.predict(test) / 8\n",
    "    xgb_pred += fold_pred"
   ]
  },
  {
   "cell_type": "code",
   "execution_count": 217,
   "id": "bed413c1",
   "metadata": {},
   "outputs": [],
   "source": [
    "submission['transaction_real_price'] = xgb_pred"
   ]
  },
  {
   "cell_type": "code",
   "execution_count": 219,
   "id": "8e342629",
   "metadata": {},
   "outputs": [],
   "source": [
    "#submission.to_csv('result2.csv', index = False)"
   ]
  }
 ],
 "metadata": {
  "kernelspec": {
   "display_name": "Python 3",
   "language": "python",
   "name": "python3"
  },
  "language_info": {
   "codemirror_mode": {
    "name": "ipython",
    "version": 3
   },
   "file_extension": ".py",
   "mimetype": "text/x-python",
   "name": "python",
   "nbconvert_exporter": "python",
   "pygments_lexer": "ipython3",
   "version": "3.8.8"
  }
 },
 "nbformat": 4,
 "nbformat_minor": 5
}
