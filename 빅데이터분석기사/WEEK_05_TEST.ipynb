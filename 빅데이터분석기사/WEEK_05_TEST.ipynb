{
 "cells": [
  {
   "cell_type": "markdown",
   "id": "98892f83",
   "metadata": {},
   "source": [
    "# 빅데이터 분석기사 실기 모의고사 1회\n",
    "***\n",
    "\n",
    "## 1번 문제 사용 데이터\n",
    "- cus_seg_train / cus_seg_test / cus_seg_result\n",
    "\n",
    "\n",
    "## 1-1. Age 변수에 대해 표준화와 정규화를 각각 실시하고 각 결과에 대해 0.1 이상 0.2 미만인 Age 값의 여성 수를 출력하시오.\n",
    "\n",
    "\n",
    "- 표준화/정규화 구현 여부 + 데이터 핸들링 + 특정 값 추출"
   ]
  },
  {
   "cell_type": "code",
   "execution_count": 156,
   "id": "254b5444",
   "metadata": {},
   "outputs": [],
   "source": [
    "import pandas as pd\n",
    "import numpy as np\n",
    "from sklearn.preprocessing import StandardScaler, MinMaxScaler"
   ]
  },
  {
   "cell_type": "code",
   "execution_count": 157,
   "id": "30e800b9",
   "metadata": {},
   "outputs": [],
   "source": [
    "train = pd.read_csv('cus_seg_train.csv')\n",
    "test = pd.read_csv('cus_seg_test.csv')"
   ]
  },
  {
   "cell_type": "code",
   "execution_count": 158,
   "id": "c270f543",
   "metadata": {},
   "outputs": [
    {
     "data": {
      "text/html": [
       "<div>\n",
       "<style scoped>\n",
       "    .dataframe tbody tr th:only-of-type {\n",
       "        vertical-align: middle;\n",
       "    }\n",
       "\n",
       "    .dataframe tbody tr th {\n",
       "        vertical-align: top;\n",
       "    }\n",
       "\n",
       "    .dataframe thead th {\n",
       "        text-align: right;\n",
       "    }\n",
       "</style>\n",
       "<table border=\"1\" class=\"dataframe\">\n",
       "  <thead>\n",
       "    <tr style=\"text-align: right;\">\n",
       "      <th></th>\n",
       "      <th>Gender</th>\n",
       "      <th>Ever_Married</th>\n",
       "      <th>Age</th>\n",
       "      <th>Graduated</th>\n",
       "      <th>Profession</th>\n",
       "      <th>Work_Experience</th>\n",
       "      <th>Spending_Score</th>\n",
       "      <th>Family_Size</th>\n",
       "      <th>target</th>\n",
       "    </tr>\n",
       "  </thead>\n",
       "  <tbody>\n",
       "    <tr>\n",
       "      <th>0</th>\n",
       "      <td>Male</td>\n",
       "      <td>No</td>\n",
       "      <td>22</td>\n",
       "      <td>No</td>\n",
       "      <td>Healthcare</td>\n",
       "      <td>1.0</td>\n",
       "      <td>Low</td>\n",
       "      <td>4.0</td>\n",
       "      <td>1</td>\n",
       "    </tr>\n",
       "    <tr>\n",
       "      <th>1</th>\n",
       "      <td>Female</td>\n",
       "      <td>Yes</td>\n",
       "      <td>67</td>\n",
       "      <td>Yes</td>\n",
       "      <td>Engineer</td>\n",
       "      <td>1.0</td>\n",
       "      <td>Low</td>\n",
       "      <td>1.0</td>\n",
       "      <td>1</td>\n",
       "    </tr>\n",
       "    <tr>\n",
       "      <th>2</th>\n",
       "      <td>Male</td>\n",
       "      <td>Yes</td>\n",
       "      <td>67</td>\n",
       "      <td>Yes</td>\n",
       "      <td>Lawyer</td>\n",
       "      <td>0.0</td>\n",
       "      <td>High</td>\n",
       "      <td>2.0</td>\n",
       "      <td>1</td>\n",
       "    </tr>\n",
       "    <tr>\n",
       "      <th>3</th>\n",
       "      <td>Male</td>\n",
       "      <td>Yes</td>\n",
       "      <td>56</td>\n",
       "      <td>No</td>\n",
       "      <td>Artist</td>\n",
       "      <td>0.0</td>\n",
       "      <td>Average</td>\n",
       "      <td>2.0</td>\n",
       "      <td>0</td>\n",
       "    </tr>\n",
       "    <tr>\n",
       "      <th>4</th>\n",
       "      <td>Male</td>\n",
       "      <td>No</td>\n",
       "      <td>32</td>\n",
       "      <td>Yes</td>\n",
       "      <td>Healthcare</td>\n",
       "      <td>1.0</td>\n",
       "      <td>Low</td>\n",
       "      <td>3.0</td>\n",
       "      <td>0</td>\n",
       "    </tr>\n",
       "  </tbody>\n",
       "</table>\n",
       "</div>"
      ],
      "text/plain": [
       "   Gender Ever_Married  Age Graduated  Profession  Work_Experience  \\\n",
       "0    Male           No   22        No  Healthcare              1.0   \n",
       "1  Female          Yes   67       Yes    Engineer              1.0   \n",
       "2    Male          Yes   67       Yes      Lawyer              0.0   \n",
       "3    Male          Yes   56        No      Artist              0.0   \n",
       "4    Male           No   32       Yes  Healthcare              1.0   \n",
       "\n",
       "  Spending_Score  Family_Size  target  \n",
       "0            Low          4.0       1  \n",
       "1            Low          1.0       1  \n",
       "2           High          2.0       1  \n",
       "3        Average          2.0       0  \n",
       "4            Low          3.0       0  "
      ]
     },
     "execution_count": 158,
     "metadata": {},
     "output_type": "execute_result"
    }
   ],
   "source": [
    "train.head()"
   ]
  },
  {
   "cell_type": "code",
   "execution_count": 159,
   "id": "112fd800",
   "metadata": {},
   "outputs": [],
   "source": [
    "s_scl = StandardScaler() # 표준화\n",
    "m_scl = MinMaxScaler() # 정규화"
   ]
  },
  {
   "cell_type": "code",
   "execution_count": 161,
   "id": "f92dc5c8",
   "metadata": {},
   "outputs": [
    {
     "data": {
      "text/html": [
       "<div>\n",
       "<style scoped>\n",
       "    .dataframe tbody tr th:only-of-type {\n",
       "        vertical-align: middle;\n",
       "    }\n",
       "\n",
       "    .dataframe tbody tr th {\n",
       "        vertical-align: top;\n",
       "    }\n",
       "\n",
       "    .dataframe thead th {\n",
       "        text-align: right;\n",
       "    }\n",
       "</style>\n",
       "<table border=\"1\" class=\"dataframe\">\n",
       "  <thead>\n",
       "    <tr style=\"text-align: right;\">\n",
       "      <th></th>\n",
       "      <th>Age</th>\n",
       "    </tr>\n",
       "  </thead>\n",
       "  <tbody>\n",
       "    <tr>\n",
       "      <th>0</th>\n",
       "      <td>22</td>\n",
       "    </tr>\n",
       "    <tr>\n",
       "      <th>1</th>\n",
       "      <td>67</td>\n",
       "    </tr>\n",
       "    <tr>\n",
       "      <th>2</th>\n",
       "      <td>67</td>\n",
       "    </tr>\n",
       "    <tr>\n",
       "      <th>3</th>\n",
       "      <td>56</td>\n",
       "    </tr>\n",
       "    <tr>\n",
       "      <th>4</th>\n",
       "      <td>32</td>\n",
       "    </tr>\n",
       "  </tbody>\n",
       "</table>\n",
       "</div>"
      ],
      "text/plain": [
       "   Age\n",
       "0   22\n",
       "1   67\n",
       "2   67\n",
       "3   56\n",
       "4   32"
      ]
     },
     "execution_count": 161,
     "metadata": {},
     "output_type": "execute_result"
    }
   ],
   "source": [
    "train[['Age']].head()"
   ]
  },
  {
   "cell_type": "markdown",
   "id": "c513e00c",
   "metadata": {},
   "source": [
    "- train데이터에 대해서만 스케일링을 하기 때문에 fit_transform을 사용한다.\n",
    "- scaling을 할 때 단일변수가 대상일 경우 \"데이터[[컬럼]]\" 형태로 scaling을 해야한다."
   ]
  },
  {
   "cell_type": "code",
   "execution_count": 65,
   "id": "b877646c",
   "metadata": {},
   "outputs": [],
   "source": [
    "train['s_scaled'] = s_scl.fit_transform(train[['Age']])\n",
    "train['m_scaled'] = m_scl.fit_transform(train[['Age']])"
   ]
  },
  {
   "cell_type": "code",
   "execution_count": 66,
   "id": "90edfc46",
   "metadata": {},
   "outputs": [
    {
     "data": {
      "text/html": [
       "<div>\n",
       "<style scoped>\n",
       "    .dataframe tbody tr th:only-of-type {\n",
       "        vertical-align: middle;\n",
       "    }\n",
       "\n",
       "    .dataframe tbody tr th {\n",
       "        vertical-align: top;\n",
       "    }\n",
       "\n",
       "    .dataframe thead th {\n",
       "        text-align: right;\n",
       "    }\n",
       "</style>\n",
       "<table border=\"1\" class=\"dataframe\">\n",
       "  <thead>\n",
       "    <tr style=\"text-align: right;\">\n",
       "      <th></th>\n",
       "      <th>Gender</th>\n",
       "      <th>Ever_Married</th>\n",
       "      <th>Age</th>\n",
       "      <th>Graduated</th>\n",
       "      <th>Profession</th>\n",
       "      <th>Work_Experience</th>\n",
       "      <th>Spending_Score</th>\n",
       "      <th>Family_Size</th>\n",
       "      <th>target</th>\n",
       "      <th>s_scaled</th>\n",
       "      <th>m_scaled</th>\n",
       "    </tr>\n",
       "  </thead>\n",
       "  <tbody>\n",
       "    <tr>\n",
       "      <th>0</th>\n",
       "      <td>Male</td>\n",
       "      <td>No</td>\n",
       "      <td>22</td>\n",
       "      <td>No</td>\n",
       "      <td>Healthcare</td>\n",
       "      <td>1.0</td>\n",
       "      <td>Low</td>\n",
       "      <td>4.0</td>\n",
       "      <td>1</td>\n",
       "      <td>-1.303562</td>\n",
       "      <td>0.056338</td>\n",
       "    </tr>\n",
       "    <tr>\n",
       "      <th>1</th>\n",
       "      <td>Female</td>\n",
       "      <td>Yes</td>\n",
       "      <td>67</td>\n",
       "      <td>Yes</td>\n",
       "      <td>Engineer</td>\n",
       "      <td>1.0</td>\n",
       "      <td>Low</td>\n",
       "      <td>1.0</td>\n",
       "      <td>1</td>\n",
       "      <td>1.421748</td>\n",
       "      <td>0.690141</td>\n",
       "    </tr>\n",
       "    <tr>\n",
       "      <th>2</th>\n",
       "      <td>Male</td>\n",
       "      <td>Yes</td>\n",
       "      <td>67</td>\n",
       "      <td>Yes</td>\n",
       "      <td>Lawyer</td>\n",
       "      <td>0.0</td>\n",
       "      <td>High</td>\n",
       "      <td>2.0</td>\n",
       "      <td>1</td>\n",
       "      <td>1.421748</td>\n",
       "      <td>0.690141</td>\n",
       "    </tr>\n",
       "    <tr>\n",
       "      <th>3</th>\n",
       "      <td>Male</td>\n",
       "      <td>Yes</td>\n",
       "      <td>56</td>\n",
       "      <td>No</td>\n",
       "      <td>Artist</td>\n",
       "      <td>0.0</td>\n",
       "      <td>Average</td>\n",
       "      <td>2.0</td>\n",
       "      <td>0</td>\n",
       "      <td>0.755561</td>\n",
       "      <td>0.535211</td>\n",
       "    </tr>\n",
       "    <tr>\n",
       "      <th>4</th>\n",
       "      <td>Male</td>\n",
       "      <td>No</td>\n",
       "      <td>32</td>\n",
       "      <td>Yes</td>\n",
       "      <td>Healthcare</td>\n",
       "      <td>1.0</td>\n",
       "      <td>Low</td>\n",
       "      <td>3.0</td>\n",
       "      <td>0</td>\n",
       "      <td>-0.697937</td>\n",
       "      <td>0.197183</td>\n",
       "    </tr>\n",
       "  </tbody>\n",
       "</table>\n",
       "</div>"
      ],
      "text/plain": [
       "   Gender Ever_Married  Age Graduated  Profession  Work_Experience  \\\n",
       "0    Male           No   22        No  Healthcare              1.0   \n",
       "1  Female          Yes   67       Yes    Engineer              1.0   \n",
       "2    Male          Yes   67       Yes      Lawyer              0.0   \n",
       "3    Male          Yes   56        No      Artist              0.0   \n",
       "4    Male           No   32       Yes  Healthcare              1.0   \n",
       "\n",
       "  Spending_Score  Family_Size  target  s_scaled  m_scaled  \n",
       "0            Low          4.0       1 -1.303562  0.056338  \n",
       "1            Low          1.0       1  1.421748  0.690141  \n",
       "2           High          2.0       1  1.421748  0.690141  \n",
       "3        Average          2.0       0  0.755561  0.535211  \n",
       "4            Low          3.0       0 -0.697937  0.197183  "
      ]
     },
     "execution_count": 66,
     "metadata": {},
     "output_type": "execute_result"
    }
   ],
   "source": [
    "train.head()"
   ]
  },
  {
   "cell_type": "code",
   "execution_count": 67,
   "id": "31420cff",
   "metadata": {},
   "outputs": [],
   "source": [
    "df1 = train[(train['s_scaled'] >= 0.1) & (train['s_scaled'] < 0.2)]"
   ]
  },
  {
   "cell_type": "code",
   "execution_count": 68,
   "id": "92481c6a",
   "metadata": {
    "scrolled": false
   },
   "outputs": [
    {
     "data": {
      "text/plain": [
       "69"
      ]
     },
     "execution_count": 68,
     "metadata": {},
     "output_type": "execute_result"
    }
   ],
   "source": [
    "df1[df1.Gender == 'Female'].shape[0]"
   ]
  },
  {
   "cell_type": "code",
   "execution_count": 69,
   "id": "f6808a42",
   "metadata": {},
   "outputs": [],
   "source": [
    "df2 = train[(train['m_scaled'] >= 0.1) & (train['m_scaled'] < 0.2)]"
   ]
  },
  {
   "cell_type": "code",
   "execution_count": 70,
   "id": "b70049de",
   "metadata": {},
   "outputs": [
    {
     "data": {
      "text/plain": [
       "583"
      ]
     },
     "execution_count": 70,
     "metadata": {},
     "output_type": "execute_result"
    }
   ],
   "source": [
    "df2[df2.Gender == 'Female'].shape[0]"
   ]
  },
  {
   "cell_type": "markdown",
   "id": "ae0c3534",
   "metadata": {},
   "source": [
    "## 1-2. Spending Score별로 Age의 3분위수를 모두 더해 하나의 값으로 출력하시오."
   ]
  },
  {
   "cell_type": "code",
   "execution_count": 71,
   "id": "1f9689df",
   "metadata": {
    "scrolled": false
   },
   "outputs": [
    {
     "data": {
      "text/plain": [
       "array(['Low', 'High', 'Average'], dtype=object)"
      ]
     },
     "execution_count": 71,
     "metadata": {},
     "output_type": "execute_result"
    }
   ],
   "source": [
    "train.Spending_Score.unique()"
   ]
  },
  {
   "cell_type": "markdown",
   "id": "856992a1",
   "metadata": {},
   "source": [
    "### 방법1"
   ]
  },
  {
   "cell_type": "code",
   "execution_count": 128,
   "id": "1bac431a",
   "metadata": {},
   "outputs": [],
   "source": [
    "df1 = train[train.Spending_Score == 'Low']\n",
    "df2 = train[train.Spending_Score == 'High']\n",
    "df3 = train[train.Spending_Score == 'Average']"
   ]
  },
  {
   "cell_type": "code",
   "execution_count": 73,
   "id": "37418649",
   "metadata": {},
   "outputs": [],
   "source": [
    "q1 = np.percentile(df1.Age, 75)\n",
    "q2 = np.percentile(df2.Age, 75)\n",
    "q3 = np.percentile(df3.Age, 75)"
   ]
  },
  {
   "cell_type": "code",
   "execution_count": 74,
   "id": "6d7dbc2b",
   "metadata": {
    "scrolled": true
   },
   "outputs": [
    {
     "data": {
      "text/plain": [
       "(46.0, 72.0, 55.0)"
      ]
     },
     "execution_count": 74,
     "metadata": {},
     "output_type": "execute_result"
    }
   ],
   "source": [
    "q1, q2, q3"
   ]
  },
  {
   "cell_type": "code",
   "execution_count": 75,
   "id": "23ae893d",
   "metadata": {
    "scrolled": false
   },
   "outputs": [
    {
     "data": {
      "text/plain": [
       "173.0"
      ]
     },
     "execution_count": 75,
     "metadata": {},
     "output_type": "execute_result"
    }
   ],
   "source": [
    "q1 + q2 + q3"
   ]
  },
  {
   "cell_type": "markdown",
   "id": "b763124a",
   "metadata": {},
   "source": [
    "### 방법2"
   ]
  },
  {
   "cell_type": "code",
   "execution_count": 76,
   "id": "1f34309a",
   "metadata": {},
   "outputs": [
    {
     "data": {
      "text/plain": [
       "Spending_Score\n",
       "Average    55\n",
       "High       72\n",
       "Low        46\n",
       "Name: Age, dtype: int64"
      ]
     },
     "execution_count": 76,
     "metadata": {},
     "output_type": "execute_result"
    }
   ],
   "source": [
    "train.groupby('Spending_Score').Age.agg(lambda x : np.percentile(x, 75))"
   ]
  },
  {
   "cell_type": "code",
   "execution_count": 77,
   "id": "a4913534",
   "metadata": {
    "scrolled": true
   },
   "outputs": [
    {
     "data": {
      "text/plain": [
       "173"
      ]
     },
     "execution_count": 77,
     "metadata": {},
     "output_type": "execute_result"
    }
   ],
   "source": [
    "train.groupby('Spending_Score').Age.agg(lambda x : np.percentile(x, 75)).sum()"
   ]
  },
  {
   "cell_type": "markdown",
   "id": "024bc70a",
   "metadata": {},
   "source": [
    "## 1-3. target 예측 모델링을 진행하시오. 평가지표는 Accuracy로 하되 2개 이상의 모델을 사용하고 submission파일의 target값을 0 혹은 1 값으로 채운 후 'result' 파일명으로 제출하시오."
   ]
  },
  {
   "cell_type": "code",
   "execution_count": 78,
   "id": "a0b52e05",
   "metadata": {},
   "outputs": [],
   "source": [
    "train.drop(['s_scaled', 'm_scaled'], axis = 1, inplace = True)"
   ]
  },
  {
   "cell_type": "code",
   "execution_count": 79,
   "id": "6b54bd6c",
   "metadata": {},
   "outputs": [],
   "source": [
    "train['Gender'] = [1 if g == 'Male' else 0 for g in train['Gender']]\n",
    "test['Gender'] = [1 if g == 'Male' else 0 for g in test['Gender']]"
   ]
  },
  {
   "cell_type": "code",
   "execution_count": 80,
   "id": "568908c2",
   "metadata": {},
   "outputs": [
    {
     "data": {
      "text/html": [
       "<div>\n",
       "<style scoped>\n",
       "    .dataframe tbody tr th:only-of-type {\n",
       "        vertical-align: middle;\n",
       "    }\n",
       "\n",
       "    .dataframe tbody tr th {\n",
       "        vertical-align: top;\n",
       "    }\n",
       "\n",
       "    .dataframe thead th {\n",
       "        text-align: right;\n",
       "    }\n",
       "</style>\n",
       "<table border=\"1\" class=\"dataframe\">\n",
       "  <thead>\n",
       "    <tr style=\"text-align: right;\">\n",
       "      <th></th>\n",
       "      <th>Gender</th>\n",
       "      <th>Ever_Married</th>\n",
       "      <th>Age</th>\n",
       "      <th>Graduated</th>\n",
       "      <th>Profession</th>\n",
       "      <th>Work_Experience</th>\n",
       "      <th>Spending_Score</th>\n",
       "      <th>Family_Size</th>\n",
       "      <th>target</th>\n",
       "    </tr>\n",
       "  </thead>\n",
       "  <tbody>\n",
       "    <tr>\n",
       "      <th>0</th>\n",
       "      <td>1</td>\n",
       "      <td>No</td>\n",
       "      <td>22</td>\n",
       "      <td>No</td>\n",
       "      <td>Healthcare</td>\n",
       "      <td>1.0</td>\n",
       "      <td>Low</td>\n",
       "      <td>4.0</td>\n",
       "      <td>1</td>\n",
       "    </tr>\n",
       "    <tr>\n",
       "      <th>1</th>\n",
       "      <td>0</td>\n",
       "      <td>Yes</td>\n",
       "      <td>67</td>\n",
       "      <td>Yes</td>\n",
       "      <td>Engineer</td>\n",
       "      <td>1.0</td>\n",
       "      <td>Low</td>\n",
       "      <td>1.0</td>\n",
       "      <td>1</td>\n",
       "    </tr>\n",
       "    <tr>\n",
       "      <th>2</th>\n",
       "      <td>1</td>\n",
       "      <td>Yes</td>\n",
       "      <td>67</td>\n",
       "      <td>Yes</td>\n",
       "      <td>Lawyer</td>\n",
       "      <td>0.0</td>\n",
       "      <td>High</td>\n",
       "      <td>2.0</td>\n",
       "      <td>1</td>\n",
       "    </tr>\n",
       "    <tr>\n",
       "      <th>3</th>\n",
       "      <td>1</td>\n",
       "      <td>Yes</td>\n",
       "      <td>56</td>\n",
       "      <td>No</td>\n",
       "      <td>Artist</td>\n",
       "      <td>0.0</td>\n",
       "      <td>Average</td>\n",
       "      <td>2.0</td>\n",
       "      <td>0</td>\n",
       "    </tr>\n",
       "    <tr>\n",
       "      <th>4</th>\n",
       "      <td>1</td>\n",
       "      <td>No</td>\n",
       "      <td>32</td>\n",
       "      <td>Yes</td>\n",
       "      <td>Healthcare</td>\n",
       "      <td>1.0</td>\n",
       "      <td>Low</td>\n",
       "      <td>3.0</td>\n",
       "      <td>0</td>\n",
       "    </tr>\n",
       "  </tbody>\n",
       "</table>\n",
       "</div>"
      ],
      "text/plain": [
       "   Gender Ever_Married  Age Graduated  Profession  Work_Experience  \\\n",
       "0       1           No   22        No  Healthcare              1.0   \n",
       "1       0          Yes   67       Yes    Engineer              1.0   \n",
       "2       1          Yes   67       Yes      Lawyer              0.0   \n",
       "3       1          Yes   56        No      Artist              0.0   \n",
       "4       1           No   32       Yes  Healthcare              1.0   \n",
       "\n",
       "  Spending_Score  Family_Size  target  \n",
       "0            Low          4.0       1  \n",
       "1            Low          1.0       1  \n",
       "2           High          2.0       1  \n",
       "3        Average          2.0       0  \n",
       "4            Low          3.0       0  "
      ]
     },
     "execution_count": 80,
     "metadata": {},
     "output_type": "execute_result"
    }
   ],
   "source": [
    "train.head()"
   ]
  },
  {
   "cell_type": "code",
   "execution_count": 81,
   "id": "93ce51cc",
   "metadata": {},
   "outputs": [],
   "source": [
    "train['Ever_Married'] = [1 if m == 'Yes' else 0 for m in train['Ever_Married']]\n",
    "test['Ever_Married'] = [1 if m == 'Yes' else 0 for m in test['Ever_Married']]"
   ]
  },
  {
   "cell_type": "code",
   "execution_count": 82,
   "id": "50b04003",
   "metadata": {},
   "outputs": [
    {
     "data": {
      "text/html": [
       "<div>\n",
       "<style scoped>\n",
       "    .dataframe tbody tr th:only-of-type {\n",
       "        vertical-align: middle;\n",
       "    }\n",
       "\n",
       "    .dataframe tbody tr th {\n",
       "        vertical-align: top;\n",
       "    }\n",
       "\n",
       "    .dataframe thead th {\n",
       "        text-align: right;\n",
       "    }\n",
       "</style>\n",
       "<table border=\"1\" class=\"dataframe\">\n",
       "  <thead>\n",
       "    <tr style=\"text-align: right;\">\n",
       "      <th></th>\n",
       "      <th>Gender</th>\n",
       "      <th>Ever_Married</th>\n",
       "      <th>Age</th>\n",
       "      <th>Graduated</th>\n",
       "      <th>Profession</th>\n",
       "      <th>Work_Experience</th>\n",
       "      <th>Spending_Score</th>\n",
       "      <th>Family_Size</th>\n",
       "      <th>target</th>\n",
       "    </tr>\n",
       "  </thead>\n",
       "  <tbody>\n",
       "    <tr>\n",
       "      <th>0</th>\n",
       "      <td>1</td>\n",
       "      <td>0</td>\n",
       "      <td>22</td>\n",
       "      <td>No</td>\n",
       "      <td>Healthcare</td>\n",
       "      <td>1.0</td>\n",
       "      <td>Low</td>\n",
       "      <td>4.0</td>\n",
       "      <td>1</td>\n",
       "    </tr>\n",
       "    <tr>\n",
       "      <th>1</th>\n",
       "      <td>0</td>\n",
       "      <td>1</td>\n",
       "      <td>67</td>\n",
       "      <td>Yes</td>\n",
       "      <td>Engineer</td>\n",
       "      <td>1.0</td>\n",
       "      <td>Low</td>\n",
       "      <td>1.0</td>\n",
       "      <td>1</td>\n",
       "    </tr>\n",
       "    <tr>\n",
       "      <th>2</th>\n",
       "      <td>1</td>\n",
       "      <td>1</td>\n",
       "      <td>67</td>\n",
       "      <td>Yes</td>\n",
       "      <td>Lawyer</td>\n",
       "      <td>0.0</td>\n",
       "      <td>High</td>\n",
       "      <td>2.0</td>\n",
       "      <td>1</td>\n",
       "    </tr>\n",
       "    <tr>\n",
       "      <th>3</th>\n",
       "      <td>1</td>\n",
       "      <td>1</td>\n",
       "      <td>56</td>\n",
       "      <td>No</td>\n",
       "      <td>Artist</td>\n",
       "      <td>0.0</td>\n",
       "      <td>Average</td>\n",
       "      <td>2.0</td>\n",
       "      <td>0</td>\n",
       "    </tr>\n",
       "    <tr>\n",
       "      <th>4</th>\n",
       "      <td>1</td>\n",
       "      <td>0</td>\n",
       "      <td>32</td>\n",
       "      <td>Yes</td>\n",
       "      <td>Healthcare</td>\n",
       "      <td>1.0</td>\n",
       "      <td>Low</td>\n",
       "      <td>3.0</td>\n",
       "      <td>0</td>\n",
       "    </tr>\n",
       "  </tbody>\n",
       "</table>\n",
       "</div>"
      ],
      "text/plain": [
       "   Gender  Ever_Married  Age Graduated  Profession  Work_Experience  \\\n",
       "0       1             0   22        No  Healthcare              1.0   \n",
       "1       0             1   67       Yes    Engineer              1.0   \n",
       "2       1             1   67       Yes      Lawyer              0.0   \n",
       "3       1             1   56        No      Artist              0.0   \n",
       "4       1             0   32       Yes  Healthcare              1.0   \n",
       "\n",
       "  Spending_Score  Family_Size  target  \n",
       "0            Low          4.0       1  \n",
       "1            Low          1.0       1  \n",
       "2           High          2.0       1  \n",
       "3        Average          2.0       0  \n",
       "4            Low          3.0       0  "
      ]
     },
     "execution_count": 82,
     "metadata": {},
     "output_type": "execute_result"
    }
   ],
   "source": [
    "train.head()"
   ]
  },
  {
   "cell_type": "code",
   "execution_count": 83,
   "id": "584dde81",
   "metadata": {},
   "outputs": [],
   "source": [
    "train['Graduated'] = [1 if m == 'Yes' else 0 for m in train['Graduated']]\n",
    "test['Graduated'] = [1 if m == 'Yes' else 0 for m in test['Graduated']]"
   ]
  },
  {
   "cell_type": "code",
   "execution_count": 84,
   "id": "cf804782",
   "metadata": {},
   "outputs": [
    {
     "data": {
      "text/html": [
       "<div>\n",
       "<style scoped>\n",
       "    .dataframe tbody tr th:only-of-type {\n",
       "        vertical-align: middle;\n",
       "    }\n",
       "\n",
       "    .dataframe tbody tr th {\n",
       "        vertical-align: top;\n",
       "    }\n",
       "\n",
       "    .dataframe thead th {\n",
       "        text-align: right;\n",
       "    }\n",
       "</style>\n",
       "<table border=\"1\" class=\"dataframe\">\n",
       "  <thead>\n",
       "    <tr style=\"text-align: right;\">\n",
       "      <th></th>\n",
       "      <th>Gender</th>\n",
       "      <th>Ever_Married</th>\n",
       "      <th>Age</th>\n",
       "      <th>Graduated</th>\n",
       "      <th>Profession</th>\n",
       "      <th>Work_Experience</th>\n",
       "      <th>Spending_Score</th>\n",
       "      <th>Family_Size</th>\n",
       "      <th>target</th>\n",
       "    </tr>\n",
       "  </thead>\n",
       "  <tbody>\n",
       "    <tr>\n",
       "      <th>0</th>\n",
       "      <td>1</td>\n",
       "      <td>0</td>\n",
       "      <td>22</td>\n",
       "      <td>0</td>\n",
       "      <td>Healthcare</td>\n",
       "      <td>1.0</td>\n",
       "      <td>Low</td>\n",
       "      <td>4.0</td>\n",
       "      <td>1</td>\n",
       "    </tr>\n",
       "    <tr>\n",
       "      <th>1</th>\n",
       "      <td>0</td>\n",
       "      <td>1</td>\n",
       "      <td>67</td>\n",
       "      <td>1</td>\n",
       "      <td>Engineer</td>\n",
       "      <td>1.0</td>\n",
       "      <td>Low</td>\n",
       "      <td>1.0</td>\n",
       "      <td>1</td>\n",
       "    </tr>\n",
       "    <tr>\n",
       "      <th>2</th>\n",
       "      <td>1</td>\n",
       "      <td>1</td>\n",
       "      <td>67</td>\n",
       "      <td>1</td>\n",
       "      <td>Lawyer</td>\n",
       "      <td>0.0</td>\n",
       "      <td>High</td>\n",
       "      <td>2.0</td>\n",
       "      <td>1</td>\n",
       "    </tr>\n",
       "    <tr>\n",
       "      <th>3</th>\n",
       "      <td>1</td>\n",
       "      <td>1</td>\n",
       "      <td>56</td>\n",
       "      <td>0</td>\n",
       "      <td>Artist</td>\n",
       "      <td>0.0</td>\n",
       "      <td>Average</td>\n",
       "      <td>2.0</td>\n",
       "      <td>0</td>\n",
       "    </tr>\n",
       "    <tr>\n",
       "      <th>4</th>\n",
       "      <td>1</td>\n",
       "      <td>0</td>\n",
       "      <td>32</td>\n",
       "      <td>1</td>\n",
       "      <td>Healthcare</td>\n",
       "      <td>1.0</td>\n",
       "      <td>Low</td>\n",
       "      <td>3.0</td>\n",
       "      <td>0</td>\n",
       "    </tr>\n",
       "  </tbody>\n",
       "</table>\n",
       "</div>"
      ],
      "text/plain": [
       "   Gender  Ever_Married  Age  Graduated  Profession  Work_Experience  \\\n",
       "0       1             0   22          0  Healthcare              1.0   \n",
       "1       0             1   67          1    Engineer              1.0   \n",
       "2       1             1   67          1      Lawyer              0.0   \n",
       "3       1             1   56          0      Artist              0.0   \n",
       "4       1             0   32          1  Healthcare              1.0   \n",
       "\n",
       "  Spending_Score  Family_Size  target  \n",
       "0            Low          4.0       1  \n",
       "1            Low          1.0       1  \n",
       "2           High          2.0       1  \n",
       "3        Average          2.0       0  \n",
       "4            Low          3.0       0  "
      ]
     },
     "execution_count": 84,
     "metadata": {},
     "output_type": "execute_result"
    }
   ],
   "source": [
    "train.head()"
   ]
  },
  {
   "cell_type": "code",
   "execution_count": 85,
   "id": "a3206894",
   "metadata": {},
   "outputs": [
    {
     "data": {
      "text/plain": [
       "Spending_Score\n",
       "Average    0.358974\n",
       "High       0.419960\n",
       "Low        0.577811\n",
       "Name: target, dtype: float64"
      ]
     },
     "execution_count": 85,
     "metadata": {},
     "output_type": "execute_result"
    }
   ],
   "source": [
    "train.groupby('Spending_Score').target.mean()"
   ]
  },
  {
   "cell_type": "code",
   "execution_count": 86,
   "id": "cf7743b2",
   "metadata": {},
   "outputs": [],
   "source": [
    "train['Spending_Score'] = train['Spending_Score'].map({'Average' : 1, 'High' : 2, 'Low' : 3})\n",
    "test['Spending_Score'] = test['Spending_Score'].map({'Average' : 1, 'High' : 2, 'Low' : 3})"
   ]
  },
  {
   "cell_type": "code",
   "execution_count": 87,
   "id": "aad2b76c",
   "metadata": {},
   "outputs": [],
   "source": [
    "# train = pd.get_dummies(train)"
   ]
  },
  {
   "cell_type": "code",
   "execution_count": 88,
   "id": "5541fec8",
   "metadata": {},
   "outputs": [
    {
     "data": {
      "text/html": [
       "<div>\n",
       "<style scoped>\n",
       "    .dataframe tbody tr th:only-of-type {\n",
       "        vertical-align: middle;\n",
       "    }\n",
       "\n",
       "    .dataframe tbody tr th {\n",
       "        vertical-align: top;\n",
       "    }\n",
       "\n",
       "    .dataframe thead th {\n",
       "        text-align: right;\n",
       "    }\n",
       "</style>\n",
       "<table border=\"1\" class=\"dataframe\">\n",
       "  <thead>\n",
       "    <tr style=\"text-align: right;\">\n",
       "      <th></th>\n",
       "      <th>Gender</th>\n",
       "      <th>Ever_Married</th>\n",
       "      <th>Age</th>\n",
       "      <th>Graduated</th>\n",
       "      <th>Profession</th>\n",
       "      <th>Work_Experience</th>\n",
       "      <th>Spending_Score</th>\n",
       "      <th>Family_Size</th>\n",
       "      <th>target</th>\n",
       "    </tr>\n",
       "  </thead>\n",
       "  <tbody>\n",
       "    <tr>\n",
       "      <th>0</th>\n",
       "      <td>1</td>\n",
       "      <td>0</td>\n",
       "      <td>22</td>\n",
       "      <td>0</td>\n",
       "      <td>Healthcare</td>\n",
       "      <td>1.0</td>\n",
       "      <td>3</td>\n",
       "      <td>4.0</td>\n",
       "      <td>1</td>\n",
       "    </tr>\n",
       "    <tr>\n",
       "      <th>1</th>\n",
       "      <td>0</td>\n",
       "      <td>1</td>\n",
       "      <td>67</td>\n",
       "      <td>1</td>\n",
       "      <td>Engineer</td>\n",
       "      <td>1.0</td>\n",
       "      <td>3</td>\n",
       "      <td>1.0</td>\n",
       "      <td>1</td>\n",
       "    </tr>\n",
       "    <tr>\n",
       "      <th>2</th>\n",
       "      <td>1</td>\n",
       "      <td>1</td>\n",
       "      <td>67</td>\n",
       "      <td>1</td>\n",
       "      <td>Lawyer</td>\n",
       "      <td>0.0</td>\n",
       "      <td>2</td>\n",
       "      <td>2.0</td>\n",
       "      <td>1</td>\n",
       "    </tr>\n",
       "    <tr>\n",
       "      <th>3</th>\n",
       "      <td>1</td>\n",
       "      <td>1</td>\n",
       "      <td>56</td>\n",
       "      <td>0</td>\n",
       "      <td>Artist</td>\n",
       "      <td>0.0</td>\n",
       "      <td>1</td>\n",
       "      <td>2.0</td>\n",
       "      <td>0</td>\n",
       "    </tr>\n",
       "    <tr>\n",
       "      <th>4</th>\n",
       "      <td>1</td>\n",
       "      <td>0</td>\n",
       "      <td>32</td>\n",
       "      <td>1</td>\n",
       "      <td>Healthcare</td>\n",
       "      <td>1.0</td>\n",
       "      <td>3</td>\n",
       "      <td>3.0</td>\n",
       "      <td>0</td>\n",
       "    </tr>\n",
       "  </tbody>\n",
       "</table>\n",
       "</div>"
      ],
      "text/plain": [
       "   Gender  Ever_Married  Age  Graduated  Profession  Work_Experience  \\\n",
       "0       1             0   22          0  Healthcare              1.0   \n",
       "1       0             1   67          1    Engineer              1.0   \n",
       "2       1             1   67          1      Lawyer              0.0   \n",
       "3       1             1   56          0      Artist              0.0   \n",
       "4       1             0   32          1  Healthcare              1.0   \n",
       "\n",
       "   Spending_Score  Family_Size  target  \n",
       "0               3          4.0       1  \n",
       "1               3          1.0       1  \n",
       "2               2          2.0       1  \n",
       "3               1          2.0       0  \n",
       "4               3          3.0       0  "
      ]
     },
     "execution_count": 88,
     "metadata": {},
     "output_type": "execute_result"
    }
   ],
   "source": [
    "train.head()"
   ]
  },
  {
   "cell_type": "code",
   "execution_count": 91,
   "id": "63e64dd0",
   "metadata": {
    "scrolled": true
   },
   "outputs": [
    {
     "data": {
      "text/plain": [
       "Profession\n",
       "Artist           0.353234\n",
       "Lawyer           0.437376\n",
       "Entertainment    0.450307\n",
       "Executive        0.481336\n",
       "Doctor           0.506734\n",
       "Engineer         0.510239\n",
       "Homemaker        0.617978\n",
       "Marketing        0.678112\n",
       "Healthcare       0.802571\n",
       "Name: target, dtype: float64"
      ]
     },
     "execution_count": 91,
     "metadata": {},
     "output_type": "execute_result"
    }
   ],
   "source": [
    "train.groupby('Profession').target.mean().sort_values()"
   ]
  },
  {
   "cell_type": "markdown",
   "id": "a446811e",
   "metadata": {},
   "source": [
    "각 profession별로 target이 1일 확률의 평균을 구한다."
   ]
  },
  {
   "cell_type": "code",
   "execution_count": 92,
   "id": "0af0a983",
   "metadata": {},
   "outputs": [],
   "source": [
    "pro_rank = train.groupby('Profession').target.mean().sort_values().reset_index(name = 'rank')"
   ]
  },
  {
   "cell_type": "code",
   "execution_count": 93,
   "id": "3c056ce6",
   "metadata": {
    "scrolled": true
   },
   "outputs": [
    {
     "data": {
      "text/html": [
       "<div>\n",
       "<style scoped>\n",
       "    .dataframe tbody tr th:only-of-type {\n",
       "        vertical-align: middle;\n",
       "    }\n",
       "\n",
       "    .dataframe tbody tr th {\n",
       "        vertical-align: top;\n",
       "    }\n",
       "\n",
       "    .dataframe thead th {\n",
       "        text-align: right;\n",
       "    }\n",
       "</style>\n",
       "<table border=\"1\" class=\"dataframe\">\n",
       "  <thead>\n",
       "    <tr style=\"text-align: right;\">\n",
       "      <th></th>\n",
       "      <th>Profession</th>\n",
       "      <th>rank</th>\n",
       "    </tr>\n",
       "  </thead>\n",
       "  <tbody>\n",
       "    <tr>\n",
       "      <th>0</th>\n",
       "      <td>Artist</td>\n",
       "      <td>0.353234</td>\n",
       "    </tr>\n",
       "    <tr>\n",
       "      <th>1</th>\n",
       "      <td>Lawyer</td>\n",
       "      <td>0.437376</td>\n",
       "    </tr>\n",
       "    <tr>\n",
       "      <th>2</th>\n",
       "      <td>Entertainment</td>\n",
       "      <td>0.450307</td>\n",
       "    </tr>\n",
       "    <tr>\n",
       "      <th>3</th>\n",
       "      <td>Executive</td>\n",
       "      <td>0.481336</td>\n",
       "    </tr>\n",
       "    <tr>\n",
       "      <th>4</th>\n",
       "      <td>Doctor</td>\n",
       "      <td>0.506734</td>\n",
       "    </tr>\n",
       "    <tr>\n",
       "      <th>5</th>\n",
       "      <td>Engineer</td>\n",
       "      <td>0.510239</td>\n",
       "    </tr>\n",
       "    <tr>\n",
       "      <th>6</th>\n",
       "      <td>Homemaker</td>\n",
       "      <td>0.617978</td>\n",
       "    </tr>\n",
       "    <tr>\n",
       "      <th>7</th>\n",
       "      <td>Marketing</td>\n",
       "      <td>0.678112</td>\n",
       "    </tr>\n",
       "    <tr>\n",
       "      <th>8</th>\n",
       "      <td>Healthcare</td>\n",
       "      <td>0.802571</td>\n",
       "    </tr>\n",
       "  </tbody>\n",
       "</table>\n",
       "</div>"
      ],
      "text/plain": [
       "      Profession      rank\n",
       "0         Artist  0.353234\n",
       "1         Lawyer  0.437376\n",
       "2  Entertainment  0.450307\n",
       "3      Executive  0.481336\n",
       "4         Doctor  0.506734\n",
       "5       Engineer  0.510239\n",
       "6      Homemaker  0.617978\n",
       "7      Marketing  0.678112\n",
       "8     Healthcare  0.802571"
      ]
     },
     "execution_count": 93,
     "metadata": {},
     "output_type": "execute_result"
    }
   ],
   "source": [
    "pro_rank"
   ]
  },
  {
   "cell_type": "code",
   "execution_count": 94,
   "id": "2aba1dce",
   "metadata": {},
   "outputs": [],
   "source": [
    "pro_rank['rank'] = range(1, pro_rank.shape[0] + 1)"
   ]
  },
  {
   "cell_type": "markdown",
   "id": "d8b05718",
   "metadata": {},
   "source": [
    "각 확률을 sort하여 높은 확률에 큰 숫자를 부여하는 rank를 만든다."
   ]
  },
  {
   "cell_type": "code",
   "execution_count": 95,
   "id": "f60ae4c6",
   "metadata": {},
   "outputs": [
    {
     "data": {
      "text/html": [
       "<div>\n",
       "<style scoped>\n",
       "    .dataframe tbody tr th:only-of-type {\n",
       "        vertical-align: middle;\n",
       "    }\n",
       "\n",
       "    .dataframe tbody tr th {\n",
       "        vertical-align: top;\n",
       "    }\n",
       "\n",
       "    .dataframe thead th {\n",
       "        text-align: right;\n",
       "    }\n",
       "</style>\n",
       "<table border=\"1\" class=\"dataframe\">\n",
       "  <thead>\n",
       "    <tr style=\"text-align: right;\">\n",
       "      <th></th>\n",
       "      <th>Profession</th>\n",
       "      <th>rank</th>\n",
       "    </tr>\n",
       "  </thead>\n",
       "  <tbody>\n",
       "    <tr>\n",
       "      <th>0</th>\n",
       "      <td>Artist</td>\n",
       "      <td>1</td>\n",
       "    </tr>\n",
       "    <tr>\n",
       "      <th>1</th>\n",
       "      <td>Lawyer</td>\n",
       "      <td>2</td>\n",
       "    </tr>\n",
       "    <tr>\n",
       "      <th>2</th>\n",
       "      <td>Entertainment</td>\n",
       "      <td>3</td>\n",
       "    </tr>\n",
       "    <tr>\n",
       "      <th>3</th>\n",
       "      <td>Executive</td>\n",
       "      <td>4</td>\n",
       "    </tr>\n",
       "    <tr>\n",
       "      <th>4</th>\n",
       "      <td>Doctor</td>\n",
       "      <td>5</td>\n",
       "    </tr>\n",
       "    <tr>\n",
       "      <th>5</th>\n",
       "      <td>Engineer</td>\n",
       "      <td>6</td>\n",
       "    </tr>\n",
       "    <tr>\n",
       "      <th>6</th>\n",
       "      <td>Homemaker</td>\n",
       "      <td>7</td>\n",
       "    </tr>\n",
       "    <tr>\n",
       "      <th>7</th>\n",
       "      <td>Marketing</td>\n",
       "      <td>8</td>\n",
       "    </tr>\n",
       "    <tr>\n",
       "      <th>8</th>\n",
       "      <td>Healthcare</td>\n",
       "      <td>9</td>\n",
       "    </tr>\n",
       "  </tbody>\n",
       "</table>\n",
       "</div>"
      ],
      "text/plain": [
       "      Profession  rank\n",
       "0         Artist     1\n",
       "1         Lawyer     2\n",
       "2  Entertainment     3\n",
       "3      Executive     4\n",
       "4         Doctor     5\n",
       "5       Engineer     6\n",
       "6      Homemaker     7\n",
       "7      Marketing     8\n",
       "8     Healthcare     9"
      ]
     },
     "execution_count": 95,
     "metadata": {},
     "output_type": "execute_result"
    }
   ],
   "source": [
    "pro_rank"
   ]
  },
  {
   "cell_type": "code",
   "execution_count": 97,
   "id": "1935b8d4",
   "metadata": {},
   "outputs": [],
   "source": [
    "train = pd.merge(train, pro_rank, how = 'left')\n",
    "test = pd.merge(test, pro_rank, how = 'left')"
   ]
  },
  {
   "cell_type": "markdown",
   "id": "774bdec4",
   "metadata": {},
   "source": [
    "train, test 데이터에 rank를 추출한 데이터를 병합한다."
   ]
  },
  {
   "cell_type": "code",
   "execution_count": 100,
   "id": "75de6b67",
   "metadata": {},
   "outputs": [],
   "source": [
    "train.drop('Profession', axis = 1, inplace = True)\n",
    "test.drop('Profession', axis = 1, inplace = True)"
   ]
  },
  {
   "cell_type": "markdown",
   "id": "05fba3e5",
   "metadata": {},
   "source": [
    "랭크 생성으로 사용한 Profession 컬럼을 삭제한다."
   ]
  },
  {
   "cell_type": "code",
   "execution_count": 101,
   "id": "5a99b0b6",
   "metadata": {},
   "outputs": [
    {
     "data": {
      "text/html": [
       "<div>\n",
       "<style scoped>\n",
       "    .dataframe tbody tr th:only-of-type {\n",
       "        vertical-align: middle;\n",
       "    }\n",
       "\n",
       "    .dataframe tbody tr th {\n",
       "        vertical-align: top;\n",
       "    }\n",
       "\n",
       "    .dataframe thead th {\n",
       "        text-align: right;\n",
       "    }\n",
       "</style>\n",
       "<table border=\"1\" class=\"dataframe\">\n",
       "  <thead>\n",
       "    <tr style=\"text-align: right;\">\n",
       "      <th></th>\n",
       "      <th>Gender</th>\n",
       "      <th>Ever_Married</th>\n",
       "      <th>Age</th>\n",
       "      <th>Graduated</th>\n",
       "      <th>Work_Experience</th>\n",
       "      <th>Spending_Score</th>\n",
       "      <th>Family_Size</th>\n",
       "      <th>target</th>\n",
       "      <th>rank</th>\n",
       "    </tr>\n",
       "  </thead>\n",
       "  <tbody>\n",
       "    <tr>\n",
       "      <th>0</th>\n",
       "      <td>1</td>\n",
       "      <td>0</td>\n",
       "      <td>22</td>\n",
       "      <td>0</td>\n",
       "      <td>1.0</td>\n",
       "      <td>3</td>\n",
       "      <td>4.0</td>\n",
       "      <td>1</td>\n",
       "      <td>9</td>\n",
       "    </tr>\n",
       "    <tr>\n",
       "      <th>1</th>\n",
       "      <td>0</td>\n",
       "      <td>1</td>\n",
       "      <td>67</td>\n",
       "      <td>1</td>\n",
       "      <td>1.0</td>\n",
       "      <td>3</td>\n",
       "      <td>1.0</td>\n",
       "      <td>1</td>\n",
       "      <td>6</td>\n",
       "    </tr>\n",
       "    <tr>\n",
       "      <th>2</th>\n",
       "      <td>1</td>\n",
       "      <td>1</td>\n",
       "      <td>67</td>\n",
       "      <td>1</td>\n",
       "      <td>0.0</td>\n",
       "      <td>2</td>\n",
       "      <td>2.0</td>\n",
       "      <td>1</td>\n",
       "      <td>2</td>\n",
       "    </tr>\n",
       "    <tr>\n",
       "      <th>3</th>\n",
       "      <td>1</td>\n",
       "      <td>1</td>\n",
       "      <td>56</td>\n",
       "      <td>0</td>\n",
       "      <td>0.0</td>\n",
       "      <td>1</td>\n",
       "      <td>2.0</td>\n",
       "      <td>0</td>\n",
       "      <td>1</td>\n",
       "    </tr>\n",
       "    <tr>\n",
       "      <th>4</th>\n",
       "      <td>1</td>\n",
       "      <td>0</td>\n",
       "      <td>32</td>\n",
       "      <td>1</td>\n",
       "      <td>1.0</td>\n",
       "      <td>3</td>\n",
       "      <td>3.0</td>\n",
       "      <td>0</td>\n",
       "      <td>9</td>\n",
       "    </tr>\n",
       "  </tbody>\n",
       "</table>\n",
       "</div>"
      ],
      "text/plain": [
       "   Gender  Ever_Married  Age  Graduated  Work_Experience  Spending_Score  \\\n",
       "0       1             0   22          0              1.0               3   \n",
       "1       0             1   67          1              1.0               3   \n",
       "2       1             1   67          1              0.0               2   \n",
       "3       1             1   56          0              0.0               1   \n",
       "4       1             0   32          1              1.0               3   \n",
       "\n",
       "   Family_Size  target  rank  \n",
       "0          4.0       1     9  \n",
       "1          1.0       1     6  \n",
       "2          2.0       1     2  \n",
       "3          2.0       0     1  \n",
       "4          3.0       0     9  "
      ]
     },
     "execution_count": 101,
     "metadata": {},
     "output_type": "execute_result"
    }
   ],
   "source": [
    "train.head()"
   ]
  },
  {
   "cell_type": "code",
   "execution_count": 102,
   "id": "4e642a7f",
   "metadata": {},
   "outputs": [],
   "source": [
    "X = train.drop('target', axis = 1)\n",
    "y = train.target\n",
    "\n",
    "target = test[X.columns]"
   ]
  },
  {
   "cell_type": "code",
   "execution_count": 109,
   "id": "174aa455",
   "metadata": {},
   "outputs": [],
   "source": [
    "from xgboost import XGBClassifier\n",
    "from lightgbm import LGBMClassifier\n",
    "from sklearn.model_selection import StratifiedKFold\n",
    "from sklearn.metrics import accuracy_score"
   ]
  },
  {
   "cell_type": "markdown",
   "id": "75f76d5a",
   "metadata": {},
   "source": [
    "### 1. 전체 데이터 fitting"
   ]
  },
  {
   "cell_type": "code",
   "execution_count": 110,
   "id": "794fa050",
   "metadata": {},
   "outputs": [],
   "source": [
    "xgb = XGBClassifier(random_state = 42)"
   ]
  },
  {
   "cell_type": "code",
   "execution_count": 111,
   "id": "b08a83a0",
   "metadata": {},
   "outputs": [
    {
     "name": "stderr",
     "output_type": "stream",
     "text": [
      "/opt/anaconda3/lib/python3.8/site-packages/xgboost/sklearn.py:1146: UserWarning: The use of label encoder in XGBClassifier is deprecated and will be removed in a future release. To remove this warning, do the following: 1) Pass option use_label_encoder=False when constructing XGBClassifier object; and 2) Encode your labels (y) as integers starting with 0, i.e. 0, 1, 2, ..., [num_class - 1].\n",
      "  warnings.warn(label_encoder_deprecation_msg, UserWarning)\n"
     ]
    },
    {
     "name": "stdout",
     "output_type": "stream",
     "text": [
      "[21:31:47] WARNING: /Users/travis/build/dmlc/xgboost/src/learner.cc:1095: Starting in XGBoost 1.3.0, the default evaluation metric used with the objective 'binary:logistic' was changed from 'error' to 'logloss'. Explicitly set eval_metric if you'd like to restore the old behavior.\n"
     ]
    },
    {
     "data": {
      "text/plain": [
       "XGBClassifier(base_score=0.5, booster='gbtree', colsample_bylevel=1,\n",
       "              colsample_bynode=1, colsample_bytree=1, gamma=0, gpu_id=-1,\n",
       "              importance_type='gain', interaction_constraints='',\n",
       "              learning_rate=0.300000012, max_delta_step=0, max_depth=6,\n",
       "              min_child_weight=1, missing=nan, monotone_constraints='()',\n",
       "              n_estimators=100, n_jobs=8, num_parallel_tree=1, random_state=42,\n",
       "              reg_alpha=0, reg_lambda=1, scale_pos_weight=1, subsample=1,\n",
       "              tree_method='exact', validate_parameters=1, verbosity=None)"
      ]
     },
     "execution_count": 111,
     "metadata": {},
     "output_type": "execute_result"
    }
   ],
   "source": [
    "xgb.fit(X, y)"
   ]
  },
  {
   "cell_type": "code",
   "execution_count": 112,
   "id": "4fa1e95b",
   "metadata": {},
   "outputs": [],
   "source": [
    "pred = xgb.predict(target)"
   ]
  },
  {
   "cell_type": "code",
   "execution_count": 113,
   "id": "262ddbc9",
   "metadata": {},
   "outputs": [
    {
     "data": {
      "text/plain": [
       "array([1, 0, 0, ..., 0, 0, 1])"
      ]
     },
     "execution_count": 113,
     "metadata": {},
     "output_type": "execute_result"
    }
   ],
   "source": [
    "pred"
   ]
  },
  {
   "cell_type": "markdown",
   "id": "aedc7f08",
   "metadata": {},
   "source": [
    "### 2. Ensemble 방식 -> 학습 및 검증 + 예측을 동시에 수행\n",
    "\n",
    "- KFold -> k-1개 FOLD로 학습하고 1개FOLD로 검증 -> 모델이 1개 생성\n",
    "- 10FOLD -> 10개 모델생성(각각 다른 모델)\n",
    "- 각기 다르게 생성된 모델로 최종 예측데이터의 예측값을 도출\n",
    "- 10개 생성값을 산술평균, 기하평균 등등 -> 최종 submission 형태 제작"
   ]
  },
  {
   "cell_type": "code",
   "execution_count": 117,
   "id": "7e7fd473",
   "metadata": {},
   "outputs": [],
   "source": [
    "skf = StratifiedKFold(n_splits = 10, random_state = 42, shuffle = True)"
   ]
  },
  {
   "cell_type": "code",
   "execution_count": 118,
   "id": "b418b51b",
   "metadata": {},
   "outputs": [
    {
     "name": "stderr",
     "output_type": "stream",
     "text": [
      "/opt/anaconda3/lib/python3.8/site-packages/xgboost/sklearn.py:1146: UserWarning: The use of label encoder in XGBClassifier is deprecated and will be removed in a future release. To remove this warning, do the following: 1) Pass option use_label_encoder=False when constructing XGBClassifier object; and 2) Encode your labels (y) as integers starting with 0, i.e. 0, 1, 2, ..., [num_class - 1].\n",
      "  warnings.warn(label_encoder_deprecation_msg, UserWarning)\n"
     ]
    },
    {
     "name": "stdout",
     "output_type": "stream",
     "text": [
      "[21:36:36] WARNING: /Users/travis/build/dmlc/xgboost/src/learner.cc:1095: Starting in XGBoost 1.3.0, the default evaluation metric used with the objective 'binary:logistic' was changed from 'error' to 'logloss'. Explicitly set eval_metric if you'd like to restore the old behavior.\n",
      "0.6339285714285714\n",
      "[21:36:36] WARNING: /Users/travis/build/dmlc/xgboost/src/learner.cc:1095: Starting in XGBoost 1.3.0, the default evaluation metric used with the objective 'binary:logistic' was changed from 'error' to 'logloss'. Explicitly set eval_metric if you'd like to restore the old behavior.\n",
      "0.6145833333333334\n",
      "[21:36:37] WARNING: /Users/travis/build/dmlc/xgboost/src/learner.cc:1095: Starting in XGBoost 1.3.0, the default evaluation metric used with the objective 'binary:logistic' was changed from 'error' to 'logloss'. Explicitly set eval_metric if you'd like to restore the old behavior.\n",
      "0.5967261904761905\n",
      "[21:36:37] WARNING: /Users/travis/build/dmlc/xgboost/src/learner.cc:1095: Starting in XGBoost 1.3.0, the default evaluation metric used with the objective 'binary:logistic' was changed from 'error' to 'logloss'. Explicitly set eval_metric if you'd like to restore the old behavior.\n",
      "0.6235119047619048\n",
      "[21:36:37] WARNING: /Users/travis/build/dmlc/xgboost/src/learner.cc:1095: Starting in XGBoost 1.3.0, the default evaluation metric used with the objective 'binary:logistic' was changed from 'error' to 'logloss'. Explicitly set eval_metric if you'd like to restore the old behavior.\n",
      "0.5863095238095238\n",
      "[21:36:37] WARNING: /Users/travis/build/dmlc/xgboost/src/learner.cc:1095: Starting in XGBoost 1.3.0, the default evaluation metric used with the objective 'binary:logistic' was changed from 'error' to 'logloss'. Explicitly set eval_metric if you'd like to restore the old behavior.\n",
      "0.6339285714285714\n",
      "[21:36:38] WARNING: /Users/travis/build/dmlc/xgboost/src/learner.cc:1095: Starting in XGBoost 1.3.0, the default evaluation metric used with the objective 'binary:logistic' was changed from 'error' to 'logloss'. Explicitly set eval_metric if you'd like to restore the old behavior.\n",
      "0.6294642857142857\n",
      "[21:36:38] WARNING: /Users/travis/build/dmlc/xgboost/src/learner.cc:1095: Starting in XGBoost 1.3.0, the default evaluation metric used with the objective 'binary:logistic' was changed from 'error' to 'logloss'. Explicitly set eval_metric if you'd like to restore the old behavior.\n",
      "0.6116071428571429\n",
      "[21:36:38] WARNING: /Users/travis/build/dmlc/xgboost/src/learner.cc:1095: Starting in XGBoost 1.3.0, the default evaluation metric used with the objective 'binary:logistic' was changed from 'error' to 'logloss'. Explicitly set eval_metric if you'd like to restore the old behavior.\n",
      "0.624441132637854\n",
      "[21:36:38] WARNING: /Users/travis/build/dmlc/xgboost/src/learner.cc:1095: Starting in XGBoost 1.3.0, the default evaluation metric used with the objective 'binary:logistic' was changed from 'error' to 'logloss'. Explicitly set eval_metric if you'd like to restore the old behavior.\n",
      "0.5707898658718331\n"
     ]
    }
   ],
   "source": [
    "xgb_pred = np.zeros((target.shape[0]))\n",
    "for tr_idx, val_idx in skf.split(X, y) :\n",
    "    tr_x, tr_y = X.iloc[tr_idx], y.iloc[tr_idx]\n",
    "    val_x, val_y = X.iloc[val_idx], y.iloc[val_idx]\n",
    "    \n",
    "    xgb = XGBClassifier(random_state = 42)\n",
    "    xgb.fit(tr_x, tr_y)\n",
    "    val_pred = xgb.predict_proba(val_x)[:, 1]\n",
    "    val_pred = [1 if p >= 0.5 else 0 for p in val_pred]\n",
    "    val_acc = accuracy_score(val_y, val_pred)\n",
    "    print(val_acc)\n",
    "    \n",
    "    fold_pred = xgb.predict_proba(target)[:, 1] / 10\n",
    "    xgb_pred += fold_pred"
   ]
  },
  {
   "cell_type": "code",
   "execution_count": 119,
   "id": "41a6a0e8",
   "metadata": {},
   "outputs": [
    {
     "data": {
      "text/plain": [
       "array([0.57950364, 0.32129632, 0.05599676, ..., 0.42231752, 0.36012891,\n",
       "       0.68146688])"
      ]
     },
     "execution_count": 119,
     "metadata": {},
     "output_type": "execute_result"
    }
   ],
   "source": [
    "xgb_pred"
   ]
  },
  {
   "cell_type": "code",
   "execution_count": 120,
   "id": "a0a249a7",
   "metadata": {},
   "outputs": [
    {
     "name": "stdout",
     "output_type": "stream",
     "text": [
      "0.6279761904761905\n",
      "0.6130952380952381\n",
      "0.6026785714285714\n",
      "0.6547619047619048\n",
      "0.59375\n",
      "0.6309523809523809\n",
      "0.6502976190476191\n",
      "0.6130952380952381\n",
      "0.669150521609538\n",
      "0.6110283159463488\n"
     ]
    }
   ],
   "source": [
    "lgbm_pred = np.zeros((target.shape[0]))\n",
    "for tr_idx, val_idx in skf.split(X, y) :\n",
    "    tr_x, tr_y = X.iloc[tr_idx], y.iloc[tr_idx]\n",
    "    val_x, val_y = X.iloc[val_idx], y.iloc[val_idx]\n",
    "    \n",
    "    lgbm = LGBMClassifier(random_state = 42)\n",
    "    lgbm.fit(tr_x, tr_y)\n",
    "    val_pred = lgbm.predict_proba(val_x)[:, 1]\n",
    "    val_pred = [1 if p >= 0.5 else 0 for p in val_pred]\n",
    "    val_acc = accuracy_score(val_y, val_pred)\n",
    "    print(val_acc)\n",
    "    \n",
    "    fold_pred = lgbm.predict_proba(target)[:, 1] / 10\n",
    "    lgbm_pred += fold_pred"
   ]
  },
  {
   "cell_type": "code",
   "execution_count": 165,
   "id": "67f6c921",
   "metadata": {},
   "outputs": [],
   "source": [
    "submission = pd.read_csv('cus_seg_result.csv')"
   ]
  },
  {
   "cell_type": "code",
   "execution_count": 166,
   "id": "e631b36d",
   "metadata": {},
   "outputs": [],
   "source": [
    "submission.target = (xgb_pred + lgbm_pred) / 2"
   ]
  },
  {
   "cell_type": "code",
   "execution_count": 167,
   "id": "7f16d363",
   "metadata": {
    "scrolled": true
   },
   "outputs": [
    {
     "data": {
      "text/html": [
       "<div>\n",
       "<style scoped>\n",
       "    .dataframe tbody tr th:only-of-type {\n",
       "        vertical-align: middle;\n",
       "    }\n",
       "\n",
       "    .dataframe tbody tr th {\n",
       "        vertical-align: top;\n",
       "    }\n",
       "\n",
       "    .dataframe thead th {\n",
       "        text-align: right;\n",
       "    }\n",
       "</style>\n",
       "<table border=\"1\" class=\"dataframe\">\n",
       "  <thead>\n",
       "    <tr style=\"text-align: right;\">\n",
       "      <th></th>\n",
       "      <th>ID</th>\n",
       "      <th>target</th>\n",
       "    </tr>\n",
       "  </thead>\n",
       "  <tbody>\n",
       "    <tr>\n",
       "      <th>0</th>\n",
       "      <td>458989.0</td>\n",
       "      <td>0.560092</td>\n",
       "    </tr>\n",
       "    <tr>\n",
       "      <th>1</th>\n",
       "      <td>458994.0</td>\n",
       "      <td>0.382250</td>\n",
       "    </tr>\n",
       "    <tr>\n",
       "      <th>2</th>\n",
       "      <td>459000.0</td>\n",
       "      <td>0.173257</td>\n",
       "    </tr>\n",
       "    <tr>\n",
       "      <th>3</th>\n",
       "      <td>459003.0</td>\n",
       "      <td>0.305460</td>\n",
       "    </tr>\n",
       "    <tr>\n",
       "      <th>4</th>\n",
       "      <td>459005.0</td>\n",
       "      <td>0.638615</td>\n",
       "    </tr>\n",
       "  </tbody>\n",
       "</table>\n",
       "</div>"
      ],
      "text/plain": [
       "         ID    target\n",
       "0  458989.0  0.560092\n",
       "1  458994.0  0.382250\n",
       "2  459000.0  0.173257\n",
       "3  459003.0  0.305460\n",
       "4  459005.0  0.638615"
      ]
     },
     "execution_count": 167,
     "metadata": {},
     "output_type": "execute_result"
    }
   ],
   "source": [
    "submission.head()"
   ]
  },
  {
   "cell_type": "code",
   "execution_count": 168,
   "id": "7b99bfe6",
   "metadata": {},
   "outputs": [],
   "source": [
    "submission.target = [1 if p >= 0.5 else 0 for p in submission['target']]"
   ]
  },
  {
   "cell_type": "markdown",
   "id": "b30f55b6",
   "metadata": {},
   "source": [
    "문제에서 0 혹은 1로 저장하라고 명시됐기 때문에 list comprehension으로 0 혹은 1 값으로 변환한다."
   ]
  },
  {
   "cell_type": "code",
   "execution_count": 169,
   "id": "c0f31a60",
   "metadata": {
    "scrolled": true
   },
   "outputs": [
    {
     "data": {
      "text/html": [
       "<div>\n",
       "<style scoped>\n",
       "    .dataframe tbody tr th:only-of-type {\n",
       "        vertical-align: middle;\n",
       "    }\n",
       "\n",
       "    .dataframe tbody tr th {\n",
       "        vertical-align: top;\n",
       "    }\n",
       "\n",
       "    .dataframe thead th {\n",
       "        text-align: right;\n",
       "    }\n",
       "</style>\n",
       "<table border=\"1\" class=\"dataframe\">\n",
       "  <thead>\n",
       "    <tr style=\"text-align: right;\">\n",
       "      <th></th>\n",
       "      <th>ID</th>\n",
       "      <th>target</th>\n",
       "    </tr>\n",
       "  </thead>\n",
       "  <tbody>\n",
       "    <tr>\n",
       "      <th>0</th>\n",
       "      <td>458989.0</td>\n",
       "      <td>1</td>\n",
       "    </tr>\n",
       "    <tr>\n",
       "      <th>1</th>\n",
       "      <td>458994.0</td>\n",
       "      <td>0</td>\n",
       "    </tr>\n",
       "    <tr>\n",
       "      <th>2</th>\n",
       "      <td>459000.0</td>\n",
       "      <td>0</td>\n",
       "    </tr>\n",
       "    <tr>\n",
       "      <th>3</th>\n",
       "      <td>459003.0</td>\n",
       "      <td>0</td>\n",
       "    </tr>\n",
       "    <tr>\n",
       "      <th>4</th>\n",
       "      <td>459005.0</td>\n",
       "      <td>1</td>\n",
       "    </tr>\n",
       "  </tbody>\n",
       "</table>\n",
       "</div>"
      ],
      "text/plain": [
       "         ID  target\n",
       "0  458989.0       1\n",
       "1  458994.0       0\n",
       "2  459000.0       0\n",
       "3  459003.0       0\n",
       "4  459005.0       1"
      ]
     },
     "execution_count": 169,
     "metadata": {},
     "output_type": "execute_result"
    }
   ],
   "source": [
    "submission.head()"
   ]
  },
  {
   "cell_type": "code",
   "execution_count": 138,
   "id": "1feda1ac",
   "metadata": {},
   "outputs": [],
   "source": [
    "#submission.to_csv('result.csv', index = False)"
   ]
  },
  {
   "cell_type": "markdown",
   "id": "628e2101",
   "metadata": {},
   "source": [
    "***\n",
    "\n",
    "## 2번 문제 사용 데이터\n",
    "- Training Data / Test Data / Sample Prediction Dataset\n",
    "\n",
    "## 2-1. Married/Single 여부에 따른 CURRENT_HOUSE_YRS 평균값 차이의 절댓값을 출력하시오.\n",
    "- Married or Single 필터링 가능 여부 + 특정 컬럼에 대한 통계함수 적용 가능 여부 + 최종 요구 값으로 변환 가능 여부"
   ]
  },
  {
   "cell_type": "code",
   "execution_count": 183,
   "id": "7c712e1b",
   "metadata": {},
   "outputs": [],
   "source": [
    "train = pd.read_csv('Training Data.csv')\n",
    "test = pd.read_csv('Test Data.csv')"
   ]
  },
  {
   "cell_type": "markdown",
   "id": "3bcc1403",
   "metadata": {},
   "source": [
    "### 방법1 - 수작업"
   ]
  },
  {
   "cell_type": "code",
   "execution_count": 143,
   "id": "e448a96b",
   "metadata": {},
   "outputs": [],
   "source": [
    "m1 = train[train['Married/Single'] == 'single'].CURRENT_HOUSE_YRS.mean()\n",
    "m2 = train[train['Married/Single'] == 'married'].CURRENT_HOUSE_YRS.mean()"
   ]
  },
  {
   "cell_type": "code",
   "execution_count": 145,
   "id": "dfbe171e",
   "metadata": {},
   "outputs": [
    {
     "data": {
      "text/plain": [
       "(11.994237024466129, 12.029073383084578)"
      ]
     },
     "execution_count": 145,
     "metadata": {},
     "output_type": "execute_result"
    }
   ],
   "source": [
    "m1, m2"
   ]
  },
  {
   "cell_type": "code",
   "execution_count": 146,
   "id": "8bedea17",
   "metadata": {},
   "outputs": [
    {
     "data": {
      "text/plain": [
       "0.034836358618449026"
      ]
     },
     "execution_count": 146,
     "metadata": {},
     "output_type": "execute_result"
    }
   ],
   "source": [
    "m2 - m1"
   ]
  },
  {
   "cell_type": "code",
   "execution_count": 147,
   "id": "0ddfa98a",
   "metadata": {
    "scrolled": true
   },
   "outputs": [
    {
     "data": {
      "text/plain": [
       "0.034836358618449026"
      ]
     },
     "execution_count": 147,
     "metadata": {},
     "output_type": "execute_result"
    }
   ],
   "source": [
    "abs(m1 - m2)"
   ]
  },
  {
   "cell_type": "markdown",
   "id": "9b0943c8",
   "metadata": {},
   "source": [
    "### 방법2 - 잔꾀"
   ]
  },
  {
   "cell_type": "code",
   "execution_count": 149,
   "id": "8765cf85",
   "metadata": {},
   "outputs": [],
   "source": [
    "df = train.groupby('Married/Single').CURRENT_HOUSE_YRS.mean()"
   ]
  },
  {
   "cell_type": "code",
   "execution_count": 150,
   "id": "1a214bcc",
   "metadata": {},
   "outputs": [
    {
     "data": {
      "text/plain": [
       "Married/Single\n",
       "married    12.029073\n",
       "single     11.994237\n",
       "Name: CURRENT_HOUSE_YRS, dtype: float64"
      ]
     },
     "execution_count": 150,
     "metadata": {},
     "output_type": "execute_result"
    }
   ],
   "source": [
    "df"
   ]
  },
  {
   "cell_type": "code",
   "execution_count": 151,
   "id": "43bf9fdf",
   "metadata": {
    "scrolled": true
   },
   "outputs": [
    {
     "data": {
      "text/plain": [
       "0.034836358618449026"
      ]
     },
     "execution_count": 151,
     "metadata": {},
     "output_type": "execute_result"
    }
   ],
   "source": [
    "m = df[0] # married\n",
    "s = df[1] # single"
   ]
  },
  {
   "cell_type": "code",
   "execution_count": 153,
   "id": "d4695b74",
   "metadata": {},
   "outputs": [
    {
     "data": {
      "text/plain": [
       "(11.994237024466129, 12.029073383084578)"
      ]
     },
     "execution_count": 153,
     "metadata": {},
     "output_type": "execute_result"
    }
   ],
   "source": [
    "s, m"
   ]
  },
  {
   "cell_type": "code",
   "execution_count": 154,
   "id": "3dedca71",
   "metadata": {},
   "outputs": [
    {
     "data": {
      "text/plain": [
       "0.034836358618449026"
      ]
     },
     "execution_count": 154,
     "metadata": {},
     "output_type": "execute_result"
    }
   ],
   "source": [
    "m - s"
   ]
  },
  {
   "cell_type": "code",
   "execution_count": 155,
   "id": "b8478b26",
   "metadata": {},
   "outputs": [
    {
     "data": {
      "text/plain": [
       "0.034836358618449026"
      ]
     },
     "execution_count": 155,
     "metadata": {},
     "output_type": "execute_result"
    }
   ],
   "source": [
    "abs(s - m)"
   ]
  },
  {
   "cell_type": "markdown",
   "id": "1feeaf04",
   "metadata": {},
   "source": [
    "## 2-2. Risk_Flag를 예측하는 모델을 2개 이상 만들어 Precision을 확인하고 test 데이터를 예측하여 submission을 제출하시오. 이 때 제출하는 파일명은 result이고 0 혹은 1값으로 제출해주세요."
   ]
  },
  {
   "cell_type": "code",
   "execution_count": 184,
   "id": "558c5f05",
   "metadata": {},
   "outputs": [],
   "source": [
    "train.drop(['Id', 'Profession', 'CITY', 'STATE'], axis = 1, inplace = True)\n",
    "test.drop(['ID', 'Profession', 'CITY', 'STATE'], axis = 1, inplace = True)"
   ]
  },
  {
   "cell_type": "code",
   "execution_count": 187,
   "id": "15fd40ca",
   "metadata": {},
   "outputs": [],
   "source": [
    "train['Married/Single'] = [1 if m == 'married' else 0 for m in train['Married/Single']]\n",
    "test['Married/Single'] = [1 if m == 'married' else 0 for m in test['Married/Single']]"
   ]
  },
  {
   "cell_type": "code",
   "execution_count": 191,
   "id": "83346317",
   "metadata": {},
   "outputs": [
    {
     "data": {
      "text/plain": [
       "House_Ownership\n",
       "norent_noown    0.099527\n",
       "owned           0.089797\n",
       "rented          0.125577\n",
       "Name: Risk_Flag, dtype: float64"
      ]
     },
     "execution_count": 191,
     "metadata": {},
     "output_type": "execute_result"
    }
   ],
   "source": [
    "train.groupby('House_Ownership').Risk_Flag.mean()"
   ]
  },
  {
   "cell_type": "code",
   "execution_count": 192,
   "id": "625f71b3",
   "metadata": {},
   "outputs": [],
   "source": [
    "train['House_Ownership'] = train['House_Ownership'].map({'rented' : 3, 'norent_noown' : 2, 'owned' : 1})\n",
    "test['House_Ownership'] = test['House_Ownership'].map({'rented' : 3, 'norent_noown' : 2, 'owned' : 1})"
   ]
  },
  {
   "cell_type": "code",
   "execution_count": 198,
   "id": "7a069661",
   "metadata": {},
   "outputs": [],
   "source": [
    "train['Car_Ownership'] = [1 if c == 'yes' else 0 for c in train['Car_Ownership']]\n",
    "test['Car_Ownership'] = [1 if c == 'yes' else 0 for c in test['Car_Ownership']]"
   ]
  },
  {
   "cell_type": "code",
   "execution_count": 200,
   "id": "71445cf8",
   "metadata": {},
   "outputs": [],
   "source": [
    "X = train.drop('Risk_Flag', axis = 1)\n",
    "y = train.Risk_Flag\n",
    "\n",
    "target = test[X.columns]"
   ]
  },
  {
   "cell_type": "code",
   "execution_count": 202,
   "id": "2295708c",
   "metadata": {},
   "outputs": [],
   "source": [
    "from sklearn.preprocessing import StandardScaler"
   ]
  },
  {
   "cell_type": "code",
   "execution_count": 203,
   "id": "64129937",
   "metadata": {},
   "outputs": [],
   "source": [
    "scaler = StandardScaler()"
   ]
  },
  {
   "cell_type": "code",
   "execution_count": 207,
   "id": "785e314f",
   "metadata": {},
   "outputs": [],
   "source": [
    "X = pd.DataFrame(scaler.fit_transform(X), columns = X.columns)"
   ]
  },
  {
   "cell_type": "code",
   "execution_count": 209,
   "id": "1fbc7376",
   "metadata": {},
   "outputs": [],
   "source": [
    "target = pd.DataFrame(scaler.transform(target), columns = target.columns)"
   ]
  },
  {
   "cell_type": "code",
   "execution_count": 211,
   "id": "6d6749b1",
   "metadata": {},
   "outputs": [
    {
     "data": {
      "text/html": [
       "<div>\n",
       "<style scoped>\n",
       "    .dataframe tbody tr th:only-of-type {\n",
       "        vertical-align: middle;\n",
       "    }\n",
       "\n",
       "    .dataframe tbody tr th {\n",
       "        vertical-align: top;\n",
       "    }\n",
       "\n",
       "    .dataframe thead th {\n",
       "        text-align: right;\n",
       "    }\n",
       "</style>\n",
       "<table border=\"1\" class=\"dataframe\">\n",
       "  <thead>\n",
       "    <tr style=\"text-align: right;\">\n",
       "      <th></th>\n",
       "      <th>Income</th>\n",
       "      <th>Age</th>\n",
       "      <th>Experience</th>\n",
       "      <th>Married/Single</th>\n",
       "      <th>House_Ownership</th>\n",
       "      <th>Car_Ownership</th>\n",
       "      <th>CURRENT_JOB_YRS</th>\n",
       "      <th>CURRENT_HOUSE_YRS</th>\n",
       "    </tr>\n",
       "  </thead>\n",
       "  <tbody>\n",
       "    <tr>\n",
       "      <th>0</th>\n",
       "      <td>-1.283145</td>\n",
       "      <td>-1.579604</td>\n",
       "      <td>-1.180232</td>\n",
       "      <td>-0.337200</td>\n",
       "      <td>0.281684</td>\n",
       "      <td>-0.657129</td>\n",
       "      <td>-0.914131</td>\n",
       "      <td>0.716356</td>\n",
       "    </tr>\n",
       "    <tr>\n",
       "      <th>1</th>\n",
       "      <td>0.895457</td>\n",
       "      <td>-0.583344</td>\n",
       "      <td>-0.014067</td>\n",
       "      <td>-0.337200</td>\n",
       "      <td>0.281684</td>\n",
       "      <td>-0.657129</td>\n",
       "      <td>0.731036</td>\n",
       "      <td>0.716356</td>\n",
       "    </tr>\n",
       "    <tr>\n",
       "      <th>2</th>\n",
       "      <td>-0.349269</td>\n",
       "      <td>0.940348</td>\n",
       "      <td>-1.013637</td>\n",
       "      <td>2.965599</td>\n",
       "      <td>0.281684</td>\n",
       "      <td>-0.657129</td>\n",
       "      <td>-0.639936</td>\n",
       "      <td>-1.427981</td>\n",
       "    </tr>\n",
       "    <tr>\n",
       "      <th>3</th>\n",
       "      <td>0.437526</td>\n",
       "      <td>-0.524740</td>\n",
       "      <td>-1.346827</td>\n",
       "      <td>-0.337200</td>\n",
       "      <td>0.281684</td>\n",
       "      <td>1.521772</td>\n",
       "      <td>-1.188325</td>\n",
       "      <td>0.001577</td>\n",
       "    </tr>\n",
       "    <tr>\n",
       "      <th>4</th>\n",
       "      <td>0.268128</td>\n",
       "      <td>-0.173119</td>\n",
       "      <td>0.152528</td>\n",
       "      <td>-0.337200</td>\n",
       "      <td>0.281684</td>\n",
       "      <td>-0.657129</td>\n",
       "      <td>-0.914131</td>\n",
       "      <td>1.431135</td>\n",
       "    </tr>\n",
       "  </tbody>\n",
       "</table>\n",
       "</div>"
      ],
      "text/plain": [
       "     Income       Age  Experience  Married/Single  House_Ownership  \\\n",
       "0 -1.283145 -1.579604   -1.180232       -0.337200         0.281684   \n",
       "1  0.895457 -0.583344   -0.014067       -0.337200         0.281684   \n",
       "2 -0.349269  0.940348   -1.013637        2.965599         0.281684   \n",
       "3  0.437526 -0.524740   -1.346827       -0.337200         0.281684   \n",
       "4  0.268128 -0.173119    0.152528       -0.337200         0.281684   \n",
       "\n",
       "   Car_Ownership  CURRENT_JOB_YRS  CURRENT_HOUSE_YRS  \n",
       "0      -0.657129        -0.914131           0.716356  \n",
       "1      -0.657129         0.731036           0.716356  \n",
       "2      -0.657129        -0.639936          -1.427981  \n",
       "3       1.521772        -1.188325           0.001577  \n",
       "4      -0.657129        -0.914131           1.431135  "
      ]
     },
     "execution_count": 211,
     "metadata": {},
     "output_type": "execute_result"
    }
   ],
   "source": [
    "X.head()"
   ]
  },
  {
   "cell_type": "code",
   "execution_count": 212,
   "id": "76d2b855",
   "metadata": {},
   "outputs": [
    {
     "data": {
      "text/html": [
       "<div>\n",
       "<style scoped>\n",
       "    .dataframe tbody tr th:only-of-type {\n",
       "        vertical-align: middle;\n",
       "    }\n",
       "\n",
       "    .dataframe tbody tr th {\n",
       "        vertical-align: top;\n",
       "    }\n",
       "\n",
       "    .dataframe thead th {\n",
       "        text-align: right;\n",
       "    }\n",
       "</style>\n",
       "<table border=\"1\" class=\"dataframe\">\n",
       "  <thead>\n",
       "    <tr style=\"text-align: right;\">\n",
       "      <th></th>\n",
       "      <th>Income</th>\n",
       "      <th>Age</th>\n",
       "      <th>Experience</th>\n",
       "      <th>Married/Single</th>\n",
       "      <th>House_Ownership</th>\n",
       "      <th>Car_Ownership</th>\n",
       "      <th>CURRENT_JOB_YRS</th>\n",
       "      <th>CURRENT_HOUSE_YRS</th>\n",
       "    </tr>\n",
       "  </thead>\n",
       "  <tbody>\n",
       "    <tr>\n",
       "      <th>0</th>\n",
       "      <td>0.832425</td>\n",
       "      <td>0.530123</td>\n",
       "      <td>1.485289</td>\n",
       "      <td>-0.337200</td>\n",
       "      <td>0.281684</td>\n",
       "      <td>-0.657129</td>\n",
       "      <td>-0.639936</td>\n",
       "      <td>0.716356</td>\n",
       "    </tr>\n",
       "    <tr>\n",
       "      <th>1</th>\n",
       "      <td>-1.314007</td>\n",
       "      <td>-1.462396</td>\n",
       "      <td>-0.847042</td>\n",
       "      <td>-0.337200</td>\n",
       "      <td>0.281684</td>\n",
       "      <td>-0.657129</td>\n",
       "      <td>-0.365742</td>\n",
       "      <td>-1.427981</td>\n",
       "    </tr>\n",
       "    <tr>\n",
       "      <th>2</th>\n",
       "      <td>1.356432</td>\n",
       "      <td>0.002692</td>\n",
       "      <td>0.319123</td>\n",
       "      <td>-0.337200</td>\n",
       "      <td>0.281684</td>\n",
       "      <td>-0.657129</td>\n",
       "      <td>0.731036</td>\n",
       "      <td>1.431135</td>\n",
       "    </tr>\n",
       "    <tr>\n",
       "      <th>3</th>\n",
       "      <td>-1.060588</td>\n",
       "      <td>-0.055912</td>\n",
       "      <td>-0.180662</td>\n",
       "      <td>2.965599</td>\n",
       "      <td>0.281684</td>\n",
       "      <td>1.521772</td>\n",
       "      <td>-0.914131</td>\n",
       "      <td>0.001577</td>\n",
       "    </tr>\n",
       "    <tr>\n",
       "      <th>4</th>\n",
       "      <td>-1.731466</td>\n",
       "      <td>-1.462396</td>\n",
       "      <td>1.318694</td>\n",
       "      <td>-0.337200</td>\n",
       "      <td>0.281684</td>\n",
       "      <td>1.521772</td>\n",
       "      <td>1.827814</td>\n",
       "      <td>-0.713202</td>\n",
       "    </tr>\n",
       "  </tbody>\n",
       "</table>\n",
       "</div>"
      ],
      "text/plain": [
       "     Income       Age  Experience  Married/Single  House_Ownership  \\\n",
       "0  0.832425  0.530123    1.485289       -0.337200         0.281684   \n",
       "1 -1.314007 -1.462396   -0.847042       -0.337200         0.281684   \n",
       "2  1.356432  0.002692    0.319123       -0.337200         0.281684   \n",
       "3 -1.060588 -0.055912   -0.180662        2.965599         0.281684   \n",
       "4 -1.731466 -1.462396    1.318694       -0.337200         0.281684   \n",
       "\n",
       "   Car_Ownership  CURRENT_JOB_YRS  CURRENT_HOUSE_YRS  \n",
       "0      -0.657129        -0.639936           0.716356  \n",
       "1      -0.657129        -0.365742          -1.427981  \n",
       "2      -0.657129         0.731036           1.431135  \n",
       "3       1.521772        -0.914131           0.001577  \n",
       "4       1.521772         1.827814          -0.713202  "
      ]
     },
     "execution_count": 212,
     "metadata": {},
     "output_type": "execute_result"
    }
   ],
   "source": [
    "target.head()"
   ]
  },
  {
   "cell_type": "code",
   "execution_count": 217,
   "id": "808db521",
   "metadata": {},
   "outputs": [],
   "source": [
    "from sklearn.ensemble import RandomForestClassifier\n",
    "from lightgbm import LGBMClassifier\n",
    "\n",
    "from sklearn.model_selection import StratifiedKFold, train_test_split\n",
    "from sklearn.metrics import precision_score"
   ]
  },
  {
   "cell_type": "code",
   "execution_count": 218,
   "id": "6f2a7aec",
   "metadata": {},
   "outputs": [],
   "source": [
    "X_train, X_val, y_train, y_val = train_test_split(X, y, test_size = 0.25, random_state = 42, stratify = y)"
   ]
  },
  {
   "cell_type": "code",
   "execution_count": 219,
   "id": "fc6ce6c2",
   "metadata": {},
   "outputs": [
    {
     "data": {
      "text/plain": [
       "((189000, 8), (63000, 8))"
      ]
     },
     "execution_count": 219,
     "metadata": {},
     "output_type": "execute_result"
    }
   ],
   "source": [
    "X_train.shape, X_val.shape"
   ]
  },
  {
   "cell_type": "markdown",
   "id": "9300de4d",
   "metadata": {},
   "source": [
    "### 방법1 -> 일반적인 접근"
   ]
  },
  {
   "cell_type": "code",
   "execution_count": 237,
   "id": "3bf8e8fb",
   "metadata": {},
   "outputs": [],
   "source": [
    "rf = RandomForestClassifier(random_state = 42, max_depth = 3, n_estimators = 150)"
   ]
  },
  {
   "cell_type": "code",
   "execution_count": 238,
   "id": "e9f1027f",
   "metadata": {},
   "outputs": [
    {
     "data": {
      "text/plain": [
       "RandomForestClassifier(max_depth=3, n_estimators=150, random_state=42)"
      ]
     },
     "execution_count": 238,
     "metadata": {},
     "output_type": "execute_result"
    }
   ],
   "source": [
    "rf.fit(X_train, y_train)"
   ]
  },
  {
   "cell_type": "code",
   "execution_count": 248,
   "id": "9243fe22",
   "metadata": {},
   "outputs": [],
   "source": [
    "pred = rf.predict(X_val)"
   ]
  },
  {
   "cell_type": "code",
   "execution_count": 249,
   "id": "9fd9e2ad",
   "metadata": {
    "scrolled": true
   },
   "outputs": [
    {
     "name": "stderr",
     "output_type": "stream",
     "text": [
      "<ipython-input-249-03f5193a5935>:1: SettingWithCopyWarning: \n",
      "A value is trying to be set on a copy of a slice from a DataFrame.\n",
      "Try using .loc[row_indexer,col_indexer] = value instead\n",
      "\n",
      "See the caveats in the documentation: https://pandas.pydata.org/pandas-docs/stable/user_guide/indexing.html#returning-a-view-versus-a-copy\n",
      "  X_val['pred'] = pred\n"
     ]
    }
   ],
   "source": [
    "X_val['pred'] = pred"
   ]
  },
  {
   "cell_type": "code",
   "execution_count": 251,
   "id": "88dc0466",
   "metadata": {},
   "outputs": [
    {
     "data": {
      "text/plain": [
       "array([0])"
      ]
     },
     "execution_count": 251,
     "metadata": {},
     "output_type": "execute_result"
    }
   ],
   "source": [
    "X_val.pred.unique()"
   ]
  },
  {
   "cell_type": "code",
   "execution_count": 253,
   "id": "a0fa8dfe",
   "metadata": {},
   "outputs": [
    {
     "name": "stderr",
     "output_type": "stream",
     "text": [
      "<ipython-input-253-be68b596246c>:1: SettingWithCopyWarning: \n",
      "A value is trying to be set on a copy of a slice from a DataFrame.\n",
      "Try using .loc[row_indexer,col_indexer] = value instead\n",
      "\n",
      "See the caveats in the documentation: https://pandas.pydata.org/pandas-docs/stable/user_guide/indexing.html#returning-a-view-versus-a-copy\n",
      "  X_train['target'] = y_train\n"
     ]
    }
   ],
   "source": [
    "X_train['target'] = y_train"
   ]
  },
  {
   "cell_type": "code",
   "execution_count": 255,
   "id": "a588455e",
   "metadata": {},
   "outputs": [
    {
     "data": {
      "text/plain": [
       "0    165753\n",
       "1     23247\n",
       "Name: target, dtype: int64"
      ]
     },
     "execution_count": 255,
     "metadata": {},
     "output_type": "execute_result"
    }
   ],
   "source": [
    "X_train.target.value_counts()"
   ]
  },
  {
   "cell_type": "code",
   "execution_count": 240,
   "id": "3656fe43",
   "metadata": {
    "scrolled": true
   },
   "outputs": [
    {
     "name": "stderr",
     "output_type": "stream",
     "text": [
      "/opt/anaconda3/lib/python3.8/site-packages/sklearn/metrics/_classification.py:1221: UndefinedMetricWarning: Precision is ill-defined and being set to 0.0 due to no predicted samples. Use `zero_division` parameter to control this behavior.\n",
      "  _warn_prf(average, modifier, msg_start, len(result))\n"
     ]
    }
   ],
   "source": [
    "score = precision_score(y_val, pred)"
   ]
  },
  {
   "cell_type": "code",
   "execution_count": 241,
   "id": "33a8e635",
   "metadata": {
    "scrolled": true
   },
   "outputs": [
    {
     "name": "stdout",
     "output_type": "stream",
     "text": [
      "RandomForestClassifier의 precision = 0.0\n"
     ]
    }
   ],
   "source": [
    "print(f'{rf.__class__.__name__}의 precision = {score}')"
   ]
  },
  {
   "cell_type": "code",
   "execution_count": 243,
   "id": "d46e94c5",
   "metadata": {},
   "outputs": [],
   "source": [
    "lgbm = LGBMClassifier(random_state = 42, max_depth = 4, learning_rate = 0.15, n_estimators = 200)"
   ]
  },
  {
   "cell_type": "code",
   "execution_count": 244,
   "id": "a69d7bc6",
   "metadata": {},
   "outputs": [
    {
     "data": {
      "text/plain": [
       "LGBMClassifier(learning_rate=0.15, max_depth=4, n_estimators=200,\n",
       "               random_state=42)"
      ]
     },
     "execution_count": 244,
     "metadata": {},
     "output_type": "execute_result"
    }
   ],
   "source": [
    "lgbm.fit(X, y)"
   ]
  },
  {
   "cell_type": "code",
   "execution_count": 245,
   "id": "51466cc6",
   "metadata": {},
   "outputs": [],
   "source": [
    "pred = lgbm.predict(X_val)"
   ]
  },
  {
   "cell_type": "code",
   "execution_count": 246,
   "id": "390501a9",
   "metadata": {},
   "outputs": [],
   "source": [
    "score = precision_score(y_val, pred)"
   ]
  },
  {
   "cell_type": "code",
   "execution_count": 247,
   "id": "159e7903",
   "metadata": {
    "scrolled": false
   },
   "outputs": [
    {
     "name": "stdout",
     "output_type": "stream",
     "text": [
      "LGBMClassifier의 precision = 0.7596899224806202\n"
     ]
    }
   ],
   "source": [
    "print(f'{lgbm.__class__.__name__}의 precision = {score}')"
   ]
  },
  {
   "cell_type": "markdown",
   "id": "55cc47b3",
   "metadata": {},
   "source": [
    "### 방법2 -> Ensemble"
   ]
  },
  {
   "cell_type": "code",
   "execution_count": 256,
   "id": "2ff3adb9",
   "metadata": {},
   "outputs": [],
   "source": [
    "skf = StratifiedKFold(n_splits = 5, random_state = 42, shuffle = True)"
   ]
  },
  {
   "cell_type": "code",
   "execution_count": 268,
   "id": "7b387028",
   "metadata": {},
   "outputs": [],
   "source": [
    "lgbm_pred = np.zeros(target.shape[0])"
   ]
  },
  {
   "cell_type": "code",
   "execution_count": 269,
   "id": "9f939579",
   "metadata": {},
   "outputs": [
    {
     "data": {
      "text/plain": [
       "array([0., 0., 0., ..., 0., 0., 0.])"
      ]
     },
     "execution_count": 269,
     "metadata": {},
     "output_type": "execute_result"
    }
   ],
   "source": [
    "lgbm_pred"
   ]
  },
  {
   "cell_type": "code",
   "execution_count": 271,
   "id": "68d1bcc6",
   "metadata": {},
   "outputs": [
    {
     "name": "stdout",
     "output_type": "stream",
     "text": [
      "0.7105263157894737\n",
      "0.6432160804020101\n",
      "0.6918238993710691\n",
      "0.7216494845360825\n",
      "0.65625\n"
     ]
    }
   ],
   "source": [
    "for tr_idx, val_idx in skf.split(X, y) :\n",
    "    tr_x, tr_y = X.iloc[tr_idx], y.iloc[tr_idx]\n",
    "    val_x, val_y = X.iloc[val_idx], y.iloc[val_idx]\n",
    "    \n",
    "    lgbm = LGBMClassifier(random_state = 42, max_depth = 4, learning_rate = 0.15, n_estimators = 200)\n",
    "    lgbm.fit(tr_x, tr_y)\n",
    "    val_pred = lgbm.predict_proba(val_x)[:, 1]\n",
    "    val_pred = [1 if p >= 0.5 else 0 for p in val_pred]\n",
    "    score = precision_score(val_y, val_pred)\n",
    "    print(score)\n",
    "    \n",
    "    fold_pred = lgbm.predict_proba(target)[:, 1] / 5\n",
    "    lgbm_pred += fold_pred"
   ]
  },
  {
   "cell_type": "code",
   "execution_count": 272,
   "id": "bacea8bc",
   "metadata": {},
   "outputs": [
    {
     "data": {
      "text/plain": [
       "array([0.08644801, 0.08594182, 0.09757197, ..., 0.16575346, 0.08210274,\n",
       "       0.22262696])"
      ]
     },
     "execution_count": 272,
     "metadata": {},
     "output_type": "execute_result"
    }
   ],
   "source": [
    "lgbm_pred"
   ]
  },
  {
   "cell_type": "code",
   "execution_count": 273,
   "id": "df00005a",
   "metadata": {},
   "outputs": [],
   "source": [
    "submission = pd.read_csv('Sample Prediction Dataset.csv')"
   ]
  },
  {
   "cell_type": "code",
   "execution_count": 275,
   "id": "52f3e5cd",
   "metadata": {},
   "outputs": [],
   "source": [
    "submission['risk_flag'] = lgbm_pred"
   ]
  },
  {
   "cell_type": "code",
   "execution_count": 277,
   "id": "3d8d6a09",
   "metadata": {},
   "outputs": [],
   "source": [
    "submission['risk_flag'] = [1 if p >= 0.5 else 0 for p in submission['risk_flag']]"
   ]
  },
  {
   "cell_type": "code",
   "execution_count": 279,
   "id": "27ce7535",
   "metadata": {},
   "outputs": [],
   "source": [
    "#submission.to_csv('result2.csv', index = False)"
   ]
  },
  {
   "cell_type": "markdown",
   "id": "7dcaab9f",
   "metadata": {},
   "source": [
    "***\n",
    "## 3번 문제 사용 데이터\n",
    "- airline_train, airline_test, airline_submission\n",
    "\n",
    "## 3-1. Flight Distance의 이상치인 데이터의 Age의 표준편차를 구하시오."
   ]
  },
  {
   "cell_type": "code",
   "execution_count": 280,
   "id": "37c89095",
   "metadata": {},
   "outputs": [],
   "source": [
    "train = pd.read_csv('airline_train.csv')\n",
    "test = pd.read_csv('airline_test.csv')"
   ]
  },
  {
   "cell_type": "code",
   "execution_count": 282,
   "id": "1d5c410a",
   "metadata": {},
   "outputs": [],
   "source": [
    "q1 = np.percentile(train['Flight Distance'], 25)\n",
    "q3 = np.percentile(train['Flight Distance'], 75)"
   ]
  },
  {
   "cell_type": "code",
   "execution_count": 283,
   "id": "a998e822",
   "metadata": {},
   "outputs": [],
   "source": [
    "iqr = q3 - q1"
   ]
  },
  {
   "cell_type": "code",
   "execution_count": 286,
   "id": "e3b7d2f5",
   "metadata": {},
   "outputs": [],
   "source": [
    "l_b = q1 - 1.5 * iqr\n",
    "u_b = q3 + 1.5 * iqr"
   ]
  },
  {
   "cell_type": "code",
   "execution_count": 291,
   "id": "f174884f",
   "metadata": {
    "scrolled": true
   },
   "outputs": [
    {
     "data": {
      "text/html": [
       "<div>\n",
       "<style scoped>\n",
       "    .dataframe tbody tr th:only-of-type {\n",
       "        vertical-align: middle;\n",
       "    }\n",
       "\n",
       "    .dataframe tbody tr th {\n",
       "        vertical-align: top;\n",
       "    }\n",
       "\n",
       "    .dataframe thead th {\n",
       "        text-align: right;\n",
       "    }\n",
       "</style>\n",
       "<table border=\"1\" class=\"dataframe\">\n",
       "  <thead>\n",
       "    <tr style=\"text-align: right;\">\n",
       "      <th></th>\n",
       "      <th>satisfaction</th>\n",
       "      <th>Gender</th>\n",
       "      <th>Customer Type</th>\n",
       "      <th>Age</th>\n",
       "      <th>Type of Travel</th>\n",
       "      <th>Class</th>\n",
       "      <th>Flight Distance</th>\n",
       "      <th>Seat comfort</th>\n",
       "      <th>Departure/Arrival time convenient</th>\n",
       "      <th>Food and drink</th>\n",
       "      <th>...</th>\n",
       "      <th>Online support</th>\n",
       "      <th>Ease of Online booking</th>\n",
       "      <th>On-board service</th>\n",
       "      <th>Leg room service</th>\n",
       "      <th>Baggage handling</th>\n",
       "      <th>Checkin service</th>\n",
       "      <th>Cleanliness</th>\n",
       "      <th>Online boarding</th>\n",
       "      <th>Departure Delay in Minutes</th>\n",
       "      <th>Arrival Delay in Minutes</th>\n",
       "    </tr>\n",
       "  </thead>\n",
       "  <tbody>\n",
       "    <tr>\n",
       "      <th>20</th>\n",
       "      <td>satisfied</td>\n",
       "      <td>Female</td>\n",
       "      <td>Loyal Customer</td>\n",
       "      <td>13</td>\n",
       "      <td>Personal Travel</td>\n",
       "      <td>Eco</td>\n",
       "      <td>6792</td>\n",
       "      <td>0</td>\n",
       "      <td>5</td>\n",
       "      <td>0</td>\n",
       "      <td>...</td>\n",
       "      <td>1</td>\n",
       "      <td>3</td>\n",
       "      <td>4</td>\n",
       "      <td>5</td>\n",
       "      <td>5</td>\n",
       "      <td>1</td>\n",
       "      <td>3</td>\n",
       "      <td>1</td>\n",
       "      <td>3</td>\n",
       "      <td>0.0</td>\n",
       "    </tr>\n",
       "    <tr>\n",
       "      <th>39</th>\n",
       "      <td>dissatisfied</td>\n",
       "      <td>Female</td>\n",
       "      <td>Loyal Customer</td>\n",
       "      <td>31</td>\n",
       "      <td>Business travel</td>\n",
       "      <td>Business</td>\n",
       "      <td>4348</td>\n",
       "      <td>3</td>\n",
       "      <td>1</td>\n",
       "      <td>1</td>\n",
       "      <td>...</td>\n",
       "      <td>3</td>\n",
       "      <td>3</td>\n",
       "      <td>1</td>\n",
       "      <td>1</td>\n",
       "      <td>4</td>\n",
       "      <td>4</td>\n",
       "      <td>4</td>\n",
       "      <td>3</td>\n",
       "      <td>0</td>\n",
       "      <td>1.0</td>\n",
       "    </tr>\n",
       "    <tr>\n",
       "      <th>58</th>\n",
       "      <td>dissatisfied</td>\n",
       "      <td>Male</td>\n",
       "      <td>Loyal Customer</td>\n",
       "      <td>7</td>\n",
       "      <td>Personal Travel</td>\n",
       "      <td>Business</td>\n",
       "      <td>4747</td>\n",
       "      <td>3</td>\n",
       "      <td>1</td>\n",
       "      <td>3</td>\n",
       "      <td>...</td>\n",
       "      <td>4</td>\n",
       "      <td>2</td>\n",
       "      <td>1</td>\n",
       "      <td>4</td>\n",
       "      <td>3</td>\n",
       "      <td>4</td>\n",
       "      <td>1</td>\n",
       "      <td>4</td>\n",
       "      <td>0</td>\n",
       "      <td>0.0</td>\n",
       "    </tr>\n",
       "    <tr>\n",
       "      <th>107</th>\n",
       "      <td>satisfied</td>\n",
       "      <td>Female</td>\n",
       "      <td>Loyal Customer</td>\n",
       "      <td>19</td>\n",
       "      <td>Business travel</td>\n",
       "      <td>Business</td>\n",
       "      <td>5142</td>\n",
       "      <td>5</td>\n",
       "      <td>5</td>\n",
       "      <td>5</td>\n",
       "      <td>...</td>\n",
       "      <td>5</td>\n",
       "      <td>5</td>\n",
       "      <td>1</td>\n",
       "      <td>5</td>\n",
       "      <td>5</td>\n",
       "      <td>1</td>\n",
       "      <td>4</td>\n",
       "      <td>5</td>\n",
       "      <td>0</td>\n",
       "      <td>0.0</td>\n",
       "    </tr>\n",
       "    <tr>\n",
       "      <th>132</th>\n",
       "      <td>dissatisfied</td>\n",
       "      <td>Female</td>\n",
       "      <td>Loyal Customer</td>\n",
       "      <td>32</td>\n",
       "      <td>Business travel</td>\n",
       "      <td>Business</td>\n",
       "      <td>5155</td>\n",
       "      <td>2</td>\n",
       "      <td>1</td>\n",
       "      <td>3</td>\n",
       "      <td>...</td>\n",
       "      <td>2</td>\n",
       "      <td>2</td>\n",
       "      <td>2</td>\n",
       "      <td>2</td>\n",
       "      <td>3</td>\n",
       "      <td>1</td>\n",
       "      <td>3</td>\n",
       "      <td>2</td>\n",
       "      <td>54</td>\n",
       "      <td>51.0</td>\n",
       "    </tr>\n",
       "  </tbody>\n",
       "</table>\n",
       "<p>5 rows × 23 columns</p>\n",
       "</div>"
      ],
      "text/plain": [
       "     satisfaction  Gender   Customer Type  Age   Type of Travel     Class  \\\n",
       "20      satisfied  Female  Loyal Customer   13  Personal Travel       Eco   \n",
       "39   dissatisfied  Female  Loyal Customer   31  Business travel  Business   \n",
       "58   dissatisfied    Male  Loyal Customer    7  Personal Travel  Business   \n",
       "107     satisfied  Female  Loyal Customer   19  Business travel  Business   \n",
       "132  dissatisfied  Female  Loyal Customer   32  Business travel  Business   \n",
       "\n",
       "     Flight Distance  Seat comfort  Departure/Arrival time convenient  \\\n",
       "20              6792             0                                  5   \n",
       "39              4348             3                                  1   \n",
       "58              4747             3                                  1   \n",
       "107             5142             5                                  5   \n",
       "132             5155             2                                  1   \n",
       "\n",
       "     Food and drink  ...  Online support  Ease of Online booking  \\\n",
       "20                0  ...               1                       3   \n",
       "39                1  ...               3                       3   \n",
       "58                3  ...               4                       2   \n",
       "107               5  ...               5                       5   \n",
       "132               3  ...               2                       2   \n",
       "\n",
       "     On-board service  Leg room service  Baggage handling  Checkin service  \\\n",
       "20                  4                 5                 5                1   \n",
       "39                  1                 1                 4                4   \n",
       "58                  1                 4                 3                4   \n",
       "107                 1                 5                 5                1   \n",
       "132                 2                 2                 3                1   \n",
       "\n",
       "     Cleanliness  Online boarding  Departure Delay in Minutes  \\\n",
       "20             3                1                           3   \n",
       "39             4                3                           0   \n",
       "58             1                4                           0   \n",
       "107            4                5                           0   \n",
       "132            3                2                          54   \n",
       "\n",
       "     Arrival Delay in Minutes  \n",
       "20                        0.0  \n",
       "39                        1.0  \n",
       "58                        0.0  \n",
       "107                       0.0  \n",
       "132                      51.0  \n",
       "\n",
       "[5 rows x 23 columns]"
      ]
     },
     "execution_count": 291,
     "metadata": {},
     "output_type": "execute_result"
    }
   ],
   "source": [
    "df = train[(train['Flight Distance'] < l_b) | (train['Flight Distance'] > u_b)]\n",
    "df.head()"
   ]
  },
  {
   "cell_type": "code",
   "execution_count": 292,
   "id": "c4ab048b",
   "metadata": {
    "scrolled": true
   },
   "outputs": [
    {
     "data": {
      "text/plain": [
       "10.439408113894972"
      ]
     },
     "execution_count": 292,
     "metadata": {},
     "output_type": "execute_result"
    }
   ],
   "source": [
    "df.Age.std()"
   ]
  },
  {
   "cell_type": "markdown",
   "id": "349d41c2",
   "metadata": {},
   "source": [
    "## 3-2. satisfaction 예측 모델을 roc_auc_score를 기준으로 2개 이상 만들고 확률 값을 submission으로 제출하고 이 때 파일명을 result로 하시오."
   ]
  },
  {
   "cell_type": "code",
   "execution_count": 297,
   "id": "ee7a3354",
   "metadata": {},
   "outputs": [],
   "source": [
    "train['satisfaction'] = [1 if s == 'satisfied' else 0 for s in train.satisfaction]\n",
    "test['satisfaction'] = [1 if s == 'satisfied' else 0 for s in test.satisfaction]"
   ]
  },
  {
   "cell_type": "code",
   "execution_count": 301,
   "id": "91548a77",
   "metadata": {},
   "outputs": [],
   "source": [
    "train['Gender'] = [1 if g == 'Female' else 0 for g in train['Gender']]\n",
    "test['Gender'] = [1 if g == 'Female' else 0 for g in test['Gender']]"
   ]
  },
  {
   "cell_type": "code",
   "execution_count": 304,
   "id": "c39e9949",
   "metadata": {},
   "outputs": [],
   "source": [
    "train['Customer Type'] = [1 if t == 'Loyal Customer' else 0 for t in train['Customer Type']]\n",
    "test['Customer Type'] = [1 if t == 'Loyal Customer' else 0 for t in test['Customer Type']]"
   ]
  },
  {
   "cell_type": "code",
   "execution_count": 307,
   "id": "c36b1f23",
   "metadata": {},
   "outputs": [],
   "source": [
    "train['Type of Travel'] = [1 if t == 'Business travel' else 0 for t in train['Type of Travel']]\n",
    "test['Type of Travel'] = [1 if t == 'Business travel' else 0 for t in test['Type of Travel']]"
   ]
  },
  {
   "cell_type": "code",
   "execution_count": 313,
   "id": "4adc1b8d",
   "metadata": {},
   "outputs": [],
   "source": [
    "train = pd.get_dummies(train)\n",
    "test = pd.get_dummies(test)"
   ]
  },
  {
   "cell_type": "code",
   "execution_count": 315,
   "id": "d6a0dccf",
   "metadata": {},
   "outputs": [],
   "source": [
    "train.drop('Arrival Delay in Minutes', axis = 1, inplace = True)\n",
    "test.drop('Arrival Delay in Minutes', axis = 1, inplace = True)"
   ]
  },
  {
   "cell_type": "code",
   "execution_count": 317,
   "id": "21090ca4",
   "metadata": {},
   "outputs": [],
   "source": [
    "X = train.iloc[:, 1:]\n",
    "y = train.satisfaction\n",
    "\n",
    "target = test[X.columns]"
   ]
  },
  {
   "cell_type": "markdown",
   "id": "311f432f",
   "metadata": {},
   "source": [
    "### 방법1 - Hold Out"
   ]
  },
  {
   "cell_type": "code",
   "execution_count": 318,
   "id": "2e12e11d",
   "metadata": {},
   "outputs": [],
   "source": [
    "X_train, X_val, y_train, y_val = train_test_split(X, y, test_size = 0.3, stratify = y, random_state = 42)"
   ]
  },
  {
   "cell_type": "code",
   "execution_count": 319,
   "id": "de28fe24",
   "metadata": {},
   "outputs": [],
   "source": [
    "lgbm = LGBMClassifier(random_state = 42, max_depth = 4)"
   ]
  },
  {
   "cell_type": "code",
   "execution_count": 320,
   "id": "3970db6b",
   "metadata": {},
   "outputs": [
    {
     "data": {
      "text/plain": [
       "LGBMClassifier(max_depth=4, random_state=42)"
      ]
     },
     "execution_count": 320,
     "metadata": {},
     "output_type": "execute_result"
    }
   ],
   "source": [
    "lgbm.fit(X_train, y_train)"
   ]
  },
  {
   "cell_type": "code",
   "execution_count": 321,
   "id": "305f2417",
   "metadata": {},
   "outputs": [],
   "source": [
    "pred = lgbm.predict_proba(X_val)[:, 1]"
   ]
  },
  {
   "cell_type": "code",
   "execution_count": 323,
   "id": "dc8254b3",
   "metadata": {},
   "outputs": [],
   "source": [
    "from sklearn.metrics import roc_auc_score"
   ]
  },
  {
   "cell_type": "code",
   "execution_count": 324,
   "id": "b9ed64a3",
   "metadata": {},
   "outputs": [],
   "source": [
    "score = roc_auc_score(y_val, pred)"
   ]
  },
  {
   "cell_type": "code",
   "execution_count": 325,
   "id": "86f4d919",
   "metadata": {},
   "outputs": [
    {
     "data": {
      "text/plain": [
       "0.9875183148785798"
      ]
     },
     "execution_count": 325,
     "metadata": {},
     "output_type": "execute_result"
    }
   ],
   "source": [
    "score"
   ]
  },
  {
   "cell_type": "markdown",
   "id": "c8c0e53c",
   "metadata": {},
   "source": [
    "### 방법2 - Ensemble"
   ]
  },
  {
   "cell_type": "code",
   "execution_count": 326,
   "id": "28a02197",
   "metadata": {},
   "outputs": [],
   "source": [
    "skf = StratifiedKFold(n_splits = 5, random_state = 42, shuffle = True)"
   ]
  },
  {
   "cell_type": "code",
   "execution_count": 327,
   "id": "ea139cd3",
   "metadata": {},
   "outputs": [],
   "source": [
    "lgbm_pred = np.zeros(target.shape[0])"
   ]
  },
  {
   "cell_type": "code",
   "execution_count": 338,
   "id": "8b494e4a",
   "metadata": {},
   "outputs": [
    {
     "name": "stdout",
     "output_type": "stream",
     "text": [
      "0.9877665451933281\n",
      "0.9878071531084595\n",
      "0.988036041263388\n",
      "0.9877876662890807\n",
      "0.9871772743350397\n",
      "CPU times: user 11.1 s, sys: 1.85 s, total: 12.9 s\n",
      "Wall time: 2.06 s\n"
     ]
    }
   ],
   "source": [
    "%%time\n",
    "for tr_idx, val_idx in skf.split(X, y) :\n",
    "    tr_x, tr_y = X.iloc[tr_idx], y.iloc[tr_idx] # 학습용 데이터\n",
    "    val_x, val_y = X.iloc[val_idx], y.iloc[val_idx] # 검증용 데이터\n",
    "    \n",
    "    ### 학습 및 검증용 모두 train 데이터로부터 생성됨\n",
    "    \n",
    "    lgbm = LGBMClassifier(random_state = 42, max_depth = 4)\n",
    "    lgbm.fit(tr_x, tr_y) # 학습용 데이터만 학습\n",
    "    \n",
    "    val_pred = lgbm.predict_proba(val_x)[:, 1]\n",
    "    # 검증용 독립변수를 예측한 확률\n",
    "    score = roc_auc_score(val_y, val_pred)\n",
    "    # ROC AUC를 평가\n",
    "    print(score)\n",
    "    \n",
    "    \n",
    "    ### 실제 prediction -> target 데이터 예측\n",
    "    fold_pred = lgbm.predict_proba(target)[:, 1] / 5\n",
    "    lgbm_pred += fold_pred"
   ]
  },
  {
   "cell_type": "code",
   "execution_count": 337,
   "id": "842f0c15",
   "metadata": {},
   "outputs": [],
   "source": [
    "lgbm_pred = np.mean(lgbm_pred)"
   ]
  },
  {
   "cell_type": "code",
   "execution_count": 329,
   "id": "91ddf208",
   "metadata": {
    "scrolled": true
   },
   "outputs": [
    {
     "data": {
      "text/plain": [
       "array([0.97147773, 0.99659181, 0.99129075, ..., 0.9876265 , 0.99425338,\n",
       "       0.03234098])"
      ]
     },
     "execution_count": 329,
     "metadata": {},
     "output_type": "execute_result"
    }
   ],
   "source": [
    "lgbm_pred"
   ]
  },
  {
   "cell_type": "code",
   "execution_count": 330,
   "id": "c20d7560",
   "metadata": {},
   "outputs": [],
   "source": [
    "submission = pd.read_csv('airline_submission.csv')"
   ]
  },
  {
   "cell_type": "code",
   "execution_count": 332,
   "id": "70db2ee7",
   "metadata": {},
   "outputs": [],
   "source": [
    "submission['satisfaction'] = lgbm_pred"
   ]
  },
  {
   "cell_type": "code",
   "execution_count": 334,
   "id": "23a1aa8e",
   "metadata": {},
   "outputs": [],
   "source": [
    "#submission.to_csv('result3.csv', index = False)"
   ]
  }
 ],
 "metadata": {
  "kernelspec": {
   "display_name": "Python 3",
   "language": "python",
   "name": "python3"
  },
  "language_info": {
   "codemirror_mode": {
    "name": "ipython",
    "version": 3
   },
   "file_extension": ".py",
   "mimetype": "text/x-python",
   "name": "python",
   "nbconvert_exporter": "python",
   "pygments_lexer": "ipython3",
   "version": "3.8.8"
  }
 },
 "nbformat": 4,
 "nbformat_minor": 5
}
