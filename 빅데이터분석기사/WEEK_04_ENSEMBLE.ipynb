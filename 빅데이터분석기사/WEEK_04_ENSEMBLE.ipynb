{
 "cells": [
  {
   "cell_type": "markdown",
   "id": "7f94f187",
   "metadata": {},
   "source": [
    "# Ensemble\n",
    "\n",
    "***\n",
    "\n",
    "### 작업 제 2유형 SCORE 달성에 가장 안전한 방법\n",
    "\n",
    "#### 앙상블이란?\n",
    "- 집단지성과 같은 의미\n",
    "- 여러 개 예측값을 결합하자!\n",
    "- 산술 평균, 기하 평균 등 다양하다.\n",
    "- 독립적인 예측값 결합으로 과적합 방지 가능\n",
    "***\n",
    "\n",
    "### KFold와 StratifiedKFold 사용!\n",
    "\n",
    "### 프로세스\n",
    "- for loop문 구성\n",
    "- 학습 및 검증 데이터 분할\n",
    "- 각 FOLD별로 모델이 데이터를 학습하고 test 데이터에 대해 예측 값 생성\n",
    "- K개의 FOLD 예측 값을 앙상블한다."
   ]
  },
  {
   "cell_type": "markdown",
   "id": "73df5185",
   "metadata": {},
   "source": [
    "예를 들어 10FOLD로 학습 및 검증을 한다.\n",
    "\n",
    "- 학습 : 9개 FOLD로 학습을 한다.\n",
    "- 검증 : 1개 FOLD로 검증을 한다.\n",
    "\n",
    "모델 학습을 총 10번한다. -> 모델이 총 10개라는 의미!!\n",
    "\n",
    "알고리즘은 같지만 모델이 사용하는 독립변수, 종속변수 분포는 다르다.\n",
    "\n",
    "10개 각 모델로 test 데이터를 각각 예측한다. -> 10개의 예측값 생성\n",
    "\n",
    "10개의 예측값에 대해서 산술평균을 활용하자!"
   ]
  },
  {
   "cell_type": "code",
   "execution_count": 2,
   "id": "1f113b2e",
   "metadata": {},
   "outputs": [],
   "source": [
    "import pandas as pd"
   ]
  },
  {
   "cell_type": "code",
   "execution_count": 41,
   "id": "51a7b62a",
   "metadata": {},
   "outputs": [],
   "source": [
    "X = pd.read_csv('/Users/kisehyun/study_code/빅데이터분석기사실기/X_train.csv', encoding = 'cp949')\n",
    "y = pd.read_csv(\"/Users/kisehyun/study_code/빅데이터분석기사실기/y_train.csv\", encoding = 'cp949').gender\n",
    "test = pd.read_csv('/Users/kisehyun/study_code/빅데이터분석기사실기/X_test.csv', encoding = 'cp949')"
   ]
  },
  {
   "cell_type": "code",
   "execution_count": 42,
   "id": "5a069506",
   "metadata": {},
   "outputs": [
    {
     "data": {
      "text/html": [
       "<div>\n",
       "<style scoped>\n",
       "    .dataframe tbody tr th:only-of-type {\n",
       "        vertical-align: middle;\n",
       "    }\n",
       "\n",
       "    .dataframe tbody tr th {\n",
       "        vertical-align: top;\n",
       "    }\n",
       "\n",
       "    .dataframe thead th {\n",
       "        text-align: right;\n",
       "    }\n",
       "</style>\n",
       "<table border=\"1\" class=\"dataframe\">\n",
       "  <thead>\n",
       "    <tr style=\"text-align: right;\">\n",
       "      <th></th>\n",
       "      <th>cust_id</th>\n",
       "      <th>총구매액</th>\n",
       "      <th>최대구매액</th>\n",
       "      <th>환불금액</th>\n",
       "      <th>주구매상품</th>\n",
       "      <th>주구매지점</th>\n",
       "      <th>내점일수</th>\n",
       "      <th>내점당구매건수</th>\n",
       "      <th>주말방문비율</th>\n",
       "      <th>구매주기</th>\n",
       "    </tr>\n",
       "  </thead>\n",
       "  <tbody>\n",
       "    <tr>\n",
       "      <th>0</th>\n",
       "      <td>0</td>\n",
       "      <td>68282840</td>\n",
       "      <td>11264000</td>\n",
       "      <td>6860000.0</td>\n",
       "      <td>기타</td>\n",
       "      <td>강남점</td>\n",
       "      <td>19</td>\n",
       "      <td>3.894737</td>\n",
       "      <td>0.527027</td>\n",
       "      <td>17</td>\n",
       "    </tr>\n",
       "    <tr>\n",
       "      <th>1</th>\n",
       "      <td>1</td>\n",
       "      <td>2136000</td>\n",
       "      <td>2136000</td>\n",
       "      <td>300000.0</td>\n",
       "      <td>스포츠</td>\n",
       "      <td>잠실점</td>\n",
       "      <td>2</td>\n",
       "      <td>1.500000</td>\n",
       "      <td>0.000000</td>\n",
       "      <td>1</td>\n",
       "    </tr>\n",
       "    <tr>\n",
       "      <th>2</th>\n",
       "      <td>2</td>\n",
       "      <td>3197000</td>\n",
       "      <td>1639000</td>\n",
       "      <td>NaN</td>\n",
       "      <td>남성 캐주얼</td>\n",
       "      <td>관악점</td>\n",
       "      <td>2</td>\n",
       "      <td>2.000000</td>\n",
       "      <td>0.000000</td>\n",
       "      <td>1</td>\n",
       "    </tr>\n",
       "    <tr>\n",
       "      <th>3</th>\n",
       "      <td>3</td>\n",
       "      <td>16077620</td>\n",
       "      <td>4935000</td>\n",
       "      <td>NaN</td>\n",
       "      <td>기타</td>\n",
       "      <td>광주점</td>\n",
       "      <td>18</td>\n",
       "      <td>2.444444</td>\n",
       "      <td>0.318182</td>\n",
       "      <td>16</td>\n",
       "    </tr>\n",
       "    <tr>\n",
       "      <th>4</th>\n",
       "      <td>4</td>\n",
       "      <td>29050000</td>\n",
       "      <td>24000000</td>\n",
       "      <td>NaN</td>\n",
       "      <td>보석</td>\n",
       "      <td>본  점</td>\n",
       "      <td>2</td>\n",
       "      <td>1.500000</td>\n",
       "      <td>0.000000</td>\n",
       "      <td>85</td>\n",
       "    </tr>\n",
       "    <tr>\n",
       "      <th>...</th>\n",
       "      <td>...</td>\n",
       "      <td>...</td>\n",
       "      <td>...</td>\n",
       "      <td>...</td>\n",
       "      <td>...</td>\n",
       "      <td>...</td>\n",
       "      <td>...</td>\n",
       "      <td>...</td>\n",
       "      <td>...</td>\n",
       "      <td>...</td>\n",
       "    </tr>\n",
       "    <tr>\n",
       "      <th>3495</th>\n",
       "      <td>3495</td>\n",
       "      <td>3175200</td>\n",
       "      <td>3042900</td>\n",
       "      <td>NaN</td>\n",
       "      <td>골프</td>\n",
       "      <td>본  점</td>\n",
       "      <td>1</td>\n",
       "      <td>2.000000</td>\n",
       "      <td>1.000000</td>\n",
       "      <td>0</td>\n",
       "    </tr>\n",
       "    <tr>\n",
       "      <th>3496</th>\n",
       "      <td>3496</td>\n",
       "      <td>29628600</td>\n",
       "      <td>7200000</td>\n",
       "      <td>6049600.0</td>\n",
       "      <td>시티웨어</td>\n",
       "      <td>부산본점</td>\n",
       "      <td>8</td>\n",
       "      <td>1.625000</td>\n",
       "      <td>0.461538</td>\n",
       "      <td>40</td>\n",
       "    </tr>\n",
       "    <tr>\n",
       "      <th>3497</th>\n",
       "      <td>3497</td>\n",
       "      <td>75000</td>\n",
       "      <td>75000</td>\n",
       "      <td>NaN</td>\n",
       "      <td>주방용품</td>\n",
       "      <td>창원점</td>\n",
       "      <td>1</td>\n",
       "      <td>1.000000</td>\n",
       "      <td>0.000000</td>\n",
       "      <td>0</td>\n",
       "    </tr>\n",
       "    <tr>\n",
       "      <th>3498</th>\n",
       "      <td>3498</td>\n",
       "      <td>1875000</td>\n",
       "      <td>1000000</td>\n",
       "      <td>NaN</td>\n",
       "      <td>화장품</td>\n",
       "      <td>본  점</td>\n",
       "      <td>2</td>\n",
       "      <td>1.000000</td>\n",
       "      <td>0.000000</td>\n",
       "      <td>39</td>\n",
       "    </tr>\n",
       "    <tr>\n",
       "      <th>3499</th>\n",
       "      <td>3499</td>\n",
       "      <td>263101550</td>\n",
       "      <td>34632000</td>\n",
       "      <td>5973000.0</td>\n",
       "      <td>기타</td>\n",
       "      <td>본  점</td>\n",
       "      <td>38</td>\n",
       "      <td>2.421053</td>\n",
       "      <td>0.467391</td>\n",
       "      <td>8</td>\n",
       "    </tr>\n",
       "  </tbody>\n",
       "</table>\n",
       "<p>3500 rows × 10 columns</p>\n",
       "</div>"
      ],
      "text/plain": [
       "      cust_id       총구매액     최대구매액       환불금액   주구매상품 주구매지점  내점일수   내점당구매건수  \\\n",
       "0           0   68282840  11264000  6860000.0      기타   강남점    19  3.894737   \n",
       "1           1    2136000   2136000   300000.0     스포츠   잠실점     2  1.500000   \n",
       "2           2    3197000   1639000        NaN  남성 캐주얼   관악점     2  2.000000   \n",
       "3           3   16077620   4935000        NaN      기타   광주점    18  2.444444   \n",
       "4           4   29050000  24000000        NaN      보석  본  점     2  1.500000   \n",
       "...       ...        ...       ...        ...     ...   ...   ...       ...   \n",
       "3495     3495    3175200   3042900        NaN      골프  본  점     1  2.000000   \n",
       "3496     3496   29628600   7200000  6049600.0    시티웨어  부산본점     8  1.625000   \n",
       "3497     3497      75000     75000        NaN    주방용품   창원점     1  1.000000   \n",
       "3498     3498    1875000   1000000        NaN     화장품  본  점     2  1.000000   \n",
       "3499     3499  263101550  34632000  5973000.0      기타  본  점    38  2.421053   \n",
       "\n",
       "        주말방문비율  구매주기  \n",
       "0     0.527027    17  \n",
       "1     0.000000     1  \n",
       "2     0.000000     1  \n",
       "3     0.318182    16  \n",
       "4     0.000000    85  \n",
       "...        ...   ...  \n",
       "3495  1.000000     0  \n",
       "3496  0.461538    40  \n",
       "3497  0.000000     0  \n",
       "3498  0.000000    39  \n",
       "3499  0.467391     8  \n",
       "\n",
       "[3500 rows x 10 columns]"
      ]
     },
     "execution_count": 42,
     "metadata": {},
     "output_type": "execute_result"
    }
   ],
   "source": [
    "X"
   ]
  },
  {
   "cell_type": "code",
   "execution_count": 43,
   "id": "295b6a24",
   "metadata": {},
   "outputs": [
    {
     "data": {
      "text/plain": [
       "0       0\n",
       "1       0\n",
       "2       1\n",
       "3       1\n",
       "4       0\n",
       "       ..\n",
       "3495    1\n",
       "3496    1\n",
       "3497    0\n",
       "3498    0\n",
       "3499    0\n",
       "Name: gender, Length: 3500, dtype: int64"
      ]
     },
     "execution_count": 43,
     "metadata": {},
     "output_type": "execute_result"
    }
   ],
   "source": [
    "y"
   ]
  },
  {
   "cell_type": "code",
   "execution_count": 44,
   "id": "eb2f8279",
   "metadata": {
    "scrolled": true
   },
   "outputs": [],
   "source": [
    "X.fillna(0, inplace = True)"
   ]
  },
  {
   "cell_type": "code",
   "execution_count": 45,
   "id": "9d866691",
   "metadata": {},
   "outputs": [],
   "source": [
    "test.fillna(0, inplace = True)"
   ]
  },
  {
   "cell_type": "code",
   "execution_count": 46,
   "id": "372fdb5c",
   "metadata": {},
   "outputs": [],
   "source": [
    "X.drop(['cust_id', '주구매상품', '주구매지점'], axis = 1, inplace = True)"
   ]
  },
  {
   "cell_type": "code",
   "execution_count": 47,
   "id": "5cbafd88",
   "metadata": {},
   "outputs": [],
   "source": [
    "test.drop(['cust_id', '주구매상품', '주구매지점'], axis = 1, inplace = True)"
   ]
  },
  {
   "cell_type": "code",
   "execution_count": 48,
   "id": "59a7dafb",
   "metadata": {},
   "outputs": [],
   "source": [
    "from sklearn.model_selection import StratifiedKFold\n",
    "from sklearn.ensemble import RandomForestClassifier\n",
    "from sklearn.metrics import roc_auc_score\n",
    "import numpy as np"
   ]
  },
  {
   "cell_type": "code",
   "execution_count": 49,
   "id": "1b36c129",
   "metadata": {},
   "outputs": [],
   "source": [
    "skf = StratifiedKFold(n_splits = 10, random_state = 42, shuffle = True)"
   ]
  },
  {
   "cell_type": "markdown",
   "id": "d8ebac51",
   "metadata": {},
   "source": [
    "10fold로 나누었기 때문에 각 fold에는 데이터가 350개씩 들어간다."
   ]
  },
  {
   "cell_type": "code",
   "execution_count": 50,
   "id": "b0036376",
   "metadata": {},
   "outputs": [],
   "source": [
    "rf_pred = np.zeros((test.shape[0]))"
   ]
  },
  {
   "cell_type": "code",
   "execution_count": 51,
   "id": "085c5a0d",
   "metadata": {
    "scrolled": true
   },
   "outputs": [
    {
     "data": {
      "text/plain": [
       "array([0., 0., 0., ..., 0., 0., 0.])"
      ]
     },
     "execution_count": 51,
     "metadata": {},
     "output_type": "execute_result"
    }
   ],
   "source": [
    "rf_pred"
   ]
  },
  {
   "cell_type": "markdown",
   "id": "bc51548c",
   "metadata": {},
   "source": [
    "예측값으로 치환하기 위해 틀을 만들어둔다."
   ]
  },
  {
   "cell_type": "code",
   "execution_count": 52,
   "id": "125fa677",
   "metadata": {},
   "outputs": [
    {
     "data": {
      "text/plain": [
       "2482"
      ]
     },
     "execution_count": 52,
     "metadata": {},
     "output_type": "execute_result"
    }
   ],
   "source": [
    "len(rf_pred)"
   ]
  },
  {
   "cell_type": "code",
   "execution_count": 53,
   "id": "589074ed",
   "metadata": {
    "scrolled": false
   },
   "outputs": [
    {
     "data": {
      "text/plain": [
       "2482"
      ]
     },
     "execution_count": 53,
     "metadata": {},
     "output_type": "execute_result"
    }
   ],
   "source": [
    "test.shape[0]"
   ]
  },
  {
   "cell_type": "code",
   "execution_count": 54,
   "id": "dde86d40",
   "metadata": {},
   "outputs": [
    {
     "name": "stdout",
     "output_type": "stream",
     "text": [
      "[0 1 2 3 4 5 6 7 8 9] [16 17 26 34 38 46 57 66 67 69] \n",
      "\n",
      "[ 2  3  4  5  6  7  8  9 10 11] [ 0  1 25 28 30 50 53 83 89 92] \n",
      "\n",
      "[ 0  1  2  3  7  8  9 11 13 14] [ 4  5  6 10 12 41 45 47 55 62] \n",
      "\n",
      "[ 0  1  3  4  5  6  7  8  9 10] [  2  40  65  90  96  97  99 120 144 151] \n",
      "\n",
      "[0 1 2 3 4 5 6 7 8 9] [ 27  44  48  54  64  72  75  77  85 102] \n",
      "\n",
      "[ 0  1  2  3  4  5  6  7  9 10] [ 8 11 20 21 33 60 63 73 81 86] \n",
      "\n",
      "[ 0  1  2  4  5  6  7  8 10 11] [ 3  9 19 23 32 43 58 74 78 79] \n",
      "\n",
      "[0 1 2 3 4 5 6 7 8 9] [15 35 36 39 51 59 68 80 82 95] \n",
      "\n",
      "[0 1 2 3 4 5 6 7 8 9] [14 22 24 31 42 49 52 76 87 91] \n",
      "\n",
      "[ 0  1  2  3  4  5  6  8  9 10] [  7  13  18  29  37  56  61  71  84 105] \n",
      "\n"
     ]
    }
   ],
   "source": [
    "### tr_idx, val_idx는 학습데이터에 대해 각각 학습용, 검증용을 의미한다.\n",
    "### 10fold로 지정해두었기 때문에 학습용 : 3150개, 검증용 : 350개\n",
    "for tr_idx, val_idx in skf.split(X, y) :\n",
    "    #print(f'학습용 : {len(tr_idx)} / 검증용 : {len(val_idx)}')\n",
    "    print(tr_idx[:10], val_idx[:10], '\\n') # 각 데이터의 인덱스 앞에서 10개 출력"
   ]
  },
  {
   "cell_type": "markdown",
   "id": "913702d2",
   "metadata": {},
   "source": [
    "모델이 사용하는 데이터가 각각 다르므로 독립적인 모델이 10개로 구성되었다."
   ]
  },
  {
   "cell_type": "code",
   "execution_count": 55,
   "id": "41f94ae7",
   "metadata": {},
   "outputs": [],
   "source": [
    "from sklearn.metrics import accuracy_score"
   ]
  },
  {
   "cell_type": "code",
   "execution_count": 57,
   "id": "21ac70c5",
   "metadata": {
    "scrolled": true
   },
   "outputs": [
    {
     "name": "stdout",
     "output_type": "stream",
     "text": [
      "0.6314285714285715\n",
      "0.6657142857142857\n",
      "0.6371428571428571\n",
      "0.6628571428571428\n",
      "0.6114285714285714\n",
      "0.6028571428571429\n",
      "0.5971428571428572\n",
      "0.6\n",
      "0.6142857142857143\n",
      "0.6314285714285715\n"
     ]
    }
   ],
   "source": [
    "rf_pred = np.zeros((test.shape[0]))\n",
    "for tr_idx, val_idx in skf.split(X, y) :\n",
    "    tr_x, tr_y = X.iloc[tr_idx], y.iloc[tr_idx]\n",
    "    val_x, val_y = X.iloc[val_idx], y.iloc[val_idx]\n",
    "    model = RandomForestClassifier(random_state = 42)\n",
    "    model.fit(tr_x, tr_y)\n",
    "    \n",
    "    \n",
    "    val_pred = model.predict_proba(val_x)[:, 1]\n",
    "    \n",
    "    \n",
    "    ###\n",
    "    val_pred = val_pred >= 0.5 # 0.5 이상인 확률 값은 1로 치환 그렇지 않은 확률은 0으로 치환\n",
    "    val_pred = val_pred.astype(int)\n",
    "    ###\n",
    "    \n",
    "    val_score = accuracy_score(val_y, val_pred)\n",
    "    print(val_score)\n",
    "    fold_pred = model.predict_proba(test)[:, 1] / 10\n",
    "    rf_pred += fold_pred"
   ]
  },
  {
   "cell_type": "code",
   "execution_count": 58,
   "id": "a24d873f",
   "metadata": {},
   "outputs": [],
   "source": [
    "from lightgbm import LGBMClassifier"
   ]
  },
  {
   "cell_type": "code",
   "execution_count": 59,
   "id": "efd7d7ad",
   "metadata": {},
   "outputs": [
    {
     "name": "stdout",
     "output_type": "stream",
     "text": [
      "0.6342857142857142\n",
      "0.6228571428571429\n",
      "0.6114285714285714\n",
      "0.6257142857142857\n",
      "0.6371428571428571\n",
      "0.6428571428571429\n",
      "0.5942857142857143\n",
      "0.6228571428571429\n",
      "0.6314285714285715\n",
      "0.6142857142857143\n"
     ]
    }
   ],
   "source": [
    "lgbm_pred = np.zeros((test.shape[0]))\n",
    "for tr_idx, val_idx in skf.split(X, y) :\n",
    "    tr_x, tr_y = X.iloc[tr_idx], y.iloc[tr_idx]\n",
    "    val_x, val_y = X.iloc[val_idx], y.iloc[val_idx]\n",
    "    model = LGBMClassifier(random_state = 42)\n",
    "    model.fit(tr_x, tr_y)\n",
    "    \n",
    "    \n",
    "    val_pred = model.predict_proba(val_x)[:, 1]\n",
    "    \n",
    "    \n",
    "    ###\n",
    "    val_pred = val_pred >= 0.5 # 0.5 이상인 확률 값은 1로 치환 그렇지 않은 확률은 0으로 치환\n",
    "    val_pred = val_pred.astype(int)\n",
    "    ###\n",
    "    \n",
    "    val_score = accuracy_score(val_y, val_pred)\n",
    "    print(val_score)\n",
    "    fold_pred = model.predict_proba(test)[:, 1] / 10\n",
    "    lgbm_pred += fold_pred"
   ]
  },
  {
   "cell_type": "code",
   "execution_count": 61,
   "id": "a779e0fc",
   "metadata": {},
   "outputs": [],
   "source": [
    "ens = (rf_pred + lgbm_pred) / 2"
   ]
  },
  {
   "cell_type": "code",
   "execution_count": 62,
   "id": "77170179",
   "metadata": {},
   "outputs": [],
   "source": [
    "submission['gender'] = ens"
   ]
  },
  {
   "cell_type": "code",
   "execution_count": 64,
   "id": "f3917102",
   "metadata": {},
   "outputs": [
    {
     "data": {
      "text/html": [
       "<div>\n",
       "<style scoped>\n",
       "    .dataframe tbody tr th:only-of-type {\n",
       "        vertical-align: middle;\n",
       "    }\n",
       "\n",
       "    .dataframe tbody tr th {\n",
       "        vertical-align: top;\n",
       "    }\n",
       "\n",
       "    .dataframe thead th {\n",
       "        text-align: right;\n",
       "    }\n",
       "</style>\n",
       "<table border=\"1\" class=\"dataframe\">\n",
       "  <thead>\n",
       "    <tr style=\"text-align: right;\">\n",
       "      <th></th>\n",
       "      <th>custid</th>\n",
       "      <th>gender</th>\n",
       "    </tr>\n",
       "  </thead>\n",
       "  <tbody>\n",
       "    <tr>\n",
       "      <th>0</th>\n",
       "      <td>3500</td>\n",
       "      <td>0.448789</td>\n",
       "    </tr>\n",
       "    <tr>\n",
       "      <th>1</th>\n",
       "      <td>3501</td>\n",
       "      <td>0.162367</td>\n",
       "    </tr>\n",
       "    <tr>\n",
       "      <th>2</th>\n",
       "      <td>3502</td>\n",
       "      <td>0.124466</td>\n",
       "    </tr>\n",
       "    <tr>\n",
       "      <th>3</th>\n",
       "      <td>3503</td>\n",
       "      <td>0.430447</td>\n",
       "    </tr>\n",
       "    <tr>\n",
       "      <th>4</th>\n",
       "      <td>3504</td>\n",
       "      <td>0.381241</td>\n",
       "    </tr>\n",
       "    <tr>\n",
       "      <th>...</th>\n",
       "      <td>...</td>\n",
       "      <td>...</td>\n",
       "    </tr>\n",
       "    <tr>\n",
       "      <th>2477</th>\n",
       "      <td>5977</td>\n",
       "      <td>0.695288</td>\n",
       "    </tr>\n",
       "    <tr>\n",
       "      <th>2478</th>\n",
       "      <td>5978</td>\n",
       "      <td>0.404388</td>\n",
       "    </tr>\n",
       "    <tr>\n",
       "      <th>2479</th>\n",
       "      <td>5979</td>\n",
       "      <td>0.415811</td>\n",
       "    </tr>\n",
       "    <tr>\n",
       "      <th>2480</th>\n",
       "      <td>5980</td>\n",
       "      <td>0.386653</td>\n",
       "    </tr>\n",
       "    <tr>\n",
       "      <th>2481</th>\n",
       "      <td>5981</td>\n",
       "      <td>0.613023</td>\n",
       "    </tr>\n",
       "  </tbody>\n",
       "</table>\n",
       "<p>2482 rows × 2 columns</p>\n",
       "</div>"
      ],
      "text/plain": [
       "      custid    gender\n",
       "0       3500  0.448789\n",
       "1       3501  0.162367\n",
       "2       3502  0.124466\n",
       "3       3503  0.430447\n",
       "4       3504  0.381241\n",
       "...      ...       ...\n",
       "2477    5977  0.695288\n",
       "2478    5978  0.404388\n",
       "2479    5979  0.415811\n",
       "2480    5980  0.386653\n",
       "2481    5981  0.613023\n",
       "\n",
       "[2482 rows x 2 columns]"
      ]
     },
     "execution_count": 64,
     "metadata": {},
     "output_type": "execute_result"
    }
   ],
   "source": [
    "submission"
   ]
  },
  {
   "cell_type": "code",
   "execution_count": 60,
   "id": "2ed9aeb5",
   "metadata": {},
   "outputs": [
    {
     "data": {
      "text/html": [
       "<div>\n",
       "<style scoped>\n",
       "    .dataframe tbody tr th:only-of-type {\n",
       "        vertical-align: middle;\n",
       "    }\n",
       "\n",
       "    .dataframe tbody tr th {\n",
       "        vertical-align: top;\n",
       "    }\n",
       "\n",
       "    .dataframe thead th {\n",
       "        text-align: right;\n",
       "    }\n",
       "</style>\n",
       "<table border=\"1\" class=\"dataframe\">\n",
       "  <thead>\n",
       "    <tr style=\"text-align: right;\">\n",
       "      <th></th>\n",
       "      <th>custid</th>\n",
       "      <th>gender</th>\n",
       "    </tr>\n",
       "  </thead>\n",
       "  <tbody>\n",
       "    <tr>\n",
       "      <th>0</th>\n",
       "      <td>3500</td>\n",
       "      <td>0.469</td>\n",
       "    </tr>\n",
       "    <tr>\n",
       "      <th>1</th>\n",
       "      <td>3501</td>\n",
       "      <td>0.209</td>\n",
       "    </tr>\n",
       "    <tr>\n",
       "      <th>2</th>\n",
       "      <td>3502</td>\n",
       "      <td>0.186</td>\n",
       "    </tr>\n",
       "    <tr>\n",
       "      <th>3</th>\n",
       "      <td>3503</td>\n",
       "      <td>0.481</td>\n",
       "    </tr>\n",
       "    <tr>\n",
       "      <th>4</th>\n",
       "      <td>3504</td>\n",
       "      <td>0.410</td>\n",
       "    </tr>\n",
       "    <tr>\n",
       "      <th>...</th>\n",
       "      <td>...</td>\n",
       "      <td>...</td>\n",
       "    </tr>\n",
       "    <tr>\n",
       "      <th>2477</th>\n",
       "      <td>5977</td>\n",
       "      <td>0.635</td>\n",
       "    </tr>\n",
       "    <tr>\n",
       "      <th>2478</th>\n",
       "      <td>5978</td>\n",
       "      <td>0.171</td>\n",
       "    </tr>\n",
       "    <tr>\n",
       "      <th>2479</th>\n",
       "      <td>5979</td>\n",
       "      <td>0.470</td>\n",
       "    </tr>\n",
       "    <tr>\n",
       "      <th>2480</th>\n",
       "      <td>5980</td>\n",
       "      <td>0.334</td>\n",
       "    </tr>\n",
       "    <tr>\n",
       "      <th>2481</th>\n",
       "      <td>5981</td>\n",
       "      <td>0.608</td>\n",
       "    </tr>\n",
       "  </tbody>\n",
       "</table>\n",
       "<p>2482 rows × 2 columns</p>\n",
       "</div>"
      ],
      "text/plain": [
       "      custid  gender\n",
       "0       3500   0.469\n",
       "1       3501   0.209\n",
       "2       3502   0.186\n",
       "3       3503   0.481\n",
       "4       3504   0.410\n",
       "...      ...     ...\n",
       "2477    5977   0.635\n",
       "2478    5978   0.171\n",
       "2479    5979   0.470\n",
       "2480    5980   0.334\n",
       "2481    5981   0.608\n",
       "\n",
       "[2482 rows x 2 columns]"
      ]
     },
     "execution_count": 60,
     "metadata": {},
     "output_type": "execute_result"
    }
   ],
   "source": [
    "submission['gender'] = ens"
   ]
  },
  {
   "cell_type": "markdown",
   "id": "39fff7f4",
   "metadata": {},
   "source": [
    "### 주의> 분류 문제에서 앙상블을 할 때는 무조건 predict_proba를 한다.\n",
    "- predict -> class를 반환\n",
    "- predict_proba -> probability를 반환\n",
    "\n",
    "***\n",
    "- 하드 방식 : 클래스를 예측하고 앙상블 하는 방법으로 다수결 원리\n",
    "- 소프트 방식 : 확률로 예측하고 앙상블 하는 방법 -> 정확도, precision, recall_score, f1_score, roc_auc_score 다 가능\n",
    "\n",
    "\n",
    "[0, 1, 1, 0, 0, 0, 0, 0, 0, 0]"
   ]
  },
  {
   "cell_type": "code",
   "execution_count": 29,
   "id": "3823bcfc",
   "metadata": {
    "scrolled": false
   },
   "outputs": [
    {
     "data": {
      "text/plain": [
       "array([0.469, 0.209, 0.186, ..., 0.47 , 0.334, 0.608])"
      ]
     },
     "execution_count": 29,
     "metadata": {},
     "output_type": "execute_result"
    }
   ],
   "source": [
    "rf_pred"
   ]
  },
  {
   "cell_type": "code",
   "execution_count": 34,
   "id": "2784684c",
   "metadata": {},
   "outputs": [],
   "source": [
    "submission = pd.DataFrame({'custid' : test.cust_id, 'gender' : rf_pred})"
   ]
  },
  {
   "cell_type": "code",
   "execution_count": 35,
   "id": "824f7806",
   "metadata": {},
   "outputs": [
    {
     "data": {
      "text/html": [
       "<div>\n",
       "<style scoped>\n",
       "    .dataframe tbody tr th:only-of-type {\n",
       "        vertical-align: middle;\n",
       "    }\n",
       "\n",
       "    .dataframe tbody tr th {\n",
       "        vertical-align: top;\n",
       "    }\n",
       "\n",
       "    .dataframe thead th {\n",
       "        text-align: right;\n",
       "    }\n",
       "</style>\n",
       "<table border=\"1\" class=\"dataframe\">\n",
       "  <thead>\n",
       "    <tr style=\"text-align: right;\">\n",
       "      <th></th>\n",
       "      <th>custid</th>\n",
       "      <th>gender</th>\n",
       "    </tr>\n",
       "  </thead>\n",
       "  <tbody>\n",
       "    <tr>\n",
       "      <th>0</th>\n",
       "      <td>3500</td>\n",
       "      <td>0.469</td>\n",
       "    </tr>\n",
       "    <tr>\n",
       "      <th>1</th>\n",
       "      <td>3501</td>\n",
       "      <td>0.209</td>\n",
       "    </tr>\n",
       "    <tr>\n",
       "      <th>2</th>\n",
       "      <td>3502</td>\n",
       "      <td>0.186</td>\n",
       "    </tr>\n",
       "    <tr>\n",
       "      <th>3</th>\n",
       "      <td>3503</td>\n",
       "      <td>0.481</td>\n",
       "    </tr>\n",
       "    <tr>\n",
       "      <th>4</th>\n",
       "      <td>3504</td>\n",
       "      <td>0.410</td>\n",
       "    </tr>\n",
       "    <tr>\n",
       "      <th>...</th>\n",
       "      <td>...</td>\n",
       "      <td>...</td>\n",
       "    </tr>\n",
       "    <tr>\n",
       "      <th>2477</th>\n",
       "      <td>5977</td>\n",
       "      <td>0.635</td>\n",
       "    </tr>\n",
       "    <tr>\n",
       "      <th>2478</th>\n",
       "      <td>5978</td>\n",
       "      <td>0.171</td>\n",
       "    </tr>\n",
       "    <tr>\n",
       "      <th>2479</th>\n",
       "      <td>5979</td>\n",
       "      <td>0.470</td>\n",
       "    </tr>\n",
       "    <tr>\n",
       "      <th>2480</th>\n",
       "      <td>5980</td>\n",
       "      <td>0.334</td>\n",
       "    </tr>\n",
       "    <tr>\n",
       "      <th>2481</th>\n",
       "      <td>5981</td>\n",
       "      <td>0.608</td>\n",
       "    </tr>\n",
       "  </tbody>\n",
       "</table>\n",
       "<p>2482 rows × 2 columns</p>\n",
       "</div>"
      ],
      "text/plain": [
       "      custid  gender\n",
       "0       3500   0.469\n",
       "1       3501   0.209\n",
       "2       3502   0.186\n",
       "3       3503   0.481\n",
       "4       3504   0.410\n",
       "...      ...     ...\n",
       "2477    5977   0.635\n",
       "2478    5978   0.171\n",
       "2479    5979   0.470\n",
       "2480    5980   0.334\n",
       "2481    5981   0.608\n",
       "\n",
       "[2482 rows x 2 columns]"
      ]
     },
     "execution_count": 35,
     "metadata": {},
     "output_type": "execute_result"
    }
   ],
   "source": [
    "submission"
   ]
  },
  {
   "cell_type": "code",
   "execution_count": 36,
   "id": "76c8d06d",
   "metadata": {},
   "outputs": [],
   "source": [
    "submission.to_csv('sample_submission.csv', index = False)"
   ]
  },
  {
   "cell_type": "code",
   "execution_count": null,
   "id": "dea6212b",
   "metadata": {},
   "outputs": [],
   "source": [
    "rf_pred = rf_pred / 10"
   ]
  },
  {
   "cell_type": "markdown",
   "id": "de1ae0b4",
   "metadata": {},
   "source": [
    "- 1, 2, 3의 평균을 구해라 -> (1 + 2 + 3) / 3 = 2\n",
    "- 1/3 + 2/3 + 3/3 = 2"
   ]
  },
  {
   "cell_type": "markdown",
   "id": "17dff4eb",
   "metadata": {},
   "source": [
    "***\n",
    "### <font color = 'red'> Quiz> 앙상블로 Regression 문제 해결! - price 예측 & 평가지표 : MAE"
   ]
  },
  {
   "cell_type": "code",
   "execution_count": 65,
   "id": "3b1bd3ac",
   "metadata": {},
   "outputs": [],
   "source": [
    "train = pd.read_csv(\"house_sales_train.csv\")\n",
    "test = pd.read_csv('house_sales_test.csv')"
   ]
  },
  {
   "cell_type": "code",
   "execution_count": 68,
   "id": "e43e8649",
   "metadata": {},
   "outputs": [],
   "source": [
    "train = train.iloc[:, 2:]\n",
    "test = test.iloc[:, 2:]"
   ]
  },
  {
   "cell_type": "markdown",
   "id": "ef4e6840",
   "metadata": {},
   "source": [
    "### RandomForest + XGBoost + LightGBM"
   ]
  },
  {
   "cell_type": "code",
   "execution_count": 70,
   "id": "3bedecb5",
   "metadata": {},
   "outputs": [],
   "source": [
    "from sklearn.ensemble import RandomForestRegressor\n",
    "from lightgbm import LGBMRegressor\n",
    "from xgboost import XGBRegressor"
   ]
  },
  {
   "cell_type": "code",
   "execution_count": 71,
   "id": "a1ce2425",
   "metadata": {},
   "outputs": [],
   "source": [
    "rf_pred = np.zeros((test.shape[0]))"
   ]
  },
  {
   "cell_type": "code",
   "execution_count": 74,
   "id": "3f8c5184",
   "metadata": {},
   "outputs": [
    {
     "data": {
      "text/plain": [
       "(6613, 6613)"
      ]
     },
     "execution_count": 74,
     "metadata": {},
     "output_type": "execute_result"
    }
   ],
   "source": [
    "len(rf_pred), test.shape[0]"
   ]
  },
  {
   "cell_type": "code",
   "execution_count": 81,
   "id": "727146d7",
   "metadata": {},
   "outputs": [],
   "source": [
    "from sklearn.model_selection import KFold\n",
    "from sklearn.metrics import mean_absolute_error"
   ]
  },
  {
   "cell_type": "code",
   "execution_count": 76,
   "id": "c0f68c07",
   "metadata": {},
   "outputs": [],
   "source": [
    "kf = KFold(n_splits = 10, random_state = 42, shuffle = True)"
   ]
  },
  {
   "cell_type": "code",
   "execution_count": 78,
   "id": "f71d2234",
   "metadata": {},
   "outputs": [],
   "source": [
    "X = train.drop('price', axis = 1)\n",
    "y = train.price"
   ]
  },
  {
   "cell_type": "code",
   "execution_count": 79,
   "id": "f6a0c4c2",
   "metadata": {},
   "outputs": [],
   "source": [
    "target = test.drop('price', axis = 1)"
   ]
  },
  {
   "cell_type": "code",
   "execution_count": 82,
   "id": "ec476cc1",
   "metadata": {},
   "outputs": [
    {
     "name": "stdout",
     "output_type": "stream",
     "text": [
      "73341.16792414286\n",
      "64378.02854652958\n",
      "68901.5862498148\n",
      "68793.34251000002\n",
      "77823.88373585715\n",
      "71763.55813657143\n",
      "73478.30539715874\n",
      "67977.45308170898\n",
      "73384.17159203174\n",
      "65563.01347101587\n"
     ]
    }
   ],
   "source": [
    "for tr_idx, val_idx in kf.split(X, y) :\n",
    "    tr_x, tr_y = X.iloc[tr_idx], y.iloc[tr_idx]\n",
    "    val_x, val_y = X.iloc[val_idx], y.iloc[val_idx]\n",
    "    \n",
    "    rf = RandomForestRegressor(random_state = 42)\n",
    "    \n",
    "    rf.fit(tr_x, tr_y)\n",
    "    \n",
    "    val_pred = rf.predict(val_x)\n",
    "    val_mae = mean_absolute_error(val_y, val_pred)\n",
    "    print(val_mae)\n",
    "    \n",
    "    fold_pred = rf.predict(target) / 10\n",
    "    rf_pred += fold_pred"
   ]
  },
  {
   "cell_type": "markdown",
   "id": "2f449564",
   "metadata": {},
   "source": [
    "### LGBM"
   ]
  },
  {
   "cell_type": "code",
   "execution_count": 85,
   "id": "d54df6dd",
   "metadata": {},
   "outputs": [],
   "source": [
    "lgbm_pred = np.zeros((target.shape[0]))\n",
    "mae_list = []"
   ]
  },
  {
   "cell_type": "code",
   "execution_count": 100,
   "id": "c7ced854",
   "metadata": {},
   "outputs": [
    {
     "name": "stdout",
     "output_type": "stream",
     "text": [
      "72678.6988325384\n",
      "63464.38847128298\n",
      "65716.3684644482\n",
      "66087.59761285775\n",
      "72313.0572630867\n",
      "67760.88870545494\n",
      "70584.55262242688\n",
      "65135.567493456016\n",
      "70372.18188371092\n",
      "63502.88117387171\n"
     ]
    }
   ],
   "source": [
    "for tr_idx, val_idx in kf.split(X, y) :\n",
    "    tr_x, tr_y = X.iloc[tr_idx], y.iloc[tr_idx]\n",
    "    val_x, val_y = X.iloc[val_idx], y.iloc[val_idx]\n",
    "    \n",
    "    lgbm = LGBMRegressor(random_state = 42)\n",
    "    \n",
    "    lgbm.fit(tr_x, tr_y)\n",
    "    \n",
    "    val_pred = lgbm.predict(val_x)\n",
    "    val_mae = mean_absolute_error(val_y, val_pred)\n",
    "    print(val_mae)\n",
    "    mae_list.append(val_mae)\n",
    "    \n",
    "    fold_pred = lgbm.predict(target) / 10\n",
    "    lgbm_pred += fold_pred"
   ]
  },
  {
   "cell_type": "code",
   "execution_count": 101,
   "id": "47369998",
   "metadata": {
    "scrolled": true
   },
   "outputs": [
    {
     "data": {
      "text/plain": [
       "68344.08318956819"
      ]
     },
     "execution_count": 101,
     "metadata": {},
     "output_type": "execute_result"
    }
   ],
   "source": [
    "np.mean(mae_list)"
   ]
  },
  {
   "cell_type": "markdown",
   "id": "23da90fc",
   "metadata": {},
   "source": [
    "### XGBoost"
   ]
  },
  {
   "cell_type": "code",
   "execution_count": 95,
   "id": "ee09f4d2",
   "metadata": {},
   "outputs": [],
   "source": [
    "xgb_pred = np.zeros((target.shape[0]))\n",
    "mae_list = []"
   ]
  },
  {
   "cell_type": "code",
   "execution_count": 96,
   "id": "d142804e",
   "metadata": {},
   "outputs": [
    {
     "name": "stdout",
     "output_type": "stream",
     "text": [
      "70546.39083854167\n",
      "63967.39294791667\n",
      "67513.69255208333\n",
      "68129.62514583333\n",
      "75464.90358333333\n",
      "71663.354578125\n",
      "71124.68770833334\n",
      "65147.80371875\n",
      "70971.4149453125\n",
      "64736.21525\n"
     ]
    }
   ],
   "source": [
    "for tr_idx, val_idx in kf.split(X, y) :\n",
    "    tr_x, tr_y = X.iloc[tr_idx], y.iloc[tr_idx]\n",
    "    val_x, val_y = X.iloc[val_idx], y.iloc[val_idx]\n",
    "    \n",
    "    xgb = XGBRegressor(random_state = 42)\n",
    "    \n",
    "    xgb.fit(tr_x, tr_y)\n",
    "    \n",
    "    val_pred = xgb.predict(val_x)\n",
    "    val_mae = mean_absolute_error(val_y, val_pred)\n",
    "    print(val_mae)\n",
    "    mae_list.append(val_mae)\n",
    "    \n",
    "    fold_pred = xgb.predict(target) / 10\n",
    "    xgb_pred += fold_pred"
   ]
  },
  {
   "cell_type": "code",
   "execution_count": 99,
   "id": "ef4a5114",
   "metadata": {
    "scrolled": true
   },
   "outputs": [
    {
     "data": {
      "text/plain": [
       "68926.54812682292"
      ]
     },
     "execution_count": 99,
     "metadata": {},
     "output_type": "execute_result"
    }
   ],
   "source": [
    "np.mean(mae_list)"
   ]
  },
  {
   "cell_type": "code",
   "execution_count": 91,
   "id": "67f9b1d5",
   "metadata": {},
   "outputs": [],
   "source": [
    "final_pred = (rf_pred + lgbm_pred + xgb_pred) / 3"
   ]
  },
  {
   "cell_type": "code",
   "execution_count": 93,
   "id": "0d545298",
   "metadata": {},
   "outputs": [],
   "source": [
    "test['prediction'] = final_pred"
   ]
  },
  {
   "cell_type": "code",
   "execution_count": 94,
   "id": "973d64c9",
   "metadata": {},
   "outputs": [
    {
     "data": {
      "text/plain": [
       "64092.57481471857"
      ]
     },
     "execution_count": 94,
     "metadata": {},
     "output_type": "execute_result"
    }
   ],
   "source": [
    "mean_absolute_error(test['price'], test['prediction'])"
   ]
  }
 ],
 "metadata": {
  "kernelspec": {
   "display_name": "Python 3",
   "language": "python",
   "name": "python3"
  },
  "language_info": {
   "codemirror_mode": {
    "name": "ipython",
    "version": 3
   },
   "file_extension": ".py",
   "mimetype": "text/x-python",
   "name": "python",
   "nbconvert_exporter": "python",
   "pygments_lexer": "ipython3",
   "version": "3.8.8"
  }
 },
 "nbformat": 4,
 "nbformat_minor": 5
}
