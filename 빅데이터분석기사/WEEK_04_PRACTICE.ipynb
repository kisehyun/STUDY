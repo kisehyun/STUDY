{
 "cells": [
  {
   "cell_type": "markdown",
   "id": "f896ace1",
   "metadata": {},
   "source": [
    "# 4주차 과제"
   ]
  },
  {
   "cell_type": "code",
   "execution_count": 3,
   "id": "5ba3686c",
   "metadata": {},
   "outputs": [],
   "source": [
    "import pandas as pd\n",
    "import matplotlib.pyplot as plt\n",
    "import seaborn as sns\n",
    "%matplotlib inline"
   ]
  },
  {
   "cell_type": "markdown",
   "id": "3a59d06b",
   "metadata": {},
   "source": [
    "# 1번 문제"
   ]
  },
  {
   "cell_type": "code",
   "execution_count": 155,
   "id": "0529824a",
   "metadata": {},
   "outputs": [],
   "source": [
    "train = pd.read_csv('Churn_train.csv')\n",
    "test = pd.read_csv(\"Churn_test.csv\")"
   ]
  },
  {
   "cell_type": "code",
   "execution_count": 156,
   "id": "7fc21285",
   "metadata": {},
   "outputs": [
    {
     "data": {
      "text/plain": [
       "Geography\n",
       "France     0.160236\n",
       "Germany    0.332462\n",
       "Spain      0.169272\n",
       "Name: Exited, dtype: float64"
      ]
     },
     "execution_count": 156,
     "metadata": {},
     "output_type": "execute_result"
    }
   ],
   "source": [
    "train.groupby('Geography').Exited.mean()"
   ]
  },
  {
   "cell_type": "code",
   "execution_count": 157,
   "id": "4b2dc245",
   "metadata": {},
   "outputs": [],
   "source": [
    "train['geo_pred'] = [1 if g == 'Germany' else 0 for g in train['Geography']]"
   ]
  },
  {
   "cell_type": "code",
   "execution_count": 158,
   "id": "6059a844",
   "metadata": {},
   "outputs": [],
   "source": [
    "train = pd.get_dummies(train)"
   ]
  },
  {
   "cell_type": "code",
   "execution_count": 161,
   "id": "9ee6b101",
   "metadata": {},
   "outputs": [],
   "source": [
    "s = pd.DataFrame(scaler.fit_transform(train.iloc[:, -3:]), columns = ['a', 'b', 'c'])"
   ]
  },
  {
   "cell_type": "code",
   "execution_count": 163,
   "id": "dd061a68",
   "metadata": {},
   "outputs": [
    {
     "data": {
      "text/plain": [
       "array([ 1.74445599, -0.57324462])"
      ]
     },
     "execution_count": 163,
     "metadata": {},
     "output_type": "execute_result"
    }
   ],
   "source": [
    "s['a'].unique()"
   ]
  },
  {
   "cell_type": "code",
   "execution_count": 153,
   "id": "daaf3eb1",
   "metadata": {},
   "outputs": [
    {
     "data": {
      "text/html": [
       "<div>\n",
       "<style scoped>\n",
       "    .dataframe tbody tr th:only-of-type {\n",
       "        vertical-align: middle;\n",
       "    }\n",
       "\n",
       "    .dataframe tbody tr th {\n",
       "        vertical-align: top;\n",
       "    }\n",
       "\n",
       "    .dataframe thead th {\n",
       "        text-align: right;\n",
       "    }\n",
       "</style>\n",
       "<table border=\"1\" class=\"dataframe\">\n",
       "  <thead>\n",
       "    <tr style=\"text-align: right;\">\n",
       "      <th></th>\n",
       "      <th>Geography_Spain</th>\n",
       "      <th>Gender_Female</th>\n",
       "      <th>Gender_Male</th>\n",
       "    </tr>\n",
       "  </thead>\n",
       "  <tbody>\n",
       "    <tr>\n",
       "      <th>0</th>\n",
       "      <td>1</td>\n",
       "      <td>1</td>\n",
       "      <td>0</td>\n",
       "    </tr>\n",
       "    <tr>\n",
       "      <th>1</th>\n",
       "      <td>0</td>\n",
       "      <td>1</td>\n",
       "      <td>0</td>\n",
       "    </tr>\n",
       "    <tr>\n",
       "      <th>2</th>\n",
       "      <td>0</td>\n",
       "      <td>1</td>\n",
       "      <td>0</td>\n",
       "    </tr>\n",
       "    <tr>\n",
       "      <th>3</th>\n",
       "      <td>1</td>\n",
       "      <td>1</td>\n",
       "      <td>0</td>\n",
       "    </tr>\n",
       "    <tr>\n",
       "      <th>4</th>\n",
       "      <td>0</td>\n",
       "      <td>1</td>\n",
       "      <td>0</td>\n",
       "    </tr>\n",
       "    <tr>\n",
       "      <th>...</th>\n",
       "      <td>...</td>\n",
       "      <td>...</td>\n",
       "      <td>...</td>\n",
       "    </tr>\n",
       "    <tr>\n",
       "      <th>7495</th>\n",
       "      <td>1</td>\n",
       "      <td>0</td>\n",
       "      <td>1</td>\n",
       "    </tr>\n",
       "    <tr>\n",
       "      <th>7496</th>\n",
       "      <td>1</td>\n",
       "      <td>0</td>\n",
       "      <td>1</td>\n",
       "    </tr>\n",
       "    <tr>\n",
       "      <th>7497</th>\n",
       "      <td>0</td>\n",
       "      <td>0</td>\n",
       "      <td>1</td>\n",
       "    </tr>\n",
       "    <tr>\n",
       "      <th>7498</th>\n",
       "      <td>0</td>\n",
       "      <td>1</td>\n",
       "      <td>0</td>\n",
       "    </tr>\n",
       "    <tr>\n",
       "      <th>7499</th>\n",
       "      <td>0</td>\n",
       "      <td>0</td>\n",
       "      <td>1</td>\n",
       "    </tr>\n",
       "  </tbody>\n",
       "</table>\n",
       "<p>7500 rows × 3 columns</p>\n",
       "</div>"
      ],
      "text/plain": [
       "      Geography_Spain  Gender_Female  Gender_Male\n",
       "0                   1              1            0\n",
       "1                   0              1            0\n",
       "2                   0              1            0\n",
       "3                   1              1            0\n",
       "4                   0              1            0\n",
       "...               ...            ...          ...\n",
       "7495                1              0            1\n",
       "7496                1              0            1\n",
       "7497                0              0            1\n",
       "7498                0              1            0\n",
       "7499                0              0            1\n",
       "\n",
       "[7500 rows x 3 columns]"
      ]
     },
     "execution_count": 153,
     "metadata": {},
     "output_type": "execute_result"
    }
   ],
   "source": [
    "train.iloc[:, -3:]"
   ]
  },
  {
   "cell_type": "code",
   "execution_count": 6,
   "id": "3a8f0030",
   "metadata": {},
   "outputs": [],
   "source": [
    "train.drop(['CustomerId', 'Surname'], axis = 1, inplace = True)\n",
    "test.drop(['CustomerId', 'Surname'], axis = 1, inplace = True)"
   ]
  },
  {
   "cell_type": "markdown",
   "id": "07028808",
   "metadata": {},
   "source": [
    "## 1. Age가 이상치인 데이터의 Balance 표준편차를 구하시오."
   ]
  },
  {
   "cell_type": "code",
   "execution_count": 8,
   "id": "c9bd92ea",
   "metadata": {},
   "outputs": [],
   "source": [
    "import numpy as np"
   ]
  },
  {
   "cell_type": "code",
   "execution_count": 9,
   "id": "fd5b7782",
   "metadata": {},
   "outputs": [],
   "source": [
    "q1 = np.percentile(train['Age'], 25)\n",
    "q3 = np.percentile(train['Age'], 75)"
   ]
  },
  {
   "cell_type": "code",
   "execution_count": 11,
   "id": "6deef1bf",
   "metadata": {
    "scrolled": true
   },
   "outputs": [
    {
     "data": {
      "text/plain": [
       "(32.0, 44.0)"
      ]
     },
     "execution_count": 11,
     "metadata": {},
     "output_type": "execute_result"
    }
   ],
   "source": [
    "q1, q3"
   ]
  },
  {
   "cell_type": "code",
   "execution_count": 12,
   "id": "b9c72e73",
   "metadata": {},
   "outputs": [],
   "source": [
    "iqr = q3 - q1"
   ]
  },
  {
   "cell_type": "code",
   "execution_count": 13,
   "id": "10ac7210",
   "metadata": {},
   "outputs": [],
   "source": [
    "l_b = q1 - 1.5 * iqr\n",
    "u_b = q3 + 1.5 * iqr"
   ]
  },
  {
   "cell_type": "code",
   "execution_count": 16,
   "id": "8a64c148",
   "metadata": {},
   "outputs": [
    {
     "data": {
      "text/plain": [
       "62552.16900161373"
      ]
     },
     "execution_count": 16,
     "metadata": {},
     "output_type": "execute_result"
    }
   ],
   "source": [
    "train[(train['Age'] < l_b) | (train['Age'] > u_b)].Balance.std()"
   ]
  },
  {
   "cell_type": "markdown",
   "id": "75483f46",
   "metadata": {},
   "source": [
    "## 2. Credit Score에 대해 표준화를 실시하고 0.65 보다 큰 데이터의 수를 구하시오."
   ]
  },
  {
   "cell_type": "code",
   "execution_count": 17,
   "id": "b570e6bc",
   "metadata": {},
   "outputs": [],
   "source": [
    "from sklearn.preprocessing import MinMaxScaler"
   ]
  },
  {
   "cell_type": "code",
   "execution_count": 18,
   "id": "7370838d",
   "metadata": {},
   "outputs": [],
   "source": [
    "scaler = MinMaxScaler()"
   ]
  },
  {
   "cell_type": "code",
   "execution_count": 20,
   "id": "e3200982",
   "metadata": {},
   "outputs": [],
   "source": [
    "scaled = scaler.fit_transform(train[['CreditScore']])"
   ]
  },
  {
   "cell_type": "code",
   "execution_count": 22,
   "id": "3609e83b",
   "metadata": {},
   "outputs": [],
   "source": [
    "train['scaled_cs'] = scaled"
   ]
  },
  {
   "cell_type": "code",
   "execution_count": 25,
   "id": "6a65de50",
   "metadata": {},
   "outputs": [
    {
     "data": {
      "text/plain": [
       "3075"
      ]
     },
     "execution_count": 25,
     "metadata": {},
     "output_type": "execute_result"
    }
   ],
   "source": [
    "train[train.scaled_cs > 0.65].shape[0]"
   ]
  },
  {
   "cell_type": "markdown",
   "id": "e80d66a5",
   "metadata": {},
   "source": [
    "## 3. precision 점수를 기준으로 모델링 진행 후 예측값을 도출 후 submission을 제출하시오.\n",
    "\n",
    "- 종속변수 : Exited"
   ]
  },
  {
   "cell_type": "code",
   "execution_count": 27,
   "id": "2bcfe47d",
   "metadata": {
    "scrolled": false
   },
   "outputs": [
    {
     "data": {
      "text/plain": [
       "array(['Spain', 'France', 'Germany'], dtype=object)"
      ]
     },
     "execution_count": 27,
     "metadata": {},
     "output_type": "execute_result"
    }
   ],
   "source": [
    "train.Geography.unique()"
   ]
  },
  {
   "cell_type": "code",
   "execution_count": 30,
   "id": "aa867113",
   "metadata": {},
   "outputs": [],
   "source": [
    "train['Gender'] = [1 if g == 'Male' else 0 for g in train['Gender']]\n",
    "test['Gender'] = [1 if g == 'Male' else 0 for g in test['Gender']]"
   ]
  },
  {
   "cell_type": "code",
   "execution_count": 32,
   "id": "161ef2e7",
   "metadata": {},
   "outputs": [],
   "source": [
    "train = pd.get_dummies(train)\n",
    "test = pd.get_dummies(test)"
   ]
  },
  {
   "cell_type": "code",
   "execution_count": 46,
   "id": "b4dafd04",
   "metadata": {},
   "outputs": [],
   "source": [
    "X = train.drop(['Exited', 'scaled_cs'], axis = 1)\n",
    "y = train.Exited"
   ]
  },
  {
   "cell_type": "code",
   "execution_count": 47,
   "id": "a689f6f0",
   "metadata": {},
   "outputs": [],
   "source": [
    "target = test.drop('Exited', axis = 1)"
   ]
  },
  {
   "cell_type": "code",
   "execution_count": 40,
   "id": "8fa61443",
   "metadata": {},
   "outputs": [],
   "source": [
    "from sklearn.model_selection import StratifiedKFold\n",
    "from lightgbm import LGBMClassifier\n",
    "from xgboost import XGBClassifier\n",
    "from sklearn.metrics import precision_score"
   ]
  },
  {
   "cell_type": "code",
   "execution_count": 38,
   "id": "68460d39",
   "metadata": {},
   "outputs": [],
   "source": [
    "skf = StratifiedKFold(n_splits = 10, shuffle = True, random_state = 42)"
   ]
  },
  {
   "cell_type": "code",
   "execution_count": 74,
   "id": "60f95897",
   "metadata": {},
   "outputs": [],
   "source": [
    "lgbm_pred = np.zeros((target.shape[0]))"
   ]
  },
  {
   "cell_type": "code",
   "execution_count": 75,
   "id": "6919e5e1",
   "metadata": {},
   "outputs": [
    {
     "name": "stdout",
     "output_type": "stream",
     "text": [
      "0.625\n",
      "0.5879120879120879\n",
      "0.6143790849673203\n",
      "0.5934065934065934\n",
      "0.61875\n",
      "0.6358024691358025\n",
      "0.5822784810126582\n",
      "0.6035502958579881\n",
      "0.611764705882353\n",
      "0.6441717791411042\n"
     ]
    }
   ],
   "source": [
    "for tr_idx, val_idx in skf.split(X, y) :\n",
    "    tr_x, tr_y = X.iloc[tr_idx], y.iloc[tr_idx]\n",
    "    val_x, val_y = X.iloc[val_idx], y.iloc[val_idx]\n",
    "    \n",
    "    lgbm = LGBMClassifier(random_state = 42)\n",
    "    \n",
    "    lgbm.fit(tr_x, tr_y)\n",
    "    \n",
    "    val_pred = lgbm.predict_proba(val_x)[:, 1]\n",
    "    val_pred = val_pred > 0.3\n",
    "    val_pred = val_pred.astype(int)\n",
    "    \n",
    "    val_score = precision_score(val_y, val_pred)\n",
    "\n",
    "    print(val_score)\n",
    "    \n",
    "    fold_pred = lgbm.predict_proba(target)[:, 1] / 10\n",
    "    lgbm_pred = fold_pred"
   ]
  },
  {
   "cell_type": "code",
   "execution_count": 76,
   "id": "c3b43cfe",
   "metadata": {},
   "outputs": [],
   "source": [
    "xgb_pred = np.zeros((target.shape[0]))"
   ]
  },
  {
   "cell_type": "code",
   "execution_count": 77,
   "id": "49a22f41",
   "metadata": {
    "scrolled": true
   },
   "outputs": [
    {
     "name": "stderr",
     "output_type": "stream",
     "text": [
      "/opt/anaconda3/lib/python3.8/site-packages/xgboost/sklearn.py:1146: UserWarning: The use of label encoder in XGBClassifier is deprecated and will be removed in a future release. To remove this warning, do the following: 1) Pass option use_label_encoder=False when constructing XGBClassifier object; and 2) Encode your labels (y) as integers starting with 0, i.e. 0, 1, 2, ..., [num_class - 1].\n",
      "  warnings.warn(label_encoder_deprecation_msg, UserWarning)\n"
     ]
    },
    {
     "name": "stdout",
     "output_type": "stream",
     "text": [
      "[22:30:05] WARNING: /Users/travis/build/dmlc/xgboost/src/learner.cc:1095: Starting in XGBoost 1.3.0, the default evaluation metric used with the objective 'binary:logistic' was changed from 'error' to 'logloss'. Explicitly set eval_metric if you'd like to restore the old behavior.\n",
      "0.5925925925925926\n",
      "[22:30:06] WARNING: /Users/travis/build/dmlc/xgboost/src/learner.cc:1095: Starting in XGBoost 1.3.0, the default evaluation metric used with the objective 'binary:logistic' was changed from 'error' to 'logloss'. Explicitly set eval_metric if you'd like to restore the old behavior.\n",
      "0.5555555555555556\n",
      "[22:30:06] WARNING: /Users/travis/build/dmlc/xgboost/src/learner.cc:1095: Starting in XGBoost 1.3.0, the default evaluation metric used with the objective 'binary:logistic' was changed from 'error' to 'logloss'. Explicitly set eval_metric if you'd like to restore the old behavior.\n",
      "0.6266666666666667\n",
      "[22:30:07] WARNING: /Users/travis/build/dmlc/xgboost/src/learner.cc:1095: Starting in XGBoost 1.3.0, the default evaluation metric used with the objective 'binary:logistic' was changed from 'error' to 'logloss'. Explicitly set eval_metric if you'd like to restore the old behavior.\n",
      "0.576271186440678\n",
      "[22:30:07] WARNING: /Users/travis/build/dmlc/xgboost/src/learner.cc:1095: Starting in XGBoost 1.3.0, the default evaluation metric used with the objective 'binary:logistic' was changed from 'error' to 'logloss'. Explicitly set eval_metric if you'd like to restore the old behavior.\n",
      "0.6111111111111112\n",
      "[22:30:07] WARNING: /Users/travis/build/dmlc/xgboost/src/learner.cc:1095: Starting in XGBoost 1.3.0, the default evaluation metric used with the objective 'binary:logistic' was changed from 'error' to 'logloss'. Explicitly set eval_metric if you'd like to restore the old behavior.\n",
      "0.5696969696969697\n",
      "[22:30:08] WARNING: /Users/travis/build/dmlc/xgboost/src/learner.cc:1095: Starting in XGBoost 1.3.0, the default evaluation metric used with the objective 'binary:logistic' was changed from 'error' to 'logloss'. Explicitly set eval_metric if you'd like to restore the old behavior.\n",
      "0.5625\n",
      "[22:30:08] WARNING: /Users/travis/build/dmlc/xgboost/src/learner.cc:1095: Starting in XGBoost 1.3.0, the default evaluation metric used with the objective 'binary:logistic' was changed from 'error' to 'logloss'. Explicitly set eval_metric if you'd like to restore the old behavior.\n",
      "0.5777777777777777\n",
      "[22:30:08] WARNING: /Users/travis/build/dmlc/xgboost/src/learner.cc:1095: Starting in XGBoost 1.3.0, the default evaluation metric used with the objective 'binary:logistic' was changed from 'error' to 'logloss'. Explicitly set eval_metric if you'd like to restore the old behavior.\n",
      "0.608433734939759\n",
      "[22:30:09] WARNING: /Users/travis/build/dmlc/xgboost/src/learner.cc:1095: Starting in XGBoost 1.3.0, the default evaluation metric used with the objective 'binary:logistic' was changed from 'error' to 'logloss'. Explicitly set eval_metric if you'd like to restore the old behavior.\n",
      "0.6265822784810127\n"
     ]
    }
   ],
   "source": [
    "for tr_idx, val_idx in skf.split(X, y) :\n",
    "    tr_x, tr_y = X.iloc[tr_idx], y.iloc[tr_idx]\n",
    "    val_x, val_y = X.iloc[val_idx], y.iloc[val_idx]\n",
    "    \n",
    "    xgb = XGBClassifier(random_state = 42)\n",
    "    \n",
    "    xgb.fit(tr_x, tr_y)\n",
    "    \n",
    "    val_pred = xgb.predict_proba(val_x)[:, 1]\n",
    "    val_pred = val_pred > 0.3\n",
    "    val_pred = val_pred.astype(int)\n",
    "    \n",
    "    val_score = precision_score(val_y, val_pred)\n",
    "\n",
    "    print(val_score)\n",
    "    \n",
    "    fold_pred = xgb.predict_proba(target)[:, 1] / 10\n",
    "    xgb_pred = fold_pred"
   ]
  },
  {
   "cell_type": "code",
   "execution_count": 78,
   "id": "83389a6a",
   "metadata": {},
   "outputs": [
    {
     "data": {
      "text/plain": [
       "array([0.01423773, 0.00714807, 0.00159793, ..., 0.00479249, 0.00591378,\n",
       "       0.00115425])"
      ]
     },
     "execution_count": 78,
     "metadata": {},
     "output_type": "execute_result"
    }
   ],
   "source": [
    "lgbm_pred"
   ]
  },
  {
   "cell_type": "code",
   "execution_count": 79,
   "id": "3d4e8c40",
   "metadata": {},
   "outputs": [
    {
     "data": {
      "text/plain": [
       "array([0.00653323, 0.0025562 , 0.00165315, ..., 0.03253714, 0.00376029,\n",
       "       0.00088756], dtype=float32)"
      ]
     },
     "execution_count": 79,
     "metadata": {},
     "output_type": "execute_result"
    }
   ],
   "source": [
    "xgb_pred"
   ]
  },
  {
   "cell_type": "code",
   "execution_count": 80,
   "id": "a0d4ee2d",
   "metadata": {},
   "outputs": [],
   "source": [
    "final_pred = (xgb_pred + lgbm_pred) / 2"
   ]
  },
  {
   "cell_type": "code",
   "execution_count": 81,
   "id": "bb30326d",
   "metadata": {},
   "outputs": [],
   "source": [
    "final_pred = [1 if p >= 0.5 else 0 for p in final_pred]"
   ]
  },
  {
   "cell_type": "code",
   "execution_count": 82,
   "id": "9bf662e8",
   "metadata": {},
   "outputs": [],
   "source": [
    "submission = pd.DataFrame({'index' : np.arange(2500), 'Exited' : final_pred})"
   ]
  },
  {
   "cell_type": "code",
   "execution_count": 83,
   "id": "e20ff8a5",
   "metadata": {},
   "outputs": [
    {
     "data": {
      "text/plain": [
       "0    2500\n",
       "Name: Exited, dtype: int64"
      ]
     },
     "execution_count": 83,
     "metadata": {},
     "output_type": "execute_result"
    }
   ],
   "source": [
    "submission.Exited.value_counts()"
   ]
  },
  {
   "cell_type": "code",
   "execution_count": 84,
   "id": "6e871ed7",
   "metadata": {},
   "outputs": [],
   "source": [
    "from sklearn.metrics import accuracy_score"
   ]
  },
  {
   "cell_type": "code",
   "execution_count": 85,
   "id": "95b86f3b",
   "metadata": {
    "scrolled": true
   },
   "outputs": [
    {
     "data": {
      "text/plain": [
       "0.8044"
      ]
     },
     "execution_count": 85,
     "metadata": {},
     "output_type": "execute_result"
    }
   ],
   "source": [
    "accuracy_score(test['Exited'], final_pred)"
   ]
  },
  {
   "cell_type": "code",
   "execution_count": 86,
   "id": "2473c728",
   "metadata": {},
   "outputs": [
    {
     "data": {
      "text/plain": [
       "0    5952\n",
       "1    1548\n",
       "Name: Exited, dtype: int64"
      ]
     },
     "execution_count": 86,
     "metadata": {},
     "output_type": "execute_result"
    }
   ],
   "source": [
    "train.Exited.value_counts()"
   ]
  },
  {
   "cell_type": "markdown",
   "id": "74e68e24",
   "metadata": {},
   "source": [
    "***\n",
    "\n",
    "# 2번 문제"
   ]
  },
  {
   "cell_type": "code",
   "execution_count": 113,
   "id": "93904ecf",
   "metadata": {},
   "outputs": [],
   "source": [
    "train = pd.read_csv('nyc_train.csv')\n",
    "test = pd.read_csv('nyc_test.csv')"
   ]
  },
  {
   "cell_type": "code",
   "execution_count": 114,
   "id": "7fa42bd4",
   "metadata": {},
   "outputs": [
    {
     "name": "stdout",
     "output_type": "stream",
     "text": [
      "<class 'pandas.core.frame.DataFrame'>\n",
      "RangeIndex: 65000 entries, 0 to 64999\n",
      "Data columns (total 9 columns):\n",
      " #   Column                     Non-Null Count  Dtype \n",
      "---  ------                     --------------  ----- \n",
      " 0   BLOCK                      65000 non-null  int64 \n",
      " 1   LOT                        65000 non-null  int64 \n",
      " 2   RESIDENTIAL UNITS          65000 non-null  int64 \n",
      " 3   COMMERCIAL UNITS           65000 non-null  int64 \n",
      " 4   TOTAL UNITS                65000 non-null  int64 \n",
      " 5   LAND SQUARE FEET           65000 non-null  object\n",
      " 6   GROSS SQUARE FEET          65000 non-null  object\n",
      " 7   TAX CLASS AT TIME OF SALE  65000 non-null  int64 \n",
      " 8   SALE PRICE                 65000 non-null  int64 \n",
      "dtypes: int64(7), object(2)\n",
      "memory usage: 4.5+ MB\n"
     ]
    }
   ],
   "source": [
    "train.info()"
   ]
  },
  {
   "cell_type": "markdown",
   "id": "9f910ee0",
   "metadata": {},
   "source": [
    "## 1. RESIDENTIAL UNITS을 정규화 한 후 0.7 보다 큰 데이터의 SALE PRICE 평균을 구하시오."
   ]
  },
  {
   "cell_type": "code",
   "execution_count": 115,
   "id": "a36214c9",
   "metadata": {},
   "outputs": [],
   "source": [
    "from sklearn.preprocessing import StandardScaler"
   ]
  },
  {
   "cell_type": "code",
   "execution_count": 116,
   "id": "12418041",
   "metadata": {},
   "outputs": [],
   "source": [
    "scaler = StandardScaler()"
   ]
  },
  {
   "cell_type": "code",
   "execution_count": 117,
   "id": "bba86f84",
   "metadata": {},
   "outputs": [],
   "source": [
    "scaled = scaler.fit_transform(train[['RESIDENTIAL UNITS']])"
   ]
  },
  {
   "cell_type": "code",
   "execution_count": 118,
   "id": "0d03d745",
   "metadata": {},
   "outputs": [],
   "source": [
    "train['scaled_ru'] = scaled"
   ]
  },
  {
   "cell_type": "code",
   "execution_count": 119,
   "id": "3f615776",
   "metadata": {},
   "outputs": [
    {
     "data": {
      "text/plain": [
       "10162272.97368421"
      ]
     },
     "execution_count": 119,
     "metadata": {},
     "output_type": "execute_result"
    }
   ],
   "source": [
    "train[train.scaled_ru > 0.7]['SALE PRICE'].mean()"
   ]
  },
  {
   "cell_type": "markdown",
   "id": "fe402c3a",
   "metadata": {},
   "source": [
    "## 2. MAE 기준으로 모델링 진행 후 예측값 도출 후 submission을 제출하시오."
   ]
  },
  {
   "cell_type": "code",
   "execution_count": 120,
   "id": "2df44bd2",
   "metadata": {},
   "outputs": [],
   "source": [
    "from sklearn.metrics import mean_absolute_error\n",
    "from sklearn.model_selection import KFold\n",
    "from sklearn.ensemble import RandomForestRegressor\n",
    "from lightgbm import LGBMRegressor"
   ]
  },
  {
   "cell_type": "code",
   "execution_count": 121,
   "id": "4a636ff9",
   "metadata": {},
   "outputs": [],
   "source": [
    "train.drop('scaled_ru', axis = 1, inplace = True)"
   ]
  },
  {
   "cell_type": "code",
   "execution_count": 122,
   "id": "4963e9b3",
   "metadata": {},
   "outputs": [
    {
     "data": {
      "text/plain": [
       "BLOCK                         int64\n",
       "LOT                           int64\n",
       "RESIDENTIAL UNITS             int64\n",
       "COMMERCIAL UNITS              int64\n",
       "TOTAL UNITS                   int64\n",
       "LAND SQUARE FEET             object\n",
       "GROSS SQUARE FEET            object\n",
       "TAX CLASS AT TIME OF SALE     int64\n",
       "SALE PRICE                    int64\n",
       "dtype: object"
      ]
     },
     "execution_count": 122,
     "metadata": {},
     "output_type": "execute_result"
    }
   ],
   "source": [
    "train.dtypes"
   ]
  },
  {
   "cell_type": "code",
   "execution_count": 123,
   "id": "3e804f8b",
   "metadata": {},
   "outputs": [
    {
     "data": {
      "text/plain": [
       "BLOCK                         int64\n",
       "LOT                           int64\n",
       "RESIDENTIAL UNITS             int64\n",
       "COMMERCIAL UNITS              int64\n",
       "TOTAL UNITS                   int64\n",
       "LAND SQUARE FEET             object\n",
       "GROSS SQUARE FEET            object\n",
       "TAX CLASS AT TIME OF SALE     int64\n",
       "SALE PRICE                    int64\n",
       "dtype: object"
      ]
     },
     "execution_count": 123,
     "metadata": {},
     "output_type": "execute_result"
    }
   ],
   "source": [
    "test.dtypes"
   ]
  },
  {
   "cell_type": "code",
   "execution_count": 124,
   "id": "bb5ad403",
   "metadata": {},
   "outputs": [],
   "source": [
    "train['LAND SQUARE FEET'] = train['LAND SQUARE FEET'].str.replace(' -  ', '0').astype(float)\n",
    "test['LAND SQUARE FEET'] = test['LAND SQUARE FEET'].str.replace(' -  ', '0').astype(float)"
   ]
  },
  {
   "cell_type": "code",
   "execution_count": 125,
   "id": "9a36612c",
   "metadata": {},
   "outputs": [],
   "source": [
    "train['GROSS SQUARE FEET'] = train['GROSS SQUARE FEET'].str.replace(' -  ', '0').astype(float)\n",
    "test['GROSS SQUARE FEET'] = test['GROSS SQUARE FEET'].str.replace(' -  ', '0').astype(float)"
   ]
  },
  {
   "cell_type": "code",
   "execution_count": 128,
   "id": "1b94bc27",
   "metadata": {},
   "outputs": [],
   "source": [
    "X = train.drop('SALE PRICE', axis = 1)\n",
    "y = train['SALE PRICE']\n",
    "\n",
    "target = test.drop('SALE PRICE', axis = 1)"
   ]
  },
  {
   "cell_type": "code",
   "execution_count": 129,
   "id": "0f433420",
   "metadata": {},
   "outputs": [],
   "source": [
    "rf_pred = np.zeros((target.shape[0]))\n",
    "lgbm_pred = np.zeros((target.shape[0]))"
   ]
  },
  {
   "cell_type": "code",
   "execution_count": 130,
   "id": "0917a3c9",
   "metadata": {},
   "outputs": [],
   "source": [
    "kf = KFold(n_splits = 5, random_state = 42, shuffle = True)"
   ]
  },
  {
   "cell_type": "markdown",
   "id": "4241a340",
   "metadata": {},
   "source": [
    "#### RandomForest"
   ]
  },
  {
   "cell_type": "code",
   "execution_count": 134,
   "id": "d0c6ec84",
   "metadata": {},
   "outputs": [
    {
     "name": "stdout",
     "output_type": "stream",
     "text": [
      "872529.2015056036\n",
      "1039543.3330668787\n",
      "898467.1590540019\n",
      "953099.3934292006\n",
      "862178.2394709871\n"
     ]
    }
   ],
   "source": [
    "for tr_idx, val_idx in kf.split(X, y) :\n",
    "    tr_x, tr_y = X.iloc[tr_idx], y.iloc[tr_idx]\n",
    "    val_x, val_y = X.iloc[val_idx], y.iloc[val_idx]\n",
    "    \n",
    "    rf = RandomForestRegressor(random_state = 42)\n",
    "    \n",
    "    rf.fit(tr_x, tr_y)\n",
    "    \n",
    "    val_pred = rf.predict(val_x)\n",
    "    val_mae = mean_absolute_error(val_y, val_pred)\n",
    "    print(val_mae)\n",
    "    \n",
    "    fold_pred = rf.predict(target) / 5\n",
    "    rf_pred += fold_pred"
   ]
  },
  {
   "cell_type": "markdown",
   "id": "faaf6c16",
   "metadata": {},
   "source": [
    "#### LGBM"
   ]
  },
  {
   "cell_type": "code",
   "execution_count": 135,
   "id": "e338f235",
   "metadata": {},
   "outputs": [
    {
     "name": "stdout",
     "output_type": "stream",
     "text": [
      "1106175.3153369897\n",
      "1085249.5412559914\n",
      "1021898.7398743805\n",
      "1079403.538635477\n",
      "972251.5650724671\n"
     ]
    }
   ],
   "source": [
    "for tr_idx, val_idx in kf.split(X, y) :\n",
    "    tr_x, tr_y = X.iloc[tr_idx], y.iloc[tr_idx]\n",
    "    val_x, val_y = X.iloc[val_idx], y.iloc[val_idx]\n",
    "    \n",
    "    lgbm = LGBMRegressor(random_state = 42)\n",
    "    \n",
    "    lgbm.fit(tr_x, tr_y)\n",
    "    \n",
    "    val_pred = lgbm.predict(val_x)\n",
    "    val_mae = mean_absolute_error(val_y, val_pred)\n",
    "    print(val_mae)\n",
    "    \n",
    "    fold_pred = lgbm.predict(target) / 5\n",
    "    lgbm_pred += fold_pred"
   ]
  },
  {
   "cell_type": "code",
   "execution_count": 136,
   "id": "8d43118c",
   "metadata": {},
   "outputs": [],
   "source": [
    "final_pred = (rf_pred + lgbm_pred) / 2"
   ]
  },
  {
   "cell_type": "code",
   "execution_count": 137,
   "id": "32dac7a3",
   "metadata": {},
   "outputs": [],
   "source": [
    "test['prediction'] = final_pred"
   ]
  },
  {
   "cell_type": "code",
   "execution_count": 139,
   "id": "5d125848",
   "metadata": {},
   "outputs": [
    {
     "data": {
      "text/html": [
       "<div>\n",
       "<style scoped>\n",
       "    .dataframe tbody tr th:only-of-type {\n",
       "        vertical-align: middle;\n",
       "    }\n",
       "\n",
       "    .dataframe tbody tr th {\n",
       "        vertical-align: top;\n",
       "    }\n",
       "\n",
       "    .dataframe thead th {\n",
       "        text-align: right;\n",
       "    }\n",
       "</style>\n",
       "<table border=\"1\" class=\"dataframe\">\n",
       "  <thead>\n",
       "    <tr style=\"text-align: right;\">\n",
       "      <th></th>\n",
       "      <th>SALE PRICE</th>\n",
       "      <th>prediction</th>\n",
       "    </tr>\n",
       "  </thead>\n",
       "  <tbody>\n",
       "    <tr>\n",
       "      <th>0</th>\n",
       "      <td>896500</td>\n",
       "      <td>6.413707e+05</td>\n",
       "    </tr>\n",
       "    <tr>\n",
       "      <th>1</th>\n",
       "      <td>780000</td>\n",
       "      <td>5.665862e+05</td>\n",
       "    </tr>\n",
       "    <tr>\n",
       "      <th>2</th>\n",
       "      <td>150000</td>\n",
       "      <td>3.241794e+05</td>\n",
       "    </tr>\n",
       "    <tr>\n",
       "      <th>3</th>\n",
       "      <td>3125000</td>\n",
       "      <td>3.369441e+06</td>\n",
       "    </tr>\n",
       "    <tr>\n",
       "      <th>4</th>\n",
       "      <td>564000</td>\n",
       "      <td>1.172668e+06</td>\n",
       "    </tr>\n",
       "    <tr>\n",
       "      <th>...</th>\n",
       "      <td>...</td>\n",
       "      <td>...</td>\n",
       "    </tr>\n",
       "    <tr>\n",
       "      <th>4982</th>\n",
       "      <td>1080000</td>\n",
       "      <td>6.381971e+05</td>\n",
       "    </tr>\n",
       "    <tr>\n",
       "      <th>4983</th>\n",
       "      <td>560000</td>\n",
       "      <td>4.649940e+05</td>\n",
       "    </tr>\n",
       "    <tr>\n",
       "      <th>4984</th>\n",
       "      <td>580000</td>\n",
       "      <td>4.647568e+05</td>\n",
       "    </tr>\n",
       "    <tr>\n",
       "      <th>4985</th>\n",
       "      <td>2337164</td>\n",
       "      <td>2.819118e+06</td>\n",
       "    </tr>\n",
       "    <tr>\n",
       "      <th>4986</th>\n",
       "      <td>730000</td>\n",
       "      <td>5.446827e+05</td>\n",
       "    </tr>\n",
       "  </tbody>\n",
       "</table>\n",
       "<p>4987 rows × 2 columns</p>\n",
       "</div>"
      ],
      "text/plain": [
       "      SALE PRICE    prediction\n",
       "0         896500  6.413707e+05\n",
       "1         780000  5.665862e+05\n",
       "2         150000  3.241794e+05\n",
       "3        3125000  3.369441e+06\n",
       "4         564000  1.172668e+06\n",
       "...          ...           ...\n",
       "4982     1080000  6.381971e+05\n",
       "4983      560000  4.649940e+05\n",
       "4984      580000  4.647568e+05\n",
       "4985     2337164  2.819118e+06\n",
       "4986      730000  5.446827e+05\n",
       "\n",
       "[4987 rows x 2 columns]"
      ]
     },
     "execution_count": 139,
     "metadata": {},
     "output_type": "execute_result"
    }
   ],
   "source": [
    "test[['SALE PRICE', 'prediction']]"
   ]
  },
  {
   "cell_type": "code",
   "execution_count": 140,
   "id": "00e3b015",
   "metadata": {},
   "outputs": [
    {
     "data": {
      "text/plain": [
       "850514.7483358108"
      ]
     },
     "execution_count": 140,
     "metadata": {},
     "output_type": "execute_result"
    }
   ],
   "source": [
    "mean_absolute_error(test['SALE PRICE'], test['prediction'])"
   ]
  }
 ],
 "metadata": {
  "kernelspec": {
   "display_name": "Python 3",
   "language": "python",
   "name": "python3"
  },
  "language_info": {
   "codemirror_mode": {
    "name": "ipython",
    "version": 3
   },
   "file_extension": ".py",
   "mimetype": "text/x-python",
   "name": "python",
   "nbconvert_exporter": "python",
   "pygments_lexer": "ipython3",
   "version": "3.8.8"
  }
 },
 "nbformat": 4,
 "nbformat_minor": 5
}
