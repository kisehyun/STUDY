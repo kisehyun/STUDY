{
 "cells": [
  {
   "cell_type": "markdown",
   "id": "02fa67d9",
   "metadata": {},
   "source": [
    "# Machine Learning 실습\n",
    "\n",
    "***\n",
    "\n",
    "## 1. 분류\n",
    "\n",
    "#### Data : store_train, store_test\n",
    "- 성별 예측\n",
    "- accuracy, precision, recall, roc_auc 출력\n",
    "- 5 cross_validation 활용\n",
    "- preprocessing"
   ]
  },
  {
   "cell_type": "code",
   "execution_count": 1,
   "id": "4299f6ef",
   "metadata": {},
   "outputs": [],
   "source": [
    "import pandas as pd"
   ]
  },
  {
   "cell_type": "code",
   "execution_count": null,
   "id": "adc8d07c",
   "metadata": {},
   "outputs": [],
   "source": []
  },
  {
   "cell_type": "code",
   "execution_count": null,
   "id": "f66aab78",
   "metadata": {},
   "outputs": [],
   "source": []
  },
  {
   "cell_type": "markdown",
   "id": "cdfa4afb",
   "metadata": {},
   "source": [
    "## 2. 회귀\n",
    "#### Data : food_train, food_test\n",
    "- 석식인원 예측\n",
    "- rmse, mae, mape 출력\n",
    "- 5 corss validation 활용\n",
    "- preprocessing"
   ]
  },
  {
   "cell_type": "code",
   "execution_count": null,
   "id": "829c09f1",
   "metadata": {},
   "outputs": [],
   "source": []
  }
 ],
 "metadata": {
  "kernelspec": {
   "display_name": "Python 3",
   "language": "python",
   "name": "python3"
  },
  "language_info": {
   "codemirror_mode": {
    "name": "ipython",
    "version": 3
   },
   "file_extension": ".py",
   "mimetype": "text/x-python",
   "name": "python",
   "nbconvert_exporter": "python",
   "pygments_lexer": "ipython3",
   "version": "3.8.8"
  }
 },
 "nbformat": 4,
 "nbformat_minor": 5
}
