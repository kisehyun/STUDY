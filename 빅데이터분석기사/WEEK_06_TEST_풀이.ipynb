{
 "cells": [
  {
   "cell_type": "markdown",
   "id": "69e09e34",
   "metadata": {},
   "source": [
    "# 빅데이터 분석기사 실기 모의고사 2회\n",
    "\n",
    "## 다풀고 파일명에 성함 추가해서 구글드라이브 모의고사 폴더에 올려주세요~ 피드백 해드리겠습니다!!\n",
    "\n",
    "### 각 문제에 필요한 데이터 목록입니다.\n",
    "- 1번 : market_sales_train.csv / market_sales_test.csv / market_submission.csv\n",
    "- 2번 : ing_reg_train.csv / ing_reg_test.csv / ing_reg_submission.csv\n",
    "- 3번 : credit_train.csv / credit_test.csv / credit_submission.csv"
   ]
  },
  {
   "cell_type": "code",
   "execution_count": 2,
   "id": "7a1047b4",
   "metadata": {},
   "outputs": [],
   "source": [
    "import pandas as pd\n",
    "import numpy as np"
   ]
  },
  {
   "cell_type": "markdown",
   "id": "ab213c6e",
   "metadata": {},
   "source": [
    "## 1번 문제\n",
    "### 1-1. Drinks가 포함된 데이터와 Foods가 포함된 데이터의 Sales 평균 차이의 절댓값을 구하시오."
   ]
  },
  {
   "cell_type": "code",
   "execution_count": 113,
   "id": "d981afa6",
   "metadata": {},
   "outputs": [],
   "source": [
    "train = pd.read_csv('market_sales_train.csv')\n",
    "test = pd.read_csv('market_sales_test.csv')"
   ]
  },
  {
   "cell_type": "code",
   "execution_count": 114,
   "id": "ea4ceba0",
   "metadata": {},
   "outputs": [
    {
     "data": {
      "text/html": [
       "<div>\n",
       "<style scoped>\n",
       "    .dataframe tbody tr th:only-of-type {\n",
       "        vertical-align: middle;\n",
       "    }\n",
       "\n",
       "    .dataframe tbody tr th {\n",
       "        vertical-align: top;\n",
       "    }\n",
       "\n",
       "    .dataframe thead th {\n",
       "        text-align: right;\n",
       "    }\n",
       "</style>\n",
       "<table border=\"1\" class=\"dataframe\">\n",
       "  <thead>\n",
       "    <tr style=\"text-align: right;\">\n",
       "      <th></th>\n",
       "      <th>Item_ID</th>\n",
       "      <th>Item_W</th>\n",
       "      <th>Item_Type</th>\n",
       "      <th>Item_MRP</th>\n",
       "      <th>Outlet_ID</th>\n",
       "      <th>Outlet_Year</th>\n",
       "      <th>Outlet_Size</th>\n",
       "      <th>Outlet_Location_Type</th>\n",
       "      <th>Sales</th>\n",
       "    </tr>\n",
       "  </thead>\n",
       "  <tbody>\n",
       "    <tr>\n",
       "      <th>0</th>\n",
       "      <td>NCA30</td>\n",
       "      <td>20.170430</td>\n",
       "      <td>Frozen Foods</td>\n",
       "      <td>120.844444</td>\n",
       "      <td>OUT013</td>\n",
       "      <td>2003</td>\n",
       "      <td>High</td>\n",
       "      <td>Tier 2</td>\n",
       "      <td>5869.131756</td>\n",
       "    </tr>\n",
       "    <tr>\n",
       "      <th>1</th>\n",
       "      <td>FDC33</td>\n",
       "      <td>11.982799</td>\n",
       "      <td>Snack Foods</td>\n",
       "      <td>60.264111</td>\n",
       "      <td>OUT018</td>\n",
       "      <td>1999</td>\n",
       "      <td>Small</td>\n",
       "      <td>Tier 1</td>\n",
       "      <td>4632.940715</td>\n",
       "    </tr>\n",
       "    <tr>\n",
       "      <th>2</th>\n",
       "      <td>FDX16</td>\n",
       "      <td>20.986453</td>\n",
       "      <td>Seafood</td>\n",
       "      <td>126.969853</td>\n",
       "      <td>OUT035</td>\n",
       "      <td>1987</td>\n",
       "      <td>Medium</td>\n",
       "      <td>Tier 3</td>\n",
       "      <td>1458.017835</td>\n",
       "    </tr>\n",
       "    <tr>\n",
       "      <th>3</th>\n",
       "      <td>FDR21</td>\n",
       "      <td>20.527227</td>\n",
       "      <td>Frozen Foods</td>\n",
       "      <td>117.587724</td>\n",
       "      <td>OUT013</td>\n",
       "      <td>2004</td>\n",
       "      <td>High</td>\n",
       "      <td>Tier 3</td>\n",
       "      <td>506.770015</td>\n",
       "    </tr>\n",
       "    <tr>\n",
       "      <th>4</th>\n",
       "      <td>FDU10</td>\n",
       "      <td>19.348810</td>\n",
       "      <td>Frozen Foods</td>\n",
       "      <td>50.235181</td>\n",
       "      <td>OUT046</td>\n",
       "      <td>2004</td>\n",
       "      <td>Small</td>\n",
       "      <td>Tier 2</td>\n",
       "      <td>1680.741132</td>\n",
       "    </tr>\n",
       "  </tbody>\n",
       "</table>\n",
       "</div>"
      ],
      "text/plain": [
       "  Item_ID     Item_W     Item_Type    Item_MRP Outlet_ID  Outlet_Year  \\\n",
       "0   NCA30  20.170430  Frozen Foods  120.844444    OUT013         2003   \n",
       "1   FDC33  11.982799   Snack Foods   60.264111    OUT018         1999   \n",
       "2   FDX16  20.986453       Seafood  126.969853    OUT035         1987   \n",
       "3   FDR21  20.527227  Frozen Foods  117.587724    OUT013         2004   \n",
       "4   FDU10  19.348810  Frozen Foods   50.235181    OUT046         2004   \n",
       "\n",
       "  Outlet_Size Outlet_Location_Type        Sales  \n",
       "0        High               Tier 2  5869.131756  \n",
       "1       Small               Tier 1  4632.940715  \n",
       "2      Medium               Tier 3  1458.017835  \n",
       "3        High               Tier 3   506.770015  \n",
       "4       Small               Tier 2  1680.741132  "
      ]
     },
     "execution_count": 114,
     "metadata": {},
     "output_type": "execute_result"
    }
   ],
   "source": [
    "train.head()"
   ]
  },
  {
   "cell_type": "code",
   "execution_count": 115,
   "id": "54951e97",
   "metadata": {},
   "outputs": [
    {
     "data": {
      "text/plain": [
       "['Baking Goods',\n",
       " 'Breads',\n",
       " 'Breakfast',\n",
       " 'Canned',\n",
       " 'Dairy',\n",
       " 'Frozen Foods',\n",
       " 'Fruits and Vegetables',\n",
       " 'Hard Drinks',\n",
       " 'Health and Hygiene',\n",
       " 'Household',\n",
       " 'Meat',\n",
       " 'Others',\n",
       " 'Seafood',\n",
       " 'Snack Foods',\n",
       " 'Soft Drinks',\n",
       " 'Starchy Foods']"
      ]
     },
     "execution_count": 115,
     "metadata": {},
     "output_type": "execute_result"
    }
   ],
   "source": [
    "sorted(train.Item_Type.unique())"
   ]
  },
  {
   "cell_type": "code",
   "execution_count": 116,
   "id": "50707428",
   "metadata": {},
   "outputs": [
    {
     "data": {
      "text/html": [
       "<div>\n",
       "<style scoped>\n",
       "    .dataframe tbody tr th:only-of-type {\n",
       "        vertical-align: middle;\n",
       "    }\n",
       "\n",
       "    .dataframe tbody tr th {\n",
       "        vertical-align: top;\n",
       "    }\n",
       "\n",
       "    .dataframe thead th {\n",
       "        text-align: right;\n",
       "    }\n",
       "</style>\n",
       "<table border=\"1\" class=\"dataframe\">\n",
       "  <thead>\n",
       "    <tr style=\"text-align: right;\">\n",
       "      <th></th>\n",
       "      <th>Item_ID</th>\n",
       "      <th>Item_W</th>\n",
       "      <th>Item_Type</th>\n",
       "      <th>Item_MRP</th>\n",
       "      <th>Outlet_ID</th>\n",
       "      <th>Outlet_Year</th>\n",
       "      <th>Outlet_Size</th>\n",
       "      <th>Outlet_Location_Type</th>\n",
       "      <th>Sales</th>\n",
       "    </tr>\n",
       "  </thead>\n",
       "  <tbody>\n",
       "    <tr>\n",
       "      <th>0</th>\n",
       "      <td>FDL14</td>\n",
       "      <td>15.886901</td>\n",
       "      <td>Fruits and Vegetables</td>\n",
       "      <td>55.781817</td>\n",
       "      <td>OUT018</td>\n",
       "      <td>2009</td>\n",
       "      <td>High</td>\n",
       "      <td>Tier 3</td>\n",
       "      <td>159.511294</td>\n",
       "    </tr>\n",
       "    <tr>\n",
       "      <th>1</th>\n",
       "      <td>NCZ53</td>\n",
       "      <td>9.882034</td>\n",
       "      <td>Baking Goods</td>\n",
       "      <td>119.007555</td>\n",
       "      <td>OUT035</td>\n",
       "      <td>2004</td>\n",
       "      <td>Small</td>\n",
       "      <td>Tier 1</td>\n",
       "      <td>2185.740777</td>\n",
       "    </tr>\n",
       "    <tr>\n",
       "      <th>2</th>\n",
       "      <td>FDQ58</td>\n",
       "      <td>19.882226</td>\n",
       "      <td>Baking Goods</td>\n",
       "      <td>63.533737</td>\n",
       "      <td>OUT046</td>\n",
       "      <td>1999</td>\n",
       "      <td>Small</td>\n",
       "      <td>Tier 1</td>\n",
       "      <td>6869.656842</td>\n",
       "    </tr>\n",
       "    <tr>\n",
       "      <th>3</th>\n",
       "      <td>FDI15</td>\n",
       "      <td>19.910010</td>\n",
       "      <td>Meat</td>\n",
       "      <td>175.156112</td>\n",
       "      <td>OUT013</td>\n",
       "      <td>2004</td>\n",
       "      <td>High</td>\n",
       "      <td>Tier 1</td>\n",
       "      <td>1712.627669</td>\n",
       "    </tr>\n",
       "    <tr>\n",
       "      <th>4</th>\n",
       "      <td>FDO48</td>\n",
       "      <td>17.991399</td>\n",
       "      <td>Fruits and Vegetables</td>\n",
       "      <td>142.592302</td>\n",
       "      <td>OUT035</td>\n",
       "      <td>2004</td>\n",
       "      <td>Small</td>\n",
       "      <td>Tier 2</td>\n",
       "      <td>2190.852949</td>\n",
       "    </tr>\n",
       "  </tbody>\n",
       "</table>\n",
       "</div>"
      ],
      "text/plain": [
       "  Item_ID     Item_W              Item_Type    Item_MRP Outlet_ID  \\\n",
       "0   FDL14  15.886901  Fruits and Vegetables   55.781817    OUT018   \n",
       "1   NCZ53   9.882034           Baking Goods  119.007555    OUT035   \n",
       "2   FDQ58  19.882226           Baking Goods   63.533737    OUT046   \n",
       "3   FDI15  19.910010                   Meat  175.156112    OUT013   \n",
       "4   FDO48  17.991399  Fruits and Vegetables  142.592302    OUT035   \n",
       "\n",
       "   Outlet_Year Outlet_Size Outlet_Location_Type        Sales  \n",
       "0         2009        High               Tier 3   159.511294  \n",
       "1         2004       Small               Tier 1  2185.740777  \n",
       "2         1999       Small               Tier 1  6869.656842  \n",
       "3         2004        High               Tier 1  1712.627669  \n",
       "4         2004       Small               Tier 2  2190.852949  "
      ]
     },
     "execution_count": 116,
     "metadata": {},
     "output_type": "execute_result"
    }
   ],
   "source": [
    "test.head()"
   ]
  },
  {
   "cell_type": "code",
   "execution_count": 117,
   "id": "c80b46c6",
   "metadata": {},
   "outputs": [
    {
     "data": {
      "text/plain": [
       "(10000, 9)"
      ]
     },
     "execution_count": 117,
     "metadata": {},
     "output_type": "execute_result"
    }
   ],
   "source": [
    "train.shape"
   ]
  },
  {
   "cell_type": "code",
   "execution_count": 118,
   "id": "89d4709b",
   "metadata": {},
   "outputs": [],
   "source": [
    "### 행 추출 조건문에 contains 메서드 사용\n",
    "drinks = train[train.Item_Type.str.contains('Drinks')]\n",
    "foods = train[train.Item_Type.str.contains('Foods')]"
   ]
  },
  {
   "cell_type": "code",
   "execution_count": 119,
   "id": "c1798dc1",
   "metadata": {},
   "outputs": [
    {
     "data": {
      "text/plain": [
       "(993, 9)"
      ]
     },
     "execution_count": 119,
     "metadata": {},
     "output_type": "execute_result"
    }
   ],
   "source": [
    "drinks.shape"
   ]
  },
  {
   "cell_type": "code",
   "execution_count": 120,
   "id": "1e02401c",
   "metadata": {},
   "outputs": [
    {
     "data": {
      "text/plain": [
       "(1801, 9)"
      ]
     },
     "execution_count": 120,
     "metadata": {},
     "output_type": "execute_result"
    }
   ],
   "source": [
    "foods.shape"
   ]
  },
  {
   "cell_type": "code",
   "execution_count": 121,
   "id": "eb0bd0be",
   "metadata": {},
   "outputs": [],
   "source": [
    "dm = drinks.Sales.mean()\n",
    "fm = foods.Sales.mean()"
   ]
  },
  {
   "cell_type": "code",
   "execution_count": 122,
   "id": "d5d14a3b",
   "metadata": {
    "scrolled": true
   },
   "outputs": [
    {
     "data": {
      "text/plain": [
       "14.64527195260348"
      ]
     },
     "execution_count": 122,
     "metadata": {},
     "output_type": "execute_result"
    }
   ],
   "source": [
    "abs(dm - fm)"
   ]
  },
  {
   "cell_type": "code",
   "execution_count": 123,
   "id": "93eee01d",
   "metadata": {},
   "outputs": [
    {
     "data": {
      "text/plain": [
       "Item_Type\n",
       "Frozen Foods     1980.462945\n",
       "Hard Drinks      1931.364032\n",
       "Snack Foods      1946.882220\n",
       "Soft Drinks      1980.533398\n",
       "Starchy Foods    1892.823993\n",
       "Name: Sales, dtype: float64"
      ]
     },
     "execution_count": 123,
     "metadata": {},
     "output_type": "execute_result"
    }
   ],
   "source": [
    "train[train.Item_Type.str.contains('Drinks|Foods')].groupby('Item_Type').Sales.mean()"
   ]
  },
  {
   "cell_type": "markdown",
   "id": "b4e10f40",
   "metadata": {},
   "source": [
    "### 1-2. Item_W에 대해 표준화를 실시하고 0.2 초과 0.45 미만인 데이터의 수를 구하시오."
   ]
  },
  {
   "cell_type": "code",
   "execution_count": 124,
   "id": "e7b9c972",
   "metadata": {},
   "outputs": [],
   "source": [
    "from sklearn.preprocessing import StandardScaler"
   ]
  },
  {
   "cell_type": "code",
   "execution_count": 125,
   "id": "43125d15",
   "metadata": {},
   "outputs": [],
   "source": [
    "scaler = StandardScaler()"
   ]
  },
  {
   "cell_type": "code",
   "execution_count": 126,
   "id": "d6bbc1c2",
   "metadata": {},
   "outputs": [],
   "source": [
    "#train['scaled_iw'] = scaler.fit(train[['Item_W']])\n",
    "#train['scaled_iw'] = scaler.transform(train[['scaled_iw']])\n",
    "\n",
    "train['scaled_iw'] = scaler.fit_transform(train[['Item_W']])"
   ]
  },
  {
   "cell_type": "code",
   "execution_count": 127,
   "id": "8d2802d2",
   "metadata": {},
   "outputs": [
    {
     "name": "stdout",
     "output_type": "stream",
     "text": [
      "0.20177147188789457\n",
      "0.44977220913490346\n"
     ]
    }
   ],
   "source": [
    "print(train[(train.scaled_iw > 0.2) & (train.scaled_iw < 0.45)].scaled_iw.min())\n",
    "print(train[(train.scaled_iw > 0.2) & (train.scaled_iw < 0.45)].scaled_iw.max())"
   ]
  },
  {
   "cell_type": "markdown",
   "id": "f80284ad",
   "metadata": {},
   "source": [
    "#### 정규화를 실시하고 0.2 미만 0.6초과인 데이터의 수를 구하시오."
   ]
  },
  {
   "cell_type": "code",
   "execution_count": 128,
   "id": "63985a2a",
   "metadata": {},
   "outputs": [],
   "source": [
    "from sklearn.preprocessing import MinMaxScaler"
   ]
  },
  {
   "cell_type": "code",
   "execution_count": 129,
   "id": "34f2417c",
   "metadata": {},
   "outputs": [],
   "source": [
    "scaler = MinMaxScaler()"
   ]
  },
  {
   "cell_type": "code",
   "execution_count": 130,
   "id": "01753709",
   "metadata": {},
   "outputs": [],
   "source": [
    "train['scaled_iw'] = scaler.fit_transform(train[['Item_W']])"
   ]
  },
  {
   "cell_type": "code",
   "execution_count": 131,
   "id": "a288cfc8",
   "metadata": {},
   "outputs": [
    {
     "data": {
      "text/plain": [
       "7125"
      ]
     },
     "execution_count": 131,
     "metadata": {},
     "output_type": "execute_result"
    }
   ],
   "source": [
    "train[(train['scaled_iw'] < 0.2) | (train['scaled_iw'] > 0.6)].shape[0]"
   ]
  },
  {
   "cell_type": "markdown",
   "id": "53d6a8a8",
   "metadata": {},
   "source": [
    "### 1-3. Sales를 예측하는 모델링을 수행하시오. test 파일을 활용해 submission을 만들고 result1이라는 파일명으로 저장하시오.\n",
    "- 최소 2개 이상의 모델을 사용할 것.\n",
    "- 1개 이상의 인코딩 방식을 사용할 것. -> 레이블 인코딩, 원-핫 인코딩 등"
   ]
  },
  {
   "cell_type": "code",
   "execution_count": 132,
   "id": "3a5df0b8",
   "metadata": {},
   "outputs": [],
   "source": [
    "train.drop(['Item_ID', 'Outlet_ID', 'scaled_iw'], axis = 1, inplace = True)\n",
    "test.drop(['Item_ID', 'Outlet_ID'], axis = 1, inplace = True)"
   ]
  },
  {
   "cell_type": "code",
   "execution_count": 133,
   "id": "66f53bfe",
   "metadata": {
    "scrolled": true
   },
   "outputs": [
    {
     "data": {
      "text/html": [
       "<div>\n",
       "<style scoped>\n",
       "    .dataframe tbody tr th:only-of-type {\n",
       "        vertical-align: middle;\n",
       "    }\n",
       "\n",
       "    .dataframe tbody tr th {\n",
       "        vertical-align: top;\n",
       "    }\n",
       "\n",
       "    .dataframe thead th {\n",
       "        text-align: right;\n",
       "    }\n",
       "</style>\n",
       "<table border=\"1\" class=\"dataframe\">\n",
       "  <thead>\n",
       "    <tr style=\"text-align: right;\">\n",
       "      <th></th>\n",
       "      <th>Item_W</th>\n",
       "      <th>Item_Type</th>\n",
       "      <th>Item_MRP</th>\n",
       "      <th>Outlet_Year</th>\n",
       "      <th>Outlet_Size</th>\n",
       "      <th>Outlet_Location_Type</th>\n",
       "      <th>Sales</th>\n",
       "    </tr>\n",
       "  </thead>\n",
       "  <tbody>\n",
       "    <tr>\n",
       "      <th>0</th>\n",
       "      <td>20.170430</td>\n",
       "      <td>Frozen Foods</td>\n",
       "      <td>120.844444</td>\n",
       "      <td>2003</td>\n",
       "      <td>High</td>\n",
       "      <td>Tier 2</td>\n",
       "      <td>5869.131756</td>\n",
       "    </tr>\n",
       "    <tr>\n",
       "      <th>1</th>\n",
       "      <td>11.982799</td>\n",
       "      <td>Snack Foods</td>\n",
       "      <td>60.264111</td>\n",
       "      <td>1999</td>\n",
       "      <td>Small</td>\n",
       "      <td>Tier 1</td>\n",
       "      <td>4632.940715</td>\n",
       "    </tr>\n",
       "    <tr>\n",
       "      <th>2</th>\n",
       "      <td>20.986453</td>\n",
       "      <td>Seafood</td>\n",
       "      <td>126.969853</td>\n",
       "      <td>1987</td>\n",
       "      <td>Medium</td>\n",
       "      <td>Tier 3</td>\n",
       "      <td>1458.017835</td>\n",
       "    </tr>\n",
       "    <tr>\n",
       "      <th>3</th>\n",
       "      <td>20.527227</td>\n",
       "      <td>Frozen Foods</td>\n",
       "      <td>117.587724</td>\n",
       "      <td>2004</td>\n",
       "      <td>High</td>\n",
       "      <td>Tier 3</td>\n",
       "      <td>506.770015</td>\n",
       "    </tr>\n",
       "    <tr>\n",
       "      <th>4</th>\n",
       "      <td>19.348810</td>\n",
       "      <td>Frozen Foods</td>\n",
       "      <td>50.235181</td>\n",
       "      <td>2004</td>\n",
       "      <td>Small</td>\n",
       "      <td>Tier 2</td>\n",
       "      <td>1680.741132</td>\n",
       "    </tr>\n",
       "  </tbody>\n",
       "</table>\n",
       "</div>"
      ],
      "text/plain": [
       "      Item_W     Item_Type    Item_MRP  Outlet_Year Outlet_Size  \\\n",
       "0  20.170430  Frozen Foods  120.844444         2003        High   \n",
       "1  11.982799   Snack Foods   60.264111         1999       Small   \n",
       "2  20.986453       Seafood  126.969853         1987      Medium   \n",
       "3  20.527227  Frozen Foods  117.587724         2004        High   \n",
       "4  19.348810  Frozen Foods   50.235181         2004       Small   \n",
       "\n",
       "  Outlet_Location_Type        Sales  \n",
       "0               Tier 2  5869.131756  \n",
       "1               Tier 1  4632.940715  \n",
       "2               Tier 3  1458.017835  \n",
       "3               Tier 3   506.770015  \n",
       "4               Tier 2  1680.741132  "
      ]
     },
     "execution_count": 133,
     "metadata": {},
     "output_type": "execute_result"
    }
   ],
   "source": [
    "train.head()"
   ]
  },
  {
   "cell_type": "markdown",
   "id": "9becaed7",
   "metadata": {},
   "source": [
    "#### 인코딩 -> target encoding -> 모델 학습시 사용한 카테고리 값과 target 값의 정보를 동시에 활용할 수 있다. But, 과대적합 문제 발생 가능."
   ]
  },
  {
   "cell_type": "code",
   "execution_count": 134,
   "id": "06e1cf19",
   "metadata": {},
   "outputs": [
    {
     "data": {
      "text/html": [
       "<div>\n",
       "<style scoped>\n",
       "    .dataframe tbody tr th:only-of-type {\n",
       "        vertical-align: middle;\n",
       "    }\n",
       "\n",
       "    .dataframe tbody tr th {\n",
       "        vertical-align: top;\n",
       "    }\n",
       "\n",
       "    .dataframe thead th {\n",
       "        text-align: right;\n",
       "    }\n",
       "</style>\n",
       "<table border=\"1\" class=\"dataframe\">\n",
       "  <thead>\n",
       "    <tr style=\"text-align: right;\">\n",
       "      <th></th>\n",
       "      <th>Outlet_Size</th>\n",
       "      <th>MEAN</th>\n",
       "    </tr>\n",
       "  </thead>\n",
       "  <tbody>\n",
       "    <tr>\n",
       "      <th>0</th>\n",
       "      <td>High</td>\n",
       "      <td>2048.982242</td>\n",
       "    </tr>\n",
       "    <tr>\n",
       "      <th>1</th>\n",
       "      <td>Medium</td>\n",
       "      <td>1790.008566</td>\n",
       "    </tr>\n",
       "    <tr>\n",
       "      <th>2</th>\n",
       "      <td>Small</td>\n",
       "      <td>1942.009922</td>\n",
       "    </tr>\n",
       "  </tbody>\n",
       "</table>\n",
       "</div>"
      ],
      "text/plain": [
       "  Outlet_Size         MEAN\n",
       "0        High  2048.982242\n",
       "1      Medium  1790.008566\n",
       "2       Small  1942.009922"
      ]
     },
     "execution_count": 134,
     "metadata": {},
     "output_type": "execute_result"
    }
   ],
   "source": [
    "train.groupby('Outlet_Size').Sales.mean().reset_index(name = 'MEAN')"
   ]
  },
  {
   "cell_type": "code",
   "execution_count": 135,
   "id": "75953407",
   "metadata": {},
   "outputs": [],
   "source": [
    "rank_df = train.groupby('Item_Type').Sales.mean().sort_values().reset_index(name = 'rank')"
   ]
  },
  {
   "cell_type": "code",
   "execution_count": 136,
   "id": "7ad5b5fc",
   "metadata": {},
   "outputs": [
    {
     "data": {
      "text/html": [
       "<div>\n",
       "<style scoped>\n",
       "    .dataframe tbody tr th:only-of-type {\n",
       "        vertical-align: middle;\n",
       "    }\n",
       "\n",
       "    .dataframe tbody tr th {\n",
       "        vertical-align: top;\n",
       "    }\n",
       "\n",
       "    .dataframe thead th {\n",
       "        text-align: right;\n",
       "    }\n",
       "</style>\n",
       "<table border=\"1\" class=\"dataframe\">\n",
       "  <thead>\n",
       "    <tr style=\"text-align: right;\">\n",
       "      <th></th>\n",
       "      <th>Item_Type</th>\n",
       "      <th>rank</th>\n",
       "    </tr>\n",
       "  </thead>\n",
       "  <tbody>\n",
       "    <tr>\n",
       "      <th>0</th>\n",
       "      <td>Fruits and Vegetables</td>\n",
       "      <td>1774.536671</td>\n",
       "    </tr>\n",
       "    <tr>\n",
       "      <th>1</th>\n",
       "      <td>Dairy</td>\n",
       "      <td>1837.893671</td>\n",
       "    </tr>\n",
       "    <tr>\n",
       "      <th>2</th>\n",
       "      <td>Health and Hygiene</td>\n",
       "      <td>1848.849437</td>\n",
       "    </tr>\n",
       "    <tr>\n",
       "      <th>3</th>\n",
       "      <td>Canned</td>\n",
       "      <td>1867.114442</td>\n",
       "    </tr>\n",
       "    <tr>\n",
       "      <th>4</th>\n",
       "      <td>Starchy Foods</td>\n",
       "      <td>1892.823993</td>\n",
       "    </tr>\n",
       "    <tr>\n",
       "      <th>5</th>\n",
       "      <td>Household</td>\n",
       "      <td>1903.834241</td>\n",
       "    </tr>\n",
       "    <tr>\n",
       "      <th>6</th>\n",
       "      <td>Others</td>\n",
       "      <td>1915.604061</td>\n",
       "    </tr>\n",
       "    <tr>\n",
       "      <th>7</th>\n",
       "      <td>Hard Drinks</td>\n",
       "      <td>1931.364032</td>\n",
       "    </tr>\n",
       "    <tr>\n",
       "      <th>8</th>\n",
       "      <td>Meat</td>\n",
       "      <td>1938.323359</td>\n",
       "    </tr>\n",
       "    <tr>\n",
       "      <th>9</th>\n",
       "      <td>Snack Foods</td>\n",
       "      <td>1946.882220</td>\n",
       "    </tr>\n",
       "    <tr>\n",
       "      <th>10</th>\n",
       "      <td>Baking Goods</td>\n",
       "      <td>1975.790991</td>\n",
       "    </tr>\n",
       "    <tr>\n",
       "      <th>11</th>\n",
       "      <td>Frozen Foods</td>\n",
       "      <td>1980.462945</td>\n",
       "    </tr>\n",
       "    <tr>\n",
       "      <th>12</th>\n",
       "      <td>Soft Drinks</td>\n",
       "      <td>1980.533398</td>\n",
       "    </tr>\n",
       "    <tr>\n",
       "      <th>13</th>\n",
       "      <td>Breads</td>\n",
       "      <td>2026.796311</td>\n",
       "    </tr>\n",
       "    <tr>\n",
       "      <th>14</th>\n",
       "      <td>Seafood</td>\n",
       "      <td>2026.882727</td>\n",
       "    </tr>\n",
       "    <tr>\n",
       "      <th>15</th>\n",
       "      <td>Breakfast</td>\n",
       "      <td>2112.824947</td>\n",
       "    </tr>\n",
       "  </tbody>\n",
       "</table>\n",
       "</div>"
      ],
      "text/plain": [
       "                Item_Type         rank\n",
       "0   Fruits and Vegetables  1774.536671\n",
       "1                   Dairy  1837.893671\n",
       "2      Health and Hygiene  1848.849437\n",
       "3                  Canned  1867.114442\n",
       "4           Starchy Foods  1892.823993\n",
       "5               Household  1903.834241\n",
       "6                  Others  1915.604061\n",
       "7             Hard Drinks  1931.364032\n",
       "8                    Meat  1938.323359\n",
       "9             Snack Foods  1946.882220\n",
       "10           Baking Goods  1975.790991\n",
       "11           Frozen Foods  1980.462945\n",
       "12            Soft Drinks  1980.533398\n",
       "13                 Breads  2026.796311\n",
       "14                Seafood  2026.882727\n",
       "15              Breakfast  2112.824947"
      ]
     },
     "execution_count": 136,
     "metadata": {},
     "output_type": "execute_result"
    }
   ],
   "source": [
    "rank_df"
   ]
  },
  {
   "cell_type": "code",
   "execution_count": 137,
   "id": "bbeb3926",
   "metadata": {},
   "outputs": [],
   "source": [
    "rank_df['rank'] = [n for n in range(1, 17)]"
   ]
  },
  {
   "cell_type": "code",
   "execution_count": 138,
   "id": "16293366",
   "metadata": {},
   "outputs": [
    {
     "data": {
      "text/html": [
       "<div>\n",
       "<style scoped>\n",
       "    .dataframe tbody tr th:only-of-type {\n",
       "        vertical-align: middle;\n",
       "    }\n",
       "\n",
       "    .dataframe tbody tr th {\n",
       "        vertical-align: top;\n",
       "    }\n",
       "\n",
       "    .dataframe thead th {\n",
       "        text-align: right;\n",
       "    }\n",
       "</style>\n",
       "<table border=\"1\" class=\"dataframe\">\n",
       "  <thead>\n",
       "    <tr style=\"text-align: right;\">\n",
       "      <th></th>\n",
       "      <th>Item_Type</th>\n",
       "      <th>rank</th>\n",
       "    </tr>\n",
       "  </thead>\n",
       "  <tbody>\n",
       "    <tr>\n",
       "      <th>0</th>\n",
       "      <td>Fruits and Vegetables</td>\n",
       "      <td>1</td>\n",
       "    </tr>\n",
       "    <tr>\n",
       "      <th>1</th>\n",
       "      <td>Dairy</td>\n",
       "      <td>2</td>\n",
       "    </tr>\n",
       "    <tr>\n",
       "      <th>2</th>\n",
       "      <td>Health and Hygiene</td>\n",
       "      <td>3</td>\n",
       "    </tr>\n",
       "    <tr>\n",
       "      <th>3</th>\n",
       "      <td>Canned</td>\n",
       "      <td>4</td>\n",
       "    </tr>\n",
       "    <tr>\n",
       "      <th>4</th>\n",
       "      <td>Starchy Foods</td>\n",
       "      <td>5</td>\n",
       "    </tr>\n",
       "    <tr>\n",
       "      <th>5</th>\n",
       "      <td>Household</td>\n",
       "      <td>6</td>\n",
       "    </tr>\n",
       "    <tr>\n",
       "      <th>6</th>\n",
       "      <td>Others</td>\n",
       "      <td>7</td>\n",
       "    </tr>\n",
       "    <tr>\n",
       "      <th>7</th>\n",
       "      <td>Hard Drinks</td>\n",
       "      <td>8</td>\n",
       "    </tr>\n",
       "    <tr>\n",
       "      <th>8</th>\n",
       "      <td>Meat</td>\n",
       "      <td>9</td>\n",
       "    </tr>\n",
       "    <tr>\n",
       "      <th>9</th>\n",
       "      <td>Snack Foods</td>\n",
       "      <td>10</td>\n",
       "    </tr>\n",
       "    <tr>\n",
       "      <th>10</th>\n",
       "      <td>Baking Goods</td>\n",
       "      <td>11</td>\n",
       "    </tr>\n",
       "    <tr>\n",
       "      <th>11</th>\n",
       "      <td>Frozen Foods</td>\n",
       "      <td>12</td>\n",
       "    </tr>\n",
       "    <tr>\n",
       "      <th>12</th>\n",
       "      <td>Soft Drinks</td>\n",
       "      <td>13</td>\n",
       "    </tr>\n",
       "    <tr>\n",
       "      <th>13</th>\n",
       "      <td>Breads</td>\n",
       "      <td>14</td>\n",
       "    </tr>\n",
       "    <tr>\n",
       "      <th>14</th>\n",
       "      <td>Seafood</td>\n",
       "      <td>15</td>\n",
       "    </tr>\n",
       "    <tr>\n",
       "      <th>15</th>\n",
       "      <td>Breakfast</td>\n",
       "      <td>16</td>\n",
       "    </tr>\n",
       "  </tbody>\n",
       "</table>\n",
       "</div>"
      ],
      "text/plain": [
       "                Item_Type  rank\n",
       "0   Fruits and Vegetables     1\n",
       "1                   Dairy     2\n",
       "2      Health and Hygiene     3\n",
       "3                  Canned     4\n",
       "4           Starchy Foods     5\n",
       "5               Household     6\n",
       "6                  Others     7\n",
       "7             Hard Drinks     8\n",
       "8                    Meat     9\n",
       "9             Snack Foods    10\n",
       "10           Baking Goods    11\n",
       "11           Frozen Foods    12\n",
       "12            Soft Drinks    13\n",
       "13                 Breads    14\n",
       "14                Seafood    15\n",
       "15              Breakfast    16"
      ]
     },
     "execution_count": 138,
     "metadata": {},
     "output_type": "execute_result"
    }
   ],
   "source": [
    "rank_df"
   ]
  },
  {
   "cell_type": "code",
   "execution_count": 139,
   "id": "12b544b5",
   "metadata": {},
   "outputs": [],
   "source": [
    "train = pd.merge(train, rank_df, how = 'left')\n",
    "test = pd.merge(test, rank_df, how = 'left')"
   ]
  },
  {
   "cell_type": "code",
   "execution_count": 140,
   "id": "3024cd59",
   "metadata": {},
   "outputs": [],
   "source": [
    "train.drop('Item_Type', axis = 1, inplace = True)\n",
    "test.drop('Item_Type', axis = 1, inplace = True)"
   ]
  },
  {
   "cell_type": "code",
   "execution_count": 142,
   "id": "8d9344f5",
   "metadata": {},
   "outputs": [],
   "source": [
    "### 원핫 인코딩\n",
    "train = pd.get_dummies(train)\n",
    "test = pd.get_dummies(test)"
   ]
  },
  {
   "cell_type": "code",
   "execution_count": 143,
   "id": "62545423",
   "metadata": {},
   "outputs": [],
   "source": [
    "X = train.drop('Sales', axis = 1)\n",
    "y = train.Sales\n",
    "\n",
    "target = test[X.columns]"
   ]
  },
  {
   "cell_type": "code",
   "execution_count": 62,
   "id": "e503858f",
   "metadata": {},
   "outputs": [
    {
     "data": {
      "text/html": [
       "<div>\n",
       "<style scoped>\n",
       "    .dataframe tbody tr th:only-of-type {\n",
       "        vertical-align: middle;\n",
       "    }\n",
       "\n",
       "    .dataframe tbody tr th {\n",
       "        vertical-align: top;\n",
       "    }\n",
       "\n",
       "    .dataframe thead th {\n",
       "        text-align: right;\n",
       "    }\n",
       "</style>\n",
       "<table border=\"1\" class=\"dataframe\">\n",
       "  <thead>\n",
       "    <tr style=\"text-align: right;\">\n",
       "      <th></th>\n",
       "      <th>Item_W</th>\n",
       "      <th>Item_MRP</th>\n",
       "      <th>Outlet_Year</th>\n",
       "      <th>rank</th>\n",
       "      <th>Outlet_Size_High</th>\n",
       "      <th>Outlet_Size_Medium</th>\n",
       "      <th>Outlet_Size_Small</th>\n",
       "      <th>Outlet_Location_Type_Tier 1</th>\n",
       "      <th>Outlet_Location_Type_Tier 2</th>\n",
       "      <th>Outlet_Location_Type_Tier 3</th>\n",
       "    </tr>\n",
       "  </thead>\n",
       "  <tbody>\n",
       "    <tr>\n",
       "      <th>0</th>\n",
       "      <td>20.170430</td>\n",
       "      <td>120.844444</td>\n",
       "      <td>2003</td>\n",
       "      <td>12</td>\n",
       "      <td>1</td>\n",
       "      <td>0</td>\n",
       "      <td>0</td>\n",
       "      <td>0</td>\n",
       "      <td>1</td>\n",
       "      <td>0</td>\n",
       "    </tr>\n",
       "    <tr>\n",
       "      <th>1</th>\n",
       "      <td>11.982799</td>\n",
       "      <td>60.264111</td>\n",
       "      <td>1999</td>\n",
       "      <td>10</td>\n",
       "      <td>0</td>\n",
       "      <td>0</td>\n",
       "      <td>1</td>\n",
       "      <td>1</td>\n",
       "      <td>0</td>\n",
       "      <td>0</td>\n",
       "    </tr>\n",
       "    <tr>\n",
       "      <th>2</th>\n",
       "      <td>20.986453</td>\n",
       "      <td>126.969853</td>\n",
       "      <td>1987</td>\n",
       "      <td>15</td>\n",
       "      <td>0</td>\n",
       "      <td>1</td>\n",
       "      <td>0</td>\n",
       "      <td>0</td>\n",
       "      <td>0</td>\n",
       "      <td>1</td>\n",
       "    </tr>\n",
       "    <tr>\n",
       "      <th>3</th>\n",
       "      <td>20.527227</td>\n",
       "      <td>117.587724</td>\n",
       "      <td>2004</td>\n",
       "      <td>12</td>\n",
       "      <td>1</td>\n",
       "      <td>0</td>\n",
       "      <td>0</td>\n",
       "      <td>0</td>\n",
       "      <td>0</td>\n",
       "      <td>1</td>\n",
       "    </tr>\n",
       "    <tr>\n",
       "      <th>4</th>\n",
       "      <td>19.348810</td>\n",
       "      <td>50.235181</td>\n",
       "      <td>2004</td>\n",
       "      <td>12</td>\n",
       "      <td>0</td>\n",
       "      <td>0</td>\n",
       "      <td>1</td>\n",
       "      <td>0</td>\n",
       "      <td>1</td>\n",
       "      <td>0</td>\n",
       "    </tr>\n",
       "  </tbody>\n",
       "</table>\n",
       "</div>"
      ],
      "text/plain": [
       "      Item_W    Item_MRP  Outlet_Year  rank  Outlet_Size_High  \\\n",
       "0  20.170430  120.844444         2003    12                 1   \n",
       "1  11.982799   60.264111         1999    10                 0   \n",
       "2  20.986453  126.969853         1987    15                 0   \n",
       "3  20.527227  117.587724         2004    12                 1   \n",
       "4  19.348810   50.235181         2004    12                 0   \n",
       "\n",
       "   Outlet_Size_Medium  Outlet_Size_Small  Outlet_Location_Type_Tier 1  \\\n",
       "0                   0                  0                            0   \n",
       "1                   0                  1                            1   \n",
       "2                   1                  0                            0   \n",
       "3                   0                  0                            0   \n",
       "4                   0                  1                            0   \n",
       "\n",
       "   Outlet_Location_Type_Tier 2  Outlet_Location_Type_Tier 3  \n",
       "0                            1                            0  \n",
       "1                            0                            0  \n",
       "2                            0                            1  \n",
       "3                            0                            1  \n",
       "4                            1                            0  "
      ]
     },
     "execution_count": 62,
     "metadata": {},
     "output_type": "execute_result"
    }
   ],
   "source": [
    "X.head()"
   ]
  },
  {
   "cell_type": "code",
   "execution_count": 63,
   "id": "8d02483b",
   "metadata": {},
   "outputs": [
    {
     "data": {
      "text/html": [
       "<div>\n",
       "<style scoped>\n",
       "    .dataframe tbody tr th:only-of-type {\n",
       "        vertical-align: middle;\n",
       "    }\n",
       "\n",
       "    .dataframe tbody tr th {\n",
       "        vertical-align: top;\n",
       "    }\n",
       "\n",
       "    .dataframe thead th {\n",
       "        text-align: right;\n",
       "    }\n",
       "</style>\n",
       "<table border=\"1\" class=\"dataframe\">\n",
       "  <thead>\n",
       "    <tr style=\"text-align: right;\">\n",
       "      <th></th>\n",
       "      <th>Item_W</th>\n",
       "      <th>Item_MRP</th>\n",
       "      <th>Outlet_Year</th>\n",
       "      <th>rank</th>\n",
       "      <th>Outlet_Size_High</th>\n",
       "      <th>Outlet_Size_Medium</th>\n",
       "      <th>Outlet_Size_Small</th>\n",
       "      <th>Outlet_Location_Type_Tier 1</th>\n",
       "      <th>Outlet_Location_Type_Tier 2</th>\n",
       "      <th>Outlet_Location_Type_Tier 3</th>\n",
       "    </tr>\n",
       "  </thead>\n",
       "  <tbody>\n",
       "    <tr>\n",
       "      <th>0</th>\n",
       "      <td>15.886901</td>\n",
       "      <td>55.781817</td>\n",
       "      <td>2009</td>\n",
       "      <td>1</td>\n",
       "      <td>1</td>\n",
       "      <td>0</td>\n",
       "      <td>0</td>\n",
       "      <td>0</td>\n",
       "      <td>0</td>\n",
       "      <td>1</td>\n",
       "    </tr>\n",
       "    <tr>\n",
       "      <th>1</th>\n",
       "      <td>9.882034</td>\n",
       "      <td>119.007555</td>\n",
       "      <td>2004</td>\n",
       "      <td>11</td>\n",
       "      <td>0</td>\n",
       "      <td>0</td>\n",
       "      <td>1</td>\n",
       "      <td>1</td>\n",
       "      <td>0</td>\n",
       "      <td>0</td>\n",
       "    </tr>\n",
       "    <tr>\n",
       "      <th>2</th>\n",
       "      <td>19.882226</td>\n",
       "      <td>63.533737</td>\n",
       "      <td>1999</td>\n",
       "      <td>11</td>\n",
       "      <td>0</td>\n",
       "      <td>0</td>\n",
       "      <td>1</td>\n",
       "      <td>1</td>\n",
       "      <td>0</td>\n",
       "      <td>0</td>\n",
       "    </tr>\n",
       "    <tr>\n",
       "      <th>3</th>\n",
       "      <td>19.910010</td>\n",
       "      <td>175.156112</td>\n",
       "      <td>2004</td>\n",
       "      <td>9</td>\n",
       "      <td>1</td>\n",
       "      <td>0</td>\n",
       "      <td>0</td>\n",
       "      <td>1</td>\n",
       "      <td>0</td>\n",
       "      <td>0</td>\n",
       "    </tr>\n",
       "    <tr>\n",
       "      <th>4</th>\n",
       "      <td>17.991399</td>\n",
       "      <td>142.592302</td>\n",
       "      <td>2004</td>\n",
       "      <td>1</td>\n",
       "      <td>0</td>\n",
       "      <td>0</td>\n",
       "      <td>1</td>\n",
       "      <td>0</td>\n",
       "      <td>1</td>\n",
       "      <td>0</td>\n",
       "    </tr>\n",
       "  </tbody>\n",
       "</table>\n",
       "</div>"
      ],
      "text/plain": [
       "      Item_W    Item_MRP  Outlet_Year  rank  Outlet_Size_High  \\\n",
       "0  15.886901   55.781817         2009     1                 1   \n",
       "1   9.882034  119.007555         2004    11                 0   \n",
       "2  19.882226   63.533737         1999    11                 0   \n",
       "3  19.910010  175.156112         2004     9                 1   \n",
       "4  17.991399  142.592302         2004     1                 0   \n",
       "\n",
       "   Outlet_Size_Medium  Outlet_Size_Small  Outlet_Location_Type_Tier 1  \\\n",
       "0                   0                  0                            0   \n",
       "1                   0                  1                            1   \n",
       "2                   0                  1                            1   \n",
       "3                   0                  0                            1   \n",
       "4                   0                  1                            0   \n",
       "\n",
       "   Outlet_Location_Type_Tier 2  Outlet_Location_Type_Tier 3  \n",
       "0                            0                            1  \n",
       "1                            0                            0  \n",
       "2                            0                            0  \n",
       "3                            0                            0  \n",
       "4                            1                            0  "
      ]
     },
     "execution_count": 63,
     "metadata": {},
     "output_type": "execute_result"
    }
   ],
   "source": [
    "target.head()"
   ]
  },
  {
   "cell_type": "code",
   "execution_count": 64,
   "id": "270116ad",
   "metadata": {},
   "outputs": [],
   "source": [
    "from sklearn.ensemble import RandomForestRegressor\n",
    "from xgboost import XGBRegressor\n",
    "\n",
    "from sklearn.model_selection import KFold\n",
    "from sklearn.metrics import mean_squared_error"
   ]
  },
  {
   "cell_type": "markdown",
   "id": "703b46b4",
   "metadata": {},
   "source": [
    "### 방법1 -> 전체 Fittung"
   ]
  },
  {
   "cell_type": "code",
   "execution_count": 65,
   "id": "312965f2",
   "metadata": {},
   "outputs": [],
   "source": [
    "xgb = XGBRegressor(max_depth = 4, learning_rate = 0.15, n_estimators = 150, random_state = 42)"
   ]
  },
  {
   "cell_type": "code",
   "execution_count": 66,
   "id": "784f5507",
   "metadata": {},
   "outputs": [
    {
     "data": {
      "text/plain": [
       "XGBRegressor(base_score=0.5, booster='gbtree', colsample_bylevel=1,\n",
       "             colsample_bynode=1, colsample_bytree=1, gamma=0, gpu_id=-1,\n",
       "             importance_type='gain', interaction_constraints='',\n",
       "             learning_rate=0.15, max_delta_step=0, max_depth=4,\n",
       "             min_child_weight=1, missing=nan, monotone_constraints='()',\n",
       "             n_estimators=150, n_jobs=8, num_parallel_tree=1, random_state=42,\n",
       "             reg_alpha=0, reg_lambda=1, scale_pos_weight=1, subsample=1,\n",
       "             tree_method='exact', validate_parameters=1, verbosity=None)"
      ]
     },
     "execution_count": 66,
     "metadata": {},
     "output_type": "execute_result"
    }
   ],
   "source": [
    "xgb.fit(X, y)"
   ]
  },
  {
   "cell_type": "code",
   "execution_count": 71,
   "id": "19efad58",
   "metadata": {},
   "outputs": [],
   "source": [
    "xgb_pred = xgb.predict(target)"
   ]
  },
  {
   "cell_type": "code",
   "execution_count": 72,
   "id": "ba81fd2e",
   "metadata": {
    "scrolled": false
   },
   "outputs": [
    {
     "data": {
      "text/plain": [
       "array([1740.7854, 1773.0155, 1903.053 , ..., 1951.94  , 1684.8906,\n",
       "       2048.9817], dtype=float32)"
      ]
     },
     "execution_count": 72,
     "metadata": {},
     "output_type": "execute_result"
    }
   ],
   "source": [
    "xgb_pred"
   ]
  },
  {
   "cell_type": "code",
   "execution_count": 69,
   "id": "0b12eb5b",
   "metadata": {},
   "outputs": [],
   "source": [
    "rf = RandomForestRegressor(random_state = 42, max_depth = 5)"
   ]
  },
  {
   "cell_type": "code",
   "execution_count": 70,
   "id": "a01defdd",
   "metadata": {},
   "outputs": [
    {
     "data": {
      "text/plain": [
       "RandomForestRegressor(max_depth=5, random_state=42)"
      ]
     },
     "execution_count": 70,
     "metadata": {},
     "output_type": "execute_result"
    }
   ],
   "source": [
    "rf.fit(X, y)"
   ]
  },
  {
   "cell_type": "code",
   "execution_count": 73,
   "id": "3859268f",
   "metadata": {},
   "outputs": [],
   "source": [
    "rf_pred = rf.predict(target)"
   ]
  },
  {
   "cell_type": "code",
   "execution_count": 74,
   "id": "21e5a1ee",
   "metadata": {
    "scrolled": true
   },
   "outputs": [
    {
     "data": {
      "text/plain": [
       "array([1617.10960009, 1967.67075475, 1954.76071888, ..., 2004.07655601,\n",
       "       1805.23457135, 1933.82474678])"
      ]
     },
     "execution_count": 74,
     "metadata": {},
     "output_type": "execute_result"
    }
   ],
   "source": [
    "rf_pred"
   ]
  },
  {
   "cell_type": "code",
   "execution_count": 75,
   "id": "84095124",
   "metadata": {},
   "outputs": [],
   "source": [
    "submission = pd.read_csv(\"market_submission.csv\")"
   ]
  },
  {
   "cell_type": "code",
   "execution_count": 76,
   "id": "e9790fa4",
   "metadata": {},
   "outputs": [
    {
     "data": {
      "text/html": [
       "<div>\n",
       "<style scoped>\n",
       "    .dataframe tbody tr th:only-of-type {\n",
       "        vertical-align: middle;\n",
       "    }\n",
       "\n",
       "    .dataframe tbody tr th {\n",
       "        vertical-align: top;\n",
       "    }\n",
       "\n",
       "    .dataframe thead th {\n",
       "        text-align: right;\n",
       "    }\n",
       "</style>\n",
       "<table border=\"1\" class=\"dataframe\">\n",
       "  <thead>\n",
       "    <tr style=\"text-align: right;\">\n",
       "      <th></th>\n",
       "      <th>index</th>\n",
       "      <th>Sales</th>\n",
       "    </tr>\n",
       "  </thead>\n",
       "  <tbody>\n",
       "    <tr>\n",
       "      <th>0</th>\n",
       "      <td>0</td>\n",
       "      <td>0</td>\n",
       "    </tr>\n",
       "    <tr>\n",
       "      <th>1</th>\n",
       "      <td>1</td>\n",
       "      <td>0</td>\n",
       "    </tr>\n",
       "    <tr>\n",
       "      <th>2</th>\n",
       "      <td>2</td>\n",
       "      <td>0</td>\n",
       "    </tr>\n",
       "    <tr>\n",
       "      <th>3</th>\n",
       "      <td>3</td>\n",
       "      <td>0</td>\n",
       "    </tr>\n",
       "    <tr>\n",
       "      <th>4</th>\n",
       "      <td>4</td>\n",
       "      <td>0</td>\n",
       "    </tr>\n",
       "  </tbody>\n",
       "</table>\n",
       "</div>"
      ],
      "text/plain": [
       "   index  Sales\n",
       "0      0      0\n",
       "1      1      0\n",
       "2      2      0\n",
       "3      3      0\n",
       "4      4      0"
      ]
     },
     "execution_count": 76,
     "metadata": {},
     "output_type": "execute_result"
    }
   ],
   "source": [
    "submission.head()"
   ]
  },
  {
   "cell_type": "code",
   "execution_count": 77,
   "id": "f83c2887",
   "metadata": {},
   "outputs": [],
   "source": [
    "submission['Sales'] = (xgb_pred + rf_pred) / 2"
   ]
  },
  {
   "cell_type": "code",
   "execution_count": 78,
   "id": "98ced362",
   "metadata": {},
   "outputs": [
    {
     "data": {
      "text/html": [
       "<div>\n",
       "<style scoped>\n",
       "    .dataframe tbody tr th:only-of-type {\n",
       "        vertical-align: middle;\n",
       "    }\n",
       "\n",
       "    .dataframe tbody tr th {\n",
       "        vertical-align: top;\n",
       "    }\n",
       "\n",
       "    .dataframe thead th {\n",
       "        text-align: right;\n",
       "    }\n",
       "</style>\n",
       "<table border=\"1\" class=\"dataframe\">\n",
       "  <thead>\n",
       "    <tr style=\"text-align: right;\">\n",
       "      <th></th>\n",
       "      <th>index</th>\n",
       "      <th>Sales</th>\n",
       "    </tr>\n",
       "  </thead>\n",
       "  <tbody>\n",
       "    <tr>\n",
       "      <th>0</th>\n",
       "      <td>0</td>\n",
       "      <td>1678.947500</td>\n",
       "    </tr>\n",
       "    <tr>\n",
       "      <th>1</th>\n",
       "      <td>1</td>\n",
       "      <td>1870.343129</td>\n",
       "    </tr>\n",
       "    <tr>\n",
       "      <th>2</th>\n",
       "      <td>2</td>\n",
       "      <td>1928.906849</td>\n",
       "    </tr>\n",
       "    <tr>\n",
       "      <th>3</th>\n",
       "      <td>3</td>\n",
       "      <td>2055.275140</td>\n",
       "    </tr>\n",
       "    <tr>\n",
       "      <th>4</th>\n",
       "      <td>4</td>\n",
       "      <td>1925.631641</td>\n",
       "    </tr>\n",
       "  </tbody>\n",
       "</table>\n",
       "</div>"
      ],
      "text/plain": [
       "   index        Sales\n",
       "0      0  1678.947500\n",
       "1      1  1870.343129\n",
       "2      2  1928.906849\n",
       "3      3  2055.275140\n",
       "4      4  1925.631641"
      ]
     },
     "execution_count": 78,
     "metadata": {},
     "output_type": "execute_result"
    }
   ],
   "source": [
    "submission.head()"
   ]
  },
  {
   "cell_type": "code",
   "execution_count": null,
   "id": "d5a8cd97",
   "metadata": {},
   "outputs": [],
   "source": [
    "#submission.to_csv('result1.csv', index = False)"
   ]
  },
  {
   "cell_type": "markdown",
   "id": "3e30468d",
   "metadata": {},
   "source": [
    "### 방법2 -> Ensemble"
   ]
  },
  {
   "cell_type": "code",
   "execution_count": 79,
   "id": "e3e8ff4a",
   "metadata": {},
   "outputs": [],
   "source": [
    "kf = KFold(n_splits = 10, random_state = 42, shuffle = True)"
   ]
  },
  {
   "cell_type": "code",
   "execution_count": 81,
   "id": "28673601",
   "metadata": {},
   "outputs": [],
   "source": [
    "rf_pred = np.zeros(target.shape[0])\n",
    "xgb_pred = np.zeros(target.shape[0])"
   ]
  },
  {
   "cell_type": "code",
   "execution_count": 82,
   "id": "a020f4f9",
   "metadata": {},
   "outputs": [
    {
     "name": "stdout",
     "output_type": "stream",
     "text": [
      "1325.833222036748\n",
      "1223.6316667307547\n",
      "1291.2954785967584\n",
      "1301.8894988807622\n",
      "1313.120117981553\n",
      "1263.5565250611794\n",
      "1286.5638260371597\n",
      "1253.9737818802766\n",
      "1246.6789536118863\n",
      "1325.7618492396434\n"
     ]
    }
   ],
   "source": [
    "for tr_idx, val_idx in kf.split(X, y) :\n",
    "    tr_x, tr_y = X.iloc[tr_idx], y.iloc[tr_idx]\n",
    "    val_x, val_y = X.iloc[val_idx], y.iloc[val_idx]\n",
    "    \n",
    "    rf = RandomForestRegressor(random_state = 42, max_depth = 4, n_estimators = 150)\n",
    "    rf.fit(tr_x, tr_y)\n",
    "    val_pred = rf.predict(val_x)\n",
    "    rmse = np.sqrt(mean_squared_error(val_y, val_pred)) ### MSE의 제곱근 mean_squared_error(val_y, val_pred) ** 0.5\n",
    "    print(rmse)\n",
    "    \n",
    "    fold_pred = rf.predict(target) / 10\n",
    "    rf_pred += fold_pred"
   ]
  },
  {
   "cell_type": "code",
   "execution_count": 83,
   "id": "ff7ea3f7",
   "metadata": {},
   "outputs": [
    {
     "name": "stdout",
     "output_type": "stream",
     "text": [
      "1327.7184224876933\n",
      "1234.6549492609154\n",
      "1307.5023606689135\n",
      "1305.1775099733488\n",
      "1335.3351192929774\n",
      "1281.8668395332704\n",
      "1296.3155707712785\n",
      "1266.8253338423117\n",
      "1256.9816414769334\n",
      "1341.5389078648855\n"
     ]
    }
   ],
   "source": [
    "for tr_idx, val_idx in kf.split(X, y) :\n",
    "    tr_x, tr_y = X.iloc[tr_idx], y.iloc[tr_idx]\n",
    "    val_x, val_y = X.iloc[val_idx], y.iloc[val_idx]\n",
    "    \n",
    "    xgb = XGBRegressor(random_state = 42, max_depth = 4, n_estimators = 200, learning_rate = 0.1)\n",
    "    xgb.fit(tr_x, tr_y)\n",
    "    val_pred = xgb.predict(val_x)\n",
    "    rmse = np.sqrt(mean_squared_error(val_y, val_pred))\n",
    "    print(rmse)\n",
    "    \n",
    "    fold_pred = xgb.predict(target) / 10\n",
    "    xgb_pred += fold_pred"
   ]
  },
  {
   "cell_type": "code",
   "execution_count": 85,
   "id": "57867588",
   "metadata": {},
   "outputs": [],
   "source": [
    "submission = pd.read_csv('market_submission.csv')"
   ]
  },
  {
   "cell_type": "code",
   "execution_count": 86,
   "id": "0e101ac5",
   "metadata": {},
   "outputs": [],
   "source": [
    "submission['Sales'] = (xgb_pred + rf_pred) / 2"
   ]
  },
  {
   "cell_type": "code",
   "execution_count": 87,
   "id": "c1e60dfa",
   "metadata": {},
   "outputs": [
    {
     "data": {
      "text/html": [
       "<div>\n",
       "<style scoped>\n",
       "    .dataframe tbody tr th:only-of-type {\n",
       "        vertical-align: middle;\n",
       "    }\n",
       "\n",
       "    .dataframe tbody tr th {\n",
       "        vertical-align: top;\n",
       "    }\n",
       "\n",
       "    .dataframe thead th {\n",
       "        text-align: right;\n",
       "    }\n",
       "</style>\n",
       "<table border=\"1\" class=\"dataframe\">\n",
       "  <thead>\n",
       "    <tr style=\"text-align: right;\">\n",
       "      <th></th>\n",
       "      <th>index</th>\n",
       "      <th>Sales</th>\n",
       "    </tr>\n",
       "  </thead>\n",
       "  <tbody>\n",
       "    <tr>\n",
       "      <th>0</th>\n",
       "      <td>0</td>\n",
       "      <td>1621.052463</td>\n",
       "    </tr>\n",
       "    <tr>\n",
       "      <th>1</th>\n",
       "      <td>1</td>\n",
       "      <td>1884.210673</td>\n",
       "    </tr>\n",
       "    <tr>\n",
       "      <th>2</th>\n",
       "      <td>2</td>\n",
       "      <td>1924.204182</td>\n",
       "    </tr>\n",
       "    <tr>\n",
       "      <th>3</th>\n",
       "      <td>3</td>\n",
       "      <td>2068.630467</td>\n",
       "    </tr>\n",
       "    <tr>\n",
       "      <th>4</th>\n",
       "      <td>4</td>\n",
       "      <td>1894.826864</td>\n",
       "    </tr>\n",
       "  </tbody>\n",
       "</table>\n",
       "</div>"
      ],
      "text/plain": [
       "   index        Sales\n",
       "0      0  1621.052463\n",
       "1      1  1884.210673\n",
       "2      2  1924.204182\n",
       "3      3  2068.630467\n",
       "4      4  1894.826864"
      ]
     },
     "execution_count": 87,
     "metadata": {},
     "output_type": "execute_result"
    }
   ],
   "source": [
    "submission.head()"
   ]
  },
  {
   "cell_type": "code",
   "execution_count": 121,
   "id": "82b64e37",
   "metadata": {},
   "outputs": [],
   "source": [
    "#submission.to_csv('result1.csv', index = False)"
   ]
  },
  {
   "cell_type": "code",
   "execution_count": 88,
   "id": "5c7cb4ab",
   "metadata": {},
   "outputs": [],
   "source": [
    "from sklearn.datasets import load_breast_cancer"
   ]
  },
  {
   "cell_type": "code",
   "execution_count": 89,
   "id": "294d8a3a",
   "metadata": {},
   "outputs": [],
   "source": [
    "data = pd.DataFrame(load_breast_cancer().data, columns = load_breast_cancer().feature_names)"
   ]
  },
  {
   "cell_type": "code",
   "execution_count": 91,
   "id": "6f0af988",
   "metadata": {},
   "outputs": [],
   "source": [
    "data['target'] = load_breast_cancer().target"
   ]
  },
  {
   "cell_type": "code",
   "execution_count": 93,
   "id": "34376a69",
   "metadata": {},
   "outputs": [],
   "source": [
    "test = data.sample(69)\n",
    "train = data.query('index not in @test.index')"
   ]
  },
  {
   "cell_type": "code",
   "execution_count": 95,
   "id": "55cec09e",
   "metadata": {},
   "outputs": [],
   "source": [
    "from sklearn.ensemble import RandomForestClassifier"
   ]
  },
  {
   "cell_type": "code",
   "execution_count": 96,
   "id": "6014d34b",
   "metadata": {},
   "outputs": [],
   "source": [
    "rf = RandomForestClassifier(random_state = 42)"
   ]
  },
  {
   "cell_type": "code",
   "execution_count": 97,
   "id": "f9b8cc86",
   "metadata": {},
   "outputs": [],
   "source": [
    "X = train.drop('target', axis = 1)\n",
    "y = train.target\n",
    "\n",
    "target = test[X.columns]"
   ]
  },
  {
   "cell_type": "code",
   "execution_count": 98,
   "id": "88aa2c00",
   "metadata": {},
   "outputs": [
    {
     "data": {
      "text/plain": [
       "RandomForestClassifier(random_state=42)"
      ]
     },
     "execution_count": 98,
     "metadata": {},
     "output_type": "execute_result"
    }
   ],
   "source": [
    "rf.fit(X, y)"
   ]
  },
  {
   "cell_type": "code",
   "execution_count": 99,
   "id": "c89fed13",
   "metadata": {},
   "outputs": [],
   "source": [
    "pred = rf.predict_proba(target)[:, 1]"
   ]
  },
  {
   "cell_type": "code",
   "execution_count": 100,
   "id": "16bc806b",
   "metadata": {},
   "outputs": [
    {
     "data": {
      "text/plain": [
       "array([0.99, 0.  , 0.99, 0.64, 0.89, 1.  , 0.  , 1.  , 1.  , 0.99, 0.98,\n",
       "       0.84, 0.99, 0.95, 0.99, 0.93, 1.  , 0.54, 1.  , 0.94, 0.57, 0.  ,\n",
       "       0.99, 0.9 , 0.21, 0.06, 0.  , 0.81, 1.  , 0.08, 0.99, 0.99, 0.01,\n",
       "       0.14, 0.92, 1.  , 0.95, 1.  , 1.  , 0.87, 0.15, 0.99, 0.22, 0.69,\n",
       "       0.99, 1.  , 0.97, 0.99, 0.06, 1.  , 0.98, 1.  , 0.79, 1.  , 0.99,\n",
       "       1.  , 0.12, 1.  , 0.98, 0.78, 1.  , 0.9 , 1.  , 1.  , 0.93, 0.1 ,\n",
       "       0.03, 0.73, 1.  ])"
      ]
     },
     "execution_count": 100,
     "metadata": {},
     "output_type": "execute_result"
    }
   ],
   "source": [
    "pred"
   ]
  },
  {
   "cell_type": "code",
   "execution_count": 101,
   "id": "3d54a457",
   "metadata": {},
   "outputs": [],
   "source": [
    "from sklearn.metrics import precision_score"
   ]
  },
  {
   "cell_type": "code",
   "execution_count": 102,
   "id": "e7b84b02",
   "metadata": {},
   "outputs": [],
   "source": [
    "cls1 = [1 if p >= 0.8 else 0 for p in pred]\n",
    "cls2 = [1 if p >= 0.4 else 0 for p in pred]"
   ]
  },
  {
   "cell_type": "code",
   "execution_count": 103,
   "id": "6b017053",
   "metadata": {},
   "outputs": [],
   "source": [
    "precision1 = precision_score(test['target'], cls1)\n",
    "precision2 = precision_score(test['target'], cls2)"
   ]
  },
  {
   "cell_type": "code",
   "execution_count": 104,
   "id": "f90ae17b",
   "metadata": {
    "scrolled": true
   },
   "outputs": [
    {
     "data": {
      "text/plain": [
       "(1.0, 0.9629629629629629)"
      ]
     },
     "execution_count": 104,
     "metadata": {},
     "output_type": "execute_result"
    }
   ],
   "source": [
    "precision1, precision2"
   ]
  },
  {
   "cell_type": "code",
   "execution_count": 110,
   "id": "8a5923af",
   "metadata": {
    "scrolled": true
   },
   "outputs": [
    {
     "name": "stdout",
     "output_type": "stream",
     "text": [
      "기준이 0.1 일 때 precision = 0.8666666666666667\n",
      "\n",
      "기준이 0.2 일 때 precision = 0.9285714285714286\n",
      "\n",
      "기준이 0.30000000000000004 일 때 precision = 0.9629629629629629\n",
      "\n",
      "기준이 0.4 일 때 precision = 0.9629629629629629\n",
      "\n",
      "기준이 0.5 일 때 precision = 0.9629629629629629\n",
      "\n",
      "기준이 0.6 일 때 precision = 0.9807692307692307\n",
      "\n",
      "기준이 0.7000000000000001 일 때 precision = 0.98\n",
      "\n",
      "기준이 0.8 일 때 precision = 1.0\n",
      "\n",
      "기준이 0.9 일 때 precision = 1.0\n",
      "\n"
     ]
    }
   ],
   "source": [
    "for standard in np.arange(0.1, 1.0, 0.1) :\n",
    "    cls = [1 if p >= standard else 0 for p in pred]\n",
    "    precision = precision_score(test['target'], cls)\n",
    "    print(f'기준이 {standard} 일 때 precision = {precision}\\n')"
   ]
  },
  {
   "cell_type": "code",
   "execution_count": 111,
   "id": "ff879f02",
   "metadata": {},
   "outputs": [],
   "source": [
    "from sklearn.linear_model import LinearRegression"
   ]
  },
  {
   "cell_type": "code",
   "execution_count": 112,
   "id": "1fdb206b",
   "metadata": {},
   "outputs": [],
   "source": [
    "lr = LinearRegression()"
   ]
  },
  {
   "cell_type": "code",
   "execution_count": 144,
   "id": "214cc881",
   "metadata": {},
   "outputs": [
    {
     "data": {
      "text/plain": [
       "LinearRegression()"
      ]
     },
     "execution_count": 144,
     "metadata": {},
     "output_type": "execute_result"
    }
   ],
   "source": [
    "lr.fit(X, y)"
   ]
  },
  {
   "cell_type": "code",
   "execution_count": 145,
   "id": "2b737e52",
   "metadata": {
    "scrolled": true
   },
   "outputs": [
    {
     "data": {
      "text/plain": [
       "array([  1.7586171 ,   0.35962377,  -2.50701666,  14.01261854,\n",
       "       113.3797464 , -80.52732752, -32.85241889,   7.67942384,\n",
       "        86.35064714, -94.03007098])"
      ]
     },
     "execution_count": 145,
     "metadata": {},
     "output_type": "execute_result"
    }
   ],
   "source": [
    "lr.coef_"
   ]
  },
  {
   "cell_type": "code",
   "execution_count": 146,
   "id": "428554a8",
   "metadata": {},
   "outputs": [
    {
     "data": {
      "text/html": [
       "<div>\n",
       "<style scoped>\n",
       "    .dataframe tbody tr th:only-of-type {\n",
       "        vertical-align: middle;\n",
       "    }\n",
       "\n",
       "    .dataframe tbody tr th {\n",
       "        vertical-align: top;\n",
       "    }\n",
       "\n",
       "    .dataframe thead th {\n",
       "        text-align: right;\n",
       "    }\n",
       "</style>\n",
       "<table border=\"1\" class=\"dataframe\">\n",
       "  <thead>\n",
       "    <tr style=\"text-align: right;\">\n",
       "      <th></th>\n",
       "      <th>features</th>\n",
       "      <th>coefficient</th>\n",
       "    </tr>\n",
       "  </thead>\n",
       "  <tbody>\n",
       "    <tr>\n",
       "      <th>0</th>\n",
       "      <td>Item_W</td>\n",
       "      <td>1.758617</td>\n",
       "    </tr>\n",
       "    <tr>\n",
       "      <th>1</th>\n",
       "      <td>Item_MRP</td>\n",
       "      <td>0.359624</td>\n",
       "    </tr>\n",
       "    <tr>\n",
       "      <th>2</th>\n",
       "      <td>Outlet_Year</td>\n",
       "      <td>-2.507017</td>\n",
       "    </tr>\n",
       "    <tr>\n",
       "      <th>3</th>\n",
       "      <td>rank</td>\n",
       "      <td>14.012619</td>\n",
       "    </tr>\n",
       "    <tr>\n",
       "      <th>4</th>\n",
       "      <td>Outlet_Size_High</td>\n",
       "      <td>113.379746</td>\n",
       "    </tr>\n",
       "    <tr>\n",
       "      <th>5</th>\n",
       "      <td>Outlet_Size_Medium</td>\n",
       "      <td>-80.527328</td>\n",
       "    </tr>\n",
       "    <tr>\n",
       "      <th>6</th>\n",
       "      <td>Outlet_Size_Small</td>\n",
       "      <td>-32.852419</td>\n",
       "    </tr>\n",
       "    <tr>\n",
       "      <th>7</th>\n",
       "      <td>Outlet_Location_Type_Tier 1</td>\n",
       "      <td>7.679424</td>\n",
       "    </tr>\n",
       "    <tr>\n",
       "      <th>8</th>\n",
       "      <td>Outlet_Location_Type_Tier 2</td>\n",
       "      <td>86.350647</td>\n",
       "    </tr>\n",
       "    <tr>\n",
       "      <th>9</th>\n",
       "      <td>Outlet_Location_Type_Tier 3</td>\n",
       "      <td>-94.030071</td>\n",
       "    </tr>\n",
       "  </tbody>\n",
       "</table>\n",
       "</div>"
      ],
      "text/plain": [
       "                      features  coefficient\n",
       "0                       Item_W     1.758617\n",
       "1                     Item_MRP     0.359624\n",
       "2                  Outlet_Year    -2.507017\n",
       "3                         rank    14.012619\n",
       "4             Outlet_Size_High   113.379746\n",
       "5           Outlet_Size_Medium   -80.527328\n",
       "6            Outlet_Size_Small   -32.852419\n",
       "7  Outlet_Location_Type_Tier 1     7.679424\n",
       "8  Outlet_Location_Type_Tier 2    86.350647\n",
       "9  Outlet_Location_Type_Tier 3   -94.030071"
      ]
     },
     "execution_count": 146,
     "metadata": {},
     "output_type": "execute_result"
    }
   ],
   "source": [
    "pd.DataFrame({'features' : X.columns, 'coefficient' : lr.coef_})"
   ]
  },
  {
   "cell_type": "markdown",
   "id": "f6a6b3c1",
   "metadata": {},
   "source": [
    "\n",
    "***\n",
    "## 2번 문제\n",
    "### 2-1. age 변수에 대해 정규화를 실시하고 0.3 미만의 값을 가지는 데이터의 수를 출력하시오."
   ]
  },
  {
   "cell_type": "code",
   "execution_count": 147,
   "id": "0fc0b907",
   "metadata": {},
   "outputs": [],
   "source": [
    "train = pd.read_csv('ins_reg_train.csv')\n",
    "test = pd.read_csv('ins_reg_test.csv')"
   ]
  },
  {
   "cell_type": "code",
   "execution_count": 148,
   "id": "35134ea9",
   "metadata": {},
   "outputs": [
    {
     "data": {
      "text/html": [
       "<div>\n",
       "<style scoped>\n",
       "    .dataframe tbody tr th:only-of-type {\n",
       "        vertical-align: middle;\n",
       "    }\n",
       "\n",
       "    .dataframe tbody tr th {\n",
       "        vertical-align: top;\n",
       "    }\n",
       "\n",
       "    .dataframe thead th {\n",
       "        text-align: right;\n",
       "    }\n",
       "</style>\n",
       "<table border=\"1\" class=\"dataframe\">\n",
       "  <thead>\n",
       "    <tr style=\"text-align: right;\">\n",
       "      <th></th>\n",
       "      <th>age</th>\n",
       "      <th>sex</th>\n",
       "      <th>bmi</th>\n",
       "      <th>children</th>\n",
       "      <th>smoker</th>\n",
       "      <th>region</th>\n",
       "      <th>charges</th>\n",
       "    </tr>\n",
       "  </thead>\n",
       "  <tbody>\n",
       "    <tr>\n",
       "      <th>0</th>\n",
       "      <td>51</td>\n",
       "      <td>female</td>\n",
       "      <td>36.385</td>\n",
       "      <td>3</td>\n",
       "      <td>no</td>\n",
       "      <td>northwest</td>\n",
       "      <td>11436.73815</td>\n",
       "    </tr>\n",
       "    <tr>\n",
       "      <th>1</th>\n",
       "      <td>52</td>\n",
       "      <td>female</td>\n",
       "      <td>30.780</td>\n",
       "      <td>1</td>\n",
       "      <td>no</td>\n",
       "      <td>northeast</td>\n",
       "      <td>10797.33620</td>\n",
       "    </tr>\n",
       "    <tr>\n",
       "      <th>2</th>\n",
       "      <td>27</td>\n",
       "      <td>female</td>\n",
       "      <td>34.800</td>\n",
       "      <td>1</td>\n",
       "      <td>no</td>\n",
       "      <td>southwest</td>\n",
       "      <td>3577.99900</td>\n",
       "    </tr>\n",
       "    <tr>\n",
       "      <th>3</th>\n",
       "      <td>58</td>\n",
       "      <td>female</td>\n",
       "      <td>41.910</td>\n",
       "      <td>0</td>\n",
       "      <td>no</td>\n",
       "      <td>southeast</td>\n",
       "      <td>24227.33724</td>\n",
       "    </tr>\n",
       "    <tr>\n",
       "      <th>4</th>\n",
       "      <td>44</td>\n",
       "      <td>female</td>\n",
       "      <td>43.890</td>\n",
       "      <td>2</td>\n",
       "      <td>yes</td>\n",
       "      <td>southeast</td>\n",
       "      <td>46200.98510</td>\n",
       "    </tr>\n",
       "  </tbody>\n",
       "</table>\n",
       "</div>"
      ],
      "text/plain": [
       "   age     sex     bmi  children smoker     region      charges\n",
       "0   51  female  36.385         3     no  northwest  11436.73815\n",
       "1   52  female  30.780         1     no  northeast  10797.33620\n",
       "2   27  female  34.800         1     no  southwest   3577.99900\n",
       "3   58  female  41.910         0     no  southeast  24227.33724\n",
       "4   44  female  43.890         2    yes  southeast  46200.98510"
      ]
     },
     "execution_count": 148,
     "metadata": {},
     "output_type": "execute_result"
    }
   ],
   "source": [
    "train.head()"
   ]
  },
  {
   "cell_type": "code",
   "execution_count": 149,
   "id": "c2ba09d6",
   "metadata": {},
   "outputs": [],
   "source": [
    "from sklearn.preprocessing import MinMaxScaler"
   ]
  },
  {
   "cell_type": "code",
   "execution_count": 151,
   "id": "34b1722c",
   "metadata": {},
   "outputs": [],
   "source": [
    "scaler = MinMaxScaler()"
   ]
  },
  {
   "cell_type": "code",
   "execution_count": 152,
   "id": "d3422c51",
   "metadata": {},
   "outputs": [],
   "source": [
    "train['scaled_age'] = scaler.fit_transform(train[['age']])"
   ]
  },
  {
   "cell_type": "code",
   "execution_count": 155,
   "id": "fd96d516",
   "metadata": {},
   "outputs": [
    {
     "data": {
      "text/plain": [
       "350"
      ]
     },
     "execution_count": 155,
     "metadata": {},
     "output_type": "execute_result"
    }
   ],
   "source": [
    "train[train.scaled_age < 0.3].shape[0]"
   ]
  },
  {
   "cell_type": "markdown",
   "id": "ba57fe25",
   "metadata": {},
   "source": [
    "### 2-2. 30대 여성과 남성의 흡연 비율 차이의 절댓값을 출력하시오.\n",
    "\n",
    "#### 방식1"
   ]
  },
  {
   "cell_type": "code",
   "execution_count": 157,
   "id": "7f07ec43",
   "metadata": {},
   "outputs": [],
   "source": [
    "age30 = train[train.age.isin(np.arange(30, 40))]"
   ]
  },
  {
   "cell_type": "code",
   "execution_count": 159,
   "id": "70e08886",
   "metadata": {
    "scrolled": false
   },
   "outputs": [
    {
     "data": {
      "text/plain": [
       "(30, 39)"
      ]
     },
     "execution_count": 159,
     "metadata": {},
     "output_type": "execute_result"
    }
   ],
   "source": [
    "age30.age.min(), age30.age.max()"
   ]
  },
  {
   "cell_type": "code",
   "execution_count": 161,
   "id": "100ab5a2",
   "metadata": {},
   "outputs": [],
   "source": [
    "age30_f = age30[age30['sex'] == 'female']\n",
    "age30_m = age30[age30['sex'] == 'male']"
   ]
  },
  {
   "cell_type": "code",
   "execution_count": 163,
   "id": "2f889124",
   "metadata": {},
   "outputs": [
    {
     "data": {
      "text/html": [
       "<div>\n",
       "<style scoped>\n",
       "    .dataframe tbody tr th:only-of-type {\n",
       "        vertical-align: middle;\n",
       "    }\n",
       "\n",
       "    .dataframe tbody tr th {\n",
       "        vertical-align: top;\n",
       "    }\n",
       "\n",
       "    .dataframe thead th {\n",
       "        text-align: right;\n",
       "    }\n",
       "</style>\n",
       "<table border=\"1\" class=\"dataframe\">\n",
       "  <thead>\n",
       "    <tr style=\"text-align: right;\">\n",
       "      <th></th>\n",
       "      <th>age</th>\n",
       "      <th>sex</th>\n",
       "      <th>bmi</th>\n",
       "      <th>children</th>\n",
       "      <th>smoker</th>\n",
       "      <th>region</th>\n",
       "      <th>charges</th>\n",
       "      <th>scaled_age</th>\n",
       "    </tr>\n",
       "  </thead>\n",
       "  <tbody>\n",
       "    <tr>\n",
       "      <th>9</th>\n",
       "      <td>30</td>\n",
       "      <td>female</td>\n",
       "      <td>28.405</td>\n",
       "      <td>1</td>\n",
       "      <td>no</td>\n",
       "      <td>northwest</td>\n",
       "      <td>4527.18295</td>\n",
       "      <td>0.260870</td>\n",
       "    </tr>\n",
       "    <tr>\n",
       "      <th>17</th>\n",
       "      <td>30</td>\n",
       "      <td>female</td>\n",
       "      <td>23.655</td>\n",
       "      <td>3</td>\n",
       "      <td>yes</td>\n",
       "      <td>northwest</td>\n",
       "      <td>18765.87545</td>\n",
       "      <td>0.260870</td>\n",
       "    </tr>\n",
       "    <tr>\n",
       "      <th>27</th>\n",
       "      <td>32</td>\n",
       "      <td>female</td>\n",
       "      <td>44.220</td>\n",
       "      <td>0</td>\n",
       "      <td>no</td>\n",
       "      <td>southeast</td>\n",
       "      <td>3994.17780</td>\n",
       "      <td>0.304348</td>\n",
       "    </tr>\n",
       "    <tr>\n",
       "      <th>34</th>\n",
       "      <td>39</td>\n",
       "      <td>female</td>\n",
       "      <td>18.300</td>\n",
       "      <td>5</td>\n",
       "      <td>yes</td>\n",
       "      <td>southwest</td>\n",
       "      <td>19023.26000</td>\n",
       "      <td>0.456522</td>\n",
       "    </tr>\n",
       "    <tr>\n",
       "      <th>42</th>\n",
       "      <td>36</td>\n",
       "      <td>female</td>\n",
       "      <td>22.600</td>\n",
       "      <td>2</td>\n",
       "      <td>yes</td>\n",
       "      <td>southwest</td>\n",
       "      <td>18608.26200</td>\n",
       "      <td>0.391304</td>\n",
       "    </tr>\n",
       "  </tbody>\n",
       "</table>\n",
       "</div>"
      ],
      "text/plain": [
       "    age     sex     bmi  children smoker     region      charges  scaled_age\n",
       "9    30  female  28.405         1     no  northwest   4527.18295    0.260870\n",
       "17   30  female  23.655         3    yes  northwest  18765.87545    0.260870\n",
       "27   32  female  44.220         0     no  southeast   3994.17780    0.304348\n",
       "34   39  female  18.300         5    yes  southwest  19023.26000    0.456522\n",
       "42   36  female  22.600         2    yes  southwest  18608.26200    0.391304"
      ]
     },
     "execution_count": 163,
     "metadata": {},
     "output_type": "execute_result"
    }
   ],
   "source": [
    "age30_f.head()"
   ]
  },
  {
   "cell_type": "code",
   "execution_count": 164,
   "id": "3b543a42",
   "metadata": {},
   "outputs": [
    {
     "data": {
      "text/html": [
       "<div>\n",
       "<style scoped>\n",
       "    .dataframe tbody tr th:only-of-type {\n",
       "        vertical-align: middle;\n",
       "    }\n",
       "\n",
       "    .dataframe tbody tr th {\n",
       "        vertical-align: top;\n",
       "    }\n",
       "\n",
       "    .dataframe thead th {\n",
       "        text-align: right;\n",
       "    }\n",
       "</style>\n",
       "<table border=\"1\" class=\"dataframe\">\n",
       "  <thead>\n",
       "    <tr style=\"text-align: right;\">\n",
       "      <th></th>\n",
       "      <th>age</th>\n",
       "      <th>sex</th>\n",
       "      <th>bmi</th>\n",
       "      <th>children</th>\n",
       "      <th>smoker</th>\n",
       "      <th>region</th>\n",
       "      <th>charges</th>\n",
       "      <th>scaled_age</th>\n",
       "    </tr>\n",
       "  </thead>\n",
       "  <tbody>\n",
       "    <tr>\n",
       "      <th>14</th>\n",
       "      <td>31</td>\n",
       "      <td>male</td>\n",
       "      <td>20.40</td>\n",
       "      <td>0</td>\n",
       "      <td>no</td>\n",
       "      <td>southwest</td>\n",
       "      <td>3260.1990</td>\n",
       "      <td>0.282609</td>\n",
       "    </tr>\n",
       "    <tr>\n",
       "      <th>28</th>\n",
       "      <td>37</td>\n",
       "      <td>male</td>\n",
       "      <td>37.07</td>\n",
       "      <td>1</td>\n",
       "      <td>yes</td>\n",
       "      <td>southeast</td>\n",
       "      <td>39871.7043</td>\n",
       "      <td>0.413043</td>\n",
       "    </tr>\n",
       "    <tr>\n",
       "      <th>40</th>\n",
       "      <td>33</td>\n",
       "      <td>male</td>\n",
       "      <td>42.40</td>\n",
       "      <td>5</td>\n",
       "      <td>no</td>\n",
       "      <td>southwest</td>\n",
       "      <td>6666.2430</td>\n",
       "      <td>0.326087</td>\n",
       "    </tr>\n",
       "    <tr>\n",
       "      <th>43</th>\n",
       "      <td>33</td>\n",
       "      <td>male</td>\n",
       "      <td>35.75</td>\n",
       "      <td>2</td>\n",
       "      <td>no</td>\n",
       "      <td>southeast</td>\n",
       "      <td>4889.9995</td>\n",
       "      <td>0.326087</td>\n",
       "    </tr>\n",
       "    <tr>\n",
       "      <th>55</th>\n",
       "      <td>31</td>\n",
       "      <td>male</td>\n",
       "      <td>39.49</td>\n",
       "      <td>1</td>\n",
       "      <td>no</td>\n",
       "      <td>southeast</td>\n",
       "      <td>3875.7341</td>\n",
       "      <td>0.282609</td>\n",
       "    </tr>\n",
       "  </tbody>\n",
       "</table>\n",
       "</div>"
      ],
      "text/plain": [
       "    age   sex    bmi  children smoker     region     charges  scaled_age\n",
       "14   31  male  20.40         0     no  southwest   3260.1990    0.282609\n",
       "28   37  male  37.07         1    yes  southeast  39871.7043    0.413043\n",
       "40   33  male  42.40         5     no  southwest   6666.2430    0.326087\n",
       "43   33  male  35.75         2     no  southeast   4889.9995    0.326087\n",
       "55   31  male  39.49         1     no  southeast   3875.7341    0.282609"
      ]
     },
     "execution_count": 164,
     "metadata": {},
     "output_type": "execute_result"
    }
   ],
   "source": [
    "age30_m.head()"
   ]
  },
  {
   "cell_type": "code",
   "execution_count": 165,
   "id": "8be8076d",
   "metadata": {},
   "outputs": [],
   "source": [
    "age30_f_y = age30_f[age30_f.smoker == 'yes']\n",
    "age30_m_y = age30_m[age30_m.smoker == 'yes']"
   ]
  },
  {
   "cell_type": "code",
   "execution_count": 170,
   "id": "abbaf71e",
   "metadata": {},
   "outputs": [],
   "source": [
    "f = age30_f_y.shape[0] / age30_f.shape[0]"
   ]
  },
  {
   "cell_type": "code",
   "execution_count": 171,
   "id": "a4b8a7a0",
   "metadata": {
    "scrolled": true
   },
   "outputs": [],
   "source": [
    "m = age30_m_y.shape[0] / age30_m.shape[0]"
   ]
  },
  {
   "cell_type": "code",
   "execution_count": 181,
   "id": "4744d600",
   "metadata": {},
   "outputs": [
    {
     "data": {
      "text/plain": [
       "(0.1511627906976744, 0.26)"
      ]
     },
     "execution_count": 181,
     "metadata": {},
     "output_type": "execute_result"
    }
   ],
   "source": [
    "f, m"
   ]
  },
  {
   "cell_type": "code",
   "execution_count": 172,
   "id": "26713fc7",
   "metadata": {
    "scrolled": false
   },
   "outputs": [
    {
     "data": {
      "text/plain": [
       "0.1088372093023256"
      ]
     },
     "execution_count": 172,
     "metadata": {},
     "output_type": "execute_result"
    }
   ],
   "source": [
    "abs(f - m)"
   ]
  },
  {
   "cell_type": "code",
   "execution_count": 175,
   "id": "904f0360",
   "metadata": {},
   "outputs": [
    {
     "data": {
      "text/plain": [
       "0    0\n",
       "1    1\n",
       "2    1\n",
       "3    0\n",
       "4    1\n",
       "dtype: int64"
      ]
     },
     "execution_count": 175,
     "metadata": {},
     "output_type": "execute_result"
    }
   ],
   "source": [
    "pd.Series([0,1,1,0,1])"
   ]
  },
  {
   "cell_type": "code",
   "execution_count": 176,
   "id": "4ba41dc6",
   "metadata": {},
   "outputs": [
    {
     "data": {
      "text/plain": [
       "0.6"
      ]
     },
     "execution_count": 176,
     "metadata": {},
     "output_type": "execute_result"
    }
   ],
   "source": [
    "3/5"
   ]
  },
  {
   "cell_type": "markdown",
   "id": "37721aca",
   "metadata": {},
   "source": [
    "#### 방식2 - 잔머리 & 잔꾀"
   ]
  },
  {
   "cell_type": "code",
   "execution_count": 173,
   "id": "aac78a19",
   "metadata": {},
   "outputs": [],
   "source": [
    "age34 = train[train.age.isin(range(30, 40))]"
   ]
  },
  {
   "cell_type": "code",
   "execution_count": 177,
   "id": "f01aaac3",
   "metadata": {
    "scrolled": true
   },
   "outputs": [
    {
     "name": "stderr",
     "output_type": "stream",
     "text": [
      "<ipython-input-177-49a6fa567427>:1: SettingWithCopyWarning: \n",
      "A value is trying to be set on a copy of a slice from a DataFrame.\n",
      "Try using .loc[row_indexer,col_indexer] = value instead\n",
      "\n",
      "See the caveats in the documentation: https://pandas.pydata.org/pandas-docs/stable/user_guide/indexing.html#returning-a-view-versus-a-copy\n",
      "  age34['smoker'] = [1 if s == 'yes' else 0 for s in age34['smoker']]\n"
     ]
    }
   ],
   "source": [
    "age34['smoker'] = [1 if s == 'yes' else 0 for s in age34['smoker']]"
   ]
  },
  {
   "cell_type": "code",
   "execution_count": 178,
   "id": "c08f539e",
   "metadata": {},
   "outputs": [
    {
     "data": {
      "text/html": [
       "<div>\n",
       "<style scoped>\n",
       "    .dataframe tbody tr th:only-of-type {\n",
       "        vertical-align: middle;\n",
       "    }\n",
       "\n",
       "    .dataframe tbody tr th {\n",
       "        vertical-align: top;\n",
       "    }\n",
       "\n",
       "    .dataframe thead th {\n",
       "        text-align: right;\n",
       "    }\n",
       "</style>\n",
       "<table border=\"1\" class=\"dataframe\">\n",
       "  <thead>\n",
       "    <tr style=\"text-align: right;\">\n",
       "      <th></th>\n",
       "      <th>age</th>\n",
       "      <th>sex</th>\n",
       "      <th>bmi</th>\n",
       "      <th>children</th>\n",
       "      <th>smoker</th>\n",
       "      <th>region</th>\n",
       "      <th>charges</th>\n",
       "      <th>scaled_age</th>\n",
       "    </tr>\n",
       "  </thead>\n",
       "  <tbody>\n",
       "    <tr>\n",
       "      <th>9</th>\n",
       "      <td>30</td>\n",
       "      <td>female</td>\n",
       "      <td>28.405</td>\n",
       "      <td>1</td>\n",
       "      <td>0</td>\n",
       "      <td>northwest</td>\n",
       "      <td>4527.18295</td>\n",
       "      <td>0.260870</td>\n",
       "    </tr>\n",
       "    <tr>\n",
       "      <th>14</th>\n",
       "      <td>31</td>\n",
       "      <td>male</td>\n",
       "      <td>20.400</td>\n",
       "      <td>0</td>\n",
       "      <td>0</td>\n",
       "      <td>southwest</td>\n",
       "      <td>3260.19900</td>\n",
       "      <td>0.282609</td>\n",
       "    </tr>\n",
       "    <tr>\n",
       "      <th>17</th>\n",
       "      <td>30</td>\n",
       "      <td>female</td>\n",
       "      <td>23.655</td>\n",
       "      <td>3</td>\n",
       "      <td>1</td>\n",
       "      <td>northwest</td>\n",
       "      <td>18765.87545</td>\n",
       "      <td>0.260870</td>\n",
       "    </tr>\n",
       "    <tr>\n",
       "      <th>27</th>\n",
       "      <td>32</td>\n",
       "      <td>female</td>\n",
       "      <td>44.220</td>\n",
       "      <td>0</td>\n",
       "      <td>0</td>\n",
       "      <td>southeast</td>\n",
       "      <td>3994.17780</td>\n",
       "      <td>0.304348</td>\n",
       "    </tr>\n",
       "    <tr>\n",
       "      <th>28</th>\n",
       "      <td>37</td>\n",
       "      <td>male</td>\n",
       "      <td>37.070</td>\n",
       "      <td>1</td>\n",
       "      <td>1</td>\n",
       "      <td>southeast</td>\n",
       "      <td>39871.70430</td>\n",
       "      <td>0.413043</td>\n",
       "    </tr>\n",
       "    <tr>\n",
       "      <th>...</th>\n",
       "      <td>...</td>\n",
       "      <td>...</td>\n",
       "      <td>...</td>\n",
       "      <td>...</td>\n",
       "      <td>...</td>\n",
       "      <td>...</td>\n",
       "      <td>...</td>\n",
       "      <td>...</td>\n",
       "    </tr>\n",
       "    <tr>\n",
       "      <th>975</th>\n",
       "      <td>32</td>\n",
       "      <td>male</td>\n",
       "      <td>28.120</td>\n",
       "      <td>4</td>\n",
       "      <td>1</td>\n",
       "      <td>northwest</td>\n",
       "      <td>21472.47880</td>\n",
       "      <td>0.304348</td>\n",
       "    </tr>\n",
       "    <tr>\n",
       "      <th>976</th>\n",
       "      <td>30</td>\n",
       "      <td>female</td>\n",
       "      <td>27.930</td>\n",
       "      <td>0</td>\n",
       "      <td>0</td>\n",
       "      <td>northeast</td>\n",
       "      <td>4137.52270</td>\n",
       "      <td>0.260870</td>\n",
       "    </tr>\n",
       "    <tr>\n",
       "      <th>989</th>\n",
       "      <td>32</td>\n",
       "      <td>male</td>\n",
       "      <td>30.800</td>\n",
       "      <td>3</td>\n",
       "      <td>0</td>\n",
       "      <td>southwest</td>\n",
       "      <td>5253.52400</td>\n",
       "      <td>0.304348</td>\n",
       "    </tr>\n",
       "    <tr>\n",
       "      <th>993</th>\n",
       "      <td>35</td>\n",
       "      <td>male</td>\n",
       "      <td>30.500</td>\n",
       "      <td>1</td>\n",
       "      <td>0</td>\n",
       "      <td>southwest</td>\n",
       "      <td>4751.07000</td>\n",
       "      <td>0.369565</td>\n",
       "    </tr>\n",
       "    <tr>\n",
       "      <th>994</th>\n",
       "      <td>37</td>\n",
       "      <td>female</td>\n",
       "      <td>29.500</td>\n",
       "      <td>2</td>\n",
       "      <td>0</td>\n",
       "      <td>southwest</td>\n",
       "      <td>6311.95200</td>\n",
       "      <td>0.413043</td>\n",
       "    </tr>\n",
       "  </tbody>\n",
       "</table>\n",
       "<p>186 rows × 8 columns</p>\n",
       "</div>"
      ],
      "text/plain": [
       "     age     sex     bmi  children  smoker     region      charges  scaled_age\n",
       "9     30  female  28.405         1       0  northwest   4527.18295    0.260870\n",
       "14    31    male  20.400         0       0  southwest   3260.19900    0.282609\n",
       "17    30  female  23.655         3       1  northwest  18765.87545    0.260870\n",
       "27    32  female  44.220         0       0  southeast   3994.17780    0.304348\n",
       "28    37    male  37.070         1       1  southeast  39871.70430    0.413043\n",
       "..   ...     ...     ...       ...     ...        ...          ...         ...\n",
       "975   32    male  28.120         4       1  northwest  21472.47880    0.304348\n",
       "976   30  female  27.930         0       0  northeast   4137.52270    0.260870\n",
       "989   32    male  30.800         3       0  southwest   5253.52400    0.304348\n",
       "993   35    male  30.500         1       0  southwest   4751.07000    0.369565\n",
       "994   37  female  29.500         2       0  southwest   6311.95200    0.413043\n",
       "\n",
       "[186 rows x 8 columns]"
      ]
     },
     "execution_count": 178,
     "metadata": {},
     "output_type": "execute_result"
    }
   ],
   "source": [
    "age34"
   ]
  },
  {
   "cell_type": "code",
   "execution_count": 179,
   "id": "a1a9fb19",
   "metadata": {},
   "outputs": [],
   "source": [
    "result = age34.groupby('sex').smoker.agg(lambda x : sum(x) / np.size(x))"
   ]
  },
  {
   "cell_type": "code",
   "execution_count": 180,
   "id": "882448f0",
   "metadata": {
    "scrolled": true
   },
   "outputs": [
    {
     "data": {
      "text/plain": [
       "sex\n",
       "female    0.151163\n",
       "male      0.260000\n",
       "Name: smoker, dtype: float64"
      ]
     },
     "execution_count": 180,
     "metadata": {},
     "output_type": "execute_result"
    }
   ],
   "source": [
    "result"
   ]
  },
  {
   "cell_type": "code",
   "execution_count": 154,
   "id": "43914b6a",
   "metadata": {},
   "outputs": [
    {
     "data": {
      "text/plain": [
       "0.1088372093023256"
      ]
     },
     "execution_count": 154,
     "metadata": {},
     "output_type": "execute_result"
    }
   ],
   "source": [
    "abs(result['female'] - result['male'])"
   ]
  },
  {
   "cell_type": "markdown",
   "id": "c5036117",
   "metadata": {},
   "source": [
    "### 2-3. charges를 예측하는 모델링을 수행하시오. RMSE를 기준으로 진행하고 test데이터를 활용하여 예측값을 도출하고 submission 형태로 제출하시오. 이 때 파일명은 result2로 저장하시오.\n",
    "- 최소 2개 이상의 모델을 사용할 것."
   ]
  },
  {
   "cell_type": "code",
   "execution_count": 156,
   "id": "0ed7a922",
   "metadata": {},
   "outputs": [],
   "source": [
    "train['sex'] = [1 if s == 'male' else 0 for s in train['sex']]\n",
    "test['sex'] = [1 if s == 'male' else 0 for s in test['sex']]"
   ]
  },
  {
   "cell_type": "code",
   "execution_count": 160,
   "id": "c497d72a",
   "metadata": {},
   "outputs": [],
   "source": [
    "train = pd.get_dummies(train)\n",
    "test = pd.get_dummies(test)"
   ]
  },
  {
   "cell_type": "code",
   "execution_count": 162,
   "id": "a15bee5b",
   "metadata": {},
   "outputs": [],
   "source": [
    "X = train.drop('charges', axis = 1)\n",
    "y = train.charges"
   ]
  },
  {
   "cell_type": "code",
   "execution_count": 163,
   "id": "916cc3fd",
   "metadata": {},
   "outputs": [],
   "source": [
    "target = test[X.columns]"
   ]
  },
  {
   "cell_type": "code",
   "execution_count": 165,
   "id": "d3543764",
   "metadata": {},
   "outputs": [],
   "source": [
    "kf = KFold(n_splits = 5, shuffle = True, random_state = 42)"
   ]
  },
  {
   "cell_type": "code",
   "execution_count": 166,
   "id": "c41bea7d",
   "metadata": {},
   "outputs": [],
   "source": [
    "rf_pred = np.zeros(target.shape[0])\n",
    "lgbm_pred = np.zeros(target.shape[0])"
   ]
  },
  {
   "cell_type": "code",
   "execution_count": 167,
   "id": "5872d2bd",
   "metadata": {},
   "outputs": [],
   "source": [
    "from lightgbm import LGBMRegressor"
   ]
  },
  {
   "cell_type": "code",
   "execution_count": 170,
   "id": "bf9dc14c",
   "metadata": {},
   "outputs": [
    {
     "name": "stdout",
     "output_type": "stream",
     "text": [
      "4704.841965335814\n",
      "4820.318343896122\n",
      "4373.8981048114365\n",
      "4551.632110683173\n",
      "4352.187911952853\n"
     ]
    }
   ],
   "source": [
    "for tr_idx, val_idx in kf.split(X, y) :\n",
    "    tr_x, tr_y = X.iloc[tr_idx], y.iloc[tr_idx]\n",
    "    val_x, val_y = X.iloc[val_idx], y.iloc[val_idx]\n",
    "    \n",
    "    rf = RandomForestRegressor(random_state = 42, max_depth = 4, n_estimators = 150)\n",
    "    rf.fit(tr_x, tr_y)\n",
    "    val_pred = rf.predict(val_x)\n",
    "    rmse = np.sqrt(mean_squared_error(val_y, val_pred))\n",
    "    print(rmse)\n",
    "    \n",
    "    fold_pred = rf.predict(target) / 5\n",
    "    rf_pred += fold_pred"
   ]
  },
  {
   "cell_type": "code",
   "execution_count": 169,
   "id": "da45e22c",
   "metadata": {},
   "outputs": [
    {
     "name": "stdout",
     "output_type": "stream",
     "text": [
      "4920.586508890116\n",
      "5076.570906884028\n",
      "4515.07016410461\n",
      "4944.1440745276805\n",
      "4484.386041921746\n"
     ]
    }
   ],
   "source": [
    "for tr_idx, val_idx in kf.split(X, y) :\n",
    "    tr_x, tr_y = X.iloc[tr_idx], y.iloc[tr_idx]\n",
    "    val_x, val_y = X.iloc[val_idx], y.iloc[val_idx]\n",
    "    \n",
    "    lgbm = LGBMRegressor(random_state = 42, max_depth = 4, n_estimators = 200, learning_rate = 0.1)\n",
    "    lgbm.fit(tr_x, tr_y)\n",
    "    val_pred = lgbm.predict(val_x)\n",
    "    rmse = np.sqrt(mean_squared_error(val_y, val_pred))\n",
    "    print(rmse)\n",
    "    \n",
    "    fold_pred = lgbm.predict(target) / 5\n",
    "    lgbm_pred += fold_pred"
   ]
  },
  {
   "cell_type": "code",
   "execution_count": 171,
   "id": "3f320b3d",
   "metadata": {},
   "outputs": [],
   "source": [
    "submission = pd.read_csv('ins_reg_submission.csv')"
   ]
  },
  {
   "cell_type": "code",
   "execution_count": 173,
   "id": "f179a91a",
   "metadata": {},
   "outputs": [],
   "source": [
    "submission.charges = (lgbm_pred + rf_pred) / 2"
   ]
  },
  {
   "cell_type": "code",
   "execution_count": 174,
   "id": "d656af4e",
   "metadata": {
    "scrolled": true
   },
   "outputs": [
    {
     "data": {
      "text/html": [
       "<div>\n",
       "<style scoped>\n",
       "    .dataframe tbody tr th:only-of-type {\n",
       "        vertical-align: middle;\n",
       "    }\n",
       "\n",
       "    .dataframe tbody tr th {\n",
       "        vertical-align: top;\n",
       "    }\n",
       "\n",
       "    .dataframe thead th {\n",
       "        text-align: right;\n",
       "    }\n",
       "</style>\n",
       "<table border=\"1\" class=\"dataframe\">\n",
       "  <thead>\n",
       "    <tr style=\"text-align: right;\">\n",
       "      <th></th>\n",
       "      <th>index</th>\n",
       "      <th>charges</th>\n",
       "    </tr>\n",
       "  </thead>\n",
       "  <tbody>\n",
       "    <tr>\n",
       "      <th>0</th>\n",
       "      <td>0</td>\n",
       "      <td>6444.590619</td>\n",
       "    </tr>\n",
       "    <tr>\n",
       "      <th>1</th>\n",
       "      <td>1</td>\n",
       "      <td>7522.664653</td>\n",
       "    </tr>\n",
       "    <tr>\n",
       "      <th>2</th>\n",
       "      <td>2</td>\n",
       "      <td>3298.277076</td>\n",
       "    </tr>\n",
       "    <tr>\n",
       "      <th>3</th>\n",
       "      <td>3</td>\n",
       "      <td>44871.389077</td>\n",
       "    </tr>\n",
       "    <tr>\n",
       "      <th>4</th>\n",
       "      <td>4</td>\n",
       "      <td>46122.520532</td>\n",
       "    </tr>\n",
       "  </tbody>\n",
       "</table>\n",
       "</div>"
      ],
      "text/plain": [
       "   index       charges\n",
       "0      0   6444.590619\n",
       "1      1   7522.664653\n",
       "2      2   3298.277076\n",
       "3      3  44871.389077\n",
       "4      4  46122.520532"
      ]
     },
     "execution_count": 174,
     "metadata": {},
     "output_type": "execute_result"
    }
   ],
   "source": [
    "submission.head()"
   ]
  },
  {
   "cell_type": "code",
   "execution_count": 180,
   "id": "ff8f620c",
   "metadata": {},
   "outputs": [],
   "source": [
    "#submission.to_csv('result2.csv', index = False)"
   ]
  },
  {
   "cell_type": "markdown",
   "id": "6b56fffe",
   "metadata": {},
   "source": [
    "***\n",
    "## 3번 문제\n",
    "### 3-1. 현재 직장에서 3년(1095일) 미만으로 일한 고객의 income_total의 중위값을 출력하시오."
   ]
  },
  {
   "cell_type": "code",
   "execution_count": 274,
   "id": "199e2a4d",
   "metadata": {},
   "outputs": [],
   "source": [
    "train = pd.read_csv('credit_train.csv')\n",
    "test = pd.read_csv('credit_test.csv')"
   ]
  },
  {
   "cell_type": "code",
   "execution_count": 275,
   "id": "e7776297",
   "metadata": {},
   "outputs": [
    {
     "data": {
      "text/html": [
       "<div>\n",
       "<style scoped>\n",
       "    .dataframe tbody tr th:only-of-type {\n",
       "        vertical-align: middle;\n",
       "    }\n",
       "\n",
       "    .dataframe tbody tr th {\n",
       "        vertical-align: top;\n",
       "    }\n",
       "\n",
       "    .dataframe thead th {\n",
       "        text-align: right;\n",
       "    }\n",
       "</style>\n",
       "<table border=\"1\" class=\"dataframe\">\n",
       "  <thead>\n",
       "    <tr style=\"text-align: right;\">\n",
       "      <th></th>\n",
       "      <th>gender</th>\n",
       "      <th>car</th>\n",
       "      <th>reality</th>\n",
       "      <th>child_num</th>\n",
       "      <th>income_total</th>\n",
       "      <th>income_type</th>\n",
       "      <th>edu_type</th>\n",
       "      <th>family_type</th>\n",
       "      <th>house_type</th>\n",
       "      <th>DAYS_BIRTH</th>\n",
       "      <th>DAYS_EMPLOYED</th>\n",
       "      <th>FLAG_MOBIL</th>\n",
       "      <th>work_phone</th>\n",
       "      <th>phone</th>\n",
       "      <th>email</th>\n",
       "      <th>occyp_type</th>\n",
       "      <th>family_size</th>\n",
       "      <th>begin_month</th>\n",
       "      <th>credit</th>\n",
       "    </tr>\n",
       "  </thead>\n",
       "  <tbody>\n",
       "    <tr>\n",
       "      <th>0</th>\n",
       "      <td>M</td>\n",
       "      <td>Y</td>\n",
       "      <td>Y</td>\n",
       "      <td>4</td>\n",
       "      <td>157500.0</td>\n",
       "      <td>Working</td>\n",
       "      <td>Higher education</td>\n",
       "      <td>Married</td>\n",
       "      <td>House / apartment</td>\n",
       "      <td>-11380</td>\n",
       "      <td>-1734</td>\n",
       "      <td>1</td>\n",
       "      <td>0</td>\n",
       "      <td>0</td>\n",
       "      <td>0</td>\n",
       "      <td>Managers</td>\n",
       "      <td>6.0</td>\n",
       "      <td>-37.0</td>\n",
       "      <td>0.0</td>\n",
       "    </tr>\n",
       "    <tr>\n",
       "      <th>1</th>\n",
       "      <td>F</td>\n",
       "      <td>N</td>\n",
       "      <td>Y</td>\n",
       "      <td>0</td>\n",
       "      <td>225000.0</td>\n",
       "      <td>Working</td>\n",
       "      <td>Higher education</td>\n",
       "      <td>Widow</td>\n",
       "      <td>House / apartment</td>\n",
       "      <td>-21450</td>\n",
       "      <td>-13245</td>\n",
       "      <td>1</td>\n",
       "      <td>0</td>\n",
       "      <td>0</td>\n",
       "      <td>0</td>\n",
       "      <td>Core staff</td>\n",
       "      <td>1.0</td>\n",
       "      <td>-60.0</td>\n",
       "      <td>1.0</td>\n",
       "    </tr>\n",
       "    <tr>\n",
       "      <th>2</th>\n",
       "      <td>F</td>\n",
       "      <td>N</td>\n",
       "      <td>Y</td>\n",
       "      <td>0</td>\n",
       "      <td>225000.0</td>\n",
       "      <td>Working</td>\n",
       "      <td>Secondary / secondary special</td>\n",
       "      <td>Single / not married</td>\n",
       "      <td>House / apartment</td>\n",
       "      <td>-17840</td>\n",
       "      <td>-1807</td>\n",
       "      <td>1</td>\n",
       "      <td>0</td>\n",
       "      <td>0</td>\n",
       "      <td>0</td>\n",
       "      <td>Core staff</td>\n",
       "      <td>1.0</td>\n",
       "      <td>-22.0</td>\n",
       "      <td>1.0</td>\n",
       "    </tr>\n",
       "    <tr>\n",
       "      <th>3</th>\n",
       "      <td>M</td>\n",
       "      <td>N</td>\n",
       "      <td>Y</td>\n",
       "      <td>0</td>\n",
       "      <td>112500.0</td>\n",
       "      <td>Working</td>\n",
       "      <td>Secondary / secondary special</td>\n",
       "      <td>Married</td>\n",
       "      <td>House / apartment</td>\n",
       "      <td>-19511</td>\n",
       "      <td>-3503</td>\n",
       "      <td>1</td>\n",
       "      <td>0</td>\n",
       "      <td>0</td>\n",
       "      <td>0</td>\n",
       "      <td>Drivers</td>\n",
       "      <td>2.0</td>\n",
       "      <td>-60.0</td>\n",
       "      <td>0.0</td>\n",
       "    </tr>\n",
       "    <tr>\n",
       "      <th>4</th>\n",
       "      <td>M</td>\n",
       "      <td>N</td>\n",
       "      <td>N</td>\n",
       "      <td>0</td>\n",
       "      <td>225000.0</td>\n",
       "      <td>Commercial associate</td>\n",
       "      <td>Higher education</td>\n",
       "      <td>Married</td>\n",
       "      <td>With parents</td>\n",
       "      <td>-13021</td>\n",
       "      <td>-5082</td>\n",
       "      <td>1</td>\n",
       "      <td>1</td>\n",
       "      <td>0</td>\n",
       "      <td>0</td>\n",
       "      <td>Managers</td>\n",
       "      <td>2.0</td>\n",
       "      <td>-38.0</td>\n",
       "      <td>1.0</td>\n",
       "    </tr>\n",
       "  </tbody>\n",
       "</table>\n",
       "</div>"
      ],
      "text/plain": [
       "  gender car reality  child_num  income_total           income_type  \\\n",
       "0      M   Y       Y          4      157500.0               Working   \n",
       "1      F   N       Y          0      225000.0               Working   \n",
       "2      F   N       Y          0      225000.0               Working   \n",
       "3      M   N       Y          0      112500.0               Working   \n",
       "4      M   N       N          0      225000.0  Commercial associate   \n",
       "\n",
       "                        edu_type           family_type         house_type  \\\n",
       "0               Higher education               Married  House / apartment   \n",
       "1               Higher education                 Widow  House / apartment   \n",
       "2  Secondary / secondary special  Single / not married  House / apartment   \n",
       "3  Secondary / secondary special               Married  House / apartment   \n",
       "4               Higher education               Married       With parents   \n",
       "\n",
       "   DAYS_BIRTH  DAYS_EMPLOYED  FLAG_MOBIL  work_phone  phone  email  \\\n",
       "0      -11380          -1734           1           0      0      0   \n",
       "1      -21450         -13245           1           0      0      0   \n",
       "2      -17840          -1807           1           0      0      0   \n",
       "3      -19511          -3503           1           0      0      0   \n",
       "4      -13021          -5082           1           1      0      0   \n",
       "\n",
       "   occyp_type  family_size  begin_month  credit  \n",
       "0    Managers          6.0        -37.0     0.0  \n",
       "1  Core staff          1.0        -60.0     1.0  \n",
       "2  Core staff          1.0        -22.0     1.0  \n",
       "3     Drivers          2.0        -60.0     0.0  \n",
       "4    Managers          2.0        -38.0     1.0  "
      ]
     },
     "execution_count": 275,
     "metadata": {},
     "output_type": "execute_result"
    }
   ],
   "source": [
    "train.head()"
   ]
  },
  {
   "cell_type": "code",
   "execution_count": 276,
   "id": "0cf90596",
   "metadata": {},
   "outputs": [],
   "source": [
    "train['DAYS_EMPLOYED'] = np.abs(train['DAYS_EMPLOYED'])"
   ]
  },
  {
   "cell_type": "code",
   "execution_count": 277,
   "id": "64a0bae5",
   "metadata": {},
   "outputs": [
    {
     "data": {
      "text/plain": [
       "157500.0"
      ]
     },
     "execution_count": 277,
     "metadata": {},
     "output_type": "execute_result"
    }
   ],
   "source": [
    "train[train.DAYS_EMPLOYED < 1095].income_total.median()"
   ]
  },
  {
   "cell_type": "markdown",
   "id": "72fc463d",
   "metadata": {},
   "source": [
    "### 3-2. income_total에 대해 표준화를 실시하고 0.3 미만의 값을 가지는 데이터 중 credit이 1인 데이터의 비율을 구하시오."
   ]
  },
  {
   "cell_type": "code",
   "execution_count": 262,
   "id": "07030286",
   "metadata": {},
   "outputs": [],
   "source": [
    "from sklearn.preprocessing import StandardScaler"
   ]
  },
  {
   "cell_type": "code",
   "execution_count": 263,
   "id": "b6d41d8d",
   "metadata": {},
   "outputs": [],
   "source": [
    "scaler = StandardScaler()"
   ]
  },
  {
   "cell_type": "code",
   "execution_count": 264,
   "id": "5ac83c8d",
   "metadata": {},
   "outputs": [],
   "source": [
    "train['scaled_it'] = scaler.fit_transform(train[['income_total']])"
   ]
  },
  {
   "cell_type": "markdown",
   "id": "08d8c351",
   "metadata": {},
   "source": [
    "#### 방식1"
   ]
  },
  {
   "cell_type": "code",
   "execution_count": 265,
   "id": "bc5ea1fa",
   "metadata": {},
   "outputs": [],
   "source": [
    "df = train[train.scaled_it < 0.3]"
   ]
  },
  {
   "cell_type": "code",
   "execution_count": 266,
   "id": "d0c8d6fb",
   "metadata": {},
   "outputs": [
    {
     "data": {
      "text/plain": [
       "0.48815253609774156"
      ]
     },
     "execution_count": 266,
     "metadata": {},
     "output_type": "execute_result"
    }
   ],
   "source": [
    "df[df.credit == 1].shape[0] / df.shape[0]"
   ]
  },
  {
   "cell_type": "markdown",
   "id": "ee43f5d1",
   "metadata": {},
   "source": [
    "#### 방식2"
   ]
  },
  {
   "cell_type": "code",
   "execution_count": 267,
   "id": "e8f59799",
   "metadata": {},
   "outputs": [
    {
     "data": {
      "text/plain": [
       "0.0    2765\n",
       "1.0    2637\n",
       "Name: credit, dtype: int64"
      ]
     },
     "execution_count": 267,
     "metadata": {},
     "output_type": "execute_result"
    }
   ],
   "source": [
    "df.credit.value_counts()"
   ]
  },
  {
   "cell_type": "code",
   "execution_count": 268,
   "id": "035abded",
   "metadata": {},
   "outputs": [
    {
     "data": {
      "text/plain": [
       "0.48815253609774156"
      ]
     },
     "execution_count": 268,
     "metadata": {},
     "output_type": "execute_result"
    }
   ],
   "source": [
    "df.credit.value_counts()[1] / df.credit.value_counts().sum()"
   ]
  },
  {
   "cell_type": "markdown",
   "id": "29e6b702",
   "metadata": {},
   "source": [
    "### 3-3. credit을 예측하는 모델링을 수행하시오.  ROC_AUC_SCORE를 평가지표로 사용하고 submission의 credit을 확률 값으로 제출하고 이 때 파일명을 result3으로 저장하시오."
   ]
  },
  {
   "cell_type": "code",
   "execution_count": 291,
   "id": "33c3270c",
   "metadata": {
    "scrolled": true
   },
   "outputs": [
    {
     "name": "stderr",
     "output_type": "stream",
     "text": [
      "/opt/anaconda3/lib/python3.8/site-packages/sklearn/model_selection/_split.py:293: FutureWarning: Setting a random_state has no effect since shuffle is False. This will raise an error in 0.24. You should leave random_state to its default (None), or set shuffle=True.\n",
      "  warnings.warn(\n"
     ]
    },
    {
     "name": "stdout",
     "output_type": "stream",
     "text": [
      "LogisticRegression의 평균 roc_auc = 0.59992546875\n",
      "LGBMClassifier의 평균 roc_auc = 0.7055721875000001\n",
      "[22:56:52] WARNING: /Users/travis/build/dmlc/xgboost/src/learner.cc:1095: Starting in XGBoost 1.3.0, the default evaluation metric used with the objective 'binary:logistic' was changed from 'error' to 'logloss'. Explicitly set eval_metric if you'd like to restore the old behavior.\n"
     ]
    },
    {
     "name": "stderr",
     "output_type": "stream",
     "text": [
      "/opt/anaconda3/lib/python3.8/site-packages/xgboost/sklearn.py:1146: UserWarning: The use of label encoder in XGBClassifier is deprecated and will be removed in a future release. To remove this warning, do the following: 1) Pass option use_label_encoder=False when constructing XGBClassifier object; and 2) Encode your labels (y) as integers starting with 0, i.e. 0, 1, 2, ..., [num_class - 1].\n",
      "  warnings.warn(label_encoder_deprecation_msg, UserWarning)\n",
      "/opt/anaconda3/lib/python3.8/site-packages/xgboost/sklearn.py:1146: UserWarning: The use of label encoder in XGBClassifier is deprecated and will be removed in a future release. To remove this warning, do the following: 1) Pass option use_label_encoder=False when constructing XGBClassifier object; and 2) Encode your labels (y) as integers starting with 0, i.e. 0, 1, 2, ..., [num_class - 1].\n",
      "  warnings.warn(label_encoder_deprecation_msg, UserWarning)\n"
     ]
    },
    {
     "name": "stdout",
     "output_type": "stream",
     "text": [
      "[22:56:52] WARNING: /Users/travis/build/dmlc/xgboost/src/learner.cc:1095: Starting in XGBoost 1.3.0, the default evaluation metric used with the objective 'binary:logistic' was changed from 'error' to 'logloss'. Explicitly set eval_metric if you'd like to restore the old behavior.\n"
     ]
    },
    {
     "name": "stderr",
     "output_type": "stream",
     "text": [
      "/opt/anaconda3/lib/python3.8/site-packages/xgboost/sklearn.py:1146: UserWarning: The use of label encoder in XGBClassifier is deprecated and will be removed in a future release. To remove this warning, do the following: 1) Pass option use_label_encoder=False when constructing XGBClassifier object; and 2) Encode your labels (y) as integers starting with 0, i.e. 0, 1, 2, ..., [num_class - 1].\n",
      "  warnings.warn(label_encoder_deprecation_msg, UserWarning)\n"
     ]
    },
    {
     "name": "stdout",
     "output_type": "stream",
     "text": [
      "[22:56:53] WARNING: /Users/travis/build/dmlc/xgboost/src/learner.cc:1095: Starting in XGBoost 1.3.0, the default evaluation metric used with the objective 'binary:logistic' was changed from 'error' to 'logloss'. Explicitly set eval_metric if you'd like to restore the old behavior.\n"
     ]
    },
    {
     "name": "stderr",
     "output_type": "stream",
     "text": [
      "/opt/anaconda3/lib/python3.8/site-packages/xgboost/sklearn.py:1146: UserWarning: The use of label encoder in XGBClassifier is deprecated and will be removed in a future release. To remove this warning, do the following: 1) Pass option use_label_encoder=False when constructing XGBClassifier object; and 2) Encode your labels (y) as integers starting with 0, i.e. 0, 1, 2, ..., [num_class - 1].\n",
      "  warnings.warn(label_encoder_deprecation_msg, UserWarning)\n"
     ]
    },
    {
     "name": "stdout",
     "output_type": "stream",
     "text": [
      "[22:56:53] WARNING: /Users/travis/build/dmlc/xgboost/src/learner.cc:1095: Starting in XGBoost 1.3.0, the default evaluation metric used with the objective 'binary:logistic' was changed from 'error' to 'logloss'. Explicitly set eval_metric if you'd like to restore the old behavior.\n"
     ]
    },
    {
     "name": "stderr",
     "output_type": "stream",
     "text": [
      "/opt/anaconda3/lib/python3.8/site-packages/xgboost/sklearn.py:1146: UserWarning: The use of label encoder in XGBClassifier is deprecated and will be removed in a future release. To remove this warning, do the following: 1) Pass option use_label_encoder=False when constructing XGBClassifier object; and 2) Encode your labels (y) as integers starting with 0, i.e. 0, 1, 2, ..., [num_class - 1].\n",
      "  warnings.warn(label_encoder_deprecation_msg, UserWarning)\n"
     ]
    },
    {
     "name": "stdout",
     "output_type": "stream",
     "text": [
      "[22:56:53] WARNING: /Users/travis/build/dmlc/xgboost/src/learner.cc:1095: Starting in XGBoost 1.3.0, the default evaluation metric used with the objective 'binary:logistic' was changed from 'error' to 'logloss'. Explicitly set eval_metric if you'd like to restore the old behavior.\n",
      "XGBClassifier의 평균 roc_auc = 0.7296009375\n",
      "CPU times: user 15.4 s, sys: 3.76 s, total: 19.1 s\n",
      "Wall time: 3.03 s\n"
     ]
    }
   ],
   "source": [
    "%%time\n",
    "#train.drop('scaled_it', axis = 1, inplace = True)\n",
    "\n",
    "train['gender'] = [1 if g == 'M' else 0 for g in train['gender']]\n",
    "test['gender'] = [1 if g == 'M' else 0 for g in test['gender']]\n",
    "\n",
    "train['car'] = [1 if c == 'Y' else 0 for c in train['car']]\n",
    "test['car'] = [1 if c == 'Y' else 0 for c in test['car']]\n",
    "\n",
    "train['reality'] = [1 if r == 'Y' else 0 for r in train['reality']]\n",
    "test['reality'] = [1 if r == 'Y' else 0 for r in test['reality']]\n",
    "\n",
    "train['DAYS_EMPLOYED'] = np.abs(train['DAYS_EMPLOYED'])\n",
    "test['DAYS_EMPLOYED'] = np.abs(test['DAYS_EMPLOYED'])\n",
    "\n",
    "train['DAYS_BIRTH'] = np.abs(train['DAYS_BIRTH'])\n",
    "test['DAYS_BIRTH'] = np.abs(test['DAYS_BIRTH'])\n",
    "\n",
    "train['begin_month'] = np.abs(train['begin_month'])\n",
    "test['begin_month'] = np.abs(test['begin_month'])\n",
    "\n",
    "obj_cols = train.columns[train.dtypes == object]\n",
    "\n",
    "train.drop(obj_cols, axis = 1, inplace = True)\n",
    "\n",
    "X = train.drop('credit', axis = 1)\n",
    "y = train.credit\n",
    "\n",
    "target = test[X.columns]\n",
    "\n",
    "from sklearn.linear_model import LogisticRegression\n",
    "from lightgbm import LGBMClassifier\n",
    "from sklearn.model_selection import StratifiedKFold\n",
    "from sklearn.metrics import roc_auc_score\n",
    "from xgboost import XGBClassifier\n",
    "import numpy as np\n",
    "\n",
    "skf = StratifiedKFold(n_splits = 5, random_state = 42)\n",
    "\n",
    "lr_pred = np.zeros(target.shape[0])\n",
    "lgbm_pred = np.zeros(target.shape[0])\n",
    "xgb_pred = np.zeros(target.shape[0])\n",
    "\n",
    "lr_score = 0\n",
    "lgbm_score = 0\n",
    "xgb_score = 0\n",
    "\n",
    "for tr_idx, val_idx in skf.split(X, y) :\n",
    "    tr_x, tr_y = X.iloc[tr_idx], y.iloc[tr_idx]\n",
    "    val_x, val_y = X.iloc[val_idx], y.iloc[val_idx]\n",
    "    \n",
    "    lr_clf = LogisticRegression()\n",
    "    lr_clf.fit(tr_x, tr_y)\n",
    "    \n",
    "    val_pred = lr_clf.predict_proba(val_x)[:, 1]\n",
    "    val_score = roc_auc_score(val_y, val_pred) / 5\n",
    "    lr_score += val_score\n",
    "    \n",
    "    fold_pred = lr_clf.predict_proba(target)[:, 1] / 5\n",
    "    lr_pred += fold_pred\n",
    "    \n",
    "print(f'{lr_clf.__class__.__name__}의 평균 roc_auc = {lr_score}')\n",
    "\n",
    "\n",
    "for tr_idx, val_idx in skf.split(X, y) :\n",
    "    tr_x, tr_y = X.iloc[tr_idx], y.iloc[tr_idx]\n",
    "    val_x, val_y = X.iloc[val_idx], y.iloc[val_idx]\n",
    "    \n",
    "    lgbm = LGBMClassifier(random_state = 42)\n",
    "    lgbm.fit(tr_x, tr_y)\n",
    "    \n",
    "    val_pred = lgbm.predict_proba(val_x)[:, 1]\n",
    "    val_score = roc_auc_score(val_y, val_pred) / 5\n",
    "    lgbm_score += val_score\n",
    "    \n",
    "    fold_pred = lgbm.predict_proba(target)[:, 1] / 5\n",
    "    lgbm_pred += fold_pred\n",
    "print(f'{lgbm.__class__.__name__}의 평균 roc_auc = {lgbm_score}')\n",
    "\n",
    "\n",
    "for tr_idx, val_idx in skf.split(X, y) :\n",
    "    tr_x, tr_y = X.iloc[tr_idx], y.iloc[tr_idx]\n",
    "    val_x, val_y = X.iloc[val_idx], y.iloc[val_idx]\n",
    "    \n",
    "    xgb = XGBClassifier(random_state = 42)\n",
    "    xgb.fit(tr_x, tr_y)\n",
    "    \n",
    "    val_pred = xgb.predict_proba(val_x)[:, 1]\n",
    "    val_score = roc_auc_score(val_y, val_pred) / 5\n",
    "    xgb_score += val_score\n",
    "    \n",
    "    fold_pred = xgb.predict_proba(target)[:, 1] / 5\n",
    "    xgb_pred += fold_pred\n",
    "print(f'{xgb.__class__.__name__}의 평균 roc_auc = {xgb_score}')\n",
    "\n",
    "submission = pd.read_csv(\"credit_submission.csv\")\n",
    "submission['credit'] = (lr_pred + lgbm_pred + xgb_pred) / 3\n",
    "submission.head()\n",
    "submission.to_csv('result3.csv', index = False)"
   ]
  }
 ],
 "metadata": {
  "kernelspec": {
   "display_name": "Python 3",
   "language": "python",
   "name": "python3"
  },
  "language_info": {
   "codemirror_mode": {
    "name": "ipython",
    "version": 3
   },
   "file_extension": ".py",
   "mimetype": "text/x-python",
   "name": "python",
   "nbconvert_exporter": "python",
   "pygments_lexer": "ipython3",
   "version": "3.8.8"
  }
 },
 "nbformat": 4,
 "nbformat_minor": 5
}
