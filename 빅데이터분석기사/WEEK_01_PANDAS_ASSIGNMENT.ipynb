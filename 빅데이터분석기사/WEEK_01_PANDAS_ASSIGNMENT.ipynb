{
 "cells": [
  {
   "cell_type": "markdown",
   "id": "0384d5a3",
   "metadata": {},
   "source": [
    "# 빅데이터 분석 기사 실기 스터디 1주차 과제\n",
    "\n",
    "***\n",
    "\n",
    "## Pandas 예제(21개)\n",
    "\n",
    "### 1 ~ 15 -> 백화점 거래 데이터"
   ]
  },
  {
   "cell_type": "code",
   "execution_count": 1,
   "id": "6b33c744",
   "metadata": {},
   "outputs": [],
   "source": [
    "import pandas as pd"
   ]
  },
  {
   "cell_type": "code",
   "execution_count": 2,
   "id": "d97b74f1",
   "metadata": {},
   "outputs": [],
   "source": [
    "data = pd.read_csv('train_transactions.csv', encoding='cp949')"
   ]
  },
  {
   "cell_type": "markdown",
   "id": "4040f0bc",
   "metadata": {},
   "source": [
    "### 1. 데이터의 크기(행, 열의 수)를 출력하시오."
   ]
  },
  {
   "cell_type": "code",
   "execution_count": null,
   "id": "f63731b5",
   "metadata": {},
   "outputs": [],
   "source": []
  },
  {
   "cell_type": "markdown",
   "id": "93c8cac4",
   "metadata": {},
   "source": [
    "### 2. 데이터의 변수별 자료 형태(type)를 출력하시오."
   ]
  },
  {
   "cell_type": "code",
   "execution_count": null,
   "id": "7db22077",
   "metadata": {},
   "outputs": [],
   "source": []
  },
  {
   "cell_type": "markdown",
   "id": "9bc1f2ce",
   "metadata": {},
   "source": [
    "### 3. 데이터에 결측치가 존재하는지 확인하는 방법 두 가지를 사용하시오."
   ]
  },
  {
   "cell_type": "code",
   "execution_count": null,
   "id": "878d4f43",
   "metadata": {},
   "outputs": [],
   "source": []
  },
  {
   "cell_type": "markdown",
   "id": "3d2db37d",
   "metadata": {},
   "source": [
    "### 4. 데이터를 tot_amt 변수는 내림차순으로 sales_time은 오름차순으로 정렬하시오."
   ]
  },
  {
   "cell_type": "code",
   "execution_count": null,
   "id": "5ee242bd",
   "metadata": {},
   "outputs": [],
   "source": []
  },
  {
   "cell_type": "markdown",
   "id": "f8d075e2",
   "metadata": {},
   "source": [
    "### 5. 데이터에 corner_nm에서 \"국내\"라는 문자열이 포함되어 있는지에 대해 True/False를 반환하는 '국내제품' 변수와 \"수입\"이라는 문자열이 포함되어 있는지에 대해 True/False를 반환하는 '수입제품' 변수를 각각 생성하고 데이터 10개행만 출력하시오./"
   ]
  },
  {
   "cell_type": "code",
   "execution_count": null,
   "id": "1bd3b753",
   "metadata": {},
   "outputs": [],
   "source": []
  },
  {
   "cell_type": "markdown",
   "id": "2a376401",
   "metadata": {},
   "source": [
    "### 6. \"수입제품\" 변수를 삭제하고 데이터의 컬럼만 출력하시오."
   ]
  },
  {
   "cell_type": "code",
   "execution_count": null,
   "id": "e63a346d",
   "metadata": {},
   "outputs": [],
   "source": []
  },
  {
   "cell_type": "markdown",
   "id": "4983e4d2",
   "metadata": {},
   "source": [
    "### 7. 컬럼명 바꾸기 - str_nm을 \"지점명\"으로 brd_nm을 \"브랜드명\"으로 변경하시오."
   ]
  },
  {
   "cell_type": "code",
   "execution_count": null,
   "id": "81f434d0",
   "metadata": {},
   "outputs": [],
   "source": []
  },
  {
   "cell_type": "markdown",
   "id": "4e73553e",
   "metadata": {},
   "source": [
    "### 8. goodcd를 기준으로 마지막 행을 남기는 중복값 제거를 하고 tot_amt의 중위값을 출력하시오."
   ]
  },
  {
   "cell_type": "code",
   "execution_count": null,
   "id": "194a50b8",
   "metadata": {},
   "outputs": [],
   "source": []
  },
  {
   "cell_type": "markdown",
   "id": "a1797999",
   "metadata": {},
   "source": [
    "### 9. sales_date를 기준으로 마지막 행을 남기는 중복값 제거를 한 후 sales_tim의 분산을 출력하시오."
   ]
  },
  {
   "cell_type": "code",
   "execution_count": null,
   "id": "8352706f",
   "metadata": {},
   "outputs": [],
   "source": []
  },
  {
   "cell_type": "markdown",
   "id": "764a6c21",
   "metadata": {},
   "source": [
    "### 10. 신촌점의 가구(pc_nm 컬럼) 최대 매출(tot_amt 컬럼)과 본점의 가구 최대 매출을 비교하시오."
   ]
  },
  {
   "cell_type": "code",
   "execution_count": null,
   "id": "0342e775",
   "metadata": {},
   "outputs": [],
   "source": []
  },
  {
   "cell_type": "markdown",
   "id": "5af21c3e",
   "metadata": {},
   "source": [
    "### 11. 데이터의 sales_date를 날짜형으로 바꾸고 이를 \"날짜\" 변수로 지정하시오."
   ]
  },
  {
   "cell_type": "code",
   "execution_count": null,
   "id": "977ae09f",
   "metadata": {},
   "outputs": [],
   "source": []
  },
  {
   "cell_type": "markdown",
   "id": "bc40c992",
   "metadata": {},
   "source": [
    "### 12. 고객(custid)를 기준으로 가장 많은 구매를 한 고객 10명의 custid를 출력하시오."
   ]
  },
  {
   "cell_type": "code",
   "execution_count": null,
   "id": "2864a16f",
   "metadata": {},
   "outputs": [],
   "source": []
  },
  {
   "cell_type": "markdown",
   "id": "921e9a7a",
   "metadata": {},
   "source": [
    "### 13. 월별 평균 매출액(tot_amt)를 출력하시오."
   ]
  },
  {
   "cell_type": "code",
   "execution_count": null,
   "id": "e5c8f005",
   "metadata": {},
   "outputs": [],
   "source": []
  },
  {
   "cell_type": "markdown",
   "id": "524cca32",
   "metadata": {},
   "source": [
    "### 14. sales_time(구매시간)을 활용하여 시간별(분 제외) 거래 횟수를 구하시오."
   ]
  },
  {
   "cell_type": "code",
   "execution_count": null,
   "id": "682d5bec",
   "metadata": {},
   "outputs": [],
   "source": []
  },
  {
   "cell_type": "markdown",
   "id": "3e868938",
   "metadata": {},
   "source": [
    "### 15. 브랜드별로 가장 다양한 고객이 구매한 내역이 있는 브랜드 상위 5개를 출력하시오."
   ]
  },
  {
   "cell_type": "code",
   "execution_count": null,
   "id": "01818948",
   "metadata": {},
   "outputs": [],
   "source": []
  },
  {
   "cell_type": "markdown",
   "id": "20adce9f",
   "metadata": {},
   "source": [
    "***\n",
    "### 16 ~ 21 -> 영화 정보 데이터\n",
    "\n",
    "- title : 제목\n",
    "- distributor : 배급사\n",
    "- genre : 장르\n",
    "- release_time : 개봉일\n",
    "- time : 상영시간\n",
    "- screening_rat : 상영등급\n",
    "- director : 감독\n",
    "- dir_prev_bfnum : 이전 영화 관객수\n",
    "- dir_prev_num : 이전 제작 영화 수\n",
    "- num_staff : 투입 스태프 수\n",
    "- num_actor : 출연 배우 수\n",
    "- box_off_num : 관객 수"
   ]
  },
  {
   "cell_type": "code",
   "execution_count": 20,
   "id": "6e812fbe",
   "metadata": {},
   "outputs": [],
   "source": [
    "data = pd.read_csv(\"movies_train.csv\")"
   ]
  },
  {
   "cell_type": "markdown",
   "id": "8ab8acf7",
   "metadata": {},
   "source": [
    "### 16. 결측치가 존재하는 컬럼을 0, 평균, 중위값으로 채우고 해당 컬럼의 표준편차를 각각 출력하시오."
   ]
  },
  {
   "cell_type": "code",
   "execution_count": 18,
   "id": "26949e98",
   "metadata": {},
   "outputs": [],
   "source": []
  },
  {
   "cell_type": "markdown",
   "id": "50ca23cc",
   "metadata": {},
   "source": [
    "### 17. 감독별로 평균 관객수를 구하고 11번째부터 20번째 순위의 감독을 출력하시오."
   ]
  },
  {
   "cell_type": "code",
   "execution_count": null,
   "id": "1dd3682a",
   "metadata": {},
   "outputs": [],
   "source": []
  },
  {
   "cell_type": "markdown",
   "id": "7c77cb35",
   "metadata": {},
   "source": [
    "### 18. 개봉 월을 뜻하는 \"개봉월\" 변수를 만들고 6월과 12월에 개봉한 영화 수를 출력하시오."
   ]
  },
  {
   "cell_type": "code",
   "execution_count": null,
   "id": "cc42f935",
   "metadata": {},
   "outputs": [],
   "source": []
  },
  {
   "cell_type": "markdown",
   "id": "9fc63766",
   "metadata": {},
   "source": [
    "### 19. CJ와 롯데에서 제작한 영화에 참여한 감독의 수를 출력하시오."
   ]
  },
  {
   "cell_type": "code",
   "execution_count": null,
   "id": "4e0a277a",
   "metadata": {},
   "outputs": [],
   "source": []
  },
  {
   "cell_type": "markdown",
   "id": "ee6b6c43",
   "metadata": {},
   "source": [
    "### 20. 관객수에서 최소관객수를 뺀 변수 \"관객최소삭감\" 변수를 생성하시오."
   ]
  },
  {
   "cell_type": "code",
   "execution_count": null,
   "id": "547c7ebd",
   "metadata": {},
   "outputs": [],
   "source": []
  },
  {
   "cell_type": "markdown",
   "id": "1b141ac3",
   "metadata": {},
   "source": [
    "### 21. 개봉월과 장르별로 관객수의 최댓값을 출력하고 데이터프레임으로 변경하시오."
   ]
  },
  {
   "cell_type": "code",
   "execution_count": null,
   "id": "756d2143",
   "metadata": {},
   "outputs": [],
   "source": []
  }
 ],
 "metadata": {
  "kernelspec": {
   "display_name": "Python 3",
   "language": "python",
   "name": "python3"
  },
  "language_info": {
   "codemirror_mode": {
    "name": "ipython",
    "version": 3
   },
   "file_extension": ".py",
   "mimetype": "text/x-python",
   "name": "python",
   "nbconvert_exporter": "python",
   "pygments_lexer": "ipython3",
   "version": "3.8.8"
  }
 },
 "nbformat": 4,
 "nbformat_minor": 5
}
