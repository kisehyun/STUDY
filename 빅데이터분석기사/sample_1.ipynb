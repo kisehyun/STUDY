{
 "cells": [
  {
   "cell_type": "markdown",
   "metadata": {},
   "source": [
    "# 빅데이터 분석기사 실기 독학\n",
    "\n",
    "## dataq.or.kr에서 제공한 문제 샘플 및 데이터 샘플 활용\n",
    "\n",
    "\n",
    "### 1. 작업형 제1유형 : 데이터 처리 영역\n",
    "\n",
    "- mtcars 데이터셋의 qsec 컬럼을 최소최대 척도(Min Max Scale)로 변환한 후 0.5 보다 큰 값을 가지는 레코드 수를 구하시오."
   ]
  },
  {
   "cell_type": "code",
   "execution_count": 37,
   "metadata": {},
   "outputs": [],
   "source": [
    "import warnings\n",
    "warnings.filterwarnings('ignore')\n",
    "import pandas as pd\n",
    "import numpy as np\n",
    "import matplotlib.pyplot as plt\n",
    "import seaborn as sns\n",
    "%matplotlib inline\n",
    "from sklearn.metrics import roc_auc_score\n",
    "from sklearn.preprocessing import MinMaxScaler\n",
    "from sklearn.ensemble import VotingClassifier, GradientBoostingClassifier, RandomForestClassifier\n",
    "from lightgbm import LGBMClassifier\n",
    "from xgboost import XGBClassifier\n",
    "from catboost import CatBoostClassifier, Pool\n",
    "from sklearn.model_selection import StratifiedKFold, GridSearchCV, cross_val_score"
   ]
  },
  {
   "cell_type": "code",
   "execution_count": 2,
   "metadata": {},
   "outputs": [],
   "source": [
    "mtc = pd.read_csv(\"mtcars.csv\")"
   ]
  },
  {
   "cell_type": "code",
   "execution_count": 3,
   "metadata": {},
   "outputs": [
    {
     "data": {
      "text/html": [
       "<div>\n",
       "<style scoped>\n",
       "    .dataframe tbody tr th:only-of-type {\n",
       "        vertical-align: middle;\n",
       "    }\n",
       "\n",
       "    .dataframe tbody tr th {\n",
       "        vertical-align: top;\n",
       "    }\n",
       "\n",
       "    .dataframe thead th {\n",
       "        text-align: right;\n",
       "    }\n",
       "</style>\n",
       "<table border=\"1\" class=\"dataframe\">\n",
       "  <thead>\n",
       "    <tr style=\"text-align: right;\">\n",
       "      <th></th>\n",
       "      <th>Unnamed: 0</th>\n",
       "      <th>mpg</th>\n",
       "      <th>cyl</th>\n",
       "      <th>disp</th>\n",
       "      <th>hp</th>\n",
       "      <th>drat</th>\n",
       "      <th>wt</th>\n",
       "      <th>qsec</th>\n",
       "      <th>vs</th>\n",
       "      <th>am</th>\n",
       "      <th>gear</th>\n",
       "      <th>carb</th>\n",
       "    </tr>\n",
       "  </thead>\n",
       "  <tbody>\n",
       "    <tr>\n",
       "      <th>0</th>\n",
       "      <td>Mazda RX4</td>\n",
       "      <td>21.0</td>\n",
       "      <td>6</td>\n",
       "      <td>160.0</td>\n",
       "      <td>110</td>\n",
       "      <td>3.90</td>\n",
       "      <td>2.620</td>\n",
       "      <td>16.46</td>\n",
       "      <td>0</td>\n",
       "      <td>1</td>\n",
       "      <td>4</td>\n",
       "      <td>4</td>\n",
       "    </tr>\n",
       "    <tr>\n",
       "      <th>1</th>\n",
       "      <td>Mazda RX4 Wag</td>\n",
       "      <td>21.0</td>\n",
       "      <td>6</td>\n",
       "      <td>160.0</td>\n",
       "      <td>110</td>\n",
       "      <td>3.90</td>\n",
       "      <td>2.875</td>\n",
       "      <td>17.02</td>\n",
       "      <td>0</td>\n",
       "      <td>1</td>\n",
       "      <td>4</td>\n",
       "      <td>4</td>\n",
       "    </tr>\n",
       "    <tr>\n",
       "      <th>2</th>\n",
       "      <td>Datsun 710</td>\n",
       "      <td>22.8</td>\n",
       "      <td>4</td>\n",
       "      <td>108.0</td>\n",
       "      <td>93</td>\n",
       "      <td>3.85</td>\n",
       "      <td>2.320</td>\n",
       "      <td>18.61</td>\n",
       "      <td>1</td>\n",
       "      <td>1</td>\n",
       "      <td>4</td>\n",
       "      <td>1</td>\n",
       "    </tr>\n",
       "    <tr>\n",
       "      <th>3</th>\n",
       "      <td>Hornet 4 Drive</td>\n",
       "      <td>21.4</td>\n",
       "      <td>6</td>\n",
       "      <td>258.0</td>\n",
       "      <td>110</td>\n",
       "      <td>3.08</td>\n",
       "      <td>3.215</td>\n",
       "      <td>19.44</td>\n",
       "      <td>1</td>\n",
       "      <td>0</td>\n",
       "      <td>3</td>\n",
       "      <td>1</td>\n",
       "    </tr>\n",
       "    <tr>\n",
       "      <th>4</th>\n",
       "      <td>Hornet Sportabout</td>\n",
       "      <td>18.7</td>\n",
       "      <td>8</td>\n",
       "      <td>360.0</td>\n",
       "      <td>175</td>\n",
       "      <td>3.15</td>\n",
       "      <td>3.440</td>\n",
       "      <td>17.02</td>\n",
       "      <td>0</td>\n",
       "      <td>0</td>\n",
       "      <td>3</td>\n",
       "      <td>2</td>\n",
       "    </tr>\n",
       "  </tbody>\n",
       "</table>\n",
       "</div>"
      ],
      "text/plain": [
       "          Unnamed: 0   mpg  cyl   disp   hp  drat     wt   qsec  vs  am  gear  \\\n",
       "0          Mazda RX4  21.0    6  160.0  110  3.90  2.620  16.46   0   1     4   \n",
       "1      Mazda RX4 Wag  21.0    6  160.0  110  3.90  2.875  17.02   0   1     4   \n",
       "2         Datsun 710  22.8    4  108.0   93  3.85  2.320  18.61   1   1     4   \n",
       "3     Hornet 4 Drive  21.4    6  258.0  110  3.08  3.215  19.44   1   0     3   \n",
       "4  Hornet Sportabout  18.7    8  360.0  175  3.15  3.440  17.02   0   0     3   \n",
       "\n",
       "   carb  \n",
       "0     4  \n",
       "1     4  \n",
       "2     1  \n",
       "3     1  \n",
       "4     2  "
      ]
     },
     "execution_count": 3,
     "metadata": {},
     "output_type": "execute_result"
    }
   ],
   "source": [
    "mtc.head()"
   ]
  },
  {
   "cell_type": "code",
   "execution_count": 4,
   "metadata": {},
   "outputs": [],
   "source": [
    "target = mtc[['qsec']]"
   ]
  },
  {
   "cell_type": "markdown",
   "metadata": {},
   "source": [
    "### <center>MinMaxScaling<center>\n",
    "\n",
    "$$ \\frac{x - MIN(x)}{MAX(x) - MIN(x)} $$\n",
    "\n",
    "#### 1) sklearn minmaxscaler 사용"
   ]
  },
  {
   "cell_type": "code",
   "execution_count": 5,
   "metadata": {},
   "outputs": [],
   "source": [
    "scaler = MinMaxScaler()"
   ]
  },
  {
   "cell_type": "code",
   "execution_count": 6,
   "metadata": {},
   "outputs": [],
   "source": [
    "mtc['scaled_qsec'] = scaler.fit_transform(target)"
   ]
  },
  {
   "cell_type": "code",
   "execution_count": 7,
   "metadata": {},
   "outputs": [
    {
     "data": {
      "text/plain": [
       "3     0.588095\n",
       "5     0.680952\n",
       "7     0.654762\n",
       "8     1.000000\n",
       "10    0.523810\n",
       "17    0.591667\n",
       "19    0.642857\n",
       "20    0.655952\n",
       "25    0.523810\n",
       "Name: scaled_qsec, dtype: float64"
      ]
     },
     "execution_count": 7,
     "metadata": {},
     "output_type": "execute_result"
    }
   ],
   "source": [
    "mtc.scaled_qsec[mtc.scaled_qsec > 0.5] # 0.5 보다 큰 값들 추출"
   ]
  },
  {
   "cell_type": "code",
   "execution_count": 8,
   "metadata": {
    "scrolled": false
   },
   "outputs": [
    {
     "data": {
      "text/plain": [
       "9"
      ]
     },
     "execution_count": 8,
     "metadata": {},
     "output_type": "execute_result"
    }
   ],
   "source": [
    "mtc.qsec[mtc.scaled_qsec > 0.5].shape[0]"
   ]
  },
  {
   "cell_type": "markdown",
   "metadata": {},
   "source": [
    "#### 2) 직접 구현"
   ]
  },
  {
   "cell_type": "code",
   "execution_count": 9,
   "metadata": {},
   "outputs": [],
   "source": [
    "scaled_qsec = (mtc.qsec - mtc.qsec.min()) / (mtc.qsec.max() - mtc.qsec.min())"
   ]
  },
  {
   "cell_type": "code",
   "execution_count": 10,
   "metadata": {},
   "outputs": [
    {
     "data": {
      "text/plain": [
       "3     0.588095\n",
       "5     0.680952\n",
       "7     0.654762\n",
       "8     1.000000\n",
       "10    0.523810\n",
       "17    0.591667\n",
       "19    0.642857\n",
       "20    0.655952\n",
       "25    0.523810\n",
       "Name: scaled_qsec, dtype: float64"
      ]
     },
     "execution_count": 10,
     "metadata": {},
     "output_type": "execute_result"
    }
   ],
   "source": [
    "mtc.scaled_qsec[scaled_qsec > .5] # 0.5 보다 큰 값"
   ]
  },
  {
   "cell_type": "code",
   "execution_count": 11,
   "metadata": {},
   "outputs": [
    {
     "data": {
      "text/plain": [
       "9"
      ]
     },
     "execution_count": 11,
     "metadata": {},
     "output_type": "execute_result"
    }
   ],
   "source": [
    "mtc.qsec[scaled_qsec > .5].shape[0]"
   ]
  },
  {
   "cell_type": "markdown",
   "metadata": {},
   "source": [
    "### 2. 작업형 제2유형 : 모형 구축 및 평가 영역\n",
    "- 고객 3,500명에 대한 학습용 데이터(y_train.csv, X_train.csv)를 이용하여 성별예측 모형을 만든 후, 이를 평가용 데이터(X_test.csv)에 적용하여 얻은 2,482명 고객의 성별 예측값(남자일 확률)을 다음과 같은 형식의 CSV 파일로 생성하시오.(제출한 모델의 성능은 ROC-AUC 평가지표에 따라 채점)\n",
    "\n",
    "<font color = 'red'><유의사항>\n",
    "    \n",
    "    \n",
    "성능이 우수한 예측모형을 구축하기 위해서는 적절한 데이터 전처리, Feature Engineering, 분류 알고리즘 사용, 초매개변수 최적화, 모형 앙상블 등이 수반되어야 한다."
   ]
  },
  {
   "cell_type": "code",
   "execution_count": 12,
   "metadata": {},
   "outputs": [],
   "source": [
    "X_train = pd.read_csv(\"X_train.csv\", encoding = 'cp949')\n",
    "test = pd.read_csv(\"X_test.csv\", encoding = 'cp949')\n",
    "y_train = pd.read_csv('y_train.csv', encoding = 'cp949')\n",
    "\n",
    "#### 최종 파일 제출을 위해 별도로 test파일의 cust_id행 저장\n",
    "custid = test.cust_id"
   ]
  },
  {
   "cell_type": "code",
   "execution_count": 13,
   "metadata": {
    "scrolled": true
   },
   "outputs": [
    {
     "data": {
      "text/html": [
       "<div>\n",
       "<style scoped>\n",
       "    .dataframe tbody tr th:only-of-type {\n",
       "        vertical-align: middle;\n",
       "    }\n",
       "\n",
       "    .dataframe tbody tr th {\n",
       "        vertical-align: top;\n",
       "    }\n",
       "\n",
       "    .dataframe thead th {\n",
       "        text-align: right;\n",
       "    }\n",
       "</style>\n",
       "<table border=\"1\" class=\"dataframe\">\n",
       "  <thead>\n",
       "    <tr style=\"text-align: right;\">\n",
       "      <th></th>\n",
       "      <th>cust_id</th>\n",
       "      <th>총구매액</th>\n",
       "      <th>최대구매액</th>\n",
       "      <th>환불금액</th>\n",
       "      <th>주구매상품</th>\n",
       "      <th>주구매지점</th>\n",
       "      <th>내점일수</th>\n",
       "      <th>내점당구매건수</th>\n",
       "      <th>주말방문비율</th>\n",
       "      <th>구매주기</th>\n",
       "    </tr>\n",
       "  </thead>\n",
       "  <tbody>\n",
       "    <tr>\n",
       "      <th>0</th>\n",
       "      <td>0</td>\n",
       "      <td>68282840</td>\n",
       "      <td>11264000</td>\n",
       "      <td>6860000.0</td>\n",
       "      <td>기타</td>\n",
       "      <td>강남점</td>\n",
       "      <td>19</td>\n",
       "      <td>3.894737</td>\n",
       "      <td>0.527027</td>\n",
       "      <td>17</td>\n",
       "    </tr>\n",
       "    <tr>\n",
       "      <th>1</th>\n",
       "      <td>1</td>\n",
       "      <td>2136000</td>\n",
       "      <td>2136000</td>\n",
       "      <td>300000.0</td>\n",
       "      <td>스포츠</td>\n",
       "      <td>잠실점</td>\n",
       "      <td>2</td>\n",
       "      <td>1.500000</td>\n",
       "      <td>0.000000</td>\n",
       "      <td>1</td>\n",
       "    </tr>\n",
       "    <tr>\n",
       "      <th>2</th>\n",
       "      <td>2</td>\n",
       "      <td>3197000</td>\n",
       "      <td>1639000</td>\n",
       "      <td>NaN</td>\n",
       "      <td>남성 캐주얼</td>\n",
       "      <td>관악점</td>\n",
       "      <td>2</td>\n",
       "      <td>2.000000</td>\n",
       "      <td>0.000000</td>\n",
       "      <td>1</td>\n",
       "    </tr>\n",
       "    <tr>\n",
       "      <th>3</th>\n",
       "      <td>3</td>\n",
       "      <td>16077620</td>\n",
       "      <td>4935000</td>\n",
       "      <td>NaN</td>\n",
       "      <td>기타</td>\n",
       "      <td>광주점</td>\n",
       "      <td>18</td>\n",
       "      <td>2.444444</td>\n",
       "      <td>0.318182</td>\n",
       "      <td>16</td>\n",
       "    </tr>\n",
       "    <tr>\n",
       "      <th>4</th>\n",
       "      <td>4</td>\n",
       "      <td>29050000</td>\n",
       "      <td>24000000</td>\n",
       "      <td>NaN</td>\n",
       "      <td>보석</td>\n",
       "      <td>본  점</td>\n",
       "      <td>2</td>\n",
       "      <td>1.500000</td>\n",
       "      <td>0.000000</td>\n",
       "      <td>85</td>\n",
       "    </tr>\n",
       "  </tbody>\n",
       "</table>\n",
       "</div>"
      ],
      "text/plain": [
       "   cust_id      총구매액     최대구매액       환불금액   주구매상품 주구매지점  내점일수   내점당구매건수  \\\n",
       "0        0  68282840  11264000  6860000.0      기타   강남점    19  3.894737   \n",
       "1        1   2136000   2136000   300000.0     스포츠   잠실점     2  1.500000   \n",
       "2        2   3197000   1639000        NaN  남성 캐주얼   관악점     2  2.000000   \n",
       "3        3  16077620   4935000        NaN      기타   광주점    18  2.444444   \n",
       "4        4  29050000  24000000        NaN      보석  본  점     2  1.500000   \n",
       "\n",
       "     주말방문비율  구매주기  \n",
       "0  0.527027    17  \n",
       "1  0.000000     1  \n",
       "2  0.000000     1  \n",
       "3  0.318182    16  \n",
       "4  0.000000    85  "
      ]
     },
     "execution_count": 13,
     "metadata": {},
     "output_type": "execute_result"
    }
   ],
   "source": [
    "X_train.head()"
   ]
  },
  {
   "cell_type": "code",
   "execution_count": 14,
   "metadata": {},
   "outputs": [
    {
     "data": {
      "text/html": [
       "<div>\n",
       "<style scoped>\n",
       "    .dataframe tbody tr th:only-of-type {\n",
       "        vertical-align: middle;\n",
       "    }\n",
       "\n",
       "    .dataframe tbody tr th {\n",
       "        vertical-align: top;\n",
       "    }\n",
       "\n",
       "    .dataframe thead th {\n",
       "        text-align: right;\n",
       "    }\n",
       "</style>\n",
       "<table border=\"1\" class=\"dataframe\">\n",
       "  <thead>\n",
       "    <tr style=\"text-align: right;\">\n",
       "      <th></th>\n",
       "      <th>cust_id</th>\n",
       "      <th>총구매액</th>\n",
       "      <th>최대구매액</th>\n",
       "      <th>환불금액</th>\n",
       "      <th>주구매상품</th>\n",
       "      <th>주구매지점</th>\n",
       "      <th>내점일수</th>\n",
       "      <th>내점당구매건수</th>\n",
       "      <th>주말방문비율</th>\n",
       "      <th>구매주기</th>\n",
       "    </tr>\n",
       "  </thead>\n",
       "  <tbody>\n",
       "    <tr>\n",
       "      <th>0</th>\n",
       "      <td>3500</td>\n",
       "      <td>70900400</td>\n",
       "      <td>22000000</td>\n",
       "      <td>4050000.0</td>\n",
       "      <td>골프</td>\n",
       "      <td>부산본점</td>\n",
       "      <td>13</td>\n",
       "      <td>1.461538</td>\n",
       "      <td>0.789474</td>\n",
       "      <td>26</td>\n",
       "    </tr>\n",
       "    <tr>\n",
       "      <th>1</th>\n",
       "      <td>3501</td>\n",
       "      <td>310533100</td>\n",
       "      <td>38558000</td>\n",
       "      <td>48034700.0</td>\n",
       "      <td>농산물</td>\n",
       "      <td>잠실점</td>\n",
       "      <td>90</td>\n",
       "      <td>2.433333</td>\n",
       "      <td>0.369863</td>\n",
       "      <td>3</td>\n",
       "    </tr>\n",
       "    <tr>\n",
       "      <th>2</th>\n",
       "      <td>3502</td>\n",
       "      <td>305264140</td>\n",
       "      <td>14825000</td>\n",
       "      <td>30521000.0</td>\n",
       "      <td>가공식품</td>\n",
       "      <td>본  점</td>\n",
       "      <td>101</td>\n",
       "      <td>14.623762</td>\n",
       "      <td>0.083277</td>\n",
       "      <td>3</td>\n",
       "    </tr>\n",
       "    <tr>\n",
       "      <th>3</th>\n",
       "      <td>3503</td>\n",
       "      <td>7594080</td>\n",
       "      <td>5225000</td>\n",
       "      <td>NaN</td>\n",
       "      <td>주방용품</td>\n",
       "      <td>부산본점</td>\n",
       "      <td>5</td>\n",
       "      <td>2.000000</td>\n",
       "      <td>0.000000</td>\n",
       "      <td>47</td>\n",
       "    </tr>\n",
       "    <tr>\n",
       "      <th>4</th>\n",
       "      <td>3504</td>\n",
       "      <td>1795790</td>\n",
       "      <td>1411200</td>\n",
       "      <td>NaN</td>\n",
       "      <td>수산품</td>\n",
       "      <td>청량리점</td>\n",
       "      <td>3</td>\n",
       "      <td>2.666667</td>\n",
       "      <td>0.125000</td>\n",
       "      <td>8</td>\n",
       "    </tr>\n",
       "  </tbody>\n",
       "</table>\n",
       "</div>"
      ],
      "text/plain": [
       "   cust_id       총구매액     최대구매액        환불금액 주구매상품 주구매지점  내점일수    내점당구매건수  \\\n",
       "0     3500   70900400  22000000   4050000.0    골프  부산본점    13   1.461538   \n",
       "1     3501  310533100  38558000  48034700.0   농산물   잠실점    90   2.433333   \n",
       "2     3502  305264140  14825000  30521000.0  가공식품  본  점   101  14.623762   \n",
       "3     3503    7594080   5225000         NaN  주방용품  부산본점     5   2.000000   \n",
       "4     3504    1795790   1411200         NaN   수산품  청량리점     3   2.666667   \n",
       "\n",
       "     주말방문비율  구매주기  \n",
       "0  0.789474    26  \n",
       "1  0.369863     3  \n",
       "2  0.083277     3  \n",
       "3  0.000000    47  \n",
       "4  0.125000     8  "
      ]
     },
     "execution_count": 14,
     "metadata": {},
     "output_type": "execute_result"
    }
   ],
   "source": [
    "test.head()"
   ]
  },
  {
   "cell_type": "code",
   "execution_count": 15,
   "metadata": {
    "scrolled": false
   },
   "outputs": [
    {
     "data": {
      "text/html": [
       "<div>\n",
       "<style scoped>\n",
       "    .dataframe tbody tr th:only-of-type {\n",
       "        vertical-align: middle;\n",
       "    }\n",
       "\n",
       "    .dataframe tbody tr th {\n",
       "        vertical-align: top;\n",
       "    }\n",
       "\n",
       "    .dataframe thead th {\n",
       "        text-align: right;\n",
       "    }\n",
       "</style>\n",
       "<table border=\"1\" class=\"dataframe\">\n",
       "  <thead>\n",
       "    <tr style=\"text-align: right;\">\n",
       "      <th></th>\n",
       "      <th>cust_id</th>\n",
       "      <th>gender</th>\n",
       "    </tr>\n",
       "  </thead>\n",
       "  <tbody>\n",
       "    <tr>\n",
       "      <th>0</th>\n",
       "      <td>0</td>\n",
       "      <td>0</td>\n",
       "    </tr>\n",
       "    <tr>\n",
       "      <th>1</th>\n",
       "      <td>1</td>\n",
       "      <td>0</td>\n",
       "    </tr>\n",
       "    <tr>\n",
       "      <th>2</th>\n",
       "      <td>2</td>\n",
       "      <td>1</td>\n",
       "    </tr>\n",
       "    <tr>\n",
       "      <th>3</th>\n",
       "      <td>3</td>\n",
       "      <td>1</td>\n",
       "    </tr>\n",
       "    <tr>\n",
       "      <th>4</th>\n",
       "      <td>4</td>\n",
       "      <td>0</td>\n",
       "    </tr>\n",
       "  </tbody>\n",
       "</table>\n",
       "</div>"
      ],
      "text/plain": [
       "   cust_id  gender\n",
       "0        0       0\n",
       "1        1       0\n",
       "2        2       1\n",
       "3        3       1\n",
       "4        4       0"
      ]
     },
     "execution_count": 15,
     "metadata": {},
     "output_type": "execute_result"
    }
   ],
   "source": [
    "y_train.head()"
   ]
  },
  {
   "cell_type": "code",
   "execution_count": 16,
   "metadata": {},
   "outputs": [
    {
     "data": {
      "image/png": "[encoded data removed]",
      "text/plain": [
       "<Figure size 432x288 with 1 Axes>"
      ]
     },
     "metadata": {
      "needs_background": "light"
     },
     "output_type": "display_data"
    }
   ],
   "source": [
    "sns.countplot(y_train.gender, edgecolor = (0, 0, 0))\n",
    "plt.show()"
   ]
  },
  {
   "cell_type": "markdown",
   "metadata": {},
   "source": [
    "#### 1) 데이터 전처리"
   ]
  },
  {
   "cell_type": "code",
   "execution_count": 17,
   "metadata": {},
   "outputs": [],
   "source": [
    "train = pd.merge(X_train, y_train)"
   ]
  },
  {
   "cell_type": "markdown",
   "metadata": {},
   "source": [
    "- cust_id는 모델링에 필요하지 않으므로 삭제\n",
    "- 환불금액은 결측치가 너무 많으므로 삭제"
   ]
  },
  {
   "cell_type": "code",
   "execution_count": 18,
   "metadata": {},
   "outputs": [],
   "source": [
    "train.drop(['cust_id', '환불금액'], axis = 1, inplace = True)\n",
    "test.drop(['cust_id', '환불금액'], axis = 1, inplace = True)"
   ]
  },
  {
   "cell_type": "code",
   "execution_count": 19,
   "metadata": {},
   "outputs": [],
   "source": [
    "train.at[train[train.총구매액 < 0].index, '총구매액'] = 0\n",
    "train.at[train[train.최대구매액 < 0].index, '최대구매액'] = 0"
   ]
  },
  {
   "cell_type": "code",
   "execution_count": 20,
   "metadata": {
    "scrolled": true
   },
   "outputs": [],
   "source": [
    "test.at[test[test.총구매액 < 0].index, '총구매액'] = 0\n",
    "test.at[test[test.최대구매액 < 0].index, '최대구매액'] = 0"
   ]
  },
  {
   "cell_type": "markdown",
   "metadata": {},
   "source": [
    "#### 2) Feature Engineering"
   ]
  },
  {
   "cell_type": "code",
   "execution_count": 21,
   "metadata": {
    "scrolled": false
   },
   "outputs": [
    {
     "data": {
      "text/html": [
       "<div>\n",
       "<style scoped>\n",
       "    .dataframe tbody tr th:only-of-type {\n",
       "        vertical-align: middle;\n",
       "    }\n",
       "\n",
       "    .dataframe tbody tr th {\n",
       "        vertical-align: top;\n",
       "    }\n",
       "\n",
       "    .dataframe thead th {\n",
       "        text-align: right;\n",
       "    }\n",
       "</style>\n",
       "<table border=\"1\" class=\"dataframe\">\n",
       "  <thead>\n",
       "    <tr style=\"text-align: right;\">\n",
       "      <th></th>\n",
       "      <th>총구매액</th>\n",
       "      <th>최대구매액</th>\n",
       "      <th>내점일수</th>\n",
       "      <th>내점당구매건수</th>\n",
       "      <th>주말방문비율</th>\n",
       "      <th>구매주기</th>\n",
       "    </tr>\n",
       "    <tr>\n",
       "      <th>gender</th>\n",
       "      <th></th>\n",
       "      <th></th>\n",
       "      <th></th>\n",
       "      <th></th>\n",
       "      <th></th>\n",
       "      <th></th>\n",
       "    </tr>\n",
       "  </thead>\n",
       "  <tbody>\n",
       "    <tr>\n",
       "      <th>0</th>\n",
       "      <td>1.110067e+08</td>\n",
       "      <td>2.250431e+07</td>\n",
       "      <td>22.522894</td>\n",
       "      <td>2.900148</td>\n",
       "      <td>0.290695</td>\n",
       "      <td>20.162088</td>\n",
       "    </tr>\n",
       "    <tr>\n",
       "      <th>1</th>\n",
       "      <td>6.029865e+07</td>\n",
       "      <td>1.495320e+07</td>\n",
       "      <td>13.828267</td>\n",
       "      <td>2.726785</td>\n",
       "      <td>0.334714</td>\n",
       "      <td>22.279635</td>\n",
       "    </tr>\n",
       "  </tbody>\n",
       "</table>\n",
       "</div>"
      ],
      "text/plain": [
       "                총구매액         최대구매액       내점일수   내점당구매건수    주말방문비율       구매주기\n",
       "gender                                                                      \n",
       "0       1.110067e+08  2.250431e+07  22.522894  2.900148  0.290695  20.162088\n",
       "1       6.029865e+07  1.495320e+07  13.828267  2.726785  0.334714  22.279635"
      ]
     },
     "execution_count": 21,
     "metadata": {},
     "output_type": "execute_result"
    }
   ],
   "source": [
    "train.groupby('gender').mean()"
   ]
  },
  {
   "cell_type": "code",
   "execution_count": 22,
   "metadata": {
    "scrolled": false
   },
   "outputs": [
    {
     "data": {
      "text/plain": [
       "<matplotlib.collections.PathCollection at 0x7fb098fe4d30>"
      ]
     },
     "execution_count": 22,
     "metadata": {},
     "output_type": "execute_result"
    },
    {
     "data": {
      "image/png": "[encoded data removed]",
      "text/plain": [
       "<Figure size 432x288 with 1 Axes>"
      ]
     },
     "metadata": {
      "needs_background": "light"
     },
     "output_type": "display_data"
    }
   ],
   "source": [
    "plt.scatter(train.내점일수, train.최대구매액)"
   ]
  },
  {
   "cell_type": "markdown",
   "metadata": {},
   "source": [
    "최대구매액이 너무 크고 내점일수가 250 초과인 행 삭제"
   ]
  },
  {
   "cell_type": "code",
   "execution_count": 23,
   "metadata": {
    "scrolled": true
   },
   "outputs": [
    {
     "data": {
      "text/plain": [
       "Int64Index([21, 1541, 1626], dtype='int64')"
      ]
     },
     "execution_count": 23,
     "metadata": {},
     "output_type": "execute_result"
    }
   ],
   "source": [
    "train[(train.최대구매액 > 6e8) | (train.내점일수 > 250)].index"
   ]
  },
  {
   "cell_type": "code",
   "execution_count": 24,
   "metadata": {
    "scrolled": false
   },
   "outputs": [
    {
     "data": {
      "text/plain": [
       "<matplotlib.collections.PathCollection at 0x7fb0a33fce80>"
      ]
     },
     "execution_count": 24,
     "metadata": {},
     "output_type": "execute_result"
    },
    {
     "data": {
      "image/png": "[encoded data removed]",
      "text/plain": [
       "<Figure size 432x288 with 1 Axes>"
      ]
     },
     "metadata": {
      "needs_background": "light"
     },
     "output_type": "display_data"
    }
   ],
   "source": [
    "plt.scatter(train.내점일수, train.총구매액)"
   ]
  },
  {
   "cell_type": "markdown",
   "metadata": {},
   "source": [
    "총구매액이 너무 높은 행 삭제"
   ]
  },
  {
   "cell_type": "code",
   "execution_count": 25,
   "metadata": {
    "scrolled": true
   },
   "outputs": [
    {
     "data": {
      "text/plain": [
       "Int64Index([2513], dtype='int64')"
      ]
     },
     "execution_count": 25,
     "metadata": {},
     "output_type": "execute_result"
    }
   ],
   "source": [
    "train[train.총구매액 > 2e9].index"
   ]
  },
  {
   "cell_type": "code",
   "execution_count": 26,
   "metadata": {},
   "outputs": [
    {
     "data": {
      "text/plain": [
       "<matplotlib.collections.PathCollection at 0x7fb098fed310>"
      ]
     },
     "execution_count": 26,
     "metadata": {},
     "output_type": "execute_result"
    },
    {
     "data": {
      "image/png": "[encoded data removed]",
      "text/plain": [
       "<Figure size 432x288 with 1 Axes>"
      ]
     },
     "metadata": {
      "needs_background": "light"
     },
     "output_type": "display_data"
    }
   ],
   "source": [
    "plt.scatter(train.내점일수, train.주말방문비율)"
   ]
  },
  {
   "cell_type": "code",
   "execution_count": 27,
   "metadata": {},
   "outputs": [
    {
     "data": {
      "text/plain": [
       "<matplotlib.collections.PathCollection at 0x7fb0a34e1190>"
      ]
     },
     "execution_count": 27,
     "metadata": {},
     "output_type": "execute_result"
    },
    {
     "data": {
      "image/png": "[encoded data removed]",
      "text/plain": [
       "<Figure size 432x288 with 1 Axes>"
      ]
     },
     "metadata": {
      "needs_background": "light"
     },
     "output_type": "display_data"
    }
   ],
   "source": [
    "plt.scatter(train.내점당구매건수, train.구매주기)"
   ]
  },
  {
   "cell_type": "code",
   "execution_count": 28,
   "metadata": {},
   "outputs": [],
   "source": [
    "train = train.query('index not in [2513, 21, 1541, 1626]')"
   ]
  },
  {
   "cell_type": "markdown",
   "metadata": {},
   "source": [
    "파생변수 생성\n",
    "- female_brand = 여성들이 주로 구매한 주구매상품으로부터 생성\n",
    "- male_brand = 남성들이 주로 구매한 주구매상품으로부터 생성\n",
    "- store = 여성들이 자주 이용한 주구매지점으로부터 생성"
   ]
  },
  {
   "cell_type": "code",
   "execution_count": 29,
   "metadata": {},
   "outputs": [],
   "source": [
    "train['female_brand'] = [1 if x in ['시티웨어', '가구식품', '화장품', '모피/피혁', '디자이너', '농상물'] else 0 for x in train.주구매상품]\n",
    "test['female_brand'] = [1 if x in ['시티웨어', '가구식품', '화장품', '모피/피혁', '디자이너', '농상물'] else 0 for x in test.주구매상품]"
   ]
  },
  {
   "cell_type": "code",
   "execution_count": 30,
   "metadata": {},
   "outputs": [],
   "source": [
    "train['male_brand'] = [1 if x in ['주방가전', '주류', '남성 캐주얼', '셔츠', '남성정장', '주류'] else 0 for x in train.주구매상품]\n",
    "test['male_brand'] = [1 if x in ['주방가전', '주류', '남성 캐주얼', '셔츠', '남성정장', '주류'] else 0 for x in test.주구매상품]"
   ]
  },
  {
   "cell_type": "code",
   "execution_count": 31,
   "metadata": {},
   "outputs": [],
   "source": [
    "train['store'] = [1 if x in ['노원점', '부평점', '일산점', '부산본점', '본 점', '영등포점', '분당점', '잠실점', '강남점'] else 0 for x in train.주구매지점]\n",
    "test['store'] = [1 if x in ['노원점', '부평점', '일산점', '부산본점', '본 점', '영등포점', '분당점', '잠실점', '강남점'] else 0 for x in test.주구매지점]"
   ]
  },
  {
   "cell_type": "markdown",
   "metadata": {},
   "source": [
    "로그변환"
   ]
  },
  {
   "cell_type": "code",
   "execution_count": 32,
   "metadata": {},
   "outputs": [],
   "source": [
    "skew_df = pd.DataFrame({'before_log' : train.skew(), 'after_log' : np.log1p(train[train.columns[train.dtypes != object]]).skew()})"
   ]
  },
  {
   "cell_type": "code",
   "execution_count": 33,
   "metadata": {},
   "outputs": [
    {
     "data": {
      "text/html": [
       "<div>\n",
       "<style scoped>\n",
       "    .dataframe tbody tr th:only-of-type {\n",
       "        vertical-align: middle;\n",
       "    }\n",
       "\n",
       "    .dataframe tbody tr th {\n",
       "        vertical-align: top;\n",
       "    }\n",
       "\n",
       "    .dataframe thead th {\n",
       "        text-align: right;\n",
       "    }\n",
       "</style>\n",
       "<table border=\"1\" class=\"dataframe\">\n",
       "  <thead>\n",
       "    <tr style=\"text-align: right;\">\n",
       "      <th></th>\n",
       "      <th>before_log</th>\n",
       "      <th>after_log</th>\n",
       "    </tr>\n",
       "  </thead>\n",
       "  <tbody>\n",
       "    <tr>\n",
       "      <th>총구매액</th>\n",
       "      <td>3.618880</td>\n",
       "      <td>-1.451562</td>\n",
       "    </tr>\n",
       "    <tr>\n",
       "      <th>최대구매액</th>\n",
       "      <td>4.083017</td>\n",
       "      <td>-1.029701</td>\n",
       "    </tr>\n",
       "    <tr>\n",
       "      <th>내점일수</th>\n",
       "      <td>2.468075</td>\n",
       "      <td>0.253290</td>\n",
       "    </tr>\n",
       "    <tr>\n",
       "      <th>내점당구매건수</th>\n",
       "      <td>2.960080</td>\n",
       "      <td>0.784947</td>\n",
       "    </tr>\n",
       "    <tr>\n",
       "      <th>주말방문비율</th>\n",
       "      <td>0.940184</td>\n",
       "      <td>0.571034</td>\n",
       "    </tr>\n",
       "    <tr>\n",
       "      <th>구매주기</th>\n",
       "      <td>2.095660</td>\n",
       "      <td>-0.490068</td>\n",
       "    </tr>\n",
       "    <tr>\n",
       "      <th>gender</th>\n",
       "      <td>0.512839</td>\n",
       "      <td>0.512839</td>\n",
       "    </tr>\n",
       "    <tr>\n",
       "      <th>female_brand</th>\n",
       "      <td>1.439837</td>\n",
       "      <td>1.439837</td>\n",
       "    </tr>\n",
       "    <tr>\n",
       "      <th>male_brand</th>\n",
       "      <td>4.565533</td>\n",
       "      <td>4.565533</td>\n",
       "    </tr>\n",
       "    <tr>\n",
       "      <th>store</th>\n",
       "      <td>-0.157302</td>\n",
       "      <td>-0.157302</td>\n",
       "    </tr>\n",
       "  </tbody>\n",
       "</table>\n",
       "</div>"
      ],
      "text/plain": [
       "              before_log  after_log\n",
       "총구매액            3.618880  -1.451562\n",
       "최대구매액           4.083017  -1.029701\n",
       "내점일수            2.468075   0.253290\n",
       "내점당구매건수         2.960080   0.784947\n",
       "주말방문비율          0.940184   0.571034\n",
       "구매주기            2.095660  -0.490068\n",
       "gender          0.512839   0.512839\n",
       "female_brand    1.439837   1.439837\n",
       "male_brand      4.565533   4.565533\n",
       "store          -0.157302  -0.157302"
      ]
     },
     "execution_count": 33,
     "metadata": {},
     "output_type": "execute_result"
    }
   ],
   "source": [
    "skew_df"
   ]
  },
  {
   "cell_type": "code",
   "execution_count": 34,
   "metadata": {},
   "outputs": [],
   "source": [
    "train[['총구매액', '최대구매액', '내점일수', '내점당구매건수', '구매주기']] = np.log1p(train[['총구매액', '최대구매액', '내점일수', '내점당구매건수', '구매주기']])\n",
    "test[['총구매액', '최대구매액', '내점일수', '내점당구매건수', '구매주기']] = np.log1p(test[['총구매액', '최대구매액', '내점일수', '내점당구매건수', '구매주기']])"
   ]
  },
  {
   "cell_type": "markdown",
   "metadata": {},
   "source": [
    "#### 3) 분류알고리즘 사용\n",
    "\n",
    "- 8-Crossvalidation 시행"
   ]
  },
  {
   "cell_type": "code",
   "execution_count": 35,
   "metadata": {},
   "outputs": [],
   "source": [
    "X = train.drop(['gender', '주구매상품', '주구매지점'], axis = 1)\n",
    "y = train.gender\n",
    "test = test.drop(['주구매상품', '주구매지점'], axis = 1)"
   ]
  },
  {
   "cell_type": "code",
   "execution_count": 36,
   "metadata": {},
   "outputs": [],
   "source": [
    "skf = StratifiedKFold(n_splits = 8, shuffle = True, random_state = 420)"
   ]
  },
  {
   "cell_type": "code",
   "execution_count": 60,
   "metadata": {},
   "outputs": [
    {
     "name": "stdout",
     "output_type": "stream",
     "text": [
      "LGBMClassifier의 8-CV 실행\n",
      "XGBClassifier의 8-CV 실행\n",
      "CatBoostClassifier의 8-CV 실행\n",
      "GradientBoostingClassifier의 8-CV 실행\n",
      "RandomForestClassifier의 8-CV 실행\n"
     ]
    }
   ],
   "source": [
    "lgb = LGBMClassifier(random_state = 420)\n",
    "xgb = XGBClassifier(random_state = 420, objective = 'binary:logistic', verbosity = 0)\n",
    "cat = CatBoostClassifier(random_state = 420, silent = True, loss_function = 'CrossEntropy')\n",
    "gb = GradientBoostingClassifier(random_state = 420)\n",
    "rf = RandomForestClassifier(random_state = 420)\n",
    "\n",
    "models = [lgb, xgb, cat, gb, rf]\n",
    "score_list = []\n",
    "\n",
    "for model in models :\n",
    "    print(f'{model.__class__.__name__}의 8-CV 실행')\n",
    "    cv_score = cross_val_score(model, X, y, cv = skf, scoring = 'roc_auc', verbose = 0)\n",
    "    score_list.append(np.mean(cv_score))"
   ]
  },
  {
   "cell_type": "code",
   "execution_count": 61,
   "metadata": {},
   "outputs": [],
   "source": [
    "score_df = pd.DataFrame({'model' : [x.__class__.__name__ for x in models], 'roc_auc' : score_list})"
   ]
  },
  {
   "cell_type": "code",
   "execution_count": 62,
   "metadata": {},
   "outputs": [
    {
     "data": {
      "text/html": [
       "<div>\n",
       "<style scoped>\n",
       "    .dataframe tbody tr th:only-of-type {\n",
       "        vertical-align: middle;\n",
       "    }\n",
       "\n",
       "    .dataframe tbody tr th {\n",
       "        vertical-align: top;\n",
       "    }\n",
       "\n",
       "    .dataframe thead th {\n",
       "        text-align: right;\n",
       "    }\n",
       "</style>\n",
       "<table border=\"1\" class=\"dataframe\">\n",
       "  <thead>\n",
       "    <tr style=\"text-align: right;\">\n",
       "      <th></th>\n",
       "      <th>model</th>\n",
       "      <th>roc_auc</th>\n",
       "    </tr>\n",
       "  </thead>\n",
       "  <tbody>\n",
       "    <tr>\n",
       "      <th>0</th>\n",
       "      <td>LGBMClassifier</td>\n",
       "      <td>0.653748</td>\n",
       "    </tr>\n",
       "    <tr>\n",
       "      <th>1</th>\n",
       "      <td>XGBClassifier</td>\n",
       "      <td>0.631197</td>\n",
       "    </tr>\n",
       "    <tr>\n",
       "      <th>2</th>\n",
       "      <td>CatBoostClassifier</td>\n",
       "      <td>0.654890</td>\n",
       "    </tr>\n",
       "    <tr>\n",
       "      <th>3</th>\n",
       "      <td>GradientBoostingClassifier</td>\n",
       "      <td>0.669033</td>\n",
       "    </tr>\n",
       "    <tr>\n",
       "      <th>4</th>\n",
       "      <td>RandomForestClassifier</td>\n",
       "      <td>0.639150</td>\n",
       "    </tr>\n",
       "  </tbody>\n",
       "</table>\n",
       "</div>"
      ],
      "text/plain": [
       "                        model   roc_auc\n",
       "0              LGBMClassifier  0.653748\n",
       "1               XGBClassifier  0.631197\n",
       "2          CatBoostClassifier  0.654890\n",
       "3  GradientBoostingClassifier  0.669033\n",
       "4      RandomForestClassifier  0.639150"
      ]
     },
     "execution_count": 62,
     "metadata": {},
     "output_type": "execute_result"
    }
   ],
   "source": [
    "score_df"
   ]
  },
  {
   "cell_type": "markdown",
   "metadata": {},
   "source": [
    "#### 4) 앙상블"
   ]
  },
  {
   "cell_type": "code",
   "execution_count": 76,
   "metadata": {
    "scrolled": true
   },
   "outputs": [
    {
     "name": "stdout",
     "output_type": "stream",
     "text": [
      "1번 FOLD\n",
      "Training until validation scores don't improve for 500 rounds\n",
      "[500]\ttraining's auc: 0.897919\tvalid_1's auc: 0.644398\n",
      "Early stopping, best iteration is:\n",
      "[31]\ttraining's auc: 0.724416\tvalid_1's auc: 0.686534\n",
      "===========1번 FOLD roc_auc_score는 0.6865339944608237==========\n",
      "\n",
      "2번 FOLD\n",
      "Training until validation scores don't improve for 500 rounds\n",
      "[500]\ttraining's auc: 0.899723\tvalid_1's auc: 0.624654\n",
      "Early stopping, best iteration is:\n",
      "[27]\ttraining's auc: 0.725314\tvalid_1's auc: 0.68181\n",
      "===========2번 FOLD roc_auc_score는 0.6818100598588404==========\n",
      "\n",
      "3번 FOLD\n",
      "Training until validation scores don't improve for 500 rounds\n",
      "[500]\ttraining's auc: 0.893847\tvalid_1's auc: 0.665405\n",
      "Early stopping, best iteration is:\n",
      "[28]\ttraining's auc: 0.719841\tvalid_1's auc: 0.696641\n",
      "===========3번 FOLD roc_auc_score는 0.6966407576163673==========\n",
      "\n",
      "4번 FOLD\n",
      "Training until validation scores don't improve for 500 rounds\n",
      "[500]\ttraining's auc: 0.896909\tvalid_1's auc: 0.656459\n",
      "Early stopping, best iteration is:\n",
      "[66]\ttraining's auc: 0.749553\tvalid_1's auc: 0.683374\n",
      "===========4번 FOLD roc_auc_score는 0.6833735370320736==========\n",
      "\n",
      "5번 FOLD\n",
      "Training until validation scores don't improve for 500 rounds\n",
      "[500]\ttraining's auc: 0.894635\tvalid_1's auc: 0.630092\n",
      "Early stopping, best iteration is:\n",
      "[48]\ttraining's auc: 0.733956\tvalid_1's auc: 0.689661\n",
      "===========5번 FOLD roc_auc_score는 0.6896609488072903==========\n",
      "\n",
      "6번 FOLD\n",
      "Training until validation scores don't improve for 500 rounds\n",
      "[500]\ttraining's auc: 0.902669\tvalid_1's auc: 0.614\n",
      "Early stopping, best iteration is:\n",
      "[15]\ttraining's auc: 0.712859\tvalid_1's auc: 0.672396\n",
      "===========6번 FOLD roc_auc_score는 0.6723956937371571==========\n",
      "\n",
      "7번 FOLD\n",
      "Training until validation scores don't improve for 500 rounds\n",
      "[500]\ttraining's auc: 0.890211\tvalid_1's auc: 0.665664\n",
      "Early stopping, best iteration is:\n",
      "[39]\ttraining's auc: 0.726188\tvalid_1's auc: 0.705492\n",
      "===========7번 FOLD roc_auc_score는 0.7054924242424242==========\n",
      "\n",
      "8번 FOLD\n",
      "Training until validation scores don't improve for 500 rounds\n",
      "[500]\ttraining's auc: 0.89941\tvalid_1's auc: 0.617636\n",
      "Early stopping, best iteration is:\n",
      "[13]\ttraining's auc: 0.710162\tvalid_1's auc: 0.653498\n",
      "===========8번 FOLD roc_auc_score는 0.6534982174688058==========\n",
      "\n",
      "\n",
      "LGBMClassifier의 평균 roc_auc는 0.6836757041529727\n"
     ]
    }
   ],
   "source": [
    "lgb_pred = 0\n",
    "lgb_roc_list = []\n",
    "i = 0\n",
    "for tr_idx, val_idx in skf.split(X, y) :\n",
    "    i += 1\n",
    "    print(f'{i}번 FOLD')\n",
    "    tr_x, tr_y = X.iloc[tr_idx], y.iloc[tr_idx]\n",
    "    val_x, val_y = X.iloc[val_idx], y.iloc[val_idx]\n",
    "    \n",
    "    model = LGBMClassifier(n_estimators = 5000, metric = 'logloss', random_state = 420, max_depth = 3, objective = 'binary')\n",
    "    model.fit(tr_x, tr_y, eval_set = [(tr_x, tr_y), (val_x, val_y)],\n",
    "              early_stopping_rounds = 500, verbose = 500, eval_metric = 'auc')\n",
    "    val_pred = model.predict_proba(val_x)[:, 1]\n",
    "    roc_auc = roc_auc_score(val_y, val_pred)\n",
    "    lgb_roc_list.append(roc_auc)\n",
    "    pred = model.predict_proba(test)[:, 1] / 8\n",
    "    lgb_pred += pred\n",
    "    print(f'==========={i}번 FOLD roc_auc_score는 {roc_auc}==========\\n')\n",
    "print(f'\\n{model.__class__.__name__}의 평균 roc_auc는 {np.mean(lgb_roc_list)}')"
   ]
  },
  {
   "cell_type": "code",
   "execution_count": 86,
   "metadata": {},
   "outputs": [
    {
     "name": "stdout",
     "output_type": "stream",
     "text": [
      "1번 FOLD\n",
      "===========1번 FOLD roc_auc_score는 0.699365674975431==========\n",
      "\n",
      "2번 FOLD\n",
      "===========2번 FOLD roc_auc_score는 0.6884771732332707==========\n",
      "\n",
      "3번 FOLD\n",
      "===========3번 FOLD roc_auc_score는 0.6922071830608415==========\n",
      "\n",
      "4번 FOLD\n",
      "===========4번 FOLD roc_auc_score는 0.6887787009738229==========\n",
      "\n",
      "5번 FOLD\n",
      "===========5번 FOLD roc_auc_score는 0.6927432323773788==========\n",
      "\n",
      "6번 FOLD\n",
      "===========6번 FOLD roc_auc_score는 0.6761927097292951==========\n",
      "\n",
      "7번 FOLD\n",
      "===========7번 FOLD roc_auc_score는 0.7107843137254902==========\n",
      "\n",
      "8번 FOLD\n",
      "===========8번 FOLD roc_auc_score는 0.6551804812834225==========\n",
      "\n",
      "CatBoostClassifier의 평균 roc_auc는 0.6879661836698692\n"
     ]
    }
   ],
   "source": [
    "cat_pred = 0\n",
    "cat_score_list = []\n",
    "i = 0\n",
    "for tr_idx, val_idx in skf.split(X, y) :\n",
    "    i += 1\n",
    "    print(f'{i}번 FOLD')\n",
    "    tr_x, tr_y = X.iloc[tr_idx], y.iloc[tr_idx]\n",
    "    val_x, val_y = X.iloc[val_idx], y.iloc[val_idx]\n",
    "    cat = CatBoostClassifier(iterations = 4000, early_stopping_rounds = 500, loss_function = 'CrossEntropy', random_state = 420, silent = True, depth = 7)\n",
    "    cat.fit(tr_x, tr_y, eval_set = Pool(val_x, val_y), use_best_model = True)\n",
    "    val_pred = cat.predict_proba(val_x)[:, 1]\n",
    "    roc_auc = roc_auc_score(val_y, val_pred)\n",
    "    cat_score_list.append(roc_auc)\n",
    "    pred = cat.predict_proba(test)[:, 1] / 8\n",
    "    cat_pred += pred\n",
    "    print(f'==========={i}번 FOLD roc_auc_score는 {roc_auc}==========\\n')\n",
    "print(f'{cat.__class__.__name__}의 평균 roc_auc는 {np.mean(cat_score_list)}')"
   ]
  },
  {
   "cell_type": "code",
   "execution_count": 87,
   "metadata": {},
   "outputs": [
    {
     "name": "stdout",
     "output_type": "stream",
     "text": [
      "1번 FOLD\n",
      "[0]\tvalidation_0-auc:0.68515\tvalidation_1-auc:0.65104\n",
      "[500]\tvalidation_0-auc:0.99944\tvalidation_1-auc:0.63010\n",
      "[505]\tvalidation_0-auc:0.99946\tvalidation_1-auc:0.63133\n",
      "===========1번 FOLD roc_auc_score는 0.6852162065576699==========\n",
      "\n",
      "2번 FOLD\n",
      "[0]\tvalidation_0-auc:0.68883\tvalidation_1-auc:0.63964\n",
      "[500]\tvalidation_0-auc:0.99948\tvalidation_1-auc:0.61583\n",
      "[503]\tvalidation_0-auc:0.99949\tvalidation_1-auc:0.61679\n",
      "===========2번 FOLD roc_auc_score는 0.6778901992316627==========\n",
      "\n",
      "3번 FOLD\n",
      "[0]\tvalidation_0-auc:0.68984\tvalidation_1-auc:0.64641\n",
      "[500]\tvalidation_0-auc:0.99964\tvalidation_1-auc:0.66073\n",
      "[505]\tvalidation_0-auc:0.99965\tvalidation_1-auc:0.66115\n",
      "===========3번 FOLD roc_auc_score는 0.6851156973108193==========\n",
      "\n",
      "4번 FOLD\n",
      "[0]\tvalidation_0-auc:0.68983\tvalidation_1-auc:0.66178\n",
      "[500]\tvalidation_0-auc:0.99941\tvalidation_1-auc:0.62085\n",
      "[503]\tvalidation_0-auc:0.99941\tvalidation_1-auc:0.62013\n",
      "===========4번 FOLD roc_auc_score는 0.6734231215938533==========\n",
      "\n",
      "5번 FOLD\n",
      "[0]\tvalidation_0-auc:0.68805\tvalidation_1-auc:0.67012\n",
      "[500]\tvalidation_0-auc:0.99966\tvalidation_1-auc:0.59018\n",
      "[503]\tvalidation_0-auc:0.99967\tvalidation_1-auc:0.59081\n",
      "===========5번 FOLD roc_auc_score는 0.6967077637809346==========\n",
      "\n",
      "6번 FOLD\n",
      "[0]\tvalidation_0-auc:0.70024\tvalidation_1-auc:0.60179\n",
      "[500]\tvalidation_0-auc:0.99950\tvalidation_1-auc:0.57033\n",
      "[509]\tvalidation_0-auc:0.99956\tvalidation_1-auc:0.57047\n",
      "===========6번 FOLD roc_auc_score는 0.6739591709103905==========\n",
      "\n",
      "7번 FOLD\n",
      "[0]\tvalidation_0-auc:0.68745\tvalidation_1-auc:0.67247\n",
      "[500]\tvalidation_0-auc:0.99966\tvalidation_1-auc:0.62058\n",
      "[505]\tvalidation_0-auc:0.99969\tvalidation_1-auc:0.62087\n",
      "===========7번 FOLD roc_auc_score는 0.6939839572192513==========\n",
      "\n",
      "8번 FOLD\n",
      "[0]\tvalidation_0-auc:0.69518\tvalidation_1-auc:0.62204\n",
      "[500]\tvalidation_0-auc:0.99941\tvalidation_1-auc:0.60619\n",
      "[507]\tvalidation_0-auc:0.99944\tvalidation_1-auc:0.60733\n",
      "===========8번 FOLD roc_auc_score는 0.6527295008912656==========\n",
      "\n",
      "XGBClassifier의 평균 roc_auc는 0.6798782021869809\n"
     ]
    }
   ],
   "source": [
    "xgb_pred = 0\n",
    "xgb_score_list = []\n",
    "i = 0\n",
    "for tr_idx, val_idx in skf.split(X, y) :\n",
    "    i += 1\n",
    "    print(f'{i}번 FOLD')\n",
    "    tr_x, tr_y = X.iloc[tr_idx], y.iloc[tr_idx]\n",
    "    val_x, val_y = X.iloc[val_idx], y.iloc[val_idx]\n",
    "    \n",
    "    xgb = XGBClassifier(n_jobs = -1, objective = 'binary:logistic', n_estimators = 10000, random_state = 420, max_depth = 4)\n",
    "    \n",
    "    xgb.fit(tr_x, tr_y, eval_metric = 'auc', eval_set = [(tr_x, tr_y), (val_x, val_y)],\n",
    "            early_stopping_rounds = 500, verbose = 500)\n",
    "    val_pred = xgb.predict_proba(val_x)[:, 1]\n",
    "    roc_auc = roc_auc_score(val_y, val_pred)\n",
    "    xgb_score_list.append(roc_auc)\n",
    "    pred = xgb.predict_proba(test)[:, 1] / 8\n",
    "    xgb_pred += pred\n",
    "    print(f'==========={i}번 FOLD roc_auc_score는 {roc_auc}==========\\n')\n",
    "print(f'{xgb.__class__.__name__}의 평균 roc_auc는 {np.mean(xgb_score_list)}')"
   ]
  },
  {
   "cell_type": "code",
   "execution_count": 88,
   "metadata": {},
   "outputs": [
    {
     "name": "stdout",
     "output_type": "stream",
     "text": [
      "1번 FOLD\n",
      "===========1번 FOLD roc_auc_score는 0.6772089698918966==========\n",
      "\n",
      "2번 FOLD\n",
      "===========2번 FOLD roc_auc_score는 0.6685316715804521==========\n",
      "\n",
      "3번 FOLD\n",
      "===========3번 FOLD roc_auc_score는 0.6927879031537567==========\n",
      "\n",
      "4번 FOLD\n",
      "===========4번 FOLD roc_auc_score는 0.6772648083623694==========\n",
      "\n",
      "5번 FOLD\n",
      "===========5번 FOLD roc_auc_score는 0.6916711337443044==========\n",
      "\n",
      "6번 FOLD\n",
      "===========6번 FOLD roc_auc_score는 0.6692129009202179==========\n",
      "\n",
      "7번 FOLD\n",
      "===========7번 FOLD roc_auc_score는 0.6979166666666667==========\n",
      "\n",
      "8번 FOLD\n",
      "===========8번 FOLD roc_auc_score는 0.6542000891265597==========\n",
      "\n",
      "GradientBoostingClassifier의 평균 roc_auc는 0.678599267930778\n"
     ]
    }
   ],
   "source": [
    "gb_pred = 0\n",
    "gb_score_list = []\n",
    "i = 0\n",
    "for tr_idx, val_idx in skf.split(X, y) :\n",
    "    i += 1\n",
    "    print(f'{i}번 FOLD')\n",
    "    tr_x, tr_y = X.iloc[tr_idx], y.iloc[tr_idx]\n",
    "    val_x, val_y = X.iloc[val_idx], y.iloc[val_idx]\n",
    "    \n",
    "    gb = GradientBoostingClassifier(random_state = 420, max_depth = 3, learning_rate = 0.05)\n",
    "    \n",
    "    gb.fit(tr_x, tr_y)\n",
    "    val_pred = gb.predict_proba(val_x)[:, 1]\n",
    "    roc_auc = roc_auc_score(val_y, val_pred)\n",
    "    gb_score_list.append(roc_auc)\n",
    "    pred = gb.predict_proba(test)[:, 1] / 8\n",
    "    gb_pred += pred\n",
    "    print(f'==========={i}번 FOLD roc_auc_score는 {roc_auc}==========\\n')\n",
    "print(f'{gb.__class__.__name__}의 평균 roc_auc는 {np.mean(gb_score_list)}')"
   ]
  },
  {
   "cell_type": "code",
   "execution_count": 89,
   "metadata": {
    "scrolled": false
   },
   "outputs": [
    {
     "name": "stdout",
     "output_type": "stream",
     "text": [
      "1번 FOLD\n",
      "===========1번 FOLD roc_auc_score는 0.6864558206021621==========\n",
      "\n",
      "2번 FOLD\n",
      "===========2번 FOLD roc_auc_score는 0.689526936478156==========\n",
      "\n",
      "3번 FOLD\n",
      "===========3번 FOLD roc_auc_score는 0.6932011078352542==========\n",
      "\n",
      "4번 FOLD\n",
      "===========4번 FOLD roc_auc_score는 0.6717032967032968==========\n",
      "\n",
      "5번 FOLD\n",
      "===========5번 FOLD roc_auc_score는 0.6833623693379791==========\n",
      "\n",
      "6번 FOLD\n",
      "===========6번 FOLD roc_auc_score는 0.6788394532296971==========\n",
      "\n",
      "7번 FOLD\n",
      "===========7번 FOLD roc_auc_score는 0.6923239750445633==========\n",
      "\n",
      "8번 FOLD\n",
      "===========8번 FOLD roc_auc_score는 0.651849376114082==========\n",
      "\n",
      "RandomForestClassifier의 평균 roc_auc는 0.6809077919181489\n"
     ]
    }
   ],
   "source": [
    "rf_pred = 0\n",
    "rf_score_list = []\n",
    "i = 0\n",
    "for tr_idx, val_idx in skf.split(X, y) :\n",
    "    i += 1\n",
    "    print(f'{i}번 FOLD')\n",
    "    tr_x, tr_y = X.iloc[tr_idx], y.iloc[tr_idx]\n",
    "    val_x, val_y = X.iloc[val_idx], y.iloc[val_idx]\n",
    "    \n",
    "    rf = RandomForestClassifier(criterion = 'entropy', random_state = 420, max_depth = 4, n_estimators = 1000)\n",
    "    \n",
    "    rf.fit(tr_x, tr_y)\n",
    "    val_pred = rf.predict_proba(val_x)[:, 1]\n",
    "    roc_auc = roc_auc_score(val_y, val_pred)\n",
    "    rf_score_list.append(roc_auc)\n",
    "    pred = rf.predict_proba(test)[:, 1] / 8\n",
    "    rf_pred += pred\n",
    "    print(f'==========={i}번 FOLD roc_auc_score는 {roc_auc}==========\\n')\n",
    "print(f'{rf.__class__.__name__}의 평균 roc_auc는 {np.mean(rf_score_list)}')"
   ]
  },
  {
   "cell_type": "markdown",
   "metadata": {},
   "source": [
    "#### 5) 모형 앙상블\n",
    "- 산술평균"
   ]
  },
  {
   "cell_type": "code",
   "execution_count": 93,
   "metadata": {},
   "outputs": [],
   "source": [
    "final_pred = (lgb_pred + xgb_pred + cat_pred + rf_pred + gb_pred) / 5"
   ]
  },
  {
   "cell_type": "code",
   "execution_count": 99,
   "metadata": {},
   "outputs": [
    {
     "data": {
      "text/html": [
       "<div>\n",
       "<style scoped>\n",
       "    .dataframe tbody tr th:only-of-type {\n",
       "        vertical-align: middle;\n",
       "    }\n",
       "\n",
       "    .dataframe tbody tr th {\n",
       "        vertical-align: top;\n",
       "    }\n",
       "\n",
       "    .dataframe thead th {\n",
       "        text-align: right;\n",
       "    }\n",
       "</style>\n",
       "<table border=\"1\" class=\"dataframe\">\n",
       "  <thead>\n",
       "    <tr style=\"text-align: right;\">\n",
       "      <th></th>\n",
       "      <th>cust_id</th>\n",
       "      <th>gender</th>\n",
       "    </tr>\n",
       "  </thead>\n",
       "  <tbody>\n",
       "    <tr>\n",
       "      <th>0</th>\n",
       "      <td>3500</td>\n",
       "      <td>0.485435</td>\n",
       "    </tr>\n",
       "    <tr>\n",
       "      <th>1</th>\n",
       "      <td>3501</td>\n",
       "      <td>0.261191</td>\n",
       "    </tr>\n",
       "    <tr>\n",
       "      <th>2</th>\n",
       "      <td>3502</td>\n",
       "      <td>0.240058</td>\n",
       "    </tr>\n",
       "    <tr>\n",
       "      <th>3</th>\n",
       "      <td>3503</td>\n",
       "      <td>0.417524</td>\n",
       "    </tr>\n",
       "    <tr>\n",
       "      <th>4</th>\n",
       "      <td>3504</td>\n",
       "      <td>0.510838</td>\n",
       "    </tr>\n",
       "  </tbody>\n",
       "</table>\n",
       "</div>"
      ],
      "text/plain": [
       "   cust_id    gender\n",
       "0     3500  0.485435\n",
       "1     3501  0.261191\n",
       "2     3502  0.240058\n",
       "3     3503  0.417524\n",
       "4     3504  0.510838"
      ]
     },
     "execution_count": 99,
     "metadata": {},
     "output_type": "execute_result"
    }
   ],
   "source": [
    "submission = pd.DataFrame({'cust_id' : custid, 'gender' : final_pred})\n",
    "submission.head()"
   ]
  },
  {
   "cell_type": "code",
   "execution_count": 100,
   "metadata": {},
   "outputs": [],
   "source": [
    "submission.to_csv(\"submission.csv\", index = False)"
   ]
  },
  {
   "cell_type": "markdown",
   "metadata": {},
   "source": [
    "# Finished!"
   ]
  }
 ],
 "metadata": {
  "kernelspec": {
   "display_name": "Python 3",
   "language": "python",
   "name": "python3"
  },
  "language_info": {
   "codemirror_mode": {
    "name": "ipython",
    "version": 3
   },
   "file_extension": ".py",
   "mimetype": "text/x-python",
   "name": "python",
   "nbconvert_exporter": "python",
   "pygments_lexer": "ipython3",
   "version": "3.8.5"
  }
 },
 "nbformat": 4,
 "nbformat_minor": 4
}
