{
 "cells": [
  {
   "cell_type": "markdown",
   "id": "bf9eea68",
   "metadata": {},
   "source": [
    "## 1번 문제\n",
    "#### 데이터 : bike_train / bike_test / bike_submission\n",
    "\n",
    "### 1-1. date_time으로부터 \"월\"을 추출한 후 number_of_rentals와의 상관계수를 출력하시오."
   ]
  },
  {
   "cell_type": "code",
   "execution_count": 1,
   "id": "497498ef",
   "metadata": {},
   "outputs": [],
   "source": [
    "import pandas as pd\n",
    "import numpy as np"
   ]
  },
  {
   "cell_type": "code",
   "execution_count": 75,
   "id": "027fea4c",
   "metadata": {},
   "outputs": [],
   "source": [
    "train = pd.read_csv('bike_train.csv')\n",
    "test = pd.read_csv('bike_test.csv')\n",
    "submission = pd.read_csv('bike_submission.csv')"
   ]
  },
  {
   "cell_type": "code",
   "execution_count": 76,
   "id": "fb8523c9",
   "metadata": {},
   "outputs": [
    {
     "data": {
      "text/html": [
       "<div>\n",
       "<style scoped>\n",
       "    .dataframe tbody tr th:only-of-type {\n",
       "        vertical-align: middle;\n",
       "    }\n",
       "\n",
       "    .dataframe tbody tr th {\n",
       "        vertical-align: top;\n",
       "    }\n",
       "\n",
       "    .dataframe thead th {\n",
       "        text-align: right;\n",
       "    }\n",
       "</style>\n",
       "<table border=\"1\" class=\"dataframe\">\n",
       "  <thead>\n",
       "    <tr style=\"text-align: right;\">\n",
       "      <th></th>\n",
       "      <th>date_time</th>\n",
       "      <th>wind_direction</th>\n",
       "      <th>sky_condition</th>\n",
       "      <th>precipitation_form</th>\n",
       "      <th>wind_speed</th>\n",
       "      <th>humidity</th>\n",
       "      <th>low_temp</th>\n",
       "      <th>high_temp</th>\n",
       "      <th>Precipitation_Probability</th>\n",
       "      <th>number_of_rentals</th>\n",
       "    </tr>\n",
       "  </thead>\n",
       "  <tbody>\n",
       "    <tr>\n",
       "      <th>0</th>\n",
       "      <td>2018-04-01</td>\n",
       "      <td>207.500</td>\n",
       "      <td>4.000</td>\n",
       "      <td>0.000</td>\n",
       "      <td>3.050</td>\n",
       "      <td>75.000</td>\n",
       "      <td>12.600</td>\n",
       "      <td>21.000</td>\n",
       "      <td>30.000</td>\n",
       "      <td>22994</td>\n",
       "    </tr>\n",
       "    <tr>\n",
       "      <th>1</th>\n",
       "      <td>2018-04-02</td>\n",
       "      <td>208.317</td>\n",
       "      <td>2.950</td>\n",
       "      <td>0.000</td>\n",
       "      <td>3.278</td>\n",
       "      <td>69.833</td>\n",
       "      <td>12.812</td>\n",
       "      <td>19.000</td>\n",
       "      <td>19.500</td>\n",
       "      <td>28139</td>\n",
       "    </tr>\n",
       "    <tr>\n",
       "      <th>2</th>\n",
       "      <td>2018-04-03</td>\n",
       "      <td>213.516</td>\n",
       "      <td>2.911</td>\n",
       "      <td>0.000</td>\n",
       "      <td>2.690</td>\n",
       "      <td>74.879</td>\n",
       "      <td>10.312</td>\n",
       "      <td>15.316</td>\n",
       "      <td>19.113</td>\n",
       "      <td>26817</td>\n",
       "    </tr>\n",
       "    <tr>\n",
       "      <th>3</th>\n",
       "      <td>2018-04-04</td>\n",
       "      <td>143.836</td>\n",
       "      <td>3.692</td>\n",
       "      <td>0.425</td>\n",
       "      <td>3.138</td>\n",
       "      <td>71.849</td>\n",
       "      <td>8.312</td>\n",
       "      <td>12.368</td>\n",
       "      <td>43.493</td>\n",
       "      <td>26034</td>\n",
       "    </tr>\n",
       "    <tr>\n",
       "      <th>4</th>\n",
       "      <td>2018-04-05</td>\n",
       "      <td>95.905</td>\n",
       "      <td>4.000</td>\n",
       "      <td>0.723</td>\n",
       "      <td>3.186</td>\n",
       "      <td>73.784</td>\n",
       "      <td>5.875</td>\n",
       "      <td>10.421</td>\n",
       "      <td>63.378</td>\n",
       "      <td>2833</td>\n",
       "    </tr>\n",
       "  </tbody>\n",
       "</table>\n",
       "</div>"
      ],
      "text/plain": [
       "    date_time  wind_direction  sky_condition  precipitation_form  wind_speed  \\\n",
       "0  2018-04-01         207.500          4.000               0.000       3.050   \n",
       "1  2018-04-02         208.317          2.950               0.000       3.278   \n",
       "2  2018-04-03         213.516          2.911               0.000       2.690   \n",
       "3  2018-04-04         143.836          3.692               0.425       3.138   \n",
       "4  2018-04-05          95.905          4.000               0.723       3.186   \n",
       "\n",
       "   humidity  low_temp  high_temp  Precipitation_Probability  number_of_rentals  \n",
       "0    75.000    12.600     21.000                     30.000              22994  \n",
       "1    69.833    12.812     19.000                     19.500              28139  \n",
       "2    74.879    10.312     15.316                     19.113              26817  \n",
       "3    71.849     8.312     12.368                     43.493              26034  \n",
       "4    73.784     5.875     10.421                     63.378               2833  "
      ]
     },
     "execution_count": 76,
     "metadata": {},
     "output_type": "execute_result"
    }
   ],
   "source": [
    "train.head()"
   ]
  },
  {
   "cell_type": "code",
   "execution_count": 77,
   "id": "27d1c3b0",
   "metadata": {},
   "outputs": [
    {
     "data": {
      "text/html": [
       "<div>\n",
       "<style scoped>\n",
       "    .dataframe tbody tr th:only-of-type {\n",
       "        vertical-align: middle;\n",
       "    }\n",
       "\n",
       "    .dataframe tbody tr th {\n",
       "        vertical-align: top;\n",
       "    }\n",
       "\n",
       "    .dataframe thead th {\n",
       "        text-align: right;\n",
       "    }\n",
       "</style>\n",
       "<table border=\"1\" class=\"dataframe\">\n",
       "  <thead>\n",
       "    <tr style=\"text-align: right;\">\n",
       "      <th></th>\n",
       "      <th>date_time</th>\n",
       "      <th>wind_direction</th>\n",
       "      <th>sky_condition</th>\n",
       "      <th>precipitation_form</th>\n",
       "      <th>wind_speed</th>\n",
       "      <th>humidity</th>\n",
       "      <th>low_temp</th>\n",
       "      <th>high_temp</th>\n",
       "      <th>Precipitation_Probability</th>\n",
       "    </tr>\n",
       "  </thead>\n",
       "  <tbody>\n",
       "    <tr>\n",
       "      <th>0</th>\n",
       "      <td>2021-04-01</td>\n",
       "      <td>108.833</td>\n",
       "      <td>3.000</td>\n",
       "      <td>0.000</td>\n",
       "      <td>2.900</td>\n",
       "      <td>28.333</td>\n",
       "      <td>11.800</td>\n",
       "      <td>20.667</td>\n",
       "      <td>18.333</td>\n",
       "    </tr>\n",
       "    <tr>\n",
       "      <th>1</th>\n",
       "      <td>2021-04-02</td>\n",
       "      <td>116.717</td>\n",
       "      <td>3.850</td>\n",
       "      <td>0.000</td>\n",
       "      <td>2.662</td>\n",
       "      <td>46.417</td>\n",
       "      <td>12.000</td>\n",
       "      <td>19.000</td>\n",
       "      <td>28.500</td>\n",
       "    </tr>\n",
       "    <tr>\n",
       "      <th>2</th>\n",
       "      <td>2021-04-03</td>\n",
       "      <td>82.669</td>\n",
       "      <td>4.000</td>\n",
       "      <td>0.565</td>\n",
       "      <td>2.165</td>\n",
       "      <td>77.258</td>\n",
       "      <td>8.875</td>\n",
       "      <td>16.368</td>\n",
       "      <td>52.847</td>\n",
       "    </tr>\n",
       "    <tr>\n",
       "      <th>3</th>\n",
       "      <td>2021-04-04</td>\n",
       "      <td>44.123</td>\n",
       "      <td>3.466</td>\n",
       "      <td>0.466</td>\n",
       "      <td>3.747</td>\n",
       "      <td>63.288</td>\n",
       "      <td>6.250</td>\n",
       "      <td>17.368</td>\n",
       "      <td>37.671</td>\n",
       "    </tr>\n",
       "    <tr>\n",
       "      <th>4</th>\n",
       "      <td>2021-04-05</td>\n",
       "      <td>147.791</td>\n",
       "      <td>1.500</td>\n",
       "      <td>0.000</td>\n",
       "      <td>1.560</td>\n",
       "      <td>48.176</td>\n",
       "      <td>7.188</td>\n",
       "      <td>18.684</td>\n",
       "      <td>4.459</td>\n",
       "    </tr>\n",
       "  </tbody>\n",
       "</table>\n",
       "</div>"
      ],
      "text/plain": [
       "    date_time  wind_direction  sky_condition  precipitation_form  wind_speed  \\\n",
       "0  2021-04-01         108.833          3.000               0.000       2.900   \n",
       "1  2021-04-02         116.717          3.850               0.000       2.662   \n",
       "2  2021-04-03          82.669          4.000               0.565       2.165   \n",
       "3  2021-04-04          44.123          3.466               0.466       3.747   \n",
       "4  2021-04-05         147.791          1.500               0.000       1.560   \n",
       "\n",
       "   humidity  low_temp  high_temp  Precipitation_Probability  \n",
       "0    28.333    11.800     20.667                     18.333  \n",
       "1    46.417    12.000     19.000                     28.500  \n",
       "2    77.258     8.875     16.368                     52.847  \n",
       "3    63.288     6.250     17.368                     37.671  \n",
       "4    48.176     7.188     18.684                      4.459  "
      ]
     },
     "execution_count": 77,
     "metadata": {},
     "output_type": "execute_result"
    }
   ],
   "source": [
    "test.head()"
   ]
  },
  {
   "cell_type": "code",
   "execution_count": 78,
   "id": "bb76da2e",
   "metadata": {},
   "outputs": [
    {
     "name": "stdout",
     "output_type": "stream",
     "text": [
      "<class 'pandas.core.frame.DataFrame'>\n",
      "RangeIndex: 273 entries, 0 to 272\n",
      "Data columns (total 10 columns):\n",
      " #   Column                     Non-Null Count  Dtype  \n",
      "---  ------                     --------------  -----  \n",
      " 0   date_time                  273 non-null    object \n",
      " 1   wind_direction             273 non-null    float64\n",
      " 2   sky_condition              273 non-null    float64\n",
      " 3   precipitation_form         273 non-null    float64\n",
      " 4   wind_speed                 273 non-null    float64\n",
      " 5   humidity                   273 non-null    float64\n",
      " 6   low_temp                   273 non-null    float64\n",
      " 7   high_temp                  273 non-null    float64\n",
      " 8   Precipitation_Probability  273 non-null    float64\n",
      " 9   number_of_rentals          273 non-null    int64  \n",
      "dtypes: float64(8), int64(1), object(1)\n",
      "memory usage: 21.5+ KB\n"
     ]
    }
   ],
   "source": [
    "train.info()"
   ]
  },
  {
   "cell_type": "code",
   "execution_count": 79,
   "id": "d431093e",
   "metadata": {},
   "outputs": [
    {
     "name": "stdout",
     "output_type": "stream",
     "text": [
      "<class 'pandas.core.frame.DataFrame'>\n",
      "RangeIndex: 91 entries, 0 to 90\n",
      "Data columns (total 9 columns):\n",
      " #   Column                     Non-Null Count  Dtype  \n",
      "---  ------                     --------------  -----  \n",
      " 0   date_time                  91 non-null     object \n",
      " 1   wind_direction             91 non-null     float64\n",
      " 2   sky_condition              91 non-null     float64\n",
      " 3   precipitation_form         91 non-null     float64\n",
      " 4   wind_speed                 91 non-null     float64\n",
      " 5   humidity                   91 non-null     float64\n",
      " 6   low_temp                   91 non-null     float64\n",
      " 7   high_temp                  91 non-null     float64\n",
      " 8   Precipitation_Probability  91 non-null     float64\n",
      "dtypes: float64(8), object(1)\n",
      "memory usage: 6.5+ KB\n"
     ]
    }
   ],
   "source": [
    "test.info()"
   ]
  },
  {
   "cell_type": "code",
   "execution_count": 80,
   "id": "6424bab7",
   "metadata": {},
   "outputs": [],
   "source": [
    "train['date_time'] = pd.to_datetime(train['date_time'])"
   ]
  },
  {
   "cell_type": "code",
   "execution_count": 81,
   "id": "bc2fefab",
   "metadata": {},
   "outputs": [],
   "source": [
    "train['month'] = train['date_time'].dt.month"
   ]
  },
  {
   "cell_type": "markdown",
   "id": "cd7c64ac",
   "metadata": {},
   "source": [
    "#### 방식1 - pandas 이용"
   ]
  },
  {
   "cell_type": "code",
   "execution_count": 82,
   "id": "838f5d6c",
   "metadata": {
    "scrolled": false
   },
   "outputs": [
    {
     "data": {
      "text/plain": [
       "0.3200193248576612"
      ]
     },
     "execution_count": 82,
     "metadata": {},
     "output_type": "execute_result"
    }
   ],
   "source": [
    "train.corr()['month']['number_of_rentals']"
   ]
  },
  {
   "cell_type": "markdown",
   "id": "8e2f7a66",
   "metadata": {},
   "source": [
    "#### 방식2 - pandas 이용"
   ]
  },
  {
   "cell_type": "code",
   "execution_count": 83,
   "id": "6f49c45a",
   "metadata": {
    "scrolled": true
   },
   "outputs": [
    {
     "data": {
      "text/plain": [
       "0.32001932485766116"
      ]
     },
     "execution_count": 83,
     "metadata": {},
     "output_type": "execute_result"
    }
   ],
   "source": [
    "train[['month', 'number_of_rentals']].corr().iloc[0, 1]"
   ]
  },
  {
   "cell_type": "markdown",
   "id": "c786985e",
   "metadata": {},
   "source": [
    "#### 방식3 - numpy이용"
   ]
  },
  {
   "cell_type": "code",
   "execution_count": 84,
   "id": "3dc5d0b1",
   "metadata": {},
   "outputs": [
    {
     "data": {
      "text/plain": [
       "0.32001932485766127"
      ]
     },
     "execution_count": 84,
     "metadata": {},
     "output_type": "execute_result"
    }
   ],
   "source": [
    "np.corrcoef(train['month'], train['number_of_rentals'])[0, 1]"
   ]
  },
  {
   "cell_type": "markdown",
   "id": "6b358e6f",
   "metadata": {},
   "source": [
    "### 1-2. wind_direction에 대해 표준화를 실시한 후 결괏값이 0.2 이상 0.35 미만인 데이터의 수를 구하시오."
   ]
  },
  {
   "cell_type": "code",
   "execution_count": 85,
   "id": "e8aae2bd",
   "metadata": {},
   "outputs": [],
   "source": [
    "from sklearn.preprocessing import StandardScaler"
   ]
  },
  {
   "cell_type": "code",
   "execution_count": 86,
   "id": "2d731390",
   "metadata": {},
   "outputs": [],
   "source": [
    "ss = StandardScaler()"
   ]
  },
  {
   "cell_type": "code",
   "execution_count": 87,
   "id": "98b49c17",
   "metadata": {},
   "outputs": [],
   "source": [
    "train['wd_ss'] = ss.fit_transform(train[['wind_direction']])"
   ]
  },
  {
   "cell_type": "code",
   "execution_count": 88,
   "id": "d265512d",
   "metadata": {},
   "outputs": [],
   "source": [
    "result = train[(train.wd_ss >= 0.2) & (train.wd_ss < 0.35)]"
   ]
  },
  {
   "cell_type": "code",
   "execution_count": 89,
   "id": "5e7db3ba",
   "metadata": {},
   "outputs": [
    {
     "data": {
      "text/plain": [
       "15"
      ]
     },
     "execution_count": 89,
     "metadata": {},
     "output_type": "execute_result"
    }
   ],
   "source": [
    "result.shape[0]"
   ]
  },
  {
   "cell_type": "markdown",
   "id": "e03328ae",
   "metadata": {},
   "source": [
    "#### 번외 문제> 1-2에서 필터링된 데이터의 number_of_rentals의 왜도, 첨도를 구하시오.\n",
    "\n",
    "- 왜도 : 데이터의 왜곡 정도 0을 기준으로 - 혹은 +에 따라서 왼쪽 혹은 오른쪽으로 데이터가 치우친 정도를 의미한다.\n",
    "- 첨도 : 데이터의 정규 분포 형태(종모양)가 값 3을 기준으로 뾰족한지 납작한지에 따라서 데이터의 분포형태를 의미한다."
   ]
  },
  {
   "cell_type": "code",
   "execution_count": 90,
   "id": "b9026494",
   "metadata": {
    "scrolled": true
   },
   "outputs": [
    {
     "data": {
      "text/plain": [
       "0.20611065773849632"
      ]
     },
     "execution_count": 90,
     "metadata": {},
     "output_type": "execute_result"
    }
   ],
   "source": [
    "result.number_of_rentals.skew()\n",
    "# .mean(), .median() 등 메서드 형식으로 사용 가능"
   ]
  },
  {
   "cell_type": "markdown",
   "id": "bb7eb3d0",
   "metadata": {},
   "source": [
    "#### 왜도 응용!\n",
    "\n",
    "- 데이터의 스케일링을 조정할 때 Scaler를 사용한다.\n",
    "- 로그변환 : 로그의 밑이 10, 2, e이냐에 따라서 사용가능한 메서드들이 다양하다."
   ]
  },
  {
   "cell_type": "code",
   "execution_count": 91,
   "id": "63fa5657",
   "metadata": {},
   "outputs": [
    {
     "data": {
      "text/plain": [
       "wind_direction              -0.479340\n",
       "sky_condition                0.308760\n",
       "precipitation_form           2.324876\n",
       "wind_speed                   0.845148\n",
       "humidity                     0.102738\n",
       "low_temp                    -0.386117\n",
       "high_temp                   -0.534360\n",
       "Precipitation_Probability    1.420029\n",
       "number_of_rentals           -0.099294\n",
       "month                        0.000000\n",
       "wd_ss                       -0.479340\n",
       "dtype: float64"
      ]
     },
     "execution_count": 91,
     "metadata": {},
     "output_type": "execute_result"
    }
   ],
   "source": [
    "train.skew()"
   ]
  },
  {
   "cell_type": "code",
   "execution_count": 92,
   "id": "05f4dd31",
   "metadata": {},
   "outputs": [
    {
     "data": {
      "text/plain": [
       "0    0.000000\n",
       "1    0.000000\n",
       "2    0.000000\n",
       "3    0.354172\n",
       "4    0.544067\n",
       "Name: precipitation_form, dtype: float64"
      ]
     },
     "execution_count": 92,
     "metadata": {},
     "output_type": "execute_result"
    }
   ],
   "source": [
    "np.log1p(train['precipitation_form'])[:5]"
   ]
  },
  {
   "cell_type": "code",
   "execution_count": 93,
   "id": "c4e40a01",
   "metadata": {},
   "outputs": [
    {
     "name": "stderr",
     "output_type": "stream",
     "text": [
      "/opt/anaconda3/lib/python3.8/site-packages/pandas/core/arraylike.py:358: RuntimeWarning: divide by zero encountered in log\n",
      "  result = getattr(ufunc, method)(*inputs, **kwargs)\n"
     ]
    },
    {
     "data": {
      "text/plain": [
       "0        -inf\n",
       "1        -inf\n",
       "2        -inf\n",
       "3   -0.855666\n",
       "4   -0.324346\n",
       "Name: precipitation_form, dtype: float64"
      ]
     },
     "execution_count": 93,
     "metadata": {},
     "output_type": "execute_result"
    }
   ],
   "source": [
    "np.log(train['precipitation_form'])[:5]"
   ]
  },
  {
   "cell_type": "code",
   "execution_count": 94,
   "id": "f7e8eb9c",
   "metadata": {},
   "outputs": [
    {
     "name": "stderr",
     "output_type": "stream",
     "text": [
      "/opt/anaconda3/lib/python3.8/site-packages/pandas/core/arraylike.py:358: RuntimeWarning: divide by zero encountered in log2\n",
      "  result = getattr(ufunc, method)(*inputs, **kwargs)\n"
     ]
    },
    {
     "data": {
      "text/plain": [
       "0        -inf\n",
       "1        -inf\n",
       "2        -inf\n",
       "3   -1.234465\n",
       "4   -0.467932\n",
       "Name: precipitation_form, dtype: float64"
      ]
     },
     "execution_count": 94,
     "metadata": {},
     "output_type": "execute_result"
    }
   ],
   "source": [
    "np.log2(train['precipitation_form'])[:5]"
   ]
  },
  {
   "cell_type": "code",
   "execution_count": 95,
   "id": "c0598616",
   "metadata": {},
   "outputs": [
    {
     "data": {
      "text/plain": [
       "(array([208.,  16.,   7.,  13.,  10.,   8.,   2.,   6.,   0.,   3.]),\n",
       " array([0. , 0.1, 0.2, 0.3, 0.4, 0.5, 0.6, 0.7, 0.8, 0.9, 1. ]),\n",
       " <BarContainer object of 10 artists>)"
      ]
     },
     "execution_count": 95,
     "metadata": {},
     "output_type": "execute_result"
    },
    {
     "data": {
      "image/png": "[encoded data removed]",
      "text/plain": [
       "<Figure size 432x288 with 1 Axes>"
      ]
     },
     "metadata": {
      "needs_background": "light"
     },
     "output_type": "display_data"
    }
   ],
   "source": [
    "plt.hist(train['precipitation_form'])"
   ]
  },
  {
   "cell_type": "code",
   "execution_count": 96,
   "id": "91b6e5c8",
   "metadata": {},
   "outputs": [],
   "source": [
    "import matplotlib.pyplot as plt\n",
    "%matplotlib inline"
   ]
  },
  {
   "cell_type": "code",
   "execution_count": 97,
   "id": "45f8abe1",
   "metadata": {},
   "outputs": [
    {
     "data": {
      "image/png": "[encoded data removed]",
      "text/plain": [
       "<Figure size 432x288 with 1 Axes>"
      ]
     },
     "metadata": {
      "needs_background": "light"
     },
     "output_type": "display_data"
    }
   ],
   "source": [
    "plt.hist(result.number_of_rentals)\n",
    "plt.show()"
   ]
  },
  {
   "cell_type": "code",
   "execution_count": 98,
   "id": "da6ccfad",
   "metadata": {},
   "outputs": [
    {
     "data": {
      "text/plain": [
       "-0.7053118161546879"
      ]
     },
     "execution_count": 98,
     "metadata": {},
     "output_type": "execute_result"
    }
   ],
   "source": [
    "result.number_of_rentals.kurt()"
   ]
  },
  {
   "cell_type": "markdown",
   "id": "4d56a658",
   "metadata": {},
   "source": [
    "### 1-3. number_of_rentals를 예측하는 모델링을 수행하시오. submission 파일에 test 데이터의 예측값을 채워넣고 파일명을 result1으로 저장하시오."
   ]
  },
  {
   "cell_type": "code",
   "execution_count": 99,
   "id": "cf6bbbe4",
   "metadata": {},
   "outputs": [],
   "source": [
    "test['date_time'] = pd.to_datetime(test['date_time'])"
   ]
  },
  {
   "cell_type": "code",
   "execution_count": 100,
   "id": "86b3a49c",
   "metadata": {},
   "outputs": [],
   "source": [
    "train.drop('wd_ss', axis = 1, inplace = True)"
   ]
  },
  {
   "cell_type": "code",
   "execution_count": 102,
   "id": "887615dc",
   "metadata": {},
   "outputs": [],
   "source": [
    "test['date_time'] = pd.to_datetime(test['date_time'])"
   ]
  },
  {
   "cell_type": "code",
   "execution_count": 103,
   "id": "3a791c27",
   "metadata": {},
   "outputs": [],
   "source": [
    "test['month'] = test['date_time'].dt.month"
   ]
  },
  {
   "cell_type": "code",
   "execution_count": 104,
   "id": "1cf44c9e",
   "metadata": {},
   "outputs": [],
   "source": [
    "train.drop('date_time', axis = 1, inplace = True)\n",
    "test.drop('date_time', axis = 1, inplace = True)"
   ]
  },
  {
   "cell_type": "code",
   "execution_count": 5,
   "id": "1422c58d",
   "metadata": {},
   "outputs": [],
   "source": [
    "from sklearn.preprocessing import MinMaxScaler"
   ]
  },
  {
   "cell_type": "code",
   "execution_count": 6,
   "id": "259f506b",
   "metadata": {},
   "outputs": [],
   "source": [
    "ms = MinMaxScaler()"
   ]
  },
  {
   "cell_type": "code",
   "execution_count": 107,
   "id": "d20a028a",
   "metadata": {},
   "outputs": [],
   "source": [
    "X = train.drop('number_of_rentals', axis = 1)\n",
    "y = train.number_of_rentals\n",
    "\n",
    "target = test[X.columns]"
   ]
  },
  {
   "cell_type": "code",
   "execution_count": 109,
   "id": "1af42b8b",
   "metadata": {},
   "outputs": [
    {
     "data": {
      "text/html": [
       "<div>\n",
       "<style scoped>\n",
       "    .dataframe tbody tr th:only-of-type {\n",
       "        vertical-align: middle;\n",
       "    }\n",
       "\n",
       "    .dataframe tbody tr th {\n",
       "        vertical-align: top;\n",
       "    }\n",
       "\n",
       "    .dataframe thead th {\n",
       "        text-align: right;\n",
       "    }\n",
       "</style>\n",
       "<table border=\"1\" class=\"dataframe\">\n",
       "  <thead>\n",
       "    <tr style=\"text-align: right;\">\n",
       "      <th></th>\n",
       "      <th>wind_direction</th>\n",
       "      <th>sky_condition</th>\n",
       "      <th>precipitation_form</th>\n",
       "      <th>wind_speed</th>\n",
       "      <th>humidity</th>\n",
       "      <th>low_temp</th>\n",
       "      <th>high_temp</th>\n",
       "      <th>Precipitation_Probability</th>\n",
       "      <th>month</th>\n",
       "    </tr>\n",
       "  </thead>\n",
       "  <tbody>\n",
       "    <tr>\n",
       "      <th>0</th>\n",
       "      <td>207.500</td>\n",
       "      <td>4.000</td>\n",
       "      <td>0.000</td>\n",
       "      <td>3.050</td>\n",
       "      <td>75.000</td>\n",
       "      <td>12.600</td>\n",
       "      <td>21.000</td>\n",
       "      <td>30.000</td>\n",
       "      <td>4</td>\n",
       "    </tr>\n",
       "    <tr>\n",
       "      <th>1</th>\n",
       "      <td>208.317</td>\n",
       "      <td>2.950</td>\n",
       "      <td>0.000</td>\n",
       "      <td>3.278</td>\n",
       "      <td>69.833</td>\n",
       "      <td>12.812</td>\n",
       "      <td>19.000</td>\n",
       "      <td>19.500</td>\n",
       "      <td>4</td>\n",
       "    </tr>\n",
       "    <tr>\n",
       "      <th>2</th>\n",
       "      <td>213.516</td>\n",
       "      <td>2.911</td>\n",
       "      <td>0.000</td>\n",
       "      <td>2.690</td>\n",
       "      <td>74.879</td>\n",
       "      <td>10.312</td>\n",
       "      <td>15.316</td>\n",
       "      <td>19.113</td>\n",
       "      <td>4</td>\n",
       "    </tr>\n",
       "    <tr>\n",
       "      <th>3</th>\n",
       "      <td>143.836</td>\n",
       "      <td>3.692</td>\n",
       "      <td>0.425</td>\n",
       "      <td>3.138</td>\n",
       "      <td>71.849</td>\n",
       "      <td>8.312</td>\n",
       "      <td>12.368</td>\n",
       "      <td>43.493</td>\n",
       "      <td>4</td>\n",
       "    </tr>\n",
       "    <tr>\n",
       "      <th>4</th>\n",
       "      <td>95.905</td>\n",
       "      <td>4.000</td>\n",
       "      <td>0.723</td>\n",
       "      <td>3.186</td>\n",
       "      <td>73.784</td>\n",
       "      <td>5.875</td>\n",
       "      <td>10.421</td>\n",
       "      <td>63.378</td>\n",
       "      <td>4</td>\n",
       "    </tr>\n",
       "  </tbody>\n",
       "</table>\n",
       "</div>"
      ],
      "text/plain": [
       "   wind_direction  sky_condition  precipitation_form  wind_speed  humidity  \\\n",
       "0         207.500          4.000               0.000       3.050    75.000   \n",
       "1         208.317          2.950               0.000       3.278    69.833   \n",
       "2         213.516          2.911               0.000       2.690    74.879   \n",
       "3         143.836          3.692               0.425       3.138    71.849   \n",
       "4          95.905          4.000               0.723       3.186    73.784   \n",
       "\n",
       "   low_temp  high_temp  Precipitation_Probability  month  \n",
       "0    12.600     21.000                     30.000      4  \n",
       "1    12.812     19.000                     19.500      4  \n",
       "2    10.312     15.316                     19.113      4  \n",
       "3     8.312     12.368                     43.493      4  \n",
       "4     5.875     10.421                     63.378      4  "
      ]
     },
     "execution_count": 109,
     "metadata": {},
     "output_type": "execute_result"
    }
   ],
   "source": [
    "X.head()"
   ]
  },
  {
   "cell_type": "code",
   "execution_count": 110,
   "id": "37e446ef",
   "metadata": {
    "scrolled": true
   },
   "outputs": [
    {
     "data": {
      "text/html": [
       "<div>\n",
       "<style scoped>\n",
       "    .dataframe tbody tr th:only-of-type {\n",
       "        vertical-align: middle;\n",
       "    }\n",
       "\n",
       "    .dataframe tbody tr th {\n",
       "        vertical-align: top;\n",
       "    }\n",
       "\n",
       "    .dataframe thead th {\n",
       "        text-align: right;\n",
       "    }\n",
       "</style>\n",
       "<table border=\"1\" class=\"dataframe\">\n",
       "  <thead>\n",
       "    <tr style=\"text-align: right;\">\n",
       "      <th></th>\n",
       "      <th>wind_direction</th>\n",
       "      <th>sky_condition</th>\n",
       "      <th>precipitation_form</th>\n",
       "      <th>wind_speed</th>\n",
       "      <th>humidity</th>\n",
       "      <th>low_temp</th>\n",
       "      <th>high_temp</th>\n",
       "      <th>Precipitation_Probability</th>\n",
       "      <th>month</th>\n",
       "    </tr>\n",
       "  </thead>\n",
       "  <tbody>\n",
       "    <tr>\n",
       "      <th>0</th>\n",
       "      <td>108.833</td>\n",
       "      <td>3.000</td>\n",
       "      <td>0.000</td>\n",
       "      <td>2.900</td>\n",
       "      <td>28.333</td>\n",
       "      <td>11.800</td>\n",
       "      <td>20.667</td>\n",
       "      <td>18.333</td>\n",
       "      <td>4</td>\n",
       "    </tr>\n",
       "    <tr>\n",
       "      <th>1</th>\n",
       "      <td>116.717</td>\n",
       "      <td>3.850</td>\n",
       "      <td>0.000</td>\n",
       "      <td>2.662</td>\n",
       "      <td>46.417</td>\n",
       "      <td>12.000</td>\n",
       "      <td>19.000</td>\n",
       "      <td>28.500</td>\n",
       "      <td>4</td>\n",
       "    </tr>\n",
       "    <tr>\n",
       "      <th>2</th>\n",
       "      <td>82.669</td>\n",
       "      <td>4.000</td>\n",
       "      <td>0.565</td>\n",
       "      <td>2.165</td>\n",
       "      <td>77.258</td>\n",
       "      <td>8.875</td>\n",
       "      <td>16.368</td>\n",
       "      <td>52.847</td>\n",
       "      <td>4</td>\n",
       "    </tr>\n",
       "    <tr>\n",
       "      <th>3</th>\n",
       "      <td>44.123</td>\n",
       "      <td>3.466</td>\n",
       "      <td>0.466</td>\n",
       "      <td>3.747</td>\n",
       "      <td>63.288</td>\n",
       "      <td>6.250</td>\n",
       "      <td>17.368</td>\n",
       "      <td>37.671</td>\n",
       "      <td>4</td>\n",
       "    </tr>\n",
       "    <tr>\n",
       "      <th>4</th>\n",
       "      <td>147.791</td>\n",
       "      <td>1.500</td>\n",
       "      <td>0.000</td>\n",
       "      <td>1.560</td>\n",
       "      <td>48.176</td>\n",
       "      <td>7.188</td>\n",
       "      <td>18.684</td>\n",
       "      <td>4.459</td>\n",
       "      <td>4</td>\n",
       "    </tr>\n",
       "  </tbody>\n",
       "</table>\n",
       "</div>"
      ],
      "text/plain": [
       "   wind_direction  sky_condition  precipitation_form  wind_speed  humidity  \\\n",
       "0         108.833          3.000               0.000       2.900    28.333   \n",
       "1         116.717          3.850               0.000       2.662    46.417   \n",
       "2          82.669          4.000               0.565       2.165    77.258   \n",
       "3          44.123          3.466               0.466       3.747    63.288   \n",
       "4         147.791          1.500               0.000       1.560    48.176   \n",
       "\n",
       "   low_temp  high_temp  Precipitation_Probability  month  \n",
       "0    11.800     20.667                     18.333      4  \n",
       "1    12.000     19.000                     28.500      4  \n",
       "2     8.875     16.368                     52.847      4  \n",
       "3     6.250     17.368                     37.671      4  \n",
       "4     7.188     18.684                      4.459      4  "
      ]
     },
     "execution_count": 110,
     "metadata": {},
     "output_type": "execute_result"
    }
   ],
   "source": [
    "target.head()"
   ]
  },
  {
   "cell_type": "code",
   "execution_count": 120,
   "id": "7292537b",
   "metadata": {},
   "outputs": [
    {
     "data": {
      "text/plain": [
       "(273, 9)"
      ]
     },
     "execution_count": 120,
     "metadata": {},
     "output_type": "execute_result"
    }
   ],
   "source": [
    "X.shape"
   ]
  },
  {
   "cell_type": "code",
   "execution_count": 111,
   "id": "c8f3bd3a",
   "metadata": {},
   "outputs": [],
   "source": [
    "scaled_X = ms.fit_transform(X)"
   ]
  },
  {
   "cell_type": "code",
   "execution_count": 112,
   "id": "3d2f14f2",
   "metadata": {},
   "outputs": [],
   "source": [
    "scaled_target = ms.transform(target)"
   ]
  },
  {
   "cell_type": "code",
   "execution_count": 113,
   "id": "48fad8a5",
   "metadata": {},
   "outputs": [],
   "source": [
    "X = pd.DataFrame(scaled_X, columns = X.columns)"
   ]
  },
  {
   "cell_type": "code",
   "execution_count": 114,
   "id": "b62ca548",
   "metadata": {},
   "outputs": [],
   "source": [
    "target = pd.DataFrame(scaled_target, columns = X.columns)"
   ]
  },
  {
   "cell_type": "code",
   "execution_count": 118,
   "id": "22c50d4c",
   "metadata": {},
   "outputs": [],
   "source": [
    "from sklearn.svm import SVR\n",
    "from sklearn.tree import DecisionTreeRegressor\n",
    "from sklearn.model_selection import train_test_split, KFold\n",
    "from sklearn.metrics import mean_absolute_error"
   ]
  },
  {
   "cell_type": "code",
   "execution_count": 119,
   "id": "c96cf3bf",
   "metadata": {},
   "outputs": [],
   "source": [
    "kf = KFold(n_splits = 5, random_state = 42, shuffle = True)"
   ]
  },
  {
   "cell_type": "markdown",
   "id": "624ecb08",
   "metadata": {},
   "source": [
    "### Hold Out"
   ]
  },
  {
   "cell_type": "code",
   "execution_count": 137,
   "id": "43d04192",
   "metadata": {},
   "outputs": [],
   "source": [
    "X_train, X_val, y_train, y_val = train_test_split(X, y, test_size = 0.2, random_state = 42)"
   ]
  },
  {
   "cell_type": "code",
   "execution_count": 138,
   "id": "2c563f5d",
   "metadata": {},
   "outputs": [],
   "source": [
    "svr = SVR()\n",
    "dtr = DecisionTreeRegressor(random_state = 42)"
   ]
  },
  {
   "cell_type": "code",
   "execution_count": 139,
   "id": "12ee6617",
   "metadata": {},
   "outputs": [
    {
     "data": {
      "text/plain": [
       "DecisionTreeRegressor(random_state=42)"
      ]
     },
     "execution_count": 139,
     "metadata": {},
     "output_type": "execute_result"
    }
   ],
   "source": [
    "svr.fit(X_train, y_train)\n",
    "dtr.fit(X_train, y_train)"
   ]
  },
  {
   "cell_type": "code",
   "execution_count": 140,
   "id": "49e12ff4",
   "metadata": {},
   "outputs": [],
   "source": [
    "svr_pred = svr.predict(X_val)\n",
    "dtr_pred = dtr.predict(X_val)"
   ]
  },
  {
   "cell_type": "code",
   "execution_count": 141,
   "id": "da19416c",
   "metadata": {},
   "outputs": [],
   "source": [
    "svr_mae = mean_absolute_error(y_val, svr_pred)\n",
    "dtr_mae = mean_absolute_error(y_val, dtr_pred)"
   ]
  },
  {
   "cell_type": "code",
   "execution_count": 142,
   "id": "e013cddb",
   "metadata": {
    "scrolled": true
   },
   "outputs": [
    {
     "data": {
      "text/plain": [
       "(26783.916009269604, 12411.018181818183)"
      ]
     },
     "execution_count": 142,
     "metadata": {},
     "output_type": "execute_result"
    }
   ],
   "source": [
    "svr_mae, dtr_mae"
   ]
  },
  {
   "cell_type": "code",
   "execution_count": 143,
   "id": "899999bf",
   "metadata": {},
   "outputs": [],
   "source": [
    "dtr_pred = dtr.predict(target)"
   ]
  },
  {
   "cell_type": "code",
   "execution_count": 144,
   "id": "1ab4bd6b",
   "metadata": {},
   "outputs": [],
   "source": [
    "submission['number_of_rentals'] = dtr_pred"
   ]
  },
  {
   "cell_type": "code",
   "execution_count": 146,
   "id": "660c33f7",
   "metadata": {},
   "outputs": [
    {
     "data": {
      "text/html": [
       "<div>\n",
       "<style scoped>\n",
       "    .dataframe tbody tr th:only-of-type {\n",
       "        vertical-align: middle;\n",
       "    }\n",
       "\n",
       "    .dataframe tbody tr th {\n",
       "        vertical-align: top;\n",
       "    }\n",
       "\n",
       "    .dataframe thead th {\n",
       "        text-align: right;\n",
       "    }\n",
       "</style>\n",
       "<table border=\"1\" class=\"dataframe\">\n",
       "  <thead>\n",
       "    <tr style=\"text-align: right;\">\n",
       "      <th></th>\n",
       "      <th>index</th>\n",
       "      <th>number_of_rentals</th>\n",
       "    </tr>\n",
       "  </thead>\n",
       "  <tbody>\n",
       "    <tr>\n",
       "      <th>0</th>\n",
       "      <td>0</td>\n",
       "      <td>29497.0</td>\n",
       "    </tr>\n",
       "    <tr>\n",
       "      <th>1</th>\n",
       "      <td>1</td>\n",
       "      <td>8095.0</td>\n",
       "    </tr>\n",
       "    <tr>\n",
       "      <th>2</th>\n",
       "      <td>2</td>\n",
       "      <td>29375.0</td>\n",
       "    </tr>\n",
       "    <tr>\n",
       "      <th>3</th>\n",
       "      <td>3</td>\n",
       "      <td>26484.0</td>\n",
       "    </tr>\n",
       "    <tr>\n",
       "      <th>4</th>\n",
       "      <td>4</td>\n",
       "      <td>63995.0</td>\n",
       "    </tr>\n",
       "    <tr>\n",
       "      <th>...</th>\n",
       "      <td>...</td>\n",
       "      <td>...</td>\n",
       "    </tr>\n",
       "    <tr>\n",
       "      <th>86</th>\n",
       "      <td>86</td>\n",
       "      <td>67346.0</td>\n",
       "    </tr>\n",
       "    <tr>\n",
       "      <th>87</th>\n",
       "      <td>87</td>\n",
       "      <td>81089.0</td>\n",
       "    </tr>\n",
       "    <tr>\n",
       "      <th>88</th>\n",
       "      <td>88</td>\n",
       "      <td>58133.0</td>\n",
       "    </tr>\n",
       "    <tr>\n",
       "      <th>89</th>\n",
       "      <td>89</td>\n",
       "      <td>77056.0</td>\n",
       "    </tr>\n",
       "    <tr>\n",
       "      <th>90</th>\n",
       "      <td>90</td>\n",
       "      <td>81089.0</td>\n",
       "    </tr>\n",
       "  </tbody>\n",
       "</table>\n",
       "<p>91 rows × 2 columns</p>\n",
       "</div>"
      ],
      "text/plain": [
       "    index  number_of_rentals\n",
       "0       0            29497.0\n",
       "1       1             8095.0\n",
       "2       2            29375.0\n",
       "3       3            26484.0\n",
       "4       4            63995.0\n",
       "..    ...                ...\n",
       "86     86            67346.0\n",
       "87     87            81089.0\n",
       "88     88            58133.0\n",
       "89     89            77056.0\n",
       "90     90            81089.0\n",
       "\n",
       "[91 rows x 2 columns]"
      ]
     },
     "execution_count": 146,
     "metadata": {},
     "output_type": "execute_result"
    }
   ],
   "source": [
    "submission"
   ]
  },
  {
   "cell_type": "code",
   "execution_count": 130,
   "id": "e81c654a",
   "metadata": {},
   "outputs": [],
   "source": [
    "#submission.to_csv('result1.csv', index = False)"
   ]
  },
  {
   "cell_type": "markdown",
   "id": "a62b8a2e",
   "metadata": {},
   "source": [
    "### Ensemble"
   ]
  },
  {
   "cell_type": "code",
   "execution_count": 150,
   "id": "d047ed36",
   "metadata": {},
   "outputs": [
    {
     "name": "stdout",
     "output_type": "stream",
     "text": [
      "-0.0032674552447267136\n",
      "-0.016216358993947466\n",
      "-0.04353981763384862\n",
      "-0.0012645417232337586\n",
      "-0.019505421899865594\n"
     ]
    },
    {
     "data": {
      "text/plain": [
       "24140.065225841397"
      ]
     },
     "execution_count": 150,
     "metadata": {},
     "output_type": "execute_result"
    }
   ],
   "source": [
    "maes = []\n",
    "r2s = []\n",
    "svr_pred = np.zeros(target.shape[0])\n",
    "for tr_idx, val_idx in kf.split(X, y) :\n",
    "    tr_x, tr_y = X.iloc[tr_idx], y.iloc[tr_idx]\n",
    "    val_x, val_y = X.iloc[val_idx], y.iloc[val_idx]\n",
    "    \n",
    "    svr = SVR()\n",
    "    svr.fit(tr_x, tr_y)\n",
    "    \n",
    "    val_pred = svr.predict(val_x)\n",
    "    r2 = svr.score(val_x, val_y)\n",
    "    print(r2)\n",
    "    val_mae = mean_absolute_error(val_y, val_pred)\n",
    "    maes.append(val_mae)\n",
    "    \n",
    "    fold_pred = svr.predict(target) / 5\n",
    "    svr_pred += fold_pred\n",
    "\n",
    "np.mean(maes)"
   ]
  },
  {
   "cell_type": "code",
   "execution_count": 133,
   "id": "afdc3ee1",
   "metadata": {},
   "outputs": [
    {
     "data": {
      "text/plain": [
       "16974.96861952862"
      ]
     },
     "execution_count": 133,
     "metadata": {},
     "output_type": "execute_result"
    }
   ],
   "source": [
    "maes = []\n",
    "dtr_pred = np.zeros(target.shape[0])\n",
    "for tr_idx, val_idx in kf.split(X, y) :\n",
    "    tr_x, tr_y = X.iloc[tr_idx], y.iloc[tr_idx]\n",
    "    val_x, val_y = X.iloc[val_idx], y.iloc[val_idx]\n",
    "    \n",
    "    dtr = DecisionTreeRegressor(random_state = 42)\n",
    "    dtr.fit(tr_x, tr_y)\n",
    "    \n",
    "    val_pred = dtr.predict(val_x)\n",
    "    val_mae = mean_absolute_error(val_y, val_pred)\n",
    "    maes.append(val_mae)\n",
    "    \n",
    "    fold_pred = dtr.predict(target) / 5\n",
    "    dtr_pred += fold_pred\n",
    "\n",
    "np.mean(maes)"
   ]
  },
  {
   "cell_type": "code",
   "execution_count": 134,
   "id": "5ca69c83",
   "metadata": {},
   "outputs": [],
   "source": [
    "final_pred = dtr_pred * 0.7 + svr_pred * 0.3"
   ]
  },
  {
   "cell_type": "code",
   "execution_count": 135,
   "id": "9647be7a",
   "metadata": {},
   "outputs": [],
   "source": [
    "submission['number_of_rentals'] = final_pred"
   ]
  },
  {
   "cell_type": "code",
   "execution_count": 136,
   "id": "2eee979e",
   "metadata": {
    "scrolled": false
   },
   "outputs": [
    {
     "data": {
      "text/html": [
       "<div>\n",
       "<style scoped>\n",
       "    .dataframe tbody tr th:only-of-type {\n",
       "        vertical-align: middle;\n",
       "    }\n",
       "\n",
       "    .dataframe tbody tr th {\n",
       "        vertical-align: top;\n",
       "    }\n",
       "\n",
       "    .dataframe thead th {\n",
       "        text-align: right;\n",
       "    }\n",
       "</style>\n",
       "<table border=\"1\" class=\"dataframe\">\n",
       "  <thead>\n",
       "    <tr style=\"text-align: right;\">\n",
       "      <th></th>\n",
       "      <th>index</th>\n",
       "      <th>number_of_rentals</th>\n",
       "    </tr>\n",
       "  </thead>\n",
       "  <tbody>\n",
       "    <tr>\n",
       "      <th>0</th>\n",
       "      <td>0</td>\n",
       "      <td>40917.015982</td>\n",
       "    </tr>\n",
       "    <tr>\n",
       "      <th>1</th>\n",
       "      <td>1</td>\n",
       "      <td>34493.139009</td>\n",
       "    </tr>\n",
       "    <tr>\n",
       "      <th>2</th>\n",
       "      <td>2</td>\n",
       "      <td>45880.443429</td>\n",
       "    </tr>\n",
       "    <tr>\n",
       "      <th>3</th>\n",
       "      <td>3</td>\n",
       "      <td>34623.944554</td>\n",
       "    </tr>\n",
       "    <tr>\n",
       "      <th>4</th>\n",
       "      <td>4</td>\n",
       "      <td>63674.167752</td>\n",
       "    </tr>\n",
       "    <tr>\n",
       "      <th>...</th>\n",
       "      <td>...</td>\n",
       "      <td>...</td>\n",
       "    </tr>\n",
       "    <tr>\n",
       "      <th>86</th>\n",
       "      <td>86</td>\n",
       "      <td>72746.600910</td>\n",
       "    </tr>\n",
       "    <tr>\n",
       "      <th>87</th>\n",
       "      <td>87</td>\n",
       "      <td>79751.832274</td>\n",
       "    </tr>\n",
       "    <tr>\n",
       "      <th>88</th>\n",
       "      <td>88</td>\n",
       "      <td>76313.579034</td>\n",
       "    </tr>\n",
       "    <tr>\n",
       "      <th>89</th>\n",
       "      <td>89</td>\n",
       "      <td>75131.642364</td>\n",
       "    </tr>\n",
       "    <tr>\n",
       "      <th>90</th>\n",
       "      <td>90</td>\n",
       "      <td>74020.552181</td>\n",
       "    </tr>\n",
       "  </tbody>\n",
       "</table>\n",
       "<p>91 rows × 2 columns</p>\n",
       "</div>"
      ],
      "text/plain": [
       "    index  number_of_rentals\n",
       "0       0       40917.015982\n",
       "1       1       34493.139009\n",
       "2       2       45880.443429\n",
       "3       3       34623.944554\n",
       "4       4       63674.167752\n",
       "..    ...                ...\n",
       "86     86       72746.600910\n",
       "87     87       79751.832274\n",
       "88     88       76313.579034\n",
       "89     89       75131.642364\n",
       "90     90       74020.552181\n",
       "\n",
       "[91 rows x 2 columns]"
      ]
     },
     "execution_count": 136,
     "metadata": {},
     "output_type": "execute_result"
    }
   ],
   "source": [
    "submission"
   ]
  },
  {
   "cell_type": "markdown",
   "id": "cafacc65",
   "metadata": {},
   "source": [
    "***\n",
    "\n",
    "- linear_model : coef_\n",
    "- Tree & Boosting : feature_importance_"
   ]
  },
  {
   "cell_type": "code",
   "execution_count": 155,
   "id": "6bc91d79",
   "metadata": {},
   "outputs": [],
   "source": [
    "from sklearn.linear_model import LinearRegression"
   ]
  },
  {
   "cell_type": "code",
   "execution_count": 156,
   "id": "11ecb2dc",
   "metadata": {},
   "outputs": [],
   "source": [
    "lr = LinearRegression()"
   ]
  },
  {
   "cell_type": "code",
   "execution_count": 157,
   "id": "0feb612b",
   "metadata": {
    "scrolled": true
   },
   "outputs": [
    {
     "data": {
      "text/plain": [
       "LinearRegression()"
      ]
     },
     "execution_count": 157,
     "metadata": {},
     "output_type": "execute_result"
    }
   ],
   "source": [
    "lr.fit(X_train, y_train)"
   ]
  },
  {
   "cell_type": "code",
   "execution_count": 159,
   "id": "337ed7ce",
   "metadata": {},
   "outputs": [
    {
     "data": {
      "text/html": [
       "<div>\n",
       "<style scoped>\n",
       "    .dataframe tbody tr th:only-of-type {\n",
       "        vertical-align: middle;\n",
       "    }\n",
       "\n",
       "    .dataframe tbody tr th {\n",
       "        vertical-align: top;\n",
       "    }\n",
       "\n",
       "    .dataframe thead th {\n",
       "        text-align: right;\n",
       "    }\n",
       "</style>\n",
       "<table border=\"1\" class=\"dataframe\">\n",
       "  <thead>\n",
       "    <tr style=\"text-align: right;\">\n",
       "      <th></th>\n",
       "      <th>features</th>\n",
       "      <th>importance(coef)</th>\n",
       "    </tr>\n",
       "  </thead>\n",
       "  <tbody>\n",
       "    <tr>\n",
       "      <th>0</th>\n",
       "      <td>wind_direction</td>\n",
       "      <td>16240.630126</td>\n",
       "    </tr>\n",
       "    <tr>\n",
       "      <th>1</th>\n",
       "      <td>sky_condition</td>\n",
       "      <td>27765.170167</td>\n",
       "    </tr>\n",
       "    <tr>\n",
       "      <th>2</th>\n",
       "      <td>precipitation_form</td>\n",
       "      <td>49842.410035</td>\n",
       "    </tr>\n",
       "    <tr>\n",
       "      <th>3</th>\n",
       "      <td>wind_speed</td>\n",
       "      <td>-47949.170032</td>\n",
       "    </tr>\n",
       "    <tr>\n",
       "      <th>4</th>\n",
       "      <td>humidity</td>\n",
       "      <td>11767.044216</td>\n",
       "    </tr>\n",
       "    <tr>\n",
       "      <th>5</th>\n",
       "      <td>low_temp</td>\n",
       "      <td>-31586.579930</td>\n",
       "    </tr>\n",
       "    <tr>\n",
       "      <th>6</th>\n",
       "      <td>high_temp</td>\n",
       "      <td>32388.000474</td>\n",
       "    </tr>\n",
       "    <tr>\n",
       "      <th>7</th>\n",
       "      <td>Precipitation_Probability</td>\n",
       "      <td>-126555.033665</td>\n",
       "    </tr>\n",
       "    <tr>\n",
       "      <th>8</th>\n",
       "      <td>month</td>\n",
       "      <td>17475.544607</td>\n",
       "    </tr>\n",
       "  </tbody>\n",
       "</table>\n",
       "</div>"
      ],
      "text/plain": [
       "                    features  importance(coef)\n",
       "0             wind_direction      16240.630126\n",
       "1              sky_condition      27765.170167\n",
       "2         precipitation_form      49842.410035\n",
       "3                 wind_speed     -47949.170032\n",
       "4                   humidity      11767.044216\n",
       "5                   low_temp     -31586.579930\n",
       "6                  high_temp      32388.000474\n",
       "7  Precipitation_Probability    -126555.033665\n",
       "8                      month      17475.544607"
      ]
     },
     "execution_count": 159,
     "metadata": {},
     "output_type": "execute_result"
    }
   ],
   "source": [
    "pd.DataFrame({'features' : X_train.columns, 'importance(coef)' : lr.coef_})"
   ]
  },
  {
   "cell_type": "code",
   "execution_count": 161,
   "id": "43e4e51e",
   "metadata": {},
   "outputs": [
    {
     "data": {
      "text/html": [
       "<div>\n",
       "<style scoped>\n",
       "    .dataframe tbody tr th:only-of-type {\n",
       "        vertical-align: middle;\n",
       "    }\n",
       "\n",
       "    .dataframe tbody tr th {\n",
       "        vertical-align: top;\n",
       "    }\n",
       "\n",
       "    .dataframe thead th {\n",
       "        text-align: right;\n",
       "    }\n",
       "</style>\n",
       "<table border=\"1\" class=\"dataframe\">\n",
       "  <thead>\n",
       "    <tr style=\"text-align: right;\">\n",
       "      <th></th>\n",
       "      <th>features</th>\n",
       "      <th>importance(coef)</th>\n",
       "    </tr>\n",
       "  </thead>\n",
       "  <tbody>\n",
       "    <tr>\n",
       "      <th>0</th>\n",
       "      <td>wind_direction</td>\n",
       "      <td>0.081770</td>\n",
       "    </tr>\n",
       "    <tr>\n",
       "      <th>1</th>\n",
       "      <td>sky_condition</td>\n",
       "      <td>0.099293</td>\n",
       "    </tr>\n",
       "    <tr>\n",
       "      <th>2</th>\n",
       "      <td>precipitation_form</td>\n",
       "      <td>0.025361</td>\n",
       "    </tr>\n",
       "    <tr>\n",
       "      <th>3</th>\n",
       "      <td>wind_speed</td>\n",
       "      <td>0.409386</td>\n",
       "    </tr>\n",
       "    <tr>\n",
       "      <th>4</th>\n",
       "      <td>humidity</td>\n",
       "      <td>0.097673</td>\n",
       "    </tr>\n",
       "    <tr>\n",
       "      <th>5</th>\n",
       "      <td>low_temp</td>\n",
       "      <td>0.100978</td>\n",
       "    </tr>\n",
       "    <tr>\n",
       "      <th>6</th>\n",
       "      <td>high_temp</td>\n",
       "      <td>0.029038</td>\n",
       "    </tr>\n",
       "    <tr>\n",
       "      <th>7</th>\n",
       "      <td>Precipitation_Probability</td>\n",
       "      <td>0.092032</td>\n",
       "    </tr>\n",
       "    <tr>\n",
       "      <th>8</th>\n",
       "      <td>month</td>\n",
       "      <td>0.064468</td>\n",
       "    </tr>\n",
       "  </tbody>\n",
       "</table>\n",
       "</div>"
      ],
      "text/plain": [
       "                    features  importance(coef)\n",
       "0             wind_direction          0.081770\n",
       "1              sky_condition          0.099293\n",
       "2         precipitation_form          0.025361\n",
       "3                 wind_speed          0.409386\n",
       "4                   humidity          0.097673\n",
       "5                   low_temp          0.100978\n",
       "6                  high_temp          0.029038\n",
       "7  Precipitation_Probability          0.092032\n",
       "8                      month          0.064468"
      ]
     },
     "execution_count": 161,
     "metadata": {},
     "output_type": "execute_result"
    }
   ],
   "source": [
    "pd.DataFrame({'features' : X_train.columns, 'importance(coef)' : dtr.feature_importances_})"
   ]
  },
  {
   "cell_type": "markdown",
   "id": "52bd6959",
   "metadata": {},
   "source": [
    "***\n",
    "## 2번 문제\n",
    "\n",
    "#### 데이터 : sal_train / sal_test / sal_submission\n",
    "### 2-1. 선수별 나이를 변수로 생성하고 나이와 Salary간의 상관계수를 출력하시오."
   ]
  },
  {
   "cell_type": "code",
   "execution_count": 364,
   "id": "1d539bda",
   "metadata": {},
   "outputs": [],
   "source": [
    "train = pd.read_csv('sal_train.csv')\n",
    "test = pd.read_csv('sal_test.csv')\n",
    "submission = pd.read_csv('sal_submission.csv')"
   ]
  },
  {
   "cell_type": "code",
   "execution_count": 365,
   "id": "b6fe0489",
   "metadata": {},
   "outputs": [
    {
     "name": "stdout",
     "output_type": "stream",
     "text": [
      "<class 'pandas.core.frame.DataFrame'>\n",
      "RangeIndex: 612 entries, 0 to 611\n",
      "Data columns (total 9 columns):\n",
      " #   Column    Non-Null Count  Dtype  \n",
      "---  ------    --------------  -----  \n",
      " 0   Salary    612 non-null    int64  \n",
      " 1   Born      612 non-null    object \n",
      " 2   Nat       612 non-null    object \n",
      " 3   Ht        612 non-null    int64  \n",
      " 4   Wt        612 non-null    int64  \n",
      " 5   DftYr     512 non-null    float64\n",
      " 6   Ovrl      512 non-null    float64\n",
      " 7   Position  612 non-null    object \n",
      " 8   GP        612 non-null    int64  \n",
      "dtypes: float64(2), int64(4), object(3)\n",
      "memory usage: 43.2+ KB\n"
     ]
    }
   ],
   "source": [
    "train.info()"
   ]
  },
  {
   "cell_type": "code",
   "execution_count": 366,
   "id": "f167fad6",
   "metadata": {},
   "outputs": [
    {
     "name": "stdout",
     "output_type": "stream",
     "text": [
      "<class 'pandas.core.frame.DataFrame'>\n",
      "RangeIndex: 262 entries, 0 to 261\n",
      "Data columns (total 8 columns):\n",
      " #   Column    Non-Null Count  Dtype  \n",
      "---  ------    --------------  -----  \n",
      " 0   Born      262 non-null    object \n",
      " 1   Nat       262 non-null    object \n",
      " 2   Ht        262 non-null    int64  \n",
      " 3   Wt        262 non-null    int64  \n",
      " 4   DftYr     237 non-null    float64\n",
      " 5   Ovrl      237 non-null    float64\n",
      " 6   Position  262 non-null    object \n",
      " 7   GP        262 non-null    int64  \n",
      "dtypes: float64(2), int64(3), object(3)\n",
      "memory usage: 16.5+ KB\n"
     ]
    }
   ],
   "source": [
    "test.info()"
   ]
  },
  {
   "cell_type": "code",
   "execution_count": 368,
   "id": "62514b4f",
   "metadata": {},
   "outputs": [
    {
     "data": {
      "text/plain": [
       "0     1988-11-05\n",
       "1     2000-02-29\n",
       "2     1992-04-24\n",
       "3     1999-07-05\n",
       "4     1996-10-27\n",
       "         ...    \n",
       "257   1997-03-11\n",
       "258   1995-01-30\n",
       "259   1997-06-18\n",
       "260   1998-09-21\n",
       "261   1991-03-18\n",
       "Name: Born, Length: 262, dtype: datetime64[ns]"
      ]
     },
     "execution_count": 368,
     "metadata": {},
     "output_type": "execute_result"
    }
   ],
   "source": [
    "pd.to_datetime(test['Born'], yearfirst = True) # 꿀팁"
   ]
  },
  {
   "cell_type": "code",
   "execution_count": 340,
   "id": "f637182f",
   "metadata": {},
   "outputs": [],
   "source": [
    "train['year'] = train['Born'].str[:2]"
   ]
  },
  {
   "cell_type": "code",
   "execution_count": 341,
   "id": "2d9d5ba3",
   "metadata": {
    "scrolled": false
   },
   "outputs": [
    {
     "data": {
      "text/plain": [
       "('98', '72')"
      ]
     },
     "execution_count": 341,
     "metadata": {},
     "output_type": "execute_result"
    }
   ],
   "source": [
    "train.year.max(), train.year.min()"
   ]
  },
  {
   "cell_type": "code",
   "execution_count": 342,
   "id": "1fee9800",
   "metadata": {},
   "outputs": [],
   "source": [
    "train['year']  = [int('19' + b) for b in train['Born'].str[:2]]"
   ]
  },
  {
   "cell_type": "code",
   "execution_count": 343,
   "id": "dd3c0b4b",
   "metadata": {},
   "outputs": [],
   "source": [
    "train['age'] = 2021 - train['year']"
   ]
  },
  {
   "cell_type": "code",
   "execution_count": 344,
   "id": "53e3dcb7",
   "metadata": {
    "scrolled": true
   },
   "outputs": [
    {
     "data": {
      "text/plain": [
       "0.42558301930320863"
      ]
     },
     "execution_count": 344,
     "metadata": {},
     "output_type": "execute_result"
    }
   ],
   "source": [
    "np.corrcoef(train['Salary'], train['age'])[0, 1]"
   ]
  },
  {
   "cell_type": "markdown",
   "id": "45a779da",
   "metadata": {},
   "source": [
    "### 2-2. Ovrl가 이상치인 선수들 중에서 오른쪽 포지션(R)을 소화할 수 있는 선수들의 비율을 출력하시오.\n",
    "\n",
    "- 결측치를 평균으로 대치하고 풀이"
   ]
  },
  {
   "cell_type": "code",
   "execution_count": 345,
   "id": "6972f87a",
   "metadata": {},
   "outputs": [],
   "source": [
    "train.fillna(train.mean(), inplace = True)\n",
    "test.fillna(test.mean(), inplace = True)"
   ]
  },
  {
   "cell_type": "code",
   "execution_count": 346,
   "id": "6cbd6843",
   "metadata": {},
   "outputs": [],
   "source": [
    "q1 = np.percentile(train['Ovrl'], 25)\n",
    "q3 = np.percentile(train['Ovrl'], 75)"
   ]
  },
  {
   "cell_type": "code",
   "execution_count": 347,
   "id": "404c63cf",
   "metadata": {},
   "outputs": [
    {
     "data": {
      "text/plain": [
       "(19.0, 90.0)"
      ]
     },
     "execution_count": 347,
     "metadata": {},
     "output_type": "execute_result"
    }
   ],
   "source": [
    "q1, q3"
   ]
  },
  {
   "cell_type": "code",
   "execution_count": 348,
   "id": "0ab57b01",
   "metadata": {},
   "outputs": [],
   "source": [
    "### quantile -> 4분위수를 의미한다 0 ~ 1값을 갖는다.\n",
    "q1 = train['Ovrl'].quantile(0.25)\n",
    "q3 = train['Ovrl'].quantile(0.75)"
   ]
  },
  {
   "cell_type": "code",
   "execution_count": 349,
   "id": "234b1da5",
   "metadata": {},
   "outputs": [
    {
     "data": {
      "text/plain": [
       "(19.0, 90.0)"
      ]
     },
     "execution_count": 349,
     "metadata": {},
     "output_type": "execute_result"
    }
   ],
   "source": [
    "q1, q3"
   ]
  },
  {
   "cell_type": "code",
   "execution_count": 350,
   "id": "53bfe9a0",
   "metadata": {},
   "outputs": [],
   "source": [
    "iqr = q3 - q1"
   ]
  },
  {
   "cell_type": "code",
   "execution_count": 351,
   "id": "d41f2dce",
   "metadata": {},
   "outputs": [],
   "source": [
    "l_b = q1 - 1.5 * iqr\n",
    "u_b = q3 + 1.5 * iqr"
   ]
  },
  {
   "cell_type": "code",
   "execution_count": 352,
   "id": "e58c8342",
   "metadata": {},
   "outputs": [],
   "source": [
    "out = train[train.Ovrl > u_b]"
   ]
  },
  {
   "cell_type": "code",
   "execution_count": 353,
   "id": "bd2b45da",
   "metadata": {
    "scrolled": false
   },
   "outputs": [
    {
     "name": "stderr",
     "output_type": "stream",
     "text": [
      "<ipython-input-353-3debce7669a6>:1: SettingWithCopyWarning: \n",
      "A value is trying to be set on a copy of a slice from a DataFrame.\n",
      "Try using .loc[row_indexer,col_indexer] = value instead\n",
      "\n",
      "See the caveats in the documentation: https://pandas.pydata.org/pandas-docs/stable/user_guide/indexing.html#returning-a-view-versus-a-copy\n",
      "  out['pos_R'] = out.Position.str.contains('R')\n"
     ]
    }
   ],
   "source": [
    "out['pos_R'] = out.Position.str.contains('R')"
   ]
  },
  {
   "cell_type": "code",
   "execution_count": 354,
   "id": "02636bcc",
   "metadata": {
    "scrolled": true
   },
   "outputs": [
    {
     "data": {
      "text/plain": [
       "(21, 12)"
      ]
     },
     "execution_count": 354,
     "metadata": {},
     "output_type": "execute_result"
    }
   ],
   "source": [
    "out.shape"
   ]
  },
  {
   "cell_type": "code",
   "execution_count": 355,
   "id": "516e0dbe",
   "metadata": {
    "scrolled": true
   },
   "outputs": [
    {
     "data": {
      "text/plain": [
       "7"
      ]
     },
     "execution_count": 355,
     "metadata": {},
     "output_type": "execute_result"
    }
   ],
   "source": [
    "out[out.pos_R == True].shape[0]"
   ]
  },
  {
   "cell_type": "code",
   "execution_count": 356,
   "id": "70f126e0",
   "metadata": {},
   "outputs": [
    {
     "data": {
      "text/plain": [
       "21"
      ]
     },
     "execution_count": 356,
     "metadata": {},
     "output_type": "execute_result"
    }
   ],
   "source": [
    "out.shape[0]"
   ]
  },
  {
   "cell_type": "code",
   "execution_count": 357,
   "id": "23c960d5",
   "metadata": {},
   "outputs": [
    {
     "data": {
      "text/plain": [
       "0.3333333333333333"
      ]
     },
     "execution_count": 357,
     "metadata": {},
     "output_type": "execute_result"
    }
   ],
   "source": [
    "out[out.pos_R == True].shape[0] / out.shape[0]"
   ]
  },
  {
   "cell_type": "markdown",
   "id": "80e64bf0",
   "metadata": {},
   "source": [
    "### 2-3. Wt 변수에 대해 정규화를 실시하고 결과가 0.4 초과 0.6이하인 데이터의 수를 출력하시오."
   ]
  },
  {
   "cell_type": "code",
   "execution_count": 358,
   "id": "632ba8ce",
   "metadata": {
    "scrolled": true
   },
   "outputs": [],
   "source": [
    "from sklearn.preprocessing import MinMaxScaler"
   ]
  },
  {
   "cell_type": "code",
   "execution_count": 359,
   "id": "d8c450a1",
   "metadata": {},
   "outputs": [],
   "source": [
    "ms = MinMaxScaler()"
   ]
  },
  {
   "cell_type": "code",
   "execution_count": 360,
   "id": "1cd1cb02",
   "metadata": {},
   "outputs": [],
   "source": [
    "train['ss_Wt'] = ms.fit_transform(train[['Wt']])"
   ]
  },
  {
   "cell_type": "code",
   "execution_count": 361,
   "id": "d07b431d",
   "metadata": {},
   "outputs": [
    {
     "data": {
      "text/plain": [
       "245"
      ]
     },
     "execution_count": 361,
     "metadata": {},
     "output_type": "execute_result"
    }
   ],
   "source": [
    "train[(train.ss_Wt > 0.4) & (train.ss_Wt <= 0.6)].shape[0]"
   ]
  },
  {
   "cell_type": "markdown",
   "id": "23bd9877",
   "metadata": {},
   "source": [
    "### 2-4. Salary를 예측하는 모델링을 수행하시오. submission의 파일명은 result2로 저장하시오."
   ]
  },
  {
   "cell_type": "code",
   "execution_count": 362,
   "id": "00ed5520",
   "metadata": {},
   "outputs": [],
   "source": [
    "train = train.iloc[:, :-1]"
   ]
  },
  {
   "cell_type": "code",
   "execution_count": 363,
   "id": "10e932cc",
   "metadata": {},
   "outputs": [],
   "source": [
    "def get_age(x) :\n",
    "    if x[0] == '0' :\n",
    "        return '20' + x\n",
    "    else :\n",
    "        return '19' + x"
   ]
  },
  {
   "cell_type": "code",
   "execution_count": 266,
   "id": "7bb1d156",
   "metadata": {
    "scrolled": false
   },
   "outputs": [],
   "source": [
    "train['Born'] = train.Born.apply(get_age)"
   ]
  },
  {
   "cell_type": "code",
   "execution_count": 267,
   "id": "72961f7a",
   "metadata": {
    "scrolled": true
   },
   "outputs": [],
   "source": [
    "test['Born'] = test.Born.apply(get_age)"
   ]
  },
  {
   "cell_type": "code",
   "execution_count": 271,
   "id": "c97ee010",
   "metadata": {},
   "outputs": [],
   "source": [
    "train['year'] = train['Born'].str[:4].astype(int)"
   ]
  },
  {
   "cell_type": "code",
   "execution_count": 273,
   "id": "a04ca924",
   "metadata": {},
   "outputs": [],
   "source": [
    "train['age'] = 2021 - train['year']"
   ]
  },
  {
   "cell_type": "code",
   "execution_count": 275,
   "id": "ac63cc9d",
   "metadata": {},
   "outputs": [],
   "source": [
    "test['year'] = test['Born'].str[:4].astype(int)"
   ]
  },
  {
   "cell_type": "code",
   "execution_count": 276,
   "id": "2a2e072f",
   "metadata": {},
   "outputs": [],
   "source": [
    "test['age'] = 2021 - test['year']"
   ]
  },
  {
   "cell_type": "code",
   "execution_count": 277,
   "id": "73fc606a",
   "metadata": {
    "scrolled": false
   },
   "outputs": [
    {
     "data": {
      "text/html": [
       "<div>\n",
       "<style scoped>\n",
       "    .dataframe tbody tr th:only-of-type {\n",
       "        vertical-align: middle;\n",
       "    }\n",
       "\n",
       "    .dataframe tbody tr th {\n",
       "        vertical-align: top;\n",
       "    }\n",
       "\n",
       "    .dataframe thead th {\n",
       "        text-align: right;\n",
       "    }\n",
       "</style>\n",
       "<table border=\"1\" class=\"dataframe\">\n",
       "  <thead>\n",
       "    <tr style=\"text-align: right;\">\n",
       "      <th></th>\n",
       "      <th>Salary</th>\n",
       "      <th>Born</th>\n",
       "      <th>Nat</th>\n",
       "      <th>Ht</th>\n",
       "      <th>Wt</th>\n",
       "      <th>DftYr</th>\n",
       "      <th>Ovrl</th>\n",
       "      <th>Position</th>\n",
       "      <th>GP</th>\n",
       "      <th>year</th>\n",
       "      <th>age</th>\n",
       "    </tr>\n",
       "  </thead>\n",
       "  <tbody>\n",
       "    <tr>\n",
       "      <th>0</th>\n",
       "      <td>925000</td>\n",
       "      <td>1997-01-30</td>\n",
       "      <td>CAN</td>\n",
       "      <td>74</td>\n",
       "      <td>190</td>\n",
       "      <td>2015.0</td>\n",
       "      <td>18.0</td>\n",
       "      <td>D</td>\n",
       "      <td>1</td>\n",
       "      <td>1997</td>\n",
       "      <td>24</td>\n",
       "    </tr>\n",
       "    <tr>\n",
       "      <th>1</th>\n",
       "      <td>2250000</td>\n",
       "      <td>1993-12-21</td>\n",
       "      <td>CAN</td>\n",
       "      <td>74</td>\n",
       "      <td>207</td>\n",
       "      <td>2012.0</td>\n",
       "      <td>15.0</td>\n",
       "      <td>D</td>\n",
       "      <td>79</td>\n",
       "      <td>1993</td>\n",
       "      <td>28</td>\n",
       "    </tr>\n",
       "    <tr>\n",
       "      <th>2</th>\n",
       "      <td>8000000</td>\n",
       "      <td>1988-04-16</td>\n",
       "      <td>USA</td>\n",
       "      <td>72</td>\n",
       "      <td>218</td>\n",
       "      <td>2006.0</td>\n",
       "      <td>7.0</td>\n",
       "      <td>RW</td>\n",
       "      <td>65</td>\n",
       "      <td>1988</td>\n",
       "      <td>33</td>\n",
       "    </tr>\n",
       "    <tr>\n",
       "      <th>3</th>\n",
       "      <td>3500000</td>\n",
       "      <td>1992-01-07</td>\n",
       "      <td>CAN</td>\n",
       "      <td>77</td>\n",
       "      <td>220</td>\n",
       "      <td>2010.0</td>\n",
       "      <td>3.0</td>\n",
       "      <td>D</td>\n",
       "      <td>30</td>\n",
       "      <td>1992</td>\n",
       "      <td>29</td>\n",
       "    </tr>\n",
       "    <tr>\n",
       "      <th>4</th>\n",
       "      <td>1750000</td>\n",
       "      <td>1994-03-29</td>\n",
       "      <td>CAN</td>\n",
       "      <td>76</td>\n",
       "      <td>217</td>\n",
       "      <td>2012.0</td>\n",
       "      <td>16.0</td>\n",
       "      <td>RW</td>\n",
       "      <td>82</td>\n",
       "      <td>1994</td>\n",
       "      <td>27</td>\n",
       "    </tr>\n",
       "  </tbody>\n",
       "</table>\n",
       "</div>"
      ],
      "text/plain": [
       "    Salary        Born  Nat  Ht   Wt   DftYr  Ovrl Position  GP  year  age\n",
       "0   925000  1997-01-30  CAN  74  190  2015.0  18.0        D   1  1997   24\n",
       "1  2250000  1993-12-21  CAN  74  207  2012.0  15.0        D  79  1993   28\n",
       "2  8000000  1988-04-16  USA  72  218  2006.0   7.0       RW  65  1988   33\n",
       "3  3500000  1992-01-07  CAN  77  220  2010.0   3.0        D  30  1992   29\n",
       "4  1750000  1994-03-29  CAN  76  217  2012.0  16.0       RW  82  1994   27"
      ]
     },
     "execution_count": 277,
     "metadata": {},
     "output_type": "execute_result"
    }
   ],
   "source": [
    "train.head()"
   ]
  },
  {
   "cell_type": "code",
   "execution_count": 278,
   "id": "76383284",
   "metadata": {},
   "outputs": [
    {
     "data": {
      "text/html": [
       "<div>\n",
       "<style scoped>\n",
       "    .dataframe tbody tr th:only-of-type {\n",
       "        vertical-align: middle;\n",
       "    }\n",
       "\n",
       "    .dataframe tbody tr th {\n",
       "        vertical-align: top;\n",
       "    }\n",
       "\n",
       "    .dataframe thead th {\n",
       "        text-align: right;\n",
       "    }\n",
       "</style>\n",
       "<table border=\"1\" class=\"dataframe\">\n",
       "  <thead>\n",
       "    <tr style=\"text-align: right;\">\n",
       "      <th></th>\n",
       "      <th>Born</th>\n",
       "      <th>Nat</th>\n",
       "      <th>Ht</th>\n",
       "      <th>Wt</th>\n",
       "      <th>DftYr</th>\n",
       "      <th>Ovrl</th>\n",
       "      <th>Position</th>\n",
       "      <th>GP</th>\n",
       "      <th>year</th>\n",
       "      <th>age</th>\n",
       "    </tr>\n",
       "  </thead>\n",
       "  <tbody>\n",
       "    <tr>\n",
       "      <th>0</th>\n",
       "      <td>1988-11-05</td>\n",
       "      <td>USA</td>\n",
       "      <td>72</td>\n",
       "      <td>216</td>\n",
       "      <td>2003.0</td>\n",
       "      <td>13.0</td>\n",
       "      <td>RW/LW</td>\n",
       "      <td>80</td>\n",
       "      <td>1988</td>\n",
       "      <td>33</td>\n",
       "    </tr>\n",
       "    <tr>\n",
       "      <th>1</th>\n",
       "      <td>2000-02-29</td>\n",
       "      <td>CZE</td>\n",
       "      <td>72</td>\n",
       "      <td>195</td>\n",
       "      <td>2014.0</td>\n",
       "      <td>13.0</td>\n",
       "      <td>LW</td>\n",
       "      <td>21</td>\n",
       "      <td>2000</td>\n",
       "      <td>21</td>\n",
       "    </tr>\n",
       "    <tr>\n",
       "      <th>2</th>\n",
       "      <td>1992-04-24</td>\n",
       "      <td>USA</td>\n",
       "      <td>75</td>\n",
       "      <td>227</td>\n",
       "      <td>2007.0</td>\n",
       "      <td>161.0</td>\n",
       "      <td>LW</td>\n",
       "      <td>81</td>\n",
       "      <td>1992</td>\n",
       "      <td>29</td>\n",
       "    </tr>\n",
       "    <tr>\n",
       "      <th>3</th>\n",
       "      <td>1999-07-05</td>\n",
       "      <td>FIN</td>\n",
       "      <td>72</td>\n",
       "      <td>182</td>\n",
       "      <td>2013.0</td>\n",
       "      <td>55.0</td>\n",
       "      <td>LW</td>\n",
       "      <td>73</td>\n",
       "      <td>1999</td>\n",
       "      <td>22</td>\n",
       "    </tr>\n",
       "    <tr>\n",
       "      <th>4</th>\n",
       "      <td>1996-10-27</td>\n",
       "      <td>USA</td>\n",
       "      <td>72</td>\n",
       "      <td>196</td>\n",
       "      <td>2011.0</td>\n",
       "      <td>36.0</td>\n",
       "      <td>D</td>\n",
       "      <td>31</td>\n",
       "      <td>1996</td>\n",
       "      <td>25</td>\n",
       "    </tr>\n",
       "  </tbody>\n",
       "</table>\n",
       "</div>"
      ],
      "text/plain": [
       "         Born  Nat  Ht   Wt   DftYr   Ovrl Position  GP  year  age\n",
       "0  1988-11-05  USA  72  216  2003.0   13.0    RW/LW  80  1988   33\n",
       "1  2000-02-29  CZE  72  195  2014.0   13.0       LW  21  2000   21\n",
       "2  1992-04-24  USA  75  227  2007.0  161.0       LW  81  1992   29\n",
       "3  1999-07-05  FIN  72  182  2013.0   55.0       LW  73  1999   22\n",
       "4  1996-10-27  USA  72  196  2011.0   36.0        D  31  1996   25"
      ]
     },
     "execution_count": 278,
     "metadata": {},
     "output_type": "execute_result"
    }
   ],
   "source": [
    "test.head()"
   ]
  },
  {
   "cell_type": "code",
   "execution_count": 286,
   "id": "473beb54",
   "metadata": {},
   "outputs": [],
   "source": [
    "train['ing_time'] = train['age'] - (train['DftYr'] - train['year'])\n",
    "test['ing_time'] = test['age'] - (test['DftYr'] - test['year'])"
   ]
  },
  {
   "cell_type": "code",
   "execution_count": 288,
   "id": "147de02b",
   "metadata": {},
   "outputs": [],
   "source": [
    "train.drop(['Born', 'DftYr', 'year'], axis = 1, inplace = True)\n",
    "test.drop(['Born', 'DftYr', 'year'], axis = 1, inplace = True)"
   ]
  },
  {
   "cell_type": "code",
   "execution_count": 295,
   "id": "fd3d5a46",
   "metadata": {},
   "outputs": [],
   "source": [
    "train['ava_pos'] = train.Position.str.split('/').apply(len)\n",
    "test['ava_pos'] = test.Position.str.split('/').apply(len)"
   ]
  },
  {
   "cell_type": "code",
   "execution_count": 298,
   "id": "44cdc63b",
   "metadata": {},
   "outputs": [],
   "source": [
    "train.drop('Position', axis = 1, inplace = True)\n",
    "test.drop('Position', axis = 1, inplace = True)"
   ]
  },
  {
   "cell_type": "code",
   "execution_count": 300,
   "id": "fe390983",
   "metadata": {},
   "outputs": [],
   "source": [
    "train = pd.get_dummies(train)\n",
    "test = pd.get_dummies(test)"
   ]
  },
  {
   "cell_type": "code",
   "execution_count": 303,
   "id": "410518bb",
   "metadata": {},
   "outputs": [
    {
     "data": {
      "text/plain": [
       "Index(['Salary', 'Ht', 'Wt', 'Ovrl', 'GP', 'age', 'ing_time', 'ava_pos',\n",
       "       'Nat_AUT', 'Nat_CAN', 'Nat_CHE', 'Nat_CZE', 'Nat_DEU', 'Nat_DNK',\n",
       "       'Nat_FIN', 'Nat_FRA', 'Nat_GBR', 'Nat_HRV', 'Nat_LVA', 'Nat_NOR',\n",
       "       'Nat_RUS', 'Nat_SVK', 'Nat_SWE', 'Nat_USA'],\n",
       "      dtype='object')"
      ]
     },
     "execution_count": 303,
     "metadata": {},
     "output_type": "execute_result"
    }
   ],
   "source": [
    "train.columns"
   ]
  },
  {
   "cell_type": "code",
   "execution_count": 304,
   "id": "e5fac3dc",
   "metadata": {
    "scrolled": false
   },
   "outputs": [
    {
     "data": {
      "text/plain": [
       "Index(['Ht', 'Wt', 'Ovrl', 'GP', 'age', 'ing_time', 'ava_pos', 'Nat_AUT',\n",
       "       'Nat_CAN', 'Nat_CHE', 'Nat_CZE', 'Nat_DEU', 'Nat_DNK', 'Nat_FIN',\n",
       "       'Nat_NOR', 'Nat_RUS', 'Nat_SVK', 'Nat_SVN', 'Nat_SWE', 'Nat_USA'],\n",
       "      dtype='object')"
      ]
     },
     "execution_count": 304,
     "metadata": {},
     "output_type": "execute_result"
    }
   ],
   "source": [
    "test.columns"
   ]
  },
  {
   "cell_type": "code",
   "execution_count": 305,
   "id": "fa07c9f5",
   "metadata": {},
   "outputs": [],
   "source": [
    "train['Nat_SVN'] = 0"
   ]
  },
  {
   "cell_type": "code",
   "execution_count": 309,
   "id": "59afe799",
   "metadata": {},
   "outputs": [],
   "source": [
    "test[['Nat_GBR', 'Nat_FRA', 'Nat_HRV', 'Nat_LVA']] = 0"
   ]
  },
  {
   "cell_type": "code",
   "execution_count": 310,
   "id": "eba2d22f",
   "metadata": {},
   "outputs": [
    {
     "data": {
      "text/plain": [
       "(612, 25)"
      ]
     },
     "execution_count": 310,
     "metadata": {},
     "output_type": "execute_result"
    }
   ],
   "source": [
    "train.shape"
   ]
  },
  {
   "cell_type": "code",
   "execution_count": 311,
   "id": "c53ff217",
   "metadata": {},
   "outputs": [
    {
     "data": {
      "text/plain": [
       "(262, 24)"
      ]
     },
     "execution_count": 311,
     "metadata": {},
     "output_type": "execute_result"
    }
   ],
   "source": [
    "test.shape"
   ]
  },
  {
   "cell_type": "code",
   "execution_count": 312,
   "id": "080a8726",
   "metadata": {},
   "outputs": [],
   "source": [
    "X = train.drop('Salary', axis = 1)\n",
    "y = train.Salary\n",
    "\n",
    "target = test[X.columns]"
   ]
  },
  {
   "cell_type": "code",
   "execution_count": 329,
   "id": "9a144f35",
   "metadata": {},
   "outputs": [],
   "source": [
    "from sklearn.linear_model import Lasso\n",
    "from sklearn.ensemble import GradientBoostingRegressor\n",
    "from sklearn.model_selection import train_test_split\n",
    "from sklearn.metrics import mean_squared_error"
   ]
  },
  {
   "cell_type": "code",
   "execution_count": 315,
   "id": "41fae29f",
   "metadata": {},
   "outputs": [],
   "source": [
    "X_train, X_val, y_train, y_val = train_test_split(X, y, test_size = 0.3, random_state = 42)"
   ]
  },
  {
   "cell_type": "code",
   "execution_count": 324,
   "id": "8d08410d",
   "metadata": {},
   "outputs": [],
   "source": [
    "ls = Lasso()\n",
    "gbr = GradientBoostingRegressor(random_state = 42)"
   ]
  },
  {
   "cell_type": "code",
   "execution_count": 325,
   "id": "f7925dc1",
   "metadata": {},
   "outputs": [
    {
     "data": {
      "text/plain": [
       "GradientBoostingRegressor(random_state=42)"
      ]
     },
     "execution_count": 325,
     "metadata": {},
     "output_type": "execute_result"
    }
   ],
   "source": [
    "ls.fit(X_train, y_train)\n",
    "gbr.fit(X_train, y_train)"
   ]
  },
  {
   "cell_type": "code",
   "execution_count": 328,
   "id": "96020910",
   "metadata": {},
   "outputs": [],
   "source": [
    "ls_val = ls.predict(X_val)\n",
    "gbr_val = gbr.predict(X_val)"
   ]
  },
  {
   "cell_type": "code",
   "execution_count": 330,
   "id": "3f81c79f",
   "metadata": {},
   "outputs": [],
   "source": [
    "ls_rmse = mean_squared_error(y_val, ls_val) ** 0.5\n",
    "gbr_rmse = mean_squared_error(y_val, gbr_val) ** 0.5"
   ]
  },
  {
   "cell_type": "code",
   "execution_count": 331,
   "id": "0ef7a5d0",
   "metadata": {
    "scrolled": true
   },
   "outputs": [
    {
     "data": {
      "text/plain": [
       "(1713842.8135534013, 1546564.0180067294)"
      ]
     },
     "execution_count": 331,
     "metadata": {},
     "output_type": "execute_result"
    }
   ],
   "source": [
    "ls_rmse, gbr_rmse"
   ]
  },
  {
   "cell_type": "code",
   "execution_count": 332,
   "id": "1065472e",
   "metadata": {},
   "outputs": [],
   "source": [
    "ls_pred = ls.predict(target)\n",
    "gbr_pred = gbr.predict(target)"
   ]
  },
  {
   "cell_type": "code",
   "execution_count": 334,
   "id": "79a71e89",
   "metadata": {},
   "outputs": [],
   "source": [
    "submission.Salary = 0.6 * gbr_pred + 0.4 * ls_pred# + 0.3 * xgb_pred"
   ]
  },
  {
   "cell_type": "code",
   "execution_count": 336,
   "id": "69ac4e5d",
   "metadata": {},
   "outputs": [],
   "source": [
    "#submission.to_csv('result1.csv', index = False)"
   ]
  },
  {
   "cell_type": "markdown",
   "id": "f962670f",
   "metadata": {},
   "source": [
    "***\n",
    "## 3번 문제\n",
    "#### 데이터 : carInsurance_train / carInsurance_test / carInsurance_submission\n",
    "\n",
    "### 3-1. Balance를 정규화 한 후 상위 21위 ~ 30위의 데이터의 정규화 결과 합을 구하시오."
   ]
  },
  {
   "cell_type": "code",
   "execution_count": 2,
   "id": "03125a84",
   "metadata": {},
   "outputs": [],
   "source": [
    "train = pd.read_csv('carInsurance_train.csv')\n",
    "test = pd.read_csv('carInsurance_test.csv')\n",
    "submission = pd.read_csv('carInsurance_submission.csv')"
   ]
  },
  {
   "cell_type": "code",
   "execution_count": 7,
   "id": "e3c7de11",
   "metadata": {},
   "outputs": [],
   "source": [
    "ms = MinMaxScaler()"
   ]
  },
  {
   "cell_type": "code",
   "execution_count": 8,
   "id": "11e3ade3",
   "metadata": {},
   "outputs": [],
   "source": [
    "train['ms_b'] = ms.fit_transform(train[['Balance']])"
   ]
  },
  {
   "cell_type": "code",
   "execution_count": 20,
   "id": "ffe55db6",
   "metadata": {},
   "outputs": [
    {
     "name": "stdout",
     "output_type": "stream",
     "text": [
      "2.2289233801428923\n"
     ]
    }
   ],
   "source": [
    "print(train.ms_b.sort_values(ascending = False)[20:30].sum())"
   ]
  },
  {
   "cell_type": "markdown",
   "id": "1e1da168",
   "metadata": {},
   "source": [
    "### 3-2. 50대 고객들의 연령과 Balance의 상관계수와 20대 고객들의 연령과 Balance의 상관계수의 합을 구하시오."
   ]
  },
  {
   "cell_type": "code",
   "execution_count": 24,
   "id": "10ea15b5",
   "metadata": {},
   "outputs": [],
   "source": [
    "a50 = train[train.Age.isin(np.arange(50,60))]\n",
    "a20 = train[train.Age.isin(np.arange(20,30))]"
   ]
  },
  {
   "cell_type": "code",
   "execution_count": 28,
   "id": "9f8ead43",
   "metadata": {},
   "outputs": [],
   "source": [
    "c50 = a50.corr()['Age']['Balance']\n",
    "c20 = a20.corr()['Age']['Balance']"
   ]
  },
  {
   "cell_type": "code",
   "execution_count": 29,
   "id": "7ef2964b",
   "metadata": {},
   "outputs": [
    {
     "data": {
      "text/plain": [
       "(-0.013043925372607741, 0.06109075911356098)"
      ]
     },
     "execution_count": 29,
     "metadata": {},
     "output_type": "execute_result"
    }
   ],
   "source": [
    "c20, c50"
   ]
  },
  {
   "cell_type": "code",
   "execution_count": 30,
   "id": "ef5f85ba",
   "metadata": {},
   "outputs": [
    {
     "name": "stdout",
     "output_type": "stream",
     "text": [
      "0.04804683374095324\n"
     ]
    }
   ],
   "source": [
    "print(c50 + c20)"
   ]
  },
  {
   "cell_type": "markdown",
   "id": "1eba7d73",
   "metadata": {},
   "source": [
    "### 3-3. CarInsurance를 예측하는 모델링을 수행하시오. submission에 확률 값으로 예측값을 제출하고 이 때 파일명을 result3으로 저장하시오."
   ]
  },
  {
   "cell_type": "markdown",
   "id": "0bfd934b",
   "metadata": {},
   "source": [
    "#### 텍스트 데이터 결측값 처리는 최빈값으로 대치한다."
   ]
  },
  {
   "cell_type": "code",
   "execution_count": 384,
   "id": "3225359e",
   "metadata": {},
   "outputs": [],
   "source": [
    "for col in ['Job', 'Education', 'Communication'] :\n",
    "    train[col] = train[col].fillna(train[col].mode()[0])"
   ]
  },
  {
   "cell_type": "code",
   "execution_count": 386,
   "id": "3c316f15",
   "metadata": {},
   "outputs": [],
   "source": [
    "for col in ['Job', 'Education', 'Communication'] :\n",
    "    test[col] = test[col].fillna(test[col].mode()[0])"
   ]
  },
  {
   "cell_type": "code",
   "execution_count": 389,
   "id": "f137b041",
   "metadata": {},
   "outputs": [
    {
     "data": {
      "text/plain": [
       "array(['single', 'married', 'divorced'], dtype=object)"
      ]
     },
     "execution_count": 389,
     "metadata": {},
     "output_type": "execute_result"
    }
   ],
   "source": [
    "train.Marital.unique()"
   ]
  },
  {
   "cell_type": "code",
   "execution_count": 390,
   "id": "d9dbb7aa",
   "metadata": {
    "scrolled": true
   },
   "outputs": [
    {
     "data": {
      "text/plain": [
       "array(['single', 'married', 'divorced'], dtype=object)"
      ]
     },
     "execution_count": 390,
     "metadata": {},
     "output_type": "execute_result"
    }
   ],
   "source": [
    "test.Marital.unique()"
   ]
  },
  {
   "cell_type": "code",
   "execution_count": 392,
   "id": "714c16bf",
   "metadata": {},
   "outputs": [
    {
     "data": {
      "text/plain": [
       "array(['tertiary', 'primary', 'secondary'], dtype=object)"
      ]
     },
     "execution_count": 392,
     "metadata": {},
     "output_type": "execute_result"
    }
   ],
   "source": [
    "train.Education.unique()"
   ]
  },
  {
   "cell_type": "code",
   "execution_count": 393,
   "id": "c6c9bd4f",
   "metadata": {
    "scrolled": true
   },
   "outputs": [
    {
     "data": {
      "text/plain": [
       "array(['secondary', 'tertiary', 'primary'], dtype=object)"
      ]
     },
     "execution_count": 393,
     "metadata": {},
     "output_type": "execute_result"
    }
   ],
   "source": [
    "test.Education.unique()"
   ]
  },
  {
   "cell_type": "code",
   "execution_count": 394,
   "id": "a6900858",
   "metadata": {
    "scrolled": true
   },
   "outputs": [
    {
     "data": {
      "text/plain": [
       "array(['telephone', 'cellular'], dtype=object)"
      ]
     },
     "execution_count": 394,
     "metadata": {},
     "output_type": "execute_result"
    }
   ],
   "source": [
    "train.Communication.unique()"
   ]
  },
  {
   "cell_type": "code",
   "execution_count": 395,
   "id": "e0736b93",
   "metadata": {
    "scrolled": false
   },
   "outputs": [
    {
     "data": {
      "text/plain": [
       "array(['cellular', 'telephone'], dtype=object)"
      ]
     },
     "execution_count": 395,
     "metadata": {},
     "output_type": "execute_result"
    }
   ],
   "source": [
    "test.Communication.unique()"
   ]
  },
  {
   "cell_type": "code",
   "execution_count": 397,
   "id": "cee98363",
   "metadata": {},
   "outputs": [],
   "source": [
    "train.drop('Id', axis = 1, inplace = True)\n",
    "test.drop('Id', axis = 1, inplace = True)"
   ]
  },
  {
   "cell_type": "code",
   "execution_count": 399,
   "id": "3124a5e0",
   "metadata": {},
   "outputs": [],
   "source": [
    "train = pd.get_dummies(train)\n",
    "test = pd.get_dummies(test)"
   ]
  },
  {
   "cell_type": "code",
   "execution_count": 402,
   "id": "49a7c4ac",
   "metadata": {},
   "outputs": [
    {
     "data": {
      "text/plain": [
       "((4000, 41), (1000, 41))"
      ]
     },
     "execution_count": 402,
     "metadata": {},
     "output_type": "execute_result"
    }
   ],
   "source": [
    "train.shape, test.shape"
   ]
  },
  {
   "cell_type": "code",
   "execution_count": 403,
   "id": "f8ddc3a5",
   "metadata": {},
   "outputs": [],
   "source": [
    "X = train.drop('CarInsurance', axis = 1)\n",
    "y = train.CarInsurance\n",
    "\n",
    "target = test[X.columns]"
   ]
  },
  {
   "cell_type": "code",
   "execution_count": 404,
   "id": "a48bcda2",
   "metadata": {},
   "outputs": [],
   "source": [
    "from sklearn.ensemble import RandomForestClassifier\n",
    "from sklearn.neighbors import KNeighborsClassifier"
   ]
  },
  {
   "cell_type": "code",
   "execution_count": 405,
   "id": "ea0be29f",
   "metadata": {},
   "outputs": [],
   "source": [
    "X_train, X_val, y_train, y_val = train_test_split(X, y, test_size = 0.2, random_state = 42, stratify = y)"
   ]
  },
  {
   "cell_type": "code",
   "execution_count": 408,
   "id": "c3bbb7df",
   "metadata": {},
   "outputs": [],
   "source": [
    "knn = KNeighborsClassifier(n_neighbors = 7)\n",
    "rf = RandomForestClassifier(random_state = 42, max_depth = 4, n_estimators = 200)"
   ]
  },
  {
   "cell_type": "code",
   "execution_count": 409,
   "id": "49087a86",
   "metadata": {},
   "outputs": [
    {
     "data": {
      "text/plain": [
       "RandomForestClassifier(max_depth=4, n_estimators=200, random_state=42)"
      ]
     },
     "execution_count": 409,
     "metadata": {},
     "output_type": "execute_result"
    }
   ],
   "source": [
    "knn.fit(X_train, y_train)\n",
    "rf.fit(X_train, y_train)"
   ]
  },
  {
   "cell_type": "code",
   "execution_count": 410,
   "id": "4a0db346",
   "metadata": {},
   "outputs": [],
   "source": [
    "from sklearn.metrics import roc_auc_score"
   ]
  },
  {
   "cell_type": "code",
   "execution_count": 411,
   "id": "99ef25d5",
   "metadata": {},
   "outputs": [],
   "source": [
    "knn_pred = knn.predict_proba(X_val)[:, 1]\n",
    "rf_pred = rf.predict_proba(X_val)[:, 1]"
   ]
  },
  {
   "cell_type": "code",
   "execution_count": 412,
   "id": "778298fd",
   "metadata": {},
   "outputs": [],
   "source": [
    "knn_score = roc_auc_score(y_val, knn_pred)\n",
    "rf_score = roc_auc_score(y_val, rf_pred)"
   ]
  },
  {
   "cell_type": "code",
   "execution_count": 413,
   "id": "cd7577c7",
   "metadata": {
    "scrolled": true
   },
   "outputs": [
    {
     "data": {
      "text/plain": [
       "(0.5755858193666713, 0.7218927022158051)"
      ]
     },
     "execution_count": 413,
     "metadata": {},
     "output_type": "execute_result"
    }
   ],
   "source": [
    "knn_score, rf_score"
   ]
  },
  {
   "cell_type": "code",
   "execution_count": 415,
   "id": "ba61aa98",
   "metadata": {
    "scrolled": true
   },
   "outputs": [
    {
     "data": {
      "text/html": [
       "<div>\n",
       "<style scoped>\n",
       "    .dataframe tbody tr th:only-of-type {\n",
       "        vertical-align: middle;\n",
       "    }\n",
       "\n",
       "    .dataframe tbody tr th {\n",
       "        vertical-align: top;\n",
       "    }\n",
       "\n",
       "    .dataframe thead th {\n",
       "        text-align: right;\n",
       "    }\n",
       "</style>\n",
       "<table border=\"1\" class=\"dataframe\">\n",
       "  <thead>\n",
       "    <tr style=\"text-align: right;\">\n",
       "      <th></th>\n",
       "      <th>features</th>\n",
       "      <th>importance</th>\n",
       "    </tr>\n",
       "  </thead>\n",
       "  <tbody>\n",
       "    <tr>\n",
       "      <th>0</th>\n",
       "      <td>Age</td>\n",
       "      <td>0.124226</td>\n",
       "    </tr>\n",
       "    <tr>\n",
       "      <th>1</th>\n",
       "      <td>Default</td>\n",
       "      <td>0.000636</td>\n",
       "    </tr>\n",
       "    <tr>\n",
       "      <th>2</th>\n",
       "      <td>Balance</td>\n",
       "      <td>0.050164</td>\n",
       "    </tr>\n",
       "    <tr>\n",
       "      <th>3</th>\n",
       "      <td>HHInsurance</td>\n",
       "      <td>0.109928</td>\n",
       "    </tr>\n",
       "    <tr>\n",
       "      <th>4</th>\n",
       "      <td>CarLoan</td>\n",
       "      <td>0.023377</td>\n",
       "    </tr>\n",
       "    <tr>\n",
       "      <th>5</th>\n",
       "      <td>LastContactDay</td>\n",
       "      <td>0.029290</td>\n",
       "    </tr>\n",
       "    <tr>\n",
       "      <th>6</th>\n",
       "      <td>NoOfContacts</td>\n",
       "      <td>0.041471</td>\n",
       "    </tr>\n",
       "    <tr>\n",
       "      <th>7</th>\n",
       "      <td>DaysPassed</td>\n",
       "      <td>0.152880</td>\n",
       "    </tr>\n",
       "    <tr>\n",
       "      <th>8</th>\n",
       "      <td>PrevAttempts</td>\n",
       "      <td>0.133298</td>\n",
       "    </tr>\n",
       "    <tr>\n",
       "      <th>9</th>\n",
       "      <td>Job_admin.</td>\n",
       "      <td>0.002705</td>\n",
       "    </tr>\n",
       "    <tr>\n",
       "      <th>10</th>\n",
       "      <td>Job_blue-collar</td>\n",
       "      <td>0.022171</td>\n",
       "    </tr>\n",
       "    <tr>\n",
       "      <th>11</th>\n",
       "      <td>Job_entrepreneur</td>\n",
       "      <td>0.001492</td>\n",
       "    </tr>\n",
       "    <tr>\n",
       "      <th>12</th>\n",
       "      <td>Job_housemaid</td>\n",
       "      <td>0.001000</td>\n",
       "    </tr>\n",
       "    <tr>\n",
       "      <th>13</th>\n",
       "      <td>Job_management</td>\n",
       "      <td>0.002398</td>\n",
       "    </tr>\n",
       "    <tr>\n",
       "      <th>14</th>\n",
       "      <td>Job_retired</td>\n",
       "      <td>0.015275</td>\n",
       "    </tr>\n",
       "    <tr>\n",
       "      <th>15</th>\n",
       "      <td>Job_self-employed</td>\n",
       "      <td>0.001214</td>\n",
       "    </tr>\n",
       "    <tr>\n",
       "      <th>16</th>\n",
       "      <td>Job_services</td>\n",
       "      <td>0.001118</td>\n",
       "    </tr>\n",
       "    <tr>\n",
       "      <th>17</th>\n",
       "      <td>Job_student</td>\n",
       "      <td>0.016398</td>\n",
       "    </tr>\n",
       "    <tr>\n",
       "      <th>18</th>\n",
       "      <td>Job_technician</td>\n",
       "      <td>0.001794</td>\n",
       "    </tr>\n",
       "    <tr>\n",
       "      <th>19</th>\n",
       "      <td>Job_unemployed</td>\n",
       "      <td>0.002713</td>\n",
       "    </tr>\n",
       "    <tr>\n",
       "      <th>20</th>\n",
       "      <td>Marital_divorced</td>\n",
       "      <td>0.004460</td>\n",
       "    </tr>\n",
       "    <tr>\n",
       "      <th>21</th>\n",
       "      <td>Marital_married</td>\n",
       "      <td>0.013689</td>\n",
       "    </tr>\n",
       "    <tr>\n",
       "      <th>22</th>\n",
       "      <td>Marital_single</td>\n",
       "      <td>0.010477</td>\n",
       "    </tr>\n",
       "    <tr>\n",
       "      <th>23</th>\n",
       "      <td>Education_primary</td>\n",
       "      <td>0.006157</td>\n",
       "    </tr>\n",
       "    <tr>\n",
       "      <th>24</th>\n",
       "      <td>Education_secondary</td>\n",
       "      <td>0.002196</td>\n",
       "    </tr>\n",
       "    <tr>\n",
       "      <th>25</th>\n",
       "      <td>Education_tertiary</td>\n",
       "      <td>0.012805</td>\n",
       "    </tr>\n",
       "    <tr>\n",
       "      <th>26</th>\n",
       "      <td>Communication_cellular</td>\n",
       "      <td>0.001383</td>\n",
       "    </tr>\n",
       "    <tr>\n",
       "      <th>27</th>\n",
       "      <td>Communication_telephone</td>\n",
       "      <td>0.001640</td>\n",
       "    </tr>\n",
       "    <tr>\n",
       "      <th>28</th>\n",
       "      <td>LastContactMonth_apr</td>\n",
       "      <td>0.022573</td>\n",
       "    </tr>\n",
       "    <tr>\n",
       "      <th>29</th>\n",
       "      <td>LastContactMonth_aug</td>\n",
       "      <td>0.004674</td>\n",
       "    </tr>\n",
       "    <tr>\n",
       "      <th>30</th>\n",
       "      <td>LastContactMonth_dec</td>\n",
       "      <td>0.004405</td>\n",
       "    </tr>\n",
       "    <tr>\n",
       "      <th>31</th>\n",
       "      <td>LastContactMonth_feb</td>\n",
       "      <td>0.004495</td>\n",
       "    </tr>\n",
       "    <tr>\n",
       "      <th>32</th>\n",
       "      <td>LastContactMonth_jan</td>\n",
       "      <td>0.003687</td>\n",
       "    </tr>\n",
       "    <tr>\n",
       "      <th>33</th>\n",
       "      <td>LastContactMonth_jul</td>\n",
       "      <td>0.006660</td>\n",
       "    </tr>\n",
       "    <tr>\n",
       "      <th>34</th>\n",
       "      <td>LastContactMonth_jun</td>\n",
       "      <td>0.004309</td>\n",
       "    </tr>\n",
       "    <tr>\n",
       "      <th>35</th>\n",
       "      <td>LastContactMonth_mar</td>\n",
       "      <td>0.023736</td>\n",
       "    </tr>\n",
       "    <tr>\n",
       "      <th>36</th>\n",
       "      <td>LastContactMonth_may</td>\n",
       "      <td>0.055159</td>\n",
       "    </tr>\n",
       "    <tr>\n",
       "      <th>37</th>\n",
       "      <td>LastContactMonth_nov</td>\n",
       "      <td>0.002215</td>\n",
       "    </tr>\n",
       "    <tr>\n",
       "      <th>38</th>\n",
       "      <td>LastContactMonth_oct</td>\n",
       "      <td>0.048684</td>\n",
       "    </tr>\n",
       "    <tr>\n",
       "      <th>39</th>\n",
       "      <td>LastContactMonth_sep</td>\n",
       "      <td>0.033047</td>\n",
       "    </tr>\n",
       "  </tbody>\n",
       "</table>\n",
       "</div>"
      ],
      "text/plain": [
       "                   features  importance\n",
       "0                       Age    0.124226\n",
       "1                   Default    0.000636\n",
       "2                   Balance    0.050164\n",
       "3               HHInsurance    0.109928\n",
       "4                   CarLoan    0.023377\n",
       "5            LastContactDay    0.029290\n",
       "6              NoOfContacts    0.041471\n",
       "7                DaysPassed    0.152880\n",
       "8              PrevAttempts    0.133298\n",
       "9                Job_admin.    0.002705\n",
       "10          Job_blue-collar    0.022171\n",
       "11         Job_entrepreneur    0.001492\n",
       "12            Job_housemaid    0.001000\n",
       "13           Job_management    0.002398\n",
       "14              Job_retired    0.015275\n",
       "15        Job_self-employed    0.001214\n",
       "16             Job_services    0.001118\n",
       "17              Job_student    0.016398\n",
       "18           Job_technician    0.001794\n",
       "19           Job_unemployed    0.002713\n",
       "20         Marital_divorced    0.004460\n",
       "21          Marital_married    0.013689\n",
       "22           Marital_single    0.010477\n",
       "23        Education_primary    0.006157\n",
       "24      Education_secondary    0.002196\n",
       "25       Education_tertiary    0.012805\n",
       "26   Communication_cellular    0.001383\n",
       "27  Communication_telephone    0.001640\n",
       "28     LastContactMonth_apr    0.022573\n",
       "29     LastContactMonth_aug    0.004674\n",
       "30     LastContactMonth_dec    0.004405\n",
       "31     LastContactMonth_feb    0.004495\n",
       "32     LastContactMonth_jan    0.003687\n",
       "33     LastContactMonth_jul    0.006660\n",
       "34     LastContactMonth_jun    0.004309\n",
       "35     LastContactMonth_mar    0.023736\n",
       "36     LastContactMonth_may    0.055159\n",
       "37     LastContactMonth_nov    0.002215\n",
       "38     LastContactMonth_oct    0.048684\n",
       "39     LastContactMonth_sep    0.033047"
      ]
     },
     "execution_count": 415,
     "metadata": {},
     "output_type": "execute_result"
    }
   ],
   "source": [
    "pd.DataFrame({'features' : X.columns, 'importance' : rf.feature_importances_})"
   ]
  },
  {
   "cell_type": "code",
   "execution_count": 418,
   "id": "c5b274ef",
   "metadata": {},
   "outputs": [],
   "source": [
    "rf_pred = rf.predict_proba(target)[:, 1]\n",
    "knn_pred = knn.predict_proba(target)[:, 1]"
   ]
  },
  {
   "cell_type": "code",
   "execution_count": 419,
   "id": "e2a21df3",
   "metadata": {},
   "outputs": [],
   "source": [
    "final_pred = 0.8 * rf_pred + 0.2 * knn_pred"
   ]
  },
  {
   "cell_type": "code",
   "execution_count": 420,
   "id": "c622d5df",
   "metadata": {},
   "outputs": [],
   "source": [
    "submission['CarInsurance'] = final_pred"
   ]
  },
  {
   "cell_type": "code",
   "execution_count": 421,
   "id": "988f2b78",
   "metadata": {},
   "outputs": [
    {
     "data": {
      "text/html": [
       "<div>\n",
       "<style scoped>\n",
       "    .dataframe tbody tr th:only-of-type {\n",
       "        vertical-align: middle;\n",
       "    }\n",
       "\n",
       "    .dataframe tbody tr th {\n",
       "        vertical-align: top;\n",
       "    }\n",
       "\n",
       "    .dataframe thead th {\n",
       "        text-align: right;\n",
       "    }\n",
       "</style>\n",
       "<table border=\"1\" class=\"dataframe\">\n",
       "  <thead>\n",
       "    <tr style=\"text-align: right;\">\n",
       "      <th></th>\n",
       "      <th>Id</th>\n",
       "      <th>CarInsurance</th>\n",
       "    </tr>\n",
       "  </thead>\n",
       "  <tbody>\n",
       "    <tr>\n",
       "      <th>0</th>\n",
       "      <td>4001</td>\n",
       "      <td>0.339404</td>\n",
       "    </tr>\n",
       "    <tr>\n",
       "      <th>1</th>\n",
       "      <td>4002</td>\n",
       "      <td>0.276524</td>\n",
       "    </tr>\n",
       "    <tr>\n",
       "      <th>2</th>\n",
       "      <td>4003</td>\n",
       "      <td>0.294146</td>\n",
       "    </tr>\n",
       "    <tr>\n",
       "      <th>3</th>\n",
       "      <td>4004</td>\n",
       "      <td>0.303001</td>\n",
       "    </tr>\n",
       "    <tr>\n",
       "      <th>4</th>\n",
       "      <td>4005</td>\n",
       "      <td>0.283778</td>\n",
       "    </tr>\n",
       "    <tr>\n",
       "      <th>...</th>\n",
       "      <td>...</td>\n",
       "      <td>...</td>\n",
       "    </tr>\n",
       "    <tr>\n",
       "      <th>995</th>\n",
       "      <td>4996</td>\n",
       "      <td>0.368736</td>\n",
       "    </tr>\n",
       "    <tr>\n",
       "      <th>996</th>\n",
       "      <td>4997</td>\n",
       "      <td>0.756040</td>\n",
       "    </tr>\n",
       "    <tr>\n",
       "      <th>997</th>\n",
       "      <td>4998</td>\n",
       "      <td>0.427061</td>\n",
       "    </tr>\n",
       "    <tr>\n",
       "      <th>998</th>\n",
       "      <td>4999</td>\n",
       "      <td>0.500805</td>\n",
       "    </tr>\n",
       "    <tr>\n",
       "      <th>999</th>\n",
       "      <td>5000</td>\n",
       "      <td>0.362774</td>\n",
       "    </tr>\n",
       "  </tbody>\n",
       "</table>\n",
       "<p>1000 rows × 2 columns</p>\n",
       "</div>"
      ],
      "text/plain": [
       "       Id  CarInsurance\n",
       "0    4001      0.339404\n",
       "1    4002      0.276524\n",
       "2    4003      0.294146\n",
       "3    4004      0.303001\n",
       "4    4005      0.283778\n",
       "..    ...           ...\n",
       "995  4996      0.368736\n",
       "996  4997      0.756040\n",
       "997  4998      0.427061\n",
       "998  4999      0.500805\n",
       "999  5000      0.362774\n",
       "\n",
       "[1000 rows x 2 columns]"
      ]
     },
     "execution_count": 421,
     "metadata": {},
     "output_type": "execute_result"
    }
   ],
   "source": [
    "submission"
   ]
  },
  {
   "cell_type": "code",
   "execution_count": 422,
   "id": "9d4d3228",
   "metadata": {},
   "outputs": [],
   "source": [
    "#submission.to_csv('result3.csv', index = False)"
   ]
  }
 ],
 "metadata": {
  "kernelspec": {
   "display_name": "Python 3",
   "language": "python",
   "name": "python3"
  },
  "language_info": {
   "codemirror_mode": {
    "name": "ipython",
    "version": 3
   },
   "file_extension": ".py",
   "mimetype": "text/x-python",
   "name": "python",
   "nbconvert_exporter": "python",
   "pygments_lexer": "ipython3",
   "version": "3.8.8"
  }
 },
 "nbformat": 4,
 "nbformat_minor": 5
}
