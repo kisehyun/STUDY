{
 "cells": [
  {
   "cell_type": "markdown",
   "id": "7428417f",
   "metadata": {},
   "source": [
    "# Machine Learning\n",
    "***\n",
    "\n",
    "\n",
    "## 주요 파이프라인\n",
    "\n",
    "- 1. 모델링 방향 선택(회귀 or 분류)\n",
    "- 2. 데이터 전처리\n",
    "- 3. 모델 지정\n",
    "- 4. 데이터 학습 및 검증\n",
    "- 5. 예측\n",
    "- 6. 예측 값 파일로 변환(csv)\n",
    "\n",
    "## 분석 모형 선택하기\n",
    "\n",
    "#### RandomForest, XGBoost, Lightgbm 3개만 기억하자!\n",
    "\n",
    "위 3개는 알고리즘을 의미하고 모델 자체를 의미하지는 않는다.\n",
    "\n",
    "즉 각 알고리즘에 대해 **Regression**, **Classification**을 정하는 것이 작업 2유형의 첫번째 관문!!\n",
    "\n",
    "## 회귀(Regression)\n",
    "\n",
    "- 회귀는 Regressor 메서드를 사용하여 종속변수를 예측하는 것으로 종속변수가 연속형일 경우이다.\n",
    "- 예를 들어 상점별 매출액, 영화 관객 수 등이 있다.\n",
    "\n",
    "\n",
    "## 분류(Classification)\n",
    "\n",
    "- 분류는 Classifier를 사용하여 종속변수를 예측하는 것으로 종속변수가 이산형일 경우이다.\n",
    "- 예를 들어 생존 여부, 남여 성별, 기사의 카테고리 등 범주형 변수와 관련이 있다.\n",
    "- 예측해야 할 클래스가 2개인 경우 이진 분류(binary), 3개 이상인 경우 다중 분류(multiclass)라고 칭한다.\n",
    "***\n",
    "\n",
    "문제를 받게 되면 가장 먼저 우리가 예측해야 할 **종속변수**를 보고 모델링 방향을 정해야 한다.\n",
    "\n",
    "모델링 방향에 따라 결과도 다르고 사용할 평가지표도 다르기 때문에 가장 중요하다고 볼 수 있다.\n",
    "\n",
    "간단한 예로 그 차이를 보도록 하자."
   ]
  },
  {
   "cell_type": "code",
   "execution_count": 35,
   "id": "8565cf63",
   "metadata": {},
   "outputs": [],
   "source": [
    "from sklearn.datasets import load_iris"
   ]
  },
  {
   "cell_type": "code",
   "execution_count": 36,
   "id": "facf9d85",
   "metadata": {},
   "outputs": [],
   "source": [
    "data = load_iris().data"
   ]
  },
  {
   "cell_type": "code",
   "execution_count": 37,
   "id": "042bb10f",
   "metadata": {},
   "outputs": [],
   "source": [
    "target = load_iris().target"
   ]
  },
  {
   "cell_type": "code",
   "execution_count": 38,
   "id": "4cbf5f50",
   "metadata": {},
   "outputs": [],
   "source": [
    "iris = pd.DataFrame(data, columns = load_iris().feature_names)"
   ]
  },
  {
   "cell_type": "code",
   "execution_count": 39,
   "id": "7eb10481",
   "metadata": {},
   "outputs": [],
   "source": [
    "iris['target'] = target"
   ]
  },
  {
   "cell_type": "markdown",
   "id": "77e52a56",
   "metadata": {},
   "source": [
    "#### 분류 알고리즘 적용"
   ]
  },
  {
   "cell_type": "code",
   "execution_count": 40,
   "id": "4a30e72c",
   "metadata": {},
   "outputs": [],
   "source": [
    "from sklearn.linear_model import LogisticRegression"
   ]
  },
  {
   "cell_type": "code",
   "execution_count": 41,
   "id": "d7d90651",
   "metadata": {},
   "outputs": [],
   "source": [
    "lr_clf = LogisticRegression(random_state = 42)"
   ]
  },
  {
   "cell_type": "code",
   "execution_count": 42,
   "id": "25896d53",
   "metadata": {},
   "outputs": [],
   "source": [
    "from sklearn.model_selection import train_test_split"
   ]
  },
  {
   "cell_type": "code",
   "execution_count": 55,
   "id": "08b263ba",
   "metadata": {},
   "outputs": [],
   "source": [
    "X_train, X_test, y_train, y_test = train_test_split(iris.iloc[:, :-1], iris.target, test_size = .3, random_state = 42)"
   ]
  },
  {
   "cell_type": "code",
   "execution_count": 44,
   "id": "3d188473",
   "metadata": {},
   "outputs": [
    {
     "data": {
      "text/plain": [
       "LogisticRegression(random_state=42)"
      ]
     },
     "execution_count": 44,
     "metadata": {},
     "output_type": "execute_result"
    }
   ],
   "source": [
    "lr_clf.fit(X_train, y_train)"
   ]
  },
  {
   "cell_type": "code",
   "execution_count": 29,
   "id": "f4a881e7",
   "metadata": {},
   "outputs": [],
   "source": [
    "pred = lr_clf.predict(X_test)"
   ]
  },
  {
   "cell_type": "code",
   "execution_count": 30,
   "id": "1a121af6",
   "metadata": {},
   "outputs": [],
   "source": [
    "from sklearn.metrics import accuracy_score"
   ]
  },
  {
   "cell_type": "code",
   "execution_count": 31,
   "id": "6e9210ab",
   "metadata": {},
   "outputs": [],
   "source": [
    "acc = accuracy_score(y_test, pred)"
   ]
  },
  {
   "cell_type": "code",
   "execution_count": 32,
   "id": "52403bee",
   "metadata": {
    "scrolled": true
   },
   "outputs": [
    {
     "name": "stdout",
     "output_type": "stream",
     "text": [
      "LogisticRegression의 정확도는 1.0\n"
     ]
    }
   ],
   "source": [
    "print(f'{lr_clf.__class__.__name__}의 정확도는 {acc}')"
   ]
  },
  {
   "cell_type": "code",
   "execution_count": 18,
   "id": "97dac0b4",
   "metadata": {},
   "outputs": [],
   "source": [
    "import pandas as pd"
   ]
  },
  {
   "cell_type": "code",
   "execution_count": 46,
   "id": "2a4e683b",
   "metadata": {},
   "outputs": [],
   "source": [
    "X_test['target'] = y_test"
   ]
  },
  {
   "cell_type": "code",
   "execution_count": 47,
   "id": "84023668",
   "metadata": {},
   "outputs": [],
   "source": [
    "X_test['prediction'] = pred"
   ]
  },
  {
   "cell_type": "code",
   "execution_count": 49,
   "id": "5373d79b",
   "metadata": {
    "scrolled": true
   },
   "outputs": [
    {
     "data": {
      "text/html": [
       "<div>\n",
       "<style scoped>\n",
       "    .dataframe tbody tr th:only-of-type {\n",
       "        vertical-align: middle;\n",
       "    }\n",
       "\n",
       "    .dataframe tbody tr th {\n",
       "        vertical-align: top;\n",
       "    }\n",
       "\n",
       "    .dataframe thead th {\n",
       "        text-align: right;\n",
       "    }\n",
       "</style>\n",
       "<table border=\"1\" class=\"dataframe\">\n",
       "  <thead>\n",
       "    <tr style=\"text-align: right;\">\n",
       "      <th></th>\n",
       "      <th>sepal length (cm)</th>\n",
       "      <th>sepal width (cm)</th>\n",
       "      <th>petal length (cm)</th>\n",
       "      <th>petal width (cm)</th>\n",
       "      <th>target</th>\n",
       "      <th>prediction</th>\n",
       "    </tr>\n",
       "  </thead>\n",
       "  <tbody>\n",
       "    <tr>\n",
       "      <th>73</th>\n",
       "      <td>6.1</td>\n",
       "      <td>2.8</td>\n",
       "      <td>4.7</td>\n",
       "      <td>1.2</td>\n",
       "      <td>1</td>\n",
       "      <td>1</td>\n",
       "    </tr>\n",
       "    <tr>\n",
       "      <th>18</th>\n",
       "      <td>5.7</td>\n",
       "      <td>3.8</td>\n",
       "      <td>1.7</td>\n",
       "      <td>0.3</td>\n",
       "      <td>0</td>\n",
       "      <td>0</td>\n",
       "    </tr>\n",
       "    <tr>\n",
       "      <th>118</th>\n",
       "      <td>7.7</td>\n",
       "      <td>2.6</td>\n",
       "      <td>6.9</td>\n",
       "      <td>2.3</td>\n",
       "      <td>2</td>\n",
       "      <td>2</td>\n",
       "    </tr>\n",
       "    <tr>\n",
       "      <th>78</th>\n",
       "      <td>6.0</td>\n",
       "      <td>2.9</td>\n",
       "      <td>4.5</td>\n",
       "      <td>1.5</td>\n",
       "      <td>1</td>\n",
       "      <td>1</td>\n",
       "    </tr>\n",
       "    <tr>\n",
       "      <th>76</th>\n",
       "      <td>6.8</td>\n",
       "      <td>2.8</td>\n",
       "      <td>4.8</td>\n",
       "      <td>1.4</td>\n",
       "      <td>1</td>\n",
       "      <td>1</td>\n",
       "    </tr>\n",
       "    <tr>\n",
       "      <th>31</th>\n",
       "      <td>5.4</td>\n",
       "      <td>3.4</td>\n",
       "      <td>1.5</td>\n",
       "      <td>0.4</td>\n",
       "      <td>0</td>\n",
       "      <td>0</td>\n",
       "    </tr>\n",
       "    <tr>\n",
       "      <th>64</th>\n",
       "      <td>5.6</td>\n",
       "      <td>2.9</td>\n",
       "      <td>3.6</td>\n",
       "      <td>1.3</td>\n",
       "      <td>1</td>\n",
       "      <td>1</td>\n",
       "    </tr>\n",
       "    <tr>\n",
       "      <th>141</th>\n",
       "      <td>6.9</td>\n",
       "      <td>3.1</td>\n",
       "      <td>5.1</td>\n",
       "      <td>2.3</td>\n",
       "      <td>2</td>\n",
       "      <td>2</td>\n",
       "    </tr>\n",
       "    <tr>\n",
       "      <th>68</th>\n",
       "      <td>6.2</td>\n",
       "      <td>2.2</td>\n",
       "      <td>4.5</td>\n",
       "      <td>1.5</td>\n",
       "      <td>1</td>\n",
       "      <td>1</td>\n",
       "    </tr>\n",
       "    <tr>\n",
       "      <th>82</th>\n",
       "      <td>5.8</td>\n",
       "      <td>2.7</td>\n",
       "      <td>3.9</td>\n",
       "      <td>1.2</td>\n",
       "      <td>1</td>\n",
       "      <td>1</td>\n",
       "    </tr>\n",
       "  </tbody>\n",
       "</table>\n",
       "</div>"
      ],
      "text/plain": [
       "     sepal length (cm)  sepal width (cm)  petal length (cm)  petal width (cm)  \\\n",
       "73                 6.1               2.8                4.7               1.2   \n",
       "18                 5.7               3.8                1.7               0.3   \n",
       "118                7.7               2.6                6.9               2.3   \n",
       "78                 6.0               2.9                4.5               1.5   \n",
       "76                 6.8               2.8                4.8               1.4   \n",
       "31                 5.4               3.4                1.5               0.4   \n",
       "64                 5.6               2.9                3.6               1.3   \n",
       "141                6.9               3.1                5.1               2.3   \n",
       "68                 6.2               2.2                4.5               1.5   \n",
       "82                 5.8               2.7                3.9               1.2   \n",
       "\n",
       "     target  prediction  \n",
       "73        1           1  \n",
       "18        0           0  \n",
       "118       2           2  \n",
       "78        1           1  \n",
       "76        1           1  \n",
       "31        0           0  \n",
       "64        1           1  \n",
       "141       2           2  \n",
       "68        1           1  \n",
       "82        1           1  "
      ]
     },
     "execution_count": 49,
     "metadata": {},
     "output_type": "execute_result"
    }
   ],
   "source": [
    "X_test.head(10)"
   ]
  },
  {
   "cell_type": "markdown",
   "id": "11afe8fc",
   "metadata": {},
   "source": [
    "#### 회귀 알고리즘 적용"
   ]
  },
  {
   "cell_type": "code",
   "execution_count": 56,
   "id": "ba2948ca",
   "metadata": {},
   "outputs": [],
   "source": [
    "X_train, X_test, y_train, y_test = train_test_split(iris.iloc[:, :-1], iris.target, test_size = .3, random_state = 42)"
   ]
  },
  {
   "cell_type": "code",
   "execution_count": 57,
   "id": "9e075f34",
   "metadata": {},
   "outputs": [],
   "source": [
    "from sklearn.linear_model import LinearRegression"
   ]
  },
  {
   "cell_type": "code",
   "execution_count": 58,
   "id": "22c978a0",
   "metadata": {},
   "outputs": [],
   "source": [
    "lr_clf = LinearRegression()"
   ]
  },
  {
   "cell_type": "code",
   "execution_count": 59,
   "id": "bbcbe37c",
   "metadata": {},
   "outputs": [
    {
     "data": {
      "text/plain": [
       "LinearRegression()"
      ]
     },
     "execution_count": 59,
     "metadata": {},
     "output_type": "execute_result"
    }
   ],
   "source": [
    "lr_clf.fit(X_train, y_train)"
   ]
  },
  {
   "cell_type": "code",
   "execution_count": 60,
   "id": "2ca7f4b2",
   "metadata": {},
   "outputs": [],
   "source": [
    "pred = lr_clf.predict(X_test)"
   ]
  },
  {
   "cell_type": "code",
   "execution_count": 61,
   "id": "e6c21a1f",
   "metadata": {},
   "outputs": [
    {
     "data": {
      "text/plain": [
       "array([ 1.24069097, -0.04537609,  2.24501083,  1.35143666,  1.29775083,\n",
       "        0.01024241,  1.05031173,  1.82525399,  1.37084413,  1.06699186,\n",
       "        1.70363485, -0.08712067, -0.165166  , -0.07724353, -0.03380619,\n",
       "        1.40167699,  2.00651252,  1.04725931,  1.28368327,  1.97600474,\n",
       "        0.01782354,  1.59952875,  0.079732  ,  1.92307532,  1.8621986 ,\n",
       "        1.8790815 ,  1.80251247,  2.04196713,  0.01873817,  0.01291496,\n",
       "       -0.15365607, -0.08046738,  1.18506728, -0.00461982, -0.02934265,\n",
       "        1.68665136,  1.29088786, -0.07995434, -0.09076782, -0.16795331,\n",
       "        1.75520461,  1.37514144,  1.3174234 , -0.07193336, -0.1131512 ])"
      ]
     },
     "execution_count": 61,
     "metadata": {},
     "output_type": "execute_result"
    }
   ],
   "source": [
    "pred"
   ]
  },
  {
   "cell_type": "markdown",
   "id": "b15446ef",
   "metadata": {},
   "source": [
    "어떤 클래스(범주형 변수)에 속하는지에 대해 예측을 해야하는데 연속형 값을 반환했다. 심지어 음수로 예측하기도 하는데 우리가 보유한 데이터에 있는 클래스에는 정수형 클래스만 존재하고 소수형태는 없다. 즉 클래스를 예측해야하는 분류문제에 회귀 모델링을 적용하면 아주 이상한 결과를 얻게 된다.\n",
    "\n",
    "***\n",
    "\n",
    "문제에서 분류 혹은 회귀를 하라고 명시를 해줄수도 있지만 직관적으로 어떤 모델링을 해야 하는지 연습을 할 필요가 있다!\n",
    "\n",
    "### sklearn을 활용하여 아주 간단한 머신러닝 모델링 프로세스 이해하기\n",
    "\n",
    "- 1. 데이터를 전처리 한다. -> 결측값, 문자열 변수, 이상치 등\n",
    "- 2. 내가 사용할 모델을 정한다. -> RandomForest, DecisionTree\n",
    "- 3. 학습 및 검증 데이터를 나눈다. -> train_test_split, KFold, StratifiedKFold 등\n",
    "- 4. 모델을 학습한다. -> fit(독립변수, 종속변수)\n",
    "- 5. 모델을 검증한다. -> 모델링에 맞는 평가지표를 활용(정확도, RMSE 등)\n",
    "- 6. test 데이터로 예측값을 구한다. -> predict(test 데이터)\n",
    "- 7. submission을 만든다. -> 예측값.to_csv('파일명', index = False)"
   ]
  }
 ],
 "metadata": {
  "kernelspec": {
   "display_name": "Python 3",
   "language": "python",
   "name": "python3"
  },
  "language_info": {
   "codemirror_mode": {
    "name": "ipython",
    "version": 3
   },
   "file_extension": ".py",
   "mimetype": "text/x-python",
   "name": "python",
   "nbconvert_exporter": "python",
   "pygments_lexer": "ipython3",
   "version": "3.8.8"
  }
 },
 "nbformat": 4,
 "nbformat_minor": 5
}
