{
 "cells": [
  {
   "cell_type": "markdown",
   "id": "1b439890",
   "metadata": {},
   "source": [
    "## Causal ML\n",
    "***\n",
    "### 01. Causality\n",
    "\n",
    "$T_{i}$ = Treatment(처치) 여부로 예를 들어, 사교육 여부에 따른 성적에 대한 인과관계를 알고 싶다면 $T_{1}$ = 사교육 수강, $T_{0}$ = 사교육 수강x이다.\n",
    "\n",
    "따라서 $Y_{0i}$는 treatment가 없는 unit(row)의 potential outcome이고 $Y_{1i}$는 treatment가 같은 unit(row)의 potential outcome이다.\n",
    "\n",
    "potential outcome으로 individual treatment effect(개별 처치 효과)를 정의할 수 있다.\n",
    "\n",
    "또는 개별 처치 효과의 평균인 Average Treatment Effect를 계산하거나 Average Treatment Effect on the treated를 보기도 한다."
   ]
  },
  {
   "cell_type": "code",
   "execution_count": 1,
   "id": "c6b49025",
   "metadata": {},
   "outputs": [],
   "source": [
    "import pandas as pd"
   ]
  },
  {
   "cell_type": "code",
   "execution_count": 3,
   "id": "2b3ecee1",
   "metadata": {},
   "outputs": [],
   "source": [
    "data = pd.DataFrame({'id' : [1, 2, 3, 4],\n",
    "                    'y0' : [200, 300, 500, 800],\n",
    "                    'y1' : [400, 500, 900, 100],\n",
    "                    't' : [0, 1, 1, 0],\n",
    "                    'y' : [200, 500, 900, 800],\n",
    "                    'te' : [200, 200, 400, -700]})"
   ]
  },
  {
   "cell_type": "code",
   "execution_count": 4,
   "id": "8c2d84ce",
   "metadata": {},
   "outputs": [
    {
     "data": {
      "text/html": [
       "<div>\n",
       "<style scoped>\n",
       "    .dataframe tbody tr th:only-of-type {\n",
       "        vertical-align: middle;\n",
       "    }\n",
       "\n",
       "    .dataframe tbody tr th {\n",
       "        vertical-align: top;\n",
       "    }\n",
       "\n",
       "    .dataframe thead th {\n",
       "        text-align: right;\n",
       "    }\n",
       "</style>\n",
       "<table border=\"1\" class=\"dataframe\">\n",
       "  <thead>\n",
       "    <tr style=\"text-align: right;\">\n",
       "      <th></th>\n",
       "      <th>id</th>\n",
       "      <th>y0</th>\n",
       "      <th>y1</th>\n",
       "      <th>t</th>\n",
       "      <th>y</th>\n",
       "      <th>te</th>\n",
       "    </tr>\n",
       "  </thead>\n",
       "  <tbody>\n",
       "    <tr>\n",
       "      <th>0</th>\n",
       "      <td>1</td>\n",
       "      <td>200</td>\n",
       "      <td>400</td>\n",
       "      <td>0</td>\n",
       "      <td>200</td>\n",
       "      <td>200</td>\n",
       "    </tr>\n",
       "    <tr>\n",
       "      <th>1</th>\n",
       "      <td>2</td>\n",
       "      <td>300</td>\n",
       "      <td>500</td>\n",
       "      <td>1</td>\n",
       "      <td>500</td>\n",
       "      <td>200</td>\n",
       "    </tr>\n",
       "    <tr>\n",
       "      <th>2</th>\n",
       "      <td>3</td>\n",
       "      <td>500</td>\n",
       "      <td>900</td>\n",
       "      <td>1</td>\n",
       "      <td>900</td>\n",
       "      <td>400</td>\n",
       "    </tr>\n",
       "    <tr>\n",
       "      <th>3</th>\n",
       "      <td>4</td>\n",
       "      <td>800</td>\n",
       "      <td>100</td>\n",
       "      <td>0</td>\n",
       "      <td>800</td>\n",
       "      <td>-700</td>\n",
       "    </tr>\n",
       "  </tbody>\n",
       "</table>\n",
       "</div>"
      ],
      "text/plain": [
       "   id   y0   y1  t    y   te\n",
       "0   1  200  400  0  200  200\n",
       "1   2  300  500  1  500  200\n",
       "2   3  500  900  1  900  400\n",
       "3   4  800  100  0  800 -700"
      ]
     },
     "execution_count": 4,
     "metadata": {},
     "output_type": "execute_result"
    }
   ],
   "source": [
    "data"
   ]
  },
  {
   "cell_type": "markdown",
   "id": "6e021251",
   "metadata": {},
   "source": [
    "ATE는 te(treatment effect)의 평균으로 $(200 + 200 + 400 - 700) / 4$인 25이다. 이는 사교육 수강이 평균적으로 성적을 25점 높여준다.\n",
    "\n",
    "ATT는 $T = 1$ 즉, 사교육 수강생의 te(treatment effect)의 평균으로 $(200 + 400) / 2$인 300이다. 사교육을 듣는 학생들은 사교육으로 평균 300점 상승이 됐음을 의미한다."
   ]
  }
 ],
 "metadata": {
  "kernelspec": {
   "display_name": "Python 3",
   "language": "python",
   "name": "python3"
  },
  "language_info": {
   "codemirror_mode": {
    "name": "ipython",
    "version": 3
   },
   "file_extension": ".py",
   "mimetype": "text/x-python",
   "name": "python",
   "nbconvert_exporter": "python",
   "pygments_lexer": "ipython3",
   "version": "3.8.8"
  }
 },
 "nbformat": 4,
 "nbformat_minor": 5
}
